{
 "cells": [
  {
   "cell_type": "code",
   "execution_count": 1,
   "metadata": {
    "colab": {
     "base_uri": "https://localhost:8080/"
    },
    "id": "2EEX7A82dVIN",
    "outputId": "a83eea84-6991-45a7-cd24-c9b87393eaaf"
   },
   "outputs": [
    {
     "name": "stdout",
     "output_type": "stream",
     "text": [
      "Mounted at /content/drive\n"
     ]
    }
   ],
   "source": [
    "from google.colab import drive\n",
    "\n",
    "# Mount Google Drive\n",
    "drive.mount('/content/drive')\n",
    "\n",
    "# Implement me\n",
    "# Set working directory\n",
    "abspath = '/content/drive/My Drive/Colab Notebooks/NLP/NLP-Final-Project/NLP Project'"
   ]
  },
  {
   "cell_type": "code",
   "execution_count": 2,
   "metadata": {
    "colab": {
     "base_uri": "https://localhost:8080/",
     "height": 35
    },
    "id": "e8e17cp_fHNI",
    "outputId": "25a31e42-8d5d-4dec-d263-fc2c894f087e"
   },
   "outputs": [
    {
     "data": {
      "application/vnd.google.colaboratory.intrinsic+json": {
       "type": "string"
      },
      "text/plain": [
       "'/content/drive/My Drive/Colab Notebooks/NLP/NLP-Final-Project/NLP Project'"
      ]
     },
     "execution_count": 2,
     "metadata": {
      "tags": []
     },
     "output_type": "execute_result"
    }
   ],
   "source": [
    "import os\n",
    "os.chdir(abspath)\n",
    "os.getcwd()"
   ]
  },
  {
   "cell_type": "code",
   "execution_count": 1,
   "metadata": {
    "id": "7Dr4OI6GDdas"
   },
   "outputs": [],
   "source": [
    "import requests\n",
    "from bs4 import BeautifulSoup\n",
    "import pandas as pd\n",
    "from datetime import datetime\n",
    "\n",
    "import dateutil.parser"
   ]
  },
  {
   "cell_type": "code",
   "execution_count": 2,
   "metadata": {
    "id": "8QZgZrUNDdas"
   },
   "outputs": [],
   "source": [
    "# dictionary of text dates and links (March 2017 - June 2017)\n",
    "\n",
    "# Febuary 12, 2017\n",
    "url1 = 'https://www.reuters.com/article/us-airlines-united-pilot-idUSKBN15R0RC'\n",
    "\n",
    "# MARCH 7, 2017\n",
    "url2 = 'https://www.reuters.com/article/us-united-airlines-idUSKBN16E2P2'\n",
    "\n",
    "#MARCH 26, 2017\n",
    "url3 = 'https://www.reuters.com/article/us-unitedairlines-leggings-idUSKBN16X13G'\n",
    "\n",
    "# April 7, 2017\n",
    "url4 = 'https://www.reuters.com/article/us-usair-united-idUSTRE6365PN20100408'\n",
    "\n",
    "# April 11, 2017\n",
    "url5 = 'https://www.reuters.com/article/us-ual-passenger-shares-idUSKBN17D1L7'\n",
    "\n",
    "# April 14, 2017\n",
    "url6 = 'https://www.reuters.com/article/us-ual-scorpion-idUSKBN17G1EQ'\n",
    "\n",
    "# APRIL 17, 2017\n",
    "url7 = 'https://www.reuters.com/article/us-ual-passenger-couple-idUSKBN17J05Q'\n",
    "\n",
    "# April 27, 2017\n",
    "url8 = 'https://www.reuters.com/article/us-ual-passenger-idUSKBN17T2WM'\n",
    "\n",
    "# May 2, 2017\n",
    "url9 = 'https://www.reuters.com/article/us-ual-passenger-ceo-idUSKBN17Y1J8'\n",
    "\n",
    "#MAY 4, 2017\n",
    "url10 = 'https://www.reuters.com/article/ual-passenger-idUSL1N1I51WE'\n",
    "\n",
    "\n",
    "#MAY 30, 2017\n",
    "url11 = 'https://www.reuters.com/article/us-united-fine-idUSKBN18Q2EQ'\n",
    "\n",
    "# June 3, 2017\n",
    "url12 = 'https://www.reuters.com/article/us-venezuela-airlines-united-idUSKBN18U0TL'\n",
    "\n",
    "\n",
    "\n",
    "url_dict = {'2017-02-12':url1,\n",
    "            '2017-03-07':url2,\n",
    "            '2017-03-26':url3,\n",
    "            '2017-04-07':url4,\n",
    "            '2017-04-11':url5,\n",
    "            '2017-04-14':url6,\n",
    "            '2017-04-17':url7,\n",
    "            '2017-04-27':url8,\n",
    "            '2017-05-02':url9,\n",
    "            '2017-05-04':url10,\n",
    "            '2017-05-30':url11,\n",
    "            '2017-06-03':url12,\n",
    "           }\n"
   ]
  },
  {
   "cell_type": "code",
   "execution_count": 3,
   "metadata": {
    "id": "Xqgqh9FDDdas"
   },
   "outputs": [],
   "source": [
    "# extract info from each website and store it in dataframe\n",
    "df_text = pd.DataFrame(columns = ['Date','Header','Text'])\n",
    "header = []\n",
    "text = []\n",
    "date = []\n",
    "for key in url_dict:\n",
    "    page = requests.get(url_dict[key]).text\n",
    "    soup = BeautifulSoup(page, 'html.parser')\n",
    "    date.append(datetime.strptime(key, '%Y-%m-%d').date())\n",
    "    url_header = soup.find('h1').text\n",
    "    header.append(url_header)\n",
    "    url_text = soup.find('div', class_ ='ArticleBodyWrapper')\n",
    "    url_text = url_text.text\n",
    "    text.append(url_text)\n",
    "df_text['Date']=date\n",
    "df_text['Header']=header\n",
    "df_text['Text']=text\n",
    "\n",
    "# remove the author and \"min read\" sections\n",
    "df_text_temp = [] \n",
    "for text in df_text['Text']:\n",
    "    loc = text.find('(Reuters)')\n",
    "    df_text_temp.append(text[loc+9:])\n",
    "df_text['Text'] = df_text_temp\n",
    "\n",
    "\n"
   ]
  },
  {
   "cell_type": "code",
   "execution_count": 4,
   "metadata": {
    "colab": {
     "base_uri": "https://localhost:8080/"
    },
    "id": "q_XGM2UqDdas",
    "outputId": "a8cd0d73-e1ef-4645-d248-6afba65ff101"
   },
   "outputs": [
    {
     "data": {
      "text/plain": [
       "Date      datetime64[ns]\n",
       "Header            object\n",
       "Text              object\n",
       "dtype: object"
      ]
     },
     "execution_count": 4,
     "metadata": {},
     "output_type": "execute_result"
    }
   ],
   "source": [
    "df_text['Date'] = df_text['Date'].apply(lambda x: pd.to_datetime(x))\n",
    "df_text.dtypes"
   ]
  },
  {
   "cell_type": "code",
   "execution_count": 5,
   "metadata": {
    "colab": {
     "base_uri": "https://localhost:8080/"
    },
    "id": "L-SPszp_Ddat",
    "outputId": "b9bef93a-7295-4593-bb8d-eea5197e5940"
   },
   "outputs": [
    {
     "data": {
      "text/plain": [
       "Date      datetime64[ns]\n",
       "Open             float64\n",
       "Volume             int64\n",
       "dtype: object"
      ]
     },
     "execution_count": 5,
     "metadata": {},
     "output_type": "execute_result"
    }
   ],
   "source": [
    "# import stock data of netflix\n",
    "df_stock = pd.read_csv('UAL.csv', header=0)\n",
    "\n",
    "df_stock['Date']=df_stock['Date'].apply(lambda x: datetime.strptime(x, '%Y-%m-%d'))\n",
    "\n",
    "\n",
    "df_stock = df_stock.drop(['High','Low','Close','Adj Close'], axis=1)\n",
    "df_stock.dtypes"
   ]
  },
  {
   "cell_type": "code",
   "execution_count": 6,
   "metadata": {
    "id": "iH09drfiDdat"
   },
   "outputs": [],
   "source": [
    "# Merge two dataframes\n",
    "df = pd.merge(df_text, df_stock, how='inner', on='Date')\n",
    "df = df.sort_values('Date')"
   ]
  },
  {
   "cell_type": "code",
   "execution_count": 7,
   "metadata": {
    "colab": {
     "base_uri": "https://localhost:8080/",
     "height": 203
    },
    "id": "i2_UJYBGDdat",
    "outputId": "3f00d02d-d4a3-4e81-e62a-8414f1caa179"
   },
   "outputs": [
    {
     "data": {
      "text/html": [
       "<div>\n",
       "<style scoped>\n",
       "    .dataframe tbody tr th:only-of-type {\n",
       "        vertical-align: middle;\n",
       "    }\n",
       "\n",
       "    .dataframe tbody tr th {\n",
       "        vertical-align: top;\n",
       "    }\n",
       "\n",
       "    .dataframe thead th {\n",
       "        text-align: right;\n",
       "    }\n",
       "</style>\n",
       "<table border=\"1\" class=\"dataframe\">\n",
       "  <thead>\n",
       "    <tr style=\"text-align: right;\">\n",
       "      <th></th>\n",
       "      <th>Date</th>\n",
       "      <th>Header</th>\n",
       "      <th>Text</th>\n",
       "      <th>Open</th>\n",
       "      <th>Volume</th>\n",
       "      <th>% Change in Stock Price</th>\n",
       "      <th>% Change in Volume</th>\n",
       "    </tr>\n",
       "  </thead>\n",
       "  <tbody>\n",
       "    <tr>\n",
       "      <th>0</th>\n",
       "      <td>2017-03-07</td>\n",
       "      <td>United looking at second-hand aircraft, rules ...</td>\n",
       "      <td>- United Continental Holdings UAKL.N is inter...</td>\n",
       "      <td>72.690002</td>\n",
       "      <td>3764000</td>\n",
       "      <td>NaN</td>\n",
       "      <td>NaN</td>\n",
       "    </tr>\n",
       "    <tr>\n",
       "      <th>1</th>\n",
       "      <td>2017-04-07</td>\n",
       "      <td>UAL pilots attack U.S. Airways merger prospect</td>\n",
       "      <td>- United Airlines' pilots union lashed out ag...</td>\n",
       "      <td>69.970001</td>\n",
       "      <td>2471100</td>\n",
       "      <td>-3.741919</td>\n",
       "      <td>-34.349097</td>\n",
       "    </tr>\n",
       "    <tr>\n",
       "      <th>2</th>\n",
       "      <td>2017-04-11</td>\n",
       "      <td>United Airlines faces mounting pressure over h...</td>\n",
       "      <td>- United Airlines UAL.N and its chief executi...</td>\n",
       "      <td>70.150002</td>\n",
       "      <td>17696500</td>\n",
       "      <td>0.257255</td>\n",
       "      <td>616.138562</td>\n",
       "    </tr>\n",
       "    <tr>\n",
       "      <th>3</th>\n",
       "      <td>2017-04-17</td>\n",
       "      <td>United Air removes couple traveling to wedding...</td>\n",
       "      <td>- An engaged couple were removed from a Unite...</td>\n",
       "      <td>69.510002</td>\n",
       "      <td>4761900</td>\n",
       "      <td>-0.912331</td>\n",
       "      <td>-73.091289</td>\n",
       "    </tr>\n",
       "    <tr>\n",
       "      <th>4</th>\n",
       "      <td>2017-04-27</td>\n",
       "      <td>United Airlines reaches settlement with passen...</td>\n",
       "      <td>- United Airlines UAL.N and the passenger who...</td>\n",
       "      <td>69.769997</td>\n",
       "      <td>5512200</td>\n",
       "      <td>0.374040</td>\n",
       "      <td>15.756316</td>\n",
       "    </tr>\n",
       "  </tbody>\n",
       "</table>\n",
       "</div>"
      ],
      "text/plain": [
       "        Date                                             Header  \\\n",
       "0 2017-03-07  United looking at second-hand aircraft, rules ...   \n",
       "1 2017-04-07     UAL pilots attack U.S. Airways merger prospect   \n",
       "2 2017-04-11  United Airlines faces mounting pressure over h...   \n",
       "3 2017-04-17  United Air removes couple traveling to wedding...   \n",
       "4 2017-04-27  United Airlines reaches settlement with passen...   \n",
       "\n",
       "                                                Text       Open    Volume  \\\n",
       "0   - United Continental Holdings UAKL.N is inter...  72.690002   3764000   \n",
       "1   - United Airlines' pilots union lashed out ag...  69.970001   2471100   \n",
       "2   - United Airlines UAL.N and its chief executi...  70.150002  17696500   \n",
       "3   - An engaged couple were removed from a Unite...  69.510002   4761900   \n",
       "4   - United Airlines UAL.N and the passenger who...  69.769997   5512200   \n",
       "\n",
       "   % Change in Stock Price  % Change in Volume  \n",
       "0                      NaN                 NaN  \n",
       "1                -3.741919          -34.349097  \n",
       "2                 0.257255          616.138562  \n",
       "3                -0.912331          -73.091289  \n",
       "4                 0.374040           15.756316  "
      ]
     },
     "execution_count": 7,
     "metadata": {},
     "output_type": "execute_result"
    }
   ],
   "source": [
    "# show % change in stock price after news article publish\n",
    "pct_stock = df['Open'].pct_change()*100\n",
    "df['% Change in Stock Price'] = pct_stock\n",
    "pct_volume = df['Volume'].pct_change()*100\n",
    "df['% Change in Volume'] = pct_volume\n",
    "df.head()"
   ]
  },
  {
   "cell_type": "markdown",
   "metadata": {
    "id": "tIJwNIEADdat"
   },
   "source": [
    "# Processing the text\n"
   ]
  },
  {
   "cell_type": "markdown",
   "metadata": {
    "id": "K3xPxXfKDdat"
   },
   "source": [
    "## import spacy libraries\n",
    "import spacy\n",
    "import en_core_web_sm\n",
    "from  spacy.lang.en.stop_words import STOP_WORDS\n",
    "nlp = spacy.load('en_core_web_sm')"
   ]
  },
  {
   "cell_type": "code",
   "execution_count": 8,
   "metadata": {
    "id": "0UHQPteUDdat"
   },
   "outputs": [],
   "source": [
    "# import spacy libraries\n",
    "import spacy\n",
    "import en_core_web_sm\n",
    "from  spacy.lang.en.stop_words import STOP_WORDS\n",
    "nlp = spacy.load('en_core_web_sm')"
   ]
  },
  {
   "cell_type": "code",
   "execution_count": 9,
   "metadata": {
    "id": "lLlOVsMxDdat"
   },
   "outputs": [],
   "source": [
    "\n",
    "text_nlp = nlp(df['Text'][1]) \n",
    "# Remove stop words\n",
    "text_nlp_clean = [word for word in text_nlp if word.is_stop == False]\n",
    "# Lemmatize words\n",
    "text_nlp_clean = [word.lemma_ for word in text_nlp_clean]"
   ]
  },
  {
   "cell_type": "code",
   "execution_count": 27,
   "metadata": {
    "colab": {
     "base_uri": "https://localhost:8080/",
     "height": 203
    },
    "id": "OoS2AO88Ddat",
    "outputId": "d16dd7c4-e035-4d31-bb18-c120e29d1ff3"
   },
   "outputs": [
    {
     "data": {
      "text/html": [
       "<div>\n",
       "<style scoped>\n",
       "    .dataframe tbody tr th:only-of-type {\n",
       "        vertical-align: middle;\n",
       "    }\n",
       "\n",
       "    .dataframe tbody tr th {\n",
       "        vertical-align: top;\n",
       "    }\n",
       "\n",
       "    .dataframe thead th {\n",
       "        text-align: right;\n",
       "    }\n",
       "</style>\n",
       "<table border=\"1\" class=\"dataframe\">\n",
       "  <thead>\n",
       "    <tr style=\"text-align: right;\">\n",
       "      <th></th>\n",
       "      <th>Date</th>\n",
       "      <th>Header</th>\n",
       "      <th>Text</th>\n",
       "      <th>Open</th>\n",
       "      <th>Volume</th>\n",
       "      <th>% Change in Stock Price</th>\n",
       "      <th>% Change in Volume</th>\n",
       "      <th>Text (clean)</th>\n",
       "    </tr>\n",
       "  </thead>\n",
       "  <tbody>\n",
       "    <tr>\n",
       "      <th>0</th>\n",
       "      <td>2017-03-07</td>\n",
       "      <td>United looking at second-hand aircraft, rules ...</td>\n",
       "      <td>- United Continental Holdings UAKL.N is inter...</td>\n",
       "      <td>72.690002</td>\n",
       "      <td>3764000</td>\n",
       "      <td>NaN</td>\n",
       "      <td>NaN</td>\n",
       "      <td>United Continental Holdings UAKL.N interested ...</td>\n",
       "    </tr>\n",
       "    <tr>\n",
       "      <th>1</th>\n",
       "      <td>2017-04-07</td>\n",
       "      <td>UAL pilots attack U.S. Airways merger prospect</td>\n",
       "      <td>- United Airlines' pilots union lashed out ag...</td>\n",
       "      <td>69.970001</td>\n",
       "      <td>2471100</td>\n",
       "      <td>-3.741919</td>\n",
       "      <td>-34.349097</td>\n",
       "      <td>United Airlines pilot union lash effort merge ...</td>\n",
       "    </tr>\n",
       "    <tr>\n",
       "      <th>2</th>\n",
       "      <td>2017-04-11</td>\n",
       "      <td>United Airlines faces mounting pressure over h...</td>\n",
       "      <td>- United Airlines UAL.N and its chief executi...</td>\n",
       "      <td>70.150002</td>\n",
       "      <td>17696500</td>\n",
       "      <td>0.257255</td>\n",
       "      <td>616.138562</td>\n",
       "      <td>United Airlines UAL.N chief executive face mou...</td>\n",
       "    </tr>\n",
       "    <tr>\n",
       "      <th>3</th>\n",
       "      <td>2017-04-17</td>\n",
       "      <td>United Air removes couple traveling to wedding...</td>\n",
       "      <td>- An engaged couple were removed from a Unite...</td>\n",
       "      <td>69.510002</td>\n",
       "      <td>4761900</td>\n",
       "      <td>-0.912331</td>\n",
       "      <td>-73.091289</td>\n",
       "      <td>engage couple remove United Airlines flight Co...</td>\n",
       "    </tr>\n",
       "    <tr>\n",
       "      <th>4</th>\n",
       "      <td>2017-04-27</td>\n",
       "      <td>United Airlines reaches settlement with passen...</td>\n",
       "      <td>- United Airlines UAL.N and the passenger who...</td>\n",
       "      <td>69.769997</td>\n",
       "      <td>5512200</td>\n",
       "      <td>0.374040</td>\n",
       "      <td>15.756316</td>\n",
       "      <td>United Airlines UAL.N passenger drag Chicago f...</td>\n",
       "    </tr>\n",
       "  </tbody>\n",
       "</table>\n",
       "</div>"
      ],
      "text/plain": [
       "        Date                                             Header  \\\n",
       "0 2017-03-07  United looking at second-hand aircraft, rules ...   \n",
       "1 2017-04-07     UAL pilots attack U.S. Airways merger prospect   \n",
       "2 2017-04-11  United Airlines faces mounting pressure over h...   \n",
       "3 2017-04-17  United Air removes couple traveling to wedding...   \n",
       "4 2017-04-27  United Airlines reaches settlement with passen...   \n",
       "\n",
       "                                                Text       Open    Volume  \\\n",
       "0   - United Continental Holdings UAKL.N is inter...  72.690002   3764000   \n",
       "1   - United Airlines' pilots union lashed out ag...  69.970001   2471100   \n",
       "2   - United Airlines UAL.N and its chief executi...  70.150002  17696500   \n",
       "3   - An engaged couple were removed from a Unite...  69.510002   4761900   \n",
       "4   - United Airlines UAL.N and the passenger who...  69.769997   5512200   \n",
       "\n",
       "   % Change in Stock Price  % Change in Volume  \\\n",
       "0                      NaN                 NaN   \n",
       "1                -3.741919          -34.349097   \n",
       "2                 0.257255          616.138562   \n",
       "3                -0.912331          -73.091289   \n",
       "4                 0.374040           15.756316   \n",
       "\n",
       "                                        Text (clean)  \n",
       "0  United Continental Holdings UAKL.N interested ...  \n",
       "1  United Airlines pilot union lash effort merge ...  \n",
       "2  United Airlines UAL.N chief executive face mou...  \n",
       "3  engage couple remove United Airlines flight Co...  \n",
       "4  United Airlines UAL.N passenger drag Chicago f...  "
      ]
     },
     "execution_count": 27,
     "metadata": {},
     "output_type": "execute_result"
    }
   ],
   "source": [
    "text_clean = []\n",
    "for ind, row in df.iterrows():\n",
    "    \n",
    "    # lower casing\n",
    "    text_lower = row['Text'].lower()\n",
    "    \n",
    "    # tokenization\n",
    "    text_nlp = nlp(row['Text']) \n",
    "    \n",
    "    # remove punctuation and empty space\n",
    "    text_nlp_clean = [word.lower_ for word in text_nlp]\n",
    "    \n",
    "    # remove punctuation and empty space\n",
    "    text_nlp_clean = [word for word in text_nlp if not word.is_punct | word.is_space]\n",
    "    \n",
    "    # Remove stop words\n",
    "    text_nlp_clean = [word for word in text_nlp_clean if word.is_stop == False]\n",
    "    \n",
    "    # Lemmatize tokens\n",
    "    text_nlp_clean = [word.lemma_ for word in text_nlp_clean]\n",
    "    \n",
    "    # add preprocessed text to list\n",
    "    text_clean.append(text_nlp_clean)\n",
    "\n",
    "# turn list of words to string\n",
    "def to_string(list1):\n",
    "    sentence = \"\"\n",
    "    \n",
    "    \n",
    "    # traverse in the string   \n",
    "    for word in list1:  \n",
    "        sentence += str(word) \n",
    "    \n",
    "    # return string   \n",
    "    return sentence\n",
    "\n",
    "# turn list of strings to string\n",
    "to_string = []\n",
    "for text in text_clean:\n",
    "    to_string.append(' '.join(text))\n",
    "\n",
    "\n",
    "df['Text (clean)'] = to_string\n",
    "df.head()"
   ]
  },
  {
   "cell_type": "markdown",
   "metadata": {
    "id": "7Q8ZXUBzDdat"
   },
   "source": [
    "# Using a Pretrained Model "
   ]
  },
  {
   "cell_type": "code",
   "execution_count": 11,
   "metadata": {
    "colab": {
     "base_uri": "https://localhost:8080/"
    },
    "id": "u36DHZGtDdat",
    "outputId": "e9d4fb10-3b59-4264-ff8b-06b13f04a06d"
   },
   "outputs": [],
   "source": [
    "from nltk.sentiment import SentimentIntensityAnalyzer"
   ]
  },
  {
   "cell_type": "code",
   "execution_count": 23,
   "metadata": {
    "id": "go0fwZHoDdat"
   },
   "outputs": [],
   "source": [
    "# a function to return sentiment score\n",
    "def polarity_score(text):\n",
    "    sid = SentimentIntensityAnalyzer()\n",
    "    return sid.polarity_scores(text)['compound']\n",
    "\n",
    "vader_score = []\n",
    "for text in df['Text (clean)']:\n",
    "    score = polarity_score(text)\n",
    "    vader_score.append(score)\n",
    "\n",
    "df['Vader Sentiment Score'] = vader_score"
   ]
  },
  {
   "cell_type": "code",
   "execution_count": 24,
   "metadata": {
    "colab": {
     "base_uri": "https://localhost:8080/",
     "height": 1000
    },
    "id": "VAAANMmPDdat",
    "outputId": "8a194160-8c9f-4c0d-9ecd-35b917c8631b"
   },
   "outputs": [
    {
     "data": {
      "text/html": [
       "<div>\n",
       "<style scoped>\n",
       "    .dataframe tbody tr th:only-of-type {\n",
       "        vertical-align: middle;\n",
       "    }\n",
       "\n",
       "    .dataframe tbody tr th {\n",
       "        vertical-align: top;\n",
       "    }\n",
       "\n",
       "    .dataframe thead th {\n",
       "        text-align: right;\n",
       "    }\n",
       "</style>\n",
       "<table border=\"1\" class=\"dataframe\">\n",
       "  <thead>\n",
       "    <tr style=\"text-align: right;\">\n",
       "      <th></th>\n",
       "      <th>Date</th>\n",
       "      <th>Header</th>\n",
       "      <th>Text</th>\n",
       "      <th>Open</th>\n",
       "      <th>Volume</th>\n",
       "      <th>% Change in Stock Price</th>\n",
       "      <th>% Change in Volume</th>\n",
       "      <th>Text (clean)</th>\n",
       "      <th>Vader Sentiment Score</th>\n",
       "    </tr>\n",
       "  </thead>\n",
       "  <tbody>\n",
       "    <tr>\n",
       "      <th>0</th>\n",
       "      <td>2017-03-07</td>\n",
       "      <td>United looking at second-hand aircraft, rules out A380</td>\n",
       "      <td>- United Continental Holdings UAKL.N is interested in buying second-hand aircraft as they are released to the market when leases expire, Chief Finance Director Andrew Levy said on Tuesday.Speaking at the ISTAT Americas air finance conference, he also ruled out United, which recently retired its Boeing 747 jumbo jets, buying any more aircraft in that category for the world’s largest four-engined jets.United, the largest U.S. carrier by traffic, has been tipped in the past as a potential buyer for the Airbus A380 superjumbo.Reporting by Tim Hepher; Editing by Alison WilliamsOur Standards: The Thomson Reuters Trust Principles.</td>\n",
       "      <td>72.690002</td>\n",
       "      <td>3764000</td>\n",
       "      <td>NaN</td>\n",
       "      <td>NaN</td>\n",
       "      <td>United Continental Holdings UAKL.N interested buy second hand aircraft release market lease expire Chief Finance Director Andrew Levy say Tuesday speak ISTAT Americas air finance conference rule United recently retire Boeing 747 jumbo jet buy aircraft category world large engine jet United large U.S. carrier traffic tip past potential buyer Airbus A380 superjumbo report Tim Hepher editing Alison WilliamsOur Standards Thomson Reuters Trust Principles</td>\n",
       "      <td>0.9485</td>\n",
       "    </tr>\n",
       "    <tr>\n",
       "      <th>1</th>\n",
       "      <td>2017-04-07</td>\n",
       "      <td>UAL pilots attack U.S. Airways merger prospect</td>\n",
       "      <td>- United Airlines' pilots union lashed out against efforts to merge the airline with US Airways Group LCC.N, underscoring the challenges facing decade-old attempts to unite the carriers.Passengers wait to check-in at the U.S. Airways ticket counter at Phoenix International Airport in Phoenix, April 8, 2010. REUTERS/Joshua Lott\\nTough antitrust enforcement could also pose another stumbling block to a merger, which would form the world's second-largest airline after Delta Air Lines DAL.N, industry experts said.But the possibility of consolidation in the industry spurred airline shares higher on Thursday, although US Airways and United parent UAL Corp UAUA.O would not confirm the discussions that sources said were advancing.Chicago-based United, the No. 3 U.S. airline, has a $3.39 billion market value, based on Thursday’s close. Tempe, Arizona-based US Airways, the No. 6 U.S. airline, ended the day with a $1.22 billion market capitalization.Sources with knowledge of the situation told Reuters the negotiations began more than a month ago, although much of the groundwork was laid in 2008 when the two held similar talks.The sources said the parties are currently focused on general themes, and issues like deal structure and management will be discussed in coming weeks.The parties were said to be mindful of hurdles to a successful merger, including competition concerns and serious labor questions at both carriers involving pilots.“Everybody is aware of the problems,” said one source.United’s pilots said Thursday they were vehemently opposed to a merger, while US Airways’ pilots said they were open to a merger and wanted to be part of the discussions.United’s flight attendants said they would not support a deal that would “distract from contract negotiations.”Goldman Sachs GS.N and JPMorgan Chase &amp; Co JPM.N are advising United, several people familiar with the matter said. Citigroup Inc C.N is advising US Airways, the sources said.All three banks declined to comment.UAL shares closed up 6.8 percent at $20.23 on Nasdaq. US Airways shares gained 10.7 percent to finish at $7.55 on the New York Stock Exchange.CHANGING LANDSCAPEUS Airways and UAL have courted for a decade -- interrupted only by their turns in bankruptcy between 2002 and 2005.Slideshow ( 3 images )An offer in 2000 by United to buy US Airways crumbled in 2001 over fears the U.S. government would block the deal.Talks revived in 2008 but fizzled amid the recession.Aviation experts generally agree that consolidation would help the airline industry, and a merger with US Airways would help United. But some said a deal with Continental Airlines CAL.N would be best for United.United and Continental held merger talks in 2008 and later opted for an alliance, which has been successful.Airlines are recovering from a painful downturn that forced massive downsizing in the last two years. A merger could accelerate fleet reductions, helping improve balance sheets.Philip Baggaley of rating agency Standard &amp; Poor’s said a merger with US Airways would improve United’s route network but could lead to higher labor costs. The combined company would probably emerge with heavy debt, he said.“Clearly these potential talks are a massive positive for US Airways and United, but I think it speaks volumes to the changing landscape in the airline industry,” said Morningstar Equity analyst Basili Alukos.He said a potential major airline merger, combined with the capacity cuts of 2008 and 2009 hint that the industry “could be en route to earning its cost of capital.”“History is not on the side of the airlines, but maybe the horrible losses encountered recently have scared newcomers enough to reconsider starting an airline,” Alukos said.The chief executives at both companies, Doug Parker at US Airways and Glenn Tilton at United, were, and continue to be, vocal proponents of further consolidation in an industry that has long suffered from competitive pressures and overcapacity.The last merger of two major U.S. airlines was between Delta Air Lines DAL.N and Northwest Airlines, which concluded in 2008 and analysts consider successful.LABOR ISSUESAlukos and other experts said the biggest challenge would be integrating unionized employees.US Airways, formed in 2005 from a merger with America West Airlines, still has two pilot unions.Airline labor groups - especially pilots - are notoriously hard to merge because pay and work rules are closely tied to seniority. A pilot could easily lose seniority in a merger and end up flying less desirable routes and planes.James Ray, spokesman for the US Airline Pilots Association (USAPA), which represents pilots at US Airways said the union is open to a merger, but wants to be part of the discussions.“Our union president has talked to Doug Parker and said we are open-minded and look forward to being an active partner with U.S. airways should they pursue a merger with anyone,” Ray said.The Air Line Pilots Association (ALPA), which represents pilots at United, said it was vehemently opposed to a merger with US Airways, that would benefit neither the airline nor its pilots.“United CEO Glenn Tilton is well aware of our position regarding mergers and US Airways,” said a statement by union official Capt. Wendy Morse.Bill Swelbar, an airline researcher at MIT, said union troubles could be a fatal impediment.“It is my opinion that the labor issues will significantly undermine the synergies. I’m just not convinced there is an attraction. There is nothing about this that has me going ‘this just seems like a great deal’,” Swelbar said.Delta and Northwest worked out their labor issues before announcing their deal.ANTITRUSTProspects of a US Airways-United marriage have for years raised questions about market concentration in the eastern portion of the United States, particularly at airports in the Washington D.C. area.Any proposal would have to satisfy Justice Department antitrust officials under the Obama administration.The Delta-Northwest merger was approved by the Bush administration, which was considered more business friendly.“Now you’ve got a more aggressive enforcement regime. It seems to me the antitrust hurdles are no lower than they were in 2001 and maybe higher,” said John Briggs, an antitrust expert with Axinn Veltrop Harkrider LLP.US Airways is trying to beef up its already strong presence at Washington’s Reagan National airport and held 11 percent of the regional Washington market overall in 2009. United is big at Dulles airport in Virginia and commanded 22 percent of Washington air travel last year, according to government data.US Airways biggest hub is Charlotte, North Carolina, followed by Phoenix and Philadelphia. United spreads the rest of its operations at Chicago, Denver, San Francisco and Los Angeles.“There are still some significant overlaps between United and US Airways, and I think the government would take a close look at that. I’m not necessarily saying to block it, but to decide what may need to be taken away in certain markets,” said Edward Faberman, an aviation attorney with Wiley Rein LLP.Reporting by Kyle Peterson and John Crawley; Additional reporting by Karen Jacobs in Atlanta, Deepa Seetharaman and Jui Chakravorty in New York, and Diane Bartz in Washington; Editing by Derek Caney and Tim DobbynOur Standards: The Thomson Reuters Trust Principles.</td>\n",
       "      <td>69.970001</td>\n",
       "      <td>2471100</td>\n",
       "      <td>-3.741919</td>\n",
       "      <td>-34.349097</td>\n",
       "      <td>United Airlines pilot union lash effort merge airline Airways Group LCC.N underscore challenge face decade old attempt unite carrier passenger wait check U.S. Airways ticket counter Phoenix International Airport Phoenix April 8 2010 REUTERS Joshua Lott tough antitrust enforcement pose stumble block merger form world second large airline Delta Air Lines DAL.N industry expert say possibility consolidation industry spur airline share high Thursday Airways United parent UAL Corp UAUA.O confirm discussion source say advance Chicago base United 3 U.S. airline $ 3.39 billion market value base Thursday close Tempe Arizona base Airways 6 U.S. airline end day $ 1.22 billion market capitalization source knowledge situation tell Reuters negotiation begin month ago groundwork lay 2008 hold similar talk source say party currently focus general theme issue like deal structure management discuss come week party say mindful hurdle successful merger include competition concern labor question carrier involve pilot “Everybody aware problem say source United pilot say Thursday vehemently oppose merger Airways pilot say open merger want discussion United flight attendant say support deal distract contract negotiation ”Goldman Sachs gs.n JPMorgan Chase Co JPM.N advise United people familiar matter say Citigroup Inc C.N advise Airways source say bank decline comment UAL share close 6.8 percent $ 20.23 Nasdaq Airways share gain 10.7 percent finish $ 7.55 New York Stock Exchange CHANGING LANDSCAPEUS Airways UAL court decade interrupt turn bankruptcy 2002 2005.slideshow 3 image offer 2000 United buy Airways crumble 2001 fear U.S. government block deal talk revive 2008 fizzle amid recession aviation expert generally agree consolidation help airline industry merger Airways help United say deal Continental Airlines CAL.N good United United Continental hold merger talk 2008 later opt alliance successful airline recover painful downturn force massive downsizing year merger accelerate fleet reduction help improve balance sheet Philip Baggaley rating agency Standard Poor say merger Airways improve United route network lead high labor cost combine company probably emerge heavy debt say “clearly potential talk massive positive Airways United think speak volume change landscape airline industry say Morningstar Equity analyst Basili Alukos say potential major airline merger combine capacity cut 2008 2009 hint industry en route earn cost capital ”“history airline maybe horrible loss encounter recently scare newcomer reconsider start airline Alukos say chief executive company Doug Parker Airways Glenn Tilton United continue vocal proponent consolidation industry long suffer competitive pressure overcapacity merger major U.S. airline Delta Air Lines DAL.N Northwest Airlines conclude 2008 analyst consider successful labor issuesalukos expert say big challenge integrate unionized employee Airways form 2005 merger America West Airlines pilot union airline labor group especially pilot notoriously hard merge pay work rule closely tie seniority pilot easily lose seniority merger end fly desirable route plane James Ray spokesman Airline Pilots Association USAPA represent pilot Airways say union open merger want discussion “Our union president talk Doug Parker say open minded look forward active partner U.S. airway pursue merger Ray say Air Line Pilots Association ALPA represent pilot United say vehemently oppose merger Airways benefit airline pilot “United CEO Glenn Tilton aware position merger Airways say statement union official Capt Wendy Morse Bill Swelbar airline researcher MIT say union trouble fatal impediment “It opinion labor issue significantly undermine synergy convinced attraction go like great deal Swelbar say Delta Northwest work labor issue announce deal antitrustprospect Airways United marriage year raise question market concentration eastern portion United States particularly airport Washington D.C. area proposal satisfy Justice Department antitrust official Obama administration Delta Northwest merger approve Bush administration consider business friendly “Now get aggressive enforcement regime antitrust hurdle low 2001 maybe high say John Briggs antitrust expert Axinn Veltrop Harkrider LLP.US Airways try beef strong presence Washington Reagan National airport hold 11 percent regional Washington market overall 2009 United big Dulles airport Virginia command 22 percent Washington air travel year accord government datum Airways big hub Charlotte North Carolina follow Phoenix Philadelphia United spread rest operation Chicago Denver San Francisco Los Angeles “There significant overlap United Airways think government close look necessarily say block decide need take away certain market say Edward Faberman aviation attorney Wiley Rein llp.reporte Kyle Peterson John Crawley additional reporting Karen Jacobs Atlanta Deepa Seetharaman Jui Chakravorty New York Diane Bartz Washington editing Derek Caney Tim DobbynOur Standards Thomson Reuters Trust Principles</td>\n",
       "      <td>0.9981</td>\n",
       "    </tr>\n",
       "    <tr>\n",
       "      <th>2</th>\n",
       "      <td>2017-04-11</td>\n",
       "      <td>United Airlines faces mounting pressure over hospitalized passenger</td>\n",
       "      <td>- United Airlines UAL.N and its chief executive faced mounting pressure on Tuesday from a worldwide backlash over its treatment of a passenger who was dragged from his seat on a plane on Sunday to make room for four employees on the overbooked flight.Lawyers for the passenger, Dr. David Dao, issued a statement late on Tuesday confirming his identity and saying that he and his family were “focused only on Dr. Dao’s medical care and treatment” in a Chicago hospital.The U.S. Department of Transportation launched an inquiry into the incident, and New Jersey Governor Chris Christie called for new rules to curb the airline practice of overbooking flights.United CEO Oscar Munoz issued a statement on Tuesday apologizing to Dao without naming him. “I’m sorry. We will fix this,” Munoz said. “I deeply apologize to the customer forcibly removed and to all the customers aboard. No one should ever be mistreated this way.”On Monday, Munoz issued a memo to employees defending the company but not apologizing to the passenger.Munoz, a former railroad executive who took over the helm at United in 2015, had already been under pressure from activist investors to improve the airline’s performance, including its customer relations.Video showing Dao being yanked from his seat by airport security Sunday evening and dragged from United Airlines Flight 3411 at Chicago O’Hare International Airport went viral and sparked global outrage.A video screengrab shows passenger David Dao being dragged off a United Airlines flight at Chicago O’Hare International Airport in this video filmed by @JayseDavid April 9, 2017. Jayse D. Anspach via REUTERSAn online petition calling for Munoz to step down had nearly 22,000 signatures by early Tuesday evening.On Chinese social media, the incident attracted the attention of more than 480 million users on Weibo, China’s Twitter-like platform.United has about 20 percent of total U.S.-China airline traffic and has a partnership with Air China, the country’s third-largest airline, according to analysts. It flies to more Chinese cities than any other U.S. carrier. Last year, United added nonstop flights from San Francisco to Hangzhou, its fifth destination in mainland China.Dao, before being dragged off the parked plane, said repeatedly that he was being discriminated against because he was Chinese, according to Tyler Bridges, a fellow passenger on the flight from Chicago to Louisville, Kentucky.“He said, ‘I’m a doctor; I need to see patients,’” said Bridges, a civil engineer from Louisville who recorded much of the incident on his phone.Shares of United Continental closed down 1.1 percent at $70.71, after falling as much as 4.4 percent earlier. The company shed as much as about $1 billion in market value before ending the day with a loss of about $250 million. More than 16 million United shares changed hands, the most for any session in a year.The stock is down about 3 percent for the year.United is also suffering from broader worries among investors about U.S. airline performance.In the United States, social media outrage continued, with the incident trending on Twitter for the second consecutive day. Many users promoted hashtags #NewUnitedAirlinesMotto and #BoycottUnitedAirlines.This is the second time in less than a month that United has been caught in a social media storm. In late March, a United gate agent’s decision to refuse to board two teenage girls wearing leggings provoked a viral backlash.Additional reporting by Ankit Ajmera in Bengaluru and Lewis Krauskopf, David Randall, Angela Moon, Rodrigo Campos and Gina Cherelus in New York, Timothy McLaughlin in Chicago, David Shepardson in Washington and Philip Wen in Beijing; Editing by Lisa Von Ahn and Richard ChangOur Standards: The Thomson Reuters Trust Principles.</td>\n",
       "      <td>70.150002</td>\n",
       "      <td>17696500</td>\n",
       "      <td>0.257255</td>\n",
       "      <td>616.138562</td>\n",
       "      <td>United Airlines UAL.N chief executive face mount pressure Tuesday worldwide backlash treatment passenger drag seat plane Sunday room employee overbooke flight lawyer passenger Dr. David Dao issue statement late Tuesday confirm identity say family focused Dr. Dao medical care treatment Chicago hospital U.S. Department Transportation launch inquiry incident New Jersey Governor Chris Christie call new rule curb airline practice overbooke flight United CEO Oscar Munoz issue statement Tuesday apologize Dao name sorry fix Munoz say deeply apologize customer forcibly remove customer aboard mistreat way ”On Monday Munoz issue memo employee defend company apologize passenger Munoz railroad executive take helm United 2015 pressure activist investor improve airline performance include customer relation video show Dao yank seat airport security Sunday evening drag United Airlines Flight 3411 Chicago O’Hare International Airport go viral spark global outrage video screengrab show passenger David Dao drag United Airlines flight Chicago O’Hare International Airport video film @JayseDavid April 9 2017 Jayse D. Anspach REUTERSAn online petition call Munoz step nearly 22,000 signature early Tuesday evening chinese social medium incident attract attention 480 million user Weibo China Twitter like platform United 20 percent total U.S.-China airline traffic partnership Air China country large airline accord analyst fly chinese city U.S. carrier year United add nonstop flight San Francisco Hangzhou fifth destination mainland China Dao drag park plane say repeatedly discriminate chinese accord Tyler Bridges fellow passenger flight Chicago Louisville Kentucky “He say doctor need patient say Bridges civil engineer Louisville record incident phone share United Continental close 1.1 percent $ 70.71 fall 4.4 percent earlier company shed $ 1 billion market value end day loss $ 250 million 16 million United share change hand session year stock 3 percent year United suffer broad worry investor U.S. airline performance United States social medium outrage continue incident trend Twitter second consecutive day user promote hashtag NewUnitedAirlinesMotto boycottunitedairline second time month United catch social medium storm late March United gate agent decision refuse board teenage girl wear legging provoke viral backlash additional reporting Ankit Ajmera Bengaluru Lewis Krauskopf David Randall Angela Moon Rodrigo Campos Gina Cherelus New York Timothy McLaughlin Chicago David Shepardson Washington Philip Wen Beijing Editing Lisa Von Ahn Richard ChangOur Standards Thomson Reuters Trust Principles</td>\n",
       "      <td>0.9892</td>\n",
       "    </tr>\n",
       "    <tr>\n",
       "      <th>3</th>\n",
       "      <td>2017-04-17</td>\n",
       "      <td>United Air removes couple traveling to wedding from plane</td>\n",
       "      <td>- An engaged couple were removed from a United Airlines flight to Costa Rica on Saturday, as the airline remained under scrutiny following outrage caused by a video last week of a passenger being forcibly removed from a flight.United Airlines planes are seen on platform at the Newark Liberty International Airport in New Jersey, July 8, 2015. REUTERS/Eduardo MunozAccording to the couple, who said they were en route to get married, a federal marshal had escorted them from the plane before take-off from Houston, Texas, but United denied this on Sunday, saying in a statement that neither a marshal nor other authorities was involved.The couple “repeatedly attempted to sit in upgraded seating which they did not purchase and they would not follow crew instructions to return to their assigned seats,” United said in a statement, adding “They were asked to leave the plane by our staff and complied.”The statement from a United spokeswoman said the airline offered the couple a discounted hotel rate for the night, and rebooked them on a Sunday morning flight.MORE FROM REUTERS      Tweet Collection ID: 844235465955926017    A Collection on Twitter    But Michael Hohl and his fiancée, Amber Maxwell, told KHOU they tried to pay for upgraded seating and were denied, after finding another passenger sleeping across their seats when they were the last to board.After moving within the economy cabin a few rows up, flight crew denied their request to pay a supplement for the seats, which United sells as “economy plus”, and told them to move back to their original seats, Hohl said.“We thought not a big deal, it’s not like we are trying to jump up into a first-class seat,” Hohl told KHOU. “We were simply in an economy row a few rows above our economy seat.”The airline suffered a public relations disaster after a video emerged a week ago showing security officers dragging a bloodied passenger off an overbooked United Express flight in Chicago.Shares in United's owner, United Continental Holdings Inc UAL.N, were hammered, dropping 4 percent last week to close at $69 on Thursday, reducing the company's market cap by $770 million to $21.5 billion. Markets were closed on Friday.Dr. David Dao, the 69-year-old Vietnamese-American doctor who was seen in video being dragged off a United flight a week ago, will likely sue the airline, his attorney said on Thursday.After the incident triggered international outrage, United Chief Executive Oscar Munoz apologized to Dao, his family and its customers, saying the carrier would no longer use law enforcement officers to remove passengers from overbooked flights.Reporting by Jonathan Allen and Chris Michaud; Editing by Simon Cameron-MooreOur Standards: The Thomson Reuters Trust Principles.</td>\n",
       "      <td>69.510002</td>\n",
       "      <td>4761900</td>\n",
       "      <td>-0.912331</td>\n",
       "      <td>-73.091289</td>\n",
       "      <td>engaged couple remove United Airlines flight Costa Rica Saturday airline remain scrutiny follow outrage cause video week passenger forcibly remove flight United Airlines plane see platform Newark Liberty International Airport New Jersey July 8 2015 REUTERS Eduardo MunozAccording couple say en route marry federal marshal escort plane Houston Texas United deny Sunday say statement marshal authority involve couple repeatedly attempt sit upgrade seating purchase follow crew instruction return assign seat United say statement add ask leave plane staff comply ”the statement United spokeswoman say airline offer couple discount hotel rate night rebooke Sunday morning flight REUTERS Tweet Collection ID 844235465955926017 collection Twitter Michael Hohl fiancée Amber Maxwell tell KHOU try pay upgrade seating deny find passenger sleep seat board move economy cabin row flight crew deny request pay supplement seat United sell economy plus tell original seat Hohl say “We think big deal like try jump class seat Hohl tell KHOU simply economy row row economy seat ”the airline suffer public relation disaster video emerge week ago show security officer drag bloodied passenger overbooke United Express flight Chicago share United owner United Continental Holdings Inc UAL.N hammer drop 4 percent week close $ 69 Thursday reduce company market cap $ 770 million $ 21.5 billion market close Friday Dr David Dao 69-year old vietnamese american doctor see video drag United flight week ago likely sue airline attorney say Thursday incident trigger international outrage United Chief Executive Oscar Munoz apologize Dao family customer say carrier longer use law enforcement officer remove passenger overbooke flight report Jonathan Allen Chris Michaud editing Simon Cameron MooreOur Standards Thomson Reuters Trust Principles</td>\n",
       "      <td>0.9638</td>\n",
       "    </tr>\n",
       "    <tr>\n",
       "      <th>4</th>\n",
       "      <td>2017-04-27</td>\n",
       "      <td>United Airlines reaches settlement with passenger dragged from plane</td>\n",
       "      <td>- United Airlines UAL.N and the passenger who was dragged from a Chicago flight earlier this month have reached a settlement for an undisclosed sum, they said on Thursday, in the carrier's latest step to contain damage from an incident that sparked international outrage.Viral videos of Dr. David Dao being dragged down the aisle of a United jet and Chief Executive Oscar Munoz’s handling of the incident touched off a public outcry, prompted calls from congressmen for new industry regulation, and led United’s board of directors to reverse an agreement to make Munoz company chairman in 2018.United said earlier on Thursday that it would offer passengers who give up their seats up to $10,000, reduce overbooking of flights and no longer call on law enforcement officers to deny ticketed passengers their seats.Southwest Airlines also said on Thursday that it would end overbooking of flights.Dao, a 69-year-old Vietnamese-American doctor, was injured when Chicago aviation police removed him from his seat and then dragged him from the plane to make space for four crew members on the flight from O’Hare International Airport to Louisville, Kentucky.United has taken “full responsibility for what happened on Flight 3411, without attempting to blame others, including the City of Chicago,” Thomas Demetrio, an attorney for Dao, said in a statement.Demetrio said there was no need to proceed with separate litigation against the city. Republic Airways, United’s regional partner which operated the flight that Dao was on, has also been released from responsibility as part of the settlement, Demetrio’s office said.Chicago Mayor Rahm Emanuel’s office declined to comment on the settlement.The three Chicago Department of Aviation officers who pulled Dao off the plane and a supervisor involved in the incident remain on paid leave, said Chicago Department of Aviation spokesman Karen Pride, who declined to comment on the settlement.United said in a separate statement that it was pleased to reach “an amicable resolution of the unfortunate incident that occurred aboard flight 3411.”“We look forward to implementing the improvements we have announced, which will put our customers at the center of everything we do,” the airline said.Munoz stressed that point in a letter sent on Thursday to customers, saying the airline would increase its focus on their satisfaction.“We can never say we are sorry enough for what occurred, but we also know meaningful actions will speak louder than words,” he said.Separately, officials at 10 of the busiest U.S. airports said their rules prevent security officers from physically removing passengers from airplanes unless a crime is committed.Reporting by Timothy Mclaughlin in Chicago; Additional reporting by David Shepardson in Washington; Editing by Richard ChangOur Standards: The Thomson Reuters Trust Principles.</td>\n",
       "      <td>69.769997</td>\n",
       "      <td>5512200</td>\n",
       "      <td>0.374040</td>\n",
       "      <td>15.756316</td>\n",
       "      <td>United Airlines UAL.N passenger drag Chicago flight earlier month reach settlement undisclosed sum say Thursday carrier late step contain damage incident spark international outrage viral video Dr. David Dao drag aisle United jet Chief Executive Oscar Munoz handling incident touch public outcry prompt call congressman new industry regulation lead United board director reverse agreement Munoz company chairman 2018.United say earlier Thursday offer passenger seat $ 10,000 reduce overbooking flight longer law enforcement officer deny ticketed passenger seat Southwest Airlines say Thursday end overbooking flight Dao 69-year old vietnamese american doctor injure Chicago aviation police remove seat drag plane space crew member flight O’Hare International Airport Louisville Kentucky United take responsibility happen Flight 3411 attempt blame include City Chicago Thomas Demetrio attorney Dao say statement Demetrio say need proceed separate litigation city Republic Airways United regional partner operate flight Dao release responsibility settlement Demetrio office say Chicago Mayor Rahm Emanuel office decline comment settlement Chicago Department Aviation officer pull Dao plane supervisor involve incident remain pay leave say Chicago Department Aviation spokesman Karen Pride decline comment settlement United say separate statement pleased reach amicable resolution unfortunate incident occur aboard flight 3411.”“We look forward implement improvement announce customer center airline say Munoz stress point letter send Thursday customer say airline increase focus satisfaction “We sorry occur know meaningful action speak louder word say separately official 10 busy U.S. airport say rule prevent security officer physically remove passenger airplane crime commit reporting Timothy Mclaughlin Chicago additional reporting David Shepardson Washington editing Richard ChangOur Standards Thomson Reuters Trust Principles</td>\n",
       "      <td>0.9136</td>\n",
       "    </tr>\n",
       "  </tbody>\n",
       "</table>\n",
       "</div>"
      ],
      "text/plain": [
       "        Date  ... Vader Sentiment Score\n",
       "0 2017-03-07  ...  0.9485              \n",
       "1 2017-04-07  ...  0.9981              \n",
       "2 2017-04-11  ...  0.9892              \n",
       "3 2017-04-17  ...  0.9638              \n",
       "4 2017-04-27  ...  0.9136              \n",
       "\n",
       "[5 rows x 9 columns]"
      ]
     },
     "execution_count": 24,
     "metadata": {
      "tags": []
     },
     "output_type": "execute_result"
    }
   ],
   "source": [
    "df.head()"
   ]
  },
  {
   "cell_type": "markdown",
   "metadata": {
    "id": "n4JWxE78Ddat"
   },
   "source": [
    "## Sentiment Analysis"
   ]
  },
  {
   "cell_type": "code",
   "execution_count": 76,
   "metadata": {
    "id": "6w4w6eY3Ddat"
   },
   "outputs": [],
   "source": [
    "# run this cell to import nltk\n",
    "import nltk\n",
    "from os import getcwd\n",
    "import numpy as np\n",
    "import pandas as pd\n",
    "from nltk.corpus import twitter_samples \n",
    "from utils import process_tweet, build_freqs"
   ]
  },
  {
   "cell_type": "code",
   "execution_count": 77,
   "metadata": {
    "colab": {
     "base_uri": "https://localhost:8080/"
    },
    "id": "D2vYa7ZMDdat",
    "outputId": "df535b8e-218a-49c4-c119-5b142fa152c4"
   },
   "outputs": [
    {
     "name": "stdout",
     "output_type": "stream",
     "text": [
      "[nltk_data] Downloading package twitter_samples to /root/nltk_data...\n",
      "[nltk_data]   Unzipping corpora/twitter_samples.zip.\n",
      "[nltk_data] Downloading package stopwords to /root/nltk_data...\n",
      "[nltk_data]   Unzipping corpora/stopwords.zip.\n"
     ]
    },
    {
     "data": {
      "text/plain": [
       "True"
      ]
     },
     "execution_count": 77,
     "metadata": {
      "tags": []
     },
     "output_type": "execute_result"
    }
   ],
   "source": [
    "nltk.download('twitter_samples')\n",
    "nltk.download('stopwords')"
   ]
  },
  {
   "cell_type": "code",
   "execution_count": 78,
   "metadata": {
    "id": "ffCWEx_3Ddau"
   },
   "outputs": [],
   "source": [
    "\n",
    "# select the set of positive and negative tweets\n",
    "all_positive_tweets = twitter_samples.strings('positive_tweets.json')\n",
    "all_negative_tweets = twitter_samples.strings('negative_tweets.json')"
   ]
  },
  {
   "cell_type": "code",
   "execution_count": 79,
   "metadata": {
    "id": "-iN_wDGWDdau"
   },
   "outputs": [],
   "source": [
    "# split the data into two pieces (80-20), one for training and one for testing (validation set)  \n",
    "test_pos = all_positive_tweets[4000:]\n",
    "train_pos = all_positive_tweets[:4000]\n",
    "test_neg = all_negative_tweets[4000:]\n",
    "train_neg = all_negative_tweets[:4000]\n",
    "\n",
    "train_x = train_pos + train_neg \n",
    "test_x = test_pos + test_neg"
   ]
  },
  {
   "cell_type": "code",
   "execution_count": 80,
   "metadata": {
    "id": "v_m2WPlXDdau"
   },
   "outputs": [],
   "source": [
    "# combine positive and negative labels\n",
    "train_y = np.append(np.ones((len(train_pos), 1)), np.zeros((len(train_neg), 1)), axis=0)\n",
    "test_y = np.append(np.ones((len(test_pos), 1)), np.zeros((len(test_neg), 1)), axis=0)"
   ]
  },
  {
   "cell_type": "code",
   "execution_count": 81,
   "metadata": {
    "colab": {
     "base_uri": "https://localhost:8080/"
    },
    "id": "qljZ_zyMDdau",
    "outputId": "eed5a60c-2a9a-48bf-8027-73bb45a8eb4e"
   },
   "outputs": [
    {
     "name": "stdout",
     "output_type": "stream",
     "text": [
      "train_y.shape = (8000, 1)\n",
      "test_y.shape = (2000, 1)\n"
     ]
    }
   ],
   "source": [
    "# Print the shape train and test sets\n",
    "print(\"train_y.shape = \" + str(train_y.shape))\n",
    "print(\"test_y.shape = \" + str(test_y.shape))"
   ]
  },
  {
   "cell_type": "code",
   "execution_count": 82,
   "metadata": {
    "colab": {
     "base_uri": "https://localhost:8080/"
    },
    "id": "YgmamA5yDdau",
    "outputId": "5f898d52-5e56-4aa9-a6a0-bbcd0b064d9c"
   },
   "outputs": [
    {
     "name": "stdout",
     "output_type": "stream",
     "text": [
      "type(freqs) = <class 'dict'>\n",
      "len(freqs) = 11346\n"
     ]
    }
   ],
   "source": [
    "# create frequency dictionary\n",
    "freqs = build_freqs(train_x, train_y)\n",
    "\n",
    "# check the output\n",
    "print(\"type(freqs) = \" + str(type(freqs)))\n",
    "print(\"len(freqs) = \" + str(len(freqs.keys())))"
   ]
  },
  {
   "cell_type": "code",
   "execution_count": 83,
   "metadata": {
    "id": "dZfcBZ_fDdau"
   },
   "outputs": [],
   "source": [
    "# UNQ_C3 (UNIQUE CELL IDENTIFIER, DO NOT EDIT)\n",
    "def extract_features(tweet, freqs):\n",
    "    '''\n",
    "    Input: \n",
    "        tweet: a list of words for one tweet\n",
    "        freqs: a dictionary corresponding to the frequencies of each tuple (word, label)\n",
    "    Output: \n",
    "        x: a feature vector of dimension (1,3)\n",
    "    '''\n",
    "    # process_tweet tokenizes, stems, and removes stopwords\n",
    "    word_l = process_tweet(tweet)\n",
    "    \n",
    "    # 3 elements in the form of a 1 x 3 vector\n",
    "    x = np.zeros((1, 3)) \n",
    "    \n",
    "    #bias term is set to 1\n",
    "    x[0,0] = 1 \n",
    "    \n",
    "    ### START CODE HERE (REPLACE INSTANCES OF 'None' with your code) ###\n",
    "    \n",
    "    # loop through each word in the list of words\n",
    "    for word in word_l:\n",
    "        \n",
    "        # increment the word count for the positive label 1\n",
    "        \n",
    "        x[0,1] += freqs.get((word,1),0)\n",
    "        \n",
    "        # increment the word count for the negative label 0\n",
    "        x[0,2] += freqs.get((word,0),0)\n",
    "        \n",
    "    ### END CODE HERE ###\n",
    "    assert(x.shape == (1, 3))\n",
    "    return x"
   ]
  },
  {
   "cell_type": "code",
   "execution_count": 84,
   "metadata": {
    "id": "uuP9kCTYDdau"
   },
   "outputs": [],
   "source": [
    "# collect the features 'x' and stack them into a matrix 'X'\n",
    "X = np.zeros((len(train_x), 3))\n",
    "for i in range(len(train_x)):\n",
    "    X[i, :]= extract_features(train_x[i], freqs)\n",
    "\n",
    "# training labels corresponding to X\n",
    "Y = train_y"
   ]
  },
  {
   "cell_type": "code",
   "execution_count": 85,
   "metadata": {
    "colab": {
     "base_uri": "https://localhost:8080/"
    },
    "id": "7DQI0XyXDdau",
    "outputId": "688ac360-c2f6-4cc1-8a45-6e95df3c416f"
   },
   "outputs": [
    {
     "data": {
      "text/plain": [
       "(8000, 1)"
      ]
     },
     "execution_count": 85,
     "metadata": {
      "tags": []
     },
     "output_type": "execute_result"
    }
   ],
   "source": [
    "Y.shape"
   ]
  },
  {
   "cell_type": "code",
   "execution_count": 86,
   "metadata": {
    "id": "1J9qcsPnDdau"
   },
   "outputs": [],
   "source": [
    "from sklearn.model_selection import GridSearchCV\n",
    "from sklearn.linear_model import LogisticRegression\n",
    "from sklearn import svm\n",
    "from sklearn.pipeline import Pipeline"
   ]
  },
  {
   "cell_type": "markdown",
   "metadata": {
    "id": "k7oTaYsZDdau"
   },
   "source": [
    "### SVM Parameters"
   ]
  },
  {
   "cell_type": "code",
   "execution_count": 87,
   "metadata": {
    "id": "qIK8HcKsDdau"
   },
   "outputs": [],
   "source": [
    "param_grid = {'C': [0.0001, 0.001, 0.01, 0.1, 1]}  "
   ]
  },
  {
   "cell_type": "code",
   "execution_count": 88,
   "metadata": {
    "colab": {
     "base_uri": "https://localhost:8080/"
    },
    "id": "gmeUCZJ9Ddau",
    "outputId": "0b696c8f-bdf0-47ce-d76f-4c34a3b59535"
   },
   "outputs": [
    {
     "name": "stderr",
     "output_type": "stream",
     "text": [
      "/usr/local/lib/python3.6/dist-packages/sklearn/utils/validation.py:760: DataConversionWarning: A column-vector y was passed when a 1d array was expected. Please change the shape of y to (n_samples, ), for example using ravel().\n",
      "  y = column_or_1d(y, warn=True)\n"
     ]
    },
    {
     "data": {
      "text/plain": [
       "LogisticRegression(C=1.0, class_weight=None, dual=False, fit_intercept=True,\n",
       "                   intercept_scaling=1, l1_ratio=None, max_iter=100,\n",
       "                   multi_class='auto', n_jobs=None, penalty='l2',\n",
       "                   random_state=0, solver='lbfgs', tol=0.0001, verbose=0,\n",
       "                   warm_start=False)"
      ]
     },
     "execution_count": 88,
     "metadata": {
      "tags": []
     },
     "output_type": "execute_result"
    }
   ],
   "source": [
    "# Fitting Logistic Regression to the Training set\n",
    "from sklearn.linear_model import LogisticRegression\n",
    "classifier = LogisticRegression(random_state = 0)\n",
    "classifier.fit(X, Y)"
   ]
  },
  {
   "cell_type": "code",
   "execution_count": 89,
   "metadata": {
    "id": "769QIx9uDdau"
   },
   "outputs": [],
   "source": [
    "\n",
    "# UNQ_C4 (UNIQUE CELL IDENTIFIER, DO NOT EDIT)\n",
    "def predict_tweet(tweet, freqs):\n",
    "    '''\n",
    "    Input: \n",
    "        tweet: a string\n",
    "        freqs: a dictionary corresponding to the frequencies of each tuple (word, label)\n",
    "        theta: (3,1) vector of weights\n",
    "    Output: \n",
    "        y_pred: the probability of a tweet being positive or negative\n",
    "    '''\n",
    "    ### START CODE HERE (REPLACE INSTANCES OF 'None' with your code) ###\n",
    "    \n",
    "    # extract the features of the tweet and store it into x\n",
    "    x = extract_features(tweet,freqs)\n",
    "    \n",
    "    # make the prediction using x and theta\n",
    "    y_pred = classifier.predict(x)\n",
    "    \n",
    "    ### END CODE HERE ###\n",
    "    \n",
    "    return y_pred"
   ]
  },
  {
   "cell_type": "code",
   "execution_count": 90,
   "metadata": {
    "id": "ftumYLvdDdau"
   },
   "outputs": [],
   "source": [
    "# UNQ_C4 (UNIQUE CELL IDENTIFIER, DO NOT EDIT)\n",
    "def predict_tweet_prob(tweet, freqs):\n",
    "    '''\n",
    "    Input: \n",
    "        tweet: a string\n",
    "        freqs: a dictionary corresponding to the frequencies of each tuple (word, label)\n",
    "        theta: (3,1) vector of weights\n",
    "    Output: \n",
    "        y_pred: the probability of a tweet being positive or negative\n",
    "    '''\n",
    "    ### START CODE HERE (REPLACE INSTANCES OF 'None' with your code) ###\n",
    "    \n",
    "    # extract the features of the tweet and store it into x\n",
    "    x = extract_features(tweet,freqs)\n",
    "    \n",
    "    # make the prediction using x and theta\n",
    "    y_pred = classifier.predict_proba(x)\n",
    "    \n",
    "    ### END CODE HERE ###\n",
    "    \n",
    "    return y_pred"
   ]
  },
  {
   "cell_type": "code",
   "execution_count": 91,
   "metadata": {
    "colab": {
     "base_uri": "https://localhost:8080/"
    },
    "id": "1yoG7ljmDdau",
    "outputId": "50dbe8dd-cbb4-4210-a5ab-d1cbb301fffc"
   },
   "outputs": [
    {
     "data": {
      "text/plain": [
       "array([0.])"
      ]
     },
     "execution_count": 91,
     "metadata": {
      "tags": []
     },
     "output_type": "execute_result"
    }
   ],
   "source": [
    "\n",
    "my_tweet = 'The plot was terrible and I was sad until the ending!'\n",
    "predict_tweet(my_tweet, freqs)"
   ]
  },
  {
   "cell_type": "code",
   "execution_count": 92,
   "metadata": {
    "id": "4OcmlGKudS29"
   },
   "outputs": [],
   "source": [
    "sentiment = []\n",
    "sentiment_prob = []\n",
    "for i in df.iloc[:,2]:\n",
    "    sentiment.append(predict_tweet(i, freqs)[0])\n",
    "    sentiment_prob.append(predict_tweet_prob(i, freqs)[0][1])"
   ]
  },
  {
   "cell_type": "code",
   "execution_count": 93,
   "metadata": {
    "colab": {
     "base_uri": "https://localhost:8080/",
     "height": 1000
    },
    "id": "RFDPe0tvdS29",
    "outputId": "3b13c1d5-9b5b-4b61-8217-1558a8955255"
   },
   "outputs": [
    {
     "data": {
      "text/html": [
       "<div>\n",
       "<style scoped>\n",
       "    .dataframe tbody tr th:only-of-type {\n",
       "        vertical-align: middle;\n",
       "    }\n",
       "\n",
       "    .dataframe tbody tr th {\n",
       "        vertical-align: top;\n",
       "    }\n",
       "\n",
       "    .dataframe thead th {\n",
       "        text-align: right;\n",
       "    }\n",
       "</style>\n",
       "<table border=\"1\" class=\"dataframe\">\n",
       "  <thead>\n",
       "    <tr style=\"text-align: right;\">\n",
       "      <th></th>\n",
       "      <th>Date</th>\n",
       "      <th>Header</th>\n",
       "      <th>Text</th>\n",
       "      <th>Open</th>\n",
       "      <th>Volume</th>\n",
       "      <th>% Change in Stock Price</th>\n",
       "      <th>% Change in Volume</th>\n",
       "      <th>Text (clean)</th>\n",
       "      <th>Vader Sentiment Score</th>\n",
       "      <th>deep_learning_sentiment_prob</th>\n",
       "      <th>Days Elapsed</th>\n",
       "      <th>% Change in Stock Price Per Day</th>\n",
       "      <th>Vader Sentiment</th>\n",
       "      <th>sentiment</th>\n",
       "      <th>sentiment_prob</th>\n",
       "    </tr>\n",
       "  </thead>\n",
       "  <tbody>\n",
       "    <tr>\n",
       "      <th>0</th>\n",
       "      <td>2017-03-07</td>\n",
       "      <td>United looking at second-hand aircraft, rules out A380</td>\n",
       "      <td>- United Continental Holdings UAKL.N is interested in buying second-hand aircraft as they are released to the market when leases expire, Chief Finance Director Andrew Levy said on Tuesday.Speaking at the ISTAT Americas air finance conference, he also ruled out United, which recently retired its Boeing 747 jumbo jets, buying any more aircraft in that category for the world’s largest four-engined jets.United, the largest U.S. carrier by traffic, has been tipped in the past as a potential buyer for the Airbus A380 superjumbo.Reporting by Tim Hepher; Editing by Alison WilliamsOur Standards: The Thomson Reuters Trust Principles.</td>\n",
       "      <td>72.690002</td>\n",
       "      <td>3764000</td>\n",
       "      <td>NaN</td>\n",
       "      <td>NaN</td>\n",
       "      <td>United Continental Holdings UAKL.N interested buy second hand aircraft release market lease expire Chief Finance Director Andrew Levy say Tuesday speak ISTAT Americas air finance conference rule United recently retire Boeing 747 jumbo jet buy aircraft category world large engine jet United large U.S. carrier traffic tip past potential buyer Airbus A380 superjumbo report Tim Hepher editing Alison WilliamsOur Standards Thomson Reuters Trust Principles</td>\n",
       "      <td>0.9485</td>\n",
       "      <td>0.995828</td>\n",
       "      <td>0</td>\n",
       "      <td>NaN</td>\n",
       "      <td>positive</td>\n",
       "      <td>1.0</td>\n",
       "      <td>0.693922</td>\n",
       "    </tr>\n",
       "    <tr>\n",
       "      <th>1</th>\n",
       "      <td>2017-04-07</td>\n",
       "      <td>UAL pilots attack U.S. Airways merger prospect</td>\n",
       "      <td>- United Airlines' pilots union lashed out against efforts to merge the airline with US Airways Group LCC.N, underscoring the challenges facing decade-old attempts to unite the carriers.Passengers wait to check-in at the U.S. Airways ticket counter at Phoenix International Airport in Phoenix, April 8, 2010. REUTERS/Joshua Lott\\nTough antitrust enforcement could also pose another stumbling block to a merger, which would form the world's second-largest airline after Delta Air Lines DAL.N, industry experts said.But the possibility of consolidation in the industry spurred airline shares higher on Thursday, although US Airways and United parent UAL Corp UAUA.O would not confirm the discussions that sources said were advancing.Chicago-based United, the No. 3 U.S. airline, has a $3.39 billion market value, based on Thursday’s close. Tempe, Arizona-based US Airways, the No. 6 U.S. airline, ended the day with a $1.22 billion market capitalization.Sources with knowledge of the situation told Reuters the negotiations began more than a month ago, although much of the groundwork was laid in 2008 when the two held similar talks.The sources said the parties are currently focused on general themes, and issues like deal structure and management will be discussed in coming weeks.The parties were said to be mindful of hurdles to a successful merger, including competition concerns and serious labor questions at both carriers involving pilots.“Everybody is aware of the problems,” said one source.United’s pilots said Thursday they were vehemently opposed to a merger, while US Airways’ pilots said they were open to a merger and wanted to be part of the discussions.United’s flight attendants said they would not support a deal that would “distract from contract negotiations.”Goldman Sachs GS.N and JPMorgan Chase &amp; Co JPM.N are advising United, several people familiar with the matter said. Citigroup Inc C.N is advising US Airways, the sources said.All three banks declined to comment.UAL shares closed up 6.8 percent at $20.23 on Nasdaq. US Airways shares gained 10.7 percent to finish at $7.55 on the New York Stock Exchange.CHANGING LANDSCAPEUS Airways and UAL have courted for a decade -- interrupted only by their turns in bankruptcy between 2002 and 2005.Slideshow ( 3 images )An offer in 2000 by United to buy US Airways crumbled in 2001 over fears the U.S. government would block the deal.Talks revived in 2008 but fizzled amid the recession.Aviation experts generally agree that consolidation would help the airline industry, and a merger with US Airways would help United. But some said a deal with Continental Airlines CAL.N would be best for United.United and Continental held merger talks in 2008 and later opted for an alliance, which has been successful.Airlines are recovering from a painful downturn that forced massive downsizing in the last two years. A merger could accelerate fleet reductions, helping improve balance sheets.Philip Baggaley of rating agency Standard &amp; Poor’s said a merger with US Airways would improve United’s route network but could lead to higher labor costs. The combined company would probably emerge with heavy debt, he said.“Clearly these potential talks are a massive positive for US Airways and United, but I think it speaks volumes to the changing landscape in the airline industry,” said Morningstar Equity analyst Basili Alukos.He said a potential major airline merger, combined with the capacity cuts of 2008 and 2009 hint that the industry “could be en route to earning its cost of capital.”“History is not on the side of the airlines, but maybe the horrible losses encountered recently have scared newcomers enough to reconsider starting an airline,” Alukos said.The chief executives at both companies, Doug Parker at US Airways and Glenn Tilton at United, were, and continue to be, vocal proponents of further consolidation in an industry that has long suffered from competitive pressures and overcapacity.The last merger of two major U.S. airlines was between Delta Air Lines DAL.N and Northwest Airlines, which concluded in 2008 and analysts consider successful.LABOR ISSUESAlukos and other experts said the biggest challenge would be integrating unionized employees.US Airways, formed in 2005 from a merger with America West Airlines, still has two pilot unions.Airline labor groups - especially pilots - are notoriously hard to merge because pay and work rules are closely tied to seniority. A pilot could easily lose seniority in a merger and end up flying less desirable routes and planes.James Ray, spokesman for the US Airline Pilots Association (USAPA), which represents pilots at US Airways said the union is open to a merger, but wants to be part of the discussions.“Our union president has talked to Doug Parker and said we are open-minded and look forward to being an active partner with U.S. airways should they pursue a merger with anyone,” Ray said.The Air Line Pilots Association (ALPA), which represents pilots at United, said it was vehemently opposed to a merger with US Airways, that would benefit neither the airline nor its pilots.“United CEO Glenn Tilton is well aware of our position regarding mergers and US Airways,” said a statement by union official Capt. Wendy Morse.Bill Swelbar, an airline researcher at MIT, said union troubles could be a fatal impediment.“It is my opinion that the labor issues will significantly undermine the synergies. I’m just not convinced there is an attraction. There is nothing about this that has me going ‘this just seems like a great deal’,” Swelbar said.Delta and Northwest worked out their labor issues before announcing their deal.ANTITRUSTProspects of a US Airways-United marriage have for years raised questions about market concentration in the eastern portion of the United States, particularly at airports in the Washington D.C. area.Any proposal would have to satisfy Justice Department antitrust officials under the Obama administration.The Delta-Northwest merger was approved by the Bush administration, which was considered more business friendly.“Now you’ve got a more aggressive enforcement regime. It seems to me the antitrust hurdles are no lower than they were in 2001 and maybe higher,” said John Briggs, an antitrust expert with Axinn Veltrop Harkrider LLP.US Airways is trying to beef up its already strong presence at Washington’s Reagan National airport and held 11 percent of the regional Washington market overall in 2009. United is big at Dulles airport in Virginia and commanded 22 percent of Washington air travel last year, according to government data.US Airways biggest hub is Charlotte, North Carolina, followed by Phoenix and Philadelphia. United spreads the rest of its operations at Chicago, Denver, San Francisco and Los Angeles.“There are still some significant overlaps between United and US Airways, and I think the government would take a close look at that. I’m not necessarily saying to block it, but to decide what may need to be taken away in certain markets,” said Edward Faberman, an aviation attorney with Wiley Rein LLP.Reporting by Kyle Peterson and John Crawley; Additional reporting by Karen Jacobs in Atlanta, Deepa Seetharaman and Jui Chakravorty in New York, and Diane Bartz in Washington; Editing by Derek Caney and Tim DobbynOur Standards: The Thomson Reuters Trust Principles.</td>\n",
       "      <td>69.970001</td>\n",
       "      <td>2471100</td>\n",
       "      <td>-3.741919</td>\n",
       "      <td>-34.349097</td>\n",
       "      <td>United Airlines pilot union lash effort merge airline Airways Group LCC.N underscore challenge face decade old attempt unite carrier passenger wait check U.S. Airways ticket counter Phoenix International Airport Phoenix April 8 2010 REUTERS Joshua Lott tough antitrust enforcement pose stumble block merger form world second large airline Delta Air Lines DAL.N industry expert say possibility consolidation industry spur airline share high Thursday Airways United parent UAL Corp UAUA.O confirm discussion source say advance Chicago base United 3 U.S. airline $ 3.39 billion market value base Thursday close Tempe Arizona base Airways 6 U.S. airline end day $ 1.22 billion market capitalization source knowledge situation tell Reuters negotiation begin month ago groundwork lay 2008 hold similar talk source say party currently focus general theme issue like deal structure management discuss come week party say mindful hurdle successful merger include competition concern labor question carrier involve pilot “Everybody aware problem say source United pilot say Thursday vehemently oppose merger Airways pilot say open merger want discussion United flight attendant say support deal distract contract negotiation ”Goldman Sachs gs.n JPMorgan Chase Co JPM.N advise United people familiar matter say Citigroup Inc C.N advise Airways source say bank decline comment UAL share close 6.8 percent $ 20.23 Nasdaq Airways share gain 10.7 percent finish $ 7.55 New York Stock Exchange CHANGING LANDSCAPEUS Airways UAL court decade interrupt turn bankruptcy 2002 2005.slideshow 3 image offer 2000 United buy Airways crumble 2001 fear U.S. government block deal talk revive 2008 fizzle amid recession aviation expert generally agree consolidation help airline industry merger Airways help United say deal Continental Airlines CAL.N good United United Continental hold merger talk 2008 later opt alliance successful airline recover painful downturn force massive downsizing year merger accelerate fleet reduction help improve balance sheet Philip Baggaley rating agency Standard Poor say merger Airways improve United route network lead high labor cost combine company probably emerge heavy debt say “clearly potential talk massive positive Airways United think speak volume change landscape airline industry say Morningstar Equity analyst Basili Alukos say potential major airline merger combine capacity cut 2008 2009 hint industry en route earn cost capital ”“history airline maybe horrible loss encounter recently scare newcomer reconsider start airline Alukos say chief executive company Doug Parker Airways Glenn Tilton United continue vocal proponent consolidation industry long suffer competitive pressure overcapacity merger major U.S. airline Delta Air Lines DAL.N Northwest Airlines conclude 2008 analyst consider successful labor issuesalukos expert say big challenge integrate unionized employee Airways form 2005 merger America West Airlines pilot union airline labor group especially pilot notoriously hard merge pay work rule closely tie seniority pilot easily lose seniority merger end fly desirable route plane James Ray spokesman Airline Pilots Association USAPA represent pilot Airways say union open merger want discussion “Our union president talk Doug Parker say open minded look forward active partner U.S. airway pursue merger Ray say Air Line Pilots Association ALPA represent pilot United say vehemently oppose merger Airways benefit airline pilot “United CEO Glenn Tilton aware position merger Airways say statement union official Capt Wendy Morse Bill Swelbar airline researcher MIT say union trouble fatal impediment “It opinion labor issue significantly undermine synergy convinced attraction go like great deal Swelbar say Delta Northwest work labor issue announce deal antitrustprospect Airways United marriage year raise question market concentration eastern portion United States particularly airport Washington D.C. area proposal satisfy Justice Department antitrust official Obama administration Delta Northwest merger approve Bush administration consider business friendly “Now get aggressive enforcement regime antitrust hurdle low 2001 maybe high say John Briggs antitrust expert Axinn Veltrop Harkrider LLP.US Airways try beef strong presence Washington Reagan National airport hold 11 percent regional Washington market overall 2009 United big Dulles airport Virginia command 22 percent Washington air travel year accord government datum Airways big hub Charlotte North Carolina follow Phoenix Philadelphia United spread rest operation Chicago Denver San Francisco Los Angeles “There significant overlap United Airways think government close look necessarily say block decide need take away certain market say Edward Faberman aviation attorney Wiley Rein llp.reporte Kyle Peterson John Crawley additional reporting Karen Jacobs Atlanta Deepa Seetharaman Jui Chakravorty New York Diane Bartz Washington editing Derek Caney Tim DobbynOur Standards Thomson Reuters Trust Principles</td>\n",
       "      <td>0.9981</td>\n",
       "      <td>0.525798</td>\n",
       "      <td>31</td>\n",
       "      <td>-0.120707</td>\n",
       "      <td>positive</td>\n",
       "      <td>0.0</td>\n",
       "      <td>0.000996</td>\n",
       "    </tr>\n",
       "    <tr>\n",
       "      <th>2</th>\n",
       "      <td>2017-04-11</td>\n",
       "      <td>United Airlines faces mounting pressure over hospitalized passenger</td>\n",
       "      <td>- United Airlines UAL.N and its chief executive faced mounting pressure on Tuesday from a worldwide backlash over its treatment of a passenger who was dragged from his seat on a plane on Sunday to make room for four employees on the overbooked flight.Lawyers for the passenger, Dr. David Dao, issued a statement late on Tuesday confirming his identity and saying that he and his family were “focused only on Dr. Dao’s medical care and treatment” in a Chicago hospital.The U.S. Department of Transportation launched an inquiry into the incident, and New Jersey Governor Chris Christie called for new rules to curb the airline practice of overbooking flights.United CEO Oscar Munoz issued a statement on Tuesday apologizing to Dao without naming him. “I’m sorry. We will fix this,” Munoz said. “I deeply apologize to the customer forcibly removed and to all the customers aboard. No one should ever be mistreated this way.”On Monday, Munoz issued a memo to employees defending the company but not apologizing to the passenger.Munoz, a former railroad executive who took over the helm at United in 2015, had already been under pressure from activist investors to improve the airline’s performance, including its customer relations.Video showing Dao being yanked from his seat by airport security Sunday evening and dragged from United Airlines Flight 3411 at Chicago O’Hare International Airport went viral and sparked global outrage.A video screengrab shows passenger David Dao being dragged off a United Airlines flight at Chicago O’Hare International Airport in this video filmed by @JayseDavid April 9, 2017. Jayse D. Anspach via REUTERSAn online petition calling for Munoz to step down had nearly 22,000 signatures by early Tuesday evening.On Chinese social media, the incident attracted the attention of more than 480 million users on Weibo, China’s Twitter-like platform.United has about 20 percent of total U.S.-China airline traffic and has a partnership with Air China, the country’s third-largest airline, according to analysts. It flies to more Chinese cities than any other U.S. carrier. Last year, United added nonstop flights from San Francisco to Hangzhou, its fifth destination in mainland China.Dao, before being dragged off the parked plane, said repeatedly that he was being discriminated against because he was Chinese, according to Tyler Bridges, a fellow passenger on the flight from Chicago to Louisville, Kentucky.“He said, ‘I’m a doctor; I need to see patients,’” said Bridges, a civil engineer from Louisville who recorded much of the incident on his phone.Shares of United Continental closed down 1.1 percent at $70.71, after falling as much as 4.4 percent earlier. The company shed as much as about $1 billion in market value before ending the day with a loss of about $250 million. More than 16 million United shares changed hands, the most for any session in a year.The stock is down about 3 percent for the year.United is also suffering from broader worries among investors about U.S. airline performance.In the United States, social media outrage continued, with the incident trending on Twitter for the second consecutive day. Many users promoted hashtags #NewUnitedAirlinesMotto and #BoycottUnitedAirlines.This is the second time in less than a month that United has been caught in a social media storm. In late March, a United gate agent’s decision to refuse to board two teenage girls wearing leggings provoked a viral backlash.Additional reporting by Ankit Ajmera in Bengaluru and Lewis Krauskopf, David Randall, Angela Moon, Rodrigo Campos and Gina Cherelus in New York, Timothy McLaughlin in Chicago, David Shepardson in Washington and Philip Wen in Beijing; Editing by Lisa Von Ahn and Richard ChangOur Standards: The Thomson Reuters Trust Principles.</td>\n",
       "      <td>70.150002</td>\n",
       "      <td>17696500</td>\n",
       "      <td>0.257255</td>\n",
       "      <td>616.138562</td>\n",
       "      <td>United Airlines UAL.N chief executive face mount pressure Tuesday worldwide backlash treatment passenger drag seat plane Sunday room employee overbooke flight lawyer passenger Dr. David Dao issue statement late Tuesday confirm identity say family focused Dr. Dao medical care treatment Chicago hospital U.S. Department Transportation launch inquiry incident New Jersey Governor Chris Christie call new rule curb airline practice overbooke flight United CEO Oscar Munoz issue statement Tuesday apologize Dao name sorry fix Munoz say deeply apologize customer forcibly remove customer aboard mistreat way ”On Monday Munoz issue memo employee defend company apologize passenger Munoz railroad executive take helm United 2015 pressure activist investor improve airline performance include customer relation video show Dao yank seat airport security Sunday evening drag United Airlines Flight 3411 Chicago O’Hare International Airport go viral spark global outrage video screengrab show passenger David Dao drag United Airlines flight Chicago O’Hare International Airport video film @JayseDavid April 9 2017 Jayse D. Anspach REUTERSAn online petition call Munoz step nearly 22,000 signature early Tuesday evening chinese social medium incident attract attention 480 million user Weibo China Twitter like platform United 20 percent total U.S.-China airline traffic partnership Air China country large airline accord analyst fly chinese city U.S. carrier year United add nonstop flight San Francisco Hangzhou fifth destination mainland China Dao drag park plane say repeatedly discriminate chinese accord Tyler Bridges fellow passenger flight Chicago Louisville Kentucky “He say doctor need patient say Bridges civil engineer Louisville record incident phone share United Continental close 1.1 percent $ 70.71 fall 4.4 percent earlier company shed $ 1 billion market value end day loss $ 250 million 16 million United share change hand session year stock 3 percent year United suffer broad worry investor U.S. airline performance United States social medium outrage continue incident trend Twitter second consecutive day user promote hashtag NewUnitedAirlinesMotto boycottunitedairline second time month United catch social medium storm late March United gate agent decision refuse board teenage girl wear legging provoke viral backlash additional reporting Ankit Ajmera Bengaluru Lewis Krauskopf David Randall Angela Moon Rodrigo Campos Gina Cherelus New York Timothy McLaughlin Chicago David Shepardson Washington Philip Wen Beijing Editing Lisa Von Ahn Richard ChangOur Standards Thomson Reuters Trust Principles</td>\n",
       "      <td>0.9892</td>\n",
       "      <td>0.019937</td>\n",
       "      <td>4</td>\n",
       "      <td>0.064314</td>\n",
       "      <td>positive</td>\n",
       "      <td>0.0</td>\n",
       "      <td>0.016666</td>\n",
       "    </tr>\n",
       "    <tr>\n",
       "      <th>3</th>\n",
       "      <td>2017-04-17</td>\n",
       "      <td>United Air removes couple traveling to wedding from plane</td>\n",
       "      <td>- An engaged couple were removed from a United Airlines flight to Costa Rica on Saturday, as the airline remained under scrutiny following outrage caused by a video last week of a passenger being forcibly removed from a flight.United Airlines planes are seen on platform at the Newark Liberty International Airport in New Jersey, July 8, 2015. REUTERS/Eduardo MunozAccording to the couple, who said they were en route to get married, a federal marshal had escorted them from the plane before take-off from Houston, Texas, but United denied this on Sunday, saying in a statement that neither a marshal nor other authorities was involved.The couple “repeatedly attempted to sit in upgraded seating which they did not purchase and they would not follow crew instructions to return to their assigned seats,” United said in a statement, adding “They were asked to leave the plane by our staff and complied.”The statement from a United spokeswoman said the airline offered the couple a discounted hotel rate for the night, and rebooked them on a Sunday morning flight.MORE FROM REUTERS      Tweet Collection ID: 844235465955926017    A Collection on Twitter    But Michael Hohl and his fiancée, Amber Maxwell, told KHOU they tried to pay for upgraded seating and were denied, after finding another passenger sleeping across their seats when they were the last to board.After moving within the economy cabin a few rows up, flight crew denied their request to pay a supplement for the seats, which United sells as “economy plus”, and told them to move back to their original seats, Hohl said.“We thought not a big deal, it’s not like we are trying to jump up into a first-class seat,” Hohl told KHOU. “We were simply in an economy row a few rows above our economy seat.”The airline suffered a public relations disaster after a video emerged a week ago showing security officers dragging a bloodied passenger off an overbooked United Express flight in Chicago.Shares in United's owner, United Continental Holdings Inc UAL.N, were hammered, dropping 4 percent last week to close at $69 on Thursday, reducing the company's market cap by $770 million to $21.5 billion. Markets were closed on Friday.Dr. David Dao, the 69-year-old Vietnamese-American doctor who was seen in video being dragged off a United flight a week ago, will likely sue the airline, his attorney said on Thursday.After the incident triggered international outrage, United Chief Executive Oscar Munoz apologized to Dao, his family and its customers, saying the carrier would no longer use law enforcement officers to remove passengers from overbooked flights.Reporting by Jonathan Allen and Chris Michaud; Editing by Simon Cameron-MooreOur Standards: The Thomson Reuters Trust Principles.</td>\n",
       "      <td>69.510002</td>\n",
       "      <td>4761900</td>\n",
       "      <td>-0.912331</td>\n",
       "      <td>-73.091289</td>\n",
       "      <td>engaged couple remove United Airlines flight Costa Rica Saturday airline remain scrutiny follow outrage cause video week passenger forcibly remove flight United Airlines plane see platform Newark Liberty International Airport New Jersey July 8 2015 REUTERS Eduardo MunozAccording couple say en route marry federal marshal escort plane Houston Texas United deny Sunday say statement marshal authority involve couple repeatedly attempt sit upgrade seating purchase follow crew instruction return assign seat United say statement add ask leave plane staff comply ”the statement United spokeswoman say airline offer couple discount hotel rate night rebooke Sunday morning flight REUTERS Tweet Collection ID 844235465955926017 collection Twitter Michael Hohl fiancée Amber Maxwell tell KHOU try pay upgrade seating deny find passenger sleep seat board move economy cabin row flight crew deny request pay supplement seat United sell economy plus tell original seat Hohl say “We think big deal like try jump class seat Hohl tell KHOU simply economy row row economy seat ”the airline suffer public relation disaster video emerge week ago show security officer drag bloodied passenger overbooke United Express flight Chicago share United owner United Continental Holdings Inc UAL.N hammer drop 4 percent week close $ 69 Thursday reduce company market cap $ 770 million $ 21.5 billion market close Friday Dr David Dao 69-year old vietnamese american doctor see video drag United flight week ago likely sue airline attorney say Thursday incident trigger international outrage United Chief Executive Oscar Munoz apologize Dao family customer say carrier longer use law enforcement officer remove passenger overbooke flight report Jonathan Allen Chris Michaud editing Simon Cameron MooreOur Standards Thomson Reuters Trust Principles</td>\n",
       "      <td>0.9638</td>\n",
       "      <td>1.000000</td>\n",
       "      <td>6</td>\n",
       "      <td>-0.152055</td>\n",
       "      <td>positive</td>\n",
       "      <td>0.0</td>\n",
       "      <td>0.100628</td>\n",
       "    </tr>\n",
       "    <tr>\n",
       "      <th>4</th>\n",
       "      <td>2017-04-27</td>\n",
       "      <td>United Airlines reaches settlement with passenger dragged from plane</td>\n",
       "      <td>- United Airlines UAL.N and the passenger who was dragged from a Chicago flight earlier this month have reached a settlement for an undisclosed sum, they said on Thursday, in the carrier's latest step to contain damage from an incident that sparked international outrage.Viral videos of Dr. David Dao being dragged down the aisle of a United jet and Chief Executive Oscar Munoz’s handling of the incident touched off a public outcry, prompted calls from congressmen for new industry regulation, and led United’s board of directors to reverse an agreement to make Munoz company chairman in 2018.United said earlier on Thursday that it would offer passengers who give up their seats up to $10,000, reduce overbooking of flights and no longer call on law enforcement officers to deny ticketed passengers their seats.Southwest Airlines also said on Thursday that it would end overbooking of flights.Dao, a 69-year-old Vietnamese-American doctor, was injured when Chicago aviation police removed him from his seat and then dragged him from the plane to make space for four crew members on the flight from O’Hare International Airport to Louisville, Kentucky.United has taken “full responsibility for what happened on Flight 3411, without attempting to blame others, including the City of Chicago,” Thomas Demetrio, an attorney for Dao, said in a statement.Demetrio said there was no need to proceed with separate litigation against the city. Republic Airways, United’s regional partner which operated the flight that Dao was on, has also been released from responsibility as part of the settlement, Demetrio’s office said.Chicago Mayor Rahm Emanuel’s office declined to comment on the settlement.The three Chicago Department of Aviation officers who pulled Dao off the plane and a supervisor involved in the incident remain on paid leave, said Chicago Department of Aviation spokesman Karen Pride, who declined to comment on the settlement.United said in a separate statement that it was pleased to reach “an amicable resolution of the unfortunate incident that occurred aboard flight 3411.”“We look forward to implementing the improvements we have announced, which will put our customers at the center of everything we do,” the airline said.Munoz stressed that point in a letter sent on Thursday to customers, saying the airline would increase its focus on their satisfaction.“We can never say we are sorry enough for what occurred, but we also know meaningful actions will speak louder than words,” he said.Separately, officials at 10 of the busiest U.S. airports said their rules prevent security officers from physically removing passengers from airplanes unless a crime is committed.Reporting by Timothy Mclaughlin in Chicago; Additional reporting by David Shepardson in Washington; Editing by Richard ChangOur Standards: The Thomson Reuters Trust Principles.</td>\n",
       "      <td>69.769997</td>\n",
       "      <td>5512200</td>\n",
       "      <td>0.374040</td>\n",
       "      <td>15.756316</td>\n",
       "      <td>United Airlines UAL.N passenger drag Chicago flight earlier month reach settlement undisclosed sum say Thursday carrier late step contain damage incident spark international outrage viral video Dr. David Dao drag aisle United jet Chief Executive Oscar Munoz handling incident touch public outcry prompt call congressman new industry regulation lead United board director reverse agreement Munoz company chairman 2018.United say earlier Thursday offer passenger seat $ 10,000 reduce overbooking flight longer law enforcement officer deny ticketed passenger seat Southwest Airlines say Thursday end overbooking flight Dao 69-year old vietnamese american doctor injure Chicago aviation police remove seat drag plane space crew member flight O’Hare International Airport Louisville Kentucky United take responsibility happen Flight 3411 attempt blame include City Chicago Thomas Demetrio attorney Dao say statement Demetrio say need proceed separate litigation city Republic Airways United regional partner operate flight Dao release responsibility settlement Demetrio office say Chicago Mayor Rahm Emanuel office decline comment settlement Chicago Department Aviation officer pull Dao plane supervisor involve incident remain pay leave say Chicago Department Aviation spokesman Karen Pride decline comment settlement United say separate statement pleased reach amicable resolution unfortunate incident occur aboard flight 3411.”“We look forward implement improvement announce customer center airline say Munoz stress point letter send Thursday customer say airline increase focus satisfaction “We sorry occur know meaningful action speak louder word say separately official 10 busy U.S. airport say rule prevent security officer physically remove passenger airplane crime commit reporting Timothy Mclaughlin Chicago additional reporting David Shepardson Washington editing Richard ChangOur Standards Thomson Reuters Trust Principles</td>\n",
       "      <td>0.9136</td>\n",
       "      <td>0.525798</td>\n",
       "      <td>10</td>\n",
       "      <td>0.037404</td>\n",
       "      <td>positive</td>\n",
       "      <td>0.0</td>\n",
       "      <td>0.003092</td>\n",
       "    </tr>\n",
       "    <tr>\n",
       "      <th>5</th>\n",
       "      <td>2017-05-02</td>\n",
       "      <td>U.S. lawmakers grill airline executives after customer disasters</td>\n",
       "      <td>- U.S. lawmakers threatened United Airlines UAL.N and other carriers on Tuesday with legislation aimed at improving customer service after a passenger was hauled down the aisle of a flight last month. Top airline executives testified to the House of Representatives transportation committee and promised to address customer service failures at the hearing held to consider ways to address passenger frustrations with problems such as overbooking.The industry breathed a sigh of relief after the four-hour hearing, in which lawmakers did not outline any immediate plans for increased oversight on the largely deregulated sector.In April, video went viral on social media of 69-year-old passenger David Dao being dragged from a United flight at Chicago’s O’Hare International Airport after he refused to give up his seat to make room for crew members.United Chief Executive Oscar Munoz repeatedly apologized at the hearing for the removal of Dao, with whom the airline reached a settlement last week for an undisclosed sum. \"In that moment for our customers and our company we failed, and so as CEO, at the end of the day, that is on me,\" Munoz said. He called the removal the result of a series of system failures and \"a mistake of epic proportions.\"Munoz was joined at the hearing by United President Scott Kirby and executives from American Airlines AAL.O, Southwest Airlines LUV.N and Alaska Airlines ALK.N. American Airlines experienced its own public relations fiasco last month when a passenger video went viral, showing a woman on a plane in tears holding a child in her arms and another at her side after an encounter with a flight attendant over a baby stroller. \"Clearly what happened was wrong,\" said Kerry Philipovitch, the airline's senior vice president of customer experience, at the hearing.Airline stocks rose after the hearing and Delta Air Lines Inc DAL.N reported a gain in April traffic.On Tuesday, United’s stock closed up 5.2 percent, Delta gained 5.4 percent, American added 4.3 percent, and Southwest was up 3.6 percent.Slideshow ( 7 images )Analyst Jim Corridore of CFRA Research said investors were focusing on news of Delta’s improved unit revenue and were also relieved that lawmakers did not outline plans for immediate moves to tighten regulations.Many lawmakers fly weekly to and from Washington and during the hearing took the opportunity to recount the frustrations customers routinely face, including complicated booking systems, confusing fees, long waits and unexplained flight delays.“We all know it’s a terrible experience,” said Representative Michael Capuano, a Democrat from Massachusetts, throwing his arms in the air in frustration. “Some charge fees for baggage, some charge fees for oxygen, who knows?”Bill Shuster, chairman of the House of Representatives’ transportation committee, said: “If airlines don’t get their act together, we are going to act; it is going to be one size fits all. Seize this opportunity because if you don’t, we’re going to come, and you’re not going to like it.”After the hearing, Munoz said the message that change was needed was loud and clear.“I think the sense in the room was one of an admonition to get your collective stuff together,” Munoz told reporters at the Capitol. The alternative is to face additional legislation, “which I think is fair,” he added.In response to the dragging incident, United has changed its policies by reducing overbooked flights and offering passengers who give up their seats up to $10,000.Airlines have said they routinely overbook flights because a small percentage of passengers do not show up.Delta Air Lines DAL.N declined to testify. In a statement, the airline said it was working with individual members of Congress on customer service issues.Additional reporting by Steve Holland and Amanda Becker in Washington; Writing by Roberta Rampton and Amanda Becker; Editing by Richard Chang and Lisa ShumakerOur Standards: The Thomson Reuters Trust Principles.</td>\n",
       "      <td>70.430000</td>\n",
       "      <td>5434700</td>\n",
       "      <td>0.945970</td>\n",
       "      <td>-1.405972</td>\n",
       "      <td>U.S. lawmaker threaten United Airlines UAL.N carrier Tuesday legislation aim improve customer service passenger haul aisle flight month airline executive testify House Representatives transportation committee promise address customer service failure hearing hold consider way address passenger frustration problem overbooking industry breathe sigh relief hour hearing lawmaker outline immediate plan increase oversight largely deregulate sector April video go viral social medium 69-year old passenger David Dao drag United flight Chicago O’Hare International Airport refuse seat room crew member United Chief Executive Oscar Munoz repeatedly apologize hearing removal Dao airline reach settlement week undisclosed sum moment customer company fail ceo end day Munoz say call removal result series system failure mistake epic proportion \"Munoz join hearing United President Scott Kirby executive American Airlines AAL.O Southwest Airlines LUV.N Alaska Airlines ALK.N. American Airlines experience public relation fiasco month passenger video go viral show woman plane tear hold child arm encounter flight attendant baby stroller clearly happen wrong say Kerry Philipovitch airline senior vice president customer experience hearing airline stock rise hearing Delta Air Lines Inc DAL.N report gain April traffic Tuesday United stock close 5.2 percent Delta gain 5.4 percent American add 4.3 percent Southwest 3.6 percent Slideshow 7 image analyst Jim Corridore CFRA Research say investor focus news Delta improved unit revenue relieve lawmaker outline plan immediate move tighten regulation lawmaker fly weekly Washington hearing take opportunity recount frustration customer routinely face include complicated booking system confuse fee long wait unexplained flight delay “We know terrible experience say Representative Michael Capuano Democrat Massachusetts throw arm air frustration charge fee baggage charge fee oxygen knows?”bill Shuster chairman House Representatives transportation committee say airline act go act go size fit seize opportunity go come go like ”after hearing Munoz say message change need loud clear “I think sense room admonition collective stuff Munoz tell reporter Capitol alternative face additional legislation think fair add response drag incident United change policy reduce overbooke flight offer passenger seat $ 10,000.airlines say routinely overbook flight small percentage passenger Delta Air Lines DAL.N decline testify statement airline say work individual member Congress customer service issue additional reporting Steve Holland Amanda Becker Washington writing Roberta Rampton Amanda Becker editing Richard Chang Lisa ShumakerOur Standards Thomson Reuters Trust Principles</td>\n",
       "      <td>0.9460</td>\n",
       "      <td>0.974854</td>\n",
       "      <td>5</td>\n",
       "      <td>0.189194</td>\n",
       "      <td>positive</td>\n",
       "      <td>0.0</td>\n",
       "      <td>0.000056</td>\n",
       "    </tr>\n",
       "    <tr>\n",
       "      <th>6</th>\n",
       "      <td>2017-05-04</td>\n",
       "      <td>United Air to face second congressional grilling at Senate hearing</td>\n",
       "      <td>- United Airlines will be back in the hot seat on Thursday when the U.S. Congress holds its second hearing this week to examine the circumstances surrounding the forced removal of a passenger from a Chicago flight last month.United President Scott Kirby was to join Chicago Department of Transportation Commissioner Ginger Evans at a U.S. Senate Commerce subcommittee hearing into the state of airline travel, following the high-profile dragging of a 69-year-old passenger from a United flight on April 9.Amid looming threats of increased oversight of the largely deregulated industry, United hopes to impress the panel that the U.S. sector can best regulate its own practices, including implementing enough customer service-minded changes to improve passenger satisfaction.Also slated to testify on Thursday are Sara Nelson, the international president of the Association of Flight Attendants-CWA, and Sharon Pinkerton, an official at the airline trade group Airlines for America.At a tense Tuesday hearing held by a U.S. House of Representatives committee, lawmakers threatened United and other carriers with legislation aimed at improving customer service.Top airline executives promised to address customer service failures at the hearing, held to consider ways to address passenger frustrations with problems such as overbooking.Despite lawmakers’ warnings, airlines on Tuesday breathed a sigh of relief that no immediate plans were outlined to tighten regulations on the industry.Last month, United faced international scorn when video circulated showing a paying passenger, David Dao, being dragged from his seat on United Flight 3411 at Chicago O’Hare International Airport to make room for airline employees.In initial statements, United Chief Executive Oscar Munoz stoked outrage for declining to apologize to Dao for his treatment at the hands of airport security.Munoz has since reversed course, apologizing repeatedly to United customers and to Dao, with whom United last week reached a settlement for an undisclosed sum.After Tuesday’s hearing, Munoz said the message that change was needed was loud and clear.“I think the sense in the room was one of an admonition to get your collective stuff together,” Munoz told reporters at the Capitol. The alternative was to face additional legislation, “which I think is fair,” he added.In response to the dragging incident, United has changed its policies by pledging to reduce the amount it overbooks its flights and offering passengers who voluntarily forfeit their seats on oversold flights up to $10,000.Reporting by David Shepardson; Editing by Jonathan OatisOur Standards: The Thomson Reuters Trust Principles.</td>\n",
       "      <td>74.559998</td>\n",
       "      <td>2886300</td>\n",
       "      <td>5.863976</td>\n",
       "      <td>-46.891273</td>\n",
       "      <td>United Airlines hot seat Thursday U.S. Congress hold second hearing week examine circumstance surround force removal passenger Chicago flight month United President Scott Kirby join Chicago Department Transportation Commissioner Ginger Evans U.S. Senate Commerce subcommittee hear state airline travel follow high profile dragging 69-year old passenger United flight April 9.amid loom threat increase oversight largely deregulate industry United hope impress panel U.S. sector best regulate practice include implement customer service minded change improve passenger satisfaction slate testify Thursday Sara Nelson international president Association Flight Attendants CWA Sharon Pinkerton official airline trade group Airlines America tense Tuesday hearing hold U.S. House Representatives committee lawmaker threaten United carrier legislation aim improve customer service airline executive promise address customer service failure hearing hold consider way address passenger frustration problem overbooking despite lawmaker warning airline Tuesday breathe sigh relief immediate plan outline tighten regulation industry month United face international scorn video circulate show pay passenger David Dao drag seat United Flight 3411 Chicago O’Hare International Airport room airline employee initial statement United Chief Executive Oscar Munoz stoke outrage decline apologize Dao treatment hand airport security Munoz reverse course apologize repeatedly United customer Dao United week reach settlement undisclosed sum Tuesday hearing Munoz say message change need loud clear “I think sense room admonition collective stuff Munoz tell reporter Capitol alternative face additional legislation think fair add response drag incident United change policy pledge reduce overbook flight offer passenger voluntarily forfeit seat oversold flight $ 10,000.reporting David Shepardson editing Jonathan OatisOur Standards Thomson Reuters Trust Principles</td>\n",
       "      <td>0.9921</td>\n",
       "      <td>1.000000</td>\n",
       "      <td>2</td>\n",
       "      <td>2.931988</td>\n",
       "      <td>positive</td>\n",
       "      <td>0.0</td>\n",
       "      <td>0.038566</td>\n",
       "    </tr>\n",
       "    <tr>\n",
       "      <th>7</th>\n",
       "      <td>2017-05-30</td>\n",
       "      <td>U.S. proposes fining United $435,000 over 2014 flights</td>\n",
       "      <td>- The U.S. Federal Aviation Administration on Tuesday proposed fining United Airlines UAL.N $435,000 for operating 23 flights in 2014 with a Boeing 787 that the government alleged was not in airworthy condition.The FAA alleged that in June 2014, United mechanics replaced a fuel pump pressure switch on the Boeing Co BA.N aircraft but failed to perform a required inspection before returning the aircraft to service. A United spokesman said, \"The safety of our customers and employees is our top priority. We immediately took action after identifying the issue and are working closely with the FAA in their review.\"Reporting by David Shepardson; Editing by Cynthia OstermanOur Standards: The Thomson Reuters Trust Principles.</td>\n",
       "      <td>80.900002</td>\n",
       "      <td>3428700</td>\n",
       "      <td>8.503224</td>\n",
       "      <td>18.792225</td>\n",
       "      <td>U.S. Federal Aviation Administration Tuesday propose fine United Airlines UAL.N $ 435,000 operate 23 flight 2014 Boeing 787 government allege airworthy condition FAA allege June 2014 United mechanic replace fuel pump pressure switch Boeing Co ba.n aircraft fail perform required inspection return aircraft service United spokesman say safety customer employee priority immediately take action identify issue work closely FAA review \"reporting David Shepardson editing Cynthia OstermanOur Standards Thomson Reuters Trust Principles</td>\n",
       "      <td>0.8625</td>\n",
       "      <td>0.000024</td>\n",
       "      <td>26</td>\n",
       "      <td>0.327047</td>\n",
       "      <td>positive</td>\n",
       "      <td>1.0</td>\n",
       "      <td>0.555865</td>\n",
       "    </tr>\n",
       "  </tbody>\n",
       "</table>\n",
       "</div>"
      ],
      "text/plain": [
       "        Date  ... sentiment_prob\n",
       "0 2017-03-07  ...  0.693922     \n",
       "1 2017-04-07  ...  0.000996     \n",
       "2 2017-04-11  ...  0.016666     \n",
       "3 2017-04-17  ...  0.100628     \n",
       "4 2017-04-27  ...  0.003092     \n",
       "5 2017-05-02  ...  0.000056     \n",
       "6 2017-05-04  ...  0.038566     \n",
       "7 2017-05-30  ...  0.555865     \n",
       "\n",
       "[8 rows x 15 columns]"
      ]
     },
     "execution_count": 93,
     "metadata": {
      "tags": []
     },
     "output_type": "execute_result"
    }
   ],
   "source": [
    "df['sentiment'] = sentiment\n",
    "df['sentiment_prob'] = sentiment_prob\n",
    "df"
   ]
  },
  {
   "cell_type": "markdown",
   "metadata": {
    "id": "GbQfcoedDgWy"
   },
   "source": []
  },
  {
   "cell_type": "markdown",
   "metadata": {
    "id": "9b3FGYquGJt2"
   },
   "source": [
    "# START OF DEEP LEARNING"
   ]
  },
  {
   "cell_type": "code",
   "execution_count": 16,
   "metadata": {
    "colab": {
     "base_uri": "https://localhost:8080/"
    },
    "id": "o2ysV6jADflZ",
    "outputId": "fd441ab2-67e6-4a5e-f367-18ee126f2a66"
   },
   "outputs": [
    {
     "name": "stderr",
     "output_type": "stream",
     "text": [
      "/usr/local/lib/python3.6/dist-packages/ipykernel_launcher.py:4: FutureWarning: Passing a negative integer is deprecated in version 1.0 and will not be supported in future version. Instead, use None to not limit the column width.\n",
      "  after removing the cwd from sys.path.\n"
     ]
    },
    {
     "name": "stdout",
     "output_type": "stream",
     "text": [
      "[nltk_data] Downloading package punkt to /root/nltk_data...\n",
      "[nltk_data]   Unzipping tokenizers/punkt.zip.\n"
     ]
    },
    {
     "data": {
      "text/plain": [
       "True"
      ]
     },
     "execution_count": 16,
     "metadata": {
      "tags": []
     },
     "output_type": "execute_result"
    }
   ],
   "source": [
    "import sklearn\n",
    "import numpy as np\n",
    "import pandas as pd\n",
    "pd.set_option('display.max_colwidth', -1)\n",
    "import sklearn\n",
    "import sklearn.ensemble\n",
    "from sklearn.metrics import accuracy_score, confusion_matrix\n",
    "import sklearn.metrics\n",
    "import tensorflow as tf\n",
    "from scipy.special import softmax\n",
    "import os\n",
    "import numpy as np\n",
    "import pandas as pd\n",
    "import json\n",
    "import torch\n",
    "import torch.nn as nn\n",
    "import nltk\n",
    "from tqdm import tqdm\n",
    "import spacy\n",
    "import torch\n",
    "import torchtext\n",
    "import torchtext.data\n",
    "import torch.nn as nn\n",
    "import torch.nn.functional as F\n",
    "from scipy.special import softmax\n",
    "from torchtext.vocab import Vocab\n",
    "from nltk.corpus import twitter_samples \n",
    "\n",
    "nlp = spacy.load('en')\n",
    "nltk.download('punkt')"
   ]
  },
  {
   "cell_type": "code",
   "execution_count": 17,
   "metadata": {
    "id": "rXcDVFHeDhg8"
   },
   "outputs": [],
   "source": [
    "device = torch.device(\"cuda\" if torch.cuda.is_available() else \"cpu\")\n",
    "torch.manual_seed(42)\n",
    "np.random.seed(42)\n",
    "torch.backends.cudnn.deterministic = True\n",
    "torch.backends.cudnn.benchmark = False"
   ]
  },
  {
   "cell_type": "code",
   "execution_count": 18,
   "metadata": {
    "id": "bRV7w-rvDhqP"
   },
   "outputs": [],
   "source": [
    "# %% ----------------------------------- Hyper Parameters --------------------------------------------------------------\n",
    "class Args:\n",
    "    def __init__(self):\n",
    "        self.seq_len = \"get_max_from_data\"\n",
    "        self.embedding_dim = 50\n",
    "        self.n_epochs = 10\n",
    "        self.lr = 1e-2\n",
    "        self.batch_size = 512\n",
    "        self.train = True\n",
    "        self.save_model = True\n",
    "\n",
    "\n",
    "args = Args()"
   ]
  },
  {
   "cell_type": "code",
   "execution_count": 63,
   "metadata": {
    "id": "jWnuKaQDDhyV"
   },
   "outputs": [],
   "source": [
    "# %% ----------------------------------- Helper Functions --------------------------------------------------------------\n",
    "def acc(x, y, return_labels=False):\n",
    "    with torch.no_grad():\n",
    "        logits = torch.empty(len(x), 2)\n",
    "        for batch in range(len(x) // args.batch_size + 1):\n",
    "            inds = slice(batch * args.batch_size, (batch + 1) * args.batch_size)\n",
    "            logits[inds] = model(x[inds])\n",
    "        pred_labels = np.argmax(logits.cpu().numpy(), axis=1)\n",
    "    if return_labels:\n",
    "        return pred_labels\n",
    "    else:\n",
    "        return 100*accuracy_score(y.cpu().numpy(), pred_labels)\n",
    "\n",
    "\n",
    "def extract_vocab_dict_and_msl(sentences_train, sentences_dev):\n",
    "    \"\"\" Tokenizes all the sentences and gets a dictionary of unique tokens and also the maximum sequence length \"\"\"\n",
    "    tokens, ms_len = [], 0\n",
    "    for sentence in list(sentences_train) + list(sentences_dev):\n",
    "        tokens_in_sentence = nltk.word_tokenize(sentence)\n",
    "        if ms_len < len(tokens_in_sentence):\n",
    "            ms_len = len(tokens_in_sentence)\n",
    "        tokens += tokens_in_sentence\n",
    "    token_vocab = {key: i for key, i in zip(set(tokens), range(1, len(set(tokens))+1))}\n",
    "    if len(np.unique(list(token_vocab.values()))) != len(token_vocab):\n",
    "        \"There are some rep words...\"\n",
    "    return token_vocab, ms_len\n",
    "\n",
    "\n",
    "def convert_to_ids(raw_sentences, vocab_dict, pad_to):\n",
    "    \"\"\" Takes an NumPy array of raw text sentences and converts to a sequence of token ids \"\"\"\n",
    "    x = np.empty((len(raw_sentences), pad_to))\n",
    "    for idx, sentence in enumerate(raw_sentences):\n",
    "        word_ids = []\n",
    "        for token in nltk.word_tokenize(sentence):\n",
    "\n",
    "            if token not in vocab_dict.keys():\n",
    "              continue \n",
    "            try:\n",
    "                word_ids.append(vocab_dict[token])\n",
    "            except:\n",
    "                word_ids.append(vocab_dict[token])\n",
    "        if pad_to < len(word_ids):\n",
    "            x[idx] = word_ids[:pad_to]\n",
    "        else:\n",
    "            x[idx] = word_ids + [0] * (pad_to - len(word_ids))\n",
    "    return x\n",
    "\n",
    "\n",
    "def get_glove_embeddings(vocab_dict):\n",
    "    with open(\"glove.6B.50d.txt\", \"r\") as s:\n",
    "        glove = s.read()\n",
    "    embeddings_dict = {}\n",
    "    for line in glove.split(\"\\n\")[:-1]:\n",
    "        text = line.split()\n",
    "        if text[0] in vocab_dict:\n",
    "            embeddings_dict[vocab_dict[text[0]]] = torch.from_numpy(np.array(text[1:], dtype=\"float32\"))\n",
    "    return embeddings_dict\n",
    "\n",
    "\n",
    "def get_glove_table(vocab_dict, glove_dict):\n",
    "    lookup_table = torch.empty((len(vocab_dict)+2, 50))\n",
    "    for token_id in sorted(vocab_dict.values()):\n",
    "        if token_id in glove_dict:\n",
    "            lookup_table[token_id] = glove_dict[token_id]\n",
    "        else:\n",
    "            lookup_table[token_id] = torch.zeros((1, 50))  # For unknown tokens\n",
    "    lookup_table[0] = torch.zeros((1, 50))\n",
    "    return lookup_table\n",
    "\n"
   ]
  },
  {
   "cell_type": "code",
   "execution_count": 20,
   "metadata": {
    "id": "wBpei6jODiHg"
   },
   "outputs": [],
   "source": [
    "data_train = pd.read_csv(\"original_data/train.tsv\", sep=\"\\t\")\n",
    "x_train_raw, y_train = data_train[\"sentence\"].values, torch.LongTensor(data_train[\"label\"].values).to(device)\n",
    "data_dev = pd.read_csv(\"original_data/dev.tsv\", sep=\"\\t\")\n",
    "x_dev_raw, y_dev = data_dev[\"sentence\"].values, torch.LongTensor(data_dev[\"label\"].values).to(device)\n"
   ]
  },
  {
   "cell_type": "code",
   "execution_count": 25,
   "metadata": {
    "colab": {
     "base_uri": "https://localhost:8080/"
    },
    "id": "J7cwegREDh1i",
    "outputId": "b9e9eed0-ea19-4bde-bf6f-cfea34eb8a1f"
   },
   "outputs": [
    {
     "name": "stdout",
     "output_type": "stream",
     "text": [
      "Converting all the sentences to sequences of token ids...\n"
     ]
    }
   ],
   "source": [
    "# %% -------------------------------------- Data Prep ------------------------------------------------------------------\n",
    "try:\n",
    "    with open(\"example_prep_data/vocab_dict.json\", \"r\") as s:\n",
    "        token_ids = json.load(s)\n",
    "    msl = np.load(\"example_prep_data/max_sequence_length.npy\").item()\n",
    "except:\n",
    "    print(\"Tokenizing all the examples to get a vocab dict and the maximum sequence length...\")\n",
    "    token_ids, msl = extract_vocab_dict_and_msl(x_train_raw, x_dev_raw)\n",
    "    os.mkdir(\"example_prep_data\")\n",
    "    with open(\"example_prep_data/vocab_dict.json\", \"w\") as s:\n",
    "        json.dump(token_ids, s)\n",
    "    np.save(\"example_prep_data/max_sequence_length.npy\", np.array([msl]))\n",
    "if args.seq_len == \"get_max_from_data\":\n",
    "    args.seq_len = msl\n",
    "\n",
    "glove_embeddings = get_glove_embeddings(token_ids)\n",
    "\n",
    "try:\n",
    "    x_train = np.load(\"example_prep_data/prep_train_len{}.npy\".format(args.seq_len))\n",
    "    x_dev = np.load(\"example_prep_data/prep_dev_len{}.npy\".format(args.seq_len))\n",
    "except:\n",
    "    print(\"Converting all the sentences to sequences of token ids...\")\n",
    "    x_train = convert_to_ids(x_train_raw, token_ids, args.seq_len)\n",
    "    np.save(\"example_prep_data/prep_train_len{}.npy\".format(args.seq_len), x_train)\n",
    "    x_dev = convert_to_ids(x_dev_raw, token_ids, args.seq_len)\n",
    "    np.save(\"example_prep_data/prep_dev_len{}.npy\".format(args.seq_len), x_dev)\n",
    "\n",
    "\n"
   ]
  },
  {
   "cell_type": "code",
   "execution_count": 26,
   "metadata": {
    "id": "PjMGiikrDhul"
   },
   "outputs": [],
   "source": [
    "x_train, x_dev = torch.LongTensor(x_train).to(device), torch.LongTensor(x_dev).to(device)"
   ]
  },
  {
   "cell_type": "code",
   "execution_count": 27,
   "metadata": {
    "id": "3Zk6bwAlGmI_"
   },
   "outputs": [],
   "source": [
    "# %% -------------------------------------- CNN Class ------------------------------------------------------------------\n",
    "class CNN(nn.Module):\n",
    "    def __init__(self, vocab_size):\n",
    "        super(CNN, self).__init__()\n",
    "\n",
    "        self.embedding = nn.Embedding(vocab_size + 2, args.embedding_dim)\n",
    "\n",
    "        self.conv1 = nn.Conv1d(args.embedding_dim, args.embedding_dim, 9)\n",
    "        self.convnorm1 = nn.BatchNorm1d(args.embedding_dim)\n",
    "        self.pool1 = nn.MaxPool1d(2)\n",
    "\n",
    "        self.conv2 = nn.Conv1d(args.embedding_dim, args.embedding_dim, 9)\n",
    "        self.convnorm2 = nn.BatchNorm1d(args.embedding_dim)\n",
    "        self.pool2 = nn.MaxPool1d(2)\n",
    "\n",
    "        self.conv3 = nn.Conv1d(args.embedding_dim, args.embedding_dim, 7)\n",
    "        self.linear = nn.Linear(args.embedding_dim, 2)\n",
    "        self.act = torch.relu\n",
    "\n",
    "    def forward(self, x):\n",
    "        # nn.Conv1d operates on the columns, each embedding dimension is considered as one channel\n",
    "        x = self.embedding(x).permute(0, 2, 1)\n",
    "        x = self.pool1(self.convnorm1(self.act(self.conv1(x))))\n",
    "        x = self.pool2(self.convnorm2(self.act(self.conv2(x))))\n",
    "        return self.linear(self.act(self.conv3(x)).reshape(-1, args.embedding_dim))\n",
    "\n"
   ]
  },
  {
   "cell_type": "code",
   "execution_count": 28,
   "metadata": {
    "id": "ckx9tsZyDhkp"
   },
   "outputs": [],
   "source": [
    "# %% -------------------------------------- Training Prep ----------------------------------------------------------\n",
    "model = CNN(len(token_ids)).to(device)\n",
    "look_up_table = get_glove_table(token_ids, glove_embeddings)\n",
    "model.embedding.weight.data.copy_(look_up_table)\n",
    "optimizer = torch.optim.Adam(model.parameters(), lr=args.lr)\n",
    "criterion = nn.CrossEntropyLoss()"
   ]
  },
  {
   "cell_type": "code",
   "execution_count": 29,
   "metadata": {
    "colab": {
     "base_uri": "https://localhost:8080/"
    },
    "id": "Wb0tiRRYDg9r",
    "outputId": "524770ed-7344-4355-ef94-0789ec51cd17"
   },
   "outputs": [
    {
     "name": "stderr",
     "output_type": "stream",
     "text": [
      "\r",
      "Epoch 0:   0%|          | 0/132 [00:00<?, ?it/s]"
     ]
    },
    {
     "name": "stdout",
     "output_type": "stream",
     "text": [
      "The no information rate is 50.92\n",
      "Starting training loop...\n"
     ]
    },
    {
     "name": "stderr",
     "output_type": "stream",
     "text": [
      "Epoch 0: 100%|██████████| 132/132 [00:36<00:00,  3.62it/s, Training Loss: 0.33875]\n",
      "Epoch 1:   0%|          | 0/132 [00:00<?, ?it/s]"
     ]
    },
    {
     "name": "stdout",
     "output_type": "stream",
     "text": [
      "Epoch 0 | Train Loss 0.33875, Train Acc 94.27 - Test Loss 0.50666, Test Acc 80.50\n",
      "The model has been saved!\n"
     ]
    },
    {
     "name": "stderr",
     "output_type": "stream",
     "text": [
      "Epoch 1: 100%|██████████| 132/132 [00:35<00:00,  3.70it/s, Training Loss: 0.15877]\n",
      "Epoch 2:   0%|          | 0/132 [00:00<?, ?it/s]"
     ]
    },
    {
     "name": "stdout",
     "output_type": "stream",
     "text": [
      "Epoch 1 | Train Loss 0.15877, Train Acc 96.69 - Test Loss 0.49628, Test Acc 81.19\n",
      "The model has been saved!\n"
     ]
    },
    {
     "name": "stderr",
     "output_type": "stream",
     "text": [
      "Epoch 2: 100%|██████████| 132/132 [00:35<00:00,  3.69it/s, Training Loss: 0.10506]\n",
      "Epoch 3:   0%|          | 0/132 [00:00<?, ?it/s]"
     ]
    },
    {
     "name": "stdout",
     "output_type": "stream",
     "text": [
      "Epoch 2 | Train Loss 0.10506, Train Acc 95.98 - Test Loss 0.73045, Test Acc 78.67\n"
     ]
    },
    {
     "name": "stderr",
     "output_type": "stream",
     "text": [
      "Epoch 3: 100%|██████████| 132/132 [00:35<00:00,  3.68it/s, Training Loss: 0.08032]\n",
      "Epoch 4:   0%|          | 0/132 [00:00<?, ?it/s]"
     ]
    },
    {
     "name": "stdout",
     "output_type": "stream",
     "text": [
      "Epoch 3 | Train Loss 0.08032, Train Acc 98.09 - Test Loss 0.75347, Test Acc 80.16\n"
     ]
    },
    {
     "name": "stderr",
     "output_type": "stream",
     "text": [
      "Epoch 4: 100%|██████████| 132/132 [00:35<00:00,  3.69it/s, Training Loss: 0.06272]\n",
      "Epoch 5:   0%|          | 0/132 [00:00<?, ?it/s]"
     ]
    },
    {
     "name": "stdout",
     "output_type": "stream",
     "text": [
      "Epoch 4 | Train Loss 0.06272, Train Acc 97.75 - Test Loss 1.04857, Test Acc 79.36\n"
     ]
    },
    {
     "name": "stderr",
     "output_type": "stream",
     "text": [
      "Epoch 5: 100%|██████████| 132/132 [00:35<00:00,  3.69it/s, Training Loss: 0.05114]\n",
      "Epoch 6:   0%|          | 0/132 [00:00<?, ?it/s]"
     ]
    },
    {
     "name": "stdout",
     "output_type": "stream",
     "text": [
      "Epoch 5 | Train Loss 0.05114, Train Acc 97.23 - Test Loss 1.17059, Test Acc 78.56\n"
     ]
    },
    {
     "name": "stderr",
     "output_type": "stream",
     "text": [
      "Epoch 6: 100%|██████████| 132/132 [00:35<00:00,  3.70it/s, Training Loss: 0.04183]\n",
      "Epoch 7:   0%|          | 0/132 [00:00<?, ?it/s]"
     ]
    },
    {
     "name": "stdout",
     "output_type": "stream",
     "text": [
      "Epoch 6 | Train Loss 0.04183, Train Acc 97.97 - Test Loss 1.50301, Test Acc 78.33\n"
     ]
    },
    {
     "name": "stderr",
     "output_type": "stream",
     "text": [
      "Epoch 7: 100%|██████████| 132/132 [00:35<00:00,  3.70it/s, Training Loss: 0.03735]\n",
      "Epoch 8:   0%|          | 0/132 [00:00<?, ?it/s]"
     ]
    },
    {
     "name": "stdout",
     "output_type": "stream",
     "text": [
      "Epoch 7 | Train Loss 0.03735, Train Acc 99.05 - Test Loss 0.88590, Test Acc 80.05\n"
     ]
    },
    {
     "name": "stderr",
     "output_type": "stream",
     "text": [
      "Epoch 8: 100%|██████████| 132/132 [00:35<00:00,  3.71it/s, Training Loss: 0.03333]\n",
      "Epoch 9:   0%|          | 0/132 [00:00<?, ?it/s]"
     ]
    },
    {
     "name": "stdout",
     "output_type": "stream",
     "text": [
      "Epoch 8 | Train Loss 0.03333, Train Acc 98.72 - Test Loss 1.04044, Test Acc 80.85\n"
     ]
    },
    {
     "name": "stderr",
     "output_type": "stream",
     "text": [
      "Epoch 9: 100%|██████████| 132/132 [00:35<00:00,  3.73it/s, Training Loss: 0.02484]\n"
     ]
    },
    {
     "name": "stdout",
     "output_type": "stream",
     "text": [
      "Epoch 9 | Train Loss 0.02484, Train Acc 99.44 - Test Loss 0.97284, Test Acc 80.62\n"
     ]
    }
   ],
   "source": [
    "# %% -------------------------------------- Training Loop ----------------------------------------------------------\n",
    "labels_ditrib = torch.unique(y_dev, return_counts=True)\n",
    "print(\"The no information rate is {:.2f}\".format(100*labels_ditrib[1].max().item()/len(y_dev)))\n",
    "if args.train:\n",
    "    acc_dev_best = 0\n",
    "    print(\"Starting training loop...\")\n",
    "    for epoch in range(args.n_epochs):\n",
    "\n",
    "        loss_train, train_steps = 0, 0\n",
    "        model.train()\n",
    "        total = len(x_train) // args.batch_size + 1  # Initiates a progress bar that will be updated for each batch\n",
    "        with tqdm(total=total, desc=\"Epoch {}\".format(epoch)) as pbar:  # \"Epoch\" will be updated for each epoch\n",
    "            for batch in range(len(x_train)//args.batch_size + 1):\n",
    "                inds = slice(batch*args.batch_size, (batch+1)*args.batch_size)\n",
    "                optimizer.zero_grad()\n",
    "                logits = model(x_train[inds])\n",
    "                loss = criterion(logits, y_train[inds])\n",
    "                loss.backward()\n",
    "                optimizer.step()\n",
    "                loss_train += loss.item()\n",
    "                train_steps += 1\n",
    "                pbar.update(1)  # Updates the progress and the training loss\n",
    "                pbar.set_postfix_str(\"Training Loss: {:.5f}\".format(loss_train / train_steps))\n",
    "\n",
    "        model.eval()\n",
    "        with torch.no_grad():\n",
    "            y_dev_pred = model(x_dev)\n",
    "            loss = criterion(y_dev_pred, y_dev)\n",
    "            loss_test = loss.item()\n",
    "\n",
    "        acc_dev = acc(x_dev, y_dev)\n",
    "        print(\"Epoch {} | Train Loss {:.5f}, Train Acc {:.2f} - Test Loss {:.5f}, Test Acc {:.2f}\".format(\n",
    "            epoch, loss_train/train_steps, acc(x_train, y_train), loss_test, acc_dev))\n",
    "\n",
    "        if acc_dev > acc_dev_best and args.save_model:\n",
    "            torch.save(model.state_dict(), \"cnn_sentiment.pt\")\n",
    "            print(\"The model has been saved!\")\n",
    "            acc_dev_best = acc_dev"
   ]
  },
  {
   "cell_type": "markdown",
   "metadata": {
    "id": "ELo3KTaYGuZl"
   },
   "source": [
    "# Test of Deep Learning"
   ]
  },
  {
   "cell_type": "code",
   "execution_count": 30,
   "metadata": {
    "colab": {
     "base_uri": "https://localhost:8080/"
    },
    "id": "mnKEMV0PGrqx",
    "outputId": "47824624-79a9-44c3-b839-53d73c4a0e14"
   },
   "outputs": [
    {
     "name": "stdout",
     "output_type": "stream",
     "text": [
      "[1.0000000e+00 2.5123225e-07] tensor(0)\n",
      "[1.000000e+00 7.204974e-11] tensor(0)\n",
      "[6.590116e-14 1.000000e+00] tensor(1)\n",
      "[9.9999809e-01 1.7947648e-06] tensor(0)\n",
      "[1.000000e+00 2.441419e-07] tensor(0)\n",
      "[9.9998617e-01 1.3672282e-05] tensor(0)\n",
      "[5.602653e-07 9.999995e-01] tensor(1)\n",
      "[1.0325499e-05 9.9998951e-01] tensor(1)\n",
      "[1.00000e+00 3.12389e-17] tensor(0)\n",
      "[1.8741416e-08 1.0000000e+00] tensor(1)\n"
     ]
    }
   ],
   "source": [
    "x = None\n",
    "for i in range(10):\n",
    "    test = convert_to_ids([x_train_raw[i]], token_ids, args.seq_len)\n",
    "    test = torch.LongTensor(test).to(device)\n",
    "    pred = model(test).cpu().detach().numpy()[0]\n",
    "    x = softmax(pred)\n",
    "    print(softmax(pred),y_train[i])"
   ]
  },
  {
   "cell_type": "code",
   "execution_count": 31,
   "metadata": {
    "colab": {
     "base_uri": "https://localhost:8080/",
     "height": 1000
    },
    "id": "AF33DHgpjQnZ",
    "outputId": "8af071f6-4511-4884-a604-b8ed86db501a"
   },
   "outputs": [
    {
     "data": {
      "text/html": [
       "<div>\n",
       "<style scoped>\n",
       "    .dataframe tbody tr th:only-of-type {\n",
       "        vertical-align: middle;\n",
       "    }\n",
       "\n",
       "    .dataframe tbody tr th {\n",
       "        vertical-align: top;\n",
       "    }\n",
       "\n",
       "    .dataframe thead th {\n",
       "        text-align: right;\n",
       "    }\n",
       "</style>\n",
       "<table border=\"1\" class=\"dataframe\">\n",
       "  <thead>\n",
       "    <tr style=\"text-align: right;\">\n",
       "      <th></th>\n",
       "      <th>Date</th>\n",
       "      <th>Header</th>\n",
       "      <th>Text</th>\n",
       "      <th>Open</th>\n",
       "      <th>Volume</th>\n",
       "      <th>% Change in Stock Price</th>\n",
       "      <th>% Change in Volume</th>\n",
       "      <th>Text (clean)</th>\n",
       "      <th>Vader Sentiment Score</th>\n",
       "    </tr>\n",
       "  </thead>\n",
       "  <tbody>\n",
       "    <tr>\n",
       "      <th>0</th>\n",
       "      <td>2017-03-07</td>\n",
       "      <td>United looking at second-hand aircraft, rules out A380</td>\n",
       "      <td>- United Continental Holdings UAKL.N is interested in buying second-hand aircraft as they are released to the market when leases expire, Chief Finance Director Andrew Levy said on Tuesday.Speaking at the ISTAT Americas air finance conference, he also ruled out United, which recently retired its Boeing 747 jumbo jets, buying any more aircraft in that category for the world’s largest four-engined jets.United, the largest U.S. carrier by traffic, has been tipped in the past as a potential buyer for the Airbus A380 superjumbo.Reporting by Tim Hepher; Editing by Alison WilliamsOur Standards: The Thomson Reuters Trust Principles.</td>\n",
       "      <td>72.690002</td>\n",
       "      <td>3764000</td>\n",
       "      <td>NaN</td>\n",
       "      <td>NaN</td>\n",
       "      <td>United Continental Holdings UAKL.N interested buy second hand aircraft release market lease expire Chief Finance Director Andrew Levy say Tuesday speak ISTAT Americas air finance conference rule United recently retire Boeing 747 jumbo jet buy aircraft category world large engine jet United large U.S. carrier traffic tip past potential buyer Airbus A380 superjumbo report Tim Hepher editing Alison WilliamsOur Standards Thomson Reuters Trust Principles</td>\n",
       "      <td>0.9485</td>\n",
       "    </tr>\n",
       "    <tr>\n",
       "      <th>1</th>\n",
       "      <td>2017-04-07</td>\n",
       "      <td>UAL pilots attack U.S. Airways merger prospect</td>\n",
       "      <td>- United Airlines' pilots union lashed out against efforts to merge the airline with US Airways Group LCC.N, underscoring the challenges facing decade-old attempts to unite the carriers.Passengers wait to check-in at the U.S. Airways ticket counter at Phoenix International Airport in Phoenix, April 8, 2010. REUTERS/Joshua Lott\\nTough antitrust enforcement could also pose another stumbling block to a merger, which would form the world's second-largest airline after Delta Air Lines DAL.N, industry experts said.But the possibility of consolidation in the industry spurred airline shares higher on Thursday, although US Airways and United parent UAL Corp UAUA.O would not confirm the discussions that sources said were advancing.Chicago-based United, the No. 3 U.S. airline, has a $3.39 billion market value, based on Thursday’s close. Tempe, Arizona-based US Airways, the No. 6 U.S. airline, ended the day with a $1.22 billion market capitalization.Sources with knowledge of the situation told Reuters the negotiations began more than a month ago, although much of the groundwork was laid in 2008 when the two held similar talks.The sources said the parties are currently focused on general themes, and issues like deal structure and management will be discussed in coming weeks.The parties were said to be mindful of hurdles to a successful merger, including competition concerns and serious labor questions at both carriers involving pilots.“Everybody is aware of the problems,” said one source.United’s pilots said Thursday they were vehemently opposed to a merger, while US Airways’ pilots said they were open to a merger and wanted to be part of the discussions.United’s flight attendants said they would not support a deal that would “distract from contract negotiations.”Goldman Sachs GS.N and JPMorgan Chase &amp; Co JPM.N are advising United, several people familiar with the matter said. Citigroup Inc C.N is advising US Airways, the sources said.All three banks declined to comment.UAL shares closed up 6.8 percent at $20.23 on Nasdaq. US Airways shares gained 10.7 percent to finish at $7.55 on the New York Stock Exchange.CHANGING LANDSCAPEUS Airways and UAL have courted for a decade -- interrupted only by their turns in bankruptcy between 2002 and 2005.Slideshow ( 3 images )An offer in 2000 by United to buy US Airways crumbled in 2001 over fears the U.S. government would block the deal.Talks revived in 2008 but fizzled amid the recession.Aviation experts generally agree that consolidation would help the airline industry, and a merger with US Airways would help United. But some said a deal with Continental Airlines CAL.N would be best for United.United and Continental held merger talks in 2008 and later opted for an alliance, which has been successful.Airlines are recovering from a painful downturn that forced massive downsizing in the last two years. A merger could accelerate fleet reductions, helping improve balance sheets.Philip Baggaley of rating agency Standard &amp; Poor’s said a merger with US Airways would improve United’s route network but could lead to higher labor costs. The combined company would probably emerge with heavy debt, he said.“Clearly these potential talks are a massive positive for US Airways and United, but I think it speaks volumes to the changing landscape in the airline industry,” said Morningstar Equity analyst Basili Alukos.He said a potential major airline merger, combined with the capacity cuts of 2008 and 2009 hint that the industry “could be en route to earning its cost of capital.”“History is not on the side of the airlines, but maybe the horrible losses encountered recently have scared newcomers enough to reconsider starting an airline,” Alukos said.The chief executives at both companies, Doug Parker at US Airways and Glenn Tilton at United, were, and continue to be, vocal proponents of further consolidation in an industry that has long suffered from competitive pressures and overcapacity.The last merger of two major U.S. airlines was between Delta Air Lines DAL.N and Northwest Airlines, which concluded in 2008 and analysts consider successful.LABOR ISSUESAlukos and other experts said the biggest challenge would be integrating unionized employees.US Airways, formed in 2005 from a merger with America West Airlines, still has two pilot unions.Airline labor groups - especially pilots - are notoriously hard to merge because pay and work rules are closely tied to seniority. A pilot could easily lose seniority in a merger and end up flying less desirable routes and planes.James Ray, spokesman for the US Airline Pilots Association (USAPA), which represents pilots at US Airways said the union is open to a merger, but wants to be part of the discussions.“Our union president has talked to Doug Parker and said we are open-minded and look forward to being an active partner with U.S. airways should they pursue a merger with anyone,” Ray said.The Air Line Pilots Association (ALPA), which represents pilots at United, said it was vehemently opposed to a merger with US Airways, that would benefit neither the airline nor its pilots.“United CEO Glenn Tilton is well aware of our position regarding mergers and US Airways,” said a statement by union official Capt. Wendy Morse.Bill Swelbar, an airline researcher at MIT, said union troubles could be a fatal impediment.“It is my opinion that the labor issues will significantly undermine the synergies. I’m just not convinced there is an attraction. There is nothing about this that has me going ‘this just seems like a great deal’,” Swelbar said.Delta and Northwest worked out their labor issues before announcing their deal.ANTITRUSTProspects of a US Airways-United marriage have for years raised questions about market concentration in the eastern portion of the United States, particularly at airports in the Washington D.C. area.Any proposal would have to satisfy Justice Department antitrust officials under the Obama administration.The Delta-Northwest merger was approved by the Bush administration, which was considered more business friendly.“Now you’ve got a more aggressive enforcement regime. It seems to me the antitrust hurdles are no lower than they were in 2001 and maybe higher,” said John Briggs, an antitrust expert with Axinn Veltrop Harkrider LLP.US Airways is trying to beef up its already strong presence at Washington’s Reagan National airport and held 11 percent of the regional Washington market overall in 2009. United is big at Dulles airport in Virginia and commanded 22 percent of Washington air travel last year, according to government data.US Airways biggest hub is Charlotte, North Carolina, followed by Phoenix and Philadelphia. United spreads the rest of its operations at Chicago, Denver, San Francisco and Los Angeles.“There are still some significant overlaps between United and US Airways, and I think the government would take a close look at that. I’m not necessarily saying to block it, but to decide what may need to be taken away in certain markets,” said Edward Faberman, an aviation attorney with Wiley Rein LLP.Reporting by Kyle Peterson and John Crawley; Additional reporting by Karen Jacobs in Atlanta, Deepa Seetharaman and Jui Chakravorty in New York, and Diane Bartz in Washington; Editing by Derek Caney and Tim DobbynOur Standards: The Thomson Reuters Trust Principles.</td>\n",
       "      <td>69.970001</td>\n",
       "      <td>2471100</td>\n",
       "      <td>-3.741919</td>\n",
       "      <td>-34.349097</td>\n",
       "      <td>United Airlines pilot union lash effort merge airline Airways Group LCC.N underscore challenge face decade old attempt unite carrier passenger wait check U.S. Airways ticket counter Phoenix International Airport Phoenix April 8 2010 REUTERS Joshua Lott tough antitrust enforcement pose stumble block merger form world second large airline Delta Air Lines DAL.N industry expert say possibility consolidation industry spur airline share high Thursday Airways United parent UAL Corp UAUA.O confirm discussion source say advance Chicago base United 3 U.S. airline $ 3.39 billion market value base Thursday close Tempe Arizona base Airways 6 U.S. airline end day $ 1.22 billion market capitalization source knowledge situation tell Reuters negotiation begin month ago groundwork lay 2008 hold similar talk source say party currently focus general theme issue like deal structure management discuss come week party say mindful hurdle successful merger include competition concern labor question carrier involve pilot “Everybody aware problem say source United pilot say Thursday vehemently oppose merger Airways pilot say open merger want discussion United flight attendant say support deal distract contract negotiation ”Goldman Sachs gs.n JPMorgan Chase Co JPM.N advise United people familiar matter say Citigroup Inc C.N advise Airways source say bank decline comment UAL share close 6.8 percent $ 20.23 Nasdaq Airways share gain 10.7 percent finish $ 7.55 New York Stock Exchange CHANGING LANDSCAPEUS Airways UAL court decade interrupt turn bankruptcy 2002 2005.slideshow 3 image offer 2000 United buy Airways crumble 2001 fear U.S. government block deal talk revive 2008 fizzle amid recession aviation expert generally agree consolidation help airline industry merger Airways help United say deal Continental Airlines CAL.N good United United Continental hold merger talk 2008 later opt alliance successful airline recover painful downturn force massive downsizing year merger accelerate fleet reduction help improve balance sheet Philip Baggaley rating agency Standard Poor say merger Airways improve United route network lead high labor cost combine company probably emerge heavy debt say “clearly potential talk massive positive Airways United think speak volume change landscape airline industry say Morningstar Equity analyst Basili Alukos say potential major airline merger combine capacity cut 2008 2009 hint industry en route earn cost capital ”“history airline maybe horrible loss encounter recently scare newcomer reconsider start airline Alukos say chief executive company Doug Parker Airways Glenn Tilton United continue vocal proponent consolidation industry long suffer competitive pressure overcapacity merger major U.S. airline Delta Air Lines DAL.N Northwest Airlines conclude 2008 analyst consider successful labor issuesalukos expert say big challenge integrate unionized employee Airways form 2005 merger America West Airlines pilot union airline labor group especially pilot notoriously hard merge pay work rule closely tie seniority pilot easily lose seniority merger end fly desirable route plane James Ray spokesman Airline Pilots Association USAPA represent pilot Airways say union open merger want discussion “Our union president talk Doug Parker say open minded look forward active partner U.S. airway pursue merger Ray say Air Line Pilots Association ALPA represent pilot United say vehemently oppose merger Airways benefit airline pilot “United CEO Glenn Tilton aware position merger Airways say statement union official Capt Wendy Morse Bill Swelbar airline researcher MIT say union trouble fatal impediment “It opinion labor issue significantly undermine synergy convinced attraction go like great deal Swelbar say Delta Northwest work labor issue announce deal antitrustprospect Airways United marriage year raise question market concentration eastern portion United States particularly airport Washington D.C. area proposal satisfy Justice Department antitrust official Obama administration Delta Northwest merger approve Bush administration consider business friendly “Now get aggressive enforcement regime antitrust hurdle low 2001 maybe high say John Briggs antitrust expert Axinn Veltrop Harkrider LLP.US Airways try beef strong presence Washington Reagan National airport hold 11 percent regional Washington market overall 2009 United big Dulles airport Virginia command 22 percent Washington air travel year accord government datum Airways big hub Charlotte North Carolina follow Phoenix Philadelphia United spread rest operation Chicago Denver San Francisco Los Angeles “There significant overlap United Airways think government close look necessarily say block decide need take away certain market say Edward Faberman aviation attorney Wiley Rein llp.reporte Kyle Peterson John Crawley additional reporting Karen Jacobs Atlanta Deepa Seetharaman Jui Chakravorty New York Diane Bartz Washington editing Derek Caney Tim DobbynOur Standards Thomson Reuters Trust Principles</td>\n",
       "      <td>0.9981</td>\n",
       "    </tr>\n",
       "    <tr>\n",
       "      <th>2</th>\n",
       "      <td>2017-04-11</td>\n",
       "      <td>United Airlines faces mounting pressure over hospitalized passenger</td>\n",
       "      <td>- United Airlines UAL.N and its chief executive faced mounting pressure on Tuesday from a worldwide backlash over its treatment of a passenger who was dragged from his seat on a plane on Sunday to make room for four employees on the overbooked flight.Lawyers for the passenger, Dr. David Dao, issued a statement late on Tuesday confirming his identity and saying that he and his family were “focused only on Dr. Dao’s medical care and treatment” in a Chicago hospital.The U.S. Department of Transportation launched an inquiry into the incident, and New Jersey Governor Chris Christie called for new rules to curb the airline practice of overbooking flights.United CEO Oscar Munoz issued a statement on Tuesday apologizing to Dao without naming him. “I’m sorry. We will fix this,” Munoz said. “I deeply apologize to the customer forcibly removed and to all the customers aboard. No one should ever be mistreated this way.”On Monday, Munoz issued a memo to employees defending the company but not apologizing to the passenger.Munoz, a former railroad executive who took over the helm at United in 2015, had already been under pressure from activist investors to improve the airline’s performance, including its customer relations.Video showing Dao being yanked from his seat by airport security Sunday evening and dragged from United Airlines Flight 3411 at Chicago O’Hare International Airport went viral and sparked global outrage.A video screengrab shows passenger David Dao being dragged off a United Airlines flight at Chicago O’Hare International Airport in this video filmed by @JayseDavid April 9, 2017. Jayse D. Anspach via REUTERSAn online petition calling for Munoz to step down had nearly 22,000 signatures by early Tuesday evening.On Chinese social media, the incident attracted the attention of more than 480 million users on Weibo, China’s Twitter-like platform.United has about 20 percent of total U.S.-China airline traffic and has a partnership with Air China, the country’s third-largest airline, according to analysts. It flies to more Chinese cities than any other U.S. carrier. Last year, United added nonstop flights from San Francisco to Hangzhou, its fifth destination in mainland China.Dao, before being dragged off the parked plane, said repeatedly that he was being discriminated against because he was Chinese, according to Tyler Bridges, a fellow passenger on the flight from Chicago to Louisville, Kentucky.“He said, ‘I’m a doctor; I need to see patients,’” said Bridges, a civil engineer from Louisville who recorded much of the incident on his phone.Shares of United Continental closed down 1.1 percent at $70.71, after falling as much as 4.4 percent earlier. The company shed as much as about $1 billion in market value before ending the day with a loss of about $250 million. More than 16 million United shares changed hands, the most for any session in a year.The stock is down about 3 percent for the year.United is also suffering from broader worries among investors about U.S. airline performance.In the United States, social media outrage continued, with the incident trending on Twitter for the second consecutive day. Many users promoted hashtags #NewUnitedAirlinesMotto and #BoycottUnitedAirlines.This is the second time in less than a month that United has been caught in a social media storm. In late March, a United gate agent’s decision to refuse to board two teenage girls wearing leggings provoked a viral backlash.Additional reporting by Ankit Ajmera in Bengaluru and Lewis Krauskopf, David Randall, Angela Moon, Rodrigo Campos and Gina Cherelus in New York, Timothy McLaughlin in Chicago, David Shepardson in Washington and Philip Wen in Beijing; Editing by Lisa Von Ahn and Richard ChangOur Standards: The Thomson Reuters Trust Principles.</td>\n",
       "      <td>70.150002</td>\n",
       "      <td>17696500</td>\n",
       "      <td>0.257255</td>\n",
       "      <td>616.138562</td>\n",
       "      <td>United Airlines UAL.N chief executive face mount pressure Tuesday worldwide backlash treatment passenger drag seat plane Sunday room employee overbooke flight lawyer passenger Dr. David Dao issue statement late Tuesday confirm identity say family focused Dr. Dao medical care treatment Chicago hospital U.S. Department Transportation launch inquiry incident New Jersey Governor Chris Christie call new rule curb airline practice overbooke flight United CEO Oscar Munoz issue statement Tuesday apologize Dao name sorry fix Munoz say deeply apologize customer forcibly remove customer aboard mistreat way ”On Monday Munoz issue memo employee defend company apologize passenger Munoz railroad executive take helm United 2015 pressure activist investor improve airline performance include customer relation video show Dao yank seat airport security Sunday evening drag United Airlines Flight 3411 Chicago O’Hare International Airport go viral spark global outrage video screengrab show passenger David Dao drag United Airlines flight Chicago O’Hare International Airport video film @JayseDavid April 9 2017 Jayse D. Anspach REUTERSAn online petition call Munoz step nearly 22,000 signature early Tuesday evening chinese social medium incident attract attention 480 million user Weibo China Twitter like platform United 20 percent total U.S.-China airline traffic partnership Air China country large airline accord analyst fly chinese city U.S. carrier year United add nonstop flight San Francisco Hangzhou fifth destination mainland China Dao drag park plane say repeatedly discriminate chinese accord Tyler Bridges fellow passenger flight Chicago Louisville Kentucky “He say doctor need patient say Bridges civil engineer Louisville record incident phone share United Continental close 1.1 percent $ 70.71 fall 4.4 percent earlier company shed $ 1 billion market value end day loss $ 250 million 16 million United share change hand session year stock 3 percent year United suffer broad worry investor U.S. airline performance United States social medium outrage continue incident trend Twitter second consecutive day user promote hashtag NewUnitedAirlinesMotto boycottunitedairline second time month United catch social medium storm late March United gate agent decision refuse board teenage girl wear legging provoke viral backlash additional reporting Ankit Ajmera Bengaluru Lewis Krauskopf David Randall Angela Moon Rodrigo Campos Gina Cherelus New York Timothy McLaughlin Chicago David Shepardson Washington Philip Wen Beijing Editing Lisa Von Ahn Richard ChangOur Standards Thomson Reuters Trust Principles</td>\n",
       "      <td>0.9892</td>\n",
       "    </tr>\n",
       "    <tr>\n",
       "      <th>3</th>\n",
       "      <td>2017-04-17</td>\n",
       "      <td>United Air removes couple traveling to wedding from plane</td>\n",
       "      <td>- An engaged couple were removed from a United Airlines flight to Costa Rica on Saturday, as the airline remained under scrutiny following outrage caused by a video last week of a passenger being forcibly removed from a flight.United Airlines planes are seen on platform at the Newark Liberty International Airport in New Jersey, July 8, 2015. REUTERS/Eduardo MunozAccording to the couple, who said they were en route to get married, a federal marshal had escorted them from the plane before take-off from Houston, Texas, but United denied this on Sunday, saying in a statement that neither a marshal nor other authorities was involved.The couple “repeatedly attempted to sit in upgraded seating which they did not purchase and they would not follow crew instructions to return to their assigned seats,” United said in a statement, adding “They were asked to leave the plane by our staff and complied.”The statement from a United spokeswoman said the airline offered the couple a discounted hotel rate for the night, and rebooked them on a Sunday morning flight.MORE FROM REUTERS      Tweet Collection ID: 844235465955926017    A Collection on Twitter    But Michael Hohl and his fiancée, Amber Maxwell, told KHOU they tried to pay for upgraded seating and were denied, after finding another passenger sleeping across their seats when they were the last to board.After moving within the economy cabin a few rows up, flight crew denied their request to pay a supplement for the seats, which United sells as “economy plus”, and told them to move back to their original seats, Hohl said.“We thought not a big deal, it’s not like we are trying to jump up into a first-class seat,” Hohl told KHOU. “We were simply in an economy row a few rows above our economy seat.”The airline suffered a public relations disaster after a video emerged a week ago showing security officers dragging a bloodied passenger off an overbooked United Express flight in Chicago.Shares in United's owner, United Continental Holdings Inc UAL.N, were hammered, dropping 4 percent last week to close at $69 on Thursday, reducing the company's market cap by $770 million to $21.5 billion. Markets were closed on Friday.Dr. David Dao, the 69-year-old Vietnamese-American doctor who was seen in video being dragged off a United flight a week ago, will likely sue the airline, his attorney said on Thursday.After the incident triggered international outrage, United Chief Executive Oscar Munoz apologized to Dao, his family and its customers, saying the carrier would no longer use law enforcement officers to remove passengers from overbooked flights.Reporting by Jonathan Allen and Chris Michaud; Editing by Simon Cameron-MooreOur Standards: The Thomson Reuters Trust Principles.</td>\n",
       "      <td>69.510002</td>\n",
       "      <td>4761900</td>\n",
       "      <td>-0.912331</td>\n",
       "      <td>-73.091289</td>\n",
       "      <td>engaged couple remove United Airlines flight Costa Rica Saturday airline remain scrutiny follow outrage cause video week passenger forcibly remove flight United Airlines plane see platform Newark Liberty International Airport New Jersey July 8 2015 REUTERS Eduardo MunozAccording couple say en route marry federal marshal escort plane Houston Texas United deny Sunday say statement marshal authority involve couple repeatedly attempt sit upgrade seating purchase follow crew instruction return assign seat United say statement add ask leave plane staff comply ”the statement United spokeswoman say airline offer couple discount hotel rate night rebooke Sunday morning flight REUTERS Tweet Collection ID 844235465955926017 collection Twitter Michael Hohl fiancée Amber Maxwell tell KHOU try pay upgrade seating deny find passenger sleep seat board move economy cabin row flight crew deny request pay supplement seat United sell economy plus tell original seat Hohl say “We think big deal like try jump class seat Hohl tell KHOU simply economy row row economy seat ”the airline suffer public relation disaster video emerge week ago show security officer drag bloodied passenger overbooke United Express flight Chicago share United owner United Continental Holdings Inc UAL.N hammer drop 4 percent week close $ 69 Thursday reduce company market cap $ 770 million $ 21.5 billion market close Friday Dr David Dao 69-year old vietnamese american doctor see video drag United flight week ago likely sue airline attorney say Thursday incident trigger international outrage United Chief Executive Oscar Munoz apologize Dao family customer say carrier longer use law enforcement officer remove passenger overbooke flight report Jonathan Allen Chris Michaud editing Simon Cameron MooreOur Standards Thomson Reuters Trust Principles</td>\n",
       "      <td>0.9638</td>\n",
       "    </tr>\n",
       "    <tr>\n",
       "      <th>4</th>\n",
       "      <td>2017-04-27</td>\n",
       "      <td>United Airlines reaches settlement with passenger dragged from plane</td>\n",
       "      <td>- United Airlines UAL.N and the passenger who was dragged from a Chicago flight earlier this month have reached a settlement for an undisclosed sum, they said on Thursday, in the carrier's latest step to contain damage from an incident that sparked international outrage.Viral videos of Dr. David Dao being dragged down the aisle of a United jet and Chief Executive Oscar Munoz’s handling of the incident touched off a public outcry, prompted calls from congressmen for new industry regulation, and led United’s board of directors to reverse an agreement to make Munoz company chairman in 2018.United said earlier on Thursday that it would offer passengers who give up their seats up to $10,000, reduce overbooking of flights and no longer call on law enforcement officers to deny ticketed passengers their seats.Southwest Airlines also said on Thursday that it would end overbooking of flights.Dao, a 69-year-old Vietnamese-American doctor, was injured when Chicago aviation police removed him from his seat and then dragged him from the plane to make space for four crew members on the flight from O’Hare International Airport to Louisville, Kentucky.United has taken “full responsibility for what happened on Flight 3411, without attempting to blame others, including the City of Chicago,” Thomas Demetrio, an attorney for Dao, said in a statement.Demetrio said there was no need to proceed with separate litigation against the city. Republic Airways, United’s regional partner which operated the flight that Dao was on, has also been released from responsibility as part of the settlement, Demetrio’s office said.Chicago Mayor Rahm Emanuel’s office declined to comment on the settlement.The three Chicago Department of Aviation officers who pulled Dao off the plane and a supervisor involved in the incident remain on paid leave, said Chicago Department of Aviation spokesman Karen Pride, who declined to comment on the settlement.United said in a separate statement that it was pleased to reach “an amicable resolution of the unfortunate incident that occurred aboard flight 3411.”“We look forward to implementing the improvements we have announced, which will put our customers at the center of everything we do,” the airline said.Munoz stressed that point in a letter sent on Thursday to customers, saying the airline would increase its focus on their satisfaction.“We can never say we are sorry enough for what occurred, but we also know meaningful actions will speak louder than words,” he said.Separately, officials at 10 of the busiest U.S. airports said their rules prevent security officers from physically removing passengers from airplanes unless a crime is committed.Reporting by Timothy Mclaughlin in Chicago; Additional reporting by David Shepardson in Washington; Editing by Richard ChangOur Standards: The Thomson Reuters Trust Principles.</td>\n",
       "      <td>69.769997</td>\n",
       "      <td>5512200</td>\n",
       "      <td>0.374040</td>\n",
       "      <td>15.756316</td>\n",
       "      <td>United Airlines UAL.N passenger drag Chicago flight earlier month reach settlement undisclosed sum say Thursday carrier late step contain damage incident spark international outrage viral video Dr. David Dao drag aisle United jet Chief Executive Oscar Munoz handling incident touch public outcry prompt call congressman new industry regulation lead United board director reverse agreement Munoz company chairman 2018.United say earlier Thursday offer passenger seat $ 10,000 reduce overbooking flight longer law enforcement officer deny ticketed passenger seat Southwest Airlines say Thursday end overbooking flight Dao 69-year old vietnamese american doctor injure Chicago aviation police remove seat drag plane space crew member flight O’Hare International Airport Louisville Kentucky United take responsibility happen Flight 3411 attempt blame include City Chicago Thomas Demetrio attorney Dao say statement Demetrio say need proceed separate litigation city Republic Airways United regional partner operate flight Dao release responsibility settlement Demetrio office say Chicago Mayor Rahm Emanuel office decline comment settlement Chicago Department Aviation officer pull Dao plane supervisor involve incident remain pay leave say Chicago Department Aviation spokesman Karen Pride decline comment settlement United say separate statement pleased reach amicable resolution unfortunate incident occur aboard flight 3411.”“We look forward implement improvement announce customer center airline say Munoz stress point letter send Thursday customer say airline increase focus satisfaction “We sorry occur know meaningful action speak louder word say separately official 10 busy U.S. airport say rule prevent security officer physically remove passenger airplane crime commit reporting Timothy Mclaughlin Chicago additional reporting David Shepardson Washington editing Richard ChangOur Standards Thomson Reuters Trust Principles</td>\n",
       "      <td>0.9136</td>\n",
       "    </tr>\n",
       "    <tr>\n",
       "      <th>5</th>\n",
       "      <td>2017-05-02</td>\n",
       "      <td>U.S. lawmakers grill airline executives after customer disasters</td>\n",
       "      <td>- U.S. lawmakers threatened United Airlines UAL.N and other carriers on Tuesday with legislation aimed at improving customer service after a passenger was hauled down the aisle of a flight last month. Top airline executives testified to the House of Representatives transportation committee and promised to address customer service failures at the hearing held to consider ways to address passenger frustrations with problems such as overbooking.The industry breathed a sigh of relief after the four-hour hearing, in which lawmakers did not outline any immediate plans for increased oversight on the largely deregulated sector.In April, video went viral on social media of 69-year-old passenger David Dao being dragged from a United flight at Chicago’s O’Hare International Airport after he refused to give up his seat to make room for crew members.United Chief Executive Oscar Munoz repeatedly apologized at the hearing for the removal of Dao, with whom the airline reached a settlement last week for an undisclosed sum. \"In that moment for our customers and our company we failed, and so as CEO, at the end of the day, that is on me,\" Munoz said. He called the removal the result of a series of system failures and \"a mistake of epic proportions.\"Munoz was joined at the hearing by United President Scott Kirby and executives from American Airlines AAL.O, Southwest Airlines LUV.N and Alaska Airlines ALK.N. American Airlines experienced its own public relations fiasco last month when a passenger video went viral, showing a woman on a plane in tears holding a child in her arms and another at her side after an encounter with a flight attendant over a baby stroller. \"Clearly what happened was wrong,\" said Kerry Philipovitch, the airline's senior vice president of customer experience, at the hearing.Airline stocks rose after the hearing and Delta Air Lines Inc DAL.N reported a gain in April traffic.On Tuesday, United’s stock closed up 5.2 percent, Delta gained 5.4 percent, American added 4.3 percent, and Southwest was up 3.6 percent.Slideshow ( 7 images )Analyst Jim Corridore of CFRA Research said investors were focusing on news of Delta’s improved unit revenue and were also relieved that lawmakers did not outline plans for immediate moves to tighten regulations.Many lawmakers fly weekly to and from Washington and during the hearing took the opportunity to recount the frustrations customers routinely face, including complicated booking systems, confusing fees, long waits and unexplained flight delays.“We all know it’s a terrible experience,” said Representative Michael Capuano, a Democrat from Massachusetts, throwing his arms in the air in frustration. “Some charge fees for baggage, some charge fees for oxygen, who knows?”Bill Shuster, chairman of the House of Representatives’ transportation committee, said: “If airlines don’t get their act together, we are going to act; it is going to be one size fits all. Seize this opportunity because if you don’t, we’re going to come, and you’re not going to like it.”After the hearing, Munoz said the message that change was needed was loud and clear.“I think the sense in the room was one of an admonition to get your collective stuff together,” Munoz told reporters at the Capitol. The alternative is to face additional legislation, “which I think is fair,” he added.In response to the dragging incident, United has changed its policies by reducing overbooked flights and offering passengers who give up their seats up to $10,000.Airlines have said they routinely overbook flights because a small percentage of passengers do not show up.Delta Air Lines DAL.N declined to testify. In a statement, the airline said it was working with individual members of Congress on customer service issues.Additional reporting by Steve Holland and Amanda Becker in Washington; Writing by Roberta Rampton and Amanda Becker; Editing by Richard Chang and Lisa ShumakerOur Standards: The Thomson Reuters Trust Principles.</td>\n",
       "      <td>70.430000</td>\n",
       "      <td>5434700</td>\n",
       "      <td>0.945970</td>\n",
       "      <td>-1.405972</td>\n",
       "      <td>U.S. lawmaker threaten United Airlines UAL.N carrier Tuesday legislation aim improve customer service passenger haul aisle flight month airline executive testify House Representatives transportation committee promise address customer service failure hearing hold consider way address passenger frustration problem overbooking industry breathe sigh relief hour hearing lawmaker outline immediate plan increase oversight largely deregulate sector April video go viral social medium 69-year old passenger David Dao drag United flight Chicago O’Hare International Airport refuse seat room crew member United Chief Executive Oscar Munoz repeatedly apologize hearing removal Dao airline reach settlement week undisclosed sum moment customer company fail ceo end day Munoz say call removal result series system failure mistake epic proportion \"Munoz join hearing United President Scott Kirby executive American Airlines AAL.O Southwest Airlines LUV.N Alaska Airlines ALK.N. American Airlines experience public relation fiasco month passenger video go viral show woman plane tear hold child arm encounter flight attendant baby stroller clearly happen wrong say Kerry Philipovitch airline senior vice president customer experience hearing airline stock rise hearing Delta Air Lines Inc DAL.N report gain April traffic Tuesday United stock close 5.2 percent Delta gain 5.4 percent American add 4.3 percent Southwest 3.6 percent Slideshow 7 image analyst Jim Corridore CFRA Research say investor focus news Delta improved unit revenue relieve lawmaker outline plan immediate move tighten regulation lawmaker fly weekly Washington hearing take opportunity recount frustration customer routinely face include complicated booking system confuse fee long wait unexplained flight delay “We know terrible experience say Representative Michael Capuano Democrat Massachusetts throw arm air frustration charge fee baggage charge fee oxygen knows?”bill Shuster chairman House Representatives transportation committee say airline act go act go size fit seize opportunity go come go like ”after hearing Munoz say message change need loud clear “I think sense room admonition collective stuff Munoz tell reporter Capitol alternative face additional legislation think fair add response drag incident United change policy reduce overbooke flight offer passenger seat $ 10,000.airlines say routinely overbook flight small percentage passenger Delta Air Lines DAL.N decline testify statement airline say work individual member Congress customer service issue additional reporting Steve Holland Amanda Becker Washington writing Roberta Rampton Amanda Becker editing Richard Chang Lisa ShumakerOur Standards Thomson Reuters Trust Principles</td>\n",
       "      <td>0.9460</td>\n",
       "    </tr>\n",
       "    <tr>\n",
       "      <th>6</th>\n",
       "      <td>2017-05-04</td>\n",
       "      <td>United Air to face second congressional grilling at Senate hearing</td>\n",
       "      <td>- United Airlines will be back in the hot seat on Thursday when the U.S. Congress holds its second hearing this week to examine the circumstances surrounding the forced removal of a passenger from a Chicago flight last month.United President Scott Kirby was to join Chicago Department of Transportation Commissioner Ginger Evans at a U.S. Senate Commerce subcommittee hearing into the state of airline travel, following the high-profile dragging of a 69-year-old passenger from a United flight on April 9.Amid looming threats of increased oversight of the largely deregulated industry, United hopes to impress the panel that the U.S. sector can best regulate its own practices, including implementing enough customer service-minded changes to improve passenger satisfaction.Also slated to testify on Thursday are Sara Nelson, the international president of the Association of Flight Attendants-CWA, and Sharon Pinkerton, an official at the airline trade group Airlines for America.At a tense Tuesday hearing held by a U.S. House of Representatives committee, lawmakers threatened United and other carriers with legislation aimed at improving customer service.Top airline executives promised to address customer service failures at the hearing, held to consider ways to address passenger frustrations with problems such as overbooking.Despite lawmakers’ warnings, airlines on Tuesday breathed a sigh of relief that no immediate plans were outlined to tighten regulations on the industry.Last month, United faced international scorn when video circulated showing a paying passenger, David Dao, being dragged from his seat on United Flight 3411 at Chicago O’Hare International Airport to make room for airline employees.In initial statements, United Chief Executive Oscar Munoz stoked outrage for declining to apologize to Dao for his treatment at the hands of airport security.Munoz has since reversed course, apologizing repeatedly to United customers and to Dao, with whom United last week reached a settlement for an undisclosed sum.After Tuesday’s hearing, Munoz said the message that change was needed was loud and clear.“I think the sense in the room was one of an admonition to get your collective stuff together,” Munoz told reporters at the Capitol. The alternative was to face additional legislation, “which I think is fair,” he added.In response to the dragging incident, United has changed its policies by pledging to reduce the amount it overbooks its flights and offering passengers who voluntarily forfeit their seats on oversold flights up to $10,000.Reporting by David Shepardson; Editing by Jonathan OatisOur Standards: The Thomson Reuters Trust Principles.</td>\n",
       "      <td>74.559998</td>\n",
       "      <td>2886300</td>\n",
       "      <td>5.863976</td>\n",
       "      <td>-46.891273</td>\n",
       "      <td>United Airlines hot seat Thursday U.S. Congress hold second hearing week examine circumstance surround force removal passenger Chicago flight month United President Scott Kirby join Chicago Department Transportation Commissioner Ginger Evans U.S. Senate Commerce subcommittee hear state airline travel follow high profile dragging 69-year old passenger United flight April 9.amid loom threat increase oversight largely deregulate industry United hope impress panel U.S. sector best regulate practice include implement customer service minded change improve passenger satisfaction slate testify Thursday Sara Nelson international president Association Flight Attendants CWA Sharon Pinkerton official airline trade group Airlines America tense Tuesday hearing hold U.S. House Representatives committee lawmaker threaten United carrier legislation aim improve customer service airline executive promise address customer service failure hearing hold consider way address passenger frustration problem overbooking despite lawmaker warning airline Tuesday breathe sigh relief immediate plan outline tighten regulation industry month United face international scorn video circulate show pay passenger David Dao drag seat United Flight 3411 Chicago O’Hare International Airport room airline employee initial statement United Chief Executive Oscar Munoz stoke outrage decline apologize Dao treatment hand airport security Munoz reverse course apologize repeatedly United customer Dao United week reach settlement undisclosed sum Tuesday hearing Munoz say message change need loud clear “I think sense room admonition collective stuff Munoz tell reporter Capitol alternative face additional legislation think fair add response drag incident United change policy pledge reduce overbook flight offer passenger voluntarily forfeit seat oversold flight $ 10,000.reporting David Shepardson editing Jonathan OatisOur Standards Thomson Reuters Trust Principles</td>\n",
       "      <td>0.9921</td>\n",
       "    </tr>\n",
       "    <tr>\n",
       "      <th>7</th>\n",
       "      <td>2017-05-30</td>\n",
       "      <td>U.S. proposes fining United $435,000 over 2014 flights</td>\n",
       "      <td>- The U.S. Federal Aviation Administration on Tuesday proposed fining United Airlines UAL.N $435,000 for operating 23 flights in 2014 with a Boeing 787 that the government alleged was not in airworthy condition.The FAA alleged that in June 2014, United mechanics replaced a fuel pump pressure switch on the Boeing Co BA.N aircraft but failed to perform a required inspection before returning the aircraft to service. A United spokesman said, \"The safety of our customers and employees is our top priority. We immediately took action after identifying the issue and are working closely with the FAA in their review.\"Reporting by David Shepardson; Editing by Cynthia OstermanOur Standards: The Thomson Reuters Trust Principles.</td>\n",
       "      <td>80.900002</td>\n",
       "      <td>3428700</td>\n",
       "      <td>8.503224</td>\n",
       "      <td>18.792225</td>\n",
       "      <td>U.S. Federal Aviation Administration Tuesday propose fine United Airlines UAL.N $ 435,000 operate 23 flight 2014 Boeing 787 government allege airworthy condition FAA allege June 2014 United mechanic replace fuel pump pressure switch Boeing Co ba.n aircraft fail perform required inspection return aircraft service United spokesman say safety customer employee priority immediately take action identify issue work closely FAA review \"reporting David Shepardson editing Cynthia OstermanOur Standards Thomson Reuters Trust Principles</td>\n",
       "      <td>0.8625</td>\n",
       "    </tr>\n",
       "  </tbody>\n",
       "</table>\n",
       "</div>"
      ],
      "text/plain": [
       "        Date  ... Vader Sentiment Score\n",
       "0 2017-03-07  ...  0.9485              \n",
       "1 2017-04-07  ...  0.9981              \n",
       "2 2017-04-11  ...  0.9892              \n",
       "3 2017-04-17  ...  0.9638              \n",
       "4 2017-04-27  ...  0.9136              \n",
       "5 2017-05-02  ...  0.9460              \n",
       "6 2017-05-04  ...  0.9921              \n",
       "7 2017-05-30  ...  0.8625              \n",
       "\n",
       "[8 rows x 9 columns]"
      ]
     },
     "execution_count": 31,
     "metadata": {
      "tags": []
     },
     "output_type": "execute_result"
    }
   ],
   "source": [
    "df"
   ]
  },
  {
   "cell_type": "code",
   "execution_count": 69,
   "metadata": {
    "colab": {
     "base_uri": "https://localhost:8080/"
    },
    "id": "1Muy_HSGGr3U",
    "outputId": "ca1f9c3a-cd32-4742-e360-5fe5cd02b268"
   },
   "outputs": [
    {
     "name": "stdout",
     "output_type": "stream",
     "text": [
      "[-2.786009   2.6891813]\n",
      "[-0.02735396  0.07592878]\n",
      "[ 3.3044693 -0.590564 ]\n",
      "[-18.035051  12.57733 ]\n",
      "[-0.02735396  0.07592878]\n",
      "[-1.401726   2.2558806]\n",
      "[-24.036062  13.958266]\n",
      "[ 8.114444  -2.5411978]\n"
     ]
    }
   ],
   "source": [
    "\n",
    "x = None\n",
    "deep_learning_sentiment_prob = []\n",
    "\n",
    "for i in df.iloc[:,7]:\n",
    "\n",
    "\n",
    "  test = convert_to_ids([i.lower()], token_ids, args.seq_len)\n",
    "\n",
    "\n",
    "  test = torch.LongTensor(test).to(device)\n",
    "  pred = model(test).cpu().detach().numpy()[0]\n",
    "  print(pred)\n",
    "\n",
    "  x = softmax(pred)\n",
    "  deep_learning_sentiment_prob.append(x[1])"
   ]
  },
  {
   "cell_type": "code",
   "execution_count": 70,
   "metadata": {
    "colab": {
     "base_uri": "https://localhost:8080/"
    },
    "id": "XRtvQf-5kZ71",
    "outputId": "74c079fa-1286-4600-922f-2de2f079cd21"
   },
   "outputs": [
    {
     "data": {
      "text/plain": [
       "[0.99582803,\n",
       " 0.5257978,\n",
       " 0.019937122,\n",
       " 1.0,\n",
       " 0.5257978,\n",
       " 0.9748544,\n",
       " 1.0,\n",
       " 2.3566947e-05]"
      ]
     },
     "execution_count": 70,
     "metadata": {
      "tags": []
     },
     "output_type": "execute_result"
    }
   ],
   "source": [
    "deep_learning_sentiment_prob"
   ]
  },
  {
   "cell_type": "code",
   "execution_count": 71,
   "metadata": {
    "id": "kbxNQeb7GrfE"
   },
   "outputs": [],
   "source": [
    "df['deep_learning_sentiment_prob'] = deep_learning_sentiment_prob"
   ]
  },
  {
   "cell_type": "code",
   "execution_count": 72,
   "metadata": {
    "colab": {
     "base_uri": "https://localhost:8080/",
     "height": 1000
    },
    "id": "ZoACyOuNq3Zk",
    "outputId": "26f0ab52-9aa2-4083-b153-2a4465d1b9f5"
   },
   "outputs": [
    {
     "data": {
      "text/html": [
       "<div>\n",
       "<style scoped>\n",
       "    .dataframe tbody tr th:only-of-type {\n",
       "        vertical-align: middle;\n",
       "    }\n",
       "\n",
       "    .dataframe tbody tr th {\n",
       "        vertical-align: top;\n",
       "    }\n",
       "\n",
       "    .dataframe thead th {\n",
       "        text-align: right;\n",
       "    }\n",
       "</style>\n",
       "<table border=\"1\" class=\"dataframe\">\n",
       "  <thead>\n",
       "    <tr style=\"text-align: right;\">\n",
       "      <th></th>\n",
       "      <th>Date</th>\n",
       "      <th>Header</th>\n",
       "      <th>Text</th>\n",
       "      <th>Open</th>\n",
       "      <th>Volume</th>\n",
       "      <th>% Change in Stock Price</th>\n",
       "      <th>% Change in Volume</th>\n",
       "      <th>Text (clean)</th>\n",
       "      <th>Vader Sentiment Score</th>\n",
       "      <th>deep_learning_sentiment_prob</th>\n",
       "    </tr>\n",
       "  </thead>\n",
       "  <tbody>\n",
       "    <tr>\n",
       "      <th>0</th>\n",
       "      <td>2017-03-07</td>\n",
       "      <td>United looking at second-hand aircraft, rules out A380</td>\n",
       "      <td>- United Continental Holdings UAKL.N is interested in buying second-hand aircraft as they are released to the market when leases expire, Chief Finance Director Andrew Levy said on Tuesday.Speaking at the ISTAT Americas air finance conference, he also ruled out United, which recently retired its Boeing 747 jumbo jets, buying any more aircraft in that category for the world’s largest four-engined jets.United, the largest U.S. carrier by traffic, has been tipped in the past as a potential buyer for the Airbus A380 superjumbo.Reporting by Tim Hepher; Editing by Alison WilliamsOur Standards: The Thomson Reuters Trust Principles.</td>\n",
       "      <td>72.690002</td>\n",
       "      <td>3764000</td>\n",
       "      <td>NaN</td>\n",
       "      <td>NaN</td>\n",
       "      <td>United Continental Holdings UAKL.N interested buy second hand aircraft release market lease expire Chief Finance Director Andrew Levy say Tuesday speak ISTAT Americas air finance conference rule United recently retire Boeing 747 jumbo jet buy aircraft category world large engine jet United large U.S. carrier traffic tip past potential buyer Airbus A380 superjumbo report Tim Hepher editing Alison WilliamsOur Standards Thomson Reuters Trust Principles</td>\n",
       "      <td>0.9485</td>\n",
       "      <td>0.995828</td>\n",
       "    </tr>\n",
       "    <tr>\n",
       "      <th>1</th>\n",
       "      <td>2017-04-07</td>\n",
       "      <td>UAL pilots attack U.S. Airways merger prospect</td>\n",
       "      <td>- United Airlines' pilots union lashed out against efforts to merge the airline with US Airways Group LCC.N, underscoring the challenges facing decade-old attempts to unite the carriers.Passengers wait to check-in at the U.S. Airways ticket counter at Phoenix International Airport in Phoenix, April 8, 2010. REUTERS/Joshua Lott\\nTough antitrust enforcement could also pose another stumbling block to a merger, which would form the world's second-largest airline after Delta Air Lines DAL.N, industry experts said.But the possibility of consolidation in the industry spurred airline shares higher on Thursday, although US Airways and United parent UAL Corp UAUA.O would not confirm the discussions that sources said were advancing.Chicago-based United, the No. 3 U.S. airline, has a $3.39 billion market value, based on Thursday’s close. Tempe, Arizona-based US Airways, the No. 6 U.S. airline, ended the day with a $1.22 billion market capitalization.Sources with knowledge of the situation told Reuters the negotiations began more than a month ago, although much of the groundwork was laid in 2008 when the two held similar talks.The sources said the parties are currently focused on general themes, and issues like deal structure and management will be discussed in coming weeks.The parties were said to be mindful of hurdles to a successful merger, including competition concerns and serious labor questions at both carriers involving pilots.“Everybody is aware of the problems,” said one source.United’s pilots said Thursday they were vehemently opposed to a merger, while US Airways’ pilots said they were open to a merger and wanted to be part of the discussions.United’s flight attendants said they would not support a deal that would “distract from contract negotiations.”Goldman Sachs GS.N and JPMorgan Chase &amp; Co JPM.N are advising United, several people familiar with the matter said. Citigroup Inc C.N is advising US Airways, the sources said.All three banks declined to comment.UAL shares closed up 6.8 percent at $20.23 on Nasdaq. US Airways shares gained 10.7 percent to finish at $7.55 on the New York Stock Exchange.CHANGING LANDSCAPEUS Airways and UAL have courted for a decade -- interrupted only by their turns in bankruptcy between 2002 and 2005.Slideshow ( 3 images )An offer in 2000 by United to buy US Airways crumbled in 2001 over fears the U.S. government would block the deal.Talks revived in 2008 but fizzled amid the recession.Aviation experts generally agree that consolidation would help the airline industry, and a merger with US Airways would help United. But some said a deal with Continental Airlines CAL.N would be best for United.United and Continental held merger talks in 2008 and later opted for an alliance, which has been successful.Airlines are recovering from a painful downturn that forced massive downsizing in the last two years. A merger could accelerate fleet reductions, helping improve balance sheets.Philip Baggaley of rating agency Standard &amp; Poor’s said a merger with US Airways would improve United’s route network but could lead to higher labor costs. The combined company would probably emerge with heavy debt, he said.“Clearly these potential talks are a massive positive for US Airways and United, but I think it speaks volumes to the changing landscape in the airline industry,” said Morningstar Equity analyst Basili Alukos.He said a potential major airline merger, combined with the capacity cuts of 2008 and 2009 hint that the industry “could be en route to earning its cost of capital.”“History is not on the side of the airlines, but maybe the horrible losses encountered recently have scared newcomers enough to reconsider starting an airline,” Alukos said.The chief executives at both companies, Doug Parker at US Airways and Glenn Tilton at United, were, and continue to be, vocal proponents of further consolidation in an industry that has long suffered from competitive pressures and overcapacity.The last merger of two major U.S. airlines was between Delta Air Lines DAL.N and Northwest Airlines, which concluded in 2008 and analysts consider successful.LABOR ISSUESAlukos and other experts said the biggest challenge would be integrating unionized employees.US Airways, formed in 2005 from a merger with America West Airlines, still has two pilot unions.Airline labor groups - especially pilots - are notoriously hard to merge because pay and work rules are closely tied to seniority. A pilot could easily lose seniority in a merger and end up flying less desirable routes and planes.James Ray, spokesman for the US Airline Pilots Association (USAPA), which represents pilots at US Airways said the union is open to a merger, but wants to be part of the discussions.“Our union president has talked to Doug Parker and said we are open-minded and look forward to being an active partner with U.S. airways should they pursue a merger with anyone,” Ray said.The Air Line Pilots Association (ALPA), which represents pilots at United, said it was vehemently opposed to a merger with US Airways, that would benefit neither the airline nor its pilots.“United CEO Glenn Tilton is well aware of our position regarding mergers and US Airways,” said a statement by union official Capt. Wendy Morse.Bill Swelbar, an airline researcher at MIT, said union troubles could be a fatal impediment.“It is my opinion that the labor issues will significantly undermine the synergies. I’m just not convinced there is an attraction. There is nothing about this that has me going ‘this just seems like a great deal’,” Swelbar said.Delta and Northwest worked out their labor issues before announcing their deal.ANTITRUSTProspects of a US Airways-United marriage have for years raised questions about market concentration in the eastern portion of the United States, particularly at airports in the Washington D.C. area.Any proposal would have to satisfy Justice Department antitrust officials under the Obama administration.The Delta-Northwest merger was approved by the Bush administration, which was considered more business friendly.“Now you’ve got a more aggressive enforcement regime. It seems to me the antitrust hurdles are no lower than they were in 2001 and maybe higher,” said John Briggs, an antitrust expert with Axinn Veltrop Harkrider LLP.US Airways is trying to beef up its already strong presence at Washington’s Reagan National airport and held 11 percent of the regional Washington market overall in 2009. United is big at Dulles airport in Virginia and commanded 22 percent of Washington air travel last year, according to government data.US Airways biggest hub is Charlotte, North Carolina, followed by Phoenix and Philadelphia. United spreads the rest of its operations at Chicago, Denver, San Francisco and Los Angeles.“There are still some significant overlaps between United and US Airways, and I think the government would take a close look at that. I’m not necessarily saying to block it, but to decide what may need to be taken away in certain markets,” said Edward Faberman, an aviation attorney with Wiley Rein LLP.Reporting by Kyle Peterson and John Crawley; Additional reporting by Karen Jacobs in Atlanta, Deepa Seetharaman and Jui Chakravorty in New York, and Diane Bartz in Washington; Editing by Derek Caney and Tim DobbynOur Standards: The Thomson Reuters Trust Principles.</td>\n",
       "      <td>69.970001</td>\n",
       "      <td>2471100</td>\n",
       "      <td>-3.741919</td>\n",
       "      <td>-34.349097</td>\n",
       "      <td>United Airlines pilot union lash effort merge airline Airways Group LCC.N underscore challenge face decade old attempt unite carrier passenger wait check U.S. Airways ticket counter Phoenix International Airport Phoenix April 8 2010 REUTERS Joshua Lott tough antitrust enforcement pose stumble block merger form world second large airline Delta Air Lines DAL.N industry expert say possibility consolidation industry spur airline share high Thursday Airways United parent UAL Corp UAUA.O confirm discussion source say advance Chicago base United 3 U.S. airline $ 3.39 billion market value base Thursday close Tempe Arizona base Airways 6 U.S. airline end day $ 1.22 billion market capitalization source knowledge situation tell Reuters negotiation begin month ago groundwork lay 2008 hold similar talk source say party currently focus general theme issue like deal structure management discuss come week party say mindful hurdle successful merger include competition concern labor question carrier involve pilot “Everybody aware problem say source United pilot say Thursday vehemently oppose merger Airways pilot say open merger want discussion United flight attendant say support deal distract contract negotiation ”Goldman Sachs gs.n JPMorgan Chase Co JPM.N advise United people familiar matter say Citigroup Inc C.N advise Airways source say bank decline comment UAL share close 6.8 percent $ 20.23 Nasdaq Airways share gain 10.7 percent finish $ 7.55 New York Stock Exchange CHANGING LANDSCAPEUS Airways UAL court decade interrupt turn bankruptcy 2002 2005.slideshow 3 image offer 2000 United buy Airways crumble 2001 fear U.S. government block deal talk revive 2008 fizzle amid recession aviation expert generally agree consolidation help airline industry merger Airways help United say deal Continental Airlines CAL.N good United United Continental hold merger talk 2008 later opt alliance successful airline recover painful downturn force massive downsizing year merger accelerate fleet reduction help improve balance sheet Philip Baggaley rating agency Standard Poor say merger Airways improve United route network lead high labor cost combine company probably emerge heavy debt say “clearly potential talk massive positive Airways United think speak volume change landscape airline industry say Morningstar Equity analyst Basili Alukos say potential major airline merger combine capacity cut 2008 2009 hint industry en route earn cost capital ”“history airline maybe horrible loss encounter recently scare newcomer reconsider start airline Alukos say chief executive company Doug Parker Airways Glenn Tilton United continue vocal proponent consolidation industry long suffer competitive pressure overcapacity merger major U.S. airline Delta Air Lines DAL.N Northwest Airlines conclude 2008 analyst consider successful labor issuesalukos expert say big challenge integrate unionized employee Airways form 2005 merger America West Airlines pilot union airline labor group especially pilot notoriously hard merge pay work rule closely tie seniority pilot easily lose seniority merger end fly desirable route plane James Ray spokesman Airline Pilots Association USAPA represent pilot Airways say union open merger want discussion “Our union president talk Doug Parker say open minded look forward active partner U.S. airway pursue merger Ray say Air Line Pilots Association ALPA represent pilot United say vehemently oppose merger Airways benefit airline pilot “United CEO Glenn Tilton aware position merger Airways say statement union official Capt Wendy Morse Bill Swelbar airline researcher MIT say union trouble fatal impediment “It opinion labor issue significantly undermine synergy convinced attraction go like great deal Swelbar say Delta Northwest work labor issue announce deal antitrustprospect Airways United marriage year raise question market concentration eastern portion United States particularly airport Washington D.C. area proposal satisfy Justice Department antitrust official Obama administration Delta Northwest merger approve Bush administration consider business friendly “Now get aggressive enforcement regime antitrust hurdle low 2001 maybe high say John Briggs antitrust expert Axinn Veltrop Harkrider LLP.US Airways try beef strong presence Washington Reagan National airport hold 11 percent regional Washington market overall 2009 United big Dulles airport Virginia command 22 percent Washington air travel year accord government datum Airways big hub Charlotte North Carolina follow Phoenix Philadelphia United spread rest operation Chicago Denver San Francisco Los Angeles “There significant overlap United Airways think government close look necessarily say block decide need take away certain market say Edward Faberman aviation attorney Wiley Rein llp.reporte Kyle Peterson John Crawley additional reporting Karen Jacobs Atlanta Deepa Seetharaman Jui Chakravorty New York Diane Bartz Washington editing Derek Caney Tim DobbynOur Standards Thomson Reuters Trust Principles</td>\n",
       "      <td>0.9981</td>\n",
       "      <td>0.525798</td>\n",
       "    </tr>\n",
       "    <tr>\n",
       "      <th>2</th>\n",
       "      <td>2017-04-11</td>\n",
       "      <td>United Airlines faces mounting pressure over hospitalized passenger</td>\n",
       "      <td>- United Airlines UAL.N and its chief executive faced mounting pressure on Tuesday from a worldwide backlash over its treatment of a passenger who was dragged from his seat on a plane on Sunday to make room for four employees on the overbooked flight.Lawyers for the passenger, Dr. David Dao, issued a statement late on Tuesday confirming his identity and saying that he and his family were “focused only on Dr. Dao’s medical care and treatment” in a Chicago hospital.The U.S. Department of Transportation launched an inquiry into the incident, and New Jersey Governor Chris Christie called for new rules to curb the airline practice of overbooking flights.United CEO Oscar Munoz issued a statement on Tuesday apologizing to Dao without naming him. “I’m sorry. We will fix this,” Munoz said. “I deeply apologize to the customer forcibly removed and to all the customers aboard. No one should ever be mistreated this way.”On Monday, Munoz issued a memo to employees defending the company but not apologizing to the passenger.Munoz, a former railroad executive who took over the helm at United in 2015, had already been under pressure from activist investors to improve the airline’s performance, including its customer relations.Video showing Dao being yanked from his seat by airport security Sunday evening and dragged from United Airlines Flight 3411 at Chicago O’Hare International Airport went viral and sparked global outrage.A video screengrab shows passenger David Dao being dragged off a United Airlines flight at Chicago O’Hare International Airport in this video filmed by @JayseDavid April 9, 2017. Jayse D. Anspach via REUTERSAn online petition calling for Munoz to step down had nearly 22,000 signatures by early Tuesday evening.On Chinese social media, the incident attracted the attention of more than 480 million users on Weibo, China’s Twitter-like platform.United has about 20 percent of total U.S.-China airline traffic and has a partnership with Air China, the country’s third-largest airline, according to analysts. It flies to more Chinese cities than any other U.S. carrier. Last year, United added nonstop flights from San Francisco to Hangzhou, its fifth destination in mainland China.Dao, before being dragged off the parked plane, said repeatedly that he was being discriminated against because he was Chinese, according to Tyler Bridges, a fellow passenger on the flight from Chicago to Louisville, Kentucky.“He said, ‘I’m a doctor; I need to see patients,’” said Bridges, a civil engineer from Louisville who recorded much of the incident on his phone.Shares of United Continental closed down 1.1 percent at $70.71, after falling as much as 4.4 percent earlier. The company shed as much as about $1 billion in market value before ending the day with a loss of about $250 million. More than 16 million United shares changed hands, the most for any session in a year.The stock is down about 3 percent for the year.United is also suffering from broader worries among investors about U.S. airline performance.In the United States, social media outrage continued, with the incident trending on Twitter for the second consecutive day. Many users promoted hashtags #NewUnitedAirlinesMotto and #BoycottUnitedAirlines.This is the second time in less than a month that United has been caught in a social media storm. In late March, a United gate agent’s decision to refuse to board two teenage girls wearing leggings provoked a viral backlash.Additional reporting by Ankit Ajmera in Bengaluru and Lewis Krauskopf, David Randall, Angela Moon, Rodrigo Campos and Gina Cherelus in New York, Timothy McLaughlin in Chicago, David Shepardson in Washington and Philip Wen in Beijing; Editing by Lisa Von Ahn and Richard ChangOur Standards: The Thomson Reuters Trust Principles.</td>\n",
       "      <td>70.150002</td>\n",
       "      <td>17696500</td>\n",
       "      <td>0.257255</td>\n",
       "      <td>616.138562</td>\n",
       "      <td>United Airlines UAL.N chief executive face mount pressure Tuesday worldwide backlash treatment passenger drag seat plane Sunday room employee overbooke flight lawyer passenger Dr. David Dao issue statement late Tuesday confirm identity say family focused Dr. Dao medical care treatment Chicago hospital U.S. Department Transportation launch inquiry incident New Jersey Governor Chris Christie call new rule curb airline practice overbooke flight United CEO Oscar Munoz issue statement Tuesday apologize Dao name sorry fix Munoz say deeply apologize customer forcibly remove customer aboard mistreat way ”On Monday Munoz issue memo employee defend company apologize passenger Munoz railroad executive take helm United 2015 pressure activist investor improve airline performance include customer relation video show Dao yank seat airport security Sunday evening drag United Airlines Flight 3411 Chicago O’Hare International Airport go viral spark global outrage video screengrab show passenger David Dao drag United Airlines flight Chicago O’Hare International Airport video film @JayseDavid April 9 2017 Jayse D. Anspach REUTERSAn online petition call Munoz step nearly 22,000 signature early Tuesday evening chinese social medium incident attract attention 480 million user Weibo China Twitter like platform United 20 percent total U.S.-China airline traffic partnership Air China country large airline accord analyst fly chinese city U.S. carrier year United add nonstop flight San Francisco Hangzhou fifth destination mainland China Dao drag park plane say repeatedly discriminate chinese accord Tyler Bridges fellow passenger flight Chicago Louisville Kentucky “He say doctor need patient say Bridges civil engineer Louisville record incident phone share United Continental close 1.1 percent $ 70.71 fall 4.4 percent earlier company shed $ 1 billion market value end day loss $ 250 million 16 million United share change hand session year stock 3 percent year United suffer broad worry investor U.S. airline performance United States social medium outrage continue incident trend Twitter second consecutive day user promote hashtag NewUnitedAirlinesMotto boycottunitedairline second time month United catch social medium storm late March United gate agent decision refuse board teenage girl wear legging provoke viral backlash additional reporting Ankit Ajmera Bengaluru Lewis Krauskopf David Randall Angela Moon Rodrigo Campos Gina Cherelus New York Timothy McLaughlin Chicago David Shepardson Washington Philip Wen Beijing Editing Lisa Von Ahn Richard ChangOur Standards Thomson Reuters Trust Principles</td>\n",
       "      <td>0.9892</td>\n",
       "      <td>0.019937</td>\n",
       "    </tr>\n",
       "    <tr>\n",
       "      <th>3</th>\n",
       "      <td>2017-04-17</td>\n",
       "      <td>United Air removes couple traveling to wedding from plane</td>\n",
       "      <td>- An engaged couple were removed from a United Airlines flight to Costa Rica on Saturday, as the airline remained under scrutiny following outrage caused by a video last week of a passenger being forcibly removed from a flight.United Airlines planes are seen on platform at the Newark Liberty International Airport in New Jersey, July 8, 2015. REUTERS/Eduardo MunozAccording to the couple, who said they were en route to get married, a federal marshal had escorted them from the plane before take-off from Houston, Texas, but United denied this on Sunday, saying in a statement that neither a marshal nor other authorities was involved.The couple “repeatedly attempted to sit in upgraded seating which they did not purchase and they would not follow crew instructions to return to their assigned seats,” United said in a statement, adding “They were asked to leave the plane by our staff and complied.”The statement from a United spokeswoman said the airline offered the couple a discounted hotel rate for the night, and rebooked them on a Sunday morning flight.MORE FROM REUTERS      Tweet Collection ID: 844235465955926017    A Collection on Twitter    But Michael Hohl and his fiancée, Amber Maxwell, told KHOU they tried to pay for upgraded seating and were denied, after finding another passenger sleeping across their seats when they were the last to board.After moving within the economy cabin a few rows up, flight crew denied their request to pay a supplement for the seats, which United sells as “economy plus”, and told them to move back to their original seats, Hohl said.“We thought not a big deal, it’s not like we are trying to jump up into a first-class seat,” Hohl told KHOU. “We were simply in an economy row a few rows above our economy seat.”The airline suffered a public relations disaster after a video emerged a week ago showing security officers dragging a bloodied passenger off an overbooked United Express flight in Chicago.Shares in United's owner, United Continental Holdings Inc UAL.N, were hammered, dropping 4 percent last week to close at $69 on Thursday, reducing the company's market cap by $770 million to $21.5 billion. Markets were closed on Friday.Dr. David Dao, the 69-year-old Vietnamese-American doctor who was seen in video being dragged off a United flight a week ago, will likely sue the airline, his attorney said on Thursday.After the incident triggered international outrage, United Chief Executive Oscar Munoz apologized to Dao, his family and its customers, saying the carrier would no longer use law enforcement officers to remove passengers from overbooked flights.Reporting by Jonathan Allen and Chris Michaud; Editing by Simon Cameron-MooreOur Standards: The Thomson Reuters Trust Principles.</td>\n",
       "      <td>69.510002</td>\n",
       "      <td>4761900</td>\n",
       "      <td>-0.912331</td>\n",
       "      <td>-73.091289</td>\n",
       "      <td>engaged couple remove United Airlines flight Costa Rica Saturday airline remain scrutiny follow outrage cause video week passenger forcibly remove flight United Airlines plane see platform Newark Liberty International Airport New Jersey July 8 2015 REUTERS Eduardo MunozAccording couple say en route marry federal marshal escort plane Houston Texas United deny Sunday say statement marshal authority involve couple repeatedly attempt sit upgrade seating purchase follow crew instruction return assign seat United say statement add ask leave plane staff comply ”the statement United spokeswoman say airline offer couple discount hotel rate night rebooke Sunday morning flight REUTERS Tweet Collection ID 844235465955926017 collection Twitter Michael Hohl fiancée Amber Maxwell tell KHOU try pay upgrade seating deny find passenger sleep seat board move economy cabin row flight crew deny request pay supplement seat United sell economy plus tell original seat Hohl say “We think big deal like try jump class seat Hohl tell KHOU simply economy row row economy seat ”the airline suffer public relation disaster video emerge week ago show security officer drag bloodied passenger overbooke United Express flight Chicago share United owner United Continental Holdings Inc UAL.N hammer drop 4 percent week close $ 69 Thursday reduce company market cap $ 770 million $ 21.5 billion market close Friday Dr David Dao 69-year old vietnamese american doctor see video drag United flight week ago likely sue airline attorney say Thursday incident trigger international outrage United Chief Executive Oscar Munoz apologize Dao family customer say carrier longer use law enforcement officer remove passenger overbooke flight report Jonathan Allen Chris Michaud editing Simon Cameron MooreOur Standards Thomson Reuters Trust Principles</td>\n",
       "      <td>0.9638</td>\n",
       "      <td>1.000000</td>\n",
       "    </tr>\n",
       "    <tr>\n",
       "      <th>4</th>\n",
       "      <td>2017-04-27</td>\n",
       "      <td>United Airlines reaches settlement with passenger dragged from plane</td>\n",
       "      <td>- United Airlines UAL.N and the passenger who was dragged from a Chicago flight earlier this month have reached a settlement for an undisclosed sum, they said on Thursday, in the carrier's latest step to contain damage from an incident that sparked international outrage.Viral videos of Dr. David Dao being dragged down the aisle of a United jet and Chief Executive Oscar Munoz’s handling of the incident touched off a public outcry, prompted calls from congressmen for new industry regulation, and led United’s board of directors to reverse an agreement to make Munoz company chairman in 2018.United said earlier on Thursday that it would offer passengers who give up their seats up to $10,000, reduce overbooking of flights and no longer call on law enforcement officers to deny ticketed passengers their seats.Southwest Airlines also said on Thursday that it would end overbooking of flights.Dao, a 69-year-old Vietnamese-American doctor, was injured when Chicago aviation police removed him from his seat and then dragged him from the plane to make space for four crew members on the flight from O’Hare International Airport to Louisville, Kentucky.United has taken “full responsibility for what happened on Flight 3411, without attempting to blame others, including the City of Chicago,” Thomas Demetrio, an attorney for Dao, said in a statement.Demetrio said there was no need to proceed with separate litigation against the city. Republic Airways, United’s regional partner which operated the flight that Dao was on, has also been released from responsibility as part of the settlement, Demetrio’s office said.Chicago Mayor Rahm Emanuel’s office declined to comment on the settlement.The three Chicago Department of Aviation officers who pulled Dao off the plane and a supervisor involved in the incident remain on paid leave, said Chicago Department of Aviation spokesman Karen Pride, who declined to comment on the settlement.United said in a separate statement that it was pleased to reach “an amicable resolution of the unfortunate incident that occurred aboard flight 3411.”“We look forward to implementing the improvements we have announced, which will put our customers at the center of everything we do,” the airline said.Munoz stressed that point in a letter sent on Thursday to customers, saying the airline would increase its focus on their satisfaction.“We can never say we are sorry enough for what occurred, but we also know meaningful actions will speak louder than words,” he said.Separately, officials at 10 of the busiest U.S. airports said their rules prevent security officers from physically removing passengers from airplanes unless a crime is committed.Reporting by Timothy Mclaughlin in Chicago; Additional reporting by David Shepardson in Washington; Editing by Richard ChangOur Standards: The Thomson Reuters Trust Principles.</td>\n",
       "      <td>69.769997</td>\n",
       "      <td>5512200</td>\n",
       "      <td>0.374040</td>\n",
       "      <td>15.756316</td>\n",
       "      <td>United Airlines UAL.N passenger drag Chicago flight earlier month reach settlement undisclosed sum say Thursday carrier late step contain damage incident spark international outrage viral video Dr. David Dao drag aisle United jet Chief Executive Oscar Munoz handling incident touch public outcry prompt call congressman new industry regulation lead United board director reverse agreement Munoz company chairman 2018.United say earlier Thursday offer passenger seat $ 10,000 reduce overbooking flight longer law enforcement officer deny ticketed passenger seat Southwest Airlines say Thursday end overbooking flight Dao 69-year old vietnamese american doctor injure Chicago aviation police remove seat drag plane space crew member flight O’Hare International Airport Louisville Kentucky United take responsibility happen Flight 3411 attempt blame include City Chicago Thomas Demetrio attorney Dao say statement Demetrio say need proceed separate litigation city Republic Airways United regional partner operate flight Dao release responsibility settlement Demetrio office say Chicago Mayor Rahm Emanuel office decline comment settlement Chicago Department Aviation officer pull Dao plane supervisor involve incident remain pay leave say Chicago Department Aviation spokesman Karen Pride decline comment settlement United say separate statement pleased reach amicable resolution unfortunate incident occur aboard flight 3411.”“We look forward implement improvement announce customer center airline say Munoz stress point letter send Thursday customer say airline increase focus satisfaction “We sorry occur know meaningful action speak louder word say separately official 10 busy U.S. airport say rule prevent security officer physically remove passenger airplane crime commit reporting Timothy Mclaughlin Chicago additional reporting David Shepardson Washington editing Richard ChangOur Standards Thomson Reuters Trust Principles</td>\n",
       "      <td>0.9136</td>\n",
       "      <td>0.525798</td>\n",
       "    </tr>\n",
       "    <tr>\n",
       "      <th>5</th>\n",
       "      <td>2017-05-02</td>\n",
       "      <td>U.S. lawmakers grill airline executives after customer disasters</td>\n",
       "      <td>- U.S. lawmakers threatened United Airlines UAL.N and other carriers on Tuesday with legislation aimed at improving customer service after a passenger was hauled down the aisle of a flight last month. Top airline executives testified to the House of Representatives transportation committee and promised to address customer service failures at the hearing held to consider ways to address passenger frustrations with problems such as overbooking.The industry breathed a sigh of relief after the four-hour hearing, in which lawmakers did not outline any immediate plans for increased oversight on the largely deregulated sector.In April, video went viral on social media of 69-year-old passenger David Dao being dragged from a United flight at Chicago’s O’Hare International Airport after he refused to give up his seat to make room for crew members.United Chief Executive Oscar Munoz repeatedly apologized at the hearing for the removal of Dao, with whom the airline reached a settlement last week for an undisclosed sum. \"In that moment for our customers and our company we failed, and so as CEO, at the end of the day, that is on me,\" Munoz said. He called the removal the result of a series of system failures and \"a mistake of epic proportions.\"Munoz was joined at the hearing by United President Scott Kirby and executives from American Airlines AAL.O, Southwest Airlines LUV.N and Alaska Airlines ALK.N. American Airlines experienced its own public relations fiasco last month when a passenger video went viral, showing a woman on a plane in tears holding a child in her arms and another at her side after an encounter with a flight attendant over a baby stroller. \"Clearly what happened was wrong,\" said Kerry Philipovitch, the airline's senior vice president of customer experience, at the hearing.Airline stocks rose after the hearing and Delta Air Lines Inc DAL.N reported a gain in April traffic.On Tuesday, United’s stock closed up 5.2 percent, Delta gained 5.4 percent, American added 4.3 percent, and Southwest was up 3.6 percent.Slideshow ( 7 images )Analyst Jim Corridore of CFRA Research said investors were focusing on news of Delta’s improved unit revenue and were also relieved that lawmakers did not outline plans for immediate moves to tighten regulations.Many lawmakers fly weekly to and from Washington and during the hearing took the opportunity to recount the frustrations customers routinely face, including complicated booking systems, confusing fees, long waits and unexplained flight delays.“We all know it’s a terrible experience,” said Representative Michael Capuano, a Democrat from Massachusetts, throwing his arms in the air in frustration. “Some charge fees for baggage, some charge fees for oxygen, who knows?”Bill Shuster, chairman of the House of Representatives’ transportation committee, said: “If airlines don’t get their act together, we are going to act; it is going to be one size fits all. Seize this opportunity because if you don’t, we’re going to come, and you’re not going to like it.”After the hearing, Munoz said the message that change was needed was loud and clear.“I think the sense in the room was one of an admonition to get your collective stuff together,” Munoz told reporters at the Capitol. The alternative is to face additional legislation, “which I think is fair,” he added.In response to the dragging incident, United has changed its policies by reducing overbooked flights and offering passengers who give up their seats up to $10,000.Airlines have said they routinely overbook flights because a small percentage of passengers do not show up.Delta Air Lines DAL.N declined to testify. In a statement, the airline said it was working with individual members of Congress on customer service issues.Additional reporting by Steve Holland and Amanda Becker in Washington; Writing by Roberta Rampton and Amanda Becker; Editing by Richard Chang and Lisa ShumakerOur Standards: The Thomson Reuters Trust Principles.</td>\n",
       "      <td>70.430000</td>\n",
       "      <td>5434700</td>\n",
       "      <td>0.945970</td>\n",
       "      <td>-1.405972</td>\n",
       "      <td>U.S. lawmaker threaten United Airlines UAL.N carrier Tuesday legislation aim improve customer service passenger haul aisle flight month airline executive testify House Representatives transportation committee promise address customer service failure hearing hold consider way address passenger frustration problem overbooking industry breathe sigh relief hour hearing lawmaker outline immediate plan increase oversight largely deregulate sector April video go viral social medium 69-year old passenger David Dao drag United flight Chicago O’Hare International Airport refuse seat room crew member United Chief Executive Oscar Munoz repeatedly apologize hearing removal Dao airline reach settlement week undisclosed sum moment customer company fail ceo end day Munoz say call removal result series system failure mistake epic proportion \"Munoz join hearing United President Scott Kirby executive American Airlines AAL.O Southwest Airlines LUV.N Alaska Airlines ALK.N. American Airlines experience public relation fiasco month passenger video go viral show woman plane tear hold child arm encounter flight attendant baby stroller clearly happen wrong say Kerry Philipovitch airline senior vice president customer experience hearing airline stock rise hearing Delta Air Lines Inc DAL.N report gain April traffic Tuesday United stock close 5.2 percent Delta gain 5.4 percent American add 4.3 percent Southwest 3.6 percent Slideshow 7 image analyst Jim Corridore CFRA Research say investor focus news Delta improved unit revenue relieve lawmaker outline plan immediate move tighten regulation lawmaker fly weekly Washington hearing take opportunity recount frustration customer routinely face include complicated booking system confuse fee long wait unexplained flight delay “We know terrible experience say Representative Michael Capuano Democrat Massachusetts throw arm air frustration charge fee baggage charge fee oxygen knows?”bill Shuster chairman House Representatives transportation committee say airline act go act go size fit seize opportunity go come go like ”after hearing Munoz say message change need loud clear “I think sense room admonition collective stuff Munoz tell reporter Capitol alternative face additional legislation think fair add response drag incident United change policy reduce overbooke flight offer passenger seat $ 10,000.airlines say routinely overbook flight small percentage passenger Delta Air Lines DAL.N decline testify statement airline say work individual member Congress customer service issue additional reporting Steve Holland Amanda Becker Washington writing Roberta Rampton Amanda Becker editing Richard Chang Lisa ShumakerOur Standards Thomson Reuters Trust Principles</td>\n",
       "      <td>0.9460</td>\n",
       "      <td>0.974854</td>\n",
       "    </tr>\n",
       "    <tr>\n",
       "      <th>6</th>\n",
       "      <td>2017-05-04</td>\n",
       "      <td>United Air to face second congressional grilling at Senate hearing</td>\n",
       "      <td>- United Airlines will be back in the hot seat on Thursday when the U.S. Congress holds its second hearing this week to examine the circumstances surrounding the forced removal of a passenger from a Chicago flight last month.United President Scott Kirby was to join Chicago Department of Transportation Commissioner Ginger Evans at a U.S. Senate Commerce subcommittee hearing into the state of airline travel, following the high-profile dragging of a 69-year-old passenger from a United flight on April 9.Amid looming threats of increased oversight of the largely deregulated industry, United hopes to impress the panel that the U.S. sector can best regulate its own practices, including implementing enough customer service-minded changes to improve passenger satisfaction.Also slated to testify on Thursday are Sara Nelson, the international president of the Association of Flight Attendants-CWA, and Sharon Pinkerton, an official at the airline trade group Airlines for America.At a tense Tuesday hearing held by a U.S. House of Representatives committee, lawmakers threatened United and other carriers with legislation aimed at improving customer service.Top airline executives promised to address customer service failures at the hearing, held to consider ways to address passenger frustrations with problems such as overbooking.Despite lawmakers’ warnings, airlines on Tuesday breathed a sigh of relief that no immediate plans were outlined to tighten regulations on the industry.Last month, United faced international scorn when video circulated showing a paying passenger, David Dao, being dragged from his seat on United Flight 3411 at Chicago O’Hare International Airport to make room for airline employees.In initial statements, United Chief Executive Oscar Munoz stoked outrage for declining to apologize to Dao for his treatment at the hands of airport security.Munoz has since reversed course, apologizing repeatedly to United customers and to Dao, with whom United last week reached a settlement for an undisclosed sum.After Tuesday’s hearing, Munoz said the message that change was needed was loud and clear.“I think the sense in the room was one of an admonition to get your collective stuff together,” Munoz told reporters at the Capitol. The alternative was to face additional legislation, “which I think is fair,” he added.In response to the dragging incident, United has changed its policies by pledging to reduce the amount it overbooks its flights and offering passengers who voluntarily forfeit their seats on oversold flights up to $10,000.Reporting by David Shepardson; Editing by Jonathan OatisOur Standards: The Thomson Reuters Trust Principles.</td>\n",
       "      <td>74.559998</td>\n",
       "      <td>2886300</td>\n",
       "      <td>5.863976</td>\n",
       "      <td>-46.891273</td>\n",
       "      <td>United Airlines hot seat Thursday U.S. Congress hold second hearing week examine circumstance surround force removal passenger Chicago flight month United President Scott Kirby join Chicago Department Transportation Commissioner Ginger Evans U.S. Senate Commerce subcommittee hear state airline travel follow high profile dragging 69-year old passenger United flight April 9.amid loom threat increase oversight largely deregulate industry United hope impress panel U.S. sector best regulate practice include implement customer service minded change improve passenger satisfaction slate testify Thursday Sara Nelson international president Association Flight Attendants CWA Sharon Pinkerton official airline trade group Airlines America tense Tuesday hearing hold U.S. House Representatives committee lawmaker threaten United carrier legislation aim improve customer service airline executive promise address customer service failure hearing hold consider way address passenger frustration problem overbooking despite lawmaker warning airline Tuesday breathe sigh relief immediate plan outline tighten regulation industry month United face international scorn video circulate show pay passenger David Dao drag seat United Flight 3411 Chicago O’Hare International Airport room airline employee initial statement United Chief Executive Oscar Munoz stoke outrage decline apologize Dao treatment hand airport security Munoz reverse course apologize repeatedly United customer Dao United week reach settlement undisclosed sum Tuesday hearing Munoz say message change need loud clear “I think sense room admonition collective stuff Munoz tell reporter Capitol alternative face additional legislation think fair add response drag incident United change policy pledge reduce overbook flight offer passenger voluntarily forfeit seat oversold flight $ 10,000.reporting David Shepardson editing Jonathan OatisOur Standards Thomson Reuters Trust Principles</td>\n",
       "      <td>0.9921</td>\n",
       "      <td>1.000000</td>\n",
       "    </tr>\n",
       "    <tr>\n",
       "      <th>7</th>\n",
       "      <td>2017-05-30</td>\n",
       "      <td>U.S. proposes fining United $435,000 over 2014 flights</td>\n",
       "      <td>- The U.S. Federal Aviation Administration on Tuesday proposed fining United Airlines UAL.N $435,000 for operating 23 flights in 2014 with a Boeing 787 that the government alleged was not in airworthy condition.The FAA alleged that in June 2014, United mechanics replaced a fuel pump pressure switch on the Boeing Co BA.N aircraft but failed to perform a required inspection before returning the aircraft to service. A United spokesman said, \"The safety of our customers and employees is our top priority. We immediately took action after identifying the issue and are working closely with the FAA in their review.\"Reporting by David Shepardson; Editing by Cynthia OstermanOur Standards: The Thomson Reuters Trust Principles.</td>\n",
       "      <td>80.900002</td>\n",
       "      <td>3428700</td>\n",
       "      <td>8.503224</td>\n",
       "      <td>18.792225</td>\n",
       "      <td>U.S. Federal Aviation Administration Tuesday propose fine United Airlines UAL.N $ 435,000 operate 23 flight 2014 Boeing 787 government allege airworthy condition FAA allege June 2014 United mechanic replace fuel pump pressure switch Boeing Co ba.n aircraft fail perform required inspection return aircraft service United spokesman say safety customer employee priority immediately take action identify issue work closely FAA review \"reporting David Shepardson editing Cynthia OstermanOur Standards Thomson Reuters Trust Principles</td>\n",
       "      <td>0.8625</td>\n",
       "      <td>0.000024</td>\n",
       "    </tr>\n",
       "  </tbody>\n",
       "</table>\n",
       "</div>"
      ],
      "text/plain": [
       "        Date  ... deep_learning_sentiment_prob\n",
       "0 2017-03-07  ...  0.995828                   \n",
       "1 2017-04-07  ...  0.525798                   \n",
       "2 2017-04-11  ...  0.019937                   \n",
       "3 2017-04-17  ...  1.000000                   \n",
       "4 2017-04-27  ...  0.525798                   \n",
       "5 2017-05-02  ...  0.974854                   \n",
       "6 2017-05-04  ...  1.000000                   \n",
       "7 2017-05-30  ...  0.000024                   \n",
       "\n",
       "[8 rows x 10 columns]"
      ]
     },
     "execution_count": 72,
     "metadata": {
      "tags": []
     },
     "output_type": "execute_result"
    }
   ],
   "source": [
    "df"
   ]
  },
  {
   "cell_type": "markdown",
   "metadata": {
    "id": "5znCMWxQdS3E"
   },
   "source": [
    "# Summary"
   ]
  },
  {
   "cell_type": "code",
   "execution_count": 73,
   "metadata": {
    "colab": {
     "base_uri": "https://localhost:8080/",
     "height": 1000
    },
    "id": "9JC_Pen7Ddau",
    "outputId": "75b302d5-9b67-4230-e70e-8eeffeb0cde7"
   },
   "outputs": [
    {
     "name": "stdout",
     "output_type": "stream",
     "text": [
      "[0, 31, 4, 6, 10, 5, 2, 26]\n"
     ]
    },
    {
     "data": {
      "text/html": [
       "<div>\n",
       "<style scoped>\n",
       "    .dataframe tbody tr th:only-of-type {\n",
       "        vertical-align: middle;\n",
       "    }\n",
       "\n",
       "    .dataframe tbody tr th {\n",
       "        vertical-align: top;\n",
       "    }\n",
       "\n",
       "    .dataframe thead th {\n",
       "        text-align: right;\n",
       "    }\n",
       "</style>\n",
       "<table border=\"1\" class=\"dataframe\">\n",
       "  <thead>\n",
       "    <tr style=\"text-align: right;\">\n",
       "      <th></th>\n",
       "      <th>Date</th>\n",
       "      <th>Header</th>\n",
       "      <th>Text</th>\n",
       "      <th>Open</th>\n",
       "      <th>Volume</th>\n",
       "      <th>% Change in Stock Price</th>\n",
       "      <th>% Change in Volume</th>\n",
       "      <th>Text (clean)</th>\n",
       "      <th>Vader Sentiment Score</th>\n",
       "      <th>deep_learning_sentiment_prob</th>\n",
       "      <th>Days Elapsed</th>\n",
       "      <th>% Change in Stock Price Per Day</th>\n",
       "    </tr>\n",
       "  </thead>\n",
       "  <tbody>\n",
       "    <tr>\n",
       "      <th>0</th>\n",
       "      <td>2017-03-07</td>\n",
       "      <td>United looking at second-hand aircraft, rules out A380</td>\n",
       "      <td>- United Continental Holdings UAKL.N is interested in buying second-hand aircraft as they are released to the market when leases expire, Chief Finance Director Andrew Levy said on Tuesday.Speaking at the ISTAT Americas air finance conference, he also ruled out United, which recently retired its Boeing 747 jumbo jets, buying any more aircraft in that category for the world’s largest four-engined jets.United, the largest U.S. carrier by traffic, has been tipped in the past as a potential buyer for the Airbus A380 superjumbo.Reporting by Tim Hepher; Editing by Alison WilliamsOur Standards: The Thomson Reuters Trust Principles.</td>\n",
       "      <td>72.690002</td>\n",
       "      <td>3764000</td>\n",
       "      <td>NaN</td>\n",
       "      <td>NaN</td>\n",
       "      <td>United Continental Holdings UAKL.N interested buy second hand aircraft release market lease expire Chief Finance Director Andrew Levy say Tuesday speak ISTAT Americas air finance conference rule United recently retire Boeing 747 jumbo jet buy aircraft category world large engine jet United large U.S. carrier traffic tip past potential buyer Airbus A380 superjumbo report Tim Hepher editing Alison WilliamsOur Standards Thomson Reuters Trust Principles</td>\n",
       "      <td>0.9485</td>\n",
       "      <td>0.995828</td>\n",
       "      <td>0</td>\n",
       "      <td>NaN</td>\n",
       "    </tr>\n",
       "    <tr>\n",
       "      <th>1</th>\n",
       "      <td>2017-04-07</td>\n",
       "      <td>UAL pilots attack U.S. Airways merger prospect</td>\n",
       "      <td>- United Airlines' pilots union lashed out against efforts to merge the airline with US Airways Group LCC.N, underscoring the challenges facing decade-old attempts to unite the carriers.Passengers wait to check-in at the U.S. Airways ticket counter at Phoenix International Airport in Phoenix, April 8, 2010. REUTERS/Joshua Lott\\nTough antitrust enforcement could also pose another stumbling block to a merger, which would form the world's second-largest airline after Delta Air Lines DAL.N, industry experts said.But the possibility of consolidation in the industry spurred airline shares higher on Thursday, although US Airways and United parent UAL Corp UAUA.O would not confirm the discussions that sources said were advancing.Chicago-based United, the No. 3 U.S. airline, has a $3.39 billion market value, based on Thursday’s close. Tempe, Arizona-based US Airways, the No. 6 U.S. airline, ended the day with a $1.22 billion market capitalization.Sources with knowledge of the situation told Reuters the negotiations began more than a month ago, although much of the groundwork was laid in 2008 when the two held similar talks.The sources said the parties are currently focused on general themes, and issues like deal structure and management will be discussed in coming weeks.The parties were said to be mindful of hurdles to a successful merger, including competition concerns and serious labor questions at both carriers involving pilots.“Everybody is aware of the problems,” said one source.United’s pilots said Thursday they were vehemently opposed to a merger, while US Airways’ pilots said they were open to a merger and wanted to be part of the discussions.United’s flight attendants said they would not support a deal that would “distract from contract negotiations.”Goldman Sachs GS.N and JPMorgan Chase &amp; Co JPM.N are advising United, several people familiar with the matter said. Citigroup Inc C.N is advising US Airways, the sources said.All three banks declined to comment.UAL shares closed up 6.8 percent at $20.23 on Nasdaq. US Airways shares gained 10.7 percent to finish at $7.55 on the New York Stock Exchange.CHANGING LANDSCAPEUS Airways and UAL have courted for a decade -- interrupted only by their turns in bankruptcy between 2002 and 2005.Slideshow ( 3 images )An offer in 2000 by United to buy US Airways crumbled in 2001 over fears the U.S. government would block the deal.Talks revived in 2008 but fizzled amid the recession.Aviation experts generally agree that consolidation would help the airline industry, and a merger with US Airways would help United. But some said a deal with Continental Airlines CAL.N would be best for United.United and Continental held merger talks in 2008 and later opted for an alliance, which has been successful.Airlines are recovering from a painful downturn that forced massive downsizing in the last two years. A merger could accelerate fleet reductions, helping improve balance sheets.Philip Baggaley of rating agency Standard &amp; Poor’s said a merger with US Airways would improve United’s route network but could lead to higher labor costs. The combined company would probably emerge with heavy debt, he said.“Clearly these potential talks are a massive positive for US Airways and United, but I think it speaks volumes to the changing landscape in the airline industry,” said Morningstar Equity analyst Basili Alukos.He said a potential major airline merger, combined with the capacity cuts of 2008 and 2009 hint that the industry “could be en route to earning its cost of capital.”“History is not on the side of the airlines, but maybe the horrible losses encountered recently have scared newcomers enough to reconsider starting an airline,” Alukos said.The chief executives at both companies, Doug Parker at US Airways and Glenn Tilton at United, were, and continue to be, vocal proponents of further consolidation in an industry that has long suffered from competitive pressures and overcapacity.The last merger of two major U.S. airlines was between Delta Air Lines DAL.N and Northwest Airlines, which concluded in 2008 and analysts consider successful.LABOR ISSUESAlukos and other experts said the biggest challenge would be integrating unionized employees.US Airways, formed in 2005 from a merger with America West Airlines, still has two pilot unions.Airline labor groups - especially pilots - are notoriously hard to merge because pay and work rules are closely tied to seniority. A pilot could easily lose seniority in a merger and end up flying less desirable routes and planes.James Ray, spokesman for the US Airline Pilots Association (USAPA), which represents pilots at US Airways said the union is open to a merger, but wants to be part of the discussions.“Our union president has talked to Doug Parker and said we are open-minded and look forward to being an active partner with U.S. airways should they pursue a merger with anyone,” Ray said.The Air Line Pilots Association (ALPA), which represents pilots at United, said it was vehemently opposed to a merger with US Airways, that would benefit neither the airline nor its pilots.“United CEO Glenn Tilton is well aware of our position regarding mergers and US Airways,” said a statement by union official Capt. Wendy Morse.Bill Swelbar, an airline researcher at MIT, said union troubles could be a fatal impediment.“It is my opinion that the labor issues will significantly undermine the synergies. I’m just not convinced there is an attraction. There is nothing about this that has me going ‘this just seems like a great deal’,” Swelbar said.Delta and Northwest worked out their labor issues before announcing their deal.ANTITRUSTProspects of a US Airways-United marriage have for years raised questions about market concentration in the eastern portion of the United States, particularly at airports in the Washington D.C. area.Any proposal would have to satisfy Justice Department antitrust officials under the Obama administration.The Delta-Northwest merger was approved by the Bush administration, which was considered more business friendly.“Now you’ve got a more aggressive enforcement regime. It seems to me the antitrust hurdles are no lower than they were in 2001 and maybe higher,” said John Briggs, an antitrust expert with Axinn Veltrop Harkrider LLP.US Airways is trying to beef up its already strong presence at Washington’s Reagan National airport and held 11 percent of the regional Washington market overall in 2009. United is big at Dulles airport in Virginia and commanded 22 percent of Washington air travel last year, according to government data.US Airways biggest hub is Charlotte, North Carolina, followed by Phoenix and Philadelphia. United spreads the rest of its operations at Chicago, Denver, San Francisco and Los Angeles.“There are still some significant overlaps between United and US Airways, and I think the government would take a close look at that. I’m not necessarily saying to block it, but to decide what may need to be taken away in certain markets,” said Edward Faberman, an aviation attorney with Wiley Rein LLP.Reporting by Kyle Peterson and John Crawley; Additional reporting by Karen Jacobs in Atlanta, Deepa Seetharaman and Jui Chakravorty in New York, and Diane Bartz in Washington; Editing by Derek Caney and Tim DobbynOur Standards: The Thomson Reuters Trust Principles.</td>\n",
       "      <td>69.970001</td>\n",
       "      <td>2471100</td>\n",
       "      <td>-3.741919</td>\n",
       "      <td>-34.349097</td>\n",
       "      <td>United Airlines pilot union lash effort merge airline Airways Group LCC.N underscore challenge face decade old attempt unite carrier passenger wait check U.S. Airways ticket counter Phoenix International Airport Phoenix April 8 2010 REUTERS Joshua Lott tough antitrust enforcement pose stumble block merger form world second large airline Delta Air Lines DAL.N industry expert say possibility consolidation industry spur airline share high Thursday Airways United parent UAL Corp UAUA.O confirm discussion source say advance Chicago base United 3 U.S. airline $ 3.39 billion market value base Thursday close Tempe Arizona base Airways 6 U.S. airline end day $ 1.22 billion market capitalization source knowledge situation tell Reuters negotiation begin month ago groundwork lay 2008 hold similar talk source say party currently focus general theme issue like deal structure management discuss come week party say mindful hurdle successful merger include competition concern labor question carrier involve pilot “Everybody aware problem say source United pilot say Thursday vehemently oppose merger Airways pilot say open merger want discussion United flight attendant say support deal distract contract negotiation ”Goldman Sachs gs.n JPMorgan Chase Co JPM.N advise United people familiar matter say Citigroup Inc C.N advise Airways source say bank decline comment UAL share close 6.8 percent $ 20.23 Nasdaq Airways share gain 10.7 percent finish $ 7.55 New York Stock Exchange CHANGING LANDSCAPEUS Airways UAL court decade interrupt turn bankruptcy 2002 2005.slideshow 3 image offer 2000 United buy Airways crumble 2001 fear U.S. government block deal talk revive 2008 fizzle amid recession aviation expert generally agree consolidation help airline industry merger Airways help United say deal Continental Airlines CAL.N good United United Continental hold merger talk 2008 later opt alliance successful airline recover painful downturn force massive downsizing year merger accelerate fleet reduction help improve balance sheet Philip Baggaley rating agency Standard Poor say merger Airways improve United route network lead high labor cost combine company probably emerge heavy debt say “clearly potential talk massive positive Airways United think speak volume change landscape airline industry say Morningstar Equity analyst Basili Alukos say potential major airline merger combine capacity cut 2008 2009 hint industry en route earn cost capital ”“history airline maybe horrible loss encounter recently scare newcomer reconsider start airline Alukos say chief executive company Doug Parker Airways Glenn Tilton United continue vocal proponent consolidation industry long suffer competitive pressure overcapacity merger major U.S. airline Delta Air Lines DAL.N Northwest Airlines conclude 2008 analyst consider successful labor issuesalukos expert say big challenge integrate unionized employee Airways form 2005 merger America West Airlines pilot union airline labor group especially pilot notoriously hard merge pay work rule closely tie seniority pilot easily lose seniority merger end fly desirable route plane James Ray spokesman Airline Pilots Association USAPA represent pilot Airways say union open merger want discussion “Our union president talk Doug Parker say open minded look forward active partner U.S. airway pursue merger Ray say Air Line Pilots Association ALPA represent pilot United say vehemently oppose merger Airways benefit airline pilot “United CEO Glenn Tilton aware position merger Airways say statement union official Capt Wendy Morse Bill Swelbar airline researcher MIT say union trouble fatal impediment “It opinion labor issue significantly undermine synergy convinced attraction go like great deal Swelbar say Delta Northwest work labor issue announce deal antitrustprospect Airways United marriage year raise question market concentration eastern portion United States particularly airport Washington D.C. area proposal satisfy Justice Department antitrust official Obama administration Delta Northwest merger approve Bush administration consider business friendly “Now get aggressive enforcement regime antitrust hurdle low 2001 maybe high say John Briggs antitrust expert Axinn Veltrop Harkrider LLP.US Airways try beef strong presence Washington Reagan National airport hold 11 percent regional Washington market overall 2009 United big Dulles airport Virginia command 22 percent Washington air travel year accord government datum Airways big hub Charlotte North Carolina follow Phoenix Philadelphia United spread rest operation Chicago Denver San Francisco Los Angeles “There significant overlap United Airways think government close look necessarily say block decide need take away certain market say Edward Faberman aviation attorney Wiley Rein llp.reporte Kyle Peterson John Crawley additional reporting Karen Jacobs Atlanta Deepa Seetharaman Jui Chakravorty New York Diane Bartz Washington editing Derek Caney Tim DobbynOur Standards Thomson Reuters Trust Principles</td>\n",
       "      <td>0.9981</td>\n",
       "      <td>0.525798</td>\n",
       "      <td>31</td>\n",
       "      <td>-0.120707</td>\n",
       "    </tr>\n",
       "    <tr>\n",
       "      <th>2</th>\n",
       "      <td>2017-04-11</td>\n",
       "      <td>United Airlines faces mounting pressure over hospitalized passenger</td>\n",
       "      <td>- United Airlines UAL.N and its chief executive faced mounting pressure on Tuesday from a worldwide backlash over its treatment of a passenger who was dragged from his seat on a plane on Sunday to make room for four employees on the overbooked flight.Lawyers for the passenger, Dr. David Dao, issued a statement late on Tuesday confirming his identity and saying that he and his family were “focused only on Dr. Dao’s medical care and treatment” in a Chicago hospital.The U.S. Department of Transportation launched an inquiry into the incident, and New Jersey Governor Chris Christie called for new rules to curb the airline practice of overbooking flights.United CEO Oscar Munoz issued a statement on Tuesday apologizing to Dao without naming him. “I’m sorry. We will fix this,” Munoz said. “I deeply apologize to the customer forcibly removed and to all the customers aboard. No one should ever be mistreated this way.”On Monday, Munoz issued a memo to employees defending the company but not apologizing to the passenger.Munoz, a former railroad executive who took over the helm at United in 2015, had already been under pressure from activist investors to improve the airline’s performance, including its customer relations.Video showing Dao being yanked from his seat by airport security Sunday evening and dragged from United Airlines Flight 3411 at Chicago O’Hare International Airport went viral and sparked global outrage.A video screengrab shows passenger David Dao being dragged off a United Airlines flight at Chicago O’Hare International Airport in this video filmed by @JayseDavid April 9, 2017. Jayse D. Anspach via REUTERSAn online petition calling for Munoz to step down had nearly 22,000 signatures by early Tuesday evening.On Chinese social media, the incident attracted the attention of more than 480 million users on Weibo, China’s Twitter-like platform.United has about 20 percent of total U.S.-China airline traffic and has a partnership with Air China, the country’s third-largest airline, according to analysts. It flies to more Chinese cities than any other U.S. carrier. Last year, United added nonstop flights from San Francisco to Hangzhou, its fifth destination in mainland China.Dao, before being dragged off the parked plane, said repeatedly that he was being discriminated against because he was Chinese, according to Tyler Bridges, a fellow passenger on the flight from Chicago to Louisville, Kentucky.“He said, ‘I’m a doctor; I need to see patients,’” said Bridges, a civil engineer from Louisville who recorded much of the incident on his phone.Shares of United Continental closed down 1.1 percent at $70.71, after falling as much as 4.4 percent earlier. The company shed as much as about $1 billion in market value before ending the day with a loss of about $250 million. More than 16 million United shares changed hands, the most for any session in a year.The stock is down about 3 percent for the year.United is also suffering from broader worries among investors about U.S. airline performance.In the United States, social media outrage continued, with the incident trending on Twitter for the second consecutive day. Many users promoted hashtags #NewUnitedAirlinesMotto and #BoycottUnitedAirlines.This is the second time in less than a month that United has been caught in a social media storm. In late March, a United gate agent’s decision to refuse to board two teenage girls wearing leggings provoked a viral backlash.Additional reporting by Ankit Ajmera in Bengaluru and Lewis Krauskopf, David Randall, Angela Moon, Rodrigo Campos and Gina Cherelus in New York, Timothy McLaughlin in Chicago, David Shepardson in Washington and Philip Wen in Beijing; Editing by Lisa Von Ahn and Richard ChangOur Standards: The Thomson Reuters Trust Principles.</td>\n",
       "      <td>70.150002</td>\n",
       "      <td>17696500</td>\n",
       "      <td>0.257255</td>\n",
       "      <td>616.138562</td>\n",
       "      <td>United Airlines UAL.N chief executive face mount pressure Tuesday worldwide backlash treatment passenger drag seat plane Sunday room employee overbooke flight lawyer passenger Dr. David Dao issue statement late Tuesday confirm identity say family focused Dr. Dao medical care treatment Chicago hospital U.S. Department Transportation launch inquiry incident New Jersey Governor Chris Christie call new rule curb airline practice overbooke flight United CEO Oscar Munoz issue statement Tuesday apologize Dao name sorry fix Munoz say deeply apologize customer forcibly remove customer aboard mistreat way ”On Monday Munoz issue memo employee defend company apologize passenger Munoz railroad executive take helm United 2015 pressure activist investor improve airline performance include customer relation video show Dao yank seat airport security Sunday evening drag United Airlines Flight 3411 Chicago O’Hare International Airport go viral spark global outrage video screengrab show passenger David Dao drag United Airlines flight Chicago O’Hare International Airport video film @JayseDavid April 9 2017 Jayse D. Anspach REUTERSAn online petition call Munoz step nearly 22,000 signature early Tuesday evening chinese social medium incident attract attention 480 million user Weibo China Twitter like platform United 20 percent total U.S.-China airline traffic partnership Air China country large airline accord analyst fly chinese city U.S. carrier year United add nonstop flight San Francisco Hangzhou fifth destination mainland China Dao drag park plane say repeatedly discriminate chinese accord Tyler Bridges fellow passenger flight Chicago Louisville Kentucky “He say doctor need patient say Bridges civil engineer Louisville record incident phone share United Continental close 1.1 percent $ 70.71 fall 4.4 percent earlier company shed $ 1 billion market value end day loss $ 250 million 16 million United share change hand session year stock 3 percent year United suffer broad worry investor U.S. airline performance United States social medium outrage continue incident trend Twitter second consecutive day user promote hashtag NewUnitedAirlinesMotto boycottunitedairline second time month United catch social medium storm late March United gate agent decision refuse board teenage girl wear legging provoke viral backlash additional reporting Ankit Ajmera Bengaluru Lewis Krauskopf David Randall Angela Moon Rodrigo Campos Gina Cherelus New York Timothy McLaughlin Chicago David Shepardson Washington Philip Wen Beijing Editing Lisa Von Ahn Richard ChangOur Standards Thomson Reuters Trust Principles</td>\n",
       "      <td>0.9892</td>\n",
       "      <td>0.019937</td>\n",
       "      <td>4</td>\n",
       "      <td>0.064314</td>\n",
       "    </tr>\n",
       "    <tr>\n",
       "      <th>3</th>\n",
       "      <td>2017-04-17</td>\n",
       "      <td>United Air removes couple traveling to wedding from plane</td>\n",
       "      <td>- An engaged couple were removed from a United Airlines flight to Costa Rica on Saturday, as the airline remained under scrutiny following outrage caused by a video last week of a passenger being forcibly removed from a flight.United Airlines planes are seen on platform at the Newark Liberty International Airport in New Jersey, July 8, 2015. REUTERS/Eduardo MunozAccording to the couple, who said they were en route to get married, a federal marshal had escorted them from the plane before take-off from Houston, Texas, but United denied this on Sunday, saying in a statement that neither a marshal nor other authorities was involved.The couple “repeatedly attempted to sit in upgraded seating which they did not purchase and they would not follow crew instructions to return to their assigned seats,” United said in a statement, adding “They were asked to leave the plane by our staff and complied.”The statement from a United spokeswoman said the airline offered the couple a discounted hotel rate for the night, and rebooked them on a Sunday morning flight.MORE FROM REUTERS      Tweet Collection ID: 844235465955926017    A Collection on Twitter    But Michael Hohl and his fiancée, Amber Maxwell, told KHOU they tried to pay for upgraded seating and were denied, after finding another passenger sleeping across their seats when they were the last to board.After moving within the economy cabin a few rows up, flight crew denied their request to pay a supplement for the seats, which United sells as “economy plus”, and told them to move back to their original seats, Hohl said.“We thought not a big deal, it’s not like we are trying to jump up into a first-class seat,” Hohl told KHOU. “We were simply in an economy row a few rows above our economy seat.”The airline suffered a public relations disaster after a video emerged a week ago showing security officers dragging a bloodied passenger off an overbooked United Express flight in Chicago.Shares in United's owner, United Continental Holdings Inc UAL.N, were hammered, dropping 4 percent last week to close at $69 on Thursday, reducing the company's market cap by $770 million to $21.5 billion. Markets were closed on Friday.Dr. David Dao, the 69-year-old Vietnamese-American doctor who was seen in video being dragged off a United flight a week ago, will likely sue the airline, his attorney said on Thursday.After the incident triggered international outrage, United Chief Executive Oscar Munoz apologized to Dao, his family and its customers, saying the carrier would no longer use law enforcement officers to remove passengers from overbooked flights.Reporting by Jonathan Allen and Chris Michaud; Editing by Simon Cameron-MooreOur Standards: The Thomson Reuters Trust Principles.</td>\n",
       "      <td>69.510002</td>\n",
       "      <td>4761900</td>\n",
       "      <td>-0.912331</td>\n",
       "      <td>-73.091289</td>\n",
       "      <td>engaged couple remove United Airlines flight Costa Rica Saturday airline remain scrutiny follow outrage cause video week passenger forcibly remove flight United Airlines plane see platform Newark Liberty International Airport New Jersey July 8 2015 REUTERS Eduardo MunozAccording couple say en route marry federal marshal escort plane Houston Texas United deny Sunday say statement marshal authority involve couple repeatedly attempt sit upgrade seating purchase follow crew instruction return assign seat United say statement add ask leave plane staff comply ”the statement United spokeswoman say airline offer couple discount hotel rate night rebooke Sunday morning flight REUTERS Tweet Collection ID 844235465955926017 collection Twitter Michael Hohl fiancée Amber Maxwell tell KHOU try pay upgrade seating deny find passenger sleep seat board move economy cabin row flight crew deny request pay supplement seat United sell economy plus tell original seat Hohl say “We think big deal like try jump class seat Hohl tell KHOU simply economy row row economy seat ”the airline suffer public relation disaster video emerge week ago show security officer drag bloodied passenger overbooke United Express flight Chicago share United owner United Continental Holdings Inc UAL.N hammer drop 4 percent week close $ 69 Thursday reduce company market cap $ 770 million $ 21.5 billion market close Friday Dr David Dao 69-year old vietnamese american doctor see video drag United flight week ago likely sue airline attorney say Thursday incident trigger international outrage United Chief Executive Oscar Munoz apologize Dao family customer say carrier longer use law enforcement officer remove passenger overbooke flight report Jonathan Allen Chris Michaud editing Simon Cameron MooreOur Standards Thomson Reuters Trust Principles</td>\n",
       "      <td>0.9638</td>\n",
       "      <td>1.000000</td>\n",
       "      <td>6</td>\n",
       "      <td>-0.152055</td>\n",
       "    </tr>\n",
       "    <tr>\n",
       "      <th>4</th>\n",
       "      <td>2017-04-27</td>\n",
       "      <td>United Airlines reaches settlement with passenger dragged from plane</td>\n",
       "      <td>- United Airlines UAL.N and the passenger who was dragged from a Chicago flight earlier this month have reached a settlement for an undisclosed sum, they said on Thursday, in the carrier's latest step to contain damage from an incident that sparked international outrage.Viral videos of Dr. David Dao being dragged down the aisle of a United jet and Chief Executive Oscar Munoz’s handling of the incident touched off a public outcry, prompted calls from congressmen for new industry regulation, and led United’s board of directors to reverse an agreement to make Munoz company chairman in 2018.United said earlier on Thursday that it would offer passengers who give up their seats up to $10,000, reduce overbooking of flights and no longer call on law enforcement officers to deny ticketed passengers their seats.Southwest Airlines also said on Thursday that it would end overbooking of flights.Dao, a 69-year-old Vietnamese-American doctor, was injured when Chicago aviation police removed him from his seat and then dragged him from the plane to make space for four crew members on the flight from O’Hare International Airport to Louisville, Kentucky.United has taken “full responsibility for what happened on Flight 3411, without attempting to blame others, including the City of Chicago,” Thomas Demetrio, an attorney for Dao, said in a statement.Demetrio said there was no need to proceed with separate litigation against the city. Republic Airways, United’s regional partner which operated the flight that Dao was on, has also been released from responsibility as part of the settlement, Demetrio’s office said.Chicago Mayor Rahm Emanuel’s office declined to comment on the settlement.The three Chicago Department of Aviation officers who pulled Dao off the plane and a supervisor involved in the incident remain on paid leave, said Chicago Department of Aviation spokesman Karen Pride, who declined to comment on the settlement.United said in a separate statement that it was pleased to reach “an amicable resolution of the unfortunate incident that occurred aboard flight 3411.”“We look forward to implementing the improvements we have announced, which will put our customers at the center of everything we do,” the airline said.Munoz stressed that point in a letter sent on Thursday to customers, saying the airline would increase its focus on their satisfaction.“We can never say we are sorry enough for what occurred, but we also know meaningful actions will speak louder than words,” he said.Separately, officials at 10 of the busiest U.S. airports said their rules prevent security officers from physically removing passengers from airplanes unless a crime is committed.Reporting by Timothy Mclaughlin in Chicago; Additional reporting by David Shepardson in Washington; Editing by Richard ChangOur Standards: The Thomson Reuters Trust Principles.</td>\n",
       "      <td>69.769997</td>\n",
       "      <td>5512200</td>\n",
       "      <td>0.374040</td>\n",
       "      <td>15.756316</td>\n",
       "      <td>United Airlines UAL.N passenger drag Chicago flight earlier month reach settlement undisclosed sum say Thursday carrier late step contain damage incident spark international outrage viral video Dr. David Dao drag aisle United jet Chief Executive Oscar Munoz handling incident touch public outcry prompt call congressman new industry regulation lead United board director reverse agreement Munoz company chairman 2018.United say earlier Thursday offer passenger seat $ 10,000 reduce overbooking flight longer law enforcement officer deny ticketed passenger seat Southwest Airlines say Thursday end overbooking flight Dao 69-year old vietnamese american doctor injure Chicago aviation police remove seat drag plane space crew member flight O’Hare International Airport Louisville Kentucky United take responsibility happen Flight 3411 attempt blame include City Chicago Thomas Demetrio attorney Dao say statement Demetrio say need proceed separate litigation city Republic Airways United regional partner operate flight Dao release responsibility settlement Demetrio office say Chicago Mayor Rahm Emanuel office decline comment settlement Chicago Department Aviation officer pull Dao plane supervisor involve incident remain pay leave say Chicago Department Aviation spokesman Karen Pride decline comment settlement United say separate statement pleased reach amicable resolution unfortunate incident occur aboard flight 3411.”“We look forward implement improvement announce customer center airline say Munoz stress point letter send Thursday customer say airline increase focus satisfaction “We sorry occur know meaningful action speak louder word say separately official 10 busy U.S. airport say rule prevent security officer physically remove passenger airplane crime commit reporting Timothy Mclaughlin Chicago additional reporting David Shepardson Washington editing Richard ChangOur Standards Thomson Reuters Trust Principles</td>\n",
       "      <td>0.9136</td>\n",
       "      <td>0.525798</td>\n",
       "      <td>10</td>\n",
       "      <td>0.037404</td>\n",
       "    </tr>\n",
       "  </tbody>\n",
       "</table>\n",
       "</div>"
      ],
      "text/plain": [
       "        Date  ... % Change in Stock Price Per Day\n",
       "0 2017-03-07  ... NaN                            \n",
       "1 2017-04-07  ... -0.120707                      \n",
       "2 2017-04-11  ...  0.064314                      \n",
       "3 2017-04-17  ... -0.152055                      \n",
       "4 2017-04-27  ...  0.037404                      \n",
       "\n",
       "[5 rows x 12 columns]"
      ]
     },
     "execution_count": 73,
     "metadata": {
      "tags": []
     },
     "output_type": "execute_result"
    }
   ],
   "source": [
    "# Converting % stock price change to % stock price change per day\n",
    "days = [0]\n",
    "for i in range(len(df['Date'])):\n",
    "    if i != 0:\n",
    "        date_diff = df['Date'][i]-df['Date'][i-1]\n",
    "        day = date_diff.days\n",
    "        days.append(day)\n",
    "print(days)\n",
    "df['Days Elapsed'] = days\n",
    "df.head()\n",
    "df['% Change in Stock Price Per Day'] = df['% Change in Stock Price']/df['Days Elapsed']\n",
    "df.head()"
   ]
  },
  {
   "cell_type": "code",
   "execution_count": 96,
   "metadata": {
    "id": "LBkpL_NhDdau"
   },
   "outputs": [],
   "source": [
    "df['Vader Sentiment'] = df['Vader Sentiment Score'].apply(lambda x: \"positive\" if x>0 else \"negative\")\n",
    "df['Logistic Regression Sentiment'] = df['sentiment_prob'].apply(lambda x: \"positive\" if x>0.5 else \"negative\")\n",
    "df['Stock Price Change'] = df['% Change in Stock Price Per Day'].apply(lambda x: \"positive\" if x>0 else \"negative\")\n",
    "df['deep_learning_sentiment_prob'] = df['deep_learning_sentiment_prob'].apply(lambda x: \"positive\" if x>0.5 else \"negative\")"
   ]
  },
  {
   "cell_type": "code",
   "execution_count": 98,
   "metadata": {
    "colab": {
     "base_uri": "https://localhost:8080/",
     "height": 203
    },
    "id": "ele6w9jUDdau",
    "outputId": "ac1b8958-03e6-43aa-a7a1-809c14cd8af2"
   },
   "outputs": [
    {
     "data": {
      "text/html": [
       "<div>\n",
       "<style scoped>\n",
       "    .dataframe tbody tr th:only-of-type {\n",
       "        vertical-align: middle;\n",
       "    }\n",
       "\n",
       "    .dataframe tbody tr th {\n",
       "        vertical-align: top;\n",
       "    }\n",
       "\n",
       "    .dataframe thead th {\n",
       "        text-align: right;\n",
       "    }\n",
       "</style>\n",
       "<table border=\"1\" class=\"dataframe\">\n",
       "  <thead>\n",
       "    <tr style=\"text-align: right;\">\n",
       "      <th></th>\n",
       "      <th>Date</th>\n",
       "      <th>Header</th>\n",
       "      <th>Stock Price Change</th>\n",
       "      <th>Vader Sentiment</th>\n",
       "      <th>Logistic Regression Sentiment</th>\n",
       "      <th>deep_learning_sentiment_prob</th>\n",
       "    </tr>\n",
       "  </thead>\n",
       "  <tbody>\n",
       "    <tr>\n",
       "      <th>0</th>\n",
       "      <td>2017-03-07</td>\n",
       "      <td>United looking at second-hand aircraft, rules out A380</td>\n",
       "      <td>negative</td>\n",
       "      <td>positive</td>\n",
       "      <td>positive</td>\n",
       "      <td>positive</td>\n",
       "    </tr>\n",
       "    <tr>\n",
       "      <th>1</th>\n",
       "      <td>2017-04-07</td>\n",
       "      <td>UAL pilots attack U.S. Airways merger prospect</td>\n",
       "      <td>negative</td>\n",
       "      <td>positive</td>\n",
       "      <td>negative</td>\n",
       "      <td>positive</td>\n",
       "    </tr>\n",
       "    <tr>\n",
       "      <th>2</th>\n",
       "      <td>2017-04-11</td>\n",
       "      <td>United Airlines faces mounting pressure over hospitalized passenger</td>\n",
       "      <td>positive</td>\n",
       "      <td>positive</td>\n",
       "      <td>negative</td>\n",
       "      <td>negative</td>\n",
       "    </tr>\n",
       "    <tr>\n",
       "      <th>3</th>\n",
       "      <td>2017-04-17</td>\n",
       "      <td>United Air removes couple traveling to wedding from plane</td>\n",
       "      <td>negative</td>\n",
       "      <td>positive</td>\n",
       "      <td>negative</td>\n",
       "      <td>positive</td>\n",
       "    </tr>\n",
       "    <tr>\n",
       "      <th>4</th>\n",
       "      <td>2017-04-27</td>\n",
       "      <td>United Airlines reaches settlement with passenger dragged from plane</td>\n",
       "      <td>positive</td>\n",
       "      <td>positive</td>\n",
       "      <td>negative</td>\n",
       "      <td>positive</td>\n",
       "    </tr>\n",
       "  </tbody>\n",
       "</table>\n",
       "</div>"
      ],
      "text/plain": [
       "        Date  ... deep_learning_sentiment_prob\n",
       "0 2017-03-07  ...  positive                   \n",
       "1 2017-04-07  ...  positive                   \n",
       "2 2017-04-11  ...  negative                   \n",
       "3 2017-04-17  ...  positive                   \n",
       "4 2017-04-27  ...  positive                   \n",
       "\n",
       "[5 rows x 6 columns]"
      ]
     },
     "execution_count": 98,
     "metadata": {
      "tags": []
     },
     "output_type": "execute_result"
    }
   ],
   "source": [
    "columns = ['Date','Header','Stock Price Change', 'Vader Sentiment', 'Logistic Regression Sentiment','deep_learning_sentiment_prob']\n",
    "df_summary = df[columns]\n",
    "df_summary.head()"
   ]
  },
  {
   "cell_type": "code",
   "execution_count": 75,
   "metadata": {
    "id": "N1LoAGeEdS3F"
   },
   "outputs": [],
   "source": []
  }
 ],
 "metadata": {
  "colab": {
   "collapsed_sections": [],
   "name": "United Airlines.ipynb",
   "provenance": []
  },
  "kernelspec": {
   "display_name": "Python 3",
   "language": "python",
   "name": "python3"
  },
  "language_info": {
   "codemirror_mode": {
    "name": "ipython",
    "version": 3
   },
   "file_extension": ".py",
   "mimetype": "text/x-python",
   "name": "python",
   "nbconvert_exporter": "python",
   "pygments_lexer": "ipython3",
   "version": "3.7.9"
  }
 },
 "nbformat": 4,
 "nbformat_minor": 1
}
