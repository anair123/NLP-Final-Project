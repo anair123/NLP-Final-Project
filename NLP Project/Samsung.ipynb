{
 "cells": [
  {
   "cell_type": "code",
   "execution_count": 1,
   "metadata": {
    "colab": {
     "base_uri": "https://localhost:8080/"
    },
    "id": "Bxg_FTXFzh3f",
    "outputId": "61912a2e-f965-482f-ec1b-a4e5e2f56362"
   },
   "outputs": [
    {
     "name": "stdout",
     "output_type": "stream",
     "text": [
      "Mounted at /content/drive\n"
     ]
    }
   ],
   "source": [
    "from google.colab import drive\n",
    "\n",
    "# Mount Google Drive\n",
    "drive.mount('/content/drive')\n",
    "\n",
    "# Implement me\n",
    "# Set working directory\n",
    "abspath = '/content/drive/My Drive/Colab Notebooks/NLP/NLP-Final-Project/NLP Project'"
   ]
  },
  {
   "cell_type": "code",
   "execution_count": 2,
   "metadata": {
    "colab": {
     "base_uri": "https://localhost:8080/",
     "height": 35
    },
    "id": "4yB8_R_uzhvf",
    "outputId": "d63f8067-82b5-4390-e83a-9641d713b2a1"
   },
   "outputs": [
    {
     "data": {
      "application/vnd.google.colaboratory.intrinsic+json": {
       "type": "string"
      },
      "text/plain": [
       "'/content/drive/My Drive/Colab Notebooks/NLP/NLP-Final-Project/NLP Project'"
      ]
     },
     "execution_count": 2,
     "metadata": {
      "tags": []
     },
     "output_type": "execute_result"
    }
   ],
   "source": [
    "import os\n",
    "os.chdir(abspath)\n",
    "os.getcwd()"
   ]
  },
  {
   "cell_type": "code",
   "execution_count": 1,
   "metadata": {
    "id": "YAjKScjuza3D"
   },
   "outputs": [],
   "source": [
    "import requests\n",
    "from bs4 import BeautifulSoup\n",
    "import pandas as pd\n",
    "from datetime import datetime\n",
    "import matplotlib.pyplot as plt\n",
    "import dateutil.parser"
   ]
  },
  {
   "cell_type": "code",
   "execution_count": 2,
   "metadata": {
    "id": "iuSl7GJYza3I"
   },
   "outputs": [],
   "source": [
    "# dictionary of text dates and links (August 2016 to November 2016)\n",
    "\n",
    "date1 = '2016-08-10' \n",
    "url1 = 'https://www.reuters.com/article/us-samsung-elec-m-a-dacor-idUSKCN10L2RR'\n",
    "\n",
    "date2 = '2016-08-22'\n",
    "url2 = 'https://www.reuters.com/article/us-samsung-elec-phones-refurbishment-idUSKCN10X0FT'\n",
    "\n",
    "date3 = '2016-08-24'\n",
    "url3 = 'https://www.reuters.com/article/us-samsung-elec-tencent-holdings-stocks-idUSKCN10Z0BJ'\n",
    "\n",
    "date4 = '2016-08-31'\n",
    "url4 = 'https://www.reuters.com/article/us-nokia-corp-managementchanges-idUSKCN1160I8'\n",
    "\n",
    "\n",
    "date5 = '2016-09-02'\n",
    "url5 = 'https://www.reuters.com/article/us-samsung-elec-smartphones-replacement-idUSKCN1180TV'\n",
    "\n",
    "date6 = '2016-09-06'\n",
    "url6 = 'https://www.reuters.com/article/us-samsung-elec-smartphones-idUSKCN11C0CV'\n",
    "\n",
    "date7 = '2016-09-11'\n",
    "url7 = 'https://www.reuters.com/article/us-samsung-elec-smartphones-stocks-idUSKCN11I02M'\n",
    "\n",
    "date8 = '2016-09-15'\n",
    "url8 = 'https://www.reuters.com/article/us-samsung-elec-smartphones-idUSKCN11L2M1'\n",
    "\n",
    "date7 = '2016-09-19'\n",
    "url7 = 'https://www.reuters.com/article/us-samsung-elec-smartphones-china-idUSKCN11P0J9'\n",
    "\n",
    "date8 = '2016-09-30'\n",
    "url8 = 'https://www.reuters.com/article/us-samsung-china-idUSKCN1200LD'\n",
    "\n",
    "date9 = '2016-11-03'\n",
    "url9 = 'https://www.reuters.com/article/us-samsung-elec-smartphones-idUSKBN12Y0T7'\n",
    "\n",
    "\n",
    "date10 = '2016-11-05'\n",
    "url10 = 'https://www.reuters.com/article/us-samsung-elec-smartphones-idUSKBN13101Q'\n",
    "\n",
    "date11 = '2016-11-14'\n",
    "url11 = 'https://www.reuters.com/article/us-harman-intl-ind-samsung-elec-idUSKBN1390O9'\n",
    "\n",
    "date12 = '2016-11-20'\n",
    "url12 = 'https://www.reuters.com/article/us-samsung-elec-recall-brand-idUSKBN13F146'\n",
    "\n",
    "date13 = '2016-11-22'\n",
    "url13 = 'https://www.reuters.com/article/us-southkorea-politics-idUSKBN13I049'\n",
    "\n",
    "date14 = '2016-11-28'\n",
    "url14 = 'https://www.reuters.com/article/us-samsung-elec-restructuring-idUSKBN13N2GS'\n",
    "\n",
    "\n",
    "\n",
    "url_dict = {date1:url1,\n",
    "            date2:url2,\n",
    "            date3:url3,\n",
    "            date4:url4,\n",
    "            date5:url5,\n",
    "            date6:url6,\n",
    "            date7:url7,\n",
    "            date8:url8,\n",
    "            date9:url9,\n",
    "            date10:url10,\n",
    "            date11:url11,\n",
    "            date12:url12,\n",
    "            date13:url13,\n",
    "            date14:url14,\n",
    "           }\n"
   ]
  },
  {
   "cell_type": "code",
   "execution_count": 3,
   "metadata": {
    "id": "XX_pfpfFza3J"
   },
   "outputs": [],
   "source": [
    "# extract info from each website and store it in dataframe\n",
    "df_text = pd.DataFrame(columns = ['Date','Header','Text'])\n",
    "header = []\n",
    "text = []\n",
    "date = []\n",
    "for key in url_dict:\n",
    "    page = requests.get(url_dict[key]).text\n",
    "    soup = BeautifulSoup(page, 'html.parser')\n",
    "    date.append(datetime.strptime(key, '%Y-%m-%d').date())\n",
    "    url_header = soup.find('h1').text\n",
    "    header.append(url_header)\n",
    "    url_text = soup.find('div', class_ ='ArticleBodyWrapper')\n",
    "    url_text = url_text.text\n",
    "    text.append(url_text)\n",
    "df_text['Date']=date\n",
    "df_text['Header']=header\n",
    "df_text['Text']=text\n",
    "\n",
    "# remove the author and \"min read\" sections\n",
    "df_text_temp = [] \n",
    "for text in df_text['Text']:\n",
    "    loc = text.find('(Reuters)')\n",
    "    df_text_temp.append(text[loc+9:])\n",
    "df_text['Text'] = df_text_temp\n",
    "\n",
    "\n"
   ]
  },
  {
   "cell_type": "code",
   "execution_count": 4,
   "metadata": {
    "colab": {
     "base_uri": "https://localhost:8080/",
     "height": 203
    },
    "id": "5sDo3SNcza3K",
    "outputId": "ac5d5e40-7748-4bef-aace-b989351dc191"
   },
   "outputs": [
    {
     "data": {
      "text/html": [
       "<div>\n",
       "<style scoped>\n",
       "    .dataframe tbody tr th:only-of-type {\n",
       "        vertical-align: middle;\n",
       "    }\n",
       "\n",
       "    .dataframe tbody tr th {\n",
       "        vertical-align: top;\n",
       "    }\n",
       "\n",
       "    .dataframe thead th {\n",
       "        text-align: right;\n",
       "    }\n",
       "</style>\n",
       "<table border=\"1\" class=\"dataframe\">\n",
       "  <thead>\n",
       "    <tr style=\"text-align: right;\">\n",
       "      <th></th>\n",
       "      <th>Date</th>\n",
       "      <th>Header</th>\n",
       "      <th>Text</th>\n",
       "    </tr>\n",
       "  </thead>\n",
       "  <tbody>\n",
       "    <tr>\n",
       "      <th>0</th>\n",
       "      <td>2016-08-10</td>\n",
       "      <td>Samsung Electronics says to acquire U.S. appli...</td>\n",
       "      <td>- South Korean tech giant Samsung Electronics...</td>\n",
       "    </tr>\n",
       "    <tr>\n",
       "      <th>1</th>\n",
       "      <td>2016-08-22</td>\n",
       "      <td>Samsung plans refurbished smartphone program: ...</td>\n",
       "      <td>- Samsung Electronics Co Ltd plans to launch ...</td>\n",
       "    </tr>\n",
       "    <tr>\n",
       "      <th>2</th>\n",
       "      <td>2016-08-24</td>\n",
       "      <td>Samsung, Tencent surge in race to become Asia'...</td>\n",
       "      <td>- Tencent Holdings Ltd 0700.HK and Samsung El...</td>\n",
       "    </tr>\n",
       "    <tr>\n",
       "      <th>3</th>\n",
       "      <td>2016-08-31</td>\n",
       "      <td>Nokia's patent chief departs in wake of Samsun...</td>\n",
       "      <td>- The head of Nokia’s small, but highly profi...</td>\n",
       "    </tr>\n",
       "    <tr>\n",
       "      <th>4</th>\n",
       "      <td>2016-09-02</td>\n",
       "      <td>Samsung recalls Galaxy Note 7 phones after bat...</td>\n",
       "      <td>- Samsung Electronics Co Ltd has recalled all...</td>\n",
       "    </tr>\n",
       "  </tbody>\n",
       "</table>\n",
       "</div>"
      ],
      "text/plain": [
       "        Date                                             Header  \\\n",
       "0 2016-08-10  Samsung Electronics says to acquire U.S. appli...   \n",
       "1 2016-08-22  Samsung plans refurbished smartphone program: ...   \n",
       "2 2016-08-24  Samsung, Tencent surge in race to become Asia'...   \n",
       "3 2016-08-31  Nokia's patent chief departs in wake of Samsun...   \n",
       "4 2016-09-02  Samsung recalls Galaxy Note 7 phones after bat...   \n",
       "\n",
       "                                                Text  \n",
       "0   - South Korean tech giant Samsung Electronics...  \n",
       "1   - Samsung Electronics Co Ltd plans to launch ...  \n",
       "2   - Tencent Holdings Ltd 0700.HK and Samsung El...  \n",
       "3   - The head of Nokia’s small, but highly profi...  \n",
       "4   - Samsung Electronics Co Ltd has recalled all...  "
      ]
     },
     "execution_count": 4,
     "metadata": {},
     "output_type": "execute_result"
    }
   ],
   "source": [
    "df_text['Date'] = df_text['Date'].apply(lambda x: pd.to_datetime(x))\n",
    "df_text.head()"
   ]
  },
  {
   "cell_type": "code",
   "execution_count": 5,
   "metadata": {
    "colab": {
     "base_uri": "https://localhost:8080/",
     "height": 203
    },
    "id": "pFG__rPhza3L",
    "outputId": "7bbdcba0-6eab-4ee1-ec57-84836b9b33ec"
   },
   "outputs": [
    {
     "data": {
      "text/html": [
       "<div>\n",
       "<style scoped>\n",
       "    .dataframe tbody tr th:only-of-type {\n",
       "        vertical-align: middle;\n",
       "    }\n",
       "\n",
       "    .dataframe tbody tr th {\n",
       "        vertical-align: top;\n",
       "    }\n",
       "\n",
       "    .dataframe thead th {\n",
       "        text-align: right;\n",
       "    }\n",
       "</style>\n",
       "<table border=\"1\" class=\"dataframe\">\n",
       "  <thead>\n",
       "    <tr style=\"text-align: right;\">\n",
       "      <th></th>\n",
       "      <th>Date</th>\n",
       "      <th>Open</th>\n",
       "      <th>Volume</th>\n",
       "    </tr>\n",
       "  </thead>\n",
       "  <tbody>\n",
       "    <tr>\n",
       "      <th>0</th>\n",
       "      <td>2016-01-04</td>\n",
       "      <td>25200.0</td>\n",
       "      <td>15346950</td>\n",
       "    </tr>\n",
       "    <tr>\n",
       "      <th>1</th>\n",
       "      <td>2016-01-05</td>\n",
       "      <td>24040.0</td>\n",
       "      <td>10800100</td>\n",
       "    </tr>\n",
       "    <tr>\n",
       "      <th>2</th>\n",
       "      <td>2016-01-06</td>\n",
       "      <td>24160.0</td>\n",
       "      <td>18337600</td>\n",
       "    </tr>\n",
       "    <tr>\n",
       "      <th>3</th>\n",
       "      <td>2016-01-07</td>\n",
       "      <td>23320.0</td>\n",
       "      <td>14119400</td>\n",
       "    </tr>\n",
       "    <tr>\n",
       "      <th>4</th>\n",
       "      <td>2016-01-08</td>\n",
       "      <td>23260.0</td>\n",
       "      <td>12888150</td>\n",
       "    </tr>\n",
       "  </tbody>\n",
       "</table>\n",
       "</div>"
      ],
      "text/plain": [
       "        Date     Open    Volume\n",
       "0 2016-01-04  25200.0  15346950\n",
       "1 2016-01-05  24040.0  10800100\n",
       "2 2016-01-06  24160.0  18337600\n",
       "3 2016-01-07  23320.0  14119400\n",
       "4 2016-01-08  23260.0  12888150"
      ]
     },
     "execution_count": 5,
     "metadata": {},
     "output_type": "execute_result"
    }
   ],
   "source": [
    "# import stock data of netflix\n",
    "df_stock = pd.read_csv('Samsung.csv', header=0)\n",
    "\n",
    "df_stock['Date']=df_stock['Date'].apply(lambda x: datetime.strptime(x, '%Y-%m-%d'))\n",
    "\n",
    "\n",
    "df_stock = df_stock.drop(['High','Low','Close','Adj Close'], axis=1)\n",
    "df_stock.head()"
   ]
  },
  {
   "cell_type": "code",
   "execution_count": 6,
   "metadata": {
    "id": "DmWChRPzza3M"
   },
   "outputs": [],
   "source": [
    "# Merge two dataframes\n",
    "df = pd.merge(df_text, df_stock, how='inner', on='Date')\n",
    "df = df.sort_values('Date')"
   ]
  },
  {
   "cell_type": "code",
   "execution_count": 7,
   "metadata": {
    "colab": {
     "base_uri": "https://localhost:8080/",
     "height": 203
    },
    "id": "EzwwxeQ-za3N",
    "outputId": "983a76de-eb35-4751-a33d-bced5517dc6c"
   },
   "outputs": [
    {
     "data": {
      "text/html": [
       "<div>\n",
       "<style scoped>\n",
       "    .dataframe tbody tr th:only-of-type {\n",
       "        vertical-align: middle;\n",
       "    }\n",
       "\n",
       "    .dataframe tbody tr th {\n",
       "        vertical-align: top;\n",
       "    }\n",
       "\n",
       "    .dataframe thead th {\n",
       "        text-align: right;\n",
       "    }\n",
       "</style>\n",
       "<table border=\"1\" class=\"dataframe\">\n",
       "  <thead>\n",
       "    <tr style=\"text-align: right;\">\n",
       "      <th></th>\n",
       "      <th>Date</th>\n",
       "      <th>Header</th>\n",
       "      <th>Text</th>\n",
       "      <th>Open</th>\n",
       "      <th>Volume</th>\n",
       "      <th>% Change in Stock Price</th>\n",
       "      <th>% Change in Volume</th>\n",
       "    </tr>\n",
       "  </thead>\n",
       "  <tbody>\n",
       "    <tr>\n",
       "      <th>0</th>\n",
       "      <td>2016-08-10</td>\n",
       "      <td>Samsung Electronics says to acquire U.S. appli...</td>\n",
       "      <td>- South Korean tech giant Samsung Electronics...</td>\n",
       "      <td>31340.0</td>\n",
       "      <td>12340350</td>\n",
       "      <td>NaN</td>\n",
       "      <td>NaN</td>\n",
       "    </tr>\n",
       "    <tr>\n",
       "      <th>1</th>\n",
       "      <td>2016-08-22</td>\n",
       "      <td>Samsung plans refurbished smartphone program: ...</td>\n",
       "      <td>- Samsung Electronics Co Ltd plans to launch ...</td>\n",
       "      <td>33480.0</td>\n",
       "      <td>12612200</td>\n",
       "      <td>6.828334</td>\n",
       "      <td>2.202936</td>\n",
       "    </tr>\n",
       "    <tr>\n",
       "      <th>2</th>\n",
       "      <td>2016-08-24</td>\n",
       "      <td>Samsung, Tencent surge in race to become Asia'...</td>\n",
       "      <td>- Tencent Holdings Ltd 0700.HK and Samsung El...</td>\n",
       "      <td>33600.0</td>\n",
       "      <td>15938550</td>\n",
       "      <td>0.358423</td>\n",
       "      <td>26.374066</td>\n",
       "    </tr>\n",
       "    <tr>\n",
       "      <th>3</th>\n",
       "      <td>2016-08-31</td>\n",
       "      <td>Nokia's patent chief departs in wake of Samsun...</td>\n",
       "      <td>- The head of Nokia’s small, but highly profi...</td>\n",
       "      <td>32820.0</td>\n",
       "      <td>20532200</td>\n",
       "      <td>-2.321429</td>\n",
       "      <td>28.821003</td>\n",
       "    </tr>\n",
       "    <tr>\n",
       "      <th>4</th>\n",
       "      <td>2016-09-02</td>\n",
       "      <td>Samsung recalls Galaxy Note 7 phones after bat...</td>\n",
       "      <td>- Samsung Electronics Co Ltd has recalled all...</td>\n",
       "      <td>31900.0</td>\n",
       "      <td>8153000</td>\n",
       "      <td>-2.803169</td>\n",
       "      <td>-60.291639</td>\n",
       "    </tr>\n",
       "  </tbody>\n",
       "</table>\n",
       "</div>"
      ],
      "text/plain": [
       "        Date                                             Header  \\\n",
       "0 2016-08-10  Samsung Electronics says to acquire U.S. appli...   \n",
       "1 2016-08-22  Samsung plans refurbished smartphone program: ...   \n",
       "2 2016-08-24  Samsung, Tencent surge in race to become Asia'...   \n",
       "3 2016-08-31  Nokia's patent chief departs in wake of Samsun...   \n",
       "4 2016-09-02  Samsung recalls Galaxy Note 7 phones after bat...   \n",
       "\n",
       "                                                Text     Open    Volume  \\\n",
       "0   - South Korean tech giant Samsung Electronics...  31340.0  12340350   \n",
       "1   - Samsung Electronics Co Ltd plans to launch ...  33480.0  12612200   \n",
       "2   - Tencent Holdings Ltd 0700.HK and Samsung El...  33600.0  15938550   \n",
       "3   - The head of Nokia’s small, but highly profi...  32820.0  20532200   \n",
       "4   - Samsung Electronics Co Ltd has recalled all...  31900.0   8153000   \n",
       "\n",
       "   % Change in Stock Price  % Change in Volume  \n",
       "0                      NaN                 NaN  \n",
       "1                 6.828334            2.202936  \n",
       "2                 0.358423           26.374066  \n",
       "3                -2.321429           28.821003  \n",
       "4                -2.803169          -60.291639  "
      ]
     },
     "execution_count": 7,
     "metadata": {},
     "output_type": "execute_result"
    }
   ],
   "source": [
    "# show % change in stock price after news article publish\n",
    "pct_stock = df['Open'].pct_change()*100\n",
    "df['% Change in Stock Price'] = pct_stock\n",
    "pct_volume = df['Volume'].pct_change()*100\n",
    "df['% Change in Volume'] = pct_volume\n",
    "df.head()"
   ]
  },
  {
   "cell_type": "markdown",
   "metadata": {
    "id": "Pve_gKlgza3N"
   },
   "source": [
    "# Processing the text\n"
   ]
  },
  {
   "cell_type": "markdown",
   "metadata": {
    "id": "oWZzmQc_za3O"
   },
   "source": [
    "## import spacy libraries\n",
    "import spacy\n",
    "import en_core_web_sm\n",
    "from  spacy.lang.en.stop_words import STOP_WORDS\n",
    "nlp = spacy.load('en_core_web_sm')"
   ]
  },
  {
   "cell_type": "code",
   "execution_count": 8,
   "metadata": {
    "id": "74riQcFJza3O"
   },
   "outputs": [],
   "source": [
    "# import spacy libraries\n",
    "import spacy\n",
    "import en_core_web_sm\n",
    "from  spacy.lang.en.stop_words import STOP_WORDS\n",
    "nlp = spacy.load('en_core_web_sm')"
   ]
  },
  {
   "cell_type": "code",
   "execution_count": 9,
   "metadata": {
    "id": "VOFdt7WZza3O"
   },
   "outputs": [],
   "source": [
    "\n",
    "text_nlp = nlp(df['Text'][1]) \n",
    "# Remove stop words\n",
    "text_nlp_clean = [word for word in text_nlp if word.is_stop == False]\n",
    "# Lemmatize words\n",
    "text_nlp_clean = [word.lemma_ for word in text_nlp_clean]"
   ]
  },
  {
   "cell_type": "code",
   "execution_count": 10,
   "metadata": {
    "colab": {
     "base_uri": "https://localhost:8080/",
     "height": 203
    },
    "id": "OjyFqdkxza3O",
    "outputId": "0f8a50a7-abe3-4516-fb43-b52c96e4a6be"
   },
   "outputs": [
    {
     "data": {
      "text/html": [
       "<div>\n",
       "<style scoped>\n",
       "    .dataframe tbody tr th:only-of-type {\n",
       "        vertical-align: middle;\n",
       "    }\n",
       "\n",
       "    .dataframe tbody tr th {\n",
       "        vertical-align: top;\n",
       "    }\n",
       "\n",
       "    .dataframe thead th {\n",
       "        text-align: right;\n",
       "    }\n",
       "</style>\n",
       "<table border=\"1\" class=\"dataframe\">\n",
       "  <thead>\n",
       "    <tr style=\"text-align: right;\">\n",
       "      <th></th>\n",
       "      <th>Date</th>\n",
       "      <th>Header</th>\n",
       "      <th>Text</th>\n",
       "      <th>Open</th>\n",
       "      <th>Volume</th>\n",
       "      <th>% Change in Stock Price</th>\n",
       "      <th>% Change in Volume</th>\n",
       "      <th>Text (clean)</th>\n",
       "    </tr>\n",
       "  </thead>\n",
       "  <tbody>\n",
       "    <tr>\n",
       "      <th>0</th>\n",
       "      <td>2016-08-10</td>\n",
       "      <td>Samsung Electronics says to acquire U.S. appli...</td>\n",
       "      <td>- South Korean tech giant Samsung Electronics...</td>\n",
       "      <td>31340.0</td>\n",
       "      <td>12340350</td>\n",
       "      <td>NaN</td>\n",
       "      <td>NaN</td>\n",
       "      <td>south korean tech giant Samsung Electronics Co...</td>\n",
       "    </tr>\n",
       "    <tr>\n",
       "      <th>1</th>\n",
       "      <td>2016-08-22</td>\n",
       "      <td>Samsung plans refurbished smartphone program: ...</td>\n",
       "      <td>- Samsung Electronics Co Ltd plans to launch ...</td>\n",
       "      <td>33480.0</td>\n",
       "      <td>12612200</td>\n",
       "      <td>6.828334</td>\n",
       "      <td>2.202936</td>\n",
       "      <td>Samsung Electronics Co Ltd plan launch program...</td>\n",
       "    </tr>\n",
       "    <tr>\n",
       "      <th>2</th>\n",
       "      <td>2016-08-24</td>\n",
       "      <td>Samsung, Tencent surge in race to become Asia'...</td>\n",
       "      <td>- Tencent Holdings Ltd 0700.HK and Samsung El...</td>\n",
       "      <td>33600.0</td>\n",
       "      <td>15938550</td>\n",
       "      <td>0.358423</td>\n",
       "      <td>26.374066</td>\n",
       "      <td>Tencent Holdings Ltd 0700.hk Samsung Electroni...</td>\n",
       "    </tr>\n",
       "    <tr>\n",
       "      <th>3</th>\n",
       "      <td>2016-08-31</td>\n",
       "      <td>Nokia's patent chief departs in wake of Samsun...</td>\n",
       "      <td>- The head of Nokia’s small, but highly profi...</td>\n",
       "      <td>32820.0</td>\n",
       "      <td>20532200</td>\n",
       "      <td>-2.321429</td>\n",
       "      <td>28.821003</td>\n",
       "      <td>head Nokia small highly profitable patent lice...</td>\n",
       "    </tr>\n",
       "    <tr>\n",
       "      <th>4</th>\n",
       "      <td>2016-09-02</td>\n",
       "      <td>Samsung recalls Galaxy Note 7 phones after bat...</td>\n",
       "      <td>- Samsung Electronics Co Ltd has recalled all...</td>\n",
       "      <td>31900.0</td>\n",
       "      <td>8153000</td>\n",
       "      <td>-2.803169</td>\n",
       "      <td>-60.291639</td>\n",
       "      <td>Samsung Electronics Co Ltd recall Galaxy Note ...</td>\n",
       "    </tr>\n",
       "  </tbody>\n",
       "</table>\n",
       "</div>"
      ],
      "text/plain": [
       "        Date                                             Header  \\\n",
       "0 2016-08-10  Samsung Electronics says to acquire U.S. appli...   \n",
       "1 2016-08-22  Samsung plans refurbished smartphone program: ...   \n",
       "2 2016-08-24  Samsung, Tencent surge in race to become Asia'...   \n",
       "3 2016-08-31  Nokia's patent chief departs in wake of Samsun...   \n",
       "4 2016-09-02  Samsung recalls Galaxy Note 7 phones after bat...   \n",
       "\n",
       "                                                Text     Open    Volume  \\\n",
       "0   - South Korean tech giant Samsung Electronics...  31340.0  12340350   \n",
       "1   - Samsung Electronics Co Ltd plans to launch ...  33480.0  12612200   \n",
       "2   - Tencent Holdings Ltd 0700.HK and Samsung El...  33600.0  15938550   \n",
       "3   - The head of Nokia’s small, but highly profi...  32820.0  20532200   \n",
       "4   - Samsung Electronics Co Ltd has recalled all...  31900.0   8153000   \n",
       "\n",
       "   % Change in Stock Price  % Change in Volume  \\\n",
       "0                      NaN                 NaN   \n",
       "1                 6.828334            2.202936   \n",
       "2                 0.358423           26.374066   \n",
       "3                -2.321429           28.821003   \n",
       "4                -2.803169          -60.291639   \n",
       "\n",
       "                                        Text (clean)  \n",
       "0  south korean tech giant Samsung Electronics Co...  \n",
       "1  Samsung Electronics Co Ltd plan launch program...  \n",
       "2  Tencent Holdings Ltd 0700.hk Samsung Electroni...  \n",
       "3  head Nokia small highly profitable patent lice...  \n",
       "4  Samsung Electronics Co Ltd recall Galaxy Note ...  "
      ]
     },
     "execution_count": 10,
     "metadata": {},
     "output_type": "execute_result"
    }
   ],
   "source": [
    "text_clean = []\n",
    "for ind, row in df.iterrows():\n",
    "    \n",
    "    # lower casing\n",
    "    text_lower = row['Text'].lower()\n",
    "    \n",
    "    # tokenization\n",
    "    text_nlp = nlp(row['Text']) \n",
    "    \n",
    "    # remove punctuation and empty space\n",
    "    text_nlp_clean = [word for word in text_nlp if not word.is_punct | word.is_space]\n",
    "    \n",
    "    # Remove stop words\n",
    "    text_nlp_clean = [word for word in text_nlp_clean if word.is_stop == False]\n",
    "    \n",
    "    # Lemmatize tokens\n",
    "    text_nlp_clean = [word.lemma_ for word in text_nlp_clean]\n",
    "    \n",
    "    # add preprocessed text to list\n",
    "    text_clean.append(text_nlp_clean)\n",
    "\n",
    "# turn list of strings to string\n",
    "to_string = []\n",
    "for text in text_clean:\n",
    "    to_string.append(' '.join(text))\n",
    "\n",
    "\n",
    "df['Text (clean)'] = to_string\n",
    "df.head()"
   ]
  },
  {
   "cell_type": "markdown",
   "metadata": {
    "id": "dM1qCU9mza3P"
   },
   "source": [
    "# Using a Pretrained Model "
   ]
  },
  {
   "cell_type": "code",
   "execution_count": 11,
   "metadata": {
    "colab": {
     "base_uri": "https://localhost:8080/"
    },
    "id": "ER3s2PZzza3P",
    "outputId": "070603b8-68a6-4cfd-a48d-73dfb36b412a"
   },
   "outputs": [],
   "source": [
    "from nltk.sentiment import SentimentIntensityAnalyzer"
   ]
  },
  {
   "cell_type": "code",
   "execution_count": 12,
   "metadata": {
    "colab": {
     "base_uri": "https://localhost:8080/"
    },
    "id": "p0bJMeLq0DJq",
    "outputId": "12597e84-ef27-4e2a-d60e-ff9a742ee45d"
   },
   "outputs": [
    {
     "name": "stderr",
     "output_type": "stream",
     "text": [
      "[nltk_data] Downloading package vader_lexicon to\n",
      "[nltk_data]     C:\\Users\\aashi\\AppData\\Roaming\\nltk_data...\n",
      "[nltk_data]   Package vader_lexicon is already up-to-date!\n"
     ]
    },
    {
     "data": {
      "text/plain": [
       "True"
      ]
     },
     "execution_count": 12,
     "metadata": {},
     "output_type": "execute_result"
    }
   ],
   "source": [
    "import nltk\n",
    "nltk.download('vader_lexicon')"
   ]
  },
  {
   "cell_type": "code",
   "execution_count": 13,
   "metadata": {
    "id": "eiEe_20Zza3P"
   },
   "outputs": [],
   "source": [
    "# a function to return sentiment score\n",
    "def polarity_score(text):\n",
    "    sid = SentimentIntensityAnalyzer()\n",
    "    return sid.polarity_scores(text)['compound']\n",
    "\n",
    "vader_score = []\n",
    "for text in df['Text (clean)']:\n",
    "    score = polarity_score(text)\n",
    "    vader_score.append(score)\n",
    "\n",
    "df['Vader Sentiment Score'] = vader_score"
   ]
  },
  {
   "cell_type": "code",
   "execution_count": 14,
   "metadata": {
    "colab": {
     "base_uri": "https://localhost:8080/",
     "height": 203
    },
    "id": "nOMMz4VKza3Q",
    "outputId": "236493c5-27b4-425f-c7ae-363144eca189"
   },
   "outputs": [
    {
     "data": {
      "text/html": [
       "<div>\n",
       "<style scoped>\n",
       "    .dataframe tbody tr th:only-of-type {\n",
       "        vertical-align: middle;\n",
       "    }\n",
       "\n",
       "    .dataframe tbody tr th {\n",
       "        vertical-align: top;\n",
       "    }\n",
       "\n",
       "    .dataframe thead th {\n",
       "        text-align: right;\n",
       "    }\n",
       "</style>\n",
       "<table border=\"1\" class=\"dataframe\">\n",
       "  <thead>\n",
       "    <tr style=\"text-align: right;\">\n",
       "      <th></th>\n",
       "      <th>Date</th>\n",
       "      <th>Header</th>\n",
       "      <th>Text</th>\n",
       "      <th>Open</th>\n",
       "      <th>Volume</th>\n",
       "      <th>% Change in Stock Price</th>\n",
       "      <th>% Change in Volume</th>\n",
       "      <th>Text (clean)</th>\n",
       "      <th>Vader Sentiment Score</th>\n",
       "    </tr>\n",
       "  </thead>\n",
       "  <tbody>\n",
       "    <tr>\n",
       "      <th>0</th>\n",
       "      <td>2016-08-10</td>\n",
       "      <td>Samsung Electronics says to acquire U.S. appli...</td>\n",
       "      <td>- South Korean tech giant Samsung Electronics...</td>\n",
       "      <td>31340.0</td>\n",
       "      <td>12340350</td>\n",
       "      <td>NaN</td>\n",
       "      <td>NaN</td>\n",
       "      <td>south korean tech giant Samsung Electronics Co...</td>\n",
       "      <td>0.8555</td>\n",
       "    </tr>\n",
       "    <tr>\n",
       "      <th>1</th>\n",
       "      <td>2016-08-22</td>\n",
       "      <td>Samsung plans refurbished smartphone program: ...</td>\n",
       "      <td>- Samsung Electronics Co Ltd plans to launch ...</td>\n",
       "      <td>33480.0</td>\n",
       "      <td>12612200</td>\n",
       "      <td>6.828334</td>\n",
       "      <td>2.202936</td>\n",
       "      <td>Samsung Electronics Co Ltd plan launch program...</td>\n",
       "      <td>0.9971</td>\n",
       "    </tr>\n",
       "    <tr>\n",
       "      <th>2</th>\n",
       "      <td>2016-08-24</td>\n",
       "      <td>Samsung, Tencent surge in race to become Asia'...</td>\n",
       "      <td>- Tencent Holdings Ltd 0700.HK and Samsung El...</td>\n",
       "      <td>33600.0</td>\n",
       "      <td>15938550</td>\n",
       "      <td>0.358423</td>\n",
       "      <td>26.374066</td>\n",
       "      <td>Tencent Holdings Ltd 0700.hk Samsung Electroni...</td>\n",
       "      <td>0.9963</td>\n",
       "    </tr>\n",
       "    <tr>\n",
       "      <th>3</th>\n",
       "      <td>2016-08-31</td>\n",
       "      <td>Nokia's patent chief departs in wake of Samsun...</td>\n",
       "      <td>- The head of Nokia’s small, but highly profi...</td>\n",
       "      <td>32820.0</td>\n",
       "      <td>20532200</td>\n",
       "      <td>-2.321429</td>\n",
       "      <td>28.821003</td>\n",
       "      <td>head Nokia small highly profitable patent lice...</td>\n",
       "      <td>0.9930</td>\n",
       "    </tr>\n",
       "    <tr>\n",
       "      <th>4</th>\n",
       "      <td>2016-09-02</td>\n",
       "      <td>Samsung recalls Galaxy Note 7 phones after bat...</td>\n",
       "      <td>- Samsung Electronics Co Ltd has recalled all...</td>\n",
       "      <td>31900.0</td>\n",
       "      <td>8153000</td>\n",
       "      <td>-2.803169</td>\n",
       "      <td>-60.291639</td>\n",
       "      <td>Samsung Electronics Co Ltd recall Galaxy Note ...</td>\n",
       "      <td>0.9854</td>\n",
       "    </tr>\n",
       "  </tbody>\n",
       "</table>\n",
       "</div>"
      ],
      "text/plain": [
       "        Date                                             Header  \\\n",
       "0 2016-08-10  Samsung Electronics says to acquire U.S. appli...   \n",
       "1 2016-08-22  Samsung plans refurbished smartphone program: ...   \n",
       "2 2016-08-24  Samsung, Tencent surge in race to become Asia'...   \n",
       "3 2016-08-31  Nokia's patent chief departs in wake of Samsun...   \n",
       "4 2016-09-02  Samsung recalls Galaxy Note 7 phones after bat...   \n",
       "\n",
       "                                                Text     Open    Volume  \\\n",
       "0   - South Korean tech giant Samsung Electronics...  31340.0  12340350   \n",
       "1   - Samsung Electronics Co Ltd plans to launch ...  33480.0  12612200   \n",
       "2   - Tencent Holdings Ltd 0700.HK and Samsung El...  33600.0  15938550   \n",
       "3   - The head of Nokia’s small, but highly profi...  32820.0  20532200   \n",
       "4   - Samsung Electronics Co Ltd has recalled all...  31900.0   8153000   \n",
       "\n",
       "   % Change in Stock Price  % Change in Volume  \\\n",
       "0                      NaN                 NaN   \n",
       "1                 6.828334            2.202936   \n",
       "2                 0.358423           26.374066   \n",
       "3                -2.321429           28.821003   \n",
       "4                -2.803169          -60.291639   \n",
       "\n",
       "                                        Text (clean)  Vader Sentiment Score  \n",
       "0  south korean tech giant Samsung Electronics Co...                 0.8555  \n",
       "1  Samsung Electronics Co Ltd plan launch program...                 0.9971  \n",
       "2  Tencent Holdings Ltd 0700.hk Samsung Electroni...                 0.9963  \n",
       "3  head Nokia small highly profitable patent lice...                 0.9930  \n",
       "4  Samsung Electronics Co Ltd recall Galaxy Note ...                 0.9854  "
      ]
     },
     "execution_count": 14,
     "metadata": {},
     "output_type": "execute_result"
    }
   ],
   "source": [
    "df.head()"
   ]
  },
  {
   "cell_type": "markdown",
   "metadata": {
    "id": "B7_cU9niza3Q"
   },
   "source": [
    "## Sentiment Analysis"
   ]
  },
  {
   "cell_type": "code",
   "execution_count": 15,
   "metadata": {
    "id": "NuDtTHb2za3Q"
   },
   "outputs": [],
   "source": [
    "# run this cell to import nltk\n",
    "import nltk\n",
    "from os import getcwd\n",
    "import numpy as np\n",
    "import pandas as pd\n",
    "from nltk.corpus import twitter_samples \n",
    "from utils import process_tweet, build_freqs"
   ]
  },
  {
   "cell_type": "code",
   "execution_count": 16,
   "metadata": {
    "colab": {
     "base_uri": "https://localhost:8080/"
    },
    "id": "SoFerlK4za3Q",
    "outputId": "8817ad70-b3dd-49e1-ec3c-a8f4f60ad8df"
   },
   "outputs": [
    {
     "name": "stderr",
     "output_type": "stream",
     "text": [
      "[nltk_data] Downloading package twitter_samples to\n",
      "[nltk_data]     C:\\Users\\aashi\\AppData\\Roaming\\nltk_data...\n",
      "[nltk_data]   Package twitter_samples is already up-to-date!\n",
      "[nltk_data] Downloading package stopwords to\n",
      "[nltk_data]     C:\\Users\\aashi\\AppData\\Roaming\\nltk_data...\n",
      "[nltk_data]   Package stopwords is already up-to-date!\n"
     ]
    },
    {
     "data": {
      "text/plain": [
       "True"
      ]
     },
     "execution_count": 16,
     "metadata": {},
     "output_type": "execute_result"
    }
   ],
   "source": [
    "nltk.download('twitter_samples')\n",
    "nltk.download('stopwords')"
   ]
  },
  {
   "cell_type": "code",
   "execution_count": 17,
   "metadata": {
    "id": "XYUPccuGza3R"
   },
   "outputs": [],
   "source": [
    "\n",
    "# select the set of positive and negative tweets\n",
    "all_positive_tweets = twitter_samples.strings('positive_tweets.json')\n",
    "all_negative_tweets = twitter_samples.strings('negative_tweets.json')"
   ]
  },
  {
   "cell_type": "code",
   "execution_count": 18,
   "metadata": {
    "id": "-BBlW6xzza3R"
   },
   "outputs": [],
   "source": [
    "# split the data into two pieces (80-20), one for training and one for testing (validation set)  \n",
    "test_pos = all_positive_tweets[4000:]\n",
    "train_pos = all_positive_tweets[:4000]\n",
    "test_neg = all_negative_tweets[4000:]\n",
    "train_neg = all_negative_tweets[:4000]\n",
    "\n",
    "train_x = train_pos + train_neg \n",
    "test_x = test_pos + test_neg"
   ]
  },
  {
   "cell_type": "code",
   "execution_count": 19,
   "metadata": {
    "id": "2CtNqbo9za3R"
   },
   "outputs": [],
   "source": [
    "# combine positive and negative labels\n",
    "train_y = np.append(np.ones((len(train_pos), 1)), np.zeros((len(train_neg), 1)), axis=0)\n",
    "test_y = np.append(np.ones((len(test_pos), 1)), np.zeros((len(test_neg), 1)), axis=0)"
   ]
  },
  {
   "cell_type": "code",
   "execution_count": 20,
   "metadata": {
    "colab": {
     "base_uri": "https://localhost:8080/"
    },
    "id": "vPQGqEHMza3R",
    "outputId": "30637781-d0a4-4217-c4ce-08dfba0370a6"
   },
   "outputs": [
    {
     "name": "stdout",
     "output_type": "stream",
     "text": [
      "train_y.shape = (8000, 1)\n",
      "test_y.shape = (2000, 1)\n"
     ]
    }
   ],
   "source": [
    "# Print the shape train and test sets\n",
    "print(\"train_y.shape = \" + str(train_y.shape))\n",
    "print(\"test_y.shape = \" + str(test_y.shape))"
   ]
  },
  {
   "cell_type": "code",
   "execution_count": 21,
   "metadata": {
    "colab": {
     "base_uri": "https://localhost:8080/"
    },
    "id": "Duz1Hkcnza3S",
    "outputId": "b0e66fab-6df2-4bb2-fecb-37e3c62374c2"
   },
   "outputs": [
    {
     "name": "stdout",
     "output_type": "stream",
     "text": [
      "type(freqs) = <class 'dict'>\n",
      "len(freqs) = 11340\n"
     ]
    }
   ],
   "source": [
    "# create frequency dictionary\n",
    "freqs = build_freqs(train_x, train_y)\n",
    "\n",
    "# check the output\n",
    "print(\"type(freqs) = \" + str(type(freqs)))\n",
    "print(\"len(freqs) = \" + str(len(freqs.keys())))"
   ]
  },
  {
   "cell_type": "code",
   "execution_count": 22,
   "metadata": {
    "id": "82lufhirza3S"
   },
   "outputs": [],
   "source": [
    "# UNQ_C3 (UNIQUE CELL IDENTIFIER, DO NOT EDIT)\n",
    "def extract_features(tweet, freqs):\n",
    "    '''\n",
    "    Input: \n",
    "        tweet: a list of words for one tweet\n",
    "        freqs: a dictionary corresponding to the frequencies of each tuple (word, label)\n",
    "    Output: \n",
    "        x: a feature vector of dimension (1,3)\n",
    "    '''\n",
    "    # process_tweet tokenizes, stems, and removes stopwords\n",
    "    word_l = process_tweet(tweet)\n",
    "    \n",
    "    # 3 elements in the form of a 1 x 3 vector\n",
    "    x = np.zeros((1, 3)) \n",
    "    \n",
    "    #bias term is set to 1\n",
    "    x[0,0] = 1 \n",
    "    \n",
    "    ### START CODE HERE (REPLACE INSTANCES OF 'None' with your code) ###\n",
    "    \n",
    "    # loop through each word in the list of words\n",
    "    for word in word_l:\n",
    "        \n",
    "        # increment the word count for the positive label 1\n",
    "        \n",
    "        x[0,1] += freqs.get((word,1),0)\n",
    "        \n",
    "        # increment the word count for the negative label 0\n",
    "        x[0,2] += freqs.get((word,0),0)\n",
    "        \n",
    "    ### END CODE HERE ###\n",
    "    assert(x.shape == (1, 3))\n",
    "    return x"
   ]
  },
  {
   "cell_type": "code",
   "execution_count": 23,
   "metadata": {
    "id": "Xg5q9MqYza3S"
   },
   "outputs": [],
   "source": [
    "# collect the features 'x' and stack them into a matrix 'X'\n",
    "X = np.zeros((len(train_x), 3))\n",
    "for i in range(len(train_x)):\n",
    "    X[i, :]= extract_features(train_x[i], freqs)\n",
    "\n",
    "# training labels corresponding to X\n",
    "Y = train_y"
   ]
  },
  {
   "cell_type": "code",
   "execution_count": 24,
   "metadata": {
    "colab": {
     "base_uri": "https://localhost:8080/"
    },
    "id": "m4FUSWcaza3S",
    "outputId": "59fcd4b2-96a1-48e1-fc0f-c44befb12b19"
   },
   "outputs": [
    {
     "data": {
      "text/plain": [
       "(8000, 1)"
      ]
     },
     "execution_count": 24,
     "metadata": {},
     "output_type": "execute_result"
    }
   ],
   "source": [
    "Y.shape"
   ]
  },
  {
   "cell_type": "markdown",
   "metadata": {
    "id": "raecwKJ6za3T"
   },
   "source": [
    "### SVM Parameters"
   ]
  },
  {
   "cell_type": "code",
   "execution_count": 25,
   "metadata": {
    "colab": {
     "base_uri": "https://localhost:8080/"
    },
    "id": "pJ4VLpMrza3T",
    "outputId": "bf182ade-a62e-44ae-8bfc-98ce51c01115"
   },
   "outputs": [
    {
     "name": "stderr",
     "output_type": "stream",
     "text": [
      "C:\\Users\\aashi\\Anaconda3\\lib\\site-packages\\sklearn\\utils\\validation.py:72: DataConversionWarning: A column-vector y was passed when a 1d array was expected. Please change the shape of y to (n_samples, ), for example using ravel().\n",
      "  return f(**kwargs)\n"
     ]
    },
    {
     "data": {
      "text/plain": [
       "LogisticRegression(random_state=0)"
      ]
     },
     "execution_count": 25,
     "metadata": {},
     "output_type": "execute_result"
    }
   ],
   "source": [
    "# Fitting Logistic Regression to the Training set\n",
    "from sklearn.linear_model import LogisticRegression\n",
    "classifier = LogisticRegression(random_state = 0)\n",
    "classifier.fit(X, Y)"
   ]
  },
  {
   "cell_type": "code",
   "execution_count": 26,
   "metadata": {
    "id": "QrdRM8llza3T"
   },
   "outputs": [],
   "source": [
    "\n",
    "# UNQ_C4 (UNIQUE CELL IDENTIFIER, DO NOT EDIT)\n",
    "def predict_tweet(tweet, freqs):\n",
    "    '''\n",
    "    Input: \n",
    "        tweet: a string\n",
    "        freqs: a dictionary corresponding to the frequencies of each tuple (word, label)\n",
    "        theta: (3,1) vector of weights\n",
    "    Output: \n",
    "        y_pred: the probability of a tweet being positive or negative\n",
    "    '''\n",
    "    ### START CODE HERE (REPLACE INSTANCES OF 'None' with your code) ###\n",
    "    \n",
    "    # extract the features of the tweet and store it into x\n",
    "    x = extract_features(tweet,freqs)\n",
    "    \n",
    "    # make the prediction using x and theta\n",
    "    y_pred = classifier.predict(x)\n",
    "    \n",
    "    ### END CODE HERE ###\n",
    "    \n",
    "    return y_pred"
   ]
  },
  {
   "cell_type": "code",
   "execution_count": 27,
   "metadata": {
    "id": "2ng8MAS1za3T"
   },
   "outputs": [],
   "source": [
    "# UNQ_C4 (UNIQUE CELL IDENTIFIER, DO NOT EDIT)\n",
    "def predict_tweet_prob(tweet, freqs):\n",
    "    '''\n",
    "    Input: \n",
    "        tweet: a string\n",
    "        freqs: a dictionary corresponding to the frequencies of each tuple (word, label)\n",
    "        theta: (3,1) vector of weights\n",
    "    Output: \n",
    "        y_pred: the probability of a tweet being positive or negative\n",
    "    '''\n",
    "    ### START CODE HERE (REPLACE INSTANCES OF 'None' with your code) ###\n",
    "    \n",
    "    # extract the features of the tweet and store it into x\n",
    "    x = extract_features(tweet,freqs)\n",
    "    \n",
    "    # make the prediction using x and theta\n",
    "    y_pred = classifier.predict_proba(x)\n",
    "    \n",
    "    ### END CODE HERE ###\n",
    "    \n",
    "    return y_pred"
   ]
  },
  {
   "cell_type": "code",
   "execution_count": 28,
   "metadata": {
    "colab": {
     "base_uri": "https://localhost:8080/"
    },
    "id": "zFYdT5TPza3U",
    "outputId": "fd1a0261-1ee8-479e-c287-d0a5406168ce"
   },
   "outputs": [
    {
     "data": {
      "text/plain": [
       "array([0.])"
      ]
     },
     "execution_count": 28,
     "metadata": {},
     "output_type": "execute_result"
    }
   ],
   "source": [
    "\n",
    "my_tweet = 'The plot was terrible and I was sad until the ending!'\n",
    "predict_tweet(my_tweet, freqs)"
   ]
  },
  {
   "cell_type": "markdown",
   "metadata": {
    "id": "MArY1C4hza3U"
   },
   "source": [
    "# Testing the Model "
   ]
  },
  {
   "cell_type": "code",
   "execution_count": 29,
   "metadata": {
    "id": "Nu8z9k6Dza3V"
   },
   "outputs": [],
   "source": [
    "sentiment = []\n",
    "sentiment_prob = []\n",
    "for i in df.iloc[:,2]:\n",
    "    sentiment.append(predict_tweet(i, freqs)[0])\n",
    "    sentiment_prob.append(predict_tweet_prob(i, freqs)[0][1])"
   ]
  },
  {
   "cell_type": "code",
   "execution_count": 30,
   "metadata": {
    "colab": {
     "base_uri": "https://localhost:8080/"
    },
    "id": "xHimPs-Vza3V",
    "outputId": "4f578ac6-2930-4325-b097-3aa82b530cdb"
   },
   "outputs": [
    {
     "data": {
      "text/plain": [
       "[1.0, 0.0, 1.0, 0.0, 0.0, 0.0, 0.0, 0.0, 0.0, 0.0, 0.0, 0.0]"
      ]
     },
     "execution_count": 30,
     "metadata": {},
     "output_type": "execute_result"
    }
   ],
   "source": [
    "sentiment\n"
   ]
  },
  {
   "cell_type": "code",
   "execution_count": 31,
   "metadata": {
    "colab": {
     "base_uri": "https://localhost:8080/"
    },
    "id": "PeJ01Gr5za3V",
    "outputId": "591820d0-af86-4fcc-f55c-9f834b74f03b"
   },
   "outputs": [
    {
     "data": {
      "text/plain": [
       "[0.6695515692647688,\n",
       " 0.012659091349997681,\n",
       " 0.8326791209409139,\n",
       " 0.07580211607174459,\n",
       " 0.0025454909101454495,\n",
       " 0.018872802031474317,\n",
       " 0.14695255146151398,\n",
       " 0.22099345466835518,\n",
       " 0.383674231977853,\n",
       " 0.012820320610267732,\n",
       " 0.01687993067573554,\n",
       " 0.009441774949025096]"
      ]
     },
     "execution_count": 31,
     "metadata": {},
     "output_type": "execute_result"
    }
   ],
   "source": [
    "sentiment_prob"
   ]
  },
  {
   "cell_type": "code",
   "execution_count": 32,
   "metadata": {
    "id": "exoXOpjvza3V"
   },
   "outputs": [],
   "source": [
    "df['sentiment'] = sentiment\n",
    "df['sentiment_prob'] = sentiment_prob\n"
   ]
  },
  {
   "cell_type": "markdown",
   "metadata": {
    "id": "i8p8YMiK2iMt"
   },
   "source": [
    "#DEEP LEARNING"
   ]
  },
  {
   "cell_type": "code",
   "execution_count": 35,
   "metadata": {
    "colab": {
     "base_uri": "https://localhost:8080/"
    },
    "id": "z2iT_7G52kxi",
    "outputId": "d0218a29-e7fb-4710-8e1e-af1d837074fb"
   },
   "outputs": [
    {
     "name": "stderr",
     "output_type": "stream",
     "text": [
      "/usr/local/lib/python3.6/dist-packages/ipykernel_launcher.py:4: FutureWarning: Passing a negative integer is deprecated in version 1.0 and will not be supported in future version. Instead, use None to not limit the column width.\n",
      "  after removing the cwd from sys.path.\n"
     ]
    },
    {
     "name": "stdout",
     "output_type": "stream",
     "text": [
      "[nltk_data] Downloading package punkt to /root/nltk_data...\n",
      "[nltk_data]   Unzipping tokenizers/punkt.zip.\n"
     ]
    },
    {
     "data": {
      "text/plain": [
       "True"
      ]
     },
     "execution_count": 35,
     "metadata": {
      "tags": []
     },
     "output_type": "execute_result"
    }
   ],
   "source": [
    "import sklearn\n",
    "import numpy as np\n",
    "import pandas as pd\n",
    "pd.set_option('display.max_colwidth', -1)\n",
    "import sklearn\n",
    "import sklearn.ensemble\n",
    "from sklearn.metrics import accuracy_score, confusion_matrix\n",
    "import sklearn.metrics\n",
    "import tensorflow as tf\n",
    "from scipy.special import softmax\n",
    "import os\n",
    "import numpy as np\n",
    "import pandas as pd\n",
    "import json\n",
    "import torch\n",
    "import torch.nn as nn\n",
    "import nltk\n",
    "from tqdm import tqdm\n",
    "import spacy\n",
    "import torch\n",
    "import torchtext\n",
    "import torchtext.data\n",
    "import torch.nn as nn\n",
    "import torch.nn.functional as F\n",
    "from scipy.special import softmax\n",
    "from torchtext.vocab import Vocab\n",
    "from nltk.corpus import twitter_samples \n",
    "\n",
    "nlp = spacy.load('en')\n",
    "nltk.download('punkt')"
   ]
  },
  {
   "cell_type": "code",
   "execution_count": 36,
   "metadata": {
    "id": "fFplyvA62ku9"
   },
   "outputs": [],
   "source": [
    "device = torch.device(\"cuda\" if torch.cuda.is_available() else \"cpu\")\n",
    "torch.manual_seed(42)\n",
    "np.random.seed(42)\n",
    "torch.backends.cudnn.deterministic = True\n",
    "torch.backends.cudnn.benchmark = False"
   ]
  },
  {
   "cell_type": "code",
   "execution_count": 37,
   "metadata": {
    "id": "Q0H67ZG_2ksU"
   },
   "outputs": [],
   "source": [
    "# %% ----------------------------------- Hyper Parameters --------------------------------------------------------------\n",
    "class Args:\n",
    "    def __init__(self):\n",
    "        self.seq_len = \"get_max_from_data\"\n",
    "        self.embedding_dim = 50\n",
    "        self.n_epochs = 10\n",
    "        self.lr = 1e-2\n",
    "        self.batch_size = 512\n",
    "        self.train = True\n",
    "        self.save_model = True\n",
    "\n",
    "\n",
    "args = Args()"
   ]
  },
  {
   "cell_type": "code",
   "execution_count": 38,
   "metadata": {
    "id": "sXhNwYg02kpy"
   },
   "outputs": [],
   "source": [
    "# %% ----------------------------------- Helper Functions --------------------------------------------------------------\n",
    "def acc(x, y, return_labels=False):\n",
    "    with torch.no_grad():\n",
    "        logits = torch.empty(len(x), 2)\n",
    "        for batch in range(len(x) // args.batch_size + 1):\n",
    "            inds = slice(batch * args.batch_size, (batch + 1) * args.batch_size)\n",
    "            logits[inds] = model(x[inds])\n",
    "        pred_labels = np.argmax(logits.cpu().numpy(), axis=1)\n",
    "    if return_labels:\n",
    "        return pred_labels\n",
    "    else:\n",
    "        return 100*accuracy_score(y.cpu().numpy(), pred_labels)\n",
    "\n",
    "\n",
    "def extract_vocab_dict_and_msl(sentences_train, sentences_dev):\n",
    "    \"\"\" Tokenizes all the sentences and gets a dictionary of unique tokens and also the maximum sequence length \"\"\"\n",
    "    tokens, ms_len = [], 0\n",
    "    for sentence in list(sentences_train) + list(sentences_dev):\n",
    "        tokens_in_sentence = nltk.word_tokenize(sentence)\n",
    "        if ms_len < len(tokens_in_sentence):\n",
    "            ms_len = len(tokens_in_sentence)\n",
    "        tokens += tokens_in_sentence\n",
    "    token_vocab = {key: i for key, i in zip(set(tokens), range(1, len(set(tokens))+1))}\n",
    "    if len(np.unique(list(token_vocab.values()))) != len(token_vocab):\n",
    "        \"There are some rep words...\"\n",
    "    return token_vocab, ms_len\n",
    "\n",
    "\n",
    "def convert_to_ids(raw_sentences, vocab_dict, pad_to):\n",
    "    \"\"\" Takes an NumPy array of raw text sentences and converts to a sequence of token ids \"\"\"\n",
    "    x = np.empty((len(raw_sentences), pad_to))\n",
    "    for idx, sentence in enumerate(raw_sentences):\n",
    "        word_ids = []\n",
    "        for token in nltk.word_tokenize(sentence):\n",
    "\n",
    "            if token not in vocab_dict.keys():\n",
    "              continue \n",
    "            try:\n",
    "                word_ids.append(vocab_dict[token])\n",
    "            except:\n",
    "                word_ids.append(vocab_dict[token])\n",
    "        if pad_to < len(word_ids):\n",
    "            x[idx] = word_ids[:pad_to]\n",
    "        else:\n",
    "            x[idx] = word_ids + [0] * (pad_to - len(word_ids))\n",
    "    return x\n",
    "\n",
    "\n",
    "def get_glove_embeddings(vocab_dict):\n",
    "    with open(\"glove.6B.50d.txt\", \"r\") as s:\n",
    "        glove = s.read()\n",
    "    embeddings_dict = {}\n",
    "    for line in glove.split(\"\\n\")[:-1]:\n",
    "        text = line.split()\n",
    "        if text[0] in vocab_dict:\n",
    "            embeddings_dict[vocab_dict[text[0]]] = torch.from_numpy(np.array(text[1:], dtype=\"float32\"))\n",
    "    return embeddings_dict\n",
    "\n",
    "\n",
    "def get_glove_table(vocab_dict, glove_dict):\n",
    "    lookup_table = torch.empty((len(vocab_dict)+2, 50))\n",
    "    for token_id in sorted(vocab_dict.values()):\n",
    "        if token_id in glove_dict:\n",
    "            lookup_table[token_id] = glove_dict[token_id]\n",
    "        else:\n",
    "            lookup_table[token_id] = torch.zeros((1, 50))  # For unknown tokens\n",
    "    lookup_table[0] = torch.zeros((1, 50))\n",
    "    return lookup_table\n",
    "\n"
   ]
  },
  {
   "cell_type": "code",
   "execution_count": 39,
   "metadata": {
    "id": "88D0vIu52knS"
   },
   "outputs": [],
   "source": [
    "data_train = pd.read_csv(\"original_data/train.tsv\", sep=\"\\t\")\n",
    "x_train_raw, y_train = data_train[\"sentence\"].values, torch.LongTensor(data_train[\"label\"].values).to(device)\n",
    "data_dev = pd.read_csv(\"original_data/dev.tsv\", sep=\"\\t\")\n",
    "x_dev_raw, y_dev = data_dev[\"sentence\"].values, torch.LongTensor(data_dev[\"label\"].values).to(device)\n"
   ]
  },
  {
   "cell_type": "code",
   "execution_count": 40,
   "metadata": {
    "id": "SSrFA2tB2kj9"
   },
   "outputs": [],
   "source": [
    "# %% -------------------------------------- Data Prep ------------------------------------------------------------------\n",
    "try:\n",
    "    with open(\"example_prep_data/vocab_dict.json\", \"r\") as s:\n",
    "        token_ids = json.load(s)\n",
    "    msl = np.load(\"example_prep_data/max_sequence_length.npy\").item()\n",
    "except:\n",
    "    print(\"Tokenizing all the examples to get a vocab dict and the maximum sequence length...\")\n",
    "    token_ids, msl = extract_vocab_dict_and_msl(x_train_raw, x_dev_raw)\n",
    "    os.mkdir(\"example_prep_data\")\n",
    "    with open(\"example_prep_data/vocab_dict.json\", \"w\") as s:\n",
    "        json.dump(token_ids, s)\n",
    "    np.save(\"example_prep_data/max_sequence_length.npy\", np.array([msl]))\n",
    "if args.seq_len == \"get_max_from_data\":\n",
    "    args.seq_len = msl\n",
    "\n",
    "glove_embeddings = get_glove_embeddings(token_ids)\n",
    "\n",
    "try:\n",
    "    x_train = np.load(\"example_prep_data/prep_train_len{}.npy\".format(args.seq_len))\n",
    "    x_dev = np.load(\"example_prep_data/prep_dev_len{}.npy\".format(args.seq_len))\n",
    "except:\n",
    "    print(\"Converting all the sentences to sequences of token ids...\")\n",
    "    x_train = convert_to_ids(x_train_raw, token_ids, args.seq_len)\n",
    "    np.save(\"example_prep_data/prep_train_len{}.npy\".format(args.seq_len), x_train)\n",
    "    x_dev = convert_to_ids(x_dev_raw, token_ids, args.seq_len)\n",
    "    np.save(\"example_prep_data/prep_dev_len{}.npy\".format(args.seq_len), x_dev)\n",
    "\n",
    "\n"
   ]
  },
  {
   "cell_type": "code",
   "execution_count": 41,
   "metadata": {
    "id": "j0SBZbcd2kfJ"
   },
   "outputs": [],
   "source": [
    "x_train, x_dev = torch.LongTensor(x_train).to(device), torch.LongTensor(x_dev).to(device)"
   ]
  },
  {
   "cell_type": "code",
   "execution_count": 42,
   "metadata": {
    "id": "Fo6iO1Fi2kcD"
   },
   "outputs": [],
   "source": [
    "# %% -------------------------------------- CNN Class ------------------------------------------------------------------\n",
    "class CNN(nn.Module):\n",
    "    def __init__(self, vocab_size):\n",
    "        super(CNN, self).__init__()\n",
    "\n",
    "        self.embedding = nn.Embedding(vocab_size + 2, args.embedding_dim)\n",
    "\n",
    "        self.conv1 = nn.Conv1d(args.embedding_dim, args.embedding_dim, 9)\n",
    "        self.convnorm1 = nn.BatchNorm1d(args.embedding_dim)\n",
    "        self.pool1 = nn.MaxPool1d(2)\n",
    "\n",
    "        self.conv2 = nn.Conv1d(args.embedding_dim, args.embedding_dim, 9)\n",
    "        self.convnorm2 = nn.BatchNorm1d(args.embedding_dim)\n",
    "        self.pool2 = nn.MaxPool1d(2)\n",
    "\n",
    "        self.conv3 = nn.Conv1d(args.embedding_dim, args.embedding_dim, 7)\n",
    "        self.linear = nn.Linear(args.embedding_dim, 2)\n",
    "        self.act = torch.relu\n",
    "\n",
    "    def forward(self, x):\n",
    "        # nn.Conv1d operates on the columns, each embedding dimension is considered as one channel\n",
    "        x = self.embedding(x).permute(0, 2, 1)\n",
    "        x = self.pool1(self.convnorm1(self.act(self.conv1(x))))\n",
    "        x = self.pool2(self.convnorm2(self.act(self.conv2(x))))\n",
    "        return self.linear(self.act(self.conv3(x)).reshape(-1, args.embedding_dim))\n",
    "\n"
   ]
  },
  {
   "cell_type": "code",
   "execution_count": 43,
   "metadata": {
    "id": "YdTmkSp-2kZS"
   },
   "outputs": [],
   "source": [
    "# %% -------------------------------------- Training Prep ----------------------------------------------------------\n",
    "model = CNN(len(token_ids)).to(device)\n",
    "look_up_table = get_glove_table(token_ids, glove_embeddings)\n",
    "model.embedding.weight.data.copy_(look_up_table)\n",
    "optimizer = torch.optim.Adam(model.parameters(), lr=args.lr)\n",
    "criterion = nn.CrossEntropyLoss()"
   ]
  },
  {
   "cell_type": "code",
   "execution_count": 44,
   "metadata": {
    "colab": {
     "base_uri": "https://localhost:8080/"
    },
    "id": "d3JC5qkK2kWL",
    "outputId": "67e21de4-a244-46a4-814b-0bea2af25010"
   },
   "outputs": [
    {
     "name": "stderr",
     "output_type": "stream",
     "text": [
      "\r",
      "Epoch 0:   0%|          | 0/132 [00:00<?, ?it/s]"
     ]
    },
    {
     "name": "stdout",
     "output_type": "stream",
     "text": [
      "The no information rate is 50.92\n",
      "Starting training loop...\n"
     ]
    },
    {
     "name": "stderr",
     "output_type": "stream",
     "text": [
      "Epoch 0: 100%|██████████| 132/132 [00:01<00:00, 78.35it/s, Training Loss: 0.33921]\n"
     ]
    },
    {
     "name": "stdout",
     "output_type": "stream",
     "text": [
      "Epoch 0 | Train Loss 0.33921, Train Acc 93.69 - Test Loss 0.59996, Test Acc 80.16\n"
     ]
    },
    {
     "name": "stderr",
     "output_type": "stream",
     "text": [
      "Epoch 1:  15%|█▌        | 20/132 [00:00<00:01, 101.83it/s, Training Loss: 0.20040]"
     ]
    },
    {
     "name": "stdout",
     "output_type": "stream",
     "text": [
      "The model has been saved!\n"
     ]
    },
    {
     "name": "stderr",
     "output_type": "stream",
     "text": [
      "Epoch 1: 100%|██████████| 132/132 [00:01<00:00, 97.31it/s, Training Loss: 0.16086]\n",
      "Epoch 2:  14%|█▎        | 18/132 [00:00<00:01, 91.06it/s, Training Loss: 0.12754]"
     ]
    },
    {
     "name": "stdout",
     "output_type": "stream",
     "text": [
      "Epoch 1 | Train Loss 0.16086, Train Acc 96.42 - Test Loss 0.55414, Test Acc 79.36\n"
     ]
    },
    {
     "name": "stderr",
     "output_type": "stream",
     "text": [
      "Epoch 2: 100%|██████████| 132/132 [00:01<00:00, 97.22it/s, Training Loss: 0.10881]\n",
      "Epoch 3:  12%|█▏        | 16/132 [00:00<00:01, 97.46it/s, Training Loss: 0.09309]"
     ]
    },
    {
     "name": "stdout",
     "output_type": "stream",
     "text": [
      "Epoch 2 | Train Loss 0.10881, Train Acc 97.16 - Test Loss 0.70020, Test Acc 80.28\n",
      "The model has been saved!\n"
     ]
    },
    {
     "name": "stderr",
     "output_type": "stream",
     "text": [
      "Epoch 3: 100%|██████████| 132/132 [00:01<00:00, 97.40it/s, Training Loss: 0.08009]\n",
      "Epoch 4:  11%|█▏        | 15/132 [00:00<00:01, 87.83it/s, Training Loss: 0.06848]"
     ]
    },
    {
     "name": "stdout",
     "output_type": "stream",
     "text": [
      "Epoch 3 | Train Loss 0.08009, Train Acc 98.15 - Test Loss 0.70682, Test Acc 80.50\n",
      "The model has been saved!\n"
     ]
    },
    {
     "name": "stderr",
     "output_type": "stream",
     "text": [
      "Epoch 4: 100%|██████████| 132/132 [00:01<00:00, 95.12it/s, Training Loss: 0.06147]\n",
      "Epoch 5:  14%|█▍        | 19/132 [00:00<00:01, 101.70it/s, Training Loss: 0.05848]"
     ]
    },
    {
     "name": "stdout",
     "output_type": "stream",
     "text": [
      "Epoch 4 | Train Loss 0.06147, Train Acc 97.36 - Test Loss 0.89981, Test Acc 80.28\n"
     ]
    },
    {
     "name": "stderr",
     "output_type": "stream",
     "text": [
      "Epoch 5: 100%|██████████| 132/132 [00:01<00:00, 97.14it/s, Training Loss: 0.05121]\n",
      "Epoch 6:  12%|█▏        | 16/132 [00:00<00:01, 94.10it/s, Training Loss: 0.04486]"
     ]
    },
    {
     "name": "stdout",
     "output_type": "stream",
     "text": [
      "Epoch 5 | Train Loss 0.05121, Train Acc 98.36 - Test Loss 0.83008, Test Acc 81.54\n",
      "The model has been saved!\n"
     ]
    },
    {
     "name": "stderr",
     "output_type": "stream",
     "text": [
      "Epoch 6: 100%|██████████| 132/132 [00:01<00:00, 98.64it/s, Training Loss: 0.04240]\n",
      "Epoch 7:  14%|█▍        | 19/132 [00:00<00:01, 101.77it/s, Training Loss: 0.03924]"
     ]
    },
    {
     "name": "stdout",
     "output_type": "stream",
     "text": [
      "Epoch 6 | Train Loss 0.04240, Train Acc 98.44 - Test Loss 1.28971, Test Acc 80.85\n"
     ]
    },
    {
     "name": "stderr",
     "output_type": "stream",
     "text": [
      "Epoch 7: 100%|██████████| 132/132 [00:01<00:00, 98.29it/s, Training Loss: 0.03465]\n",
      "Epoch 8:  14%|█▍        | 19/132 [00:00<00:01, 94.85it/s, Training Loss: 0.03745]"
     ]
    },
    {
     "name": "stdout",
     "output_type": "stream",
     "text": [
      "Epoch 7 | Train Loss 0.03465, Train Acc 98.37 - Test Loss 1.45630, Test Acc 77.75\n"
     ]
    },
    {
     "name": "stderr",
     "output_type": "stream",
     "text": [
      "Epoch 8: 100%|██████████| 132/132 [00:01<00:00, 98.65it/s, Training Loss: 0.02927]\n",
      "Epoch 9:  14%|█▍        | 19/132 [00:00<00:01, 96.47it/s, Training Loss: 0.02912]"
     ]
    },
    {
     "name": "stdout",
     "output_type": "stream",
     "text": [
      "Epoch 8 | Train Loss 0.02927, Train Acc 99.21 - Test Loss 1.05540, Test Acc 78.78\n"
     ]
    },
    {
     "name": "stderr",
     "output_type": "stream",
     "text": [
      "Epoch 9: 100%|██████████| 132/132 [00:01<00:00, 99.35it/s, Training Loss: 0.02349]\n"
     ]
    },
    {
     "name": "stdout",
     "output_type": "stream",
     "text": [
      "Epoch 9 | Train Loss 0.02349, Train Acc 99.27 - Test Loss 1.33796, Test Acc 78.56\n"
     ]
    }
   ],
   "source": [
    "# %% -------------------------------------- Training Loop ----------------------------------------------------------\n",
    "labels_ditrib = torch.unique(y_dev, return_counts=True)\n",
    "print(\"The no information rate is {:.2f}\".format(100*labels_ditrib[1].max().item()/len(y_dev)))\n",
    "if args.train:\n",
    "    acc_dev_best = 0\n",
    "    print(\"Starting training loop...\")\n",
    "    for epoch in range(args.n_epochs):\n",
    "\n",
    "        loss_train, train_steps = 0, 0\n",
    "        model.train()\n",
    "        total = len(x_train) // args.batch_size + 1  # Initiates a progress bar that will be updated for each batch\n",
    "        with tqdm(total=total, desc=\"Epoch {}\".format(epoch)) as pbar:  # \"Epoch\" will be updated for each epoch\n",
    "            for batch in range(len(x_train)//args.batch_size + 1):\n",
    "                inds = slice(batch*args.batch_size, (batch+1)*args.batch_size)\n",
    "                optimizer.zero_grad()\n",
    "                logits = model(x_train[inds])\n",
    "                loss = criterion(logits, y_train[inds])\n",
    "                loss.backward()\n",
    "                optimizer.step()\n",
    "                loss_train += loss.item()\n",
    "                train_steps += 1\n",
    "                pbar.update(1)  # Updates the progress and the training loss\n",
    "                pbar.set_postfix_str(\"Training Loss: {:.5f}\".format(loss_train / train_steps))\n",
    "\n",
    "        model.eval()\n",
    "        with torch.no_grad():\n",
    "            y_dev_pred = model(x_dev)\n",
    "            loss = criterion(y_dev_pred, y_dev)\n",
    "            loss_test = loss.item()\n",
    "\n",
    "        acc_dev = acc(x_dev, y_dev)\n",
    "        print(\"Epoch {} | Train Loss {:.5f}, Train Acc {:.2f} - Test Loss {:.5f}, Test Acc {:.2f}\".format(\n",
    "            epoch, loss_train/train_steps, acc(x_train, y_train), loss_test, acc_dev))\n",
    "\n",
    "        if acc_dev > acc_dev_best and args.save_model:\n",
    "            torch.save(model.state_dict(), \"cnn_sentiment.pt\")\n",
    "            print(\"The model has been saved!\")\n",
    "            acc_dev_best = acc_dev"
   ]
  },
  {
   "cell_type": "code",
   "execution_count": null,
   "metadata": {
    "id": "qY4v_TD72kTc"
   },
   "outputs": [],
   "source": []
  },
  {
   "cell_type": "code",
   "execution_count": 45,
   "metadata": {
    "colab": {
     "base_uri": "https://localhost:8080/"
    },
    "id": "W3XRdGlI2kQa",
    "outputId": "abb3798c-1c48-4fb5-ded5-efa1f840cdd4"
   },
   "outputs": [
    {
     "name": "stdout",
     "output_type": "stream",
     "text": [
      "[21.500319 -9.975771]\n",
      "[17.522757 -7.729133]\n",
      "[-8.09799    4.3018894]\n",
      "[-0.04248523 -0.02919023]\n",
      "[ 5.798468  -1.8659534]\n",
      "[ 6.025967  -1.7648915]\n",
      "[17.68392   -7.3724775]\n",
      "[ 7.746011  -3.1824927]\n",
      "[-9.330252   5.6907187]\n",
      "[-0.39469644  0.23006952]\n",
      "[ 0.8088293  -0.34689245]\n",
      "[13.106791 -4.366239]\n"
     ]
    }
   ],
   "source": [
    "\n",
    "x = None\n",
    "deep_learning_sentiment_prob = []\n",
    "\n",
    "for i in df.iloc[:,7]:\n",
    "\n",
    "\n",
    "  test = convert_to_ids([i.lower()], token_ids, args.seq_len)\n",
    "\n",
    "\n",
    "  test = torch.LongTensor(test).to(device)\n",
    "  pred = model(test).cpu().detach().numpy()[0]\n",
    "  print(pred)\n",
    "\n",
    "  x = softmax(pred)\n",
    "  deep_learning_sentiment_prob.append(x[1])"
   ]
  },
  {
   "cell_type": "code",
   "execution_count": 46,
   "metadata": {
    "colab": {
     "base_uri": "https://localhost:8080/",
     "height": 1000
    },
    "id": "-A_0Pgey2kNk",
    "outputId": "e0dfb5ee-a279-4073-94c6-d708eb4577b4"
   },
   "outputs": [
    {
     "data": {
      "text/html": [
       "<div>\n",
       "<style scoped>\n",
       "    .dataframe tbody tr th:only-of-type {\n",
       "        vertical-align: middle;\n",
       "    }\n",
       "\n",
       "    .dataframe tbody tr th {\n",
       "        vertical-align: top;\n",
       "    }\n",
       "\n",
       "    .dataframe thead th {\n",
       "        text-align: right;\n",
       "    }\n",
       "</style>\n",
       "<table border=\"1\" class=\"dataframe\">\n",
       "  <thead>\n",
       "    <tr style=\"text-align: right;\">\n",
       "      <th></th>\n",
       "      <th>Date</th>\n",
       "      <th>Header</th>\n",
       "      <th>Text</th>\n",
       "      <th>Open</th>\n",
       "      <th>Volume</th>\n",
       "      <th>% Change in Stock Price</th>\n",
       "      <th>% Change in Volume</th>\n",
       "      <th>Text (clean)</th>\n",
       "      <th>Vader Sentiment Score</th>\n",
       "      <th>sentiment</th>\n",
       "      <th>sentiment_prob</th>\n",
       "      <th>deep_learning_sentiment_prob</th>\n",
       "    </tr>\n",
       "  </thead>\n",
       "  <tbody>\n",
       "    <tr>\n",
       "      <th>0</th>\n",
       "      <td>2016-08-10</td>\n",
       "      <td>Samsung Electronics says to acquire U.S. appliances maker Dacor</td>\n",
       "      <td>- South Korean tech giant Samsung Electronics Co Ltd said on Thursday it will acquire U.S.-based luxury appliances maker Dacor Inc, seeking to boost high-end product sales.Samsung said in a statement it will keep Dacor’s brand name and leave its operations unchanged following the acquisition. The company did not disclose financial terms. The Korea Economic Daily said Samsung paid $150 million to buy the California-based company.Researcher Traqline says Samsung was the top home appliances maker in the United States during the second quarter with a 16.7 percent market share, beating out rivals such as LG Electronics Inc and Whirlpool Corp.Reporting by Se Young Lee; Editing by Richard PullinOur Standards: The Thomson Reuters Trust Principles.</td>\n",
       "      <td>31340.0</td>\n",
       "      <td>12340350</td>\n",
       "      <td>NaN</td>\n",
       "      <td>NaN</td>\n",
       "      <td>south korean tech giant Samsung Electronics Co Ltd say Thursday acquire u.s.-based luxury appliance maker Dacor Inc seek boost high end product sale Samsung say statement Dacor brand leave operation unchanged follow acquisition company disclose financial term Korea Economic Daily say Samsung pay $ 150 million buy California base company Researcher Traqline say Samsung home appliance maker United States second quarter 16.7 percent market share beat rival LG Electronics Inc Whirlpool Corp reporting Se Young Lee editing Richard PullinOur Standards Thomson Reuters Trust Principles</td>\n",
       "      <td>0.8555</td>\n",
       "      <td>1.0</td>\n",
       "      <td>0.669653</td>\n",
       "      <td>2.138494e-14</td>\n",
       "    </tr>\n",
       "    <tr>\n",
       "      <th>1</th>\n",
       "      <td>2016-08-22</td>\n",
       "      <td>Samsung plans refurbished smartphone program: source</td>\n",
       "      <td>- Samsung Electronics Co Ltd plans to launch a program to sell refurbished used versions of its premium smartphones as early as next year, a person with direct knowledge of the matter told Reuters.The logo of Samsung Electronics is seen at its headquarters in Seoul, South Korea, July 4, 2016. Picture taken on July 4, 2016.  REUTERS/Kim Hong-Ji - RTX2K296The South Korean technology firm is looking for ways to sustain earnings momentum after reviving its mobile profits by restructuring its product line-up. As growth in the global smartphone market hits a plateau, Samsung wants to maximize its cost efficiency and keep operating margins above 10 percent.The world’s top smartphone maker will refurbish high-end phones returned to the company by users who signed up for one-year upgrade programs in markets such as South Korea and the United States.Samsung would then re-sell these phones at a lower price, the person said, declining to be identified as the plan was not yet public.The person declined to say how big a discount the refurbished phones would be sold at, which markets the phones would be sold in or how many refurbished devices Samsung could sell.A Samsung spokeswoman said the company does not comment on speculation.It was not clear to what extent the phones would be altered, but refurbished phones typically are fitted with parts such as a new casing or battery.Rival Apple Inc’s iPhone has a re-sale value of around 69 percent of its original price after about one year from launch, while Samsung’s flagship Galaxy sells for 51 percent of the original price in the U.S. market, according to BNP Paribas.Refurbished phones could help vendors such as Samsung boost their presence in emerging markets such as India, where high-end devices costing $800 or so are beyond most buyers.Apple sells refurbished iPhones in a number of markets including the United States, but does not disclose sales figures. It is trying to sell such iPhones in India, where the average smartphone sells for less than $90.Selling used phones could help Samsung fend off lower-cost Chinese rivals that have been eating into its market share, and free up some capital to invest elsewhere or boost marketing expenditure.Deloitte says the used smartphone market will be worth more than $17 billion this year, with 120 million devices sold or traded in to manufacturers or carriers - around 8 percent of total smartphone sales. Some market experts expect the used market to grow fast as there are fewer technology breakthroughs.“Some consumers may prefer to buy refurbished, used premium models in lieu of new budget brands, possibly cannibalizing sales of new devices from those budget manufacturers,” Deloitte said in a report.CANNIBALIZATION RISKSamsung’s refurbishment program, details of which the person said could be finalised as early as 2017, could help the firm generate revenue from dated high-end smartphones returned by users upgrading to newer versions.The company’s latest premium phones, the Galaxy S7 and Galaxy Note 7, have received favorable reviews, suggesting cheaper, refurbished versions could be popular. At U.S. carrier Verizon Communications, the Galaxy S7 edge with 32-gigabyte storage retails for $792 without subsidies, while the Note 7 costs $864.The program could help Samsung defend market share in emerging countries by bolstering mid-tier sales. Refurbished phones could also appeal to enterprise clients who want certain security or software products pre-installed on phones to give to their employees, the source said.The risk of offering refurbished devices is that they could potentially cannibalize sales of Samsung’s other mid-tier devices.Expectations for solid smartphone sales helped Samsung shares to a record 1.675 million won each on Friday, taking two-day gains to 7 percent and adding $15 billion in market value. The shares traded down 0.36 percent in Seoul on Monday.Reporting by Se Young Lee and Miyoung Kim; Editing by Tony Munroe and Ian GeogheganOur Standards: The Thomson Reuters Trust Principles.</td>\n",
       "      <td>33480.0</td>\n",
       "      <td>12612200</td>\n",
       "      <td>6.828334</td>\n",
       "      <td>2.202936</td>\n",
       "      <td>Samsung Electronics Co Ltd plan launch program sell refurbish version premium smartphone early year person direct knowledge matter tell Reuters logo Samsung Electronics see headquarters Seoul South Korea July 4 2016 picture take July 4 2016 REUTERS Kim Hong Ji rtx2k296the south korean technology firm look way sustain earning momentum revive mobile profit restructure product line growth global smartphone market hit plateau Samsung want maximize cost efficiency operate margin 10 percent world smartphone maker refurbish high end phone return company user sign year upgrade program market South Korea United States Samsung sell phone low price person say decline identify plan public person decline big discount refurbish phone sell market phone sell refurbish device Samsung sell Samsung spokeswoman say company comment speculation clear extent phone alter refurbish phone typically fit part new casing battery Rival Apple Inc iPhone sale value 69 percent original price year launch Samsung flagship Galaxy sell 51 percent original price U.S. market accord BNP Paribas refurbish phone help vendor Samsung boost presence emerge market India high end device cost $ 800 buyer Apple sell refurbish iphone number market include United States disclose sale figure try sell iphone India average smartphone sell $ 90.selling phone help Samsung fend low cost chinese rival eat market share free capital invest boost marketing expenditure Deloitte say smartphone market worth $ 17 billion year 120 million device sell trade manufacturer carrier 8 percent total smartphone sale market expert expect market grow fast few technology breakthrough “some consumer prefer buy refurbish premium model lieu new budget brand possibly cannibalize sale new device budget manufacturer Deloitte say report CANNIBALIZATION risksamsung refurbishment program detail person say finalise early 2017 help firm generate revenue date high end smartphone return user upgrade new version company late premium phone Galaxy S7 Galaxy Note 7 receive favorable review suggest cheap refurbish version popular U.S. carrier Verizon Communications Galaxy S7 edge 32-gigabyte storage retail $ 792 subsidy Note 7 cost $ 864.the program help Samsung defend market share emerge country bolster mid tier sale refurbish phone appeal enterprise client want certain security software product pre instal phone employee source say risk offer refurbish device potentially cannibalize sale Samsung mid tier device expectation solid smartphone sale help Samsung share record 1.675 million win Friday take day gain 7 percent add $ 15 billion market value share trade 0.36 percent Seoul Monday report Se Young Lee Miyoung Kim editing Tony Munroe Ian GeogheganOur Standards Thomson Reuters Trust Principles</td>\n",
       "      <td>0.9971</td>\n",
       "      <td>0.0</td>\n",
       "      <td>0.012680</td>\n",
       "      <td>1.079552e-11</td>\n",
       "    </tr>\n",
       "    <tr>\n",
       "      <th>2</th>\n",
       "      <td>2016-08-24</td>\n",
       "      <td>Samsung, Tencent surge in race to become Asia's most valuable firm</td>\n",
       "      <td>- Tencent Holdings Ltd 0700.HK and Samsung Electronics Co Ltd 005930.KS are racing to be crowned Asia's most valuable company as expectations for robust earnings growth push their share prices to record highs.Their surge - both have gained by a third this year - has made them the world's best performing large-cap tech stocks and highlights how these nimble Asian firms are thriving while rivals Apple Inc AAPL.O and Alibaba BABA.N have struggled.“These companies can grow earnings despite weaker global growth,” said Andrew Gillan, head of Asia ex-Japan equities at fund managing firm Henderson Global Investors, which is overweight on Asian technology firms.“The operating fundamentals of the Chinese internet sector particularly have surprised positively in the most recent quarterly results.”While many investors remain upbeat about Samsung and Tencent, some caution the firms are vulnerable to rapid swings in sentiment on any sign of slowing momentum. Samsung and Tencent have been more volatile than the Asia tech sector .MIAS0IT00PUS and the broader market .MIAS00000PUS this year.On Wednesday, Samsung said sales of its latest flagship smartphone were out-stripping supply, but second-half profits could still take a hit if production shortfalls are not fixed and a recovery in components demand fails to eventuate.Moody’s Investor Service also warned that Samsung’s profit margins might narrow in the second half because of seasonal factors in the consumer electronics business and competitive pressures.For Tencent, the market expectations that are driving shares higher are themselves a risk, according to Nomura. A faster-than-expected slowdown in personal computer game revenue, aggressive spending and new products or business models from competitors could weigh on earnings, the bank warned.People are silhouetted as they pose with mobile devices in front of a screen projected with a Samsung logo, in this picture illustration taken in Zenica October 29, 2014.     REUTERS/Dado Ruvic/Illustration/File Photo - RTSJ41VTHE NUMBERSSamsung and Tencent have added about $30 billion in market value since Thursday, surging to all-time highs. Tencent is valued at $249 billion, only 4 percent smaller than the most valuable Asian firm, China Mobile 0941.HK, at $259 billion. Samsung is now worth $239 billion. Tencent is now the world’s 12th-biggest company by market value and Samsung the 17th-largest, Thomson Reuters data shows. That’s up from Nos. 26 and 33 respectively just five months ago, according to a PricewaterhouseCoopers ranking released March 31.Samsung shares’ have significantly outperformed Apple’s - the Korean firm has leapt 50 percent over the past year, while the U.S. company has gained 3 percent amid concern about weak sales in China.The gap between Samsung’s price-to-earnings ratio of 12.4 and Apple’s 12.7 is now the narrowest since late 2011, although Samsung is still worth less than half the $586 billion Apple, according to Thomson Reuters data.Samsung’s share price growth spurt comes after years of struggle in its smartphone business which left investors impatient for higher returns.The firm revived mobile profits by restructuring its product line-up this year and is seeking ways to sustain earnings momentum. Buybacks and higher dividends have also boosted shares.Tencent is significantly more expensive than Samsung. The Chinese internet firm, whose popular WeChat and Weixin messaging apps in China saw active monthly user numbers jump 34 percent in the second quarter, trades at 46.8 times earnings, closing in on Facebook's FB.O 59.China’s slowest economic growth in 25 years and some questionable acquisitions have clouded the outlook for Chinese e-commerce giant Alibaba, but Tencent has managed to thrive thanks in part to its focus on rapidly growing mobile gaming.Tencent outshone peers including Baidu BIDU.O with a forecast-beating 47 percent jump in second-quarter profit, after it diversified into areas such as music, video and advertising.HSBC expects further earnings growth, driven by new income streams such as advertising, premium content, cloud services and finance.Reporting by Nichola Saminather; Additional reporting by Dahee Kim; Editing by Miyoung Kim and Stephen CoatesOur Standards: The Thomson Reuters Trust Principles.</td>\n",
       "      <td>33600.0</td>\n",
       "      <td>15938550</td>\n",
       "      <td>0.358423</td>\n",
       "      <td>26.374066</td>\n",
       "      <td>Tencent Holdings Ltd 0700.hk Samsung Electronics Co Ltd 005930.ks race crown Asia valuable company expectation robust earning growth push share price record high surge gain year world best perform large cap tech stock highlight nimble asian firm thrive rival Apple Inc AAPL.O Alibaba BABA.N struggle “these company grow earning despite weak global growth say Andrew Gillan head Asia ex Japan equity fund manage firm Henderson Global Investors overweight asian technology firm “the operate fundamental chinese internet sector particularly surprise positively recent quarterly result ”while investor remain upbeat Samsung Tencent caution firm vulnerable rapid swing sentiment sign slow momentum Samsung Tencent volatile Asia tech sector .MIAS0IT00PUS broad market .MIAS00000PUS year Wednesday Samsung say sale late flagship smartphone strip supply second half profit hit production shortfall fix recovery component demand fail eventuate Moody Investor Service warn Samsung profit margin narrow second half seasonal factor consumer electronic business competitive pressure Tencent market expectation drive share high risk accord Nomura faster expect slowdown personal computer game revenue aggressive spending new product business model competitor weigh earning bank warn People silhouette pose mobile device screen project Samsung logo picture illustration take Zenica October 29 2014 REUTERS Dado Ruvic Illustration File Photo rtsj41vthe numberssamsung Tencent add $ 30 billion market value Thursday surge time high tencent value $ 249 billion 4 percent small valuable asian firm China Mobile 0941.hk $ 259 billion Samsung worth $ 239 billion tencent world 12th big company market value Samsung 17th large Thomson Reuters data show Nos 26 33 respectively month ago accord PricewaterhouseCoopers rank release March 31.Samsung share significantly outperform Apple korean firm leapt 50 percent past year U.S. company gain 3 percent amid concern weak sale China gap Samsung price earning ratio 12.4 Apple 12.7 narrow late 2011 Samsung worth half $ 586 billion Apple accord Thomson Reuters datum Samsung share price growth spurt come year struggle smartphone business leave investor impatient high return firm revive mobile profit restructure product line year seek way sustain earning momentum buyback high dividend boost share tencent significantly expensive Samsung chinese internet firm popular WeChat Weixin message app China see active monthly user number jump 34 percent second quarter trade 46.8 time earning close Facebook FB.O 59.china slow economic growth 25 year questionable acquisition cloud outlook chinese e commerce giant Alibaba Tencent manage thrive thank focus rapidly grow mobile gaming tencent outshone peer include Baidu BIDU.O forecast beat 47 percent jump second quarter profit diversify area music video advertising HSBC expect earning growth drive new income stream advertising premium content cloud service finance reporting Nichola Saminather additional reporting Dahee Kim editing Miyoung Kim Stephen CoatesOur Standards Thomson Reuters Trust Principles</td>\n",
       "      <td>0.9966</td>\n",
       "      <td>1.0</td>\n",
       "      <td>0.832820</td>\n",
       "      <td>9.999957e-01</td>\n",
       "    </tr>\n",
       "    <tr>\n",
       "      <th>3</th>\n",
       "      <td>2016-08-31</td>\n",
       "      <td>Nokia's patent chief departs in wake of Samsung pacts</td>\n",
       "      <td>- The head of Nokia’s small, but highly profitable patent licensing division is leaving after two years in the role, the Finnish company said on Wednesday, weeks after he sealed a pace-setting patent deal with Samsung Electronics.Headquarters of Finnish telecommunication network company Nokia are pictured in Espoo, Finland August 4, 2016. Lehtikuva/Irene Stachon/via REUTERSRamzi Haidamus, 52, is stepping down as president of the Nokia Technologies unit that handles patents and development of new consumer products. The unit also recently struck a licensing deal with HMD Global it hopes will herald the return of the Nokia name into handsets.“Given (the unit’s) progress, now is the right time for me to explore new opportunities to pursue my passion for building and transforming businesses,” Haidamus said in a statement.Haidamus spent a dozen years running patent licensing for Dolby Laboratories before joining Nokia, and will leave at the end of next month, Nokia said. He had remained based in Silicon Valley even after joining the Finnish company in 2014.His departure comes little over a month after Nokia announced the second of two patent licensing agreements with Samsung, the world’s top mobile handset maker, and which takes effect this quarter. It is set to boost Nokia’s patent and brand royalties to an annualized run-rate of around 950 million euros compared to the company’s previous estimate of 800 million euros.The second deal, which covers Nokia-owned patents for use by Samsung in its future products, restored investor confidence after an initial patent pact earlier this year was considered unfavorable to Nokia and poorly received.The Samsung agreements were the first since Nokia sold its handset business to Microsoft in 2014 and potentially set the terms for future patent licensing deals with other major tech firms such as Apple, Huawei [HWT.UL] and Qualcomm, which aren’t due to be renegotiated for several years, financial analysts said.Nokia Technologies, whose principal asset is its broad catalog of patents built up in the days when the company dominated the mobile handset business, contributed less than 2 percent of group revenue in the latest quarter, but 14 percent of profits. It had sales of 391 million euros in the first half of 2016.The unit is also in charge of Nokia’s bid to bring the brand’s mobile phones back to the market and move into other areas of consumer technology, but this push remains in its early days.“I am confident that with its strong foundation, Nokia Technologies will continue its progress without missing a beat,” said chief executive Rajeev Suri. There will be no change in the unit’s strategy.Nokia said it has begun the search for a successor and that Brad Rodrigues, hired earlier this year to head strategy and business development at Nokia Technologies, will assume the role of acting president.Reporting by Tuomas Forsell and Eric Auchard; Editing by Jussi Rosendahl and Alexandra HudsonOur Standards: The Thomson Reuters Trust Principles.</td>\n",
       "      <td>32820.0</td>\n",
       "      <td>20532200</td>\n",
       "      <td>-2.321429</td>\n",
       "      <td>28.821003</td>\n",
       "      <td>head Nokia small highly profitable patent licensing division leave year role finnish company say Wednesday week seal pace set patent deal Samsung Electronics headquarter finnish telecommunication network company Nokia picture Espoo Finland August 4 2016 Lehtikuva Irene Stachon reutersramzi Haidamus 52 step president Nokia Technologies unit handle patent development new consumer product unit recently strike licensing deal HMD Global hope herald return Nokia handset “Given unit progress right time explore new opportunity pursue passion building transform business Haidamus say statement Haidamus spend dozen year run patent licensing Dolby Laboratories join Nokia leave end month Nokia say remain base Silicon Valley join finnish company 2014.his departure come little month Nokia announce second patent licensing agreement Samsung world mobile handset maker take effect quarter set boost Nokia patent brand royalty annualize run rate 950 million euro compare company previous estimate 800 million euro second deal cover Nokia own patent use Samsung future product restore investor confidence initial patent pact earlier year consider unfavorable Nokia poorly receive Samsung agreement Nokia sell handset business Microsoft 2014 potentially set term future patent licensing deal major tech firm Apple Huawei hwt.ul Qualcomm renegotiate year financial analyst say Nokia Technologies principal asset broad catalog patent build day company dominate mobile handset business contribute 2 percent group revenue late quarter 14 percent profit sale 391 million euro half 2016.the unit charge Nokia bid bring brand mobile phone market area consumer technology push remain early day “I confident strong foundation Nokia Technologies continue progress miss beat say chief executive Rajeev Suri change unit strategy Nokia say begin search successor Brad Rodrigues hire earlier year head strategy business development Nokia Technologies assume role act president reporting Tuomas Forsell Eric Auchard editing Jussi Rosendahl Alexandra HudsonOur Standards Thomson Reuters Trust Principles</td>\n",
       "      <td>0.9930</td>\n",
       "      <td>0.0</td>\n",
       "      <td>0.075170</td>\n",
       "      <td>5.033237e-01</td>\n",
       "    </tr>\n",
       "    <tr>\n",
       "      <th>4</th>\n",
       "      <td>2016-09-02</td>\n",
       "      <td>Samsung recalls Galaxy Note 7 phones after battery fires</td>\n",
       "      <td>- Samsung Electronics Co Ltd has recalled all Galaxy Note 7 smartphones equipped with batteries it has found to be fire-prone and halted their sales in 10 markets, denting a revival of the firm’s mobile business.Koh Dong-jin, head of the South Korean company’s smartphone business, declined to comment on how many phones needed to be replaced, but said Samsung had sold 2.5 million of the premium devices so far.Speaking at a news conference on Friday, Koh expressed regret over the recall, which will affect markets including South Korea and the United States. Models in China feature a different battery and are not being recalled by Samsung, the world’s biggest smartphone vendor.The recall comes just over two weeks after the company launched its latest premium phone, which features an outsized screen and high-resolution camera. It follows reports of the 988,900 won ($885) phone igniting while charging.The manufacturer plans to replace not only phones with faulty batteries sold to consumers, but also retailer inventories and units in transit. Nomura estimated that more than 1 million units have been sold to end consumers.“I can’t comment on exactly how much the cost will be, but it pains my heart that it will be such a big number,” Koh said.Strategy Analytics said the combined cost of the recall and lost sales would lop $5 billion off Samsung’s smartphone revenue this year and cut smartphone profit margin by 1.5 percent.The scale of the recall is unprecedented for Samsung, which prides itself on its manufacturing prowess. While recalls in the smartphone industry do happen, including for rival Apple Inc, the nature of the problem for the Galaxy Note 7 is a serious blow to Samsung’s reputation, analysts said.The company should act quickly to minimize damage to its smartphone recovery, after a string of product successes had reversed a fall in market share, they added.Slideshow ( 8 images )CUSTOMERS PUT ON HOLDThe phone first launched in 10 markets in North America, Asia and the Middle East. Further roll-outs have occurred since in markets like China, where sales started just this week. Its wider availability, set for coming weeks, is now on hold.While there are occasional reports of phones catching fire or otherwise burning users, documented cases that lead to widespread product recalls remain relatively rare. Samsung said it was aware of 35 reports of affected Note 7 batteries.In 2007, the largest battery recall in consumer electronics history took place when Nokia, then the world’s top mobile handset maker, offered to replace 46 million phone batteries produced for it by Japanese maker Matsushita Battery.Germany’s biggest operator, Deutsche Telekom, said it had stopped delivering orders for the Galaxy Note 7, while French operator Orange said on its website that it had stopped pre-sales of the phone and postponed its planned sales launch - scheduled for Friday.In Britain, mobile carriers EE and Vodafone continue to accept pre-orders for the Note 7 on their sites. A Vodafone spokesman said its planned Sept. 19 sales launch could now slip, but the company was waiting for more details from Samsung to decide.U.S. operators have been taking pre-orders since early August. All major wireless carriers, including No. 1 U.S. wireless provider Verizon Communications Inc, said they had stopped selling the Galaxy Note 7. Samsung said in a separate statement it started an exchange program in the country for the Note 7.Major U.S. retailers Best Buy and Target also said they had halted sales of the Note 7.Slideshow ( 8 images )Verizon said that if a customer wants to return or exchange the Galaxy Note 7, it would waive through Sept. 30 the restocking fee it charges customers. T-Mobile US, majority owned by Deutsche Telekom, said in a statement it would also waive restocking and shipping charges to customers who want to return the recalled phone.SECOND-HALF HOPESSamsung has said it aimed for the Note 7 to maintain strong sales momentum in the second half of the year against stiffening competition from the likes of Apple, which is widely expected to release its latest iPhone next week.Strategy Analytics said Samsung will likely sell fewer than 10 million Note 7s this year compared with its previous estimate of 14 million globally.Samsung said new sales of the Note 7 in affected markets would resume after it deals with replacements, a process it expects will begin in about two weeks. The firm would extend refund periods for affected customers and offer exchanges for other Samsung phones, Koh said.Investors sold Samsung shares after the delay announcement on Thursday, stripping about $7 billion from the firm’s market value, which remains just off recent record highs. Sentiment recovered somewhat in trading on Friday as the shares rose 0.6 percent compared with 0.3 percent in the broader market.Credit Suisse said a recall or major shipment delays could wipe 1.5 trillion won ($1.34 billion) from Samsung’s 2016 operating profit estimate of 30.2 trillion won in an “absolute worst case” scenario.But the brokerage said that scenario was unlikely, as it expected Samsung to resolve the problem before the fourth quarter.HI Securities analyst James Song said the replacement costs may be somewhat limited as Samsung could recycle components of the recalled phones.“It is clever for Samsung to replace the affected models, not offering fixes,” he said, adding this would help consumer confidence.Samsung’s mobile division accounted for about 54 percent of the firm’s January-June operating profit of 14.8 trillion won.($1 = 1,117.4300 Korean won)Additional reporting by Hyunjoo Jin in Seoul, Harro ten Wolde in Berlin, Mathieu Rosemain in Paris, Eric Auchard in Frankfurt, Laura Gardner in London, Subrat Patnaik in Bengaluru and Malathi Nayak in New York; Editing by Christopher Cushing, Alexander Smith, Mark Potter and Frances KerryOur Standards: The Thomson Reuters Trust Principles.</td>\n",
       "      <td>31900.0</td>\n",
       "      <td>8153000</td>\n",
       "      <td>-2.803169</td>\n",
       "      <td>-60.291639</td>\n",
       "      <td>Samsung Electronics Co Ltd recall Galaxy Note 7 smartphone equip battery find fire prone halt sale 10 market dent revival firm mobile business Koh Dong jin head south korean company smartphone business decline comment phone need replace say Samsung sell 2.5 million premium device far speak news conference Friday Koh express regret recall affect market include South Korea United States model China feature different battery recall Samsung world big smartphone vendor recall come week company launch late premium phone feature outsized screen high resolution camera follow report 988,900 won $ 885 phone igniting charge manufacturer plan replace phone faulty battery sell consumer retailer inventory unit transit Nomura estimate 1 million unit sell end consumer “I comment exactly cost pain heart big number Koh say Strategy Analytics say combined cost recall lose sale lop $ 5 billion Samsung smartphone revenue year cut smartphone profit margin 1.5 percent scale recall unprecedented Samsung pride manufacturing prowess recall smartphone industry happen include rival Apple Inc nature problem Galaxy Note 7 blow Samsung reputation analyst say company act quickly minimize damage smartphone recovery string product success reverse fall market share add Slideshow 8 image customer HOLDThe phone launch 10 market North America Asia Middle East roll out occur market like China sale start week wide availability set come week hold occasional report phone catch fire burn user document case lead widespread product recall remain relatively rare Samsung say aware 35 report affect Note 7 battery 2007 large battery recall consumer electronic history take place Nokia world mobile handset maker offer replace 46 million phone battery produce japanese maker Matsushita Battery Germany big operator Deutsche Telekom say stop deliver order Galaxy Note 7 french operator Orange say website stop pre sale phone postpone plan sale launch schedule Friday Britain mobile carrier EE Vodafone continue accept pre order Note 7 site Vodafone spokesman say plan September 19 sale launch slip company wait detail Samsung decide U.S. operator take pre order early August major wireless carrier include 1 U.S. wireless provider Verizon Communications Inc say stop sell Galaxy Note 7 Samsung say separate statement start exchange program country Note 7.Major U.S. retailer best Buy Target say halt sale Note 7.slideshow 8 image Verizon say customer want return exchange Galaxy Note 7 waive September 30 restocking fee charge customer T Mobile majority own Deutsche Telekom say statement waive restocking shipping charge customer want return recall phone SECOND half hopessamsung say aim Note 7 maintain strong sale momentum second half year stiffening competition like Apple widely expect release late iPhone week Strategy Analytics say Samsung likely sell few 10 million Note 7 year compare previous estimate 14 million globally Samsung say new sale Note 7 affected market resume deal replacement process expect begin week firm extend refund period affected customer offer exchange Samsung phone Koh say investor sell Samsung share delay announcement Thursday strip $ 7 billion firm market value remain recent record high sentiment recover somewhat trading Friday share rise 0.6 percent compare 0.3 percent broad market Credit Suisse say recall major shipment delay wipe 1.5 trillion won $ 1.34 billion Samsung 2016 operate profit estimate 30.2 trillion win absolute bad case scenario brokerage say scenario unlikely expect Samsung resolve problem fourth quarter HI Securities analyst James Song say replacement cost somewhat limited Samsung recycle component recall phone “it clever Samsung replace affect model offer fix say add help consumer confidence Samsung mobile division account 54 percent firm January June operate profit 14.8 trillion won.($1 = 1,117.4300 korean won)additional reporting Hyunjoo Jin Seoul Harro Wolde Berlin Mathieu Rosemain Paris Eric Auchard Frankfurt Laura Gardner London Subrat Patnaik Bengaluru Malathi Nayak New York editing Christopher Cushing Alexander Smith Mark Potter Frances KerryOur Standards Thomson Reuters Trust Principles</td>\n",
       "      <td>0.9837</td>\n",
       "      <td>0.0</td>\n",
       "      <td>0.002552</td>\n",
       "      <td>4.690080e-04</td>\n",
       "    </tr>\n",
       "    <tr>\n",
       "      <th>5</th>\n",
       "      <td>2016-09-06</td>\n",
       "      <td>Samsung trips on quality control in rush to pip Apple</td>\n",
       "      <td>- In its rush to beat rival products to market, notably Apple's AAPL.O new iPhone, Samsung Electronics 005930.KS has accelerated new phone launch cycles, but its haste is raising concerns that it fell short on quality testing.A Samsung Galaxy S5 smartphone is held next to a logo of Apple in this September 23, 2014 illustration photo in Sarajevo. REUTERS/Dado Ruvic Since last year, the South Korean firm, the world’s largest maker of smartphones, has brought forward the launch of its Galaxy S and Galaxy Note series models by roughly a month.For the June quarter, the strategy helped Samsung to its best profit in more than two years, but it is also putting strain on its supply chain and its manufacturing reputation.On Friday, two weeks after launch, Samsung recalled Galaxy Note 7 smartphones in 10 markets including South Korea and the United States after finding its batteries were prone to ignite, and halted sales of the 988,900 won ($891) device in those markets indefinitely.The recall looks set to hamstring a revival in Samsung’s mobile business just as Apple gears up to launch its new iPhones this month.“Samsung might have over-exerted itself trying to pre-empt Apple, since everybody knows the iPhones launch in September,” said Chang Sea-Jin, business professor at Korea Advanced Institute of Science and Technology and author of “Sony vs. Samsung”, a history of the electronics giants.“It’s an unfortunate event; it feels like Samsung rushed a bit, and it’s possible that this led to suppliers also being hurried.”Samsung said in a statement to Reuters it conducts “extensive preparation” for its products and will release them to the market “only after proper completion of the development process”.The firm said on Friday it had identified a problem in the manufacturing process of a battery supplier it didn’t name.“I am working to straighten out our quality control process,” Samsung’s mobile business chief Koh Dong-jin said then.The scale of the unprecedented recall, which some analysts forecast will cost Samsung nearly $5 billion in revenue this year, follows a separate supply-chain management issue that led to disappointing sales of the Galaxy S6 series last year.Samsung executives said production problems for the curved screens and metal casings used in the Galaxy S6 edge led to a supply shortage for the device, leaving the firm unable to capitalize on the critical acclaim the phone received, sapping earnings momentum.GETTING AHEADCounterpoint analyst Jeff Fieldhack said Samsung stole the thunder from local rival LG Electronics' 066570.KS launch of the G5 smartphone this year by starting the sales of the Galaxy S7 smartphones a month earlier and backing them with an aggressive marketing campaign.“I believe they were trying to create a similar effect by beating Apple to market by (about) a month, too,” he said.“Very often, lab times and testing periods are shrunk to expedite approval and time-to-market of key devices. It is possible all charging scenarios were not thoroughly tested.”Samsung SDI, one of two makers of batteries for the Note 7 - the other has not been identified - said it had not received notice from Samsung Electronics regarding its batteries and declined to comment further, including whether its batteries were found to be faulty. The company declined to comment on a local media report that it had production difficulties and struggled to meet orders in time.While there are occasional reports of phones catching fire or burning users, recalls for such problems are rare. The problem is exacerbated by the fact that batteries in the Galaxy Note 7 can not be removed by the user - a design decision to make the phones slimmer and waterproof.A Samsung executive who declined to be named told Reuters before the recall announcement: “Our production engineers and managers are extremely experienced, and if you ask them to find a solution to adopt a design change, they’d promptly bring things under control.“But even that capability is under growing strain, as we try out new materials and everything is on a very tight schedule.”Local brokerage Korea Investment cut its third-quarter operating profit forecast for Samsung by 1.1 trillion won to 7.1 trillion won due to the recall, though it said the event would not derail the broader rebound of its smartphone business.If haste contributed to the problem, it could now help Samsung limit the impact of the recall.Shares in Samsung were up 0.8 percent in mid-day trade on Tuesday, 4.4 percent below record highs reached two weeks ago, as some investors welcomed the swift decision to launch a global recall.($1 = 1,110.4000 won)Reporting by Se Young Lee; Editing by Miyoung Kim and Will WatermanOur Standards: The Thomson Reuters Trust Principles.</td>\n",
       "      <td>32140.0</td>\n",
       "      <td>7660150</td>\n",
       "      <td>0.752351</td>\n",
       "      <td>-6.045014</td>\n",
       "      <td>rush beat rival product market notably Apple aapl.o new iPhone Samsung Electronics 005930.ks accelerate new phone launch cycle haste raise concern fall short quality testing Samsung Galaxy S5 smartphone hold logo Apple September 23 2014 illustration photo Sarajevo REUTERS Dado Ruvic year south korean firm world large maker smartphone bring forward launch Galaxy S Galaxy Note series model roughly month June quarter strategy help Samsung good profit year put strain supply chain manufacturing reputation Friday week launch Samsung recall Galaxy Note 7 smartphone 10 market include South Korea United States find battery prone ignite halt sale 988,900 won $ 891 device market indefinitely recall look set hamstre revival Samsung mobile business Apple gear launch new iphone month “Samsung exert try pre empt Apple everybody know iPhones launch September say Chang Sea Jin business professor Korea Advanced Institute Science Technology author Sony vs. Samsung history electronic giants “It unfortunate event feel like Samsung rush bit possible lead supplier hurry ”Samsung say statement Reuters conduct extensive preparation product release market proper completion development process” firm say Friday identify problem manufacturing process battery supplier “I work straighten quality control process Samsung mobile business chief Koh Dong jin say scale unprecedented recall analyst forecast cost Samsung nearly $ 5 billion revenue year follow separate supply chain management issue lead disappointing sale Galaxy S6 series year Samsung executive say production problem curve screen metal casing Galaxy S6 edge lead supply shortage device leave firm unable capitalize critical acclaim phone receive sap earning momentum getting aheadcounterpoint analyst Jeff Fieldhack say Samsung steal thunder local rival LG Electronics 066570.ks launch G5 smartphone year start sale Galaxy S7 smartphone month earlier back aggressive marketing campaign “I believe try create similar effect beat Apple market month say “very lab time testing period shrink expedite approval time market key device possible charge scenario thoroughly test ”samsung SDI maker battery Note 7 identify say receive notice Samsung Electronics battery decline comment include battery find faulty company decline comment local media report production difficulty struggle meet order time occasional report phone catch fire burn user recall problem rare problem exacerbate fact battery Galaxy Note 7 remove user design decision phone slim waterproof Samsung executive decline name tell Reuters recall announcement production engineer manager extremely experienced ask find solution adopt design change promptly bring thing control “but capability grow strain try new material tight schedule ”local brokerage Korea Investment cut quarter operating profit forecast Samsung 1.1 trillion win 7.1 trillion win recall say event derail broad rebound smartphone business haste contribute problem help Samsung limit impact recall share Samsung 0.8 percent mid day trade Tuesday 4.4 percent record high reach week ago investor welcome swift decision launch global recall.($1 = 1,110.4000 won)reporting Se Young Lee editing Miyoung Kim WatermanOur Standards Thomson Reuters Trust Principles</td>\n",
       "      <td>0.8807</td>\n",
       "      <td>0.0</td>\n",
       "      <td>0.018907</td>\n",
       "      <td>4.133267e-04</td>\n",
       "    </tr>\n",
       "    <tr>\n",
       "      <th>6</th>\n",
       "      <td>2016-09-19</td>\n",
       "      <td>Samsung says China phone fire caused by external heat</td>\n",
       "      <td>- Samsung Electronics Co Ltd 005930.KS said on Monday a Galaxy Note 7 phone a Chinese user claimed caught on fire was damaged by external heating, seeking to assure customers in the world's top smartphone market the devices being sold there are safe.An employee poses for photographs with Samsung Electronics' Galaxy Note 7 new smartphone at its store in Seoul, South Korea, September 2, 2016.  REUTERS/Kim Hong-Ji/File PhotoThe incident comes amid a recall of the Note 7 phones across the globe including South Korea and the United States due to faulty batteries causing the devices to catch fire while charging or in normal use. Samsung has said it has sold 2.5 million phones equipped with the suspect batteries.Late on Sunday, Chinese online financial magazine Caixin cited an internet user's report that their Note 7 phone, bought from JD.com Inc JD.O, had caught fire in what appeared to be the first report in China of a fire involving the handset.Samsung said in a statement on its China website its investigation of the phone shows “the damage to this product was caused by external heating”, without elaborating.Battery maker Amperex Technology Limited (ATL) said separately on Monday one of its batteries was in the Note 7 phone in question, but added its joint investigation with Samsung determined the incident was not directly linked to a battery made by the China-based firm.“According to the burn marks on the sample, we surmise that the source of the heating comes from outside the battery, and it’s very likely that there was an external factor causing the heating problem,” the battery maker said in a statement.A person familiar with the matter told Reuters the phone was damaged by an external heat source, possibly an induction oven or a fan heater. The person was not authorized to speak publicly on the matter and so declined to be identified.Another person familiar with the matter told Reuters that Samsung SDI Co Ltd 006400.KS was responsible for the faulty batteries that triggered the recall. JD.com said it referred the case to Samsung.Samsung last week announced a recall of 1,858 Note 7 phones in China but those devices were products distributed before the official Sept. 1 launch. The company said the phones sold through the official launch used batteries different from those in reported fires.ATL is owned by Japanese components maker TDK Corp 6762.T.Reporting by Se Young Lee in SEOUL, Paul Carsten Michael Martina in BEIJING and Sijia Jiang in HONG KONG; Editing by Christopher Cushing and Louise HeavensOur Standards: The Thomson Reuters Trust Principles.</td>\n",
       "      <td>30760.0</td>\n",
       "      <td>22408150</td>\n",
       "      <td>-4.293715</td>\n",
       "      <td>192.528867</td>\n",
       "      <td>Samsung Electronics Co Ltd 005930.ks say Monday Galaxy Note 7 phone chinese user claim catch fire damage external heating seek assure customer world smartphone market device sell safe employee pose photograph Samsung Electronics Galaxy Note 7 new smartphone store Seoul South Korea September 2 2016 REUTERS Kim Hong Ji File PhotoThe incident come amid recall Note 7 phone globe include South Korea United States faulty battery cause device catch fire charge normal use Samsung say sell 2.5 million phone equip suspect battery late Sunday chinese online financial magazine Caixin cite internet user report note 7 phone buy JD.com Inc JD.O catch fire appear report China fire involve handset Samsung say statement China website investigation phone show damage product cause external heating elaborate battery maker Amperex Technology Limited ATL say separately Monday battery Note 7 phone question add joint investigation Samsung determine incident directly link battery China base firm “accorde burn mark sample surmise source heating come outside battery likely external factor cause heating problem battery maker say statement person familiar matter tell Reuters phone damage external heat source possibly induction oven fan heater person authorize speak publicly matter decline identify person familiar matter tell Reuters Samsung SDI Co Ltd 006400.ks responsible faulty battery trigger recall JD.com say refer case Samsung Samsung week announce recall 1,858 Note 7 phone China device product distribute official September 1 launch company say phone sell official launch battery different report fire ATL own japanese component maker TDK Corp 6762.t.reporting Se Young Lee SEOUL Paul Carsten Michael Martina BEIJING Sijia Jiang HONG KONG editing Christopher Cushing Louise HeavensOur Standards Thomson Reuters Trust Principles</td>\n",
       "      <td>-0.9287</td>\n",
       "      <td>0.0</td>\n",
       "      <td>0.145782</td>\n",
       "      <td>1.312639e-11</td>\n",
       "    </tr>\n",
       "    <tr>\n",
       "      <th>7</th>\n",
       "      <td>2016-09-30</td>\n",
       "      <td>Samsung slammed by Chinese state TV over Note 7 recall 'discrimination'</td>\n",
       "      <td>- Chinese state broadcaster CCTV has slammed South Korean tech giant Samsung Electronics Co 005930.KS for what it said was \"discrimination\" against China consumers in its handling of a global recall of Galaxy Note 7 smartphones to replace batteries.In a commentary piece posted on its website on Thursday evening, CCTV said Samsung’s behavior in China after the Sept. 2 recall of 2.5 million phones was “full of arrogance”.CCTV said a video apology Samsung issued to U.S. consumers, along with various replacement options and compensation, was in stark contrast to its treatment of those in China, where the company issued a brief statement saying most phones didn’t need to be replaced. “Samsung’s discriminatory policy has caused discontent from Chinese consumers,” it said.Samsung China didn’t immediately responded to requests for comment on the CCTV criticism.The CCTV criticism may provide an unwelcome distraction for Samsung as seeks to bolster its position in the world’s largest smartphone market. Once the number 1 mobile phone vendor in China, Samsung dropped out of top 5 in 2015, hit by the strong growth of domestic brands like Huawei, Xiaomi and Oppo.A number of big-name global consumer brands have fallen foul of the influential broadcaster's blasts in recent years, prompting firms from German automaker Volkswagen AG VOWG_p.de to Samsung rival Apple Inc AAPL.O to undertake strenuous efforts to bolster their image.Earlier in September, after a meeting with China’s quality safety watchdog, Samsung China issued a brief statement saying 1,858 Note 7 devices sold in the country as part of a test scheme before the official launch would be recalled.Most Note 7s on sale in China have batteries from a different supplier and are not part of its global recall of 2.5 million phones announced on September 2, Samsung said.But after anecdotal reports of a handful of Note 7s catching fire in the mainland, Samsung China issued a statement on Thursday apologizing to Chinese consumers for a “lack of sufficient explanation” on what it said were safe Note 7 phones in China.Reporting by Sijia Jiang; Editing by Kenneth MaxwellOur Standards: The Thomson Reuters Trust Principles.</td>\n",
       "      <td>31800.0</td>\n",
       "      <td>11762700</td>\n",
       "      <td>3.381014</td>\n",
       "      <td>-47.507045</td>\n",
       "      <td>chinese state broadcaster CCTV slam south korean tech giant Samsung Electronics Co 005930.ks say discrimination China consumer handling global recall Galaxy Note 7 smartphone replace battery commentary piece post website Thursday evening CCTV say Samsung behavior China September 2 recall 2.5 million phone arrogance” CCTV say video apology Samsung issue U.S. consumer replacement option compensation stark contrast treatment China company issue brief statement say phone need replace Samsung discriminatory policy cause discontent chinese consumer say Samsung China immediately respond request comment CCTV criticism CCTV criticism provide unwelcome distraction Samsung seek bolster position world large smartphone market number 1 mobile phone vendor China Samsung drop 5 2015 hit strong growth domestic brand like Huawei Xiaomi Oppo number big global consumer brand fall foul influential broadcaster blast recent year prompt firm german automaker Volkswagen AG VOWG_p.de Samsung rival Apple Inc AAPL.O undertake strenuous effort bolster image earlier September meeting China quality safety watchdog Samsung China issue brief statement say 1,858 Note 7 device sell country test scheme official launch recall note 7s sale China battery different supplier global recall 2.5 million phone announce September 2 Samsung say anecdotal report handful Note 7s catch fire mainland Samsung China issue statement Thursday apologize chinese consumer lack sufficient explanation say safe Note 7 phone China report Sijia Jiang editing Kenneth MaxwellOur Standards Thomson Reuters Trust Principles</td>\n",
       "      <td>0.4588</td>\n",
       "      <td>0.0</td>\n",
       "      <td>0.217619</td>\n",
       "      <td>1.793922e-05</td>\n",
       "    </tr>\n",
       "    <tr>\n",
       "      <th>8</th>\n",
       "      <td>2016-11-03</td>\n",
       "      <td>Samsung Electronics reviewing ways to limit Note 7 environment impact</td>\n",
       "      <td>- Samsung Electronics Co Ltd said on Thursday it was reviewing options to limit the potential environmental impact from the firm’s discontinuation of the Galaxy Note 7 smartphones.The remarks come after environmental group Greenpeace issued a statement earlier this week demanding the world’s top smartphone maker find a way to reuse rare materials such as cobalt, gold, palladium and tungsten in the discontinued smartphones that Samsung is taking back.“We recognize the concerns around the discontinuation of the Galaxy Note 7 and are currently reviewing possible options that can minimize the environmental impact of the recall in full compliance with relevant local environmental regulations,” Samsung said in a statement.Samsung in October permanently ended sales of the fire-prone Note 7 smartphones and is in the process of recalling them globally. The firm had sold 3.06 million of the phones to customers before they were pulled from the market.Samsung did not refer to Greenpeace in its statement and declined to comment on what it plans to do with the recovered Note 7 devices.Reporting by Se Young Lee; Editing by Himani Sarkar and Muralikumar AnantharamanOur Standards: The Thomson Reuters Trust Principles.</td>\n",
       "      <td>32600.0</td>\n",
       "      <td>10341850</td>\n",
       "      <td>2.515723</td>\n",
       "      <td>-12.079285</td>\n",
       "      <td>Samsung Electronics Co Ltd say Thursday review option limit potential environmental impact firm discontinuation Galaxy Note 7 smartphone remark come environmental group Greenpeace issue statement earlier week demand world smartphone maker find way reuse rare material cobalt gold palladium tungsten discontinue smartphone Samsung take “we recognize concern discontinuation Galaxy Note 7 currently review possible option minimize environmental impact recall compliance relevant local environmental regulation Samsung say statement Samsung October permanently end sale fire prone Note 7 smartphone process recall globally firm sell 3.06 million phone customer pull market Samsung refer Greenpeace statement decline comment plan recover Note 7 device report Se Young Lee editing Himani Sarkar Muralikumar AnantharamanOur Standards Thomson Reuters Trust Principles</td>\n",
       "      <td>0.1027</td>\n",
       "      <td>0.0</td>\n",
       "      <td>0.383789</td>\n",
       "      <td>9.999995e-01</td>\n",
       "    </tr>\n",
       "    <tr>\n",
       "      <th>9</th>\n",
       "      <td>2016-11-14</td>\n",
       "      <td>Samsung to buy car tech company Harman for $8 billion</td>\n",
       "      <td>- Samsung Electronics has agreed to buy Harman International Industries in an $8 billion deal, marking a major push into the auto electronics market and the biggest overseas acquisition ever by a South Korean company.Slideshow ( 2 images )The transaction highlights Samsung’s efforts to break into the high-barrier automotive industry where it has little track record and also marks a strategic shift for the electronics company, which has previously shunned big acquisitions.“An M&amp;A deal this big is a first for us. But it shows that under Jay Y. Lee, the company is changing and open to new ways to grow,” a source familiar with the deal told Reuters, referring to Samsung Electronics’ vice chairman.The purchase of the Stamford, Connecticut-based maker of connected car and audio systems is part of Samsung’s search for new growth areas as its smartphone business - scarred by the withdrawal of the fire-prone Galaxy Note 7 - slows.The greater use of electronics and software in vehicles, and the ability of cars to connect to smartphones and other devices, is offering technology companies with new business opportunities.“We have been studying the automotive market for some time. We conclude that organic growth will not get us where we want to go fast enough,” Young Sohn, President and Chief Strategy Officer of Samsung Electronics, said on a conference call.“Samsung will not get into the business of manufacturing cars,” he said.Samsung, a maker of chips, displays, smartphones and TVs, agreed to acquire Harman for $112.00 per share in cash, a 28 percent premium to the U.S. company’s closing price on Friday.Harman shares rose 25.6 percent to their highest level in more than one year.“Harman was missing, in our opinion, a meaningful presence in displays and cockpit electronics; Samsung has these,” Baird Equity Research said in a report.But investors in Samsung had reservations about the purchase price.“Samsung is using its huge cash pile to pull ahead of rivals in the auto technology market. But it remains to be seen whether Samsung will be able to grow into a company that will be able to compete with the likes of Bosch and Continental,” said fund manager Park Jung-hoon of HDC Asset Management, which owns Samsung Electronics shares.Harman's products, which provide infotainment, telematics, connected safety and security services, are used in more than 30 million vehicles made by automakers such as BMW, Toyota Motor Corp and Volkswagen VOWG_p.DE, according to its website.Harman earns around two-thirds of its revenue from its automotive-related business, and its automotive order backlog as of end-June stood at $24 billion, more than three times annual sales of $6.9 billion in fiscal 2016.Samsung created an automotive electronics business team a year ago to look for opportunities in this area. This year it invested $450 million in Chinese automaker and rechargeable batteries firm BYD Co Ltd.Separately, Samsung has held talks with Fiat Chrysler Automobiles (FCA) over a potential sale or partnership for the latter’s Magneti Marelli auto parts maker, sources have said.Reporting by Hyunjoo Jin and Miyoung Kim; Additional reporting by Rishika Sadam in Bengaluru; Editing by Edwina Gibbs, Jacqueline Wong and Jane MerrimanOur Standards: The Thomson Reuters Trust Principles.</td>\n",
       "      <td>31900.0</td>\n",
       "      <td>15133300</td>\n",
       "      <td>-2.147239</td>\n",
       "      <td>46.330686</td>\n",
       "      <td>Samsung Electronics agree buy Harman International Industries $ 8 billion deal mark major push auto electronic market big overseas acquisition south korean company Slideshow 2 image transaction highlight Samsung effort break high barrier automotive industry little track record mark strategic shift electronic company previously shun big acquisition “an M&amp;A deal big show Jay Y. Lee company change open new way grow source familiar deal tell Reuters refer Samsung Electronics vice chairman purchase Stamford Connecticut base maker connected car audio system Samsung search new growth area smartphone business scar withdrawal fire prone Galaxy Note 7 slow great use electronic software vehicle ability car connect smartphone device offer technology company new business opportunity “We study automotive market time conclude organic growth want fast Young Sohn President Chief Strategy Officer Samsung Electronics say conference “Samsung business manufacture car say Samsung maker chip display smartphone tv agree acquire Harman $ 112.00 share cash 28 percent premium U.S. company closing price Friday Harman share rise 25.6 percent high level year “Harman miss opinion meaningful presence display cockpit electronic Samsung Baird Equity Research say report investor Samsung reservation purchase price “Samsung huge cash pile pull ahead rival auto technology market remain see Samsung able grow company able compete like Bosch Continental say fund manager Park Jung hoon HDC Asset Management own Samsung Electronics share Harman product provide infotainment telematic connect safety security service 30 million vehicle automaker BMW Toyota Motor Corp Volkswagen VOWG_p DE accord website Harman earn third revenue automotive relate business automotive order backlog end June stand $ 24 billion time annual sale $ 6.9 billion fiscal 2016.samsung create automotive electronics business team year ago look opportunity area year invest $ 450 million chinese automaker rechargeable battery firm BYD Co Ltd separately Samsung hold talk Fiat Chrysler Automobiles FCA potential sale partnership Magneti Marelli auto part maker source say report Hyunjoo Jin Miyoung Kim additional reporting Rishika Sadam Bengaluru editing Edwina Gibbs Jacqueline Wong Jane MerrimanOur Standards Thomson Reuters Trust Principles</td>\n",
       "      <td>0.9914</td>\n",
       "      <td>0.0</td>\n",
       "      <td>0.012710</td>\n",
       "      <td>6.513017e-01</td>\n",
       "    </tr>\n",
       "    <tr>\n",
       "      <th>10</th>\n",
       "      <td>2016-11-22</td>\n",
       "      <td>Samsung Group, pension fund offices raided in growing South Korea scandal</td>\n",
       "      <td>- South Korean prosecutors raided the offices of Samsung Group on Wednesday, a prosecution official said, after media reports of alleged links with a confidante of President Park Geun-hye who has been indicted in an influence-peddling scandal.Prosecutors also raided South Korea’s largest pension fund, the National Pension Service (NPS), an NPS spokeswoman said. The Yonhap news agency reported that investigators were probing NPS’s decision to approve the $8 billion merger of Samsung C&amp;T Corp and Cheil Industries last year.The raids signaled that prosecutors are expanding their investigation into allegations of influence-peddling in the corruption scandal that has rocked Park’s presidency over the relationship between the government and big businesses.NPS, the world’s third-largest pension fund, has come under scrutiny by the media and civic groups over its approval as a major shareholder of the merger between two affiliates of Samsung Group, South Korea’s largest family-run conglomerate.Its backing was seen as crucial to the success of the merger and some South Korean media reports said its approval came under mysterious circumstances.A Samsung Group spokeswoman confirmed prosecution officials had visited the group’s headquarters but she could not provide further details. The NPS spokeswoman declined to give further details.Prosecutors raided four locations - the NPS headquarters, NPS Investment Management office headquarters, Samsung Group offices and the office of a former NPS investment management official - said a prosecution official who was not authorized to speak to the media and declined to be identified.Park and her confidante, Choi Soon-sil, are under investigation for allegedly improperly pressuring major conglomerates, including the Samsung Group, to raise funds for foundations that backed Park’s policy of promoting the cultural and sports communities.“DRAWBACKS TO BUSINESS”Slideshow ( 3 images )Lee Young-ryeol, the senior prosecutor directing the probe, said on Sunday 53 conglomerates, “fearing direct and indirect drawbacks to business activities such as tax audits”, were “coerced to contribute funds” to the foundations.Park Ju-gun, head of research firm CEO Score, said there was little surprise that prosecutors were now seeking evidence in Samsung Group offices about how the merger may have been influenced by the conglomerate’s contributions to the foundations.The merger of the Samsung affiliates was approved by shareholders in July 2015 and prosecutors said the two foundations involved were set up in the following six months.“This was expected. Due to the circumstances in this case, prosecutors cannot help but be suspicious about the genuine intent behind the donation, such as the timing,” CEO Score’s Park said.President Park, through her lawyer, has pushed back on a request by prosecutors to question her about the case, potentially the first time a sitting South Korean president would be interrogated in a criminal case.Park, who’s five-year term ends in February 2018, has resisted calls to resign but has apologized twice, saying she only sought to benefit the economy and not herself, but acknowledges carelessness in her ties with Choi.However, the growing calls for her to resign and Park’s virtual withdrawal from public activities has left a worrying power vacuum in South Korea.Choi and former presidential aide An Chong-bum were indicted on Sunday and charged with abuse of power, a major blow to the president’s fight for political survival.Slideshow ( 3 images )NPS has defended its decision in the face of criticism that the deal helped the Samsung Group family to cement control of the merged firms at the expense of other shareholders.“The reason we approved the merger was due to taking a comprehensive view of the merger’s synergy effect and potential for stock value increase,” it said in a statement last week.There were “special circumstances” where NPS-owned stakes in both firms were valued at a similar amount, it said. The size of NPS’ combined stakes in both firms was about 2.4 trillion won ($2.05 billion), or 3 percent of NPS’ domestic stock portfolio.However, according to records of the NPS Investment Office committee’s decision to back the merger in July 2015, acquired by an opposition lawmaker and seen by Reuters, the NPS had calculated a merger ratio of 1:0.46 of Cheil Industries shares to Samsung C&amp;T shares, based on its valuations of the two firms.This differed from Samsung Group’s proposed ratio of 1:0.35, which the NPS committee noted was comparatively unfavorable to Samsung C&amp;T shareholders.Additional reporting by Cynthia Kim, Yun Hwan Chae and Ju-min Park; Writing by Jack Kim; Editing by Stephen Coates and Paul TaitOur Standards: The Thomson Reuters Trust Principles.</td>\n",
       "      <td>32140.0</td>\n",
       "      <td>9751100</td>\n",
       "      <td>0.752351</td>\n",
       "      <td>-35.565277</td>\n",
       "      <td>south korean prosecutor raid office Samsung Group Wednesday prosecution official say medium report alleged link confidante President Park Geun hye indict influence peddle scandal prosecutor raid South Korea large pension fund National Pension Service NPS NPS spokeswoman say Yonhap news agency report investigator probe NPS decision approve $ 8 billion merger Samsung C&amp;T Corp Cheil Industries year raid signal prosecutor expand investigation allegation influence peddling corruption scandal rock Park presidency relationship government big business NPS world large pension fund come scrutiny medium civic group approval major shareholder merger affiliate Samsung Group South Korea large family run conglomerate backing see crucial success merger south korean medium report say approval come mysterious circumstance Samsung Group spokeswoman confirm prosecution official visit group headquarters provide detail NPS spokeswoman decline detail prosecutor raid location NPS headquarters NPS Investment Management office headquarters Samsung Group office office NPS investment management official say prosecution official authorize speak medium decline identify Park confidante Choi Soon sil investigation allegedly improperly pressure major conglomerate include Samsung Group raise fund foundation back Park policy promote cultural sport community “drawback business”slideshow 3 image Lee Young ryeol senior prosecutor direct probe say Sunday 53 conglomerate fear direct indirect drawback business activity tax audits coerce contribute fund foundation Park Ju gun head research firm CEO Score say little surprise prosecutor seek evidence Samsung Group office merger influence conglomerate contribution foundation merger Samsung affiliate approve shareholder July 2015 prosecutor say foundation involve set following month “This expect circumstance case prosecutor help suspicious genuine intent donation timing CEO Score Park say President Park lawyer push request prosecutor question case potentially time sit south korean president interrogate criminal case Park year term end February 2018 resist call resign apologize twice say seek benefit economy acknowledge carelessness tie Choi grow call resign Park virtual withdrawal public activity leave worrying power vacuum South Korea Choi presidential aide Chong bum indict Sunday charge abuse power major blow president fight political survival Slideshow 3 image NPS defend decision face criticism deal help Samsung Group family cement control merge firm expense shareholder “the reason approve merger take comprehensive view merger synergy effect potential stock value increase say statement week special circumstance NPS own stake firm value similar say size NPS combine stake firm 2.4 trillion won $ 2.05 billion 3 percent NPS domestic stock portfolio accord record NPS Investment Office committee decision merger July 2015 acquire opposition lawmaker see Reuters NPS calculate merger ratio 1:0.46 Cheil Industries share Samsung C&amp;T share base valuation firm differ Samsung Group propose ratio 1:0.35 NPS committee note comparatively unfavorable Samsung C&amp;T shareholder additional reporting Cynthia Kim Yun Hwan Chae Ju min Park writing Jack Kim Editing Stephen Coates Paul TaitOur Standards Thomson Reuters Trust Principles</td>\n",
       "      <td>-0.2006</td>\n",
       "      <td>0.0</td>\n",
       "      <td>0.016904</td>\n",
       "      <td>2.394455e-01</td>\n",
       "    </tr>\n",
       "    <tr>\n",
       "      <th>11</th>\n",
       "      <td>2016-11-28</td>\n",
       "      <td>Samsung Electronics considers split as investor pressure builds</td>\n",
       "      <td>- Tech giant Samsung Electronics Co Ltd 005930.KS, under pressure from shareholders to improve investor returns, said on Tuesday it will consider creating a holding company in what would be the biggest shake-up in its 47-year history.The move and a plan to raise dividends come after U.S. hedge fund Elliott Management in October called for the South Korean firm to split itself into a holding vehicle and an operating company.However, the world’s top maker of smartphones, memory chips and televisions, said it was “absolutely neutral” about whether to proceed and provided little detail on the potential restructuring, underwhelming investors.“The review does not indicate the management or the board’s intention one way or another,” the company said in a statement, adding it had hired external advisers for a review expected to take at least six months.Samsung’s statement keeps the door open for Elliott to continue its pressure on the company, which includes the hedge fund’s ability to nominate board directors at the next annual meeting.Elliott, through its holding company affiliates, Blake Capital and Potter Capital, called Samsung’s plan a “constructive initial step.” But the $27 billion hedge fund also signaled it wanted more.“We anticipate more meaningful changes following the company’s corporate structure review,” the Elliott affiliates said in a statement on Tuesday.The shareholder pressure on Samsung comes as the company juggles a leadership succession and a major blow to its brand after issuing an unprecedented recall of at least 2.5 million Galaxy Note 7 smartphones in September.Shares in Samsung, worth $224 billion combined, finished unchanged on the day at 1.677 million won ($1,434) each. The 2016 dividend boost fell short of some expectations, while uncertainty over the restructuring kept investors at bay, analysts said.Related CoverageSamsung Elec surges to record high on payout growth hopes“There is some disappointment that the dividend wasn’t even higher or possibly a special dividend, and this is the reason for a flat share price today,” said Sat Duhra, asset manager at Henderson Global Investors.Samsung did not directly mention Elliott in its statement, but the Korean firm promised to respond to the fund’s ideas by the end of November.Elliott, which launched its Samsung campaign last month, owns 0.62 percent of Samsung’s stock.Samsung pledged to return 50 percent of free cash flow to shareholders for 2016 and 2017, falling short of Elliott’s call for 75 percent to be returned and to pay a $26 billion special dividend.Samsung rejected another Elliott proposal by saying that even if it adopts a holding company, it has no plans at present to merge that with Samsung C&amp;T Corp 028260.KS, the group's current de facto holding company and a firm that Elliott has previously targeted. “I don’t think Samsung said much that was surprising or beyond what investors already had in mind,” said HDC Asset Management fund manager Park Jung-hoon.SUCCESSIONInvestors and analysts have long viewed a split for Samsung Electronics as a way for the Lee family scion, Jay Y. Lee, and his two sisters to boost their control of Samsung Group [SAGR.UL] companies.A Samsung Electronics laptop computer is displayed at a shop in Samsung's main office building in central Seoul July 23, 2013.     REUTERS/Lee Jae-Won/File PhotoThey have said that Samsung shares trade at steep discounts to global peers due to what they say is a complex ownership structure, poor corporate governance and inefficient cash management. The hope is that a major restructuring would address those concerns and boost the company’s value.Samsung executives did not elaborate on the restructuring in a conference call on Tuesday.But under a restructuring, investors would expect the Lees and affiliates in the Samsung group of companies to exchange their operating company shares for stock in the holding firm, strengthening their grip.Samsung Electronics would then return more capital to shareholders, investors say. Such a move would boost earnings for Samsung Group firms and the Lee heirs, who face a multi-billion dollar inheritance tax in the event that 74-year-old Samsung Group patriarch Lee Kun-hee dies. The senior Lee has been in hospital since May 2014 following a heart attack.Henderson’s Duhra said the asset manager would be satisfied with a restructuring if it addresses “decades of inefficient structures, poor governance and weak corporate behavior towards minority shareholders.”Samsung said it would increase dividends for 2016 by 36 percent to 28,500 won ($24.36) per share, and buy back and cancel additional shares in January 2017 with whatever excess free cash remains from 2016.The company also said it needed to maintain a net cash position of between 65 trillion won and 70 trillion won, suggesting it is not likely to pay the special dividend sought by Elliott.Additional reporting by Michael Flaherty in NEW YORK; Nichola Saminather and Anshuman Daga in SINGAPORE; Editing by Miyoung Kim, Stephen Coates and Paul SimaoOur Standards: The Thomson Reuters Trust Principles.</td>\n",
       "      <td>33000.0</td>\n",
       "      <td>13294050</td>\n",
       "      <td>2.675793</td>\n",
       "      <td>36.333850</td>\n",
       "      <td>Tech giant Samsung Electronics Co Ltd 005930.ks pressure shareholder improve investor return say Tuesday consider create hold company big shake 47-year history plan raise dividend come U.S. hedge fund Elliott Management October call south korean firm split hold vehicle operate company world maker smartphone memory chip television say absolutely neutral proceed provide little detail potential restructuring underwhelme investor “the review indicate management board intention way company say statement add hire external adviser review expect month Samsung statement keep door open Elliott continue pressure company include hedge fund ability nominate board director annual meeting Elliott hold company affiliate Blake Capital Potter Capital call Samsung plan constructive initial step $ 27 billion hedge fund signal want “We anticipate meaningful change follow company corporate structure review Elliott affiliate say statement Tuesday shareholder pressure Samsung come company juggle leadership succession major blow brand issue unprecedented recall 2.5 million Galaxy Note 7 smartphone September Shares Samsung worth $ 224 billion combine finish unchanged day 1.677 million won $ 1,434 2016 dividend boost fall short expectation uncertainty restructuring keep investor bay analyst say Related CoverageSamsung Elec surge record high payout growth hopes“There disappointment dividend high possibly special dividend reason flat share price today say Sat Duhra asset manager Henderson Global Investors Samsung directly mention Elliott statement korean firm promise respond fund idea end November Elliott launch Samsung campaign month own 0.62 percent Samsung stock Samsung pledge return 50 percent free cash flow shareholder 2016 2017 fall short Elliott 75 percent return pay $ 26 billion special dividend Samsung reject Elliott proposal say adopt hold company plan present merge Samsung C&amp;T Corp 028260.ks group current de facto hold company firm Elliott previously target think Samsung say surprising investor mind say HDC Asset Management fund manager Park Jung hoon successioninvestor analyst long view split Samsung Electronics way Lee family scion Jay Y. Lee sister boost control Samsung Group SAGR.UL company Samsung Electronics laptop computer display shop Samsung main office building central Seoul July 23 2013 REUTERS Lee Jae Won File PhotoThey say Samsung share trade steep discount global peer complex ownership structure poor corporate governance inefficient cash management hope major restructuring address concern boost company value Samsung executive elaborate restructuring conference Tuesday restructuring investor expect Lees affiliate Samsung group company exchange operating company share stock hold firm strengthen grip Samsung Electronics return capital shareholder investor boost earning Samsung Group firm Lee heir face multi billion dollar inheritance tax event 74-year old Samsung Group patriarch Lee Kun hee die senior Lee hospital 2014 follow heart attack Henderson Duhra say asset manager satisfied restructuring address decade inefficient structure poor governance weak corporate behavior minority shareholder ”Samsung say increase dividend 2016 36 percent 28,500 win $ 24.36 share buy cancel additional share January 2017 excess free cash remain 2016.the company say need maintain net cash position 65 trillion win 70 trillion win suggest likely pay special dividend seek Elliott additional reporting Michael Flaherty new york Nichola Saminather Anshuman Daga SINGAPORE editing Miyoung Kim Stephen Coates Paul SimaoOur Standards Thomson Reuters Trust Principles</td>\n",
       "      <td>0.9957</td>\n",
       "      <td>0.0</td>\n",
       "      <td>0.009461</td>\n",
       "      <td>2.579642e-08</td>\n",
       "    </tr>\n",
       "  </tbody>\n",
       "</table>\n",
       "</div>"
      ],
      "text/plain": [
       "         Date  ... deep_learning_sentiment_prob\n",
       "0  2016-08-10  ...  2.138494e-14               \n",
       "1  2016-08-22  ...  1.079552e-11               \n",
       "2  2016-08-24  ...  9.999957e-01               \n",
       "3  2016-08-31  ...  5.033237e-01               \n",
       "4  2016-09-02  ...  4.690080e-04               \n",
       "5  2016-09-06  ...  4.133267e-04               \n",
       "6  2016-09-19  ...  1.312639e-11               \n",
       "7  2016-09-30  ...  1.793922e-05               \n",
       "8  2016-11-03  ...  9.999995e-01               \n",
       "9  2016-11-14  ...  6.513017e-01               \n",
       "10 2016-11-22  ...  2.394455e-01               \n",
       "11 2016-11-28  ...  2.579642e-08               \n",
       "\n",
       "[12 rows x 12 columns]"
      ]
     },
     "execution_count": 46,
     "metadata": {
      "tags": []
     },
     "output_type": "execute_result"
    }
   ],
   "source": [
    "df['deep_learning_sentiment_prob'] = deep_learning_sentiment_prob\n",
    "df"
   ]
  },
  {
   "cell_type": "code",
   "execution_count": 46,
   "metadata": {
    "id": "PmIZsymL2kJp"
   },
   "outputs": [],
   "source": []
  },
  {
   "cell_type": "markdown",
   "metadata": {
    "id": "Cc4wYfPqza3W"
   },
   "source": [
    "# Summary "
   ]
  },
  {
   "cell_type": "code",
   "execution_count": 33,
   "metadata": {
    "colab": {
     "base_uri": "https://localhost:8080/",
     "height": 1000
    },
    "id": "qc7uRQFtza3W",
    "outputId": "2fabe31c-6a70-4792-8c1d-4e3481f1ba29"
   },
   "outputs": [
    {
     "data": {
      "text/plain": [
       "Index(['Date', 'Header', 'Text', 'Open', 'Volume', '% Change in Stock Price',\n",
       "       '% Change in Volume', 'Text (clean)', 'Vader Sentiment Score',\n",
       "       'sentiment', 'sentiment_prob', 'Days Elapsed',\n",
       "       'Average % Change in Stock Price', 'Average % Change in Volume',\n",
       "       'Logistic Regression Sentiment', 'Logistic Regression Sentiment Score'],\n",
       "      dtype='object')"
      ]
     },
     "execution_count": 33,
     "metadata": {},
     "output_type": "execute_result"
    }
   ],
   "source": [
    "\n",
    "\n",
    "# Converting % stock price change to % stock price change per day\n",
    "days = [0]\n",
    "for i in range(len(df['Date'])):\n",
    "    if i != 0:\n",
    "        date_diff = df['Date'][i]-df['Date'][i-1]\n",
    "        day = date_diff.days\n",
    "        days.append(day)\n",
    "df['Days Elapsed'] = days\n",
    "df['Average % Change in Stock Price'] = df['% Change in Stock Price']/df['Days Elapsed']\n",
    "df['Average % Change in Volume'] = df['% Change in Volume']/df['Days Elapsed']\n",
    "\n",
    "df['Logistic Regression Sentiment'] = sentiment\n",
    "df['Logistic Regression Sentiment Score'] = sentiment_prob\n",
    "\n",
    "\n",
    "df.columns\n",
    "\n"
   ]
  },
  {
   "cell_type": "markdown",
   "metadata": {},
   "source": [
    "## Outlier Removal"
   ]
  },
  {
   "cell_type": "code",
   "execution_count": 34,
   "metadata": {},
   "outputs": [
    {
     "name": "stdout",
     "output_type": "stream",
     "text": [
      "0.03326779029559743\n",
      "0.1793908117821089\n",
      "-0.347293515802899\n",
      "0.3444833412586505\n"
     ]
    }
   ],
   "source": [
    "Q1_stock = df['% Change in Stock Price'].quantile(0.25)\n",
    "Q3_stock = df['% Change in Stock Price'].quantile(0.75)\n",
    "IQR_stock = Q3_stock - Q1_stock\n",
    "lower_bound_stock = Q1_stock-1.5*IQR_stock\n",
    "upper_bound_stock = Q3_stock+1.5*IQR_stock\n",
    "\n",
    "Q1_volume = df['% Change in Volume'].quantile(0.25)\n",
    "Q3_volume = df['% Change in Volume'].quantile(0.75)\n",
    "IQR_volume = Q3_volume - Q1_volume\n",
    "lower_bound_volume = Q1_volume-1.5*IQR_volume\n",
    "upper_bound_volume = Q3_volume+1.5*IQR_volume\n",
    "\n",
    "\n",
    "\n",
    "\n",
    "df_plot_stock = df[(df['% Change in Stock Price']>lower_bound_stock) & (df['% Change in Stock Price']<upper_bound_stock)]\n",
    "df_plot_volume = df[(df['% Change in Volume']>lower_bound_volume) & (df['% Change in Volume']<upper_bound_stock)]\n",
    "\n",
    "df_plot_stock.columns\n",
    "print(np.corrcoef(df_plot_stock['Average % Change in Stock Price'], df_plot_stock['Vader Sentiment Score'])[1,0])\n",
    "print(np.corrcoef(df_plot_stock['Average % Change in Stock Price'], df_plot_stock['Logistic Regression Sentiment Score'])[1,0])\n",
    "print(np.corrcoef(df_plot_volume['Average % Change in Volume'], df_plot_volume['Vader Sentiment Score'])[1,0])\n",
    "print(np.corrcoef(df_plot_volume['Average % Change in Volume'], df_plot_volume['Logistic Regression Sentiment Score'])[1,0])\n"
   ]
  },
  {
   "cell_type": "code",
   "execution_count": 48,
   "metadata": {
    "id": "to41VgKoza3W"
   },
   "outputs": [],
   "source": [
    "df['Vader Sentiment'] = df['Vader Sentiment Score'].apply(lambda x: \"positive\" if x>0 else \"negative\")\n",
    "df['Logistic Regression Sentiment'] = df['sentiment_prob'].apply(lambda x: \"positive\" if x>0.5 else \"negative\")\n",
    "df['Stock Price Change'] = df['% Change in Stock Price Per Day'].apply(lambda x: \"positive\" if x>0 else \"negative\")\n",
    "df['deep_learning_sentiment_prob'] = df['deep_learning_sentiment_prob'].apply(lambda x: \"positive\" if x>0.5 else \"negative\")"
   ]
  },
  {
   "cell_type": "code",
   "execution_count": 49,
   "metadata": {
    "colab": {
     "base_uri": "https://localhost:8080/",
     "height": 203
    },
    "id": "X4V1xSn9za3W",
    "outputId": "2fba2971-344f-4db9-db10-de097a990ff0"
   },
   "outputs": [
    {
     "data": {
      "text/html": [
       "<div>\n",
       "<style scoped>\n",
       "    .dataframe tbody tr th:only-of-type {\n",
       "        vertical-align: middle;\n",
       "    }\n",
       "\n",
       "    .dataframe tbody tr th {\n",
       "        vertical-align: top;\n",
       "    }\n",
       "\n",
       "    .dataframe thead th {\n",
       "        text-align: right;\n",
       "    }\n",
       "</style>\n",
       "<table border=\"1\" class=\"dataframe\">\n",
       "  <thead>\n",
       "    <tr style=\"text-align: right;\">\n",
       "      <th></th>\n",
       "      <th>Date</th>\n",
       "      <th>Header</th>\n",
       "      <th>Stock Price Change</th>\n",
       "      <th>Vader Sentiment</th>\n",
       "      <th>Logistic Regression Sentiment</th>\n",
       "      <th>deep_learning_sentiment_prob</th>\n",
       "    </tr>\n",
       "  </thead>\n",
       "  <tbody>\n",
       "    <tr>\n",
       "      <th>0</th>\n",
       "      <td>2016-08-10</td>\n",
       "      <td>Samsung Electronics says to acquire U.S. appliances maker Dacor</td>\n",
       "      <td>negative</td>\n",
       "      <td>positive</td>\n",
       "      <td>positive</td>\n",
       "      <td>negative</td>\n",
       "    </tr>\n",
       "    <tr>\n",
       "      <th>1</th>\n",
       "      <td>2016-08-22</td>\n",
       "      <td>Samsung plans refurbished smartphone program: source</td>\n",
       "      <td>positive</td>\n",
       "      <td>positive</td>\n",
       "      <td>negative</td>\n",
       "      <td>negative</td>\n",
       "    </tr>\n",
       "    <tr>\n",
       "      <th>2</th>\n",
       "      <td>2016-08-24</td>\n",
       "      <td>Samsung, Tencent surge in race to become Asia's most valuable firm</td>\n",
       "      <td>positive</td>\n",
       "      <td>positive</td>\n",
       "      <td>positive</td>\n",
       "      <td>positive</td>\n",
       "    </tr>\n",
       "    <tr>\n",
       "      <th>3</th>\n",
       "      <td>2016-08-31</td>\n",
       "      <td>Nokia's patent chief departs in wake of Samsung pacts</td>\n",
       "      <td>negative</td>\n",
       "      <td>positive</td>\n",
       "      <td>negative</td>\n",
       "      <td>positive</td>\n",
       "    </tr>\n",
       "    <tr>\n",
       "      <th>4</th>\n",
       "      <td>2016-09-02</td>\n",
       "      <td>Samsung recalls Galaxy Note 7 phones after battery fires</td>\n",
       "      <td>negative</td>\n",
       "      <td>positive</td>\n",
       "      <td>negative</td>\n",
       "      <td>negative</td>\n",
       "    </tr>\n",
       "  </tbody>\n",
       "</table>\n",
       "</div>"
      ],
      "text/plain": [
       "        Date  ... deep_learning_sentiment_prob\n",
       "0 2016-08-10  ...  negative                   \n",
       "1 2016-08-22  ...  negative                   \n",
       "2 2016-08-24  ...  positive                   \n",
       "3 2016-08-31  ...  positive                   \n",
       "4 2016-09-02  ...  negative                   \n",
       "\n",
       "[5 rows x 6 columns]"
      ]
     },
     "execution_count": 49,
     "metadata": {
      "tags": []
     },
     "output_type": "execute_result"
    }
   ],
   "source": [
    "columns = ['Date','Header','Stock Price Change', 'Vader Sentiment', 'Logistic Regression Sentiment','deep_learning_sentiment_prob']\n",
    "df_summary = df[columns]\n",
    "df_summary.head()"
   ]
  },
  {
   "cell_type": "code",
   "execution_count": null,
   "metadata": {
    "id": "ItVXMLGuza3W"
   },
   "outputs": [],
   "source": []
  }
 ],
 "metadata": {
  "accelerator": "GPU",
  "colab": {
   "collapsed_sections": [],
   "name": "Samsung.ipynb",
   "provenance": []
  },
  "kernelspec": {
   "display_name": "Python 3",
   "language": "python",
   "name": "python3"
  },
  "language_info": {
   "codemirror_mode": {
    "name": "ipython",
    "version": 3
   },
   "file_extension": ".py",
   "mimetype": "text/x-python",
   "name": "python",
   "nbconvert_exporter": "python",
   "pygments_lexer": "ipython3",
   "version": "3.7.9"
  }
 },
 "nbformat": 4,
 "nbformat_minor": 1
}
