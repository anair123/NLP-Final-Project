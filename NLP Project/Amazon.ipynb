{
 "cells": [
  {
   "cell_type": "code",
   "execution_count": 2,
   "metadata": {
    "colab": {
     "base_uri": "https://localhost:8080/"
    },
    "id": "Ue3dV_iFstBN",
    "outputId": "0e6fd3c6-d966-4673-b1e7-1ad0bc4f0301"
   },
   "outputs": [
    {
     "ename": "ModuleNotFoundError",
     "evalue": "No module named 'google.colab'",
     "output_type": "error",
     "traceback": [
      "\u001b[1;31m---------------------------------------------------------------------------\u001b[0m",
      "\u001b[1;31mModuleNotFoundError\u001b[0m                       Traceback (most recent call last)",
      "\u001b[1;32m<ipython-input-2-e191d0e46b75>\u001b[0m in \u001b[0;36m<module>\u001b[1;34m\u001b[0m\n\u001b[1;32m----> 1\u001b[1;33m \u001b[1;32mfrom\u001b[0m \u001b[0mgoogle\u001b[0m\u001b[1;33m.\u001b[0m\u001b[0mcolab\u001b[0m \u001b[1;32mimport\u001b[0m \u001b[0mdrive\u001b[0m\u001b[1;33m\u001b[0m\u001b[1;33m\u001b[0m\u001b[0m\n\u001b[0m\u001b[0;32m      2\u001b[0m \u001b[1;33m\u001b[0m\u001b[0m\n\u001b[0;32m      3\u001b[0m \u001b[1;31m# Mount Google Drive\u001b[0m\u001b[1;33m\u001b[0m\u001b[1;33m\u001b[0m\u001b[1;33m\u001b[0m\u001b[0m\n\u001b[0;32m      4\u001b[0m \u001b[0mdrive\u001b[0m\u001b[1;33m.\u001b[0m\u001b[0mmount\u001b[0m\u001b[1;33m(\u001b[0m\u001b[1;34m'/content/drive'\u001b[0m\u001b[1;33m)\u001b[0m\u001b[1;33m\u001b[0m\u001b[1;33m\u001b[0m\u001b[0m\n\u001b[0;32m      5\u001b[0m \u001b[1;33m\u001b[0m\u001b[0m\n",
      "\u001b[1;31mModuleNotFoundError\u001b[0m: No module named 'google.colab'"
     ]
    }
   ],
   "source": [
    "from google.colab import drive\n",
    "\n",
    "# Mount Google Drive\n",
    "drive.mount('/content/drive')\n",
    "\n",
    "# Implement me\n",
    "# Set working directory\n",
    "abspath = '/content/drive/My Drive/Colab Notebooks/NLP/NLP-Final-Project/NLP Project'"
   ]
  },
  {
   "cell_type": "code",
   "execution_count": 3,
   "metadata": {
    "colab": {
     "base_uri": "https://localhost:8080/",
     "height": 35
    },
    "id": "HcLdsQhRtA9y",
    "outputId": "dd1bdc9a-704f-49b3-ee8b-97870a5837d9"
   },
   "outputs": [
    {
     "ename": "NameError",
     "evalue": "name 'abspath' is not defined",
     "output_type": "error",
     "traceback": [
      "\u001b[1;31m---------------------------------------------------------------------------\u001b[0m",
      "\u001b[1;31mNameError\u001b[0m                                 Traceback (most recent call last)",
      "\u001b[1;32m<ipython-input-3-5a3e8227e430>\u001b[0m in \u001b[0;36m<module>\u001b[1;34m\u001b[0m\n\u001b[0;32m      1\u001b[0m \u001b[1;32mimport\u001b[0m \u001b[0mos\u001b[0m\u001b[1;33m\u001b[0m\u001b[1;33m\u001b[0m\u001b[0m\n\u001b[1;32m----> 2\u001b[1;33m \u001b[0mos\u001b[0m\u001b[1;33m.\u001b[0m\u001b[0mchdir\u001b[0m\u001b[1;33m(\u001b[0m\u001b[0mabspath\u001b[0m\u001b[1;33m)\u001b[0m\u001b[1;33m\u001b[0m\u001b[1;33m\u001b[0m\u001b[0m\n\u001b[0m\u001b[0;32m      3\u001b[0m \u001b[0mos\u001b[0m\u001b[1;33m.\u001b[0m\u001b[0mgetcwd\u001b[0m\u001b[1;33m(\u001b[0m\u001b[1;33m)\u001b[0m\u001b[1;33m\u001b[0m\u001b[1;33m\u001b[0m\u001b[0m\n",
      "\u001b[1;31mNameError\u001b[0m: name 'abspath' is not defined"
     ]
    }
   ],
   "source": [
    "import os\n",
    "os.chdir(abspath)\n",
    "os.getcwd()"
   ]
  },
  {
   "cell_type": "code",
   "execution_count": 4,
   "metadata": {
    "id": "aq6iWoM7sphz"
   },
   "outputs": [],
   "source": [
    "import requests\n",
    "from bs4 import BeautifulSoup\n",
    "import pandas as pd\n",
    "from datetime import datetime\n",
    "import matplotlib.pyplot as plt\n",
    "import dateutil.parser"
   ]
  },
  {
   "cell_type": "code",
   "execution_count": 5,
   "metadata": {
    "id": "i77tuKBvsph8"
   },
   "outputs": [],
   "source": [
    "# dictionary of text dates and links (May 2020 to August 2020)\n",
    "\n",
    "# May 1, 2020\n",
    "url1 = 'https://www.reuters.com/article/us-health-coronavirus-amazon-com-idUSKBN22D4TK'\n",
    "\n",
    "# May 4, 2020 \n",
    "url2 = 'https://www.reuters.com/article/us-health-coronavirus-amazon-france-ware-idUSKBN22G2FE'\n",
    "\n",
    "# May 7, 2020\n",
    "\n",
    "url3 = 'https://www.reuters.com/article/us-health-coronavirus-nasdaq-graphic/stay-at-home-stocks-amazon-microsoft-lift-nasdaq-into-gain-for-2020-idUSKBN22J2YU'\n",
    "\n",
    "# May 13, 2020\n",
    "url4 = 'https://www.reuters.com/article/us-amazon-fire-idUSKBN22P29N'\n",
    "\n",
    "# May 21, 2020\n",
    "\n",
    "url5 = 'https://www.reuters.com/article/us-amazon-com-prime-day-idUSKBN22X1PE'\n",
    "\n",
    "# May 26, 2020\n",
    "url6 = 'https://www.reuters.com/article/us-zoox-m-a-amazon-com-idUSKBN23302F'\n",
    "\n",
    "\n",
    "# May 28, 2020\n",
    "url7 = 'https://www.reuters.com/article/us-health-coronavirus-amazon-com-workers-idUSKBN2341FD'\n",
    "\n",
    "# June 3, 2020\n",
    "url8 = 'https://in.reuters.com/article/us-health-coronavirus-amazon-com-lawsuit/amazon-is-sued-over-warehouses-after-new-york-worker-brings-coronavirus-home-cousin-dies-idINKBN23A3FI'\n",
    "\n",
    "# June 17, 2020\n",
    "url9 = 'https://www.reuters.com/article/us-amazon-com-saudi-arabia-idUSKBN23O3AO'\n",
    "\n",
    "# June 23, 2020\n",
    "url10 = 'https://www.reuters.com/article/us-amazon-com-clean-energy-idUSKBN23U1OP'\n",
    "\n",
    "# June 26, 2020\n",
    "url11 = 'https://www.reuters.com/article/us-zoox-m-a-amazon-com-idUSKBN23X0PI'\n",
    "\n",
    "# June 28, 2020\n",
    "url12 = 'https://www.reuters.com/article/us-amazon-germany-strike-idUSKBN23Z0RC'\n",
    "\n",
    "# July 8, 2020\n",
    "url13 = 'https://www.reuters.com/article/us-amazon-com-india-idUSKBN2490U9'\n",
    "\n",
    "#July 10, 2020\n",
    "url14 = 'https://www.reuters.com/article/us-amazon-com-delivery-idUSKBN24B2EJ'\n",
    "\n",
    "# July 15, 2020\n",
    "url15 = 'https://www.reuters.com/article/us-health-coronavirus-amazon-com-workers-idUSKCN24G2TM'\n",
    "\n",
    "# July 23, 2020\n",
    "url16 = 'https://www.reuters.com/article/us-reliance-amazon-com-stake-idUSKCN24O1BP'\n",
    "\n",
    "# July 30, 2020\n",
    "url17 = 'https://www.reuters.com/article/us-amazon-com-results-idUSKCN24V3HL'\n",
    "\n",
    "# August 4, 2020\n",
    "url18 = 'https://www.reuters.com/article/us-amazon-com-sweden-idUSKCN2501OA'\n",
    "\n",
    "# August 14, 2020\n",
    "url19 ='https://www.reuters.com/article/us-amazon-com-liability/california-court-rules-amazon-is-liable-for-injuries-from-defective-products-idUKKCN259327'\n",
    "\n",
    "# August 17, 2020\n",
    "url20 = 'https://www.reuters.com/article/amazoncom-rackspace-tech-idUSL1N2FG1JC'\n",
    "\n",
    "# August 28, 2020\n",
    "url21 = 'https://www.reuters.com/article/us-amazon-com-daimler-electric-vehicles-idUSKBN25O0TC'\n",
    "\n",
    "\n",
    "\n",
    "url_dict = {'2020-05-01':url1,\n",
    "            '2020-05-04':url2,\n",
    "            '2020-05-07':url3,\n",
    "            '2020-05-13':url4,\n",
    "            '2020-05-21':url5,\n",
    "            '2020-05-26':url6,\n",
    "            '2020-05-28':url7,\n",
    "            '2020-06-03':url8,\n",
    "            '2020-06-17':url9,\n",
    "            '2020-06-23':url10,\n",
    "            '2020-06-26':url11,\n",
    "            '2020-06-28':url12,\n",
    "            '2020-07-08':url13,\n",
    "            '2020-07-10':url14,\n",
    "            '2020-07-15':url15,\n",
    "            '2020-07-23':url16,\n",
    "            '2020-07-30':url17,\n",
    "            '2020-08-04':url18,\n",
    "            '2020-08-14':url19,\n",
    "            '2020-08-17':url20,\n",
    "            '2020-08-28':url21,\n",
    "           }\n"
   ]
  },
  {
   "cell_type": "code",
   "execution_count": 6,
   "metadata": {
    "id": "0cyLRnaEsph-"
   },
   "outputs": [],
   "source": [
    "# extract info from each website and store it in dataframe\n",
    "df_text = pd.DataFrame(columns = ['Date','Header','Text'])\n",
    "header = []\n",
    "text = []\n",
    "date = []\n",
    "for key in url_dict:\n",
    "    page = requests.get(url_dict[key]).text\n",
    "    soup = BeautifulSoup(page, 'html.parser')\n",
    "    date.append(datetime.strptime(key, '%Y-%m-%d').date())\n",
    "    url_header = soup.find('h1').text\n",
    "    header.append(url_header)\n",
    "    url_text = soup.find('div', class_ ='ArticleBodyWrapper')\n",
    "    url_text = url_text.text\n",
    "    text.append(url_text)\n",
    "df_text['Date']=date\n",
    "df_text['Header']=header\n",
    "df_text['Text']=text\n",
    "\n",
    "# remove the author and \"min read\" sections\n",
    "df_text_temp = [] \n",
    "for text in df_text['Text']:\n",
    "    loc = text.find('(Reuters)')\n",
    "    df_text_temp.append(text[loc+9:])\n",
    "df_text['Text'] = df_text_temp\n",
    "\n",
    "\n"
   ]
  },
  {
   "cell_type": "code",
   "execution_count": 7,
   "metadata": {
    "colab": {
     "base_uri": "https://localhost:8080/",
     "height": 203
    },
    "id": "_zQ5a_Kesph-",
    "outputId": "01c7adca-c2fd-48f3-8c26-510cdf0a1483"
   },
   "outputs": [
    {
     "data": {
      "text/html": [
       "<div>\n",
       "<style scoped>\n",
       "    .dataframe tbody tr th:only-of-type {\n",
       "        vertical-align: middle;\n",
       "    }\n",
       "\n",
       "    .dataframe tbody tr th {\n",
       "        vertical-align: top;\n",
       "    }\n",
       "\n",
       "    .dataframe thead th {\n",
       "        text-align: right;\n",
       "    }\n",
       "</style>\n",
       "<table border=\"1\" class=\"dataframe\">\n",
       "  <thead>\n",
       "    <tr style=\"text-align: right;\">\n",
       "      <th></th>\n",
       "      <th>Date</th>\n",
       "      <th>Header</th>\n",
       "      <th>Text</th>\n",
       "    </tr>\n",
       "  </thead>\n",
       "  <tbody>\n",
       "    <tr>\n",
       "      <th>0</th>\n",
       "      <td>2020-05-01</td>\n",
       "      <td>Amazon extends work from home regime till Octo...</td>\n",
       "      <td>- Amazon.com Inc has told staff whose job can...</td>\n",
       "    </tr>\n",
       "    <tr>\n",
       "      <th>1</th>\n",
       "      <td>2020-05-04</td>\n",
       "      <td>Amazon plans to extend closure of French wareh...</td>\n",
       "      <td>- Amazon AMZN.O plans to extend the closure o...</td>\n",
       "    </tr>\n",
       "    <tr>\n",
       "      <th>2</th>\n",
       "      <td>2020-05-07</td>\n",
       "      <td>Stay-at-home stocks Amazon, Microsoft lift Nas...</td>\n",
       "      <td>- The Nasdaq .IXIC was on track to end Thursd...</td>\n",
       "    </tr>\n",
       "    <tr>\n",
       "      <th>3</th>\n",
       "      <td>2020-05-13</td>\n",
       "      <td>Amazon launches three new models of Fire tablet</td>\n",
       "      <td>- Amazon.com Inc on Wednesday launched three ...</td>\n",
       "    </tr>\n",
       "    <tr>\n",
       "      <th>4</th>\n",
       "      <td>2020-05-21</td>\n",
       "      <td>Amazon pushes Prime Day to September as it ret...</td>\n",
       "      <td>- Amazon.com Inc is scheduling its annual Pri...</td>\n",
       "    </tr>\n",
       "  </tbody>\n",
       "</table>\n",
       "</div>"
      ],
      "text/plain": [
       "        Date                                             Header  \\\n",
       "0 2020-05-01  Amazon extends work from home regime till Octo...   \n",
       "1 2020-05-04  Amazon plans to extend closure of French wareh...   \n",
       "2 2020-05-07  Stay-at-home stocks Amazon, Microsoft lift Nas...   \n",
       "3 2020-05-13    Amazon launches three new models of Fire tablet   \n",
       "4 2020-05-21  Amazon pushes Prime Day to September as it ret...   \n",
       "\n",
       "                                                Text  \n",
       "0   - Amazon.com Inc has told staff whose job can...  \n",
       "1   - Amazon AMZN.O plans to extend the closure o...  \n",
       "2   - The Nasdaq .IXIC was on track to end Thursd...  \n",
       "3   - Amazon.com Inc on Wednesday launched three ...  \n",
       "4   - Amazon.com Inc is scheduling its annual Pri...  "
      ]
     },
     "execution_count": 7,
     "metadata": {},
     "output_type": "execute_result"
    }
   ],
   "source": [
    "df_text['Date'] = df_text['Date'].apply(lambda x: pd.to_datetime(x))\n",
    "df_text.head()"
   ]
  },
  {
   "cell_type": "code",
   "execution_count": 8,
   "metadata": {
    "colab": {
     "base_uri": "https://localhost:8080/",
     "height": 203
    },
    "id": "KOjjDQXjsph_",
    "outputId": "5fb796f7-a1fd-4170-fba4-818672c0c2cc"
   },
   "outputs": [
    {
     "data": {
      "text/html": [
       "<div>\n",
       "<style scoped>\n",
       "    .dataframe tbody tr th:only-of-type {\n",
       "        vertical-align: middle;\n",
       "    }\n",
       "\n",
       "    .dataframe tbody tr th {\n",
       "        vertical-align: top;\n",
       "    }\n",
       "\n",
       "    .dataframe thead th {\n",
       "        text-align: right;\n",
       "    }\n",
       "</style>\n",
       "<table border=\"1\" class=\"dataframe\">\n",
       "  <thead>\n",
       "    <tr style=\"text-align: right;\">\n",
       "      <th></th>\n",
       "      <th>Date</th>\n",
       "      <th>Open</th>\n",
       "      <th>Volume</th>\n",
       "    </tr>\n",
       "  </thead>\n",
       "  <tbody>\n",
       "    <tr>\n",
       "      <th>0</th>\n",
       "      <td>2019-11-29</td>\n",
       "      <td>1817.780029</td>\n",
       "      <td>1923400</td>\n",
       "    </tr>\n",
       "    <tr>\n",
       "      <th>1</th>\n",
       "      <td>2019-12-02</td>\n",
       "      <td>1804.400024</td>\n",
       "      <td>3925600</td>\n",
       "    </tr>\n",
       "    <tr>\n",
       "      <th>2</th>\n",
       "      <td>2019-12-03</td>\n",
       "      <td>1760.000000</td>\n",
       "      <td>3380900</td>\n",
       "    </tr>\n",
       "    <tr>\n",
       "      <th>3</th>\n",
       "      <td>2019-12-04</td>\n",
       "      <td>1774.010010</td>\n",
       "      <td>2670100</td>\n",
       "    </tr>\n",
       "    <tr>\n",
       "      <th>4</th>\n",
       "      <td>2019-12-05</td>\n",
       "      <td>1763.500000</td>\n",
       "      <td>2823800</td>\n",
       "    </tr>\n",
       "  </tbody>\n",
       "</table>\n",
       "</div>"
      ],
      "text/plain": [
       "        Date         Open   Volume\n",
       "0 2019-11-29  1817.780029  1923400\n",
       "1 2019-12-02  1804.400024  3925600\n",
       "2 2019-12-03  1760.000000  3380900\n",
       "3 2019-12-04  1774.010010  2670100\n",
       "4 2019-12-05  1763.500000  2823800"
      ]
     },
     "execution_count": 8,
     "metadata": {},
     "output_type": "execute_result"
    }
   ],
   "source": [
    "# import stock data of netflix\n",
    "df_stock = pd.read_csv('AMZN.csv', header=0)\n",
    "\n",
    "df_stock['Date']=df_stock['Date'].apply(lambda x: datetime.strptime(x, '%Y-%m-%d'))\n",
    "\n",
    "\n",
    "df_stock = df_stock.drop(['High','Low','Close','Adj Close'], axis=1)\n",
    "df_stock.head()"
   ]
  },
  {
   "cell_type": "code",
   "execution_count": 9,
   "metadata": {
    "colab": {
     "base_uri": "https://localhost:8080/",
     "height": 295
    },
    "id": "UCr2HmYxspiA",
    "outputId": "a5fc61d5-2506-4e96-cd91-00cff39a8457"
   },
   "outputs": [
    {
     "data": {
      "image/png": "[encoded data removed]",
      "text/plain": [
       "<Figure size 432x288 with 1 Axes>"
      ]
     },
     "metadata": {
      "needs_background": "light"
     },
     "output_type": "display_data"
    }
   ],
   "source": [
    "plt.figure()\n",
    "plt.plot(df_stock['Date'], df_stock['Open'])\n",
    "plt.title('Amazon Stock Price')\n",
    "plt.xlabel('Date')\n",
    "plt.ylabel('Stock Price')\n",
    "plt.show()"
   ]
  },
  {
   "cell_type": "code",
   "execution_count": 10,
   "metadata": {
    "id": "vOojhVsBspiA"
   },
   "outputs": [],
   "source": [
    "# Merge two dataframes\n",
    "df = pd.merge(df_text, df_stock, how='inner', on='Date')\n",
    "df = df.sort_values('Date')"
   ]
  },
  {
   "cell_type": "code",
   "execution_count": 11,
   "metadata": {
    "colab": {
     "base_uri": "https://localhost:8080/",
     "height": 203
    },
    "id": "jhwZWBmJspiA",
    "outputId": "feeca44a-042c-4c22-902d-fbfc2d711105"
   },
   "outputs": [
    {
     "data": {
      "text/html": [
       "<div>\n",
       "<style scoped>\n",
       "    .dataframe tbody tr th:only-of-type {\n",
       "        vertical-align: middle;\n",
       "    }\n",
       "\n",
       "    .dataframe tbody tr th {\n",
       "        vertical-align: top;\n",
       "    }\n",
       "\n",
       "    .dataframe thead th {\n",
       "        text-align: right;\n",
       "    }\n",
       "</style>\n",
       "<table border=\"1\" class=\"dataframe\">\n",
       "  <thead>\n",
       "    <tr style=\"text-align: right;\">\n",
       "      <th></th>\n",
       "      <th>Date</th>\n",
       "      <th>Header</th>\n",
       "      <th>Text</th>\n",
       "      <th>Open</th>\n",
       "      <th>Volume</th>\n",
       "      <th>% Change in Stock Price</th>\n",
       "      <th>% Change in Volume</th>\n",
       "    </tr>\n",
       "  </thead>\n",
       "  <tbody>\n",
       "    <tr>\n",
       "      <th>0</th>\n",
       "      <td>2020-05-01</td>\n",
       "      <td>Amazon extends work from home regime till Octo...</td>\n",
       "      <td>- Amazon.com Inc has told staff whose job can...</td>\n",
       "      <td>2336.800049</td>\n",
       "      <td>9772600</td>\n",
       "      <td>NaN</td>\n",
       "      <td>NaN</td>\n",
       "    </tr>\n",
       "    <tr>\n",
       "      <th>1</th>\n",
       "      <td>2020-05-04</td>\n",
       "      <td>Amazon plans to extend closure of French wareh...</td>\n",
       "      <td>- Amazon AMZN.O plans to extend the closure o...</td>\n",
       "      <td>2256.379883</td>\n",
       "      <td>4865900</td>\n",
       "      <td>-3.441465</td>\n",
       "      <td>-50.208747</td>\n",
       "    </tr>\n",
       "    <tr>\n",
       "      <th>2</th>\n",
       "      <td>2020-05-07</td>\n",
       "      <td>Stay-at-home stocks Amazon, Microsoft lift Nas...</td>\n",
       "      <td>- The Nasdaq .IXIC was on track to end Thursd...</td>\n",
       "      <td>2374.780029</td>\n",
       "      <td>3396400</td>\n",
       "      <td>5.247350</td>\n",
       "      <td>-30.199963</td>\n",
       "    </tr>\n",
       "    <tr>\n",
       "      <th>3</th>\n",
       "      <td>2020-05-13</td>\n",
       "      <td>Amazon launches three new models of Fire tablet</td>\n",
       "      <td>- Amazon.com Inc on Wednesday launched three ...</td>\n",
       "      <td>2366.800049</td>\n",
       "      <td>4782900</td>\n",
       "      <td>-0.336030</td>\n",
       "      <td>40.822636</td>\n",
       "    </tr>\n",
       "    <tr>\n",
       "      <th>4</th>\n",
       "      <td>2020-05-21</td>\n",
       "      <td>Amazon pushes Prime Day to September as it ret...</td>\n",
       "      <td>- Amazon.com Inc is scheduling its annual Pri...</td>\n",
       "      <td>2500.000000</td>\n",
       "      <td>5114400</td>\n",
       "      <td>5.627850</td>\n",
       "      <td>6.930941</td>\n",
       "    </tr>\n",
       "  </tbody>\n",
       "</table>\n",
       "</div>"
      ],
      "text/plain": [
       "        Date                                             Header  \\\n",
       "0 2020-05-01  Amazon extends work from home regime till Octo...   \n",
       "1 2020-05-04  Amazon plans to extend closure of French wareh...   \n",
       "2 2020-05-07  Stay-at-home stocks Amazon, Microsoft lift Nas...   \n",
       "3 2020-05-13    Amazon launches three new models of Fire tablet   \n",
       "4 2020-05-21  Amazon pushes Prime Day to September as it ret...   \n",
       "\n",
       "                                                Text         Open   Volume  \\\n",
       "0   - Amazon.com Inc has told staff whose job can...  2336.800049  9772600   \n",
       "1   - Amazon AMZN.O plans to extend the closure o...  2256.379883  4865900   \n",
       "2   - The Nasdaq .IXIC was on track to end Thursd...  2374.780029  3396400   \n",
       "3   - Amazon.com Inc on Wednesday launched three ...  2366.800049  4782900   \n",
       "4   - Amazon.com Inc is scheduling its annual Pri...  2500.000000  5114400   \n",
       "\n",
       "   % Change in Stock Price  % Change in Volume  \n",
       "0                      NaN                 NaN  \n",
       "1                -3.441465          -50.208747  \n",
       "2                 5.247350          -30.199963  \n",
       "3                -0.336030           40.822636  \n",
       "4                 5.627850            6.930941  "
      ]
     },
     "execution_count": 11,
     "metadata": {},
     "output_type": "execute_result"
    }
   ],
   "source": [
    "# show % change in stock price after news article publish\n",
    "pct_stock = df['Open'].pct_change()*100\n",
    "df['% Change in Stock Price'] = pct_stock\n",
    "pct_volume = df['Volume'].pct_change()*100\n",
    "df['% Change in Volume'] = pct_volume\n",
    "df.head()"
   ]
  },
  {
   "cell_type": "markdown",
   "metadata": {
    "id": "m7JAxwl3spiB"
   },
   "source": [
    "# Processing the text\n"
   ]
  },
  {
   "cell_type": "markdown",
   "metadata": {
    "id": "hd9BXABOspiB"
   },
   "source": [
    "## import spacy libraries\n",
    "import spacy\n",
    "import en_core_web_sm\n",
    "from  spacy.lang.en.stop_words import STOP_WORDS\n",
    "nlp = spacy.load('en_core_web_sm')"
   ]
  },
  {
   "cell_type": "code",
   "execution_count": 12,
   "metadata": {
    "id": "zgaUfrzGspiB"
   },
   "outputs": [],
   "source": [
    "# import spacy libraries\n",
    "import spacy\n",
    "import en_core_web_sm\n",
    "from  spacy.lang.en.stop_words import STOP_WORDS\n",
    "nlp = spacy.load('en_core_web_sm')"
   ]
  },
  {
   "cell_type": "code",
   "execution_count": 13,
   "metadata": {
    "id": "XYxQgLv5spiB"
   },
   "outputs": [],
   "source": [
    "\n",
    "text_nlp = nlp(df['Text'][1]) \n",
    "# Remove stop words\n",
    "text_nlp_clean = [word for word in text_nlp if word.is_stop == False]\n",
    "# Lemmatize words\n",
    "text_nlp_clean = [word.lemma_ for word in text_nlp_clean]"
   ]
  },
  {
   "cell_type": "code",
   "execution_count": 14,
   "metadata": {
    "colab": {
     "base_uri": "https://localhost:8080/",
     "height": 203
    },
    "id": "SrPeLz2_spiC",
    "outputId": "bd48dbfe-bb54-49a0-df24-7a3161b6c299"
   },
   "outputs": [
    {
     "data": {
      "text/html": [
       "<div>\n",
       "<style scoped>\n",
       "    .dataframe tbody tr th:only-of-type {\n",
       "        vertical-align: middle;\n",
       "    }\n",
       "\n",
       "    .dataframe tbody tr th {\n",
       "        vertical-align: top;\n",
       "    }\n",
       "\n",
       "    .dataframe thead th {\n",
       "        text-align: right;\n",
       "    }\n",
       "</style>\n",
       "<table border=\"1\" class=\"dataframe\">\n",
       "  <thead>\n",
       "    <tr style=\"text-align: right;\">\n",
       "      <th></th>\n",
       "      <th>Date</th>\n",
       "      <th>Header</th>\n",
       "      <th>Text</th>\n",
       "      <th>Open</th>\n",
       "      <th>Volume</th>\n",
       "      <th>% Change in Stock Price</th>\n",
       "      <th>% Change in Volume</th>\n",
       "      <th>Text (clean)</th>\n",
       "    </tr>\n",
       "  </thead>\n",
       "  <tbody>\n",
       "    <tr>\n",
       "      <th>0</th>\n",
       "      <td>2020-05-01</td>\n",
       "      <td>Amazon extends work from home regime till Octo...</td>\n",
       "      <td>- Amazon.com Inc has told staff whose job can...</td>\n",
       "      <td>2336.800049</td>\n",
       "      <td>9772600</td>\n",
       "      <td>NaN</td>\n",
       "      <td>NaN</td>\n",
       "      <td>Amazon.com Inc tell staff job home October 2 p...</td>\n",
       "    </tr>\n",
       "    <tr>\n",
       "      <th>1</th>\n",
       "      <td>2020-05-04</td>\n",
       "      <td>Amazon plans to extend closure of French wareh...</td>\n",
       "      <td>- Amazon AMZN.O plans to extend the closure o...</td>\n",
       "      <td>2256.379883</td>\n",
       "      <td>4865900</td>\n",
       "      <td>-3.441465</td>\n",
       "      <td>-50.208747</td>\n",
       "      <td>Amazon AMZN.O plan extend closure french wareh...</td>\n",
       "    </tr>\n",
       "    <tr>\n",
       "      <th>2</th>\n",
       "      <td>2020-05-07</td>\n",
       "      <td>Stay-at-home stocks Amazon, Microsoft lift Nas...</td>\n",
       "      <td>- The Nasdaq .IXIC was on track to end Thursd...</td>\n",
       "      <td>2374.780029</td>\n",
       "      <td>3396400</td>\n",
       "      <td>5.247350</td>\n",
       "      <td>-30.199963</td>\n",
       "      <td>Nasdaq .IXIC track end Thursday positive terri...</td>\n",
       "    </tr>\n",
       "    <tr>\n",
       "      <th>3</th>\n",
       "      <td>2020-05-13</td>\n",
       "      <td>Amazon launches three new models of Fire tablet</td>\n",
       "      <td>- Amazon.com Inc on Wednesday launched three ...</td>\n",
       "      <td>2366.800049</td>\n",
       "      <td>4782900</td>\n",
       "      <td>-0.336030</td>\n",
       "      <td>40.822636</td>\n",
       "      <td>Amazon.com Inc Wednesday launch new version Fi...</td>\n",
       "    </tr>\n",
       "    <tr>\n",
       "      <th>4</th>\n",
       "      <td>2020-05-21</td>\n",
       "      <td>Amazon pushes Prime Day to September as it ret...</td>\n",
       "      <td>- Amazon.com Inc is scheduling its annual Pri...</td>\n",
       "      <td>2500.000000</td>\n",
       "      <td>5114400</td>\n",
       "      <td>5.627850</td>\n",
       "      <td>6.930941</td>\n",
       "      <td>Amazon.com Inc schedule annual Prime Day shopp...</td>\n",
       "    </tr>\n",
       "  </tbody>\n",
       "</table>\n",
       "</div>"
      ],
      "text/plain": [
       "        Date                                             Header  \\\n",
       "0 2020-05-01  Amazon extends work from home regime till Octo...   \n",
       "1 2020-05-04  Amazon plans to extend closure of French wareh...   \n",
       "2 2020-05-07  Stay-at-home stocks Amazon, Microsoft lift Nas...   \n",
       "3 2020-05-13    Amazon launches three new models of Fire tablet   \n",
       "4 2020-05-21  Amazon pushes Prime Day to September as it ret...   \n",
       "\n",
       "                                                Text         Open   Volume  \\\n",
       "0   - Amazon.com Inc has told staff whose job can...  2336.800049  9772600   \n",
       "1   - Amazon AMZN.O plans to extend the closure o...  2256.379883  4865900   \n",
       "2   - The Nasdaq .IXIC was on track to end Thursd...  2374.780029  3396400   \n",
       "3   - Amazon.com Inc on Wednesday launched three ...  2366.800049  4782900   \n",
       "4   - Amazon.com Inc is scheduling its annual Pri...  2500.000000  5114400   \n",
       "\n",
       "   % Change in Stock Price  % Change in Volume  \\\n",
       "0                      NaN                 NaN   \n",
       "1                -3.441465          -50.208747   \n",
       "2                 5.247350          -30.199963   \n",
       "3                -0.336030           40.822636   \n",
       "4                 5.627850            6.930941   \n",
       "\n",
       "                                        Text (clean)  \n",
       "0  Amazon.com Inc tell staff job home October 2 p...  \n",
       "1  Amazon AMZN.O plan extend closure french wareh...  \n",
       "2  Nasdaq .IXIC track end Thursday positive terri...  \n",
       "3  Amazon.com Inc Wednesday launch new version Fi...  \n",
       "4  Amazon.com Inc schedule annual Prime Day shopp...  "
      ]
     },
     "execution_count": 14,
     "metadata": {},
     "output_type": "execute_result"
    }
   ],
   "source": [
    "text_clean = []\n",
    "for ind, row in df.iterrows():\n",
    "    \n",
    "    # lower casing\n",
    "    text_lower = row['Text'].lower()\n",
    "    \n",
    "    # tokenization\n",
    "    text_nlp = nlp(row['Text']) \n",
    "    \n",
    "    # remove punctuation and empty space\n",
    "    text_nlp_clean = [word for word in text_nlp if not word.is_punct | word.is_space]\n",
    "    \n",
    "    # Remove stop words\n",
    "    text_nlp_clean = [word for word in text_nlp_clean if word.is_stop == False]\n",
    "    \n",
    "    # Lemmatize tokens\n",
    "    text_nlp_clean = [word.lemma_ for word in text_nlp_clean]\n",
    "    \n",
    "    # add preprocessed text to list\n",
    "    text_clean.append(text_nlp_clean)\n",
    "\n",
    "# turn list of strings to string\n",
    "to_string = []\n",
    "for text in text_clean:\n",
    "    to_string.append(' '.join(text))\n",
    "\n",
    "\n",
    "df['Text (clean)'] = to_string\n",
    "df.head()"
   ]
  },
  {
   "cell_type": "markdown",
   "metadata": {
    "id": "p3buk9-0spiC"
   },
   "source": [
    "# Using a Pretrained Model "
   ]
  },
  {
   "cell_type": "code",
   "execution_count": 15,
   "metadata": {
    "colab": {
     "base_uri": "https://localhost:8080/"
    },
    "id": "PaqUV5E-spiD",
    "outputId": "08c89b0f-702c-488f-eb3b-99cd1a01b04e"
   },
   "outputs": [],
   "source": [
    "from nltk.sentiment import SentimentIntensityAnalyzer"
   ]
  },
  {
   "cell_type": "code",
   "execution_count": 16,
   "metadata": {
    "id": "GNtosZlcspiD"
   },
   "outputs": [],
   "source": [
    "# a function to return sentiment score\n",
    "def polarity_score(text):\n",
    "    sid = SentimentIntensityAnalyzer()\n",
    "    return sid.polarity_scores(text)['compound']\n",
    "\n",
    "vader_score = []\n",
    "for text in df['Text (clean)']:\n",
    "    score = polarity_score(text)\n",
    "    vader_score.append(score)\n",
    "\n",
    "df['Vader Sentiment Score'] = vader_score"
   ]
  },
  {
   "cell_type": "code",
   "execution_count": 17,
   "metadata": {
    "colab": {
     "base_uri": "https://localhost:8080/"
    },
    "id": "UO_rFoXXuFIB",
    "outputId": "c7da5e87-d444-4d42-a2fb-fbd1a0694c82"
   },
   "outputs": [
    {
     "name": "stderr",
     "output_type": "stream",
     "text": [
      "[nltk_data] Downloading package vader_lexicon to\n",
      "[nltk_data]     C:\\Users\\aashi\\AppData\\Roaming\\nltk_data...\n",
      "[nltk_data]   Package vader_lexicon is already up-to-date!\n"
     ]
    },
    {
     "data": {
      "text/plain": [
       "True"
      ]
     },
     "execution_count": 17,
     "metadata": {},
     "output_type": "execute_result"
    }
   ],
   "source": [
    "import nltk\n",
    "nltk.download('vader_lexicon')"
   ]
  },
  {
   "cell_type": "code",
   "execution_count": 18,
   "metadata": {
    "colab": {
     "base_uri": "https://localhost:8080/",
     "height": 203
    },
    "id": "YAFFGDAyspiD",
    "outputId": "984ce5ca-f54c-45f4-a006-13fd9e3a80e3"
   },
   "outputs": [
    {
     "data": {
      "text/html": [
       "<div>\n",
       "<style scoped>\n",
       "    .dataframe tbody tr th:only-of-type {\n",
       "        vertical-align: middle;\n",
       "    }\n",
       "\n",
       "    .dataframe tbody tr th {\n",
       "        vertical-align: top;\n",
       "    }\n",
       "\n",
       "    .dataframe thead th {\n",
       "        text-align: right;\n",
       "    }\n",
       "</style>\n",
       "<table border=\"1\" class=\"dataframe\">\n",
       "  <thead>\n",
       "    <tr style=\"text-align: right;\">\n",
       "      <th></th>\n",
       "      <th>Date</th>\n",
       "      <th>Header</th>\n",
       "      <th>Text</th>\n",
       "      <th>Open</th>\n",
       "      <th>Volume</th>\n",
       "      <th>% Change in Stock Price</th>\n",
       "      <th>% Change in Volume</th>\n",
       "      <th>Text (clean)</th>\n",
       "      <th>Vader Sentiment Score</th>\n",
       "    </tr>\n",
       "  </thead>\n",
       "  <tbody>\n",
       "    <tr>\n",
       "      <th>0</th>\n",
       "      <td>2020-05-01</td>\n",
       "      <td>Amazon extends work from home regime till Octo...</td>\n",
       "      <td>- Amazon.com Inc has told staff whose job can...</td>\n",
       "      <td>2336.800049</td>\n",
       "      <td>9772600</td>\n",
       "      <td>NaN</td>\n",
       "      <td>NaN</td>\n",
       "      <td>Amazon.com Inc tell staff job home October 2 p...</td>\n",
       "      <td>0.9337</td>\n",
       "    </tr>\n",
       "    <tr>\n",
       "      <th>1</th>\n",
       "      <td>2020-05-04</td>\n",
       "      <td>Amazon plans to extend closure of French wareh...</td>\n",
       "      <td>- Amazon AMZN.O plans to extend the closure o...</td>\n",
       "      <td>2256.379883</td>\n",
       "      <td>4865900</td>\n",
       "      <td>-3.441465</td>\n",
       "      <td>-50.208747</td>\n",
       "      <td>Amazon AMZN.O plan extend closure french wareh...</td>\n",
       "      <td>0.5106</td>\n",
       "    </tr>\n",
       "    <tr>\n",
       "      <th>2</th>\n",
       "      <td>2020-05-07</td>\n",
       "      <td>Stay-at-home stocks Amazon, Microsoft lift Nas...</td>\n",
       "      <td>- The Nasdaq .IXIC was on track to end Thursd...</td>\n",
       "      <td>2374.780029</td>\n",
       "      <td>3396400</td>\n",
       "      <td>5.247350</td>\n",
       "      <td>-30.199963</td>\n",
       "      <td>Nasdaq .IXIC track end Thursday positive terri...</td>\n",
       "      <td>0.9423</td>\n",
       "    </tr>\n",
       "    <tr>\n",
       "      <th>3</th>\n",
       "      <td>2020-05-13</td>\n",
       "      <td>Amazon launches three new models of Fire tablet</td>\n",
       "      <td>- Amazon.com Inc on Wednesday launched three ...</td>\n",
       "      <td>2366.800049</td>\n",
       "      <td>4782900</td>\n",
       "      <td>-0.336030</td>\n",
       "      <td>40.822636</td>\n",
       "      <td>Amazon.com Inc Wednesday launch new version Fi...</td>\n",
       "      <td>-0.6249</td>\n",
       "    </tr>\n",
       "    <tr>\n",
       "      <th>4</th>\n",
       "      <td>2020-05-21</td>\n",
       "      <td>Amazon pushes Prime Day to September as it ret...</td>\n",
       "      <td>- Amazon.com Inc is scheduling its annual Pri...</td>\n",
       "      <td>2500.000000</td>\n",
       "      <td>5114400</td>\n",
       "      <td>5.627850</td>\n",
       "      <td>6.930941</td>\n",
       "      <td>Amazon.com Inc schedule annual Prime Day shopp...</td>\n",
       "      <td>0.9524</td>\n",
       "    </tr>\n",
       "  </tbody>\n",
       "</table>\n",
       "</div>"
      ],
      "text/plain": [
       "        Date                                             Header  \\\n",
       "0 2020-05-01  Amazon extends work from home regime till Octo...   \n",
       "1 2020-05-04  Amazon plans to extend closure of French wareh...   \n",
       "2 2020-05-07  Stay-at-home stocks Amazon, Microsoft lift Nas...   \n",
       "3 2020-05-13    Amazon launches three new models of Fire tablet   \n",
       "4 2020-05-21  Amazon pushes Prime Day to September as it ret...   \n",
       "\n",
       "                                                Text         Open   Volume  \\\n",
       "0   - Amazon.com Inc has told staff whose job can...  2336.800049  9772600   \n",
       "1   - Amazon AMZN.O plans to extend the closure o...  2256.379883  4865900   \n",
       "2   - The Nasdaq .IXIC was on track to end Thursd...  2374.780029  3396400   \n",
       "3   - Amazon.com Inc on Wednesday launched three ...  2366.800049  4782900   \n",
       "4   - Amazon.com Inc is scheduling its annual Pri...  2500.000000  5114400   \n",
       "\n",
       "   % Change in Stock Price  % Change in Volume  \\\n",
       "0                      NaN                 NaN   \n",
       "1                -3.441465          -50.208747   \n",
       "2                 5.247350          -30.199963   \n",
       "3                -0.336030           40.822636   \n",
       "4                 5.627850            6.930941   \n",
       "\n",
       "                                        Text (clean)  Vader Sentiment Score  \n",
       "0  Amazon.com Inc tell staff job home October 2 p...                 0.9337  \n",
       "1  Amazon AMZN.O plan extend closure french wareh...                 0.5106  \n",
       "2  Nasdaq .IXIC track end Thursday positive terri...                 0.9423  \n",
       "3  Amazon.com Inc Wednesday launch new version Fi...                -0.6249  \n",
       "4  Amazon.com Inc schedule annual Prime Day shopp...                 0.9524  "
      ]
     },
     "execution_count": 18,
     "metadata": {},
     "output_type": "execute_result"
    }
   ],
   "source": [
    "df.head()"
   ]
  },
  {
   "cell_type": "markdown",
   "metadata": {
    "id": "cjqhRinPspiD"
   },
   "source": [
    "## Sentiment Analysis"
   ]
  },
  {
   "cell_type": "code",
   "execution_count": 19,
   "metadata": {
    "id": "_rBG9UdFspiE"
   },
   "outputs": [],
   "source": [
    "# run this cell to import nltk\n",
    "import nltk\n",
    "from os import getcwd\n",
    "import numpy as np\n",
    "import pandas as pd\n",
    "from nltk.corpus import twitter_samples \n",
    "from utils import process_tweet, build_freqs"
   ]
  },
  {
   "cell_type": "code",
   "execution_count": 20,
   "metadata": {
    "colab": {
     "base_uri": "https://localhost:8080/"
    },
    "id": "Hp764QWFspiE",
    "outputId": "e88cfd05-8b7e-4098-eb00-49c0ff2b4e03"
   },
   "outputs": [
    {
     "name": "stderr",
     "output_type": "stream",
     "text": [
      "[nltk_data] Downloading package twitter_samples to\n",
      "[nltk_data]     C:\\Users\\aashi\\AppData\\Roaming\\nltk_data...\n",
      "[nltk_data]   Package twitter_samples is already up-to-date!\n",
      "[nltk_data] Downloading package stopwords to\n",
      "[nltk_data]     C:\\Users\\aashi\\AppData\\Roaming\\nltk_data...\n",
      "[nltk_data]   Package stopwords is already up-to-date!\n"
     ]
    },
    {
     "data": {
      "text/plain": [
       "True"
      ]
     },
     "execution_count": 20,
     "metadata": {},
     "output_type": "execute_result"
    }
   ],
   "source": [
    "nltk.download('twitter_samples')\n",
    "nltk.download('stopwords')"
   ]
  },
  {
   "cell_type": "code",
   "execution_count": 21,
   "metadata": {
    "id": "ObKrM7NLspiE"
   },
   "outputs": [],
   "source": [
    "\n",
    "# select the set of positive and negative tweets\n",
    "all_positive_tweets = twitter_samples.strings('positive_tweets.json')\n",
    "all_negative_tweets = twitter_samples.strings('negative_tweets.json')"
   ]
  },
  {
   "cell_type": "code",
   "execution_count": 22,
   "metadata": {
    "id": "m2tWBGQWspiE"
   },
   "outputs": [],
   "source": [
    "# split the data into two pieces (80-20), one for training and one for testing (validation set)  \n",
    "test_pos = all_positive_tweets[4000:]\n",
    "train_pos = all_positive_tweets[:4000]\n",
    "test_neg = all_negative_tweets[4000:]\n",
    "train_neg = all_negative_tweets[:4000]\n",
    "\n",
    "train_x = train_pos + train_neg \n",
    "test_x = test_pos + test_neg"
   ]
  },
  {
   "cell_type": "code",
   "execution_count": 23,
   "metadata": {
    "id": "INLAIJavspiF"
   },
   "outputs": [],
   "source": [
    "# combine positive and negative labels\n",
    "train_y = np.append(np.ones((len(train_pos), 1)), np.zeros((len(train_neg), 1)), axis=0)\n",
    "test_y = np.append(np.ones((len(test_pos), 1)), np.zeros((len(test_neg), 1)), axis=0)"
   ]
  },
  {
   "cell_type": "code",
   "execution_count": 24,
   "metadata": {
    "colab": {
     "base_uri": "https://localhost:8080/"
    },
    "id": "I48hxpT2spiF",
    "outputId": "869ccae9-f8e8-45ba-d5bb-a9fe94d201ea"
   },
   "outputs": [
    {
     "name": "stdout",
     "output_type": "stream",
     "text": [
      "train_y.shape = (8000, 1)\n",
      "test_y.shape = (2000, 1)\n"
     ]
    }
   ],
   "source": [
    "# Print the shape train and test sets\n",
    "print(\"train_y.shape = \" + str(train_y.shape))\n",
    "print(\"test_y.shape = \" + str(test_y.shape))"
   ]
  },
  {
   "cell_type": "code",
   "execution_count": 25,
   "metadata": {
    "colab": {
     "base_uri": "https://localhost:8080/"
    },
    "id": "hDNkboHAspiF",
    "outputId": "b860086b-0d70-4982-d86d-f8a85a9308c5"
   },
   "outputs": [
    {
     "name": "stdout",
     "output_type": "stream",
     "text": [
      "type(freqs) = <class 'dict'>\n",
      "len(freqs) = 11340\n"
     ]
    }
   ],
   "source": [
    "# create frequency dictionary\n",
    "freqs = build_freqs(train_x, train_y)\n",
    "\n",
    "# check the output\n",
    "print(\"type(freqs) = \" + str(type(freqs)))\n",
    "print(\"len(freqs) = \" + str(len(freqs.keys())))"
   ]
  },
  {
   "cell_type": "code",
   "execution_count": 26,
   "metadata": {
    "id": "qbFPlWpfspiF"
   },
   "outputs": [],
   "source": [
    "# UNQ_C3 (UNIQUE CELL IDENTIFIER, DO NOT EDIT)\n",
    "def extract_features(tweet, freqs):\n",
    "    '''\n",
    "    Input: \n",
    "        tweet: a list of words for one tweet\n",
    "        freqs: a dictionary corresponding to the frequencies of each tuple (word, label)\n",
    "    Output: \n",
    "        x: a feature vector of dimension (1,3)\n",
    "    '''\n",
    "    # process_tweet tokenizes, stems, and removes stopwords\n",
    "    word_l = process_tweet(tweet)\n",
    "    \n",
    "    # 3 elements in the form of a 1 x 3 vector\n",
    "    x = np.zeros((1, 3)) \n",
    "    \n",
    "    #bias term is set to 1\n",
    "    x[0,0] = 1 \n",
    "    \n",
    "    ### START CODE HERE (REPLACE INSTANCES OF 'None' with your code) ###\n",
    "    \n",
    "    # loop through each word in the list of words\n",
    "    for word in word_l:\n",
    "        \n",
    "        # increment the word count for the positive label 1\n",
    "        \n",
    "        x[0,1] += freqs.get((word,1),0)\n",
    "        \n",
    "        # increment the word count for the negative label 0\n",
    "        x[0,2] += freqs.get((word,0),0)\n",
    "        \n",
    "    ### END CODE HERE ###\n",
    "    assert(x.shape == (1, 3))\n",
    "    return x"
   ]
  },
  {
   "cell_type": "code",
   "execution_count": 27,
   "metadata": {
    "id": "IIUXMOXAspiG"
   },
   "outputs": [],
   "source": [
    "# collect the features 'x' and stack them into a matrix 'X'\n",
    "X = np.zeros((len(train_x), 3))\n",
    "for i in range(len(train_x)):\n",
    "    X[i, :]= extract_features(train_x[i], freqs)\n",
    "\n",
    "# training labels corresponding to X\n",
    "Y = train_y"
   ]
  },
  {
   "cell_type": "code",
   "execution_count": 28,
   "metadata": {
    "colab": {
     "base_uri": "https://localhost:8080/"
    },
    "id": "3Fch4aUjspiG",
    "outputId": "1b5fd00d-897d-4cdd-bad3-f971d0f61573"
   },
   "outputs": [
    {
     "data": {
      "text/plain": [
       "(8000, 1)"
      ]
     },
     "execution_count": 28,
     "metadata": {},
     "output_type": "execute_result"
    }
   ],
   "source": [
    "Y.shape"
   ]
  },
  {
   "cell_type": "markdown",
   "metadata": {
    "id": "CFW3c7cSspiG"
   },
   "source": [
    "### SVM Parameters"
   ]
  },
  {
   "cell_type": "code",
   "execution_count": 29,
   "metadata": {
    "colab": {
     "base_uri": "https://localhost:8080/"
    },
    "id": "YyFpTsjmspiG",
    "outputId": "f27071d7-278e-4082-f718-bc4abd4c5514"
   },
   "outputs": [
    {
     "name": "stderr",
     "output_type": "stream",
     "text": [
      "C:\\Users\\aashi\\Anaconda3\\lib\\site-packages\\sklearn\\utils\\validation.py:72: DataConversionWarning: A column-vector y was passed when a 1d array was expected. Please change the shape of y to (n_samples, ), for example using ravel().\n",
      "  return f(**kwargs)\n"
     ]
    },
    {
     "data": {
      "text/plain": [
       "LogisticRegression(random_state=0)"
      ]
     },
     "execution_count": 29,
     "metadata": {},
     "output_type": "execute_result"
    }
   ],
   "source": [
    "# Fitting Logistic Regression to the Training set\n",
    "from sklearn.linear_model import LogisticRegression\n",
    "classifier = LogisticRegression(random_state = 0)\n",
    "classifier.fit(X, Y)"
   ]
  },
  {
   "cell_type": "code",
   "execution_count": 30,
   "metadata": {
    "id": "VmtexY4QspiH"
   },
   "outputs": [],
   "source": [
    "\n",
    "# UNQ_C4 (UNIQUE CELL IDENTIFIER, DO NOT EDIT)\n",
    "def predict_tweet(tweet, freqs):\n",
    "    '''\n",
    "    Input: \n",
    "        tweet: a string\n",
    "        freqs: a dictionary corresponding to the frequencies of each tuple (word, label)\n",
    "        theta: (3,1) vector of weights\n",
    "    Output: \n",
    "        y_pred: the probability of a tweet being positive or negative\n",
    "    '''\n",
    "    ### START CODE HERE (REPLACE INSTANCES OF 'None' with your code) ###\n",
    "    \n",
    "    # extract the features of the tweet and store it into x\n",
    "    x = extract_features(tweet,freqs)\n",
    "    \n",
    "    # make the prediction using x and theta\n",
    "    y_pred = classifier.predict(x)\n",
    "    \n",
    "    ### END CODE HERE ###\n",
    "    \n",
    "    return y_pred"
   ]
  },
  {
   "cell_type": "code",
   "execution_count": 31,
   "metadata": {
    "id": "ZOF0tLVHspiH"
   },
   "outputs": [],
   "source": [
    "# UNQ_C4 (UNIQUE CELL IDENTIFIER, DO NOT EDIT)\n",
    "def predict_tweet_prob(tweet, freqs):\n",
    "    '''\n",
    "    Input: \n",
    "        tweet: a string\n",
    "        freqs: a dictionary corresponding to the frequencies of each tuple (word, label)\n",
    "        theta: (3,1) vector of weights\n",
    "    Output: \n",
    "        y_pred: the probability of a tweet being positive or negative\n",
    "    '''\n",
    "    ### START CODE HERE (REPLACE INSTANCES OF 'None' with your code) ###\n",
    "    \n",
    "    # extract the features of the tweet and store it into x\n",
    "    x = extract_features(tweet,freqs)\n",
    "    \n",
    "    # make the prediction using x and theta\n",
    "    y_pred = classifier.predict_proba(x)\n",
    "    \n",
    "    ### END CODE HERE ###\n",
    "    \n",
    "    return y_pred"
   ]
  },
  {
   "cell_type": "code",
   "execution_count": 32,
   "metadata": {
    "colab": {
     "base_uri": "https://localhost:8080/"
    },
    "id": "QMJNKNxRspiH",
    "outputId": "26a03787-0a65-4e40-8830-b063ecb4326f"
   },
   "outputs": [
    {
     "data": {
      "text/plain": [
       "array([0.])"
      ]
     },
     "execution_count": 32,
     "metadata": {},
     "output_type": "execute_result"
    }
   ],
   "source": [
    "\n",
    "my_tweet = 'The plot was terrible and I was sad until the ending!'\n",
    "predict_tweet(my_tweet, freqs)"
   ]
  },
  {
   "cell_type": "markdown",
   "metadata": {
    "id": "1cck7nGrspiH"
   },
   "source": [
    "# Testing the Model "
   ]
  },
  {
   "cell_type": "code",
   "execution_count": 33,
   "metadata": {
    "id": "3zywVq0tspiH"
   },
   "outputs": [],
   "source": [
    "sentiment = []\n",
    "sentiment_prob = []\n",
    "for i in df.iloc[:,2]:\n",
    "    sentiment.append(predict_tweet(i, freqs)[0])\n",
    "    sentiment_prob.append(predict_tweet_prob(i, freqs)[0][1])"
   ]
  },
  {
   "cell_type": "code",
   "execution_count": 34,
   "metadata": {
    "colab": {
     "base_uri": "https://localhost:8080/"
    },
    "id": "3ZyP8Q_qspiI",
    "outputId": "567cd4c8-c61b-4f9e-8a90-df00609a704f"
   },
   "outputs": [
    {
     "data": {
      "text/plain": [
       "[0.0,\n",
       " 0.0,\n",
       " 0.0,\n",
       " 1.0,\n",
       " 1.0,\n",
       " 0.0,\n",
       " 0.0,\n",
       " 0.0,\n",
       " 0.0,\n",
       " 1.0,\n",
       " 0.0,\n",
       " 0.0,\n",
       " 1.0,\n",
       " 1.0,\n",
       " 0.0,\n",
       " 0.0,\n",
       " 0.0,\n",
       " 1.0,\n",
       " 0.0,\n",
       " 0.0]"
      ]
     },
     "execution_count": 34,
     "metadata": {},
     "output_type": "execute_result"
    }
   ],
   "source": [
    "sentiment\n"
   ]
  },
  {
   "cell_type": "code",
   "execution_count": 35,
   "metadata": {
    "colab": {
     "base_uri": "https://localhost:8080/"
    },
    "id": "5TWoDGg2spiI",
    "outputId": "60b79ae6-7d6e-4e91-fc67-421b211f42b4"
   },
   "outputs": [
    {
     "data": {
      "text/plain": [
       "[0.2618334729233748,\n",
       " 0.3283845668965124,\n",
       " 0.010354060284476043,\n",
       " 0.9501886573386169,\n",
       " 0.8517521081724347,\n",
       " 0.3177180775673144,\n",
       " 0.06554527083311634,\n",
       " 0.37026363135100254,\n",
       " 0.1596126856899722,\n",
       " 0.6530352304432109,\n",
       " 0.23712903226583337,\n",
       " 0.4442002321771298,\n",
       " 0.9973827253034953,\n",
       " 0.6817719672477593,\n",
       " 0.21893120340366418,\n",
       " 0.05467648128576027,\n",
       " 0.3938074246666394,\n",
       " 0.5345745391228767,\n",
       " 0.055011028720492045,\n",
       " 0.49952737084212323]"
      ]
     },
     "execution_count": 35,
     "metadata": {},
     "output_type": "execute_result"
    }
   ],
   "source": [
    "sentiment_prob"
   ]
  },
  {
   "cell_type": "code",
   "execution_count": 36,
   "metadata": {
    "id": "_AzHmsLrspiI"
   },
   "outputs": [
    {
     "data": {
      "text/html": [
       "<div>\n",
       "<style scoped>\n",
       "    .dataframe tbody tr th:only-of-type {\n",
       "        vertical-align: middle;\n",
       "    }\n",
       "\n",
       "    .dataframe tbody tr th {\n",
       "        vertical-align: top;\n",
       "    }\n",
       "\n",
       "    .dataframe thead th {\n",
       "        text-align: right;\n",
       "    }\n",
       "</style>\n",
       "<table border=\"1\" class=\"dataframe\">\n",
       "  <thead>\n",
       "    <tr style=\"text-align: right;\">\n",
       "      <th></th>\n",
       "      <th>Date</th>\n",
       "      <th>Header</th>\n",
       "      <th>Text</th>\n",
       "      <th>Open</th>\n",
       "      <th>Volume</th>\n",
       "      <th>% Change in Stock Price</th>\n",
       "      <th>% Change in Volume</th>\n",
       "      <th>Text (clean)</th>\n",
       "      <th>Vader Sentiment Score</th>\n",
       "      <th>sentiment</th>\n",
       "      <th>sentiment_prob</th>\n",
       "    </tr>\n",
       "  </thead>\n",
       "  <tbody>\n",
       "    <tr>\n",
       "      <th>0</th>\n",
       "      <td>2020-05-01</td>\n",
       "      <td>Amazon extends work from home regime till Octo...</td>\n",
       "      <td>- Amazon.com Inc has told staff whose job can...</td>\n",
       "      <td>2336.800049</td>\n",
       "      <td>9772600</td>\n",
       "      <td>NaN</td>\n",
       "      <td>NaN</td>\n",
       "      <td>Amazon.com Inc tell staff job home October 2 p...</td>\n",
       "      <td>0.9337</td>\n",
       "      <td>0.0</td>\n",
       "      <td>0.261833</td>\n",
       "    </tr>\n",
       "    <tr>\n",
       "      <th>1</th>\n",
       "      <td>2020-05-04</td>\n",
       "      <td>Amazon plans to extend closure of French wareh...</td>\n",
       "      <td>- Amazon AMZN.O plans to extend the closure o...</td>\n",
       "      <td>2256.379883</td>\n",
       "      <td>4865900</td>\n",
       "      <td>-3.441465</td>\n",
       "      <td>-50.208747</td>\n",
       "      <td>Amazon AMZN.O plan extend closure french wareh...</td>\n",
       "      <td>0.5106</td>\n",
       "      <td>0.0</td>\n",
       "      <td>0.328385</td>\n",
       "    </tr>\n",
       "    <tr>\n",
       "      <th>2</th>\n",
       "      <td>2020-05-07</td>\n",
       "      <td>Stay-at-home stocks Amazon, Microsoft lift Nas...</td>\n",
       "      <td>- The Nasdaq .IXIC was on track to end Thursd...</td>\n",
       "      <td>2374.780029</td>\n",
       "      <td>3396400</td>\n",
       "      <td>5.247350</td>\n",
       "      <td>-30.199963</td>\n",
       "      <td>Nasdaq .IXIC track end Thursday positive terri...</td>\n",
       "      <td>0.9423</td>\n",
       "      <td>0.0</td>\n",
       "      <td>0.010354</td>\n",
       "    </tr>\n",
       "    <tr>\n",
       "      <th>3</th>\n",
       "      <td>2020-05-13</td>\n",
       "      <td>Amazon launches three new models of Fire tablet</td>\n",
       "      <td>- Amazon.com Inc on Wednesday launched three ...</td>\n",
       "      <td>2366.800049</td>\n",
       "      <td>4782900</td>\n",
       "      <td>-0.336030</td>\n",
       "      <td>40.822636</td>\n",
       "      <td>Amazon.com Inc Wednesday launch new version Fi...</td>\n",
       "      <td>-0.6249</td>\n",
       "      <td>1.0</td>\n",
       "      <td>0.950189</td>\n",
       "    </tr>\n",
       "    <tr>\n",
       "      <th>4</th>\n",
       "      <td>2020-05-21</td>\n",
       "      <td>Amazon pushes Prime Day to September as it ret...</td>\n",
       "      <td>- Amazon.com Inc is scheduling its annual Pri...</td>\n",
       "      <td>2500.000000</td>\n",
       "      <td>5114400</td>\n",
       "      <td>5.627850</td>\n",
       "      <td>6.930941</td>\n",
       "      <td>Amazon.com Inc schedule annual Prime Day shopp...</td>\n",
       "      <td>0.9524</td>\n",
       "      <td>1.0</td>\n",
       "      <td>0.851752</td>\n",
       "    </tr>\n",
       "  </tbody>\n",
       "</table>\n",
       "</div>"
      ],
      "text/plain": [
       "        Date                                             Header  \\\n",
       "0 2020-05-01  Amazon extends work from home regime till Octo...   \n",
       "1 2020-05-04  Amazon plans to extend closure of French wareh...   \n",
       "2 2020-05-07  Stay-at-home stocks Amazon, Microsoft lift Nas...   \n",
       "3 2020-05-13    Amazon launches three new models of Fire tablet   \n",
       "4 2020-05-21  Amazon pushes Prime Day to September as it ret...   \n",
       "\n",
       "                                                Text         Open   Volume  \\\n",
       "0   - Amazon.com Inc has told staff whose job can...  2336.800049  9772600   \n",
       "1   - Amazon AMZN.O plans to extend the closure o...  2256.379883  4865900   \n",
       "2   - The Nasdaq .IXIC was on track to end Thursd...  2374.780029  3396400   \n",
       "3   - Amazon.com Inc on Wednesday launched three ...  2366.800049  4782900   \n",
       "4   - Amazon.com Inc is scheduling its annual Pri...  2500.000000  5114400   \n",
       "\n",
       "   % Change in Stock Price  % Change in Volume  \\\n",
       "0                      NaN                 NaN   \n",
       "1                -3.441465          -50.208747   \n",
       "2                 5.247350          -30.199963   \n",
       "3                -0.336030           40.822636   \n",
       "4                 5.627850            6.930941   \n",
       "\n",
       "                                        Text (clean)  Vader Sentiment Score  \\\n",
       "0  Amazon.com Inc tell staff job home October 2 p...                 0.9337   \n",
       "1  Amazon AMZN.O plan extend closure french wareh...                 0.5106   \n",
       "2  Nasdaq .IXIC track end Thursday positive terri...                 0.9423   \n",
       "3  Amazon.com Inc Wednesday launch new version Fi...                -0.6249   \n",
       "4  Amazon.com Inc schedule annual Prime Day shopp...                 0.9524   \n",
       "\n",
       "   sentiment  sentiment_prob  \n",
       "0        0.0        0.261833  \n",
       "1        0.0        0.328385  \n",
       "2        0.0        0.010354  \n",
       "3        1.0        0.950189  \n",
       "4        1.0        0.851752  "
      ]
     },
     "execution_count": 36,
     "metadata": {},
     "output_type": "execute_result"
    }
   ],
   "source": [
    "df['sentiment'] = sentiment\n",
    "df['sentiment_prob'] = sentiment_prob\n",
    "\n",
    "df.head()"
   ]
  },
  {
   "cell_type": "markdown",
   "metadata": {
    "id": "NF84AsseuXXT"
   },
   "source": [
    "#DEEP LEARNING"
   ]
  },
  {
   "cell_type": "code",
   "execution_count": 37,
   "metadata": {
    "colab": {
     "base_uri": "https://localhost:8080/"
    },
    "id": "JF1RpuzOufhP",
    "outputId": "927399b0-7f2e-46b5-bf90-c8d6847f5108"
   },
   "outputs": [
    {
     "name": "stderr",
     "output_type": "stream",
     "text": [
      "/usr/local/lib/python3.6/dist-packages/ipykernel_launcher.py:4: FutureWarning: Passing a negative integer is deprecated in version 1.0 and will not be supported in future version. Instead, use None to not limit the column width.\n",
      "  after removing the cwd from sys.path.\n"
     ]
    },
    {
     "name": "stdout",
     "output_type": "stream",
     "text": [
      "[nltk_data] Downloading package punkt to /root/nltk_data...\n",
      "[nltk_data]   Unzipping tokenizers/punkt.zip.\n"
     ]
    },
    {
     "data": {
      "text/plain": [
       "True"
      ]
     },
     "execution_count": 37,
     "metadata": {
      "tags": []
     },
     "output_type": "execute_result"
    }
   ],
   "source": [
    "import sklearn\n",
    "import numpy as np\n",
    "import pandas as pd\n",
    "pd.set_option('display.max_colwidth', -1)\n",
    "import sklearn\n",
    "import sklearn.ensemble\n",
    "from sklearn.metrics import accuracy_score, confusion_matrix\n",
    "import sklearn.metrics\n",
    "import tensorflow as tf\n",
    "from scipy.special import softmax\n",
    "import os\n",
    "import numpy as np\n",
    "import pandas as pd\n",
    "import json\n",
    "import torch\n",
    "import torch.nn as nn\n",
    "import nltk\n",
    "from tqdm import tqdm\n",
    "import spacy\n",
    "import torch\n",
    "import torchtext\n",
    "import torchtext.data\n",
    "import torch.nn as nn\n",
    "import torch.nn.functional as F\n",
    "from scipy.special import softmax\n",
    "from torchtext.vocab import Vocab\n",
    "from nltk.corpus import twitter_samples \n",
    "\n",
    "nlp = spacy.load('en')\n",
    "nltk.download('punkt')"
   ]
  },
  {
   "cell_type": "code",
   "execution_count": 38,
   "metadata": {
    "id": "h1AHl0vLufd-"
   },
   "outputs": [],
   "source": [
    "device = torch.device(\"cuda\" if torch.cuda.is_available() else \"cpu\")\n",
    "torch.manual_seed(42)\n",
    "np.random.seed(42)\n",
    "torch.backends.cudnn.deterministic = True\n",
    "torch.backends.cudnn.benchmark = False"
   ]
  },
  {
   "cell_type": "code",
   "execution_count": 39,
   "metadata": {
    "id": "IumoTqP4ufYe"
   },
   "outputs": [],
   "source": [
    "# %% ----------------------------------- Hyper Parameters --------------------------------------------------------------\n",
    "class Args:\n",
    "    def __init__(self):\n",
    "        self.seq_len = \"get_max_from_data\"\n",
    "        self.embedding_dim = 50\n",
    "        self.n_epochs = 10\n",
    "        self.lr = 1e-2\n",
    "        self.batch_size = 512\n",
    "        self.train = True\n",
    "        self.save_model = True\n",
    "\n",
    "\n",
    "args = Args()"
   ]
  },
  {
   "cell_type": "code",
   "execution_count": 49,
   "metadata": {
    "id": "XlZtirqaufWA"
   },
   "outputs": [],
   "source": [
    "# %% ----------------------------------- Helper Functions --------------------------------------------------------------\n",
    "def acc(x, y, return_labels=False):\n",
    "    with torch.no_grad():\n",
    "        logits = torch.empty(len(x), 2)\n",
    "        for batch in range(len(x) // args.batch_size + 1):\n",
    "            inds = slice(batch * args.batch_size, (batch + 1) * args.batch_size)\n",
    "            logits[inds] = model(x[inds])\n",
    "        pred_labels = np.argmax(logits.cpu().numpy(), axis=1)\n",
    "    if return_labels:\n",
    "        return pred_labels\n",
    "    else:\n",
    "        return 100*accuracy_score(y.cpu().numpy(), pred_labels)\n",
    "\n",
    "\n",
    "def extract_vocab_dict_and_msl(sentences_train, sentences_dev):\n",
    "    \"\"\" Tokenizes all the sentences and gets a dictionary of unique tokens and also the maximum sequence length \"\"\"\n",
    "    tokens, ms_len = [], 0\n",
    "    for sentence in list(sentences_train) + list(sentences_dev):\n",
    "        tokens_in_sentence = nltk.word_tokenize(sentence)\n",
    "        if ms_len < len(tokens_in_sentence):\n",
    "            ms_len = len(tokens_in_sentence)\n",
    "        tokens += tokens_in_sentence\n",
    "    token_vocab = {key: i for key, i in zip(set(tokens), range(1, len(set(tokens))+1))}\n",
    "    if len(np.unique(list(token_vocab.values()))) != len(token_vocab):\n",
    "        \"There are some rep words...\"\n",
    "    return token_vocab, ms_len\n",
    "\n",
    "\n",
    "def convert_to_ids(raw_sentences, vocab_dict, pad_to):\n",
    "    \"\"\" Takes an NumPy array of raw text sentences and converts to a sequence of token ids \"\"\"\n",
    "    x = np.empty((len(raw_sentences), pad_to))\n",
    "    for idx, sentence in enumerate(raw_sentences):\n",
    "        word_ids = []\n",
    "        for token in nltk.word_tokenize(sentence):\n",
    "\n",
    "            if token not in vocab_dict.keys():\n",
    "              continue \n",
    "            try:\n",
    "                word_ids.append(vocab_dict[token])\n",
    "            except:\n",
    "                word_ids.append(vocab_dict[token])\n",
    "        if pad_to < len(word_ids):\n",
    "            x[idx] = word_ids[:pad_to]\n",
    "        else:\n",
    "            x[idx] = word_ids + [0] * (pad_to - len(word_ids))\n",
    "    return x\n",
    "\n",
    "\n",
    "def get_glove_embeddings(vocab_dict):\n",
    "    with open(\"glove.6B.50d.txt\", \"r\") as s:\n",
    "        glove = s.read()\n",
    "    embeddings_dict = {}\n",
    "    for line in glove.split(\"\\n\")[:-1]:\n",
    "        text = line.split()\n",
    "        if text[0] in vocab_dict:\n",
    "            embeddings_dict[vocab_dict[text[0]]] = torch.from_numpy(np.array(text[1:], dtype=\"float32\"))\n",
    "    return embeddings_dict\n",
    "\n",
    "\n",
    "def get_glove_table(vocab_dict, glove_dict):\n",
    "    lookup_table = torch.empty((len(vocab_dict)+2, 50))\n",
    "    for token_id in sorted(vocab_dict.values()):\n",
    "        if token_id in glove_dict:\n",
    "            lookup_table[token_id] = glove_dict[token_id]\n",
    "        else:\n",
    "            lookup_table[token_id] = torch.zeros((1, 50))  # For unknown tokens\n",
    "    lookup_table[0] = torch.zeros((1, 50))\n",
    "    return lookup_table\n",
    "\n"
   ]
  },
  {
   "cell_type": "code",
   "execution_count": 42,
   "metadata": {
    "id": "bgo3fmYKufTt"
   },
   "outputs": [],
   "source": [
    "data_train = pd.read_csv(\"original_data/train.tsv\", sep=\"\\t\")\n",
    "x_train_raw, y_train = data_train[\"sentence\"].values, torch.LongTensor(data_train[\"label\"].values).to(device)\n",
    "data_dev = pd.read_csv(\"original_data/dev.tsv\", sep=\"\\t\")\n",
    "x_dev_raw, y_dev = data_dev[\"sentence\"].values, torch.LongTensor(data_dev[\"label\"].values).to(device)\n"
   ]
  },
  {
   "cell_type": "code",
   "execution_count": 43,
   "metadata": {
    "id": "TDo4si5hufRw"
   },
   "outputs": [],
   "source": [
    "# %% -------------------------------------- Data Prep ------------------------------------------------------------------\n",
    "try:\n",
    "    with open(\"example_prep_data/vocab_dict.json\", \"r\") as s:\n",
    "        token_ids = json.load(s)\n",
    "    msl = np.load(\"example_prep_data/max_sequence_length.npy\").item()\n",
    "except:\n",
    "    print(\"Tokenizing all the examples to get a vocab dict and the maximum sequence length...\")\n",
    "    token_ids, msl = extract_vocab_dict_and_msl(x_train_raw, x_dev_raw)\n",
    "    os.mkdir(\"example_prep_data\")\n",
    "    with open(\"example_prep_data/vocab_dict.json\", \"w\") as s:\n",
    "        json.dump(token_ids, s)\n",
    "    np.save(\"example_prep_data/max_sequence_length.npy\", np.array([msl]))\n",
    "if args.seq_len == \"get_max_from_data\":\n",
    "    args.seq_len = msl\n",
    "\n",
    "glove_embeddings = get_glove_embeddings(token_ids)\n",
    "\n",
    "try:\n",
    "    x_train = np.load(\"example_prep_data/prep_train_len{}.npy\".format(args.seq_len))\n",
    "    x_dev = np.load(\"example_prep_data/prep_dev_len{}.npy\".format(args.seq_len))\n",
    "except:\n",
    "    print(\"Converting all the sentences to sequences of token ids...\")\n",
    "    x_train = convert_to_ids(x_train_raw, token_ids, args.seq_len)\n",
    "    np.save(\"example_prep_data/prep_train_len{}.npy\".format(args.seq_len), x_train)\n",
    "    x_dev = convert_to_ids(x_dev_raw, token_ids, args.seq_len)\n",
    "    np.save(\"example_prep_data/prep_dev_len{}.npy\".format(args.seq_len), x_dev)\n",
    "\n",
    "\n"
   ]
  },
  {
   "cell_type": "code",
   "execution_count": 44,
   "metadata": {
    "id": "DsvLoY0eufOW"
   },
   "outputs": [],
   "source": [
    "x_train, x_dev = torch.LongTensor(x_train).to(device), torch.LongTensor(x_dev).to(device)"
   ]
  },
  {
   "cell_type": "code",
   "execution_count": 45,
   "metadata": {
    "id": "tZNWi8LRufLw"
   },
   "outputs": [],
   "source": [
    "# %% -------------------------------------- CNN Class ------------------------------------------------------------------\n",
    "class CNN(nn.Module):\n",
    "    def __init__(self, vocab_size):\n",
    "        super(CNN, self).__init__()\n",
    "\n",
    "        self.embedding = nn.Embedding(vocab_size + 2, args.embedding_dim)\n",
    "\n",
    "        self.conv1 = nn.Conv1d(args.embedding_dim, args.embedding_dim, 9)\n",
    "        self.convnorm1 = nn.BatchNorm1d(args.embedding_dim)\n",
    "        self.pool1 = nn.MaxPool1d(2)\n",
    "\n",
    "        self.conv2 = nn.Conv1d(args.embedding_dim, args.embedding_dim, 9)\n",
    "        self.convnorm2 = nn.BatchNorm1d(args.embedding_dim)\n",
    "        self.pool2 = nn.MaxPool1d(2)\n",
    "\n",
    "        self.conv3 = nn.Conv1d(args.embedding_dim, args.embedding_dim, 7)\n",
    "        self.linear = nn.Linear(args.embedding_dim, 2)\n",
    "        self.act = torch.relu\n",
    "\n",
    "    def forward(self, x):\n",
    "        # nn.Conv1d operates on the columns, each embedding dimension is considered as one channel\n",
    "        x = self.embedding(x).permute(0, 2, 1)\n",
    "        x = self.pool1(self.convnorm1(self.act(self.conv1(x))))\n",
    "        x = self.pool2(self.convnorm2(self.act(self.conv2(x))))\n",
    "        return self.linear(self.act(self.conv3(x)).reshape(-1, args.embedding_dim))\n",
    "\n"
   ]
  },
  {
   "cell_type": "code",
   "execution_count": 46,
   "metadata": {
    "id": "uZOpYi_jufJH"
   },
   "outputs": [],
   "source": [
    "# %% -------------------------------------- Training Prep ----------------------------------------------------------\n",
    "model = CNN(len(token_ids)).to(device)\n",
    "look_up_table = get_glove_table(token_ids, glove_embeddings)\n",
    "model.embedding.weight.data.copy_(look_up_table)\n",
    "optimizer = torch.optim.Adam(model.parameters(), lr=args.lr)\n",
    "criterion = nn.CrossEntropyLoss()"
   ]
  },
  {
   "cell_type": "code",
   "execution_count": 47,
   "metadata": {
    "colab": {
     "base_uri": "https://localhost:8080/"
    },
    "id": "tJfuo1hOufGa",
    "outputId": "b101c90a-90f8-40fa-d18b-3f62ecf06757"
   },
   "outputs": [
    {
     "name": "stderr",
     "output_type": "stream",
     "text": [
      "\r",
      "Epoch 0:   0%|          | 0/132 [00:00<?, ?it/s]"
     ]
    },
    {
     "name": "stdout",
     "output_type": "stream",
     "text": [
      "The no information rate is 50.92\n",
      "Starting training loop...\n"
     ]
    },
    {
     "name": "stderr",
     "output_type": "stream",
     "text": [
      "Epoch 0: 100%|██████████| 132/132 [00:01<00:00, 75.00it/s, Training Loss: 0.33921]\n"
     ]
    },
    {
     "name": "stdout",
     "output_type": "stream",
     "text": [
      "Epoch 0 | Train Loss 0.33921, Train Acc 93.69 - Test Loss 0.59996, Test Acc 80.16\n"
     ]
    },
    {
     "name": "stderr",
     "output_type": "stream",
     "text": [
      "Epoch 1:  14%|█▎        | 18/132 [00:00<00:01, 92.80it/s, Training Loss: 0.20336]"
     ]
    },
    {
     "name": "stdout",
     "output_type": "stream",
     "text": [
      "The model has been saved!\n"
     ]
    },
    {
     "name": "stderr",
     "output_type": "stream",
     "text": [
      "Epoch 1: 100%|██████████| 132/132 [00:01<00:00, 92.85it/s, Training Loss: 0.16086]\n",
      "Epoch 2:  13%|█▎        | 17/132 [00:00<00:01, 87.48it/s, Training Loss: 0.12803]"
     ]
    },
    {
     "name": "stdout",
     "output_type": "stream",
     "text": [
      "Epoch 1 | Train Loss 0.16086, Train Acc 96.42 - Test Loss 0.55414, Test Acc 79.36\n"
     ]
    },
    {
     "name": "stderr",
     "output_type": "stream",
     "text": [
      "Epoch 2: 100%|██████████| 132/132 [00:01<00:00, 92.00it/s, Training Loss: 0.10881]\n",
      "Epoch 3:  12%|█▏        | 16/132 [00:00<00:01, 99.27it/s, Training Loss: 0.09309]"
     ]
    },
    {
     "name": "stdout",
     "output_type": "stream",
     "text": [
      "Epoch 2 | Train Loss 0.10881, Train Acc 97.16 - Test Loss 0.70020, Test Acc 80.28\n",
      "The model has been saved!\n"
     ]
    },
    {
     "name": "stderr",
     "output_type": "stream",
     "text": [
      "Epoch 3: 100%|██████████| 132/132 [00:01<00:00, 90.87it/s, Training Loss: 0.08009]\n",
      "Epoch 4:  11%|█▏        | 15/132 [00:00<00:01, 93.74it/s, Training Loss: 0.06848]"
     ]
    },
    {
     "name": "stdout",
     "output_type": "stream",
     "text": [
      "Epoch 3 | Train Loss 0.08009, Train Acc 98.15 - Test Loss 0.70682, Test Acc 80.50\n",
      "The model has been saved!\n"
     ]
    },
    {
     "name": "stderr",
     "output_type": "stream",
     "text": [
      "Epoch 4: 100%|██████████| 132/132 [00:01<00:00, 92.42it/s, Training Loss: 0.06147]\n",
      "Epoch 5:  14%|█▎        | 18/132 [00:00<00:01, 93.81it/s, Training Loss: 0.05758]"
     ]
    },
    {
     "name": "stdout",
     "output_type": "stream",
     "text": [
      "Epoch 4 | Train Loss 0.06147, Train Acc 97.36 - Test Loss 0.89981, Test Acc 80.28\n"
     ]
    },
    {
     "name": "stderr",
     "output_type": "stream",
     "text": [
      "Epoch 5: 100%|██████████| 132/132 [00:01<00:00, 92.52it/s, Training Loss: 0.05121]\n",
      "Epoch 6:  12%|█▏        | 16/132 [00:00<00:01, 94.52it/s, Training Loss: 0.04486]"
     ]
    },
    {
     "name": "stdout",
     "output_type": "stream",
     "text": [
      "Epoch 5 | Train Loss 0.05121, Train Acc 98.36 - Test Loss 0.83008, Test Acc 81.54\n",
      "The model has been saved!\n"
     ]
    },
    {
     "name": "stderr",
     "output_type": "stream",
     "text": [
      "Epoch 6: 100%|██████████| 132/132 [00:01<00:00, 92.81it/s, Training Loss: 0.04240]\n",
      "Epoch 7:  14%|█▎        | 18/132 [00:00<00:01, 96.19it/s, Training Loss: 0.03890]"
     ]
    },
    {
     "name": "stdout",
     "output_type": "stream",
     "text": [
      "Epoch 6 | Train Loss 0.04240, Train Acc 98.44 - Test Loss 1.28971, Test Acc 80.85\n"
     ]
    },
    {
     "name": "stderr",
     "output_type": "stream",
     "text": [
      "Epoch 7: 100%|██████████| 132/132 [00:01<00:00, 93.26it/s, Training Loss: 0.03465]\n",
      "Epoch 8:  14%|█▎        | 18/132 [00:00<00:01, 89.89it/s, Training Loss: 0.03588]"
     ]
    },
    {
     "name": "stdout",
     "output_type": "stream",
     "text": [
      "Epoch 7 | Train Loss 0.03465, Train Acc 98.37 - Test Loss 1.45630, Test Acc 77.75\n"
     ]
    },
    {
     "name": "stderr",
     "output_type": "stream",
     "text": [
      "Epoch 8: 100%|██████████| 132/132 [00:01<00:00, 92.75it/s, Training Loss: 0.02927]\n",
      "Epoch 9:  13%|█▎        | 17/132 [00:00<00:01, 91.59it/s, Training Loss: 0.02849]"
     ]
    },
    {
     "name": "stdout",
     "output_type": "stream",
     "text": [
      "Epoch 8 | Train Loss 0.02927, Train Acc 99.21 - Test Loss 1.05540, Test Acc 78.78\n"
     ]
    },
    {
     "name": "stderr",
     "output_type": "stream",
     "text": [
      "Epoch 9: 100%|██████████| 132/132 [00:01<00:00, 89.80it/s, Training Loss: 0.02349]\n"
     ]
    },
    {
     "name": "stdout",
     "output_type": "stream",
     "text": [
      "Epoch 9 | Train Loss 0.02349, Train Acc 99.27 - Test Loss 1.33796, Test Acc 78.56\n"
     ]
    }
   ],
   "source": [
    "# %% -------------------------------------- Training Loop ----------------------------------------------------------\n",
    "labels_ditrib = torch.unique(y_dev, return_counts=True)\n",
    "print(\"The no information rate is {:.2f}\".format(100*labels_ditrib[1].max().item()/len(y_dev)))\n",
    "if args.train:\n",
    "    acc_dev_best = 0\n",
    "    print(\"Starting training loop...\")\n",
    "    for epoch in range(args.n_epochs):\n",
    "\n",
    "        loss_train, train_steps = 0, 0\n",
    "        model.train()\n",
    "        total = len(x_train) // args.batch_size + 1  # Initiates a progress bar that will be updated for each batch\n",
    "        with tqdm(total=total, desc=\"Epoch {}\".format(epoch)) as pbar:  # \"Epoch\" will be updated for each epoch\n",
    "            for batch in range(len(x_train)//args.batch_size + 1):\n",
    "                inds = slice(batch*args.batch_size, (batch+1)*args.batch_size)\n",
    "                optimizer.zero_grad()\n",
    "                logits = model(x_train[inds])\n",
    "                loss = criterion(logits, y_train[inds])\n",
    "                loss.backward()\n",
    "                optimizer.step()\n",
    "                loss_train += loss.item()\n",
    "                train_steps += 1\n",
    "                pbar.update(1)  # Updates the progress and the training loss\n",
    "                pbar.set_postfix_str(\"Training Loss: {:.5f}\".format(loss_train / train_steps))\n",
    "\n",
    "        model.eval()\n",
    "        with torch.no_grad():\n",
    "            y_dev_pred = model(x_dev)\n",
    "            loss = criterion(y_dev_pred, y_dev)\n",
    "            loss_test = loss.item()\n",
    "\n",
    "        acc_dev = acc(x_dev, y_dev)\n",
    "        print(\"Epoch {} | Train Loss {:.5f}, Train Acc {:.2f} - Test Loss {:.5f}, Test Acc {:.2f}\".format(\n",
    "            epoch, loss_train/train_steps, acc(x_train, y_train), loss_test, acc_dev))\n",
    "\n",
    "        if acc_dev > acc_dev_best and args.save_model:\n",
    "            torch.save(model.state_dict(), \"cnn_sentiment.pt\")\n",
    "            print(\"The model has been saved!\")\n",
    "            acc_dev_best = acc_dev"
   ]
  },
  {
   "cell_type": "code",
   "execution_count": 50,
   "metadata": {
    "colab": {
     "base_uri": "https://localhost:8080/"
    },
    "id": "se7SXhdVufDe",
    "outputId": "fe8fefb8-d345-4866-86bd-eaece1da1a57"
   },
   "outputs": [
    {
     "name": "stdout",
     "output_type": "stream",
     "text": [
      "[-2.2429192  1.7361491]\n",
      "[16.512531 -7.698343]\n",
      "[12.921294  -5.0160604]\n",
      "[ 4.2279677 -1.4275753]\n",
      "[ 18.663357 -10.019526]\n",
      "[ 29.730017 -12.345085]\n",
      "[12.761134 -6.014931]\n",
      "[ 1.5417185  -0.34945145]\n",
      "[ 2.2284656  -0.93702585]\n",
      "[ 9.478932  -3.1194272]\n",
      "[ 35.14708 -17.7271 ]\n",
      "[ 6.388829  -2.4273598]\n",
      "[14.705116  -6.7228394]\n",
      "[10.342419  -3.7068872]\n",
      "[ 7.16926  -2.196729]\n",
      "[16.660418 -6.158477]\n",
      "[ 30.24957  -15.086537]\n",
      "[ 26.320581 -10.877504]\n",
      "[11.490711  -4.0736713]\n",
      "[ 20.645357 -11.054433]\n"
     ]
    }
   ],
   "source": [
    "\n",
    "x = None\n",
    "deep_learning_sentiment_prob = []\n",
    "\n",
    "for i in df.iloc[:,7]:\n",
    "\n",
    "\n",
    "  test = convert_to_ids([i.lower()], token_ids, args.seq_len)\n",
    "\n",
    "\n",
    "  test = torch.LongTensor(test).to(device)\n",
    "  pred = model(test).cpu().detach().numpy()[0]\n",
    "  print(pred)\n",
    "\n",
    "  x = softmax(pred)\n",
    "  deep_learning_sentiment_prob.append(x[1])"
   ]
  },
  {
   "cell_type": "code",
   "execution_count": 52,
   "metadata": {
    "colab": {
     "base_uri": "https://localhost:8080/",
     "height": 1000
    },
    "id": "v73QZrqdufAo",
    "outputId": "80b5d3cf-079a-49a4-8e88-917dde6d3da0"
   },
   "outputs": [
    {
     "data": {
      "text/html": [
       "<div>\n",
       "<style scoped>\n",
       "    .dataframe tbody tr th:only-of-type {\n",
       "        vertical-align: middle;\n",
       "    }\n",
       "\n",
       "    .dataframe tbody tr th {\n",
       "        vertical-align: top;\n",
       "    }\n",
       "\n",
       "    .dataframe thead th {\n",
       "        text-align: right;\n",
       "    }\n",
       "</style>\n",
       "<table border=\"1\" class=\"dataframe\">\n",
       "  <thead>\n",
       "    <tr style=\"text-align: right;\">\n",
       "      <th></th>\n",
       "      <th>Date</th>\n",
       "      <th>Header</th>\n",
       "      <th>Text</th>\n",
       "      <th>Open</th>\n",
       "      <th>Volume</th>\n",
       "      <th>% Change in Stock Price</th>\n",
       "      <th>% Change in Volume</th>\n",
       "      <th>Text (clean)</th>\n",
       "      <th>sentiment</th>\n",
       "      <th>sentiment_prob</th>\n",
       "      <th>deep_learning_sentiment_prob</th>\n",
       "    </tr>\n",
       "  </thead>\n",
       "  <tbody>\n",
       "    <tr>\n",
       "      <th>0</th>\n",
       "      <td>2020-05-01</td>\n",
       "      <td>Amazon extends work from home regime till October 2</td>\n",
       "      <td>- Amazon.com Inc has told staff whose job can be done from home that they can do so until at least Oct. 2, pushing out the timeline on a return to work for many employees as it faces scrutiny over conditions in its warehouses.“Employees who work in a role that can effectively be done from home are welcome to do so until at least October 2,” an Amazon spokesman said in an emailed statement on Friday, adding it was applicable to such roles globally.The statement did not specify how much of the company’s overall workforce that covered and which roles.It said the company is investing funds in safety measures for employees who wish to come to the office “through physical distancing, deep cleaning, temperature checks, and the availability of face coverings and hand sanitizer.”New York Attorney General Letitia James told Amazon last week it may have violated safety measures and labor practices amid the virus outbreak as the company fired a warehouse protest leader in March.Workers at warehouses and other facilities have stayed operational to keep deliveries flowing to customers stuck at home in government-mandated lockdowns.Other employees have been working from home since March.The company has raised overtime pay for warehouse workers and hired 175,000 people last month while rival brick-and-mortar retailers had to shut stores. It had 798,000 full and part-time workers globally as of Dec. 31.Reporting by Kanishka Singh and Aakriti Bhalla in Bengaluru; editing by Patrick GrahamOur Standards: The Thomson Reuters Trust Principles.</td>\n",
       "      <td>2336.800049</td>\n",
       "      <td>9772600</td>\n",
       "      <td>NaN</td>\n",
       "      <td>NaN</td>\n",
       "      <td>Amazon.com Inc tell staff job home October 2 push timeline return work employee face scrutiny condition warehouse “employee work role effectively home welcome October 2 Amazon spokesman say email statement Friday add applicable role globally statement specify company overall workforce cover role say company invest fund safety measure employee wish come office physical distancing deep cleaning temperature check availability face covering hand sanitizer ”New York Attorney General Letitia James tell Amazon week violate safety measure labor practice amid virus outbreak company fire warehouse protest leader March worker warehouse facility stay operational delivery flow customer stick home government mandate lockdown employee work home March company raise overtime pay warehouse worker hire 175,000 people month rival brick mortar retailer shut store 798,000 time worker globally December 31.reporting Kanishka Singh Aakriti Bhalla Bengaluru editing Patrick GrahamOur Standards Thomson Reuters Trust Principles</td>\n",
       "      <td>0.0</td>\n",
       "      <td>0.258043</td>\n",
       "      <td>9.816403e-01</td>\n",
       "    </tr>\n",
       "    <tr>\n",
       "      <th>1</th>\n",
       "      <td>2020-05-04</td>\n",
       "      <td>Amazon plans to extend closure of French warehouses until May 8</td>\n",
       "      <td>- Amazon AMZN.O plans to extend the closure of its French warehouses until May 8 included, the e-commerce giant said on Monday.The U.S. group’s six French warehouses have been closed since April 16 following court rulings that ordered it to restrict deliveries during the COVID-19 pandemic or face hefty fines.“Unfortunately, this means that we consider to temporarily suspend the activity at our French distribution centres until May 8 included,” Amazon said, adding that it was still reviewing how to operate within the frame of the ruling.Reporting by Mathieu RosemainOur Standards: The Thomson Reuters Trust Principles.</td>\n",
       "      <td>2256.379883</td>\n",
       "      <td>4865900</td>\n",
       "      <td>-3.441465</td>\n",
       "      <td>-50.208747</td>\n",
       "      <td>Amazon AMZN.O plan extend closure french warehouse 8 include e commerce giant say Monday U.S. group french warehouse close April 16 follow court ruling order restrict delivery covid-19 pandemic face hefty fine “Unfortunately mean consider temporarily suspend activity french distribution centre 8 include Amazon say add review operate frame ruling reporting Mathieu RosemainOur Standards Thomson Reuters Trust Principles</td>\n",
       "      <td>0.0</td>\n",
       "      <td>0.328503</td>\n",
       "      <td>3.057389e-11</td>\n",
       "    </tr>\n",
       "    <tr>\n",
       "      <th>2</th>\n",
       "      <td>2020-05-07</td>\n",
       "      <td>Stay-at-home stocks Amazon, Microsoft lift Nasdaq into gain for 2020</td>\n",
       "      <td>- The Nasdaq .IXIC was on track to end Thursday in positive territory for 2020 after winning back the vast majority of steep losses caused in recent months by the coronavirus pandemic.FILE PHOTO: A man walks near Nasdaq MarketSite in an empty Times Square as the coronavirus disease (COVID-19) outbreak continues in New York City, U.S., March 29, 2020. REUTERS/Eduardo MunozFollowing a slump of almost a third between Feb. 19 and March 23, the tech-heavy index has rebounded over 30%, driven by strong gains in Amazon.com Inc AMZN.O, Microsoft Corp MSFT.O and other so called \"stay-at-home\" stocks. “Everything else has been so bad that tech is now seen as a safe-haven,” said Dennis Dick, a trader at Bright Trading LLC. “It’s like we’re back in 1999, where if you had a website, you were hot. Now, if you specialize in selling online, you’re hot.”(GRAPHIC-Nasdaq erases coronavirus losses link: )Thursday's 1.5% Nasdaq rally was fueled by a nearly 14% leap in PayPal Holdings Inc PYPL.O after the payments processor delivered an upbeat outlook as the health crisis drives more people to shop online.The Nasdaq was on track to end the session up about 0.1% year to date.A surprise rise in Chinese exports raised hopes of a faster economic recovery from what is expected to be a deep coronavirus-led recession, lifting stocks across Wall Street.The Nasdaq’s recent strong performance leaves it down about 8% from its February record high, just before fears of the coronavirus put an end to an 11-year bull market. By comparison, the S&amp;P 500 remains down 14% from its record high, and the Dow is down 19% from its peak.The Nasdaq has gained about 13% over the past 12 months. It has little exposure to oil stocks, which have been a drag on the S&amp;P 500 as demand for crude evaporates due to the slump in economic activity caused by the coronavirus.(GRAPHIC-Amazon and Microsoft fuel Nasdaq gains link: )With people shopping from home due to orders to remain at home and avoid stores, Amazon has surged 9% since late February. After hitting a record high a week ago, it lost ground after warning it could post a quarterly loss due to heavy spending in response to the pandemic.Microsoft, Wall Street’s most valuable company, on Thursday rose 0.5%. It has been helped recently by increased use of its Teams chat and online meeting app and Xbox gaming services.Reporting by Noel Randewich; Editing by Nick Zieminski and Lisa ShumakerOur Standards: The Thomson Reuters Trust Principles.</td>\n",
       "      <td>2374.780029</td>\n",
       "      <td>3396400</td>\n",
       "      <td>5.247350</td>\n",
       "      <td>-30.199963</td>\n",
       "      <td>Nasdaq .IXIC track end Thursday positive territory 2020 win vast majority steep loss cause recent month coronavirus pandemic FILE PHOTO man walk near Nasdaq MarketSite Times Square coronavirus disease COVID-19 outbreak continue New York City U.S. March 29 2020 REUTERS Eduardo MunozFollowing slump February 19 March 23 tech heavy index rebound 30 drive strong gain Amazon.com Inc AMZN.O Microsoft Corp MSFT.O call stay home stock bad tech see safe haven say Dennis Dick trader Bright Trading LLC like 1999 website hot specialize sell online hot ”(GRAPHIC Nasdaq erase coronavirus loss link Thursday 1.5 Nasdaq rally fuel nearly 14 leap PayPal Holdings Inc PYPL.O payment processor deliver upbeat outlook health crisis drive people shop online Nasdaq track end session 0.1 year date surprise rise chinese export raise hope faster economic recovery expect deep coronavirus lead recession lift stock Wall Street Nasdaq recent strong performance leave 8 February record high fear coronavirus end 11-year bull market comparison S&amp;P 500 remain 14 record high Dow 19 peak Nasdaq gain 13 past 12 month little exposure oil stock drag S&amp;P 500 demand crude evaporate slump economic activity cause coronavirus.(GRAPHIC Amazon Microsoft fuel Nasdaq gain link people shop home order remain home avoid store Amazon surge 9 late February hit record high week ago lose ground warn post quarterly loss heavy spending response pandemic Microsoft Wall Street valuable company Thursday rise 0.5 help recently increase use team chat online meeting app Xbox gaming service report Noel Randewich editing Nick Zieminski Lisa ShumakerOur Standards Thomson Reuters Trust Principles</td>\n",
       "      <td>0.0</td>\n",
       "      <td>0.010366</td>\n",
       "      <td>1.621458e-08</td>\n",
       "    </tr>\n",
       "    <tr>\n",
       "      <th>3</th>\n",
       "      <td>2020-05-13</td>\n",
       "      <td>Amazon launches three new models of Fire tablet</td>\n",
       "      <td>- Amazon.com Inc on Wednesday launched three new versions of its Fire tablets with more storage and faster performance.The new line up of Fire HD, which includes Fire HD 8, Fire HD 8 Plus and Fire HD 8 Kids, will be available online starting at $89.99.The Fire line of tablets, first launched as Kindle Fire in 2011, was seen as a contender to Apple Inc’s dominance over the tablet market.Amazon shares were up 2% and smaller rival Roku Inc’s shares were down 1%.Reporting by Neha Malara in Bengaluru; Editing by Vinay DwivediOur Standards: The Thomson Reuters Trust Principles.</td>\n",
       "      <td>2366.800049</td>\n",
       "      <td>4782900</td>\n",
       "      <td>-0.336030</td>\n",
       "      <td>40.822636</td>\n",
       "      <td>Amazon.com Inc Wednesday launch new version Fire tablet storage fast performance new line Fire HD include Fire HD 8 Fire HD 8 plus Fire HD 8 Kids available online start $ 89.99.The Fire line tablet launch Kindle Fire 2011 see contender Apple Inc dominance tablet market Amazon share 2 small rival Roku Inc share 1%.reporting Neha Malara Bengaluru editing Vinay DwivediOur Standards Thomson Reuters Trust Principles</td>\n",
       "      <td>1.0</td>\n",
       "      <td>0.949713</td>\n",
       "      <td>3.485880e-03</td>\n",
       "    </tr>\n",
       "    <tr>\n",
       "      <th>4</th>\n",
       "      <td>2020-05-21</td>\n",
       "      <td>Amazon pushes Prime Day to September as it returns to normalcy: WSJ</td>\n",
       "      <td>- Amazon.com Inc is scheduling its annual Prime Day shopping event for September and allowing unlimited shipments of non-essential goods to warehouses, the Wall Street Journal reported on Thursday, citing people familiar with the matter.The latter move will allow the company to lay the groundwork for shipments of a wider variety of products, indicating it is now in a position to process orders more quickly in its warehouses and create room for more inventory, the report said on.wsj.com/3bSzbXA.Amazon declined to comment to a Reuters request for comment on the report.Reuters reported here in April that the e-commerce giant is postponing the major summer shopping event until at least August.Prime Day, a marketing event Amazon started in 2015 to drum up sales during the summer shopping lull, has previously occurred in July, though the company never publishes the date far in advance.The decision to delay it means Amazon will have about 5 million extra devices it would have expected to sell sooner, items like its suite of voice-controlled Echo speakers that have been popular orders during the event. It also affects third-party merchants who have come to depend on Amazon’s platform for revenue.Reporting by Akanksha Rana in Bengaluru; Editing by Arun Koyyur and Maju SamuelOur Standards: The Thomson Reuters Trust Principles.</td>\n",
       "      <td>2500.000000</td>\n",
       "      <td>5114400</td>\n",
       "      <td>5.627850</td>\n",
       "      <td>6.930941</td>\n",
       "      <td>Amazon.com Inc schedule annual Prime Day shopping event September allow unlimited shipment non essential good warehouse Wall Street Journal report Thursday cite people familiar matter allow company lay groundwork shipment wide variety product indicate position process order quickly warehouse create room inventory report say on.wsj.com/3bSzbXA.Amazon decline comment Reuters request comment report Reuters report April e commerce giant postpone major summer shopping event August Prime Day marketing event Amazon start 2015 drum sale summer shopping lull previously occur July company publish date far advance decision delay mean Amazon 5 million extra device expect sell sooner item like suite voice control echo speaker popular order event affect party merchant come depend Amazon platform revenue report Akanksha Rana Bengaluru editing Arun Koyyur Maju SamuelOur Standards Thomson Reuters Trust Principles</td>\n",
       "      <td>1.0</td>\n",
       "      <td>0.851824</td>\n",
       "      <td>3.492871e-13</td>\n",
       "    </tr>\n",
       "    <tr>\n",
       "      <th>5</th>\n",
       "      <td>2020-05-26</td>\n",
       "      <td>Amazon in advanced talks to buy self-driving startup Zoox: WSJ</td>\n",
       "      <td>- Amazon.com Inc AMZN.O is in advanced talks to buy self-driving startup Zoox Inc, in a move that would expand the e-commerce giant's reach in autonomous-vehicle technology, the Wall Street Journal reported on.wsj.com/36wXJUV on Tuesday. The deal will value Zoox at less than the $3.2 billion it achieved in a funding round in 2018, the Journal reported, citing people familiar with the matter.An agreement may be weeks away and the discussions could still fall apart, the report added.Amazon has stepped reut.rs/3d43NXm up its investment in the car sector, participating in a $530 million funding round early last year in self-driving car startup Aurora Innovation Inc.Both Amazon and Zoox declined a Reuters request for comment.Reporting by C Nivedita in Bengaluru; Editing by Ramakrishnan M.Our Standards: The Thomson Reuters Trust Principles.</td>\n",
       "      <td>2458.000000</td>\n",
       "      <td>3568200</td>\n",
       "      <td>-1.680000</td>\n",
       "      <td>-30.232285</td>\n",
       "      <td>Amazon.com Inc AMZN.O advanced talk buy self drive startup Zoox Inc expand e commerce giant reach autonomous vehicle technology Wall Street Journal report on.wsj.com/36wXJUV Tuesday deal value Zoox $ 3.2 billion achieve funding round 2018 Journal report cite people familiar matter agreement week away discussion fall apart report add Amazon step reut.rs/3d43NXm investment car sector participate $ 530 million funding round early year self drive car startup Aurora Innovation Inc Amazon Zoox decline Reuters request comment reporting C Nivedita Bengaluru editing Ramakrishnan M.Our Standards Thomson Reuters Trust Principles</td>\n",
       "      <td>0.0</td>\n",
       "      <td>0.315600</td>\n",
       "      <td>5.333528e-19</td>\n",
       "    </tr>\n",
       "    <tr>\n",
       "      <th>6</th>\n",
       "      <td>2020-05-28</td>\n",
       "      <td>Amazon to offer permanent roles to 70% of 175,000 new U.S. hires</td>\n",
       "      <td>- Amazon.com Inc AMZN.O plans to offer permanent jobs to about 70% of the U.S. workforce it has hired temporarily to meet consumer demand during the coronavirus pandemic, the company told Reuters on Thursday.The world’s largest online retailer will begin telling 125,000 warehouse employees in June that they can keep their roles longer-term. The remaining 50,000 workers it has brought on will stay on seasonal contracts that last up to 11 months, a company spokeswoman said.The decision is a sign that Amazon’s sales have increased sufficiently to justify an expanded workforce for order fulfillment, even as government lockdowns ease and rivals open their retail stores for pickup.Amazon started the hiring spree in March with a blog post appealing to workers laid off by restaurants and other shuttered businesses, promising employment “until things return to normal and their past employer is able to bring them back.”Seattle-based Amazon did not disclose how much it was spending to make the positions permanent and whether that cost would be in addition to the $4 billion it has forecast for virus-related expenses.The permanent roles come with benefits that seasonal workers lack, such as employer-offered health insurance and retirement plans.Some Amazon staff, unions and elected officials have said the company has put employees’ health at risk by keeping nearly all its warehouses operational during the pandemic. At least 800 U.S.-based workers have tested positive for the highly contagious virus, according to figures compiled by one employee, which Amazon has not commented on.The company has increased cleaning, added social distancing measures and offered face masks, fever checks and virus tests in response.Amazon said it had 840,400 full and part-time staff at the end of last quarter while it still was in the process of hiring. It has not reported an updated number.Reporting by Jeffrey Dastin in San Francisco; Editing by Edwina GibbsOur Standards: The Thomson Reuters Trust Principles.</td>\n",
       "      <td>2384.330078</td>\n",
       "      <td>3190200</td>\n",
       "      <td>-2.997149</td>\n",
       "      <td>-10.593577</td>\n",
       "      <td>Amazon.com Inc AMZN.O plan offer permanent job 70 U.S. workforce hire temporarily meet consumer demand coronavirus pandemic company tell Reuters Thursday world large online retailer begin tell 125,000 warehouse employee June role long term remain 50,000 worker bring stay seasonal contract 11 month company spokeswoman say decision sign Amazon sale increase sufficiently justify expand workforce order fulfillment government lockdown ease rival open retail store pickup Amazon start hiring spree March blog post appealing worker lay restaurant shuttered business promise employment thing return normal past employer able bring ”Seattle base Amazon disclose spend position permanent cost addition $ 4 billion forecast virus relate expense permanent role come benefit seasonal worker lack employer offer health insurance retirement plan Amazon staff union elect official say company employee health risk keep nearly warehouse operational pandemic 800 u.s.-based worker test positive highly contagious virus accord figure compile employee Amazon comment company increase cleaning add social distancing measure offer face mask fever check virus test response Amazon say 840,400 time staff end quarter process hire report updated number reporting Jeffrey Dastin San Francisco editing Edwina GibbsOur Standards Thomson Reuters Trust Principles</td>\n",
       "      <td>0.0</td>\n",
       "      <td>0.065604</td>\n",
       "      <td>7.009035e-09</td>\n",
       "    </tr>\n",
       "    <tr>\n",
       "      <th>7</th>\n",
       "      <td>2020-06-03</td>\n",
       "      <td>Amazon is sued over warehouses after New York worker brings coronavirus home, cousin dies</td>\n",
       "      <td>- Amazon.com Inc has been sued for allegedly fostering the spread of the coronavirus by mandating unsafe working conditions, causing at least one employee to contract COVID-19, bring it home, and see her cousin die.FILE PHOTO: Amazon.com trucks are seen at an Amazon warehouse on Staten Island in New York City, New York, U.S., March 30, 2020. REUTERS/Mike Segar/File PhotoThe complaint was filed on Wednesday in the federal court in Brooklyn, New York, by three employees of the JFK8 fulfillment center in Staten Island, and by family members.One employee, Barbara Chandler, said she tested positive for COVID-19 in March and later saw several household members become sick, including a cousin who died on April 7.The lawsuit said Amazon has made JFK8, which employs about 5,000, a “place of danger” by impeding efforts to stop the coronavirus spreading, boosting productivity at the expense of safety.It said Amazon forces employees to work at “dizzying speeds, even if doing so prevents them from socially distancing, washing their hands, and sanitizing their work spaces.”Amazon did not comment on the lawsuit, but said it has always followed guidance from health authorities and its workplace safety experts since the coronavirus pandemic began.The Seattle-based company has benefited as the pandemic forced many consumers unable to visit physical stores to shop online more.Unions, elected officials and some employees have faulted Amazon’s treatment of workers, including the firing of some critical of warehouse conditions.Chief Executive Jeff Bezos said last week that Amazon has not fired people for such criticism.Amazon is spending more than $800 million on coronavirus safety in this year’s first half, including cleaning, temperature checks and face masks.At least 800 workers in U.S. distribution centers have tested positive for COVID-19, according to an employee’s unofficial tally.Amazon ended 2019 with 798,000 full- and part-time employees.The lawsuit seeks an injunction requiring that Amazon comply with worker safety and public nuisance laws, and not punish employees who develop COVID-19 symptoms or are quarantined.The case is Palmer et al v Amazon.com Inc., U.S. District Court, Eastern District of New York, No. 20-02468.Reporting by Jonathan Stempel in New York; Additional reporting by Jeffrey Dastin in San Francisco; Editing by Tom Brown and Grant McCoolOur Standards: The Thomson Reuters Trust Principles.</td>\n",
       "      <td>2468.010010</td>\n",
       "      <td>2671000</td>\n",
       "      <td>3.509578</td>\n",
       "      <td>-16.274842</td>\n",
       "      <td>Amazon.com Inc sue allegedly foster spread coronavirus mandate unsafe working condition cause employee contract covid-19 bring home cousin die FILE PHOTO Amazon.com truck see Amazon warehouse Staten Island New York City New York U.S. March 30 2020 REUTERS Mike Segar File PhotoThe complaint file Wednesday federal court Brooklyn New York employee JFK8 fulfillment center Staten Island family member employee Barbara Chandler say test positive covid-19 March later see household member sick include cousin die April 7.the lawsuit say Amazon JFK8 employ 5,000 place danger impede effort stop coronavirus spread boost productivity expense safety say Amazon force employee work dizzying speed prevent socially distancing wash hand sanitize work space ”Amazon comment lawsuit say follow guidance health authority workplace safety expert coronavirus pandemic begin Seattle base company benefit pandemic force consumer unable visit physical store shop online union elect official employee fault Amazon treatment worker include firing critical warehouse condition Chief Executive Jeff Bezos say week Amazon fire people criticism Amazon spend $ 800 million coronavirus safety year half include cleaning temperature check face mask 800 worker U.S. distribution center test positive covid-19 accord employee unofficial tally Amazon end 2019 798,000 full- time employee lawsuit seek injunction require Amazon comply worker safety public nuisance law punish employee develop covid-19 symptom quarantine case Palmer et al v Amazon.com Inc. U.S. District Court Eastern District New York 20 02468.reporting Jonathan Stempel New York additional reporting Jeffrey Dastin San Francisco editing Tom Brown Grant mccoolour Standards Thomson Reuters Trust Principles</td>\n",
       "      <td>0.0</td>\n",
       "      <td>0.370535</td>\n",
       "      <td>1.311111e-01</td>\n",
       "    </tr>\n",
       "    <tr>\n",
       "      <th>8</th>\n",
       "      <td>2020-06-17</td>\n",
       "      <td>Amazon launches Saudi Arabia shopping site despite CEO's dispute with kingdom</td>\n",
       "      <td>- Amazon.com Inc on Wednesday launched a website for shoppers in Saudi Arabia, showing its continued business interests there despite a public dispute between Riyadh and the company’s chief executive, Jeff Bezos.The website is a re-branding for Saudi customers of Souq.com, a Middle East e-commerce platform that Amazon acquired in 2017. Shoppers’ account information with Souq automatically transferred to the new address, amazon.sa, Amazon said on the site. The company similarly converted Souq’s website in the United Arab Emirates to a re-branded portal, amazon.ae, last year.The news indicates that a conflict involving Bezos and Saudi Crown Prince Mohammed bin Salman has not derailed Amazon’s investment plans for the kingdom. In a press release, Amazon said it is building an operations network that will span the country, and its footprint already includes 14 warehouses, a workforce of more than 1,400 and a strategic delivery partnership with Saudi Post.The publication of leaked text messages between Bezos and his girlfriend in early 2019 kicked off a dispute between the world’s richest man and Saudi Arabia. Bezos’ security chief last year said the kingdom was the source of the messages, and in January, United Nations experts said they had information pointing to the “possible involvement” of Crown Prince Mohammed in an alleged plot to hack Bezos’ phone. Saudi Arabia called the suggestion “absurd.”Bezos privately owns the Washington Post, which employed Jamal Khashoggi, a Saudi columnist and critic of the crown prince who was murdered in October 2018. The U.S. Central Intelligence Agency believes Crown Prince Mohammed ordered the killing, sources previously told Reuters, while the crown prince last year denied the claim and said rogue operatives carried out the act.The saga had fueled speculation that Amazon would pull back from doing business in the country.Reporting By Jeffrey Dastin in San Francisco; Editing by Cynthia OstermanOur Standards: The Thomson Reuters Trust Principles.</td>\n",
       "      <td>2647.500000</td>\n",
       "      <td>2951100</td>\n",
       "      <td>7.272661</td>\n",
       "      <td>10.486709</td>\n",
       "      <td>Amazon.com Inc Wednesday launch website shopper Saudi Arabia show continue business interest despite public dispute Riyadh company chief executive Jeff Bezos website branding saudi customer Souq.com Middle East e commerce platform Amazon acquire 2017 shopper account information Souq automatically transfer new address amazon.sa Amazon say site company similarly convert Souq website United Arab Emirates branded portal amazon.ae year news indicate conflict involve Bezos Saudi Crown Prince Mohammed bin Salman derail Amazon investment plan kingdom press release Amazon say build operation network span country footprint include 14 warehouse workforce 1,400 strategic delivery partnership Saudi Post publication leak text message Bezos girlfriend early 2019 kick dispute world rich man Saudi Arabia Bezos security chief year say kingdom source message January United Nations expert say information point possible involvement Crown Prince Mohammed alleged plot hack Bezos phone Saudi Arabia call suggestion absurd ”Bezos privately own Washington Post employ Jamal Khashoggi saudi columnist critic crown prince murder October 2018 U.S. Central Intelligence Agency believe Crown Prince Mohammed order killing source previously tell Reuters crown prince year deny claim say rogue operative carry act saga fuel speculation Amazon pull business country report Jeffrey Dastin San Francisco editing Cynthia OstermanOur Standards Thomson Reuters Trust Principles</td>\n",
       "      <td>0.0</td>\n",
       "      <td>0.159714</td>\n",
       "      <td>4.048520e-02</td>\n",
       "    </tr>\n",
       "    <tr>\n",
       "      <th>9</th>\n",
       "      <td>2020-06-23</td>\n",
       "      <td>Amazon pledges $2 billion venture capital fund to invest in clean energy</td>\n",
       "      <td>- Amazon.com Inc AMZN.O said on Tuesday it will launch a $2 billion venture capital fund that will focus on technology investments to reduce the impact of climate change and support sustainable development.The Climate Pledge Fund will invest in companies across industries such as transportation and logistics, energy, storage and utilization, manufacturing and materials, and food and agriculture, the e-commerce giant said.Amazon, which delivers about 10 billion items a year and has a massive transportation and data center footprint, has faced protests from environmental activists and pressure from its employees to take action on climate change.The company has vowed to be net carbon neutral by 2040.“Each prospective investment will be judged on its potential to accelerate the path to zero carbon and help protect the planet for future generations,” Chief Executive Officer Jeff Bezos said in a statement.In February, Bezos committed about $10 billion to fund scientists, activists, non-profits and other groups fighting to protect the environment.The Wall Street Journal first reported on the new fund.Reporting by Akanksha Rana in Bengaluru; Editing by Vinay Dwivedi and Sriraj KalluvilaOur Standards: The Thomson Reuters Trust Principles.</td>\n",
       "      <td>2726.020020</td>\n",
       "      <td>4231700</td>\n",
       "      <td>2.965818</td>\n",
       "      <td>43.393989</td>\n",
       "      <td>Amazon.com Inc AMZN.O say Tuesday launch $ 2 billion venture capital fund focus technology investment reduce impact climate change support sustainable development Climate Pledge Fund invest company industry transportation logistic energy storage utilization manufacturing material food agriculture e commerce giant say Amazon deliver 10 billion item year massive transportation datum center footprint face protest environmental activist pressure employee action climate change company vow net carbon neutral 2040.“each prospective investment judge potential accelerate path zero carbon help protect planet future generation Chief Executive Officer Jeff Bezos say statement February Bezos commit $ 10 billion fund scientist activist non profit group fight protect environment Wall Street Journal report new fund reporting Akanksha Rana Bengaluru editing Vinay Dwivedi Sriraj KalluvilaOur Standards Thomson Reuters Trust Principles</td>\n",
       "      <td>1.0</td>\n",
       "      <td>0.653115</td>\n",
       "      <td>3.377543e-06</td>\n",
       "    </tr>\n",
       "    <tr>\n",
       "      <th>10</th>\n",
       "      <td>2020-06-26</td>\n",
       "      <td>Amazon agrees to buy self-driving technology startup Zoox</td>\n",
       "      <td>- Amazon.com Inc has agreed to buy California-based self-driving startup Zoox Inc in a deal reported to be worth more than $1 billion that gives it options to use autonomous technology in either ride-hailing or its delivery network.The world’s largest online retailer has stepped up its investment in the car sector, participating in self-driving car startup Aurora Innovation Inc’s $530 million funding round early last year.While Amazon and Zoox did not disclose the financial terms of the deal, the Information said on Thursday, citing sources, that Amazon had agreed to pay over $1 billion to buy Zoox. The report bit.ly/3dwgauV did not mention the exact purchase price.Zoox Chief Executive Officer Aicha Evans and its co-founder and Chief Technology Officer, Jesse Levinson, will continue to lead the company as a standalone business, the companies said.A majority of Zoox investors are getting their money back, according to the Information.Zoox did not immediately respond to a Reuters request for comment.Lux Capital, DFJ and Atlassian co-founder Michael Cannon-Brooks are some of the investors in the six-year-old startup.The Wall Street Journal reported last month that the companies were in advanced talks and the deal could value Zoox at less than the $3.2 billion it achieved in a funding round in 2018.Reporting by Vishal Vivek and Manojna Maddipatla in Bengaluru; Editing by Krishna Chandra Eluri and Aditya SoniOur Standards: The Thomson Reuters Trust Principles.</td>\n",
       "      <td>2775.060059</td>\n",
       "      <td>6500800</td>\n",
       "      <td>1.798961</td>\n",
       "      <td>53.621476</td>\n",
       "      <td>Amazon.com Inc agree buy California base self drive startup Zoox Inc deal report worth $ 1 billion give option use autonomous technology ride hailing delivery network world large online retailer step investment car sector participate self drive car startup Aurora Innovation Inc $ 530 million funding round early year Amazon Zoox disclose financial term deal information say Thursday cite source Amazon agree pay $ 1 billion buy Zoox report bit.ly/3dwgauv mention exact purchase price Zoox Chief Executive Officer Aicha Evans co founder Chief Technology Officer Jesse Levinson continue lead company standalone business company say majority Zoox investor get money accord Information Zoox immediately respond Reuters request comment Lux Capital DFJ atlassian co founder Michael Cannon Brooks investor year old startup Wall Street Journal report month company advanced talk deal value Zoox $ 3.2 billion achieve funding round 2018.reporting Vishal Vivek Manojna Maddipatla Bengaluru editing Krishna Chandra Eluri Aditya SoniOur Standards Thomson Reuters Trust Principles</td>\n",
       "      <td>0.0</td>\n",
       "      <td>0.235383</td>\n",
       "      <td>1.089019e-23</td>\n",
       "    </tr>\n",
       "    <tr>\n",
       "      <th>11</th>\n",
       "      <td>2020-07-08</td>\n",
       "      <td>Amazon India's unit gets $308 million in fresh funds from parent</td>\n",
       "      <td>- Amazon.com Inc has invested 23.10 billion rupees ($308.02 million) in Amazon Seller Services, an Indian unit, strengthening the business at a time when more people shop online in a bid to avoid crowded public places.Amazon Singapore made a significant portion of financing, data from business intelligence firm Tofler showed.The company’s Indian arm in May said it would hire 50,000 temporary workers to meet a surge in online shopping in the country.The company, which competes with Walmart Inc’s Flipkart in India, has also been expanding its seller network in the country.Indian laws allow foreign e-commerce companies to operate as “market places,” connecting buyers with sellers online.As India went into lockdown, Amazon encouraged small shops to join as sellers on its platform in a bid to boost local businesses and expand its reach.Jeff Bezos-led Amazon.com in January announced a $1 billion investment to bring more than 10 million small businesses online in India by 2025.($1 = 74.9950 Indian rupees)Reporting by Nallur Sethuraman in Bengaluru; Editing by Anil D’SilvaOur Standards: The Thomson Reuters Trust Principles.</td>\n",
       "      <td>3022.610107</td>\n",
       "      <td>5037600</td>\n",
       "      <td>8.920529</td>\n",
       "      <td>-22.507999</td>\n",
       "      <td>Amazon.com Inc invest 23.10 billion rupee $ 308.02 million Amazon Seller Services indian unit strengthen business time people shop online bid avoid crowded public place Amazon Singapore significant portion financing datum business intelligence firm Tofler show company indian arm say hire 50,000 temporary worker meet surge online shopping country company compete Walmart Inc Flipkart India expand seller network country indian law allow foreign e commerce company operate market place connect buyer seller online India go lockdown Amazon encourage small shop join seller platform bid boost local business expand reach Jeff Bezos lead Amazon.com January announce $ 1 billion investment bring 10 million small business online India 2025.($1 = 74.9950 indian rupees)reporting Nallur Sethuraman Bengaluru editing Anil D’SilvaOur Standards Thomson Reuters Trust Principles</td>\n",
       "      <td>0.0</td>\n",
       "      <td>0.444318</td>\n",
       "      <td>1.482905e-04</td>\n",
       "    </tr>\n",
       "    <tr>\n",
       "      <th>12</th>\n",
       "      <td>2020-07-10</td>\n",
       "      <td>Amazon begins rolling out bigger UPS and FedEx-style delivery trucks</td>\n",
       "      <td>- Amazon.com AMZN.O is launching a new fleet of bigger, boxier trucks like those favored by rival package carriers United Parcel Service Inc UPS.N and FedEx Corp FDX.N, as it fights to fix widespread pandemic-fueled delivery delays that sent customers into the arms of competitors like Walmart Inc WMT.N.A new Amazon \"walk-in\" delivery truck is seen in Chicago, Illinois, June 28, 2020.  REUTERS/PJ HuffstutterThe world's largest online retailer ordered more than 2,200 heavy-duty Utilimaster \"walk-in\" delivery trucks from Shyft Group SHYF.O, a Michigan-based specialty vehicle company, an Amazon spokeswoman told Reuters. The company declined to say how many of the vehicles have been sent to Amazon delivery contractors, or where they would be deployed.Amazon is under pressure to make good on one- and two-day deliveries promised to customers who subscribe to its $119 annual Prime service. Orders for food, computers, toys and exercise equipment surged after states issued stay-at-home orders to battle the pandemic, overwhelming Amazon’s network and adding days and even weeks to delivery times.Drivers assigned to the new trucks showed Reuters training materials from Wisconsin-based safety and compliance consultancy J.J. Keller &amp; Associates, which confirmed that Amazon is a client. The Shyft Group did not respond to requests for comment.One of the new Amazon trucks was seen recently operating in Chicago, according to a Reuters reporter. Training is under way in the Los Angeles area, drivers said.While Amazon purchased the vehicles last year, the branded trucks have been parked for months in locations around the United States, including in Amazon lots in New Jersey and California dairy country. The company declined to state why it waited so long to roll out the new fleet.Drivers familiar with the new vehicles said they can carry more and bigger packages than the Mercedes-Benz DAIGn.DE, Fiat Chrysler FCHA.MI, and Ford Motor Co F.N vans Amazon contractors dispatch around the country.Two drivers, who declined to be named for fear of retaliation, opted not to switch to the new vehicles because they are heavier and more difficult to maneuver than Amazon vans.Amazon came under fire last year after ProPublica, BuzzFeed and other news outlets reported on Amazon’s training practices and van accidents that resulted in injuries and deaths. Amazon said in an email Friday that van drivers must undergo training that includes two days of classroom instruction and two days of ride-alongs with experienced drivers.Amazon suspended its upstart Amazon Shipping program for non-Amazon packages in June to prioritize deliveries to its own customers.Amazon declined to say whether the new fleet would be used to restart that service, which competes directly with UPS and FedEx.Reporting by Lisa Baertlein in Los Angeles and PJ Huffstutter in Chicago; Editing by Nick Zieminski and David GregorioOur Standards: The Thomson Reuters Trust Principles.</td>\n",
       "      <td>3191.760010</td>\n",
       "      <td>5486000</td>\n",
       "      <td>5.596154</td>\n",
       "      <td>8.901064</td>\n",
       "      <td>Amazon.com AMZN.O launch new fleet big boxi truck like favor rival package carrier United Parcel Service Inc UPS.N FedEx Corp FDX.N fight fix widespread pandemic fuel delivery delay send customer arm competitor like Walmart Inc WMT.N.A new Amazon walk delivery truck see Chicago Illinois June 28 2020 REUTERS PJ HuffstutterThe world large online retailer order 2,200 heavy duty Utilimaster walk delivery truck Shyft Group SHYF.O Michigan base specialty vehicle company Amazon spokeswoman tell Reuters company decline vehicle send Amazon delivery contractor deploy Amazon pressure good one- day delivery promise customer subscribe $ 119 annual prime service order food computer toy exercise equipment surge state issue stay home order battle pandemic overwhelming Amazon network add day week delivery time driver assign new truck show Reuters train material Wisconsin base safety compliance consultancy J.J. Keller Associates confirm Amazon client Shyft Group respond request comment new Amazon truck see recently operate Chicago accord Reuters reporter training way Los Angeles area driver say Amazon purchase vehicle year brand truck park month location United States include Amazon lot New Jersey California dairy country company decline state wait long roll new fleet driver familiar new vehicle say carry big package Mercedes Benz DAIGn DE Fiat Chrysler FCHA.MI Ford Motor Co F.N van Amazon contractor dispatch country driver decline name fear retaliation opt switch new vehicle heavy difficult maneuver Amazon van Amazon come fire year ProPublica BuzzFeed news outlet report Amazon training practice van accident result injury death Amazon say email Friday van driver undergo training include day classroom instruction day ride along experienced driver Amazon suspend upstart Amazon Shipping program non amazon package June prioritize delivery customer Amazon decline new fleet restart service compete directly UPS fedex report Lisa Baertlein Los Angeles PJ Huffstutter Chicago editing Nick Zieminski David GregorioOur Standards Thomson Reuters Trust Principles</td>\n",
       "      <td>1.0</td>\n",
       "      <td>0.997385</td>\n",
       "      <td>4.942619e-10</td>\n",
       "    </tr>\n",
       "    <tr>\n",
       "      <th>13</th>\n",
       "      <td>2020-07-15</td>\n",
       "      <td>Amazon extends work from home policy, still restricting travel</td>\n",
       "      <td>- Amazon.com Inc AMZN.O has extended a work-from-home policy until Jan. 8 and is continuing to ask employees to defer all non-essential travel, a spokeswoman said on Wednesday.Airlines are bracing for a prolonged decline in business travel demand, with Delta Air Lines DAL.N Chief Executive Ed Bastian warning on Tuesday that 2019 volumes of business travel may never return.Reporting by Tracy Rucinski; editing by Jonathan OatisOur Standards: The Thomson Reuters Trust Principles.</td>\n",
       "      <td>3080.229980</td>\n",
       "      <td>5788900</td>\n",
       "      <td>-3.494311</td>\n",
       "      <td>5.521327</td>\n",
       "      <td>Amazon.com Inc AMZN.O extend work home policy January 8 continue ask employee defer non essential travel spokeswoman say Wednesday airline brace prolonged decline business travel demand Delta Air Lines DAL.N Chief Executive Ed bastian warning Tuesday 2019 volume business travel return reporting Tracy Rucinski editing Jonathan OatisOur Standards Thomson Reuters Trust Principles</td>\n",
       "      <td>1.0</td>\n",
       "      <td>0.681832</td>\n",
       "      <td>7.915230e-07</td>\n",
       "    </tr>\n",
       "    <tr>\n",
       "      <th>14</th>\n",
       "      <td>2020-07-23</td>\n",
       "      <td>Amazon in talks to buy 9.9% stake in Reliance retail arm: ET Now</td>\n",
       "      <td>- Amazon.com Inc is in talks to buy a 9.9% stake in the retail arm of Indian conglomerate Reliance Industries Ltd, ET Now reported on Thursday, citing sources.Amazon wants a preferred, strategic stake in Reliance Retail for JioMart, according to tweets here by the television channel.JioMart, the e-commerce venture of Reliance’s retail arm, was launched in May and poses a formidable challenge to Amazon.com’s local unit and Walmart Inc’s Flipkart. Earlier this year, Amazon India launched a program to add small local shops on its platform after India went into a lockdown to curb the spread of the coronavirus outbreak.An Amazon spokeswoman through email said the company does not comment on speculation, while Reliance did not immediately respond to a request for comment.Reliance, controlled by Asia’s richest man, Mukesh Ambani, has raised around $20 bln since late April for its digital arm, including from Alphabet Inc’s Google and Facebook Inc.Reporting by Chandini Monnappa in Bengaluru; Editing by Amy Caren DanielOur Standards: The Thomson Reuters Trust Principles.</td>\n",
       "      <td>3098.270020</td>\n",
       "      <td>5656900</td>\n",
       "      <td>0.585672</td>\n",
       "      <td>-2.280226</td>\n",
       "      <td>Amazon.com Inc talk buy 9.9 stake retail arm indian conglomerate Reliance Industries Ltd ET report Thursday cite source Amazon want preferred strategic stake Reliance Retail JioMart accord tweet television channel JioMart e commerce venture Reliance retail arm launch pose formidable challenge Amazon.com local unit Walmart Inc Flipkart earlier year Amazon India launch program add small local shop platform India go lockdown curb spread coronavirus outbreak Amazon spokeswoman email say company comment speculation Reliance immediately respond request comment reliance control Asia rich man Mukesh Ambani raise $ 20 bln late April digital arm include Alphabet Inc Google Facebook Inc reporting Chandini Monnappa Bengaluru editing Amy Caren DanielOur Standards Thomson Reuters Trust Principles</td>\n",
       "      <td>0.0</td>\n",
       "      <td>0.219017</td>\n",
       "      <td>8.557866e-05</td>\n",
       "    </tr>\n",
       "    <tr>\n",
       "      <th>15</th>\n",
       "      <td>2020-07-30</td>\n",
       "      <td>Amazon posts biggest profit ever at height of pandemic in U.S.</td>\n",
       "      <td>- Amazon.com Inc AMZN.O on Thursday posted the biggest profit in its 26-year history as online sales and its lucrative business supporting third-party merchants surged during the coronavirus pandemic.Shares of Amazon, the world’s largest online retailer, rose 5% in after-hours trade.While rival brick-and-mortar retailers have had to shut stores during government-imposed lockdowns, Amazon hired 175,000 people in recent months and saw demand for its services soar. The company said revenue jumped 40% from a year earlier to $88.9 billion.Amazon had forecast it might lose money in the just-ended second quarter because it expected to spend some $4 billion on protective equipment for staff and other expenses related to COVID-19. It did just that - and still earned $5.2 billion - double its net income from a year prior.Jeff Bezos, who founded the company in July 1994 and is the world’s richest person, said in a statement, “This was another highly unusual quarter.”Amazon’s shares have risen by more than 60% this year, adding to the wealth of Bezos, its biggest stockholder. The S&amp;P 500 is virtually flat.Jesse Cohen, senior analyst at Investing.com, said Amazon’s business model sets it up “to expand its e-commerce dominance even more broadly as the global COVID-19 pandemic continues to flare.”Online store sales jumped 48% to $45.9 billion in the second quarter. Meanwhile, merchants paid Amazon more to fulfill and sponsor their products in order to reach the company’s loyal customers. That resulted in a 52% and 41% jump in seller services revenue and other revenue such as from ads, respectively.Amazon’s cloud services also saw higher demand as companies switched to virtual offices in the pandemic. Revenue from Amazon Web Services (AWS), which sells data storage and computing power in the cloud, rose nearly 29% to $10.81 billion.FILE PHOTO: An Amazon sign stands in a parking lot outside of an Amazon warehouse as the outbreak of the coronavirus disease (COVID-19) continues in the Staten Island borough of New York U.S., May 1, 2020. REUTERS/Lucas JacksonStill, that fell just short of analysts' estimates of $10.95 billion, according to IBES data from Refinitiv. The cloud business of rival Alphabet Inc's GOOGL.O Google meanwhile was up over 43% year over year.Technology analyst Patrick Moorhead said, “AWS continued to grow, albeit at a slower rate than last quarter.”‘EVERYONE WAS BUYING GROCERIES’Brian Olsavsky, Amazon’s chief financial officer, told reporters that the outsized profit surprised the company because at the time it issued its forecast last quarter, shoppers were buying lower-margin products.“Everyone was looking for masks; everyone was looking for gloves; everyone was buying groceries online. That mix is not super profitable,” he said. “What we saw in Q2 was not only did the mix start to shift back to a more normal mix” but that “we also were able to ship a lot more than we had originally thought.”Online grocery sales tripled year over year, and worldwide streaming video hours doubled, Olsavsky said on a call with analysts. Delivery and video services bundled with the company’s loyalty club Prime are a key reason why customers subscribe to that program and do more of their shopping on Amazon.Amazon also posted a rare operating profit in its international business, which Olsavsky attributed to a step up in customer spending in Europe and Japan during the pandemic.The company forecast net sales of $87 billion to $93 billion for the third quarter, ahead of analysts’ expectations of $86.34 billion, according to IBES data.Olsavsky said that Prime Day, the company’s lucrative summer marketing blitz, would be pushed back to the fourth quarter, excluding its business in India. He also said that per usual the current quarter would see higher costs as the company gears up for the holiday season, even more pronounced now due to higher-than-usual sales.It would spend more than $2 billion in COVID-related expenses during the third quarter as well, he said on the analyst call.Still, Amazon anticipates operating profit between $2 billion and $5 billion for the quarter, the midpoint of which is higher than analysts were expecting, according to research firm FactSet.Reporting by Akanksha Rana in Bengaluru and Jeffrey Dastin in San Francisco; Editing by Anil D’Silva and Grant McCoolOur Standards: The Thomson Reuters Trust Principles.</td>\n",
       "      <td>3014.000000</td>\n",
       "      <td>6128300</td>\n",
       "      <td>-2.719906</td>\n",
       "      <td>8.333186</td>\n",
       "      <td>Amazon.com Inc AMZN.O Thursday post big profit 26-year history online sale lucrative business support party merchant surge coronavirus pandemic Shares Amazon world large online retailer rise 5 hour trade rival brick mortar retailer shut store government impose lockdown Amazon hire 175,000 people recent month see demand service soar company say revenue jump 40 year earlier $ 88.9 billion Amazon forecast lose money end second quarter expect spend $ 4 billion protective equipment staff expense relate covid-19 earn $ 5.2 billion double net income year prior Jeff Bezos found company July 1994 world rich person say statement highly unusual quarter ”Amazon share rise 60 year add wealth Bezos big stockholder S&amp;P 500 virtually flat Jesse Cohen senior analyst Investing.com say Amazon business model set expand e commerce dominance broadly global covid-19 pandemic continue flare ”online store sale jump 48 $ 45.9 billion second quarter merchant pay Amazon fulfill sponsor product order reach company loyal customer result 52 41 jump seller service revenue revenue ad respectively Amazon cloud service see high demand company switch virtual office pandemic revenue Amazon Web Services AWS sell data storage compute power cloud rise nearly 29 $ 10.81 billion FILE PHOTO Amazon sign stand parking lot outside Amazon warehouse outbreak coronavirus disease COVID-19 continue Staten Island borough New York U.S. 1 2020 REUTERS Lucas JacksonStill fall short analyst estimate $ 10.95 billion accord IBES datum Refinitiv cloud business rival Alphabet Inc GOOGL.O Google 43 year year technology analyst Patrick Moorhead say AWS continue grow albeit slow rate quarter ”‘everyone buy GROCERIES’Brian Olsavsky Amazon chief financial officer tell reporter outsized profit surprise company time issue forecast quarter shopper buy low margin product “Everyone look mask look glove buy grocery online mix super profitable say see Q2 mix start shift normal mix able ship lot originally think ”online grocery sale triple year year worldwide stream video hour double Olsavsky say analyst delivery video service bundle company loyalty club Prime key reason customer subscribe program shopping Amazon Amazon post rare operating profit international business Olsavsky attribute step customer spending Europe Japan pandemic company forecast net sale $ 87 billion $ 93 billion quarter ahead analyst expectation $ 86.34 billion accord IBES datum Olsavsky say Prime Day company lucrative summer marketing blitz push fourth quarter exclude business India say usual current quarter high cost company gear holiday season pronounced high usual sale spend $ 2 billion covid relate expense quarter say analyst Amazon anticipate operate profit $ 2 billion $ 5 billion quarter midpoint high analyst expect accord research firm FactSet reporting Akanksha Rana Bengaluru Jeffrey Dastin San Francisco editing Anil D’Silva Grant mccoolour Standards Thomson Reuters Trust Principles</td>\n",
       "      <td>0.0</td>\n",
       "      <td>0.054233</td>\n",
       "      <td>1.229930e-10</td>\n",
       "    </tr>\n",
       "    <tr>\n",
       "      <th>16</th>\n",
       "      <td>2020-08-04</td>\n",
       "      <td>Amazon starts preparations to launch in Sweden</td>\n",
       "      <td>- Amazon.com Inc has started preparations to launch in Sweden, marking its first step to establish a local presence in a Nordic country.FILE PHOTO: An Amazon worker delivers packages amid the coronavirus disease (COVID-19) outbreak in Denver, Colorado, U.S., April 22, 2020.   REUTERS/Kevin Mohatt/File Photo  Swedish customers can already shop on Amazon through its websites in other European countries such as Germany, and get their purchases shipped to the country, but this often meant paying high delivery charges.“We are optimistic that, by focusing on the things we believe customers will place the greatest emphasis on - low prices, a wide range and fast deliveries - we will eventually be able to win the trust of Swedish customers,” Alex Ootes, vice president for EU Expansion at Amazon, said on Tuesday,The Swedish website amazon.se was still directing customers to amazon.de with an option to deliver to Sweden. Amazon has not released a date for the launch of the website, a spokesman said.Amazon did not say if it would create a warehouse or distribution hub in Sweden but Ootes said: “The next step is to introduce a complete retail offering in Sweden and that is what we plan to do now”.Logistics group Kuehne and Nagel told Reuters it was building a contract logistics facility in Eskilstuna, about 100 km west of Sweden’s capital Stockholm.The probable entry of Amazon into Sweden has been talked about for years and could represent a challenge to local players.Daniel Ovin, senior analyst at Nordea, said that based on a report written in October autoparts, sporting goods and general merchandise would be the most exposed sectors after an Amazon entry in the Nordics.Ovin added that retailers in United States, Britain, Germany and France that have adopted successful strategies to meet the challenge from Amazon have turned to premium products, sharpened their delivery mechanisms, increased private labels or added brands that were not sold on Amazon.Shares of budget DIY and homewares retailer Clas Ohlson, fashion specialist Boozt AB, and e-books seller Storytel edged lower.Reporting by Supantha Mukherjee and Simon Johnson in Stockholm, with Tommy Lund in Gdansk; Editing by David Holmes and David EvansOur Standards: The Thomson Reuters Trust Principles.</td>\n",
       "      <td>3101.209961</td>\n",
       "      <td>4694300</td>\n",
       "      <td>2.893496</td>\n",
       "      <td>-23.399638</td>\n",
       "      <td>Amazon.com Inc start preparation launch Sweden mark step establish local presence nordic country FILE PHOTO Amazon worker deliver package amid coronavirus disease COVID-19 outbreak Denver Colorado U.S. April 22 2020 REUTERS Kevin Mohatt File photo swedish customer shop Amazon website european country Germany purchase ship country mean pay high delivery charge “we optimistic focus thing believe customer place great emphasis low price wide range fast delivery eventually able win trust swedish customer Alex Ootes vice president EU Expansion Amazon say Tuesday swedish website amazon.se direct customer amazon.de option deliver Sweden Amazon release date launch website spokesman say Amazon create warehouse distribution hub Sweden Ootes say step introduce complete retail offering Sweden plan now” logistic group Kuehne Nagel tell Reuters build contract logistic facility Eskilstuna 100 km west Sweden capital Stockholm probable entry Amazon Sweden talk year represent challenge local player Daniel Ovin senior analyst Nordea say base report write October autopart sport good general merchandise expose sector Amazon entry Nordics Ovin add retailer United States Britain Germany France adopt successful strategy meet challenge Amazon turn premium product sharpen delivery mechanism increase private label add brand sell Amazon share budget DIY homeware retailer Clas Ohlson fashion specialist Boozt AB e book seller Storytel edge low report Supantha Mukherjee Simon Johnson Stockholm Tommy Lund Gdansk editing David Holmes David EvansOur Standards Thomson Reuters Trust Principles</td>\n",
       "      <td>0.0</td>\n",
       "      <td>0.393991</td>\n",
       "      <td>2.045399e-20</td>\n",
       "    </tr>\n",
       "    <tr>\n",
       "      <th>17</th>\n",
       "      <td>2020-08-14</td>\n",
       "      <td>California court rules Amazon is liable for injuries from defective products</td>\n",
       "      <td>- Amazon.com can be held liable like other traditional retailers for injuries from defective products sold via its sprawling e-commerce marketplace, a California state appeals court ruled on Thursday.The decision overturned a San Diego Superior Court ruling that the world’s biggest online retailer was shielded from liability because it acted as a service provider, which is not subject to California product liability law.In addition to selling its own inventory, Amazon allows third-party vendors to list products for sale on its website. Such vendors may store their products in Amazon’s warehouses or ship them directly to customers.The appeals court found that Amazon played a pivotal role in every step of plaintiff Angela Bolger’s purchase of a replacement laptop battery from Amazon third-party seller Lenoge Technology HK Ltd, which was operating under the fictitious name “E-Life.” Bolger alleged that the battery burst into flames while she balanced the laptop on her thighs, resulting in severe burns to her arms, legs and feet.“Whatever term we use to describe Amazon’s role, be it ‘retailer,’ ‘distributor,’ or merely ‘facilitator,’ it was pivotal in bringing the product here to the consumer,” the appeals court held.Amazon has faced multiple lawsuits seeking to hold it responsible for damage or injuries caused by defective products sold by third parties, including ones based overseas in China, with most courts concluding it is not a “seller” under various states’ product liability laws. But a few rulings have gone the other way and have allowed Amazon to be sued.Both Pennsylvania’s and Ohio’s top courts are currently considering the issue, and federal appeals courts are weighing cases under California and Texas law.The case decided on Thursday drew friend-of-the-court briefs from plaintiff lawyer groups and corporate groups.The ruling comes as California lawmakers weigh legislation that would put Amazon and other operators of online marketplaces on equal footing under the state’s strict liability law.Reporting by Lisa Baertlein in Los Angeles and Nate Raymond in Boston; Editing by Greg Mitchell and Dan GreblerOur Standards: The Thomson Reuters Trust Principles.</td>\n",
       "      <td>3178.179932</td>\n",
       "      <td>2751700</td>\n",
       "      <td>2.481934</td>\n",
       "      <td>-41.382102</td>\n",
       "      <td>Amazon.com hold liable like traditional retailer injury defective product sell sprawl e commerce marketplace California state appeal court rule Thursday decision overturn San Diego Superior Court ruling world big online retailer shield liability act service provider subject California product liability law addition sell inventory Amazon allow party vendor list product sale website vendor store product Amazon warehouse ship directly customer appeal court find Amazon play pivotal role step plaintiff Angela Bolger purchase replacement laptop battery Amazon party seller Lenoge Technology HK Ltd operate fictitious E Life Bolger allege battery burst flame balance laptop thigh result severe burn arm leg foot “whatever term use describe Amazon role retailer distributor merely facilitator pivotal bring product consumer appeal court hold Amazon face multiple lawsuit seek hold responsible damage injury cause defective product sell party include one base overseas China court conclude seller state product liability law ruling go way allow Amazon sue Pennsylvania Ohio court currently consider issue federal appeal court weigh case California Texas law case decide Thursday draw friend court brief plaintiff lawyer group corporate group ruling come California lawmaker weigh legislation Amazon operator online marketplace equal footing state strict liability law reporting Lisa Baertlein Los Angeles Nate Raymond Boston editing Greg Mitchell Dan GreblerOur Standards Thomson Reuters Trust Principles</td>\n",
       "      <td>1.0</td>\n",
       "      <td>0.534733</td>\n",
       "      <td>6.999655e-17</td>\n",
       "    </tr>\n",
       "    <tr>\n",
       "      <th>18</th>\n",
       "      <td>2020-08-17</td>\n",
       "      <td>EXCLUSIVE-Amazon in talks to invest in cloud services company Rackspace -sources</td>\n",
       "      <td>- Amazon.com Inc is in preliminary talks to invest in U.S. cloud services provider Rackspace Technology Inc, people familiar with the discussion said on Monday.The deal would involve Amazon acquiring a minority stake in Rackspace, the sources said. Rackspace helps companies migrate their data to Amazon Web Services, and the investment would strengthen the ties between the two companies. Rackspace also migrates companies to Alphabet Inc’s Google Cloud, Microsoft Corp’s Azure and VMware Inc.There is no certainty that Amazon and Rackspace, which is majority-owned by private equity firm Apollo Global Management Inc, will agree a deal, the sources said. If there is one, it could take one to two months to negotiate it, the sourced added, asking anonymity because the matter is confidential.Rackspace and Apollo declined to comment, while Amazon did not respond to a request for comment.Rackspace leases server space and helps corporations store and access data in the cloud. It was acquired by Apollo in a $4.3 leveraged buyout in 2016, and was listed in the stock market earlier this month. The San Antonio, Texas-based company has market capitalization of more than $3 billion, almost as much as its debt pile.Amazon’s cloud services is thriving on higher demand from companies switching to virtual offices amid the coronavirus outbreak. Its revenue from Amazon Web Services, which sells data storage and computing power in the cloud, rose nearly 29% in the second quarter to $10.81 billion.If Rackspace bring in Amazon as an investor, it would be the second Apollo-owned company to secure such a deal with a major technology company this year.Earlier this month, Google revealed it had picked up a 6.6% stake in ADT Inc for $450 million, betting on the home security company’s strong customer base and an army of technicians to drive sales of its Nest devices.Apollo had acquired ADT in a nearly $7 billion deal in 2016, and still owns a majority stake in the company. ADT shares have risen in value by more than a third since the deal with Google was announced. (Reporting by Greg Roumeliotis and Krystal Hu in New York Editing by Nick Zieminski)Our Standards: The Thomson Reuters Trust Principles.</td>\n",
       "      <td>3173.120117</td>\n",
       "      <td>2691200</td>\n",
       "      <td>-0.159205</td>\n",
       "      <td>-2.198641</td>\n",
       "      <td>Amazon.com Inc preliminary talk invest U.S. cloud service provider Rackspace Technology Inc people familiar discussion say Monday deal involve Amazon acquire minority stake Rackspace source say rackspace help company migrate datum Amazon Web Services investment strengthen tie company rackspace migrate company Alphabet Inc Google Cloud Microsoft Corp Azure VMware Inc certainty Amazon Rackspace majority own private equity firm Apollo Global Management Inc agree deal source say month negotiate source add ask anonymity matter confidential Rackspace Apollo decline comment Amazon respond request comment rackspace lease server space help corporation store access datum cloud acquire Apollo $ 4.3 leverage buyout 2016 list stock market earlier month San Antonio Texas base company market capitalization $ 3 billion debt pile Amazon cloud service thrive high demand company switch virtual office amid coronavirus outbreak revenue Amazon Web Services sell data storage compute power cloud rise nearly 29 second quarter $ 10.81 billion Rackspace bring Amazon investor second Apollo own company secure deal major technology company year earlier month Google reveal pick 6.6 stake ADT Inc $ 450 million bet home security company strong customer base army technician drive sale Nest device Apollo acquire ADT nearly $ 7 billion deal 2016 own majority stake company ADT share rise value deal Google announce report Greg Roumeliotis Krystal Hu New York Editing Nick Zieminski)Our Standards Thomson Reuters Trust Principles</td>\n",
       "      <td>0.0</td>\n",
       "      <td>0.055059</td>\n",
       "      <td>1.739701e-07</td>\n",
       "    </tr>\n",
       "    <tr>\n",
       "      <th>19</th>\n",
       "      <td>2020-08-28</td>\n",
       "      <td>Amazon orders 1,800 Mercedes-Benz electric vans for European deliveries</td>\n",
       "      <td>- Amazon.com Inc AMZN.O said on Friday it had ordered 1,800 electric vans from Mercedes-Benz for its European delivery fleet, as part of the online retailer's plans to run a carbon neutral business by 2040.FILE PHOTO: The logo of Amazon is seen at the company logistics centre in Boves, France, November 5, 2019. REUTERS/Pascal RossignolA majority of the electric vehicles from Daimler AG's DAIGn.DE car and vans division will go into service this year, the company said, adding that it had ordered 1,200 of Mercedes-Benz's larger eSprinter models and 600 of the midsize eVitos.The order is the largest for Mercedes-Benz’s electric vehicles to date and includes 800 vans for Germany and 500 for the United Kingdom.It is dwarfed, however, by Amazon’s recent order for 100,000 electric delivery vans from Rivian Automotive LLC, a startup it has invested in.Amazon Chief Executive Jeff Bezos said in a statement the Daimler agreement was part of the retailer’s “journey to build the most sustainable transportation fleet in the world.”Mercedes-Benz on Friday joined The Climate Pledge, started by Amazon last year, which calls on signatories to be net zero carbon across their businesses by 2040. The automaker has previously said it was aiming to have a carbon neutral fleet by 2039.In 2018, Amazon became the biggest customer of Mercedes’ non-electric Sprinter vans, securing 20,000 vehicles for delivery contractors.“Moving forward, we are prioritizing the addition of electric vehicles,” Ross Rachey, Amazon’s director of global fleet and products for last-mile delivery told Reuters.Other delivery companies are pushing for more electric fleets. In January United Parcel Service Inc UPS.N said it was ordering 10,000 delivery trucks from UK-based Arrival Ltd.Daimler's rivals are also working on bringing electric vans to market. Ford Motor Co F.N plans an all-electric version of its Transit van in North America in 2022, and General Motors Co GM.N aims to start production of an electric van in late 2021.Reporting by Nick Carey; Editing by Tom BrownOur Standards: The Thomson Reuters Trust Principles.</td>\n",
       "      <td>3423.000000</td>\n",
       "      <td>2897000</td>\n",
       "      <td>7.874895</td>\n",
       "      <td>7.647146</td>\n",
       "      <td>Amazon.com Inc AMZN.O say Friday order 1,800 electric van Mercedes Benz european delivery fleet online retailer plan run carbon neutral business 2040.file PHOTO logo Amazon see company logistic centre Boves France November 5 2019 reuter Pascal rossignola majority electric vehicle Daimler AG DAIGn de car van division service year company say add order 1,200 Mercedes Benz large eSprinter model 600 midsize eVitos order large Mercedes Benz electric vehicle date include 800 van Germany 500 United Kingdom dwarf Amazon recent order 100,000 electric delivery van Rivian Automotive LLC startup invest Amazon Chief Executive Jeff Bezos say statement Daimler agreement retailer journey build sustainable transportation fleet world ”mercedes Benz Friday join Climate Pledge start Amazon year call signatory net zero carbon business 2040 automaker previously say aim carbon neutral fleet 2039.in 2018 Amazon big customer Mercedes non electric Sprinter van secure 20,000 vehicle delivery contractor “move forward prioritize addition electric vehicle Ross Rachey Amazon director global fleet product mile delivery tell Reuters delivery company push electric fleet January United Parcel Service Inc UPS.N say order 10,000 delivery truck UK base Arrival Ltd Daimler rival work bring electric van market Ford Motor Co F.N plan electric version Transit van North America 2022 General Motors Co GM.N aim start production electric van late 2021.reporting Nick Carey editing Tom BrownOur Standards Thomson Reuters Trust Principles</td>\n",
       "      <td>0.0</td>\n",
       "      <td>0.499699</td>\n",
       "      <td>1.709841e-14</td>\n",
       "    </tr>\n",
       "  </tbody>\n",
       "</table>\n",
       "</div>"
      ],
      "text/plain": [
       "         Date  ... deep_learning_sentiment_prob\n",
       "0  2020-05-01  ...  9.816403e-01               \n",
       "1  2020-05-04  ...  3.057389e-11               \n",
       "2  2020-05-07  ...  1.621458e-08               \n",
       "3  2020-05-13  ...  3.485880e-03               \n",
       "4  2020-05-21  ...  3.492871e-13               \n",
       "5  2020-05-26  ...  5.333528e-19               \n",
       "6  2020-05-28  ...  7.009035e-09               \n",
       "7  2020-06-03  ...  1.311111e-01               \n",
       "8  2020-06-17  ...  4.048520e-02               \n",
       "9  2020-06-23  ...  3.377543e-06               \n",
       "10 2020-06-26  ...  1.089019e-23               \n",
       "11 2020-07-08  ...  1.482905e-04               \n",
       "12 2020-07-10  ...  4.942619e-10               \n",
       "13 2020-07-15  ...  7.915230e-07               \n",
       "14 2020-07-23  ...  8.557866e-05               \n",
       "15 2020-07-30  ...  1.229930e-10               \n",
       "16 2020-08-04  ...  2.045399e-20               \n",
       "17 2020-08-14  ...  6.999655e-17               \n",
       "18 2020-08-17  ...  1.739701e-07               \n",
       "19 2020-08-28  ...  1.709841e-14               \n",
       "\n",
       "[20 rows x 11 columns]"
      ]
     },
     "execution_count": 52,
     "metadata": {
      "tags": []
     },
     "output_type": "execute_result"
    }
   ],
   "source": [
    "df['deep_learning_sentiment_prob'] = deep_learning_sentiment_prob\n",
    "df"
   ]
  },
  {
   "cell_type": "markdown",
   "metadata": {
    "id": "3p1sVTkUspiI"
   },
   "source": [
    "# Summary "
   ]
  },
  {
   "cell_type": "code",
   "execution_count": 37,
   "metadata": {
    "colab": {
     "base_uri": "https://localhost:8080/"
    },
    "id": "8wZ1WyTKspiJ",
    "outputId": "b4a57b1c-661c-4fb1-8f23-0290f01d5773"
   },
   "outputs": [
    {
     "name": "stdout",
     "output_type": "stream",
     "text": [
      "[0, 3, 3, 6, 8, 5, 2, 6, 14, 6, 3, 12, 2, 5, 8, 7, 5, 10, 3, 11]\n"
     ]
    }
   ],
   "source": [
    "# Converting % stock price change to % stock price change per day\n",
    "days = [0]\n",
    "for i in range(len(df['Date'])):\n",
    "    if i != 0:\n",
    "        date_diff = df['Date'][i]-df['Date'][i-1]\n",
    "        day = date_diff.days\n",
    "        days.append(day)\n",
    "print(days)\n",
    "df['Days Elapsed'] = days\n",
    "df.head()\n",
    "df['% Change in Stock Price Per Day'] = df['% Change in Stock Price']/df['Days Elapsed']\n"
   ]
  },
  {
   "cell_type": "code",
   "execution_count": 38,
   "metadata": {
    "colab": {
     "base_uri": "https://localhost:8080/",
     "height": 1000
    },
    "id": "_EvM0EkMspiJ",
    "outputId": "844040d6-207c-4ed3-a628-c0729e413351"
   },
   "outputs": [
    {
     "ename": "KeyError",
     "evalue": "'deep_learning_sentiment_prob'",
     "output_type": "error",
     "traceback": [
      "\u001b[1;31m---------------------------------------------------------------------------\u001b[0m",
      "\u001b[1;31mKeyError\u001b[0m                                  Traceback (most recent call last)",
      "\u001b[1;32m~\\Anaconda3\\lib\\site-packages\\pandas\\core\\indexes\\base.py\u001b[0m in \u001b[0;36mget_loc\u001b[1;34m(self, key, method, tolerance)\u001b[0m\n\u001b[0;32m   2894\u001b[0m             \u001b[1;32mtry\u001b[0m\u001b[1;33m:\u001b[0m\u001b[1;33m\u001b[0m\u001b[1;33m\u001b[0m\u001b[0m\n\u001b[1;32m-> 2895\u001b[1;33m                 \u001b[1;32mreturn\u001b[0m \u001b[0mself\u001b[0m\u001b[1;33m.\u001b[0m\u001b[0m_engine\u001b[0m\u001b[1;33m.\u001b[0m\u001b[0mget_loc\u001b[0m\u001b[1;33m(\u001b[0m\u001b[0mcasted_key\u001b[0m\u001b[1;33m)\u001b[0m\u001b[1;33m\u001b[0m\u001b[1;33m\u001b[0m\u001b[0m\n\u001b[0m\u001b[0;32m   2896\u001b[0m             \u001b[1;32mexcept\u001b[0m \u001b[0mKeyError\u001b[0m \u001b[1;32mas\u001b[0m \u001b[0merr\u001b[0m\u001b[1;33m:\u001b[0m\u001b[1;33m\u001b[0m\u001b[1;33m\u001b[0m\u001b[0m\n",
      "\u001b[1;32mpandas\\_libs\\index.pyx\u001b[0m in \u001b[0;36mpandas._libs.index.IndexEngine.get_loc\u001b[1;34m()\u001b[0m\n",
      "\u001b[1;32mpandas\\_libs\\index.pyx\u001b[0m in \u001b[0;36mpandas._libs.index.IndexEngine.get_loc\u001b[1;34m()\u001b[0m\n",
      "\u001b[1;32mpandas\\_libs\\hashtable_class_helper.pxi\u001b[0m in \u001b[0;36mpandas._libs.hashtable.PyObjectHashTable.get_item\u001b[1;34m()\u001b[0m\n",
      "\u001b[1;32mpandas\\_libs\\hashtable_class_helper.pxi\u001b[0m in \u001b[0;36mpandas._libs.hashtable.PyObjectHashTable.get_item\u001b[1;34m()\u001b[0m\n",
      "\u001b[1;31mKeyError\u001b[0m: 'deep_learning_sentiment_prob'",
      "\nThe above exception was the direct cause of the following exception:\n",
      "\u001b[1;31mKeyError\u001b[0m                                  Traceback (most recent call last)",
      "\u001b[1;32m<ipython-input-38-aa16ddee6719>\u001b[0m in \u001b[0;36m<module>\u001b[1;34m\u001b[0m\n\u001b[0;32m      2\u001b[0m \u001b[0mdf\u001b[0m\u001b[1;33m[\u001b[0m\u001b[1;34m'Logistic Regression Sentiment'\u001b[0m\u001b[1;33m]\u001b[0m \u001b[1;33m=\u001b[0m \u001b[0mdf\u001b[0m\u001b[1;33m[\u001b[0m\u001b[1;34m'sentiment_prob'\u001b[0m\u001b[1;33m]\u001b[0m\u001b[1;33m.\u001b[0m\u001b[0mapply\u001b[0m\u001b[1;33m(\u001b[0m\u001b[1;32mlambda\u001b[0m \u001b[0mx\u001b[0m\u001b[1;33m:\u001b[0m \u001b[1;34m\"positive\"\u001b[0m \u001b[1;32mif\u001b[0m \u001b[0mx\u001b[0m\u001b[1;33m>\u001b[0m\u001b[1;36m0.5\u001b[0m \u001b[1;32melse\u001b[0m \u001b[1;34m\"negative\"\u001b[0m\u001b[1;33m)\u001b[0m\u001b[1;33m\u001b[0m\u001b[1;33m\u001b[0m\u001b[0m\n\u001b[0;32m      3\u001b[0m \u001b[0mdf\u001b[0m\u001b[1;33m[\u001b[0m\u001b[1;34m'Stock Price Change'\u001b[0m\u001b[1;33m]\u001b[0m \u001b[1;33m=\u001b[0m \u001b[0mdf\u001b[0m\u001b[1;33m[\u001b[0m\u001b[1;34m'% Change in Stock Price Per Day'\u001b[0m\u001b[1;33m]\u001b[0m\u001b[1;33m.\u001b[0m\u001b[0mapply\u001b[0m\u001b[1;33m(\u001b[0m\u001b[1;32mlambda\u001b[0m \u001b[0mx\u001b[0m\u001b[1;33m:\u001b[0m \u001b[1;34m\"positive\"\u001b[0m \u001b[1;32mif\u001b[0m \u001b[0mx\u001b[0m\u001b[1;33m>\u001b[0m\u001b[1;36m0\u001b[0m \u001b[1;32melse\u001b[0m \u001b[1;34m\"negative\"\u001b[0m\u001b[1;33m)\u001b[0m\u001b[1;33m\u001b[0m\u001b[1;33m\u001b[0m\u001b[0m\n\u001b[1;32m----> 4\u001b[1;33m \u001b[0mdf\u001b[0m\u001b[1;33m[\u001b[0m\u001b[1;34m'deep_learning_sentiment_prob'\u001b[0m\u001b[1;33m]\u001b[0m \u001b[1;33m=\u001b[0m \u001b[0mdf\u001b[0m\u001b[1;33m[\u001b[0m\u001b[1;34m'deep_learning_sentiment_prob'\u001b[0m\u001b[1;33m]\u001b[0m\u001b[1;33m.\u001b[0m\u001b[0mapply\u001b[0m\u001b[1;33m(\u001b[0m\u001b[1;32mlambda\u001b[0m \u001b[0mx\u001b[0m\u001b[1;33m:\u001b[0m \u001b[1;34m\"positive\"\u001b[0m \u001b[1;32mif\u001b[0m \u001b[0mx\u001b[0m\u001b[1;33m>\u001b[0m\u001b[1;36m0.5\u001b[0m \u001b[1;32melse\u001b[0m \u001b[1;34m\"negative\"\u001b[0m\u001b[1;33m)\u001b[0m\u001b[1;33m\u001b[0m\u001b[1;33m\u001b[0m\u001b[0m\n\u001b[0m\u001b[0;32m      5\u001b[0m \u001b[0mdf\u001b[0m\u001b[1;33m.\u001b[0m\u001b[0mhead\u001b[0m\u001b[1;33m(\u001b[0m\u001b[1;33m)\u001b[0m\u001b[1;33m\u001b[0m\u001b[1;33m\u001b[0m\u001b[0m\n",
      "\u001b[1;32m~\\Anaconda3\\lib\\site-packages\\pandas\\core\\frame.py\u001b[0m in \u001b[0;36m__getitem__\u001b[1;34m(self, key)\u001b[0m\n\u001b[0;32m   2900\u001b[0m             \u001b[1;32mif\u001b[0m \u001b[0mself\u001b[0m\u001b[1;33m.\u001b[0m\u001b[0mcolumns\u001b[0m\u001b[1;33m.\u001b[0m\u001b[0mnlevels\u001b[0m \u001b[1;33m>\u001b[0m \u001b[1;36m1\u001b[0m\u001b[1;33m:\u001b[0m\u001b[1;33m\u001b[0m\u001b[1;33m\u001b[0m\u001b[0m\n\u001b[0;32m   2901\u001b[0m                 \u001b[1;32mreturn\u001b[0m \u001b[0mself\u001b[0m\u001b[1;33m.\u001b[0m\u001b[0m_getitem_multilevel\u001b[0m\u001b[1;33m(\u001b[0m\u001b[0mkey\u001b[0m\u001b[1;33m)\u001b[0m\u001b[1;33m\u001b[0m\u001b[1;33m\u001b[0m\u001b[0m\n\u001b[1;32m-> 2902\u001b[1;33m             \u001b[0mindexer\u001b[0m \u001b[1;33m=\u001b[0m \u001b[0mself\u001b[0m\u001b[1;33m.\u001b[0m\u001b[0mcolumns\u001b[0m\u001b[1;33m.\u001b[0m\u001b[0mget_loc\u001b[0m\u001b[1;33m(\u001b[0m\u001b[0mkey\u001b[0m\u001b[1;33m)\u001b[0m\u001b[1;33m\u001b[0m\u001b[1;33m\u001b[0m\u001b[0m\n\u001b[0m\u001b[0;32m   2903\u001b[0m             \u001b[1;32mif\u001b[0m \u001b[0mis_integer\u001b[0m\u001b[1;33m(\u001b[0m\u001b[0mindexer\u001b[0m\u001b[1;33m)\u001b[0m\u001b[1;33m:\u001b[0m\u001b[1;33m\u001b[0m\u001b[1;33m\u001b[0m\u001b[0m\n\u001b[0;32m   2904\u001b[0m                 \u001b[0mindexer\u001b[0m \u001b[1;33m=\u001b[0m \u001b[1;33m[\u001b[0m\u001b[0mindexer\u001b[0m\u001b[1;33m]\u001b[0m\u001b[1;33m\u001b[0m\u001b[1;33m\u001b[0m\u001b[0m\n",
      "\u001b[1;32m~\\Anaconda3\\lib\\site-packages\\pandas\\core\\indexes\\base.py\u001b[0m in \u001b[0;36mget_loc\u001b[1;34m(self, key, method, tolerance)\u001b[0m\n\u001b[0;32m   2895\u001b[0m                 \u001b[1;32mreturn\u001b[0m \u001b[0mself\u001b[0m\u001b[1;33m.\u001b[0m\u001b[0m_engine\u001b[0m\u001b[1;33m.\u001b[0m\u001b[0mget_loc\u001b[0m\u001b[1;33m(\u001b[0m\u001b[0mcasted_key\u001b[0m\u001b[1;33m)\u001b[0m\u001b[1;33m\u001b[0m\u001b[1;33m\u001b[0m\u001b[0m\n\u001b[0;32m   2896\u001b[0m             \u001b[1;32mexcept\u001b[0m \u001b[0mKeyError\u001b[0m \u001b[1;32mas\u001b[0m \u001b[0merr\u001b[0m\u001b[1;33m:\u001b[0m\u001b[1;33m\u001b[0m\u001b[1;33m\u001b[0m\u001b[0m\n\u001b[1;32m-> 2897\u001b[1;33m                 \u001b[1;32mraise\u001b[0m \u001b[0mKeyError\u001b[0m\u001b[1;33m(\u001b[0m\u001b[0mkey\u001b[0m\u001b[1;33m)\u001b[0m \u001b[1;32mfrom\u001b[0m \u001b[0merr\u001b[0m\u001b[1;33m\u001b[0m\u001b[1;33m\u001b[0m\u001b[0m\n\u001b[0m\u001b[0;32m   2898\u001b[0m \u001b[1;33m\u001b[0m\u001b[0m\n\u001b[0;32m   2899\u001b[0m         \u001b[1;32mif\u001b[0m \u001b[0mtolerance\u001b[0m \u001b[1;32mis\u001b[0m \u001b[1;32mnot\u001b[0m \u001b[1;32mNone\u001b[0m\u001b[1;33m:\u001b[0m\u001b[1;33m\u001b[0m\u001b[1;33m\u001b[0m\u001b[0m\n",
      "\u001b[1;31mKeyError\u001b[0m: 'deep_learning_sentiment_prob'"
     ]
    }
   ],
   "source": [
    "df['Vader Sentiment'] = df['Vader Sentiment Score'].apply(lambda x: \"positive\" if x>0 else \"negative\")\n",
    "df['Logistic Regression Sentiment'] = df['sentiment_prob'].apply(lambda x: \"positive\" if x>0.5 else \"negative\")\n",
    "df['Stock Price Change'] = df['% Change in Stock Price Per Day'].apply(lambda x: \"positive\" if x>0 else \"negative\")\n",
    "df['deep_learning_sentiment_prob'] = df['deep_learning_sentiment_prob'].apply(lambda x: \"positive\" if x>0.5 else \"negative\")\n",
    "df.head()"
   ]
  },
  {
   "cell_type": "code",
   "execution_count": 57,
   "metadata": {
    "colab": {
     "base_uri": "https://localhost:8080/",
     "height": 203
    },
    "id": "YhAx8iILspiK",
    "outputId": "c60203f1-60c1-4f23-cf37-57714b6d3f90"
   },
   "outputs": [
    {
     "data": {
      "text/html": [
       "<div>\n",
       "<style scoped>\n",
       "    .dataframe tbody tr th:only-of-type {\n",
       "        vertical-align: middle;\n",
       "    }\n",
       "\n",
       "    .dataframe tbody tr th {\n",
       "        vertical-align: top;\n",
       "    }\n",
       "\n",
       "    .dataframe thead th {\n",
       "        text-align: right;\n",
       "    }\n",
       "</style>\n",
       "<table border=\"1\" class=\"dataframe\">\n",
       "  <thead>\n",
       "    <tr style=\"text-align: right;\">\n",
       "      <th></th>\n",
       "      <th>Date</th>\n",
       "      <th>Header</th>\n",
       "      <th>Stock Price Change</th>\n",
       "      <th>Vader Sentiment</th>\n",
       "      <th>Logistic Regression Sentiment</th>\n",
       "      <th>deep_learning_sentiment_prob</th>\n",
       "    </tr>\n",
       "  </thead>\n",
       "  <tbody>\n",
       "    <tr>\n",
       "      <th>0</th>\n",
       "      <td>2020-05-01</td>\n",
       "      <td>Amazon extends work from home regime till October 2</td>\n",
       "      <td>negative</td>\n",
       "      <td>positive</td>\n",
       "      <td>negative</td>\n",
       "      <td>positive</td>\n",
       "    </tr>\n",
       "    <tr>\n",
       "      <th>1</th>\n",
       "      <td>2020-05-04</td>\n",
       "      <td>Amazon plans to extend closure of French warehouses until May 8</td>\n",
       "      <td>negative</td>\n",
       "      <td>positive</td>\n",
       "      <td>negative</td>\n",
       "      <td>negative</td>\n",
       "    </tr>\n",
       "    <tr>\n",
       "      <th>2</th>\n",
       "      <td>2020-05-07</td>\n",
       "      <td>Stay-at-home stocks Amazon, Microsoft lift Nasdaq into gain for 2020</td>\n",
       "      <td>positive</td>\n",
       "      <td>positive</td>\n",
       "      <td>negative</td>\n",
       "      <td>negative</td>\n",
       "    </tr>\n",
       "    <tr>\n",
       "      <th>3</th>\n",
       "      <td>2020-05-13</td>\n",
       "      <td>Amazon launches three new models of Fire tablet</td>\n",
       "      <td>negative</td>\n",
       "      <td>negative</td>\n",
       "      <td>positive</td>\n",
       "      <td>negative</td>\n",
       "    </tr>\n",
       "    <tr>\n",
       "      <th>4</th>\n",
       "      <td>2020-05-21</td>\n",
       "      <td>Amazon pushes Prime Day to September as it returns to normalcy: WSJ</td>\n",
       "      <td>positive</td>\n",
       "      <td>positive</td>\n",
       "      <td>positive</td>\n",
       "      <td>negative</td>\n",
       "    </tr>\n",
       "  </tbody>\n",
       "</table>\n",
       "</div>"
      ],
      "text/plain": [
       "        Date  ... deep_learning_sentiment_prob\n",
       "0 2020-05-01  ...  positive                   \n",
       "1 2020-05-04  ...  negative                   \n",
       "2 2020-05-07  ...  negative                   \n",
       "3 2020-05-13  ...  negative                   \n",
       "4 2020-05-21  ...  negative                   \n",
       "\n",
       "[5 rows x 6 columns]"
      ]
     },
     "execution_count": 57,
     "metadata": {
      "tags": []
     },
     "output_type": "execute_result"
    }
   ],
   "source": [
    "columns = ['Date','Header','Stock Price Change', 'Vader Sentiment', 'Logistic Regression Sentiment','deep_learning_sentiment_prob']\n",
    "df_summary = df[columns]\n",
    "df_summary.head()"
   ]
  },
  {
   "cell_type": "code",
   "execution_count": null,
   "metadata": {
    "id": "kyqNSvXHspiL"
   },
   "outputs": [],
   "source": []
  },
  {
   "cell_type": "code",
   "execution_count": null,
   "metadata": {
    "id": "UjOxW7bJspiL"
   },
   "outputs": [],
   "source": []
  }
 ],
 "metadata": {
  "accelerator": "GPU",
  "colab": {
   "collapsed_sections": [],
   "name": "Amazon.ipynb",
   "provenance": []
  },
  "kernelspec": {
   "display_name": "Python 3",
   "language": "python",
   "name": "python3"
  },
  "language_info": {
   "codemirror_mode": {
    "name": "ipython",
    "version": 3
   },
   "file_extension": ".py",
   "mimetype": "text/x-python",
   "name": "python",
   "nbconvert_exporter": "python",
   "pygments_lexer": "ipython3",
   "version": "3.7.9"
  }
 },
 "nbformat": 4,
 "nbformat_minor": 1
}
