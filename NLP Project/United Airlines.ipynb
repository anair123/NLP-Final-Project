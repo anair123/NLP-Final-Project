{
 "cells": [
  {
   "cell_type": "code",
   "execution_count": 19,
   "metadata": {},
   "outputs": [],
   "source": [
    "import requests\n",
    "from bs4 import BeautifulSoup\n",
    "import pandas as pd\n",
    "from datetime import datetime\n",
    "\n",
    "import dateutil.parser"
   ]
  },
  {
   "cell_type": "code",
   "execution_count": 20,
   "metadata": {},
   "outputs": [],
   "source": [
    "# dictionary of text dates and links (March 2017 - June 2017)\n",
    "\n",
    "# Febuary 12, 2017\n",
    "url1 = 'https://www.reuters.com/article/us-airlines-united-pilot-idUSKBN15R0RC'\n",
    "\n",
    "# MARCH 7, 2017\n",
    "url2 = 'https://www.reuters.com/article/us-united-airlines-idUSKBN16E2P2'\n",
    "\n",
    "#MARCH 26, 2017\n",
    "url3 = 'https://www.reuters.com/article/us-unitedairlines-leggings-idUSKBN16X13G'\n",
    "\n",
    "# April 7, 2017\n",
    "url4 = 'https://www.reuters.com/article/us-usair-united-idUSTRE6365PN20100408'\n",
    "\n",
    "# April 11, 2017\n",
    "url5 = 'https://www.reuters.com/article/us-ual-passenger-shares-idUSKBN17D1L7'\n",
    "\n",
    "# April 14, 2017\n",
    "url6 = 'https://www.reuters.com/article/us-ual-scorpion-idUSKBN17G1EQ'\n",
    "\n",
    "# APRIL 17, 2017\n",
    "url7 = 'https://www.reuters.com/article/us-ual-passenger-couple-idUSKBN17J05Q'\n",
    "\n",
    "# April 27, 2017\n",
    "url8 = 'https://www.reuters.com/article/us-ual-passenger-idUSKBN17T2WM'\n",
    "\n",
    "# May 2, 2017\n",
    "url9 = 'https://www.reuters.com/article/us-ual-passenger-ceo-idUSKBN17Y1J8'\n",
    "\n",
    "#MAY 4, 2017\n",
    "url10 = 'https://www.reuters.com/article/ual-passenger-idUSL1N1I51WE'\n",
    "\n",
    "\n",
    "#MAY 30, 2017\n",
    "url11 = 'https://www.reuters.com/article/us-united-fine-idUSKBN18Q2EQ'\n",
    "\n",
    "# June 3, 2017\n",
    "url12 = 'https://www.reuters.com/article/us-venezuela-airlines-united-idUSKBN18U0TL'\n",
    "\n",
    "\n",
    "\n",
    "url_dict = {'2017-02-12':url1,\n",
    "            '2017-03-07':url2,\n",
    "            '2017-03-26':url3,\n",
    "            '2017-04-07':url4,\n",
    "            '2017-04-11':url5,\n",
    "            '2017-04-14':url6,\n",
    "            '2017-04-17':url7,\n",
    "            '2017-04-27':url8,\n",
    "            '2017-05-02':url9,\n",
    "            '2017-05-04':url10,\n",
    "            '2017-05-30':url11,\n",
    "            '2017-06-03':url12,\n",
    "           }\n"
   ]
  },
  {
   "cell_type": "code",
   "execution_count": 21,
   "metadata": {},
   "outputs": [],
   "source": [
    "# extract info from each website and store it in dataframe\n",
    "df_text = pd.DataFrame(columns = ['Date','Header','Text'])\n",
    "header = []\n",
    "text = []\n",
    "date = []\n",
    "for key in url_dict:\n",
    "    page = requests.get(url_dict[key]).text\n",
    "    soup = BeautifulSoup(page, 'html.parser')\n",
    "    date.append(datetime.strptime(key, '%Y-%m-%d').date())\n",
    "    url_header = soup.find('h1').text\n",
    "    header.append(url_header)\n",
    "    url_text = soup.find('div', class_ ='ArticleBodyWrapper')\n",
    "    url_text = url_text.text\n",
    "    text.append(url_text)\n",
    "df_text['Date']=date\n",
    "df_text['Header']=header\n",
    "df_text['Text']=text\n",
    "\n",
    "# remove the author and \"min read\" sections\n",
    "df_text_temp = [] \n",
    "for text in df_text['Text']:\n",
    "    loc = text.find('(Reuters)')\n",
    "    df_text_temp.append(text[loc+9:])\n",
    "df_text['Text'] = df_text_temp\n",
    "\n",
    "\n"
   ]
  },
  {
   "cell_type": "code",
   "execution_count": 22,
   "metadata": {},
   "outputs": [
    {
     "data": {
      "text/plain": [
       "Date      datetime64[ns]\n",
       "Header            object\n",
       "Text              object\n",
       "dtype: object"
      ]
     },
     "execution_count": 22,
     "metadata": {},
     "output_type": "execute_result"
    }
   ],
   "source": [
    "df_text['Date'] = df_text['Date'].apply(lambda x: pd.to_datetime(x))\n",
    "df_text.dtypes"
   ]
  },
  {
   "cell_type": "code",
   "execution_count": 23,
   "metadata": {},
   "outputs": [
    {
     "data": {
      "text/plain": [
       "Date      datetime64[ns]\n",
       "Open             float64\n",
       "Volume             int64\n",
       "dtype: object"
      ]
     },
     "execution_count": 23,
     "metadata": {},
     "output_type": "execute_result"
    }
   ],
   "source": [
    "# import stock data of netflix\n",
    "df_stock = pd.read_csv('UAL.csv', header=0)\n",
    "\n",
    "df_stock['Date']=df_stock['Date'].apply(lambda x: datetime.strptime(x, '%Y-%m-%d'))\n",
    "\n",
    "\n",
    "df_stock = df_stock.drop(['High','Low','Close','Adj Close'], axis=1)\n",
    "df_stock.dtypes"
   ]
  },
  {
   "cell_type": "code",
   "execution_count": 24,
   "metadata": {},
   "outputs": [],
   "source": [
    "# Merge two dataframes\n",
    "df = pd.merge(df_text, df_stock, how='inner', on='Date')\n",
    "df = df.sort_values('Date')"
   ]
  },
  {
   "cell_type": "code",
   "execution_count": 25,
   "metadata": {},
   "outputs": [
    {
     "data": {
      "text/html": [
       "<div>\n",
       "<style scoped>\n",
       "    .dataframe tbody tr th:only-of-type {\n",
       "        vertical-align: middle;\n",
       "    }\n",
       "\n",
       "    .dataframe tbody tr th {\n",
       "        vertical-align: top;\n",
       "    }\n",
       "\n",
       "    .dataframe thead th {\n",
       "        text-align: right;\n",
       "    }\n",
       "</style>\n",
       "<table border=\"1\" class=\"dataframe\">\n",
       "  <thead>\n",
       "    <tr style=\"text-align: right;\">\n",
       "      <th></th>\n",
       "      <th>Date</th>\n",
       "      <th>Header</th>\n",
       "      <th>Text</th>\n",
       "      <th>Open</th>\n",
       "      <th>Volume</th>\n",
       "      <th>% Change in Stock Price</th>\n",
       "      <th>% Change in Volume</th>\n",
       "    </tr>\n",
       "  </thead>\n",
       "  <tbody>\n",
       "    <tr>\n",
       "      <th>0</th>\n",
       "      <td>2017-03-07</td>\n",
       "      <td>United looking at second-hand aircraft, rules ...</td>\n",
       "      <td>- United Continental Holdings UAKL.N is inter...</td>\n",
       "      <td>72.690002</td>\n",
       "      <td>3764000</td>\n",
       "      <td>NaN</td>\n",
       "      <td>NaN</td>\n",
       "    </tr>\n",
       "    <tr>\n",
       "      <th>1</th>\n",
       "      <td>2017-04-07</td>\n",
       "      <td>UAL pilots attack U.S. Airways merger prospect</td>\n",
       "      <td>- United Airlines' pilots union lashed out ag...</td>\n",
       "      <td>69.970001</td>\n",
       "      <td>2471100</td>\n",
       "      <td>-3.741919</td>\n",
       "      <td>-34.349097</td>\n",
       "    </tr>\n",
       "    <tr>\n",
       "      <th>2</th>\n",
       "      <td>2017-04-11</td>\n",
       "      <td>United Airlines faces mounting pressure over h...</td>\n",
       "      <td>- United Airlines UAL.N and its chief executi...</td>\n",
       "      <td>70.150002</td>\n",
       "      <td>17696500</td>\n",
       "      <td>0.257255</td>\n",
       "      <td>616.138562</td>\n",
       "    </tr>\n",
       "    <tr>\n",
       "      <th>3</th>\n",
       "      <td>2017-04-17</td>\n",
       "      <td>United Air removes couple traveling to wedding...</td>\n",
       "      <td>- An engaged couple were removed from a Unite...</td>\n",
       "      <td>69.510002</td>\n",
       "      <td>4761900</td>\n",
       "      <td>-0.912331</td>\n",
       "      <td>-73.091289</td>\n",
       "    </tr>\n",
       "    <tr>\n",
       "      <th>4</th>\n",
       "      <td>2017-04-27</td>\n",
       "      <td>United Airlines reaches settlement with passen...</td>\n",
       "      <td>- United Airlines UAL.N and the passenger who...</td>\n",
       "      <td>69.769997</td>\n",
       "      <td>5512200</td>\n",
       "      <td>0.374040</td>\n",
       "      <td>15.756316</td>\n",
       "    </tr>\n",
       "  </tbody>\n",
       "</table>\n",
       "</div>"
      ],
      "text/plain": [
       "        Date                                             Header  \\\n",
       "0 2017-03-07  United looking at second-hand aircraft, rules ...   \n",
       "1 2017-04-07     UAL pilots attack U.S. Airways merger prospect   \n",
       "2 2017-04-11  United Airlines faces mounting pressure over h...   \n",
       "3 2017-04-17  United Air removes couple traveling to wedding...   \n",
       "4 2017-04-27  United Airlines reaches settlement with passen...   \n",
       "\n",
       "                                                Text       Open    Volume  \\\n",
       "0   - United Continental Holdings UAKL.N is inter...  72.690002   3764000   \n",
       "1   - United Airlines' pilots union lashed out ag...  69.970001   2471100   \n",
       "2   - United Airlines UAL.N and its chief executi...  70.150002  17696500   \n",
       "3   - An engaged couple were removed from a Unite...  69.510002   4761900   \n",
       "4   - United Airlines UAL.N and the passenger who...  69.769997   5512200   \n",
       "\n",
       "   % Change in Stock Price  % Change in Volume  \n",
       "0                      NaN                 NaN  \n",
       "1                -3.741919          -34.349097  \n",
       "2                 0.257255          616.138562  \n",
       "3                -0.912331          -73.091289  \n",
       "4                 0.374040           15.756316  "
      ]
     },
     "execution_count": 25,
     "metadata": {},
     "output_type": "execute_result"
    }
   ],
   "source": [
    "# show % change in stock price after news article publish\n",
    "pct_stock = df['Open'].pct_change()*100\n",
    "df['% Change in Stock Price'] = pct_stock\n",
    "pct_volume = df['Volume'].pct_change()*100\n",
    "df['% Change in Volume'] = pct_volume\n",
    "df.head()"
   ]
  },
  {
   "cell_type": "markdown",
   "metadata": {},
   "source": [
    "# Processing the text\n"
   ]
  },
  {
   "cell_type": "markdown",
   "metadata": {},
   "source": [
    "## import spacy libraries\n",
    "import spacy\n",
    "import en_core_web_sm\n",
    "from  spacy.lang.en.stop_words import STOP_WORDS\n",
    "nlp = spacy.load('en_core_web_sm')"
   ]
  },
  {
   "cell_type": "code",
   "execution_count": 26,
   "metadata": {},
   "outputs": [],
   "source": [
    "# import spacy libraries\n",
    "import spacy\n",
    "import en_core_web_sm\n",
    "from  spacy.lang.en.stop_words import STOP_WORDS\n",
    "nlp = spacy.load('en_core_web_sm')"
   ]
  },
  {
   "cell_type": "code",
   "execution_count": 27,
   "metadata": {},
   "outputs": [],
   "source": [
    "\n",
    "text_nlp = nlp(df['Text'][1]) \n",
    "# Remove stop words\n",
    "text_nlp_clean = [word for word in text_nlp if word.is_stop == False]\n",
    "# Lemmatize words\n",
    "text_nlp_clean = [word.lemma_ for word in text_nlp_clean]"
   ]
  },
  {
   "cell_type": "code",
   "execution_count": 28,
   "metadata": {},
   "outputs": [
    {
     "data": {
      "text/html": [
       "<div>\n",
       "<style scoped>\n",
       "    .dataframe tbody tr th:only-of-type {\n",
       "        vertical-align: middle;\n",
       "    }\n",
       "\n",
       "    .dataframe tbody tr th {\n",
       "        vertical-align: top;\n",
       "    }\n",
       "\n",
       "    .dataframe thead th {\n",
       "        text-align: right;\n",
       "    }\n",
       "</style>\n",
       "<table border=\"1\" class=\"dataframe\">\n",
       "  <thead>\n",
       "    <tr style=\"text-align: right;\">\n",
       "      <th></th>\n",
       "      <th>Date</th>\n",
       "      <th>Header</th>\n",
       "      <th>Text</th>\n",
       "      <th>Open</th>\n",
       "      <th>Volume</th>\n",
       "      <th>% Change in Stock Price</th>\n",
       "      <th>% Change in Volume</th>\n",
       "      <th>Text (clean)</th>\n",
       "    </tr>\n",
       "  </thead>\n",
       "  <tbody>\n",
       "    <tr>\n",
       "      <th>0</th>\n",
       "      <td>2017-03-07</td>\n",
       "      <td>United looking at second-hand aircraft, rules ...</td>\n",
       "      <td>- United Continental Holdings UAKL.N is inter...</td>\n",
       "      <td>72.690002</td>\n",
       "      <td>3764000</td>\n",
       "      <td>NaN</td>\n",
       "      <td>NaN</td>\n",
       "      <td>United Continental Holdings UAKL.N interested ...</td>\n",
       "    </tr>\n",
       "    <tr>\n",
       "      <th>1</th>\n",
       "      <td>2017-04-07</td>\n",
       "      <td>UAL pilots attack U.S. Airways merger prospect</td>\n",
       "      <td>- United Airlines' pilots union lashed out ag...</td>\n",
       "      <td>69.970001</td>\n",
       "      <td>2471100</td>\n",
       "      <td>-3.741919</td>\n",
       "      <td>-34.349097</td>\n",
       "      <td>United Airlines pilot union lash effort merge ...</td>\n",
       "    </tr>\n",
       "    <tr>\n",
       "      <th>2</th>\n",
       "      <td>2017-04-11</td>\n",
       "      <td>United Airlines faces mounting pressure over h...</td>\n",
       "      <td>- United Airlines UAL.N and its chief executi...</td>\n",
       "      <td>70.150002</td>\n",
       "      <td>17696500</td>\n",
       "      <td>0.257255</td>\n",
       "      <td>616.138562</td>\n",
       "      <td>United Airlines UAL.N chief executive face mou...</td>\n",
       "    </tr>\n",
       "    <tr>\n",
       "      <th>3</th>\n",
       "      <td>2017-04-17</td>\n",
       "      <td>United Air removes couple traveling to wedding...</td>\n",
       "      <td>- An engaged couple were removed from a Unite...</td>\n",
       "      <td>69.510002</td>\n",
       "      <td>4761900</td>\n",
       "      <td>-0.912331</td>\n",
       "      <td>-73.091289</td>\n",
       "      <td>engage couple remove United Airlines flight Co...</td>\n",
       "    </tr>\n",
       "    <tr>\n",
       "      <th>4</th>\n",
       "      <td>2017-04-27</td>\n",
       "      <td>United Airlines reaches settlement with passen...</td>\n",
       "      <td>- United Airlines UAL.N and the passenger who...</td>\n",
       "      <td>69.769997</td>\n",
       "      <td>5512200</td>\n",
       "      <td>0.374040</td>\n",
       "      <td>15.756316</td>\n",
       "      <td>United Airlines UAL.N passenger drag Chicago f...</td>\n",
       "    </tr>\n",
       "  </tbody>\n",
       "</table>\n",
       "</div>"
      ],
      "text/plain": [
       "        Date                                             Header  \\\n",
       "0 2017-03-07  United looking at second-hand aircraft, rules ...   \n",
       "1 2017-04-07     UAL pilots attack U.S. Airways merger prospect   \n",
       "2 2017-04-11  United Airlines faces mounting pressure over h...   \n",
       "3 2017-04-17  United Air removes couple traveling to wedding...   \n",
       "4 2017-04-27  United Airlines reaches settlement with passen...   \n",
       "\n",
       "                                                Text       Open    Volume  \\\n",
       "0   - United Continental Holdings UAKL.N is inter...  72.690002   3764000   \n",
       "1   - United Airlines' pilots union lashed out ag...  69.970001   2471100   \n",
       "2   - United Airlines UAL.N and its chief executi...  70.150002  17696500   \n",
       "3   - An engaged couple were removed from a Unite...  69.510002   4761900   \n",
       "4   - United Airlines UAL.N and the passenger who...  69.769997   5512200   \n",
       "\n",
       "   % Change in Stock Price  % Change in Volume  \\\n",
       "0                      NaN                 NaN   \n",
       "1                -3.741919          -34.349097   \n",
       "2                 0.257255          616.138562   \n",
       "3                -0.912331          -73.091289   \n",
       "4                 0.374040           15.756316   \n",
       "\n",
       "                                        Text (clean)  \n",
       "0  United Continental Holdings UAKL.N interested ...  \n",
       "1  United Airlines pilot union lash effort merge ...  \n",
       "2  United Airlines UAL.N chief executive face mou...  \n",
       "3  engage couple remove United Airlines flight Co...  \n",
       "4  United Airlines UAL.N passenger drag Chicago f...  "
      ]
     },
     "execution_count": 28,
     "metadata": {},
     "output_type": "execute_result"
    }
   ],
   "source": [
    "text_clean = []\n",
    "for ind, row in df.iterrows():\n",
    "    \n",
    "    # lower casing\n",
    "    text_lower = row['Text'].lower()\n",
    "    \n",
    "    # tokenization\n",
    "    text_nlp = nlp(row['Text']) \n",
    "    \n",
    "    # remove punctuation and empty space\n",
    "    text_nlp_clean = [word for word in text_nlp if not word.is_punct | word.is_space]\n",
    "    \n",
    "    # Remove stop words\n",
    "    text_nlp_clean = [word for word in text_nlp_clean if word.is_stop == False]\n",
    "    \n",
    "    # Lemmatize tokens\n",
    "    text_nlp_clean = [word.lemma_ for word in text_nlp_clean]\n",
    "    \n",
    "    # add preprocessed text to list\n",
    "    text_clean.append(text_nlp_clean)\n",
    "\n",
    "# turn list of words to string\n",
    "def to_string(list1):\n",
    "    sentence = \"\"\n",
    "    \n",
    "    \n",
    "    # traverse in the string   \n",
    "    for word in list1:  \n",
    "        sentence += str(word) \n",
    "    \n",
    "    # return string   \n",
    "    return sentence\n",
    "\n",
    "# turn list of strings to string\n",
    "to_string = []\n",
    "for text in text_clean:\n",
    "    to_string.append(' '.join(text))\n",
    "\n",
    "\n",
    "df['Text (clean)'] = to_string\n",
    "df.head()"
   ]
  },
  {
   "cell_type": "markdown",
   "metadata": {},
   "source": [
    "# Using a Pretrained Model "
   ]
  },
  {
   "cell_type": "code",
   "execution_count": 29,
   "metadata": {},
   "outputs": [],
   "source": [
    "from nltk.sentiment import SentimentIntensityAnalyzer"
   ]
  },
  {
   "cell_type": "code",
   "execution_count": 30,
   "metadata": {},
   "outputs": [],
   "source": [
    "# a function to return sentiment score\n",
    "def polarity_score(text):\n",
    "    sid = SentimentIntensityAnalyzer()\n",
    "    return sid.polarity_scores(text)['compound']\n",
    "\n",
    "vader_score = []\n",
    "for text in df['Text (clean)']:\n",
    "    score = polarity_score(text)\n",
    "    vader_score.append(score)\n",
    "\n",
    "df['Vader Sentiment Score'] = vader_score"
   ]
  },
  {
   "cell_type": "code",
   "execution_count": 31,
   "metadata": {},
   "outputs": [
    {
     "data": {
      "text/html": [
       "<div>\n",
       "<style scoped>\n",
       "    .dataframe tbody tr th:only-of-type {\n",
       "        vertical-align: middle;\n",
       "    }\n",
       "\n",
       "    .dataframe tbody tr th {\n",
       "        vertical-align: top;\n",
       "    }\n",
       "\n",
       "    .dataframe thead th {\n",
       "        text-align: right;\n",
       "    }\n",
       "</style>\n",
       "<table border=\"1\" class=\"dataframe\">\n",
       "  <thead>\n",
       "    <tr style=\"text-align: right;\">\n",
       "      <th></th>\n",
       "      <th>Date</th>\n",
       "      <th>Header</th>\n",
       "      <th>Text</th>\n",
       "      <th>Open</th>\n",
       "      <th>Volume</th>\n",
       "      <th>% Change in Stock Price</th>\n",
       "      <th>% Change in Volume</th>\n",
       "      <th>Text (clean)</th>\n",
       "      <th>Vader Sentiment Score</th>\n",
       "    </tr>\n",
       "  </thead>\n",
       "  <tbody>\n",
       "    <tr>\n",
       "      <th>0</th>\n",
       "      <td>2017-03-07</td>\n",
       "      <td>United looking at second-hand aircraft, rules ...</td>\n",
       "      <td>- United Continental Holdings UAKL.N is inter...</td>\n",
       "      <td>72.690002</td>\n",
       "      <td>3764000</td>\n",
       "      <td>NaN</td>\n",
       "      <td>NaN</td>\n",
       "      <td>United Continental Holdings UAKL.N interested ...</td>\n",
       "      <td>0.9485</td>\n",
       "    </tr>\n",
       "    <tr>\n",
       "      <th>1</th>\n",
       "      <td>2017-04-07</td>\n",
       "      <td>UAL pilots attack U.S. Airways merger prospect</td>\n",
       "      <td>- United Airlines' pilots union lashed out ag...</td>\n",
       "      <td>69.970001</td>\n",
       "      <td>2471100</td>\n",
       "      <td>-3.741919</td>\n",
       "      <td>-34.349097</td>\n",
       "      <td>United Airlines pilot union lash effort merge ...</td>\n",
       "      <td>0.9981</td>\n",
       "    </tr>\n",
       "    <tr>\n",
       "      <th>2</th>\n",
       "      <td>2017-04-11</td>\n",
       "      <td>United Airlines faces mounting pressure over h...</td>\n",
       "      <td>- United Airlines UAL.N and its chief executi...</td>\n",
       "      <td>70.150002</td>\n",
       "      <td>17696500</td>\n",
       "      <td>0.257255</td>\n",
       "      <td>616.138562</td>\n",
       "      <td>United Airlines UAL.N chief executive face mou...</td>\n",
       "      <td>0.9877</td>\n",
       "    </tr>\n",
       "    <tr>\n",
       "      <th>3</th>\n",
       "      <td>2017-04-17</td>\n",
       "      <td>United Air removes couple traveling to wedding...</td>\n",
       "      <td>- An engaged couple were removed from a Unite...</td>\n",
       "      <td>69.510002</td>\n",
       "      <td>4761900</td>\n",
       "      <td>-0.912331</td>\n",
       "      <td>-73.091289</td>\n",
       "      <td>engage couple remove United Airlines flight Co...</td>\n",
       "      <td>0.9501</td>\n",
       "    </tr>\n",
       "    <tr>\n",
       "      <th>4</th>\n",
       "      <td>2017-04-27</td>\n",
       "      <td>United Airlines reaches settlement with passen...</td>\n",
       "      <td>- United Airlines UAL.N and the passenger who...</td>\n",
       "      <td>69.769997</td>\n",
       "      <td>5512200</td>\n",
       "      <td>0.374040</td>\n",
       "      <td>15.756316</td>\n",
       "      <td>United Airlines UAL.N passenger drag Chicago f...</td>\n",
       "      <td>0.9136</td>\n",
       "    </tr>\n",
       "  </tbody>\n",
       "</table>\n",
       "</div>"
      ],
      "text/plain": [
       "        Date                                             Header  \\\n",
       "0 2017-03-07  United looking at second-hand aircraft, rules ...   \n",
       "1 2017-04-07     UAL pilots attack U.S. Airways merger prospect   \n",
       "2 2017-04-11  United Airlines faces mounting pressure over h...   \n",
       "3 2017-04-17  United Air removes couple traveling to wedding...   \n",
       "4 2017-04-27  United Airlines reaches settlement with passen...   \n",
       "\n",
       "                                                Text       Open    Volume  \\\n",
       "0   - United Continental Holdings UAKL.N is inter...  72.690002   3764000   \n",
       "1   - United Airlines' pilots union lashed out ag...  69.970001   2471100   \n",
       "2   - United Airlines UAL.N and its chief executi...  70.150002  17696500   \n",
       "3   - An engaged couple were removed from a Unite...  69.510002   4761900   \n",
       "4   - United Airlines UAL.N and the passenger who...  69.769997   5512200   \n",
       "\n",
       "   % Change in Stock Price  % Change in Volume  \\\n",
       "0                      NaN                 NaN   \n",
       "1                -3.741919          -34.349097   \n",
       "2                 0.257255          616.138562   \n",
       "3                -0.912331          -73.091289   \n",
       "4                 0.374040           15.756316   \n",
       "\n",
       "                                        Text (clean)  Vader Sentiment Score  \n",
       "0  United Continental Holdings UAKL.N interested ...                 0.9485  \n",
       "1  United Airlines pilot union lash effort merge ...                 0.9981  \n",
       "2  United Airlines UAL.N chief executive face mou...                 0.9877  \n",
       "3  engage couple remove United Airlines flight Co...                 0.9501  \n",
       "4  United Airlines UAL.N passenger drag Chicago f...                 0.9136  "
      ]
     },
     "execution_count": 31,
     "metadata": {},
     "output_type": "execute_result"
    }
   ],
   "source": [
    "df.head()"
   ]
  },
  {
   "cell_type": "markdown",
   "metadata": {},
   "source": [
    "## Sentiment Analysis"
   ]
  },
  {
   "cell_type": "code",
   "execution_count": 32,
   "metadata": {},
   "outputs": [],
   "source": [
    "# run this cell to import nltk\n",
    "import nltk\n",
    "from os import getcwd\n",
    "import numpy as np\n",
    "import pandas as pd\n",
    "from nltk.corpus import twitter_samples \n",
    "from utils import process_tweet, build_freqs"
   ]
  },
  {
   "cell_type": "code",
   "execution_count": 33,
   "metadata": {},
   "outputs": [
    {
     "name": "stderr",
     "output_type": "stream",
     "text": [
      "[nltk_data] Downloading package twitter_samples to\n",
      "[nltk_data]     C:\\Users\\aashi\\AppData\\Roaming\\nltk_data...\n",
      "[nltk_data]   Package twitter_samples is already up-to-date!\n",
      "[nltk_data] Downloading package stopwords to\n",
      "[nltk_data]     C:\\Users\\aashi\\AppData\\Roaming\\nltk_data...\n",
      "[nltk_data]   Package stopwords is already up-to-date!\n"
     ]
    },
    {
     "data": {
      "text/plain": [
       "True"
      ]
     },
     "execution_count": 33,
     "metadata": {},
     "output_type": "execute_result"
    }
   ],
   "source": [
    "nltk.download('twitter_samples')\n",
    "nltk.download('stopwords')"
   ]
  },
  {
   "cell_type": "code",
   "execution_count": 34,
   "metadata": {},
   "outputs": [],
   "source": [
    "\n",
    "# select the set of positive and negative tweets\n",
    "all_positive_tweets = twitter_samples.strings('positive_tweets.json')\n",
    "all_negative_tweets = twitter_samples.strings('negative_tweets.json')"
   ]
  },
  {
   "cell_type": "code",
   "execution_count": 35,
   "metadata": {},
   "outputs": [],
   "source": [
    "# split the data into two pieces (80-20), one for training and one for testing (validation set)  \n",
    "test_pos = all_positive_tweets[4000:]\n",
    "train_pos = all_positive_tweets[:4000]\n",
    "test_neg = all_negative_tweets[4000:]\n",
    "train_neg = all_negative_tweets[:4000]\n",
    "\n",
    "train_x = train_pos + train_neg \n",
    "test_x = test_pos + test_neg"
   ]
  },
  {
   "cell_type": "code",
   "execution_count": 36,
   "metadata": {},
   "outputs": [],
   "source": [
    "# combine positive and negative labels\n",
    "train_y = np.append(np.ones((len(train_pos), 1)), np.zeros((len(train_neg), 1)), axis=0)\n",
    "test_y = np.append(np.ones((len(test_pos), 1)), np.zeros((len(test_neg), 1)), axis=0)"
   ]
  },
  {
   "cell_type": "code",
   "execution_count": 37,
   "metadata": {},
   "outputs": [
    {
     "name": "stdout",
     "output_type": "stream",
     "text": [
      "train_y.shape = (8000, 1)\n",
      "test_y.shape = (2000, 1)\n"
     ]
    }
   ],
   "source": [
    "# Print the shape train and test sets\n",
    "print(\"train_y.shape = \" + str(train_y.shape))\n",
    "print(\"test_y.shape = \" + str(test_y.shape))"
   ]
  },
  {
   "cell_type": "code",
   "execution_count": 38,
   "metadata": {},
   "outputs": [
    {
     "name": "stdout",
     "output_type": "stream",
     "text": [
      "type(freqs) = <class 'dict'>\n",
      "len(freqs) = 11340\n"
     ]
    }
   ],
   "source": [
    "# create frequency dictionary\n",
    "freqs = build_freqs(train_x, train_y)\n",
    "\n",
    "# check the output\n",
    "print(\"type(freqs) = \" + str(type(freqs)))\n",
    "print(\"len(freqs) = \" + str(len(freqs.keys())))"
   ]
  },
  {
   "cell_type": "code",
   "execution_count": 39,
   "metadata": {},
   "outputs": [],
   "source": [
    "# UNQ_C3 (UNIQUE CELL IDENTIFIER, DO NOT EDIT)\n",
    "def extract_features(tweet, freqs):\n",
    "    '''\n",
    "    Input: \n",
    "        tweet: a list of words for one tweet\n",
    "        freqs: a dictionary corresponding to the frequencies of each tuple (word, label)\n",
    "    Output: \n",
    "        x: a feature vector of dimension (1,3)\n",
    "    '''\n",
    "    # process_tweet tokenizes, stems, and removes stopwords\n",
    "    word_l = process_tweet(tweet)\n",
    "    \n",
    "    # 3 elements in the form of a 1 x 3 vector\n",
    "    x = np.zeros((1, 3)) \n",
    "    \n",
    "    #bias term is set to 1\n",
    "    x[0,0] = 1 \n",
    "    \n",
    "    ### START CODE HERE (REPLACE INSTANCES OF 'None' with your code) ###\n",
    "    \n",
    "    # loop through each word in the list of words\n",
    "    for word in word_l:\n",
    "        \n",
    "        # increment the word count for the positive label 1\n",
    "        \n",
    "        x[0,1] += freqs.get((word,1),0)\n",
    "        \n",
    "        # increment the word count for the negative label 0\n",
    "        x[0,2] += freqs.get((word,0),0)\n",
    "        \n",
    "    ### END CODE HERE ###\n",
    "    assert(x.shape == (1, 3))\n",
    "    return x"
   ]
  },
  {
   "cell_type": "code",
   "execution_count": 40,
   "metadata": {},
   "outputs": [],
   "source": [
    "# collect the features 'x' and stack them into a matrix 'X'\n",
    "X = np.zeros((len(train_x), 3))\n",
    "for i in range(len(train_x)):\n",
    "    X[i, :]= extract_features(train_x[i], freqs)\n",
    "\n",
    "# training labels corresponding to X\n",
    "Y = train_y"
   ]
  },
  {
   "cell_type": "code",
   "execution_count": 41,
   "metadata": {},
   "outputs": [
    {
     "data": {
      "text/plain": [
       "(8000, 1)"
      ]
     },
     "execution_count": 41,
     "metadata": {},
     "output_type": "execute_result"
    }
   ],
   "source": [
    "Y.shape"
   ]
  },
  {
   "cell_type": "code",
   "execution_count": 42,
   "metadata": {},
   "outputs": [],
   "source": [
    "from sklearn.model_selection import GridSearchCV\n",
    "from sklearn.linear_model import LogisticRegression\n",
    "from sklearn import svm\n",
    "from sklearn.pipeline import Pipeline"
   ]
  },
  {
   "cell_type": "markdown",
   "metadata": {},
   "source": [
    "### SVM Parameters"
   ]
  },
  {
   "cell_type": "code",
   "execution_count": 43,
   "metadata": {},
   "outputs": [],
   "source": [
    "param_grid = {'C': [0.0001, 0.001, 0.01, 0.1, 1]}  "
   ]
  },
  {
   "cell_type": "code",
   "execution_count": 44,
   "metadata": {},
   "outputs": [
    {
     "name": "stderr",
     "output_type": "stream",
     "text": [
      "C:\\Users\\aashi\\Anaconda3\\lib\\site-packages\\sklearn\\utils\\validation.py:72: DataConversionWarning: A column-vector y was passed when a 1d array was expected. Please change the shape of y to (n_samples, ), for example using ravel().\n",
      "  return f(**kwargs)\n"
     ]
    },
    {
     "data": {
      "text/plain": [
       "LogisticRegression(random_state=0)"
      ]
     },
     "execution_count": 44,
     "metadata": {},
     "output_type": "execute_result"
    }
   ],
   "source": [
    "# Fitting Logistic Regression to the Training set\n",
    "from sklearn.linear_model import LogisticRegression\n",
    "classifier = LogisticRegression(random_state = 0)\n",
    "classifier.fit(X, Y)"
   ]
  },
  {
   "cell_type": "code",
   "execution_count": 45,
   "metadata": {},
   "outputs": [],
   "source": [
    "\n",
    "# UNQ_C4 (UNIQUE CELL IDENTIFIER, DO NOT EDIT)\n",
    "def predict_tweet(tweet, freqs):\n",
    "    '''\n",
    "    Input: \n",
    "        tweet: a string\n",
    "        freqs: a dictionary corresponding to the frequencies of each tuple (word, label)\n",
    "        theta: (3,1) vector of weights\n",
    "    Output: \n",
    "        y_pred: the probability of a tweet being positive or negative\n",
    "    '''\n",
    "    ### START CODE HERE (REPLACE INSTANCES OF 'None' with your code) ###\n",
    "    \n",
    "    # extract the features of the tweet and store it into x\n",
    "    x = extract_features(tweet,freqs)\n",
    "    \n",
    "    # make the prediction using x and theta\n",
    "    y_pred = classifier.predict(x)\n",
    "    \n",
    "    ### END CODE HERE ###\n",
    "    \n",
    "    return y_pred"
   ]
  },
  {
   "cell_type": "code",
   "execution_count": 46,
   "metadata": {},
   "outputs": [],
   "source": [
    "# UNQ_C4 (UNIQUE CELL IDENTIFIER, DO NOT EDIT)\n",
    "def predict_tweet_prob(tweet, freqs):\n",
    "    '''\n",
    "    Input: \n",
    "        tweet: a string\n",
    "        freqs: a dictionary corresponding to the frequencies of each tuple (word, label)\n",
    "        theta: (3,1) vector of weights\n",
    "    Output: \n",
    "        y_pred: the probability of a tweet being positive or negative\n",
    "    '''\n",
    "    ### START CODE HERE (REPLACE INSTANCES OF 'None' with your code) ###\n",
    "    \n",
    "    # extract the features of the tweet and store it into x\n",
    "    x = extract_features(tweet,freqs)\n",
    "    \n",
    "    # make the prediction using x and theta\n",
    "    y_pred = classifier.predict_proba(x)\n",
    "    \n",
    "    ### END CODE HERE ###\n",
    "    \n",
    "    return y_pred"
   ]
  },
  {
   "cell_type": "code",
   "execution_count": 47,
   "metadata": {},
   "outputs": [
    {
     "data": {
      "text/plain": [
       "array([0.])"
      ]
     },
     "execution_count": 47,
     "metadata": {},
     "output_type": "execute_result"
    }
   ],
   "source": [
    "\n",
    "my_tweet = 'The plot was terrible and I was sad until the ending!'\n",
    "predict_tweet(my_tweet, freqs)"
   ]
  },
  {
   "cell_type": "markdown",
   "metadata": {},
   "source": [
    "# Testing the Model "
   ]
  },
  {
   "cell_type": "code",
   "execution_count": 48,
   "metadata": {},
   "outputs": [],
   "source": [
    "sentiment = []\n",
    "sentiment_prob = []\n",
    "for i in df.iloc[:,2]:\n",
    "    sentiment.append(predict_tweet(i, freqs)[0])\n",
    "    sentiment_prob.append(predict_tweet_prob(i, freqs)[0][1])"
   ]
  },
  {
   "cell_type": "code",
   "execution_count": 49,
   "metadata": {},
   "outputs": [
    {
     "data": {
      "text/plain": [
       "[1.0, 0.0, 0.0, 0.0, 0.0, 0.0, 0.0, 1.0]"
      ]
     },
     "execution_count": 49,
     "metadata": {},
     "output_type": "execute_result"
    }
   ],
   "source": [
    "sentiment\n"
   ]
  },
  {
   "cell_type": "code",
   "execution_count": 50,
   "metadata": {},
   "outputs": [
    {
     "data": {
      "text/plain": [
       "[0.6938569763837213,\n",
       " 0.000992856711037133,\n",
       " 0.016640031758956002,\n",
       " 0.10050501782597547,\n",
       " 0.003088541074744996,\n",
       " 5.593078354866826e-05,\n",
       " 0.03852008349259754,\n",
       " 0.5557759528050944]"
      ]
     },
     "execution_count": 50,
     "metadata": {},
     "output_type": "execute_result"
    }
   ],
   "source": [
    "sentiment_prob"
   ]
  },
  {
   "cell_type": "code",
   "execution_count": 51,
   "metadata": {},
   "outputs": [
    {
     "data": {
      "text/html": [
       "<div>\n",
       "<style scoped>\n",
       "    .dataframe tbody tr th:only-of-type {\n",
       "        vertical-align: middle;\n",
       "    }\n",
       "\n",
       "    .dataframe tbody tr th {\n",
       "        vertical-align: top;\n",
       "    }\n",
       "\n",
       "    .dataframe thead th {\n",
       "        text-align: right;\n",
       "    }\n",
       "</style>\n",
       "<table border=\"1\" class=\"dataframe\">\n",
       "  <thead>\n",
       "    <tr style=\"text-align: right;\">\n",
       "      <th></th>\n",
       "      <th>Date</th>\n",
       "      <th>Header</th>\n",
       "      <th>Text</th>\n",
       "      <th>Open</th>\n",
       "      <th>Volume</th>\n",
       "      <th>% Change in Stock Price</th>\n",
       "      <th>% Change in Volume</th>\n",
       "      <th>Text (clean)</th>\n",
       "      <th>Vader Sentiment Score</th>\n",
       "      <th>sentiment</th>\n",
       "      <th>sentiment_prob</th>\n",
       "    </tr>\n",
       "  </thead>\n",
       "  <tbody>\n",
       "    <tr>\n",
       "      <th>0</th>\n",
       "      <td>2017-03-07</td>\n",
       "      <td>United looking at second-hand aircraft, rules ...</td>\n",
       "      <td>- United Continental Holdings UAKL.N is inter...</td>\n",
       "      <td>72.690002</td>\n",
       "      <td>3764000</td>\n",
       "      <td>NaN</td>\n",
       "      <td>NaN</td>\n",
       "      <td>United Continental Holdings UAKL.N interested ...</td>\n",
       "      <td>0.9485</td>\n",
       "      <td>1.0</td>\n",
       "      <td>0.693857</td>\n",
       "    </tr>\n",
       "    <tr>\n",
       "      <th>1</th>\n",
       "      <td>2017-04-07</td>\n",
       "      <td>UAL pilots attack U.S. Airways merger prospect</td>\n",
       "      <td>- United Airlines' pilots union lashed out ag...</td>\n",
       "      <td>69.970001</td>\n",
       "      <td>2471100</td>\n",
       "      <td>-3.741919</td>\n",
       "      <td>-34.349097</td>\n",
       "      <td>United Airlines pilot union lash effort merge ...</td>\n",
       "      <td>0.9981</td>\n",
       "      <td>0.0</td>\n",
       "      <td>0.000993</td>\n",
       "    </tr>\n",
       "    <tr>\n",
       "      <th>2</th>\n",
       "      <td>2017-04-11</td>\n",
       "      <td>United Airlines faces mounting pressure over h...</td>\n",
       "      <td>- United Airlines UAL.N and its chief executi...</td>\n",
       "      <td>70.150002</td>\n",
       "      <td>17696500</td>\n",
       "      <td>0.257255</td>\n",
       "      <td>616.138562</td>\n",
       "      <td>United Airlines UAL.N chief executive face mou...</td>\n",
       "      <td>0.9877</td>\n",
       "      <td>0.0</td>\n",
       "      <td>0.016640</td>\n",
       "    </tr>\n",
       "    <tr>\n",
       "      <th>3</th>\n",
       "      <td>2017-04-17</td>\n",
       "      <td>United Air removes couple traveling to wedding...</td>\n",
       "      <td>- An engaged couple were removed from a Unite...</td>\n",
       "      <td>69.510002</td>\n",
       "      <td>4761900</td>\n",
       "      <td>-0.912331</td>\n",
       "      <td>-73.091289</td>\n",
       "      <td>engage couple remove United Airlines flight Co...</td>\n",
       "      <td>0.9501</td>\n",
       "      <td>0.0</td>\n",
       "      <td>0.100505</td>\n",
       "    </tr>\n",
       "    <tr>\n",
       "      <th>4</th>\n",
       "      <td>2017-04-27</td>\n",
       "      <td>United Airlines reaches settlement with passen...</td>\n",
       "      <td>- United Airlines UAL.N and the passenger who...</td>\n",
       "      <td>69.769997</td>\n",
       "      <td>5512200</td>\n",
       "      <td>0.374040</td>\n",
       "      <td>15.756316</td>\n",
       "      <td>United Airlines UAL.N passenger drag Chicago f...</td>\n",
       "      <td>0.9136</td>\n",
       "      <td>0.0</td>\n",
       "      <td>0.003089</td>\n",
       "    </tr>\n",
       "    <tr>\n",
       "      <th>5</th>\n",
       "      <td>2017-05-02</td>\n",
       "      <td>U.S. lawmakers grill airline executives after ...</td>\n",
       "      <td>- U.S. lawmakers threatened United Airlines U...</td>\n",
       "      <td>70.430000</td>\n",
       "      <td>5434700</td>\n",
       "      <td>0.945970</td>\n",
       "      <td>-1.405972</td>\n",
       "      <td>U.S. lawmaker threaten United Airlines UAL.N c...</td>\n",
       "      <td>0.9460</td>\n",
       "      <td>0.0</td>\n",
       "      <td>0.000056</td>\n",
       "    </tr>\n",
       "    <tr>\n",
       "      <th>6</th>\n",
       "      <td>2017-05-04</td>\n",
       "      <td>United Air to face second congressional grilli...</td>\n",
       "      <td>- United Airlines will be back in the hot sea...</td>\n",
       "      <td>74.559998</td>\n",
       "      <td>2886300</td>\n",
       "      <td>5.863976</td>\n",
       "      <td>-46.891273</td>\n",
       "      <td>United Airlines hot seat Thursday U.S. Congres...</td>\n",
       "      <td>0.9921</td>\n",
       "      <td>0.0</td>\n",
       "      <td>0.038520</td>\n",
       "    </tr>\n",
       "    <tr>\n",
       "      <th>7</th>\n",
       "      <td>2017-05-30</td>\n",
       "      <td>U.S. proposes fining United $435,000 over 2014...</td>\n",
       "      <td>- The U.S. Federal Aviation Administration on...</td>\n",
       "      <td>80.900002</td>\n",
       "      <td>3428700</td>\n",
       "      <td>8.503224</td>\n",
       "      <td>18.792225</td>\n",
       "      <td>U.S. Federal Aviation Administration Tuesday p...</td>\n",
       "      <td>0.8625</td>\n",
       "      <td>1.0</td>\n",
       "      <td>0.555776</td>\n",
       "    </tr>\n",
       "  </tbody>\n",
       "</table>\n",
       "</div>"
      ],
      "text/plain": [
       "        Date                                             Header  \\\n",
       "0 2017-03-07  United looking at second-hand aircraft, rules ...   \n",
       "1 2017-04-07     UAL pilots attack U.S. Airways merger prospect   \n",
       "2 2017-04-11  United Airlines faces mounting pressure over h...   \n",
       "3 2017-04-17  United Air removes couple traveling to wedding...   \n",
       "4 2017-04-27  United Airlines reaches settlement with passen...   \n",
       "5 2017-05-02  U.S. lawmakers grill airline executives after ...   \n",
       "6 2017-05-04  United Air to face second congressional grilli...   \n",
       "7 2017-05-30  U.S. proposes fining United $435,000 over 2014...   \n",
       "\n",
       "                                                Text       Open    Volume  \\\n",
       "0   - United Continental Holdings UAKL.N is inter...  72.690002   3764000   \n",
       "1   - United Airlines' pilots union lashed out ag...  69.970001   2471100   \n",
       "2   - United Airlines UAL.N and its chief executi...  70.150002  17696500   \n",
       "3   - An engaged couple were removed from a Unite...  69.510002   4761900   \n",
       "4   - United Airlines UAL.N and the passenger who...  69.769997   5512200   \n",
       "5   - U.S. lawmakers threatened United Airlines U...  70.430000   5434700   \n",
       "6   - United Airlines will be back in the hot sea...  74.559998   2886300   \n",
       "7   - The U.S. Federal Aviation Administration on...  80.900002   3428700   \n",
       "\n",
       "   % Change in Stock Price  % Change in Volume  \\\n",
       "0                      NaN                 NaN   \n",
       "1                -3.741919          -34.349097   \n",
       "2                 0.257255          616.138562   \n",
       "3                -0.912331          -73.091289   \n",
       "4                 0.374040           15.756316   \n",
       "5                 0.945970           -1.405972   \n",
       "6                 5.863976          -46.891273   \n",
       "7                 8.503224           18.792225   \n",
       "\n",
       "                                        Text (clean)  Vader Sentiment Score  \\\n",
       "0  United Continental Holdings UAKL.N interested ...                 0.9485   \n",
       "1  United Airlines pilot union lash effort merge ...                 0.9981   \n",
       "2  United Airlines UAL.N chief executive face mou...                 0.9877   \n",
       "3  engage couple remove United Airlines flight Co...                 0.9501   \n",
       "4  United Airlines UAL.N passenger drag Chicago f...                 0.9136   \n",
       "5  U.S. lawmaker threaten United Airlines UAL.N c...                 0.9460   \n",
       "6  United Airlines hot seat Thursday U.S. Congres...                 0.9921   \n",
       "7  U.S. Federal Aviation Administration Tuesday p...                 0.8625   \n",
       "\n",
       "   sentiment  sentiment_prob  \n",
       "0        1.0        0.693857  \n",
       "1        0.0        0.000993  \n",
       "2        0.0        0.016640  \n",
       "3        0.0        0.100505  \n",
       "4        0.0        0.003089  \n",
       "5        0.0        0.000056  \n",
       "6        0.0        0.038520  \n",
       "7        1.0        0.555776  "
      ]
     },
     "execution_count": 51,
     "metadata": {},
     "output_type": "execute_result"
    }
   ],
   "source": [
    "df['sentiment'] = sentiment\n",
    "df['sentiment_prob'] = sentiment_prob\n",
    "df"
   ]
  },
  {
   "cell_type": "code",
   "execution_count": null,
   "metadata": {},
   "outputs": [],
   "source": []
  },
  {
   "cell_type": "code",
   "execution_count": null,
   "metadata": {},
   "outputs": [],
   "source": []
  },
  {
   "cell_type": "code",
   "execution_count": null,
   "metadata": {},
   "outputs": [],
   "source": []
  }
 ],
 "metadata": {
  "kernelspec": {
   "display_name": "Python 3",
   "language": "python",
   "name": "python3"
  },
  "language_info": {
   "codemirror_mode": {
    "name": "ipython",
    "version": 3
   },
   "file_extension": ".py",
   "mimetype": "text/x-python",
   "name": "python",
   "nbconvert_exporter": "python",
   "pygments_lexer": "ipython3",
   "version": "3.7.9"
  }
 },
 "nbformat": 4,
 "nbformat_minor": 4
}
