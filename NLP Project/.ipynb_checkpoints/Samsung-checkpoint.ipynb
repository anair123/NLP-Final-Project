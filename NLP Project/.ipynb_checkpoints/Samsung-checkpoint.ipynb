{
 "cells": [
  {
   "cell_type": "code",
   "execution_count": 1,
   "metadata": {},
   "outputs": [],
   "source": [
    "import requests\n",
    "from bs4 import BeautifulSoup\n",
    "import pandas as pd\n",
    "from datetime import datetime\n",
    "import matplotlib.pyplot as plt\n",
    "import dateutil.parser"
   ]
  },
  {
   "cell_type": "code",
   "execution_count": 2,
   "metadata": {},
   "outputs": [],
   "source": [
    "# dictionary of text dates and links (August 2016 to November 2016)\n",
    "\n",
    "date1 = '2016-08-10' \n",
    "url1 = 'https://www.reuters.com/article/us-samsung-elec-m-a-dacor-idUSKCN10L2RR'\n",
    "\n",
    "date2 = '2016-08-22'\n",
    "url2 = 'https://www.reuters.com/article/us-samsung-elec-phones-refurbishment-idUSKCN10X0FT'\n",
    "\n",
    "date3 = '2016-08-24'\n",
    "url3 = 'https://www.reuters.com/article/us-samsung-elec-tencent-holdings-stocks-idUSKCN10Z0BJ'\n",
    "\n",
    "date4 = '2016-08-31'\n",
    "url4 = 'https://www.reuters.com/article/us-nokia-corp-managementchanges-idUSKCN1160I8'\n",
    "\n",
    "\n",
    "date5 = '2016-09-02'\n",
    "url5 = 'https://www.reuters.com/article/us-samsung-elec-smartphones-replacement-idUSKCN1180TV'\n",
    "\n",
    "date6 = '2016-09-06'\n",
    "url6 = 'https://www.reuters.com/article/us-samsung-elec-smartphones-idUSKCN11C0CV'\n",
    "\n",
    "date7 = '2016-09-11'\n",
    "url7 = 'https://www.reuters.com/article/us-samsung-elec-smartphones-stocks-idUSKCN11I02M'\n",
    "\n",
    "date8 = '2016-09-15'\n",
    "url8 = 'https://www.reuters.com/article/us-samsung-elec-smartphones-idUSKCN11L2M1'\n",
    "\n",
    "date7 = '2016-09-19'\n",
    "url7 = 'https://www.reuters.com/article/us-samsung-elec-smartphones-china-idUSKCN11P0J9'\n",
    "\n",
    "date8 = '2016-09-30'\n",
    "url8 = 'https://www.reuters.com/article/us-samsung-china-idUSKCN1200LD'\n",
    "\n",
    "date9 = '2016-11-03'\n",
    "url9 = 'https://www.reuters.com/article/us-samsung-elec-smartphones-idUSKBN12Y0T7'\n",
    "\n",
    "\n",
    "date10 = '2016-11-05'\n",
    "url10 = 'https://www.reuters.com/article/us-samsung-elec-smartphones-idUSKBN13101Q'\n",
    "\n",
    "date11 = '2016-11-14'\n",
    "url11 = 'https://www.reuters.com/article/us-harman-intl-ind-samsung-elec-idUSKBN1390O9'\n",
    "\n",
    "date12 = '2016-11-20'\n",
    "url12 = 'https://www.reuters.com/article/us-samsung-elec-recall-brand-idUSKBN13F146'\n",
    "\n",
    "date13 = '2016-11-22'\n",
    "url13 = 'https://www.reuters.com/article/us-southkorea-politics-idUSKBN13I049'\n",
    "\n",
    "date14 = '2016-11-28'\n",
    "url14 = 'https://www.reuters.com/article/us-samsung-elec-restructuring-idUSKBN13N2GS'\n",
    "\n",
    "\n",
    "\n",
    "url_dict = {date1:url1,\n",
    "            date2:url2,\n",
    "            date3:url3,\n",
    "            date4:url4,\n",
    "            date5:url5,\n",
    "            date6:url6,\n",
    "            date7:url7,\n",
    "            date8:url8,\n",
    "            date9:url9,\n",
    "            date10:url10,\n",
    "            date11:url11,\n",
    "            date12:url12,\n",
    "            date13:url13,\n",
    "            date14:url14,\n",
    "           }\n"
   ]
  },
  {
   "cell_type": "code",
   "execution_count": 3,
   "metadata": {},
   "outputs": [],
   "source": [
    "# extract info from each website and store it in dataframe\n",
    "df_text = pd.DataFrame(columns = ['Date','Header','Text'])\n",
    "header = []\n",
    "text = []\n",
    "date = []\n",
    "for key in url_dict:\n",
    "    page = requests.get(url_dict[key]).text\n",
    "    soup = BeautifulSoup(page, 'html.parser')\n",
    "    date.append(datetime.strptime(key, '%Y-%m-%d').date())\n",
    "    url_header = soup.find('h1').text\n",
    "    header.append(url_header)\n",
    "    url_text = soup.find('div', class_ ='ArticleBodyWrapper')\n",
    "    url_text = url_text.text\n",
    "    text.append(url_text)\n",
    "df_text['Date']=date\n",
    "df_text['Header']=header\n",
    "df_text['Text']=text\n",
    "\n",
    "# remove the author and \"min read\" sections\n",
    "df_text_temp = [] \n",
    "for text in df_text['Text']:\n",
    "    loc = text.find('(Reuters)')\n",
    "    df_text_temp.append(text[loc+9:])\n",
    "df_text['Text'] = df_text_temp\n",
    "\n",
    "\n"
   ]
  },
  {
   "cell_type": "code",
   "execution_count": 4,
   "metadata": {},
   "outputs": [
    {
     "data": {
      "text/html": [
       "<div>\n",
       "<style scoped>\n",
       "    .dataframe tbody tr th:only-of-type {\n",
       "        vertical-align: middle;\n",
       "    }\n",
       "\n",
       "    .dataframe tbody tr th {\n",
       "        vertical-align: top;\n",
       "    }\n",
       "\n",
       "    .dataframe thead th {\n",
       "        text-align: right;\n",
       "    }\n",
       "</style>\n",
       "<table border=\"1\" class=\"dataframe\">\n",
       "  <thead>\n",
       "    <tr style=\"text-align: right;\">\n",
       "      <th></th>\n",
       "      <th>Date</th>\n",
       "      <th>Header</th>\n",
       "      <th>Text</th>\n",
       "    </tr>\n",
       "  </thead>\n",
       "  <tbody>\n",
       "    <tr>\n",
       "      <th>0</th>\n",
       "      <td>2016-08-10</td>\n",
       "      <td>Samsung Electronics says to acquire U.S. appli...</td>\n",
       "      <td>- South Korean tech giant Samsung Electronics...</td>\n",
       "    </tr>\n",
       "    <tr>\n",
       "      <th>1</th>\n",
       "      <td>2016-08-22</td>\n",
       "      <td>Samsung plans refurbished smartphone program: ...</td>\n",
       "      <td>- Samsung Electronics Co Ltd plans to launch ...</td>\n",
       "    </tr>\n",
       "    <tr>\n",
       "      <th>2</th>\n",
       "      <td>2016-08-24</td>\n",
       "      <td>Samsung, Tencent surge in race to become Asia'...</td>\n",
       "      <td>- Tencent Holdings Ltd 0700.HK and Samsung El...</td>\n",
       "    </tr>\n",
       "    <tr>\n",
       "      <th>3</th>\n",
       "      <td>2016-08-31</td>\n",
       "      <td>Nokia's patent chief departs in wake of Samsun...</td>\n",
       "      <td>- The head of Nokia’s small, but highly profi...</td>\n",
       "    </tr>\n",
       "    <tr>\n",
       "      <th>4</th>\n",
       "      <td>2016-09-02</td>\n",
       "      <td>Samsung recalls Galaxy Note 7 phones after bat...</td>\n",
       "      <td>- Samsung Electronics Co Ltd has recalled all...</td>\n",
       "    </tr>\n",
       "  </tbody>\n",
       "</table>\n",
       "</div>"
      ],
      "text/plain": [
       "        Date                                             Header  \\\n",
       "0 2016-08-10  Samsung Electronics says to acquire U.S. appli...   \n",
       "1 2016-08-22  Samsung plans refurbished smartphone program: ...   \n",
       "2 2016-08-24  Samsung, Tencent surge in race to become Asia'...   \n",
       "3 2016-08-31  Nokia's patent chief departs in wake of Samsun...   \n",
       "4 2016-09-02  Samsung recalls Galaxy Note 7 phones after bat...   \n",
       "\n",
       "                                                Text  \n",
       "0   - South Korean tech giant Samsung Electronics...  \n",
       "1   - Samsung Electronics Co Ltd plans to launch ...  \n",
       "2   - Tencent Holdings Ltd 0700.HK and Samsung El...  \n",
       "3   - The head of Nokia’s small, but highly profi...  \n",
       "4   - Samsung Electronics Co Ltd has recalled all...  "
      ]
     },
     "execution_count": 4,
     "metadata": {},
     "output_type": "execute_result"
    }
   ],
   "source": [
    "df_text['Date'] = df_text['Date'].apply(lambda x: pd.to_datetime(x))\n",
    "df_text.head()"
   ]
  },
  {
   "cell_type": "code",
   "execution_count": 5,
   "metadata": {},
   "outputs": [
    {
     "data": {
      "text/html": [
       "<div>\n",
       "<style scoped>\n",
       "    .dataframe tbody tr th:only-of-type {\n",
       "        vertical-align: middle;\n",
       "    }\n",
       "\n",
       "    .dataframe tbody tr th {\n",
       "        vertical-align: top;\n",
       "    }\n",
       "\n",
       "    .dataframe thead th {\n",
       "        text-align: right;\n",
       "    }\n",
       "</style>\n",
       "<table border=\"1\" class=\"dataframe\">\n",
       "  <thead>\n",
       "    <tr style=\"text-align: right;\">\n",
       "      <th></th>\n",
       "      <th>Date</th>\n",
       "      <th>Open</th>\n",
       "      <th>Volume</th>\n",
       "    </tr>\n",
       "  </thead>\n",
       "  <tbody>\n",
       "    <tr>\n",
       "      <th>0</th>\n",
       "      <td>2016-01-04</td>\n",
       "      <td>25200.0</td>\n",
       "      <td>15346950</td>\n",
       "    </tr>\n",
       "    <tr>\n",
       "      <th>1</th>\n",
       "      <td>2016-01-05</td>\n",
       "      <td>24040.0</td>\n",
       "      <td>10800100</td>\n",
       "    </tr>\n",
       "    <tr>\n",
       "      <th>2</th>\n",
       "      <td>2016-01-06</td>\n",
       "      <td>24160.0</td>\n",
       "      <td>18337600</td>\n",
       "    </tr>\n",
       "    <tr>\n",
       "      <th>3</th>\n",
       "      <td>2016-01-07</td>\n",
       "      <td>23320.0</td>\n",
       "      <td>14119400</td>\n",
       "    </tr>\n",
       "    <tr>\n",
       "      <th>4</th>\n",
       "      <td>2016-01-08</td>\n",
       "      <td>23260.0</td>\n",
       "      <td>12888150</td>\n",
       "    </tr>\n",
       "  </tbody>\n",
       "</table>\n",
       "</div>"
      ],
      "text/plain": [
       "        Date     Open    Volume\n",
       "0 2016-01-04  25200.0  15346950\n",
       "1 2016-01-05  24040.0  10800100\n",
       "2 2016-01-06  24160.0  18337600\n",
       "3 2016-01-07  23320.0  14119400\n",
       "4 2016-01-08  23260.0  12888150"
      ]
     },
     "execution_count": 5,
     "metadata": {},
     "output_type": "execute_result"
    }
   ],
   "source": [
    "# import stock data of netflix\n",
    "df_stock = pd.read_csv('Samsung.csv', header=0)\n",
    "\n",
    "df_stock['Date']=df_stock['Date'].apply(lambda x: datetime.strptime(x, '%Y-%m-%d'))\n",
    "\n",
    "\n",
    "df_stock = df_stock.drop(['High','Low','Close','Adj Close'], axis=1)\n",
    "df_stock.head()"
   ]
  },
  {
   "cell_type": "code",
   "execution_count": 6,
   "metadata": {},
   "outputs": [],
   "source": [
    "# Merge two dataframes\n",
    "df = pd.merge(df_text, df_stock, how='inner', on='Date')\n",
    "df = df.sort_values('Date')"
   ]
  },
  {
   "cell_type": "code",
   "execution_count": 7,
   "metadata": {},
   "outputs": [
    {
     "data": {
      "text/html": [
       "<div>\n",
       "<style scoped>\n",
       "    .dataframe tbody tr th:only-of-type {\n",
       "        vertical-align: middle;\n",
       "    }\n",
       "\n",
       "    .dataframe tbody tr th {\n",
       "        vertical-align: top;\n",
       "    }\n",
       "\n",
       "    .dataframe thead th {\n",
       "        text-align: right;\n",
       "    }\n",
       "</style>\n",
       "<table border=\"1\" class=\"dataframe\">\n",
       "  <thead>\n",
       "    <tr style=\"text-align: right;\">\n",
       "      <th></th>\n",
       "      <th>Date</th>\n",
       "      <th>Header</th>\n",
       "      <th>Text</th>\n",
       "      <th>Open</th>\n",
       "      <th>Volume</th>\n",
       "      <th>% Change in Stock Price</th>\n",
       "      <th>% Change in Volume</th>\n",
       "    </tr>\n",
       "  </thead>\n",
       "  <tbody>\n",
       "    <tr>\n",
       "      <th>0</th>\n",
       "      <td>2016-08-10</td>\n",
       "      <td>Samsung Electronics says to acquire U.S. appli...</td>\n",
       "      <td>- South Korean tech giant Samsung Electronics...</td>\n",
       "      <td>31340.0</td>\n",
       "      <td>12340350</td>\n",
       "      <td>NaN</td>\n",
       "      <td>NaN</td>\n",
       "    </tr>\n",
       "    <tr>\n",
       "      <th>1</th>\n",
       "      <td>2016-08-22</td>\n",
       "      <td>Samsung plans refurbished smartphone program: ...</td>\n",
       "      <td>- Samsung Electronics Co Ltd plans to launch ...</td>\n",
       "      <td>33480.0</td>\n",
       "      <td>12612200</td>\n",
       "      <td>6.828334</td>\n",
       "      <td>2.202936</td>\n",
       "    </tr>\n",
       "    <tr>\n",
       "      <th>2</th>\n",
       "      <td>2016-08-24</td>\n",
       "      <td>Samsung, Tencent surge in race to become Asia'...</td>\n",
       "      <td>- Tencent Holdings Ltd 0700.HK and Samsung El...</td>\n",
       "      <td>33600.0</td>\n",
       "      <td>15938550</td>\n",
       "      <td>0.358423</td>\n",
       "      <td>26.374066</td>\n",
       "    </tr>\n",
       "    <tr>\n",
       "      <th>3</th>\n",
       "      <td>2016-08-31</td>\n",
       "      <td>Nokia's patent chief departs in wake of Samsun...</td>\n",
       "      <td>- The head of Nokia’s small, but highly profi...</td>\n",
       "      <td>32820.0</td>\n",
       "      <td>20532200</td>\n",
       "      <td>-2.321429</td>\n",
       "      <td>28.821003</td>\n",
       "    </tr>\n",
       "    <tr>\n",
       "      <th>4</th>\n",
       "      <td>2016-09-02</td>\n",
       "      <td>Samsung recalls Galaxy Note 7 phones after bat...</td>\n",
       "      <td>- Samsung Electronics Co Ltd has recalled all...</td>\n",
       "      <td>31900.0</td>\n",
       "      <td>8153000</td>\n",
       "      <td>-2.803169</td>\n",
       "      <td>-60.291639</td>\n",
       "    </tr>\n",
       "  </tbody>\n",
       "</table>\n",
       "</div>"
      ],
      "text/plain": [
       "        Date                                             Header  \\\n",
       "0 2016-08-10  Samsung Electronics says to acquire U.S. appli...   \n",
       "1 2016-08-22  Samsung plans refurbished smartphone program: ...   \n",
       "2 2016-08-24  Samsung, Tencent surge in race to become Asia'...   \n",
       "3 2016-08-31  Nokia's patent chief departs in wake of Samsun...   \n",
       "4 2016-09-02  Samsung recalls Galaxy Note 7 phones after bat...   \n",
       "\n",
       "                                                Text     Open    Volume  \\\n",
       "0   - South Korean tech giant Samsung Electronics...  31340.0  12340350   \n",
       "1   - Samsung Electronics Co Ltd plans to launch ...  33480.0  12612200   \n",
       "2   - Tencent Holdings Ltd 0700.HK and Samsung El...  33600.0  15938550   \n",
       "3   - The head of Nokia’s small, but highly profi...  32820.0  20532200   \n",
       "4   - Samsung Electronics Co Ltd has recalled all...  31900.0   8153000   \n",
       "\n",
       "   % Change in Stock Price  % Change in Volume  \n",
       "0                      NaN                 NaN  \n",
       "1                 6.828334            2.202936  \n",
       "2                 0.358423           26.374066  \n",
       "3                -2.321429           28.821003  \n",
       "4                -2.803169          -60.291639  "
      ]
     },
     "execution_count": 7,
     "metadata": {},
     "output_type": "execute_result"
    }
   ],
   "source": [
    "# show % change in stock price after news article publish\n",
    "pct_stock = df['Open'].pct_change()*100\n",
    "df['% Change in Stock Price'] = pct_stock\n",
    "pct_volume = df['Volume'].pct_change()*100\n",
    "df['% Change in Volume'] = pct_volume\n",
    "df.head()"
   ]
  },
  {
   "cell_type": "markdown",
   "metadata": {},
   "source": [
    "# Processing the text\n"
   ]
  },
  {
   "cell_type": "markdown",
   "metadata": {},
   "source": [
    "## import spacy libraries\n",
    "import spacy\n",
    "import en_core_web_sm\n",
    "from  spacy.lang.en.stop_words import STOP_WORDS\n",
    "nlp = spacy.load('en_core_web_sm')"
   ]
  },
  {
   "cell_type": "code",
   "execution_count": 8,
   "metadata": {},
   "outputs": [],
   "source": [
    "# import spacy libraries\n",
    "import spacy\n",
    "import en_core_web_sm\n",
    "from  spacy.lang.en.stop_words import STOP_WORDS\n",
    "nlp = spacy.load('en_core_web_sm')"
   ]
  },
  {
   "cell_type": "code",
   "execution_count": 9,
   "metadata": {},
   "outputs": [],
   "source": [
    "\n",
    "text_nlp = nlp(df['Text'][1]) \n",
    "# Remove stop words\n",
    "text_nlp_clean = [word for word in text_nlp if word.is_stop == False]\n",
    "# Lemmatize words\n",
    "text_nlp_clean = [word.lemma_ for word in text_nlp_clean]"
   ]
  },
  {
   "cell_type": "code",
   "execution_count": 10,
   "metadata": {},
   "outputs": [
    {
     "data": {
      "text/html": [
       "<div>\n",
       "<style scoped>\n",
       "    .dataframe tbody tr th:only-of-type {\n",
       "        vertical-align: middle;\n",
       "    }\n",
       "\n",
       "    .dataframe tbody tr th {\n",
       "        vertical-align: top;\n",
       "    }\n",
       "\n",
       "    .dataframe thead th {\n",
       "        text-align: right;\n",
       "    }\n",
       "</style>\n",
       "<table border=\"1\" class=\"dataframe\">\n",
       "  <thead>\n",
       "    <tr style=\"text-align: right;\">\n",
       "      <th></th>\n",
       "      <th>Date</th>\n",
       "      <th>Header</th>\n",
       "      <th>Text</th>\n",
       "      <th>Open</th>\n",
       "      <th>Volume</th>\n",
       "      <th>% Change in Stock Price</th>\n",
       "      <th>% Change in Volume</th>\n",
       "      <th>Text (clean)</th>\n",
       "    </tr>\n",
       "  </thead>\n",
       "  <tbody>\n",
       "    <tr>\n",
       "      <th>0</th>\n",
       "      <td>2016-08-10</td>\n",
       "      <td>Samsung Electronics says to acquire U.S. appli...</td>\n",
       "      <td>- South Korean tech giant Samsung Electronics...</td>\n",
       "      <td>31340.0</td>\n",
       "      <td>12340350</td>\n",
       "      <td>NaN</td>\n",
       "      <td>NaN</td>\n",
       "      <td>south korean tech giant Samsung Electronics Co...</td>\n",
       "    </tr>\n",
       "    <tr>\n",
       "      <th>1</th>\n",
       "      <td>2016-08-22</td>\n",
       "      <td>Samsung plans refurbished smartphone program: ...</td>\n",
       "      <td>- Samsung Electronics Co Ltd plans to launch ...</td>\n",
       "      <td>33480.0</td>\n",
       "      <td>12612200</td>\n",
       "      <td>6.828334</td>\n",
       "      <td>2.202936</td>\n",
       "      <td>Samsung Electronics Co Ltd plan launch program...</td>\n",
       "    </tr>\n",
       "    <tr>\n",
       "      <th>2</th>\n",
       "      <td>2016-08-24</td>\n",
       "      <td>Samsung, Tencent surge in race to become Asia'...</td>\n",
       "      <td>- Tencent Holdings Ltd 0700.HK and Samsung El...</td>\n",
       "      <td>33600.0</td>\n",
       "      <td>15938550</td>\n",
       "      <td>0.358423</td>\n",
       "      <td>26.374066</td>\n",
       "      <td>Tencent Holdings Ltd 0700.hk Samsung Electroni...</td>\n",
       "    </tr>\n",
       "    <tr>\n",
       "      <th>3</th>\n",
       "      <td>2016-08-31</td>\n",
       "      <td>Nokia's patent chief departs in wake of Samsun...</td>\n",
       "      <td>- The head of Nokia’s small, but highly profi...</td>\n",
       "      <td>32820.0</td>\n",
       "      <td>20532200</td>\n",
       "      <td>-2.321429</td>\n",
       "      <td>28.821003</td>\n",
       "      <td>head Nokia small highly profitable patent lice...</td>\n",
       "    </tr>\n",
       "    <tr>\n",
       "      <th>4</th>\n",
       "      <td>2016-09-02</td>\n",
       "      <td>Samsung recalls Galaxy Note 7 phones after bat...</td>\n",
       "      <td>- Samsung Electronics Co Ltd has recalled all...</td>\n",
       "      <td>31900.0</td>\n",
       "      <td>8153000</td>\n",
       "      <td>-2.803169</td>\n",
       "      <td>-60.291639</td>\n",
       "      <td>Samsung Electronics Co Ltd recall Galaxy Note ...</td>\n",
       "    </tr>\n",
       "  </tbody>\n",
       "</table>\n",
       "</div>"
      ],
      "text/plain": [
       "        Date                                             Header  \\\n",
       "0 2016-08-10  Samsung Electronics says to acquire U.S. appli...   \n",
       "1 2016-08-22  Samsung plans refurbished smartphone program: ...   \n",
       "2 2016-08-24  Samsung, Tencent surge in race to become Asia'...   \n",
       "3 2016-08-31  Nokia's patent chief departs in wake of Samsun...   \n",
       "4 2016-09-02  Samsung recalls Galaxy Note 7 phones after bat...   \n",
       "\n",
       "                                                Text     Open    Volume  \\\n",
       "0   - South Korean tech giant Samsung Electronics...  31340.0  12340350   \n",
       "1   - Samsung Electronics Co Ltd plans to launch ...  33480.0  12612200   \n",
       "2   - Tencent Holdings Ltd 0700.HK and Samsung El...  33600.0  15938550   \n",
       "3   - The head of Nokia’s small, but highly profi...  32820.0  20532200   \n",
       "4   - Samsung Electronics Co Ltd has recalled all...  31900.0   8153000   \n",
       "\n",
       "   % Change in Stock Price  % Change in Volume  \\\n",
       "0                      NaN                 NaN   \n",
       "1                 6.828334            2.202936   \n",
       "2                 0.358423           26.374066   \n",
       "3                -2.321429           28.821003   \n",
       "4                -2.803169          -60.291639   \n",
       "\n",
       "                                        Text (clean)  \n",
       "0  south korean tech giant Samsung Electronics Co...  \n",
       "1  Samsung Electronics Co Ltd plan launch program...  \n",
       "2  Tencent Holdings Ltd 0700.hk Samsung Electroni...  \n",
       "3  head Nokia small highly profitable patent lice...  \n",
       "4  Samsung Electronics Co Ltd recall Galaxy Note ...  "
      ]
     },
     "execution_count": 10,
     "metadata": {},
     "output_type": "execute_result"
    }
   ],
   "source": [
    "text_clean = []\n",
    "for ind, row in df.iterrows():\n",
    "    \n",
    "    # lower casing\n",
    "    text_lower = row['Text'].lower()\n",
    "    \n",
    "    # tokenization\n",
    "    text_nlp = nlp(row['Text']) \n",
    "    \n",
    "    # remove punctuation and empty space\n",
    "    text_nlp_clean = [word for word in text_nlp if not word.is_punct | word.is_space]\n",
    "    \n",
    "    # Remove stop words\n",
    "    text_nlp_clean = [word for word in text_nlp_clean if word.is_stop == False]\n",
    "    \n",
    "    # Lemmatize tokens\n",
    "    text_nlp_clean = [word.lemma_ for word in text_nlp_clean]\n",
    "    \n",
    "    # add preprocessed text to list\n",
    "    text_clean.append(text_nlp_clean)\n",
    "\n",
    "# turn list of strings to string\n",
    "to_string = []\n",
    "for text in text_clean:\n",
    "    to_string.append(' '.join(text))\n",
    "\n",
    "\n",
    "df['Text (clean)'] = to_string\n",
    "df.head()"
   ]
  },
  {
   "cell_type": "markdown",
   "metadata": {},
   "source": [
    "# Using a Pretrained Model "
   ]
  },
  {
   "cell_type": "code",
   "execution_count": 11,
   "metadata": {},
   "outputs": [],
   "source": [
    "from nltk.sentiment import SentimentIntensityAnalyzer"
   ]
  },
  {
   "cell_type": "code",
   "execution_count": 12,
   "metadata": {},
   "outputs": [],
   "source": [
    "# a function to return sentiment score\n",
    "def polarity_score(text):\n",
    "    sid = SentimentIntensityAnalyzer()\n",
    "    return sid.polarity_scores(text)['compound']\n",
    "\n",
    "vader_score = []\n",
    "for text in df['Text (clean)']:\n",
    "    score = polarity_score(text)\n",
    "    vader_score.append(score)\n",
    "\n",
    "df['Vader Sentiment Score'] = vader_score"
   ]
  },
  {
   "cell_type": "code",
   "execution_count": 13,
   "metadata": {},
   "outputs": [
    {
     "data": {
      "text/html": [
       "<div>\n",
       "<style scoped>\n",
       "    .dataframe tbody tr th:only-of-type {\n",
       "        vertical-align: middle;\n",
       "    }\n",
       "\n",
       "    .dataframe tbody tr th {\n",
       "        vertical-align: top;\n",
       "    }\n",
       "\n",
       "    .dataframe thead th {\n",
       "        text-align: right;\n",
       "    }\n",
       "</style>\n",
       "<table border=\"1\" class=\"dataframe\">\n",
       "  <thead>\n",
       "    <tr style=\"text-align: right;\">\n",
       "      <th></th>\n",
       "      <th>Date</th>\n",
       "      <th>Header</th>\n",
       "      <th>Text</th>\n",
       "      <th>Open</th>\n",
       "      <th>Volume</th>\n",
       "      <th>% Change in Stock Price</th>\n",
       "      <th>% Change in Volume</th>\n",
       "      <th>Text (clean)</th>\n",
       "      <th>Vader Sentiment Score</th>\n",
       "    </tr>\n",
       "  </thead>\n",
       "  <tbody>\n",
       "    <tr>\n",
       "      <th>0</th>\n",
       "      <td>2016-08-10</td>\n",
       "      <td>Samsung Electronics says to acquire U.S. appli...</td>\n",
       "      <td>- South Korean tech giant Samsung Electronics...</td>\n",
       "      <td>31340.0</td>\n",
       "      <td>12340350</td>\n",
       "      <td>NaN</td>\n",
       "      <td>NaN</td>\n",
       "      <td>south korean tech giant Samsung Electronics Co...</td>\n",
       "      <td>0.8555</td>\n",
       "    </tr>\n",
       "    <tr>\n",
       "      <th>1</th>\n",
       "      <td>2016-08-22</td>\n",
       "      <td>Samsung plans refurbished smartphone program: ...</td>\n",
       "      <td>- Samsung Electronics Co Ltd plans to launch ...</td>\n",
       "      <td>33480.0</td>\n",
       "      <td>12612200</td>\n",
       "      <td>6.828334</td>\n",
       "      <td>2.202936</td>\n",
       "      <td>Samsung Electronics Co Ltd plan launch program...</td>\n",
       "      <td>0.9971</td>\n",
       "    </tr>\n",
       "    <tr>\n",
       "      <th>2</th>\n",
       "      <td>2016-08-24</td>\n",
       "      <td>Samsung, Tencent surge in race to become Asia'...</td>\n",
       "      <td>- Tencent Holdings Ltd 0700.HK and Samsung El...</td>\n",
       "      <td>33600.0</td>\n",
       "      <td>15938550</td>\n",
       "      <td>0.358423</td>\n",
       "      <td>26.374066</td>\n",
       "      <td>Tencent Holdings Ltd 0700.hk Samsung Electroni...</td>\n",
       "      <td>0.9963</td>\n",
       "    </tr>\n",
       "    <tr>\n",
       "      <th>3</th>\n",
       "      <td>2016-08-31</td>\n",
       "      <td>Nokia's patent chief departs in wake of Samsun...</td>\n",
       "      <td>- The head of Nokia’s small, but highly profi...</td>\n",
       "      <td>32820.0</td>\n",
       "      <td>20532200</td>\n",
       "      <td>-2.321429</td>\n",
       "      <td>28.821003</td>\n",
       "      <td>head Nokia small highly profitable patent lice...</td>\n",
       "      <td>0.9930</td>\n",
       "    </tr>\n",
       "    <tr>\n",
       "      <th>4</th>\n",
       "      <td>2016-09-02</td>\n",
       "      <td>Samsung recalls Galaxy Note 7 phones after bat...</td>\n",
       "      <td>- Samsung Electronics Co Ltd has recalled all...</td>\n",
       "      <td>31900.0</td>\n",
       "      <td>8153000</td>\n",
       "      <td>-2.803169</td>\n",
       "      <td>-60.291639</td>\n",
       "      <td>Samsung Electronics Co Ltd recall Galaxy Note ...</td>\n",
       "      <td>0.9854</td>\n",
       "    </tr>\n",
       "  </tbody>\n",
       "</table>\n",
       "</div>"
      ],
      "text/plain": [
       "        Date                                             Header  \\\n",
       "0 2016-08-10  Samsung Electronics says to acquire U.S. appli...   \n",
       "1 2016-08-22  Samsung plans refurbished smartphone program: ...   \n",
       "2 2016-08-24  Samsung, Tencent surge in race to become Asia'...   \n",
       "3 2016-08-31  Nokia's patent chief departs in wake of Samsun...   \n",
       "4 2016-09-02  Samsung recalls Galaxy Note 7 phones after bat...   \n",
       "\n",
       "                                                Text     Open    Volume  \\\n",
       "0   - South Korean tech giant Samsung Electronics...  31340.0  12340350   \n",
       "1   - Samsung Electronics Co Ltd plans to launch ...  33480.0  12612200   \n",
       "2   - Tencent Holdings Ltd 0700.HK and Samsung El...  33600.0  15938550   \n",
       "3   - The head of Nokia’s small, but highly profi...  32820.0  20532200   \n",
       "4   - Samsung Electronics Co Ltd has recalled all...  31900.0   8153000   \n",
       "\n",
       "   % Change in Stock Price  % Change in Volume  \\\n",
       "0                      NaN                 NaN   \n",
       "1                 6.828334            2.202936   \n",
       "2                 0.358423           26.374066   \n",
       "3                -2.321429           28.821003   \n",
       "4                -2.803169          -60.291639   \n",
       "\n",
       "                                        Text (clean)  Vader Sentiment Score  \n",
       "0  south korean tech giant Samsung Electronics Co...                 0.8555  \n",
       "1  Samsung Electronics Co Ltd plan launch program...                 0.9971  \n",
       "2  Tencent Holdings Ltd 0700.hk Samsung Electroni...                 0.9963  \n",
       "3  head Nokia small highly profitable patent lice...                 0.9930  \n",
       "4  Samsung Electronics Co Ltd recall Galaxy Note ...                 0.9854  "
      ]
     },
     "execution_count": 13,
     "metadata": {},
     "output_type": "execute_result"
    }
   ],
   "source": [
    "df.head()"
   ]
  },
  {
   "cell_type": "markdown",
   "metadata": {},
   "source": [
    "## Sentiment Analysis"
   ]
  },
  {
   "cell_type": "code",
   "execution_count": 14,
   "metadata": {},
   "outputs": [],
   "source": [
    "# run this cell to import nltk\n",
    "import nltk\n",
    "from os import getcwd\n",
    "import numpy as np\n",
    "import pandas as pd\n",
    "from nltk.corpus import twitter_samples \n",
    "from utils import process_tweet, build_freqs"
   ]
  },
  {
   "cell_type": "code",
   "execution_count": 15,
   "metadata": {},
   "outputs": [
    {
     "name": "stderr",
     "output_type": "stream",
     "text": [
      "[nltk_data] Downloading package twitter_samples to\n",
      "[nltk_data]     C:\\Users\\aashi\\AppData\\Roaming\\nltk_data...\n",
      "[nltk_data]   Package twitter_samples is already up-to-date!\n",
      "[nltk_data] Downloading package stopwords to\n",
      "[nltk_data]     C:\\Users\\aashi\\AppData\\Roaming\\nltk_data...\n",
      "[nltk_data]   Package stopwords is already up-to-date!\n"
     ]
    },
    {
     "data": {
      "text/plain": [
       "True"
      ]
     },
     "execution_count": 15,
     "metadata": {},
     "output_type": "execute_result"
    }
   ],
   "source": [
    "nltk.download('twitter_samples')\n",
    "nltk.download('stopwords')"
   ]
  },
  {
   "cell_type": "code",
   "execution_count": 16,
   "metadata": {},
   "outputs": [],
   "source": [
    "\n",
    "# select the set of positive and negative tweets\n",
    "all_positive_tweets = twitter_samples.strings('positive_tweets.json')\n",
    "all_negative_tweets = twitter_samples.strings('negative_tweets.json')"
   ]
  },
  {
   "cell_type": "code",
   "execution_count": 17,
   "metadata": {},
   "outputs": [],
   "source": [
    "# split the data into two pieces (80-20), one for training and one for testing (validation set)  \n",
    "test_pos = all_positive_tweets[4000:]\n",
    "train_pos = all_positive_tweets[:4000]\n",
    "test_neg = all_negative_tweets[4000:]\n",
    "train_neg = all_negative_tweets[:4000]\n",
    "\n",
    "train_x = train_pos + train_neg \n",
    "test_x = test_pos + test_neg"
   ]
  },
  {
   "cell_type": "code",
   "execution_count": 18,
   "metadata": {},
   "outputs": [],
   "source": [
    "# combine positive and negative labels\n",
    "train_y = np.append(np.ones((len(train_pos), 1)), np.zeros((len(train_neg), 1)), axis=0)\n",
    "test_y = np.append(np.ones((len(test_pos), 1)), np.zeros((len(test_neg), 1)), axis=0)"
   ]
  },
  {
   "cell_type": "code",
   "execution_count": 19,
   "metadata": {},
   "outputs": [
    {
     "name": "stdout",
     "output_type": "stream",
     "text": [
      "train_y.shape = (8000, 1)\n",
      "test_y.shape = (2000, 1)\n"
     ]
    }
   ],
   "source": [
    "# Print the shape train and test sets\n",
    "print(\"train_y.shape = \" + str(train_y.shape))\n",
    "print(\"test_y.shape = \" + str(test_y.shape))"
   ]
  },
  {
   "cell_type": "code",
   "execution_count": 20,
   "metadata": {},
   "outputs": [
    {
     "name": "stdout",
     "output_type": "stream",
     "text": [
      "type(freqs) = <class 'dict'>\n",
      "len(freqs) = 11340\n"
     ]
    }
   ],
   "source": [
    "# create frequency dictionary\n",
    "freqs = build_freqs(train_x, train_y)\n",
    "\n",
    "# check the output\n",
    "print(\"type(freqs) = \" + str(type(freqs)))\n",
    "print(\"len(freqs) = \" + str(len(freqs.keys())))"
   ]
  },
  {
   "cell_type": "code",
   "execution_count": 21,
   "metadata": {},
   "outputs": [],
   "source": [
    "# UNQ_C3 (UNIQUE CELL IDENTIFIER, DO NOT EDIT)\n",
    "def extract_features(tweet, freqs):\n",
    "    '''\n",
    "    Input: \n",
    "        tweet: a list of words for one tweet\n",
    "        freqs: a dictionary corresponding to the frequencies of each tuple (word, label)\n",
    "    Output: \n",
    "        x: a feature vector of dimension (1,3)\n",
    "    '''\n",
    "    # process_tweet tokenizes, stems, and removes stopwords\n",
    "    word_l = process_tweet(tweet)\n",
    "    \n",
    "    # 3 elements in the form of a 1 x 3 vector\n",
    "    x = np.zeros((1, 3)) \n",
    "    \n",
    "    #bias term is set to 1\n",
    "    x[0,0] = 1 \n",
    "    \n",
    "    ### START CODE HERE (REPLACE INSTANCES OF 'None' with your code) ###\n",
    "    \n",
    "    # loop through each word in the list of words\n",
    "    for word in word_l:\n",
    "        \n",
    "        # increment the word count for the positive label 1\n",
    "        \n",
    "        x[0,1] += freqs.get((word,1),0)\n",
    "        \n",
    "        # increment the word count for the negative label 0\n",
    "        x[0,2] += freqs.get((word,0),0)\n",
    "        \n",
    "    ### END CODE HERE ###\n",
    "    assert(x.shape == (1, 3))\n",
    "    return x"
   ]
  },
  {
   "cell_type": "code",
   "execution_count": 22,
   "metadata": {},
   "outputs": [],
   "source": [
    "# collect the features 'x' and stack them into a matrix 'X'\n",
    "X = np.zeros((len(train_x), 3))\n",
    "for i in range(len(train_x)):\n",
    "    X[i, :]= extract_features(train_x[i], freqs)\n",
    "\n",
    "# training labels corresponding to X\n",
    "Y = train_y"
   ]
  },
  {
   "cell_type": "code",
   "execution_count": 23,
   "metadata": {},
   "outputs": [
    {
     "data": {
      "text/plain": [
       "(8000, 1)"
      ]
     },
     "execution_count": 23,
     "metadata": {},
     "output_type": "execute_result"
    }
   ],
   "source": [
    "Y.shape"
   ]
  },
  {
   "cell_type": "markdown",
   "metadata": {},
   "source": [
    "### SVM Parameters"
   ]
  },
  {
   "cell_type": "code",
   "execution_count": 24,
   "metadata": {},
   "outputs": [
    {
     "name": "stderr",
     "output_type": "stream",
     "text": [
      "C:\\Users\\aashi\\Anaconda3\\lib\\site-packages\\sklearn\\utils\\validation.py:72: DataConversionWarning: A column-vector y was passed when a 1d array was expected. Please change the shape of y to (n_samples, ), for example using ravel().\n",
      "  return f(**kwargs)\n"
     ]
    },
    {
     "data": {
      "text/plain": [
       "LogisticRegression(random_state=0)"
      ]
     },
     "execution_count": 24,
     "metadata": {},
     "output_type": "execute_result"
    }
   ],
   "source": [
    "# Fitting Logistic Regression to the Training set\n",
    "from sklearn.linear_model import LogisticRegression\n",
    "classifier = LogisticRegression(random_state = 0)\n",
    "classifier.fit(X, Y)"
   ]
  },
  {
   "cell_type": "code",
   "execution_count": 25,
   "metadata": {},
   "outputs": [],
   "source": [
    "\n",
    "# UNQ_C4 (UNIQUE CELL IDENTIFIER, DO NOT EDIT)\n",
    "def predict_tweet(tweet, freqs):\n",
    "    '''\n",
    "    Input: \n",
    "        tweet: a string\n",
    "        freqs: a dictionary corresponding to the frequencies of each tuple (word, label)\n",
    "        theta: (3,1) vector of weights\n",
    "    Output: \n",
    "        y_pred: the probability of a tweet being positive or negative\n",
    "    '''\n",
    "    ### START CODE HERE (REPLACE INSTANCES OF 'None' with your code) ###\n",
    "    \n",
    "    # extract the features of the tweet and store it into x\n",
    "    x = extract_features(tweet,freqs)\n",
    "    \n",
    "    # make the prediction using x and theta\n",
    "    y_pred = classifier.predict(x)\n",
    "    \n",
    "    ### END CODE HERE ###\n",
    "    \n",
    "    return y_pred"
   ]
  },
  {
   "cell_type": "code",
   "execution_count": 26,
   "metadata": {},
   "outputs": [],
   "source": [
    "# UNQ_C4 (UNIQUE CELL IDENTIFIER, DO NOT EDIT)\n",
    "def predict_tweet_prob(tweet, freqs):\n",
    "    '''\n",
    "    Input: \n",
    "        tweet: a string\n",
    "        freqs: a dictionary corresponding to the frequencies of each tuple (word, label)\n",
    "        theta: (3,1) vector of weights\n",
    "    Output: \n",
    "        y_pred: the probability of a tweet being positive or negative\n",
    "    '''\n",
    "    ### START CODE HERE (REPLACE INSTANCES OF 'None' with your code) ###\n",
    "    \n",
    "    # extract the features of the tweet and store it into x\n",
    "    x = extract_features(tweet,freqs)\n",
    "    \n",
    "    # make the prediction using x and theta\n",
    "    y_pred = classifier.predict_proba(x)\n",
    "    \n",
    "    ### END CODE HERE ###\n",
    "    \n",
    "    return y_pred"
   ]
  },
  {
   "cell_type": "code",
   "execution_count": 27,
   "metadata": {},
   "outputs": [
    {
     "data": {
      "text/plain": [
       "array([0.])"
      ]
     },
     "execution_count": 27,
     "metadata": {},
     "output_type": "execute_result"
    }
   ],
   "source": [
    "\n",
    "my_tweet = 'The plot was terrible and I was sad until the ending!'\n",
    "predict_tweet(my_tweet, freqs)"
   ]
  },
  {
   "cell_type": "markdown",
   "metadata": {},
   "source": [
    "# Testing the Model "
   ]
  },
  {
   "cell_type": "code",
   "execution_count": 28,
   "metadata": {},
   "outputs": [],
   "source": [
    "sentiment = []\n",
    "sentiment_prob = []\n",
    "for i in df.iloc[:,2]:\n",
    "    sentiment.append(predict_tweet(i, freqs)[0])\n",
    "    sentiment_prob.append(predict_tweet_prob(i, freqs)[0][1])"
   ]
  },
  {
   "cell_type": "code",
   "execution_count": 29,
   "metadata": {},
   "outputs": [
    {
     "data": {
      "text/plain": [
       "[1.0, 0.0, 1.0, 0.0, 0.0, 0.0, 0.0, 0.0, 0.0, 0.0, 0.0, 0.0]"
      ]
     },
     "execution_count": 29,
     "metadata": {},
     "output_type": "execute_result"
    }
   ],
   "source": [
    "sentiment\n"
   ]
  },
  {
   "cell_type": "code",
   "execution_count": 30,
   "metadata": {},
   "outputs": [
    {
     "data": {
      "text/plain": [
       "[0.6695515692647688,\n",
       " 0.012659091349997681,\n",
       " 0.8326791209409139,\n",
       " 0.07580211607174459,\n",
       " 0.0025454909101454495,\n",
       " 0.018872802031474317,\n",
       " 0.14695255146151398,\n",
       " 0.22099345466835518,\n",
       " 0.383674231977853,\n",
       " 0.012820320610267732,\n",
       " 0.01687993067573554,\n",
       " 0.009441774949025096]"
      ]
     },
     "execution_count": 30,
     "metadata": {},
     "output_type": "execute_result"
    }
   ],
   "source": [
    "sentiment_prob"
   ]
  },
  {
   "cell_type": "code",
   "execution_count": 47,
   "metadata": {},
   "outputs": [],
   "source": [
    "df['sentiment'] = sentiment\n",
    "df['sentiment_prob'] = sentiment_prob\n"
   ]
  },
  {
   "cell_type": "code",
   "execution_count": 39,
   "metadata": {},
   "outputs": [
    {
     "name": "stdout",
     "output_type": "stream",
     "text": [
      "[0, 12, 2, 7, 2, 4, 13, 11, 34, 11, 8, 6]\n"
     ]
    },
    {
     "data": {
      "text/html": [
       "<div>\n",
       "<style scoped>\n",
       "    .dataframe tbody tr th:only-of-type {\n",
       "        vertical-align: middle;\n",
       "    }\n",
       "\n",
       "    .dataframe tbody tr th {\n",
       "        vertical-align: top;\n",
       "    }\n",
       "\n",
       "    .dataframe thead th {\n",
       "        text-align: right;\n",
       "    }\n",
       "</style>\n",
       "<table border=\"1\" class=\"dataframe\">\n",
       "  <thead>\n",
       "    <tr style=\"text-align: right;\">\n",
       "      <th></th>\n",
       "      <th>Date</th>\n",
       "      <th>Header</th>\n",
       "      <th>Text</th>\n",
       "      <th>Open</th>\n",
       "      <th>Volume</th>\n",
       "      <th>% Change in Stock Price</th>\n",
       "      <th>% Change in Volume</th>\n",
       "      <th>Text (clean)</th>\n",
       "      <th>Vader Sentiment Score</th>\n",
       "      <th>sentiment</th>\n",
       "      <th>sentiment_prob</th>\n",
       "      <th>Days Elapsed</th>\n",
       "      <th>% Change in Stock Price Per Day</th>\n",
       "    </tr>\n",
       "  </thead>\n",
       "  <tbody>\n",
       "    <tr>\n",
       "      <th>0</th>\n",
       "      <td>2016-08-10</td>\n",
       "      <td>Samsung Electronics says to acquire U.S. appli...</td>\n",
       "      <td>- South Korean tech giant Samsung Electronics...</td>\n",
       "      <td>31340.0</td>\n",
       "      <td>12340350</td>\n",
       "      <td>NaN</td>\n",
       "      <td>NaN</td>\n",
       "      <td>south korean tech giant Samsung Electronics Co...</td>\n",
       "      <td>0.8555</td>\n",
       "      <td>1.0</td>\n",
       "      <td>0.669552</td>\n",
       "      <td>0</td>\n",
       "      <td>NaN</td>\n",
       "    </tr>\n",
       "    <tr>\n",
       "      <th>1</th>\n",
       "      <td>2016-08-22</td>\n",
       "      <td>Samsung plans refurbished smartphone program: ...</td>\n",
       "      <td>- Samsung Electronics Co Ltd plans to launch ...</td>\n",
       "      <td>33480.0</td>\n",
       "      <td>12612200</td>\n",
       "      <td>6.828334</td>\n",
       "      <td>2.202936</td>\n",
       "      <td>Samsung Electronics Co Ltd plan launch program...</td>\n",
       "      <td>0.9971</td>\n",
       "      <td>0.0</td>\n",
       "      <td>0.012659</td>\n",
       "      <td>12</td>\n",
       "      <td>0.569028</td>\n",
       "    </tr>\n",
       "    <tr>\n",
       "      <th>2</th>\n",
       "      <td>2016-08-24</td>\n",
       "      <td>Samsung, Tencent surge in race to become Asia'...</td>\n",
       "      <td>- Tencent Holdings Ltd 0700.HK and Samsung El...</td>\n",
       "      <td>33600.0</td>\n",
       "      <td>15938550</td>\n",
       "      <td>0.358423</td>\n",
       "      <td>26.374066</td>\n",
       "      <td>Tencent Holdings Ltd 0700.hk Samsung Electroni...</td>\n",
       "      <td>0.9963</td>\n",
       "      <td>1.0</td>\n",
       "      <td>0.832679</td>\n",
       "      <td>2</td>\n",
       "      <td>0.179211</td>\n",
       "    </tr>\n",
       "    <tr>\n",
       "      <th>3</th>\n",
       "      <td>2016-08-31</td>\n",
       "      <td>Nokia's patent chief departs in wake of Samsun...</td>\n",
       "      <td>- The head of Nokia’s small, but highly profi...</td>\n",
       "      <td>32820.0</td>\n",
       "      <td>20532200</td>\n",
       "      <td>-2.321429</td>\n",
       "      <td>28.821003</td>\n",
       "      <td>head Nokia small highly profitable patent lice...</td>\n",
       "      <td>0.9930</td>\n",
       "      <td>0.0</td>\n",
       "      <td>0.075802</td>\n",
       "      <td>7</td>\n",
       "      <td>-0.331633</td>\n",
       "    </tr>\n",
       "    <tr>\n",
       "      <th>4</th>\n",
       "      <td>2016-09-02</td>\n",
       "      <td>Samsung recalls Galaxy Note 7 phones after bat...</td>\n",
       "      <td>- Samsung Electronics Co Ltd has recalled all...</td>\n",
       "      <td>31900.0</td>\n",
       "      <td>8153000</td>\n",
       "      <td>-2.803169</td>\n",
       "      <td>-60.291639</td>\n",
       "      <td>Samsung Electronics Co Ltd recall Galaxy Note ...</td>\n",
       "      <td>0.9854</td>\n",
       "      <td>0.0</td>\n",
       "      <td>0.002545</td>\n",
       "      <td>2</td>\n",
       "      <td>-1.401584</td>\n",
       "    </tr>\n",
       "  </tbody>\n",
       "</table>\n",
       "</div>"
      ],
      "text/plain": [
       "        Date                                             Header  \\\n",
       "0 2016-08-10  Samsung Electronics says to acquire U.S. appli...   \n",
       "1 2016-08-22  Samsung plans refurbished smartphone program: ...   \n",
       "2 2016-08-24  Samsung, Tencent surge in race to become Asia'...   \n",
       "3 2016-08-31  Nokia's patent chief departs in wake of Samsun...   \n",
       "4 2016-09-02  Samsung recalls Galaxy Note 7 phones after bat...   \n",
       "\n",
       "                                                Text     Open    Volume  \\\n",
       "0   - South Korean tech giant Samsung Electronics...  31340.0  12340350   \n",
       "1   - Samsung Electronics Co Ltd plans to launch ...  33480.0  12612200   \n",
       "2   - Tencent Holdings Ltd 0700.HK and Samsung El...  33600.0  15938550   \n",
       "3   - The head of Nokia’s small, but highly profi...  32820.0  20532200   \n",
       "4   - Samsung Electronics Co Ltd has recalled all...  31900.0   8153000   \n",
       "\n",
       "   % Change in Stock Price  % Change in Volume  \\\n",
       "0                      NaN                 NaN   \n",
       "1                 6.828334            2.202936   \n",
       "2                 0.358423           26.374066   \n",
       "3                -2.321429           28.821003   \n",
       "4                -2.803169          -60.291639   \n",
       "\n",
       "                                        Text (clean)  Vader Sentiment Score  \\\n",
       "0  south korean tech giant Samsung Electronics Co...                 0.8555   \n",
       "1  Samsung Electronics Co Ltd plan launch program...                 0.9971   \n",
       "2  Tencent Holdings Ltd 0700.hk Samsung Electroni...                 0.9963   \n",
       "3  head Nokia small highly profitable patent lice...                 0.9930   \n",
       "4  Samsung Electronics Co Ltd recall Galaxy Note ...                 0.9854   \n",
       "\n",
       "   sentiment  sentiment_prob  Days Elapsed  % Change in Stock Price Per Day  \n",
       "0        1.0        0.669552             0                              NaN  \n",
       "1        0.0        0.012659            12                         0.569028  \n",
       "2        1.0        0.832679             2                         0.179211  \n",
       "3        0.0        0.075802             7                        -0.331633  \n",
       "4        0.0        0.002545             2                        -1.401584  "
      ]
     },
     "execution_count": 39,
     "metadata": {},
     "output_type": "execute_result"
    }
   ],
   "source": [
    "# Converting % stock price change to % stock price change per day\n",
    "days = [0]\n",
    "for i in range(len(df['Date'])):\n",
    "    if i != 0:\n",
    "        date_diff = df['Date'][i]-df['Date'][i-1]\n",
    "        day = date_diff.days\n",
    "        days.append(day)\n",
    "print(days)\n",
    "df['Days Elapsed'] = days\n",
    "df.head()\n",
    "df['% Change in Stock Price Per Day'] = df['% Change in Stock Price']/df['Days Elapsed']\n",
    "df.head()"
   ]
  },
  {
   "cell_type": "code",
   "execution_count": 44,
   "metadata": {},
   "outputs": [],
   "source": [
    "df['Vader Sentiment'] = df['Vader Sentiment Score'].apply(lambda x: \"positive\" if x>0 else \"negative\")\n",
    "df['Logistic Regression Sentiment'] = df['sentiment_prob'].apply(lambda x: \"positive\" if x>0.5 else \"negative\")\n",
    "df['Stock Price Change'] = df['% Change in Stock Price Per Day'].apply(lambda x: \"positive\" if x>0 else \"negative\")"
   ]
  },
  {
   "cell_type": "code",
   "execution_count": 46,
   "metadata": {},
   "outputs": [
    {
     "data": {
      "text/html": [
       "<div>\n",
       "<style scoped>\n",
       "    .dataframe tbody tr th:only-of-type {\n",
       "        vertical-align: middle;\n",
       "    }\n",
       "\n",
       "    .dataframe tbody tr th {\n",
       "        vertical-align: top;\n",
       "    }\n",
       "\n",
       "    .dataframe thead th {\n",
       "        text-align: right;\n",
       "    }\n",
       "</style>\n",
       "<table border=\"1\" class=\"dataframe\">\n",
       "  <thead>\n",
       "    <tr style=\"text-align: right;\">\n",
       "      <th></th>\n",
       "      <th>Date</th>\n",
       "      <th>Header</th>\n",
       "      <th>Stock Price Change</th>\n",
       "      <th>Vader Sentiment</th>\n",
       "      <th>Logistic Regression Sentiment</th>\n",
       "    </tr>\n",
       "  </thead>\n",
       "  <tbody>\n",
       "    <tr>\n",
       "      <th>0</th>\n",
       "      <td>2016-08-10</td>\n",
       "      <td>Samsung Electronics says to acquire U.S. appli...</td>\n",
       "      <td>negative</td>\n",
       "      <td>positive</td>\n",
       "      <td>positive</td>\n",
       "    </tr>\n",
       "    <tr>\n",
       "      <th>1</th>\n",
       "      <td>2016-08-22</td>\n",
       "      <td>Samsung plans refurbished smartphone program: ...</td>\n",
       "      <td>positive</td>\n",
       "      <td>positive</td>\n",
       "      <td>negative</td>\n",
       "    </tr>\n",
       "    <tr>\n",
       "      <th>2</th>\n",
       "      <td>2016-08-24</td>\n",
       "      <td>Samsung, Tencent surge in race to become Asia'...</td>\n",
       "      <td>positive</td>\n",
       "      <td>positive</td>\n",
       "      <td>positive</td>\n",
       "    </tr>\n",
       "    <tr>\n",
       "      <th>3</th>\n",
       "      <td>2016-08-31</td>\n",
       "      <td>Nokia's patent chief departs in wake of Samsun...</td>\n",
       "      <td>negative</td>\n",
       "      <td>positive</td>\n",
       "      <td>negative</td>\n",
       "    </tr>\n",
       "    <tr>\n",
       "      <th>4</th>\n",
       "      <td>2016-09-02</td>\n",
       "      <td>Samsung recalls Galaxy Note 7 phones after bat...</td>\n",
       "      <td>negative</td>\n",
       "      <td>positive</td>\n",
       "      <td>negative</td>\n",
       "    </tr>\n",
       "  </tbody>\n",
       "</table>\n",
       "</div>"
      ],
      "text/plain": [
       "        Date                                             Header  \\\n",
       "0 2016-08-10  Samsung Electronics says to acquire U.S. appli...   \n",
       "1 2016-08-22  Samsung plans refurbished smartphone program: ...   \n",
       "2 2016-08-24  Samsung, Tencent surge in race to become Asia'...   \n",
       "3 2016-08-31  Nokia's patent chief departs in wake of Samsun...   \n",
       "4 2016-09-02  Samsung recalls Galaxy Note 7 phones after bat...   \n",
       "\n",
       "  Stock Price Change Vader Sentiment Logistic Regression Sentiment  \n",
       "0           negative        positive                      positive  \n",
       "1           positive        positive                      negative  \n",
       "2           positive        positive                      positive  \n",
       "3           negative        positive                      negative  \n",
       "4           negative        positive                      negative  "
      ]
     },
     "execution_count": 46,
     "metadata": {},
     "output_type": "execute_result"
    }
   ],
   "source": [
    "columns = ['Date','Header','Stock Price Change', 'Vader Sentiment', 'Logistic Regression Sentiment']\n",
    "df_summary = df[columns]\n",
    "df_summary.head()"
   ]
  }
 ],
 "metadata": {
  "kernelspec": {
   "display_name": "Python 3",
   "language": "python",
   "name": "python3"
  },
  "language_info": {
   "codemirror_mode": {
    "name": "ipython",
    "version": 3
   },
   "file_extension": ".py",
   "mimetype": "text/x-python",
   "name": "python",
   "nbconvert_exporter": "python",
   "pygments_lexer": "ipython3",
   "version": "3.7.9"
  }
 },
 "nbformat": 4,
 "nbformat_minor": 4
}
