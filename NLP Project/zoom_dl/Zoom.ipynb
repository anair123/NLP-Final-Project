{
  "nbformat": 4,
  "nbformat_minor": 0,
  "metadata": {
    "colab": {
      "name": "Zoom.ipynb",
      "provenance": [],
      "collapsed_sections": []
    },
    "kernelspec": {
      "display_name": "Python 3",
      "language": "python",
      "name": "python3"
    },
    "language_info": {
      "codemirror_mode": {
        "name": "ipython",
        "version": 3
      },
      "file_extension": ".py",
      "mimetype": "text/x-python",
      "name": "python",
      "nbconvert_exporter": "python",
      "pygments_lexer": "ipython3",
      "version": "3.7.9"
    },
    "accelerator": "GPU"
  },
  "cells": [
    {
      "cell_type": "code",
      "metadata": {
        "colab": {
          "base_uri": "https://localhost:8080/"
        },
        "id": "4KIc9CqvwFKB",
        "outputId": "934e9cbc-f5a4-4ae0-8096-ebb62fe0d288"
      },
      "source": [
        "from google.colab import drive\r\n",
        "\r\n",
        "# Mount Google Drive\r\n",
        "drive.mount('/content/drive')\r\n",
        "\r\n",
        "# Implement me\r\n",
        "# Set working directory\r\n",
        "abspath = '/content/drive/My Drive/Colab Notebooks/NLP/NLP-Final-Project/NLP Project'"
      ],
      "execution_count": 2,
      "outputs": [
        {
          "output_type": "stream",
          "text": [
            "Drive already mounted at /content/drive; to attempt to forcibly remount, call drive.mount(\"/content/drive\", force_remount=True).\n"
          ],
          "name": "stdout"
        }
      ]
    },
    {
      "cell_type": "code",
      "metadata": {
        "colab": {
          "base_uri": "https://localhost:8080/",
          "height": 35
        },
        "id": "vhUL2aG1wFCW",
        "outputId": "64adb118-cea0-496c-d0fa-3d2b66f173e3"
      },
      "source": [
        "import os\r\n",
        "os.chdir(abspath)\r\n",
        "os.getcwd()"
      ],
      "execution_count": 3,
      "outputs": [
        {
          "output_type": "execute_result",
          "data": {
            "application/vnd.google.colaboratory.intrinsic+json": {
              "type": "string"
            },
            "text/plain": [
              "'/content/drive/My Drive/Colab Notebooks/NLP/NLP-Final-Project/NLP Project'"
            ]
          },
          "metadata": {
            "tags": []
          },
          "execution_count": 3
        }
      ]
    },
    {
      "cell_type": "code",
      "metadata": {
        "id": "WyMI88bxSQqX"
      },
      "source": [
        "import requests\n",
        "from bs4 import BeautifulSoup\n",
        "import pandas as pd\n",
        "from datetime import datetime\n",
        "import dateutil.parser\n",
        "import matplotlib.pyplot as plt"
      ],
      "execution_count": 4,
      "outputs": []
    },
    {
      "cell_type": "code",
      "metadata": {
        "id": "0AD0Rma8SQqX"
      },
      "source": [
        "# dictionary of text dates and links (June 2020 to September 2020)\n",
        "\n",
        "date1 = '2020-06-02' \n",
        "url1 = 'https://www.reuters.com/article/us-zoom-video-commn-results/zoom-doubles-forecast-for-full-year-revenue-on-remote-work-boost-idUSKBN2392XF'\n",
        "\n",
        "date2 = '2020-06-11'\n",
        "url2 = 'https://www.reuters.com/article/zoom-video-commn-privacy-idUSL4N2DO4A4'\n",
        "\n",
        "date3 = '2020-06-11'\n",
        "url3 = 'https://www.reuters.com/article/zoom-video-commn-privacy-idUSL4N2DO4A4'\n",
        "\n",
        "date4 = '2020-06-24'\n",
        "url4 = 'https://www.reuters.com/article/us-zoom-video-commn-moves-jason-lee-idUSKBN23V2PN'\n",
        "\n",
        "\n",
        "date5 = '2020-07-01'\n",
        "url5 = 'https://www.reuters.com/article/us-zoom-video-commn-privacy-idUSKBN2425ZU'\n",
        "\n",
        "date6 = '2020-07-07'\n",
        "url6 = 'https://www.reuters.com/article/us-zoom-video-commn-hardware-idUSKBN2481ZK'\n",
        "\n",
        "date7 = '2020-07-16'\n",
        "url7 = 'https://www.reuters.com/article/us-motor-f1-zoom-idUSKCN24H1FG'\n",
        "\n",
        "date8 = '2020-07-21'\n",
        "url8 = 'https://www.reuters.com/article/us-zoom-video-commn-india-idUSKCN24M0YL'\n",
        "\n",
        "date9 = '2020-07-30'\n",
        "url9 = 'https://www.reuters.com/article/us-usa-china-tiktok-zoom/senators-urge-u-s-justice-department-to-probe-tiktok-zoom-idUSKCN24V36O?'\n",
        "\n",
        "date10 = '2020-08-18'\n",
        "url10 = 'https://www.reuters.com/article/us-zoom-singapore-data-centre-idUSKCN25E188'\n",
        "\n",
        "date11 = '2020-08-24'\n",
        "url11 = 'https://in.reuters.com/article/us-zoom-video-commn-outages/zoom-says-service-restored-after-u-s-users-hit-by-partial-outage-idINKBN25K1NT'\n",
        "\n",
        "date12 = '2020-08-31'\n",
        "url12 = 'https://www.reuters.com/article/zoom-video-commn-results/zoom-beats-quarterly-revenue-estimates-on-remote-work-boost-idINL4N2FX4GW'\n",
        "\n",
        "date13 = '2020-09-01'\n",
        "url13 = 'https://www.reuters.com/article/us-health-coronavirus-finance-breakingvi-idUSKBN25S4RO'\n",
        "\n",
        "date14 = '2020-09-08'\n",
        "url14 = 'https://www.reuters.com/article/us-indonesia-tax-digital/indonesia-adds-twitter-zoom-to-tech-companies-that-must-pay-10-vat-idUSKBN25Z2CU'\n",
        "\n",
        "date15 = '2020-09-15'\n",
        "url15 = 'https://www.reuters.com/article/zoom-video-commn-results-int-idUSKBN25R2QV'\n",
        "\n",
        "\n",
        "\n",
        "url_dict = {date1:url1,\n",
        "            date2:url2,\n",
        "            date3:url3,\n",
        "            date4:url4,\n",
        "            date5:url5,\n",
        "            date6:url6,\n",
        "            date7:url7,\n",
        "            date8:url8,\n",
        "            date9:url9,\n",
        "            date10:url10,\n",
        "            date11:url11,\n",
        "            date12:url12,\n",
        "            date13:url13,\n",
        "            date14:url14,\n",
        "            date15:url15\n",
        "           }\n"
      ],
      "execution_count": 5,
      "outputs": []
    },
    {
      "cell_type": "code",
      "metadata": {
        "id": "8QdZBTyeSQqX",
        "colab": {
          "base_uri": "https://localhost:8080/"
        },
        "outputId": "9255fb5c-56af-4076-e559-0bf2b248da76"
      },
      "source": [
        "for key in url_dict:\n",
        "    page = requests.get(url_dict[key]).text\n",
        "    soup = BeautifulSoup(page, 'html.parser')\n",
        "    print(soup.find('h1').text)"
      ],
      "execution_count": 6,
      "outputs": [
        {
          "output_type": "stream",
          "text": [
            "Zoom nearly doubles revenue forecast on remote-work boost, but costs rising\n",
            "Zoom denies giving user information to Chinese government\n",
            "Zoom taps former Salesforce executive as information security head\n",
            "Zoom says added over 100 features as part of 90-day security plan\n",
            "Zoom rolls out hardware subscription service\n",
            "Formula One, Zoom announce partnership for virtual Paddock Club\n",
            "Zoom to open tech centre in India's Bengaluru\n",
            "Senators urge U.S. Justice Department to probe TikTok, Zoom\n",
            "Zoom opens new data center in Singapore\n",
            "Zoom says service restored after U.S. users hit by partial outage\n",
            "Zoom beats quarterly revenue estimates on remote work boost\n",
            "Breakingviews - Corona Capital: Zooming through Covid\n",
            "Indonesia adds Twitter, Zoom to tech companies that must pay 10% VAT\n",
            "Zoom forecasts sales surge as video conferencing becomes a daily routine\n"
          ],
          "name": "stdout"
        }
      ]
    },
    {
      "cell_type": "code",
      "metadata": {
        "id": "9BEWAuFBSQqY"
      },
      "source": [
        "# extract info from each website and store it in dataframe\n",
        "df_text = pd.DataFrame(columns = ['Date','Header','Text'])\n",
        "header = []\n",
        "text = []\n",
        "date = []\n",
        "for key in url_dict:\n",
        "    page = requests.get(url_dict[key]).text\n",
        "    soup = BeautifulSoup(page, 'html.parser')\n",
        "    date.append(datetime.strptime(key, '%Y-%m-%d').date())\n",
        "    url_header = soup.find('h1').text\n",
        "    \n",
        "    header.append(url_header)\n",
        "    url_text = soup.find('div', class_ = 'ArticleBodyWrapper').text\n",
        "    text.append(url_text)\n",
        "df_text['Date']=date\n",
        "df_text['Header']=header\n",
        "df_text['Text']=text\n",
        "\n",
        "# remove the author and \"min read\" sections\n",
        "df_text_temp = [] \n",
        "for text in df_text['Text']:\n",
        "    loc = text.find('(Reuters)')\n",
        "    df_text_temp.append(text[loc+9:])\n",
        "df_text['Text'] = df_text_temp\n",
        "\n"
      ],
      "execution_count": 7,
      "outputs": []
    },
    {
      "cell_type": "code",
      "metadata": {
        "id": "98DOlrp4SQqY",
        "colab": {
          "base_uri": "https://localhost:8080/",
          "height": 203
        },
        "outputId": "45fce5de-cdba-42ba-8de3-f5f137ca5343"
      },
      "source": [
        "df_text['Date'] = df_text['Date'].apply(lambda x: pd.to_datetime(x))\n",
        "df_text.head()"
      ],
      "execution_count": 8,
      "outputs": [
        {
          "output_type": "execute_result",
          "data": {
            "text/html": [
              "<div>\n",
              "<style scoped>\n",
              "    .dataframe tbody tr th:only-of-type {\n",
              "        vertical-align: middle;\n",
              "    }\n",
              "\n",
              "    .dataframe tbody tr th {\n",
              "        vertical-align: top;\n",
              "    }\n",
              "\n",
              "    .dataframe thead th {\n",
              "        text-align: right;\n",
              "    }\n",
              "</style>\n",
              "<table border=\"1\" class=\"dataframe\">\n",
              "  <thead>\n",
              "    <tr style=\"text-align: right;\">\n",
              "      <th></th>\n",
              "      <th>Date</th>\n",
              "      <th>Header</th>\n",
              "      <th>Text</th>\n",
              "    </tr>\n",
              "  </thead>\n",
              "  <tbody>\n",
              "    <tr>\n",
              "      <th>0</th>\n",
              "      <td>2020-06-02</td>\n",
              "      <td>Zoom nearly doubles revenue forecast on remote...</td>\n",
              "      <td>- Zoom Video Communications Inc ZM.O nearly d...</td>\n",
              "    </tr>\n",
              "    <tr>\n",
              "      <th>1</th>\n",
              "      <td>2020-06-11</td>\n",
              "      <td>Zoom denies giving user information to Chinese...</td>\n",
              "      <td>- Zoom Video Communications Inc said on Thurs...</td>\n",
              "    </tr>\n",
              "    <tr>\n",
              "      <th>2</th>\n",
              "      <td>2020-06-24</td>\n",
              "      <td>Zoom taps former Salesforce executive as infor...</td>\n",
              "      <td>- Zoom Video Communications Inc on Wednesday ...</td>\n",
              "    </tr>\n",
              "    <tr>\n",
              "      <th>3</th>\n",
              "      <td>2020-07-01</td>\n",
              "      <td>Zoom says added over 100 features as part of 9...</td>\n",
              "      <td>- Zoom Video Communications Inc said on Wedne...</td>\n",
              "    </tr>\n",
              "    <tr>\n",
              "      <th>4</th>\n",
              "      <td>2020-07-07</td>\n",
              "      <td>Zoom rolls out hardware subscription service</td>\n",
              "      <td>- Zoom Video Communications Inc ZM.O said on ...</td>\n",
              "    </tr>\n",
              "  </tbody>\n",
              "</table>\n",
              "</div>"
            ],
            "text/plain": [
              "        Date  ...                                               Text\n",
              "0 2020-06-02  ...   - Zoom Video Communications Inc ZM.O nearly d...\n",
              "1 2020-06-11  ...   - Zoom Video Communications Inc said on Thurs...\n",
              "2 2020-06-24  ...   - Zoom Video Communications Inc on Wednesday ...\n",
              "3 2020-07-01  ...   - Zoom Video Communications Inc said on Wedne...\n",
              "4 2020-07-07  ...   - Zoom Video Communications Inc ZM.O said on ...\n",
              "\n",
              "[5 rows x 3 columns]"
            ]
          },
          "metadata": {
            "tags": []
          },
          "execution_count": 8
        }
      ]
    },
    {
      "cell_type": "code",
      "metadata": {
        "id": "VyIwimBvSQqY",
        "colab": {
          "base_uri": "https://localhost:8080/",
          "height": 203
        },
        "outputId": "a53e904d-73d0-4d97-a28e-bd84e7c11000"
      },
      "source": [
        "# import stock data of Zoom\n",
        "df_stock = pd.read_csv('ZM.csv', header=0)\n",
        "\n",
        "df_stock['Date']=df_stock['Date'].apply(lambda x: datetime.strptime(x, '%Y-%m-%d'))\n",
        "\n",
        "\n",
        "df_stock = df_stock.drop(['High','Low','Close','Adj Close'], axis=1)\n",
        "df_stock.head()"
      ],
      "execution_count": 9,
      "outputs": [
        {
          "output_type": "execute_result",
          "data": {
            "text/html": [
              "<div>\n",
              "<style scoped>\n",
              "    .dataframe tbody tr th:only-of-type {\n",
              "        vertical-align: middle;\n",
              "    }\n",
              "\n",
              "    .dataframe tbody tr th {\n",
              "        vertical-align: top;\n",
              "    }\n",
              "\n",
              "    .dataframe thead th {\n",
              "        text-align: right;\n",
              "    }\n",
              "</style>\n",
              "<table border=\"1\" class=\"dataframe\">\n",
              "  <thead>\n",
              "    <tr style=\"text-align: right;\">\n",
              "      <th></th>\n",
              "      <th>Date</th>\n",
              "      <th>Open</th>\n",
              "      <th>Volume</th>\n",
              "    </tr>\n",
              "  </thead>\n",
              "  <tbody>\n",
              "    <tr>\n",
              "      <th>0</th>\n",
              "      <td>2019-12-02</td>\n",
              "      <td>74.059998</td>\n",
              "      <td>3138600</td>\n",
              "    </tr>\n",
              "    <tr>\n",
              "      <th>1</th>\n",
              "      <td>2019-12-03</td>\n",
              "      <td>66.720001</td>\n",
              "      <td>2444200</td>\n",
              "    </tr>\n",
              "    <tr>\n",
              "      <th>2</th>\n",
              "      <td>2019-12-04</td>\n",
              "      <td>70.500000</td>\n",
              "      <td>2076500</td>\n",
              "    </tr>\n",
              "    <tr>\n",
              "      <th>3</th>\n",
              "      <td>2019-12-05</td>\n",
              "      <td>70.029999</td>\n",
              "      <td>3672600</td>\n",
              "    </tr>\n",
              "    <tr>\n",
              "      <th>4</th>\n",
              "      <td>2019-12-06</td>\n",
              "      <td>64.260002</td>\n",
              "      <td>11253600</td>\n",
              "    </tr>\n",
              "  </tbody>\n",
              "</table>\n",
              "</div>"
            ],
            "text/plain": [
              "        Date       Open    Volume\n",
              "0 2019-12-02  74.059998   3138600\n",
              "1 2019-12-03  66.720001   2444200\n",
              "2 2019-12-04  70.500000   2076500\n",
              "3 2019-12-05  70.029999   3672600\n",
              "4 2019-12-06  64.260002  11253600"
            ]
          },
          "metadata": {
            "tags": []
          },
          "execution_count": 9
        }
      ]
    },
    {
      "cell_type": "code",
      "metadata": {
        "id": "-lfqFFgMSQqZ",
        "colab": {
          "base_uri": "https://localhost:8080/"
        },
        "outputId": "da46ff8b-f453-485d-b784-81a92cbc380b"
      },
      "source": [
        "df_text['Date'].dtypes"
      ],
      "execution_count": 10,
      "outputs": [
        {
          "output_type": "execute_result",
          "data": {
            "text/plain": [
              "dtype('<M8[ns]')"
            ]
          },
          "metadata": {
            "tags": []
          },
          "execution_count": 10
        }
      ]
    },
    {
      "cell_type": "code",
      "metadata": {
        "id": "oMU9Tcm1SQqZ",
        "colab": {
          "base_uri": "https://localhost:8080/"
        },
        "outputId": "64c37439-d04f-4d76-9e05-3d759218f31e"
      },
      "source": [
        "df_stock['Date'].dtypes"
      ],
      "execution_count": 11,
      "outputs": [
        {
          "output_type": "execute_result",
          "data": {
            "text/plain": [
              "dtype('<M8[ns]')"
            ]
          },
          "metadata": {
            "tags": []
          },
          "execution_count": 11
        }
      ]
    },
    {
      "cell_type": "code",
      "metadata": {
        "id": "MKsd-llGSQqZ"
      },
      "source": [
        "# Merge two dataframes\n",
        "df = pd.merge(df_text, df_stock, how='inner', on='Date')\n",
        "df = df.sort_values('Date')"
      ],
      "execution_count": 12,
      "outputs": []
    },
    {
      "cell_type": "code",
      "metadata": {
        "id": "tqG8kBLISQqZ",
        "colab": {
          "base_uri": "https://localhost:8080/",
          "height": 203
        },
        "outputId": "f97e3590-585d-49af-8173-99799978e2e0"
      },
      "source": [
        "# show % change in stock price after news article publish\n",
        "pct_stock = df['Open'].pct_change()*100\n",
        "df['% Change in Stock Price'] = pct_stock\n",
        "pct_volume = df['Volume'].pct_change()*100\n",
        "df['% Change in Volume'] = pct_volume\n",
        "df.head()"
      ],
      "execution_count": 13,
      "outputs": [
        {
          "output_type": "execute_result",
          "data": {
            "text/html": [
              "<div>\n",
              "<style scoped>\n",
              "    .dataframe tbody tr th:only-of-type {\n",
              "        vertical-align: middle;\n",
              "    }\n",
              "\n",
              "    .dataframe tbody tr th {\n",
              "        vertical-align: top;\n",
              "    }\n",
              "\n",
              "    .dataframe thead th {\n",
              "        text-align: right;\n",
              "    }\n",
              "</style>\n",
              "<table border=\"1\" class=\"dataframe\">\n",
              "  <thead>\n",
              "    <tr style=\"text-align: right;\">\n",
              "      <th></th>\n",
              "      <th>Date</th>\n",
              "      <th>Header</th>\n",
              "      <th>Text</th>\n",
              "      <th>Open</th>\n",
              "      <th>Volume</th>\n",
              "      <th>% Change in Stock Price</th>\n",
              "      <th>% Change in Volume</th>\n",
              "    </tr>\n",
              "  </thead>\n",
              "  <tbody>\n",
              "    <tr>\n",
              "      <th>0</th>\n",
              "      <td>2020-06-02</td>\n",
              "      <td>Zoom nearly doubles revenue forecast on remote...</td>\n",
              "      <td>- Zoom Video Communications Inc ZM.O nearly d...</td>\n",
              "      <td>210.250000</td>\n",
              "      <td>36853400</td>\n",
              "      <td>NaN</td>\n",
              "      <td>NaN</td>\n",
              "    </tr>\n",
              "    <tr>\n",
              "      <th>1</th>\n",
              "      <td>2020-06-11</td>\n",
              "      <td>Zoom denies giving user information to Chinese...</td>\n",
              "      <td>- Zoom Video Communications Inc said on Thurs...</td>\n",
              "      <td>219.179993</td>\n",
              "      <td>17615800</td>\n",
              "      <td>4.247321</td>\n",
              "      <td>-52.200340</td>\n",
              "    </tr>\n",
              "    <tr>\n",
              "      <th>2</th>\n",
              "      <td>2020-06-24</td>\n",
              "      <td>Zoom taps former Salesforce executive as infor...</td>\n",
              "      <td>- Zoom Video Communications Inc on Wednesday ...</td>\n",
              "      <td>254.500000</td>\n",
              "      <td>9862800</td>\n",
              "      <td>16.114613</td>\n",
              "      <td>-44.011626</td>\n",
              "    </tr>\n",
              "    <tr>\n",
              "      <th>3</th>\n",
              "      <td>2020-07-01</td>\n",
              "      <td>Zoom says added over 100 features as part of 9...</td>\n",
              "      <td>- Zoom Video Communications Inc said on Wedne...</td>\n",
              "      <td>251.350006</td>\n",
              "      <td>6803300</td>\n",
              "      <td>-1.237719</td>\n",
              "      <td>-31.020603</td>\n",
              "    </tr>\n",
              "    <tr>\n",
              "      <th>4</th>\n",
              "      <td>2020-07-07</td>\n",
              "      <td>Zoom rolls out hardware subscription service</td>\n",
              "      <td>- Zoom Video Communications Inc ZM.O said on ...</td>\n",
              "      <td>261.549988</td>\n",
              "      <td>7819700</td>\n",
              "      <td>4.058079</td>\n",
              "      <td>14.939809</td>\n",
              "    </tr>\n",
              "  </tbody>\n",
              "</table>\n",
              "</div>"
            ],
            "text/plain": [
              "        Date  ... % Change in Volume\n",
              "0 2020-06-02  ...                NaN\n",
              "1 2020-06-11  ...         -52.200340\n",
              "2 2020-06-24  ...         -44.011626\n",
              "3 2020-07-01  ...         -31.020603\n",
              "4 2020-07-07  ...          14.939809\n",
              "\n",
              "[5 rows x 7 columns]"
            ]
          },
          "metadata": {
            "tags": []
          },
          "execution_count": 13
        }
      ]
    },
    {
      "cell_type": "markdown",
      "metadata": {
        "id": "J07oHTFuSQqZ"
      },
      "source": [
        "\n",
        "# Processing the text\n"
      ]
    },
    {
      "cell_type": "markdown",
      "metadata": {
        "id": "v_xGS_KOSQqZ"
      },
      "source": [
        "## import spacy libraries\n",
        "import spacy\n",
        "import en_core_web_sm\n",
        "from  spacy.lang.en.stop_words import STOP_WORDS\n",
        "nlp = spacy.load('en_core_web_sm')"
      ]
    },
    {
      "cell_type": "code",
      "metadata": {
        "id": "C6ZyQ2WqSQqZ"
      },
      "source": [
        "# import spacy libraries\n",
        "import spacy\n",
        "import en_core_web_sm\n",
        "from  spacy.lang.en.stop_words import STOP_WORDS\n",
        "nlp = spacy.load('en_core_web_sm')"
      ],
      "execution_count": 14,
      "outputs": []
    },
    {
      "cell_type": "code",
      "metadata": {
        "id": "BEImdfNsSQqZ"
      },
      "source": [
        "\n",
        "text_nlp = nlp(df['Text'][1]) \n",
        "# Remove stop words\n",
        "text_nlp_clean = [word for word in text_nlp if word.is_stop == False]\n",
        "# Lemmatize words\n",
        "text_nlp_clean = [word.lemma_ for word in text_nlp_clean]"
      ],
      "execution_count": 15,
      "outputs": []
    },
    {
      "cell_type": "code",
      "metadata": {
        "id": "LZAg6Uo_SQqZ",
        "colab": {
          "base_uri": "https://localhost:8080/",
          "height": 203
        },
        "outputId": "80444815-28ef-446d-b47e-73e1a08ada8f"
      },
      "source": [
        "text_clean = []\n",
        "for ind, row in df.iterrows():\n",
        "    \n",
        "    # lower casing\n",
        "    text_lower = row['Text'].lower()\n",
        "    \n",
        "    # tokenization\n",
        "    text_nlp = nlp(row['Text']) \n",
        "    \n",
        "    # remove punctuation and empty space\n",
        "    text_nlp_clean = [word for word in text_nlp if not word.is_punct | word.is_space]\n",
        "    \n",
        "    # Remove stop words\n",
        "    text_nlp_clean = [word for word in text_nlp_clean if word.is_stop == False]\n",
        "    \n",
        "    # Lemmatize tokens\n",
        "    text_nlp_clean = [word.lemma_ for word in text_nlp_clean]\n",
        "    \n",
        "    # add preprocessed text to list\n",
        "    text_clean.append(text_nlp_clean)\n",
        "\n",
        "# turn list of strings to string\n",
        "to_string = []\n",
        "for text in text_clean:\n",
        "    to_string.append(' '.join(text))\n",
        "\n",
        "\n",
        "df['Text (clean)'] = to_string\n",
        "df.head()"
      ],
      "execution_count": 16,
      "outputs": [
        {
          "output_type": "execute_result",
          "data": {
            "text/html": [
              "<div>\n",
              "<style scoped>\n",
              "    .dataframe tbody tr th:only-of-type {\n",
              "        vertical-align: middle;\n",
              "    }\n",
              "\n",
              "    .dataframe tbody tr th {\n",
              "        vertical-align: top;\n",
              "    }\n",
              "\n",
              "    .dataframe thead th {\n",
              "        text-align: right;\n",
              "    }\n",
              "</style>\n",
              "<table border=\"1\" class=\"dataframe\">\n",
              "  <thead>\n",
              "    <tr style=\"text-align: right;\">\n",
              "      <th></th>\n",
              "      <th>Date</th>\n",
              "      <th>Header</th>\n",
              "      <th>Text</th>\n",
              "      <th>Open</th>\n",
              "      <th>Volume</th>\n",
              "      <th>% Change in Stock Price</th>\n",
              "      <th>% Change in Volume</th>\n",
              "      <th>Text (clean)</th>\n",
              "    </tr>\n",
              "  </thead>\n",
              "  <tbody>\n",
              "    <tr>\n",
              "      <th>0</th>\n",
              "      <td>2020-06-02</td>\n",
              "      <td>Zoom nearly doubles revenue forecast on remote...</td>\n",
              "      <td>- Zoom Video Communications Inc ZM.O nearly d...</td>\n",
              "      <td>210.250000</td>\n",
              "      <td>36853400</td>\n",
              "      <td>NaN</td>\n",
              "      <td>NaN</td>\n",
              "      <td>Zoom Video Communications Inc zm.o nearly doub...</td>\n",
              "    </tr>\n",
              "    <tr>\n",
              "      <th>1</th>\n",
              "      <td>2020-06-11</td>\n",
              "      <td>Zoom denies giving user information to Chinese...</td>\n",
              "      <td>- Zoom Video Communications Inc said on Thurs...</td>\n",
              "      <td>219.179993</td>\n",
              "      <td>17615800</td>\n",
              "      <td>4.247321</td>\n",
              "      <td>-52.200340</td>\n",
              "      <td>Zoom Video Communications Inc say Thursday pro...</td>\n",
              "    </tr>\n",
              "    <tr>\n",
              "      <th>2</th>\n",
              "      <td>2020-06-24</td>\n",
              "      <td>Zoom taps former Salesforce executive as infor...</td>\n",
              "      <td>- Zoom Video Communications Inc on Wednesday ...</td>\n",
              "      <td>254.500000</td>\n",
              "      <td>9862800</td>\n",
              "      <td>16.114613</td>\n",
              "      <td>-44.011626</td>\n",
              "      <td>Zoom Video Communications Inc Wednesday name S...</td>\n",
              "    </tr>\n",
              "    <tr>\n",
              "      <th>3</th>\n",
              "      <td>2020-07-01</td>\n",
              "      <td>Zoom says added over 100 features as part of 9...</td>\n",
              "      <td>- Zoom Video Communications Inc said on Wedne...</td>\n",
              "      <td>251.350006</td>\n",
              "      <td>6803300</td>\n",
              "      <td>-1.237719</td>\n",
              "      <td>-31.020603</td>\n",
              "      <td>Zoom Video Communications Inc say Wednesday ad...</td>\n",
              "    </tr>\n",
              "    <tr>\n",
              "      <th>4</th>\n",
              "      <td>2020-07-07</td>\n",
              "      <td>Zoom rolls out hardware subscription service</td>\n",
              "      <td>- Zoom Video Communications Inc ZM.O said on ...</td>\n",
              "      <td>261.549988</td>\n",
              "      <td>7819700</td>\n",
              "      <td>4.058079</td>\n",
              "      <td>14.939809</td>\n",
              "      <td>Zoom Video Communications Inc ZM.O say Tuesday...</td>\n",
              "    </tr>\n",
              "  </tbody>\n",
              "</table>\n",
              "</div>"
            ],
            "text/plain": [
              "        Date  ...                                       Text (clean)\n",
              "0 2020-06-02  ...  Zoom Video Communications Inc zm.o nearly doub...\n",
              "1 2020-06-11  ...  Zoom Video Communications Inc say Thursday pro...\n",
              "2 2020-06-24  ...  Zoom Video Communications Inc Wednesday name S...\n",
              "3 2020-07-01  ...  Zoom Video Communications Inc say Wednesday ad...\n",
              "4 2020-07-07  ...  Zoom Video Communications Inc ZM.O say Tuesday...\n",
              "\n",
              "[5 rows x 8 columns]"
            ]
          },
          "metadata": {
            "tags": []
          },
          "execution_count": 16
        }
      ]
    },
    {
      "cell_type": "markdown",
      "metadata": {
        "id": "Pd3-9hn1SQqZ"
      },
      "source": [
        "# Using a Pretrained Model "
      ]
    },
    {
      "cell_type": "code",
      "metadata": {
        "id": "gFOOWs_pSQqZ",
        "colab": {
          "base_uri": "https://localhost:8080/"
        },
        "outputId": "bfe01f14-6524-4e82-a6bf-1a3b303a6965"
      },
      "source": [
        "from nltk.sentiment import SentimentIntensityAnalyzer"
      ],
      "execution_count": 17,
      "outputs": [
        {
          "output_type": "stream",
          "text": [
            "/usr/local/lib/python3.6/dist-packages/nltk/twitter/__init__.py:20: UserWarning: The twython library has not been installed. Some functionality from the twitter package will not be available.\n",
            "  warnings.warn(\"The twython library has not been installed. \"\n"
          ],
          "name": "stderr"
        }
      ]
    },
    {
      "cell_type": "code",
      "metadata": {
        "colab": {
          "base_uri": "https://localhost:8080/"
        },
        "id": "WlrSTXLKxl6y",
        "outputId": "ce4217ec-b22f-4b1c-afe0-39cd42bd8480"
      },
      "source": [
        " import nltk\r\n",
        " nltk.download('vader_lexicon')"
      ],
      "execution_count": 55,
      "outputs": [
        {
          "output_type": "stream",
          "text": [
            "[nltk_data] Downloading package vader_lexicon to /root/nltk_data...\n"
          ],
          "name": "stdout"
        },
        {
          "output_type": "execute_result",
          "data": {
            "text/plain": [
              "True"
            ]
          },
          "metadata": {
            "tags": []
          },
          "execution_count": 55
        }
      ]
    },
    {
      "cell_type": "code",
      "metadata": {
        "id": "uGpOXS8iSQqZ"
      },
      "source": [
        "# a function to return sentiment score\n",
        "def polarity_score(text):\n",
        "    sid = SentimentIntensityAnalyzer()\n",
        "    return sid.polarity_scores(text)['compound']\n",
        "\n",
        "vader_score = []\n",
        "for text in df['Text (clean)']:\n",
        "    score = polarity_score(text)\n",
        "    vader_score.append(score)\n",
        "\n",
        "df['Vader Sentiment Score'] = vader_score"
      ],
      "execution_count": 56,
      "outputs": []
    },
    {
      "cell_type": "code",
      "metadata": {
        "id": "jjdJPjlXSQqZ",
        "colab": {
          "base_uri": "https://localhost:8080/",
          "height": 1000
        },
        "outputId": "be5b835c-13ed-4bdb-9137-3a845f3690a6"
      },
      "source": [
        "df.head()"
      ],
      "execution_count": 57,
      "outputs": [
        {
          "output_type": "execute_result",
          "data": {
            "text/html": [
              "<div>\n",
              "<style scoped>\n",
              "    .dataframe tbody tr th:only-of-type {\n",
              "        vertical-align: middle;\n",
              "    }\n",
              "\n",
              "    .dataframe tbody tr th {\n",
              "        vertical-align: top;\n",
              "    }\n",
              "\n",
              "    .dataframe thead th {\n",
              "        text-align: right;\n",
              "    }\n",
              "</style>\n",
              "<table border=\"1\" class=\"dataframe\">\n",
              "  <thead>\n",
              "    <tr style=\"text-align: right;\">\n",
              "      <th></th>\n",
              "      <th>Date</th>\n",
              "      <th>Header</th>\n",
              "      <th>Text</th>\n",
              "      <th>Open</th>\n",
              "      <th>Volume</th>\n",
              "      <th>% Change in Stock Price</th>\n",
              "      <th>% Change in Volume</th>\n",
              "      <th>Text (clean)</th>\n",
              "      <th>deep_learning_sentiment_prob</th>\n",
              "      <th>Days Elapsed</th>\n",
              "      <th>Average % Change in Stock Price</th>\n",
              "      <th>Average % Change in Volume</th>\n",
              "      <th>Logistic Regression Sentiment</th>\n",
              "      <th>Logistic Regression Sentiment Score</th>\n",
              "      <th>Vader Sentiment Score</th>\n",
              "    </tr>\n",
              "  </thead>\n",
              "  <tbody>\n",
              "    <tr>\n",
              "      <th>0</th>\n",
              "      <td>2020-06-02</td>\n",
              "      <td>Zoom nearly doubles revenue forecast on remote-work boost, but costs rising</td>\n",
              "      <td>- Zoom Video Communications Inc ZM.O nearly doubled its expectations for annual sales on Tuesday, driven by a surge in users as more people work from home and connect with friends online during coronavirus lockdowns.FILE PHOTO: Small toy figures are seen in front of diplayed Zoom logo in this illustration taken March 19, 2020. REUTERS/Dado Ruvic/IllustrationBut Zoom’s costs also rose sharply, and executives said gross margins would likely remain below Zoom’s historical norms in the coming quarters, sending shares of the San Jose, California-based down 3.5% to $200.75 in after-market trading.The company has transformed itself into a global video hangout from a business-oriented teleconferencing tool. It came under fire over privacy and security issues, prompting it to roll out major upgrades.The company raised its full-year revenue forecast to a range of $1.78 billion to $1.80 billion from $905 million to $915 million. Analysts on average expected revenue of $935.2 million for the fiscal year ending January 2021.The latest quarterly report shows the company now has about 265,400 customers with more than 10 employees, a near fourfold increase from a year earlier.But there were also possible signs the Zoom boom may be slowing as economies reopen. Chief Financial Officer Kelly Steckelberg said the April peak usage of 300 million daily meeting participants declined slightly in May.The company expects it to rise eventually above 300 million again.Zoom company competes with Cisco Systems Inc's CSCO.O Webex, Microsoft Corp MSFT.O Teams and Google's GOOGL.O Meet platform for paying customers, particularly enterprises, while offering a free version to consumers.Zoom reported fiscal first-quarter revenue of $328.2 million, beating analysts’ estimates of $202.7 million, according to IBES data from Refinitiv.While Zoom’s revenue increased sharply, its costs rose even more steeply. The company’s cost of revenue was up 330% to $103.7 million, which lowered its gross margin to 68.4% from 80.2% a year earlier.One of Zoom's biggest costs is data centers and bandwidth to host calls. The company runs some of its own data centers, but also pays for cloud computing services from Amazon.com Inc's AMZN.O Amazon Web Services and Microsoft, and in April added Oracle Corp ORCL.N as a vendor.On a Zoom call with investors, Chief Executive Eric Yuan said Amazon provided the “majority” of new capacity that Zoom needed to meet demand.Steckelberg said on the call that the company planned to expand its own data centers to become more efficient, which should boost margins to the mid-70% range in the next several quarters. Analysts had expected gross margins to hover between 79% and 81% over the coming year, according to Refinitiv data.Excluding items, the company earned 20 cents per share in the latest quarter, beating analysts’ estimate of 9 cents.Zoom’s shares have more than tripled this year.Reporting by Ayanti Bera in Bengaluru and Stephen Nellis in San Francisco; Editing by Lisa Shumaker, Peter Henderson and Peter CooneyOur Standards: The Thomson Reuters Trust Principles.</td>\n",
              "      <td>210.250000</td>\n",
              "      <td>36853400</td>\n",
              "      <td>NaN</td>\n",
              "      <td>NaN</td>\n",
              "      <td>Zoom Video Communications Inc zm.o nearly double expectation annual sale Tuesday drive surge user people work home connect friend online coronavirus lockdown FILE PHOTO small toy figure see diplayed Zoom logo illustration take March 19 2020 REUTERS Dado Ruvic IllustrationBut Zoom cost rise sharply executive say gross margin likely remain Zoom historical norm come quarter send share San Jose California base 3.5 $ 200.75 market trading company transform global video hangout business orient teleconferencing tool come fire privacy security issue prompt roll major upgrade company raise year revenue forecast range $ 1.78 billion $ 1.80 billion $ 905 million $ 915 million analyst average expect revenue $ 935.2 million fiscal year end January 2021.the late quarterly report show company 265,400 customer 10 employee near fourfold increase year earlier possible sign Zoom boom slow economy reopen Chief Financial Officer Kelly Steckelberg say April peak usage 300 million daily meeting participant decline slightly company expect rise eventually 300 million zoom company compete Cisco Systems Inc CSCO.O Webex Microsoft Corp MSFT.O Teams Google googl.o meet platform pay customer particularly enterprise offer free version consumer Zoom report fiscal quarter revenue $ 328.2 million beat analyst estimate $ 202.7 million accord IBES datum Refinitiv Zoom revenue increase sharply cost rise steeply company cost revenue 330 $ 103.7 million lower gross margin 68.4 80.2 year earlier Zoom big cost datum center bandwidth host call company run datum center pay cloud compute service Amazon.com Inc AMZN.O Amazon Web Services Microsoft April add Oracle Corp orcl.n vendor zoom investor Chief Executive Eric Yuan say Amazon provide majority new capacity Zoom need meet demand Steckelberg say company plan expand datum center efficient boost margin mid-70 range quarter analyst expect gross margin hover 79 81 come year accord Refinitiv datum exclude item company earn 20 cent share late quarter beat analyst estimate 9 cent Zoom share triple year reporting Ayanti Bera Bengaluru Stephen Nellis San Francisco editing Lisa Shumaker Peter Henderson Peter CooneyOur Standards Thomson Reuters Trust Principles</td>\n",
              "      <td>1.081716e-05</td>\n",
              "      <td>0</td>\n",
              "      <td>NaN</td>\n",
              "      <td>NaN</td>\n",
              "      <td>0.0</td>\n",
              "      <td>0.344013</td>\n",
              "      <td>0.9295</td>\n",
              "    </tr>\n",
              "    <tr>\n",
              "      <th>1</th>\n",
              "      <td>2020-06-11</td>\n",
              "      <td>Zoom denies giving user information to Chinese government</td>\n",
              "      <td>- Zoom Video Communications Inc said on Thursday it did not provide any user information or meeting content to the Chinese government.The company’s statement comes after it temporarily shut the account belonging to a group of U.S.-based Chinese activists that had held an event to commemorate the 31st anniversary of China’s Tiananmen Square crackdown.Reporting by Ayanti Bera in Bengaluru; Editing by Devika SyamnathOur Standards: The Thomson Reuters Trust Principles.</td>\n",
              "      <td>219.179993</td>\n",
              "      <td>17615800</td>\n",
              "      <td>4.247321</td>\n",
              "      <td>-52.200340</td>\n",
              "      <td>Zoom Video Communications Inc say Thursday provide user information meeting content chinese government company statement come temporarily shut account belong group u.s.-based chinese activist hold event commemorate 31st anniversary China Tiananmen Square crackdown report Ayanti Bera Bengaluru editing Devika SyamnathOur Standards Thomson Reuters Trust Principles</td>\n",
              "      <td>1.372852e-05</td>\n",
              "      <td>9</td>\n",
              "      <td>0.471925</td>\n",
              "      <td>-5.800038</td>\n",
              "      <td>1.0</td>\n",
              "      <td>0.675615</td>\n",
              "      <td>0.5106</td>\n",
              "    </tr>\n",
              "    <tr>\n",
              "      <th>2</th>\n",
              "      <td>2020-06-24</td>\n",
              "      <td>Zoom taps former Salesforce executive as information security head</td>\n",
              "      <td>- Zoom Video Communications Inc on Wednesday named former Salesforce.com Inc security executive Jason Lee as its chief information security officer.Lee will assume the role from June 29, the video conferencing company said.Prior to Salesforce, Lee was a security engineering executive at Microsoft Corp for 15 years, according to his LinkedIn profile here.Zoom’s announcement comes as the company is nearing the end of its 90-day security plan announced earlier in April in response to safety and privacy concerns on its fast-growing video-conferencing app.Lee will lead Zoom’s security team and report to Aparna Bawa, chief operating officer, the company said.Reporting by Ayanti Bera in Bengaluru; Editing by Sriraj Kalluvila and Maju SamuelOur Standards: The Thomson Reuters Trust Principles.</td>\n",
              "      <td>254.500000</td>\n",
              "      <td>9862800</td>\n",
              "      <td>16.114613</td>\n",
              "      <td>-44.011626</td>\n",
              "      <td>Zoom Video Communications Inc Wednesday name Salesforce.com Inc security executive Jason Lee chief information security officer Lee assume role June 29 video conferencing company say prior Salesforce Lee security engineering executive Microsoft Corp 15 year accord LinkedIn profile zoom announcement come company near end 90-day security plan announce earlier April response safety privacy concern fast grow video conferencing app Lee lead Zoom security team report Aparna Bawa chief operating officer company say report Ayanti Bera Bengaluru editing Sriraj Kalluvila Maju SamuelOur Standards Thomson Reuters Trust Principles</td>\n",
              "      <td>8.873237e-13</td>\n",
              "      <td>13</td>\n",
              "      <td>1.239586</td>\n",
              "      <td>-3.385510</td>\n",
              "      <td>1.0</td>\n",
              "      <td>0.760982</td>\n",
              "      <td>0.9442</td>\n",
              "    </tr>\n",
              "    <tr>\n",
              "      <th>3</th>\n",
              "      <td>2020-07-01</td>\n",
              "      <td>Zoom says added over 100 features as part of 90-day security plan</td>\n",
              "      <td>- Zoom Video Communications Inc said on Wednesday it has added over 100 features to its video conferencing as part of its 90-day plan to address security and privacy concerns.The company said it has made significant progress for a transparency report that details information related to requests Zoom receives for data, records, or content and the report will be out later this year with details on governmental requests for its users’ account information.The company’s teleconferencing platform has seen a surge in users as the COVID-19 pandemic has forced millions around the world indoors. However, it came under fire over privacy and security issues, prompting Zoom to roll out major upgrades.To address those concerns, it has embarked here on a 90-day plan and hired several security experts, including former Facebook security chief Alex Stamos as an adviser, to address privacy concerns.It plans to offer end-to-end encryption for video calls to both free and paying users and launch a trial version in July.Last week, Zoom took another step towards tackling these concerns and named former Salesforce.com Inc security executive Jason Lee as its chief information security officer.Reporting by Supantha Mukherjee and Akanksha Rana in Bengaluru; Editing by Maju SamuelOur Standards: The Thomson Reuters Trust Principles.</td>\n",
              "      <td>251.350006</td>\n",
              "      <td>6803300</td>\n",
              "      <td>-1.237719</td>\n",
              "      <td>-31.020603</td>\n",
              "      <td>Zoom Video Communications Inc say Wednesday add 100 feature video conferencing 90-day plan address security privacy concern company say significant progress transparency report detail information relate request Zoom receive datum record content report later year detail governmental request user account information company teleconferencing platform see surge user covid-19 pandemic force million world indoor come fire privacy security issue prompt Zoom roll major upgrade address concern embark 90-day plan hire security expert include Facebook security chief Alex Stamos adviser address privacy concern plan offer end end encryption video call free pay user launch trial version July week Zoom take step tackle concern name Salesforce.com Inc security executive Jason Lee chief information security officer reporting Supantha Mukherjee Akanksha Rana Bengaluru editing Maju SamuelOur Standards Thomson Reuters Trust Principles</td>\n",
              "      <td>8.726556e-03</td>\n",
              "      <td>7</td>\n",
              "      <td>-0.176817</td>\n",
              "      <td>-4.431515</td>\n",
              "      <td>1.0</td>\n",
              "      <td>0.922859</td>\n",
              "      <td>0.9628</td>\n",
              "    </tr>\n",
              "    <tr>\n",
              "      <th>4</th>\n",
              "      <td>2020-07-07</td>\n",
              "      <td>Zoom rolls out hardware subscription service</td>\n",
              "      <td>- Zoom Video Communications Inc ZM.O said on Tuesday it launched a hardware subscription service, seeking to make its teleconferencing app more accessible to users by allowing them to choose subscription options for phones and meeting rooms.The plans for Zoom Phone have been priced between $5.99 and $60 per month, based on the device users opt for, while the cost for hardware services for Zoom Rooms is in the range of $75 to $200 per month, according to the company’s website.Zoom has partnered with third-party hardware manufacturers such as DTEN, Neat, Poly, and Yealink for the phone and meeting room devices.The company’s teleconferencing platform, which has seen a surge in users as the COVID-19 pandemic forced millions around the world to stay indoors, has faced backlash over privacy and security issues, prompting it to roll out major upgrades.The launch comes nearly a week after Zoom said it has made significant progress in a transparency report that details information related to requests it receives for data, records, or content, adding that the report will be out later this year.Zoom on Tuesday also joined a list of major U.S. internet companies, including Facebook Inc FB.O, Microsoft Corp MSFT.O and Alphabet Inc's GOOGL.O Google, to have suspended processing of requests for user data from Hong Kong authorities while they study the new law.Reporting by Akanksha Rana in Bengaluru; editing by Uttaresh.VOur Standards: The Thomson Reuters Trust Principles.</td>\n",
              "      <td>261.549988</td>\n",
              "      <td>7819700</td>\n",
              "      <td>4.058079</td>\n",
              "      <td>14.939809</td>\n",
              "      <td>Zoom Video Communications Inc ZM.O say Tuesday launch hardware subscription service seek teleconferencing app accessible user allow choose subscription option phone meeting room plan Zoom Phone price $ 5.99 $ 60 month base device user opt cost hardware service Zoom Rooms range $ 75 $ 200 month accord company website Zoom partner party hardware manufacturer DTEN Neat Poly yealink phone meeting room device company teleconferencing platform see surge user covid-19 pandemic force million world stay indoor face backlash privacy security issue prompt roll major upgrade launch come nearly week Zoom say significant progress transparency report detail information relate request receive datum record content add report later year Zoom Tuesday join list major U.S. internet company include Facebook Inc FB.O Microsoft Corp MSFT.O Alphabet Inc GOOGL.O Google suspend processing request user datum Hong Kong authority study new law reporting Akanksha Rana Bengaluru editing Uttaresh VOur Standards Thomson Reuters Trust Principles</td>\n",
              "      <td>2.469754e-06</td>\n",
              "      <td>6</td>\n",
              "      <td>0.676347</td>\n",
              "      <td>2.489968</td>\n",
              "      <td>1.0</td>\n",
              "      <td>0.605185</td>\n",
              "      <td>0.9442</td>\n",
              "    </tr>\n",
              "  </tbody>\n",
              "</table>\n",
              "</div>"
            ],
            "text/plain": [
              "        Date  ... Vader Sentiment Score\n",
              "0 2020-06-02  ...  0.9295              \n",
              "1 2020-06-11  ...  0.5106              \n",
              "2 2020-06-24  ...  0.9442              \n",
              "3 2020-07-01  ...  0.9628              \n",
              "4 2020-07-07  ...  0.9442              \n",
              "\n",
              "[5 rows x 15 columns]"
            ]
          },
          "metadata": {
            "tags": []
          },
          "execution_count": 57
        }
      ]
    },
    {
      "cell_type": "markdown",
      "metadata": {
        "id": "sCCCSJYUSQqZ"
      },
      "source": [
        "## Sentiment Analysis"
      ]
    },
    {
      "cell_type": "code",
      "metadata": {
        "id": "r1DLbsT1SQqZ"
      },
      "source": [
        "# run this cell to import nltk\n",
        "import nltk\n",
        "from os import getcwd\n",
        "import numpy as np\n",
        "import pandas as pd\n",
        "from nltk.corpus import twitter_samples \n",
        "from utils import process_tweet, build_freqs"
      ],
      "execution_count": 19,
      "outputs": []
    },
    {
      "cell_type": "code",
      "metadata": {
        "id": "JdUCmyodSQqZ",
        "colab": {
          "base_uri": "https://localhost:8080/"
        },
        "outputId": "1c2de60f-8442-4b5e-9313-45fd93570645"
      },
      "source": [
        "nltk.download('twitter_samples')\n",
        "nltk.download('stopwords')"
      ],
      "execution_count": 20,
      "outputs": [
        {
          "output_type": "stream",
          "text": [
            "[nltk_data] Downloading package twitter_samples to /root/nltk_data...\n",
            "[nltk_data]   Unzipping corpora/twitter_samples.zip.\n",
            "[nltk_data] Downloading package stopwords to /root/nltk_data...\n",
            "[nltk_data]   Unzipping corpora/stopwords.zip.\n"
          ],
          "name": "stdout"
        },
        {
          "output_type": "execute_result",
          "data": {
            "text/plain": [
              "True"
            ]
          },
          "metadata": {
            "tags": []
          },
          "execution_count": 20
        }
      ]
    },
    {
      "cell_type": "code",
      "metadata": {
        "id": "nAs2hhHySQqZ"
      },
      "source": [
        "\n",
        "# select the set of positive and negative tweets\n",
        "all_positive_tweets = twitter_samples.strings('positive_tweets.json')\n",
        "all_negative_tweets = twitter_samples.strings('negative_tweets.json')"
      ],
      "execution_count": 21,
      "outputs": []
    },
    {
      "cell_type": "code",
      "metadata": {
        "id": "cZGFfVYySQqZ"
      },
      "source": [
        "# split the data into two pieces (80-20), one for training and one for testing (validation set)  \n",
        "test_pos = all_positive_tweets[4000:]\n",
        "train_pos = all_positive_tweets[:4000]\n",
        "test_neg = all_negative_tweets[4000:]\n",
        "train_neg = all_negative_tweets[:4000]\n",
        "\n",
        "train_x = train_pos + train_neg \n",
        "test_x = test_pos + test_neg"
      ],
      "execution_count": 22,
      "outputs": []
    },
    {
      "cell_type": "code",
      "metadata": {
        "id": "nZv6mxN1SQqZ"
      },
      "source": [
        "# combine positive and negative labels\n",
        "train_y = np.append(np.ones((len(train_pos), 1)), np.zeros((len(train_neg), 1)), axis=0)\n",
        "test_y = np.append(np.ones((len(test_pos), 1)), np.zeros((len(test_neg), 1)), axis=0)"
      ],
      "execution_count": 23,
      "outputs": []
    },
    {
      "cell_type": "code",
      "metadata": {
        "id": "8oiWYMvWSQqZ",
        "colab": {
          "base_uri": "https://localhost:8080/"
        },
        "outputId": "3752bb04-24bc-47c4-aa74-f972dce2443e"
      },
      "source": [
        "# Print the shape train and test sets\n",
        "print(\"train_y.shape = \" + str(train_y.shape))\n",
        "print(\"test_y.shape = \" + str(test_y.shape))"
      ],
      "execution_count": 24,
      "outputs": [
        {
          "output_type": "stream",
          "text": [
            "train_y.shape = (8000, 1)\n",
            "test_y.shape = (2000, 1)\n"
          ],
          "name": "stdout"
        }
      ]
    },
    {
      "cell_type": "code",
      "metadata": {
        "id": "LxnndIYPSQqZ",
        "colab": {
          "base_uri": "https://localhost:8080/"
        },
        "outputId": "d10435ae-d2f9-40c0-8edd-c3f03486f3c3"
      },
      "source": [
        "# create frequency dictionary\n",
        "freqs = build_freqs(train_x, train_y)\n",
        "\n",
        "# check the output\n",
        "print(\"type(freqs) = \" + str(type(freqs)))\n",
        "print(\"len(freqs) = \" + str(len(freqs.keys())))"
      ],
      "execution_count": 25,
      "outputs": [
        {
          "output_type": "stream",
          "text": [
            "type(freqs) = <class 'dict'>\n",
            "len(freqs) = 11346\n"
          ],
          "name": "stdout"
        }
      ]
    },
    {
      "cell_type": "code",
      "metadata": {
        "id": "-cZaOM1gSQqZ"
      },
      "source": [
        "# UNQ_C3 (UNIQUE CELL IDENTIFIER, DO NOT EDIT)\n",
        "def extract_features(tweet, freqs):\n",
        "    '''\n",
        "    Input: \n",
        "        tweet: a list of words for one tweet\n",
        "        freqs: a dictionary corresponding to the frequencies of each tuple (word, label)\n",
        "    Output: \n",
        "        x: a feature vector of dimension (1,3)\n",
        "    '''\n",
        "    # process_tweet tokenizes, stems, and removes stopwords\n",
        "    word_l = process_tweet(tweet)\n",
        "    \n",
        "    # 3 elements in the form of a 1 x 3 vector\n",
        "    x = np.zeros((1, 3)) \n",
        "    \n",
        "    #bias term is set to 1\n",
        "    x[0,0] = 1 \n",
        "    \n",
        "    ### START CODE HERE (REPLACE INSTANCES OF 'None' with your code) ###\n",
        "    \n",
        "    # loop through each word in the list of words\n",
        "    for word in word_l:\n",
        "        \n",
        "        # increment the word count for the positive label 1\n",
        "        \n",
        "        x[0,1] += freqs.get((word,1),0)\n",
        "        \n",
        "        # increment the word count for the negative label 0\n",
        "        x[0,2] += freqs.get((word,0),0)\n",
        "        \n",
        "    ### END CODE HERE ###\n",
        "    assert(x.shape == (1, 3))\n",
        "    return x"
      ],
      "execution_count": 26,
      "outputs": []
    },
    {
      "cell_type": "code",
      "metadata": {
        "id": "A6bTxr6uSQqZ"
      },
      "source": [
        "# collect the features 'x' and stack them into a matrix 'X'\n",
        "X = np.zeros((len(train_x), 3))\n",
        "for i in range(len(train_x)):\n",
        "    X[i, :]= extract_features(train_x[i], freqs)\n",
        "\n",
        "# training labels corresponding to X\n",
        "Y = train_y"
      ],
      "execution_count": 27,
      "outputs": []
    },
    {
      "cell_type": "code",
      "metadata": {
        "id": "dRoTKKTBSQqZ",
        "colab": {
          "base_uri": "https://localhost:8080/"
        },
        "outputId": "3bb7465a-be77-4418-bfc8-36d369fbb7c8"
      },
      "source": [
        "Y.shape"
      ],
      "execution_count": 28,
      "outputs": [
        {
          "output_type": "execute_result",
          "data": {
            "text/plain": [
              "(8000, 1)"
            ]
          },
          "metadata": {
            "tags": []
          },
          "execution_count": 28
        }
      ]
    },
    {
      "cell_type": "markdown",
      "metadata": {
        "id": "DnsEVHP5SQqa"
      },
      "source": [
        "### SVM Parameters"
      ]
    },
    {
      "cell_type": "code",
      "metadata": {
        "id": "AK4KHYrpSQqa",
        "colab": {
          "base_uri": "https://localhost:8080/"
        },
        "outputId": "b9c368d3-2c94-4e43-b337-a4fdd8db4c61"
      },
      "source": [
        "# Fitting Logistic Regression to the Training set\n",
        "from sklearn.linear_model import LogisticRegression\n",
        "classifier = LogisticRegression(random_state = 0)\n",
        "classifier.fit(X, Y)\n"
      ],
      "execution_count": 29,
      "outputs": [
        {
          "output_type": "stream",
          "text": [
            "/usr/local/lib/python3.6/dist-packages/sklearn/utils/validation.py:760: DataConversionWarning: A column-vector y was passed when a 1d array was expected. Please change the shape of y to (n_samples, ), for example using ravel().\n",
            "  y = column_or_1d(y, warn=True)\n"
          ],
          "name": "stderr"
        },
        {
          "output_type": "execute_result",
          "data": {
            "text/plain": [
              "LogisticRegression(C=1.0, class_weight=None, dual=False, fit_intercept=True,\n",
              "                   intercept_scaling=1, l1_ratio=None, max_iter=100,\n",
              "                   multi_class='auto', n_jobs=None, penalty='l2',\n",
              "                   random_state=0, solver='lbfgs', tol=0.0001, verbose=0,\n",
              "                   warm_start=False)"
            ]
          },
          "metadata": {
            "tags": []
          },
          "execution_count": 29
        }
      ]
    },
    {
      "cell_type": "code",
      "metadata": {
        "id": "c95ctAe8SQqa"
      },
      "source": [
        "\n",
        "# UNQ_C4 (UNIQUE CELL IDENTIFIER, DO NOT EDIT)\n",
        "def predict_tweet(tweet, freqs):\n",
        "    '''\n",
        "    Input: \n",
        "        tweet: a string\n",
        "        freqs: a dictionary corresponding to the frequencies of each tuple (word, label)\n",
        "        theta: (3,1) vector of weights\n",
        "    Output: \n",
        "        y_pred: the probability of a tweet being positive or negative\n",
        "    '''\n",
        "    ### START CODE HERE (REPLACE INSTANCES OF 'None' with your code) ###\n",
        "    \n",
        "    # extract the features of the tweet and store it into x\n",
        "    x = extract_features(tweet,freqs)\n",
        "    \n",
        "    # make the prediction using x and theta\n",
        "    y_pred = classifier.predict(x)\n",
        "    \n",
        "    ### END CODE HERE ###\n",
        "    \n",
        "    return y_pred"
      ],
      "execution_count": 30,
      "outputs": []
    },
    {
      "cell_type": "code",
      "metadata": {
        "id": "R4azdYg0SQqa"
      },
      "source": [
        "# UNQ_C4 (UNIQUE CELL IDENTIFIER, DO NOT EDIT)\n",
        "def predict_tweet_prob(tweet, freqs):\n",
        "    '''\n",
        "    Input: \n",
        "        tweet: a string\n",
        "        freqs: a dictionary corresponding to the frequencies of each tuple (word, label)\n",
        "        theta: (3,1) vector of weights\n",
        "    Output: \n",
        "        y_pred: the probability of a tweet being positive or negative\n",
        "    '''\n",
        "    ### START CODE HERE (REPLACE INSTANCES OF 'None' with your code) ###\n",
        "    \n",
        "    # extract the features of the tweet and store it into x\n",
        "    x = extract_features(tweet,freqs)\n",
        "    \n",
        "    # make the prediction using x and theta\n",
        "    y_pred = classifier.predict_proba(x)\n",
        "    \n",
        "    ### END CODE HERE ###\n",
        "    \n",
        "    return y_pred"
      ],
      "execution_count": 31,
      "outputs": []
    },
    {
      "cell_type": "code",
      "metadata": {
        "id": "zXVJRRfXSQqa",
        "colab": {
          "base_uri": "https://localhost:8080/"
        },
        "outputId": "b90bc00e-63cd-4dbf-a3e8-be0cd531209e"
      },
      "source": [
        "\n",
        "my_tweet = 'The plot was terrible and I was sad until the ending!'\n",
        "predict_tweet(my_tweet, freqs)"
      ],
      "execution_count": 32,
      "outputs": [
        {
          "output_type": "execute_result",
          "data": {
            "text/plain": [
              "array([0.])"
            ]
          },
          "metadata": {
            "tags": []
          },
          "execution_count": 32
        }
      ]
    },
    {
      "cell_type": "code",
      "metadata": {
        "id": "AKp4JMIPwD5b"
      },
      "source": [
        ""
      ],
      "execution_count": 32,
      "outputs": []
    },
    {
      "cell_type": "markdown",
      "metadata": {
        "id": "16x-YBTt6wG6"
      },
      "source": [
        "#DEEP LEARNING"
      ]
    },
    {
      "cell_type": "code",
      "metadata": {
        "id": "WW8AV0Fi54F6",
        "colab": {
          "base_uri": "https://localhost:8080/"
        },
        "outputId": "8b325211-d445-4850-e95f-5621d21e4408"
      },
      "source": [
        "import sklearn\n",
        "import numpy as np\n",
        "import pandas as pd\n",
        "pd.set_option('display.max_colwidth', -1)\n",
        "import sklearn\n",
        "import sklearn.ensemble\n",
        "from sklearn.metrics import accuracy_score, confusion_matrix\n",
        "import sklearn.metrics\n",
        "import tensorflow as tf\n",
        "from scipy.special import softmax\n",
        "import os\n",
        "import numpy as np\n",
        "import pandas as pd\n",
        "import json\n",
        "import torch\n",
        "import torch.nn as nn\n",
        "import nltk\n",
        "from tqdm import tqdm\n",
        "import spacy\n",
        "import torch\n",
        "import torchtext\n",
        "import torchtext.data\n",
        "import torch.nn as nn\n",
        "import torch.nn.functional as F\n",
        "from scipy.special import softmax\n",
        "from torchtext.vocab import Vocab\n",
        "from nltk.corpus import twitter_samples \n",
        "\n",
        "nlp = spacy.load('en')\n",
        "nltk.download('punkt')"
      ],
      "execution_count": 33,
      "outputs": [
        {
          "output_type": "stream",
          "text": [
            "/usr/local/lib/python3.6/dist-packages/ipykernel_launcher.py:4: FutureWarning: Passing a negative integer is deprecated in version 1.0 and will not be supported in future version. Instead, use None to not limit the column width.\n",
            "  after removing the cwd from sys.path.\n"
          ],
          "name": "stderr"
        },
        {
          "output_type": "stream",
          "text": [
            "[nltk_data] Downloading package punkt to /root/nltk_data...\n",
            "[nltk_data]   Unzipping tokenizers/punkt.zip.\n"
          ],
          "name": "stdout"
        },
        {
          "output_type": "execute_result",
          "data": {
            "text/plain": [
              "True"
            ]
          },
          "metadata": {
            "tags": []
          },
          "execution_count": 33
        }
      ]
    },
    {
      "cell_type": "code",
      "metadata": {
        "id": "F5gGAecc54nQ"
      },
      "source": [
        "device = torch.device(\"cuda\" if torch.cuda.is_available() else \"cpu\")\n",
        "torch.manual_seed(42)\n",
        "np.random.seed(42)\n",
        "torch.backends.cudnn.deterministic = True\n",
        "torch.backends.cudnn.benchmark = False"
      ],
      "execution_count": 34,
      "outputs": []
    },
    {
      "cell_type": "code",
      "metadata": {
        "id": "NlzygEfN54x-"
      },
      "source": [
        "# %% ----------------------------------- Hyper Parameters --------------------------------------------------------------\n",
        "class Args:\n",
        "    def __init__(self):\n",
        "        self.seq_len = \"get_max_from_data\"\n",
        "        self.embedding_dim = 50\n",
        "        self.n_epochs = 10\n",
        "        self.lr = 1e-2\n",
        "        self.batch_size = 512\n",
        "        self.train = True\n",
        "        self.save_model = True\n",
        "\n",
        "\n",
        "args = Args()"
      ],
      "execution_count": 35,
      "outputs": []
    },
    {
      "cell_type": "code",
      "metadata": {
        "id": "6MyB9f9X54WU"
      },
      "source": [
        "# %% ----------------------------------- Helper Functions --------------------------------------------------------------\n",
        "def acc(x, y, return_labels=False):\n",
        "    with torch.no_grad():\n",
        "        logits = torch.empty(len(x), 2)\n",
        "        for batch in range(len(x) // args.batch_size + 1):\n",
        "            inds = slice(batch * args.batch_size, (batch + 1) * args.batch_size)\n",
        "            logits[inds] = model(x[inds])\n",
        "        pred_labels = np.argmax(logits.cpu().numpy(), axis=1)\n",
        "    if return_labels:\n",
        "        return pred_labels\n",
        "    else:\n",
        "        return 100*accuracy_score(y.cpu().numpy(), pred_labels)\n",
        "\n",
        "\n",
        "def extract_vocab_dict_and_msl(sentences_train, sentences_dev):\n",
        "    \"\"\" Tokenizes all the sentences and gets a dictionary of unique tokens and also the maximum sequence length \"\"\"\n",
        "    tokens, ms_len = [], 0\n",
        "    for sentence in list(sentences_train) + list(sentences_dev):\n",
        "        tokens_in_sentence = nltk.word_tokenize(sentence)\n",
        "        if ms_len < len(tokens_in_sentence):\n",
        "            ms_len = len(tokens_in_sentence)\n",
        "        tokens += tokens_in_sentence\n",
        "    token_vocab = {key: i for key, i in zip(set(tokens), range(1, len(set(tokens))+1))}\n",
        "    if len(np.unique(list(token_vocab.values()))) != len(token_vocab):\n",
        "        \"There are some rep words...\"\n",
        "    return token_vocab, ms_len\n",
        "\n",
        "\n",
        "def convert_to_ids(raw_sentences, vocab_dict, pad_to):\n",
        "    \"\"\" Takes an NumPy array of raw text sentences and converts to a sequence of token ids \"\"\"\n",
        "    x = np.empty((len(raw_sentences), pad_to))\n",
        "    for idx, sentence in enumerate(raw_sentences):\n",
        "        word_ids = []\n",
        "        for token in nltk.word_tokenize(sentence):\n",
        "          \n",
        "            if token not in vocab_dict.keys():\n",
        "              continue \n",
        "\n",
        "            try:\n",
        "                word_ids.append(vocab_dict[token])\n",
        "            except:\n",
        "                word_ids.append(vocab_dict[token])\n",
        "        if pad_to < len(word_ids):\n",
        "            x[idx] = word_ids[:pad_to]\n",
        "        else:\n",
        "            x[idx] = word_ids + [0] * (pad_to - len(word_ids))\n",
        "    return x\n",
        "\n",
        "\n",
        "def get_glove_embeddings(vocab_dict):\n",
        "    with open(\"glove.6B.50d.txt\", \"r\") as s:\n",
        "        glove = s.read()\n",
        "    embeddings_dict = {}\n",
        "    for line in glove.split(\"\\n\")[:-1]:\n",
        "        text = line.split()\n",
        "        if text[0] in vocab_dict:\n",
        "            embeddings_dict[vocab_dict[text[0]]] = torch.from_numpy(np.array(text[1:], dtype=\"float32\"))\n",
        "    return embeddings_dict\n",
        "\n",
        "\n",
        "def get_glove_table(vocab_dict, glove_dict):\n",
        "    lookup_table = torch.empty((len(vocab_dict)+2, 50))\n",
        "    for token_id in sorted(vocab_dict.values()):\n",
        "        if token_id in glove_dict:\n",
        "            lookup_table[token_id] = glove_dict[token_id]\n",
        "        else:\n",
        "            lookup_table[token_id] = torch.zeros((1, 50))  # For unknown tokens\n",
        "    lookup_table[0] = torch.zeros((1, 50))\n",
        "    return lookup_table\n",
        "\n"
      ],
      "execution_count": 43,
      "outputs": []
    },
    {
      "cell_type": "code",
      "metadata": {
        "id": "3hF8Psy16tY9"
      },
      "source": [
        "data_train = pd.read_csv(\"original_data/train.tsv\", sep=\"\\t\")\n",
        "x_train_raw, y_train = data_train[\"sentence\"].values, torch.LongTensor(data_train[\"label\"].values).to(device)\n",
        "data_dev = pd.read_csv(\"original_data/dev.tsv\", sep=\"\\t\")\n",
        "x_dev_raw, y_dev = data_dev[\"sentence\"].values, torch.LongTensor(data_dev[\"label\"].values).to(device)\n"
      ],
      "execution_count": 37,
      "outputs": []
    },
    {
      "cell_type": "code",
      "metadata": {
        "id": "3jKrMWVE6s-9"
      },
      "source": [
        "# %% -------------------------------------- Data Prep ------------------------------------------------------------------\n",
        "try:\n",
        "    with open(\"example_prep_data/vocab_dict.json\", \"r\") as s:\n",
        "        token_ids = json.load(s)\n",
        "    msl = np.load(\"example_prep_data/max_sequence_length.npy\").item()\n",
        "except:\n",
        "    print(\"Tokenizing all the examples to get a vocab dict and the maximum sequence length...\")\n",
        "    token_ids, msl = extract_vocab_dict_and_msl(x_train_raw, x_dev_raw)\n",
        "    os.mkdir(\"example_prep_data\")\n",
        "    with open(\"example_prep_data/vocab_dict.json\", \"w\") as s:\n",
        "        json.dump(token_ids, s)\n",
        "    np.save(\"example_prep_data/max_sequence_length.npy\", np.array([msl]))\n",
        "if args.seq_len == \"get_max_from_data\":\n",
        "    args.seq_len = msl\n",
        "\n",
        "glove_embeddings = get_glove_embeddings(token_ids)\n",
        "\n",
        "try:\n",
        "    x_train = np.load(\"example_prep_data/prep_train_len{}.npy\".format(args.seq_len))\n",
        "    x_dev = np.load(\"example_prep_data/prep_dev_len{}.npy\".format(args.seq_len))\n",
        "except:\n",
        "    print(\"Converting all the sentences to sequences of token ids...\")\n",
        "    x_train = convert_to_ids(x_train_raw, token_ids, args.seq_len)\n",
        "    np.save(\"example_prep_data/prep_train_len{}.npy\".format(args.seq_len), x_train)\n",
        "    x_dev = convert_to_ids(x_dev_raw, token_ids, args.seq_len)\n",
        "    np.save(\"example_prep_data/prep_dev_len{}.npy\".format(args.seq_len), x_dev)\n",
        "\n",
        "\n"
      ],
      "execution_count": 38,
      "outputs": []
    },
    {
      "cell_type": "code",
      "metadata": {
        "id": "H8I67K-d6s0i"
      },
      "source": [
        "x_train, x_dev = torch.LongTensor(x_train).to(device), torch.LongTensor(x_dev).to(device)"
      ],
      "execution_count": 39,
      "outputs": []
    },
    {
      "cell_type": "code",
      "metadata": {
        "id": "jCys2Yib6_ND"
      },
      "source": [
        "# %% -------------------------------------- CNN Class ------------------------------------------------------------------\n",
        "class CNN(nn.Module):\n",
        "    def __init__(self, vocab_size):\n",
        "        super(CNN, self).__init__()\n",
        "\n",
        "        self.embedding = nn.Embedding(vocab_size + 2, args.embedding_dim)\n",
        "\n",
        "        self.conv1 = nn.Conv1d(args.embedding_dim, args.embedding_dim, 9)\n",
        "        self.convnorm1 = nn.BatchNorm1d(args.embedding_dim)\n",
        "        self.pool1 = nn.MaxPool1d(2)\n",
        "\n",
        "        self.conv2 = nn.Conv1d(args.embedding_dim, args.embedding_dim, 9)\n",
        "        self.convnorm2 = nn.BatchNorm1d(args.embedding_dim)\n",
        "        self.pool2 = nn.MaxPool1d(2)\n",
        "\n",
        "        self.conv3 = nn.Conv1d(args.embedding_dim, args.embedding_dim, 7)\n",
        "        self.linear = nn.Linear(args.embedding_dim, 2)\n",
        "        self.act = torch.relu\n",
        "\n",
        "    def forward(self, x):\n",
        "        # nn.Conv1d operates on the columns, each embedding dimension is considered as one channel\n",
        "        x = self.embedding(x).permute(0, 2, 1)\n",
        "        x = self.pool1(self.convnorm1(self.act(self.conv1(x))))\n",
        "        x = self.pool2(self.convnorm2(self.act(self.conv2(x))))\n",
        "        return self.linear(self.act(self.conv3(x)).reshape(-1, args.embedding_dim))\n",
        "\n"
      ],
      "execution_count": 40,
      "outputs": []
    },
    {
      "cell_type": "code",
      "metadata": {
        "id": "5rPDonKu6_eF"
      },
      "source": [
        "# %% -------------------------------------- Training Prep ----------------------------------------------------------\n",
        "model = CNN(len(token_ids)).to(device)\n",
        "look_up_table = get_glove_table(token_ids, glove_embeddings)\n",
        "model.embedding.weight.data.copy_(look_up_table)\n",
        "optimizer = torch.optim.Adam(model.parameters(), lr=args.lr)\n",
        "criterion = nn.CrossEntropyLoss()"
      ],
      "execution_count": 41,
      "outputs": []
    },
    {
      "cell_type": "code",
      "metadata": {
        "id": "Uo_Y8XZM6-9q",
        "colab": {
          "base_uri": "https://localhost:8080/"
        },
        "outputId": "5ff6ec22-3160-4c62-92b4-e86f6a5c8f7e"
      },
      "source": [
        "# %% -------------------------------------- Training Loop ----------------------------------------------------------\n",
        "labels_ditrib = torch.unique(y_dev, return_counts=True)\n",
        "print(\"The no information rate is {:.2f}\".format(100*labels_ditrib[1].max().item()/len(y_dev)))\n",
        "if args.train:\n",
        "    acc_dev_best = 0\n",
        "    print(\"Starting training loop...\")\n",
        "    for epoch in range(args.n_epochs):\n",
        "\n",
        "        loss_train, train_steps = 0, 0\n",
        "        model.train()\n",
        "        total = len(x_train) // args.batch_size + 1  # Initiates a progress bar that will be updated for each batch\n",
        "        with tqdm(total=total, desc=\"Epoch {}\".format(epoch)) as pbar:  # \"Epoch\" will be updated for each epoch\n",
        "            for batch in range(len(x_train)//args.batch_size + 1):\n",
        "                inds = slice(batch*args.batch_size, (batch+1)*args.batch_size)\n",
        "                optimizer.zero_grad()\n",
        "                logits = model(x_train[inds])\n",
        "                loss = criterion(logits, y_train[inds])\n",
        "                loss.backward()\n",
        "                optimizer.step()\n",
        "                loss_train += loss.item()\n",
        "                train_steps += 1\n",
        "                pbar.update(1)  # Updates the progress and the training loss\n",
        "                pbar.set_postfix_str(\"Training Loss: {:.5f}\".format(loss_train / train_steps))\n",
        "\n",
        "        model.eval()\n",
        "        with torch.no_grad():\n",
        "            y_dev_pred = model(x_dev)\n",
        "            loss = criterion(y_dev_pred, y_dev)\n",
        "            loss_test = loss.item()\n",
        "\n",
        "        acc_dev = acc(x_dev, y_dev)\n",
        "        print(\"Epoch {} | Train Loss {:.5f}, Train Acc {:.2f} - Test Loss {:.5f}, Test Acc {:.2f}\".format(\n",
        "            epoch, loss_train/train_steps, acc(x_train, y_train), loss_test, acc_dev))\n",
        "\n",
        "        if acc_dev > acc_dev_best and args.save_model:\n",
        "            torch.save(model.state_dict(), \"cnn_sentiment.pt\")\n",
        "            print(\"The model has been saved!\")\n",
        "            acc_dev_best = acc_dev"
      ],
      "execution_count": 42,
      "outputs": [
        {
          "output_type": "stream",
          "text": [
            "Epoch 0:   2%|▏         | 2/132 [00:00<00:22,  5.71it/s, Training Loss: 0.72351]"
          ],
          "name": "stderr"
        },
        {
          "output_type": "stream",
          "text": [
            "The no information rate is 50.92\n",
            "Starting training loop...\n"
          ],
          "name": "stdout"
        },
        {
          "output_type": "stream",
          "text": [
            "Epoch 0: 100%|██████████| 132/132 [00:01<00:00, 80.54it/s, Training Loss: 0.33921]\n"
          ],
          "name": "stderr"
        },
        {
          "output_type": "stream",
          "text": [
            "Epoch 0 | Train Loss 0.33921, Train Acc 93.69 - Test Loss 0.59996, Test Acc 80.16\n"
          ],
          "name": "stdout"
        },
        {
          "output_type": "stream",
          "text": [
            "Epoch 1:  13%|█▎        | 17/132 [00:00<00:01, 90.46it/s, Training Loss: 0.20464]"
          ],
          "name": "stderr"
        },
        {
          "output_type": "stream",
          "text": [
            "The model has been saved!\n"
          ],
          "name": "stdout"
        },
        {
          "output_type": "stream",
          "text": [
            "Epoch 1: 100%|██████████| 132/132 [00:01<00:00, 94.94it/s, Training Loss: 0.16086] \n",
            "Epoch 2:  15%|█▌        | 20/132 [00:00<00:01, 102.93it/s, Training Loss: 0.12670]"
          ],
          "name": "stderr"
        },
        {
          "output_type": "stream",
          "text": [
            "Epoch 1 | Train Loss 0.16086, Train Acc 96.42 - Test Loss 0.55414, Test Acc 79.36\n"
          ],
          "name": "stdout"
        },
        {
          "output_type": "stream",
          "text": [
            "Epoch 2: 100%|██████████| 132/132 [00:01<00:00, 97.48it/s, Training Loss: 0.10881]\n",
            "Epoch 3:  12%|█▏        | 16/132 [00:00<00:01, 88.73it/s, Training Loss: 0.09309]"
          ],
          "name": "stderr"
        },
        {
          "output_type": "stream",
          "text": [
            "Epoch 2 | Train Loss 0.10881, Train Acc 97.16 - Test Loss 0.70020, Test Acc 80.28\n",
            "The model has been saved!\n"
          ],
          "name": "stdout"
        },
        {
          "output_type": "stream",
          "text": [
            "Epoch 3: 100%|██████████| 132/132 [00:01<00:00, 97.98it/s, Training Loss: 0.08009]\n",
            "Epoch 4:  12%|█▏        | 16/132 [00:00<00:01, 96.49it/s, Training Loss: 0.06824]"
          ],
          "name": "stderr"
        },
        {
          "output_type": "stream",
          "text": [
            "Epoch 3 | Train Loss 0.08009, Train Acc 98.15 - Test Loss 0.70682, Test Acc 80.50\n",
            "The model has been saved!\n"
          ],
          "name": "stdout"
        },
        {
          "output_type": "stream",
          "text": [
            "Epoch 4: 100%|██████████| 132/132 [00:01<00:00, 90.97it/s, Training Loss: 0.06147]\n",
            "Epoch 5:  15%|█▌        | 20/132 [00:00<00:01, 101.54it/s, Training Loss: 0.05750]"
          ],
          "name": "stderr"
        },
        {
          "output_type": "stream",
          "text": [
            "Epoch 4 | Train Loss 0.06147, Train Acc 97.36 - Test Loss 0.89981, Test Acc 80.28\n"
          ],
          "name": "stdout"
        },
        {
          "output_type": "stream",
          "text": [
            "Epoch 5: 100%|██████████| 132/132 [00:01<00:00, 96.26it/s, Training Loss: 0.05121]\n",
            "Epoch 6:  13%|█▎        | 17/132 [00:00<00:01, 96.78it/s, Training Loss: 0.04376]"
          ],
          "name": "stderr"
        },
        {
          "output_type": "stream",
          "text": [
            "Epoch 5 | Train Loss 0.05121, Train Acc 98.36 - Test Loss 0.83008, Test Acc 81.54\n",
            "The model has been saved!\n"
          ],
          "name": "stdout"
        },
        {
          "output_type": "stream",
          "text": [
            "Epoch 6: 100%|██████████| 132/132 [00:01<00:00, 98.47it/s, Training Loss: 0.04240]\n",
            "Epoch 7:  15%|█▌        | 20/132 [00:00<00:01, 99.27it/s, Training Loss: 0.03881]"
          ],
          "name": "stderr"
        },
        {
          "output_type": "stream",
          "text": [
            "Epoch 6 | Train Loss 0.04240, Train Acc 98.44 - Test Loss 1.28971, Test Acc 80.85\n"
          ],
          "name": "stdout"
        },
        {
          "output_type": "stream",
          "text": [
            "Epoch 7: 100%|██████████| 132/132 [00:01<00:00, 91.10it/s, Training Loss: 0.03465]\n",
            "Epoch 8:  14%|█▍        | 19/132 [00:00<00:01, 97.13it/s, Training Loss: 0.03745]"
          ],
          "name": "stderr"
        },
        {
          "output_type": "stream",
          "text": [
            "Epoch 7 | Train Loss 0.03465, Train Acc 98.37 - Test Loss 1.45630, Test Acc 77.75\n"
          ],
          "name": "stdout"
        },
        {
          "output_type": "stream",
          "text": [
            "Epoch 8: 100%|██████████| 132/132 [00:01<00:00, 98.03it/s, Training Loss: 0.02927]\n",
            "Epoch 9:  14%|█▎        | 18/132 [00:00<00:01, 92.48it/s, Training Loss: 0.02868]"
          ],
          "name": "stderr"
        },
        {
          "output_type": "stream",
          "text": [
            "Epoch 8 | Train Loss 0.02927, Train Acc 99.21 - Test Loss 1.05540, Test Acc 78.78\n"
          ],
          "name": "stdout"
        },
        {
          "output_type": "stream",
          "text": [
            "Epoch 9: 100%|██████████| 132/132 [00:01<00:00, 95.60it/s, Training Loss: 0.02349]\n"
          ],
          "name": "stderr"
        },
        {
          "output_type": "stream",
          "text": [
            "Epoch 9 | Train Loss 0.02349, Train Acc 99.27 - Test Loss 1.33796, Test Acc 78.56\n"
          ],
          "name": "stdout"
        }
      ]
    },
    {
      "cell_type": "markdown",
      "metadata": {
        "id": "FDSz9agy7nl1"
      },
      "source": [
        "# Test of Deep Learning"
      ]
    },
    {
      "cell_type": "code",
      "metadata": {
        "id": "agoddrKE7U6y"
      },
      "source": [
        "x = None\n",
        "deep_learning_sentiment_prob = []\n",
        "\n",
        "for i in df.iloc[:,7]:\n",
        "    test = convert_to_ids([i], token_ids, args.seq_len)\n",
        "    test = torch.LongTensor(test).to(device)\n",
        "    pred = model(test).cpu().detach().numpy()[0]\n",
        "    x = softmax(pred)\n",
        "    deep_learning_sentiment_prob.append(x[1])"
      ],
      "execution_count": 46,
      "outputs": []
    },
    {
      "cell_type": "code",
      "metadata": {
        "id": "ceKT6AHr7Ubk",
        "colab": {
          "base_uri": "https://localhost:8080/",
          "height": 1000
        },
        "outputId": "563a6572-ac6f-4c1d-fd4b-6b999c9f0f29"
      },
      "source": [
        "df['deep_learning_sentiment_prob'] = deep_learning_sentiment_prob\r\n",
        "df"
      ],
      "execution_count": 48,
      "outputs": [
        {
          "output_type": "execute_result",
          "data": {
            "text/html": [
              "<div>\n",
              "<style scoped>\n",
              "    .dataframe tbody tr th:only-of-type {\n",
              "        vertical-align: middle;\n",
              "    }\n",
              "\n",
              "    .dataframe tbody tr th {\n",
              "        vertical-align: top;\n",
              "    }\n",
              "\n",
              "    .dataframe thead th {\n",
              "        text-align: right;\n",
              "    }\n",
              "</style>\n",
              "<table border=\"1\" class=\"dataframe\">\n",
              "  <thead>\n",
              "    <tr style=\"text-align: right;\">\n",
              "      <th></th>\n",
              "      <th>Date</th>\n",
              "      <th>Header</th>\n",
              "      <th>Text</th>\n",
              "      <th>Open</th>\n",
              "      <th>Volume</th>\n",
              "      <th>% Change in Stock Price</th>\n",
              "      <th>% Change in Volume</th>\n",
              "      <th>Text (clean)</th>\n",
              "      <th>deep_learning_sentiment_prob</th>\n",
              "    </tr>\n",
              "  </thead>\n",
              "  <tbody>\n",
              "    <tr>\n",
              "      <th>0</th>\n",
              "      <td>2020-06-02</td>\n",
              "      <td>Zoom nearly doubles revenue forecast on remote-work boost, but costs rising</td>\n",
              "      <td>- Zoom Video Communications Inc ZM.O nearly doubled its expectations for annual sales on Tuesday, driven by a surge in users as more people work from home and connect with friends online during coronavirus lockdowns.FILE PHOTO: Small toy figures are seen in front of diplayed Zoom logo in this illustration taken March 19, 2020. REUTERS/Dado Ruvic/IllustrationBut Zoom’s costs also rose sharply, and executives said gross margins would likely remain below Zoom’s historical norms in the coming quarters, sending shares of the San Jose, California-based down 3.5% to $200.75 in after-market trading.The company has transformed itself into a global video hangout from a business-oriented teleconferencing tool. It came under fire over privacy and security issues, prompting it to roll out major upgrades.The company raised its full-year revenue forecast to a range of $1.78 billion to $1.80 billion from $905 million to $915 million. Analysts on average expected revenue of $935.2 million for the fiscal year ending January 2021.The latest quarterly report shows the company now has about 265,400 customers with more than 10 employees, a near fourfold increase from a year earlier.But there were also possible signs the Zoom boom may be slowing as economies reopen. Chief Financial Officer Kelly Steckelberg said the April peak usage of 300 million daily meeting participants declined slightly in May.The company expects it to rise eventually above 300 million again.Zoom company competes with Cisco Systems Inc's CSCO.O Webex, Microsoft Corp MSFT.O Teams and Google's GOOGL.O Meet platform for paying customers, particularly enterprises, while offering a free version to consumers.Zoom reported fiscal first-quarter revenue of $328.2 million, beating analysts’ estimates of $202.7 million, according to IBES data from Refinitiv.While Zoom’s revenue increased sharply, its costs rose even more steeply. The company’s cost of revenue was up 330% to $103.7 million, which lowered its gross margin to 68.4% from 80.2% a year earlier.One of Zoom's biggest costs is data centers and bandwidth to host calls. The company runs some of its own data centers, but also pays for cloud computing services from Amazon.com Inc's AMZN.O Amazon Web Services and Microsoft, and in April added Oracle Corp ORCL.N as a vendor.On a Zoom call with investors, Chief Executive Eric Yuan said Amazon provided the “majority” of new capacity that Zoom needed to meet demand.Steckelberg said on the call that the company planned to expand its own data centers to become more efficient, which should boost margins to the mid-70% range in the next several quarters. Analysts had expected gross margins to hover between 79% and 81% over the coming year, according to Refinitiv data.Excluding items, the company earned 20 cents per share in the latest quarter, beating analysts’ estimate of 9 cents.Zoom’s shares have more than tripled this year.Reporting by Ayanti Bera in Bengaluru and Stephen Nellis in San Francisco; Editing by Lisa Shumaker, Peter Henderson and Peter CooneyOur Standards: The Thomson Reuters Trust Principles.</td>\n",
              "      <td>210.250000</td>\n",
              "      <td>36853400</td>\n",
              "      <td>NaN</td>\n",
              "      <td>NaN</td>\n",
              "      <td>Zoom Video Communications Inc zm.o nearly double expectation annual sale Tuesday drive surge user people work home connect friend online coronavirus lockdown FILE PHOTO small toy figure see diplayed Zoom logo illustration take March 19 2020 REUTERS Dado Ruvic IllustrationBut Zoom cost rise sharply executive say gross margin likely remain Zoom historical norm come quarter send share San Jose California base 3.5 $ 200.75 market trading company transform global video hangout business orient teleconferencing tool come fire privacy security issue prompt roll major upgrade company raise year revenue forecast range $ 1.78 billion $ 1.80 billion $ 905 million $ 915 million analyst average expect revenue $ 935.2 million fiscal year end January 2021.the late quarterly report show company 265,400 customer 10 employee near fourfold increase year earlier possible sign Zoom boom slow economy reopen Chief Financial Officer Kelly Steckelberg say April peak usage 300 million daily meeting participant decline slightly company expect rise eventually 300 million zoom company compete Cisco Systems Inc CSCO.O Webex Microsoft Corp MSFT.O Teams Google googl.o meet platform pay customer particularly enterprise offer free version consumer Zoom report fiscal quarter revenue $ 328.2 million beat analyst estimate $ 202.7 million accord IBES datum Refinitiv Zoom revenue increase sharply cost rise steeply company cost revenue 330 $ 103.7 million lower gross margin 68.4 80.2 year earlier Zoom big cost datum center bandwidth host call company run datum center pay cloud compute service Amazon.com Inc AMZN.O Amazon Web Services Microsoft April add Oracle Corp orcl.n vendor zoom investor Chief Executive Eric Yuan say Amazon provide majority new capacity Zoom need meet demand Steckelberg say company plan expand datum center efficient boost margin mid-70 range quarter analyst expect gross margin hover 79 81 come year accord Refinitiv datum exclude item company earn 20 cent share late quarter beat analyst estimate 9 cent Zoom share triple year reporting Ayanti Bera Bengaluru Stephen Nellis San Francisco editing Lisa Shumaker Peter Henderson Peter CooneyOur Standards Thomson Reuters Trust Principles</td>\n",
              "      <td>1.081716e-05</td>\n",
              "    </tr>\n",
              "    <tr>\n",
              "      <th>1</th>\n",
              "      <td>2020-06-11</td>\n",
              "      <td>Zoom denies giving user information to Chinese government</td>\n",
              "      <td>- Zoom Video Communications Inc said on Thursday it did not provide any user information or meeting content to the Chinese government.The company’s statement comes after it temporarily shut the account belonging to a group of U.S.-based Chinese activists that had held an event to commemorate the 31st anniversary of China’s Tiananmen Square crackdown.Reporting by Ayanti Bera in Bengaluru; Editing by Devika SyamnathOur Standards: The Thomson Reuters Trust Principles.</td>\n",
              "      <td>219.179993</td>\n",
              "      <td>17615800</td>\n",
              "      <td>4.247321</td>\n",
              "      <td>-52.200340</td>\n",
              "      <td>Zoom Video Communications Inc say Thursday provide user information meeting content chinese government company statement come temporarily shut account belong group u.s.-based chinese activist hold event commemorate 31st anniversary China Tiananmen Square crackdown report Ayanti Bera Bengaluru editing Devika SyamnathOur Standards Thomson Reuters Trust Principles</td>\n",
              "      <td>1.372852e-05</td>\n",
              "    </tr>\n",
              "    <tr>\n",
              "      <th>2</th>\n",
              "      <td>2020-06-24</td>\n",
              "      <td>Zoom taps former Salesforce executive as information security head</td>\n",
              "      <td>- Zoom Video Communications Inc on Wednesday named former Salesforce.com Inc security executive Jason Lee as its chief information security officer.Lee will assume the role from June 29, the video conferencing company said.Prior to Salesforce, Lee was a security engineering executive at Microsoft Corp for 15 years, according to his LinkedIn profile here.Zoom’s announcement comes as the company is nearing the end of its 90-day security plan announced earlier in April in response to safety and privacy concerns on its fast-growing video-conferencing app.Lee will lead Zoom’s security team and report to Aparna Bawa, chief operating officer, the company said.Reporting by Ayanti Bera in Bengaluru; Editing by Sriraj Kalluvila and Maju SamuelOur Standards: The Thomson Reuters Trust Principles.</td>\n",
              "      <td>254.500000</td>\n",
              "      <td>9862800</td>\n",
              "      <td>16.114613</td>\n",
              "      <td>-44.011626</td>\n",
              "      <td>Zoom Video Communications Inc Wednesday name Salesforce.com Inc security executive Jason Lee chief information security officer Lee assume role June 29 video conferencing company say prior Salesforce Lee security engineering executive Microsoft Corp 15 year accord LinkedIn profile zoom announcement come company near end 90-day security plan announce earlier April response safety privacy concern fast grow video conferencing app Lee lead Zoom security team report Aparna Bawa chief operating officer company say report Ayanti Bera Bengaluru editing Sriraj Kalluvila Maju SamuelOur Standards Thomson Reuters Trust Principles</td>\n",
              "      <td>8.873237e-13</td>\n",
              "    </tr>\n",
              "    <tr>\n",
              "      <th>3</th>\n",
              "      <td>2020-07-01</td>\n",
              "      <td>Zoom says added over 100 features as part of 90-day security plan</td>\n",
              "      <td>- Zoom Video Communications Inc said on Wednesday it has added over 100 features to its video conferencing as part of its 90-day plan to address security and privacy concerns.The company said it has made significant progress for a transparency report that details information related to requests Zoom receives for data, records, or content and the report will be out later this year with details on governmental requests for its users’ account information.The company’s teleconferencing platform has seen a surge in users as the COVID-19 pandemic has forced millions around the world indoors. However, it came under fire over privacy and security issues, prompting Zoom to roll out major upgrades.To address those concerns, it has embarked here on a 90-day plan and hired several security experts, including former Facebook security chief Alex Stamos as an adviser, to address privacy concerns.It plans to offer end-to-end encryption for video calls to both free and paying users and launch a trial version in July.Last week, Zoom took another step towards tackling these concerns and named former Salesforce.com Inc security executive Jason Lee as its chief information security officer.Reporting by Supantha Mukherjee and Akanksha Rana in Bengaluru; Editing by Maju SamuelOur Standards: The Thomson Reuters Trust Principles.</td>\n",
              "      <td>251.350006</td>\n",
              "      <td>6803300</td>\n",
              "      <td>-1.237719</td>\n",
              "      <td>-31.020603</td>\n",
              "      <td>Zoom Video Communications Inc say Wednesday add 100 feature video conferencing 90-day plan address security privacy concern company say significant progress transparency report detail information relate request Zoom receive datum record content report later year detail governmental request user account information company teleconferencing platform see surge user covid-19 pandemic force million world indoor come fire privacy security issue prompt Zoom roll major upgrade address concern embark 90-day plan hire security expert include Facebook security chief Alex Stamos adviser address privacy concern plan offer end end encryption video call free pay user launch trial version July week Zoom take step tackle concern name Salesforce.com Inc security executive Jason Lee chief information security officer reporting Supantha Mukherjee Akanksha Rana Bengaluru editing Maju SamuelOur Standards Thomson Reuters Trust Principles</td>\n",
              "      <td>8.726556e-03</td>\n",
              "    </tr>\n",
              "    <tr>\n",
              "      <th>4</th>\n",
              "      <td>2020-07-07</td>\n",
              "      <td>Zoom rolls out hardware subscription service</td>\n",
              "      <td>- Zoom Video Communications Inc ZM.O said on Tuesday it launched a hardware subscription service, seeking to make its teleconferencing app more accessible to users by allowing them to choose subscription options for phones and meeting rooms.The plans for Zoom Phone have been priced between $5.99 and $60 per month, based on the device users opt for, while the cost for hardware services for Zoom Rooms is in the range of $75 to $200 per month, according to the company’s website.Zoom has partnered with third-party hardware manufacturers such as DTEN, Neat, Poly, and Yealink for the phone and meeting room devices.The company’s teleconferencing platform, which has seen a surge in users as the COVID-19 pandemic forced millions around the world to stay indoors, has faced backlash over privacy and security issues, prompting it to roll out major upgrades.The launch comes nearly a week after Zoom said it has made significant progress in a transparency report that details information related to requests it receives for data, records, or content, adding that the report will be out later this year.Zoom on Tuesday also joined a list of major U.S. internet companies, including Facebook Inc FB.O, Microsoft Corp MSFT.O and Alphabet Inc's GOOGL.O Google, to have suspended processing of requests for user data from Hong Kong authorities while they study the new law.Reporting by Akanksha Rana in Bengaluru; editing by Uttaresh.VOur Standards: The Thomson Reuters Trust Principles.</td>\n",
              "      <td>261.549988</td>\n",
              "      <td>7819700</td>\n",
              "      <td>4.058079</td>\n",
              "      <td>14.939809</td>\n",
              "      <td>Zoom Video Communications Inc ZM.O say Tuesday launch hardware subscription service seek teleconferencing app accessible user allow choose subscription option phone meeting room plan Zoom Phone price $ 5.99 $ 60 month base device user opt cost hardware service Zoom Rooms range $ 75 $ 200 month accord company website Zoom partner party hardware manufacturer DTEN Neat Poly yealink phone meeting room device company teleconferencing platform see surge user covid-19 pandemic force million world stay indoor face backlash privacy security issue prompt roll major upgrade launch come nearly week Zoom say significant progress transparency report detail information relate request receive datum record content add report later year Zoom Tuesday join list major U.S. internet company include Facebook Inc FB.O Microsoft Corp MSFT.O Alphabet Inc GOOGL.O Google suspend processing request user datum Hong Kong authority study new law reporting Akanksha Rana Bengaluru editing Uttaresh VOur Standards Thomson Reuters Trust Principles</td>\n",
              "      <td>2.469754e-06</td>\n",
              "    </tr>\n",
              "    <tr>\n",
              "      <th>5</th>\n",
              "      <td>2020-07-16</td>\n",
              "      <td>Formula One, Zoom announce partnership for virtual Paddock Club</td>\n",
              "      <td>- Formula One fans will be able to get a better flavour of the race-day experience with a virtual alternative to the ‘Paddock Club’ during the COVID-19 pandemic as part of a digital partnership with U.S. based Zoom Video Communications.The real-world Paddock Club offers guests a vantage point over the team garages with a view of the start and finish line and into the pit lane. Also included is access to the backstage area with exclusive driver interviews and tours of the pit lane.Yet with Formula One announcing a calendar of eight races in Europe without spectators due to the novel coronavirus outbreak, there was a virtual hospitality offering during the Styrian Grand Prix last weekend.“We understood the opportunity Zoom presented to us, which was about delivering a live sporting experience for guests despite the fact much of sport is currently behind closed doors,” Formula One’s Director of Commercial Partnerships Ben Pincus said in a statement.Additional fan experiences are likely to be created at future races, in-line with the regulations of the sport’s governing body the FIA.The third race of the 2020 season will be held on July 19 at The Hungaroring, outside Budapest.Reporting by Shrivathsa Sridhar in Bengaluru; Editing by Toby DavisOur Standards: The Thomson Reuters Trust Principles.</td>\n",
              "      <td>250.389999</td>\n",
              "      <td>5420100</td>\n",
              "      <td>-4.266867</td>\n",
              "      <td>-30.686599</td>\n",
              "      <td>Formula fan able well flavour race day experience virtual alternative Paddock Club covid-19 pandemic digital partnership U.S. base Zoom Video Communications real world Paddock Club offer guest vantage point team garage view start finish line pit lane include access backstage area exclusive driver interview tour pit lane Formula announce calendar race Europe spectator novel coronavirus outbreak virtual hospitality offering Styrian Grand Prix weekend “We understand opportunity Zoom present deliver live sporting experience guest despite fact sport currently closed door Formula Director Commercial Partnerships Ben Pincus say statement additional fan experience likely create future race line regulation sport govern body FIA.The race 2020 season hold July 19 Hungaroring outside Budapest report Shrivathsa Sridhar Bengaluru editing Toby DavisOur Standards Thomson Reuters Trust Principles</td>\n",
              "      <td>5.716079e-06</td>\n",
              "    </tr>\n",
              "    <tr>\n",
              "      <th>6</th>\n",
              "      <td>2020-07-21</td>\n",
              "      <td>Zoom to open tech centre in India's Bengaluru</td>\n",
              "      <td>- Zoom Video Communications Inc ZM.O said on Tuesday it will open a technology centre in the southern Indian city of Bengaluru and soon begin hiring as part of an expansion push in the country.Potential areas of expansion for the new technology centre include research and development, IT, security as well business operations, Velchamy Sankarlingam, Zoom’s president of product and engineering, told a virtual news conference.San Jose, California-based Zoom already has an office and a data centre in India’s financial capital Mumbai and a second data centre in Bengaluru.It could add more local data centres based on its growth needs, Sankarlingam said. The company did not disclose investment plans for India or the number of people it planned to hire.Use of Zoom’s video conferencing services has surged at a time people across the world are working from home due to coronavirus curbs, but the company has also come under fire over privacy and security issues, spurring it to roll out major upgrades.India has previously said Zoom is “not a safe platform”, joining other countries in expressing concern about the security of its services.“Zoom has reached out and engaged with the Indian government and so far we’re optimistic,” Zoom’s Chief Operating Officer Aparna Bawa said, without elaborating.It competes with Cisco Systems Inc's CSCO.O Webex, Microsoft Corp's MSFT.O Teams and Google's GOOGL.O Meet platform. Its Indian rivals include Reliance's RELI.NS JioMeet and Bluejeans, a Verizon VZ.N application that has been customised for India by Bharti Airtel BRTI.NS.Reporting by Sankalp Phartiyal; Editing by Edwina GibbsOur Standards: The Thomson Reuters Trust Principles.</td>\n",
              "      <td>268.750000</td>\n",
              "      <td>4762000</td>\n",
              "      <td>7.332562</td>\n",
              "      <td>-12.141842</td>\n",
              "      <td>Zoom Video Communications Inc ZM.O say Tuesday open technology centre southern indian city Bengaluru soon begin hire expansion push country potential area expansion new technology centre include research development security business operation Velchamy Sankarlingam Zoom president product engineering tell virtual news conference San Jose California base Zoom office datum centre India financial capital Mumbai second data centre Bengaluru add local datum centre base growth need Sankarlingam say company disclose investment plan India number people plan hire use Zoom video conferencing service surge time people world work home coronavirus curb company come fire privacy security issue spur roll major upgrade India previously say Zoom safe platform join country express concern security service “Zoom reach engage indian government far optimistic Zoom Chief Operating Officer Aparna Bawa say elaborate compete Cisco Systems Inc CSCO.O Webex Microsoft Corp MSFT.O Teams Google GOOGL.O meet platform indian rival include Reliance RELI.NS JioMeet Bluejeans Verizon vz.n application customise India Bharti Airtel BRTI.NS.Reporting Sankalp Phartiyal editing Edwina GibbsOur Standards Thomson Reuters Trust Principles</td>\n",
              "      <td>1.484792e-05</td>\n",
              "    </tr>\n",
              "    <tr>\n",
              "      <th>7</th>\n",
              "      <td>2020-07-30</td>\n",
              "      <td>Senators urge U.S. Justice Department to probe TikTok, Zoom</td>\n",
              "      <td>- Senators Richard Blumenthal, a Democrat, and Josh Hawley, a Republican, wrote to the U.S. Justice Department on Thursday to urge a probe of video technology company Zoom and Chinese-owned social media company TikTok.Slideshow ( 2 images )The lawmakers said Americans, many of whom are largely staying home because of the COVID-19 pandemic, were substituting Zoom calls for personal interaction and binging on TikTok videos.“We believe that it is imperative that the Department of Justice investigate and determine whether Zoom and TikTok’s business relationships, data handling practices, and operational connections to China pose a risk to Americans,” they wrote.The two senators said the companies sought to downplay their ties with China.“Based on numerous reports, we are extremely concerned that Zoom and TikTok have disclosed private information about Americans to the [People’s Republic of China] and engaged in censorship on behalf of the Chinese government,” they said in the letter to Assistant Attorney General John Demers.The Justice Department did not immediately respond to requests for comment. Zoom said in a statement it takes “user privacy, security, and trust extremely seriously, and as always, we welcome conversations with officials about our global business practices and policies.”Zoom shares, which traded up 1% earlier Thursday, fell by more than 5% after Reuters reported the letter but later recovered some losses. Its share price was down 1% in late trading Thursday at $249.93.TikTok, which is owned by Beijing-based ByteDance, has said that it stores all data in the United States with backup in Singapore.“Our content and moderation policies are led by our U.S.-based team in California and aren’t influenced by any foreign government,” the company said in an email statement. “We’ve never shared TikTok user data with the Chinese government, and would not do so if asked.”Although a California company, Zoom has big research and development centers in China that have more than 700 employees, according to a filing it made to the U.S. government.Reporting by Diane Bartz; additional reporting by David Shepardson and Chris Bing; Editing by Chris Reese and Aurora EllisOur Standards: The Thomson Reuters Trust Principles.</td>\n",
              "      <td>250.313995</td>\n",
              "      <td>7926100</td>\n",
              "      <td>-6.859909</td>\n",
              "      <td>66.444771</td>\n",
              "      <td>Senators Richard Blumenthal Democrat Josh Hawley Republican write U.S. Justice Department Thursday urge probe video technology company Zoom Chinese own social medium company TikTok Slideshow 2 image lawmaker say Americans largely stay home covid-19 pandemic substitute Zoom call personal interaction binge TikTok video “we believe imperative Department Justice investigate determine Zoom TikTok business relationship datum handling practice operational connection China pose risk Americans write senator say company seek downplay tie China “base numerous report extremely concerned Zoom TikTok disclose private information Americans People Republic China engage censorship behalf chinese government say letter Assistant Attorney General John Demers Justice Department immediately respond request comment Zoom say statement take user privacy security trust extremely seriously welcome conversation official global business practice policy ”Zoom share trade 1 early Thursday fall 5 Reuters report letter later recover loss share price 1 late trading Thursday $ 249.93.tiktok own Beijing base ByteDance say store datum United States backup Singapore “Our content moderation policy lead u.s.-based team California influence foreign government company say email statement share TikTok user datum chinese government ask ”although California company Zoom big research development center China 700 employee accord filing U.S. government reporting Diane Bartz additional reporting David Shepardson Chris Bing editing Chris Reese Aurora EllisOur Standards Thomson Reuters Trust Principles</td>\n",
              "      <td>7.543203e-03</td>\n",
              "    </tr>\n",
              "    <tr>\n",
              "      <th>8</th>\n",
              "      <td>2020-08-18</td>\n",
              "      <td>Zoom opens new data center in Singapore</td>\n",
              "      <td>- Zoom Video Communications has opened a new data center in Singapore, its first in Southeast Asia, it said on Tuesday.Use of Zoom’s video conferencing services has surged as huge numbers of people across the world work from home because of coronavirus curbs, but the company has also come under fire over privacy and security issues.The Singapore data center, through which the company’s users in Southeast Asia can connect, brings its total to 18 sites globally.The company also plans to hire more Singapore employees, including engineers and sales staff, said Abe Smith, Head of International at Zoom.Security researchers this year discovered that Zoom rerouted some calls through its servers in China, even if those calls were placed outside China.The company had said that this took place in “extremely limited circumstances” and it had taken its mainland China data centres off an approved list of back-ups for users outside China.Zoom’s Smith said there has been a 65-fold increase in users of its free services in Singapore, with a tripling of paying customers, since January. Since March, 400 schools in the city state have been using the platform.Singapore briefly suspended the use of Zoom by teachers in April after “very serious incidents” in the first week of coronavirus lockdown, including an incident that involved obscene images appearing on screens during a geography lesson.Reporting by Aradhana Aravindan in Singapore; Editing by David GoodmanOur Standards: The Thomson Reuters Trust Principles.</td>\n",
              "      <td>271.720001</td>\n",
              "      <td>6517000</td>\n",
              "      <td>8.551662</td>\n",
              "      <td>-17.777974</td>\n",
              "      <td>Zoom Video Communications open new datum center Singapore Southeast Asia say Tuesday use Zoom video conferencing service surge huge number people world work home coronavirus curb company come fire privacy security issue Singapore datum center company user Southeast Asia connect bring total 18 site globally company plan hire Singapore employee include engineer sale staff say Abe Smith Head International Zoom security researcher year discover Zoom reroute call server China call place outside China company say take place extremely limited circumstance take mainland China datum centre approved list up user outside China Zoom Smith say 65-fold increase user free service Singapore tripling pay customer January March 400 school city state platform Singapore briefly suspend use Zoom teacher April incident week coronavirus lockdown include incident involve obscene image appear screen geography lesson reporting Aradhana Aravindan Singapore editing David GoodmanOur Standards Thomson Reuters Trust Principles</td>\n",
              "      <td>1.216343e-07</td>\n",
              "    </tr>\n",
              "    <tr>\n",
              "      <th>9</th>\n",
              "      <td>2020-08-24</td>\n",
              "      <td>Zoom says service restored after U.S. users hit by partial outage</td>\n",
              "      <td>- Video-conferencing company Zoom Video Communications Inc ZM.O said on Monday it had restored service to its U.S. users after a partial outage left many unable to log in to work meetings or attend school classes remotely.Slideshow ( 2 images )The San Jose, California-based company has experienced a surge in usage during the coronavirus pandemic, as millions of people turn to it for work meetings, school, social events including weddings and to otherwise stay connected while isolating themselves. Many schools that turned to remote instruction have used Zoom for classes.Outage tracking website Downdetector.com showed nearly 17,000 incidents of people reporting issues with Zoom earlier in the day.\"We have resolved the issue causing users to be unable to start and join Zoom Meetings and Webinars. Users are now also able to sign up for paid accounts, upgrade, and manage their service on the Zoom website. We are currently monitoring to ensure that these services are operational,\" Zoom said on its website. (bit.ly/3aR1Fly)The company did not provide details on the cause of outage.Zoom’s stock has risen more than eight-fold since its initial public offering last year and four-fold so far in 2020, but it was down 2.9% after falling as much as 5.4% in earlier Monday.Zoom competes with Cisco Systems Inc's CSCO.O Webex, Microsoft Corp's MSFT.O Teams and Alphabet Inc's GOOGL.O Google Meet platform for paying customers, particularly enterprises, while offering a free version to customers. Zoom had 300 million daily meeting participants in April, the latest figures disclosed.Even as its usage has soared, Zoom has come under fire over privacy and security issues, including incidents of “Zoom bombing” in which uninvited users entered and disrupted meetings. It has since rolled out major upgrades, including end-to-end encryption for video calls.Although a California company, Zoom has big research and development centers in China with hundreds of employees, according to a filing it made to the U.S. government.“For sustained growth to continue, it (Zoom) will have to show investors that it can be relied on to ensure its core customers don’t drift towards the likes of Microsoft Teams, Google Meet and Cisco’s Webex,” said Susannah Streeter, senior investment and markets commentator at Hargreaves Lansdown.“As Zoom fatigue sets in and the pandemic eases, it’s even more important that the company demonstrates its systems are secure, if it’s to be seen as a long-term player in this competitive market,” Streeter added.Users took to Twitter to complain about the outage.“Zoom having a world wide outage for the first day of school, so 2020!” Twitter user Anthony Slaughter wrote.Reporting by Munsif Vengattil and Subrat Patnaik in Bengaluru; Writing by Will Dunham; Editing by Sriraj Kalluvila and Richard ChangOur Standards: The Thomson Reuters Trust Principles.</td>\n",
              "      <td>293.000000</td>\n",
              "      <td>6463500</td>\n",
              "      <td>7.831591</td>\n",
              "      <td>-0.820930</td>\n",
              "      <td>video conference company Zoom Video Communications Inc ZM.O say Monday restore service U.S. user partial outage leave unable log work meeting attend school class remotely Slideshow 2 image San Jose California base company experience surge usage coronavirus pandemic million people turn work meeting school social event include wedding stay connected isolate school turn remote instruction Zoom class outage tracking website Downdetector.com show nearly 17,000 incident people report issue Zoom earlier day \"We resolve issue cause user unable start join Zoom Meetings Webinars user able sign pay account upgrade manage service Zoom website currently monitor ensure service operational Zoom say website bit.ly/3aR1Fly)The company provide detail cause outage Zoom stock rise fold initial public offering year fold far 2020 2.9 fall 5.4 early Monday zoom compete Cisco Systems Inc CSCO.O Webex Microsoft Corp MSFT.O Teams Alphabet Inc GOOGL.O Google Meet platform pay customer particularly enterprise offer free version customer Zoom 300 million daily meeting participant April late figure disclose usage soar Zoom come fire privacy security issue include incident Zoom bombing uninvited user enter disrupt meeting roll major upgrade include end end encryption video call California company Zoom big research development center China hundred employee accord filing U.S. government “For sustained growth continue Zoom investor rely ensure core customer drift like Microsoft Teams Google Meet Cisco Webex say Susannah Streeter senior investment market commentator Hargreaves Lansdown “a zoom fatigue set pandemic ease important company demonstrate system secure see long term player competitive market Streeter add user take Twitter complain outage “Zoom have world wide outage day school 2020 twitter user Anthony Slaughter write report Munsif Vengattil Subrat Patnaik Bengaluru writing Dunham editing Sriraj Kalluvila Richard ChangOur Standards Thomson Reuters Trust Principles</td>\n",
              "      <td>1.816585e-15</td>\n",
              "    </tr>\n",
              "    <tr>\n",
              "      <th>10</th>\n",
              "      <td>2020-08-31</td>\n",
              "      <td>Zoom beats quarterly revenue estimates on remote work boost</td>\n",
              "      <td>- Zoom Video Communications Inc beat second-quarter revenue estimates on Monday as it benefited from efforts to convert more of the huge work-from-home user base it has gained in the coronavirus crisis into paying customers.Total revenue for the three months ended July 31 jumped 355% to $663.5 million, beating estimates of $500.5 million, according to IBES Refinitiv data. (Reporting by Neha Malara in Bengaluru and Stephen Nellis in San Francisco; Editing by Sriraj Kalluvila)Our Standards: The Thomson Reuters Trust Principles.</td>\n",
              "      <td>304.010010</td>\n",
              "      <td>23468100</td>\n",
              "      <td>3.757683</td>\n",
              "      <td>263.086563</td>\n",
              "      <td>Zoom Video Communications Inc beat second quarter revenue estimate Monday benefit effort convert huge work home user base gain coronavirus crisis pay customer total revenue month end July 31 jump 355 $ 663.5 million beat estimate $ 500.5 million accord IBES Refinitiv datum reporting Neha Malara Bengaluru Stephen Nellis San Francisco editing Sriraj Kalluvila)Our Standards Thomson Reuters Trust Principles</td>\n",
              "      <td>1.628313e-16</td>\n",
              "    </tr>\n",
              "    <tr>\n",
              "      <th>11</th>\n",
              "      <td>2020-09-01</td>\n",
              "      <td>Breakingviews - Corona Capital: Zooming through Covid</td>\n",
              "      <td>ingviews columnists5 Min ReadNEW YORK/HONG KONG/ZURICH/LONDON (Reuters Breakingviews) - Corona Capital is a column updated throughout the day by Breakingviews columnists around the world with short, sharp pandemic-related insights.A 3D printed Zoom logo is placed between small toy people figures and a keyboard in this illustration taken April 12, 2020. REUTERS/Dado Ruvic/IllustrationLATEST- ZoomZOOMING FASTER. Zoom Video Communications keeps calling in extraordinary growth because of the pandemic. Revenue for the quarter to July 31 more than quadrupled compared to last year, and earnings rose more than 30-fold. These figures, and projections for even higher sales this quarter, easily blew past analyst estimates compiled by Refinitiv.The next few quarters should offer more of the same. Most people use Zoom’s free service, so the company only needs to convert a small chunk to paying users to benefit. International markets aren’t nearly as tapped out, and grew over 600% year-on-year. And widespread vaccination and a return to in-person gatherings probably won’t occur for a year or so.Yet Zoom’s market value – which has risen sixfold since the start of the year to $130 billion, including a 40%-plus surge on Tuesday morning – faces risks in the form of competition from bigger firms like Microsoft and a return to something closer to normal once Covid-19 is controlled. What zooms up can zoom down. (By Robert Cyran)SHOT DOWN. Struggling Chinese aviation-to-finance conglomerate HNA will cede control of baggage handler Swissport in a debt-for-equity swap with senior secured creditors that will extinguish or convert 1.9 billion euros of debt into equity. That’s unsurprising given the whack the pandemic dealt to travel, but a brutal sting for the Hainan-based travel firm. HNA forked out $2.8 billion for Swissport in 2016 – part of a wave of pricey, leveraged offshore acquisitions that included a senseless 10% stake in Deutsche Bank – then quickly found itself struggling to make repayments after Beijing clipped its wings. In March HNA, with nearly $50 billion in debt per Dealogic data, was made a ward of its provincial government.Swissport’s new owners, including SVP Global and Barclays Bank, have provided 800 million euros of credit to keep the operation afloat, and now plan to poach business from struggling rivals. Their success will be of scant comfort to HNA. (By Pete Sweeney)M&amp;A HEAD-FAKE. The second half of 2020 kicked off with a bang by one measure. Mega-deals worth more than $5 billion hit a record in August with nine announced, Refinitiv says. That’s 21 such transactions since July began, marking the best semester ever, worth $256 billion, a value exceeded only in 2015. So, it’s back to the races for consolidation?Not so fast. Many deals were iced in March, when the world went into lockdown. A summer respite, with stock prices rebounding, helped push a few over the finish line, such as Seven &amp; i’s $21 billion purchase of Marathon Petroleum’s service stations and Johnson &amp; Johnson’s $6.5 billion punt on Momenta Pharmaceuticals. And while bankers say animal spirits are high, the so-called pipeline isn’t robust. Autumn brings too many uncertainties, they say: an expected Covid-19 spike when the weather cools, the U.S. election, a rise in nationalistic barriers to foreign ownership, disbelief in super-high stock prices and a question over who will pay for all the virus-related stimulus. To paraphrase George Gershwin, it’s summertime and the living is easy. (By Rob Cox)RED CARPET. Cineworld’s future comes with a Chinese twist. Tycoon Liu Zaiwang’s company Jangho Group snapped up a 5% stake in the UK cinema chain in August. It makes sense to take advantage of Cineworld’s depressed share price, down 71% this year, but Liu’s stake is still worth 43 million pounds and cinemas’ future after Covid-19 remains uncertain.Cineworld is in a battle with landlords over rents as more people switch to streaming services. And Liu’s businesses in China are related to construction and health, not entertainment. Still, last year reports circulated that Cineworld’s main shareholder and Chief Executive Mooky Greidinger might want to take the business private. Liu’s punt may be more of a bet on that happening. (By Karen Kwok)AFRICAN RISKS. Old Mutual has given a worrying glimpse of Covid-19’s economic impact on the poorest continent. Even though Africa has recorded around a million cases, a fraction of the 25 million confirmed globally, the South African insurer’s difficult six months suggest businesses have been hit hard by lockdowns. And the coronavirus’s relatively late arrival on the continent means its recovery is likely to lag elsewhere.Direct costs from Covid-19 amounted to 2.8 billion rand ($168 million), nearly two-thirds of last year’s first-half operating profit. Suspending the interim dividend helps new Chief Executive Iain Williamson defend the Africa-focused group’s buffers – at 182%, its solvency ratio looks robust. He may need the extra headroom. Under Old Mutual’s worst-case scenario, African GDP fails to bounce back from this year’s expected double-digit contraction. (By Ed Cropley)BreakingviewsReuters Breakingviews is the world&amp;aposs leading source of agenda-setting financial insight. As the Reuters brand for financial commentary, we dissect the big business and economic stories as they break around the world every day. A global team of about 30 correspondents in New York, London, Hong Kong and other major cities provides expert analysis in real time.Sign up for a free trial of our full service at https://www.breakingviews.com/trial and follow us on Twitter @Breakingviews and at www.breakingviews.com. All opinions expressed are those of the authors.</td>\n",
              "      <td>439.510010</td>\n",
              "      <td>53346800</td>\n",
              "      <td>44.570901</td>\n",
              "      <td>127.316229</td>\n",
              "      <td>ingviews columnists5 Min ReadNEW YORK HONG KONG ZURICH LONDON Reuters Breakingviews corona capital column update day Breakingviews columnist world short sharp pandemic relate insight 3d print Zoom logo place small toy people figure keyboard illustration take April 12 2020 REUTERS Dado Ruvic illustrationlatest- ZoomZOOMING FASTER Zoom Video Communications keep call extraordinary growth pandemic revenue quarter July 31 quadruple compare year earning rise 30-fold figure projection high sale quarter easily blow past analyst estimate compile Refinitiv quarter offer people use Zoom free service company need convert small chunk pay user benefit international market nearly tap grow 600 year year widespread vaccination return person gathering probably will occur year Zoom market value rise sixfold start year $ 130 billion include 40%-plus surge Tuesday morning face risk form competition big firm like Microsoft return close normal Covid-19 control zoom zoom Robert Cyran)SHOT struggle chinese aviation finance conglomerate HNA cede control baggage handler Swissport debt equity swap senior secured creditor extinguish convert 1.9 billion euro debt equity unsurprising give whack pandemic deal travel brutal sting Hainan base travel firm HNA fork $ 2.8 billion Swissport 2016 wave pricey leveraged offshore acquisition include senseless 10 stake Deutsche Bank quickly find struggle repayment Beijing clip wing March HNA nearly $ 50 billion debt dealogic datum ward provincial government Swissport new owner include SVP Global Barclays Bank provide 800 million euro credit operation afloat plan poach business struggle rival success scant comfort HNA Pete Sweeney)M&amp;A HEAD FAKE second half 2020 kick bang measure Mega deal worth $ 5 billion hit record August announce Refinitiv say 21 transaction July begin mark good semester worth $ 256 billion value exceed 2015 race consolidation?not fast deal ice March world go lockdown summer respite stock price rebound help push finish line Seven $ 21 billion purchase Marathon Petroleum service station Johnson Johnson $ 6.5 billion punt Momenta Pharmaceuticals banker animal spirit high call pipeline robust autumn bring uncertainty expect covid-19 spike weather cool U.S. election rise nationalistic barrier foreign ownership disbelief super high stock price question pay virus relate stimulus paraphrase George Gershwin summertime living easy Rob Cox)RED CARPET Cineworld future come chinese twist Tycoon Liu Zaiwang company Jangho Group snap 5 stake UK cinema chain August make sense advantage Cineworld depressed share price 71 year Liu stake worth 43 million pound cinema future Covid-19 remain uncertain Cineworld battle landlord rent people switch streaming service Liu business China relate construction health entertainment year report circulate Cineworld main shareholder Chief Executive Mooky Greidinger want business private Liu punt bet happening Karen Kwok)AFRICAN risk Old Mutual give worrying glimpse Covid-19 economic impact poor continent Africa record million case fraction 25 million confirm globally south african insurer difficult month suggest business hit hard lockdown coronavirus relatively late arrival continent mean recovery likely lag direct cost Covid-19 amount 2.8 billion rand $ 168 million nearly third year half operating profit suspend interim dividend help new Chief Executive Iain Williamson defend Africa focus group buffer 182 solvency ratio look robust need extra headroom Old Mutual bad case scenario african GDP fail bounce year expect double digit contraction Ed Cropley)BreakingviewsReuters Breakingviews world&amp;aposs lead source agenda set financial insight Reuters brand financial commentary dissect big business economic story break world day global team 30 correspondent New York London Hong Kong major city provide expert analysis real time sign free trial service https://www.breakingviews.com/trial follow Twitter @Breakingviews www.breakingviews.com opinion express author</td>\n",
              "      <td>5.550682e-22</td>\n",
              "    </tr>\n",
              "    <tr>\n",
              "      <th>12</th>\n",
              "      <td>2020-09-08</td>\n",
              "      <td>Indonesia adds Twitter, Zoom to tech companies that must pay 10% VAT</td>\n",
              "      <td>- Indonesia on Tuesday added 12 more companies, including social media firm Twitter TWTR.N and video-conferencing site Zoom ZM.O, to a list of internet-based businesses that must pay a 10% value-added tax on sales.FILE PHOTO: The Twitter logo is displayed on a screen on the floor of the New York Stock Exchange (NYSE) in New York City, U.S., September 28, 2016. REUTERS/Brendan McDermid/File PhotoIn July Indonesia had already announced that Alphabet Inc's GOOGL.O Google Asia Pacific, Netflix NFLX.O and Facebook FB.O among other tech companies would be liable to VAT.Governments globally are seeking to ensure that internet-based tech giants are paying their fair share of taxes. Indonesia’s moves come amid a shift to more online business with increased remote working during the coronavirus and as the pandemic has hit government finances.Among companies named on Tuesday were business networking site LinkedIn Singapore, two units of Twitter TWTR.N, Skype Communications, Zoom Video Communications ZM.O, antivirus provider McAfee Ireland, and Microsoft Ireland Operations MSFT.O.The Indonesian tax office also put game developer Mojang AB, streaming platforms Novi Digital Entertainment and PCCW Vuclip (Singapore) on the list, as well as digital marketplaces Jingdong Indonesia Pertama and Shopee International Indonesia.The companies must start charging VAT to advertisers and other customers from Oct. 1.The companies were not immediately available to comment.Under rules introduced earlier this year, non-resident foreign firms that generate annual sales of at least 600 million rupiah ($40,650) for digital products and services in Indonesia from at least 12,000 users are required to pay the VAT.Indonesia, the world’s fourth most populous country with a population of nearly 270 million, is experiencing a boom in its digital economy which is expected to reach $130 billion by 2025, a study by Google, Temasek Holdings and Bain &amp; Company predicts.($1 = 14,760.0000 rupiah)Reporting by Tabita Diela; Editing by Gayatri Suroyo and Susan FentonOur Standards: The Thomson Reuters Trust Principles.</td>\n",
              "      <td>350.700012</td>\n",
              "      <td>7966500</td>\n",
              "      <td>-20.206593</td>\n",
              "      <td>-85.066583</td>\n",
              "      <td>Indonesia Tuesday add 12 company include social medium firm Twitter twtr.n video conferencing site Zoom zm.o list internet base business pay 10 value add tax sale FILE PHOTO Twitter logo display screen floor New York Stock Exchange NYSE New York City U.S. September 28 2016 REUTERS Brendan McDermid File PhotoIn July Indonesia announce Alphabet Inc GOOGL.O Google Asia Pacific Netflix NFLX.O Facebook FB.O tech company liable vat.government globally seek ensure internet base tech giant pay fair share taxis Indonesia move come amid shift online business increase remote work coronavirus pandemic hit government finance company name Tuesday business networking site LinkedIn Singapore unit Twitter twtr.n Skype Communications Zoom Video Communications ZM.O antivirus provider McAfee Ireland Microsoft Ireland Operations MSFT.O.The indonesian tax office game developer Mojang AB stream platform Novi Digital Entertainment PCCW Vuclip Singapore list digital marketplace Jingdong Indonesia Pertama Shopee International Indonesia company start charge VAT advertiser customer October 1.the company immediately available comment rule introduce earlier year non resident foreign firm generate annual sale 600 million rupiah $ 40,650 digital product service Indonesia 12,000 user require pay vat.indonesia world fourth populous country population nearly 270 million experience boom digital economy expect reach $ 130 billion 2025 study Google Temasek Holdings Bain Company predicts.($1 = 14,760.0000 rupiah)reporting Tabita Diela editing Gayatri Suroyo Susan FentonOur Standards Thomson Reuters Trust Principles</td>\n",
              "      <td>6.291577e-05</td>\n",
              "    </tr>\n",
              "    <tr>\n",
              "      <th>13</th>\n",
              "      <td>2020-09-15</td>\n",
              "      <td>Zoom forecasts sales surge as video conferencing becomes a daily routine</td>\n",
              "      <td>- Zoom Video Communications Inc ZM.O raised its annual revenue forecast by more than 30% after comfortably beating quarterly estimates on Monday as it converts more of its huge free user base to paid subscriptions.Shares of Zoom, which have surged almost four-fold this year, rose 9.3% to $355.30 after the bell. Earlier in the day they hit a record closing high of $325.10 in regular trading.Video-conferencing platforms, once used mostly as a technological substitute for in-person meetings, became a vital part of day-to-day life this year for people stuck at home under coronavirus restrictions, be it for work, school or socializing. Zoom rivals such as Microsoft Corp's MSFT.O Teams and Cisco System Inc's CSCO.O Webex have also seen soaring usage.When the pandemic hit in early 2020, Zoom was a relative upstart founded by a former Cisco executive that had gone public on a promise to make video conferencing software easier to use. But the ease of use came with privacy and security concerns that drove some customers to competitors earlier this year and prompted Zoom to embark on a 90-day plan to address the issues. Zoom began testing end-to-end encryption of its service in July but has not yet implemented the feature for most users.The surge in usage also strained Zoom’s infrastructure, with some outages last week as schools in many parts of the United States resumed classes virtually.Since the start of the pandemic, Zoom has worked to convert the mass of free users into paying customers, which is important because the company relies on both its own data centers and cloud providers such as Amazon.com AMZN.O and Oracle Corp ORCL.N to provide its serving, meaning it must bear costs for free users.The company said revenue rose 355% to $663.5 million, topping analysts’ average estimate of $500.5 million. The company’s gross profit rose to 71% from 68%, but remains far below the 80% range Zoom operated at before free users flocked to the service.On a conference call with investors, Zoom Chief Financial Officer Kelly Steckelberg said the company’s gross profits will remain in the same range as the fiscal second quarter for the rest of the fiscal year. She also said the company was experiencing slightly higher rates of customer cancellation than Zoom’s historical average, but that the new rates had been factored into the company’s forecast.“The revenue growth is accelerating,” Chaim Siegel, an analyst with Elazar Advisors, told Reuters. “Even though they gave very strong guidance for next quarter it’s possible they’re being conservative if you consider a stay-at-home back-to-school. Zoom is a household word.”Zoom’s number of large customers - those generating more than $100,000 in revenue in the past year - more than doubled to 988 in the fiscal second quarter.The company, founded and headed by former Cisco manager Eric Yuan, raised its annual revenue target for fiscal year 2021 to a range of $2.37 billion to $2.39 billion, from $1.78 billion to $1.80 billion previously.Net income attributable to common stockholders rose to $185.7 million, or 63 cents per share, from $5.5 million, or 2 cents per share, a year earlier.Excluding items, the company earned 92 cents per share, beating the average analyst estimate of 45 cents, according to IBES data from Refinitiv.Reporting by Neha Malara in Bengaluru and Stephen Nellis in San Francisco; Editing by Sriraj Kalluvila, Leslie Adler and Richard PullinOur Standards: The Thomson Reuters Trust Principles.</td>\n",
              "      <td>410.000000</td>\n",
              "      <td>8495600</td>\n",
              "      <td>16.909035</td>\n",
              "      <td>6.641562</td>\n",
              "      <td>Zoom Video Communications Inc ZM.O raise annual revenue forecast 30 comfortably beat quarterly estimate Monday convert huge free user base pay subscription share Zoom surge fold year rise 9.3 $ 355.30 bell earlier day hit record closing high $ 325.10 regular trading video conferencing platform technological substitute person meeting vital day day life year people stick home coronavirus restriction work school socializing zoom rival Microsoft Corp MSFT.O Teams Cisco System Inc CSCO.O Webex see soar usage pandemic hit early 2020 Zoom relative upstart found Cisco executive go public promise video conferencing software easier use ease use come privacy security concern drive customer competitor earlier year prompt Zoom embark 90-day plan address issue Zoom begin test end end encryption service July implement feature user surge usage strain Zoom infrastructure outage week school part United States resume class virtually start pandemic Zoom work convert mass free user pay customer important company rely datum center cloud provider Amazon.com AMZN.O Oracle Corp ORCL.N provide serving mean bear cost free user company say revenue rise 355 $ 663.5 million top analyst average estimate $ 500.5 million company gross profit rise 71 68 remain far 80 range Zoom operate free user flock service conference investor Zoom Chief Financial Officer Kelly Steckelberg say company gross profit remain range fiscal second quarter rest fiscal year say company experience slightly high rate customer cancellation Zoom historical average new rate factor company forecast “the revenue growth accelerate Chaim Siegel analyst Elazar Advisors tell Reuters give strong guidance quarter possible conservative consider stay home school Zoom household word ”Zoom number large customer generate $ 100,000 revenue past year double 988 fiscal second quarter company found head Cisco manager Eric Yuan raise annual revenue target fiscal year 2021 range $ 2.37 billion $ 2.39 billion $ 1.78 billion $ 1.80 billion previously net income attributable common stockholder rise $ 185.7 million 63 cent share $ 5.5 million 2 cent share year earlier exclude item company earn 92 cent share beat average analyst estimate 45 cent accord IBES datum Refinitiv reporting Neha Malara Bengaluru Stephen Nellis San Francisco editing Sriraj Kalluvila Leslie Adler Richard PullinOur Standards Thomson Reuters Trust Principles</td>\n",
              "      <td>5.259126e-01</td>\n",
              "    </tr>\n",
              "  </tbody>\n",
              "</table>\n",
              "</div>"
            ],
            "text/plain": [
              "         Date  ... deep_learning_sentiment_prob\n",
              "0  2020-06-02  ...  1.081716e-05               \n",
              "1  2020-06-11  ...  1.372852e-05               \n",
              "2  2020-06-24  ...  8.873237e-13               \n",
              "3  2020-07-01  ...  8.726556e-03               \n",
              "4  2020-07-07  ...  2.469754e-06               \n",
              "5  2020-07-16  ...  5.716079e-06               \n",
              "6  2020-07-21  ...  1.484792e-05               \n",
              "7  2020-07-30  ...  7.543203e-03               \n",
              "8  2020-08-18  ...  1.216343e-07               \n",
              "9  2020-08-24  ...  1.816585e-15               \n",
              "10 2020-08-31  ...  1.628313e-16               \n",
              "11 2020-09-01  ...  5.550682e-22               \n",
              "12 2020-09-08  ...  6.291577e-05               \n",
              "13 2020-09-15  ...  5.259126e-01               \n",
              "\n",
              "[14 rows x 9 columns]"
            ]
          },
          "metadata": {
            "tags": []
          },
          "execution_count": 48
        }
      ]
    },
    {
      "cell_type": "markdown",
      "metadata": {
        "id": "N5Qr2b_W9gNj"
      },
      "source": [
        "#END OF DEEP LEARNING"
      ]
    },
    {
      "cell_type": "markdown",
      "metadata": {
        "id": "vxKSAa0JSQqa"
      },
      "source": [
        "# Testing the Model "
      ]
    },
    {
      "cell_type": "code",
      "metadata": {
        "id": "emRuurQVSQqa"
      },
      "source": [
        "sentiment = []\n",
        "sentiment_prob = []\n",
        "for i in df.iloc[:,2]:\n",
        "    sentiment.append(predict_tweet(i, freqs)[0])\n",
        "    sentiment_prob.append(predict_tweet_prob(i, freqs)[0][1])"
      ],
      "execution_count": 49,
      "outputs": []
    },
    {
      "cell_type": "code",
      "metadata": {
        "id": "Xi3ZxKOhSQqa",
        "colab": {
          "base_uri": "https://localhost:8080/"
        },
        "outputId": "063dc857-b322-4e86-ce0b-cee0459fff2f"
      },
      "source": [
        "sentiment\n"
      ],
      "execution_count": 50,
      "outputs": [
        {
          "output_type": "execute_result",
          "data": {
            "text/plain": [
              "[0.0, 1.0, 1.0, 1.0, 1.0, 0.0, 0.0, 0.0, 0.0, 0.0, 1.0, 0.0, 1.0, 0.0]"
            ]
          },
          "metadata": {
            "tags": []
          },
          "execution_count": 50
        }
      ]
    },
    {
      "cell_type": "code",
      "metadata": {
        "id": "zu2uBb1KSQqa",
        "scrolled": true,
        "colab": {
          "base_uri": "https://localhost:8080/"
        },
        "outputId": "2026691a-e942-47d5-d30c-9f43d9b09bf4"
      },
      "source": [
        "sentiment_prob"
      ],
      "execution_count": 51,
      "outputs": [
        {
          "output_type": "execute_result",
          "data": {
            "text/plain": [
              "[0.344012905269864,\n",
              " 0.6756152536287614,\n",
              " 0.7609822949039319,\n",
              " 0.9228593389998133,\n",
              " 0.6051854874539301,\n",
              " 0.2445343817890127,\n",
              " 0.19633174345358548,\n",
              " 0.3969743766897793,\n",
              " 0.4134109250646785,\n",
              " 0.09827497775791752,\n",
              " 0.7639254262668828,\n",
              " 0.0036481058041038634,\n",
              " 0.8663357249017669,\n",
              " 0.4521306438344373]"
            ]
          },
          "metadata": {
            "tags": []
          },
          "execution_count": 51
        }
      ]
    },
    {
      "cell_type": "code",
      "metadata": {
        "id": "7roC_ubHSQqa",
        "colab": {
          "base_uri": "https://localhost:8080/",
          "height": 1000
        },
        "outputId": "56a06c70-4196-4d74-9bef-6e7ec90690da"
      },
      "source": [
        "# Converting % stock price change to % stock price change per day\n",
        "days = [0]\n",
        "for i in range(len(df['Date'])):\n",
        "    if i != 0:\n",
        "        date_diff = df['Date'][i]-df['Date'][i-1]\n",
        "        day = date_diff.days\n",
        "        days.append(day)\n",
        "df['Days Elapsed'] = days\n",
        "df['Average % Change in Stock Price'] = df['% Change in Stock Price']/df['Days Elapsed']\n",
        "df['Average % Change in Volume'] = df['% Change in Volume']/df['Days Elapsed']\n",
        "\n",
        "df['Logistic Regression Sentiment'] = sentiment\n",
        "df['Logistic Regression Sentiment Score'] = sentiment_prob\n",
        "\n",
        "\n",
        "df.head(2)"
      ],
      "execution_count": 52,
      "outputs": [
        {
          "output_type": "execute_result",
          "data": {
            "text/html": [
              "<div>\n",
              "<style scoped>\n",
              "    .dataframe tbody tr th:only-of-type {\n",
              "        vertical-align: middle;\n",
              "    }\n",
              "\n",
              "    .dataframe tbody tr th {\n",
              "        vertical-align: top;\n",
              "    }\n",
              "\n",
              "    .dataframe thead th {\n",
              "        text-align: right;\n",
              "    }\n",
              "</style>\n",
              "<table border=\"1\" class=\"dataframe\">\n",
              "  <thead>\n",
              "    <tr style=\"text-align: right;\">\n",
              "      <th></th>\n",
              "      <th>Date</th>\n",
              "      <th>Header</th>\n",
              "      <th>Text</th>\n",
              "      <th>Open</th>\n",
              "      <th>Volume</th>\n",
              "      <th>% Change in Stock Price</th>\n",
              "      <th>% Change in Volume</th>\n",
              "      <th>Text (clean)</th>\n",
              "      <th>deep_learning_sentiment_prob</th>\n",
              "      <th>Days Elapsed</th>\n",
              "      <th>Average % Change in Stock Price</th>\n",
              "      <th>Average % Change in Volume</th>\n",
              "      <th>Logistic Regression Sentiment</th>\n",
              "      <th>Logistic Regression Sentiment Score</th>\n",
              "    </tr>\n",
              "  </thead>\n",
              "  <tbody>\n",
              "    <tr>\n",
              "      <th>0</th>\n",
              "      <td>2020-06-02</td>\n",
              "      <td>Zoom nearly doubles revenue forecast on remote-work boost, but costs rising</td>\n",
              "      <td>- Zoom Video Communications Inc ZM.O nearly doubled its expectations for annual sales on Tuesday, driven by a surge in users as more people work from home and connect with friends online during coronavirus lockdowns.FILE PHOTO: Small toy figures are seen in front of diplayed Zoom logo in this illustration taken March 19, 2020. REUTERS/Dado Ruvic/IllustrationBut Zoom’s costs also rose sharply, and executives said gross margins would likely remain below Zoom’s historical norms in the coming quarters, sending shares of the San Jose, California-based down 3.5% to $200.75 in after-market trading.The company has transformed itself into a global video hangout from a business-oriented teleconferencing tool. It came under fire over privacy and security issues, prompting it to roll out major upgrades.The company raised its full-year revenue forecast to a range of $1.78 billion to $1.80 billion from $905 million to $915 million. Analysts on average expected revenue of $935.2 million for the fiscal year ending January 2021.The latest quarterly report shows the company now has about 265,400 customers with more than 10 employees, a near fourfold increase from a year earlier.But there were also possible signs the Zoom boom may be slowing as economies reopen. Chief Financial Officer Kelly Steckelberg said the April peak usage of 300 million daily meeting participants declined slightly in May.The company expects it to rise eventually above 300 million again.Zoom company competes with Cisco Systems Inc's CSCO.O Webex, Microsoft Corp MSFT.O Teams and Google's GOOGL.O Meet platform for paying customers, particularly enterprises, while offering a free version to consumers.Zoom reported fiscal first-quarter revenue of $328.2 million, beating analysts’ estimates of $202.7 million, according to IBES data from Refinitiv.While Zoom’s revenue increased sharply, its costs rose even more steeply. The company’s cost of revenue was up 330% to $103.7 million, which lowered its gross margin to 68.4% from 80.2% a year earlier.One of Zoom's biggest costs is data centers and bandwidth to host calls. The company runs some of its own data centers, but also pays for cloud computing services from Amazon.com Inc's AMZN.O Amazon Web Services and Microsoft, and in April added Oracle Corp ORCL.N as a vendor.On a Zoom call with investors, Chief Executive Eric Yuan said Amazon provided the “majority” of new capacity that Zoom needed to meet demand.Steckelberg said on the call that the company planned to expand its own data centers to become more efficient, which should boost margins to the mid-70% range in the next several quarters. Analysts had expected gross margins to hover between 79% and 81% over the coming year, according to Refinitiv data.Excluding items, the company earned 20 cents per share in the latest quarter, beating analysts’ estimate of 9 cents.Zoom’s shares have more than tripled this year.Reporting by Ayanti Bera in Bengaluru and Stephen Nellis in San Francisco; Editing by Lisa Shumaker, Peter Henderson and Peter CooneyOur Standards: The Thomson Reuters Trust Principles.</td>\n",
              "      <td>210.250000</td>\n",
              "      <td>36853400</td>\n",
              "      <td>NaN</td>\n",
              "      <td>NaN</td>\n",
              "      <td>Zoom Video Communications Inc zm.o nearly double expectation annual sale Tuesday drive surge user people work home connect friend online coronavirus lockdown FILE PHOTO small toy figure see diplayed Zoom logo illustration take March 19 2020 REUTERS Dado Ruvic IllustrationBut Zoom cost rise sharply executive say gross margin likely remain Zoom historical norm come quarter send share San Jose California base 3.5 $ 200.75 market trading company transform global video hangout business orient teleconferencing tool come fire privacy security issue prompt roll major upgrade company raise year revenue forecast range $ 1.78 billion $ 1.80 billion $ 905 million $ 915 million analyst average expect revenue $ 935.2 million fiscal year end January 2021.the late quarterly report show company 265,400 customer 10 employee near fourfold increase year earlier possible sign Zoom boom slow economy reopen Chief Financial Officer Kelly Steckelberg say April peak usage 300 million daily meeting participant decline slightly company expect rise eventually 300 million zoom company compete Cisco Systems Inc CSCO.O Webex Microsoft Corp MSFT.O Teams Google googl.o meet platform pay customer particularly enterprise offer free version consumer Zoom report fiscal quarter revenue $ 328.2 million beat analyst estimate $ 202.7 million accord IBES datum Refinitiv Zoom revenue increase sharply cost rise steeply company cost revenue 330 $ 103.7 million lower gross margin 68.4 80.2 year earlier Zoom big cost datum center bandwidth host call company run datum center pay cloud compute service Amazon.com Inc AMZN.O Amazon Web Services Microsoft April add Oracle Corp orcl.n vendor zoom investor Chief Executive Eric Yuan say Amazon provide majority new capacity Zoom need meet demand Steckelberg say company plan expand datum center efficient boost margin mid-70 range quarter analyst expect gross margin hover 79 81 come year accord Refinitiv datum exclude item company earn 20 cent share late quarter beat analyst estimate 9 cent Zoom share triple year reporting Ayanti Bera Bengaluru Stephen Nellis San Francisco editing Lisa Shumaker Peter Henderson Peter CooneyOur Standards Thomson Reuters Trust Principles</td>\n",
              "      <td>0.000011</td>\n",
              "      <td>0</td>\n",
              "      <td>NaN</td>\n",
              "      <td>NaN</td>\n",
              "      <td>0.0</td>\n",
              "      <td>0.344013</td>\n",
              "    </tr>\n",
              "    <tr>\n",
              "      <th>1</th>\n",
              "      <td>2020-06-11</td>\n",
              "      <td>Zoom denies giving user information to Chinese government</td>\n",
              "      <td>- Zoom Video Communications Inc said on Thursday it did not provide any user information or meeting content to the Chinese government.The company’s statement comes after it temporarily shut the account belonging to a group of U.S.-based Chinese activists that had held an event to commemorate the 31st anniversary of China’s Tiananmen Square crackdown.Reporting by Ayanti Bera in Bengaluru; Editing by Devika SyamnathOur Standards: The Thomson Reuters Trust Principles.</td>\n",
              "      <td>219.179993</td>\n",
              "      <td>17615800</td>\n",
              "      <td>4.247321</td>\n",
              "      <td>-52.20034</td>\n",
              "      <td>Zoom Video Communications Inc say Thursday provide user information meeting content chinese government company statement come temporarily shut account belong group u.s.-based chinese activist hold event commemorate 31st anniversary China Tiananmen Square crackdown report Ayanti Bera Bengaluru editing Devika SyamnathOur Standards Thomson Reuters Trust Principles</td>\n",
              "      <td>0.000014</td>\n",
              "      <td>9</td>\n",
              "      <td>0.471925</td>\n",
              "      <td>-5.800038</td>\n",
              "      <td>1.0</td>\n",
              "      <td>0.675615</td>\n",
              "    </tr>\n",
              "  </tbody>\n",
              "</table>\n",
              "</div>"
            ],
            "text/plain": [
              "        Date  ... Logistic Regression Sentiment Score\n",
              "0 2020-06-02  ...  0.344013                          \n",
              "1 2020-06-11  ...  0.675615                          \n",
              "\n",
              "[2 rows x 14 columns]"
            ]
          },
          "metadata": {
            "tags": []
          },
          "execution_count": 52
        }
      ]
    },
    {
      "cell_type": "markdown",
      "metadata": {
        "id": "FZWr2MbpwD5g"
      },
      "source": [
        "## Outlier Removal"
      ]
    },
    {
      "cell_type": "code",
      "metadata": {
        "colab": {
          "base_uri": "https://localhost:8080/",
          "height": 1000
        },
        "id": "aacdx4LywD5h",
        "outputId": "46f4e81f-d112-4d1a-8181-aa1b91b1c8a3"
      },
      "source": [
        "Q1_stock = df['% Change in Stock Price'].quantile(0.25)\n",
        "Q3_stock = df['% Change in Stock Price'].quantile(0.75)\n",
        "IQR_stock = Q3_stock - Q1_stock\n",
        "lower_bound_stock = Q1_stock-1.5*IQR_stock\n",
        "upper_bound_stock = Q3_stock+1.5*IQR_stock\n",
        "\n",
        "Q1_volume = df['% Change in Volume'].quantile(0.25)\n",
        "Q3_volume = df['% Change in Volume'].quantile(0.75)\n",
        "IQR_volume = Q3_volume - Q1_volume\n",
        "lower_bound_volume = Q1_volume-1.5*IQR_volume\n",
        "upper_bound_volume = Q3_volume+1.5*IQR_volume\n",
        "\n",
        "\n",
        "\n",
        "\n",
        "df_plot_stock = df[(df['% Change in Stock Price']>lower_bound_stock) & (df['% Change in Stock Price']<upper_bound_stock)]\n",
        "df_plot_volume = df[(df['% Change in Volume']>lower_bound_volume) & (df['% Change in Volume']<upper_bound_stock)]\n",
        "\n",
        "df_plot_volume.head()"
      ],
      "execution_count": 60,
      "outputs": [
        {
          "output_type": "execute_result",
          "data": {
            "text/html": [
              "<div>\n",
              "<style scoped>\n",
              "    .dataframe tbody tr th:only-of-type {\n",
              "        vertical-align: middle;\n",
              "    }\n",
              "\n",
              "    .dataframe tbody tr th {\n",
              "        vertical-align: top;\n",
              "    }\n",
              "\n",
              "    .dataframe thead th {\n",
              "        text-align: right;\n",
              "    }\n",
              "</style>\n",
              "<table border=\"1\" class=\"dataframe\">\n",
              "  <thead>\n",
              "    <tr style=\"text-align: right;\">\n",
              "      <th></th>\n",
              "      <th>Date</th>\n",
              "      <th>Header</th>\n",
              "      <th>Text</th>\n",
              "      <th>Open</th>\n",
              "      <th>Volume</th>\n",
              "      <th>% Change in Stock Price</th>\n",
              "      <th>% Change in Volume</th>\n",
              "      <th>Text (clean)</th>\n",
              "      <th>deep_learning_sentiment_prob</th>\n",
              "      <th>Days Elapsed</th>\n",
              "      <th>Average % Change in Stock Price</th>\n",
              "      <th>Average % Change in Volume</th>\n",
              "      <th>Logistic Regression Sentiment</th>\n",
              "      <th>Logistic Regression Sentiment Score</th>\n",
              "      <th>Vader Sentiment Score</th>\n",
              "    </tr>\n",
              "  </thead>\n",
              "  <tbody>\n",
              "    <tr>\n",
              "      <th>1</th>\n",
              "      <td>2020-06-11</td>\n",
              "      <td>Zoom denies giving user information to Chinese government</td>\n",
              "      <td>- Zoom Video Communications Inc said on Thursday it did not provide any user information or meeting content to the Chinese government.The company’s statement comes after it temporarily shut the account belonging to a group of U.S.-based Chinese activists that had held an event to commemorate the 31st anniversary of China’s Tiananmen Square crackdown.Reporting by Ayanti Bera in Bengaluru; Editing by Devika SyamnathOur Standards: The Thomson Reuters Trust Principles.</td>\n",
              "      <td>219.179993</td>\n",
              "      <td>17615800</td>\n",
              "      <td>4.247321</td>\n",
              "      <td>-52.200340</td>\n",
              "      <td>Zoom Video Communications Inc say Thursday provide user information meeting content chinese government company statement come temporarily shut account belong group u.s.-based chinese activist hold event commemorate 31st anniversary China Tiananmen Square crackdown report Ayanti Bera Bengaluru editing Devika SyamnathOur Standards Thomson Reuters Trust Principles</td>\n",
              "      <td>1.372852e-05</td>\n",
              "      <td>9</td>\n",
              "      <td>0.471925</td>\n",
              "      <td>-5.800038</td>\n",
              "      <td>1.0</td>\n",
              "      <td>0.675615</td>\n",
              "      <td>0.5106</td>\n",
              "    </tr>\n",
              "    <tr>\n",
              "      <th>2</th>\n",
              "      <td>2020-06-24</td>\n",
              "      <td>Zoom taps former Salesforce executive as information security head</td>\n",
              "      <td>- Zoom Video Communications Inc on Wednesday named former Salesforce.com Inc security executive Jason Lee as its chief information security officer.Lee will assume the role from June 29, the video conferencing company said.Prior to Salesforce, Lee was a security engineering executive at Microsoft Corp for 15 years, according to his LinkedIn profile here.Zoom’s announcement comes as the company is nearing the end of its 90-day security plan announced earlier in April in response to safety and privacy concerns on its fast-growing video-conferencing app.Lee will lead Zoom’s security team and report to Aparna Bawa, chief operating officer, the company said.Reporting by Ayanti Bera in Bengaluru; Editing by Sriraj Kalluvila and Maju SamuelOur Standards: The Thomson Reuters Trust Principles.</td>\n",
              "      <td>254.500000</td>\n",
              "      <td>9862800</td>\n",
              "      <td>16.114613</td>\n",
              "      <td>-44.011626</td>\n",
              "      <td>Zoom Video Communications Inc Wednesday name Salesforce.com Inc security executive Jason Lee chief information security officer Lee assume role June 29 video conferencing company say prior Salesforce Lee security engineering executive Microsoft Corp 15 year accord LinkedIn profile zoom announcement come company near end 90-day security plan announce earlier April response safety privacy concern fast grow video conferencing app Lee lead Zoom security team report Aparna Bawa chief operating officer company say report Ayanti Bera Bengaluru editing Sriraj Kalluvila Maju SamuelOur Standards Thomson Reuters Trust Principles</td>\n",
              "      <td>8.873237e-13</td>\n",
              "      <td>13</td>\n",
              "      <td>1.239586</td>\n",
              "      <td>-3.385510</td>\n",
              "      <td>1.0</td>\n",
              "      <td>0.760982</td>\n",
              "      <td>0.9442</td>\n",
              "    </tr>\n",
              "    <tr>\n",
              "      <th>3</th>\n",
              "      <td>2020-07-01</td>\n",
              "      <td>Zoom says added over 100 features as part of 90-day security plan</td>\n",
              "      <td>- Zoom Video Communications Inc said on Wednesday it has added over 100 features to its video conferencing as part of its 90-day plan to address security and privacy concerns.The company said it has made significant progress for a transparency report that details information related to requests Zoom receives for data, records, or content and the report will be out later this year with details on governmental requests for its users’ account information.The company’s teleconferencing platform has seen a surge in users as the COVID-19 pandemic has forced millions around the world indoors. However, it came under fire over privacy and security issues, prompting Zoom to roll out major upgrades.To address those concerns, it has embarked here on a 90-day plan and hired several security experts, including former Facebook security chief Alex Stamos as an adviser, to address privacy concerns.It plans to offer end-to-end encryption for video calls to both free and paying users and launch a trial version in July.Last week, Zoom took another step towards tackling these concerns and named former Salesforce.com Inc security executive Jason Lee as its chief information security officer.Reporting by Supantha Mukherjee and Akanksha Rana in Bengaluru; Editing by Maju SamuelOur Standards: The Thomson Reuters Trust Principles.</td>\n",
              "      <td>251.350006</td>\n",
              "      <td>6803300</td>\n",
              "      <td>-1.237719</td>\n",
              "      <td>-31.020603</td>\n",
              "      <td>Zoom Video Communications Inc say Wednesday add 100 feature video conferencing 90-day plan address security privacy concern company say significant progress transparency report detail information relate request Zoom receive datum record content report later year detail governmental request user account information company teleconferencing platform see surge user covid-19 pandemic force million world indoor come fire privacy security issue prompt Zoom roll major upgrade address concern embark 90-day plan hire security expert include Facebook security chief Alex Stamos adviser address privacy concern plan offer end end encryption video call free pay user launch trial version July week Zoom take step tackle concern name Salesforce.com Inc security executive Jason Lee chief information security officer reporting Supantha Mukherjee Akanksha Rana Bengaluru editing Maju SamuelOur Standards Thomson Reuters Trust Principles</td>\n",
              "      <td>8.726556e-03</td>\n",
              "      <td>7</td>\n",
              "      <td>-0.176817</td>\n",
              "      <td>-4.431515</td>\n",
              "      <td>1.0</td>\n",
              "      <td>0.922859</td>\n",
              "      <td>0.9628</td>\n",
              "    </tr>\n",
              "    <tr>\n",
              "      <th>4</th>\n",
              "      <td>2020-07-07</td>\n",
              "      <td>Zoom rolls out hardware subscription service</td>\n",
              "      <td>- Zoom Video Communications Inc ZM.O said on Tuesday it launched a hardware subscription service, seeking to make its teleconferencing app more accessible to users by allowing them to choose subscription options for phones and meeting rooms.The plans for Zoom Phone have been priced between $5.99 and $60 per month, based on the device users opt for, while the cost for hardware services for Zoom Rooms is in the range of $75 to $200 per month, according to the company’s website.Zoom has partnered with third-party hardware manufacturers such as DTEN, Neat, Poly, and Yealink for the phone and meeting room devices.The company’s teleconferencing platform, which has seen a surge in users as the COVID-19 pandemic forced millions around the world to stay indoors, has faced backlash over privacy and security issues, prompting it to roll out major upgrades.The launch comes nearly a week after Zoom said it has made significant progress in a transparency report that details information related to requests it receives for data, records, or content, adding that the report will be out later this year.Zoom on Tuesday also joined a list of major U.S. internet companies, including Facebook Inc FB.O, Microsoft Corp MSFT.O and Alphabet Inc's GOOGL.O Google, to have suspended processing of requests for user data from Hong Kong authorities while they study the new law.Reporting by Akanksha Rana in Bengaluru; editing by Uttaresh.VOur Standards: The Thomson Reuters Trust Principles.</td>\n",
              "      <td>261.549988</td>\n",
              "      <td>7819700</td>\n",
              "      <td>4.058079</td>\n",
              "      <td>14.939809</td>\n",
              "      <td>Zoom Video Communications Inc ZM.O say Tuesday launch hardware subscription service seek teleconferencing app accessible user allow choose subscription option phone meeting room plan Zoom Phone price $ 5.99 $ 60 month base device user opt cost hardware service Zoom Rooms range $ 75 $ 200 month accord company website Zoom partner party hardware manufacturer DTEN Neat Poly yealink phone meeting room device company teleconferencing platform see surge user covid-19 pandemic force million world stay indoor face backlash privacy security issue prompt roll major upgrade launch come nearly week Zoom say significant progress transparency report detail information relate request receive datum record content add report later year Zoom Tuesday join list major U.S. internet company include Facebook Inc FB.O Microsoft Corp MSFT.O Alphabet Inc GOOGL.O Google suspend processing request user datum Hong Kong authority study new law reporting Akanksha Rana Bengaluru editing Uttaresh VOur Standards Thomson Reuters Trust Principles</td>\n",
              "      <td>2.469754e-06</td>\n",
              "      <td>6</td>\n",
              "      <td>0.676347</td>\n",
              "      <td>2.489968</td>\n",
              "      <td>1.0</td>\n",
              "      <td>0.605185</td>\n",
              "      <td>0.9442</td>\n",
              "    </tr>\n",
              "    <tr>\n",
              "      <th>5</th>\n",
              "      <td>2020-07-16</td>\n",
              "      <td>Formula One, Zoom announce partnership for virtual Paddock Club</td>\n",
              "      <td>- Formula One fans will be able to get a better flavour of the race-day experience with a virtual alternative to the ‘Paddock Club’ during the COVID-19 pandemic as part of a digital partnership with U.S. based Zoom Video Communications.The real-world Paddock Club offers guests a vantage point over the team garages with a view of the start and finish line and into the pit lane. Also included is access to the backstage area with exclusive driver interviews and tours of the pit lane.Yet with Formula One announcing a calendar of eight races in Europe without spectators due to the novel coronavirus outbreak, there was a virtual hospitality offering during the Styrian Grand Prix last weekend.“We understood the opportunity Zoom presented to us, which was about delivering a live sporting experience for guests despite the fact much of sport is currently behind closed doors,” Formula One’s Director of Commercial Partnerships Ben Pincus said in a statement.Additional fan experiences are likely to be created at future races, in-line with the regulations of the sport’s governing body the FIA.The third race of the 2020 season will be held on July 19 at The Hungaroring, outside Budapest.Reporting by Shrivathsa Sridhar in Bengaluru; Editing by Toby DavisOur Standards: The Thomson Reuters Trust Principles.</td>\n",
              "      <td>250.389999</td>\n",
              "      <td>5420100</td>\n",
              "      <td>-4.266867</td>\n",
              "      <td>-30.686599</td>\n",
              "      <td>Formula fan able well flavour race day experience virtual alternative Paddock Club covid-19 pandemic digital partnership U.S. base Zoom Video Communications real world Paddock Club offer guest vantage point team garage view start finish line pit lane include access backstage area exclusive driver interview tour pit lane Formula announce calendar race Europe spectator novel coronavirus outbreak virtual hospitality offering Styrian Grand Prix weekend “We understand opportunity Zoom present deliver live sporting experience guest despite fact sport currently closed door Formula Director Commercial Partnerships Ben Pincus say statement additional fan experience likely create future race line regulation sport govern body FIA.The race 2020 season hold July 19 Hungaroring outside Budapest report Shrivathsa Sridhar Bengaluru editing Toby DavisOur Standards Thomson Reuters Trust Principles</td>\n",
              "      <td>5.716079e-06</td>\n",
              "      <td>9</td>\n",
              "      <td>-0.474096</td>\n",
              "      <td>-3.409622</td>\n",
              "      <td>0.0</td>\n",
              "      <td>0.244534</td>\n",
              "      <td>0.9565</td>\n",
              "    </tr>\n",
              "  </tbody>\n",
              "</table>\n",
              "</div>"
            ],
            "text/plain": [
              "        Date  ... Vader Sentiment Score\n",
              "1 2020-06-11  ...  0.5106              \n",
              "2 2020-06-24  ...  0.9442              \n",
              "3 2020-07-01  ...  0.9628              \n",
              "4 2020-07-07  ...  0.9442              \n",
              "5 2020-07-16  ...  0.9565              \n",
              "\n",
              "[5 rows x 15 columns]"
            ]
          },
          "metadata": {
            "tags": []
          },
          "execution_count": 60
        }
      ]
    },
    {
      "cell_type": "markdown",
      "metadata": {
        "id": "fkcUpWmawD5h"
      },
      "source": [
        "## Plotting"
      ]
    },
    {
      "cell_type": "markdown",
      "metadata": {
        "id": "gdphbD8ywD5h"
      },
      "source": [
        "### VADER Sentiment Score"
      ]
    },
    {
      "cell_type": "code",
      "metadata": {
        "id": "Yo793wEeSQqa",
        "colab": {
          "base_uri": "https://localhost:8080/",
          "height": 350
        },
        "outputId": "83e082ef-9be1-493d-f58e-e57bb2c22dcd"
      },
      "source": [
        "import seaborn as sns\n",
        "\n",
        "df_scatter = df_plot_stock[['Average % Change in Stock Price','Average % Change in Volume','Vader Sentiment Score','Logistic Regression Sentiment Score','deep_learning_sentiment_prob']]\n",
        "plt.figure(figsize=(8,5))\n",
        "sns.scatterplot(x =df_scatter['Average % Change in Stock Price'], y = df_scatter['Vader Sentiment Score'])\n",
        "plt.title('Relationship Between Vader Sentiment Score and Stock Price Change (r={})'.format((np.corrcoef(df_scatter['Average % Change in Stock Price'], df_scatter['Vader Sentiment Score'])[1,0]).round(2)))\n",
        "plt.show()\n",
        "\n"
      ],
      "execution_count": 66,
      "outputs": [
        {
          "output_type": "display_data",
          "data": {
            "image/png": "[encoded data removed]",
            "text/plain": [
              "<Figure size 576x360 with 1 Axes>"
            ]
          },
          "metadata": {
            "tags": [],
            "needs_background": "light"
          }
        }
      ]
    },
    {
      "cell_type": "code",
      "metadata": {
        "scrolled": true,
        "colab": {
          "base_uri": "https://localhost:8080/",
          "height": 350
        },
        "id": "spcq0wemwD5i",
        "outputId": "9686ac68-b741-4e10-a985-9c8328fd7e00"
      },
      "source": [
        "plt.figure(figsize=(8,5))\n",
        "sns.scatterplot(x =df_scatter['Average % Change in Volume'], y = df_scatter['Vader Sentiment Score'])\n",
        "plt.title('Relationship Between Vader Sentiment Score and Average % Change in Volume (r={})'.format((np.corrcoef(df_scatter['Average % Change in Volume'], df_scatter['Vader Sentiment Score'])[1,0]).round(2)))\n",
        "plt.show()\n"
      ],
      "execution_count": 67,
      "outputs": [
        {
          "output_type": "display_data",
          "data": {
            "image/png": "[encoded data removed]",
            "text/plain": [
              "<Figure size 576x360 with 1 Axes>"
            ]
          },
          "metadata": {
            "tags": [],
            "needs_background": "light"
          }
        }
      ]
    },
    {
      "cell_type": "markdown",
      "metadata": {
        "id": "2Q9sGPNtwD5i"
      },
      "source": [
        "### Logistic Regression Score"
      ]
    },
    {
      "cell_type": "code",
      "metadata": {
        "id": "hpOOqZcmSQqa",
        "colab": {
          "base_uri": "https://localhost:8080/",
          "height": 350
        },
        "outputId": "122035ae-48d0-4745-b420-a3179671e278"
      },
      "source": [
        "plt.figure(figsize=(10,5))\n",
        "sns.scatterplot(x =df_scatter['Average % Change in Stock Price'], y = df_scatter['Logistic Regression Sentiment Score'])\n",
        "plt.title('Relationship Between Vader Sentiment Score and Stock Price Change (r={})'.format((np.corrcoef(df_scatter['Average % Change in Stock Price'], df_scatter['Logistic Regression Sentiment Score'])[1,0]).round(2)))\n",
        "plt.show()"
      ],
      "execution_count": 68,
      "outputs": [
        {
          "output_type": "display_data",
          "data": {
            "image/png": "[encoded data removed]",
            "text/plain": [
              "<Figure size 720x360 with 1 Axes>"
            ]
          },
          "metadata": {
            "tags": [],
            "needs_background": "light"
          }
        }
      ]
    },
    {
      "cell_type": "code",
      "metadata": {
        "colab": {
          "base_uri": "https://localhost:8080/",
          "height": 350
        },
        "id": "Iu2Yoa4mwD5i",
        "outputId": "3eec9bb0-b8a4-4736-dd56-b4fd375d3209"
      },
      "source": [
        "plt.figure(figsize=(8,5))\n",
        "sns.scatterplot(x =df_scatter['Average % Change in Volume'], y = df_scatter['Logistic Regression Sentiment Score'])\n",
        "plt.title('Relationship Between Logistic Regression Sentiment Score and Average % Change in Volume (r={})'.format((np.corrcoef(df_scatter['Average % Change in Stock Price'], df_scatter['Vader Sentiment Score'])[1,0]).round(2)))\n",
        "plt.show()\n"
      ],
      "execution_count": 69,
      "outputs": [
        {
          "output_type": "display_data",
          "data": {
            "image/png": "[encoded data removed]",
            "text/plain": [
              "<Figure size 576x360 with 1 Axes>"
            ]
          },
          "metadata": {
            "tags": [],
            "needs_background": "light"
          }
        }
      ]
    },
    {
      "cell_type": "markdown",
      "metadata": {
        "id": "pKYduPDmyOT_"
      },
      "source": [
        "#DEEP LEARNING SCORE"
      ]
    },
    {
      "cell_type": "code",
      "metadata": {
        "colab": {
          "base_uri": "https://localhost:8080/",
          "height": 350
        },
        "id": "5yWBdd-6yNAL",
        "outputId": "892d6ca1-f8ea-4c29-ca26-572ff6048666"
      },
      "source": [
        "plt.figure(figsize=(10,5))\r\n",
        "sns.scatterplot(x =df_scatter['Average % Change in Stock Price'], y = df_scatter['deep_learning_sentiment_prob'])\r\n",
        "plt.title('Relationship Between Vader Sentiment Score and Stock Price Change (r={})'.format((np.corrcoef(df_scatter['Average % Change in Stock Price'], df_scatter['deep_learning_sentiment_prob'])[1,0]).round(2)))\r\n",
        "plt.show()"
      ],
      "execution_count": 70,
      "outputs": [
        {
          "output_type": "display_data",
          "data": {
            "image/png": "[encoded data removed]",
            "text/plain": [
              "<Figure size 720x360 with 1 Axes>"
            ]
          },
          "metadata": {
            "tags": [],
            "needs_background": "light"
          }
        }
      ]
    },
    {
      "cell_type": "code",
      "metadata": {
        "colab": {
          "base_uri": "https://localhost:8080/",
          "height": 350
        },
        "id": "6PIOKm_dyA76",
        "outputId": "b73214d0-aed8-4b55-cbd2-0955daa47323"
      },
      "source": [
        "plt.figure(figsize=(8,5))\r\n",
        "sns.scatterplot(x =df_scatter['Average % Change in Volume'], y = df_scatter['deep_learning_sentiment_prob'])\r\n",
        "plt.title('Relationship Between Vader Sentiment Score and Average % Change in Volume (r={})'.format((np.corrcoef(df_scatter['Average % Change in Volume'], df_scatter['deep_learning_sentiment_prob'])[1,0]).round(2)))\r\n",
        "plt.show()\r\n"
      ],
      "execution_count": 71,
      "outputs": [
        {
          "output_type": "display_data",
          "data": {
            "image/png": "[encoded data removed]",
            "text/plain": [
              "<Figure size 576x360 with 1 Axes>"
            ]
          },
          "metadata": {
            "tags": [],
            "needs_background": "light"
          }
        }
      ]
    },
    {
      "cell_type": "code",
      "metadata": {
        "id": "5XUbWiUczCuG"
      },
      "source": [
        ""
      ],
      "execution_count": null,
      "outputs": []
    }
  ]
}