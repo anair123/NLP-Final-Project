{
 "cells": [
  {
   "cell_type": "code",
   "execution_count": 99,
   "metadata": {
    "id": "WyMI88bxSQqX"
   },
   "outputs": [],
   "source": [
    "import requests\n",
    "from bs4 import BeautifulSoup\n",
    "import pandas as pd\n",
    "from datetime import datetime\n",
    "import dateutil.parser\n",
    "import matplotlib.pyplot as plt"
   ]
  },
  {
   "cell_type": "code",
   "execution_count": 100,
   "metadata": {
    "id": "0AD0Rma8SQqX"
   },
   "outputs": [],
   "source": [
    "# dictionary of text dates and links (June 2020 to September 2020)\n",
    "\n",
    "date1 = '2020-06-02' \n",
    "url1 = 'https://www.reuters.com/article/us-zoom-video-commn-results/zoom-doubles-forecast-for-full-year-revenue-on-remote-work-boost-idUSKBN2392XF'\n",
    "\n",
    "date2 = '2020-06-11'\n",
    "url2 = 'https://www.reuters.com/article/zoom-video-commn-privacy-idUSL4N2DO4A4'\n",
    "\n",
    "date3 = '2020-06-11'\n",
    "url3 = 'https://www.reuters.com/article/zoom-video-commn-privacy-idUSL4N2DO4A4'\n",
    "\n",
    "date4 = '2020-06-24'\n",
    "url4 = 'https://www.reuters.com/article/us-zoom-video-commn-moves-jason-lee-idUSKBN23V2PN'\n",
    "\n",
    "\n",
    "date5 = '2020-07-01'\n",
    "url5 = 'https://www.reuters.com/article/us-zoom-video-commn-privacy-idUSKBN2425ZU'\n",
    "\n",
    "date6 = '2020-07-07'\n",
    "url6 = 'https://www.reuters.com/article/us-zoom-video-commn-hardware-idUSKBN2481ZK'\n",
    "\n",
    "date7 = '2020-07-16'\n",
    "url7 = 'https://www.reuters.com/article/us-motor-f1-zoom-idUSKCN24H1FG'\n",
    "\n",
    "date8 = '2020-07-21'\n",
    "url8 = 'https://www.reuters.com/article/us-zoom-video-commn-india-idUSKCN24M0YL'\n",
    "\n",
    "date9 = '2020-07-30'\n",
    "url9 = 'https://www.reuters.com/article/us-usa-china-tiktok-zoom/senators-urge-u-s-justice-department-to-probe-tiktok-zoom-idUSKCN24V36O?'\n",
    "\n",
    "date10 = '2020-08-18'\n",
    "url10 = 'https://www.reuters.com/article/us-zoom-singapore-data-centre-idUSKCN25E188'\n",
    "\n",
    "date11 = '2020-08-24'\n",
    "url11 = 'https://in.reuters.com/article/us-zoom-video-commn-outages/zoom-says-service-restored-after-u-s-users-hit-by-partial-outage-idINKBN25K1NT'\n",
    "\n",
    "date12 = '2020-08-31'\n",
    "url12 = 'https://www.reuters.com/article/zoom-video-commn-results/zoom-beats-quarterly-revenue-estimates-on-remote-work-boost-idINL4N2FX4GW'\n",
    "\n",
    "date13 = '2020-09-01'\n",
    "url13 = 'https://www.reuters.com/article/us-health-coronavirus-finance-breakingvi-idUSKBN25S4RO'\n",
    "\n",
    "date14 = '2020-09-08'\n",
    "url14 = 'https://www.reuters.com/article/us-indonesia-tax-digital/indonesia-adds-twitter-zoom-to-tech-companies-that-must-pay-10-vat-idUSKBN25Z2CU'\n",
    "\n",
    "date15 = '2020-09-15'\n",
    "url15 = 'https://www.reuters.com/article/zoom-video-commn-results-int-idUSKBN25R2QV'\n",
    "\n",
    "\n",
    "\n",
    "url_dict = {date1:url1,\n",
    "            date2:url2,\n",
    "            date3:url3,\n",
    "            date4:url4,\n",
    "            date5:url5,\n",
    "            date6:url6,\n",
    "            date7:url7,\n",
    "            date8:url8,\n",
    "            date9:url9,\n",
    "            date10:url10,\n",
    "            date11:url11,\n",
    "            date12:url12,\n",
    "            date13:url13,\n",
    "            date14:url14,\n",
    "            date15:url15\n",
    "           }\n"
   ]
  },
  {
   "cell_type": "code",
   "execution_count": 101,
   "metadata": {
    "id": "8QdZBTyeSQqX",
    "outputId": "95c0d704-82e0-49f9-9841-b9835655700e"
   },
   "outputs": [
    {
     "name": "stdout",
     "output_type": "stream",
     "text": [
      "Zoom nearly doubles revenue forecast on remote-work boost, but costs rising\n",
      "Zoom denies giving user information to Chinese government\n",
      "Zoom taps former Salesforce executive as information security head\n",
      "Zoom says added over 100 features as part of 90-day security plan\n",
      "Zoom rolls out hardware subscription service\n",
      "Formula One, Zoom announce partnership for virtual Paddock Club\n",
      "Zoom to open tech centre in India's Bengaluru\n",
      "Senators urge U.S. Justice Department to probe TikTok, Zoom\n",
      "Zoom opens new data center in Singapore\n",
      "Zoom says service restored after U.S. users hit by partial outage\n",
      "Zoom beats quarterly revenue estimates on remote work boost\n",
      "Breakingviews - Corona Capital: Zooming through Covid\n",
      "Indonesia adds Twitter, Zoom to tech companies that must pay 10% VAT\n",
      "Zoom forecasts sales surge as video conferencing becomes a daily routine\n"
     ]
    }
   ],
   "source": [
    "for key in url_dict:\n",
    "    page = requests.get(url_dict[key]).text\n",
    "    soup = BeautifulSoup(page, 'html.parser')\n",
    "    print(soup.find('h1').text)"
   ]
  },
  {
   "cell_type": "code",
   "execution_count": 102,
   "metadata": {
    "id": "9BEWAuFBSQqY"
   },
   "outputs": [],
   "source": [
    "# extract info from each website and store it in dataframe\n",
    "df_text = pd.DataFrame(columns = ['Date','Header','Text'])\n",
    "header = []\n",
    "text = []\n",
    "date = []\n",
    "for key in url_dict:\n",
    "    page = requests.get(url_dict[key]).text\n",
    "    soup = BeautifulSoup(page, 'html.parser')\n",
    "    date.append(datetime.strptime(key, '%Y-%m-%d').date())\n",
    "    url_header = soup.find('h1').text\n",
    "    \n",
    "    header.append(url_header)\n",
    "    url_text = soup.find('div', class_ = 'ArticleBodyWrapper').text\n",
    "    text.append(url_text)\n",
    "df_text['Date']=date\n",
    "df_text['Header']=header\n",
    "df_text['Text']=text\n",
    "\n",
    "# remove the author and \"min read\" sections\n",
    "df_text_temp = [] \n",
    "for text in df_text['Text']:\n",
    "    loc = text.find('(Reuters)')\n",
    "    df_text_temp.append(text[loc+9:])\n",
    "df_text['Text'] = df_text_temp\n",
    "\n"
   ]
  },
  {
   "cell_type": "code",
   "execution_count": 103,
   "metadata": {
    "id": "98DOlrp4SQqY",
    "outputId": "338a8fa2-96fc-4716-dfcc-f2cb842d8ed7"
   },
   "outputs": [
    {
     "data": {
      "text/html": [
       "<div>\n",
       "<style scoped>\n",
       "    .dataframe tbody tr th:only-of-type {\n",
       "        vertical-align: middle;\n",
       "    }\n",
       "\n",
       "    .dataframe tbody tr th {\n",
       "        vertical-align: top;\n",
       "    }\n",
       "\n",
       "    .dataframe thead th {\n",
       "        text-align: right;\n",
       "    }\n",
       "</style>\n",
       "<table border=\"1\" class=\"dataframe\">\n",
       "  <thead>\n",
       "    <tr style=\"text-align: right;\">\n",
       "      <th></th>\n",
       "      <th>Date</th>\n",
       "      <th>Header</th>\n",
       "      <th>Text</th>\n",
       "    </tr>\n",
       "  </thead>\n",
       "  <tbody>\n",
       "    <tr>\n",
       "      <th>0</th>\n",
       "      <td>2020-06-02</td>\n",
       "      <td>Zoom nearly doubles revenue forecast on remote...</td>\n",
       "      <td>- Zoom Video Communications Inc ZM.O nearly d...</td>\n",
       "    </tr>\n",
       "    <tr>\n",
       "      <th>1</th>\n",
       "      <td>2020-06-11</td>\n",
       "      <td>Zoom denies giving user information to Chinese...</td>\n",
       "      <td>- Zoom Video Communications Inc said on Thurs...</td>\n",
       "    </tr>\n",
       "    <tr>\n",
       "      <th>2</th>\n",
       "      <td>2020-06-24</td>\n",
       "      <td>Zoom taps former Salesforce executive as infor...</td>\n",
       "      <td>- Zoom Video Communications Inc on Wednesday ...</td>\n",
       "    </tr>\n",
       "    <tr>\n",
       "      <th>3</th>\n",
       "      <td>2020-07-01</td>\n",
       "      <td>Zoom says added over 100 features as part of 9...</td>\n",
       "      <td>- Zoom Video Communications Inc said on Wedne...</td>\n",
       "    </tr>\n",
       "    <tr>\n",
       "      <th>4</th>\n",
       "      <td>2020-07-07</td>\n",
       "      <td>Zoom rolls out hardware subscription service</td>\n",
       "      <td>- Zoom Video Communications Inc ZM.O said on ...</td>\n",
       "    </tr>\n",
       "  </tbody>\n",
       "</table>\n",
       "</div>"
      ],
      "text/plain": [
       "        Date                                             Header  \\\n",
       "0 2020-06-02  Zoom nearly doubles revenue forecast on remote...   \n",
       "1 2020-06-11  Zoom denies giving user information to Chinese...   \n",
       "2 2020-06-24  Zoom taps former Salesforce executive as infor...   \n",
       "3 2020-07-01  Zoom says added over 100 features as part of 9...   \n",
       "4 2020-07-07       Zoom rolls out hardware subscription service   \n",
       "\n",
       "                                                Text  \n",
       "0   - Zoom Video Communications Inc ZM.O nearly d...  \n",
       "1   - Zoom Video Communications Inc said on Thurs...  \n",
       "2   - Zoom Video Communications Inc on Wednesday ...  \n",
       "3   - Zoom Video Communications Inc said on Wedne...  \n",
       "4   - Zoom Video Communications Inc ZM.O said on ...  "
      ]
     },
     "execution_count": 103,
     "metadata": {},
     "output_type": "execute_result"
    }
   ],
   "source": [
    "df_text['Date'] = df_text['Date'].apply(lambda x: pd.to_datetime(x))\n",
    "df_text.head()"
   ]
  },
  {
   "cell_type": "code",
   "execution_count": 104,
   "metadata": {
    "id": "VyIwimBvSQqY",
    "outputId": "6e80d795-93fc-4415-a757-83dfe4d4c3c1"
   },
   "outputs": [
    {
     "data": {
      "text/html": [
       "<div>\n",
       "<style scoped>\n",
       "    .dataframe tbody tr th:only-of-type {\n",
       "        vertical-align: middle;\n",
       "    }\n",
       "\n",
       "    .dataframe tbody tr th {\n",
       "        vertical-align: top;\n",
       "    }\n",
       "\n",
       "    .dataframe thead th {\n",
       "        text-align: right;\n",
       "    }\n",
       "</style>\n",
       "<table border=\"1\" class=\"dataframe\">\n",
       "  <thead>\n",
       "    <tr style=\"text-align: right;\">\n",
       "      <th></th>\n",
       "      <th>Date</th>\n",
       "      <th>Open</th>\n",
       "      <th>Volume</th>\n",
       "    </tr>\n",
       "  </thead>\n",
       "  <tbody>\n",
       "    <tr>\n",
       "      <th>0</th>\n",
       "      <td>2019-12-02</td>\n",
       "      <td>74.059998</td>\n",
       "      <td>3138600</td>\n",
       "    </tr>\n",
       "    <tr>\n",
       "      <th>1</th>\n",
       "      <td>2019-12-03</td>\n",
       "      <td>66.720001</td>\n",
       "      <td>2444200</td>\n",
       "    </tr>\n",
       "    <tr>\n",
       "      <th>2</th>\n",
       "      <td>2019-12-04</td>\n",
       "      <td>70.500000</td>\n",
       "      <td>2076500</td>\n",
       "    </tr>\n",
       "    <tr>\n",
       "      <th>3</th>\n",
       "      <td>2019-12-05</td>\n",
       "      <td>70.029999</td>\n",
       "      <td>3672600</td>\n",
       "    </tr>\n",
       "    <tr>\n",
       "      <th>4</th>\n",
       "      <td>2019-12-06</td>\n",
       "      <td>64.260002</td>\n",
       "      <td>11253600</td>\n",
       "    </tr>\n",
       "  </tbody>\n",
       "</table>\n",
       "</div>"
      ],
      "text/plain": [
       "        Date       Open    Volume\n",
       "0 2019-12-02  74.059998   3138600\n",
       "1 2019-12-03  66.720001   2444200\n",
       "2 2019-12-04  70.500000   2076500\n",
       "3 2019-12-05  70.029999   3672600\n",
       "4 2019-12-06  64.260002  11253600"
      ]
     },
     "execution_count": 104,
     "metadata": {},
     "output_type": "execute_result"
    }
   ],
   "source": [
    "# import stock data of Zoom\n",
    "df_stock = pd.read_csv('ZM.csv', header=0)\n",
    "\n",
    "df_stock['Date']=df_stock['Date'].apply(lambda x: datetime.strptime(x, '%Y-%m-%d'))\n",
    "\n",
    "\n",
    "df_stock = df_stock.drop(['High','Low','Close','Adj Close'], axis=1)\n",
    "df_stock.head()"
   ]
  },
  {
   "cell_type": "code",
   "execution_count": 105,
   "metadata": {
    "id": "-lfqFFgMSQqZ",
    "outputId": "2870e777-f561-4ba6-b073-95f9f910874b"
   },
   "outputs": [
    {
     "data": {
      "text/plain": [
       "dtype('<M8[ns]')"
      ]
     },
     "execution_count": 105,
     "metadata": {},
     "output_type": "execute_result"
    }
   ],
   "source": [
    "df_text['Date'].dtypes"
   ]
  },
  {
   "cell_type": "code",
   "execution_count": 106,
   "metadata": {
    "id": "oMU9Tcm1SQqZ",
    "outputId": "2d3ba76f-5565-4b58-d857-2c4aba734ba3"
   },
   "outputs": [
    {
     "data": {
      "text/plain": [
       "dtype('<M8[ns]')"
      ]
     },
     "execution_count": 106,
     "metadata": {},
     "output_type": "execute_result"
    }
   ],
   "source": [
    "df_stock['Date'].dtypes"
   ]
  },
  {
   "cell_type": "code",
   "execution_count": 107,
   "metadata": {
    "id": "MKsd-llGSQqZ"
   },
   "outputs": [],
   "source": [
    "# Merge two dataframes\n",
    "df = pd.merge(df_text, df_stock, how='inner', on='Date')\n",
    "df = df.sort_values('Date')"
   ]
  },
  {
   "cell_type": "code",
   "execution_count": 108,
   "metadata": {
    "id": "tqG8kBLISQqZ",
    "outputId": "523dc96c-d9c8-47e0-e3e5-ae41775f4806"
   },
   "outputs": [
    {
     "data": {
      "text/html": [
       "<div>\n",
       "<style scoped>\n",
       "    .dataframe tbody tr th:only-of-type {\n",
       "        vertical-align: middle;\n",
       "    }\n",
       "\n",
       "    .dataframe tbody tr th {\n",
       "        vertical-align: top;\n",
       "    }\n",
       "\n",
       "    .dataframe thead th {\n",
       "        text-align: right;\n",
       "    }\n",
       "</style>\n",
       "<table border=\"1\" class=\"dataframe\">\n",
       "  <thead>\n",
       "    <tr style=\"text-align: right;\">\n",
       "      <th></th>\n",
       "      <th>Date</th>\n",
       "      <th>Header</th>\n",
       "      <th>Text</th>\n",
       "      <th>Open</th>\n",
       "      <th>Volume</th>\n",
       "      <th>% Change in Stock Price</th>\n",
       "      <th>% Change in Volume</th>\n",
       "    </tr>\n",
       "  </thead>\n",
       "  <tbody>\n",
       "    <tr>\n",
       "      <th>0</th>\n",
       "      <td>2020-06-02</td>\n",
       "      <td>Zoom nearly doubles revenue forecast on remote...</td>\n",
       "      <td>- Zoom Video Communications Inc ZM.O nearly d...</td>\n",
       "      <td>210.250000</td>\n",
       "      <td>36853400</td>\n",
       "      <td>NaN</td>\n",
       "      <td>NaN</td>\n",
       "    </tr>\n",
       "    <tr>\n",
       "      <th>1</th>\n",
       "      <td>2020-06-11</td>\n",
       "      <td>Zoom denies giving user information to Chinese...</td>\n",
       "      <td>- Zoom Video Communications Inc said on Thurs...</td>\n",
       "      <td>219.179993</td>\n",
       "      <td>17615800</td>\n",
       "      <td>4.247321</td>\n",
       "      <td>-52.200340</td>\n",
       "    </tr>\n",
       "    <tr>\n",
       "      <th>2</th>\n",
       "      <td>2020-06-24</td>\n",
       "      <td>Zoom taps former Salesforce executive as infor...</td>\n",
       "      <td>- Zoom Video Communications Inc on Wednesday ...</td>\n",
       "      <td>254.500000</td>\n",
       "      <td>9862800</td>\n",
       "      <td>16.114613</td>\n",
       "      <td>-44.011626</td>\n",
       "    </tr>\n",
       "    <tr>\n",
       "      <th>3</th>\n",
       "      <td>2020-07-01</td>\n",
       "      <td>Zoom says added over 100 features as part of 9...</td>\n",
       "      <td>- Zoom Video Communications Inc said on Wedne...</td>\n",
       "      <td>251.350006</td>\n",
       "      <td>6803300</td>\n",
       "      <td>-1.237719</td>\n",
       "      <td>-31.020603</td>\n",
       "    </tr>\n",
       "    <tr>\n",
       "      <th>4</th>\n",
       "      <td>2020-07-07</td>\n",
       "      <td>Zoom rolls out hardware subscription service</td>\n",
       "      <td>- Zoom Video Communications Inc ZM.O said on ...</td>\n",
       "      <td>261.549988</td>\n",
       "      <td>7819700</td>\n",
       "      <td>4.058079</td>\n",
       "      <td>14.939809</td>\n",
       "    </tr>\n",
       "  </tbody>\n",
       "</table>\n",
       "</div>"
      ],
      "text/plain": [
       "        Date                                             Header  \\\n",
       "0 2020-06-02  Zoom nearly doubles revenue forecast on remote...   \n",
       "1 2020-06-11  Zoom denies giving user information to Chinese...   \n",
       "2 2020-06-24  Zoom taps former Salesforce executive as infor...   \n",
       "3 2020-07-01  Zoom says added over 100 features as part of 9...   \n",
       "4 2020-07-07       Zoom rolls out hardware subscription service   \n",
       "\n",
       "                                                Text        Open    Volume  \\\n",
       "0   - Zoom Video Communications Inc ZM.O nearly d...  210.250000  36853400   \n",
       "1   - Zoom Video Communications Inc said on Thurs...  219.179993  17615800   \n",
       "2   - Zoom Video Communications Inc on Wednesday ...  254.500000   9862800   \n",
       "3   - Zoom Video Communications Inc said on Wedne...  251.350006   6803300   \n",
       "4   - Zoom Video Communications Inc ZM.O said on ...  261.549988   7819700   \n",
       "\n",
       "   % Change in Stock Price  % Change in Volume  \n",
       "0                      NaN                 NaN  \n",
       "1                 4.247321          -52.200340  \n",
       "2                16.114613          -44.011626  \n",
       "3                -1.237719          -31.020603  \n",
       "4                 4.058079           14.939809  "
      ]
     },
     "execution_count": 108,
     "metadata": {},
     "output_type": "execute_result"
    }
   ],
   "source": [
    "# show % change in stock price after news article publish\n",
    "pct_stock = df['Open'].pct_change()*100\n",
    "df['% Change in Stock Price'] = pct_stock\n",
    "pct_volume = df['Volume'].pct_change()*100\n",
    "df['% Change in Volume'] = pct_volume\n",
    "df.head()"
   ]
  },
  {
   "cell_type": "markdown",
   "metadata": {
    "id": "J07oHTFuSQqZ"
   },
   "source": [
    "\n",
    "# Processing the text\n"
   ]
  },
  {
   "cell_type": "markdown",
   "metadata": {
    "id": "v_xGS_KOSQqZ"
   },
   "source": [
    "## import spacy libraries\n",
    "import spacy\n",
    "import en_core_web_sm\n",
    "from  spacy.lang.en.stop_words import STOP_WORDS\n",
    "nlp = spacy.load('en_core_web_sm')"
   ]
  },
  {
   "cell_type": "code",
   "execution_count": 109,
   "metadata": {
    "id": "C6ZyQ2WqSQqZ"
   },
   "outputs": [],
   "source": [
    "# import spacy libraries\n",
    "import spacy\n",
    "import en_core_web_sm\n",
    "from  spacy.lang.en.stop_words import STOP_WORDS\n",
    "nlp = spacy.load('en_core_web_sm')"
   ]
  },
  {
   "cell_type": "code",
   "execution_count": 110,
   "metadata": {
    "id": "BEImdfNsSQqZ"
   },
   "outputs": [],
   "source": [
    "\n",
    "text_nlp = nlp(df['Text'][1]) \n",
    "# Remove stop words\n",
    "text_nlp_clean = [word for word in text_nlp if word.is_stop == False]\n",
    "# Lemmatize words\n",
    "text_nlp_clean = [word.lemma_ for word in text_nlp_clean]"
   ]
  },
  {
   "cell_type": "code",
   "execution_count": 111,
   "metadata": {
    "id": "LZAg6Uo_SQqZ",
    "outputId": "b22d5f64-31a9-40cd-b78b-7a915c8fbd2c"
   },
   "outputs": [
    {
     "data": {
      "text/html": [
       "<div>\n",
       "<style scoped>\n",
       "    .dataframe tbody tr th:only-of-type {\n",
       "        vertical-align: middle;\n",
       "    }\n",
       "\n",
       "    .dataframe tbody tr th {\n",
       "        vertical-align: top;\n",
       "    }\n",
       "\n",
       "    .dataframe thead th {\n",
       "        text-align: right;\n",
       "    }\n",
       "</style>\n",
       "<table border=\"1\" class=\"dataframe\">\n",
       "  <thead>\n",
       "    <tr style=\"text-align: right;\">\n",
       "      <th></th>\n",
       "      <th>Date</th>\n",
       "      <th>Header</th>\n",
       "      <th>Text</th>\n",
       "      <th>Open</th>\n",
       "      <th>Volume</th>\n",
       "      <th>% Change in Stock Price</th>\n",
       "      <th>% Change in Volume</th>\n",
       "      <th>Text (clean)</th>\n",
       "    </tr>\n",
       "  </thead>\n",
       "  <tbody>\n",
       "    <tr>\n",
       "      <th>0</th>\n",
       "      <td>2020-06-02</td>\n",
       "      <td>Zoom nearly doubles revenue forecast on remote...</td>\n",
       "      <td>- Zoom Video Communications Inc ZM.O nearly d...</td>\n",
       "      <td>210.250000</td>\n",
       "      <td>36853400</td>\n",
       "      <td>NaN</td>\n",
       "      <td>NaN</td>\n",
       "      <td>Zoom Video Communications Inc ZM.O nearly doub...</td>\n",
       "    </tr>\n",
       "    <tr>\n",
       "      <th>1</th>\n",
       "      <td>2020-06-11</td>\n",
       "      <td>Zoom denies giving user information to Chinese...</td>\n",
       "      <td>- Zoom Video Communications Inc said on Thurs...</td>\n",
       "      <td>219.179993</td>\n",
       "      <td>17615800</td>\n",
       "      <td>4.247321</td>\n",
       "      <td>-52.200340</td>\n",
       "      <td>Zoom Video Communications Inc say Thursday pro...</td>\n",
       "    </tr>\n",
       "    <tr>\n",
       "      <th>2</th>\n",
       "      <td>2020-06-24</td>\n",
       "      <td>Zoom taps former Salesforce executive as infor...</td>\n",
       "      <td>- Zoom Video Communications Inc on Wednesday ...</td>\n",
       "      <td>254.500000</td>\n",
       "      <td>9862800</td>\n",
       "      <td>16.114613</td>\n",
       "      <td>-44.011626</td>\n",
       "      <td>Zoom Video Communications Inc Wednesday name S...</td>\n",
       "    </tr>\n",
       "    <tr>\n",
       "      <th>3</th>\n",
       "      <td>2020-07-01</td>\n",
       "      <td>Zoom says added over 100 features as part of 9...</td>\n",
       "      <td>- Zoom Video Communications Inc said on Wedne...</td>\n",
       "      <td>251.350006</td>\n",
       "      <td>6803300</td>\n",
       "      <td>-1.237719</td>\n",
       "      <td>-31.020603</td>\n",
       "      <td>Zoom Video Communications Inc say Wednesday ad...</td>\n",
       "    </tr>\n",
       "    <tr>\n",
       "      <th>4</th>\n",
       "      <td>2020-07-07</td>\n",
       "      <td>Zoom rolls out hardware subscription service</td>\n",
       "      <td>- Zoom Video Communications Inc ZM.O said on ...</td>\n",
       "      <td>261.549988</td>\n",
       "      <td>7819700</td>\n",
       "      <td>4.058079</td>\n",
       "      <td>14.939809</td>\n",
       "      <td>Zoom Video Communications Inc zm.o say Tuesday...</td>\n",
       "    </tr>\n",
       "  </tbody>\n",
       "</table>\n",
       "</div>"
      ],
      "text/plain": [
       "        Date                                             Header  \\\n",
       "0 2020-06-02  Zoom nearly doubles revenue forecast on remote...   \n",
       "1 2020-06-11  Zoom denies giving user information to Chinese...   \n",
       "2 2020-06-24  Zoom taps former Salesforce executive as infor...   \n",
       "3 2020-07-01  Zoom says added over 100 features as part of 9...   \n",
       "4 2020-07-07       Zoom rolls out hardware subscription service   \n",
       "\n",
       "                                                Text        Open    Volume  \\\n",
       "0   - Zoom Video Communications Inc ZM.O nearly d...  210.250000  36853400   \n",
       "1   - Zoom Video Communications Inc said on Thurs...  219.179993  17615800   \n",
       "2   - Zoom Video Communications Inc on Wednesday ...  254.500000   9862800   \n",
       "3   - Zoom Video Communications Inc said on Wedne...  251.350006   6803300   \n",
       "4   - Zoom Video Communications Inc ZM.O said on ...  261.549988   7819700   \n",
       "\n",
       "   % Change in Stock Price  % Change in Volume  \\\n",
       "0                      NaN                 NaN   \n",
       "1                 4.247321          -52.200340   \n",
       "2                16.114613          -44.011626   \n",
       "3                -1.237719          -31.020603   \n",
       "4                 4.058079           14.939809   \n",
       "\n",
       "                                        Text (clean)  \n",
       "0  Zoom Video Communications Inc ZM.O nearly doub...  \n",
       "1  Zoom Video Communications Inc say Thursday pro...  \n",
       "2  Zoom Video Communications Inc Wednesday name S...  \n",
       "3  Zoom Video Communications Inc say Wednesday ad...  \n",
       "4  Zoom Video Communications Inc zm.o say Tuesday...  "
      ]
     },
     "execution_count": 111,
     "metadata": {},
     "output_type": "execute_result"
    }
   ],
   "source": [
    "text_clean = []\n",
    "for ind, row in df.iterrows():\n",
    "    \n",
    "    # lower casing\n",
    "    text_lower = row['Text'].lower()\n",
    "    \n",
    "    # tokenization\n",
    "    text_nlp = nlp(row['Text']) \n",
    "    \n",
    "    # remove punctuation and empty space\n",
    "    text_nlp_clean = [word for word in text_nlp if not word.is_punct | word.is_space]\n",
    "    \n",
    "    # Remove stop words\n",
    "    text_nlp_clean = [word for word in text_nlp_clean if word.is_stop == False]\n",
    "    \n",
    "    # Lemmatize tokens\n",
    "    text_nlp_clean = [word.lemma_ for word in text_nlp_clean]\n",
    "    \n",
    "    # add preprocessed text to list\n",
    "    text_clean.append(text_nlp_clean)\n",
    "\n",
    "# turn list of strings to string\n",
    "to_string = []\n",
    "for text in text_clean:\n",
    "    to_string.append(' '.join(text))\n",
    "\n",
    "\n",
    "df['Text (clean)'] = to_string\n",
    "df.head()"
   ]
  },
  {
   "cell_type": "markdown",
   "metadata": {
    "id": "Pd3-9hn1SQqZ"
   },
   "source": [
    "# Using a Pretrained Model "
   ]
  },
  {
   "cell_type": "code",
   "execution_count": 112,
   "metadata": {
    "id": "gFOOWs_pSQqZ"
   },
   "outputs": [],
   "source": [
    "from nltk.sentiment import SentimentIntensityAnalyzer"
   ]
  },
  {
   "cell_type": "code",
   "execution_count": 113,
   "metadata": {
    "id": "uGpOXS8iSQqZ"
   },
   "outputs": [],
   "source": [
    "# a function to return sentiment score\n",
    "def polarity_score(text):\n",
    "    sid = SentimentIntensityAnalyzer()\n",
    "    return sid.polarity_scores(text)['compound']\n",
    "\n",
    "vader_score = []\n",
    "for text in df['Text (clean)']:\n",
    "    score = polarity_score(text)\n",
    "    vader_score.append(score)\n",
    "\n",
    "df['Vader Sentiment Score'] = vader_score"
   ]
  },
  {
   "cell_type": "code",
   "execution_count": 114,
   "metadata": {
    "id": "jjdJPjlXSQqZ",
    "outputId": "0c2b02cb-e024-42d2-f69d-762dee29e8d2"
   },
   "outputs": [
    {
     "data": {
      "text/html": [
       "<div>\n",
       "<style scoped>\n",
       "    .dataframe tbody tr th:only-of-type {\n",
       "        vertical-align: middle;\n",
       "    }\n",
       "\n",
       "    .dataframe tbody tr th {\n",
       "        vertical-align: top;\n",
       "    }\n",
       "\n",
       "    .dataframe thead th {\n",
       "        text-align: right;\n",
       "    }\n",
       "</style>\n",
       "<table border=\"1\" class=\"dataframe\">\n",
       "  <thead>\n",
       "    <tr style=\"text-align: right;\">\n",
       "      <th></th>\n",
       "      <th>Date</th>\n",
       "      <th>Header</th>\n",
       "      <th>Text</th>\n",
       "      <th>Open</th>\n",
       "      <th>Volume</th>\n",
       "      <th>% Change in Stock Price</th>\n",
       "      <th>% Change in Volume</th>\n",
       "      <th>Text (clean)</th>\n",
       "      <th>Vader Sentiment Score</th>\n",
       "    </tr>\n",
       "  </thead>\n",
       "  <tbody>\n",
       "    <tr>\n",
       "      <th>0</th>\n",
       "      <td>2020-06-02</td>\n",
       "      <td>Zoom nearly doubles revenue forecast on remote...</td>\n",
       "      <td>- Zoom Video Communications Inc ZM.O nearly d...</td>\n",
       "      <td>210.250000</td>\n",
       "      <td>36853400</td>\n",
       "      <td>NaN</td>\n",
       "      <td>NaN</td>\n",
       "      <td>Zoom Video Communications Inc ZM.O nearly doub...</td>\n",
       "      <td>0.9295</td>\n",
       "    </tr>\n",
       "    <tr>\n",
       "      <th>1</th>\n",
       "      <td>2020-06-11</td>\n",
       "      <td>Zoom denies giving user information to Chinese...</td>\n",
       "      <td>- Zoom Video Communications Inc said on Thurs...</td>\n",
       "      <td>219.179993</td>\n",
       "      <td>17615800</td>\n",
       "      <td>4.247321</td>\n",
       "      <td>-52.200340</td>\n",
       "      <td>Zoom Video Communications Inc say Thursday pro...</td>\n",
       "      <td>0.5106</td>\n",
       "    </tr>\n",
       "    <tr>\n",
       "      <th>2</th>\n",
       "      <td>2020-06-24</td>\n",
       "      <td>Zoom taps former Salesforce executive as infor...</td>\n",
       "      <td>- Zoom Video Communications Inc on Wednesday ...</td>\n",
       "      <td>254.500000</td>\n",
       "      <td>9862800</td>\n",
       "      <td>16.114613</td>\n",
       "      <td>-44.011626</td>\n",
       "      <td>Zoom Video Communications Inc Wednesday name S...</td>\n",
       "      <td>0.9442</td>\n",
       "    </tr>\n",
       "    <tr>\n",
       "      <th>3</th>\n",
       "      <td>2020-07-01</td>\n",
       "      <td>Zoom says added over 100 features as part of 9...</td>\n",
       "      <td>- Zoom Video Communications Inc said on Wedne...</td>\n",
       "      <td>251.350006</td>\n",
       "      <td>6803300</td>\n",
       "      <td>-1.237719</td>\n",
       "      <td>-31.020603</td>\n",
       "      <td>Zoom Video Communications Inc say Wednesday ad...</td>\n",
       "      <td>0.9628</td>\n",
       "    </tr>\n",
       "    <tr>\n",
       "      <th>4</th>\n",
       "      <td>2020-07-07</td>\n",
       "      <td>Zoom rolls out hardware subscription service</td>\n",
       "      <td>- Zoom Video Communications Inc ZM.O said on ...</td>\n",
       "      <td>261.549988</td>\n",
       "      <td>7819700</td>\n",
       "      <td>4.058079</td>\n",
       "      <td>14.939809</td>\n",
       "      <td>Zoom Video Communications Inc zm.o say Tuesday...</td>\n",
       "      <td>0.9442</td>\n",
       "    </tr>\n",
       "  </tbody>\n",
       "</table>\n",
       "</div>"
      ],
      "text/plain": [
       "        Date                                             Header  \\\n",
       "0 2020-06-02  Zoom nearly doubles revenue forecast on remote...   \n",
       "1 2020-06-11  Zoom denies giving user information to Chinese...   \n",
       "2 2020-06-24  Zoom taps former Salesforce executive as infor...   \n",
       "3 2020-07-01  Zoom says added over 100 features as part of 9...   \n",
       "4 2020-07-07       Zoom rolls out hardware subscription service   \n",
       "\n",
       "                                                Text        Open    Volume  \\\n",
       "0   - Zoom Video Communications Inc ZM.O nearly d...  210.250000  36853400   \n",
       "1   - Zoom Video Communications Inc said on Thurs...  219.179993  17615800   \n",
       "2   - Zoom Video Communications Inc on Wednesday ...  254.500000   9862800   \n",
       "3   - Zoom Video Communications Inc said on Wedne...  251.350006   6803300   \n",
       "4   - Zoom Video Communications Inc ZM.O said on ...  261.549988   7819700   \n",
       "\n",
       "   % Change in Stock Price  % Change in Volume  \\\n",
       "0                      NaN                 NaN   \n",
       "1                 4.247321          -52.200340   \n",
       "2                16.114613          -44.011626   \n",
       "3                -1.237719          -31.020603   \n",
       "4                 4.058079           14.939809   \n",
       "\n",
       "                                        Text (clean)  Vader Sentiment Score  \n",
       "0  Zoom Video Communications Inc ZM.O nearly doub...                 0.9295  \n",
       "1  Zoom Video Communications Inc say Thursday pro...                 0.5106  \n",
       "2  Zoom Video Communications Inc Wednesday name S...                 0.9442  \n",
       "3  Zoom Video Communications Inc say Wednesday ad...                 0.9628  \n",
       "4  Zoom Video Communications Inc zm.o say Tuesday...                 0.9442  "
      ]
     },
     "execution_count": 114,
     "metadata": {},
     "output_type": "execute_result"
    }
   ],
   "source": [
    "df.head()"
   ]
  },
  {
   "cell_type": "markdown",
   "metadata": {
    "id": "sCCCSJYUSQqZ"
   },
   "source": [
    "## Sentiment Analysis"
   ]
  },
  {
   "cell_type": "code",
   "execution_count": 115,
   "metadata": {
    "id": "r1DLbsT1SQqZ"
   },
   "outputs": [],
   "source": [
    "# run this cell to import nltk\n",
    "import nltk\n",
    "from os import getcwd\n",
    "import numpy as np\n",
    "import pandas as pd\n",
    "from nltk.corpus import twitter_samples \n",
    "from utils import process_tweet, build_freqs"
   ]
  },
  {
   "cell_type": "code",
   "execution_count": 116,
   "metadata": {
    "id": "JdUCmyodSQqZ",
    "outputId": "aad0bb87-821f-4290-b8f1-4cf25b1ca358"
   },
   "outputs": [
    {
     "name": "stderr",
     "output_type": "stream",
     "text": [
      "[nltk_data] Downloading package twitter_samples to\n",
      "[nltk_data]     C:\\Users\\aashi\\AppData\\Roaming\\nltk_data...\n",
      "[nltk_data]   Package twitter_samples is already up-to-date!\n",
      "[nltk_data] Downloading package stopwords to\n",
      "[nltk_data]     C:\\Users\\aashi\\AppData\\Roaming\\nltk_data...\n",
      "[nltk_data]   Package stopwords is already up-to-date!\n"
     ]
    },
    {
     "data": {
      "text/plain": [
       "True"
      ]
     },
     "execution_count": 116,
     "metadata": {},
     "output_type": "execute_result"
    }
   ],
   "source": [
    "nltk.download('twitter_samples')\n",
    "nltk.download('stopwords')"
   ]
  },
  {
   "cell_type": "code",
   "execution_count": 117,
   "metadata": {
    "id": "nAs2hhHySQqZ"
   },
   "outputs": [],
   "source": [
    "\n",
    "# select the set of positive and negative tweets\n",
    "all_positive_tweets = twitter_samples.strings('positive_tweets.json')\n",
    "all_negative_tweets = twitter_samples.strings('negative_tweets.json')"
   ]
  },
  {
   "cell_type": "code",
   "execution_count": 118,
   "metadata": {
    "id": "cZGFfVYySQqZ"
   },
   "outputs": [],
   "source": [
    "# split the data into two pieces (80-20), one for training and one for testing (validation set)  \n",
    "test_pos = all_positive_tweets[4000:]\n",
    "train_pos = all_positive_tweets[:4000]\n",
    "test_neg = all_negative_tweets[4000:]\n",
    "train_neg = all_negative_tweets[:4000]\n",
    "\n",
    "train_x = train_pos + train_neg \n",
    "test_x = test_pos + test_neg"
   ]
  },
  {
   "cell_type": "code",
   "execution_count": 119,
   "metadata": {
    "id": "nZv6mxN1SQqZ"
   },
   "outputs": [],
   "source": [
    "# combine positive and negative labels\n",
    "train_y = np.append(np.ones((len(train_pos), 1)), np.zeros((len(train_neg), 1)), axis=0)\n",
    "test_y = np.append(np.ones((len(test_pos), 1)), np.zeros((len(test_neg), 1)), axis=0)"
   ]
  },
  {
   "cell_type": "code",
   "execution_count": 120,
   "metadata": {
    "id": "8oiWYMvWSQqZ",
    "outputId": "4d9f4210-8019-4653-9d32-33da87124047"
   },
   "outputs": [
    {
     "name": "stdout",
     "output_type": "stream",
     "text": [
      "train_y.shape = (8000, 1)\n",
      "test_y.shape = (2000, 1)\n"
     ]
    }
   ],
   "source": [
    "# Print the shape train and test sets\n",
    "print(\"train_y.shape = \" + str(train_y.shape))\n",
    "print(\"test_y.shape = \" + str(test_y.shape))"
   ]
  },
  {
   "cell_type": "code",
   "execution_count": 121,
   "metadata": {
    "id": "LxnndIYPSQqZ",
    "outputId": "646ac697-ce74-4469-ff5a-050f13e54a33"
   },
   "outputs": [
    {
     "name": "stdout",
     "output_type": "stream",
     "text": [
      "type(freqs) = <class 'dict'>\n",
      "len(freqs) = 11340\n"
     ]
    }
   ],
   "source": [
    "# create frequency dictionary\n",
    "freqs = build_freqs(train_x, train_y)\n",
    "\n",
    "# check the output\n",
    "print(\"type(freqs) = \" + str(type(freqs)))\n",
    "print(\"len(freqs) = \" + str(len(freqs.keys())))"
   ]
  },
  {
   "cell_type": "code",
   "execution_count": 122,
   "metadata": {
    "id": "-cZaOM1gSQqZ"
   },
   "outputs": [],
   "source": [
    "# UNQ_C3 (UNIQUE CELL IDENTIFIER, DO NOT EDIT)\n",
    "def extract_features(tweet, freqs):\n",
    "    '''\n",
    "    Input: \n",
    "        tweet: a list of words for one tweet\n",
    "        freqs: a dictionary corresponding to the frequencies of each tuple (word, label)\n",
    "    Output: \n",
    "        x: a feature vector of dimension (1,3)\n",
    "    '''\n",
    "    # process_tweet tokenizes, stems, and removes stopwords\n",
    "    word_l = process_tweet(tweet)\n",
    "    \n",
    "    # 3 elements in the form of a 1 x 3 vector\n",
    "    x = np.zeros((1, 3)) \n",
    "    \n",
    "    #bias term is set to 1\n",
    "    x[0,0] = 1 \n",
    "    \n",
    "    ### START CODE HERE (REPLACE INSTANCES OF 'None' with your code) ###\n",
    "    \n",
    "    # loop through each word in the list of words\n",
    "    for word in word_l:\n",
    "        \n",
    "        # increment the word count for the positive label 1\n",
    "        \n",
    "        x[0,1] += freqs.get((word,1),0)\n",
    "        \n",
    "        # increment the word count for the negative label 0\n",
    "        x[0,2] += freqs.get((word,0),0)\n",
    "        \n",
    "    ### END CODE HERE ###\n",
    "    assert(x.shape == (1, 3))\n",
    "    return x"
   ]
  },
  {
   "cell_type": "code",
   "execution_count": 123,
   "metadata": {
    "id": "A6bTxr6uSQqZ"
   },
   "outputs": [],
   "source": [
    "# collect the features 'x' and stack them into a matrix 'X'\n",
    "X = np.zeros((len(train_x), 3))\n",
    "for i in range(len(train_x)):\n",
    "    X[i, :]= extract_features(train_x[i], freqs)\n",
    "\n",
    "# training labels corresponding to X\n",
    "Y = train_y"
   ]
  },
  {
   "cell_type": "code",
   "execution_count": 124,
   "metadata": {
    "id": "dRoTKKTBSQqZ",
    "outputId": "15cdb5e0-8aea-45a2-9cea-2127d7cbd672"
   },
   "outputs": [
    {
     "data": {
      "text/plain": [
       "(8000, 1)"
      ]
     },
     "execution_count": 124,
     "metadata": {},
     "output_type": "execute_result"
    }
   ],
   "source": [
    "Y.shape"
   ]
  },
  {
   "cell_type": "markdown",
   "metadata": {
    "id": "DnsEVHP5SQqa"
   },
   "source": [
    "### SVM Parameters"
   ]
  },
  {
   "cell_type": "code",
   "execution_count": 125,
   "metadata": {
    "id": "AK4KHYrpSQqa",
    "outputId": "f5a09f16-61ab-49c0-fbc1-715eb6e4e009"
   },
   "outputs": [
    {
     "name": "stderr",
     "output_type": "stream",
     "text": [
      "C:\\Users\\aashi\\Anaconda3\\lib\\site-packages\\sklearn\\utils\\validation.py:72: DataConversionWarning: A column-vector y was passed when a 1d array was expected. Please change the shape of y to (n_samples, ), for example using ravel().\n",
      "  return f(**kwargs)\n"
     ]
    },
    {
     "data": {
      "text/plain": [
       "LogisticRegression(random_state=0)"
      ]
     },
     "execution_count": 125,
     "metadata": {},
     "output_type": "execute_result"
    }
   ],
   "source": [
    "# Fitting Logistic Regression to the Training set\n",
    "from sklearn.linear_model import LogisticRegression\n",
    "classifier = LogisticRegression(random_state = 0)\n",
    "classifier.fit(X, Y)\n"
   ]
  },
  {
   "cell_type": "code",
   "execution_count": 126,
   "metadata": {
    "id": "c95ctAe8SQqa"
   },
   "outputs": [],
   "source": [
    "\n",
    "# UNQ_C4 (UNIQUE CELL IDENTIFIER, DO NOT EDIT)\n",
    "def predict_tweet(tweet, freqs):\n",
    "    '''\n",
    "    Input: \n",
    "        tweet: a string\n",
    "        freqs: a dictionary corresponding to the frequencies of each tuple (word, label)\n",
    "        theta: (3,1) vector of weights\n",
    "    Output: \n",
    "        y_pred: the probability of a tweet being positive or negative\n",
    "    '''\n",
    "    ### START CODE HERE (REPLACE INSTANCES OF 'None' with your code) ###\n",
    "    \n",
    "    # extract the features of the tweet and store it into x\n",
    "    x = extract_features(tweet,freqs)\n",
    "    \n",
    "    # make the prediction using x and theta\n",
    "    y_pred = classifier.predict(x)\n",
    "    \n",
    "    ### END CODE HERE ###\n",
    "    \n",
    "    return y_pred"
   ]
  },
  {
   "cell_type": "code",
   "execution_count": 127,
   "metadata": {
    "id": "R4azdYg0SQqa"
   },
   "outputs": [],
   "source": [
    "# UNQ_C4 (UNIQUE CELL IDENTIFIER, DO NOT EDIT)\n",
    "def predict_tweet_prob(tweet, freqs):\n",
    "    '''\n",
    "    Input: \n",
    "        tweet: a string\n",
    "        freqs: a dictionary corresponding to the frequencies of each tuple (word, label)\n",
    "        theta: (3,1) vector of weights\n",
    "    Output: \n",
    "        y_pred: the probability of a tweet being positive or negative\n",
    "    '''\n",
    "    ### START CODE HERE (REPLACE INSTANCES OF 'None' with your code) ###\n",
    "    \n",
    "    # extract the features of the tweet and store it into x\n",
    "    x = extract_features(tweet,freqs)\n",
    "    \n",
    "    # make the prediction using x and theta\n",
    "    y_pred = classifier.predict_proba(x)\n",
    "    \n",
    "    ### END CODE HERE ###\n",
    "    \n",
    "    return y_pred"
   ]
  },
  {
   "cell_type": "code",
   "execution_count": 128,
   "metadata": {
    "id": "zXVJRRfXSQqa",
    "outputId": "19b23787-818f-4748-b363-86fae931f665"
   },
   "outputs": [
    {
     "data": {
      "text/plain": [
       "array([0.])"
      ]
     },
     "execution_count": 128,
     "metadata": {},
     "output_type": "execute_result"
    }
   ],
   "source": [
    "\n",
    "my_tweet = 'The plot was terrible and I was sad until the ending!'\n",
    "predict_tweet(my_tweet, freqs)"
   ]
  },
  {
   "cell_type": "code",
   "execution_count": null,
   "metadata": {},
   "outputs": [],
   "source": []
  },
  {
   "cell_type": "markdown",
   "metadata": {
    "id": "16x-YBTt6wG6"
   },
   "source": [
    "#DEEP LEARNING"
   ]
  },
  {
   "cell_type": "code",
   "execution_count": null,
   "metadata": {
    "id": "WW8AV0Fi54F6"
   },
   "outputs": [],
   "source": [
    "import sklearn\n",
    "import numpy as np\n",
    "import pandas as pd\n",
    "pd.set_option('display.max_colwidth', -1)\n",
    "import sklearn\n",
    "import sklearn.ensemble\n",
    "from sklearn.metrics import accuracy_score, confusion_matrix\n",
    "import sklearn.metrics\n",
    "import tensorflow as tf\n",
    "from scipy.special import softmax\n",
    "import os\n",
    "import numpy as np\n",
    "import pandas as pd\n",
    "import json\n",
    "import torch\n",
    "import torch.nn as nn\n",
    "import nltk\n",
    "from tqdm import tqdm\n",
    "import spacy\n",
    "import torch\n",
    "import torchtext\n",
    "import torchtext.data\n",
    "import torch.nn as nn\n",
    "import torch.nn.functional as F\n",
    "from scipy.special import softmax\n",
    "from torchtext.vocab import Vocab\n",
    "from nltk.corpus import twitter_samples \n",
    "\n",
    "nlp = spacy.load('en')\n",
    "nltk.download('punkt')"
   ]
  },
  {
   "cell_type": "code",
   "execution_count": null,
   "metadata": {
    "id": "F5gGAecc54nQ"
   },
   "outputs": [],
   "source": [
    "device = torch.device(\"cuda\" if torch.cuda.is_available() else \"cpu\")\n",
    "torch.manual_seed(42)\n",
    "np.random.seed(42)\n",
    "torch.backends.cudnn.deterministic = True\n",
    "torch.backends.cudnn.benchmark = False"
   ]
  },
  {
   "cell_type": "code",
   "execution_count": null,
   "metadata": {
    "id": "NlzygEfN54x-"
   },
   "outputs": [],
   "source": [
    "# %% ----------------------------------- Hyper Parameters --------------------------------------------------------------\n",
    "class Args:\n",
    "    def __init__(self):\n",
    "        self.seq_len = \"get_max_from_data\"\n",
    "        self.embedding_dim = 50\n",
    "        self.n_epochs = 10\n",
    "        self.lr = 1e-2\n",
    "        self.batch_size = 512\n",
    "        self.train = True\n",
    "        self.save_model = True\n",
    "\n",
    "\n",
    "args = Args()"
   ]
  },
  {
   "cell_type": "code",
   "execution_count": null,
   "metadata": {
    "id": "6MyB9f9X54WU"
   },
   "outputs": [],
   "source": [
    "# %% ----------------------------------- Helper Functions --------------------------------------------------------------\n",
    "def acc(x, y, return_labels=False):\n",
    "    with torch.no_grad():\n",
    "        logits = torch.empty(len(x), 2)\n",
    "        for batch in range(len(x) // args.batch_size + 1):\n",
    "            inds = slice(batch * args.batch_size, (batch + 1) * args.batch_size)\n",
    "            logits[inds] = model(x[inds])\n",
    "        pred_labels = np.argmax(logits.cpu().numpy(), axis=1)\n",
    "    if return_labels:\n",
    "        return pred_labels\n",
    "    else:\n",
    "        return 100*accuracy_score(y.cpu().numpy(), pred_labels)\n",
    "\n",
    "\n",
    "def extract_vocab_dict_and_msl(sentences_train, sentences_dev):\n",
    "    \"\"\" Tokenizes all the sentences and gets a dictionary of unique tokens and also the maximum sequence length \"\"\"\n",
    "    tokens, ms_len = [], 0\n",
    "    for sentence in list(sentences_train) + list(sentences_dev):\n",
    "        tokens_in_sentence = nltk.word_tokenize(sentence)\n",
    "        if ms_len < len(tokens_in_sentence):\n",
    "            ms_len = len(tokens_in_sentence)\n",
    "        tokens += tokens_in_sentence\n",
    "    token_vocab = {key: i for key, i in zip(set(tokens), range(1, len(set(tokens))+1))}\n",
    "    if len(np.unique(list(token_vocab.values()))) != len(token_vocab):\n",
    "        \"There are some rep words...\"\n",
    "    return token_vocab, ms_len\n",
    "\n",
    "\n",
    "def convert_to_ids(raw_sentences, vocab_dict, pad_to):\n",
    "    \"\"\" Takes an NumPy array of raw text sentences and converts to a sequence of token ids \"\"\"\n",
    "    x = np.empty((len(raw_sentences), pad_to))\n",
    "    for idx, sentence in enumerate(raw_sentences):\n",
    "        word_ids = []\n",
    "        for token in nltk.word_tokenize(sentence):\n",
    "            try:\n",
    "                word_ids.append(vocab_dict[token])\n",
    "            except:\n",
    "                word_ids.append(vocab_dict[token])\n",
    "        if pad_to < len(word_ids):\n",
    "            x[idx] = word_ids[:pad_to]\n",
    "        else:\n",
    "            x[idx] = word_ids + [0] * (pad_to - len(word_ids))\n",
    "    return x\n",
    "\n",
    "\n",
    "def get_glove_embeddings(vocab_dict):\n",
    "    with open(\"glove.6B.50d.txt\", \"r\") as s:\n",
    "        glove = s.read()\n",
    "    embeddings_dict = {}\n",
    "    for line in glove.split(\"\\n\")[:-1]:\n",
    "        text = line.split()\n",
    "        if text[0] in vocab_dict:\n",
    "            embeddings_dict[vocab_dict[text[0]]] = torch.from_numpy(np.array(text[1:], dtype=\"float32\"))\n",
    "    return embeddings_dict\n",
    "\n",
    "\n",
    "def get_glove_table(vocab_dict, glove_dict):\n",
    "    lookup_table = torch.empty((len(vocab_dict)+2, 50))\n",
    "    for token_id in sorted(vocab_dict.values()):\n",
    "        if token_id in glove_dict:\n",
    "            lookup_table[token_id] = glove_dict[token_id]\n",
    "        else:\n",
    "            lookup_table[token_id] = torch.zeros((1, 50))  # For unknown tokens\n",
    "    lookup_table[0] = torch.zeros((1, 50))\n",
    "    return lookup_table\n",
    "\n"
   ]
  },
  {
   "cell_type": "code",
   "execution_count": null,
   "metadata": {
    "id": "3hF8Psy16tY9"
   },
   "outputs": [],
   "source": [
    "data_train = pd.read_csv(\"original_data/train.tsv\", sep=\"\\t\")\n",
    "x_train_raw, y_train = data_train[\"sentence\"].values, torch.LongTensor(data_train[\"label\"].values).to(device)\n",
    "data_dev = pd.read_csv(\"original_data/dev.tsv\", sep=\"\\t\")\n",
    "x_dev_raw, y_dev = data_dev[\"sentence\"].values, torch.LongTensor(data_dev[\"label\"].values).to(device)\n"
   ]
  },
  {
   "cell_type": "code",
   "execution_count": null,
   "metadata": {
    "id": "3jKrMWVE6s-9"
   },
   "outputs": [],
   "source": [
    "# %% -------------------------------------- Data Prep ------------------------------------------------------------------\n",
    "try:\n",
    "    with open(\"example_prep_data/vocab_dict.json\", \"r\") as s:\n",
    "        token_ids = json.load(s)\n",
    "    msl = np.load(\"example_prep_data/max_sequence_length.npy\").item()\n",
    "except:\n",
    "    print(\"Tokenizing all the examples to get a vocab dict and the maximum sequence length...\")\n",
    "    token_ids, msl = extract_vocab_dict_and_msl(x_train_raw, x_dev_raw)\n",
    "    os.mkdir(\"example_prep_data\")\n",
    "    with open(\"example_prep_data/vocab_dict.json\", \"w\") as s:\n",
    "        json.dump(token_ids, s)\n",
    "    np.save(\"example_prep_data/max_sequence_length.npy\", np.array([msl]))\n",
    "if args.seq_len == \"get_max_from_data\":\n",
    "    args.seq_len = msl\n",
    "\n",
    "glove_embeddings = get_glove_embeddings(token_ids)\n",
    "\n",
    "try:\n",
    "    x_train = np.load(\"example_prep_data/prep_train_len{}.npy\".format(args.seq_len))\n",
    "    x_dev = np.load(\"example_prep_data/prep_dev_len{}.npy\".format(args.seq_len))\n",
    "except:\n",
    "    print(\"Converting all the sentences to sequences of token ids...\")\n",
    "    x_train = convert_to_ids(x_train_raw, token_ids, args.seq_len)\n",
    "    np.save(\"example_prep_data/prep_train_len{}.npy\".format(args.seq_len), x_train)\n",
    "    x_dev = convert_to_ids(x_dev_raw, token_ids, args.seq_len)\n",
    "    np.save(\"example_prep_data/prep_dev_len{}.npy\".format(args.seq_len), x_dev)\n",
    "\n",
    "\n"
   ]
  },
  {
   "cell_type": "code",
   "execution_count": null,
   "metadata": {
    "id": "H8I67K-d6s0i"
   },
   "outputs": [],
   "source": [
    "x_train, x_dev = torch.LongTensor(x_train).to(device), torch.LongTensor(x_dev).to(device)"
   ]
  },
  {
   "cell_type": "code",
   "execution_count": null,
   "metadata": {
    "id": "jCys2Yib6_ND"
   },
   "outputs": [],
   "source": [
    "# %% -------------------------------------- CNN Class ------------------------------------------------------------------\n",
    "class CNN(nn.Module):\n",
    "    def __init__(self, vocab_size):\n",
    "        super(CNN, self).__init__()\n",
    "\n",
    "        self.embedding = nn.Embedding(vocab_size + 2, args.embedding_dim)\n",
    "\n",
    "        self.conv1 = nn.Conv1d(args.embedding_dim, args.embedding_dim, 9)\n",
    "        self.convnorm1 = nn.BatchNorm1d(args.embedding_dim)\n",
    "        self.pool1 = nn.MaxPool1d(2)\n",
    "\n",
    "        self.conv2 = nn.Conv1d(args.embedding_dim, args.embedding_dim, 9)\n",
    "        self.convnorm2 = nn.BatchNorm1d(args.embedding_dim)\n",
    "        self.pool2 = nn.MaxPool1d(2)\n",
    "\n",
    "        self.conv3 = nn.Conv1d(args.embedding_dim, args.embedding_dim, 7)\n",
    "        self.linear = nn.Linear(args.embedding_dim, 2)\n",
    "        self.act = torch.relu\n",
    "\n",
    "    def forward(self, x):\n",
    "        # nn.Conv1d operates on the columns, each embedding dimension is considered as one channel\n",
    "        x = self.embedding(x).permute(0, 2, 1)\n",
    "        x = self.pool1(self.convnorm1(self.act(self.conv1(x))))\n",
    "        x = self.pool2(self.convnorm2(self.act(self.conv2(x))))\n",
    "        return self.linear(self.act(self.conv3(x)).reshape(-1, args.embedding_dim))\n",
    "\n"
   ]
  },
  {
   "cell_type": "code",
   "execution_count": null,
   "metadata": {
    "id": "5rPDonKu6_eF"
   },
   "outputs": [],
   "source": [
    "# %% -------------------------------------- Training Prep ----------------------------------------------------------\n",
    "model = CNN(len(token_ids)).to(device)\n",
    "look_up_table = get_glove_table(token_ids, glove_embeddings)\n",
    "model.embedding.weight.data.copy_(look_up_table)\n",
    "optimizer = torch.optim.Adam(model.parameters(), lr=args.lr)\n",
    "criterion = nn.CrossEntropyLoss()"
   ]
  },
  {
   "cell_type": "code",
   "execution_count": null,
   "metadata": {
    "id": "Uo_Y8XZM6-9q"
   },
   "outputs": [],
   "source": [
    "# %% -------------------------------------- Training Loop ----------------------------------------------------------\n",
    "labels_ditrib = torch.unique(y_dev, return_counts=True)\n",
    "print(\"The no information rate is {:.2f}\".format(100*labels_ditrib[1].max().item()/len(y_dev)))\n",
    "if args.train:\n",
    "    acc_dev_best = 0\n",
    "    print(\"Starting training loop...\")\n",
    "    for epoch in range(args.n_epochs):\n",
    "\n",
    "        loss_train, train_steps = 0, 0\n",
    "        model.train()\n",
    "        total = len(x_train) // args.batch_size + 1  # Initiates a progress bar that will be updated for each batch\n",
    "        with tqdm(total=total, desc=\"Epoch {}\".format(epoch)) as pbar:  # \"Epoch\" will be updated for each epoch\n",
    "            for batch in range(len(x_train)//args.batch_size + 1):\n",
    "                inds = slice(batch*args.batch_size, (batch+1)*args.batch_size)\n",
    "                optimizer.zero_grad()\n",
    "                logits = model(x_train[inds])\n",
    "                loss = criterion(logits, y_train[inds])\n",
    "                loss.backward()\n",
    "                optimizer.step()\n",
    "                loss_train += loss.item()\n",
    "                train_steps += 1\n",
    "                pbar.update(1)  # Updates the progress and the training loss\n",
    "                pbar.set_postfix_str(\"Training Loss: {:.5f}\".format(loss_train / train_steps))\n",
    "\n",
    "        model.eval()\n",
    "        with torch.no_grad():\n",
    "            y_dev_pred = model(x_dev)\n",
    "            loss = criterion(y_dev_pred, y_dev)\n",
    "            loss_test = loss.item()\n",
    "\n",
    "        acc_dev = acc(x_dev, y_dev)\n",
    "        print(\"Epoch {} | Train Loss {:.5f}, Train Acc {:.2f} - Test Loss {:.5f}, Test Acc {:.2f}\".format(\n",
    "            epoch, loss_train/train_steps, acc(x_train, y_train), loss_test, acc_dev))\n",
    "\n",
    "        if acc_dev > acc_dev_best and args.save_model:\n",
    "            torch.save(model.state_dict(), \"cnn_sentiment.pt\")\n",
    "            print(\"The model has been saved!\")\n",
    "            acc_dev_best = acc_dev"
   ]
  },
  {
   "cell_type": "markdown",
   "metadata": {
    "id": "FDSz9agy7nl1"
   },
   "source": [
    "# Test of Deep Learning"
   ]
  },
  {
   "cell_type": "code",
   "execution_count": null,
   "metadata": {
    "id": "zhc9VEVT9OpC"
   },
   "outputs": [],
   "source": [
    "x = None\n",
    "for i in range(10):\n",
    "    test = convert_to_ids([x_train_raw[i]], token_ids, args.seq_len)\n",
    "    test = torch.LongTensor(test).to(device)\n",
    "    pred = model(test).cpu().detach().numpy()[0]\n",
    "    x = softmax(pred)\n",
    "    print(softmax(pred),y_train[i])"
   ]
  },
  {
   "cell_type": "code",
   "execution_count": null,
   "metadata": {
    "id": "qL3t7fdC9Rg2"
   },
   "outputs": [],
   "source": []
  },
  {
   "cell_type": "code",
   "execution_count": null,
   "metadata": {
    "id": "agoddrKE7U6y"
   },
   "outputs": [],
   "source": [
    "x = None\n",
    "deep_learning_sentiment_prob = []\n",
    "\n",
    "for i in df.iloc[:,2]:\n",
    "    test = convert_to_ids([i], token_ids, args.seq_len)\n",
    "    test = torch.LongTensor(test).to(device)\n",
    "    pred = model(test).cpu().detach().numpy()[0]\n",
    "    x = softmax(pred)\n",
    "    sentiment_prob.append(x[1])"
   ]
  },
  {
   "cell_type": "code",
   "execution_count": null,
   "metadata": {
    "id": "ceKT6AHr7Ubk"
   },
   "outputs": [],
   "source": [
    "df['deep_learning_sentiment_prob'] = sentiment_prob"
   ]
  },
  {
   "cell_type": "markdown",
   "metadata": {
    "id": "N5Qr2b_W9gNj"
   },
   "source": [
    "#END OF DEEP LEARNING"
   ]
  },
  {
   "cell_type": "markdown",
   "metadata": {
    "id": "vxKSAa0JSQqa"
   },
   "source": [
    "# Testing the Model "
   ]
  },
  {
   "cell_type": "code",
   "execution_count": 129,
   "metadata": {
    "id": "emRuurQVSQqa"
   },
   "outputs": [],
   "source": [
    "sentiment = []\n",
    "sentiment_prob = []\n",
    "for i in df.iloc[:,2]:\n",
    "    sentiment.append(predict_tweet(i, freqs)[0])\n",
    "    sentiment_prob.append(predict_tweet_prob(i, freqs)[0][1])"
   ]
  },
  {
   "cell_type": "code",
   "execution_count": 130,
   "metadata": {
    "id": "Xi3ZxKOhSQqa",
    "outputId": "8137f13e-3aad-44a6-c20f-47f8e336f052"
   },
   "outputs": [
    {
     "data": {
      "text/plain": [
       "[0.0, 1.0, 1.0, 1.0, 1.0, 0.0, 0.0, 0.0, 0.0, 0.0, 1.0, 0.0, 1.0, 0.0]"
      ]
     },
     "execution_count": 130,
     "metadata": {},
     "output_type": "execute_result"
    }
   ],
   "source": [
    "sentiment\n"
   ]
  },
  {
   "cell_type": "code",
   "execution_count": 131,
   "metadata": {
    "id": "zu2uBb1KSQqa",
    "outputId": "cc82b5ad-d859-471d-b1a8-ffbacd44849b"
   },
   "outputs": [
    {
     "data": {
      "text/plain": [
       "[0.34843847625364516,\n",
       " 0.6755430085014102,\n",
       " 0.7609195145575649,\n",
       " 0.9228283272817779,\n",
       " 0.6050521409884354,\n",
       " 0.24438262108230238,\n",
       " 0.19620956838873493,\n",
       " 0.3992342993835243,\n",
       " 0.41324759211955014,\n",
       " 0.09907528846684727,\n",
       " 0.7638819753506009,\n",
       " 0.0034492514897051713,\n",
       " 0.8662636828470726,\n",
       " 0.45439296762724446]"
      ]
     },
     "execution_count": 131,
     "metadata": {},
     "output_type": "execute_result"
    }
   ],
   "source": [
    "sentiment_prob"
   ]
  },
  {
   "cell_type": "code",
   "execution_count": 132,
   "metadata": {
    "id": "7roC_ubHSQqa",
    "outputId": "a6cfb2ad-1208-43c1-c1c6-32a05ccf60e8"
   },
   "outputs": [
    {
     "data": {
      "text/html": [
       "<div>\n",
       "<style scoped>\n",
       "    .dataframe tbody tr th:only-of-type {\n",
       "        vertical-align: middle;\n",
       "    }\n",
       "\n",
       "    .dataframe tbody tr th {\n",
       "        vertical-align: top;\n",
       "    }\n",
       "\n",
       "    .dataframe thead th {\n",
       "        text-align: right;\n",
       "    }\n",
       "</style>\n",
       "<table border=\"1\" class=\"dataframe\">\n",
       "  <thead>\n",
       "    <tr style=\"text-align: right;\">\n",
       "      <th></th>\n",
       "      <th>Date</th>\n",
       "      <th>Header</th>\n",
       "      <th>Text</th>\n",
       "      <th>Open</th>\n",
       "      <th>Volume</th>\n",
       "      <th>% Change in Stock Price</th>\n",
       "      <th>% Change in Volume</th>\n",
       "      <th>Text (clean)</th>\n",
       "      <th>Vader Sentiment Score</th>\n",
       "      <th>Days Elapsed</th>\n",
       "      <th>Average % Change in Stock Price</th>\n",
       "      <th>Average % Change in Volume</th>\n",
       "      <th>Logistic Regression Sentiment</th>\n",
       "      <th>Logistic Regression Sentiment Score</th>\n",
       "    </tr>\n",
       "  </thead>\n",
       "  <tbody>\n",
       "    <tr>\n",
       "      <th>0</th>\n",
       "      <td>2020-06-02</td>\n",
       "      <td>Zoom nearly doubles revenue forecast on remote...</td>\n",
       "      <td>- Zoom Video Communications Inc ZM.O nearly d...</td>\n",
       "      <td>210.250000</td>\n",
       "      <td>36853400</td>\n",
       "      <td>NaN</td>\n",
       "      <td>NaN</td>\n",
       "      <td>Zoom Video Communications Inc ZM.O nearly doub...</td>\n",
       "      <td>0.9295</td>\n",
       "      <td>0</td>\n",
       "      <td>NaN</td>\n",
       "      <td>NaN</td>\n",
       "      <td>0.0</td>\n",
       "      <td>0.348438</td>\n",
       "    </tr>\n",
       "    <tr>\n",
       "      <th>1</th>\n",
       "      <td>2020-06-11</td>\n",
       "      <td>Zoom denies giving user information to Chinese...</td>\n",
       "      <td>- Zoom Video Communications Inc said on Thurs...</td>\n",
       "      <td>219.179993</td>\n",
       "      <td>17615800</td>\n",
       "      <td>4.247321</td>\n",
       "      <td>-52.20034</td>\n",
       "      <td>Zoom Video Communications Inc say Thursday pro...</td>\n",
       "      <td>0.5106</td>\n",
       "      <td>9</td>\n",
       "      <td>0.471925</td>\n",
       "      <td>-5.800038</td>\n",
       "      <td>1.0</td>\n",
       "      <td>0.675543</td>\n",
       "    </tr>\n",
       "  </tbody>\n",
       "</table>\n",
       "</div>"
      ],
      "text/plain": [
       "        Date                                             Header  \\\n",
       "0 2020-06-02  Zoom nearly doubles revenue forecast on remote...   \n",
       "1 2020-06-11  Zoom denies giving user information to Chinese...   \n",
       "\n",
       "                                                Text        Open    Volume  \\\n",
       "0   - Zoom Video Communications Inc ZM.O nearly d...  210.250000  36853400   \n",
       "1   - Zoom Video Communications Inc said on Thurs...  219.179993  17615800   \n",
       "\n",
       "   % Change in Stock Price  % Change in Volume  \\\n",
       "0                      NaN                 NaN   \n",
       "1                 4.247321           -52.20034   \n",
       "\n",
       "                                        Text (clean)  Vader Sentiment Score  \\\n",
       "0  Zoom Video Communications Inc ZM.O nearly doub...                 0.9295   \n",
       "1  Zoom Video Communications Inc say Thursday pro...                 0.5106   \n",
       "\n",
       "   Days Elapsed  Average % Change in Stock Price  Average % Change in Volume  \\\n",
       "0             0                              NaN                         NaN   \n",
       "1             9                         0.471925                   -5.800038   \n",
       "\n",
       "   Logistic Regression Sentiment  Logistic Regression Sentiment Score  \n",
       "0                            0.0                             0.348438  \n",
       "1                            1.0                             0.675543  "
      ]
     },
     "execution_count": 132,
     "metadata": {},
     "output_type": "execute_result"
    }
   ],
   "source": [
    "# Converting % stock price change to % stock price change per day\n",
    "days = [0]\n",
    "for i in range(len(df['Date'])):\n",
    "    if i != 0:\n",
    "        date_diff = df['Date'][i]-df['Date'][i-1]\n",
    "        day = date_diff.days\n",
    "        days.append(day)\n",
    "df['Days Elapsed'] = days\n",
    "df['Average % Change in Stock Price'] = df['% Change in Stock Price']/df['Days Elapsed']\n",
    "df['Average % Change in Volume'] = df['% Change in Volume']/df['Days Elapsed']\n",
    "\n",
    "df['Logistic Regression Sentiment'] = sentiment\n",
    "df['Logistic Regression Sentiment Score'] = sentiment_prob\n",
    "\n",
    "\n",
    "df.head(2)"
   ]
  },
  {
   "cell_type": "markdown",
   "metadata": {},
   "source": [
    "## Outlier Removal"
   ]
  },
  {
   "cell_type": "code",
   "execution_count": 133,
   "metadata": {},
   "outputs": [
    {
     "data": {
      "text/html": [
       "<div>\n",
       "<style scoped>\n",
       "    .dataframe tbody tr th:only-of-type {\n",
       "        vertical-align: middle;\n",
       "    }\n",
       "\n",
       "    .dataframe tbody tr th {\n",
       "        vertical-align: top;\n",
       "    }\n",
       "\n",
       "    .dataframe thead th {\n",
       "        text-align: right;\n",
       "    }\n",
       "</style>\n",
       "<table border=\"1\" class=\"dataframe\">\n",
       "  <thead>\n",
       "    <tr style=\"text-align: right;\">\n",
       "      <th></th>\n",
       "      <th>Date</th>\n",
       "      <th>Header</th>\n",
       "      <th>Text</th>\n",
       "      <th>Open</th>\n",
       "      <th>Volume</th>\n",
       "      <th>% Change in Stock Price</th>\n",
       "      <th>% Change in Volume</th>\n",
       "      <th>Text (clean)</th>\n",
       "      <th>Vader Sentiment Score</th>\n",
       "      <th>Days Elapsed</th>\n",
       "      <th>Average % Change in Stock Price</th>\n",
       "      <th>Average % Change in Volume</th>\n",
       "      <th>Logistic Regression Sentiment</th>\n",
       "      <th>Logistic Regression Sentiment Score</th>\n",
       "    </tr>\n",
       "  </thead>\n",
       "  <tbody>\n",
       "    <tr>\n",
       "      <th>1</th>\n",
       "      <td>2020-06-11</td>\n",
       "      <td>Zoom denies giving user information to Chinese...</td>\n",
       "      <td>- Zoom Video Communications Inc said on Thurs...</td>\n",
       "      <td>219.179993</td>\n",
       "      <td>17615800</td>\n",
       "      <td>4.247321</td>\n",
       "      <td>-52.200340</td>\n",
       "      <td>Zoom Video Communications Inc say Thursday pro...</td>\n",
       "      <td>0.5106</td>\n",
       "      <td>9</td>\n",
       "      <td>0.471925</td>\n",
       "      <td>-5.800038</td>\n",
       "      <td>1.0</td>\n",
       "      <td>0.675543</td>\n",
       "    </tr>\n",
       "    <tr>\n",
       "      <th>2</th>\n",
       "      <td>2020-06-24</td>\n",
       "      <td>Zoom taps former Salesforce executive as infor...</td>\n",
       "      <td>- Zoom Video Communications Inc on Wednesday ...</td>\n",
       "      <td>254.500000</td>\n",
       "      <td>9862800</td>\n",
       "      <td>16.114613</td>\n",
       "      <td>-44.011626</td>\n",
       "      <td>Zoom Video Communications Inc Wednesday name S...</td>\n",
       "      <td>0.9442</td>\n",
       "      <td>13</td>\n",
       "      <td>1.239586</td>\n",
       "      <td>-3.385510</td>\n",
       "      <td>1.0</td>\n",
       "      <td>0.760920</td>\n",
       "    </tr>\n",
       "    <tr>\n",
       "      <th>3</th>\n",
       "      <td>2020-07-01</td>\n",
       "      <td>Zoom says added over 100 features as part of 9...</td>\n",
       "      <td>- Zoom Video Communications Inc said on Wedne...</td>\n",
       "      <td>251.350006</td>\n",
       "      <td>6803300</td>\n",
       "      <td>-1.237719</td>\n",
       "      <td>-31.020603</td>\n",
       "      <td>Zoom Video Communications Inc say Wednesday ad...</td>\n",
       "      <td>0.9628</td>\n",
       "      <td>7</td>\n",
       "      <td>-0.176817</td>\n",
       "      <td>-4.431515</td>\n",
       "      <td>1.0</td>\n",
       "      <td>0.922828</td>\n",
       "    </tr>\n",
       "    <tr>\n",
       "      <th>4</th>\n",
       "      <td>2020-07-07</td>\n",
       "      <td>Zoom rolls out hardware subscription service</td>\n",
       "      <td>- Zoom Video Communications Inc ZM.O said on ...</td>\n",
       "      <td>261.549988</td>\n",
       "      <td>7819700</td>\n",
       "      <td>4.058079</td>\n",
       "      <td>14.939809</td>\n",
       "      <td>Zoom Video Communications Inc zm.o say Tuesday...</td>\n",
       "      <td>0.9442</td>\n",
       "      <td>6</td>\n",
       "      <td>0.676347</td>\n",
       "      <td>2.489968</td>\n",
       "      <td>1.0</td>\n",
       "      <td>0.605052</td>\n",
       "    </tr>\n",
       "    <tr>\n",
       "      <th>5</th>\n",
       "      <td>2020-07-16</td>\n",
       "      <td>Formula One, Zoom announce partnership for vir...</td>\n",
       "      <td>- Formula One fans will be able to get a bett...</td>\n",
       "      <td>250.389999</td>\n",
       "      <td>5420100</td>\n",
       "      <td>-4.266867</td>\n",
       "      <td>-30.686599</td>\n",
       "      <td>Formula fan able well flavour race day experie...</td>\n",
       "      <td>0.9565</td>\n",
       "      <td>9</td>\n",
       "      <td>-0.474096</td>\n",
       "      <td>-3.409622</td>\n",
       "      <td>0.0</td>\n",
       "      <td>0.244383</td>\n",
       "    </tr>\n",
       "    <tr>\n",
       "      <th>6</th>\n",
       "      <td>2020-07-21</td>\n",
       "      <td>Zoom to open tech centre in India's Bengaluru</td>\n",
       "      <td>- Zoom Video Communications Inc ZM.O said on ...</td>\n",
       "      <td>268.750000</td>\n",
       "      <td>4762000</td>\n",
       "      <td>7.332562</td>\n",
       "      <td>-12.141842</td>\n",
       "      <td>Zoom Video Communications Inc zm.o say Tuesday...</td>\n",
       "      <td>0.9578</td>\n",
       "      <td>5</td>\n",
       "      <td>1.466512</td>\n",
       "      <td>-2.428368</td>\n",
       "      <td>0.0</td>\n",
       "      <td>0.196210</td>\n",
       "    </tr>\n",
       "    <tr>\n",
       "      <th>7</th>\n",
       "      <td>2020-07-30</td>\n",
       "      <td>Senators urge U.S. Justice Department to probe...</td>\n",
       "      <td>- Senators Richard Blumenthal, a Democrat, an...</td>\n",
       "      <td>250.313995</td>\n",
       "      <td>7926100</td>\n",
       "      <td>-6.859909</td>\n",
       "      <td>66.444771</td>\n",
       "      <td>Senators Richard Blumenthal Democrat Josh Hawl...</td>\n",
       "      <td>0.9796</td>\n",
       "      <td>9</td>\n",
       "      <td>-0.762212</td>\n",
       "      <td>7.382752</td>\n",
       "      <td>0.0</td>\n",
       "      <td>0.399234</td>\n",
       "    </tr>\n",
       "    <tr>\n",
       "      <th>8</th>\n",
       "      <td>2020-08-18</td>\n",
       "      <td>Zoom opens new data center in Singapore</td>\n",
       "      <td>- Zoom Video Communications has opened a new ...</td>\n",
       "      <td>271.720001</td>\n",
       "      <td>6517000</td>\n",
       "      <td>8.551662</td>\n",
       "      <td>-17.777974</td>\n",
       "      <td>Zoom Video Communications open new datum cente...</td>\n",
       "      <td>0.6378</td>\n",
       "      <td>19</td>\n",
       "      <td>0.450087</td>\n",
       "      <td>-0.935683</td>\n",
       "      <td>0.0</td>\n",
       "      <td>0.413248</td>\n",
       "    </tr>\n",
       "    <tr>\n",
       "      <th>9</th>\n",
       "      <td>2020-08-24</td>\n",
       "      <td>Zoom says service restored after U.S. users hi...</td>\n",
       "      <td>- Video-conferencing company Zoom Video Commu...</td>\n",
       "      <td>293.000000</td>\n",
       "      <td>6463500</td>\n",
       "      <td>7.831591</td>\n",
       "      <td>-0.820930</td>\n",
       "      <td>video conference company Zoom Video Communicat...</td>\n",
       "      <td>0.9693</td>\n",
       "      <td>6</td>\n",
       "      <td>1.305265</td>\n",
       "      <td>-0.136822</td>\n",
       "      <td>0.0</td>\n",
       "      <td>0.099075</td>\n",
       "    </tr>\n",
       "    <tr>\n",
       "      <th>10</th>\n",
       "      <td>2020-08-31</td>\n",
       "      <td>Zoom beats quarterly revenue estimates on remo...</td>\n",
       "      <td>- Zoom Video Communications Inc beat second-q...</td>\n",
       "      <td>304.010010</td>\n",
       "      <td>23468100</td>\n",
       "      <td>3.757683</td>\n",
       "      <td>263.086563</td>\n",
       "      <td>Zoom Video Communications Inc beat second quar...</td>\n",
       "      <td>0.7579</td>\n",
       "      <td>7</td>\n",
       "      <td>0.536812</td>\n",
       "      <td>37.583795</td>\n",
       "      <td>1.0</td>\n",
       "      <td>0.763882</td>\n",
       "    </tr>\n",
       "    <tr>\n",
       "      <th>13</th>\n",
       "      <td>2020-09-15</td>\n",
       "      <td>Zoom forecasts sales surge as video conferenci...</td>\n",
       "      <td>- Zoom Video Communications Inc ZM.O raised i...</td>\n",
       "      <td>410.000000</td>\n",
       "      <td>8495600</td>\n",
       "      <td>16.909035</td>\n",
       "      <td>6.641562</td>\n",
       "      <td>Zoom Video Communications Inc ZM.O raise annua...</td>\n",
       "      <td>0.9917</td>\n",
       "      <td>7</td>\n",
       "      <td>2.415576</td>\n",
       "      <td>0.948795</td>\n",
       "      <td>0.0</td>\n",
       "      <td>0.454393</td>\n",
       "    </tr>\n",
       "  </tbody>\n",
       "</table>\n",
       "</div>"
      ],
      "text/plain": [
       "         Date                                             Header  \\\n",
       "1  2020-06-11  Zoom denies giving user information to Chinese...   \n",
       "2  2020-06-24  Zoom taps former Salesforce executive as infor...   \n",
       "3  2020-07-01  Zoom says added over 100 features as part of 9...   \n",
       "4  2020-07-07       Zoom rolls out hardware subscription service   \n",
       "5  2020-07-16  Formula One, Zoom announce partnership for vir...   \n",
       "6  2020-07-21      Zoom to open tech centre in India's Bengaluru   \n",
       "7  2020-07-30  Senators urge U.S. Justice Department to probe...   \n",
       "8  2020-08-18            Zoom opens new data center in Singapore   \n",
       "9  2020-08-24  Zoom says service restored after U.S. users hi...   \n",
       "10 2020-08-31  Zoom beats quarterly revenue estimates on remo...   \n",
       "13 2020-09-15  Zoom forecasts sales surge as video conferenci...   \n",
       "\n",
       "                                                 Text        Open    Volume  \\\n",
       "1    - Zoom Video Communications Inc said on Thurs...  219.179993  17615800   \n",
       "2    - Zoom Video Communications Inc on Wednesday ...  254.500000   9862800   \n",
       "3    - Zoom Video Communications Inc said on Wedne...  251.350006   6803300   \n",
       "4    - Zoom Video Communications Inc ZM.O said on ...  261.549988   7819700   \n",
       "5    - Formula One fans will be able to get a bett...  250.389999   5420100   \n",
       "6    - Zoom Video Communications Inc ZM.O said on ...  268.750000   4762000   \n",
       "7    - Senators Richard Blumenthal, a Democrat, an...  250.313995   7926100   \n",
       "8    - Zoom Video Communications has opened a new ...  271.720001   6517000   \n",
       "9    - Video-conferencing company Zoom Video Commu...  293.000000   6463500   \n",
       "10   - Zoom Video Communications Inc beat second-q...  304.010010  23468100   \n",
       "13   - Zoom Video Communications Inc ZM.O raised i...  410.000000   8495600   \n",
       "\n",
       "    % Change in Stock Price  % Change in Volume  \\\n",
       "1                  4.247321          -52.200340   \n",
       "2                 16.114613          -44.011626   \n",
       "3                 -1.237719          -31.020603   \n",
       "4                  4.058079           14.939809   \n",
       "5                 -4.266867          -30.686599   \n",
       "6                  7.332562          -12.141842   \n",
       "7                 -6.859909           66.444771   \n",
       "8                  8.551662          -17.777974   \n",
       "9                  7.831591           -0.820930   \n",
       "10                 3.757683          263.086563   \n",
       "13                16.909035            6.641562   \n",
       "\n",
       "                                         Text (clean)  Vader Sentiment Score  \\\n",
       "1   Zoom Video Communications Inc say Thursday pro...                 0.5106   \n",
       "2   Zoom Video Communications Inc Wednesday name S...                 0.9442   \n",
       "3   Zoom Video Communications Inc say Wednesday ad...                 0.9628   \n",
       "4   Zoom Video Communications Inc zm.o say Tuesday...                 0.9442   \n",
       "5   Formula fan able well flavour race day experie...                 0.9565   \n",
       "6   Zoom Video Communications Inc zm.o say Tuesday...                 0.9578   \n",
       "7   Senators Richard Blumenthal Democrat Josh Hawl...                 0.9796   \n",
       "8   Zoom Video Communications open new datum cente...                 0.6378   \n",
       "9   video conference company Zoom Video Communicat...                 0.9693   \n",
       "10  Zoom Video Communications Inc beat second quar...                 0.7579   \n",
       "13  Zoom Video Communications Inc ZM.O raise annua...                 0.9917   \n",
       "\n",
       "    Days Elapsed  Average % Change in Stock Price  Average % Change in Volume  \\\n",
       "1              9                         0.471925                   -5.800038   \n",
       "2             13                         1.239586                   -3.385510   \n",
       "3              7                        -0.176817                   -4.431515   \n",
       "4              6                         0.676347                    2.489968   \n",
       "5              9                        -0.474096                   -3.409622   \n",
       "6              5                         1.466512                   -2.428368   \n",
       "7              9                        -0.762212                    7.382752   \n",
       "8             19                         0.450087                   -0.935683   \n",
       "9              6                         1.305265                   -0.136822   \n",
       "10             7                         0.536812                   37.583795   \n",
       "13             7                         2.415576                    0.948795   \n",
       "\n",
       "    Logistic Regression Sentiment  Logistic Regression Sentiment Score  \n",
       "1                             1.0                             0.675543  \n",
       "2                             1.0                             0.760920  \n",
       "3                             1.0                             0.922828  \n",
       "4                             1.0                             0.605052  \n",
       "5                             0.0                             0.244383  \n",
       "6                             0.0                             0.196210  \n",
       "7                             0.0                             0.399234  \n",
       "8                             0.0                             0.413248  \n",
       "9                             0.0                             0.099075  \n",
       "10                            1.0                             0.763882  \n",
       "13                            0.0                             0.454393  "
      ]
     },
     "execution_count": 133,
     "metadata": {},
     "output_type": "execute_result"
    }
   ],
   "source": [
    "Q1 = df['% Change in Stock Price'].quantile(0.25)\n",
    "Q3 = df['% Change in Stock Price'].quantile(0.75)\n",
    "IQR = Q3 - Q1\n",
    "lower_bound = Q1-1.5*IQR\n",
    "upper_bound = Q3+1.5*IQR\n",
    "\n",
    "df = df[(df['% Change in Stock Price']>lower_bound) & (df['% Change in Stock Price']<upper_bound)]\n",
    "df"
   ]
  },
  {
   "cell_type": "markdown",
   "metadata": {},
   "source": [
    "## Plotting"
   ]
  },
  {
   "cell_type": "code",
   "execution_count": 143,
   "metadata": {
    "id": "Yo793wEeSQqa"
   },
   "outputs": [
    {
     "data": {
      "image/png": "[encoded data removed]",
      "text/plain": [
       "<Figure size 576x360 with 1 Axes>"
      ]
     },
     "metadata": {
      "needs_background": "light"
     },
     "output_type": "display_data"
    }
   ],
   "source": [
    "import seaborn as sns\n",
    "\n",
    "df_scatter = df[['Average % Change in Stock Price','Average % Change in Volume','Vader Sentiment Score','Logistic Regression Sentiment Score']]\n",
    "plt.figure(figsize=(8,5))\n",
    "sns.scatterplot(x =df_scatter['Average % Change in Stock Price'], y = df_scatter['Vader Sentiment Score'])\n",
    "plt.title('Relationship Between Vader Sentiment Score and Stock Price Change (r={})'.format((np.corrcoef(df_scatter['Average % Change in Stock Price'], df_scatter['Vader Sentiment Score'])[1,0]).round(2)))\n",
    "plt.show()\n",
    "\n"
   ]
  },
  {
   "cell_type": "code",
   "execution_count": 137,
   "metadata": {
    "id": "hpOOqZcmSQqa"
   },
   "outputs": [
    {
     "data": {
      "text/plain": [
       "<AxesSubplot:xlabel='Average % Change in Stock Price', ylabel='Logistic Regression Sentiment Score'>"
      ]
     },
     "execution_count": 137,
     "metadata": {},
     "output_type": "execute_result"
    },
    {
     "data": {
      "image/png": "[encoded data removed]",
      "text/plain": [
       "<Figure size 720x360 with 1 Axes>"
      ]
     },
     "metadata": {
      "needs_background": "light"
     },
     "output_type": "display_data"
    }
   ],
   "source": [
    "plt.figure(figsize=(10,5))\n",
    "sns.scatterplot(x =df_scatter['Average % Change in Stock Price'], y = df_scatter['Logistic Regression Sentiment Score'])\n"
   ]
  },
  {
   "cell_type": "code",
   "execution_count": null,
   "metadata": {},
   "outputs": [],
   "source": []
  }
 ],
 "metadata": {
  "colab": {
   "collapsed_sections": [],
   "name": "Zoom.ipynb",
   "provenance": []
  },
  "kernelspec": {
   "display_name": "Python 3",
   "language": "python",
   "name": "python3"
  },
  "language_info": {
   "codemirror_mode": {
    "name": "ipython",
    "version": 3
   },
   "file_extension": ".py",
   "mimetype": "text/x-python",
   "name": "python",
   "nbconvert_exporter": "python",
   "pygments_lexer": "ipython3",
   "version": "3.7.9"
  }
 },
 "nbformat": 4,
 "nbformat_minor": 1
}
