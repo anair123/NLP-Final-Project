{
 "cells": [
  {
   "cell_type": "code",
   "execution_count": 2,
   "metadata": {
    "colab": {
     "base_uri": "https://localhost:8080/"
    },
    "id": "qUUjCiTDwXrU",
    "outputId": "764523f8-17d7-43cf-ab23-5d2110fad9f0"
   },
   "outputs": [
    {
     "ename": "ModuleNotFoundError",
     "evalue": "No module named 'google.colab'",
     "output_type": "error",
     "traceback": [
      "\u001b[1;31m---------------------------------------------------------------------------\u001b[0m",
      "\u001b[1;31mModuleNotFoundError\u001b[0m                       Traceback (most recent call last)",
      "\u001b[1;32m<ipython-input-2-e191d0e46b75>\u001b[0m in \u001b[0;36m<module>\u001b[1;34m\u001b[0m\n\u001b[1;32m----> 1\u001b[1;33m \u001b[1;32mfrom\u001b[0m \u001b[0mgoogle\u001b[0m\u001b[1;33m.\u001b[0m\u001b[0mcolab\u001b[0m \u001b[1;32mimport\u001b[0m \u001b[0mdrive\u001b[0m\u001b[1;33m\u001b[0m\u001b[1;33m\u001b[0m\u001b[0m\n\u001b[0m\u001b[0;32m      2\u001b[0m \u001b[1;33m\u001b[0m\u001b[0m\n\u001b[0;32m      3\u001b[0m \u001b[1;31m# Mount Google Drive\u001b[0m\u001b[1;33m\u001b[0m\u001b[1;33m\u001b[0m\u001b[1;33m\u001b[0m\u001b[0m\n\u001b[0;32m      4\u001b[0m \u001b[0mdrive\u001b[0m\u001b[1;33m.\u001b[0m\u001b[0mmount\u001b[0m\u001b[1;33m(\u001b[0m\u001b[1;34m'/content/drive'\u001b[0m\u001b[1;33m)\u001b[0m\u001b[1;33m\u001b[0m\u001b[1;33m\u001b[0m\u001b[0m\n\u001b[0;32m      5\u001b[0m \u001b[1;33m\u001b[0m\u001b[0m\n",
      "\u001b[1;31mModuleNotFoundError\u001b[0m: No module named 'google.colab'"
     ]
    }
   ],
   "source": [
    "from google.colab import drive\n",
    "\n",
    "# Mount Google Drive\n",
    "drive.mount('/content/drive')\n",
    "\n",
    "# Implement me\n",
    "# Set working directory\n",
    "abspath = '/content/drive/My Drive/Colab Notebooks/NLP/NLP-Final-Project/NLP Project'"
   ]
  },
  {
   "cell_type": "code",
   "execution_count": 3,
   "metadata": {
    "colab": {
     "base_uri": "https://localhost:8080/",
     "height": 35
    },
    "id": "Agi00NzCwXjl",
    "outputId": "e1eebee7-238b-4c5a-bc22-2fe3eae62873"
   },
   "outputs": [
    {
     "ename": "NameError",
     "evalue": "name 'abspath' is not defined",
     "output_type": "error",
     "traceback": [
      "\u001b[1;31m---------------------------------------------------------------------------\u001b[0m",
      "\u001b[1;31mNameError\u001b[0m                                 Traceback (most recent call last)",
      "\u001b[1;32m<ipython-input-3-5a3e8227e430>\u001b[0m in \u001b[0;36m<module>\u001b[1;34m\u001b[0m\n\u001b[0;32m      1\u001b[0m \u001b[1;32mimport\u001b[0m \u001b[0mos\u001b[0m\u001b[1;33m\u001b[0m\u001b[1;33m\u001b[0m\u001b[0m\n\u001b[1;32m----> 2\u001b[1;33m \u001b[0mos\u001b[0m\u001b[1;33m.\u001b[0m\u001b[0mchdir\u001b[0m\u001b[1;33m(\u001b[0m\u001b[0mabspath\u001b[0m\u001b[1;33m)\u001b[0m\u001b[1;33m\u001b[0m\u001b[1;33m\u001b[0m\u001b[0m\n\u001b[0m\u001b[0;32m      3\u001b[0m \u001b[0mos\u001b[0m\u001b[1;33m.\u001b[0m\u001b[0mgetcwd\u001b[0m\u001b[1;33m(\u001b[0m\u001b[1;33m)\u001b[0m\u001b[1;33m\u001b[0m\u001b[1;33m\u001b[0m\u001b[0m\n",
      "\u001b[1;31mNameError\u001b[0m: name 'abspath' is not defined"
     ]
    }
   ],
   "source": [
    "import os\n",
    "os.chdir(abspath)\n",
    "os.getcwd()"
   ]
  },
  {
   "cell_type": "code",
   "execution_count": 4,
   "metadata": {
    "id": "fZtC62StKAUC"
   },
   "outputs": [],
   "source": [
    "import requests\n",
    "from bs4 import BeautifulSoup\n",
    "import pandas as pd\n",
    "from datetime import datetime\n",
    "import dateutil.parser"
   ]
  },
  {
   "cell_type": "code",
   "execution_count": 5,
   "metadata": {
    "id": "6-9soODBKAUC"
   },
   "outputs": [],
   "source": [
    "# dictionary of text dates and links (June 2020 to September 2020)\n",
    "\n",
    "date1 = '2020-07-10'\n",
    "url1 = 'https://www.reuters.com/article/us-usigrade-multiyears-idUSKBN24B2DO'\n",
    "\n",
    "date2 = '2020-07-14'\n",
    "url2 = 'https://www.reuters.com/article/us-usa-investors-gross-idUSKCN24F1EY'\n",
    "\n",
    "date3 = '2020-07-20'\n",
    "url3 = 'https://www.reuters.com/article/us-ibm-results/ibm-beats-estimates-sees-gains-as-customers-accelerate-shift-to-cloud-idUSKCN24L2L0'\n",
    "\n",
    "date4 = '2020-07-22'\n",
    "url4 = 'https://www.reuters.com/article/us-microsoft-results-idUSKCN24N2ST'\n",
    "\n",
    "date5 = '2020-08-04'\n",
    "url5 = 'https://www.reuters.com/article/usa-quantum-trump/white-house-unveils-new-partnership-to-boost-quantum-science-education-idINL1N2F70Q8'\n",
    "\n",
    "date6 = '2020-08-17'\n",
    "url6 = 'https://www.reuters.com/article/us-ibm-samsung-elec-idUSKCN25D09L'\n",
    "\n",
    "date7 = '2020-08-20'\n",
    "url7 = 'https://www.reuters.com/article/us-china-market-tech-idUSKCN25G0PU'\n",
    "\n",
    "date8 = '2020-08-26'\n",
    "url8 = 'https://www.reuters.com/article/us-usa-quantum-funding-idUSKBN25M0Y9'\n",
    "\n",
    "\n",
    "date9 = '2020-09-02'\n",
    "url9 = 'https://www.reuters.com/article/us-trump-social-media/internet-companies-urge-fcc-to-reject-trump-bid-to-impose-new-social-media-regulations-idUKKBN25T329'\n",
    "\n",
    "\n",
    "date10 = '2020-09-08'\n",
    "url10 = 'https://www.reuters.com/article/schlumberger-ibm-idUSL1N2G11I3'\n",
    "\n",
    "date11 = '2020-09-11'\n",
    "url11 = 'https://www.reuters.com/article/us-ibm-facial-recognition-exports-idUSKBN2621PV'\n",
    "\n",
    "date12 = '2020-09-16'\n",
    "url12 = 'https://in.reuters.com/article/dataprivacy-ibm-biometrics/ibm-cant-shake-facial-recognition-suit-but-dodges-some-claims-idUSL1N2GD2JP'\n",
    "\n",
    "\n",
    "date13 = '2020-10-08'\n",
    "url13 = 'https://uk.reuters.com/article/us-ibm-divestiture/ibm-to-break-up-109-year-old-company-to-focus-on-cloud-growth-idUKKBN26T1TZ'\n",
    "\n",
    "\n",
    "date14 = '2020-10-19'\n",
    "url14 = 'https://www.reuters.com/article/us-ibm-results/ibm-posts-double-digit-cloud-revenue-growth-says-customers-deferring-some-projects-idUSKBN2742QW'\n",
    "\n",
    "\n",
    "date15 = '2020-10-21'\n",
    "url15 = 'https://www.reuters.com/article/usa-stocks/us-stocks-stimulus-bets-drive-wall-street-higher-idINL4N2HB3N5'\n",
    "\n",
    "date16 = '2020-10-22'\n",
    "url16 = 'https://www.reuters.com/article/saudi-tech/saudi-arabia-signs-mous-with-ibm-alibaba-and-huawei-on-ai-idUSD5N2F800B'\n",
    "\n",
    "\n",
    "url_dict = {date1:url1,\n",
    "            date2:url2,\n",
    "            date3:url3,\n",
    "            date4:url4,\n",
    "            date5:url5,\n",
    "            date6:url6,\n",
    "            date7:url7,\n",
    "            date8:url8,\n",
    "            date9:url9,\n",
    "            date10:url10,\n",
    "            date11:url11,\n",
    "            date12:url12,\n",
    "            date13:url13,\n",
    "            date14:url14,\n",
    "            date15:url15,\n",
    "            date16:url16\n",
    "           }\n"
   ]
  },
  {
   "cell_type": "code",
   "execution_count": 6,
   "metadata": {
    "colab": {
     "base_uri": "https://localhost:8080/"
    },
    "id": "8w5TfKcKKAUC",
    "outputId": "e64afdaa-69f8-41df-e085-4ccea8543d6b"
   },
   "outputs": [
    {
     "name": "stdout",
     "output_type": "stream",
     "text": [
      "U.S. companies seeking capital during pandemic test bank market's new normal\n",
      "Bill Gross predicts value outperforms growth, based on rates correlation\n",
      "IBM beats estimates; sees gains as customers accelerate shift to cloud\n",
      "Microsoft cloud flagship posts first growth under 50%; bookings growth steady\n",
      "White House unveils new partnership to boost quantum science education\n",
      "IBM rolls out newest processor chip, taps Samsung for manufacturing\n",
      "In U.S.-China tech war, investors bet on China's localisation push\n",
      "U.S. to spend $625 million in five quantum information research hubs\n",
      "Internet companies urge FCC to reject Trump bid to impose new social media regulations\n",
      "Eying digital push, Schlumberger strikes cloud-computing deal with IBM\n",
      "IBM says U.S. should adopt new export controls on facial recognition systems\n",
      "IBM can't shake facial recognition suit but dodges some claims\n",
      "IBM to break up 109-year old company to focus on cloud growth\n",
      "IBM posts double-digit cloud revenue growth; says customers deferring some projects\n",
      "US STOCKS-Stimulus bets drive Wall Street higher\n",
      "Saudi Arabia signs MoUs with IBM, Alibaba and Huawei on AI\n"
     ]
    }
   ],
   "source": [
    "for key in url_dict:\n",
    "    page = requests.get(url_dict[key]).text\n",
    "    soup = BeautifulSoup(page, 'html.parser')\n",
    "    print(soup.find('h1').text)"
   ]
  },
  {
   "cell_type": "code",
   "execution_count": 7,
   "metadata": {
    "id": "KBjHM0VXKAUD"
   },
   "outputs": [],
   "source": [
    "# extract info from each website and store it in dataframe\n",
    "df_text = pd.DataFrame(columns = ['Date','Header','Text'])\n",
    "header = []\n",
    "text = []\n",
    "date = []\n",
    "for key in url_dict:\n",
    "    page = requests.get(url_dict[key]).text\n",
    "    soup = BeautifulSoup(page, 'html.parser')\n",
    "    date.append(datetime.strptime(key, '%Y-%m-%d').date())\n",
    "    url_header = soup.find('h1').text\n",
    "    \n",
    "    header.append(url_header)\n",
    "    url_text = soup.find('div', class_ = 'ArticleBodyWrapper').text\n",
    "    text.append(url_text)\n",
    "df_text['Date']=date\n",
    "df_text['Header']=header\n",
    "df_text['Text']=text\n",
    "\n",
    "# remove the author and \"min read\" sections\n",
    "df_text_temp = [] \n",
    "for text in df_text['Text']:\n",
    "    loc = text.find('(Reuters)')\n",
    "    df_text_temp.append(text[loc+9:])\n",
    "df_text['Text'] = df_text_temp\n",
    "\n"
   ]
  },
  {
   "cell_type": "code",
   "execution_count": 8,
   "metadata": {
    "colab": {
     "base_uri": "https://localhost:8080/",
     "height": 203
    },
    "id": "ZxYcrh5QKAUD",
    "outputId": "08c7e92b-a8c4-477e-9b37-4158456ea233"
   },
   "outputs": [
    {
     "data": {
      "text/html": [
       "<div>\n",
       "<style scoped>\n",
       "    .dataframe tbody tr th:only-of-type {\n",
       "        vertical-align: middle;\n",
       "    }\n",
       "\n",
       "    .dataframe tbody tr th {\n",
       "        vertical-align: top;\n",
       "    }\n",
       "\n",
       "    .dataframe thead th {\n",
       "        text-align: right;\n",
       "    }\n",
       "</style>\n",
       "<table border=\"1\" class=\"dataframe\">\n",
       "  <thead>\n",
       "    <tr style=\"text-align: right;\">\n",
       "      <th></th>\n",
       "      <th>Date</th>\n",
       "      <th>Header</th>\n",
       "      <th>Text</th>\n",
       "    </tr>\n",
       "  </thead>\n",
       "  <tbody>\n",
       "    <tr>\n",
       "      <th>0</th>\n",
       "      <td>2020-07-10</td>\n",
       "      <td>U.S. companies seeking capital during pandemic...</td>\n",
       "      <td>la  Guzman5 Min ReadNEW YORK (LPC) - Bank lend...</td>\n",
       "    </tr>\n",
       "    <tr>\n",
       "      <th>1</th>\n",
       "      <td>2020-07-14</td>\n",
       "      <td>Bill Gross predicts value outperforms growth, ...</td>\n",
       "      <td>- Billionaire investor Bill Gross is predicti...</td>\n",
       "    </tr>\n",
       "    <tr>\n",
       "      <th>2</th>\n",
       "      <td>2020-07-20</td>\n",
       "      <td>IBM beats estimates; sees gains as customers a...</td>\n",
       "      <td>- International Business Machines Corp IBM.N ...</td>\n",
       "    </tr>\n",
       "    <tr>\n",
       "      <th>3</th>\n",
       "      <td>2020-07-22</td>\n",
       "      <td>Microsoft cloud flagship posts first growth un...</td>\n",
       "      <td>- Microsoft Corp's MSFT.O flagship cloud comp...</td>\n",
       "    </tr>\n",
       "    <tr>\n",
       "      <th>4</th>\n",
       "      <td>2020-08-04</td>\n",
       "      <td>White House unveils new partnership to boost q...</td>\n",
       "      <td>- The White House Office of Science and Techn...</td>\n",
       "    </tr>\n",
       "  </tbody>\n",
       "</table>\n",
       "</div>"
      ],
      "text/plain": [
       "        Date  ...                                               Text\n",
       "0 2020-07-10  ...  la  Guzman5 Min ReadNEW YORK (LPC) - Bank lend...\n",
       "1 2020-07-14  ...   - Billionaire investor Bill Gross is predicti...\n",
       "2 2020-07-20  ...   - International Business Machines Corp IBM.N ...\n",
       "3 2020-07-22  ...   - Microsoft Corp's MSFT.O flagship cloud comp...\n",
       "4 2020-08-04  ...   - The White House Office of Science and Techn...\n",
       "\n",
       "[5 rows x 3 columns]"
      ]
     },
     "execution_count": 8,
     "metadata": {
      "tags": []
     },
     "output_type": "execute_result"
    }
   ],
   "source": [
    "df_text['Date'] = df_text['Date'].apply(lambda x: pd.to_datetime(x))\n",
    "df_text.head()"
   ]
  },
  {
   "cell_type": "code",
   "execution_count": 9,
   "metadata": {
    "colab": {
     "base_uri": "https://localhost:8080/",
     "height": 203
    },
    "id": "67t6bd5dKAUD",
    "outputId": "cc979609-bb9f-41b7-c806-8f92aba1c06d"
   },
   "outputs": [
    {
     "data": {
      "text/html": [
       "<div>\n",
       "<style scoped>\n",
       "    .dataframe tbody tr th:only-of-type {\n",
       "        vertical-align: middle;\n",
       "    }\n",
       "\n",
       "    .dataframe tbody tr th {\n",
       "        vertical-align: top;\n",
       "    }\n",
       "\n",
       "    .dataframe thead th {\n",
       "        text-align: right;\n",
       "    }\n",
       "</style>\n",
       "<table border=\"1\" class=\"dataframe\">\n",
       "  <thead>\n",
       "    <tr style=\"text-align: right;\">\n",
       "      <th></th>\n",
       "      <th>Date</th>\n",
       "      <th>Open</th>\n",
       "      <th>Volume</th>\n",
       "    </tr>\n",
       "  </thead>\n",
       "  <tbody>\n",
       "    <tr>\n",
       "      <th>0</th>\n",
       "      <td>2019-12-02</td>\n",
       "      <td>134.449997</td>\n",
       "      <td>3067100</td>\n",
       "    </tr>\n",
       "    <tr>\n",
       "      <th>1</th>\n",
       "      <td>2019-12-03</td>\n",
       "      <td>132.000000</td>\n",
       "      <td>3642500</td>\n",
       "    </tr>\n",
       "    <tr>\n",
       "      <th>2</th>\n",
       "      <td>2019-12-04</td>\n",
       "      <td>132.860001</td>\n",
       "      <td>3530000</td>\n",
       "    </tr>\n",
       "    <tr>\n",
       "      <th>3</th>\n",
       "      <td>2019-12-05</td>\n",
       "      <td>132.990005</td>\n",
       "      <td>3595400</td>\n",
       "    </tr>\n",
       "    <tr>\n",
       "      <th>4</th>\n",
       "      <td>2019-12-06</td>\n",
       "      <td>132.750000</td>\n",
       "      <td>3437500</td>\n",
       "    </tr>\n",
       "  </tbody>\n",
       "</table>\n",
       "</div>"
      ],
      "text/plain": [
       "        Date        Open   Volume\n",
       "0 2019-12-02  134.449997  3067100\n",
       "1 2019-12-03  132.000000  3642500\n",
       "2 2019-12-04  132.860001  3530000\n",
       "3 2019-12-05  132.990005  3595400\n",
       "4 2019-12-06  132.750000  3437500"
      ]
     },
     "execution_count": 9,
     "metadata": {
      "tags": []
     },
     "output_type": "execute_result"
    }
   ],
   "source": [
    "# import stock data of Zoom\n",
    "df_stock = pd.read_csv('IBM.csv', header=0)\n",
    "\n",
    "df_stock['Date']=df_stock['Date'].apply(lambda x: datetime.strptime(x, '%Y-%m-%d'))\n",
    "\n",
    "\n",
    "df_stock = df_stock.drop(['High','Low','Close','Adj Close'], axis=1)\n",
    "df_stock.head()"
   ]
  },
  {
   "cell_type": "code",
   "execution_count": 10,
   "metadata": {
    "colab": {
     "base_uri": "https://localhost:8080/"
    },
    "id": "Wo351NEyKAUD",
    "outputId": "715a76d4-a1be-484e-c82f-94cbdc02bed9"
   },
   "outputs": [
    {
     "data": {
      "text/plain": [
       "dtype('<M8[ns]')"
      ]
     },
     "execution_count": 10,
     "metadata": {
      "tags": []
     },
     "output_type": "execute_result"
    }
   ],
   "source": [
    "df_text['Date'].dtypes"
   ]
  },
  {
   "cell_type": "code",
   "execution_count": 11,
   "metadata": {
    "colab": {
     "base_uri": "https://localhost:8080/"
    },
    "id": "A3u-kujoKAUE",
    "outputId": "4295a45b-2132-4b99-d8d7-d9a716ba918e"
   },
   "outputs": [
    {
     "data": {
      "text/plain": [
       "dtype('<M8[ns]')"
      ]
     },
     "execution_count": 11,
     "metadata": {
      "tags": []
     },
     "output_type": "execute_result"
    }
   ],
   "source": [
    "df_stock['Date'].dtypes"
   ]
  },
  {
   "cell_type": "code",
   "execution_count": 12,
   "metadata": {
    "id": "7ju601zuKAUE"
   },
   "outputs": [],
   "source": [
    "# Merge two dataframes\n",
    "df = pd.merge(df_text, df_stock, how='inner', on='Date')\n",
    "df = df.sort_values('Date')"
   ]
  },
  {
   "cell_type": "code",
   "execution_count": 13,
   "metadata": {
    "colab": {
     "base_uri": "https://localhost:8080/",
     "height": 203
    },
    "id": "sYybIQmGKAUE",
    "outputId": "b4ba3678-572f-4da6-eefa-56c1e82e0ebb"
   },
   "outputs": [
    {
     "data": {
      "text/html": [
       "<div>\n",
       "<style scoped>\n",
       "    .dataframe tbody tr th:only-of-type {\n",
       "        vertical-align: middle;\n",
       "    }\n",
       "\n",
       "    .dataframe tbody tr th {\n",
       "        vertical-align: top;\n",
       "    }\n",
       "\n",
       "    .dataframe thead th {\n",
       "        text-align: right;\n",
       "    }\n",
       "</style>\n",
       "<table border=\"1\" class=\"dataframe\">\n",
       "  <thead>\n",
       "    <tr style=\"text-align: right;\">\n",
       "      <th></th>\n",
       "      <th>Date</th>\n",
       "      <th>Header</th>\n",
       "      <th>Text</th>\n",
       "      <th>Open</th>\n",
       "      <th>Volume</th>\n",
       "      <th>% Change in Stock Price</th>\n",
       "      <th>% Change in Volume</th>\n",
       "    </tr>\n",
       "  </thead>\n",
       "  <tbody>\n",
       "    <tr>\n",
       "      <th>0</th>\n",
       "      <td>2020-07-10</td>\n",
       "      <td>U.S. companies seeking capital during pandemic...</td>\n",
       "      <td>la  Guzman5 Min ReadNEW YORK (LPC) - Bank lend...</td>\n",
       "      <td>115.500000</td>\n",
       "      <td>4285700</td>\n",
       "      <td>NaN</td>\n",
       "      <td>NaN</td>\n",
       "    </tr>\n",
       "    <tr>\n",
       "      <th>1</th>\n",
       "      <td>2020-07-14</td>\n",
       "      <td>Bill Gross predicts value outperforms growth, ...</td>\n",
       "      <td>- Billionaire investor Bill Gross is predicti...</td>\n",
       "      <td>118.620003</td>\n",
       "      <td>4534400</td>\n",
       "      <td>2.701301</td>\n",
       "      <td>5.803019</td>\n",
       "    </tr>\n",
       "    <tr>\n",
       "      <th>2</th>\n",
       "      <td>2020-07-20</td>\n",
       "      <td>IBM beats estimates; sees gains as customers a...</td>\n",
       "      <td>- International Business Machines Corp IBM.N ...</td>\n",
       "      <td>126.070000</td>\n",
       "      <td>9927700</td>\n",
       "      <td>6.280557</td>\n",
       "      <td>118.941867</td>\n",
       "    </tr>\n",
       "    <tr>\n",
       "      <th>3</th>\n",
       "      <td>2020-07-22</td>\n",
       "      <td>Microsoft cloud flagship posts first growth un...</td>\n",
       "      <td>- Microsoft Corp's MSFT.O flagship cloud comp...</td>\n",
       "      <td>125.900002</td>\n",
       "      <td>8195400</td>\n",
       "      <td>-0.134844</td>\n",
       "      <td>-17.449157</td>\n",
       "    </tr>\n",
       "    <tr>\n",
       "      <th>4</th>\n",
       "      <td>2020-08-04</td>\n",
       "      <td>White House unveils new partnership to boost q...</td>\n",
       "      <td>- The White House Office of Science and Techn...</td>\n",
       "      <td>123.820000</td>\n",
       "      <td>3466100</td>\n",
       "      <td>-1.652106</td>\n",
       "      <td>-57.706762</td>\n",
       "    </tr>\n",
       "  </tbody>\n",
       "</table>\n",
       "</div>"
      ],
      "text/plain": [
       "        Date  ... % Change in Volume\n",
       "0 2020-07-10  ...                NaN\n",
       "1 2020-07-14  ...           5.803019\n",
       "2 2020-07-20  ...         118.941867\n",
       "3 2020-07-22  ...         -17.449157\n",
       "4 2020-08-04  ...         -57.706762\n",
       "\n",
       "[5 rows x 7 columns]"
      ]
     },
     "execution_count": 13,
     "metadata": {
      "tags": []
     },
     "output_type": "execute_result"
    }
   ],
   "source": [
    "# show % change in stock price after news article publish\n",
    "pct_stock = df['Open'].pct_change()*100\n",
    "df['% Change in Stock Price'] = pct_stock\n",
    "pct_volume = df['Volume'].pct_change()*100\n",
    "df['% Change in Volume'] = pct_volume\n",
    "df.head()"
   ]
  },
  {
   "cell_type": "markdown",
   "metadata": {
    "id": "HuvMBxgwKAUE"
   },
   "source": [
    "\n",
    "# Processing the text\n"
   ]
  },
  {
   "cell_type": "markdown",
   "metadata": {
    "id": "Q7sg7AoKKAUE"
   },
   "source": [
    "## import spacy libraries\n",
    "import spacy\n",
    "import en_core_web_sm\n",
    "from  spacy.lang.en.stop_words import STOP_WORDS\n",
    "nlp = spacy.load('en_core_web_sm')"
   ]
  },
  {
   "cell_type": "code",
   "execution_count": 14,
   "metadata": {
    "id": "XtXFYaQRKAUE"
   },
   "outputs": [],
   "source": [
    "# import spacy libraries\n",
    "import spacy\n",
    "import en_core_web_sm\n",
    "from  spacy.lang.en.stop_words import STOP_WORDS\n",
    "nlp = spacy.load('en_core_web_sm')"
   ]
  },
  {
   "cell_type": "code",
   "execution_count": 15,
   "metadata": {
    "id": "03M0Se0_KAUE"
   },
   "outputs": [],
   "source": [
    "\n",
    "text_nlp = nlp(df['Text'][1]) \n",
    "# Remove stop words\n",
    "text_nlp_clean = [word for word in text_nlp if word.is_stop == False]\n",
    "# Lemmatize words\n",
    "text_nlp_clean = [word.lemma_ for word in text_nlp_clean]"
   ]
  },
  {
   "cell_type": "code",
   "execution_count": 16,
   "metadata": {
    "colab": {
     "base_uri": "https://localhost:8080/",
     "height": 203
    },
    "id": "fsqGe8igKAUE",
    "outputId": "c070a786-d647-4470-dece-42f9ec73a5fa"
   },
   "outputs": [
    {
     "data": {
      "text/html": [
       "<div>\n",
       "<style scoped>\n",
       "    .dataframe tbody tr th:only-of-type {\n",
       "        vertical-align: middle;\n",
       "    }\n",
       "\n",
       "    .dataframe tbody tr th {\n",
       "        vertical-align: top;\n",
       "    }\n",
       "\n",
       "    .dataframe thead th {\n",
       "        text-align: right;\n",
       "    }\n",
       "</style>\n",
       "<table border=\"1\" class=\"dataframe\">\n",
       "  <thead>\n",
       "    <tr style=\"text-align: right;\">\n",
       "      <th></th>\n",
       "      <th>Date</th>\n",
       "      <th>Header</th>\n",
       "      <th>Text</th>\n",
       "      <th>Open</th>\n",
       "      <th>Volume</th>\n",
       "      <th>% Change in Stock Price</th>\n",
       "      <th>% Change in Volume</th>\n",
       "      <th>Text (clean)</th>\n",
       "    </tr>\n",
       "  </thead>\n",
       "  <tbody>\n",
       "    <tr>\n",
       "      <th>0</th>\n",
       "      <td>2020-07-10</td>\n",
       "      <td>U.S. companies seeking capital during pandemic...</td>\n",
       "      <td>la  Guzman5 Min ReadNEW YORK (LPC) - Bank lend...</td>\n",
       "      <td>115.500000</td>\n",
       "      <td>4285700</td>\n",
       "      <td>NaN</td>\n",
       "      <td>NaN</td>\n",
       "      <td>la Guzman5 Min ReadNEW YORK LPC Bank lender hi...</td>\n",
       "    </tr>\n",
       "    <tr>\n",
       "      <th>1</th>\n",
       "      <td>2020-07-14</td>\n",
       "      <td>Bill Gross predicts value outperforms growth, ...</td>\n",
       "      <td>- Billionaire investor Bill Gross is predicti...</td>\n",
       "      <td>118.620003</td>\n",
       "      <td>4534400</td>\n",
       "      <td>2.701301</td>\n",
       "      <td>5.803019</td>\n",
       "      <td>billionaire investor Bill Gross predict value ...</td>\n",
       "    </tr>\n",
       "    <tr>\n",
       "      <th>2</th>\n",
       "      <td>2020-07-20</td>\n",
       "      <td>IBM beats estimates; sees gains as customers a...</td>\n",
       "      <td>- International Business Machines Corp IBM.N ...</td>\n",
       "      <td>126.070000</td>\n",
       "      <td>9927700</td>\n",
       "      <td>6.280557</td>\n",
       "      <td>118.941867</td>\n",
       "      <td>International Business Machines Corp IBM.N bea...</td>\n",
       "    </tr>\n",
       "    <tr>\n",
       "      <th>3</th>\n",
       "      <td>2020-07-22</td>\n",
       "      <td>Microsoft cloud flagship posts first growth un...</td>\n",
       "      <td>- Microsoft Corp's MSFT.O flagship cloud comp...</td>\n",
       "      <td>125.900002</td>\n",
       "      <td>8195400</td>\n",
       "      <td>-0.134844</td>\n",
       "      <td>-17.449157</td>\n",
       "      <td>Microsoft Corp MSFT.O flagship cloud compute b...</td>\n",
       "    </tr>\n",
       "    <tr>\n",
       "      <th>4</th>\n",
       "      <td>2020-08-04</td>\n",
       "      <td>White House unveils new partnership to boost q...</td>\n",
       "      <td>- The White House Office of Science and Techn...</td>\n",
       "      <td>123.820000</td>\n",
       "      <td>3466100</td>\n",
       "      <td>-1.652106</td>\n",
       "      <td>-57.706762</td>\n",
       "      <td>White House Office Science Technology Policy s...</td>\n",
       "    </tr>\n",
       "  </tbody>\n",
       "</table>\n",
       "</div>"
      ],
      "text/plain": [
       "        Date  ...                                       Text (clean)\n",
       "0 2020-07-10  ...  la Guzman5 Min ReadNEW YORK LPC Bank lender hi...\n",
       "1 2020-07-14  ...  billionaire investor Bill Gross predict value ...\n",
       "2 2020-07-20  ...  International Business Machines Corp IBM.N bea...\n",
       "3 2020-07-22  ...  Microsoft Corp MSFT.O flagship cloud compute b...\n",
       "4 2020-08-04  ...  White House Office Science Technology Policy s...\n",
       "\n",
       "[5 rows x 8 columns]"
      ]
     },
     "execution_count": 16,
     "metadata": {
      "tags": []
     },
     "output_type": "execute_result"
    }
   ],
   "source": [
    "text_clean = []\n",
    "for ind, row in df.iterrows():\n",
    "    \n",
    "    # lower casing\n",
    "    text_lower = row['Text'].lower()\n",
    "    \n",
    "    # tokenization\n",
    "    text_nlp = nlp(row['Text']) \n",
    "    \n",
    "    # remove punctuation and empty space\n",
    "    text_nlp_clean = [word for word in text_nlp if not word.is_punct | word.is_space]\n",
    "    \n",
    "    # Remove stop words\n",
    "    text_nlp_clean = [word for word in text_nlp_clean if word.is_stop == False]\n",
    "    \n",
    "    # Lemmatize tokens\n",
    "    text_nlp_clean = [word.lemma_ for word in text_nlp_clean]\n",
    "    \n",
    "    # add preprocessed text to list\n",
    "    text_clean.append(text_nlp_clean)\n",
    "\n",
    "# turn list of strings to string\n",
    "to_string = []\n",
    "for text in text_clean:\n",
    "    to_string.append(' '.join(text))\n",
    "\n",
    "\n",
    "df['Text (clean)'] = to_string\n",
    "df.head()"
   ]
  },
  {
   "cell_type": "markdown",
   "metadata": {
    "id": "RFkZmAHpKAUE"
   },
   "source": [
    "# Using a Pretrained Model "
   ]
  },
  {
   "cell_type": "code",
   "execution_count": 17,
   "metadata": {
    "colab": {
     "base_uri": "https://localhost:8080/"
    },
    "id": "MyGLDr7NKAUE",
    "outputId": "6f5ac9bd-1cac-43d4-c4de-1d248530b8ca"
   },
   "outputs": [
    {
     "name": "stderr",
     "output_type": "stream",
     "text": [
      "/usr/local/lib/python3.6/dist-packages/nltk/twitter/__init__.py:20: UserWarning: The twython library has not been installed. Some functionality from the twitter package will not be available.\n",
      "  warnings.warn(\"The twython library has not been installed. \"\n"
     ]
    }
   ],
   "source": [
    "from nltk.sentiment import SentimentIntensityAnalyzer"
   ]
  },
  {
   "cell_type": "code",
   "execution_count": 19,
   "metadata": {
    "colab": {
     "base_uri": "https://localhost:8080/"
    },
    "id": "VCicB35mwug7",
    "outputId": "2a0ed3f0-c4b3-43ac-f287-53c847fa417c"
   },
   "outputs": [
    {
     "name": "stdout",
     "output_type": "stream",
     "text": [
      "[nltk_data] Downloading package vader_lexicon to /root/nltk_data...\n"
     ]
    },
    {
     "data": {
      "text/plain": [
       "True"
      ]
     },
     "execution_count": 19,
     "metadata": {
      "tags": []
     },
     "output_type": "execute_result"
    }
   ],
   "source": [
    "import nltk\n",
    "nltk.download('vader_lexicon')"
   ]
  },
  {
   "cell_type": "code",
   "execution_count": 20,
   "metadata": {
    "id": "UbC1BKVsKAUE"
   },
   "outputs": [],
   "source": [
    "# a function to return sentiment score\n",
    "def polarity_score(text):\n",
    "    sid = SentimentIntensityAnalyzer()\n",
    "    return sid.polarity_scores(text)['compound']\n",
    "\n",
    "vader_score = []\n",
    "for text in df['Text (clean)']:\n",
    "    score = polarity_score(text)\n",
    "    vader_score.append(score)\n",
    "\n",
    "df['Vader Sentiment Score'] = vader_score"
   ]
  },
  {
   "cell_type": "code",
   "execution_count": 21,
   "metadata": {
    "colab": {
     "base_uri": "https://localhost:8080/",
     "height": 203
    },
    "id": "dJhGvHxgKAUE",
    "outputId": "1d826e5c-9cc6-4088-978f-da92c3040839"
   },
   "outputs": [
    {
     "data": {
      "text/html": [
       "<div>\n",
       "<style scoped>\n",
       "    .dataframe tbody tr th:only-of-type {\n",
       "        vertical-align: middle;\n",
       "    }\n",
       "\n",
       "    .dataframe tbody tr th {\n",
       "        vertical-align: top;\n",
       "    }\n",
       "\n",
       "    .dataframe thead th {\n",
       "        text-align: right;\n",
       "    }\n",
       "</style>\n",
       "<table border=\"1\" class=\"dataframe\">\n",
       "  <thead>\n",
       "    <tr style=\"text-align: right;\">\n",
       "      <th></th>\n",
       "      <th>Date</th>\n",
       "      <th>Header</th>\n",
       "      <th>Text</th>\n",
       "      <th>Open</th>\n",
       "      <th>Volume</th>\n",
       "      <th>% Change in Stock Price</th>\n",
       "      <th>% Change in Volume</th>\n",
       "      <th>Text (clean)</th>\n",
       "      <th>Vader Sentiment Score</th>\n",
       "    </tr>\n",
       "  </thead>\n",
       "  <tbody>\n",
       "    <tr>\n",
       "      <th>0</th>\n",
       "      <td>2020-07-10</td>\n",
       "      <td>U.S. companies seeking capital during pandemic...</td>\n",
       "      <td>la  Guzman5 Min ReadNEW YORK (LPC) - Bank lend...</td>\n",
       "      <td>115.500000</td>\n",
       "      <td>4285700</td>\n",
       "      <td>NaN</td>\n",
       "      <td>NaN</td>\n",
       "      <td>la Guzman5 Min ReadNEW YORK LPC Bank lender hi...</td>\n",
       "      <td>0.9963</td>\n",
       "    </tr>\n",
       "    <tr>\n",
       "      <th>1</th>\n",
       "      <td>2020-07-14</td>\n",
       "      <td>Bill Gross predicts value outperforms growth, ...</td>\n",
       "      <td>- Billionaire investor Bill Gross is predicti...</td>\n",
       "      <td>118.620003</td>\n",
       "      <td>4534400</td>\n",
       "      <td>2.701301</td>\n",
       "      <td>5.803019</td>\n",
       "      <td>billionaire investor Bill Gross predict value ...</td>\n",
       "      <td>0.9843</td>\n",
       "    </tr>\n",
       "    <tr>\n",
       "      <th>2</th>\n",
       "      <td>2020-07-20</td>\n",
       "      <td>IBM beats estimates; sees gains as customers a...</td>\n",
       "      <td>- International Business Machines Corp IBM.N ...</td>\n",
       "      <td>126.070000</td>\n",
       "      <td>9927700</td>\n",
       "      <td>6.280557</td>\n",
       "      <td>118.941867</td>\n",
       "      <td>International Business Machines Corp IBM.N bea...</td>\n",
       "      <td>0.8020</td>\n",
       "    </tr>\n",
       "    <tr>\n",
       "      <th>3</th>\n",
       "      <td>2020-07-22</td>\n",
       "      <td>Microsoft cloud flagship posts first growth un...</td>\n",
       "      <td>- Microsoft Corp's MSFT.O flagship cloud comp...</td>\n",
       "      <td>125.900002</td>\n",
       "      <td>8195400</td>\n",
       "      <td>-0.134844</td>\n",
       "      <td>-17.449157</td>\n",
       "      <td>Microsoft Corp MSFT.O flagship cloud compute b...</td>\n",
       "      <td>0.9849</td>\n",
       "    </tr>\n",
       "    <tr>\n",
       "      <th>4</th>\n",
       "      <td>2020-08-04</td>\n",
       "      <td>White House unveils new partnership to boost q...</td>\n",
       "      <td>- The White House Office of Science and Techn...</td>\n",
       "      <td>123.820000</td>\n",
       "      <td>3466100</td>\n",
       "      <td>-1.652106</td>\n",
       "      <td>-57.706762</td>\n",
       "      <td>White House Office Science Technology Policy s...</td>\n",
       "      <td>0.9100</td>\n",
       "    </tr>\n",
       "  </tbody>\n",
       "</table>\n",
       "</div>"
      ],
      "text/plain": [
       "        Date  ... Vader Sentiment Score\n",
       "0 2020-07-10  ...                0.9963\n",
       "1 2020-07-14  ...                0.9843\n",
       "2 2020-07-20  ...                0.8020\n",
       "3 2020-07-22  ...                0.9849\n",
       "4 2020-08-04  ...                0.9100\n",
       "\n",
       "[5 rows x 9 columns]"
      ]
     },
     "execution_count": 21,
     "metadata": {
      "tags": []
     },
     "output_type": "execute_result"
    }
   ],
   "source": [
    "df.head()"
   ]
  },
  {
   "cell_type": "markdown",
   "metadata": {
    "id": "LkZS4-bPKAUE"
   },
   "source": [
    "## Sentiment Analysis"
   ]
  },
  {
   "cell_type": "code",
   "execution_count": 22,
   "metadata": {
    "id": "FvdSV61lKAUE"
   },
   "outputs": [],
   "source": [
    "# run this cell to import nltk\n",
    "import nltk\n",
    "from os import getcwd\n",
    "import numpy as np\n",
    "import pandas as pd\n",
    "from nltk.corpus import twitter_samples \n",
    "from utils import process_tweet, build_freqs"
   ]
  },
  {
   "cell_type": "code",
   "execution_count": 23,
   "metadata": {
    "colab": {
     "base_uri": "https://localhost:8080/"
    },
    "id": "mX42Hu77KAUE",
    "outputId": "9b26e394-e591-45f2-e734-eca12fad75d2"
   },
   "outputs": [
    {
     "name": "stdout",
     "output_type": "stream",
     "text": [
      "[nltk_data] Downloading package twitter_samples to /root/nltk_data...\n",
      "[nltk_data]   Unzipping corpora/twitter_samples.zip.\n",
      "[nltk_data] Downloading package stopwords to /root/nltk_data...\n",
      "[nltk_data]   Unzipping corpora/stopwords.zip.\n"
     ]
    },
    {
     "data": {
      "text/plain": [
       "True"
      ]
     },
     "execution_count": 23,
     "metadata": {
      "tags": []
     },
     "output_type": "execute_result"
    }
   ],
   "source": [
    "nltk.download('twitter_samples')\n",
    "nltk.download('stopwords')"
   ]
  },
  {
   "cell_type": "code",
   "execution_count": 24,
   "metadata": {
    "id": "92mXvGeHKAUE"
   },
   "outputs": [],
   "source": [
    "\n",
    "# select the set of positive and negative tweets\n",
    "all_positive_tweets = twitter_samples.strings('positive_tweets.json')\n",
    "all_negative_tweets = twitter_samples.strings('negative_tweets.json')"
   ]
  },
  {
   "cell_type": "code",
   "execution_count": 25,
   "metadata": {
    "id": "nMMDGQ75KAUE"
   },
   "outputs": [],
   "source": [
    "# split the data into two pieces (80-20), one for training and one for testing (validation set)  \n",
    "test_pos = all_positive_tweets[4000:]\n",
    "train_pos = all_positive_tweets[:4000]\n",
    "test_neg = all_negative_tweets[4000:]\n",
    "train_neg = all_negative_tweets[:4000]\n",
    "\n",
    "train_x = train_pos + train_neg \n",
    "test_x = test_pos + test_neg"
   ]
  },
  {
   "cell_type": "code",
   "execution_count": 26,
   "metadata": {
    "id": "ZXLAsWueKAUE"
   },
   "outputs": [],
   "source": [
    "# combine positive and negative labels\n",
    "train_y = np.append(np.ones((len(train_pos), 1)), np.zeros((len(train_neg), 1)), axis=0)\n",
    "test_y = np.append(np.ones((len(test_pos), 1)), np.zeros((len(test_neg), 1)), axis=0)"
   ]
  },
  {
   "cell_type": "code",
   "execution_count": 27,
   "metadata": {
    "colab": {
     "base_uri": "https://localhost:8080/"
    },
    "id": "1hjdljIOKAUE",
    "outputId": "c230feda-b28f-4899-e0cc-eee1141de7a4"
   },
   "outputs": [
    {
     "name": "stdout",
     "output_type": "stream",
     "text": [
      "train_y.shape = (8000, 1)\n",
      "test_y.shape = (2000, 1)\n"
     ]
    }
   ],
   "source": [
    "# Print the shape train and test sets\n",
    "print(\"train_y.shape = \" + str(train_y.shape))\n",
    "print(\"test_y.shape = \" + str(test_y.shape))"
   ]
  },
  {
   "cell_type": "code",
   "execution_count": 28,
   "metadata": {
    "colab": {
     "base_uri": "https://localhost:8080/"
    },
    "id": "aIIUFWCIKAUE",
    "outputId": "69cc3055-44f8-4f1d-9f73-ca299e01bb62"
   },
   "outputs": [
    {
     "name": "stdout",
     "output_type": "stream",
     "text": [
      "type(freqs) = <class 'dict'>\n",
      "len(freqs) = 11346\n"
     ]
    }
   ],
   "source": [
    "# create frequency dictionary\n",
    "freqs = build_freqs(train_x, train_y)\n",
    "\n",
    "# check the output\n",
    "print(\"type(freqs) = \" + str(type(freqs)))\n",
    "print(\"len(freqs) = \" + str(len(freqs.keys())))"
   ]
  },
  {
   "cell_type": "code",
   "execution_count": 29,
   "metadata": {
    "id": "npWKnGgQKAUF"
   },
   "outputs": [],
   "source": [
    "# UNQ_C3 (UNIQUE CELL IDENTIFIER, DO NOT EDIT)\n",
    "def extract_features(tweet, freqs):\n",
    "    '''\n",
    "    Input: \n",
    "        tweet: a list of words for one tweet\n",
    "        freqs: a dictionary corresponding to the frequencies of each tuple (word, label)\n",
    "    Output: \n",
    "        x: a feature vector of dimension (1,3)\n",
    "    '''\n",
    "    # process_tweet tokenizes, stems, and removes stopwords\n",
    "    word_l = process_tweet(tweet)\n",
    "    \n",
    "    # 3 elements in the form of a 1 x 3 vector\n",
    "    x = np.zeros((1, 3)) \n",
    "    \n",
    "    #bias term is set to 1\n",
    "    x[0,0] = 1 \n",
    "    \n",
    "    ### START CODE HERE (REPLACE INSTANCES OF 'None' with your code) ###\n",
    "    \n",
    "    # loop through each word in the list of words\n",
    "    for word in word_l:\n",
    "        \n",
    "        # increment the word count for the positive label 1\n",
    "        \n",
    "        x[0,1] += freqs.get((word,1),0)\n",
    "        \n",
    "        # increment the word count for the negative label 0\n",
    "        x[0,2] += freqs.get((word,0),0)\n",
    "        \n",
    "    ### END CODE HERE ###\n",
    "    assert(x.shape == (1, 3))\n",
    "    return x"
   ]
  },
  {
   "cell_type": "code",
   "execution_count": 30,
   "metadata": {
    "id": "dxSR4HEvKAUF"
   },
   "outputs": [],
   "source": [
    "# collect the features 'x' and stack them into a matrix 'X'\n",
    "X = np.zeros((len(train_x), 3))\n",
    "for i in range(len(train_x)):\n",
    "    X[i, :]= extract_features(train_x[i], freqs)\n",
    "\n",
    "# training labels corresponding to X\n",
    "Y = train_y"
   ]
  },
  {
   "cell_type": "code",
   "execution_count": 31,
   "metadata": {
    "colab": {
     "base_uri": "https://localhost:8080/"
    },
    "id": "2YKi_T3oKAUF",
    "outputId": "f7951b40-aff0-4405-e4b1-77d699dab998"
   },
   "outputs": [
    {
     "data": {
      "text/plain": [
       "(8000, 1)"
      ]
     },
     "execution_count": 31,
     "metadata": {
      "tags": []
     },
     "output_type": "execute_result"
    }
   ],
   "source": [
    "Y.shape"
   ]
  },
  {
   "cell_type": "markdown",
   "metadata": {
    "id": "s3FLQ0pMKAUF"
   },
   "source": [
    "### SVM Parameters"
   ]
  },
  {
   "cell_type": "code",
   "execution_count": 32,
   "metadata": {
    "colab": {
     "base_uri": "https://localhost:8080/"
    },
    "id": "5jL-Py2oKAUF",
    "outputId": "3eaed001-801a-4777-cf0e-bdb656effb23"
   },
   "outputs": [
    {
     "name": "stderr",
     "output_type": "stream",
     "text": [
      "/usr/local/lib/python3.6/dist-packages/sklearn/utils/validation.py:760: DataConversionWarning: A column-vector y was passed when a 1d array was expected. Please change the shape of y to (n_samples, ), for example using ravel().\n",
      "  y = column_or_1d(y, warn=True)\n"
     ]
    },
    {
     "data": {
      "text/plain": [
       "LogisticRegression(C=1.0, class_weight=None, dual=False, fit_intercept=True,\n",
       "                   intercept_scaling=1, l1_ratio=None, max_iter=100,\n",
       "                   multi_class='auto', n_jobs=None, penalty='l2',\n",
       "                   random_state=0, solver='lbfgs', tol=0.0001, verbose=0,\n",
       "                   warm_start=False)"
      ]
     },
     "execution_count": 32,
     "metadata": {
      "tags": []
     },
     "output_type": "execute_result"
    }
   ],
   "source": [
    "# Fitting Logistic Regression to the Training set\n",
    "from sklearn.linear_model import LogisticRegression\n",
    "classifier = LogisticRegression(random_state = 0)\n",
    "classifier.fit(X, Y)\n"
   ]
  },
  {
   "cell_type": "code",
   "execution_count": 33,
   "metadata": {
    "id": "a2t6OnL8KAUF"
   },
   "outputs": [],
   "source": [
    "\n",
    "# UNQ_C4 (UNIQUE CELL IDENTIFIER, DO NOT EDIT)\n",
    "def predict_tweet(tweet, freqs):\n",
    "    '''\n",
    "    Input: \n",
    "        tweet: a string\n",
    "        freqs: a dictionary corresponding to the frequencies of each tuple (word, label)\n",
    "        theta: (3,1) vector of weights\n",
    "    Output: \n",
    "        y_pred: the probability of a tweet being positive or negative\n",
    "    '''\n",
    "    ### START CODE HERE (REPLACE INSTANCES OF 'None' with your code) ###\n",
    "    \n",
    "    # extract the features of the tweet and store it into x\n",
    "    x = extract_features(tweet,freqs)\n",
    "    \n",
    "    # make the prediction using x and theta\n",
    "    y_pred = classifier.predict(x)\n",
    "    \n",
    "    ### END CODE HERE ###\n",
    "    \n",
    "    return y_pred"
   ]
  },
  {
   "cell_type": "code",
   "execution_count": 34,
   "metadata": {
    "id": "eRD5jfpzKAUF"
   },
   "outputs": [],
   "source": [
    "# UNQ_C4 (UNIQUE CELL IDENTIFIER, DO NOT EDIT)\n",
    "def predict_tweet_prob(tweet, freqs):\n",
    "    '''\n",
    "    Input: \n",
    "        tweet: a string\n",
    "        freqs: a dictionary corresponding to the frequencies of each tuple (word, label)\n",
    "        theta: (3,1) vector of weights\n",
    "    Output: \n",
    "        y_pred: the probability of a tweet being positive or negative\n",
    "    '''\n",
    "    ### START CODE HERE (REPLACE INSTANCES OF 'None' with your code) ###\n",
    "    \n",
    "    # extract the features of the tweet and store it into x\n",
    "    x = extract_features(tweet,freqs)\n",
    "    \n",
    "    # make the prediction using x and theta\n",
    "    y_pred = classifier.predict_proba(x)\n",
    "    \n",
    "    ### END CODE HERE ###\n",
    "    \n",
    "    return y_pred"
   ]
  },
  {
   "cell_type": "code",
   "execution_count": 35,
   "metadata": {
    "colab": {
     "base_uri": "https://localhost:8080/"
    },
    "id": "sHbpi3sOKAUF",
    "outputId": "2c5312bd-8347-48ae-b901-ad30aac19995"
   },
   "outputs": [
    {
     "data": {
      "text/plain": [
       "array([0.])"
      ]
     },
     "execution_count": 35,
     "metadata": {
      "tags": []
     },
     "output_type": "execute_result"
    }
   ],
   "source": [
    "\n",
    "my_tweet = 'The plot was terrible and I was sad until the ending!'\n",
    "predict_tweet(my_tweet, freqs)"
   ]
  },
  {
   "cell_type": "code",
   "execution_count": 36,
   "metadata": {
    "id": "sCWC7r4ywUZs"
   },
   "outputs": [],
   "source": [
    "sentiment = []\n",
    "sentiment_prob = []\n",
    "for i in df.iloc[:,2]:\n",
    "    sentiment.append(predict_tweet(i, freqs)[0])\n",
    "    sentiment_prob.append(predict_tweet_prob(i, freqs)[0][1])"
   ]
  },
  {
   "cell_type": "code",
   "execution_count": 37,
   "metadata": {
    "colab": {
     "base_uri": "https://localhost:8080/",
     "height": 305
    },
    "id": "P1m_DYjPwUZs",
    "outputId": "ef190420-79a0-493b-9199-018e683ad902"
   },
   "outputs": [
    {
     "data": {
      "text/html": [
       "<div>\n",
       "<style scoped>\n",
       "    .dataframe tbody tr th:only-of-type {\n",
       "        vertical-align: middle;\n",
       "    }\n",
       "\n",
       "    .dataframe tbody tr th {\n",
       "        vertical-align: top;\n",
       "    }\n",
       "\n",
       "    .dataframe thead th {\n",
       "        text-align: right;\n",
       "    }\n",
       "</style>\n",
       "<table border=\"1\" class=\"dataframe\">\n",
       "  <thead>\n",
       "    <tr style=\"text-align: right;\">\n",
       "      <th></th>\n",
       "      <th>Date</th>\n",
       "      <th>Header</th>\n",
       "      <th>Text</th>\n",
       "      <th>Open</th>\n",
       "      <th>Volume</th>\n",
       "      <th>% Change in Stock Price</th>\n",
       "      <th>% Change in Volume</th>\n",
       "      <th>Text (clean)</th>\n",
       "      <th>Vader Sentiment Score</th>\n",
       "      <th>sentiment</th>\n",
       "      <th>sentiment_prob</th>\n",
       "    </tr>\n",
       "  </thead>\n",
       "  <tbody>\n",
       "    <tr>\n",
       "      <th>0</th>\n",
       "      <td>2020-07-10</td>\n",
       "      <td>U.S. companies seeking capital during pandemic...</td>\n",
       "      <td>la  Guzman5 Min ReadNEW YORK (LPC) - Bank lend...</td>\n",
       "      <td>115.500000</td>\n",
       "      <td>4285700</td>\n",
       "      <td>NaN</td>\n",
       "      <td>NaN</td>\n",
       "      <td>la Guzman5 Min ReadNEW YORK LPC Bank lender hi...</td>\n",
       "      <td>0.9963</td>\n",
       "      <td>1.0</td>\n",
       "      <td>0.987273</td>\n",
       "    </tr>\n",
       "    <tr>\n",
       "      <th>1</th>\n",
       "      <td>2020-07-14</td>\n",
       "      <td>Bill Gross predicts value outperforms growth, ...</td>\n",
       "      <td>- Billionaire investor Bill Gross is predicti...</td>\n",
       "      <td>118.620003</td>\n",
       "      <td>4534400</td>\n",
       "      <td>2.701301</td>\n",
       "      <td>5.803019</td>\n",
       "      <td>billionaire investor Bill Gross predict value ...</td>\n",
       "      <td>0.9843</td>\n",
       "      <td>0.0</td>\n",
       "      <td>0.415587</td>\n",
       "    </tr>\n",
       "    <tr>\n",
       "      <th>2</th>\n",
       "      <td>2020-07-20</td>\n",
       "      <td>IBM beats estimates; sees gains as customers a...</td>\n",
       "      <td>- International Business Machines Corp IBM.N ...</td>\n",
       "      <td>126.070000</td>\n",
       "      <td>9927700</td>\n",
       "      <td>6.280557</td>\n",
       "      <td>118.941867</td>\n",
       "      <td>International Business Machines Corp IBM.N bea...</td>\n",
       "      <td>0.8020</td>\n",
       "      <td>0.0</td>\n",
       "      <td>0.110343</td>\n",
       "    </tr>\n",
       "    <tr>\n",
       "      <th>3</th>\n",
       "      <td>2020-07-22</td>\n",
       "      <td>Microsoft cloud flagship posts first growth un...</td>\n",
       "      <td>- Microsoft Corp's MSFT.O flagship cloud comp...</td>\n",
       "      <td>125.900002</td>\n",
       "      <td>8195400</td>\n",
       "      <td>-0.134844</td>\n",
       "      <td>-17.449157</td>\n",
       "      <td>Microsoft Corp MSFT.O flagship cloud compute b...</td>\n",
       "      <td>0.9849</td>\n",
       "      <td>0.0</td>\n",
       "      <td>0.011617</td>\n",
       "    </tr>\n",
       "    <tr>\n",
       "      <th>4</th>\n",
       "      <td>2020-08-04</td>\n",
       "      <td>White House unveils new partnership to boost q...</td>\n",
       "      <td>- The White House Office of Science and Techn...</td>\n",
       "      <td>123.820000</td>\n",
       "      <td>3466100</td>\n",
       "      <td>-1.652106</td>\n",
       "      <td>-57.706762</td>\n",
       "      <td>White House Office Science Technology Policy s...</td>\n",
       "      <td>0.9100</td>\n",
       "      <td>1.0</td>\n",
       "      <td>0.707661</td>\n",
       "    </tr>\n",
       "  </tbody>\n",
       "</table>\n",
       "</div>"
      ],
      "text/plain": [
       "        Date  ... sentiment_prob\n",
       "0 2020-07-10  ...       0.987273\n",
       "1 2020-07-14  ...       0.415587\n",
       "2 2020-07-20  ...       0.110343\n",
       "3 2020-07-22  ...       0.011617\n",
       "4 2020-08-04  ...       0.707661\n",
       "\n",
       "[5 rows x 11 columns]"
      ]
     },
     "execution_count": 37,
     "metadata": {
      "tags": []
     },
     "output_type": "execute_result"
    }
   ],
   "source": [
    "df['sentiment'] = sentiment\n",
    "df['sentiment_prob'] = sentiment_prob\n",
    "df.head()"
   ]
  },
  {
   "cell_type": "markdown",
   "metadata": {
    "id": "UZFEPU2mKIDD"
   },
   "source": [
    "# START OF DEEP LEARNING"
   ]
  },
  {
   "cell_type": "code",
   "execution_count": 38,
   "metadata": {
    "colab": {
     "base_uri": "https://localhost:8080/"
    },
    "id": "85yFtJzFKCny",
    "outputId": "b302e71b-a77c-4afc-fca7-8e5ba32ca088"
   },
   "outputs": [
    {
     "name": "stderr",
     "output_type": "stream",
     "text": [
      "/usr/local/lib/python3.6/dist-packages/ipykernel_launcher.py:4: FutureWarning: Passing a negative integer is deprecated in version 1.0 and will not be supported in future version. Instead, use None to not limit the column width.\n",
      "  after removing the cwd from sys.path.\n"
     ]
    },
    {
     "name": "stdout",
     "output_type": "stream",
     "text": [
      "[nltk_data] Downloading package punkt to /root/nltk_data...\n",
      "[nltk_data]   Unzipping tokenizers/punkt.zip.\n"
     ]
    },
    {
     "data": {
      "text/plain": [
       "True"
      ]
     },
     "execution_count": 38,
     "metadata": {
      "tags": []
     },
     "output_type": "execute_result"
    }
   ],
   "source": [
    "import sklearn\n",
    "import numpy as np\n",
    "import pandas as pd\n",
    "pd.set_option('display.max_colwidth', -1)\n",
    "import sklearn\n",
    "import sklearn.ensemble\n",
    "from sklearn.metrics import accuracy_score, confusion_matrix\n",
    "import sklearn.metrics\n",
    "import tensorflow as tf\n",
    "from scipy.special import softmax\n",
    "import os\n",
    "import numpy as np\n",
    "import pandas as pd\n",
    "import json\n",
    "import torch\n",
    "import torch.nn as nn\n",
    "import nltk\n",
    "from tqdm import tqdm\n",
    "import spacy\n",
    "import torch\n",
    "import torchtext\n",
    "import torchtext.data\n",
    "import torch.nn as nn\n",
    "import torch.nn.functional as F\n",
    "from scipy.special import softmax\n",
    "from torchtext.vocab import Vocab\n",
    "from nltk.corpus import twitter_samples \n",
    "\n",
    "nlp = spacy.load('en')\n",
    "nltk.download('punkt')"
   ]
  },
  {
   "cell_type": "code",
   "execution_count": 39,
   "metadata": {
    "id": "yPSzmuAbKD3K"
   },
   "outputs": [],
   "source": [
    "device = torch.device(\"cuda\" if torch.cuda.is_available() else \"cpu\")\n",
    "torch.manual_seed(42)\n",
    "np.random.seed(42)\n",
    "torch.backends.cudnn.deterministic = True\n",
    "torch.backends.cudnn.benchmark = False"
   ]
  },
  {
   "cell_type": "code",
   "execution_count": 40,
   "metadata": {
    "id": "edd7m2cOKERb"
   },
   "outputs": [],
   "source": [
    "# %% ----------------------------------- Hyper Parameters --------------------------------------------------------------\n",
    "class Args:\n",
    "    def __init__(self):\n",
    "        self.seq_len = \"get_max_from_data\"\n",
    "        self.embedding_dim = 50\n",
    "        self.n_epochs = 10\n",
    "        self.lr = 1e-2\n",
    "        self.batch_size = 512\n",
    "        self.train = True\n",
    "        self.save_model = True\n",
    "\n",
    "\n",
    "args = Args()"
   ]
  },
  {
   "cell_type": "code",
   "execution_count": 60,
   "metadata": {
    "id": "0ORR7LJSKED7"
   },
   "outputs": [],
   "source": [
    "# %% ----------------------------------- Helper Functions --------------------------------------------------------------\n",
    "def acc(x, y, return_labels=False):\n",
    "    with torch.no_grad():\n",
    "        logits = torch.empty(len(x), 2)\n",
    "        for batch in range(len(x) // args.batch_size + 1):\n",
    "            inds = slice(batch * args.batch_size, (batch + 1) * args.batch_size)\n",
    "            logits[inds] = model(x[inds])\n",
    "        pred_labels = np.argmax(logits.cpu().numpy(), axis=1)\n",
    "    if return_labels:\n",
    "        return pred_labels\n",
    "    else:\n",
    "        return 100*accuracy_score(y.cpu().numpy(), pred_labels)\n",
    "\n",
    "\n",
    "def extract_vocab_dict_and_msl(sentences_train, sentences_dev):\n",
    "    \"\"\" Tokenizes all the sentences and gets a dictionary of unique tokens and also the maximum sequence length \"\"\"\n",
    "    tokens, ms_len = [], 0\n",
    "    for sentence in list(sentences_train) + list(sentences_dev):\n",
    "        tokens_in_sentence = nltk.word_tokenize(sentence)\n",
    "        if ms_len < len(tokens_in_sentence):\n",
    "            ms_len = len(tokens_in_sentence)\n",
    "        tokens += tokens_in_sentence\n",
    "    token_vocab = {key: i for key, i in zip(set(tokens), range(1, len(set(tokens))+1))}\n",
    "    if len(np.unique(list(token_vocab.values()))) != len(token_vocab):\n",
    "        \"There are some rep words...\"\n",
    "    return token_vocab, ms_len\n",
    "\n",
    "\n",
    "def convert_to_ids(raw_sentences, vocab_dict, pad_to):\n",
    "    \"\"\" Takes an NumPy array of raw text sentences and converts to a sequence of token ids \"\"\"\n",
    "    x = np.empty((len(raw_sentences), pad_to))\n",
    "    for idx, sentence in enumerate(raw_sentences):\n",
    "        word_ids = []\n",
    "        for token in nltk.word_tokenize(sentence):\n",
    "\n",
    "            if token not in vocab_dict.keys():\n",
    "              continue \n",
    "              \n",
    "            try:\n",
    "                word_ids.append(vocab_dict[token])\n",
    "            except:\n",
    "                word_ids.append(vocab_dict[token])\n",
    "        if pad_to < len(word_ids):\n",
    "            x[idx] = word_ids[:pad_to]\n",
    "        else:\n",
    "            x[idx] = word_ids + [0] * (pad_to - len(word_ids))\n",
    "    return x\n",
    "\n",
    "\n",
    "def get_glove_embeddings(vocab_dict):\n",
    "    with open(\"glove.6B.50d.txt\", \"r\") as s:\n",
    "        glove = s.read()\n",
    "    embeddings_dict = {}\n",
    "    for line in glove.split(\"\\n\")[:-1]:\n",
    "        text = line.split()\n",
    "        if text[0] in vocab_dict:\n",
    "            embeddings_dict[vocab_dict[text[0]]] = torch.from_numpy(np.array(text[1:], dtype=\"float32\"))\n",
    "    return embeddings_dict\n",
    "\n",
    "\n",
    "def get_glove_table(vocab_dict, glove_dict):\n",
    "    lookup_table = torch.empty((len(vocab_dict)+2, 50))\n",
    "    for token_id in sorted(vocab_dict.values()):\n",
    "        if token_id in glove_dict:\n",
    "            lookup_table[token_id] = glove_dict[token_id]\n",
    "        else:\n",
    "            lookup_table[token_id] = torch.zeros((1, 50))  # For unknown tokens\n",
    "    lookup_table[0] = torch.zeros((1, 50))\n",
    "    return lookup_table\n",
    "\n"
   ]
  },
  {
   "cell_type": "code",
   "execution_count": 42,
   "metadata": {
    "id": "qxRkhvHCKDq6"
   },
   "outputs": [],
   "source": [
    "data_train = pd.read_csv(\"original_data/train.tsv\", sep=\"\\t\")\n",
    "x_train_raw, y_train = data_train[\"sentence\"].values, torch.LongTensor(data_train[\"label\"].values).to(device)\n",
    "data_dev = pd.read_csv(\"original_data/dev.tsv\", sep=\"\\t\")\n",
    "x_dev_raw, y_dev = data_dev[\"sentence\"].values, torch.LongTensor(data_dev[\"label\"].values).to(device)\n"
   ]
  },
  {
   "cell_type": "code",
   "execution_count": 43,
   "metadata": {
    "id": "QygYJtQXKQgP"
   },
   "outputs": [],
   "source": [
    "# %% -------------------------------------- Data Prep ------------------------------------------------------------------\n",
    "try:\n",
    "    with open(\"example_prep_data/vocab_dict.json\", \"r\") as s:\n",
    "        token_ids = json.load(s)\n",
    "    msl = np.load(\"example_prep_data/max_sequence_length.npy\").item()\n",
    "except:\n",
    "    print(\"Tokenizing all the examples to get a vocab dict and the maximum sequence length...\")\n",
    "    token_ids, msl = extract_vocab_dict_and_msl(x_train_raw, x_dev_raw)\n",
    "    os.mkdir(\"example_prep_data\")\n",
    "    with open(\"example_prep_data/vocab_dict.json\", \"w\") as s:\n",
    "        json.dump(token_ids, s)\n",
    "    np.save(\"example_prep_data/max_sequence_length.npy\", np.array([msl]))\n",
    "if args.seq_len == \"get_max_from_data\":\n",
    "    args.seq_len = msl\n",
    "\n",
    "glove_embeddings = get_glove_embeddings(token_ids)\n",
    "\n",
    "try:\n",
    "    x_train = np.load(\"example_prep_data/prep_train_len{}.npy\".format(args.seq_len))\n",
    "    x_dev = np.load(\"example_prep_data/prep_dev_len{}.npy\".format(args.seq_len))\n",
    "except:\n",
    "    print(\"Converting all the sentences to sequences of token ids...\")\n",
    "    x_train = convert_to_ids(x_train_raw, token_ids, args.seq_len)\n",
    "    np.save(\"example_prep_data/prep_train_len{}.npy\".format(args.seq_len), x_train)\n",
    "    x_dev = convert_to_ids(x_dev_raw, token_ids, args.seq_len)\n",
    "    np.save(\"example_prep_data/prep_dev_len{}.npy\".format(args.seq_len), x_dev)\n",
    "\n",
    "\n"
   ]
  },
  {
   "cell_type": "code",
   "execution_count": 44,
   "metadata": {
    "id": "StiU3dvfKQsh"
   },
   "outputs": [],
   "source": [
    "x_train, x_dev = torch.LongTensor(x_train).to(device), torch.LongTensor(x_dev).to(device)"
   ]
  },
  {
   "cell_type": "code",
   "execution_count": 45,
   "metadata": {
    "id": "-SWQOKIwKQ29"
   },
   "outputs": [],
   "source": [
    "# %% -------------------------------------- CNN Class ------------------------------------------------------------------\n",
    "class CNN(nn.Module):\n",
    "    def __init__(self, vocab_size):\n",
    "        super(CNN, self).__init__()\n",
    "\n",
    "        self.embedding = nn.Embedding(vocab_size + 2, args.embedding_dim)\n",
    "\n",
    "        self.conv1 = nn.Conv1d(args.embedding_dim, args.embedding_dim, 9)\n",
    "        self.convnorm1 = nn.BatchNorm1d(args.embedding_dim)\n",
    "        self.pool1 = nn.MaxPool1d(2)\n",
    "\n",
    "        self.conv2 = nn.Conv1d(args.embedding_dim, args.embedding_dim, 9)\n",
    "        self.convnorm2 = nn.BatchNorm1d(args.embedding_dim)\n",
    "        self.pool2 = nn.MaxPool1d(2)\n",
    "\n",
    "        self.conv3 = nn.Conv1d(args.embedding_dim, args.embedding_dim, 7)\n",
    "        self.linear = nn.Linear(args.embedding_dim, 2)\n",
    "        self.act = torch.relu\n",
    "\n",
    "    def forward(self, x):\n",
    "        # nn.Conv1d operates on the columns, each embedding dimension is considered as one channel\n",
    "        x = self.embedding(x).permute(0, 2, 1)\n",
    "        x = self.pool1(self.convnorm1(self.act(self.conv1(x))))\n",
    "        x = self.pool2(self.convnorm2(self.act(self.conv2(x))))\n",
    "        return self.linear(self.act(self.conv3(x)).reshape(-1, args.embedding_dim))\n",
    "\n"
   ]
  },
  {
   "cell_type": "code",
   "execution_count": 46,
   "metadata": {
    "id": "k6kcA-u1KRBO"
   },
   "outputs": [],
   "source": [
    "# %% -------------------------------------- Training Prep ----------------------------------------------------------\n",
    "model = CNN(len(token_ids)).to(device)\n",
    "look_up_table = get_glove_table(token_ids, glove_embeddings)\n",
    "model.embedding.weight.data.copy_(look_up_table)\n",
    "optimizer = torch.optim.Adam(model.parameters(), lr=args.lr)\n",
    "criterion = nn.CrossEntropyLoss()"
   ]
  },
  {
   "cell_type": "code",
   "execution_count": 47,
   "metadata": {
    "colab": {
     "base_uri": "https://localhost:8080/"
    },
    "id": "1fuM7L-dKQ8F",
    "outputId": "4dd465ce-b6d8-42b2-ac30-26d001dd3a15"
   },
   "outputs": [
    {
     "name": "stderr",
     "output_type": "stream",
     "text": [
      "Epoch 0:   1%|          | 1/132 [00:00<00:25,  5.12it/s, Training Loss: 0.70795]"
     ]
    },
    {
     "name": "stdout",
     "output_type": "stream",
     "text": [
      "The no information rate is 50.92\n",
      "Starting training loop...\n"
     ]
    },
    {
     "name": "stderr",
     "output_type": "stream",
     "text": [
      "Epoch 0: 100%|██████████| 132/132 [00:01<00:00, 77.51it/s, Training Loss: 0.33921]\n"
     ]
    },
    {
     "name": "stdout",
     "output_type": "stream",
     "text": [
      "Epoch 0 | Train Loss 0.33921, Train Acc 93.69 - Test Loss 0.59996, Test Acc 80.16\n"
     ]
    },
    {
     "name": "stderr",
     "output_type": "stream",
     "text": [
      "Epoch 1:  13%|█▎        | 17/132 [00:00<00:01, 86.85it/s, Training Loss: 0.20464]"
     ]
    },
    {
     "name": "stdout",
     "output_type": "stream",
     "text": [
      "The model has been saved!\n"
     ]
    },
    {
     "name": "stderr",
     "output_type": "stream",
     "text": [
      "Epoch 1: 100%|██████████| 132/132 [00:01<00:00, 90.07it/s, Training Loss: 0.16086]\n",
      "Epoch 2:  14%|█▍        | 19/132 [00:00<00:01, 95.71it/s, Training Loss: 0.12765]"
     ]
    },
    {
     "name": "stdout",
     "output_type": "stream",
     "text": [
      "Epoch 1 | Train Loss 0.16086, Train Acc 96.42 - Test Loss 0.55414, Test Acc 79.36\n"
     ]
    },
    {
     "name": "stderr",
     "output_type": "stream",
     "text": [
      "Epoch 2: 100%|██████████| 132/132 [00:01<00:00, 93.88it/s, Training Loss: 0.10881]\n",
      "Epoch 3:  12%|█▏        | 16/132 [00:00<00:01, 96.66it/s, Training Loss: 0.09309]"
     ]
    },
    {
     "name": "stdout",
     "output_type": "stream",
     "text": [
      "Epoch 2 | Train Loss 0.10881, Train Acc 97.16 - Test Loss 0.70020, Test Acc 80.28\n",
      "The model has been saved!\n"
     ]
    },
    {
     "name": "stderr",
     "output_type": "stream",
     "text": [
      "Epoch 3: 100%|██████████| 132/132 [00:01<00:00, 95.08it/s, Training Loss: 0.08009]\n",
      "Epoch 4:  11%|█▏        | 15/132 [00:00<00:01, 90.76it/s, Training Loss: 0.06848]"
     ]
    },
    {
     "name": "stdout",
     "output_type": "stream",
     "text": [
      "Epoch 3 | Train Loss 0.08009, Train Acc 98.15 - Test Loss 0.70682, Test Acc 80.50\n",
      "The model has been saved!\n"
     ]
    },
    {
     "name": "stderr",
     "output_type": "stream",
     "text": [
      "Epoch 4: 100%|██████████| 132/132 [00:01<00:00, 92.73it/s, Training Loss: 0.06147]\n",
      "Epoch 5:  14%|█▎        | 18/132 [00:00<00:01, 98.53it/s, Training Loss: 0.05758]"
     ]
    },
    {
     "name": "stdout",
     "output_type": "stream",
     "text": [
      "Epoch 4 | Train Loss 0.06147, Train Acc 97.36 - Test Loss 0.89981, Test Acc 80.28\n"
     ]
    },
    {
     "name": "stderr",
     "output_type": "stream",
     "text": [
      "Epoch 5: 100%|██████████| 132/132 [00:01<00:00, 94.06it/s, Training Loss: 0.05121]\n",
      "Epoch 6:  11%|█▏        | 15/132 [00:00<00:01, 93.81it/s, Training Loss: 0.04410]"
     ]
    },
    {
     "name": "stdout",
     "output_type": "stream",
     "text": [
      "Epoch 5 | Train Loss 0.05121, Train Acc 98.36 - Test Loss 0.83008, Test Acc 81.54\n",
      "The model has been saved!\n"
     ]
    },
    {
     "name": "stderr",
     "output_type": "stream",
     "text": [
      "Epoch 6: 100%|██████████| 132/132 [00:01<00:00, 91.93it/s, Training Loss: 0.04240]\n",
      "Epoch 7:  14%|█▎        | 18/132 [00:00<00:01, 92.41it/s, Training Loss: 0.03890]"
     ]
    },
    {
     "name": "stdout",
     "output_type": "stream",
     "text": [
      "Epoch 6 | Train Loss 0.04240, Train Acc 98.44 - Test Loss 1.28971, Test Acc 80.85\n"
     ]
    },
    {
     "name": "stderr",
     "output_type": "stream",
     "text": [
      "Epoch 7: 100%|██████████| 132/132 [00:01<00:00, 94.36it/s, Training Loss: 0.03465]\n",
      "Epoch 8:  14%|█▍        | 19/132 [00:00<00:01, 96.87it/s, Training Loss: 0.03745]"
     ]
    },
    {
     "name": "stdout",
     "output_type": "stream",
     "text": [
      "Epoch 7 | Train Loss 0.03465, Train Acc 98.37 - Test Loss 1.45630, Test Acc 77.75\n"
     ]
    },
    {
     "name": "stderr",
     "output_type": "stream",
     "text": [
      "Epoch 8: 100%|██████████| 132/132 [00:01<00:00, 94.92it/s, Training Loss: 0.02927]\n",
      "Epoch 9:  14%|█▎        | 18/132 [00:00<00:01, 91.62it/s, Training Loss: 0.02868]"
     ]
    },
    {
     "name": "stdout",
     "output_type": "stream",
     "text": [
      "Epoch 8 | Train Loss 0.02927, Train Acc 99.21 - Test Loss 1.05540, Test Acc 78.78\n"
     ]
    },
    {
     "name": "stderr",
     "output_type": "stream",
     "text": [
      "Epoch 9: 100%|██████████| 132/132 [00:01<00:00, 95.50it/s, Training Loss: 0.02349]\n"
     ]
    },
    {
     "name": "stdout",
     "output_type": "stream",
     "text": [
      "Epoch 9 | Train Loss 0.02349, Train Acc 99.27 - Test Loss 1.33796, Test Acc 78.56\n"
     ]
    }
   ],
   "source": [
    "# %% -------------------------------------- Training Loop ----------------------------------------------------------\n",
    "labels_ditrib = torch.unique(y_dev, return_counts=True)\n",
    "print(\"The no information rate is {:.2f}\".format(100*labels_ditrib[1].max().item()/len(y_dev)))\n",
    "if args.train:\n",
    "    acc_dev_best = 0\n",
    "    print(\"Starting training loop...\")\n",
    "    for epoch in range(args.n_epochs):\n",
    "\n",
    "        loss_train, train_steps = 0, 0\n",
    "        model.train()\n",
    "        total = len(x_train) // args.batch_size + 1  # Initiates a progress bar that will be updated for each batch\n",
    "        with tqdm(total=total, desc=\"Epoch {}\".format(epoch)) as pbar:  # \"Epoch\" will be updated for each epoch\n",
    "            for batch in range(len(x_train)//args.batch_size + 1):\n",
    "                inds = slice(batch*args.batch_size, (batch+1)*args.batch_size)\n",
    "                optimizer.zero_grad()\n",
    "                logits = model(x_train[inds])\n",
    "                loss = criterion(logits, y_train[inds])\n",
    "                loss.backward()\n",
    "                optimizer.step()\n",
    "                loss_train += loss.item()\n",
    "                train_steps += 1\n",
    "                pbar.update(1)  # Updates the progress and the training loss\n",
    "                pbar.set_postfix_str(\"Training Loss: {:.5f}\".format(loss_train / train_steps))\n",
    "\n",
    "        model.eval()\n",
    "        with torch.no_grad():\n",
    "            y_dev_pred = model(x_dev)\n",
    "            loss = criterion(y_dev_pred, y_dev)\n",
    "            loss_test = loss.item()\n",
    "\n",
    "        acc_dev = acc(x_dev, y_dev)\n",
    "        print(\"Epoch {} | Train Loss {:.5f}, Train Acc {:.2f} - Test Loss {:.5f}, Test Acc {:.2f}\".format(\n",
    "            epoch, loss_train/train_steps, acc(x_train, y_train), loss_test, acc_dev))\n",
    "\n",
    "        if acc_dev > acc_dev_best and args.save_model:\n",
    "            torch.save(model.state_dict(), \"cnn_sentiment.pt\")\n",
    "            print(\"The model has been saved!\")\n",
    "            acc_dev_best = acc_dev"
   ]
  },
  {
   "cell_type": "markdown",
   "metadata": {
    "id": "dVLMfgsAKjct"
   },
   "source": [
    "# Test of Deep Learning"
   ]
  },
  {
   "cell_type": "code",
   "execution_count": 48,
   "metadata": {
    "colab": {
     "base_uri": "https://localhost:8080/",
     "height": 1000
    },
    "id": "d2zx6tABxCB2",
    "outputId": "c1e7b3ed-5934-46b1-dc83-04af2e92531a"
   },
   "outputs": [
    {
     "data": {
      "text/html": [
       "<div>\n",
       "<style scoped>\n",
       "    .dataframe tbody tr th:only-of-type {\n",
       "        vertical-align: middle;\n",
       "    }\n",
       "\n",
       "    .dataframe tbody tr th {\n",
       "        vertical-align: top;\n",
       "    }\n",
       "\n",
       "    .dataframe thead th {\n",
       "        text-align: right;\n",
       "    }\n",
       "</style>\n",
       "<table border=\"1\" class=\"dataframe\">\n",
       "  <thead>\n",
       "    <tr style=\"text-align: right;\">\n",
       "      <th></th>\n",
       "      <th>Date</th>\n",
       "      <th>Header</th>\n",
       "      <th>Text</th>\n",
       "      <th>Open</th>\n",
       "      <th>Volume</th>\n",
       "      <th>% Change in Stock Price</th>\n",
       "      <th>% Change in Volume</th>\n",
       "      <th>Text (clean)</th>\n",
       "      <th>Vader Sentiment Score</th>\n",
       "      <th>sentiment</th>\n",
       "      <th>sentiment_prob</th>\n",
       "    </tr>\n",
       "  </thead>\n",
       "  <tbody>\n",
       "    <tr>\n",
       "      <th>0</th>\n",
       "      <td>2020-07-10</td>\n",
       "      <td>U.S. companies seeking capital during pandemic test bank market's new normal</td>\n",
       "      <td>la  Guzman5 Min ReadNEW YORK (LPC) - Bank lenders for high-quality US companies are taking different refinancing avenues as they seek to extend maturities on billions of US dollars in loans at a time when the Covid-19 pandemic has made liquidity a top priority.FILE PHOTO: An empty Times Square is seen on the street following the outbreak of coronavirus disease (COVID-19), in New York City, U.S., March 18, 2020. REUTERS/Jeenah MoonCorporations that historically kept their credit agreements intact while extending maturities are now making significant changes to the loan documents accepting risk-mitigating concessions on pricing, terms and the loans’ longevity, while others seem exempt from the new requirements.Gilead Sciences, IBM and Ford Motor Co have tapped the market recently, with transactions that have pushed maturities out and ensured their access to capital following company-specific strategies that reflect different lenders’ perceptions of the credits and the changing times.“Not every company is going through the pandemic the same way because with more volatility there’s more differentiation, so you’re going to have different treatment and receptivity from the banks as a result,” a senior banker said.As the investment grade loan market grapples with tighter liquidity as a result of revolver drawdowns during the health crisis, lenders are rarely going beyond 364-day tenors for new deals. In the second quarter, investment grade refinancing dropped to a 10-year low of US$139bn, as borrowers largely passed on refinancing their multiyear revolvers. Five-year tenors dropped to 5% of total revolver volume in the second quarter, according to Refinitiv LPC data.The treatment is going to be dependent on the credit rating, the company’s performance and the sector, bankers agreed.In late June, A3/A rated Gilead refinanced a US$2.5bn, five-year credit agreement that was set to mature in May 2021. The terms on the facility remained the same with pricing at 87.5bp over Libor, according to Refinitiv LPC data. The proceeds of the loan are for general purposes, according to the data.The biopharmaceutical company is developing clinical trials of an antiviral Covid-19 treatment called remdesivir. Government support for the drug and the potential for profit likely helped seal the deal with lenders for the first five-year refinancing since the pandemic started.The fact that Gilead is an important capital markets issuer may have constituted an additional incentive for its bank group to commit to the long maturity during trying times.Spokespeople at Gilead and Bank of America, the administrative agent on the prior credit facility, declined to comment.Meanwhile, household name IBM took a different path and extended its credit facilities by signing a new US$2.5bn 364-day loan and extending the maturities on its US$2.5bn three-year credit agreement and US$10.25bn five-year credit agreements by two years, rather than completely refinancing. The A2/A rated technology giant withdrew its 2020 annual forecast as the pandemic impacted second quarter revenues.B+/Ba2 rated Ford, which lost its investment grade status in March due to the outbreak’s economic fallout, is on the opposite side of the spectrum as it seeks to extend maturities on US$5.35bn in existing loans.After pulling its refinancing plans for US$15.4bn in loans earlier this year, the B+/Ba2 rated automaker is currently in market looking to extend a more modestly-sized amount.As it looks to push out maturities on a US$3.35bn three-year revolving credit and a US$2bn three-year revolver for another year, the company will leave a US$10.05bn five-year revolver and US$1.5bn term loan unchanged.The lenders who agree to the extensions will receive a 40bp fee, which shows the large incentive the company had to offer to have banks stick with the company, which saw a 33.3% drop in US sales in the second quarter.“We’re all hoping for a better tomorrow,” said Robert Danziger, managing director of debt capital markets at MUFG. “Companies are positioning themselves to address immediate, short term liquidity needs now. In this way, rather than breaking a lot of relationship glass, they can wait for things to improve further in the bank market (hopefully in the not too distant future) and they can go back to pushing out tenors and refining pricing.”Reporting by Daniela Guzman; Editing by Michelle Sierra and Kristen Haunss.Our Standards: The Thomson Reuters Trust Principles.</td>\n",
       "      <td>115.500000</td>\n",
       "      <td>4285700</td>\n",
       "      <td>NaN</td>\n",
       "      <td>NaN</td>\n",
       "      <td>la Guzman5 Min ReadNEW YORK LPC Bank lender high quality company take different refinancing avenue seek extend maturity billion dollar loan time Covid-19 pandemic liquidity priority FILE PHOTO Times Square see street follow outbreak coronavirus disease COVID-19 New York City U.S. March 18 2020 REUTERS Jeenah MoonCorporations historically keep credit agreement intact extend maturity make significant change loan document accept risk mitigate concession pricing term loan longevity exempt new requirement Gilead Sciences IBM Ford Motor Co tap market recently transaction push maturity ensure access capital follow company specific strategy reflect different lender perception credit change time “not company go pandemic way volatility differentiation go different treatment receptivity bank result senior banker say investment grade loan market grapple tight liquidity result revolver drawdown health crisis lender rarely go 364-day tenor new deal second quarter investment grade refinancing drop 10-year low us$ 139bn borrower largely pass refinance multiyear revolver year tenor drop 5 total revolver volume second quarter accord Refinitiv LPC datum treatment go dependent credit rating company performance sector banker agree late June A3 rate Gilead refinance us$ 2.5bn year credit agreement set mature 2021 term facility remain pricing 87.5bp Libor accord Refinitiv LPC datum proceed loan general purpose accord datum biopharmaceutical company develop clinical trial antiviral Covid-19 treatment call remdesivir government support drug potential profit likely help seal deal lender year refinancing pandemic start fact Gilead important capital market issuer constitute additional incentive bank group commit long maturity try time spokespeople Gilead Bank America administrative agent prior credit facility decline comment household IBM take different path extend credit facility sign new us$ 2.5bn 364-day loan extend maturity us$ 2.5bn year credit agreement us$ 10.25bn year credit agreement year completely refinance A2 rate technology giant withdraw 2020 annual forecast pandemic impact second quarter revenue B+/Ba2 rate Ford lose investment grade status March outbreak economic fallout opposite spectrum seek extend maturity us$ 5.35bn exist loan pull refinance plan us$ 15.4bn loan earlier year B+/Ba2 rate automaker currently market look extend modestly sized look push maturity us$ 3.35bn year revolve credit us$ 2bn year revolver year company leave us$ 10.05bn year revolver us$ 1.5bn term loan unchanged lender agree extension receive 40bp fee show large incentive company offer bank stick company see 33.3 drop sale second quarter “we’re hope well tomorrow say Robert Danziger manage director debt capital market MUFG company position address immediate short term liquidity need way break lot relationship glass wait thing improve bank market hopefully distant future push tenor refining pricing ”reporte Daniela Guzman editing Michelle Sierra Kristen Haunss Standards Thomson Reuters Trust Principles</td>\n",
       "      <td>0.9963</td>\n",
       "      <td>1.0</td>\n",
       "      <td>0.987273</td>\n",
       "    </tr>\n",
       "    <tr>\n",
       "      <th>1</th>\n",
       "      <td>2020-07-14</td>\n",
       "      <td>Bill Gross predicts value outperforms growth, based on rates correlation</td>\n",
       "      <td>- Billionaire investor Bill Gross is predicting that value stocks like IBM IBM.N and Altria Group MO.N are likely to fare better than growth stocks like Apple AAPL.O or Amazon.com AMZN.O in the near term, due to a correlation with real interest rates.U.S. real yields - which adjust for inflation - have been declining in response to the Federal Reserve's aggressive monetary actions over the past few months to limit the economic fallout of the coronavirus pandemic. The yield on the 10-year Treasury Inflation-Protected Security (TIPS) US10YTIP=RR has been trading with a negative yield since late March and is now minus 0.803%, near an all-time-low. Gross, who co-founded Pacific Investment Management Company, then spent four years at Janus Henderson before leaving in 2019 to manage his own money, said that the reason that the \"Fab 5 stocks\" and growth stocks in general had done \"so fabulously well\" centers on falling real interest rates that \"are still reaching historic lows.\" Gross is referring to a clutch of high-performing stocks: Amazon, Facebook FB.O, Apple, Netflix NFLX.O and Google's parent Alphabet GOOGL.O, according to his spokesperson. The yields of TIPS are highly correlated with growth stocks, but have far less of an effect on the prices of traditional value stocks, he wrote.The future price disparity of Microsoft MSFT.O, Apple and Amazon \"is subject to an ongoing decline in real rates, which to my mind, have seen their best days,\" Gross said. \"Value stocks, versus growth stocks, should be an investor's preference in the near-term future,\" he writes.Gross said that as well as IBM and Altria, he likes stocks such as midstream company Enterprise Products Partners EPD.N and pharmaceutical giant AbbVie ABBV.N.“Happiness is a healthy body, sinking a few 10-foot putts, and investing in value, versus the ‘Fab 5’,” wrote Gross, who also said he was COVID-19 free.Reporting by Kate Duguid; Additional reporting by Gertrude Chavez-Dreyfuss; Editing by Megan Davies and Christopher CushingOur Standards: The Thomson Reuters Trust Principles.</td>\n",
       "      <td>118.620003</td>\n",
       "      <td>4534400</td>\n",
       "      <td>2.701301</td>\n",
       "      <td>5.803019</td>\n",
       "      <td>billionaire investor Bill Gross predict value stock like IBM IBM.N Altria Group MO.N likely fare better growth stock like Apple aapl.o Amazon.com AMZN.O near term correlation real interest rate U.S. real yield adjust inflation decline response Federal Reserve aggressive monetary action past month limit economic fallout coronavirus pandemic yield 10-year Treasury Inflation protect security TIPS US10YTIP = rr trade negative yield late March minus 0.803 near time low gross co found Pacific Investment Management Company spend year Janus Henderson leave 2019 manage money say reason fab 5 stock growth stock general fabulously center fall real interest rate reach historic low Gross refer clutch high perform stock Amazon Facebook FB.O Apple Netflix NFLX.O Google parent Alphabet GOOGL.O accord spokesperson yield TIPS highly correlate growth stock far effect price traditional value stock write future price disparity Microsoft MSFT.O Apple Amazon subject ongoing decline real rate mind see good day Gross say value stock versus growth stock investor preference near term future write Gross say IBM Altria like stock midstream company Enterprise Products partner EPD.N pharmaceutical giant AbbVie ABBV.N.“Happiness healthy body sink 10-foot putt invest value versus fab 5 write Gross say covid-19 free report Kate Duguid additional reporting Gertrude Chavez Dreyfuss editing Megan Davies Christopher CushingOur Standards Thomson Reuters Trust Principles</td>\n",
       "      <td>0.9843</td>\n",
       "      <td>0.0</td>\n",
       "      <td>0.415587</td>\n",
       "    </tr>\n",
       "    <tr>\n",
       "      <th>2</th>\n",
       "      <td>2020-07-20</td>\n",
       "      <td>IBM beats estimates; sees gains as customers accelerate shift to cloud</td>\n",
       "      <td>- International Business Machines Corp IBM.N beat estimates for second-quarter profit on Monday and signaled that demand in its cloud computing business would get a boost as large corporations accelerate their digital shift due to the coronavirus crisis.FILE PHOTO: A man stands near an IBM logo at the Mobile World Congress in Barcelona, Spain, February 25, 2019.    REUTERS/Sergio Perez/File PhotoThe company’s shares rose 5% in after-hours trading.IBM has jettisoned some of its legacy business to focus on the high-margin cloud computing business, an area that has seen a lot of action in recent years as companies ramp up their digital shift to boost efficiency.“The trend we see in the market is clear. Clients want to modernize apps, move more workloads to the cloud and automate IT tasks,” IBM’s new boss Arvind Krishna said on a post-earnings call with analysts.Revenue from the cloud business, previously headed by Krishna, rose 30% to $6.3 billion in the second quarter.Krishna took over as chief executive officer from Ginni Rometty in April, while appointing former Bank of America Corp's BAC.N top technology executive, Howard Boville, as the new head of the cloud business.IBM’s global business services unit was impacted as clients cut or delayed spending on discretionary projects due to COVID-19, CFO James Kavanaugh told Reuters. Sales in the unit fell 7% to $3.9 billion.While Western Europe and Asia Pacific showed a pickup in client spending during June, U.S. and Latin America customers pulled back as the pandemic impact got worse, Kavanaugh said.“From a client perspective, our business is more concentrated in large enterprises, which in total have been relatively more stable throughout the pandemic,” Kavanaugh said.IBM’s total revenue fell 5.4% to $18.12 billion, but came in above analysts’ estimates of $17.72 billion, according to IBES data from Refinitiv. Excluding the impact from currency and business divestitures, revenue declined 1.9%.Excluding items, the company earned $2.18 per share, above estimates of $2.07.Reporting by Munsif Vengattil in Bengaluru; Editing by Maju SamuelOur Standards: The Thomson Reuters Trust Principles.</td>\n",
       "      <td>126.070000</td>\n",
       "      <td>9927700</td>\n",
       "      <td>6.280557</td>\n",
       "      <td>118.941867</td>\n",
       "      <td>International Business Machines Corp IBM.N beat estimate second quarter profit Monday signal demand cloud computing business boost large corporation accelerate digital shift coronavirus crisis FILE PHOTO man stand near IBM logo Mobile World Congress Barcelona Spain February 25 2019 REUTERS Sergio Perez File PhotoThe company share rise 5 hour trading IBM jettison legacy business focus high margin cloud compute business area see lot action recent year company ramp digital shift boost efficiency “the trend market clear client want modernize app workload cloud automate task IBM new boss Arvind Krishna say post earning analyst revenue cloud business previously head Krishna rise 30 $ 6.3 billion second quarter Krishna take chief executive officer Ginni Rometty April appoint Bank America Corp BAC.N technology executive Howard Boville new head cloud business IBM global business service unit impact client cut delay spend discretionary project covid-19 CFO James Kavanaugh tell Reuters sale unit fall 7 $ 3.9 billion Western Europe Asia Pacific show pickup client spending June U.S. Latin America customer pull pandemic impact get bad Kavanaugh say “from client perspective business concentrated large enterprise total relatively stable pandemic Kavanaugh say IBM total revenue fall 5.4 $ 18.12 billion come analyst estimate $ 17.72 billion accord IBES datum Refinitiv exclude impact currency business divestiture revenue decline 1.9%.excluding item company earn $ 2.18 share estimate $ 2.07.reporting Munsif Vengattil Bengaluru editing Maju SamuelOur Standards Thomson Reuters Trust Principles</td>\n",
       "      <td>0.8020</td>\n",
       "      <td>0.0</td>\n",
       "      <td>0.110343</td>\n",
       "    </tr>\n",
       "    <tr>\n",
       "      <th>3</th>\n",
       "      <td>2020-07-22</td>\n",
       "      <td>Microsoft cloud flagship posts first growth under 50%; bookings growth steady</td>\n",
       "      <td>- Microsoft Corp's MSFT.O flagship cloud computing business Azure reported quarterly sales growth of under 50% for the first time ever on Wednesday, sending the tech giant's shares down 2%.The Microsoft store is pictured in the Manhattan borough of New York City, New York, U.S., June 26, 2020. REUTERS/Carlo AllegriRevenue in Microsoft’s Intelligent Cloud segment rose 17% to $13.4 billion, with 47% growth in the Azure component, which includes essential computing and storage services. Analysts on average had expected cloud revenue of $13.09 billion in the fourth quarter ended June 30, according to IBES data from Refinitiv.Azure's growth is the most direct measure of performance against top cloud rival Amazon.com Inc's AMZN.O Amazon Web Services, as Microsoft does not break out Azure's revenue by dollar amount. AWS posted revenue growth of 33% to $10.2 billion, which analysts believe exceeds Azure's total, for the quarter ended March 31. International Business Machines Corp IBM.N, another Microsoft rival, this week beat Wall Street expectations with strong cloud growth.Beyond Azure, Microsoft’s results showed how the novel coronavirus is both helping and hurting Microsoft.Businesses are investing in cloud technology for remote work, and the video game Minecraft scored a record 132 million monthly active users as families worked and played from home. But Microsoft’s forecast for some versions of its Office software slightly missed expectations because of weak sales to struggling small and mid-sized businesses.“No one can take away from the fact that GDP is going to be negative,” Chief Executive Satya Nadella told investors on the company’s earnings call, referring to U.S. Gross Domestic Product.Microsoft Chief Financial Officer Amy Hood said 12% commercial bookings growth, which reflects corporate contracts for future software and services, was roughly unchanged from the previous quarter and beat company estimates. The figure signals that customers are keeping long-term technology spending plans intact.“Our strong position in the cloud has allowed us to have good results and support our customers as they work on the next couple of years of digital transformation,” Hood said in an interview.Microsoft's total revenue rose 13% to $38.03 billion in the quarter, beating estimates of $36.5 billion, according to IBES data from Refinitiv. (bit.ly/3jxrriP)The growth was powered by its More Personal Computing unit as more people worldwide used its products to work on Windows PCs and play games on Xboxes during lockdowns. Revenue from the unit, the largest by sales, rose 14% to $12.9 billion, beating analysts’ estimates of $11.46 billion.Microsoft said its professional networking site, LinkedIn, was hurt by the weak job market and advertising spending cuts.Net income fell to $11.20 billion, or $1.46 per share, from $13.19 billion, or $1.71 per share, a year earlier.Reporting by Stephen Nellis in San Francisco and Munsif Vengattil in Bengaluru; Editing by Maju Samuel and Richard ChangOur Standards: The Thomson Reuters Trust Principles.</td>\n",
       "      <td>125.900002</td>\n",
       "      <td>8195400</td>\n",
       "      <td>-0.134844</td>\n",
       "      <td>-17.449157</td>\n",
       "      <td>Microsoft Corp MSFT.O flagship cloud compute business Azure report quarterly sale growth 50 time Wednesday send tech giant share 2%.the Microsoft store picture Manhattan borough New York City New York U.S. June 26 2020 REUTERS Carlo AllegriRevenue Microsoft Intelligent Cloud segment rise 17 $ 13.4 billion 47 growth Azure component include essential computing storage service analyst average expect cloud revenue $ 13.09 billion fourth quarter end June 30 accord IBES datum Refinitiv Azure growth direct measure performance cloud rival Amazon.com Inc AMZN.O Amazon Web Services Microsoft break Azure revenue dollar AWS post revenue growth 33 $ 10.2 billion analyst believe exceed Azure total quarter end March 31 International Business Machines Corp IBM.N Microsoft rival week beat Wall Street expectation strong cloud growth Azure Microsoft result show novel coronavirus help hurt Microsoft business invest cloud technology remote work video game Minecraft score record 132 million monthly active user family work play home Microsoft forecast version Office software slightly miss expectation weak sale struggle small mid sized business “No away fact GDP go negative Chief Executive Satya Nadella tell investor company earning refer U.S. Gross Domestic Product Microsoft Chief Financial Officer Amy Hood say 12 commercial booking growth reflect corporate contract future software service roughly unchanged previous quarter beat company estimate figure signal customer keep long term technology spending plan intact “our strong position cloud allow good result support customer work couple year digital transformation Hood say interview Microsoft total revenue rise 13 $ 38.03 billion quarter beat estimate $ 36.5 billion accord IBES datum Refinitiv bit.ly/3jxrriP)The growth power Personal Computing unit people worldwide product work Windows pc play game xboxe lockdown revenue unit large sale rise 14 $ 12.9 billion beat analyst estimate $ 11.46 billion Microsoft say professional networking site LinkedIn hurt weak job market advertising spending cut net income fall $ 11.20 billion $ 1.46 share $ 13.19 billion $ 1.71 share year earlier report Stephen Nellis San Francisco Munsif Vengattil Bengaluru editing Maju Samuel Richard ChangOur Standards Thomson Reuters Trust Principles</td>\n",
       "      <td>0.9849</td>\n",
       "      <td>0.0</td>\n",
       "      <td>0.011617</td>\n",
       "    </tr>\n",
       "    <tr>\n",
       "      <th>4</th>\n",
       "      <td>2020-08-04</td>\n",
       "      <td>White House unveils new partnership to boost quantum science education</td>\n",
       "      <td>- The White House Office of Science and Technology Policy said on Wednesday it is launching a national education partnership to expand access to K-12 quantum information science (QIS) education with major companies and research institutions.The public-private initiative with the National Science Foundation includes Amazon.com’s Amazon Web Services, Boeing Co, Alphabet Inc’s Google, IBM Corp , Lockheed Martin, Microsoft Corp, the University of Illinois and University of Chicago. The National Science Foundation is also awarding $1 million to QIS education.The initiative is designed in part to help introduce students to quantum information themes before college. (Reporting by David Shepardson Editing by Chris Reese)Our Standards: The Thomson Reuters Trust Principles.</td>\n",
       "      <td>123.820000</td>\n",
       "      <td>3466100</td>\n",
       "      <td>-1.652106</td>\n",
       "      <td>-57.706762</td>\n",
       "      <td>White House Office Science Technology Policy say Wednesday launch national education partnership expand access K-12 quantum information science QIS education major company research institution public private initiative National Science Foundation include Amazon.com Amazon Web Services Boeing Co Alphabet Inc Google IBM Corp Lockheed Martin Microsoft Corp University Illinois University Chicago National Science Foundation award $ 1 million qis education initiative design help introduce student quantum information theme college report David Shepardson Editing Chris Reese)Our Standards Thomson Reuters Trust Principles</td>\n",
       "      <td>0.9100</td>\n",
       "      <td>1.0</td>\n",
       "      <td>0.707661</td>\n",
       "    </tr>\n",
       "    <tr>\n",
       "      <th>5</th>\n",
       "      <td>2020-08-17</td>\n",
       "      <td>IBM rolls out newest processor chip, taps Samsung for manufacturing</td>\n",
       "      <td>- International Business Machines Corp IBM.N announced on Monday a new processor chip for data centers that it says will be able to handle three times the workload of its predecessor.The IBM-designed Power10 chip will be manufactured by Samsung Electronics Co Ltd 005930.KS and is meant for use by businesses inside data centers, IBM said.The chip will use Samsung's 7-nanometer chip manufacturing process, which is similar to the 7-nanometer technology that Advanced Micro Devices Inc AMD.O uses to have its chips made by Taiwan Semiconductor Manufacturing Co Ltd 2330.TW.Both IBM and AMD use outside chip factories to compete against Intel Corp, the dominant provider of central processor chips in data centers and one of the few players left that both designs and manufactures its own chips.Intel recently said its next generation of manufacturing technology faces delays, which analysts believe will allow its rivals to gain market share.IBM has long focused on high-performance computing systems, with three of the world’s top-ten fastest supercomputers using its chips. The company said Monday that the Power10 chip has been designed to be faster at artificial intelligence computing tasks than its predecessor, doing such work up to 20 times faster than its previous generation of chip.Reporting by Stephen Nellis in San Francisco; editing by Diane CraftOur Standards: The Thomson Reuters Trust Principles.</td>\n",
       "      <td>125.250000</td>\n",
       "      <td>3360100</td>\n",
       "      <td>1.154902</td>\n",
       "      <td>-3.058192</td>\n",
       "      <td>International Business Machines Corp IBM.N announce Monday new processor chip datum center say able handle time workload predecessor IBM design Power10 chip manufacture Samsung Electronics Co Ltd 005930.ks mean use business inside datum center IBM say chip use Samsung 7-nanometer chip manufacturing process similar 7-nanometer technology Advanced Micro Devices Inc AMD.O use chip Taiwan Semiconductor Manufacturing Co Ltd 2330.tw.both IBM AMD use outside chip factory compete Intel Corp dominant provider central processor chip datum center player leave design manufacture chip Intel recently say generation manufacture technology face delay analyst believe allow rival gain market share IBM long focus high performance computing system world fast supercomputer chip company say Monday Power10 chip design fast artificial intelligence compute task predecessor work 20 time faster previous generation chip reporting Stephen Nellis San Francisco editing Diane CraftOur Standards Thomson Reuters Trust Principles</td>\n",
       "      <td>0.9081</td>\n",
       "      <td>0.0</td>\n",
       "      <td>0.275043</td>\n",
       "    </tr>\n",
       "    <tr>\n",
       "      <th>6</th>\n",
       "      <td>2020-08-20</td>\n",
       "      <td>In U.S.-China tech war, investors bet on China's localisation push</td>\n",
       "      <td>- As the U.S.-China “tech war” widens, investors are betting on China’s efforts to replace U.S. technologies with indigenous applications to run networks in the state sector.FILE PHOTO: Chinese and U.S. flags flutter near The Bund, before U.S. trade delegation meet their Chinese counterparts for talks in Shanghai, China July 30, 2019.  REUTERS/Aly SongIn recent months, local governments and state firms such as China Telecom have announced plans and procurements aimed at fostering a home-grown tech ecosystem to displace gear from the likes of Intel, Microsoft, Oracle and IBM.An index tracking Chinese IT stocks .CSIINT has jumped nearly 30% this year, doubling blue-chip gains .CSI300.\"We're seeing more U.S. actions against China, and the future tends to be 'one world, two systems',\" said Wu Kan, portfolio manager at Soochow Securities Co, who has invested in local tech leaders including China National Software &amp; Service Co Ltd 600536.SS, China Greatwall Technology Group 000066.SZ and Beijing Kingsoft Office Software 688111.SS. “Any segment that faces decoupling risks represents big investment opportunities.”Some market watchers warn valuations of China tech stocks are getting frothy at roughly 60 times trailing earnings, noting Chinese firms could take years to catch-up to established global players. But Wu said price levels are justified by growth potential and direct government backing.The Trump administration has recently strengthened restrictions on China’s Huawei Technologies and sanctioned China-owned apps TikTok and WeChat. Washington also rolled out a “Clean Network” initiative to exclude Chinese tech firms perceived as threatening national security.Under U.S. pressure, Chinese vendors are poised to gain local market share, said Jie Lu, Robeco’s China research head.“China will ramp up the investment and R&amp;D intensity for critical industries such as semiconductors,” Lu said.Dongxing Securities predicted that a retooling would create a 1 trillion yuan ($144.46 billion) opportunity over the next three years for local vendors.KUNPENG PUSHLocal governments are rushing to form industry federations to promote the use of Huawei’s Kunpeng processing technologies.Last week, China Unicom's Wuchang subsidiary struck a partnership with Huanghe Technology, which makes servers and PCs using Kunpeng technologies. In May, IT distributer Digital China 000034.SZ said it was building plants to make PCs and servers using Kunpeng CPUs. Also in May, China Telecom said it would procure up to 56,314 servers in 2020, one-fifth of them using Kunpeng and Hygon Dhyana chips, which rival U.S. brands Intel and AMD in a move seen as a gesture of Beijing’s localisation push.“China must promote domestic replacement to avoid being strangled, even as its current technology lags by far,” Zhang Chi, chairman of Xin Ding Capital said during an investor roadshow for Haigon Information Technology, maker of Hygon Dhyana chips.Some 95% of Chinese servers use CPUs from Intel.It would be disaster, Zhang said, “if one day, Trump bans Intel from selling CPUs to China.”Zhang expects Chinese government agencies to replace all computers using U.S. chips in the next five years, echoing views of many analysts.National Software &amp; Service, which makes operating systems that compete with Windows and middleware that aims to rival IBM and Oracle, expects revenue this year to jump 70% to 10 billion yuan.Beijing Kingsoft Office Software this week posted a 143% jump in first-half profit and said China’s need for information security is boosting sales.Beijing Baolande Software Corp 688058.SS also sees governments and finance clients as new growth engines thanks to replacement demand, investor relations official Guo Xing said. But Brian Bandsma, New York-based portfolio manager at Vontobel Asset Management, said the opportunities in replacement demand would be limited, given less competitive local offerings and what may be longer-than-expected adoption rates.“Companies like Microsoft have been around for decades and have a very complex piece of software that’s being heavily used by multiple industries. There’s a reason why Microsoft is in the position it’s in,” said Bandsma.“There’s probably too much optimism baked into valuations in terms of what these local companies are going to get out of China’s focus on domestic suppliers.”(This story corrects to fix typographical error in company name in 4th to last paragraph)Reporting by Samuel Shen and Josh Horwitz; Editing by Tony Munroe and Kim CoghillOur Standards: The Thomson Reuters Trust Principles.</td>\n",
       "      <td>123.199997</td>\n",
       "      <td>2561200</td>\n",
       "      <td>-1.636729</td>\n",
       "      <td>-23.776078</td>\n",
       "      <td>U.S.-China tech war widen investor bet China effort replace U.S. technology indigenous application run network state sector FILE PHOTO Chinese U.S. flag flutter near Bund U.S. trade delegation meet chinese counterpart talk Shanghai China July 30 2019 REUTERS Aly songin recent month local government state firm China Telecom announce plan procurement aim foster home grow tech ecosystem displace gear like Intel Microsoft Oracle IBM.An index track Chinese stock .CSIINT jump nearly 30 year double blue chip gain .CSI300.\"We're see U.S. action China future tend world system say Wu Kan portfolio manager Soochow Securities Co invest local tech leader include China National Software Service Co Ltd 600536.ss China Greatwall Technology Group 000066.sz Beijing Kingsoft Office Software 688111.ss segment face decouple risk represent big investment opportunity ”Some market watcher warn valuation China tech stock get frothy roughly 60 time trail earning note chinese firm year catch establish global player Wu say price level justify growth potential direct government backing Trump administration recently strengthen restriction China Huawei Technologies sanction China own app TikTok WeChat Washington roll Clean Network initiative exclude chinese tech firm perceive threaten national security U.S. pressure chinese vendor poise gain local market share say Jie Lu Robeco China research head “China ramp investment r&amp;d intensity critical industry semiconductor Lu say Dongxing Securities predict retooling create 1 trillion yuan $ 144.46 billion opportunity year local vendor KUNPENG pushlocal government rush form industry federation promote use Huawei Kunpeng processing technology week China Unicom Wuchang subsidiary strike partnership Huanghe Technology make server pc Kunpeng technology distributer Digital China 000034.sz say build plant pc server Kunpeng CPUs China Telecom say procure 56,314 server 2020 fifth Kunpeng Hygon Dhyana chip rival U.S. brand Intel AMD see gesture Beijing localisation push “China promote domestic replacement avoid strangle current technology lag far Zhang Chi chairman Xin Ding Capital say investor roadshow Haigon Information Technology maker Hygon Dhyana chip 95 chinese server use cpu Intel disaster Zhang say day Trump ban Intel sell cpu China ”Zhang expect chinese government agency replace computer U.S. chip year echo view analyst National Software Service make operating system compete Windows middleware aim rival IBM Oracle expect revenue year jump 70 10 billion yuan Beijing Kingsoft Office Software week post 143 jump half profit say China need information security boost sale Beijing Baolande Software Corp 688058.ss see government finance client new growth engine thank replacement demand investor relation official Guo Xing say Brian Bandsma New York base portfolio manager Vontobel Asset Management say opportunity replacement demand limit give competitive local offering long expect adoption rate “companie like Microsoft decade complex piece software heavily multiple industry reason Microsoft position say Bandsma “There probably optimism bake valuation term local company go China focus domestic supplier ”(This story correct fix typographical error company 4th paragraph)reporting Samuel Shen Josh Horwitz editing Tony Munroe Kim CoghillOur Standards Thomson Reuters Trust Principles</td>\n",
       "      <td>0.9867</td>\n",
       "      <td>0.0</td>\n",
       "      <td>0.030244</td>\n",
       "    </tr>\n",
       "    <tr>\n",
       "      <th>7</th>\n",
       "      <td>2020-08-26</td>\n",
       "      <td>U.S. to spend $625 million in five quantum information research hubs</td>\n",
       "      <td>- The U.S. Department of Energy on Wednesday said it will provide $625 million over the next five years for five newly formed quantum information research hubs as it tries to keep ahead of competing nations like China on the emerging technology.The funding is part of $1.2 billion earmarked in the National Quantum Initiative Act in 2018.Researchers believe quantum computers could operate millions of times faster than today’s advanced supercomputers, making possible potential tasks ranging from mapping complex molecular structures and chemical reactions to boosting the power of artificial intelligence.“It’s absolutely imperative the United States continues to lead the world in AI and quantum. We know our adversaries around the world are pursuing their own advances,” U.S. Chief Technology Officer Michael Kratsios said during a White House press briefing announcing the quantum information research funding and another $100 million plus investment into the National Science Foundation’s AI Research Institutes.The five research hubs are each led by the Energy Department’s Argonne, Brookhaven, Fermi, Lawrence Berkeley and Oak Ridge national laboratories. The hubs are comprised of top research universities, other national labs and big tech companies in the quantum computing space such as International Business Machines Corp IBM.N, Intel Corp INTC.O, Microsoft Corp MSFT.O, and quantum computer startups Rigetti &amp; Co and ColdQuanta Inc. An Italian research lab and a Canadian university are also taking part.Missing from the list are Google parent Alphabet Inc GOOGL.O, considered one of the top firms in quantum computing, and Honeywell International Inc HON.N, which unveiled its quantum computing business in the past year. The Energy Department spokesperson declined to comment on whether they had been part of a proposal that didn’t receive funding.Paul Dabbar, under secretary for science at the Energy Department, said the private sector contributed another $340 million worth of labor, equipment, lab space and other assets to the project.Reporting by Jane Lanhee Lee; Editing by Leslie AdlerOur Standards: The Thomson Reuters Trust Principles.</td>\n",
       "      <td>124.949997</td>\n",
       "      <td>3388300</td>\n",
       "      <td>1.420455</td>\n",
       "      <td>32.293456</td>\n",
       "      <td>U.S. Department Energy Wednesday say provide $ 625 million year newly form quantum information research hub try ahead compete nation like China emerge technology funding $ 1.2 billion earmark National Quantum Initiative Act 2018.researcher believe quantum computer operate million time faster today advanced supercomputer make possible potential task range map complex molecular structure chemical reaction boost power artificial intelligence “it absolutely imperative United States continue lead world AI quantum know adversary world pursue advance U.S. Chief Technology Officer Michael Kratsios say White House press brief announce quantum information research funding $ 100 million plus investment National Science Foundation AI Research Institutes research hub lead Energy Department Argonne Brookhaven Fermi Lawrence Berkeley Oak Ridge national laboratory hub comprise research university national lab big tech company quantum compute space International Business Machines Corp IBM.N Intel Corp INTC.O Microsoft Corp MSFT.O quantum computer startup Rigetti Co ColdQuanta Inc. italian research lab canadian university take miss list Google parent Alphabet Inc GOOGL.O consider firm quantum computing Honeywell International Inc HON.N unveil quantum compute business past year Energy Department spokesperson decline comment proposal receive funding Paul Dabbar secretary science Energy Department say private sector contribute $ 340 million worth labor equipment lab space asset project report Jane Lanhee Lee editing Leslie AdlerOur Standards Thomson Reuters Trust Principles</td>\n",
       "      <td>0.9722</td>\n",
       "      <td>0.0</td>\n",
       "      <td>0.106910</td>\n",
       "    </tr>\n",
       "    <tr>\n",
       "      <th>8</th>\n",
       "      <td>2020-09-02</td>\n",
       "      <td>Internet companies urge FCC to reject Trump bid to impose new social media regulations</td>\n",
       "      <td>- A group representing major internet companies including Facebook Inc, Amazon.com Inc and Alphabet Inc’s Google on Wednesday urged the Federal Communications Commission (FCC) to reject a Trump administration bid to narrow the ability of social media companies to remove objectionable content.FILE PHOTO: U.S. President Donald Trump speaks during a roundtable on \"Wisconsin Community Safety\" in Kenosha, Wisconsin, U.S., September 1, 2020. REUTERS/Leah Millis The Internet Association said in a filing that the Trump administration petition filed in August seeking new rules “is misguided, lacks grounding in law, and poses serious public policy concerns.” It said new FCC rules could result in a loss of legal protections for removing “fraudulent schemes, scams, dangerous content promoting suicide or eating disorders to teens, and a wide range of other types of ‘otherwise objectionable’ content.”The Consumer Technology Association, which represents companies like IBM, Microsoft and Sony, also blasted the effort, saying it would “make compliance all but impossible.”“It is shocking that our own government would seek to undermine a law that has led to unprecedented American innovation, with massive benefits for our consumers and economy,” said Michael Petricone, a CTA official.FCC Chairman Ajit Pai dismissed calls from the two Democrats on the agency’s five-member commission to reject the petition without public comment. He has declined comment on the petition’s merits.President Donald Trump directed the Commerce Department to file the petition after Twitter Inc in May warned readers to fact-check his posts about unsubstantiated claims of fraud in mail-in voting.Facebook , Twitter and Google’s YouTube earlier pulled a post by Trump for violating their COVID-19 misinformation policies.The petition asks the FCC to limit protections for social media companies under Section 230, a provision of the 1996 Communications Decency Act that shields social media companies from liability for content posted by their users and allows them to remove lawful but objectionable posts.AT&amp;T Inc did not take a position on what action the FCC should take but said in comments “we support the growing consensus that online platforms should be more accountable for, and more transparent about, the decisions that fundamentally shape American society today.”Trump, a Republican running for re-election, has repeatedly expressed anger at social media companies.In August, the White House abruptly pulled the nomination of FCC Commissioner Mike O’Rielly for a new term just days after he questioned the effort to regulate social media companies’ editorial decisions.Reporting by David Shepardson and Nandita Bose; Editing by Leslie Adler and Alistair BellOur Standards: The Thomson Reuters Trust Principles.</td>\n",
       "      <td>123.720001</td>\n",
       "      <td>6592400</td>\n",
       "      <td>-0.984391</td>\n",
       "      <td>94.563645</td>\n",
       "      <td>group represent major internet company include Facebook Inc Amazon.com Inc Alphabet Inc Google Wednesday urge Federal Communications Commission FCC reject Trump administration bid narrow ability social medium company remove objectionable content FILE PHOTO U.S. President Donald Trump speak roundtable Wisconsin Community Safety Kenosha Wisconsin U.S. September 1 2020 REUTERS Leah Millis Internet Association say filing Trump administration petition file August seek new rule misguide lack ground law pose public policy concern say new FCC rule result loss legal protection remove fraudulent scheme scam dangerous content promote suicide eat disorder teen wide range type objectionable content ”The Consumer Technology Association represent company like IBM Microsoft Sony blast effort say compliance impossible ”“It shocking government seek undermine law lead unprecedented american innovation massive benefit consumer economy say Michael Petricone CTA official FCC Chairman Ajit Pai dismiss call Democrats agency member commission reject petition public comment decline comment petition merit President Donald Trump direct Commerce Department file petition Twitter Inc warn reader fact check post unsubstantiated claim fraud mail voting Facebook Twitter Google YouTube earlier pull post Trump violate covid-19 misinformation policy petition ask FCC limit protection social medium company section 230 provision 1996 Communications Decency Act shield social medium company liability content post user allow remove lawful objectionable post AT&amp;T Inc position action FCC say comment support grow consensus online platform accountable transparent decision fundamentally shape american society today ”Trump Republican run election repeatedly express anger social medium company August White House abruptly pull nomination FCC Commissioner Mike o’rielly new term day question effort regulate social medium company editorial decision report David Shepardson Nandita Bose editing Leslie Adler Alistair BellOur Standards Thomson Reuters Trust Principles</td>\n",
       "      <td>-0.9652</td>\n",
       "      <td>1.0</td>\n",
       "      <td>0.641823</td>\n",
       "    </tr>\n",
       "    <tr>\n",
       "      <th>9</th>\n",
       "      <td>2020-09-08</td>\n",
       "      <td>Eying digital push, Schlumberger strikes cloud-computing deal with IBM</td>\n",
       "      <td>- Top oilfield service provider Schlumberger NV said Tuesday it will tap technology from International Business Machines Corp to bring oilfield software to countries such as Saudi Arabia and Russia that have strict data sovereignty laws.Schlumberger develops software called Delfi that energy producers use to locate and extract oil more efficiently. The company is shifting toward delivering Delfi from cloud-based or distributed servers, tapping providers such as Alphabet Inc’s Google and Microsoft Corp.Some countries, however, do not have any data centers offered by those public cloud providers and have laws requiring data to be stored locally. That means Schlumberger’s cloud-based software must be run on a locally run, private data center, or on a “hybrid” of public clouds and private data centers.Under the deal announced Tuesday, Schlumberger will use an IBM technology called Red Hat OpenShift to make such hybrids work easier.IBM’s technology forms a layer between Schlumberger’s Delfi software and the data centers where the software runs that allows the software to move back and forth to wherever customers need it.“We have realized in the last few quarters, last few months that we didn’t have the flexibility,” Schlumberger CEO Olivier Le Peuch told Reuters in an interview. “It has helped us expand the market access and expand the reach of our solution.”The data-heavy oil and gas industry has long been seen as slow to digitalize but in recent years has made a push to utilize cloud computing, artificial intelligence and internet-of-things technology in its operations.For IBM, the Schlumberger deal gives it a flagship oil-and-gas customer as it refines its cloud computing strategy, part of which has involved helping customers in fields such as financial services solve thorny technical and regulatory challenges.“The technology, once it’s in production, is what drives revenue for both of us,” IBM Chief Executive Arvind Krishna told Reuters. (Reporting by Liz Hampton in Denver and Stephen Nellis in San Francisco; Editing by Lisa Shumaker)Our Standards: The Thomson Reuters Trust Principles.</td>\n",
       "      <td>122.160004</td>\n",
       "      <td>5210300</td>\n",
       "      <td>-1.260909</td>\n",
       "      <td>-20.965051</td>\n",
       "      <td>oilfield service provider Schlumberger NV say Tuesday tap technology International Business Machines Corp bring oilfield software country Saudi Arabia Russia strict data sovereignty law schlumberger develop software call Delfi energy producer use locate extract oil efficiently company shift deliver Delfi cloud base distribute server tap provider Alphabet Inc Google Microsoft Corp country datum center offer public cloud provider law require datum store locally mean Schlumberger cloud base software run locally run private datum center hybrid public cloud private datum center deal announce Tuesday Schlumberger use IBM technology call Red Hat OpenShift hybrid work easy IBM technology form layer Schlumberger Delfi software datum center software run allow software forth customer need “We realize quarter month flexibility Schlumberger ceo Olivier Le Peuch tell Reuters interview help expand market access expand reach solution ”the datum heavy oil gas industry long see slow digitalize recent year push utilize cloud computing artificial intelligence internet thing technology operation IBM Schlumberger deal give flagship oil gas customer refine cloud computing strategy involve help customer field financial service solve thorny technical regulatory challenge “The technology production drive revenue IBM Chief Executive Arvind Krishna tell Reuters reporting Liz Hampton Denver Stephen Nellis San Francisco editing Lisa Shumaker)Our Standards Thomson Reuters Trust Principles</td>\n",
       "      <td>0.9803</td>\n",
       "      <td>0.0</td>\n",
       "      <td>0.263489</td>\n",
       "    </tr>\n",
       "    <tr>\n",
       "      <th>10</th>\n",
       "      <td>2020-09-11</td>\n",
       "      <td>IBM says U.S. should adopt new export controls on facial recognition systems</td>\n",
       "      <td>- IBM Corp IBM.N said on Friday the U.S. Commerce Department should adopt new controls to limit the export of facial recognition systems to repressive regimes that can be used to commit human rights violations.FILE PHOTO: A man stands near an IBM logo at the Mobile World Congress in Barcelona, Spain, February 25, 2019.    REUTERS/Sergio PerezThe company said in a statement the United States should institute new export limits on “the type of facial recognition system most likely to be used in mass surveillance systems, racial profiling or other human rights violations.”In July, the Commerce Department had sought public comments on whether to adopt new export license requirements for facial recognition software and other biometric systems used in surveillance. Comments are due by Sept. 15.Christopher Padilla, IBM’s vice president for government and regulatory affairs, told Reuters the U.S. government should focus on “one to many” systems that could be used to pick dissidents out of a crowd or for mass surveillance, rather than “facial identification” systems that allow a user to unlock an iPhone or board an airplane.IBM said the Commerce Department should control “export of both the high-resolution cameras used to collect data and the software algorithms used to analyze and match that data against a database of images” and argued it should “limit the ability of certain foreign governments to obtain the large-scale computing components required to implement an integrated facial recognition system.”The company’s written comments did not identify specific governments but said “controls on the most powerful types of facial recognition technology should be focused on those countries that have a history of human rights abuses.”The Commerce Department’s July notice said China “has deployed facial recognition technology in the Xinjiang region, in which there has been repression, mass arbitrary detention and high technology surveillance against Uighurs, Kazakhs and other members of Muslim minority groups.”The department has added dozens of Chinese companies and entities to an economic blacklist that it said were implicated in human rights violations regarding China’s treatment of Uighurs, including video surveillance firm Hikvision 002415.SZ, as well as leaders in facial recognition technology SenseTime Group Ltd and Megvii Technology.China has denied mistreating people in Xinjiang.IBM said the Commerce Department should also restrict access to online image databases that can be used to train facial recognition systems.In June, IBM told the U.S. Congress it would stop offering facial recognition software and opposes any use of such technology for purposes of mass surveillance and racial profiling. The company also called for new federal rules to hold police more accountable for misconduct.Reporting by David Shepardson; Editing by Muralikumar AnantharamanOur Standards: The Thomson Reuters Trust Principles.</td>\n",
       "      <td>121.389999</td>\n",
       "      <td>3548100</td>\n",
       "      <td>-0.630325</td>\n",
       "      <td>-31.902194</td>\n",
       "      <td>IBM Corp IBM.N say Friday U.S. Commerce Department adopt new control limit export facial recognition system repressive regime commit human right violation FILE PHOTO man stand near IBM logo Mobile World Congress Barcelona Spain February 25 2019 REUTERS Sergio PerezThe company say statement United States institute new export limit type facial recognition system likely mass surveillance system racial profiling human right violation ”In July Commerce Department seek public comment adopt new export license requirement facial recognition software biometric system surveillance comment September 15.christopher Padilla IBM vice president government regulatory affair tell Reuters U.S. government focus system pick dissident crowd mass surveillance facial identification system allow user unlock iPhone board airplane IBM say Commerce Department control export high resolution camera collect datum software algorithm analyze match datum database image argue limit ability certain foreign government obtain large scale computing component require implement integrate facial recognition system ”The company write comment identify specific government say control powerful type facial recognition technology focus country history human right abuse ”The Commerce Department July notice say China deploy facial recognition technology Xinjiang region repression mass arbitrary detention high technology surveillance Uighurs Kazakhs member muslim minority group ”The department add dozen chinese company entity economic blacklist say implicate human right violation China treatment Uighurs include video surveillance firm Hikvision 002415.sz leader facial recognition technology SenseTime Group Ltd Megvii Technology China deny mistreat people Xinjiang IBM say Commerce Department restrict access online image database train facial recognition system June IBM tell U.S. Congress stop offer facial recognition software oppose use technology purpose mass surveillance racial profiling company call new federal rule hold police accountable misconduct reporting David Shepardson editing Muralikumar AnantharamanOur Standards Thomson Reuters Trust Principles</td>\n",
       "      <td>-0.9022</td>\n",
       "      <td>0.0</td>\n",
       "      <td>0.256986</td>\n",
       "    </tr>\n",
       "    <tr>\n",
       "      <th>11</th>\n",
       "      <td>2020-09-16</td>\n",
       "      <td>IBM can't shake facial recognition suit but dodges some claims</td>\n",
       "      <td>Merken1 Min ReadAn Illinois federal judge has largely refused to dismiss a lawsuit accusing International Business Machines Corp of violating Illinois’ biometric privacy law in the way it used facial image scans from a dataset from photo sharing site Flickr.U.S. District Judge Charles Kocoras in Chicago on Tuesday denied the New York-based company’s bid to toss the Illinois Biometric Information Privacy Act case, rejecting IBM’s contention that the law doesn’t apply to its analysis of photographs, among other arguments. The judge granted dismissal of two counts of the complaint, however.To read the full story on Westlaw Today, click here: bit.ly/3hHHacFOur Standards: The Thomson Reuters Trust Principles.</td>\n",
       "      <td>122.709999</td>\n",
       "      <td>3788400</td>\n",
       "      <td>1.087404</td>\n",
       "      <td>6.772639</td>\n",
       "      <td>Merken1 Min ReadAn Illinois federal judge largely refuse dismiss lawsuit accuse International Business Machines Corp violate Illinois biometric privacy law way facial image scan dataset photo sharing site Flickr U.S. District Judge Charles Kocoras Chicago Tuesday deny New York base company bid toss Illinois Biometric Information Privacy Act case reject IBM contention law apply analysis photograph argument judge grant dismissal count complaint read story Westlaw Today click bit.ly/3hHHacFOur Standards Thomson Reuters Trust Principles</td>\n",
       "      <td>-0.8074</td>\n",
       "      <td>1.0</td>\n",
       "      <td>0.854213</td>\n",
       "    </tr>\n",
       "    <tr>\n",
       "      <th>12</th>\n",
       "      <td>2020-10-08</td>\n",
       "      <td>IBM to break up 109-year old company to focus on cloud growth</td>\n",
       "      <td>- International Business Machines Corp IBM.N is splitting itself into two public companies, capping a years-long effort by the world's first big computing firm to diversify away from its legacy businesses to focus on high-margin cloud computing.IBM will list its IT infrastructure services unit, which provides technical support for 4,600 clients in 115 countries and has a backlog of $60 billion, as a separate company with a new name by the end of 2021.The new company will have 90,000 employees and its leadership structure will be decided in a few months, Chief Financial Officer James Kavanaugh told Reuters.IBM, which currently has more than 352,000 workers, said it expects to record nearly $5 billion in expenses related to the separation and operational changes.Investors cheered the surprise move by Chief Executive Officer Arvind Krishna, the key architect behind IBM’s $34 billion acquisition of cloud company Red Hat last year, sending the company’s shares up 7%.“We divested networking back in the ‘90s, we divested PCs back in the 2000s, we divested semiconductors about five years ago because all of them didn’t necessarily play into the integrated value proposition,” Krishna said on a call with analysts.BIG BLUE’S NEW FOCUSIn a blog, Krishna called the move a “significant shift” in the 109-year-old company’s business model.“IBM is essentially getting rid of a shrinking, low-margin operation given the cannibalizing impact of automation and cloud, masking stronger growth for the rest of the operation,” Wedbush Securities analyst Moshe Katri said.IBM, which has sought to make up for slowing software sales and seasonal demand for its mainframe servers, said it would now focus on open hybrid cloud and AI solutions that will account for more than half of its recurring revenues.Krishna, who replaced Ginni Rometty as CEO in April, said IBM’s software and solutions portfolio would account for the majority of company revenue after the separation.The company also said it expects third-quarter revenue of $17.6 billion and an adjusted profit per share of $2.58, roughly in line with Street estimates.Reporting by Munsif Vengattil in Bengaluru; Editing by Ramakrishnan M.Our Standards: The Thomson Reuters Trust Principles.</td>\n",
       "      <td>130.860001</td>\n",
       "      <td>25288900</td>\n",
       "      <td>6.641677</td>\n",
       "      <td>567.535107</td>\n",
       "      <td>International Business Machines Corp IBM.N split public company cap year long effort world big computing firm diversify away legacy business focus high margin cloud compute IBM list infrastructure service unit provide technical support 4,600 client 115 country backlog $ 60 billion separate company new end 2021.the new company 90,000 employee leadership structure decide month Chief Financial Officer James Kavanaugh tell Reuters IBM currently 352,000 worker say expect record nearly $ 5 billion expense relate separation operational change investor cheer surprise Chief Executive Officer Arvind Krishna key architect IBM $ 34 billion acquisition cloud company Red Hat year send company share 7%.“we divest networking 90 divest pc 2000s divest semiconductor year ago necessarily play integrate value proposition Krishna say analyst big blue NEW FOCUSIn blog Krishna call significant shift 109-year old company business model “ibm essentially get rid shrink low margin operation give cannibalize impact automation cloud mask strong growth rest operation Wedbush Securities analyst Moshe Katri say IBM seek slow software sale seasonal demand mainframe server say focus open hybrid cloud AI solution account half recur revenue Krishna replace Ginni Rometty ceo April say IBM software solution portfolio account majority company revenue separation company say expect quarter revenue $ 17.6 billion adjusted profit share $ 2.58 roughly line street estimate report Munsif Vengattil Bengaluru editing Ramakrishnan M.Our Standards Thomson Reuters Trust Principles</td>\n",
       "      <td>0.9840</td>\n",
       "      <td>0.0</td>\n",
       "      <td>0.413830</td>\n",
       "    </tr>\n",
       "    <tr>\n",
       "      <th>13</th>\n",
       "      <td>2020-10-19</td>\n",
       "      <td>IBM posts double-digit cloud revenue growth; says customers deferring some projects</td>\n",
       "      <td>- International Business Machines Corp IBM.N edged past Wall Street estimates for quarterly revenue on Monday, bolstered by higher demand for its cloud services, a business it is staking its future on as it prepares to spin off one of its legacy units. FILE PHOTO: A man wearing a protective mask walks past an office building with the IBM logo amidst the easing of the coronavirus disease (COVID-19) restrictions in the Central Business District of Sydney, Australia, June 3, 2020.  REUTERS/Loren ElliottIBM shares, however, fell 3% after the company stayed away from issuing a forecast for the current quarter, citing uncertainty around a global economic recovery due to the COVID-19 pandemic.“Clients’ near-term priorities continue to include operational stability, flexibility and cash preservation, which tends to favor (operating expenses) over (capital expenses),” Chief Financial Officer James Kavanaugh said.“This is resulting in some project delays and purchase deferrals.”Revenue from the cloud business, previously headed by Chief Executive Officer Arvind Krishna, rose 19% to $6 billion in the third quarter, offsetting weakness in much of its other businesses.The boost from the cloud business further underscores IBM’s move to focus on its high-margin open hybrid cloud and AI solutions, which together account for more than half of its recurring revenue, by spinning off its IT infrastructure services unit.“Clients continue to balance short-term challenges and opportunities for transformation ... More of my conversations with CEOs are around how they become digital businesses,” Krishna said on a post-earnings call.IBM’s total revenue fell 2.6% to $17.56 billion in the reported quarter, but was slightly above analysts’ estimates of $17.54 billion, according to IBES data from Refinitiv.Excluding the impact from currency and business divestitures, sales declined 3.1%.The global technology services segment, IBM’s biggest unit that caters to some of the world’s largest data centers, reported a 4% drop in revenue to $6.5 billion.Excluding items, the company earned $2.58 per share, which was in line with analysts’ estimates.Reporting by Munsif Vengattil in Bengaluru; Editing by Anil D’SilvaOur Standards: The Thomson Reuters Trust Principles.</td>\n",
       "      <td>126.800003</td>\n",
       "      <td>7478700</td>\n",
       "      <td>-3.102551</td>\n",
       "      <td>-70.426946</td>\n",
       "      <td>International Business Machines Corp IBM.N edge past Wall Street estimate quarterly revenue Monday bolster high demand cloud service business stake future prepare spin legacy unit FILE PHOTO man wear protective mask walk past office building IBM logo amidst easing coronavirus disease covid-19 restriction Central Business District Sydney Australia June 3 2020 REUTERS Loren ElliottIBM share fall 3 company stay away issue forecast current quarter cite uncertainty global economic recovery covid-19 pandemic “Clients near term priority continue include operational stability flexibility cash preservation tend favor operating expense capital expense Chief Financial Officer James Kavanaugh say “This result project delay purchase deferral ”revenue cloud business previously head Chief Executive Officer Arvind Krishna rise 19 $ 6 billion quarter offset weakness business boost cloud business underscore IBM focus high margin open hybrid cloud AI solution account half recur revenue spin infrastructure service unit “Clients continue balance short term challenge opportunity transformation conversation ceo digital business Krishna say post earning IBM total revenue fall 2.6 $ 17.56 billion report quarter slightly analyst estimate $ 17.54 billion accord IBES datum Refinitiv exclude impact currency business divestiture sale decline 3.1%.the global technology service segment IBM big unit cater world large datum center report 4 drop revenue $ 6.5 billion exclude item company earn $ 2.58 share line analyst estimate report Munsif Vengattil Bengaluru editing Anil D’SilvaOur Standards Thomson Reuters Trust Principles</td>\n",
       "      <td>0.7845</td>\n",
       "      <td>0.0</td>\n",
       "      <td>0.068319</td>\n",
       "    </tr>\n",
       "    <tr>\n",
       "      <th>14</th>\n",
       "      <td>2020-10-21</td>\n",
       "      <td>US STOCKS-Stimulus bets drive Wall Street higher</td>\n",
       "      <td>- Wall Street’s main indexes rose on Tuesday as investors hoped for more stimulus from Washington, with Senate Republicans preparing to vote on a bill to help small businesses hammered by the COVID-19 pandemic.House of Representatives Speaker Nancy Pelosi and Treasury Secretary Steven Mnuchin will also talk again on Tuesday, after a 53-minute telephone conversation on Monday “continued to narrow their differences” about the coronavirus aid package, a Pelosi spokesman said on Twitter.“It’s mostly hopes that we are going to get a stimulus deal going today and we will have money in the pockets of majority of Americans who are suffering most from the pandemic,” said David Trainer, chief executive officer of New Constructs, an investment research firm.Uncertainty over the fiscal stimulus weighed on Wall Street’s main indexes on Monday and analysts expect market turbulence to increase with only two weeks left until Election Day.Latest national opinion polls pointed to a victory for Democratic challenger Joe Biden, which would mean a cooling in global trade friction, but higher taxes for corporate America.Meanwhile, the third-quarter earnings season has gathered momentum. Of the 66 S&amp;P 500 companies that have reported results, 86.4% have topped expectations for earnings, according to Refinitiv IBES data.Property and casualty insurer Travelers Cos Inc gained 3.7% as it beat quarterly profit expectations, while consumer products giant Procter &amp; Gamble Co advanced 1.2% as it raised its full-year sales and earnings forecast.All 11 major S&amp;P sectors were up with financials tracking U.S. Treasury yields.At 11:23 a.m. ET the Dow Jones Industrial Average rose 137.42 points, or 0.49%, to 28,332.84 and the gained 18.13 points, or 0.54%, to 3,445.05. The Nasdaq Composite gained 45.05 points, or 0.39%, to 11,523.93.Netflix Inc dipped 1% ahead of its third-quarter earnings report.International Business Machines Corp edged past estimates for quarterly revenue on Monday, bolstered by higher demand for its cloud services. The company’s shares, however, fell 3.3% after it stayed away from issuing a current-quarter forecast, citing economic uncertainty related to the pandemic.The U.S. Justice Department and 11 states filed an antitrust lawsuit against Alphabet Inc’s Google for allegedly breaking the law in using its market power to fend off rivals. Alphabet’s shares were up 0.2%.Advancing issues outnumbered decliners for a 2.90-to-1 ratio on the NYSE and a 1.36-to-1 ratio on the Nasdaq.The S&amp;P index recorded 11 new 52-week highs and one new low, while the Nasdaq recorded 47 new highs and 17 new lows. (Reporting by Medha Singh and Shivani Kumaresan in Bengaluru; Editing by Shounak Dasgupta)Our Standards: The Thomson Reuters Trust Principles.</td>\n",
       "      <td>116.660004</td>\n",
       "      <td>9755300</td>\n",
       "      <td>-7.996844</td>\n",
       "      <td>30.441119</td>\n",
       "      <td>Wall Street main index rise Tuesday investor hope stimulus Washington Senate Republicans prepare vote bill help small business hammer covid-19 pandemic House Representatives Speaker Nancy Pelosi Treasury Secretary Steven Mnuchin talk Tuesday 53-minute telephone conversation Monday continue narrow difference coronavirus aid package Pelosi spokesman say Twitter “It hope go stimulus deal go today money pocket majority Americans suffer pandemic say David Trainer chief executive officer New Constructs investment research firm uncertainty fiscal stimulus weigh Wall Street main index Monday analyst expect market turbulence increase week leave Election Day late national opinion poll point victory democratic challenger Joe Biden mean cooling global trade friction high taxis corporate America quarter earning season gather momentum 66 S&amp;P 500 company report result 86.4 top expectation earning accord Refinitiv IBES datum property casualty insurer Travelers Cos Inc gain 3.7 beat quarterly profit expectation consumer product giant Procter Gamble Co advance 1.2 raise year sale earning forecast 11 major S&amp;P sector financial track U.S. Treasury yield 11:23 a.m. ET Dow Jones Industrial Average rise 137.42 point 0.49 28,332.84 gain 18.13 point 0.54 3,445.05 Nasdaq Composite gain 45.05 point 0.39 11,523.93.netflix Inc dip 1 ahead quarter earning report International Business Machines Corp edge past estimate quarterly revenue Monday bolster high demand cloud service company share fall 3.3 stay away issue current quarter forecast cite economic uncertainty relate pandemic U.S. Justice Department 11 state file antitrust lawsuit Alphabet Inc Google allegedly break law market power fend rival Alphabet share 0.2%.advance issue outnumber decliner 2.90-to-1 ratio NYSE 1.36-to-1 ratio Nasdaq S&amp;P index record 11 new 52-week high new low Nasdaq record 47 new high 17 new low report Medha Singh Shivani Kumaresan Bengaluru editing Shounak Dasgupta)Our Standards Thomson Reuters Trust Principles</td>\n",
       "      <td>0.9657</td>\n",
       "      <td>1.0</td>\n",
       "      <td>0.779279</td>\n",
       "    </tr>\n",
       "    <tr>\n",
       "      <th>15</th>\n",
       "      <td>2020-10-22</td>\n",
       "      <td>Saudi Arabia signs MoUs with IBM, Alibaba and Huawei on AI</td>\n",
       "      <td>- The Saudi Authority for Data and Artificial Intelligence on Thursday signed three memorandums of understanding with IBM, Alibaba and Huawei at a summit in the kingdom, state news agency SPA said.SPA did not disclose details on the agreements.Reporting by Yousef Saba; editing by Jason NeelyOur Standards: The Thomson Reuters Trust Principles.</td>\n",
       "      <td>115.000000</td>\n",
       "      <td>7855800</td>\n",
       "      <td>-1.422942</td>\n",
       "      <td>-19.471467</td>\n",
       "      <td>Saudi Authority Data Artificial Intelligence Thursday sign memorandum understanding IBM Alibaba Huawei summit kingdom state news agency SPA say SPA disclose detail agreement report Yousef Saba editing Jason NeelyOur Standards Thomson Reuters Trust Principles</td>\n",
       "      <td>0.8720</td>\n",
       "      <td>1.0</td>\n",
       "      <td>0.736509</td>\n",
       "    </tr>\n",
       "  </tbody>\n",
       "</table>\n",
       "</div>"
      ],
      "text/plain": [
       "         Date  ... sentiment_prob\n",
       "0  2020-07-10  ...  0.987273     \n",
       "1  2020-07-14  ...  0.415587     \n",
       "2  2020-07-20  ...  0.110343     \n",
       "3  2020-07-22  ...  0.011617     \n",
       "4  2020-08-04  ...  0.707661     \n",
       "5  2020-08-17  ...  0.275043     \n",
       "6  2020-08-20  ...  0.030244     \n",
       "7  2020-08-26  ...  0.106910     \n",
       "8  2020-09-02  ...  0.641823     \n",
       "9  2020-09-08  ...  0.263489     \n",
       "10 2020-09-11  ...  0.256986     \n",
       "11 2020-09-16  ...  0.854213     \n",
       "12 2020-10-08  ...  0.413830     \n",
       "13 2020-10-19  ...  0.068319     \n",
       "14 2020-10-21  ...  0.779279     \n",
       "15 2020-10-22  ...  0.736509     \n",
       "\n",
       "[16 rows x 11 columns]"
      ]
     },
     "execution_count": 48,
     "metadata": {
      "tags": []
     },
     "output_type": "execute_result"
    }
   ],
   "source": [
    "df"
   ]
  },
  {
   "cell_type": "code",
   "execution_count": 65,
   "metadata": {
    "colab": {
     "base_uri": "https://localhost:8080/"
    },
    "id": "cQfsUv9DKQkP",
    "outputId": "1175e1f5-367f-4c3a-c766-fb3c3a8300f7"
   },
   "outputs": [
    {
     "name": "stdout",
     "output_type": "stream",
     "text": [
      "[-17.057425    9.2248745]\n",
      "[19.598518 -8.233366]\n",
      "[-2.1139226  1.9282594]\n",
      "[ 7.9046907 -2.8281903]\n",
      "[-7.4115567  3.913076 ]\n",
      "[-0.36487055  0.350126  ]\n",
      "[ 6.9395766 -2.2717285]\n",
      "[ 1.584025   -0.40915713]\n",
      "[ 33.673542 -16.537348]\n",
      "[ 6.7009635 -2.3390806]\n",
      "[ 27.784412 -12.55434 ]\n",
      "[ 26.913769 -15.277478]\n",
      "[16.553556 -6.058278]\n",
      "[24.205923 -9.527567]\n",
      "[17.983824 -7.237853]\n",
      "[12.402224 -9.343469]\n"
     ]
    }
   ],
   "source": [
    "x = None\n",
    "deep_learning_sentiment_prob = []\n",
    "\n",
    "for i in df.iloc[:,7]:\n",
    "    test = convert_to_ids([i], token_ids, args.seq_len)\n",
    "    test = torch.LongTensor(test).to(device)\n",
    "    pred = model(test).cpu().detach().numpy()[0]\n",
    "    print(pred)\n",
    "    x = softmax(pred)\n",
    "    deep_learning_sentiment_prob.append(x[1])"
   ]
  },
  {
   "cell_type": "code",
   "execution_count": 66,
   "metadata": {
    "colab": {
     "base_uri": "https://localhost:8080/",
     "height": 1000
    },
    "id": "gr3j1xrQKQbB",
    "outputId": "1967ed34-c3a3-4ff2-9950-c68351be837e"
   },
   "outputs": [
    {
     "data": {
      "text/html": [
       "<div>\n",
       "<style scoped>\n",
       "    .dataframe tbody tr th:only-of-type {\n",
       "        vertical-align: middle;\n",
       "    }\n",
       "\n",
       "    .dataframe tbody tr th {\n",
       "        vertical-align: top;\n",
       "    }\n",
       "\n",
       "    .dataframe thead th {\n",
       "        text-align: right;\n",
       "    }\n",
       "</style>\n",
       "<table border=\"1\" class=\"dataframe\">\n",
       "  <thead>\n",
       "    <tr style=\"text-align: right;\">\n",
       "      <th></th>\n",
       "      <th>Date</th>\n",
       "      <th>Header</th>\n",
       "      <th>Text</th>\n",
       "      <th>Open</th>\n",
       "      <th>Volume</th>\n",
       "      <th>% Change in Stock Price</th>\n",
       "      <th>% Change in Volume</th>\n",
       "      <th>Text (clean)</th>\n",
       "      <th>Vader Sentiment Score</th>\n",
       "      <th>sentiment</th>\n",
       "      <th>sentiment_prob</th>\n",
       "      <th>deep_learning_sentiment_prob</th>\n",
       "    </tr>\n",
       "  </thead>\n",
       "  <tbody>\n",
       "    <tr>\n",
       "      <th>0</th>\n",
       "      <td>2020-07-10</td>\n",
       "      <td>U.S. companies seeking capital during pandemic test bank market's new normal</td>\n",
       "      <td>la  Guzman5 Min ReadNEW YORK (LPC) - Bank lenders for high-quality US companies are taking different refinancing avenues as they seek to extend maturities on billions of US dollars in loans at a time when the Covid-19 pandemic has made liquidity a top priority.FILE PHOTO: An empty Times Square is seen on the street following the outbreak of coronavirus disease (COVID-19), in New York City, U.S., March 18, 2020. REUTERS/Jeenah MoonCorporations that historically kept their credit agreements intact while extending maturities are now making significant changes to the loan documents accepting risk-mitigating concessions on pricing, terms and the loans’ longevity, while others seem exempt from the new requirements.Gilead Sciences, IBM and Ford Motor Co have tapped the market recently, with transactions that have pushed maturities out and ensured their access to capital following company-specific strategies that reflect different lenders’ perceptions of the credits and the changing times.“Not every company is going through the pandemic the same way because with more volatility there’s more differentiation, so you’re going to have different treatment and receptivity from the banks as a result,” a senior banker said.As the investment grade loan market grapples with tighter liquidity as a result of revolver drawdowns during the health crisis, lenders are rarely going beyond 364-day tenors for new deals. In the second quarter, investment grade refinancing dropped to a 10-year low of US$139bn, as borrowers largely passed on refinancing their multiyear revolvers. Five-year tenors dropped to 5% of total revolver volume in the second quarter, according to Refinitiv LPC data.The treatment is going to be dependent on the credit rating, the company’s performance and the sector, bankers agreed.In late June, A3/A rated Gilead refinanced a US$2.5bn, five-year credit agreement that was set to mature in May 2021. The terms on the facility remained the same with pricing at 87.5bp over Libor, according to Refinitiv LPC data. The proceeds of the loan are for general purposes, according to the data.The biopharmaceutical company is developing clinical trials of an antiviral Covid-19 treatment called remdesivir. Government support for the drug and the potential for profit likely helped seal the deal with lenders for the first five-year refinancing since the pandemic started.The fact that Gilead is an important capital markets issuer may have constituted an additional incentive for its bank group to commit to the long maturity during trying times.Spokespeople at Gilead and Bank of America, the administrative agent on the prior credit facility, declined to comment.Meanwhile, household name IBM took a different path and extended its credit facilities by signing a new US$2.5bn 364-day loan and extending the maturities on its US$2.5bn three-year credit agreement and US$10.25bn five-year credit agreements by two years, rather than completely refinancing. The A2/A rated technology giant withdrew its 2020 annual forecast as the pandemic impacted second quarter revenues.B+/Ba2 rated Ford, which lost its investment grade status in March due to the outbreak’s economic fallout, is on the opposite side of the spectrum as it seeks to extend maturities on US$5.35bn in existing loans.After pulling its refinancing plans for US$15.4bn in loans earlier this year, the B+/Ba2 rated automaker is currently in market looking to extend a more modestly-sized amount.As it looks to push out maturities on a US$3.35bn three-year revolving credit and a US$2bn three-year revolver for another year, the company will leave a US$10.05bn five-year revolver and US$1.5bn term loan unchanged.The lenders who agree to the extensions will receive a 40bp fee, which shows the large incentive the company had to offer to have banks stick with the company, which saw a 33.3% drop in US sales in the second quarter.“We’re all hoping for a better tomorrow,” said Robert Danziger, managing director of debt capital markets at MUFG. “Companies are positioning themselves to address immediate, short term liquidity needs now. In this way, rather than breaking a lot of relationship glass, they can wait for things to improve further in the bank market (hopefully in the not too distant future) and they can go back to pushing out tenors and refining pricing.”Reporting by Daniela Guzman; Editing by Michelle Sierra and Kristen Haunss.Our Standards: The Thomson Reuters Trust Principles.</td>\n",
       "      <td>115.500000</td>\n",
       "      <td>4285700</td>\n",
       "      <td>NaN</td>\n",
       "      <td>NaN</td>\n",
       "      <td>la Guzman5 Min ReadNEW YORK LPC Bank lender high quality company take different refinancing avenue seek extend maturity billion dollar loan time Covid-19 pandemic liquidity priority FILE PHOTO Times Square see street follow outbreak coronavirus disease COVID-19 New York City U.S. March 18 2020 REUTERS Jeenah MoonCorporations historically keep credit agreement intact extend maturity make significant change loan document accept risk mitigate concession pricing term loan longevity exempt new requirement Gilead Sciences IBM Ford Motor Co tap market recently transaction push maturity ensure access capital follow company specific strategy reflect different lender perception credit change time “not company go pandemic way volatility differentiation go different treatment receptivity bank result senior banker say investment grade loan market grapple tight liquidity result revolver drawdown health crisis lender rarely go 364-day tenor new deal second quarter investment grade refinancing drop 10-year low us$ 139bn borrower largely pass refinance multiyear revolver year tenor drop 5 total revolver volume second quarter accord Refinitiv LPC datum treatment go dependent credit rating company performance sector banker agree late June A3 rate Gilead refinance us$ 2.5bn year credit agreement set mature 2021 term facility remain pricing 87.5bp Libor accord Refinitiv LPC datum proceed loan general purpose accord datum biopharmaceutical company develop clinical trial antiviral Covid-19 treatment call remdesivir government support drug potential profit likely help seal deal lender year refinancing pandemic start fact Gilead important capital market issuer constitute additional incentive bank group commit long maturity try time spokespeople Gilead Bank America administrative agent prior credit facility decline comment household IBM take different path extend credit facility sign new us$ 2.5bn 364-day loan extend maturity us$ 2.5bn year credit agreement us$ 10.25bn year credit agreement year completely refinance A2 rate technology giant withdraw 2020 annual forecast pandemic impact second quarter revenue B+/Ba2 rate Ford lose investment grade status March outbreak economic fallout opposite spectrum seek extend maturity us$ 5.35bn exist loan pull refinance plan us$ 15.4bn loan earlier year B+/Ba2 rate automaker currently market look extend modestly sized look push maturity us$ 3.35bn year revolve credit us$ 2bn year revolver year company leave us$ 10.05bn year revolver us$ 1.5bn term loan unchanged lender agree extension receive 40bp fee show large incentive company offer bank stick company see 33.3 drop sale second quarter “we’re hope well tomorrow say Robert Danziger manage director debt capital market MUFG company position address immediate short term liquidity need way break lot relationship glass wait thing improve bank market hopefully distant future push tenor refining pricing ”reporte Daniela Guzman editing Michelle Sierra Kristen Haunss Standards Thomson Reuters Trust Principles</td>\n",
       "      <td>0.9963</td>\n",
       "      <td>1.0</td>\n",
       "      <td>0.987273</td>\n",
       "      <td>1.000000e+00</td>\n",
       "    </tr>\n",
       "    <tr>\n",
       "      <th>1</th>\n",
       "      <td>2020-07-14</td>\n",
       "      <td>Bill Gross predicts value outperforms growth, based on rates correlation</td>\n",
       "      <td>- Billionaire investor Bill Gross is predicting that value stocks like IBM IBM.N and Altria Group MO.N are likely to fare better than growth stocks like Apple AAPL.O or Amazon.com AMZN.O in the near term, due to a correlation with real interest rates.U.S. real yields - which adjust for inflation - have been declining in response to the Federal Reserve's aggressive monetary actions over the past few months to limit the economic fallout of the coronavirus pandemic. The yield on the 10-year Treasury Inflation-Protected Security (TIPS) US10YTIP=RR has been trading with a negative yield since late March and is now minus 0.803%, near an all-time-low. Gross, who co-founded Pacific Investment Management Company, then spent four years at Janus Henderson before leaving in 2019 to manage his own money, said that the reason that the \"Fab 5 stocks\" and growth stocks in general had done \"so fabulously well\" centers on falling real interest rates that \"are still reaching historic lows.\" Gross is referring to a clutch of high-performing stocks: Amazon, Facebook FB.O, Apple, Netflix NFLX.O and Google's parent Alphabet GOOGL.O, according to his spokesperson. The yields of TIPS are highly correlated with growth stocks, but have far less of an effect on the prices of traditional value stocks, he wrote.The future price disparity of Microsoft MSFT.O, Apple and Amazon \"is subject to an ongoing decline in real rates, which to my mind, have seen their best days,\" Gross said. \"Value stocks, versus growth stocks, should be an investor's preference in the near-term future,\" he writes.Gross said that as well as IBM and Altria, he likes stocks such as midstream company Enterprise Products Partners EPD.N and pharmaceutical giant AbbVie ABBV.N.“Happiness is a healthy body, sinking a few 10-foot putts, and investing in value, versus the ‘Fab 5’,” wrote Gross, who also said he was COVID-19 free.Reporting by Kate Duguid; Additional reporting by Gertrude Chavez-Dreyfuss; Editing by Megan Davies and Christopher CushingOur Standards: The Thomson Reuters Trust Principles.</td>\n",
       "      <td>118.620003</td>\n",
       "      <td>4534400</td>\n",
       "      <td>2.701301</td>\n",
       "      <td>5.803019</td>\n",
       "      <td>billionaire investor Bill Gross predict value stock like IBM IBM.N Altria Group MO.N likely fare better growth stock like Apple aapl.o Amazon.com AMZN.O near term correlation real interest rate U.S. real yield adjust inflation decline response Federal Reserve aggressive monetary action past month limit economic fallout coronavirus pandemic yield 10-year Treasury Inflation protect security TIPS US10YTIP = rr trade negative yield late March minus 0.803 near time low gross co found Pacific Investment Management Company spend year Janus Henderson leave 2019 manage money say reason fab 5 stock growth stock general fabulously center fall real interest rate reach historic low Gross refer clutch high perform stock Amazon Facebook FB.O Apple Netflix NFLX.O Google parent Alphabet GOOGL.O accord spokesperson yield TIPS highly correlate growth stock far effect price traditional value stock write future price disparity Microsoft MSFT.O Apple Amazon subject ongoing decline real rate mind see good day Gross say value stock versus growth stock investor preference near term future write Gross say IBM Altria like stock midstream company Enterprise Products partner EPD.N pharmaceutical giant AbbVie ABBV.N.“Happiness healthy body sink 10-foot putt invest value versus fab 5 write Gross say covid-19 free report Kate Duguid additional reporting Gertrude Chavez Dreyfuss editing Megan Davies Christopher CushingOur Standards Thomson Reuters Trust Principles</td>\n",
       "      <td>0.9843</td>\n",
       "      <td>0.0</td>\n",
       "      <td>0.415587</td>\n",
       "      <td>8.180243e-13</td>\n",
       "    </tr>\n",
       "    <tr>\n",
       "      <th>2</th>\n",
       "      <td>2020-07-20</td>\n",
       "      <td>IBM beats estimates; sees gains as customers accelerate shift to cloud</td>\n",
       "      <td>- International Business Machines Corp IBM.N beat estimates for second-quarter profit on Monday and signaled that demand in its cloud computing business would get a boost as large corporations accelerate their digital shift due to the coronavirus crisis.FILE PHOTO: A man stands near an IBM logo at the Mobile World Congress in Barcelona, Spain, February 25, 2019.    REUTERS/Sergio Perez/File PhotoThe company’s shares rose 5% in after-hours trading.IBM has jettisoned some of its legacy business to focus on the high-margin cloud computing business, an area that has seen a lot of action in recent years as companies ramp up their digital shift to boost efficiency.“The trend we see in the market is clear. Clients want to modernize apps, move more workloads to the cloud and automate IT tasks,” IBM’s new boss Arvind Krishna said on a post-earnings call with analysts.Revenue from the cloud business, previously headed by Krishna, rose 30% to $6.3 billion in the second quarter.Krishna took over as chief executive officer from Ginni Rometty in April, while appointing former Bank of America Corp's BAC.N top technology executive, Howard Boville, as the new head of the cloud business.IBM’s global business services unit was impacted as clients cut or delayed spending on discretionary projects due to COVID-19, CFO James Kavanaugh told Reuters. Sales in the unit fell 7% to $3.9 billion.While Western Europe and Asia Pacific showed a pickup in client spending during June, U.S. and Latin America customers pulled back as the pandemic impact got worse, Kavanaugh said.“From a client perspective, our business is more concentrated in large enterprises, which in total have been relatively more stable throughout the pandemic,” Kavanaugh said.IBM’s total revenue fell 5.4% to $18.12 billion, but came in above analysts’ estimates of $17.72 billion, according to IBES data from Refinitiv. Excluding the impact from currency and business divestitures, revenue declined 1.9%.Excluding items, the company earned $2.18 per share, above estimates of $2.07.Reporting by Munsif Vengattil in Bengaluru; Editing by Maju SamuelOur Standards: The Thomson Reuters Trust Principles.</td>\n",
       "      <td>126.070000</td>\n",
       "      <td>9927700</td>\n",
       "      <td>6.280557</td>\n",
       "      <td>118.941867</td>\n",
       "      <td>International Business Machines Corp IBM.N beat estimate second quarter profit Monday signal demand cloud computing business boost large corporation accelerate digital shift coronavirus crisis FILE PHOTO man stand near IBM logo Mobile World Congress Barcelona Spain February 25 2019 REUTERS Sergio Perez File PhotoThe company share rise 5 hour trading IBM jettison legacy business focus high margin cloud compute business area see lot action recent year company ramp digital shift boost efficiency “the trend market clear client want modernize app workload cloud automate task IBM new boss Arvind Krishna say post earning analyst revenue cloud business previously head Krishna rise 30 $ 6.3 billion second quarter Krishna take chief executive officer Ginni Rometty April appoint Bank America Corp BAC.N technology executive Howard Boville new head cloud business IBM global business service unit impact client cut delay spend discretionary project covid-19 CFO James Kavanaugh tell Reuters sale unit fall 7 $ 3.9 billion Western Europe Asia Pacific show pickup client spending June U.S. Latin America customer pull pandemic impact get bad Kavanaugh say “from client perspective business concentrated large enterprise total relatively stable pandemic Kavanaugh say IBM total revenue fall 5.4 $ 18.12 billion come analyst estimate $ 17.72 billion accord IBES datum Refinitiv exclude impact currency business divestiture revenue decline 1.9%.excluding item company earn $ 2.18 share estimate $ 2.07.reporting Munsif Vengattil Bengaluru editing Maju SamuelOur Standards Thomson Reuters Trust Principles</td>\n",
       "      <td>0.8020</td>\n",
       "      <td>0.0</td>\n",
       "      <td>0.110343</td>\n",
       "      <td>9.827438e-01</td>\n",
       "    </tr>\n",
       "    <tr>\n",
       "      <th>3</th>\n",
       "      <td>2020-07-22</td>\n",
       "      <td>Microsoft cloud flagship posts first growth under 50%; bookings growth steady</td>\n",
       "      <td>- Microsoft Corp's MSFT.O flagship cloud computing business Azure reported quarterly sales growth of under 50% for the first time ever on Wednesday, sending the tech giant's shares down 2%.The Microsoft store is pictured in the Manhattan borough of New York City, New York, U.S., June 26, 2020. REUTERS/Carlo AllegriRevenue in Microsoft’s Intelligent Cloud segment rose 17% to $13.4 billion, with 47% growth in the Azure component, which includes essential computing and storage services. Analysts on average had expected cloud revenue of $13.09 billion in the fourth quarter ended June 30, according to IBES data from Refinitiv.Azure's growth is the most direct measure of performance against top cloud rival Amazon.com Inc's AMZN.O Amazon Web Services, as Microsoft does not break out Azure's revenue by dollar amount. AWS posted revenue growth of 33% to $10.2 billion, which analysts believe exceeds Azure's total, for the quarter ended March 31. International Business Machines Corp IBM.N, another Microsoft rival, this week beat Wall Street expectations with strong cloud growth.Beyond Azure, Microsoft’s results showed how the novel coronavirus is both helping and hurting Microsoft.Businesses are investing in cloud technology for remote work, and the video game Minecraft scored a record 132 million monthly active users as families worked and played from home. But Microsoft’s forecast for some versions of its Office software slightly missed expectations because of weak sales to struggling small and mid-sized businesses.“No one can take away from the fact that GDP is going to be negative,” Chief Executive Satya Nadella told investors on the company’s earnings call, referring to U.S. Gross Domestic Product.Microsoft Chief Financial Officer Amy Hood said 12% commercial bookings growth, which reflects corporate contracts for future software and services, was roughly unchanged from the previous quarter and beat company estimates. The figure signals that customers are keeping long-term technology spending plans intact.“Our strong position in the cloud has allowed us to have good results and support our customers as they work on the next couple of years of digital transformation,” Hood said in an interview.Microsoft's total revenue rose 13% to $38.03 billion in the quarter, beating estimates of $36.5 billion, according to IBES data from Refinitiv. (bit.ly/3jxrriP)The growth was powered by its More Personal Computing unit as more people worldwide used its products to work on Windows PCs and play games on Xboxes during lockdowns. Revenue from the unit, the largest by sales, rose 14% to $12.9 billion, beating analysts’ estimates of $11.46 billion.Microsoft said its professional networking site, LinkedIn, was hurt by the weak job market and advertising spending cuts.Net income fell to $11.20 billion, or $1.46 per share, from $13.19 billion, or $1.71 per share, a year earlier.Reporting by Stephen Nellis in San Francisco and Munsif Vengattil in Bengaluru; Editing by Maju Samuel and Richard ChangOur Standards: The Thomson Reuters Trust Principles.</td>\n",
       "      <td>125.900002</td>\n",
       "      <td>8195400</td>\n",
       "      <td>-0.134844</td>\n",
       "      <td>-17.449157</td>\n",
       "      <td>Microsoft Corp MSFT.O flagship cloud compute business Azure report quarterly sale growth 50 time Wednesday send tech giant share 2%.the Microsoft store picture Manhattan borough New York City New York U.S. June 26 2020 REUTERS Carlo AllegriRevenue Microsoft Intelligent Cloud segment rise 17 $ 13.4 billion 47 growth Azure component include essential computing storage service analyst average expect cloud revenue $ 13.09 billion fourth quarter end June 30 accord IBES datum Refinitiv Azure growth direct measure performance cloud rival Amazon.com Inc AMZN.O Amazon Web Services Microsoft break Azure revenue dollar AWS post revenue growth 33 $ 10.2 billion analyst believe exceed Azure total quarter end March 31 International Business Machines Corp IBM.N Microsoft rival week beat Wall Street expectation strong cloud growth Azure Microsoft result show novel coronavirus help hurt Microsoft business invest cloud technology remote work video game Minecraft score record 132 million monthly active user family work play home Microsoft forecast version Office software slightly miss expectation weak sale struggle small mid sized business “No away fact GDP go negative Chief Executive Satya Nadella tell investor company earning refer U.S. Gross Domestic Product Microsoft Chief Financial Officer Amy Hood say 12 commercial booking growth reflect corporate contract future software service roughly unchanged previous quarter beat company estimate figure signal customer keep long term technology spending plan intact “our strong position cloud allow good result support customer work couple year digital transformation Hood say interview Microsoft total revenue rise 13 $ 38.03 billion quarter beat estimate $ 36.5 billion accord IBES datum Refinitiv bit.ly/3jxrriP)The growth power Personal Computing unit people worldwide product work Windows pc play game xboxe lockdown revenue unit large sale rise 14 $ 12.9 billion beat analyst estimate $ 11.46 billion Microsoft say professional networking site LinkedIn hurt weak job market advertising spending cut net income fall $ 11.20 billion $ 1.46 share $ 13.19 billion $ 1.71 share year earlier report Stephen Nellis San Francisco Munsif Vengattil Bengaluru editing Maju Samuel Richard ChangOur Standards Thomson Reuters Trust Principles</td>\n",
       "      <td>0.9849</td>\n",
       "      <td>0.0</td>\n",
       "      <td>0.011617</td>\n",
       "      <td>2.181522e-05</td>\n",
       "    </tr>\n",
       "    <tr>\n",
       "      <th>4</th>\n",
       "      <td>2020-08-04</td>\n",
       "      <td>White House unveils new partnership to boost quantum science education</td>\n",
       "      <td>- The White House Office of Science and Technology Policy said on Wednesday it is launching a national education partnership to expand access to K-12 quantum information science (QIS) education with major companies and research institutions.The public-private initiative with the National Science Foundation includes Amazon.com’s Amazon Web Services, Boeing Co, Alphabet Inc’s Google, IBM Corp , Lockheed Martin, Microsoft Corp, the University of Illinois and University of Chicago. The National Science Foundation is also awarding $1 million to QIS education.The initiative is designed in part to help introduce students to quantum information themes before college. (Reporting by David Shepardson Editing by Chris Reese)Our Standards: The Thomson Reuters Trust Principles.</td>\n",
       "      <td>123.820000</td>\n",
       "      <td>3466100</td>\n",
       "      <td>-1.652106</td>\n",
       "      <td>-57.706762</td>\n",
       "      <td>White House Office Science Technology Policy say Wednesday launch national education partnership expand access K-12 quantum information science QIS education major company research institution public private initiative National Science Foundation include Amazon.com Amazon Web Services Boeing Co Alphabet Inc Google IBM Corp Lockheed Martin Microsoft Corp University Illinois University Chicago National Science Foundation award $ 1 million qis education initiative design help introduce student quantum information theme college report David Shepardson Editing Chris Reese)Our Standards Thomson Reuters Trust Principles</td>\n",
       "      <td>0.9100</td>\n",
       "      <td>1.0</td>\n",
       "      <td>0.707661</td>\n",
       "      <td>9.999881e-01</td>\n",
       "    </tr>\n",
       "    <tr>\n",
       "      <th>5</th>\n",
       "      <td>2020-08-17</td>\n",
       "      <td>IBM rolls out newest processor chip, taps Samsung for manufacturing</td>\n",
       "      <td>- International Business Machines Corp IBM.N announced on Monday a new processor chip for data centers that it says will be able to handle three times the workload of its predecessor.The IBM-designed Power10 chip will be manufactured by Samsung Electronics Co Ltd 005930.KS and is meant for use by businesses inside data centers, IBM said.The chip will use Samsung's 7-nanometer chip manufacturing process, which is similar to the 7-nanometer technology that Advanced Micro Devices Inc AMD.O uses to have its chips made by Taiwan Semiconductor Manufacturing Co Ltd 2330.TW.Both IBM and AMD use outside chip factories to compete against Intel Corp, the dominant provider of central processor chips in data centers and one of the few players left that both designs and manufactures its own chips.Intel recently said its next generation of manufacturing technology faces delays, which analysts believe will allow its rivals to gain market share.IBM has long focused on high-performance computing systems, with three of the world’s top-ten fastest supercomputers using its chips. The company said Monday that the Power10 chip has been designed to be faster at artificial intelligence computing tasks than its predecessor, doing such work up to 20 times faster than its previous generation of chip.Reporting by Stephen Nellis in San Francisco; editing by Diane CraftOur Standards: The Thomson Reuters Trust Principles.</td>\n",
       "      <td>125.250000</td>\n",
       "      <td>3360100</td>\n",
       "      <td>1.154902</td>\n",
       "      <td>-3.058192</td>\n",
       "      <td>International Business Machines Corp IBM.N announce Monday new processor chip datum center say able handle time workload predecessor IBM design Power10 chip manufacture Samsung Electronics Co Ltd 005930.ks mean use business inside datum center IBM say chip use Samsung 7-nanometer chip manufacturing process similar 7-nanometer technology Advanced Micro Devices Inc AMD.O use chip Taiwan Semiconductor Manufacturing Co Ltd 2330.tw.both IBM AMD use outside chip factory compete Intel Corp dominant provider central processor chip datum center player leave design manufacture chip Intel recently say generation manufacture technology face delay analyst believe allow rival gain market share IBM long focus high performance computing system world fast supercomputer chip company say Monday Power10 chip design fast artificial intelligence compute task predecessor work 20 time faster previous generation chip reporting Stephen Nellis San Francisco editing Diane CraftOur Standards Thomson Reuters Trust Principles</td>\n",
       "      <td>0.9081</td>\n",
       "      <td>0.0</td>\n",
       "      <td>0.275043</td>\n",
       "      <td>6.715043e-01</td>\n",
       "    </tr>\n",
       "    <tr>\n",
       "      <th>6</th>\n",
       "      <td>2020-08-20</td>\n",
       "      <td>In U.S.-China tech war, investors bet on China's localisation push</td>\n",
       "      <td>- As the U.S.-China “tech war” widens, investors are betting on China’s efforts to replace U.S. technologies with indigenous applications to run networks in the state sector.FILE PHOTO: Chinese and U.S. flags flutter near The Bund, before U.S. trade delegation meet their Chinese counterparts for talks in Shanghai, China July 30, 2019.  REUTERS/Aly SongIn recent months, local governments and state firms such as China Telecom have announced plans and procurements aimed at fostering a home-grown tech ecosystem to displace gear from the likes of Intel, Microsoft, Oracle and IBM.An index tracking Chinese IT stocks .CSIINT has jumped nearly 30% this year, doubling blue-chip gains .CSI300.\"We're seeing more U.S. actions against China, and the future tends to be 'one world, two systems',\" said Wu Kan, portfolio manager at Soochow Securities Co, who has invested in local tech leaders including China National Software &amp; Service Co Ltd 600536.SS, China Greatwall Technology Group 000066.SZ and Beijing Kingsoft Office Software 688111.SS. “Any segment that faces decoupling risks represents big investment opportunities.”Some market watchers warn valuations of China tech stocks are getting frothy at roughly 60 times trailing earnings, noting Chinese firms could take years to catch-up to established global players. But Wu said price levels are justified by growth potential and direct government backing.The Trump administration has recently strengthened restrictions on China’s Huawei Technologies and sanctioned China-owned apps TikTok and WeChat. Washington also rolled out a “Clean Network” initiative to exclude Chinese tech firms perceived as threatening national security.Under U.S. pressure, Chinese vendors are poised to gain local market share, said Jie Lu, Robeco’s China research head.“China will ramp up the investment and R&amp;D intensity for critical industries such as semiconductors,” Lu said.Dongxing Securities predicted that a retooling would create a 1 trillion yuan ($144.46 billion) opportunity over the next three years for local vendors.KUNPENG PUSHLocal governments are rushing to form industry federations to promote the use of Huawei’s Kunpeng processing technologies.Last week, China Unicom's Wuchang subsidiary struck a partnership with Huanghe Technology, which makes servers and PCs using Kunpeng technologies. In May, IT distributer Digital China 000034.SZ said it was building plants to make PCs and servers using Kunpeng CPUs. Also in May, China Telecom said it would procure up to 56,314 servers in 2020, one-fifth of them using Kunpeng and Hygon Dhyana chips, which rival U.S. brands Intel and AMD in a move seen as a gesture of Beijing’s localisation push.“China must promote domestic replacement to avoid being strangled, even as its current technology lags by far,” Zhang Chi, chairman of Xin Ding Capital said during an investor roadshow for Haigon Information Technology, maker of Hygon Dhyana chips.Some 95% of Chinese servers use CPUs from Intel.It would be disaster, Zhang said, “if one day, Trump bans Intel from selling CPUs to China.”Zhang expects Chinese government agencies to replace all computers using U.S. chips in the next five years, echoing views of many analysts.National Software &amp; Service, which makes operating systems that compete with Windows and middleware that aims to rival IBM and Oracle, expects revenue this year to jump 70% to 10 billion yuan.Beijing Kingsoft Office Software this week posted a 143% jump in first-half profit and said China’s need for information security is boosting sales.Beijing Baolande Software Corp 688058.SS also sees governments and finance clients as new growth engines thanks to replacement demand, investor relations official Guo Xing said. But Brian Bandsma, New York-based portfolio manager at Vontobel Asset Management, said the opportunities in replacement demand would be limited, given less competitive local offerings and what may be longer-than-expected adoption rates.“Companies like Microsoft have been around for decades and have a very complex piece of software that’s being heavily used by multiple industries. There’s a reason why Microsoft is in the position it’s in,” said Bandsma.“There’s probably too much optimism baked into valuations in terms of what these local companies are going to get out of China’s focus on domestic suppliers.”(This story corrects to fix typographical error in company name in 4th to last paragraph)Reporting by Samuel Shen and Josh Horwitz; Editing by Tony Munroe and Kim CoghillOur Standards: The Thomson Reuters Trust Principles.</td>\n",
       "      <td>123.199997</td>\n",
       "      <td>2561200</td>\n",
       "      <td>-1.636729</td>\n",
       "      <td>-23.776078</td>\n",
       "      <td>U.S.-China tech war widen investor bet China effort replace U.S. technology indigenous application run network state sector FILE PHOTO Chinese U.S. flag flutter near Bund U.S. trade delegation meet chinese counterpart talk Shanghai China July 30 2019 REUTERS Aly songin recent month local government state firm China Telecom announce plan procurement aim foster home grow tech ecosystem displace gear like Intel Microsoft Oracle IBM.An index track Chinese stock .CSIINT jump nearly 30 year double blue chip gain .CSI300.\"We're see U.S. action China future tend world system say Wu Kan portfolio manager Soochow Securities Co invest local tech leader include China National Software Service Co Ltd 600536.ss China Greatwall Technology Group 000066.sz Beijing Kingsoft Office Software 688111.ss segment face decouple risk represent big investment opportunity ”Some market watcher warn valuation China tech stock get frothy roughly 60 time trail earning note chinese firm year catch establish global player Wu say price level justify growth potential direct government backing Trump administration recently strengthen restriction China Huawei Technologies sanction China own app TikTok WeChat Washington roll Clean Network initiative exclude chinese tech firm perceive threaten national security U.S. pressure chinese vendor poise gain local market share say Jie Lu Robeco China research head “China ramp investment r&amp;d intensity critical industry semiconductor Lu say Dongxing Securities predict retooling create 1 trillion yuan $ 144.46 billion opportunity year local vendor KUNPENG pushlocal government rush form industry federation promote use Huawei Kunpeng processing technology week China Unicom Wuchang subsidiary strike partnership Huanghe Technology make server pc Kunpeng technology distributer Digital China 000034.sz say build plant pc server Kunpeng CPUs China Telecom say procure 56,314 server 2020 fifth Kunpeng Hygon Dhyana chip rival U.S. brand Intel AMD see gesture Beijing localisation push “China promote domestic replacement avoid strangle current technology lag far Zhang Chi chairman Xin Ding Capital say investor roadshow Haigon Information Technology maker Hygon Dhyana chip 95 chinese server use cpu Intel disaster Zhang say day Trump ban Intel sell cpu China ”Zhang expect chinese government agency replace computer U.S. chip year echo view analyst National Software Service make operating system compete Windows middleware aim rival IBM Oracle expect revenue year jump 70 10 billion yuan Beijing Kingsoft Office Software week post 143 jump half profit say China need information security boost sale Beijing Baolande Software Corp 688058.ss see government finance client new growth engine thank replacement demand investor relation official Guo Xing say Brian Bandsma New York base portfolio manager Vontobel Asset Management say opportunity replacement demand limit give competitive local offering long expect adoption rate “companie like Microsoft decade complex piece software heavily multiple industry reason Microsoft position say Bandsma “There probably optimism bake valuation term local company go China focus domestic supplier ”(This story correct fix typographical error company 4th paragraph)reporting Samuel Shen Josh Horwitz editing Tony Munroe Kim CoghillOur Standards Thomson Reuters Trust Principles</td>\n",
       "      <td>0.9867</td>\n",
       "      <td>0.0</td>\n",
       "      <td>0.030244</td>\n",
       "      <td>9.989362e-05</td>\n",
       "    </tr>\n",
       "    <tr>\n",
       "      <th>7</th>\n",
       "      <td>2020-08-26</td>\n",
       "      <td>U.S. to spend $625 million in five quantum information research hubs</td>\n",
       "      <td>- The U.S. Department of Energy on Wednesday said it will provide $625 million over the next five years for five newly formed quantum information research hubs as it tries to keep ahead of competing nations like China on the emerging technology.The funding is part of $1.2 billion earmarked in the National Quantum Initiative Act in 2018.Researchers believe quantum computers could operate millions of times faster than today’s advanced supercomputers, making possible potential tasks ranging from mapping complex molecular structures and chemical reactions to boosting the power of artificial intelligence.“It’s absolutely imperative the United States continues to lead the world in AI and quantum. We know our adversaries around the world are pursuing their own advances,” U.S. Chief Technology Officer Michael Kratsios said during a White House press briefing announcing the quantum information research funding and another $100 million plus investment into the National Science Foundation’s AI Research Institutes.The five research hubs are each led by the Energy Department’s Argonne, Brookhaven, Fermi, Lawrence Berkeley and Oak Ridge national laboratories. The hubs are comprised of top research universities, other national labs and big tech companies in the quantum computing space such as International Business Machines Corp IBM.N, Intel Corp INTC.O, Microsoft Corp MSFT.O, and quantum computer startups Rigetti &amp; Co and ColdQuanta Inc. An Italian research lab and a Canadian university are also taking part.Missing from the list are Google parent Alphabet Inc GOOGL.O, considered one of the top firms in quantum computing, and Honeywell International Inc HON.N, which unveiled its quantum computing business in the past year. The Energy Department spokesperson declined to comment on whether they had been part of a proposal that didn’t receive funding.Paul Dabbar, under secretary for science at the Energy Department, said the private sector contributed another $340 million worth of labor, equipment, lab space and other assets to the project.Reporting by Jane Lanhee Lee; Editing by Leslie AdlerOur Standards: The Thomson Reuters Trust Principles.</td>\n",
       "      <td>124.949997</td>\n",
       "      <td>3388300</td>\n",
       "      <td>1.420455</td>\n",
       "      <td>32.293456</td>\n",
       "      <td>U.S. Department Energy Wednesday say provide $ 625 million year newly form quantum information research hub try ahead compete nation like China emerge technology funding $ 1.2 billion earmark National Quantum Initiative Act 2018.researcher believe quantum computer operate million time faster today advanced supercomputer make possible potential task range map complex molecular structure chemical reaction boost power artificial intelligence “it absolutely imperative United States continue lead world AI quantum know adversary world pursue advance U.S. Chief Technology Officer Michael Kratsios say White House press brief announce quantum information research funding $ 100 million plus investment National Science Foundation AI Research Institutes research hub lead Energy Department Argonne Brookhaven Fermi Lawrence Berkeley Oak Ridge national laboratory hub comprise research university national lab big tech company quantum compute space International Business Machines Corp IBM.N Intel Corp INTC.O Microsoft Corp MSFT.O quantum computer startup Rigetti Co ColdQuanta Inc. italian research lab canadian university take miss list Google parent Alphabet Inc GOOGL.O consider firm quantum computing Honeywell International Inc HON.N unveil quantum compute business past year Energy Department spokesperson decline comment proposal receive funding Paul Dabbar secretary science Energy Department say private sector contribute $ 340 million worth labor equipment lab space asset project report Jane Lanhee Lee editing Leslie AdlerOur Standards Thomson Reuters Trust Principles</td>\n",
       "      <td>0.9722</td>\n",
       "      <td>0.0</td>\n",
       "      <td>0.106910</td>\n",
       "      <td>1.199206e-01</td>\n",
       "    </tr>\n",
       "    <tr>\n",
       "      <th>8</th>\n",
       "      <td>2020-09-02</td>\n",
       "      <td>Internet companies urge FCC to reject Trump bid to impose new social media regulations</td>\n",
       "      <td>- A group representing major internet companies including Facebook Inc, Amazon.com Inc and Alphabet Inc’s Google on Wednesday urged the Federal Communications Commission (FCC) to reject a Trump administration bid to narrow the ability of social media companies to remove objectionable content.FILE PHOTO: U.S. President Donald Trump speaks during a roundtable on \"Wisconsin Community Safety\" in Kenosha, Wisconsin, U.S., September 1, 2020. REUTERS/Leah Millis The Internet Association said in a filing that the Trump administration petition filed in August seeking new rules “is misguided, lacks grounding in law, and poses serious public policy concerns.” It said new FCC rules could result in a loss of legal protections for removing “fraudulent schemes, scams, dangerous content promoting suicide or eating disorders to teens, and a wide range of other types of ‘otherwise objectionable’ content.”The Consumer Technology Association, which represents companies like IBM, Microsoft and Sony, also blasted the effort, saying it would “make compliance all but impossible.”“It is shocking that our own government would seek to undermine a law that has led to unprecedented American innovation, with massive benefits for our consumers and economy,” said Michael Petricone, a CTA official.FCC Chairman Ajit Pai dismissed calls from the two Democrats on the agency’s five-member commission to reject the petition without public comment. He has declined comment on the petition’s merits.President Donald Trump directed the Commerce Department to file the petition after Twitter Inc in May warned readers to fact-check his posts about unsubstantiated claims of fraud in mail-in voting.Facebook , Twitter and Google’s YouTube earlier pulled a post by Trump for violating their COVID-19 misinformation policies.The petition asks the FCC to limit protections for social media companies under Section 230, a provision of the 1996 Communications Decency Act that shields social media companies from liability for content posted by their users and allows them to remove lawful but objectionable posts.AT&amp;T Inc did not take a position on what action the FCC should take but said in comments “we support the growing consensus that online platforms should be more accountable for, and more transparent about, the decisions that fundamentally shape American society today.”Trump, a Republican running for re-election, has repeatedly expressed anger at social media companies.In August, the White House abruptly pulled the nomination of FCC Commissioner Mike O’Rielly for a new term just days after he questioned the effort to regulate social media companies’ editorial decisions.Reporting by David Shepardson and Nandita Bose; Editing by Leslie Adler and Alistair BellOur Standards: The Thomson Reuters Trust Principles.</td>\n",
       "      <td>123.720001</td>\n",
       "      <td>6592400</td>\n",
       "      <td>-0.984391</td>\n",
       "      <td>94.563645</td>\n",
       "      <td>group represent major internet company include Facebook Inc Amazon.com Inc Alphabet Inc Google Wednesday urge Federal Communications Commission FCC reject Trump administration bid narrow ability social medium company remove objectionable content FILE PHOTO U.S. President Donald Trump speak roundtable Wisconsin Community Safety Kenosha Wisconsin U.S. September 1 2020 REUTERS Leah Millis Internet Association say filing Trump administration petition file August seek new rule misguide lack ground law pose public policy concern say new FCC rule result loss legal protection remove fraudulent scheme scam dangerous content promote suicide eat disorder teen wide range type objectionable content ”The Consumer Technology Association represent company like IBM Microsoft Sony blast effort say compliance impossible ”“It shocking government seek undermine law lead unprecedented american innovation massive benefit consumer economy say Michael Petricone CTA official FCC Chairman Ajit Pai dismiss call Democrats agency member commission reject petition public comment decline comment petition merit President Donald Trump direct Commerce Department file petition Twitter Inc warn reader fact check post unsubstantiated claim fraud mail voting Facebook Twitter Google YouTube earlier pull post Trump violate covid-19 misinformation policy petition ask FCC limit protection social medium company section 230 provision 1996 Communications Decency Act shield social medium company liability content post user allow remove lawful objectionable post AT&amp;T Inc position action FCC say comment support grow consensus online platform accountable transparent decision fundamentally shape american society today ”Trump Republican run election repeatedly express anger social medium company August White House abruptly pull nomination FCC Commissioner Mike o’rielly new term day question effort regulate social medium company editorial decision report David Shepardson Nandita Bose editing Leslie Adler Alistair BellOur Standards Thomson Reuters Trust Principles</td>\n",
       "      <td>-0.9652</td>\n",
       "      <td>1.0</td>\n",
       "      <td>0.641823</td>\n",
       "      <td>1.562021e-22</td>\n",
       "    </tr>\n",
       "    <tr>\n",
       "      <th>9</th>\n",
       "      <td>2020-09-08</td>\n",
       "      <td>Eying digital push, Schlumberger strikes cloud-computing deal with IBM</td>\n",
       "      <td>- Top oilfield service provider Schlumberger NV said Tuesday it will tap technology from International Business Machines Corp to bring oilfield software to countries such as Saudi Arabia and Russia that have strict data sovereignty laws.Schlumberger develops software called Delfi that energy producers use to locate and extract oil more efficiently. The company is shifting toward delivering Delfi from cloud-based or distributed servers, tapping providers such as Alphabet Inc’s Google and Microsoft Corp.Some countries, however, do not have any data centers offered by those public cloud providers and have laws requiring data to be stored locally. That means Schlumberger’s cloud-based software must be run on a locally run, private data center, or on a “hybrid” of public clouds and private data centers.Under the deal announced Tuesday, Schlumberger will use an IBM technology called Red Hat OpenShift to make such hybrids work easier.IBM’s technology forms a layer between Schlumberger’s Delfi software and the data centers where the software runs that allows the software to move back and forth to wherever customers need it.“We have realized in the last few quarters, last few months that we didn’t have the flexibility,” Schlumberger CEO Olivier Le Peuch told Reuters in an interview. “It has helped us expand the market access and expand the reach of our solution.”The data-heavy oil and gas industry has long been seen as slow to digitalize but in recent years has made a push to utilize cloud computing, artificial intelligence and internet-of-things technology in its operations.For IBM, the Schlumberger deal gives it a flagship oil-and-gas customer as it refines its cloud computing strategy, part of which has involved helping customers in fields such as financial services solve thorny technical and regulatory challenges.“The technology, once it’s in production, is what drives revenue for both of us,” IBM Chief Executive Arvind Krishna told Reuters. (Reporting by Liz Hampton in Denver and Stephen Nellis in San Francisco; Editing by Lisa Shumaker)Our Standards: The Thomson Reuters Trust Principles.</td>\n",
       "      <td>122.160004</td>\n",
       "      <td>5210300</td>\n",
       "      <td>-1.260909</td>\n",
       "      <td>-20.965051</td>\n",
       "      <td>oilfield service provider Schlumberger NV say Tuesday tap technology International Business Machines Corp bring oilfield software country Saudi Arabia Russia strict data sovereignty law schlumberger develop software call Delfi energy producer use locate extract oil efficiently company shift deliver Delfi cloud base distribute server tap provider Alphabet Inc Google Microsoft Corp country datum center offer public cloud provider law require datum store locally mean Schlumberger cloud base software run locally run private datum center hybrid public cloud private datum center deal announce Tuesday Schlumberger use IBM technology call Red Hat OpenShift hybrid work easy IBM technology form layer Schlumberger Delfi software datum center software run allow software forth customer need “We realize quarter month flexibility Schlumberger ceo Olivier Le Peuch tell Reuters interview help expand market access expand reach solution ”the datum heavy oil gas industry long see slow digitalize recent year push utilize cloud computing artificial intelligence internet thing technology operation IBM Schlumberger deal give flagship oil gas customer refine cloud computing strategy involve help customer field financial service solve thorny technical regulatory challenge “The technology production drive revenue IBM Chief Executive Arvind Krishna tell Reuters reporting Liz Hampton Denver Stephen Nellis San Francisco editing Lisa Shumaker)Our Standards Thomson Reuters Trust Principles</td>\n",
       "      <td>0.9803</td>\n",
       "      <td>0.0</td>\n",
       "      <td>0.263489</td>\n",
       "      <td>1.185515e-04</td>\n",
       "    </tr>\n",
       "    <tr>\n",
       "      <th>10</th>\n",
       "      <td>2020-09-11</td>\n",
       "      <td>IBM says U.S. should adopt new export controls on facial recognition systems</td>\n",
       "      <td>- IBM Corp IBM.N said on Friday the U.S. Commerce Department should adopt new controls to limit the export of facial recognition systems to repressive regimes that can be used to commit human rights violations.FILE PHOTO: A man stands near an IBM logo at the Mobile World Congress in Barcelona, Spain, February 25, 2019.    REUTERS/Sergio PerezThe company said in a statement the United States should institute new export limits on “the type of facial recognition system most likely to be used in mass surveillance systems, racial profiling or other human rights violations.”In July, the Commerce Department had sought public comments on whether to adopt new export license requirements for facial recognition software and other biometric systems used in surveillance. Comments are due by Sept. 15.Christopher Padilla, IBM’s vice president for government and regulatory affairs, told Reuters the U.S. government should focus on “one to many” systems that could be used to pick dissidents out of a crowd or for mass surveillance, rather than “facial identification” systems that allow a user to unlock an iPhone or board an airplane.IBM said the Commerce Department should control “export of both the high-resolution cameras used to collect data and the software algorithms used to analyze and match that data against a database of images” and argued it should “limit the ability of certain foreign governments to obtain the large-scale computing components required to implement an integrated facial recognition system.”The company’s written comments did not identify specific governments but said “controls on the most powerful types of facial recognition technology should be focused on those countries that have a history of human rights abuses.”The Commerce Department’s July notice said China “has deployed facial recognition technology in the Xinjiang region, in which there has been repression, mass arbitrary detention and high technology surveillance against Uighurs, Kazakhs and other members of Muslim minority groups.”The department has added dozens of Chinese companies and entities to an economic blacklist that it said were implicated in human rights violations regarding China’s treatment of Uighurs, including video surveillance firm Hikvision 002415.SZ, as well as leaders in facial recognition technology SenseTime Group Ltd and Megvii Technology.China has denied mistreating people in Xinjiang.IBM said the Commerce Department should also restrict access to online image databases that can be used to train facial recognition systems.In June, IBM told the U.S. Congress it would stop offering facial recognition software and opposes any use of such technology for purposes of mass surveillance and racial profiling. The company also called for new federal rules to hold police more accountable for misconduct.Reporting by David Shepardson; Editing by Muralikumar AnantharamanOur Standards: The Thomson Reuters Trust Principles.</td>\n",
       "      <td>121.389999</td>\n",
       "      <td>3548100</td>\n",
       "      <td>-0.630325</td>\n",
       "      <td>-31.902194</td>\n",
       "      <td>IBM Corp IBM.N say Friday U.S. Commerce Department adopt new control limit export facial recognition system repressive regime commit human right violation FILE PHOTO man stand near IBM logo Mobile World Congress Barcelona Spain February 25 2019 REUTERS Sergio PerezThe company say statement United States institute new export limit type facial recognition system likely mass surveillance system racial profiling human right violation ”In July Commerce Department seek public comment adopt new export license requirement facial recognition software biometric system surveillance comment September 15.christopher Padilla IBM vice president government regulatory affair tell Reuters U.S. government focus system pick dissident crowd mass surveillance facial identification system allow user unlock iPhone board airplane IBM say Commerce Department control export high resolution camera collect datum software algorithm analyze match datum database image argue limit ability certain foreign government obtain large scale computing component require implement integrate facial recognition system ”The company write comment identify specific government say control powerful type facial recognition technology focus country history human right abuse ”The Commerce Department July notice say China deploy facial recognition technology Xinjiang region repression mass arbitrary detention high technology surveillance Uighurs Kazakhs member muslim minority group ”The department add dozen chinese company entity economic blacklist say implicate human right violation China treatment Uighurs include video surveillance firm Hikvision 002415.sz leader facial recognition technology SenseTime Group Ltd Megvii Technology China deny mistreat people Xinjiang IBM say Commerce Department restrict access online image database train facial recognition system June IBM tell U.S. Congress stop offer facial recognition software oppose use technology purpose mass surveillance racial profiling company call new federal rule hold police accountable misconduct reporting David Shepardson editing Muralikumar AnantharamanOur Standards Thomson Reuters Trust Principles</td>\n",
       "      <td>-0.9022</td>\n",
       "      <td>0.0</td>\n",
       "      <td>0.256986</td>\n",
       "      <td>3.027626e-18</td>\n",
       "    </tr>\n",
       "    <tr>\n",
       "      <th>11</th>\n",
       "      <td>2020-09-16</td>\n",
       "      <td>IBM can't shake facial recognition suit but dodges some claims</td>\n",
       "      <td>Merken1 Min ReadAn Illinois federal judge has largely refused to dismiss a lawsuit accusing International Business Machines Corp of violating Illinois’ biometric privacy law in the way it used facial image scans from a dataset from photo sharing site Flickr.U.S. District Judge Charles Kocoras in Chicago on Tuesday denied the New York-based company’s bid to toss the Illinois Biometric Information Privacy Act case, rejecting IBM’s contention that the law doesn’t apply to its analysis of photographs, among other arguments. The judge granted dismissal of two counts of the complaint, however.To read the full story on Westlaw Today, click here: bit.ly/3hHHacFOur Standards: The Thomson Reuters Trust Principles.</td>\n",
       "      <td>122.709999</td>\n",
       "      <td>3788400</td>\n",
       "      <td>1.087404</td>\n",
       "      <td>6.772639</td>\n",
       "      <td>Merken1 Min ReadAn Illinois federal judge largely refuse dismiss lawsuit accuse International Business Machines Corp violate Illinois biometric privacy law way facial image scan dataset photo sharing site Flickr U.S. District Judge Charles Kocoras Chicago Tuesday deny New York base company bid toss Illinois Biometric Information Privacy Act case reject IBM contention law apply analysis photograph argument judge grant dismissal count complaint read story Westlaw Today click bit.ly/3hHHacFOur Standards Thomson Reuters Trust Principles</td>\n",
       "      <td>-0.8074</td>\n",
       "      <td>1.0</td>\n",
       "      <td>0.854213</td>\n",
       "      <td>4.748699e-19</td>\n",
       "    </tr>\n",
       "    <tr>\n",
       "      <th>12</th>\n",
       "      <td>2020-10-08</td>\n",
       "      <td>IBM to break up 109-year old company to focus on cloud growth</td>\n",
       "      <td>- International Business Machines Corp IBM.N is splitting itself into two public companies, capping a years-long effort by the world's first big computing firm to diversify away from its legacy businesses to focus on high-margin cloud computing.IBM will list its IT infrastructure services unit, which provides technical support for 4,600 clients in 115 countries and has a backlog of $60 billion, as a separate company with a new name by the end of 2021.The new company will have 90,000 employees and its leadership structure will be decided in a few months, Chief Financial Officer James Kavanaugh told Reuters.IBM, which currently has more than 352,000 workers, said it expects to record nearly $5 billion in expenses related to the separation and operational changes.Investors cheered the surprise move by Chief Executive Officer Arvind Krishna, the key architect behind IBM’s $34 billion acquisition of cloud company Red Hat last year, sending the company’s shares up 7%.“We divested networking back in the ‘90s, we divested PCs back in the 2000s, we divested semiconductors about five years ago because all of them didn’t necessarily play into the integrated value proposition,” Krishna said on a call with analysts.BIG BLUE’S NEW FOCUSIn a blog, Krishna called the move a “significant shift” in the 109-year-old company’s business model.“IBM is essentially getting rid of a shrinking, low-margin operation given the cannibalizing impact of automation and cloud, masking stronger growth for the rest of the operation,” Wedbush Securities analyst Moshe Katri said.IBM, which has sought to make up for slowing software sales and seasonal demand for its mainframe servers, said it would now focus on open hybrid cloud and AI solutions that will account for more than half of its recurring revenues.Krishna, who replaced Ginni Rometty as CEO in April, said IBM’s software and solutions portfolio would account for the majority of company revenue after the separation.The company also said it expects third-quarter revenue of $17.6 billion and an adjusted profit per share of $2.58, roughly in line with Street estimates.Reporting by Munsif Vengattil in Bengaluru; Editing by Ramakrishnan M.Our Standards: The Thomson Reuters Trust Principles.</td>\n",
       "      <td>130.860001</td>\n",
       "      <td>25288900</td>\n",
       "      <td>6.641677</td>\n",
       "      <td>567.535107</td>\n",
       "      <td>International Business Machines Corp IBM.N split public company cap year long effort world big computing firm diversify away legacy business focus high margin cloud compute IBM list infrastructure service unit provide technical support 4,600 client 115 country backlog $ 60 billion separate company new end 2021.the new company 90,000 employee leadership structure decide month Chief Financial Officer James Kavanaugh tell Reuters IBM currently 352,000 worker say expect record nearly $ 5 billion expense relate separation operational change investor cheer surprise Chief Executive Officer Arvind Krishna key architect IBM $ 34 billion acquisition cloud company Red Hat year send company share 7%.“we divest networking 90 divest pc 2000s divest semiconductor year ago necessarily play integrate value proposition Krishna say analyst big blue NEW FOCUSIn blog Krishna call significant shift 109-year old company business model “ibm essentially get rid shrink low margin operation give cannibalize impact automation cloud mask strong growth rest operation Wedbush Securities analyst Moshe Katri say IBM seek slow software sale seasonal demand mainframe server say focus open hybrid cloud AI solution account half recur revenue Krishna replace Ginni Rometty ceo April say IBM software solution portfolio account majority company revenue separation company say expect quarter revenue $ 17.6 billion adjusted profit share $ 2.58 roughly line street estimate report Munsif Vengattil Bengaluru editing Ramakrishnan M.Our Standards Thomson Reuters Trust Principles</td>\n",
       "      <td>0.9840</td>\n",
       "      <td>0.0</td>\n",
       "      <td>0.413830</td>\n",
       "      <td>1.512881e-10</td>\n",
       "    </tr>\n",
       "    <tr>\n",
       "      <th>13</th>\n",
       "      <td>2020-10-19</td>\n",
       "      <td>IBM posts double-digit cloud revenue growth; says customers deferring some projects</td>\n",
       "      <td>- International Business Machines Corp IBM.N edged past Wall Street estimates for quarterly revenue on Monday, bolstered by higher demand for its cloud services, a business it is staking its future on as it prepares to spin off one of its legacy units. FILE PHOTO: A man wearing a protective mask walks past an office building with the IBM logo amidst the easing of the coronavirus disease (COVID-19) restrictions in the Central Business District of Sydney, Australia, June 3, 2020.  REUTERS/Loren ElliottIBM shares, however, fell 3% after the company stayed away from issuing a forecast for the current quarter, citing uncertainty around a global economic recovery due to the COVID-19 pandemic.“Clients’ near-term priorities continue to include operational stability, flexibility and cash preservation, which tends to favor (operating expenses) over (capital expenses),” Chief Financial Officer James Kavanaugh said.“This is resulting in some project delays and purchase deferrals.”Revenue from the cloud business, previously headed by Chief Executive Officer Arvind Krishna, rose 19% to $6 billion in the third quarter, offsetting weakness in much of its other businesses.The boost from the cloud business further underscores IBM’s move to focus on its high-margin open hybrid cloud and AI solutions, which together account for more than half of its recurring revenue, by spinning off its IT infrastructure services unit.“Clients continue to balance short-term challenges and opportunities for transformation ... More of my conversations with CEOs are around how they become digital businesses,” Krishna said on a post-earnings call.IBM’s total revenue fell 2.6% to $17.56 billion in the reported quarter, but was slightly above analysts’ estimates of $17.54 billion, according to IBES data from Refinitiv.Excluding the impact from currency and business divestitures, sales declined 3.1%.The global technology services segment, IBM’s biggest unit that caters to some of the world’s largest data centers, reported a 4% drop in revenue to $6.5 billion.Excluding items, the company earned $2.58 per share, which was in line with analysts’ estimates.Reporting by Munsif Vengattil in Bengaluru; Editing by Anil D’SilvaOur Standards: The Thomson Reuters Trust Principles.</td>\n",
       "      <td>126.800003</td>\n",
       "      <td>7478700</td>\n",
       "      <td>-3.102551</td>\n",
       "      <td>-70.426946</td>\n",
       "      <td>International Business Machines Corp IBM.N edge past Wall Street estimate quarterly revenue Monday bolster high demand cloud service business stake future prepare spin legacy unit FILE PHOTO man wear protective mask walk past office building IBM logo amidst easing coronavirus disease covid-19 restriction Central Business District Sydney Australia June 3 2020 REUTERS Loren ElliottIBM share fall 3 company stay away issue forecast current quarter cite uncertainty global economic recovery covid-19 pandemic “Clients near term priority continue include operational stability flexibility cash preservation tend favor operating expense capital expense Chief Financial Officer James Kavanaugh say “This result project delay purchase deferral ”revenue cloud business previously head Chief Executive Officer Arvind Krishna rise 19 $ 6 billion quarter offset weakness business boost cloud business underscore IBM focus high margin open hybrid cloud AI solution account half recur revenue spin infrastructure service unit “Clients continue balance short term challenge opportunity transformation conversation ceo digital business Krishna say post earning IBM total revenue fall 2.6 $ 17.56 billion report quarter slightly analyst estimate $ 17.54 billion accord IBES datum Refinitiv exclude impact currency business divestiture sale decline 3.1%.the global technology service segment IBM big unit cater world large datum center report 4 drop revenue $ 6.5 billion exclude item company earn $ 2.58 share line analyst estimate report Munsif Vengattil Bengaluru editing Anil D’SilvaOur Standards Thomson Reuters Trust Principles</td>\n",
       "      <td>0.7845</td>\n",
       "      <td>0.0</td>\n",
       "      <td>0.068319</td>\n",
       "      <td>2.237337e-15</td>\n",
       "    </tr>\n",
       "    <tr>\n",
       "      <th>14</th>\n",
       "      <td>2020-10-21</td>\n",
       "      <td>US STOCKS-Stimulus bets drive Wall Street higher</td>\n",
       "      <td>- Wall Street’s main indexes rose on Tuesday as investors hoped for more stimulus from Washington, with Senate Republicans preparing to vote on a bill to help small businesses hammered by the COVID-19 pandemic.House of Representatives Speaker Nancy Pelosi and Treasury Secretary Steven Mnuchin will also talk again on Tuesday, after a 53-minute telephone conversation on Monday “continued to narrow their differences” about the coronavirus aid package, a Pelosi spokesman said on Twitter.“It’s mostly hopes that we are going to get a stimulus deal going today and we will have money in the pockets of majority of Americans who are suffering most from the pandemic,” said David Trainer, chief executive officer of New Constructs, an investment research firm.Uncertainty over the fiscal stimulus weighed on Wall Street’s main indexes on Monday and analysts expect market turbulence to increase with only two weeks left until Election Day.Latest national opinion polls pointed to a victory for Democratic challenger Joe Biden, which would mean a cooling in global trade friction, but higher taxes for corporate America.Meanwhile, the third-quarter earnings season has gathered momentum. Of the 66 S&amp;P 500 companies that have reported results, 86.4% have topped expectations for earnings, according to Refinitiv IBES data.Property and casualty insurer Travelers Cos Inc gained 3.7% as it beat quarterly profit expectations, while consumer products giant Procter &amp; Gamble Co advanced 1.2% as it raised its full-year sales and earnings forecast.All 11 major S&amp;P sectors were up with financials tracking U.S. Treasury yields.At 11:23 a.m. ET the Dow Jones Industrial Average rose 137.42 points, or 0.49%, to 28,332.84 and the gained 18.13 points, or 0.54%, to 3,445.05. The Nasdaq Composite gained 45.05 points, or 0.39%, to 11,523.93.Netflix Inc dipped 1% ahead of its third-quarter earnings report.International Business Machines Corp edged past estimates for quarterly revenue on Monday, bolstered by higher demand for its cloud services. The company’s shares, however, fell 3.3% after it stayed away from issuing a current-quarter forecast, citing economic uncertainty related to the pandemic.The U.S. Justice Department and 11 states filed an antitrust lawsuit against Alphabet Inc’s Google for allegedly breaking the law in using its market power to fend off rivals. Alphabet’s shares were up 0.2%.Advancing issues outnumbered decliners for a 2.90-to-1 ratio on the NYSE and a 1.36-to-1 ratio on the Nasdaq.The S&amp;P index recorded 11 new 52-week highs and one new low, while the Nasdaq recorded 47 new highs and 17 new lows. (Reporting by Medha Singh and Shivani Kumaresan in Bengaluru; Editing by Shounak Dasgupta)Our Standards: The Thomson Reuters Trust Principles.</td>\n",
       "      <td>116.660004</td>\n",
       "      <td>9755300</td>\n",
       "      <td>-7.996844</td>\n",
       "      <td>30.441119</td>\n",
       "      <td>Wall Street main index rise Tuesday investor hope stimulus Washington Senate Republicans prepare vote bill help small business hammer covid-19 pandemic House Representatives Speaker Nancy Pelosi Treasury Secretary Steven Mnuchin talk Tuesday 53-minute telephone conversation Monday continue narrow difference coronavirus aid package Pelosi spokesman say Twitter “It hope go stimulus deal go today money pocket majority Americans suffer pandemic say David Trainer chief executive officer New Constructs investment research firm uncertainty fiscal stimulus weigh Wall Street main index Monday analyst expect market turbulence increase week leave Election Day late national opinion poll point victory democratic challenger Joe Biden mean cooling global trade friction high taxis corporate America quarter earning season gather momentum 66 S&amp;P 500 company report result 86.4 top expectation earning accord Refinitiv IBES datum property casualty insurer Travelers Cos Inc gain 3.7 beat quarterly profit expectation consumer product giant Procter Gamble Co advance 1.2 raise year sale earning forecast 11 major S&amp;P sector financial track U.S. Treasury yield 11:23 a.m. ET Dow Jones Industrial Average rise 137.42 point 0.49 28,332.84 gain 18.13 point 0.54 3,445.05 Nasdaq Composite gain 45.05 point 0.39 11,523.93.netflix Inc dip 1 ahead quarter earning report International Business Machines Corp edge past estimate quarterly revenue Monday bolster high demand cloud service company share fall 3.3 stay away issue current quarter forecast cite economic uncertainty relate pandemic U.S. Justice Department 11 state file antitrust lawsuit Alphabet Inc Google allegedly break law market power fend rival Alphabet share 0.2%.advance issue outnumber decliner 2.90-to-1 ratio NYSE 1.36-to-1 ratio Nasdaq S&amp;P index record 11 new 52-week high new low Nasdaq record 47 new high 17 new low report Medha Singh Shivani Kumaresan Bengaluru editing Shounak Dasgupta)Our Standards Thomson Reuters Trust Principles</td>\n",
       "      <td>0.9657</td>\n",
       "      <td>1.0</td>\n",
       "      <td>0.779279</td>\n",
       "      <td>1.112667e-11</td>\n",
       "    </tr>\n",
       "    <tr>\n",
       "      <th>15</th>\n",
       "      <td>2020-10-22</td>\n",
       "      <td>Saudi Arabia signs MoUs with IBM, Alibaba and Huawei on AI</td>\n",
       "      <td>- The Saudi Authority for Data and Artificial Intelligence on Thursday signed three memorandums of understanding with IBM, Alibaba and Huawei at a summit in the kingdom, state news agency SPA said.SPA did not disclose details on the agreements.Reporting by Yousef Saba; editing by Jason NeelyOur Standards: The Thomson Reuters Trust Principles.</td>\n",
       "      <td>115.000000</td>\n",
       "      <td>7855800</td>\n",
       "      <td>-1.422942</td>\n",
       "      <td>-19.471467</td>\n",
       "      <td>Saudi Authority Data Artificial Intelligence Thursday sign memorandum understanding IBM Alibaba Huawei summit kingdom state news agency SPA say SPA disclose detail agreement report Yousef Saba editing Jason NeelyOur Standards Thomson Reuters Trust Principles</td>\n",
       "      <td>0.8720</td>\n",
       "      <td>1.0</td>\n",
       "      <td>0.736509</td>\n",
       "      <td>3.597207e-10</td>\n",
       "    </tr>\n",
       "  </tbody>\n",
       "</table>\n",
       "</div>"
      ],
      "text/plain": [
       "         Date  ... deep_learning_sentiment_prob\n",
       "0  2020-07-10  ...  1.000000e+00               \n",
       "1  2020-07-14  ...  8.180243e-13               \n",
       "2  2020-07-20  ...  9.827438e-01               \n",
       "3  2020-07-22  ...  2.181522e-05               \n",
       "4  2020-08-04  ...  9.999881e-01               \n",
       "5  2020-08-17  ...  6.715043e-01               \n",
       "6  2020-08-20  ...  9.989362e-05               \n",
       "7  2020-08-26  ...  1.199206e-01               \n",
       "8  2020-09-02  ...  1.562021e-22               \n",
       "9  2020-09-08  ...  1.185515e-04               \n",
       "10 2020-09-11  ...  3.027626e-18               \n",
       "11 2020-09-16  ...  4.748699e-19               \n",
       "12 2020-10-08  ...  1.512881e-10               \n",
       "13 2020-10-19  ...  2.237337e-15               \n",
       "14 2020-10-21  ...  1.112667e-11               \n",
       "15 2020-10-22  ...  3.597207e-10               \n",
       "\n",
       "[16 rows x 12 columns]"
      ]
     },
     "execution_count": 66,
     "metadata": {
      "tags": []
     },
     "output_type": "execute_result"
    }
   ],
   "source": [
    "df['deep_learning_sentiment_prob'] = deep_learning_sentiment_prob\n",
    "df"
   ]
  },
  {
   "cell_type": "markdown",
   "metadata": {
    "id": "tcTS6NmsVs8F"
   },
   "source": [
    "#END OF DEEP LEARNING"
   ]
  },
  {
   "cell_type": "markdown",
   "metadata": {
    "id": "WF63pXtRKAUF"
   },
   "source": [
    "# Summary"
   ]
  },
  {
   "cell_type": "code",
   "execution_count": 67,
   "metadata": {
    "colab": {
     "base_uri": "https://localhost:8080/"
    },
    "id": "Mw9r9U5AKAUG",
    "outputId": "c96990d6-6be9-41e7-9261-dd121a616054"
   },
   "outputs": [
    {
     "name": "stdout",
     "output_type": "stream",
     "text": [
      "[0, 4, 6, 2, 13, 13, 3, 6, 7, 6, 3, 5, 22, 11, 2, 1]\n"
     ]
    }
   ],
   "source": [
    "# Converting % stock price change to % stock price change per day\n",
    "days = [0]\n",
    "for i in range(len(df['Date'])):\n",
    "    if i != 0:\n",
    "        date_diff = df['Date'][i]-df['Date'][i-1]\n",
    "        day = date_diff.days\n",
    "        days.append(day)\n",
    "print(days)\n",
    "df['Days Elapsed'] = days\n",
    "df.head()\n",
    "df['% Change in Stock Price Per Day'] = df['% Change in Stock Price']/df['Days Elapsed']\n"
   ]
  },
  {
   "cell_type": "code",
   "execution_count": 1,
   "metadata": {
    "colab": {
     "base_uri": "https://localhost:8080/",
     "height": 1000
    },
    "id": "FmTAjo2ZKAUG",
    "outputId": "ff5969d8-0a32-4aee-cbe2-1d365c1e91dd"
   },
   "outputs": [
    {
     "ename": "NameError",
     "evalue": "name 'df' is not defined",
     "output_type": "error",
     "traceback": [
      "\u001b[1;31m---------------------------------------------------------------------------\u001b[0m",
      "\u001b[1;31mNameError\u001b[0m                                 Traceback (most recent call last)",
      "\u001b[1;32m<ipython-input-1-694297d17b67>\u001b[0m in \u001b[0;36m<module>\u001b[1;34m\u001b[0m\n\u001b[1;32m----> 1\u001b[1;33m \u001b[0mdf\u001b[0m\u001b[1;33m[\u001b[0m\u001b[1;34m'Vader Sentiment'\u001b[0m\u001b[1;33m]\u001b[0m \u001b[1;33m=\u001b[0m \u001b[0mdf\u001b[0m\u001b[1;33m[\u001b[0m\u001b[1;34m'Vader Sentiment Score'\u001b[0m\u001b[1;33m]\u001b[0m\u001b[1;33m.\u001b[0m\u001b[0mapply\u001b[0m\u001b[1;33m(\u001b[0m\u001b[1;32mlambda\u001b[0m \u001b[0mx\u001b[0m\u001b[1;33m:\u001b[0m \u001b[1;34m\"positive\"\u001b[0m \u001b[1;32mif\u001b[0m \u001b[0mx\u001b[0m\u001b[1;33m>\u001b[0m\u001b[1;36m0\u001b[0m \u001b[1;32melse\u001b[0m \u001b[1;34m\"negative\"\u001b[0m\u001b[1;33m)\u001b[0m\u001b[1;33m\u001b[0m\u001b[1;33m\u001b[0m\u001b[0m\n\u001b[0m\u001b[0;32m      2\u001b[0m \u001b[0mdf\u001b[0m\u001b[1;33m[\u001b[0m\u001b[1;34m'Logistic Regression Sentiment'\u001b[0m\u001b[1;33m]\u001b[0m \u001b[1;33m=\u001b[0m \u001b[0mdf\u001b[0m\u001b[1;33m[\u001b[0m\u001b[1;34m'sentiment_prob'\u001b[0m\u001b[1;33m]\u001b[0m\u001b[1;33m.\u001b[0m\u001b[0mapply\u001b[0m\u001b[1;33m(\u001b[0m\u001b[1;32mlambda\u001b[0m \u001b[0mx\u001b[0m\u001b[1;33m:\u001b[0m \u001b[1;34m\"positive\"\u001b[0m \u001b[1;32mif\u001b[0m \u001b[0mx\u001b[0m\u001b[1;33m>\u001b[0m\u001b[1;36m0.5\u001b[0m \u001b[1;32melse\u001b[0m \u001b[1;34m\"negative\"\u001b[0m\u001b[1;33m)\u001b[0m\u001b[1;33m\u001b[0m\u001b[1;33m\u001b[0m\u001b[0m\n\u001b[0;32m      3\u001b[0m \u001b[0mdf\u001b[0m\u001b[1;33m[\u001b[0m\u001b[1;34m'Stock Price Change'\u001b[0m\u001b[1;33m]\u001b[0m \u001b[1;33m=\u001b[0m \u001b[0mdf\u001b[0m\u001b[1;33m[\u001b[0m\u001b[1;34m'% Change in Stock Price Per Day'\u001b[0m\u001b[1;33m]\u001b[0m\u001b[1;33m.\u001b[0m\u001b[0mapply\u001b[0m\u001b[1;33m(\u001b[0m\u001b[1;32mlambda\u001b[0m \u001b[0mx\u001b[0m\u001b[1;33m:\u001b[0m \u001b[1;34m\"positive\"\u001b[0m \u001b[1;32mif\u001b[0m \u001b[0mx\u001b[0m\u001b[1;33m>\u001b[0m\u001b[1;36m0\u001b[0m \u001b[1;32melse\u001b[0m \u001b[1;34m\"negative\"\u001b[0m\u001b[1;33m)\u001b[0m\u001b[1;33m\u001b[0m\u001b[1;33m\u001b[0m\u001b[0m\n\u001b[0;32m      4\u001b[0m \u001b[0mdf\u001b[0m\u001b[1;33m[\u001b[0m\u001b[1;34m'deep_learning_sentiment_prob'\u001b[0m\u001b[1;33m]\u001b[0m \u001b[1;33m=\u001b[0m \u001b[0mdf\u001b[0m\u001b[1;33m[\u001b[0m\u001b[1;34m'deep_learning_sentiment_prob'\u001b[0m\u001b[1;33m]\u001b[0m\u001b[1;33m.\u001b[0m\u001b[0mapply\u001b[0m\u001b[1;33m(\u001b[0m\u001b[1;32mlambda\u001b[0m \u001b[0mx\u001b[0m\u001b[1;33m:\u001b[0m \u001b[1;34m\"positive\"\u001b[0m \u001b[1;32mif\u001b[0m \u001b[0mx\u001b[0m\u001b[1;33m>\u001b[0m\u001b[1;36m0.5\u001b[0m \u001b[1;32melse\u001b[0m \u001b[1;34m\"negative\"\u001b[0m\u001b[1;33m)\u001b[0m\u001b[1;33m\u001b[0m\u001b[1;33m\u001b[0m\u001b[0m\n",
      "\u001b[1;31mNameError\u001b[0m: name 'df' is not defined"
     ]
    }
   ],
   "source": [
    "df['Vader Sentiment'] = df['Vader Sentiment Score'].apply(lambda x: \"positive\" if x>0 else \"negative\")\n",
    "df['Logistic Regression Sentiment'] = df['sentiment_prob'].apply(lambda x: \"positive\" if x>0.5 else \"negative\")\n",
    "df['Stock Price Change'] = df['% Change in Stock Price Per Day'].apply(lambda x: \"positive\" if x>0 else \"negative\")\n",
    "df['deep_learning_sentiment_prob'] = df['deep_learning_sentiment_prob'].apply(lambda x: \"positive\" if x>0.5 else \"negative\")\n"
   ]
  },
  {
   "cell_type": "code",
   "execution_count": 70,
   "metadata": {
    "colab": {
     "base_uri": "https://localhost:8080/",
     "height": 203
    },
    "id": "Azf0Lm58wUZw",
    "outputId": "6c2b3b90-54d6-4a51-c53d-d76bde4eedb9"
   },
   "outputs": [
    {
     "data": {
      "text/html": [
       "<div>\n",
       "<style scoped>\n",
       "    .dataframe tbody tr th:only-of-type {\n",
       "        vertical-align: middle;\n",
       "    }\n",
       "\n",
       "    .dataframe tbody tr th {\n",
       "        vertical-align: top;\n",
       "    }\n",
       "\n",
       "    .dataframe thead th {\n",
       "        text-align: right;\n",
       "    }\n",
       "</style>\n",
       "<table border=\"1\" class=\"dataframe\">\n",
       "  <thead>\n",
       "    <tr style=\"text-align: right;\">\n",
       "      <th></th>\n",
       "      <th>Date</th>\n",
       "      <th>Header</th>\n",
       "      <th>Stock Price Change</th>\n",
       "      <th>Vader Sentiment</th>\n",
       "      <th>Logistic Regression Sentiment</th>\n",
       "      <th>deep_learning_sentiment_prob</th>\n",
       "    </tr>\n",
       "  </thead>\n",
       "  <tbody>\n",
       "    <tr>\n",
       "      <th>0</th>\n",
       "      <td>2020-07-10</td>\n",
       "      <td>U.S. companies seeking capital during pandemic test bank market's new normal</td>\n",
       "      <td>negative</td>\n",
       "      <td>positive</td>\n",
       "      <td>positive</td>\n",
       "      <td>positive</td>\n",
       "    </tr>\n",
       "    <tr>\n",
       "      <th>1</th>\n",
       "      <td>2020-07-14</td>\n",
       "      <td>Bill Gross predicts value outperforms growth, based on rates correlation</td>\n",
       "      <td>positive</td>\n",
       "      <td>positive</td>\n",
       "      <td>negative</td>\n",
       "      <td>negative</td>\n",
       "    </tr>\n",
       "    <tr>\n",
       "      <th>2</th>\n",
       "      <td>2020-07-20</td>\n",
       "      <td>IBM beats estimates; sees gains as customers accelerate shift to cloud</td>\n",
       "      <td>positive</td>\n",
       "      <td>positive</td>\n",
       "      <td>negative</td>\n",
       "      <td>positive</td>\n",
       "    </tr>\n",
       "    <tr>\n",
       "      <th>3</th>\n",
       "      <td>2020-07-22</td>\n",
       "      <td>Microsoft cloud flagship posts first growth under 50%; bookings growth steady</td>\n",
       "      <td>negative</td>\n",
       "      <td>positive</td>\n",
       "      <td>negative</td>\n",
       "      <td>negative</td>\n",
       "    </tr>\n",
       "    <tr>\n",
       "      <th>4</th>\n",
       "      <td>2020-08-04</td>\n",
       "      <td>White House unveils new partnership to boost quantum science education</td>\n",
       "      <td>negative</td>\n",
       "      <td>positive</td>\n",
       "      <td>positive</td>\n",
       "      <td>positive</td>\n",
       "    </tr>\n",
       "  </tbody>\n",
       "</table>\n",
       "</div>"
      ],
      "text/plain": [
       "        Date  ... deep_learning_sentiment_prob\n",
       "0 2020-07-10  ...  positive                   \n",
       "1 2020-07-14  ...  negative                   \n",
       "2 2020-07-20  ...  positive                   \n",
       "3 2020-07-22  ...  negative                   \n",
       "4 2020-08-04  ...  positive                   \n",
       "\n",
       "[5 rows x 6 columns]"
      ]
     },
     "execution_count": 70,
     "metadata": {
      "tags": []
     },
     "output_type": "execute_result"
    }
   ],
   "source": [
    "columns = ['Date','Header','Stock Price Change', 'Vader Sentiment', 'Logistic Regression Sentiment','deep_learning_sentiment_prob']\n",
    "df_summary = df[columns]\n",
    "df_summary.head()"
   ]
  },
  {
   "cell_type": "code",
   "execution_count": null,
   "metadata": {
    "id": "rRvzsPucwUZx"
   },
   "outputs": [],
   "source": []
  }
 ],
 "metadata": {
  "accelerator": "GPU",
  "colab": {
   "collapsed_sections": [],
   "name": "IBM.ipynb",
   "provenance": []
  },
  "kernelspec": {
   "display_name": "Python 3",
   "language": "python",
   "name": "python3"
  },
  "language_info": {
   "codemirror_mode": {
    "name": "ipython",
    "version": 3
   },
   "file_extension": ".py",
   "mimetype": "text/x-python",
   "name": "python",
   "nbconvert_exporter": "python",
   "pygments_lexer": "ipython3",
   "version": "3.7.9"
  }
 },
 "nbformat": 4,
 "nbformat_minor": 1
}
