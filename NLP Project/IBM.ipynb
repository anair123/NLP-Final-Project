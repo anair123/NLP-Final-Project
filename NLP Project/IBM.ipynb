{
 "cells": [
  {
   "cell_type": "code",
   "execution_count": 1,
   "metadata": {
    "id": "fZtC62StKAUC"
   },
   "outputs": [],
   "source": [
    "import requests\n",
    "from bs4 import BeautifulSoup\n",
    "import pandas as pd\n",
    "from datetime import datetime\n",
    "import dateutil.parser"
   ]
  },
  {
   "cell_type": "code",
   "execution_count": 2,
   "metadata": {
    "id": "6-9soODBKAUC"
   },
   "outputs": [],
   "source": [
    "# dictionary of text dates and links (June 2020 to September 2020)\n",
    "\n",
    "date1 = '2020-07-10'\n",
    "url1 = 'https://www.reuters.com/article/us-usigrade-multiyears-idUSKBN24B2DO'\n",
    "\n",
    "date2 = '2020-07-14'\n",
    "url2 = 'https://www.reuters.com/article/us-usa-investors-gross-idUSKCN24F1EY'\n",
    "\n",
    "date3 = '2020-07-20'\n",
    "url3 = 'https://www.reuters.com/article/us-ibm-results/ibm-beats-estimates-sees-gains-as-customers-accelerate-shift-to-cloud-idUSKCN24L2L0'\n",
    "\n",
    "date4 = '2020-07-22'\n",
    "url4 = 'https://www.reuters.com/article/us-microsoft-results-idUSKCN24N2ST'\n",
    "\n",
    "date5 = '2020-08-04'\n",
    "url5 = 'https://www.reuters.com/article/usa-quantum-trump/white-house-unveils-new-partnership-to-boost-quantum-science-education-idINL1N2F70Q8'\n",
    "\n",
    "date6 = '2020-08-17'\n",
    "url6 = 'https://www.reuters.com/article/us-ibm-samsung-elec-idUSKCN25D09L'\n",
    "\n",
    "date7 = '2020-08-20'\n",
    "url7 = 'https://www.reuters.com/article/us-china-market-tech-idUSKCN25G0PU'\n",
    "\n",
    "date8 = '2020-08-26'\n",
    "url8 = 'https://www.reuters.com/article/us-usa-quantum-funding-idUSKBN25M0Y9'\n",
    "\n",
    "\n",
    "date9 = '2020-09-02'\n",
    "url9 = 'https://www.reuters.com/article/us-trump-social-media/internet-companies-urge-fcc-to-reject-trump-bid-to-impose-new-social-media-regulations-idUKKBN25T329'\n",
    "\n",
    "\n",
    "date10 = '2020-09-08'\n",
    "url10 = 'https://www.reuters.com/article/schlumberger-ibm-idUSL1N2G11I3'\n",
    "\n",
    "date11 = '2020-09-11'\n",
    "url11 = 'https://www.reuters.com/article/us-ibm-facial-recognition-exports-idUSKBN2621PV'\n",
    "\n",
    "date12 = '2020-09-16'\n",
    "url12 = 'https://in.reuters.com/article/dataprivacy-ibm-biometrics/ibm-cant-shake-facial-recognition-suit-but-dodges-some-claims-idUSL1N2GD2JP'\n",
    "\n",
    "\n",
    "date13 = '2020-10-08'\n",
    "url13 = 'https://uk.reuters.com/article/us-ibm-divestiture/ibm-to-break-up-109-year-old-company-to-focus-on-cloud-growth-idUKKBN26T1TZ'\n",
    "\n",
    "\n",
    "date14 = '2020-10-19'\n",
    "url14 = 'https://www.reuters.com/article/us-ibm-results/ibm-posts-double-digit-cloud-revenue-growth-says-customers-deferring-some-projects-idUSKBN2742QW'\n",
    "\n",
    "\n",
    "date15 = '2020-10-21'\n",
    "url15 = 'https://www.reuters.com/article/usa-stocks/us-stocks-stimulus-bets-drive-wall-street-higher-idINL4N2HB3N5'\n",
    "\n",
    "date16 = '2020-10-22'\n",
    "url16 = 'https://www.reuters.com/article/saudi-tech/saudi-arabia-signs-mous-with-ibm-alibaba-and-huawei-on-ai-idUSD5N2F800B'\n",
    "\n",
    "\n",
    "url_dict = {date1:url1,\n",
    "            date2:url2,\n",
    "            date3:url3,\n",
    "            date4:url4,\n",
    "            date5:url5,\n",
    "            date6:url6,\n",
    "            date7:url7,\n",
    "            date8:url8,\n",
    "            date9:url9,\n",
    "            date10:url10,\n",
    "            date11:url11,\n",
    "            date12:url12,\n",
    "            date13:url13,\n",
    "            date14:url14,\n",
    "            date15:url15,\n",
    "            date16:url16\n",
    "           }\n"
   ]
  },
  {
   "cell_type": "code",
   "execution_count": 3,
   "metadata": {
    "id": "8w5TfKcKKAUC",
    "outputId": "8e082e41-6d97-4007-f060-171848edba82"
   },
   "outputs": [
    {
     "name": "stdout",
     "output_type": "stream",
     "text": [
      "U.S. companies seeking capital during pandemic test bank market's new normal\n",
      "Bill Gross predicts value outperforms growth, based on rates correlation\n",
      "IBM beats estimates; sees gains as customers accelerate shift to cloud\n",
      "Microsoft cloud flagship posts first growth under 50%; bookings growth steady\n",
      "White House unveils new partnership to boost quantum science education\n",
      "IBM rolls out newest processor chip, taps Samsung for manufacturing\n",
      "In U.S.-China tech war, investors bet on China's localisation push\n",
      "U.S. to spend $625 million in five quantum information research hubs\n",
      "Internet companies urge FCC to reject Trump bid to impose new social media regulations\n",
      "Eying digital push, Schlumberger strikes cloud-computing deal with IBM\n",
      "IBM says U.S. should adopt new export controls on facial recognition systems\n",
      "IBM can't shake facial recognition suit but dodges some claims\n",
      "IBM to break up 109-year old company to focus on cloud growth\n",
      "IBM posts double-digit cloud revenue growth; says customers deferring some projects\n",
      "US STOCKS-Stimulus bets drive Wall Street higher\n",
      "Saudi Arabia signs MoUs with IBM, Alibaba and Huawei on AI\n"
     ]
    }
   ],
   "source": [
    "for key in url_dict:\n",
    "    page = requests.get(url_dict[key]).text\n",
    "    soup = BeautifulSoup(page, 'html.parser')\n",
    "    print(soup.find('h1').text)"
   ]
  },
  {
   "cell_type": "code",
   "execution_count": 4,
   "metadata": {
    "id": "KBjHM0VXKAUD"
   },
   "outputs": [],
   "source": [
    "# extract info from each website and store it in dataframe\n",
    "df_text = pd.DataFrame(columns = ['Date','Header','Text'])\n",
    "header = []\n",
    "text = []\n",
    "date = []\n",
    "for key in url_dict:\n",
    "    page = requests.get(url_dict[key]).text\n",
    "    soup = BeautifulSoup(page, 'html.parser')\n",
    "    date.append(datetime.strptime(key, '%Y-%m-%d').date())\n",
    "    url_header = soup.find('h1').text\n",
    "    \n",
    "    header.append(url_header)\n",
    "    url_text = soup.find('div', class_ = 'ArticleBodyWrapper').text\n",
    "    text.append(url_text)\n",
    "df_text['Date']=date\n",
    "df_text['Header']=header\n",
    "df_text['Text']=text\n",
    "\n",
    "# remove the author and \"min read\" sections\n",
    "df_text_temp = [] \n",
    "for text in df_text['Text']:\n",
    "    loc = text.find('(Reuters)')\n",
    "    df_text_temp.append(text[loc+9:])\n",
    "df_text['Text'] = df_text_temp\n",
    "\n"
   ]
  },
  {
   "cell_type": "code",
   "execution_count": 5,
   "metadata": {
    "id": "ZxYcrh5QKAUD",
    "outputId": "4c5844c8-e487-4ead-c28c-6dd810682d04"
   },
   "outputs": [
    {
     "data": {
      "text/html": [
       "<div>\n",
       "<style scoped>\n",
       "    .dataframe tbody tr th:only-of-type {\n",
       "        vertical-align: middle;\n",
       "    }\n",
       "\n",
       "    .dataframe tbody tr th {\n",
       "        vertical-align: top;\n",
       "    }\n",
       "\n",
       "    .dataframe thead th {\n",
       "        text-align: right;\n",
       "    }\n",
       "</style>\n",
       "<table border=\"1\" class=\"dataframe\">\n",
       "  <thead>\n",
       "    <tr style=\"text-align: right;\">\n",
       "      <th></th>\n",
       "      <th>Date</th>\n",
       "      <th>Header</th>\n",
       "      <th>Text</th>\n",
       "    </tr>\n",
       "  </thead>\n",
       "  <tbody>\n",
       "    <tr>\n",
       "      <th>0</th>\n",
       "      <td>2020-07-10</td>\n",
       "      <td>U.S. companies seeking capital during pandemic...</td>\n",
       "      <td>la  Guzman5 Min ReadNEW YORK (LPC) - Bank lend...</td>\n",
       "    </tr>\n",
       "    <tr>\n",
       "      <th>1</th>\n",
       "      <td>2020-07-14</td>\n",
       "      <td>Bill Gross predicts value outperforms growth, ...</td>\n",
       "      <td>- Billionaire investor Bill Gross is predicti...</td>\n",
       "    </tr>\n",
       "    <tr>\n",
       "      <th>2</th>\n",
       "      <td>2020-07-20</td>\n",
       "      <td>IBM beats estimates; sees gains as customers a...</td>\n",
       "      <td>- International Business Machines Corp IBM.N ...</td>\n",
       "    </tr>\n",
       "    <tr>\n",
       "      <th>3</th>\n",
       "      <td>2020-07-22</td>\n",
       "      <td>Microsoft cloud flagship posts first growth un...</td>\n",
       "      <td>- Microsoft Corp's MSFT.O flagship cloud comp...</td>\n",
       "    </tr>\n",
       "    <tr>\n",
       "      <th>4</th>\n",
       "      <td>2020-08-04</td>\n",
       "      <td>White House unveils new partnership to boost q...</td>\n",
       "      <td>- The White House Office of Science and Techn...</td>\n",
       "    </tr>\n",
       "  </tbody>\n",
       "</table>\n",
       "</div>"
      ],
      "text/plain": [
       "        Date                                             Header  \\\n",
       "0 2020-07-10  U.S. companies seeking capital during pandemic...   \n",
       "1 2020-07-14  Bill Gross predicts value outperforms growth, ...   \n",
       "2 2020-07-20  IBM beats estimates; sees gains as customers a...   \n",
       "3 2020-07-22  Microsoft cloud flagship posts first growth un...   \n",
       "4 2020-08-04  White House unveils new partnership to boost q...   \n",
       "\n",
       "                                                Text  \n",
       "0  la  Guzman5 Min ReadNEW YORK (LPC) - Bank lend...  \n",
       "1   - Billionaire investor Bill Gross is predicti...  \n",
       "2   - International Business Machines Corp IBM.N ...  \n",
       "3   - Microsoft Corp's MSFT.O flagship cloud comp...  \n",
       "4   - The White House Office of Science and Techn...  "
      ]
     },
     "execution_count": 5,
     "metadata": {},
     "output_type": "execute_result"
    }
   ],
   "source": [
    "df_text['Date'] = df_text['Date'].apply(lambda x: pd.to_datetime(x))\n",
    "df_text.head()"
   ]
  },
  {
   "cell_type": "code",
   "execution_count": 6,
   "metadata": {
    "id": "67t6bd5dKAUD",
    "outputId": "d9a0aa83-a081-4123-98aa-d49bf6c6f3d8"
   },
   "outputs": [
    {
     "data": {
      "text/html": [
       "<div>\n",
       "<style scoped>\n",
       "    .dataframe tbody tr th:only-of-type {\n",
       "        vertical-align: middle;\n",
       "    }\n",
       "\n",
       "    .dataframe tbody tr th {\n",
       "        vertical-align: top;\n",
       "    }\n",
       "\n",
       "    .dataframe thead th {\n",
       "        text-align: right;\n",
       "    }\n",
       "</style>\n",
       "<table border=\"1\" class=\"dataframe\">\n",
       "  <thead>\n",
       "    <tr style=\"text-align: right;\">\n",
       "      <th></th>\n",
       "      <th>Date</th>\n",
       "      <th>Open</th>\n",
       "      <th>Volume</th>\n",
       "    </tr>\n",
       "  </thead>\n",
       "  <tbody>\n",
       "    <tr>\n",
       "      <th>0</th>\n",
       "      <td>2019-12-02</td>\n",
       "      <td>134.449997</td>\n",
       "      <td>3067100</td>\n",
       "    </tr>\n",
       "    <tr>\n",
       "      <th>1</th>\n",
       "      <td>2019-12-03</td>\n",
       "      <td>132.000000</td>\n",
       "      <td>3642500</td>\n",
       "    </tr>\n",
       "    <tr>\n",
       "      <th>2</th>\n",
       "      <td>2019-12-04</td>\n",
       "      <td>132.860001</td>\n",
       "      <td>3530000</td>\n",
       "    </tr>\n",
       "    <tr>\n",
       "      <th>3</th>\n",
       "      <td>2019-12-05</td>\n",
       "      <td>132.990005</td>\n",
       "      <td>3595400</td>\n",
       "    </tr>\n",
       "    <tr>\n",
       "      <th>4</th>\n",
       "      <td>2019-12-06</td>\n",
       "      <td>132.750000</td>\n",
       "      <td>3437500</td>\n",
       "    </tr>\n",
       "  </tbody>\n",
       "</table>\n",
       "</div>"
      ],
      "text/plain": [
       "        Date        Open   Volume\n",
       "0 2019-12-02  134.449997  3067100\n",
       "1 2019-12-03  132.000000  3642500\n",
       "2 2019-12-04  132.860001  3530000\n",
       "3 2019-12-05  132.990005  3595400\n",
       "4 2019-12-06  132.750000  3437500"
      ]
     },
     "execution_count": 6,
     "metadata": {},
     "output_type": "execute_result"
    }
   ],
   "source": [
    "# import stock data of Zoom\n",
    "df_stock = pd.read_csv('IBM.csv', header=0)\n",
    "\n",
    "df_stock['Date']=df_stock['Date'].apply(lambda x: datetime.strptime(x, '%Y-%m-%d'))\n",
    "\n",
    "\n",
    "df_stock = df_stock.drop(['High','Low','Close','Adj Close'], axis=1)\n",
    "df_stock.head()"
   ]
  },
  {
   "cell_type": "code",
   "execution_count": 7,
   "metadata": {
    "id": "Wo351NEyKAUD",
    "outputId": "554aeeb6-1d85-4882-ad64-3724fe526291"
   },
   "outputs": [
    {
     "data": {
      "text/plain": [
       "dtype('<M8[ns]')"
      ]
     },
     "execution_count": 7,
     "metadata": {},
     "output_type": "execute_result"
    }
   ],
   "source": [
    "df_text['Date'].dtypes"
   ]
  },
  {
   "cell_type": "code",
   "execution_count": 8,
   "metadata": {
    "id": "A3u-kujoKAUE",
    "outputId": "a5c4f1ed-f142-4de4-ae73-9ce1058b2013"
   },
   "outputs": [
    {
     "data": {
      "text/plain": [
       "dtype('<M8[ns]')"
      ]
     },
     "execution_count": 8,
     "metadata": {},
     "output_type": "execute_result"
    }
   ],
   "source": [
    "df_stock['Date'].dtypes"
   ]
  },
  {
   "cell_type": "code",
   "execution_count": 9,
   "metadata": {
    "id": "7ju601zuKAUE"
   },
   "outputs": [],
   "source": [
    "# Merge two dataframes\n",
    "df = pd.merge(df_text, df_stock, how='inner', on='Date')\n",
    "df = df.sort_values('Date')"
   ]
  },
  {
   "cell_type": "code",
   "execution_count": 10,
   "metadata": {
    "id": "sYybIQmGKAUE",
    "outputId": "17a47a1d-44a6-49aa-fc62-2ba150377c8a"
   },
   "outputs": [
    {
     "data": {
      "text/html": [
       "<div>\n",
       "<style scoped>\n",
       "    .dataframe tbody tr th:only-of-type {\n",
       "        vertical-align: middle;\n",
       "    }\n",
       "\n",
       "    .dataframe tbody tr th {\n",
       "        vertical-align: top;\n",
       "    }\n",
       "\n",
       "    .dataframe thead th {\n",
       "        text-align: right;\n",
       "    }\n",
       "</style>\n",
       "<table border=\"1\" class=\"dataframe\">\n",
       "  <thead>\n",
       "    <tr style=\"text-align: right;\">\n",
       "      <th></th>\n",
       "      <th>Date</th>\n",
       "      <th>Header</th>\n",
       "      <th>Text</th>\n",
       "      <th>Open</th>\n",
       "      <th>Volume</th>\n",
       "      <th>% Change in Stock Price</th>\n",
       "      <th>% Change in Volume</th>\n",
       "    </tr>\n",
       "  </thead>\n",
       "  <tbody>\n",
       "    <tr>\n",
       "      <th>0</th>\n",
       "      <td>2020-07-10</td>\n",
       "      <td>U.S. companies seeking capital during pandemic...</td>\n",
       "      <td>la  Guzman5 Min ReadNEW YORK (LPC) - Bank lend...</td>\n",
       "      <td>115.500000</td>\n",
       "      <td>4285700</td>\n",
       "      <td>NaN</td>\n",
       "      <td>NaN</td>\n",
       "    </tr>\n",
       "    <tr>\n",
       "      <th>1</th>\n",
       "      <td>2020-07-14</td>\n",
       "      <td>Bill Gross predicts value outperforms growth, ...</td>\n",
       "      <td>- Billionaire investor Bill Gross is predicti...</td>\n",
       "      <td>118.620003</td>\n",
       "      <td>4534400</td>\n",
       "      <td>2.701301</td>\n",
       "      <td>5.803019</td>\n",
       "    </tr>\n",
       "    <tr>\n",
       "      <th>2</th>\n",
       "      <td>2020-07-20</td>\n",
       "      <td>IBM beats estimates; sees gains as customers a...</td>\n",
       "      <td>- International Business Machines Corp IBM.N ...</td>\n",
       "      <td>126.070000</td>\n",
       "      <td>9927700</td>\n",
       "      <td>6.280557</td>\n",
       "      <td>118.941867</td>\n",
       "    </tr>\n",
       "    <tr>\n",
       "      <th>3</th>\n",
       "      <td>2020-07-22</td>\n",
       "      <td>Microsoft cloud flagship posts first growth un...</td>\n",
       "      <td>- Microsoft Corp's MSFT.O flagship cloud comp...</td>\n",
       "      <td>125.900002</td>\n",
       "      <td>8195400</td>\n",
       "      <td>-0.134844</td>\n",
       "      <td>-17.449157</td>\n",
       "    </tr>\n",
       "    <tr>\n",
       "      <th>4</th>\n",
       "      <td>2020-08-04</td>\n",
       "      <td>White House unveils new partnership to boost q...</td>\n",
       "      <td>- The White House Office of Science and Techn...</td>\n",
       "      <td>123.820000</td>\n",
       "      <td>3466100</td>\n",
       "      <td>-1.652106</td>\n",
       "      <td>-57.706762</td>\n",
       "    </tr>\n",
       "  </tbody>\n",
       "</table>\n",
       "</div>"
      ],
      "text/plain": [
       "        Date                                             Header  \\\n",
       "0 2020-07-10  U.S. companies seeking capital during pandemic...   \n",
       "1 2020-07-14  Bill Gross predicts value outperforms growth, ...   \n",
       "2 2020-07-20  IBM beats estimates; sees gains as customers a...   \n",
       "3 2020-07-22  Microsoft cloud flagship posts first growth un...   \n",
       "4 2020-08-04  White House unveils new partnership to boost q...   \n",
       "\n",
       "                                                Text        Open   Volume  \\\n",
       "0  la  Guzman5 Min ReadNEW YORK (LPC) - Bank lend...  115.500000  4285700   \n",
       "1   - Billionaire investor Bill Gross is predicti...  118.620003  4534400   \n",
       "2   - International Business Machines Corp IBM.N ...  126.070000  9927700   \n",
       "3   - Microsoft Corp's MSFT.O flagship cloud comp...  125.900002  8195400   \n",
       "4   - The White House Office of Science and Techn...  123.820000  3466100   \n",
       "\n",
       "   % Change in Stock Price  % Change in Volume  \n",
       "0                      NaN                 NaN  \n",
       "1                 2.701301            5.803019  \n",
       "2                 6.280557          118.941867  \n",
       "3                -0.134844          -17.449157  \n",
       "4                -1.652106          -57.706762  "
      ]
     },
     "execution_count": 10,
     "metadata": {},
     "output_type": "execute_result"
    }
   ],
   "source": [
    "# show % change in stock price after news article publish\n",
    "pct_stock = df['Open'].pct_change()*100\n",
    "df['% Change in Stock Price'] = pct_stock\n",
    "pct_volume = df['Volume'].pct_change()*100\n",
    "df['% Change in Volume'] = pct_volume\n",
    "df.head()"
   ]
  },
  {
   "cell_type": "markdown",
   "metadata": {
    "id": "HuvMBxgwKAUE"
   },
   "source": [
    "\n",
    "# Processing the text\n"
   ]
  },
  {
   "cell_type": "markdown",
   "metadata": {
    "id": "Q7sg7AoKKAUE"
   },
   "source": [
    "## import spacy libraries\n",
    "import spacy\n",
    "import en_core_web_sm\n",
    "from  spacy.lang.en.stop_words import STOP_WORDS\n",
    "nlp = spacy.load('en_core_web_sm')"
   ]
  },
  {
   "cell_type": "code",
   "execution_count": 11,
   "metadata": {
    "id": "XtXFYaQRKAUE"
   },
   "outputs": [],
   "source": [
    "# import spacy libraries\n",
    "import spacy\n",
    "import en_core_web_sm\n",
    "from  spacy.lang.en.stop_words import STOP_WORDS\n",
    "nlp = spacy.load('en_core_web_sm')"
   ]
  },
  {
   "cell_type": "code",
   "execution_count": 12,
   "metadata": {
    "id": "03M0Se0_KAUE"
   },
   "outputs": [],
   "source": [
    "\n",
    "text_nlp = nlp(df['Text'][1]) \n",
    "# Remove stop words\n",
    "text_nlp_clean = [word for word in text_nlp if word.is_stop == False]\n",
    "# Lemmatize words\n",
    "text_nlp_clean = [word.lemma_ for word in text_nlp_clean]"
   ]
  },
  {
   "cell_type": "code",
   "execution_count": 13,
   "metadata": {
    "id": "fsqGe8igKAUE",
    "outputId": "b03cb5ef-f713-4b10-bffa-740f0c276e80"
   },
   "outputs": [
    {
     "data": {
      "text/html": [
       "<div>\n",
       "<style scoped>\n",
       "    .dataframe tbody tr th:only-of-type {\n",
       "        vertical-align: middle;\n",
       "    }\n",
       "\n",
       "    .dataframe tbody tr th {\n",
       "        vertical-align: top;\n",
       "    }\n",
       "\n",
       "    .dataframe thead th {\n",
       "        text-align: right;\n",
       "    }\n",
       "</style>\n",
       "<table border=\"1\" class=\"dataframe\">\n",
       "  <thead>\n",
       "    <tr style=\"text-align: right;\">\n",
       "      <th></th>\n",
       "      <th>Date</th>\n",
       "      <th>Header</th>\n",
       "      <th>Text</th>\n",
       "      <th>Open</th>\n",
       "      <th>Volume</th>\n",
       "      <th>% Change in Stock Price</th>\n",
       "      <th>% Change in Volume</th>\n",
       "      <th>Text (clean)</th>\n",
       "    </tr>\n",
       "  </thead>\n",
       "  <tbody>\n",
       "    <tr>\n",
       "      <th>0</th>\n",
       "      <td>2020-07-10</td>\n",
       "      <td>U.S. companies seeking capital during pandemic...</td>\n",
       "      <td>la  Guzman5 Min ReadNEW YORK (LPC) - Bank lend...</td>\n",
       "      <td>115.500000</td>\n",
       "      <td>4285700</td>\n",
       "      <td>NaN</td>\n",
       "      <td>NaN</td>\n",
       "      <td>la Guzman5 Min ReadNEW YORK LPC bank lender hi...</td>\n",
       "    </tr>\n",
       "    <tr>\n",
       "      <th>1</th>\n",
       "      <td>2020-07-14</td>\n",
       "      <td>Bill Gross predicts value outperforms growth, ...</td>\n",
       "      <td>- Billionaire investor Bill Gross is predicti...</td>\n",
       "      <td>118.620003</td>\n",
       "      <td>4534400</td>\n",
       "      <td>2.701301</td>\n",
       "      <td>5.803019</td>\n",
       "      <td>billionaire investor Bill Gross predict value ...</td>\n",
       "    </tr>\n",
       "    <tr>\n",
       "      <th>2</th>\n",
       "      <td>2020-07-20</td>\n",
       "      <td>IBM beats estimates; sees gains as customers a...</td>\n",
       "      <td>- International Business Machines Corp IBM.N ...</td>\n",
       "      <td>126.070000</td>\n",
       "      <td>9927700</td>\n",
       "      <td>6.280557</td>\n",
       "      <td>118.941867</td>\n",
       "      <td>International Business Machines Corp IBM.N bea...</td>\n",
       "    </tr>\n",
       "    <tr>\n",
       "      <th>3</th>\n",
       "      <td>2020-07-22</td>\n",
       "      <td>Microsoft cloud flagship posts first growth un...</td>\n",
       "      <td>- Microsoft Corp's MSFT.O flagship cloud comp...</td>\n",
       "      <td>125.900002</td>\n",
       "      <td>8195400</td>\n",
       "      <td>-0.134844</td>\n",
       "      <td>-17.449157</td>\n",
       "      <td>Microsoft Corp MSFT.O flagship cloud computing...</td>\n",
       "    </tr>\n",
       "    <tr>\n",
       "      <th>4</th>\n",
       "      <td>2020-08-04</td>\n",
       "      <td>White House unveils new partnership to boost q...</td>\n",
       "      <td>- The White House Office of Science and Techn...</td>\n",
       "      <td>123.820000</td>\n",
       "      <td>3466100</td>\n",
       "      <td>-1.652106</td>\n",
       "      <td>-57.706762</td>\n",
       "      <td>White House Office Science Technology Policy s...</td>\n",
       "    </tr>\n",
       "  </tbody>\n",
       "</table>\n",
       "</div>"
      ],
      "text/plain": [
       "        Date                                             Header  \\\n",
       "0 2020-07-10  U.S. companies seeking capital during pandemic...   \n",
       "1 2020-07-14  Bill Gross predicts value outperforms growth, ...   \n",
       "2 2020-07-20  IBM beats estimates; sees gains as customers a...   \n",
       "3 2020-07-22  Microsoft cloud flagship posts first growth un...   \n",
       "4 2020-08-04  White House unveils new partnership to boost q...   \n",
       "\n",
       "                                                Text        Open   Volume  \\\n",
       "0  la  Guzman5 Min ReadNEW YORK (LPC) - Bank lend...  115.500000  4285700   \n",
       "1   - Billionaire investor Bill Gross is predicti...  118.620003  4534400   \n",
       "2   - International Business Machines Corp IBM.N ...  126.070000  9927700   \n",
       "3   - Microsoft Corp's MSFT.O flagship cloud comp...  125.900002  8195400   \n",
       "4   - The White House Office of Science and Techn...  123.820000  3466100   \n",
       "\n",
       "   % Change in Stock Price  % Change in Volume  \\\n",
       "0                      NaN                 NaN   \n",
       "1                 2.701301            5.803019   \n",
       "2                 6.280557          118.941867   \n",
       "3                -0.134844          -17.449157   \n",
       "4                -1.652106          -57.706762   \n",
       "\n",
       "                                        Text (clean)  \n",
       "0  la Guzman5 Min ReadNEW YORK LPC bank lender hi...  \n",
       "1  billionaire investor Bill Gross predict value ...  \n",
       "2  International Business Machines Corp IBM.N bea...  \n",
       "3  Microsoft Corp MSFT.O flagship cloud computing...  \n",
       "4  White House Office Science Technology Policy s...  "
      ]
     },
     "execution_count": 13,
     "metadata": {},
     "output_type": "execute_result"
    }
   ],
   "source": [
    "text_clean = []\n",
    "for ind, row in df.iterrows():\n",
    "    \n",
    "    # lower casing\n",
    "    text_lower = row['Text'].lower()\n",
    "    \n",
    "    # tokenization\n",
    "    text_nlp = nlp(row['Text']) \n",
    "    \n",
    "    # remove punctuation and empty space\n",
    "    text_nlp_clean = [word for word in text_nlp if not word.is_punct | word.is_space]\n",
    "    \n",
    "    # Remove stop words\n",
    "    text_nlp_clean = [word for word in text_nlp_clean if word.is_stop == False]\n",
    "    \n",
    "    # Lemmatize tokens\n",
    "    text_nlp_clean = [word.lemma_ for word in text_nlp_clean]\n",
    "    \n",
    "    # add preprocessed text to list\n",
    "    text_clean.append(text_nlp_clean)\n",
    "\n",
    "# turn list of strings to string\n",
    "to_string = []\n",
    "for text in text_clean:\n",
    "    to_string.append(' '.join(text))\n",
    "\n",
    "\n",
    "df['Text (clean)'] = to_string\n",
    "df.head()"
   ]
  },
  {
   "cell_type": "markdown",
   "metadata": {
    "id": "RFkZmAHpKAUE"
   },
   "source": [
    "# Using a Pretrained Model "
   ]
  },
  {
   "cell_type": "code",
   "execution_count": 14,
   "metadata": {
    "id": "MyGLDr7NKAUE"
   },
   "outputs": [],
   "source": [
    "from nltk.sentiment import SentimentIntensityAnalyzer"
   ]
  },
  {
   "cell_type": "code",
   "execution_count": 15,
   "metadata": {
    "id": "UbC1BKVsKAUE"
   },
   "outputs": [],
   "source": [
    "# a function to return sentiment score\n",
    "def polarity_score(text):\n",
    "    sid = SentimentIntensityAnalyzer()\n",
    "    return sid.polarity_scores(text)['compound']\n",
    "\n",
    "vader_score = []\n",
    "for text in df['Text (clean)']:\n",
    "    score = polarity_score(text)\n",
    "    vader_score.append(score)\n",
    "\n",
    "df['Vader Sentiment Score'] = vader_score"
   ]
  },
  {
   "cell_type": "code",
   "execution_count": 16,
   "metadata": {
    "id": "dJhGvHxgKAUE",
    "outputId": "be2df9be-5856-4172-d51c-5abacf8a959c"
   },
   "outputs": [
    {
     "data": {
      "text/html": [
       "<div>\n",
       "<style scoped>\n",
       "    .dataframe tbody tr th:only-of-type {\n",
       "        vertical-align: middle;\n",
       "    }\n",
       "\n",
       "    .dataframe tbody tr th {\n",
       "        vertical-align: top;\n",
       "    }\n",
       "\n",
       "    .dataframe thead th {\n",
       "        text-align: right;\n",
       "    }\n",
       "</style>\n",
       "<table border=\"1\" class=\"dataframe\">\n",
       "  <thead>\n",
       "    <tr style=\"text-align: right;\">\n",
       "      <th></th>\n",
       "      <th>Date</th>\n",
       "      <th>Header</th>\n",
       "      <th>Text</th>\n",
       "      <th>Open</th>\n",
       "      <th>Volume</th>\n",
       "      <th>% Change in Stock Price</th>\n",
       "      <th>% Change in Volume</th>\n",
       "      <th>Text (clean)</th>\n",
       "      <th>Vader Sentiment Score</th>\n",
       "    </tr>\n",
       "  </thead>\n",
       "  <tbody>\n",
       "    <tr>\n",
       "      <th>0</th>\n",
       "      <td>2020-07-10</td>\n",
       "      <td>U.S. companies seeking capital during pandemic...</td>\n",
       "      <td>la  Guzman5 Min ReadNEW YORK (LPC) - Bank lend...</td>\n",
       "      <td>115.500000</td>\n",
       "      <td>4285700</td>\n",
       "      <td>NaN</td>\n",
       "      <td>NaN</td>\n",
       "      <td>la Guzman5 Min ReadNEW YORK LPC bank lender hi...</td>\n",
       "      <td>0.9963</td>\n",
       "    </tr>\n",
       "    <tr>\n",
       "      <th>1</th>\n",
       "      <td>2020-07-14</td>\n",
       "      <td>Bill Gross predicts value outperforms growth, ...</td>\n",
       "      <td>- Billionaire investor Bill Gross is predicti...</td>\n",
       "      <td>118.620003</td>\n",
       "      <td>4534400</td>\n",
       "      <td>2.701301</td>\n",
       "      <td>5.803019</td>\n",
       "      <td>billionaire investor Bill Gross predict value ...</td>\n",
       "      <td>0.9831</td>\n",
       "    </tr>\n",
       "    <tr>\n",
       "      <th>2</th>\n",
       "      <td>2020-07-20</td>\n",
       "      <td>IBM beats estimates; sees gains as customers a...</td>\n",
       "      <td>- International Business Machines Corp IBM.N ...</td>\n",
       "      <td>126.070000</td>\n",
       "      <td>9927700</td>\n",
       "      <td>6.280557</td>\n",
       "      <td>118.941867</td>\n",
       "      <td>International Business Machines Corp IBM.N bea...</td>\n",
       "      <td>0.8020</td>\n",
       "    </tr>\n",
       "    <tr>\n",
       "      <th>3</th>\n",
       "      <td>2020-07-22</td>\n",
       "      <td>Microsoft cloud flagship posts first growth un...</td>\n",
       "      <td>- Microsoft Corp's MSFT.O flagship cloud comp...</td>\n",
       "      <td>125.900002</td>\n",
       "      <td>8195400</td>\n",
       "      <td>-0.134844</td>\n",
       "      <td>-17.449157</td>\n",
       "      <td>Microsoft Corp MSFT.O flagship cloud computing...</td>\n",
       "      <td>0.9849</td>\n",
       "    </tr>\n",
       "    <tr>\n",
       "      <th>4</th>\n",
       "      <td>2020-08-04</td>\n",
       "      <td>White House unveils new partnership to boost q...</td>\n",
       "      <td>- The White House Office of Science and Techn...</td>\n",
       "      <td>123.820000</td>\n",
       "      <td>3466100</td>\n",
       "      <td>-1.652106</td>\n",
       "      <td>-57.706762</td>\n",
       "      <td>White House Office Science Technology Policy s...</td>\n",
       "      <td>0.9100</td>\n",
       "    </tr>\n",
       "  </tbody>\n",
       "</table>\n",
       "</div>"
      ],
      "text/plain": [
       "        Date                                             Header  \\\n",
       "0 2020-07-10  U.S. companies seeking capital during pandemic...   \n",
       "1 2020-07-14  Bill Gross predicts value outperforms growth, ...   \n",
       "2 2020-07-20  IBM beats estimates; sees gains as customers a...   \n",
       "3 2020-07-22  Microsoft cloud flagship posts first growth un...   \n",
       "4 2020-08-04  White House unveils new partnership to boost q...   \n",
       "\n",
       "                                                Text        Open   Volume  \\\n",
       "0  la  Guzman5 Min ReadNEW YORK (LPC) - Bank lend...  115.500000  4285700   \n",
       "1   - Billionaire investor Bill Gross is predicti...  118.620003  4534400   \n",
       "2   - International Business Machines Corp IBM.N ...  126.070000  9927700   \n",
       "3   - Microsoft Corp's MSFT.O flagship cloud comp...  125.900002  8195400   \n",
       "4   - The White House Office of Science and Techn...  123.820000  3466100   \n",
       "\n",
       "   % Change in Stock Price  % Change in Volume  \\\n",
       "0                      NaN                 NaN   \n",
       "1                 2.701301            5.803019   \n",
       "2                 6.280557          118.941867   \n",
       "3                -0.134844          -17.449157   \n",
       "4                -1.652106          -57.706762   \n",
       "\n",
       "                                        Text (clean)  Vader Sentiment Score  \n",
       "0  la Guzman5 Min ReadNEW YORK LPC bank lender hi...                 0.9963  \n",
       "1  billionaire investor Bill Gross predict value ...                 0.9831  \n",
       "2  International Business Machines Corp IBM.N bea...                 0.8020  \n",
       "3  Microsoft Corp MSFT.O flagship cloud computing...                 0.9849  \n",
       "4  White House Office Science Technology Policy s...                 0.9100  "
      ]
     },
     "execution_count": 16,
     "metadata": {},
     "output_type": "execute_result"
    }
   ],
   "source": [
    "df.head()"
   ]
  },
  {
   "cell_type": "markdown",
   "metadata": {
    "id": "LkZS4-bPKAUE"
   },
   "source": [
    "## Sentiment Analysis"
   ]
  },
  {
   "cell_type": "code",
   "execution_count": 17,
   "metadata": {
    "id": "FvdSV61lKAUE"
   },
   "outputs": [],
   "source": [
    "# run this cell to import nltk\n",
    "import nltk\n",
    "from os import getcwd\n",
    "import numpy as np\n",
    "import pandas as pd\n",
    "from nltk.corpus import twitter_samples \n",
    "from utils import process_tweet, build_freqs"
   ]
  },
  {
   "cell_type": "code",
   "execution_count": 18,
   "metadata": {
    "id": "mX42Hu77KAUE",
    "outputId": "c9be7a9d-5a11-464e-a055-4d425f88a684"
   },
   "outputs": [
    {
     "name": "stderr",
     "output_type": "stream",
     "text": [
      "[nltk_data] Downloading package twitter_samples to\n",
      "[nltk_data]     C:\\Users\\aashi\\AppData\\Roaming\\nltk_data...\n",
      "[nltk_data]   Package twitter_samples is already up-to-date!\n",
      "[nltk_data] Downloading package stopwords to\n",
      "[nltk_data]     C:\\Users\\aashi\\AppData\\Roaming\\nltk_data...\n",
      "[nltk_data]   Package stopwords is already up-to-date!\n"
     ]
    },
    {
     "data": {
      "text/plain": [
       "True"
      ]
     },
     "execution_count": 18,
     "metadata": {},
     "output_type": "execute_result"
    }
   ],
   "source": [
    "nltk.download('twitter_samples')\n",
    "nltk.download('stopwords')"
   ]
  },
  {
   "cell_type": "code",
   "execution_count": 19,
   "metadata": {
    "id": "92mXvGeHKAUE"
   },
   "outputs": [],
   "source": [
    "\n",
    "# select the set of positive and negative tweets\n",
    "all_positive_tweets = twitter_samples.strings('positive_tweets.json')\n",
    "all_negative_tweets = twitter_samples.strings('negative_tweets.json')"
   ]
  },
  {
   "cell_type": "code",
   "execution_count": 20,
   "metadata": {
    "id": "nMMDGQ75KAUE"
   },
   "outputs": [],
   "source": [
    "# split the data into two pieces (80-20), one for training and one for testing (validation set)  \n",
    "test_pos = all_positive_tweets[4000:]\n",
    "train_pos = all_positive_tweets[:4000]\n",
    "test_neg = all_negative_tweets[4000:]\n",
    "train_neg = all_negative_tweets[:4000]\n",
    "\n",
    "train_x = train_pos + train_neg \n",
    "test_x = test_pos + test_neg"
   ]
  },
  {
   "cell_type": "code",
   "execution_count": 21,
   "metadata": {
    "id": "ZXLAsWueKAUE"
   },
   "outputs": [],
   "source": [
    "# combine positive and negative labels\n",
    "train_y = np.append(np.ones((len(train_pos), 1)), np.zeros((len(train_neg), 1)), axis=0)\n",
    "test_y = np.append(np.ones((len(test_pos), 1)), np.zeros((len(test_neg), 1)), axis=0)"
   ]
  },
  {
   "cell_type": "code",
   "execution_count": 22,
   "metadata": {
    "id": "1hjdljIOKAUE",
    "outputId": "c2f9f025-cb73-447a-d996-a4f65dd8e3f6"
   },
   "outputs": [
    {
     "name": "stdout",
     "output_type": "stream",
     "text": [
      "train_y.shape = (8000, 1)\n",
      "test_y.shape = (2000, 1)\n"
     ]
    }
   ],
   "source": [
    "# Print the shape train and test sets\n",
    "print(\"train_y.shape = \" + str(train_y.shape))\n",
    "print(\"test_y.shape = \" + str(test_y.shape))"
   ]
  },
  {
   "cell_type": "code",
   "execution_count": 23,
   "metadata": {
    "id": "aIIUFWCIKAUE",
    "outputId": "1794dd11-2385-44b5-cca0-7d1f7e968b11"
   },
   "outputs": [
    {
     "name": "stdout",
     "output_type": "stream",
     "text": [
      "type(freqs) = <class 'dict'>\n",
      "len(freqs) = 11340\n"
     ]
    }
   ],
   "source": [
    "# create frequency dictionary\n",
    "freqs = build_freqs(train_x, train_y)\n",
    "\n",
    "# check the output\n",
    "print(\"type(freqs) = \" + str(type(freqs)))\n",
    "print(\"len(freqs) = \" + str(len(freqs.keys())))"
   ]
  },
  {
   "cell_type": "code",
   "execution_count": 24,
   "metadata": {
    "id": "npWKnGgQKAUF"
   },
   "outputs": [],
   "source": [
    "# UNQ_C3 (UNIQUE CELL IDENTIFIER, DO NOT EDIT)\n",
    "def extract_features(tweet, freqs):\n",
    "    '''\n",
    "    Input: \n",
    "        tweet: a list of words for one tweet\n",
    "        freqs: a dictionary corresponding to the frequencies of each tuple (word, label)\n",
    "    Output: \n",
    "        x: a feature vector of dimension (1,3)\n",
    "    '''\n",
    "    # process_tweet tokenizes, stems, and removes stopwords\n",
    "    word_l = process_tweet(tweet)\n",
    "    \n",
    "    # 3 elements in the form of a 1 x 3 vector\n",
    "    x = np.zeros((1, 3)) \n",
    "    \n",
    "    #bias term is set to 1\n",
    "    x[0,0] = 1 \n",
    "    \n",
    "    ### START CODE HERE (REPLACE INSTANCES OF 'None' with your code) ###\n",
    "    \n",
    "    # loop through each word in the list of words\n",
    "    for word in word_l:\n",
    "        \n",
    "        # increment the word count for the positive label 1\n",
    "        \n",
    "        x[0,1] += freqs.get((word,1),0)\n",
    "        \n",
    "        # increment the word count for the negative label 0\n",
    "        x[0,2] += freqs.get((word,0),0)\n",
    "        \n",
    "    ### END CODE HERE ###\n",
    "    assert(x.shape == (1, 3))\n",
    "    return x"
   ]
  },
  {
   "cell_type": "code",
   "execution_count": 25,
   "metadata": {
    "id": "dxSR4HEvKAUF"
   },
   "outputs": [],
   "source": [
    "# collect the features 'x' and stack them into a matrix 'X'\n",
    "X = np.zeros((len(train_x), 3))\n",
    "for i in range(len(train_x)):\n",
    "    X[i, :]= extract_features(train_x[i], freqs)\n",
    "\n",
    "# training labels corresponding to X\n",
    "Y = train_y"
   ]
  },
  {
   "cell_type": "code",
   "execution_count": 26,
   "metadata": {
    "id": "2YKi_T3oKAUF",
    "outputId": "1f31b4d9-038c-4c89-cf75-9a52a2875800"
   },
   "outputs": [
    {
     "data": {
      "text/plain": [
       "(8000, 1)"
      ]
     },
     "execution_count": 26,
     "metadata": {},
     "output_type": "execute_result"
    }
   ],
   "source": [
    "Y.shape"
   ]
  },
  {
   "cell_type": "markdown",
   "metadata": {
    "id": "s3FLQ0pMKAUF"
   },
   "source": [
    "### SVM Parameters"
   ]
  },
  {
   "cell_type": "code",
   "execution_count": 27,
   "metadata": {
    "id": "5jL-Py2oKAUF",
    "outputId": "ce6549b5-085e-4c79-9c4d-178a08017417"
   },
   "outputs": [
    {
     "name": "stderr",
     "output_type": "stream",
     "text": [
      "C:\\Users\\aashi\\Anaconda3\\lib\\site-packages\\sklearn\\utils\\validation.py:72: DataConversionWarning: A column-vector y was passed when a 1d array was expected. Please change the shape of y to (n_samples, ), for example using ravel().\n",
      "  return f(**kwargs)\n"
     ]
    },
    {
     "data": {
      "text/plain": [
       "LogisticRegression(random_state=0)"
      ]
     },
     "execution_count": 27,
     "metadata": {},
     "output_type": "execute_result"
    }
   ],
   "source": [
    "# Fitting Logistic Regression to the Training set\n",
    "from sklearn.linear_model import LogisticRegression\n",
    "classifier = LogisticRegression(random_state = 0)\n",
    "classifier.fit(X, Y)\n"
   ]
  },
  {
   "cell_type": "code",
   "execution_count": 28,
   "metadata": {
    "id": "a2t6OnL8KAUF"
   },
   "outputs": [],
   "source": [
    "\n",
    "# UNQ_C4 (UNIQUE CELL IDENTIFIER, DO NOT EDIT)\n",
    "def predict_tweet(tweet, freqs):\n",
    "    '''\n",
    "    Input: \n",
    "        tweet: a string\n",
    "        freqs: a dictionary corresponding to the frequencies of each tuple (word, label)\n",
    "        theta: (3,1) vector of weights\n",
    "    Output: \n",
    "        y_pred: the probability of a tweet being positive or negative\n",
    "    '''\n",
    "    ### START CODE HERE (REPLACE INSTANCES OF 'None' with your code) ###\n",
    "    \n",
    "    # extract the features of the tweet and store it into x\n",
    "    x = extract_features(tweet,freqs)\n",
    "    \n",
    "    # make the prediction using x and theta\n",
    "    y_pred = classifier.predict(x)\n",
    "    \n",
    "    ### END CODE HERE ###\n",
    "    \n",
    "    return y_pred"
   ]
  },
  {
   "cell_type": "code",
   "execution_count": 29,
   "metadata": {
    "id": "eRD5jfpzKAUF"
   },
   "outputs": [],
   "source": [
    "# UNQ_C4 (UNIQUE CELL IDENTIFIER, DO NOT EDIT)\n",
    "def predict_tweet_prob(tweet, freqs):\n",
    "    '''\n",
    "    Input: \n",
    "        tweet: a string\n",
    "        freqs: a dictionary corresponding to the frequencies of each tuple (word, label)\n",
    "        theta: (3,1) vector of weights\n",
    "    Output: \n",
    "        y_pred: the probability of a tweet being positive or negative\n",
    "    '''\n",
    "    ### START CODE HERE (REPLACE INSTANCES OF 'None' with your code) ###\n",
    "    \n",
    "    # extract the features of the tweet and store it into x\n",
    "    x = extract_features(tweet,freqs)\n",
    "    \n",
    "    # make the prediction using x and theta\n",
    "    y_pred = classifier.predict_proba(x)\n",
    "    \n",
    "    ### END CODE HERE ###\n",
    "    \n",
    "    return y_pred"
   ]
  },
  {
   "cell_type": "code",
   "execution_count": 30,
   "metadata": {
    "id": "sHbpi3sOKAUF",
    "outputId": "43056f9a-e782-465d-e820-c03cdaffdee2"
   },
   "outputs": [
    {
     "data": {
      "text/plain": [
       "array([0.])"
      ]
     },
     "execution_count": 30,
     "metadata": {},
     "output_type": "execute_result"
    }
   ],
   "source": [
    "\n",
    "my_tweet = 'The plot was terrible and I was sad until the ending!'\n",
    "predict_tweet(my_tweet, freqs)"
   ]
  },
  {
   "cell_type": "markdown",
   "metadata": {
    "id": "UZFEPU2mKIDD"
   },
   "source": [
    "# START OF DEEP LEARNING"
   ]
  },
  {
   "cell_type": "code",
   "execution_count": 31,
   "metadata": {
    "id": "85yFtJzFKCny"
   },
   "outputs": [
    {
     "name": "stderr",
     "output_type": "stream",
     "text": [
      "C:\\Users\\aashi\\Anaconda3\\lib\\site-packages\\ipykernel_launcher.py:4: FutureWarning: Passing a negative integer is deprecated in version 1.0 and will not be supported in future version. Instead, use None to not limit the column width.\n",
      "  after removing the cwd from sys.path.\n",
      "C:\\Users\\aashi\\Anaconda3\\lib\\site-packages\\tensorflow\\python\\framework\\dtypes.py:526: FutureWarning: Passing (type, 1) or '1type' as a synonym of type is deprecated; in a future version of numpy, it will be understood as (type, (1,)) / '(1,)type'.\n",
      "  _np_qint8 = np.dtype([(\"qint8\", np.int8, 1)])\n",
      "C:\\Users\\aashi\\Anaconda3\\lib\\site-packages\\tensorflow\\python\\framework\\dtypes.py:527: FutureWarning: Passing (type, 1) or '1type' as a synonym of type is deprecated; in a future version of numpy, it will be understood as (type, (1,)) / '(1,)type'.\n",
      "  _np_quint8 = np.dtype([(\"quint8\", np.uint8, 1)])\n",
      "C:\\Users\\aashi\\Anaconda3\\lib\\site-packages\\tensorflow\\python\\framework\\dtypes.py:528: FutureWarning: Passing (type, 1) or '1type' as a synonym of type is deprecated; in a future version of numpy, it will be understood as (type, (1,)) / '(1,)type'.\n",
      "  _np_qint16 = np.dtype([(\"qint16\", np.int16, 1)])\n",
      "C:\\Users\\aashi\\Anaconda3\\lib\\site-packages\\tensorflow\\python\\framework\\dtypes.py:529: FutureWarning: Passing (type, 1) or '1type' as a synonym of type is deprecated; in a future version of numpy, it will be understood as (type, (1,)) / '(1,)type'.\n",
      "  _np_quint16 = np.dtype([(\"quint16\", np.uint16, 1)])\n",
      "C:\\Users\\aashi\\Anaconda3\\lib\\site-packages\\tensorflow\\python\\framework\\dtypes.py:530: FutureWarning: Passing (type, 1) or '1type' as a synonym of type is deprecated; in a future version of numpy, it will be understood as (type, (1,)) / '(1,)type'.\n",
      "  _np_qint32 = np.dtype([(\"qint32\", np.int32, 1)])\n",
      "C:\\Users\\aashi\\Anaconda3\\lib\\site-packages\\tensorflow\\python\\framework\\dtypes.py:535: FutureWarning: Passing (type, 1) or '1type' as a synonym of type is deprecated; in a future version of numpy, it will be understood as (type, (1,)) / '(1,)type'.\n",
      "  np_resource = np.dtype([(\"resource\", np.ubyte, 1)])\n",
      "[nltk_data] Downloading package punkt to\n",
      "[nltk_data]     C:\\Users\\aashi\\AppData\\Roaming\\nltk_data...\n",
      "[nltk_data]   Package punkt is already up-to-date!\n"
     ]
    },
    {
     "data": {
      "text/plain": [
       "True"
      ]
     },
     "execution_count": 31,
     "metadata": {},
     "output_type": "execute_result"
    }
   ],
   "source": [
    "import sklearn\n",
    "import numpy as np\n",
    "import pandas as pd\n",
    "pd.set_option('display.max_colwidth', -1)\n",
    "import sklearn\n",
    "import sklearn.ensemble\n",
    "from sklearn.metrics import accuracy_score, confusion_matrix\n",
    "import sklearn.metrics\n",
    "import tensorflow as tf\n",
    "from scipy.special import softmax\n",
    "import os\n",
    "import numpy as np\n",
    "import pandas as pd\n",
    "import json\n",
    "import torch\n",
    "import torch.nn as nn\n",
    "import nltk\n",
    "from tqdm import tqdm\n",
    "import spacy\n",
    "import torch\n",
    "import torchtext\n",
    "import torchtext.data\n",
    "import torch.nn as nn\n",
    "import torch.nn.functional as F\n",
    "from scipy.special import softmax\n",
    "from torchtext.vocab import Vocab\n",
    "from nltk.corpus import twitter_samples \n",
    "\n",
    "nlp = spacy.load('en')\n",
    "nltk.download('punkt')"
   ]
  },
  {
   "cell_type": "code",
   "execution_count": 32,
   "metadata": {
    "id": "yPSzmuAbKD3K"
   },
   "outputs": [
    {
     "name": "stderr",
     "output_type": "stream",
     "text": [
      "C:\\Users\\aashi\\Anaconda3\\lib\\site-packages\\torch\\cuda\\__init__.py:52: UserWarning: CUDA initialization: The NVIDIA driver on your system is too old (found version 10020). Please update your GPU driver by downloading and installing a new version from the URL: http://www.nvidia.com/Download/index.aspx Alternatively, go to: https://pytorch.org to install a PyTorch version that has been compiled with your version of the CUDA driver. (Triggered internally at  ..\\c10\\cuda\\CUDAFunctions.cpp:100.)\n",
      "  return torch._C._cuda_getDeviceCount() > 0\n"
     ]
    }
   ],
   "source": [
    "device = torch.device(\"cuda\" if torch.cuda.is_available() else \"cpu\")\n",
    "torch.manual_seed(42)\n",
    "np.random.seed(42)\n",
    "torch.backends.cudnn.deterministic = True\n",
    "torch.backends.cudnn.benchmark = False"
   ]
  },
  {
   "cell_type": "code",
   "execution_count": 33,
   "metadata": {
    "id": "edd7m2cOKERb"
   },
   "outputs": [],
   "source": [
    "# %% ----------------------------------- Hyper Parameters --------------------------------------------------------------\n",
    "class Args:\n",
    "    def __init__(self):\n",
    "        self.seq_len = \"get_max_from_data\"\n",
    "        self.embedding_dim = 50\n",
    "        self.n_epochs = 10\n",
    "        self.lr = 1e-2\n",
    "        self.batch_size = 512\n",
    "        self.train = True\n",
    "        self.save_model = True\n",
    "\n",
    "\n",
    "args = Args()"
   ]
  },
  {
   "cell_type": "code",
   "execution_count": 34,
   "metadata": {
    "id": "0ORR7LJSKED7"
   },
   "outputs": [],
   "source": [
    "# %% ----------------------------------- Helper Functions --------------------------------------------------------------\n",
    "def acc(x, y, return_labels=False):\n",
    "    with torch.no_grad():\n",
    "        logits = torch.empty(len(x), 2)\n",
    "        for batch in range(len(x) // args.batch_size + 1):\n",
    "            inds = slice(batch * args.batch_size, (batch + 1) * args.batch_size)\n",
    "            logits[inds] = model(x[inds])\n",
    "        pred_labels = np.argmax(logits.cpu().numpy(), axis=1)\n",
    "    if return_labels:\n",
    "        return pred_labels\n",
    "    else:\n",
    "        return 100*accuracy_score(y.cpu().numpy(), pred_labels)\n",
    "\n",
    "\n",
    "def extract_vocab_dict_and_msl(sentences_train, sentences_dev):\n",
    "    \"\"\" Tokenizes all the sentences and gets a dictionary of unique tokens and also the maximum sequence length \"\"\"\n",
    "    tokens, ms_len = [], 0\n",
    "    for sentence in list(sentences_train) + list(sentences_dev):\n",
    "        tokens_in_sentence = nltk.word_tokenize(sentence)\n",
    "        if ms_len < len(tokens_in_sentence):\n",
    "            ms_len = len(tokens_in_sentence)\n",
    "        tokens += tokens_in_sentence\n",
    "    token_vocab = {key: i for key, i in zip(set(tokens), range(1, len(set(tokens))+1))}\n",
    "    if len(np.unique(list(token_vocab.values()))) != len(token_vocab):\n",
    "        \"There are some rep words...\"\n",
    "    return token_vocab, ms_len\n",
    "\n",
    "\n",
    "def convert_to_ids(raw_sentences, vocab_dict, pad_to):\n",
    "    \"\"\" Takes an NumPy array of raw text sentences and converts to a sequence of token ids \"\"\"\n",
    "    x = np.empty((len(raw_sentences), pad_to))\n",
    "    for idx, sentence in enumerate(raw_sentences):\n",
    "        word_ids = []\n",
    "        for token in nltk.word_tokenize(sentence):\n",
    "            try:\n",
    "                word_ids.append(vocab_dict[token])\n",
    "            except:\n",
    "                word_ids.append(vocab_dict[token])\n",
    "        if pad_to < len(word_ids):\n",
    "            x[idx] = word_ids[:pad_to]\n",
    "        else:\n",
    "            x[idx] = word_ids + [0] * (pad_to - len(word_ids))\n",
    "    return x\n",
    "\n",
    "\n",
    "def get_glove_embeddings(vocab_dict):\n",
    "    with open(\"glove.6B.50d.txt\", \"r\") as s:\n",
    "        glove = s.read()\n",
    "    embeddings_dict = {}\n",
    "    for line in glove.split(\"\\n\")[:-1]:\n",
    "        text = line.split()\n",
    "        if text[0] in vocab_dict:\n",
    "            embeddings_dict[vocab_dict[text[0]]] = torch.from_numpy(np.array(text[1:], dtype=\"float32\"))\n",
    "    return embeddings_dict\n",
    "\n",
    "\n",
    "def get_glove_table(vocab_dict, glove_dict):\n",
    "    lookup_table = torch.empty((len(vocab_dict)+2, 50))\n",
    "    for token_id in sorted(vocab_dict.values()):\n",
    "        if token_id in glove_dict:\n",
    "            lookup_table[token_id] = glove_dict[token_id]\n",
    "        else:\n",
    "            lookup_table[token_id] = torch.zeros((1, 50))  # For unknown tokens\n",
    "    lookup_table[0] = torch.zeros((1, 50))\n",
    "    return lookup_table\n",
    "\n"
   ]
  },
  {
   "cell_type": "code",
   "execution_count": 35,
   "metadata": {
    "id": "qxRkhvHCKDq6"
   },
   "outputs": [],
   "source": [
    "data_train = pd.read_csv(\"original_data/train.tsv\", sep=\"\\t\")\n",
    "x_train_raw, y_train = data_train[\"sentence\"].values, torch.LongTensor(data_train[\"label\"].values).to(device)\n",
    "data_dev = pd.read_csv(\"original_data/dev.tsv\", sep=\"\\t\")\n",
    "x_dev_raw, y_dev = data_dev[\"sentence\"].values, torch.LongTensor(data_dev[\"label\"].values).to(device)\n"
   ]
  },
  {
   "cell_type": "code",
   "execution_count": 36,
   "metadata": {
    "id": "QygYJtQXKQgP"
   },
   "outputs": [
    {
     "ename": "UnicodeDecodeError",
     "evalue": "'charmap' codec can't decode byte 0x9d in position 608481: character maps to <undefined>",
     "output_type": "error",
     "traceback": [
      "\u001b[1;31m---------------------------------------------------------------------------\u001b[0m",
      "\u001b[1;31mUnicodeDecodeError\u001b[0m                        Traceback (most recent call last)",
      "\u001b[1;32m<ipython-input-36-8c307080a985>\u001b[0m in \u001b[0;36m<module>\u001b[1;34m\u001b[0m\n\u001b[0;32m     14\u001b[0m     \u001b[0margs\u001b[0m\u001b[1;33m.\u001b[0m\u001b[0mseq_len\u001b[0m \u001b[1;33m=\u001b[0m \u001b[0mmsl\u001b[0m\u001b[1;33m\u001b[0m\u001b[1;33m\u001b[0m\u001b[0m\n\u001b[0;32m     15\u001b[0m \u001b[1;33m\u001b[0m\u001b[0m\n\u001b[1;32m---> 16\u001b[1;33m \u001b[0mglove_embeddings\u001b[0m \u001b[1;33m=\u001b[0m \u001b[0mget_glove_embeddings\u001b[0m\u001b[1;33m(\u001b[0m\u001b[0mtoken_ids\u001b[0m\u001b[1;33m)\u001b[0m\u001b[1;33m\u001b[0m\u001b[1;33m\u001b[0m\u001b[0m\n\u001b[0m\u001b[0;32m     17\u001b[0m \u001b[1;33m\u001b[0m\u001b[0m\n\u001b[0;32m     18\u001b[0m \u001b[1;32mtry\u001b[0m\u001b[1;33m:\u001b[0m\u001b[1;33m\u001b[0m\u001b[1;33m\u001b[0m\u001b[0m\n",
      "\u001b[1;32m<ipython-input-34-c48b10f5ef25>\u001b[0m in \u001b[0;36mget_glove_embeddings\u001b[1;34m(vocab_dict)\u001b[0m\n\u001b[0;32m     46\u001b[0m \u001b[1;32mdef\u001b[0m \u001b[0mget_glove_embeddings\u001b[0m\u001b[1;33m(\u001b[0m\u001b[0mvocab_dict\u001b[0m\u001b[1;33m)\u001b[0m\u001b[1;33m:\u001b[0m\u001b[1;33m\u001b[0m\u001b[1;33m\u001b[0m\u001b[0m\n\u001b[0;32m     47\u001b[0m     \u001b[1;32mwith\u001b[0m \u001b[0mopen\u001b[0m\u001b[1;33m(\u001b[0m\u001b[1;34m\"glove.6B.50d.txt\"\u001b[0m\u001b[1;33m,\u001b[0m \u001b[1;34m\"r\"\u001b[0m\u001b[1;33m)\u001b[0m \u001b[1;32mas\u001b[0m \u001b[0ms\u001b[0m\u001b[1;33m:\u001b[0m\u001b[1;33m\u001b[0m\u001b[1;33m\u001b[0m\u001b[0m\n\u001b[1;32m---> 48\u001b[1;33m         \u001b[0mglove\u001b[0m \u001b[1;33m=\u001b[0m \u001b[0ms\u001b[0m\u001b[1;33m.\u001b[0m\u001b[0mread\u001b[0m\u001b[1;33m(\u001b[0m\u001b[1;33m)\u001b[0m\u001b[1;33m\u001b[0m\u001b[1;33m\u001b[0m\u001b[0m\n\u001b[0m\u001b[0;32m     49\u001b[0m     \u001b[0membeddings_dict\u001b[0m \u001b[1;33m=\u001b[0m \u001b[1;33m{\u001b[0m\u001b[1;33m}\u001b[0m\u001b[1;33m\u001b[0m\u001b[1;33m\u001b[0m\u001b[0m\n\u001b[0;32m     50\u001b[0m     \u001b[1;32mfor\u001b[0m \u001b[0mline\u001b[0m \u001b[1;32min\u001b[0m \u001b[0mglove\u001b[0m\u001b[1;33m.\u001b[0m\u001b[0msplit\u001b[0m\u001b[1;33m(\u001b[0m\u001b[1;34m\"\\n\"\u001b[0m\u001b[1;33m)\u001b[0m\u001b[1;33m[\u001b[0m\u001b[1;33m:\u001b[0m\u001b[1;33m-\u001b[0m\u001b[1;36m1\u001b[0m\u001b[1;33m]\u001b[0m\u001b[1;33m:\u001b[0m\u001b[1;33m\u001b[0m\u001b[1;33m\u001b[0m\u001b[0m\n",
      "\u001b[1;32m~\\Anaconda3\\lib\\encodings\\cp1252.py\u001b[0m in \u001b[0;36mdecode\u001b[1;34m(self, input, final)\u001b[0m\n\u001b[0;32m     21\u001b[0m \u001b[1;32mclass\u001b[0m \u001b[0mIncrementalDecoder\u001b[0m\u001b[1;33m(\u001b[0m\u001b[0mcodecs\u001b[0m\u001b[1;33m.\u001b[0m\u001b[0mIncrementalDecoder\u001b[0m\u001b[1;33m)\u001b[0m\u001b[1;33m:\u001b[0m\u001b[1;33m\u001b[0m\u001b[1;33m\u001b[0m\u001b[0m\n\u001b[0;32m     22\u001b[0m     \u001b[1;32mdef\u001b[0m \u001b[0mdecode\u001b[0m\u001b[1;33m(\u001b[0m\u001b[0mself\u001b[0m\u001b[1;33m,\u001b[0m \u001b[0minput\u001b[0m\u001b[1;33m,\u001b[0m \u001b[0mfinal\u001b[0m\u001b[1;33m=\u001b[0m\u001b[1;32mFalse\u001b[0m\u001b[1;33m)\u001b[0m\u001b[1;33m:\u001b[0m\u001b[1;33m\u001b[0m\u001b[1;33m\u001b[0m\u001b[0m\n\u001b[1;32m---> 23\u001b[1;33m         \u001b[1;32mreturn\u001b[0m \u001b[0mcodecs\u001b[0m\u001b[1;33m.\u001b[0m\u001b[0mcharmap_decode\u001b[0m\u001b[1;33m(\u001b[0m\u001b[0minput\u001b[0m\u001b[1;33m,\u001b[0m\u001b[0mself\u001b[0m\u001b[1;33m.\u001b[0m\u001b[0merrors\u001b[0m\u001b[1;33m,\u001b[0m\u001b[0mdecoding_table\u001b[0m\u001b[1;33m)\u001b[0m\u001b[1;33m[\u001b[0m\u001b[1;36m0\u001b[0m\u001b[1;33m]\u001b[0m\u001b[1;33m\u001b[0m\u001b[1;33m\u001b[0m\u001b[0m\n\u001b[0m\u001b[0;32m     24\u001b[0m \u001b[1;33m\u001b[0m\u001b[0m\n\u001b[0;32m     25\u001b[0m \u001b[1;32mclass\u001b[0m \u001b[0mStreamWriter\u001b[0m\u001b[1;33m(\u001b[0m\u001b[0mCodec\u001b[0m\u001b[1;33m,\u001b[0m\u001b[0mcodecs\u001b[0m\u001b[1;33m.\u001b[0m\u001b[0mStreamWriter\u001b[0m\u001b[1;33m)\u001b[0m\u001b[1;33m:\u001b[0m\u001b[1;33m\u001b[0m\u001b[1;33m\u001b[0m\u001b[0m\n",
      "\u001b[1;31mUnicodeDecodeError\u001b[0m: 'charmap' codec can't decode byte 0x9d in position 608481: character maps to <undefined>"
     ]
    }
   ],
   "source": [
    "# %% -------------------------------------- Data Prep ------------------------------------------------------------------\n",
    "try:\n",
    "    with open(\"example_prep_data/vocab_dict.json\", \"r\") as s:\n",
    "        token_ids = json.load(s)\n",
    "    msl = np.load(\"example_prep_data/max_sequence_length.npy\").item()\n",
    "except:\n",
    "    print(\"Tokenizing all the examples to get a vocab dict and the maximum sequence length...\")\n",
    "    token_ids, msl = extract_vocab_dict_and_msl(x_train_raw, x_dev_raw)\n",
    "    os.mkdir(\"example_prep_data\")\n",
    "    with open(\"example_prep_data/vocab_dict.json\", \"w\") as s:\n",
    "        json.dump(token_ids, s)\n",
    "    np.save(\"example_prep_data/max_sequence_length.npy\", np.array([msl]))\n",
    "if args.seq_len == \"get_max_from_data\":\n",
    "    args.seq_len = msl\n",
    "\n",
    "glove_embeddings = get_glove_embeddings(token_ids)\n",
    "\n",
    "try:\n",
    "    x_train = np.load(\"example_prep_data/prep_train_len{}.npy\".format(args.seq_len))\n",
    "    x_dev = np.load(\"example_prep_data/prep_dev_len{}.npy\".format(args.seq_len))\n",
    "except:\n",
    "    print(\"Converting all the sentences to sequences of token ids...\")\n",
    "    x_train = convert_to_ids(x_train_raw, token_ids, args.seq_len)\n",
    "    np.save(\"example_prep_data/prep_train_len{}.npy\".format(args.seq_len), x_train)\n",
    "    x_dev = convert_to_ids(x_dev_raw, token_ids, args.seq_len)\n",
    "    np.save(\"example_prep_data/prep_dev_len{}.npy\".format(args.seq_len), x_dev)\n",
    "\n",
    "\n"
   ]
  },
  {
   "cell_type": "code",
   "execution_count": null,
   "metadata": {
    "id": "StiU3dvfKQsh"
   },
   "outputs": [],
   "source": [
    "x_train, x_dev = torch.LongTensor(x_train).to(device), torch.LongTensor(x_dev).to(device)"
   ]
  },
  {
   "cell_type": "code",
   "execution_count": null,
   "metadata": {
    "id": "-SWQOKIwKQ29"
   },
   "outputs": [],
   "source": [
    "# %% -------------------------------------- CNN Class ------------------------------------------------------------------\n",
    "class CNN(nn.Module):\n",
    "    def __init__(self, vocab_size):\n",
    "        super(CNN, self).__init__()\n",
    "\n",
    "        self.embedding = nn.Embedding(vocab_size + 2, args.embedding_dim)\n",
    "\n",
    "        self.conv1 = nn.Conv1d(args.embedding_dim, args.embedding_dim, 9)\n",
    "        self.convnorm1 = nn.BatchNorm1d(args.embedding_dim)\n",
    "        self.pool1 = nn.MaxPool1d(2)\n",
    "\n",
    "        self.conv2 = nn.Conv1d(args.embedding_dim, args.embedding_dim, 9)\n",
    "        self.convnorm2 = nn.BatchNorm1d(args.embedding_dim)\n",
    "        self.pool2 = nn.MaxPool1d(2)\n",
    "\n",
    "        self.conv3 = nn.Conv1d(args.embedding_dim, args.embedding_dim, 7)\n",
    "        self.linear = nn.Linear(args.embedding_dim, 2)\n",
    "        self.act = torch.relu\n",
    "\n",
    "    def forward(self, x):\n",
    "        # nn.Conv1d operates on the columns, each embedding dimension is considered as one channel\n",
    "        x = self.embedding(x).permute(0, 2, 1)\n",
    "        x = self.pool1(self.convnorm1(self.act(self.conv1(x))))\n",
    "        x = self.pool2(self.convnorm2(self.act(self.conv2(x))))\n",
    "        return self.linear(self.act(self.conv3(x)).reshape(-1, args.embedding_dim))\n",
    "\n"
   ]
  },
  {
   "cell_type": "code",
   "execution_count": null,
   "metadata": {
    "id": "k6kcA-u1KRBO"
   },
   "outputs": [],
   "source": [
    "# %% -------------------------------------- Training Prep ----------------------------------------------------------\n",
    "model = CNN(len(token_ids)).to(device)\n",
    "look_up_table = get_glove_table(token_ids, glove_embeddings)\n",
    "model.embedding.weight.data.copy_(look_up_table)\n",
    "optimizer = torch.optim.Adam(model.parameters(), lr=args.lr)\n",
    "criterion = nn.CrossEntropyLoss()"
   ]
  },
  {
   "cell_type": "code",
   "execution_count": null,
   "metadata": {
    "id": "1fuM7L-dKQ8F"
   },
   "outputs": [],
   "source": [
    "# %% -------------------------------------- Training Loop ----------------------------------------------------------\n",
    "labels_ditrib = torch.unique(y_dev, return_counts=True)\n",
    "print(\"The no information rate is {:.2f}\".format(100*labels_ditrib[1].max().item()/len(y_dev)))\n",
    "if args.train:\n",
    "    acc_dev_best = 0\n",
    "    print(\"Starting training loop...\")\n",
    "    for epoch in range(args.n_epochs):\n",
    "\n",
    "        loss_train, train_steps = 0, 0\n",
    "        model.train()\n",
    "        total = len(x_train) // args.batch_size + 1  # Initiates a progress bar that will be updated for each batch\n",
    "        with tqdm(total=total, desc=\"Epoch {}\".format(epoch)) as pbar:  # \"Epoch\" will be updated for each epoch\n",
    "            for batch in range(len(x_train)//args.batch_size + 1):\n",
    "                inds = slice(batch*args.batch_size, (batch+1)*args.batch_size)\n",
    "                optimizer.zero_grad()\n",
    "                logits = model(x_train[inds])\n",
    "                loss = criterion(logits, y_train[inds])\n",
    "                loss.backward()\n",
    "                optimizer.step()\n",
    "                loss_train += loss.item()\n",
    "                train_steps += 1\n",
    "                pbar.update(1)  # Updates the progress and the training loss\n",
    "                pbar.set_postfix_str(\"Training Loss: {:.5f}\".format(loss_train / train_steps))\n",
    "\n",
    "        model.eval()\n",
    "        with torch.no_grad():\n",
    "            y_dev_pred = model(x_dev)\n",
    "            loss = criterion(y_dev_pred, y_dev)\n",
    "            loss_test = loss.item()\n",
    "\n",
    "        acc_dev = acc(x_dev, y_dev)\n",
    "        print(\"Epoch {} | Train Loss {:.5f}, Train Acc {:.2f} - Test Loss {:.5f}, Test Acc {:.2f}\".format(\n",
    "            epoch, loss_train/train_steps, acc(x_train, y_train), loss_test, acc_dev))\n",
    "\n",
    "        if acc_dev > acc_dev_best and args.save_model:\n",
    "            torch.save(model.state_dict(), \"cnn_sentiment.pt\")\n",
    "            print(\"The model has been saved!\")\n",
    "            acc_dev_best = acc_dev"
   ]
  },
  {
   "cell_type": "markdown",
   "metadata": {
    "id": "dVLMfgsAKjct"
   },
   "source": [
    "# Test of Deep Learning"
   ]
  },
  {
   "cell_type": "code",
   "execution_count": null,
   "metadata": {
    "id": "v2G45WKUKQyq"
   },
   "outputs": [],
   "source": [
    "x = None\n",
    "for i in range(10):\n",
    "    test = convert_to_ids([x_train_raw[i]], token_ids, args.seq_len)\n",
    "    test = torch.LongTensor(test).to(device)\n",
    "    pred = model(test).cpu().detach().numpy()[0]\n",
    "    x = softmax(pred)\n",
    "    print(softmax(pred),y_train[i])"
   ]
  },
  {
   "cell_type": "code",
   "execution_count": null,
   "metadata": {
    "id": "cQfsUv9DKQkP"
   },
   "outputs": [],
   "source": [
    "\n",
    "x = None\n",
    "deep_learning_sentiment_prob = []\n",
    "\n",
    "for i in df.iloc[:,2]:\n",
    "    test = convert_to_ids([i], token_ids, args.seq_len)\n",
    "    test = torch.LongTensor(test).to(device)\n",
    "    pred = model(test).cpu().detach().numpy()[0]\n",
    "    x = softmax(pred)\n",
    "    sentiment_prob.append(x[1])"
   ]
  },
  {
   "cell_type": "code",
   "execution_count": null,
   "metadata": {
    "id": "gr3j1xrQKQbB"
   },
   "outputs": [],
   "source": [
    "df['deep_learning_sentiment_prob'] = sentiment_prob"
   ]
  },
  {
   "cell_type": "markdown",
   "metadata": {
    "id": "tcTS6NmsVs8F"
   },
   "source": [
    "#END OF DEEP LEARNING"
   ]
  },
  {
   "cell_type": "markdown",
   "metadata": {
    "id": "WF63pXtRKAUF"
   },
   "source": [
    "# Testing the Model "
   ]
  },
  {
   "cell_type": "code",
   "execution_count": 37,
   "metadata": {
    "id": "e20B5sz1KAUF"
   },
   "outputs": [],
   "source": [
    "sentiment = []\n",
    "sentiment_prob = []\n",
    "for i in df.iloc[:,2]:\n",
    "    sentiment.append(predict_tweet(i, freqs)[0])\n",
    "    sentiment_prob.append(predict_tweet_prob(i, freqs)[0][1])"
   ]
  },
  {
   "cell_type": "code",
   "execution_count": 38,
   "metadata": {
    "id": "q4SRyh-1KAUF",
    "outputId": "8504c706-5bdd-45f3-a11b-a8d78f4963bb"
   },
   "outputs": [
    {
     "data": {
      "text/plain": [
       "[1.0,\n",
       " 0.0,\n",
       " 0.0,\n",
       " 0.0,\n",
       " 1.0,\n",
       " 0.0,\n",
       " 0.0,\n",
       " 0.0,\n",
       " 1.0,\n",
       " 0.0,\n",
       " 0.0,\n",
       " 1.0,\n",
       " 0.0,\n",
       " 0.0,\n",
       " 1.0,\n",
       " 1.0]"
      ]
     },
     "execution_count": 38,
     "metadata": {},
     "output_type": "execute_result"
    }
   ],
   "source": [
    "sentiment\n"
   ]
  },
  {
   "cell_type": "code",
   "execution_count": 39,
   "metadata": {
    "id": "UCu9vKeaKAUF",
    "outputId": "93714f22-c860-47f6-c5db-73aa2738fb3a"
   },
   "outputs": [
    {
     "data": {
      "text/plain": [
       "[0.9872490537403447,\n",
       " 0.4153527929432404,\n",
       " 0.11024831668979966,\n",
       " 0.01183697090576792,\n",
       " 0.7076020276519792,\n",
       " 0.2749088067544651,\n",
       " 0.030174540838747654,\n",
       " 0.1078004551556817,\n",
       " 0.6416087077181857,\n",
       " 0.2633391545866966,\n",
       " 0.2567699022462628,\n",
       " 0.8541673572153324,\n",
       " 0.41361851712016867,\n",
       " 0.0682655863455835,\n",
       " 0.7790961392368149,\n",
       " 0.7364680347973114]"
      ]
     },
     "execution_count": 39,
     "metadata": {},
     "output_type": "execute_result"
    }
   ],
   "source": [
    "sentiment_prob"
   ]
  },
  {
   "cell_type": "code",
   "execution_count": 41,
   "metadata": {
    "id": "gP6qhReXKAUF",
    "outputId": "4ffe9f67-d5da-43d0-be5d-6fd1e6ce7f02"
   },
   "outputs": [
    {
     "data": {
      "text/html": [
       "<div>\n",
       "<style scoped>\n",
       "    .dataframe tbody tr th:only-of-type {\n",
       "        vertical-align: middle;\n",
       "    }\n",
       "\n",
       "    .dataframe tbody tr th {\n",
       "        vertical-align: top;\n",
       "    }\n",
       "\n",
       "    .dataframe thead th {\n",
       "        text-align: right;\n",
       "    }\n",
       "</style>\n",
       "<table border=\"1\" class=\"dataframe\">\n",
       "  <thead>\n",
       "    <tr style=\"text-align: right;\">\n",
       "      <th></th>\n",
       "      <th>Date</th>\n",
       "      <th>Header</th>\n",
       "      <th>Text</th>\n",
       "      <th>Open</th>\n",
       "      <th>Volume</th>\n",
       "      <th>% Change in Stock Price</th>\n",
       "      <th>% Change in Volume</th>\n",
       "      <th>Text (clean)</th>\n",
       "      <th>Vader Sentiment Score</th>\n",
       "      <th>sentiment</th>\n",
       "      <th>sentiment_prob</th>\n",
       "    </tr>\n",
       "  </thead>\n",
       "  <tbody>\n",
       "    <tr>\n",
       "      <th>0</th>\n",
       "      <td>2020-07-10</td>\n",
       "      <td>U.S. companies seeking capital during pandemic test bank market's new normal</td>\n",
       "      <td>la  Guzman5 Min ReadNEW YORK (LPC) - Bank lenders for high-quality US companies are taking different refinancing avenues as they seek to extend maturities on billions of US dollars in loans at a time when the Covid-19 pandemic has made liquidity a top priority.FILE PHOTO: An empty Times Square is seen on the street following the outbreak of coronavirus disease (COVID-19), in New York City, U.S., March 18, 2020. REUTERS/Jeenah MoonCorporations that historically kept their credit agreements intact while extending maturities are now making significant changes to the loan documents accepting risk-mitigating concessions on pricing, terms and the loans’ longevity, while others seem exempt from the new requirements.Gilead Sciences, IBM and Ford Motor Co have tapped the market recently, with transactions that have pushed maturities out and ensured their access to capital following company-specific strategies that reflect different lenders’ perceptions of the credits and the changing times.“Not every company is going through the pandemic the same way because with more volatility there’s more differentiation, so you’re going to have different treatment and receptivity from the banks as a result,” a senior banker said.As the investment grade loan market grapples with tighter liquidity as a result of revolver drawdowns during the health crisis, lenders are rarely going beyond 364-day tenors for new deals. In the second quarter, investment grade refinancing dropped to a 10-year low of US$139bn, as borrowers largely passed on refinancing their multiyear revolvers. Five-year tenors dropped to 5% of total revolver volume in the second quarter, according to Refinitiv LPC data.The treatment is going to be dependent on the credit rating, the company’s performance and the sector, bankers agreed.In late June, A3/A rated Gilead refinanced a US$2.5bn, five-year credit agreement that was set to mature in May 2021. The terms on the facility remained the same with pricing at 87.5bp over Libor, according to Refinitiv LPC data. The proceeds of the loan are for general purposes, according to the data.The biopharmaceutical company is developing clinical trials of an antiviral Covid-19 treatment called remdesivir. Government support for the drug and the potential for profit likely helped seal the deal with lenders for the first five-year refinancing since the pandemic started.The fact that Gilead is an important capital markets issuer may have constituted an additional incentive for its bank group to commit to the long maturity during trying times.Spokespeople at Gilead and Bank of America, the administrative agent on the prior credit facility, declined to comment.Meanwhile, household name IBM took a different path and extended its credit facilities by signing a new US$2.5bn 364-day loan and extending the maturities on its US$2.5bn three-year credit agreement and US$10.25bn five-year credit agreements by two years, rather than completely refinancing. The A2/A rated technology giant withdrew its 2020 annual forecast as the pandemic impacted second quarter revenues.B+/Ba2 rated Ford, which lost its investment grade status in March due to the outbreak’s economic fallout, is on the opposite side of the spectrum as it seeks to extend maturities on US$5.35bn in existing loans.After pulling its refinancing plans for US$15.4bn in loans earlier this year, the B+/Ba2 rated automaker is currently in market looking to extend a more modestly-sized amount.As it looks to push out maturities on a US$3.35bn three-year revolving credit and a US$2bn three-year revolver for another year, the company will leave a US$10.05bn five-year revolver and US$1.5bn term loan unchanged.The lenders who agree to the extensions will receive a 40bp fee, which shows the large incentive the company had to offer to have banks stick with the company, which saw a 33.3% drop in US sales in the second quarter.“We’re all hoping for a better tomorrow,” said Robert Danziger, managing director of debt capital markets at MUFG. “Companies are positioning themselves to address immediate, short term liquidity needs now. In this way, rather than breaking a lot of relationship glass, they can wait for things to improve further in the bank market (hopefully in the not too distant future) and they can go back to pushing out tenors and refining pricing.”Reporting by Daniela Guzman; Editing by Michelle Sierra and Kristen Haunss.Our Standards: The Thomson Reuters Trust Principles.</td>\n",
       "      <td>115.500000</td>\n",
       "      <td>4285700</td>\n",
       "      <td>NaN</td>\n",
       "      <td>NaN</td>\n",
       "      <td>la Guzman5 Min ReadNEW YORK LPC bank lender high quality company take different refinancing avenue seek extend maturity billion dollar loan time Covid-19 pandemic liquidity priority FILE PHOTO Times Square see street follow outbreak coronavirus disease COVID-19 New York City U.S. March 18 2020 REUTERS Jeenah MoonCorporations historically keep credit agreement intact extend maturity make significant change loan document accept risk mitigate concession pricing term loan longevity exempt new requirement Gilead Sciences IBM Ford Motor Co tap market recently transaction push maturity ensure access capital follow company specific strategy reflect different lender perception credit change time “not company go pandemic way volatility differentiation go different treatment receptivity bank result senior banker say investment grade loan market grapple tight liquidity result revolver drawdown health crisis lender rarely go 364-day tenor new deal second quarter investment grade refinancing drop 10-year low us$ 139bn borrower largely pass refinance multiyear revolver year tenor drop 5 total revolver volume second quarter accord Refinitiv LPC datum treatment go dependent credit rating company performance sector banker agree late June A3 rate Gilead refinance us$ 2.5bn year credit agreement set mature 2021 term facility remain pricing 87.5bp Libor accord Refinitiv LPC datum proceed loan general purpose accord datum biopharmaceutical company develop clinical trial antiviral Covid-19 treatment call remdesivir government support drug potential profit likely help seal deal lender year refinancing pandemic start fact Gilead important capital market issuer constitute additional incentive bank group commit long maturity try time spokespeople Gilead Bank America administrative agent prior credit facility decline comment household IBM take different path extend credit facility sign new us$ 2.5bn 364-day loan extend maturity us$ 2.5bn year credit agreement us$ 10.25bn year credit agreement year completely refinance A2 rate technology giant withdraw 2020 annual forecast pandemic impact second quarter revenue B+/Ba2 rate Ford lose investment grade status March outbreak economic fallout opposite spectrum seek extend maturity us$ 5.35bn exist loan pull refinance plan us$ 15.4bn loan early year B+/Ba2 rate automaker currently market look extend modestly sized look push maturity us$ 3.35bn year revolve credit us$ 2bn year revolver year company leave us$ 10.05bn year revolver us$ 1.5bn term loan unchanged lender agree extension receive 40bp fee show large incentive company offer bank stick company see 33.3 drop sale second quarter “we’re hope well tomorrow say Robert Danziger manage director debt capital market MUFG company position address immediate short term liquidity need way break lot relationship glass wait thing improve bank market hopefully distant future push tenor refining pricing ”reporting Daniela Guzman Editing Michelle Sierra Kristen Haunss Standards Thomson Reuters Trust Principles</td>\n",
       "      <td>0.9963</td>\n",
       "      <td>1.0</td>\n",
       "      <td>0.987249</td>\n",
       "    </tr>\n",
       "    <tr>\n",
       "      <th>1</th>\n",
       "      <td>2020-07-14</td>\n",
       "      <td>Bill Gross predicts value outperforms growth, based on rates correlation</td>\n",
       "      <td>- Billionaire investor Bill Gross is predicting that value stocks like IBM IBM.N and Altria Group MO.N are likely to fare better than growth stocks like Apple AAPL.O or Amazon.com AMZN.O in the near term, due to a correlation with real interest rates.U.S. real yields - which adjust for inflation - have been declining in response to the Federal Reserve's aggressive monetary actions over the past few months to limit the economic fallout of the coronavirus pandemic. The yield on the 10-year Treasury Inflation-Protected Security (TIPS) US10YTIP=RR has been trading with a negative yield since late March and is now minus 0.803%, near an all-time-low. Gross, who co-founded Pacific Investment Management Company, then spent four years at Janus Henderson before leaving in 2019 to manage his own money, said that the reason that the \"Fab 5 stocks\" and growth stocks in general had done \"so fabulously well\" centers on falling real interest rates that \"are still reaching historic lows.\" Gross is referring to a clutch of high-performing stocks: Amazon, Facebook FB.O, Apple, Netflix NFLX.O and Google's parent Alphabet GOOGL.O, according to his spokesperson. The yields of TIPS are highly correlated with growth stocks, but have far less of an effect on the prices of traditional value stocks, he wrote.The future price disparity of Microsoft MSFT.O, Apple and Amazon \"is subject to an ongoing decline in real rates, which to my mind, have seen their best days,\" Gross said. \"Value stocks, versus growth stocks, should be an investor's preference in the near-term future,\" he writes.Gross said that as well as IBM and Altria, he likes stocks such as midstream company Enterprise Products Partners EPD.N and pharmaceutical giant AbbVie ABBV.N.“Happiness is a healthy body, sinking a few 10-foot putts, and investing in value, versus the ‘Fab 5’,” wrote Gross, who also said he was COVID-19 free.Reporting by Kate Duguid; Additional reporting by Gertrude Chavez-Dreyfuss; Editing by Megan Davies and Christopher CushingOur Standards: The Thomson Reuters Trust Principles.</td>\n",
       "      <td>118.620003</td>\n",
       "      <td>4534400</td>\n",
       "      <td>2.701301</td>\n",
       "      <td>5.803019</td>\n",
       "      <td>billionaire investor Bill Gross predict value stock like IBM IBM.N Altria Group mo.n likely fare well growth stock like Apple AAPL.O amazon.com AMZN.O near term correlation real interest rate U.S. real yield adjust inflation decline response Federal Reserve aggressive monetary action past month limit economic fallout coronavirus pandemic yield 10-year Treasury Inflation protect security TIPS US10YTIP = RR trade negative yield late March minus 0.803 near time low Gross co found Pacific Investment Management Company spend year Janus Henderson leave 2019 manage money say reason fab 5 stock growth stock general fabulously center fall real interest rate reach historic low Gross refer clutch high perform stock Amazon Facebook FB.O Apple Netflix NFLX.O Google parent Alphabet GOOGL.O accord spokesperson yield TIPS highly correlate growth stock far effect price traditional value stock write future price disparity Microsoft MSFT.O Apple Amazon subject ongoing decline real rate mind see good day Gross say value stock versus growth stock investor preference near term future write Gross say IBM Altria like stock midstream company Enterprise Products Partners EPD.N pharmaceutical giant AbbVie abbv.n.“happiness healthy body sink 10-foot putt invest value versus Fab 5 write Gross say covid-19 free report Kate Duguid additional reporting Gertrude Chavez Dreyfuss editing Megan Davies Christopher CushingOur Standards Thomson Reuters Trust Principles</td>\n",
       "      <td>0.9831</td>\n",
       "      <td>0.0</td>\n",
       "      <td>0.415353</td>\n",
       "    </tr>\n",
       "    <tr>\n",
       "      <th>2</th>\n",
       "      <td>2020-07-20</td>\n",
       "      <td>IBM beats estimates; sees gains as customers accelerate shift to cloud</td>\n",
       "      <td>- International Business Machines Corp IBM.N beat estimates for second-quarter profit on Monday and signaled that demand in its cloud computing business would get a boost as large corporations accelerate their digital shift due to the coronavirus crisis.FILE PHOTO: A man stands near an IBM logo at the Mobile World Congress in Barcelona, Spain, February 25, 2019.    REUTERS/Sergio Perez/File PhotoThe company’s shares rose 5% in after-hours trading.IBM has jettisoned some of its legacy business to focus on the high-margin cloud computing business, an area that has seen a lot of action in recent years as companies ramp up their digital shift to boost efficiency.“The trend we see in the market is clear. Clients want to modernize apps, move more workloads to the cloud and automate IT tasks,” IBM’s new boss Arvind Krishna said on a post-earnings call with analysts.Revenue from the cloud business, previously headed by Krishna, rose 30% to $6.3 billion in the second quarter.Krishna took over as chief executive officer from Ginni Rometty in April, while appointing former Bank of America Corp's BAC.N top technology executive, Howard Boville, as the new head of the cloud business.IBM’s global business services unit was impacted as clients cut or delayed spending on discretionary projects due to COVID-19, CFO James Kavanaugh told Reuters. Sales in the unit fell 7% to $3.9 billion.While Western Europe and Asia Pacific showed a pickup in client spending during June, U.S. and Latin America customers pulled back as the pandemic impact got worse, Kavanaugh said.“From a client perspective, our business is more concentrated in large enterprises, which in total have been relatively more stable throughout the pandemic,” Kavanaugh said.IBM’s total revenue fell 5.4% to $18.12 billion, but came in above analysts’ estimates of $17.72 billion, according to IBES data from Refinitiv. Excluding the impact from currency and business divestitures, revenue declined 1.9%.Excluding items, the company earned $2.18 per share, above estimates of $2.07.Reporting by Munsif Vengattil in Bengaluru; Editing by Maju SamuelOur Standards: The Thomson Reuters Trust Principles.</td>\n",
       "      <td>126.070000</td>\n",
       "      <td>9927700</td>\n",
       "      <td>6.280557</td>\n",
       "      <td>118.941867</td>\n",
       "      <td>International Business Machines Corp IBM.N beat estimate second quarter profit Monday signal demand cloud computing business boost large corporation accelerate digital shift coronavirus crisis FILE PHOTO man stand near IBM logo Mobile World Congress Barcelona Spain February 25 2019 REUTERS Sergio Perez File PhotoThe company share rise 5 hour trading IBM jettison legacy business focus high margin cloud computing business area see lot action recent year company ramp digital shift boost efficiency “the trend market clear client want modernize app workload cloud automate task IBM new boss Arvind Krishna say post earning analyst revenue cloud business previously head Krishna rise 30 $ 6.3 billion second quarter Krishna take chief executive officer Ginni Rometty April appoint Bank America Corp BAC.N technology executive Howard Boville new head cloud business IBM global business service unit impact client cut delay spending discretionary project covid-19 CFO James Kavanaugh tell Reuters sale unit fall 7 $ 3.9 billion Western Europe Asia Pacific show pickup client spending June U.S. Latin America customer pull pandemic impact get bad Kavanaugh say “from client perspective business concentrated large enterprise total relatively stable pandemic Kavanaugh say IBM total revenue fall 5.4 $ 18.12 billion come analyst estimate $ 17.72 billion accord IBES datum Refinitiv exclude impact currency business divestiture revenue decline 1.9%.excluding item company earn $ 2.18 share estimate $ 2.07.reporting Munsif Vengattil Bengaluru edit Maju SamuelOur Standards Thomson Reuters Trust Principles</td>\n",
       "      <td>0.8020</td>\n",
       "      <td>0.0</td>\n",
       "      <td>0.110248</td>\n",
       "    </tr>\n",
       "    <tr>\n",
       "      <th>3</th>\n",
       "      <td>2020-07-22</td>\n",
       "      <td>Microsoft cloud flagship posts first growth under 50%; bookings growth steady</td>\n",
       "      <td>- Microsoft Corp's MSFT.O flagship cloud computing business Azure reported quarterly sales growth of under 50% for the first time ever on Wednesday, sending the tech giant's shares down 2%.The Microsoft store is pictured in the Manhattan borough of New York City, New York, U.S., June 26, 2020. REUTERS/Carlo AllegriRevenue in Microsoft’s Intelligent Cloud segment rose 17% to $13.4 billion, with 47% growth in the Azure component, which includes essential computing and storage services. Analysts on average had expected cloud revenue of $13.09 billion in the fourth quarter ended June 30, according to IBES data from Refinitiv.Azure's growth is the most direct measure of performance against top cloud rival Amazon.com Inc's AMZN.O Amazon Web Services, as Microsoft does not break out Azure's revenue by dollar amount. AWS posted revenue growth of 33% to $10.2 billion, which analysts believe exceeds Azure's total, for the quarter ended March 31. International Business Machines Corp IBM.N, another Microsoft rival, this week beat Wall Street expectations with strong cloud growth.Beyond Azure, Microsoft’s results showed how the novel coronavirus is both helping and hurting Microsoft.Businesses are investing in cloud technology for remote work, and the video game Minecraft scored a record 132 million monthly active users as families worked and played from home. But Microsoft’s forecast for some versions of its Office software slightly missed expectations because of weak sales to struggling small and mid-sized businesses.“No one can take away from the fact that GDP is going to be negative,” Chief Executive Satya Nadella told investors on the company’s earnings call, referring to U.S. Gross Domestic Product.Microsoft Chief Financial Officer Amy Hood said 12% commercial bookings growth, which reflects corporate contracts for future software and services, was roughly unchanged from the previous quarter and beat company estimates. The figure signals that customers are keeping long-term technology spending plans intact.“Our strong position in the cloud has allowed us to have good results and support our customers as they work on the next couple of years of digital transformation,” Hood said in an interview.Microsoft's total revenue rose 13% to $38.03 billion in the quarter, beating estimates of $36.5 billion, according to IBES data from Refinitiv. (bit.ly/3jxrriP)The growth was powered by its More Personal Computing unit as more people worldwide used its products to work on Windows PCs and play games on Xboxes during lockdowns. Revenue from the unit, the largest by sales, rose 14% to $12.9 billion, beating analysts’ estimates of $11.46 billion.Microsoft said its professional networking site, LinkedIn, was hurt by the weak job market and advertising spending cuts.Net income fell to $11.20 billion, or $1.46 per share, from $13.19 billion, or $1.71 per share, a year earlier.Reporting by Stephen Nellis in San Francisco and Munsif Vengattil in Bengaluru; Editing by Maju Samuel and Richard ChangOur Standards: The Thomson Reuters Trust Principles.</td>\n",
       "      <td>125.900002</td>\n",
       "      <td>8195400</td>\n",
       "      <td>-0.134844</td>\n",
       "      <td>-17.449157</td>\n",
       "      <td>Microsoft Corp MSFT.O flagship cloud computing business Azure report quarterly sale growth 50 time Wednesday send tech giant share 2%.the Microsoft store picture Manhattan borough New York City New York U.S. June 26 2020 REUTERS Carlo AllegriRevenue Microsoft Intelligent Cloud segment rise 17 $ 13.4 billion 47 growth Azure component include essential computing storage service analyst average expect cloud revenue $ 13.09 billion fourth quarter end June 30 accord IBES datum Refinitiv azure growth direct measure performance cloud rival Amazon.com Inc AMZN.O Amazon Web Services Microsoft break Azure revenue dollar AWS post revenue growth 33 $ 10.2 billion analyst believe exceed Azure total quarter end March 31 International Business Machines Corp IBM.N Microsoft rival week beat Wall Street expectation strong cloud growth Azure Microsoft result show novel coronavirus help hurt Microsoft business invest cloud technology remote work video game Minecraft score record 132 million monthly active user family work play home Microsoft forecast version Office software slightly miss expectation weak sale struggle small mid sized business “no away fact GDP go negative Chief Executive Satya Nadella tell investor company earning refer U.S. Gross Domestic Product Microsoft Chief Financial Officer Amy Hood say 12 commercial booking growth reflect corporate contract future software service roughly unchanged previous quarter beat company estimate figure signal customer keep long term technology spending plan intact “our strong position cloud allow good result support customer work couple year digital transformation Hood say interview Microsoft total revenue rise 13 $ 38.03 billion quarter beat estimate $ 36.5 billion accord IBES datum Refinitiv bit.ly/3jxrrip)the growth power Personal Computing unit people worldwide product work Windows pc play game Xboxes lockdown revenue unit large sale rise 14 $ 12.9 billion beat analyst estimate $ 11.46 billion Microsoft say professional networking site LinkedIn hurt weak job market advertising spending cut net income fall $ 11.20 billion $ 1.46 share $ 13.19 billion $ 1.71 share year early report Stephen Nellis San Francisco Munsif Vengattil Bengaluru edit Maju Samuel Richard ChangOur Standards Thomson Reuters Trust Principles</td>\n",
       "      <td>0.9849</td>\n",
       "      <td>0.0</td>\n",
       "      <td>0.011837</td>\n",
       "    </tr>\n",
       "    <tr>\n",
       "      <th>4</th>\n",
       "      <td>2020-08-04</td>\n",
       "      <td>White House unveils new partnership to boost quantum science education</td>\n",
       "      <td>- The White House Office of Science and Technology Policy said on Wednesday it is launching a national education partnership to expand access to K-12 quantum information science (QIS) education with major companies and research institutions.The public-private initiative with the National Science Foundation includes Amazon.com’s Amazon Web Services, Boeing Co, Alphabet Inc’s Google, IBM Corp , Lockheed Martin, Microsoft Corp, the University of Illinois and University of Chicago. The National Science Foundation is also awarding $1 million to QIS education.The initiative is designed in part to help introduce students to quantum information themes before college. (Reporting by David Shepardson Editing by Chris Reese)Our Standards: The Thomson Reuters Trust Principles.</td>\n",
       "      <td>123.820000</td>\n",
       "      <td>3466100</td>\n",
       "      <td>-1.652106</td>\n",
       "      <td>-57.706762</td>\n",
       "      <td>White House Office Science Technology Policy say Wednesday launch national education partnership expand access K-12 quantum information science QIS education major company research institution public private initiative National Science Foundation include amazon.com Amazon Web Services Boeing Co Alphabet Inc Google IBM Corp Lockheed Martin Microsoft Corp University Illinois University Chicago National Science Foundation award $ 1 million QIS education initiative design help introduce student quantum information theme college report David Shepardson Editing Chris Reese)Our Standards Thomson Reuters Trust Principles</td>\n",
       "      <td>0.9100</td>\n",
       "      <td>1.0</td>\n",
       "      <td>0.707602</td>\n",
       "    </tr>\n",
       "  </tbody>\n",
       "</table>\n",
       "</div>"
      ],
      "text/plain": [
       "        Date  \\\n",
       "0 2020-07-10   \n",
       "1 2020-07-14   \n",
       "2 2020-07-20   \n",
       "3 2020-07-22   \n",
       "4 2020-08-04   \n",
       "\n",
       "                                                                          Header  \\\n",
       "0  U.S. companies seeking capital during pandemic test bank market's new normal    \n",
       "1  Bill Gross predicts value outperforms growth, based on rates correlation        \n",
       "2  IBM beats estimates; sees gains as customers accelerate shift to cloud          \n",
       "3  Microsoft cloud flagship posts first growth under 50%; bookings growth steady   \n",
       "4  White House unveils new partnership to boost quantum science education          \n",
       "\n",
       "                                                                                                                                                                                                                                                                                                                                                                                                                                                                                                                                                                                                                                                                                                                                                                                                                                                                                                                                                                                                                                                                                                                                                                                                                                                                                                                                                                                                                                                                                                                                                                                                                                                                                                                                                                                                                                                                                                                                                                                                                                                                                                                                                                                                                                                                                                                                                                                                                                                                                                                                                                                                                                                                                                                                                                                                                                                                                                                                                                                                                                                                                                                                                                                                                                                                                                                                                                                                                                                                                                                                                                                                                                                                                                                                                                                                                                                                                                                                                                                                                                                                                                                                                                                                                                                                                                                                                                                                                                                                                                                                                                                                                                                           Text  \\\n",
       "0  la  Guzman5 Min ReadNEW YORK (LPC) - Bank lenders for high-quality US companies are taking different refinancing avenues as they seek to extend maturities on billions of US dollars in loans at a time when the Covid-19 pandemic has made liquidity a top priority.FILE PHOTO: An empty Times Square is seen on the street following the outbreak of coronavirus disease (COVID-19), in New York City, U.S., March 18, 2020. REUTERS/Jeenah MoonCorporations that historically kept their credit agreements intact while extending maturities are now making significant changes to the loan documents accepting risk-mitigating concessions on pricing, terms and the loans’ longevity, while others seem exempt from the new requirements.Gilead Sciences, IBM and Ford Motor Co have tapped the market recently, with transactions that have pushed maturities out and ensured their access to capital following company-specific strategies that reflect different lenders’ perceptions of the credits and the changing times.“Not every company is going through the pandemic the same way because with more volatility there’s more differentiation, so you’re going to have different treatment and receptivity from the banks as a result,” a senior banker said.As the investment grade loan market grapples with tighter liquidity as a result of revolver drawdowns during the health crisis, lenders are rarely going beyond 364-day tenors for new deals. In the second quarter, investment grade refinancing dropped to a 10-year low of US$139bn, as borrowers largely passed on refinancing their multiyear revolvers. Five-year tenors dropped to 5% of total revolver volume in the second quarter, according to Refinitiv LPC data.The treatment is going to be dependent on the credit rating, the company’s performance and the sector, bankers agreed.In late June, A3/A rated Gilead refinanced a US$2.5bn, five-year credit agreement that was set to mature in May 2021. The terms on the facility remained the same with pricing at 87.5bp over Libor, according to Refinitiv LPC data. The proceeds of the loan are for general purposes, according to the data.The biopharmaceutical company is developing clinical trials of an antiviral Covid-19 treatment called remdesivir. Government support for the drug and the potential for profit likely helped seal the deal with lenders for the first five-year refinancing since the pandemic started.The fact that Gilead is an important capital markets issuer may have constituted an additional incentive for its bank group to commit to the long maturity during trying times.Spokespeople at Gilead and Bank of America, the administrative agent on the prior credit facility, declined to comment.Meanwhile, household name IBM took a different path and extended its credit facilities by signing a new US$2.5bn 364-day loan and extending the maturities on its US$2.5bn three-year credit agreement and US$10.25bn five-year credit agreements by two years, rather than completely refinancing. The A2/A rated technology giant withdrew its 2020 annual forecast as the pandemic impacted second quarter revenues.B+/Ba2 rated Ford, which lost its investment grade status in March due to the outbreak’s economic fallout, is on the opposite side of the spectrum as it seeks to extend maturities on US$5.35bn in existing loans.After pulling its refinancing plans for US$15.4bn in loans earlier this year, the B+/Ba2 rated automaker is currently in market looking to extend a more modestly-sized amount.As it looks to push out maturities on a US$3.35bn three-year revolving credit and a US$2bn three-year revolver for another year, the company will leave a US$10.05bn five-year revolver and US$1.5bn term loan unchanged.The lenders who agree to the extensions will receive a 40bp fee, which shows the large incentive the company had to offer to have banks stick with the company, which saw a 33.3% drop in US sales in the second quarter.“We’re all hoping for a better tomorrow,” said Robert Danziger, managing director of debt capital markets at MUFG. “Companies are positioning themselves to address immediate, short term liquidity needs now. In this way, rather than breaking a lot of relationship glass, they can wait for things to improve further in the bank market (hopefully in the not too distant future) and they can go back to pushing out tenors and refining pricing.”Reporting by Daniela Guzman; Editing by Michelle Sierra and Kristen Haunss.Our Standards: The Thomson Reuters Trust Principles.   \n",
       "1   - Billionaire investor Bill Gross is predicting that value stocks like IBM IBM.N and Altria Group MO.N are likely to fare better than growth stocks like Apple AAPL.O or Amazon.com AMZN.O in the near term, due to a correlation with real interest rates.U.S. real yields - which adjust for inflation - have been declining in response to the Federal Reserve's aggressive monetary actions over the past few months to limit the economic fallout of the coronavirus pandemic. The yield on the 10-year Treasury Inflation-Protected Security (TIPS) US10YTIP=RR has been trading with a negative yield since late March and is now minus 0.803%, near an all-time-low. Gross, who co-founded Pacific Investment Management Company, then spent four years at Janus Henderson before leaving in 2019 to manage his own money, said that the reason that the \"Fab 5 stocks\" and growth stocks in general had done \"so fabulously well\" centers on falling real interest rates that \"are still reaching historic lows.\" Gross is referring to a clutch of high-performing stocks: Amazon, Facebook FB.O, Apple, Netflix NFLX.O and Google's parent Alphabet GOOGL.O, according to his spokesperson. The yields of TIPS are highly correlated with growth stocks, but have far less of an effect on the prices of traditional value stocks, he wrote.The future price disparity of Microsoft MSFT.O, Apple and Amazon \"is subject to an ongoing decline in real rates, which to my mind, have seen their best days,\" Gross said. \"Value stocks, versus growth stocks, should be an investor's preference in the near-term future,\" he writes.Gross said that as well as IBM and Altria, he likes stocks such as midstream company Enterprise Products Partners EPD.N and pharmaceutical giant AbbVie ABBV.N.“Happiness is a healthy body, sinking a few 10-foot putts, and investing in value, versus the ‘Fab 5’,” wrote Gross, who also said he was COVID-19 free.Reporting by Kate Duguid; Additional reporting by Gertrude Chavez-Dreyfuss; Editing by Megan Davies and Christopher CushingOur Standards: The Thomson Reuters Trust Principles.                                                                                                                                                                                                                                                                                                                                                                                                                                                                                                                                                                                                                                                                                                                                                                                                                                                                                                                                                                                                                                                                                                                                                                                                                                                                                                                                                                                                                                                                                                                                                                                                                                                                                                                                                                                                                                                                                                                                                                                                                                                                                                                                                                                                                                                                                                                                                                                                                                                                                                         \n",
       "2   - International Business Machines Corp IBM.N beat estimates for second-quarter profit on Monday and signaled that demand in its cloud computing business would get a boost as large corporations accelerate their digital shift due to the coronavirus crisis.FILE PHOTO: A man stands near an IBM logo at the Mobile World Congress in Barcelona, Spain, February 25, 2019.    REUTERS/Sergio Perez/File PhotoThe company’s shares rose 5% in after-hours trading.IBM has jettisoned some of its legacy business to focus on the high-margin cloud computing business, an area that has seen a lot of action in recent years as companies ramp up their digital shift to boost efficiency.“The trend we see in the market is clear. Clients want to modernize apps, move more workloads to the cloud and automate IT tasks,” IBM’s new boss Arvind Krishna said on a post-earnings call with analysts.Revenue from the cloud business, previously headed by Krishna, rose 30% to $6.3 billion in the second quarter.Krishna took over as chief executive officer from Ginni Rometty in April, while appointing former Bank of America Corp's BAC.N top technology executive, Howard Boville, as the new head of the cloud business.IBM’s global business services unit was impacted as clients cut or delayed spending on discretionary projects due to COVID-19, CFO James Kavanaugh told Reuters. Sales in the unit fell 7% to $3.9 billion.While Western Europe and Asia Pacific showed a pickup in client spending during June, U.S. and Latin America customers pulled back as the pandemic impact got worse, Kavanaugh said.“From a client perspective, our business is more concentrated in large enterprises, which in total have been relatively more stable throughout the pandemic,” Kavanaugh said.IBM’s total revenue fell 5.4% to $18.12 billion, but came in above analysts’ estimates of $17.72 billion, according to IBES data from Refinitiv. Excluding the impact from currency and business divestitures, revenue declined 1.9%.Excluding items, the company earned $2.18 per share, above estimates of $2.07.Reporting by Munsif Vengattil in Bengaluru; Editing by Maju SamuelOur Standards: The Thomson Reuters Trust Principles.                                                                                                                                                                                                                                                                                                                                                                                                                                                                                                                                                                                                                                                                                                                                                                                                                                                                                                                                                                                                                                                                                                                                                                                                                                                                                                                                                                                                                                                                                                                                                                                                                                                                                                                                                                                                                                                                                                                                                                                                                                                                                                                                                                                                                                                                                                                                                                                                     \n",
       "3   - Microsoft Corp's MSFT.O flagship cloud computing business Azure reported quarterly sales growth of under 50% for the first time ever on Wednesday, sending the tech giant's shares down 2%.The Microsoft store is pictured in the Manhattan borough of New York City, New York, U.S., June 26, 2020. REUTERS/Carlo AllegriRevenue in Microsoft’s Intelligent Cloud segment rose 17% to $13.4 billion, with 47% growth in the Azure component, which includes essential computing and storage services. Analysts on average had expected cloud revenue of $13.09 billion in the fourth quarter ended June 30, according to IBES data from Refinitiv.Azure's growth is the most direct measure of performance against top cloud rival Amazon.com Inc's AMZN.O Amazon Web Services, as Microsoft does not break out Azure's revenue by dollar amount. AWS posted revenue growth of 33% to $10.2 billion, which analysts believe exceeds Azure's total, for the quarter ended March 31. International Business Machines Corp IBM.N, another Microsoft rival, this week beat Wall Street expectations with strong cloud growth.Beyond Azure, Microsoft’s results showed how the novel coronavirus is both helping and hurting Microsoft.Businesses are investing in cloud technology for remote work, and the video game Minecraft scored a record 132 million monthly active users as families worked and played from home. But Microsoft’s forecast for some versions of its Office software slightly missed expectations because of weak sales to struggling small and mid-sized businesses.“No one can take away from the fact that GDP is going to be negative,” Chief Executive Satya Nadella told investors on the company’s earnings call, referring to U.S. Gross Domestic Product.Microsoft Chief Financial Officer Amy Hood said 12% commercial bookings growth, which reflects corporate contracts for future software and services, was roughly unchanged from the previous quarter and beat company estimates. The figure signals that customers are keeping long-term technology spending plans intact.“Our strong position in the cloud has allowed us to have good results and support our customers as they work on the next couple of years of digital transformation,” Hood said in an interview.Microsoft's total revenue rose 13% to $38.03 billion in the quarter, beating estimates of $36.5 billion, according to IBES data from Refinitiv. (bit.ly/3jxrriP)The growth was powered by its More Personal Computing unit as more people worldwide used its products to work on Windows PCs and play games on Xboxes during lockdowns. Revenue from the unit, the largest by sales, rose 14% to $12.9 billion, beating analysts’ estimates of $11.46 billion.Microsoft said its professional networking site, LinkedIn, was hurt by the weak job market and advertising spending cuts.Net income fell to $11.20 billion, or $1.46 per share, from $13.19 billion, or $1.71 per share, a year earlier.Reporting by Stephen Nellis in San Francisco and Munsif Vengattil in Bengaluru; Editing by Maju Samuel and Richard ChangOur Standards: The Thomson Reuters Trust Principles.                                                                                                                                                                                                                                                                                                                                                                                                                                                                                                                                                                                                                                                                                                                                                                                                                                                                                                                                                                                                                                                                                                                                                                                                                                                                                                                                                                                                                                                          \n",
       "4   - The White House Office of Science and Technology Policy said on Wednesday it is launching a national education partnership to expand access to K-12 quantum information science (QIS) education with major companies and research institutions.The public-private initiative with the National Science Foundation includes Amazon.com’s Amazon Web Services, Boeing Co, Alphabet Inc’s Google, IBM Corp , Lockheed Martin, Microsoft Corp, the University of Illinois and University of Chicago. The National Science Foundation is also awarding $1 million to QIS education.The initiative is designed in part to help introduce students to quantum information themes before college. (Reporting by David Shepardson Editing by Chris Reese)Our Standards: The Thomson Reuters Trust Principles.                                                                                                                                                                                                                                                                                                                                                                                                                                                                                                                                                                                                                                                                                                                                                                                                                                                                                                                                                                                                                                                                                                                                                                                                                                                                                                                                                                                                                                                                                                                                                                                                                                                                                                                                                                                                                                                                                                                                                                                                                                                                                                                                                                                                                                                                                                                                                                                                                                                                                                                                                                                                                                                                                                                                                                                                                                                                                                                                                                                                                                                                                                                                                                                                                                                                                                                                                                                                                                                                                                                                                                                                                                                                                                                                                                                                                                                        \n",
       "\n",
       "         Open   Volume  % Change in Stock Price  % Change in Volume  \\\n",
       "0  115.500000  4285700 NaN                      NaN                   \n",
       "1  118.620003  4534400  2.701301                 5.803019             \n",
       "2  126.070000  9927700  6.280557                 118.941867           \n",
       "3  125.900002  8195400 -0.134844                -17.449157            \n",
       "4  123.820000  3466100 -1.652106                -57.706762            \n",
       "\n",
       "                                                                                                                                                                                                                                                                                                                                                                                                                                                                                                                                                                                                                                                                                                                                                                                                                                                                                                                                                                                                                                                                                                                                                                                                                                                                                                                                                                                                                                                                                                                                                                                                                                                                                                                                                                                                                                                                                                                                                                                                                                                                                                                                                                                                                                                                                                                                                                                                                                                                                                                                                                                                                                                                                                                                                                                                                                                                                                                                                                                                                                                                                                                                  Text (clean)  \\\n",
       "0  la Guzman5 Min ReadNEW YORK LPC bank lender high quality company take different refinancing avenue seek extend maturity billion dollar loan time Covid-19 pandemic liquidity priority FILE PHOTO Times Square see street follow outbreak coronavirus disease COVID-19 New York City U.S. March 18 2020 REUTERS Jeenah MoonCorporations historically keep credit agreement intact extend maturity make significant change loan document accept risk mitigate concession pricing term loan longevity exempt new requirement Gilead Sciences IBM Ford Motor Co tap market recently transaction push maturity ensure access capital follow company specific strategy reflect different lender perception credit change time “not company go pandemic way volatility differentiation go different treatment receptivity bank result senior banker say investment grade loan market grapple tight liquidity result revolver drawdown health crisis lender rarely go 364-day tenor new deal second quarter investment grade refinancing drop 10-year low us$ 139bn borrower largely pass refinance multiyear revolver year tenor drop 5 total revolver volume second quarter accord Refinitiv LPC datum treatment go dependent credit rating company performance sector banker agree late June A3 rate Gilead refinance us$ 2.5bn year credit agreement set mature 2021 term facility remain pricing 87.5bp Libor accord Refinitiv LPC datum proceed loan general purpose accord datum biopharmaceutical company develop clinical trial antiviral Covid-19 treatment call remdesivir government support drug potential profit likely help seal deal lender year refinancing pandemic start fact Gilead important capital market issuer constitute additional incentive bank group commit long maturity try time spokespeople Gilead Bank America administrative agent prior credit facility decline comment household IBM take different path extend credit facility sign new us$ 2.5bn 364-day loan extend maturity us$ 2.5bn year credit agreement us$ 10.25bn year credit agreement year completely refinance A2 rate technology giant withdraw 2020 annual forecast pandemic impact second quarter revenue B+/Ba2 rate Ford lose investment grade status March outbreak economic fallout opposite spectrum seek extend maturity us$ 5.35bn exist loan pull refinance plan us$ 15.4bn loan early year B+/Ba2 rate automaker currently market look extend modestly sized look push maturity us$ 3.35bn year revolve credit us$ 2bn year revolver year company leave us$ 10.05bn year revolver us$ 1.5bn term loan unchanged lender agree extension receive 40bp fee show large incentive company offer bank stick company see 33.3 drop sale second quarter “we’re hope well tomorrow say Robert Danziger manage director debt capital market MUFG company position address immediate short term liquidity need way break lot relationship glass wait thing improve bank market hopefully distant future push tenor refining pricing ”reporting Daniela Guzman Editing Michelle Sierra Kristen Haunss Standards Thomson Reuters Trust Principles   \n",
       "1  billionaire investor Bill Gross predict value stock like IBM IBM.N Altria Group mo.n likely fare well growth stock like Apple AAPL.O amazon.com AMZN.O near term correlation real interest rate U.S. real yield adjust inflation decline response Federal Reserve aggressive monetary action past month limit economic fallout coronavirus pandemic yield 10-year Treasury Inflation protect security TIPS US10YTIP = RR trade negative yield late March minus 0.803 near time low Gross co found Pacific Investment Management Company spend year Janus Henderson leave 2019 manage money say reason fab 5 stock growth stock general fabulously center fall real interest rate reach historic low Gross refer clutch high perform stock Amazon Facebook FB.O Apple Netflix NFLX.O Google parent Alphabet GOOGL.O accord spokesperson yield TIPS highly correlate growth stock far effect price traditional value stock write future price disparity Microsoft MSFT.O Apple Amazon subject ongoing decline real rate mind see good day Gross say value stock versus growth stock investor preference near term future write Gross say IBM Altria like stock midstream company Enterprise Products Partners EPD.N pharmaceutical giant AbbVie abbv.n.“happiness healthy body sink 10-foot putt invest value versus Fab 5 write Gross say covid-19 free report Kate Duguid additional reporting Gertrude Chavez Dreyfuss editing Megan Davies Christopher CushingOur Standards Thomson Reuters Trust Principles                                                                                                                                                                                                                                                                                                                                                                                                                                                                                                                                                                                                                                                                                                                                                                                                                                                                                                                                                                                                                                                                                                                                                                                                                                                                                                                                                                                                                                                                                                                                                                                                                                \n",
       "2  International Business Machines Corp IBM.N beat estimate second quarter profit Monday signal demand cloud computing business boost large corporation accelerate digital shift coronavirus crisis FILE PHOTO man stand near IBM logo Mobile World Congress Barcelona Spain February 25 2019 REUTERS Sergio Perez File PhotoThe company share rise 5 hour trading IBM jettison legacy business focus high margin cloud computing business area see lot action recent year company ramp digital shift boost efficiency “the trend market clear client want modernize app workload cloud automate task IBM new boss Arvind Krishna say post earning analyst revenue cloud business previously head Krishna rise 30 $ 6.3 billion second quarter Krishna take chief executive officer Ginni Rometty April appoint Bank America Corp BAC.N technology executive Howard Boville new head cloud business IBM global business service unit impact client cut delay spending discretionary project covid-19 CFO James Kavanaugh tell Reuters sale unit fall 7 $ 3.9 billion Western Europe Asia Pacific show pickup client spending June U.S. Latin America customer pull pandemic impact get bad Kavanaugh say “from client perspective business concentrated large enterprise total relatively stable pandemic Kavanaugh say IBM total revenue fall 5.4 $ 18.12 billion come analyst estimate $ 17.72 billion accord IBES datum Refinitiv exclude impact currency business divestiture revenue decline 1.9%.excluding item company earn $ 2.18 share estimate $ 2.07.reporting Munsif Vengattil Bengaluru edit Maju SamuelOur Standards Thomson Reuters Trust Principles                                                                                                                                                                                                                                                                                                                                                                                                                                                                                                                                                                                                                                                                                                                                                                                                                                                                                                                                                                                                                                                                                                                                                                                                                                                                                                                                                                                                                                                                              \n",
       "3  Microsoft Corp MSFT.O flagship cloud computing business Azure report quarterly sale growth 50 time Wednesday send tech giant share 2%.the Microsoft store picture Manhattan borough New York City New York U.S. June 26 2020 REUTERS Carlo AllegriRevenue Microsoft Intelligent Cloud segment rise 17 $ 13.4 billion 47 growth Azure component include essential computing storage service analyst average expect cloud revenue $ 13.09 billion fourth quarter end June 30 accord IBES datum Refinitiv azure growth direct measure performance cloud rival Amazon.com Inc AMZN.O Amazon Web Services Microsoft break Azure revenue dollar AWS post revenue growth 33 $ 10.2 billion analyst believe exceed Azure total quarter end March 31 International Business Machines Corp IBM.N Microsoft rival week beat Wall Street expectation strong cloud growth Azure Microsoft result show novel coronavirus help hurt Microsoft business invest cloud technology remote work video game Minecraft score record 132 million monthly active user family work play home Microsoft forecast version Office software slightly miss expectation weak sale struggle small mid sized business “no away fact GDP go negative Chief Executive Satya Nadella tell investor company earning refer U.S. Gross Domestic Product Microsoft Chief Financial Officer Amy Hood say 12 commercial booking growth reflect corporate contract future software service roughly unchanged previous quarter beat company estimate figure signal customer keep long term technology spending plan intact “our strong position cloud allow good result support customer work couple year digital transformation Hood say interview Microsoft total revenue rise 13 $ 38.03 billion quarter beat estimate $ 36.5 billion accord IBES datum Refinitiv bit.ly/3jxrrip)the growth power Personal Computing unit people worldwide product work Windows pc play game Xboxes lockdown revenue unit large sale rise 14 $ 12.9 billion beat analyst estimate $ 11.46 billion Microsoft say professional networking site LinkedIn hurt weak job market advertising spending cut net income fall $ 11.20 billion $ 1.46 share $ 13.19 billion $ 1.71 share year early report Stephen Nellis San Francisco Munsif Vengattil Bengaluru edit Maju Samuel Richard ChangOur Standards Thomson Reuters Trust Principles                                                                                                                                                                                                                                                                                                                                                                                                                                                                                                                                                                                                                                                                                                                                                                   \n",
       "4  White House Office Science Technology Policy say Wednesday launch national education partnership expand access K-12 quantum information science QIS education major company research institution public private initiative National Science Foundation include amazon.com Amazon Web Services Boeing Co Alphabet Inc Google IBM Corp Lockheed Martin Microsoft Corp University Illinois University Chicago National Science Foundation award $ 1 million QIS education initiative design help introduce student quantum information theme college report David Shepardson Editing Chris Reese)Our Standards Thomson Reuters Trust Principles                                                                                                                                                                                                                                                                                                                                                                                                                                                                                                                                                                                                                                                                                                                                                                                                                                                                                                                                                                                                                                                                                                                                                                                                                                                                                                                                                                                                                                                                                                                                                                                                                                                                                                                                                                                                                                                                                                                                                                                                                                                                                                                                                                                                                                                                                                                                                                                                                                                                                                  \n",
       "\n",
       "   Vader Sentiment Score  sentiment  sentiment_prob  \n",
       "0  0.9963                 1.0        0.987249        \n",
       "1  0.9831                 0.0        0.415353        \n",
       "2  0.8020                 0.0        0.110248        \n",
       "3  0.9849                 0.0        0.011837        \n",
       "4  0.9100                 1.0        0.707602        "
      ]
     },
     "execution_count": 41,
     "metadata": {},
     "output_type": "execute_result"
    }
   ],
   "source": [
    "df['sentiment'] = sentiment\n",
    "df['sentiment_prob'] = sentiment_prob\n",
    "df.head()"
   ]
  },
  {
   "cell_type": "code",
   "execution_count": 43,
   "metadata": {
    "id": "Mw9r9U5AKAUG"
   },
   "outputs": [
    {
     "name": "stdout",
     "output_type": "stream",
     "text": [
      "[0, 4, 6, 2, 13, 13, 3, 6, 7, 6, 3, 5, 22, 11, 2, 1]\n"
     ]
    }
   ],
   "source": [
    "# Converting % stock price change to % stock price change per day\n",
    "days = [0]\n",
    "for i in range(len(df['Date'])):\n",
    "    if i != 0:\n",
    "        date_diff = df['Date'][i]-df['Date'][i-1]\n",
    "        day = date_diff.days\n",
    "        days.append(day)\n",
    "print(days)\n",
    "df['Days Elapsed'] = days\n",
    "df.head()\n",
    "df['% Change in Stock Price Per Day'] = df['% Change in Stock Price']/df['Days Elapsed']\n"
   ]
  },
  {
   "cell_type": "code",
   "execution_count": 46,
   "metadata": {
    "id": "FmTAjo2ZKAUG"
   },
   "outputs": [
    {
     "data": {
      "text/html": [
       "<div>\n",
       "<style scoped>\n",
       "    .dataframe tbody tr th:only-of-type {\n",
       "        vertical-align: middle;\n",
       "    }\n",
       "\n",
       "    .dataframe tbody tr th {\n",
       "        vertical-align: top;\n",
       "    }\n",
       "\n",
       "    .dataframe thead th {\n",
       "        text-align: right;\n",
       "    }\n",
       "</style>\n",
       "<table border=\"1\" class=\"dataframe\">\n",
       "  <thead>\n",
       "    <tr style=\"text-align: right;\">\n",
       "      <th></th>\n",
       "      <th>Date</th>\n",
       "      <th>Header</th>\n",
       "      <th>Text</th>\n",
       "      <th>Open</th>\n",
       "      <th>Volume</th>\n",
       "      <th>% Change in Stock Price</th>\n",
       "      <th>% Change in Volume</th>\n",
       "      <th>Text (clean)</th>\n",
       "      <th>Vader Sentiment Score</th>\n",
       "      <th>sentiment</th>\n",
       "      <th>sentiment_prob</th>\n",
       "      <th>Days Elapsed</th>\n",
       "      <th>% Change in Stock Price Per Day</th>\n",
       "      <th>Vader Sentiment</th>\n",
       "      <th>Logistic Regression Sentiment</th>\n",
       "      <th>Stock Price Change</th>\n",
       "    </tr>\n",
       "  </thead>\n",
       "  <tbody>\n",
       "    <tr>\n",
       "      <th>0</th>\n",
       "      <td>2020-07-10</td>\n",
       "      <td>U.S. companies seeking capital during pandemic test bank market's new normal</td>\n",
       "      <td>la  Guzman5 Min ReadNEW YORK (LPC) - Bank lenders for high-quality US companies are taking different refinancing avenues as they seek to extend maturities on billions of US dollars in loans at a time when the Covid-19 pandemic has made liquidity a top priority.FILE PHOTO: An empty Times Square is seen on the street following the outbreak of coronavirus disease (COVID-19), in New York City, U.S., March 18, 2020. REUTERS/Jeenah MoonCorporations that historically kept their credit agreements intact while extending maturities are now making significant changes to the loan documents accepting risk-mitigating concessions on pricing, terms and the loans’ longevity, while others seem exempt from the new requirements.Gilead Sciences, IBM and Ford Motor Co have tapped the market recently, with transactions that have pushed maturities out and ensured their access to capital following company-specific strategies that reflect different lenders’ perceptions of the credits and the changing times.“Not every company is going through the pandemic the same way because with more volatility there’s more differentiation, so you’re going to have different treatment and receptivity from the banks as a result,” a senior banker said.As the investment grade loan market grapples with tighter liquidity as a result of revolver drawdowns during the health crisis, lenders are rarely going beyond 364-day tenors for new deals. In the second quarter, investment grade refinancing dropped to a 10-year low of US$139bn, as borrowers largely passed on refinancing their multiyear revolvers. Five-year tenors dropped to 5% of total revolver volume in the second quarter, according to Refinitiv LPC data.The treatment is going to be dependent on the credit rating, the company’s performance and the sector, bankers agreed.In late June, A3/A rated Gilead refinanced a US$2.5bn, five-year credit agreement that was set to mature in May 2021. The terms on the facility remained the same with pricing at 87.5bp over Libor, according to Refinitiv LPC data. The proceeds of the loan are for general purposes, according to the data.The biopharmaceutical company is developing clinical trials of an antiviral Covid-19 treatment called remdesivir. Government support for the drug and the potential for profit likely helped seal the deal with lenders for the first five-year refinancing since the pandemic started.The fact that Gilead is an important capital markets issuer may have constituted an additional incentive for its bank group to commit to the long maturity during trying times.Spokespeople at Gilead and Bank of America, the administrative agent on the prior credit facility, declined to comment.Meanwhile, household name IBM took a different path and extended its credit facilities by signing a new US$2.5bn 364-day loan and extending the maturities on its US$2.5bn three-year credit agreement and US$10.25bn five-year credit agreements by two years, rather than completely refinancing. The A2/A rated technology giant withdrew its 2020 annual forecast as the pandemic impacted second quarter revenues.B+/Ba2 rated Ford, which lost its investment grade status in March due to the outbreak’s economic fallout, is on the opposite side of the spectrum as it seeks to extend maturities on US$5.35bn in existing loans.After pulling its refinancing plans for US$15.4bn in loans earlier this year, the B+/Ba2 rated automaker is currently in market looking to extend a more modestly-sized amount.As it looks to push out maturities on a US$3.35bn three-year revolving credit and a US$2bn three-year revolver for another year, the company will leave a US$10.05bn five-year revolver and US$1.5bn term loan unchanged.The lenders who agree to the extensions will receive a 40bp fee, which shows the large incentive the company had to offer to have banks stick with the company, which saw a 33.3% drop in US sales in the second quarter.“We’re all hoping for a better tomorrow,” said Robert Danziger, managing director of debt capital markets at MUFG. “Companies are positioning themselves to address immediate, short term liquidity needs now. In this way, rather than breaking a lot of relationship glass, they can wait for things to improve further in the bank market (hopefully in the not too distant future) and they can go back to pushing out tenors and refining pricing.”Reporting by Daniela Guzman; Editing by Michelle Sierra and Kristen Haunss.Our Standards: The Thomson Reuters Trust Principles.</td>\n",
       "      <td>115.500000</td>\n",
       "      <td>4285700</td>\n",
       "      <td>NaN</td>\n",
       "      <td>NaN</td>\n",
       "      <td>la Guzman5 Min ReadNEW YORK LPC bank lender high quality company take different refinancing avenue seek extend maturity billion dollar loan time Covid-19 pandemic liquidity priority FILE PHOTO Times Square see street follow outbreak coronavirus disease COVID-19 New York City U.S. March 18 2020 REUTERS Jeenah MoonCorporations historically keep credit agreement intact extend maturity make significant change loan document accept risk mitigate concession pricing term loan longevity exempt new requirement Gilead Sciences IBM Ford Motor Co tap market recently transaction push maturity ensure access capital follow company specific strategy reflect different lender perception credit change time “not company go pandemic way volatility differentiation go different treatment receptivity bank result senior banker say investment grade loan market grapple tight liquidity result revolver drawdown health crisis lender rarely go 364-day tenor new deal second quarter investment grade refinancing drop 10-year low us$ 139bn borrower largely pass refinance multiyear revolver year tenor drop 5 total revolver volume second quarter accord Refinitiv LPC datum treatment go dependent credit rating company performance sector banker agree late June A3 rate Gilead refinance us$ 2.5bn year credit agreement set mature 2021 term facility remain pricing 87.5bp Libor accord Refinitiv LPC datum proceed loan general purpose accord datum biopharmaceutical company develop clinical trial antiviral Covid-19 treatment call remdesivir government support drug potential profit likely help seal deal lender year refinancing pandemic start fact Gilead important capital market issuer constitute additional incentive bank group commit long maturity try time spokespeople Gilead Bank America administrative agent prior credit facility decline comment household IBM take different path extend credit facility sign new us$ 2.5bn 364-day loan extend maturity us$ 2.5bn year credit agreement us$ 10.25bn year credit agreement year completely refinance A2 rate technology giant withdraw 2020 annual forecast pandemic impact second quarter revenue B+/Ba2 rate Ford lose investment grade status March outbreak economic fallout opposite spectrum seek extend maturity us$ 5.35bn exist loan pull refinance plan us$ 15.4bn loan early year B+/Ba2 rate automaker currently market look extend modestly sized look push maturity us$ 3.35bn year revolve credit us$ 2bn year revolver year company leave us$ 10.05bn year revolver us$ 1.5bn term loan unchanged lender agree extension receive 40bp fee show large incentive company offer bank stick company see 33.3 drop sale second quarter “we’re hope well tomorrow say Robert Danziger manage director debt capital market MUFG company position address immediate short term liquidity need way break lot relationship glass wait thing improve bank market hopefully distant future push tenor refining pricing ”reporting Daniela Guzman Editing Michelle Sierra Kristen Haunss Standards Thomson Reuters Trust Principles</td>\n",
       "      <td>0.9963</td>\n",
       "      <td>1.0</td>\n",
       "      <td>0.987249</td>\n",
       "      <td>0</td>\n",
       "      <td>NaN</td>\n",
       "      <td>positive</td>\n",
       "      <td>positive</td>\n",
       "      <td>negative</td>\n",
       "    </tr>\n",
       "    <tr>\n",
       "      <th>1</th>\n",
       "      <td>2020-07-14</td>\n",
       "      <td>Bill Gross predicts value outperforms growth, based on rates correlation</td>\n",
       "      <td>- Billionaire investor Bill Gross is predicting that value stocks like IBM IBM.N and Altria Group MO.N are likely to fare better than growth stocks like Apple AAPL.O or Amazon.com AMZN.O in the near term, due to a correlation with real interest rates.U.S. real yields - which adjust for inflation - have been declining in response to the Federal Reserve's aggressive monetary actions over the past few months to limit the economic fallout of the coronavirus pandemic. The yield on the 10-year Treasury Inflation-Protected Security (TIPS) US10YTIP=RR has been trading with a negative yield since late March and is now minus 0.803%, near an all-time-low. Gross, who co-founded Pacific Investment Management Company, then spent four years at Janus Henderson before leaving in 2019 to manage his own money, said that the reason that the \"Fab 5 stocks\" and growth stocks in general had done \"so fabulously well\" centers on falling real interest rates that \"are still reaching historic lows.\" Gross is referring to a clutch of high-performing stocks: Amazon, Facebook FB.O, Apple, Netflix NFLX.O and Google's parent Alphabet GOOGL.O, according to his spokesperson. The yields of TIPS are highly correlated with growth stocks, but have far less of an effect on the prices of traditional value stocks, he wrote.The future price disparity of Microsoft MSFT.O, Apple and Amazon \"is subject to an ongoing decline in real rates, which to my mind, have seen their best days,\" Gross said. \"Value stocks, versus growth stocks, should be an investor's preference in the near-term future,\" he writes.Gross said that as well as IBM and Altria, he likes stocks such as midstream company Enterprise Products Partners EPD.N and pharmaceutical giant AbbVie ABBV.N.“Happiness is a healthy body, sinking a few 10-foot putts, and investing in value, versus the ‘Fab 5’,” wrote Gross, who also said he was COVID-19 free.Reporting by Kate Duguid; Additional reporting by Gertrude Chavez-Dreyfuss; Editing by Megan Davies and Christopher CushingOur Standards: The Thomson Reuters Trust Principles.</td>\n",
       "      <td>118.620003</td>\n",
       "      <td>4534400</td>\n",
       "      <td>2.701301</td>\n",
       "      <td>5.803019</td>\n",
       "      <td>billionaire investor Bill Gross predict value stock like IBM IBM.N Altria Group mo.n likely fare well growth stock like Apple AAPL.O amazon.com AMZN.O near term correlation real interest rate U.S. real yield adjust inflation decline response Federal Reserve aggressive monetary action past month limit economic fallout coronavirus pandemic yield 10-year Treasury Inflation protect security TIPS US10YTIP = RR trade negative yield late March minus 0.803 near time low Gross co found Pacific Investment Management Company spend year Janus Henderson leave 2019 manage money say reason fab 5 stock growth stock general fabulously center fall real interest rate reach historic low Gross refer clutch high perform stock Amazon Facebook FB.O Apple Netflix NFLX.O Google parent Alphabet GOOGL.O accord spokesperson yield TIPS highly correlate growth stock far effect price traditional value stock write future price disparity Microsoft MSFT.O Apple Amazon subject ongoing decline real rate mind see good day Gross say value stock versus growth stock investor preference near term future write Gross say IBM Altria like stock midstream company Enterprise Products Partners EPD.N pharmaceutical giant AbbVie abbv.n.“happiness healthy body sink 10-foot putt invest value versus Fab 5 write Gross say covid-19 free report Kate Duguid additional reporting Gertrude Chavez Dreyfuss editing Megan Davies Christopher CushingOur Standards Thomson Reuters Trust Principles</td>\n",
       "      <td>0.9831</td>\n",
       "      <td>0.0</td>\n",
       "      <td>0.415353</td>\n",
       "      <td>4</td>\n",
       "      <td>0.675325</td>\n",
       "      <td>positive</td>\n",
       "      <td>negative</td>\n",
       "      <td>positive</td>\n",
       "    </tr>\n",
       "    <tr>\n",
       "      <th>2</th>\n",
       "      <td>2020-07-20</td>\n",
       "      <td>IBM beats estimates; sees gains as customers accelerate shift to cloud</td>\n",
       "      <td>- International Business Machines Corp IBM.N beat estimates for second-quarter profit on Monday and signaled that demand in its cloud computing business would get a boost as large corporations accelerate their digital shift due to the coronavirus crisis.FILE PHOTO: A man stands near an IBM logo at the Mobile World Congress in Barcelona, Spain, February 25, 2019.    REUTERS/Sergio Perez/File PhotoThe company’s shares rose 5% in after-hours trading.IBM has jettisoned some of its legacy business to focus on the high-margin cloud computing business, an area that has seen a lot of action in recent years as companies ramp up their digital shift to boost efficiency.“The trend we see in the market is clear. Clients want to modernize apps, move more workloads to the cloud and automate IT tasks,” IBM’s new boss Arvind Krishna said on a post-earnings call with analysts.Revenue from the cloud business, previously headed by Krishna, rose 30% to $6.3 billion in the second quarter.Krishna took over as chief executive officer from Ginni Rometty in April, while appointing former Bank of America Corp's BAC.N top technology executive, Howard Boville, as the new head of the cloud business.IBM’s global business services unit was impacted as clients cut or delayed spending on discretionary projects due to COVID-19, CFO James Kavanaugh told Reuters. Sales in the unit fell 7% to $3.9 billion.While Western Europe and Asia Pacific showed a pickup in client spending during June, U.S. and Latin America customers pulled back as the pandemic impact got worse, Kavanaugh said.“From a client perspective, our business is more concentrated in large enterprises, which in total have been relatively more stable throughout the pandemic,” Kavanaugh said.IBM’s total revenue fell 5.4% to $18.12 billion, but came in above analysts’ estimates of $17.72 billion, according to IBES data from Refinitiv. Excluding the impact from currency and business divestitures, revenue declined 1.9%.Excluding items, the company earned $2.18 per share, above estimates of $2.07.Reporting by Munsif Vengattil in Bengaluru; Editing by Maju SamuelOur Standards: The Thomson Reuters Trust Principles.</td>\n",
       "      <td>126.070000</td>\n",
       "      <td>9927700</td>\n",
       "      <td>6.280557</td>\n",
       "      <td>118.941867</td>\n",
       "      <td>International Business Machines Corp IBM.N beat estimate second quarter profit Monday signal demand cloud computing business boost large corporation accelerate digital shift coronavirus crisis FILE PHOTO man stand near IBM logo Mobile World Congress Barcelona Spain February 25 2019 REUTERS Sergio Perez File PhotoThe company share rise 5 hour trading IBM jettison legacy business focus high margin cloud computing business area see lot action recent year company ramp digital shift boost efficiency “the trend market clear client want modernize app workload cloud automate task IBM new boss Arvind Krishna say post earning analyst revenue cloud business previously head Krishna rise 30 $ 6.3 billion second quarter Krishna take chief executive officer Ginni Rometty April appoint Bank America Corp BAC.N technology executive Howard Boville new head cloud business IBM global business service unit impact client cut delay spending discretionary project covid-19 CFO James Kavanaugh tell Reuters sale unit fall 7 $ 3.9 billion Western Europe Asia Pacific show pickup client spending June U.S. Latin America customer pull pandemic impact get bad Kavanaugh say “from client perspective business concentrated large enterprise total relatively stable pandemic Kavanaugh say IBM total revenue fall 5.4 $ 18.12 billion come analyst estimate $ 17.72 billion accord IBES datum Refinitiv exclude impact currency business divestiture revenue decline 1.9%.excluding item company earn $ 2.18 share estimate $ 2.07.reporting Munsif Vengattil Bengaluru edit Maju SamuelOur Standards Thomson Reuters Trust Principles</td>\n",
       "      <td>0.8020</td>\n",
       "      <td>0.0</td>\n",
       "      <td>0.110248</td>\n",
       "      <td>6</td>\n",
       "      <td>1.046760</td>\n",
       "      <td>positive</td>\n",
       "      <td>negative</td>\n",
       "      <td>positive</td>\n",
       "    </tr>\n",
       "    <tr>\n",
       "      <th>3</th>\n",
       "      <td>2020-07-22</td>\n",
       "      <td>Microsoft cloud flagship posts first growth under 50%; bookings growth steady</td>\n",
       "      <td>- Microsoft Corp's MSFT.O flagship cloud computing business Azure reported quarterly sales growth of under 50% for the first time ever on Wednesday, sending the tech giant's shares down 2%.The Microsoft store is pictured in the Manhattan borough of New York City, New York, U.S., June 26, 2020. REUTERS/Carlo AllegriRevenue in Microsoft’s Intelligent Cloud segment rose 17% to $13.4 billion, with 47% growth in the Azure component, which includes essential computing and storage services. Analysts on average had expected cloud revenue of $13.09 billion in the fourth quarter ended June 30, according to IBES data from Refinitiv.Azure's growth is the most direct measure of performance against top cloud rival Amazon.com Inc's AMZN.O Amazon Web Services, as Microsoft does not break out Azure's revenue by dollar amount. AWS posted revenue growth of 33% to $10.2 billion, which analysts believe exceeds Azure's total, for the quarter ended March 31. International Business Machines Corp IBM.N, another Microsoft rival, this week beat Wall Street expectations with strong cloud growth.Beyond Azure, Microsoft’s results showed how the novel coronavirus is both helping and hurting Microsoft.Businesses are investing in cloud technology for remote work, and the video game Minecraft scored a record 132 million monthly active users as families worked and played from home. But Microsoft’s forecast for some versions of its Office software slightly missed expectations because of weak sales to struggling small and mid-sized businesses.“No one can take away from the fact that GDP is going to be negative,” Chief Executive Satya Nadella told investors on the company’s earnings call, referring to U.S. Gross Domestic Product.Microsoft Chief Financial Officer Amy Hood said 12% commercial bookings growth, which reflects corporate contracts for future software and services, was roughly unchanged from the previous quarter and beat company estimates. The figure signals that customers are keeping long-term technology spending plans intact.“Our strong position in the cloud has allowed us to have good results and support our customers as they work on the next couple of years of digital transformation,” Hood said in an interview.Microsoft's total revenue rose 13% to $38.03 billion in the quarter, beating estimates of $36.5 billion, according to IBES data from Refinitiv. (bit.ly/3jxrriP)The growth was powered by its More Personal Computing unit as more people worldwide used its products to work on Windows PCs and play games on Xboxes during lockdowns. Revenue from the unit, the largest by sales, rose 14% to $12.9 billion, beating analysts’ estimates of $11.46 billion.Microsoft said its professional networking site, LinkedIn, was hurt by the weak job market and advertising spending cuts.Net income fell to $11.20 billion, or $1.46 per share, from $13.19 billion, or $1.71 per share, a year earlier.Reporting by Stephen Nellis in San Francisco and Munsif Vengattil in Bengaluru; Editing by Maju Samuel and Richard ChangOur Standards: The Thomson Reuters Trust Principles.</td>\n",
       "      <td>125.900002</td>\n",
       "      <td>8195400</td>\n",
       "      <td>-0.134844</td>\n",
       "      <td>-17.449157</td>\n",
       "      <td>Microsoft Corp MSFT.O flagship cloud computing business Azure report quarterly sale growth 50 time Wednesday send tech giant share 2%.the Microsoft store picture Manhattan borough New York City New York U.S. June 26 2020 REUTERS Carlo AllegriRevenue Microsoft Intelligent Cloud segment rise 17 $ 13.4 billion 47 growth Azure component include essential computing storage service analyst average expect cloud revenue $ 13.09 billion fourth quarter end June 30 accord IBES datum Refinitiv azure growth direct measure performance cloud rival Amazon.com Inc AMZN.O Amazon Web Services Microsoft break Azure revenue dollar AWS post revenue growth 33 $ 10.2 billion analyst believe exceed Azure total quarter end March 31 International Business Machines Corp IBM.N Microsoft rival week beat Wall Street expectation strong cloud growth Azure Microsoft result show novel coronavirus help hurt Microsoft business invest cloud technology remote work video game Minecraft score record 132 million monthly active user family work play home Microsoft forecast version Office software slightly miss expectation weak sale struggle small mid sized business “no away fact GDP go negative Chief Executive Satya Nadella tell investor company earning refer U.S. Gross Domestic Product Microsoft Chief Financial Officer Amy Hood say 12 commercial booking growth reflect corporate contract future software service roughly unchanged previous quarter beat company estimate figure signal customer keep long term technology spending plan intact “our strong position cloud allow good result support customer work couple year digital transformation Hood say interview Microsoft total revenue rise 13 $ 38.03 billion quarter beat estimate $ 36.5 billion accord IBES datum Refinitiv bit.ly/3jxrrip)the growth power Personal Computing unit people worldwide product work Windows pc play game Xboxes lockdown revenue unit large sale rise 14 $ 12.9 billion beat analyst estimate $ 11.46 billion Microsoft say professional networking site LinkedIn hurt weak job market advertising spending cut net income fall $ 11.20 billion $ 1.46 share $ 13.19 billion $ 1.71 share year early report Stephen Nellis San Francisco Munsif Vengattil Bengaluru edit Maju Samuel Richard ChangOur Standards Thomson Reuters Trust Principles</td>\n",
       "      <td>0.9849</td>\n",
       "      <td>0.0</td>\n",
       "      <td>0.011837</td>\n",
       "      <td>2</td>\n",
       "      <td>-0.067422</td>\n",
       "      <td>positive</td>\n",
       "      <td>negative</td>\n",
       "      <td>negative</td>\n",
       "    </tr>\n",
       "    <tr>\n",
       "      <th>4</th>\n",
       "      <td>2020-08-04</td>\n",
       "      <td>White House unveils new partnership to boost quantum science education</td>\n",
       "      <td>- The White House Office of Science and Technology Policy said on Wednesday it is launching a national education partnership to expand access to K-12 quantum information science (QIS) education with major companies and research institutions.The public-private initiative with the National Science Foundation includes Amazon.com’s Amazon Web Services, Boeing Co, Alphabet Inc’s Google, IBM Corp , Lockheed Martin, Microsoft Corp, the University of Illinois and University of Chicago. The National Science Foundation is also awarding $1 million to QIS education.The initiative is designed in part to help introduce students to quantum information themes before college. (Reporting by David Shepardson Editing by Chris Reese)Our Standards: The Thomson Reuters Trust Principles.</td>\n",
       "      <td>123.820000</td>\n",
       "      <td>3466100</td>\n",
       "      <td>-1.652106</td>\n",
       "      <td>-57.706762</td>\n",
       "      <td>White House Office Science Technology Policy say Wednesday launch national education partnership expand access K-12 quantum information science QIS education major company research institution public private initiative National Science Foundation include amazon.com Amazon Web Services Boeing Co Alphabet Inc Google IBM Corp Lockheed Martin Microsoft Corp University Illinois University Chicago National Science Foundation award $ 1 million QIS education initiative design help introduce student quantum information theme college report David Shepardson Editing Chris Reese)Our Standards Thomson Reuters Trust Principles</td>\n",
       "      <td>0.9100</td>\n",
       "      <td>1.0</td>\n",
       "      <td>0.707602</td>\n",
       "      <td>13</td>\n",
       "      <td>-0.127085</td>\n",
       "      <td>positive</td>\n",
       "      <td>positive</td>\n",
       "      <td>negative</td>\n",
       "    </tr>\n",
       "  </tbody>\n",
       "</table>\n",
       "</div>"
      ],
      "text/plain": [
       "        Date  \\\n",
       "0 2020-07-10   \n",
       "1 2020-07-14   \n",
       "2 2020-07-20   \n",
       "3 2020-07-22   \n",
       "4 2020-08-04   \n",
       "\n",
       "                                                                          Header  \\\n",
       "0  U.S. companies seeking capital during pandemic test bank market's new normal    \n",
       "1  Bill Gross predicts value outperforms growth, based on rates correlation        \n",
       "2  IBM beats estimates; sees gains as customers accelerate shift to cloud          \n",
       "3  Microsoft cloud flagship posts first growth under 50%; bookings growth steady   \n",
       "4  White House unveils new partnership to boost quantum science education          \n",
       "\n",
       "                                                                                                                                                                                                                                                                                                                                                                                                                                                                                                                                                                                                                                                                                                                                                                                                                                                                                                                                                                                                                                                                                                                                                                                                                                                                                                                                                                                                                                                                                                                                                                                                                                                                                                                                                                                                                                                                                                                                                                                                                                                                                                                                                                                                                                                                                                                                                                                                                                                                                                                                                                                                                                                                                                                                                                                                                                                                                                                                                                                                                                                                                                                                                                                                                                                                                                                                                                                                                                                                                                                                                                                                                                                                                                                                                                                                                                                                                                                                                                                                                                                                                                                                                                                                                                                                                                                                                                                                                                                                                                                                                                                                                                                           Text  \\\n",
       "0  la  Guzman5 Min ReadNEW YORK (LPC) - Bank lenders for high-quality US companies are taking different refinancing avenues as they seek to extend maturities on billions of US dollars in loans at a time when the Covid-19 pandemic has made liquidity a top priority.FILE PHOTO: An empty Times Square is seen on the street following the outbreak of coronavirus disease (COVID-19), in New York City, U.S., March 18, 2020. REUTERS/Jeenah MoonCorporations that historically kept their credit agreements intact while extending maturities are now making significant changes to the loan documents accepting risk-mitigating concessions on pricing, terms and the loans’ longevity, while others seem exempt from the new requirements.Gilead Sciences, IBM and Ford Motor Co have tapped the market recently, with transactions that have pushed maturities out and ensured their access to capital following company-specific strategies that reflect different lenders’ perceptions of the credits and the changing times.“Not every company is going through the pandemic the same way because with more volatility there’s more differentiation, so you’re going to have different treatment and receptivity from the banks as a result,” a senior banker said.As the investment grade loan market grapples with tighter liquidity as a result of revolver drawdowns during the health crisis, lenders are rarely going beyond 364-day tenors for new deals. In the second quarter, investment grade refinancing dropped to a 10-year low of US$139bn, as borrowers largely passed on refinancing their multiyear revolvers. Five-year tenors dropped to 5% of total revolver volume in the second quarter, according to Refinitiv LPC data.The treatment is going to be dependent on the credit rating, the company’s performance and the sector, bankers agreed.In late June, A3/A rated Gilead refinanced a US$2.5bn, five-year credit agreement that was set to mature in May 2021. The terms on the facility remained the same with pricing at 87.5bp over Libor, according to Refinitiv LPC data. The proceeds of the loan are for general purposes, according to the data.The biopharmaceutical company is developing clinical trials of an antiviral Covid-19 treatment called remdesivir. Government support for the drug and the potential for profit likely helped seal the deal with lenders for the first five-year refinancing since the pandemic started.The fact that Gilead is an important capital markets issuer may have constituted an additional incentive for its bank group to commit to the long maturity during trying times.Spokespeople at Gilead and Bank of America, the administrative agent on the prior credit facility, declined to comment.Meanwhile, household name IBM took a different path and extended its credit facilities by signing a new US$2.5bn 364-day loan and extending the maturities on its US$2.5bn three-year credit agreement and US$10.25bn five-year credit agreements by two years, rather than completely refinancing. The A2/A rated technology giant withdrew its 2020 annual forecast as the pandemic impacted second quarter revenues.B+/Ba2 rated Ford, which lost its investment grade status in March due to the outbreak’s economic fallout, is on the opposite side of the spectrum as it seeks to extend maturities on US$5.35bn in existing loans.After pulling its refinancing plans for US$15.4bn in loans earlier this year, the B+/Ba2 rated automaker is currently in market looking to extend a more modestly-sized amount.As it looks to push out maturities on a US$3.35bn three-year revolving credit and a US$2bn three-year revolver for another year, the company will leave a US$10.05bn five-year revolver and US$1.5bn term loan unchanged.The lenders who agree to the extensions will receive a 40bp fee, which shows the large incentive the company had to offer to have banks stick with the company, which saw a 33.3% drop in US sales in the second quarter.“We’re all hoping for a better tomorrow,” said Robert Danziger, managing director of debt capital markets at MUFG. “Companies are positioning themselves to address immediate, short term liquidity needs now. In this way, rather than breaking a lot of relationship glass, they can wait for things to improve further in the bank market (hopefully in the not too distant future) and they can go back to pushing out tenors and refining pricing.”Reporting by Daniela Guzman; Editing by Michelle Sierra and Kristen Haunss.Our Standards: The Thomson Reuters Trust Principles.   \n",
       "1   - Billionaire investor Bill Gross is predicting that value stocks like IBM IBM.N and Altria Group MO.N are likely to fare better than growth stocks like Apple AAPL.O or Amazon.com AMZN.O in the near term, due to a correlation with real interest rates.U.S. real yields - which adjust for inflation - have been declining in response to the Federal Reserve's aggressive monetary actions over the past few months to limit the economic fallout of the coronavirus pandemic. The yield on the 10-year Treasury Inflation-Protected Security (TIPS) US10YTIP=RR has been trading with a negative yield since late March and is now minus 0.803%, near an all-time-low. Gross, who co-founded Pacific Investment Management Company, then spent four years at Janus Henderson before leaving in 2019 to manage his own money, said that the reason that the \"Fab 5 stocks\" and growth stocks in general had done \"so fabulously well\" centers on falling real interest rates that \"are still reaching historic lows.\" Gross is referring to a clutch of high-performing stocks: Amazon, Facebook FB.O, Apple, Netflix NFLX.O and Google's parent Alphabet GOOGL.O, according to his spokesperson. The yields of TIPS are highly correlated with growth stocks, but have far less of an effect on the prices of traditional value stocks, he wrote.The future price disparity of Microsoft MSFT.O, Apple and Amazon \"is subject to an ongoing decline in real rates, which to my mind, have seen their best days,\" Gross said. \"Value stocks, versus growth stocks, should be an investor's preference in the near-term future,\" he writes.Gross said that as well as IBM and Altria, he likes stocks such as midstream company Enterprise Products Partners EPD.N and pharmaceutical giant AbbVie ABBV.N.“Happiness is a healthy body, sinking a few 10-foot putts, and investing in value, versus the ‘Fab 5’,” wrote Gross, who also said he was COVID-19 free.Reporting by Kate Duguid; Additional reporting by Gertrude Chavez-Dreyfuss; Editing by Megan Davies and Christopher CushingOur Standards: The Thomson Reuters Trust Principles.                                                                                                                                                                                                                                                                                                                                                                                                                                                                                                                                                                                                                                                                                                                                                                                                                                                                                                                                                                                                                                                                                                                                                                                                                                                                                                                                                                                                                                                                                                                                                                                                                                                                                                                                                                                                                                                                                                                                                                                                                                                                                                                                                                                                                                                                                                                                                                                                                                                                                                         \n",
       "2   - International Business Machines Corp IBM.N beat estimates for second-quarter profit on Monday and signaled that demand in its cloud computing business would get a boost as large corporations accelerate their digital shift due to the coronavirus crisis.FILE PHOTO: A man stands near an IBM logo at the Mobile World Congress in Barcelona, Spain, February 25, 2019.    REUTERS/Sergio Perez/File PhotoThe company’s shares rose 5% in after-hours trading.IBM has jettisoned some of its legacy business to focus on the high-margin cloud computing business, an area that has seen a lot of action in recent years as companies ramp up their digital shift to boost efficiency.“The trend we see in the market is clear. Clients want to modernize apps, move more workloads to the cloud and automate IT tasks,” IBM’s new boss Arvind Krishna said on a post-earnings call with analysts.Revenue from the cloud business, previously headed by Krishna, rose 30% to $6.3 billion in the second quarter.Krishna took over as chief executive officer from Ginni Rometty in April, while appointing former Bank of America Corp's BAC.N top technology executive, Howard Boville, as the new head of the cloud business.IBM’s global business services unit was impacted as clients cut or delayed spending on discretionary projects due to COVID-19, CFO James Kavanaugh told Reuters. Sales in the unit fell 7% to $3.9 billion.While Western Europe and Asia Pacific showed a pickup in client spending during June, U.S. and Latin America customers pulled back as the pandemic impact got worse, Kavanaugh said.“From a client perspective, our business is more concentrated in large enterprises, which in total have been relatively more stable throughout the pandemic,” Kavanaugh said.IBM’s total revenue fell 5.4% to $18.12 billion, but came in above analysts’ estimates of $17.72 billion, according to IBES data from Refinitiv. Excluding the impact from currency and business divestitures, revenue declined 1.9%.Excluding items, the company earned $2.18 per share, above estimates of $2.07.Reporting by Munsif Vengattil in Bengaluru; Editing by Maju SamuelOur Standards: The Thomson Reuters Trust Principles.                                                                                                                                                                                                                                                                                                                                                                                                                                                                                                                                                                                                                                                                                                                                                                                                                                                                                                                                                                                                                                                                                                                                                                                                                                                                                                                                                                                                                                                                                                                                                                                                                                                                                                                                                                                                                                                                                                                                                                                                                                                                                                                                                                                                                                                                                                                                                                                                     \n",
       "3   - Microsoft Corp's MSFT.O flagship cloud computing business Azure reported quarterly sales growth of under 50% for the first time ever on Wednesday, sending the tech giant's shares down 2%.The Microsoft store is pictured in the Manhattan borough of New York City, New York, U.S., June 26, 2020. REUTERS/Carlo AllegriRevenue in Microsoft’s Intelligent Cloud segment rose 17% to $13.4 billion, with 47% growth in the Azure component, which includes essential computing and storage services. Analysts on average had expected cloud revenue of $13.09 billion in the fourth quarter ended June 30, according to IBES data from Refinitiv.Azure's growth is the most direct measure of performance against top cloud rival Amazon.com Inc's AMZN.O Amazon Web Services, as Microsoft does not break out Azure's revenue by dollar amount. AWS posted revenue growth of 33% to $10.2 billion, which analysts believe exceeds Azure's total, for the quarter ended March 31. International Business Machines Corp IBM.N, another Microsoft rival, this week beat Wall Street expectations with strong cloud growth.Beyond Azure, Microsoft’s results showed how the novel coronavirus is both helping and hurting Microsoft.Businesses are investing in cloud technology for remote work, and the video game Minecraft scored a record 132 million monthly active users as families worked and played from home. But Microsoft’s forecast for some versions of its Office software slightly missed expectations because of weak sales to struggling small and mid-sized businesses.“No one can take away from the fact that GDP is going to be negative,” Chief Executive Satya Nadella told investors on the company’s earnings call, referring to U.S. Gross Domestic Product.Microsoft Chief Financial Officer Amy Hood said 12% commercial bookings growth, which reflects corporate contracts for future software and services, was roughly unchanged from the previous quarter and beat company estimates. The figure signals that customers are keeping long-term technology spending plans intact.“Our strong position in the cloud has allowed us to have good results and support our customers as they work on the next couple of years of digital transformation,” Hood said in an interview.Microsoft's total revenue rose 13% to $38.03 billion in the quarter, beating estimates of $36.5 billion, according to IBES data from Refinitiv. (bit.ly/3jxrriP)The growth was powered by its More Personal Computing unit as more people worldwide used its products to work on Windows PCs and play games on Xboxes during lockdowns. Revenue from the unit, the largest by sales, rose 14% to $12.9 billion, beating analysts’ estimates of $11.46 billion.Microsoft said its professional networking site, LinkedIn, was hurt by the weak job market and advertising spending cuts.Net income fell to $11.20 billion, or $1.46 per share, from $13.19 billion, or $1.71 per share, a year earlier.Reporting by Stephen Nellis in San Francisco and Munsif Vengattil in Bengaluru; Editing by Maju Samuel and Richard ChangOur Standards: The Thomson Reuters Trust Principles.                                                                                                                                                                                                                                                                                                                                                                                                                                                                                                                                                                                                                                                                                                                                                                                                                                                                                                                                                                                                                                                                                                                                                                                                                                                                                                                                                                                                                                                          \n",
       "4   - The White House Office of Science and Technology Policy said on Wednesday it is launching a national education partnership to expand access to K-12 quantum information science (QIS) education with major companies and research institutions.The public-private initiative with the National Science Foundation includes Amazon.com’s Amazon Web Services, Boeing Co, Alphabet Inc’s Google, IBM Corp , Lockheed Martin, Microsoft Corp, the University of Illinois and University of Chicago. The National Science Foundation is also awarding $1 million to QIS education.The initiative is designed in part to help introduce students to quantum information themes before college. (Reporting by David Shepardson Editing by Chris Reese)Our Standards: The Thomson Reuters Trust Principles.                                                                                                                                                                                                                                                                                                                                                                                                                                                                                                                                                                                                                                                                                                                                                                                                                                                                                                                                                                                                                                                                                                                                                                                                                                                                                                                                                                                                                                                                                                                                                                                                                                                                                                                                                                                                                                                                                                                                                                                                                                                                                                                                                                                                                                                                                                                                                                                                                                                                                                                                                                                                                                                                                                                                                                                                                                                                                                                                                                                                                                                                                                                                                                                                                                                                                                                                                                                                                                                                                                                                                                                                                                                                                                                                                                                                                                                        \n",
       "\n",
       "         Open   Volume  % Change in Stock Price  % Change in Volume  \\\n",
       "0  115.500000  4285700 NaN                      NaN                   \n",
       "1  118.620003  4534400  2.701301                 5.803019             \n",
       "2  126.070000  9927700  6.280557                 118.941867           \n",
       "3  125.900002  8195400 -0.134844                -17.449157            \n",
       "4  123.820000  3466100 -1.652106                -57.706762            \n",
       "\n",
       "                                                                                                                                                                                                                                                                                                                                                                                                                                                                                                                                                                                                                                                                                                                                                                                                                                                                                                                                                                                                                                                                                                                                                                                                                                                                                                                                                                                                                                                                                                                                                                                                                                                                                                                                                                                                                                                                                                                                                                                                                                                                                                                                                                                                                                                                                                                                                                                                                                                                                                                                                                                                                                                                                                                                                                                                                                                                                                                                                                                                                                                                                                                                  Text (clean)  \\\n",
       "0  la Guzman5 Min ReadNEW YORK LPC bank lender high quality company take different refinancing avenue seek extend maturity billion dollar loan time Covid-19 pandemic liquidity priority FILE PHOTO Times Square see street follow outbreak coronavirus disease COVID-19 New York City U.S. March 18 2020 REUTERS Jeenah MoonCorporations historically keep credit agreement intact extend maturity make significant change loan document accept risk mitigate concession pricing term loan longevity exempt new requirement Gilead Sciences IBM Ford Motor Co tap market recently transaction push maturity ensure access capital follow company specific strategy reflect different lender perception credit change time “not company go pandemic way volatility differentiation go different treatment receptivity bank result senior banker say investment grade loan market grapple tight liquidity result revolver drawdown health crisis lender rarely go 364-day tenor new deal second quarter investment grade refinancing drop 10-year low us$ 139bn borrower largely pass refinance multiyear revolver year tenor drop 5 total revolver volume second quarter accord Refinitiv LPC datum treatment go dependent credit rating company performance sector banker agree late June A3 rate Gilead refinance us$ 2.5bn year credit agreement set mature 2021 term facility remain pricing 87.5bp Libor accord Refinitiv LPC datum proceed loan general purpose accord datum biopharmaceutical company develop clinical trial antiviral Covid-19 treatment call remdesivir government support drug potential profit likely help seal deal lender year refinancing pandemic start fact Gilead important capital market issuer constitute additional incentive bank group commit long maturity try time spokespeople Gilead Bank America administrative agent prior credit facility decline comment household IBM take different path extend credit facility sign new us$ 2.5bn 364-day loan extend maturity us$ 2.5bn year credit agreement us$ 10.25bn year credit agreement year completely refinance A2 rate technology giant withdraw 2020 annual forecast pandemic impact second quarter revenue B+/Ba2 rate Ford lose investment grade status March outbreak economic fallout opposite spectrum seek extend maturity us$ 5.35bn exist loan pull refinance plan us$ 15.4bn loan early year B+/Ba2 rate automaker currently market look extend modestly sized look push maturity us$ 3.35bn year revolve credit us$ 2bn year revolver year company leave us$ 10.05bn year revolver us$ 1.5bn term loan unchanged lender agree extension receive 40bp fee show large incentive company offer bank stick company see 33.3 drop sale second quarter “we’re hope well tomorrow say Robert Danziger manage director debt capital market MUFG company position address immediate short term liquidity need way break lot relationship glass wait thing improve bank market hopefully distant future push tenor refining pricing ”reporting Daniela Guzman Editing Michelle Sierra Kristen Haunss Standards Thomson Reuters Trust Principles   \n",
       "1  billionaire investor Bill Gross predict value stock like IBM IBM.N Altria Group mo.n likely fare well growth stock like Apple AAPL.O amazon.com AMZN.O near term correlation real interest rate U.S. real yield adjust inflation decline response Federal Reserve aggressive monetary action past month limit economic fallout coronavirus pandemic yield 10-year Treasury Inflation protect security TIPS US10YTIP = RR trade negative yield late March minus 0.803 near time low Gross co found Pacific Investment Management Company spend year Janus Henderson leave 2019 manage money say reason fab 5 stock growth stock general fabulously center fall real interest rate reach historic low Gross refer clutch high perform stock Amazon Facebook FB.O Apple Netflix NFLX.O Google parent Alphabet GOOGL.O accord spokesperson yield TIPS highly correlate growth stock far effect price traditional value stock write future price disparity Microsoft MSFT.O Apple Amazon subject ongoing decline real rate mind see good day Gross say value stock versus growth stock investor preference near term future write Gross say IBM Altria like stock midstream company Enterprise Products Partners EPD.N pharmaceutical giant AbbVie abbv.n.“happiness healthy body sink 10-foot putt invest value versus Fab 5 write Gross say covid-19 free report Kate Duguid additional reporting Gertrude Chavez Dreyfuss editing Megan Davies Christopher CushingOur Standards Thomson Reuters Trust Principles                                                                                                                                                                                                                                                                                                                                                                                                                                                                                                                                                                                                                                                                                                                                                                                                                                                                                                                                                                                                                                                                                                                                                                                                                                                                                                                                                                                                                                                                                                                                                                                                                                \n",
       "2  International Business Machines Corp IBM.N beat estimate second quarter profit Monday signal demand cloud computing business boost large corporation accelerate digital shift coronavirus crisis FILE PHOTO man stand near IBM logo Mobile World Congress Barcelona Spain February 25 2019 REUTERS Sergio Perez File PhotoThe company share rise 5 hour trading IBM jettison legacy business focus high margin cloud computing business area see lot action recent year company ramp digital shift boost efficiency “the trend market clear client want modernize app workload cloud automate task IBM new boss Arvind Krishna say post earning analyst revenue cloud business previously head Krishna rise 30 $ 6.3 billion second quarter Krishna take chief executive officer Ginni Rometty April appoint Bank America Corp BAC.N technology executive Howard Boville new head cloud business IBM global business service unit impact client cut delay spending discretionary project covid-19 CFO James Kavanaugh tell Reuters sale unit fall 7 $ 3.9 billion Western Europe Asia Pacific show pickup client spending June U.S. Latin America customer pull pandemic impact get bad Kavanaugh say “from client perspective business concentrated large enterprise total relatively stable pandemic Kavanaugh say IBM total revenue fall 5.4 $ 18.12 billion come analyst estimate $ 17.72 billion accord IBES datum Refinitiv exclude impact currency business divestiture revenue decline 1.9%.excluding item company earn $ 2.18 share estimate $ 2.07.reporting Munsif Vengattil Bengaluru edit Maju SamuelOur Standards Thomson Reuters Trust Principles                                                                                                                                                                                                                                                                                                                                                                                                                                                                                                                                                                                                                                                                                                                                                                                                                                                                                                                                                                                                                                                                                                                                                                                                                                                                                                                                                                                                                                                                              \n",
       "3  Microsoft Corp MSFT.O flagship cloud computing business Azure report quarterly sale growth 50 time Wednesday send tech giant share 2%.the Microsoft store picture Manhattan borough New York City New York U.S. June 26 2020 REUTERS Carlo AllegriRevenue Microsoft Intelligent Cloud segment rise 17 $ 13.4 billion 47 growth Azure component include essential computing storage service analyst average expect cloud revenue $ 13.09 billion fourth quarter end June 30 accord IBES datum Refinitiv azure growth direct measure performance cloud rival Amazon.com Inc AMZN.O Amazon Web Services Microsoft break Azure revenue dollar AWS post revenue growth 33 $ 10.2 billion analyst believe exceed Azure total quarter end March 31 International Business Machines Corp IBM.N Microsoft rival week beat Wall Street expectation strong cloud growth Azure Microsoft result show novel coronavirus help hurt Microsoft business invest cloud technology remote work video game Minecraft score record 132 million monthly active user family work play home Microsoft forecast version Office software slightly miss expectation weak sale struggle small mid sized business “no away fact GDP go negative Chief Executive Satya Nadella tell investor company earning refer U.S. Gross Domestic Product Microsoft Chief Financial Officer Amy Hood say 12 commercial booking growth reflect corporate contract future software service roughly unchanged previous quarter beat company estimate figure signal customer keep long term technology spending plan intact “our strong position cloud allow good result support customer work couple year digital transformation Hood say interview Microsoft total revenue rise 13 $ 38.03 billion quarter beat estimate $ 36.5 billion accord IBES datum Refinitiv bit.ly/3jxrrip)the growth power Personal Computing unit people worldwide product work Windows pc play game Xboxes lockdown revenue unit large sale rise 14 $ 12.9 billion beat analyst estimate $ 11.46 billion Microsoft say professional networking site LinkedIn hurt weak job market advertising spending cut net income fall $ 11.20 billion $ 1.46 share $ 13.19 billion $ 1.71 share year early report Stephen Nellis San Francisco Munsif Vengattil Bengaluru edit Maju Samuel Richard ChangOur Standards Thomson Reuters Trust Principles                                                                                                                                                                                                                                                                                                                                                                                                                                                                                                                                                                                                                                                                                                                                                                   \n",
       "4  White House Office Science Technology Policy say Wednesday launch national education partnership expand access K-12 quantum information science QIS education major company research institution public private initiative National Science Foundation include amazon.com Amazon Web Services Boeing Co Alphabet Inc Google IBM Corp Lockheed Martin Microsoft Corp University Illinois University Chicago National Science Foundation award $ 1 million QIS education initiative design help introduce student quantum information theme college report David Shepardson Editing Chris Reese)Our Standards Thomson Reuters Trust Principles                                                                                                                                                                                                                                                                                                                                                                                                                                                                                                                                                                                                                                                                                                                                                                                                                                                                                                                                                                                                                                                                                                                                                                                                                                                                                                                                                                                                                                                                                                                                                                                                                                                                                                                                                                                                                                                                                                                                                                                                                                                                                                                                                                                                                                                                                                                                                                                                                                                                                                  \n",
       "\n",
       "   Vader Sentiment Score  sentiment  sentiment_prob  Days Elapsed  \\\n",
       "0  0.9963                 1.0        0.987249        0              \n",
       "1  0.9831                 0.0        0.415353        4              \n",
       "2  0.8020                 0.0        0.110248        6              \n",
       "3  0.9849                 0.0        0.011837        2              \n",
       "4  0.9100                 1.0        0.707602        13             \n",
       "\n",
       "   % Change in Stock Price Per Day Vader Sentiment  \\\n",
       "0 NaN                               positive         \n",
       "1  0.675325                         positive         \n",
       "2  1.046760                         positive         \n",
       "3 -0.067422                         positive         \n",
       "4 -0.127085                         positive         \n",
       "\n",
       "  Logistic Regression Sentiment Stock Price Change  \n",
       "0  positive                      negative           \n",
       "1  negative                      positive           \n",
       "2  negative                      positive           \n",
       "3  negative                      negative           \n",
       "4  positive                      negative           "
      ]
     },
     "execution_count": 46,
     "metadata": {},
     "output_type": "execute_result"
    }
   ],
   "source": [
    "df['Vader Sentiment'] = df['Vader Sentiment Score'].apply(lambda x: \"positive\" if x>0 else \"negative\")\n",
    "df['Logistic Regression Sentiment'] = df['sentiment_prob'].apply(lambda x: \"positive\" if x>0.5 else \"negative\")\n",
    "df['Stock Price Change'] = df['% Change in Stock Price Per Day'].apply(lambda x: \"positive\" if x>0 else \"negative\")\n",
    "df.head()"
   ]
  },
  {
   "cell_type": "code",
   "execution_count": 45,
   "metadata": {},
   "outputs": [
    {
     "data": {
      "text/html": [
       "<div>\n",
       "<style scoped>\n",
       "    .dataframe tbody tr th:only-of-type {\n",
       "        vertical-align: middle;\n",
       "    }\n",
       "\n",
       "    .dataframe tbody tr th {\n",
       "        vertical-align: top;\n",
       "    }\n",
       "\n",
       "    .dataframe thead th {\n",
       "        text-align: right;\n",
       "    }\n",
       "</style>\n",
       "<table border=\"1\" class=\"dataframe\">\n",
       "  <thead>\n",
       "    <tr style=\"text-align: right;\">\n",
       "      <th></th>\n",
       "      <th>Date</th>\n",
       "      <th>Header</th>\n",
       "      <th>Stock Price Change</th>\n",
       "      <th>Vader Sentiment</th>\n",
       "      <th>Logistic Regression Sentiment</th>\n",
       "    </tr>\n",
       "  </thead>\n",
       "  <tbody>\n",
       "    <tr>\n",
       "      <th>0</th>\n",
       "      <td>2020-07-10</td>\n",
       "      <td>U.S. companies seeking capital during pandemic test bank market's new normal</td>\n",
       "      <td>negative</td>\n",
       "      <td>positive</td>\n",
       "      <td>positive</td>\n",
       "    </tr>\n",
       "    <tr>\n",
       "      <th>1</th>\n",
       "      <td>2020-07-14</td>\n",
       "      <td>Bill Gross predicts value outperforms growth, based on rates correlation</td>\n",
       "      <td>positive</td>\n",
       "      <td>positive</td>\n",
       "      <td>negative</td>\n",
       "    </tr>\n",
       "    <tr>\n",
       "      <th>2</th>\n",
       "      <td>2020-07-20</td>\n",
       "      <td>IBM beats estimates; sees gains as customers accelerate shift to cloud</td>\n",
       "      <td>positive</td>\n",
       "      <td>positive</td>\n",
       "      <td>negative</td>\n",
       "    </tr>\n",
       "    <tr>\n",
       "      <th>3</th>\n",
       "      <td>2020-07-22</td>\n",
       "      <td>Microsoft cloud flagship posts first growth under 50%; bookings growth steady</td>\n",
       "      <td>negative</td>\n",
       "      <td>positive</td>\n",
       "      <td>negative</td>\n",
       "    </tr>\n",
       "    <tr>\n",
       "      <th>4</th>\n",
       "      <td>2020-08-04</td>\n",
       "      <td>White House unveils new partnership to boost quantum science education</td>\n",
       "      <td>negative</td>\n",
       "      <td>positive</td>\n",
       "      <td>positive</td>\n",
       "    </tr>\n",
       "  </tbody>\n",
       "</table>\n",
       "</div>"
      ],
      "text/plain": [
       "        Date  \\\n",
       "0 2020-07-10   \n",
       "1 2020-07-14   \n",
       "2 2020-07-20   \n",
       "3 2020-07-22   \n",
       "4 2020-08-04   \n",
       "\n",
       "                                                                          Header  \\\n",
       "0  U.S. companies seeking capital during pandemic test bank market's new normal    \n",
       "1  Bill Gross predicts value outperforms growth, based on rates correlation        \n",
       "2  IBM beats estimates; sees gains as customers accelerate shift to cloud          \n",
       "3  Microsoft cloud flagship posts first growth under 50%; bookings growth steady   \n",
       "4  White House unveils new partnership to boost quantum science education          \n",
       "\n",
       "  Stock Price Change Vader Sentiment Logistic Regression Sentiment  \n",
       "0  negative           positive        positive                      \n",
       "1  positive           positive        negative                      \n",
       "2  positive           positive        negative                      \n",
       "3  negative           positive        negative                      \n",
       "4  negative           positive        positive                      "
      ]
     },
     "execution_count": 45,
     "metadata": {},
     "output_type": "execute_result"
    }
   ],
   "source": [
    "columns = ['Date','Header','Stock Price Change', 'Vader Sentiment', 'Logistic Regression Sentiment']\n",
    "df_summary = df[columns]\n",
    "df_summary.head()"
   ]
  },
  {
   "cell_type": "code",
   "execution_count": null,
   "metadata": {},
   "outputs": [],
   "source": []
  }
 ],
 "metadata": {
  "colab": {
   "collapsed_sections": [],
   "name": "IBM.ipynb",
   "provenance": []
  },
  "kernelspec": {
   "display_name": "Python 3",
   "language": "python",
   "name": "python3"
  },
  "language_info": {
   "codemirror_mode": {
    "name": "ipython",
    "version": 3
   },
   "file_extension": ".py",
   "mimetype": "text/x-python",
   "name": "python",
   "nbconvert_exporter": "python",
   "pygments_lexer": "ipython3",
   "version": "3.7.9"
  }
 },
 "nbformat": 4,
 "nbformat_minor": 1
}
