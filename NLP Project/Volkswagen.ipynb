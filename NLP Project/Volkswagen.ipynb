{
 "cells": [
  {
   "cell_type": "code",
   "execution_count": 1,
   "metadata": {
    "id": "Hy5lBaPeCK57"
   },
   "outputs": [],
   "source": [
    "import requests\n",
    "from bs4 import BeautifulSoup\n",
    "import pandas as pd\n",
    "from datetime import datetime\n",
    "import dateutil.parser\n",
    "import matplotlib.pyplot as plt"
   ]
  },
  {
   "cell_type": "code",
   "execution_count": 2,
   "metadata": {
    "id": "KPDz-_cXCK57"
   },
   "outputs": [],
   "source": [
    "# dictionary of text dates and links\n",
    "\n",
    "# August 2, 2015\n",
    "url1 = 'https://www.reuters.com/article/us-toyota-sales-idUSKCN0Q805F20150803'\n",
    "\n",
    "# August 18, 2015\n",
    "url2 = 'https://uk.reuters.com/article/uk-china-blast-toyota/global-automakers-divert-shipments-from-chinas-tianjin-port-after-blasts-idUKKCN0QO07W20150819'\n",
    "\n",
    "# September 3, 2015\n",
    "url3 = 'https://www.reuters.com/article/us-volkswagen-chairman-poetsch/vws-finance-chief-set-to-become-new-chairman-idUSKCN0R31B620150903'\n",
    "\n",
    "# September 4, 2-15\n",
    "url4 = 'https://www.reuters.com/article/us-toyota-research-robotics-idUSKCN0R41X220150904'\n",
    "\n",
    "# September 18, 2015\n",
    "url5 = 'https://www.reuters.com/article/us-usa-volkswagen-idUSKCN0RI1VK20150918'\n",
    "\n",
    "# September 21, 2015\n",
    "url6 = 'https://www.reuters.com/article/us-usa-volkswagen-emission-idUSKCN0RL2EI20150922'\n",
    "\n",
    "# September 24, 2015\n",
    "url7 = 'https://www.reuters.com/article/usa-volkswagen-deception-idUSL1N11U1OB20150924'\n",
    "\n",
    "# September 29, 2015\n",
    "url8 = 'https://www.reuters.com/article/volkswagen-emissions-technology-idUSL1N11Z1XQ20150929'\n",
    "\n",
    "\n",
    "# October 8, 2015\n",
    "url9 = 'https://www.reuters.com/article/us-volkswagen-emissions-consumers-insigh-idUSKCN0S20CK20151008'\n",
    "\n",
    "# October 13, 2015\n",
    "url10 = 'https://in.reuters.com/article/us-volkswagen-emissions-investment/vw-looks-to-cutbacks-and-electric-cars-to-overcome-scandal-idUKKCN0S710020151013'\n",
    "\n",
    "# October 21, 2015\n",
    "url11 = 'https://ca.reuters.com/article/businessNews/idCAKCN0SF1FU20151021'\n",
    "\n",
    "# October 22, 2015\n",
    "url12 = 'https://www.reuters.com/article/us-volkswagen-emissions-brazil-idUSKCN0SG1N720151022'\n",
    "\n",
    "\n",
    "# October 28, 2015\n",
    "url13 = 'https://www.reuters.com/article/us-volkswagen-emissions-dealers-idUSKCN0SM2SG20151028'\n",
    "\n",
    "# November 4, 2015\n",
    "url14 = 'https://www.reuters.com/article/us-volkswagen-emissions-idUSKCN0ST1VY20151104'\n",
    "\n",
    "# November 8, 2015\n",
    "url15 = 'https://www.reuters.com/article/volkswagen-emissions/vw-engineers-have-admitted-manipulating-co2-emissions-data-paper-idUKL8N1320KD20151108'\n",
    "\n",
    "url_dict = {'08/02/2015':url1,\n",
    "            '08/18/2015':url2,\n",
    "            '09/03/2015':url3,\n",
    "            '09/04/2015':url4,\n",
    "            '09/18/2015':url5,\n",
    "           '09/21/2015':url6,\n",
    "           '09/24/2015':url7,\n",
    "            '09/29/2015':url8,\n",
    "            '10/08/2015':url9,\n",
    "            '10/13/2015':url10,\n",
    "            '10/21/2015':url11,\n",
    "           '10/22/2015':url12,\n",
    "           '10/28/2015':url13,\n",
    "            '11/04/2015':url14,\n",
    "           '11/08/2015':url15,\n",
    "           }\n"
   ]
  },
  {
   "cell_type": "code",
   "execution_count": 3,
   "metadata": {
    "id": "tF3jRI1gCK57"
   },
   "outputs": [],
   "source": [
    "# extract info from each website and store it in dataframe\n",
    "df_text = pd.DataFrame(columns = ['Date','Header','Text'])\n",
    "header = []\n",
    "text = []\n",
    "date = []\n",
    "for key in url_dict:\n",
    "    page = requests.get(url_dict[key]).text\n",
    "    soup = BeautifulSoup(page, 'html.parser')\n",
    "    date.append(datetime.strptime(key, '%m/%d/%Y').date())\n",
    "    url_header = soup.find('h1').text\n",
    "    header.append(url_header)\n",
    "    url_text = soup.find('div', class_ = 'ArticleBodyWrapper').text\n",
    "    text.append(url_text)\n",
    "df_text['Date']=date\n",
    "df_text['Header']=header\n",
    "df_text['Text']=text\n",
    "\n",
    "# remove the author and \"min read\" sections\n",
    "df_text_temp = [] \n",
    "for text in df_text['Text']:\n",
    "    loc = text.find('(Reuters)')\n",
    "    df_text_temp.append(text[loc+9:])\n",
    "df_text['Text'] = df_text_temp\n",
    "\n",
    "\n"
   ]
  },
  {
   "cell_type": "code",
   "execution_count": 4,
   "metadata": {
    "id": "TrAaQuU4CK57",
    "outputId": "f98557ec-5de2-458e-f3a6-4c6332f002fe"
   },
   "outputs": [
    {
     "data": {
      "text/html": [
       "<div>\n",
       "<style scoped>\n",
       "    .dataframe tbody tr th:only-of-type {\n",
       "        vertical-align: middle;\n",
       "    }\n",
       "\n",
       "    .dataframe tbody tr th {\n",
       "        vertical-align: top;\n",
       "    }\n",
       "\n",
       "    .dataframe thead th {\n",
       "        text-align: right;\n",
       "    }\n",
       "</style>\n",
       "<table border=\"1\" class=\"dataframe\">\n",
       "  <thead>\n",
       "    <tr style=\"text-align: right;\">\n",
       "      <th></th>\n",
       "      <th>Date</th>\n",
       "      <th>Header</th>\n",
       "      <th>Text</th>\n",
       "    </tr>\n",
       "  </thead>\n",
       "  <tbody>\n",
       "    <tr>\n",
       "      <th>0</th>\n",
       "      <td>2015-08-02</td>\n",
       "      <td>Volkswagen overtakes Toyota as world's biggest...</td>\n",
       "      <td>- Volkswagen VOWG_p.DE overtook Toyota 7203.T...</td>\n",
       "    </tr>\n",
       "    <tr>\n",
       "      <th>1</th>\n",
       "      <td>2015-08-18</td>\n",
       "      <td>Global automakers divert shipments from China'...</td>\n",
       "      <td>- Toyota Motor Corp 7203.T and rival global a...</td>\n",
       "    </tr>\n",
       "    <tr>\n",
       "      <th>2</th>\n",
       "      <td>2015-09-03</td>\n",
       "      <td>VW's finance chief set to become new chairman</td>\n",
       "      <td>- Volkswagen's VOWG_p.DE finance chief Hans D...</td>\n",
       "    </tr>\n",
       "    <tr>\n",
       "      <th>3</th>\n",
       "      <td>2015-09-04</td>\n",
       "      <td>Toyota partners with Stanford, MIT on self-dri...</td>\n",
       "      <td>- Toyota Motor Corp is collaborating with two...</td>\n",
       "    </tr>\n",
       "    <tr>\n",
       "      <th>4</th>\n",
       "      <td>2015-09-18</td>\n",
       "      <td>Volkswagen could face $18 billion penalties fr...</td>\n",
       "      <td>- Volkswagen AG VOWG_p.DE faces penalties up ...</td>\n",
       "    </tr>\n",
       "    <tr>\n",
       "      <th>5</th>\n",
       "      <td>2015-09-21</td>\n",
       "      <td>Volkswagen's 'clean diesel' strategy unraveled...</td>\n",
       "      <td>- When the International Council for Clean Tr...</td>\n",
       "    </tr>\n",
       "    <tr>\n",
       "      <th>6</th>\n",
       "      <td>2015-09-24</td>\n",
       "      <td>INSIGHT-After year of stonewalling, VW stunned...</td>\n",
       "      <td>- The confession of cheating that’s embroiled...</td>\n",
       "    </tr>\n",
       "    <tr>\n",
       "      <th>7</th>\n",
       "      <td>2015-09-29</td>\n",
       "      <td>Illegal VW diesel emission systems may require...</td>\n",
       "      <td>- Volkswagen AG ‘s promise to fix pollution c...</td>\n",
       "    </tr>\n",
       "    <tr>\n",
       "      <th>8</th>\n",
       "      <td>2015-10-08</td>\n",
       "      <td>VW's U.S. recall could be thwarted by reluctan...</td>\n",
       "      <td>- As Volkswagen AG prepares to explain how it...</td>\n",
       "    </tr>\n",
       "    <tr>\n",
       "      <th>9</th>\n",
       "      <td>2015-10-13</td>\n",
       "      <td>VW looks to cutbacks and electric cars to over...</td>\n",
       "      <td>- Volkswagen will cut investment plans at its...</td>\n",
       "    </tr>\n",
       "    <tr>\n",
       "      <th>10</th>\n",
       "      <td>2015-10-21</td>\n",
       "      <td>Volkswagen CEO says emissions scandal bill cou...</td>\n",
       "      <td>- Volkswagen VOWG_p.DE may have to set aside ...</td>\n",
       "    </tr>\n",
       "    <tr>\n",
       "      <th>11</th>\n",
       "      <td>2015-10-22</td>\n",
       "      <td>Volkswagen to recall Brazil pickups in emissio...</td>\n",
       "      <td>- Volkswagen AG VOWG_p.DE plans to recall 17,...</td>\n",
       "    </tr>\n",
       "    <tr>\n",
       "      <th>12</th>\n",
       "      <td>2015-10-28</td>\n",
       "      <td>VW dealers offer hefty discounts as diesel cri...</td>\n",
       "      <td>- Many of Volkswagen AG's VOWG_p.DE U.S. deal...</td>\n",
       "    </tr>\n",
       "    <tr>\n",
       "      <th>13</th>\n",
       "      <td>2015-11-04</td>\n",
       "      <td>Germany to retest VW cars as scandal pushes Be...</td>\n",
       "      <td>- Germany is to retest all Volkswagen VOWG_p....</td>\n",
       "    </tr>\n",
       "    <tr>\n",
       "      <th>14</th>\n",
       "      <td>2015-11-08</td>\n",
       "      <td>VW engineers have admitted manipulating CO2 em...</td>\n",
       "      <td>- Several Volkswagen engineers have admitted ...</td>\n",
       "    </tr>\n",
       "  </tbody>\n",
       "</table>\n",
       "</div>"
      ],
      "text/plain": [
       "          Date                                             Header  \\\n",
       "0   2015-08-02  Volkswagen overtakes Toyota as world's biggest...   \n",
       "1   2015-08-18  Global automakers divert shipments from China'...   \n",
       "2   2015-09-03      VW's finance chief set to become new chairman   \n",
       "3   2015-09-04  Toyota partners with Stanford, MIT on self-dri...   \n",
       "4   2015-09-18  Volkswagen could face $18 billion penalties fr...   \n",
       "5   2015-09-21  Volkswagen's 'clean diesel' strategy unraveled...   \n",
       "6   2015-09-24  INSIGHT-After year of stonewalling, VW stunned...   \n",
       "7   2015-09-29  Illegal VW diesel emission systems may require...   \n",
       "8   2015-10-08  VW's U.S. recall could be thwarted by reluctan...   \n",
       "9   2015-10-13  VW looks to cutbacks and electric cars to over...   \n",
       "10  2015-10-21  Volkswagen CEO says emissions scandal bill cou...   \n",
       "11  2015-10-22  Volkswagen to recall Brazil pickups in emissio...   \n",
       "12  2015-10-28  VW dealers offer hefty discounts as diesel cri...   \n",
       "13  2015-11-04  Germany to retest VW cars as scandal pushes Be...   \n",
       "14  2015-11-08  VW engineers have admitted manipulating CO2 em...   \n",
       "\n",
       "                                                 Text  \n",
       "0    - Volkswagen VOWG_p.DE overtook Toyota 7203.T...  \n",
       "1    - Toyota Motor Corp 7203.T and rival global a...  \n",
       "2    - Volkswagen's VOWG_p.DE finance chief Hans D...  \n",
       "3    - Toyota Motor Corp is collaborating with two...  \n",
       "4    - Volkswagen AG VOWG_p.DE faces penalties up ...  \n",
       "5    - When the International Council for Clean Tr...  \n",
       "6    - The confession of cheating that’s embroiled...  \n",
       "7    - Volkswagen AG ‘s promise to fix pollution c...  \n",
       "8    - As Volkswagen AG prepares to explain how it...  \n",
       "9    - Volkswagen will cut investment plans at its...  \n",
       "10   - Volkswagen VOWG_p.DE may have to set aside ...  \n",
       "11   - Volkswagen AG VOWG_p.DE plans to recall 17,...  \n",
       "12   - Many of Volkswagen AG's VOWG_p.DE U.S. deal...  \n",
       "13   - Germany is to retest all Volkswagen VOWG_p....  \n",
       "14   - Several Volkswagen engineers have admitted ...  "
      ]
     },
     "execution_count": 4,
     "metadata": {},
     "output_type": "execute_result"
    }
   ],
   "source": [
    "df_text"
   ]
  },
  {
   "cell_type": "code",
   "execution_count": 5,
   "metadata": {
    "id": "5tum9ilYCK58"
   },
   "outputs": [],
   "source": [
    "# import stock data of netflix\n",
    "df_stock = pd.read_csv('Volkswagen.csv', header=0)\n",
    "df_stock['Date']=df_stock['Date'].apply(lambda x: datetime.strptime(x, '%m/%d/%Y').date())\n",
    "\n",
    "df_stock = df_stock[df_stock[' Volume'] != ' N/A']\n",
    "\n",
    "# Remove $ sign and change to int variable\n",
    "df_stock[' Open'] = df_stock[' Open'].apply(lambda x : x[1:])\n",
    "df_stock[' High'] = df_stock[' High'].apply(lambda x : x[1:])\n",
    "df_stock[' Low'] = df_stock[' Low'].apply(lambda x : x[1:])\n",
    "df_stock[' Close/Last'] = df_stock[' Close/Last'].apply(lambda x : x[1:])\n",
    "\n",
    "# Remove $ sign and change to int variable\n",
    "df_stock[' Open'] = df_stock[' Open'].astype(float)\n",
    "df_stock[' High'] = df_stock[' High'].astype(float)\n",
    "df_stock[' Volume'] = df_stock[' Volume'].astype(float)\n",
    "df_stock[' Low'] = df_stock[' Low'].astype(float)\n",
    "df_stock[' Close/Last'] = df_stock[' Close/Last'].astype(float)\n",
    "\n",
    "columns_remove = [' High', ' Low', ' Close/Last']\n",
    "df_stock = df_stock.drop(columns_remove, axis=1)\n",
    "\n"
   ]
  },
  {
   "cell_type": "code",
   "execution_count": 6,
   "metadata": {
    "id": "kODDAFUjCK58",
    "outputId": "36633040-d9ba-4ead-f4cd-561bc6c1dd2d"
   },
   "outputs": [
    {
     "data": {
      "image/png": "[encoded data removed]",
      "text/plain": [
       "<Figure size 432x288 with 1 Axes>"
      ]
     },
     "metadata": {
      "needs_background": "light"
     },
     "output_type": "display_data"
    }
   ],
   "source": [
    "df_plot = df_stock[(df_stock['Date']>pd.to_datetime('07/01/2015')) & (df_stock['Date']<pd.to_datetime('12/01/2015'))]\n",
    "plt.figure()\n",
    "plt.plot(df_plot['Date'], df_plot[' Open'])\n",
    "plt.xlabel('Date')\n",
    "plt.ylabel('Stock Price')\n",
    "plt.title('Stock Price of Volkswagen')\n",
    "plt.show()"
   ]
  },
  {
   "cell_type": "code",
   "execution_count": 7,
   "metadata": {
    "id": "SXBNSGRBCK58"
   },
   "outputs": [],
   "source": [
    "# Merge two dataframes\n",
    "df = pd.merge(df_text, df_stock, how='inner', on='Date')\n",
    "df = df.sort_values('Date')"
   ]
  },
  {
   "cell_type": "code",
   "execution_count": 8,
   "metadata": {
    "id": "ywS7dfZeCK58",
    "outputId": "3c39f367-9840-4b74-baa3-c3309e921255"
   },
   "outputs": [
    {
     "data": {
      "text/html": [
       "<div>\n",
       "<style scoped>\n",
       "    .dataframe tbody tr th:only-of-type {\n",
       "        vertical-align: middle;\n",
       "    }\n",
       "\n",
       "    .dataframe tbody tr th {\n",
       "        vertical-align: top;\n",
       "    }\n",
       "\n",
       "    .dataframe thead th {\n",
       "        text-align: right;\n",
       "    }\n",
       "</style>\n",
       "<table border=\"1\" class=\"dataframe\">\n",
       "  <thead>\n",
       "    <tr style=\"text-align: right;\">\n",
       "      <th></th>\n",
       "      <th>Date</th>\n",
       "      <th>Header</th>\n",
       "      <th>Text</th>\n",
       "      <th>Volume</th>\n",
       "      <th>Open</th>\n",
       "      <th>% Change in Stock Price</th>\n",
       "      <th>% Change in Volume</th>\n",
       "    </tr>\n",
       "  </thead>\n",
       "  <tbody>\n",
       "    <tr>\n",
       "      <th>0</th>\n",
       "      <td>2015-08-18</td>\n",
       "      <td>Global automakers divert shipments from China'...</td>\n",
       "      <td>- Toyota Motor Corp 7203.T and rival global a...</td>\n",
       "      <td>351.0</td>\n",
       "      <td>191.50</td>\n",
       "      <td>NaN</td>\n",
       "      <td>NaN</td>\n",
       "    </tr>\n",
       "    <tr>\n",
       "      <th>1</th>\n",
       "      <td>2015-09-03</td>\n",
       "      <td>VW's finance chief set to become new chairman</td>\n",
       "      <td>- Volkswagen's VOWG_p.DE finance chief Hans D...</td>\n",
       "      <td>295.0</td>\n",
       "      <td>180.10</td>\n",
       "      <td>-5.953003</td>\n",
       "      <td>-15.954416</td>\n",
       "    </tr>\n",
       "    <tr>\n",
       "      <th>2</th>\n",
       "      <td>2015-09-04</td>\n",
       "      <td>Toyota partners with Stanford, MIT on self-dri...</td>\n",
       "      <td>- Toyota Motor Corp is collaborating with two...</td>\n",
       "      <td>51.0</td>\n",
       "      <td>177.20</td>\n",
       "      <td>-1.610217</td>\n",
       "      <td>-82.711864</td>\n",
       "    </tr>\n",
       "    <tr>\n",
       "      <th>3</th>\n",
       "      <td>2015-09-18</td>\n",
       "      <td>Volkswagen could face $18 billion penalties fr...</td>\n",
       "      <td>- Volkswagen AG VOWG_p.DE faces penalties up ...</td>\n",
       "      <td>209.0</td>\n",
       "      <td>185.60</td>\n",
       "      <td>4.740406</td>\n",
       "      <td>309.803922</td>\n",
       "    </tr>\n",
       "    <tr>\n",
       "      <th>4</th>\n",
       "      <td>2015-09-21</td>\n",
       "      <td>Volkswagen's 'clean diesel' strategy unraveled...</td>\n",
       "      <td>- When the International Council for Clean Tr...</td>\n",
       "      <td>20900.0</td>\n",
       "      <td>149.88</td>\n",
       "      <td>-19.245690</td>\n",
       "      <td>9900.000000</td>\n",
       "    </tr>\n",
       "  </tbody>\n",
       "</table>\n",
       "</div>"
      ],
      "text/plain": [
       "         Date                                             Header  \\\n",
       "0  2015-08-18  Global automakers divert shipments from China'...   \n",
       "1  2015-09-03      VW's finance chief set to become new chairman   \n",
       "2  2015-09-04  Toyota partners with Stanford, MIT on self-dri...   \n",
       "3  2015-09-18  Volkswagen could face $18 billion penalties fr...   \n",
       "4  2015-09-21  Volkswagen's 'clean diesel' strategy unraveled...   \n",
       "\n",
       "                                                Text   Volume    Open  \\\n",
       "0   - Toyota Motor Corp 7203.T and rival global a...    351.0  191.50   \n",
       "1   - Volkswagen's VOWG_p.DE finance chief Hans D...    295.0  180.10   \n",
       "2   - Toyota Motor Corp is collaborating with two...     51.0  177.20   \n",
       "3   - Volkswagen AG VOWG_p.DE faces penalties up ...    209.0  185.60   \n",
       "4   - When the International Council for Clean Tr...  20900.0  149.88   \n",
       "\n",
       "   % Change in Stock Price  % Change in Volume  \n",
       "0                      NaN                 NaN  \n",
       "1                -5.953003          -15.954416  \n",
       "2                -1.610217          -82.711864  \n",
       "3                 4.740406          309.803922  \n",
       "4               -19.245690         9900.000000  "
      ]
     },
     "execution_count": 8,
     "metadata": {},
     "output_type": "execute_result"
    }
   ],
   "source": [
    "# show % change in stock price after news article publish\n",
    "pct_stock = df[' Open'].pct_change()*100\n",
    "df['% Change in Stock Price'] = pct_stock\n",
    "pct_volume = df[' Volume'].pct_change()*100\n",
    "df['% Change in Volume'] = pct_volume\n",
    "df.head()"
   ]
  },
  {
   "cell_type": "markdown",
   "metadata": {
    "id": "q06_XqqLCK58"
   },
   "source": [
    "# Processing the text\n"
   ]
  },
  {
   "cell_type": "markdown",
   "metadata": {
    "id": "Er8uEaUfCK58"
   },
   "source": [
    "## import spacy libraries\n",
    "import spacy\n",
    "import en_core_web_sm\n",
    "from  spacy.lang.en.stop_words import STOP_WORDS\n",
    "nlp = spacy.load('en_core_web_sm')"
   ]
  },
  {
   "cell_type": "code",
   "execution_count": 9,
   "metadata": {
    "id": "LUyKlHqgCK58"
   },
   "outputs": [],
   "source": [
    "# import spacy libraries\n",
    "import spacy\n",
    "import en_core_web_sm\n",
    "from  spacy.lang.en.stop_words import STOP_WORDS\n",
    "nlp = spacy.load('en_core_web_sm')"
   ]
  },
  {
   "cell_type": "code",
   "execution_count": 10,
   "metadata": {
    "id": "PVw8hrcXCK58"
   },
   "outputs": [],
   "source": [
    "\n",
    "text_nlp = nlp(df['Text'][1]) \n",
    "# Remove stop words\n",
    "text_nlp_clean = [word for word in text_nlp if word.is_stop == False]\n",
    "# Lemmatize words\n",
    "text_nlp_clean = [word.lemma_ for word in text_nlp_clean]"
   ]
  },
  {
   "cell_type": "code",
   "execution_count": 11,
   "metadata": {
    "id": "aTJxyIwpCK58",
    "outputId": "403d5c44-cecf-44a7-95ef-c072e9d53d0f"
   },
   "outputs": [
    {
     "data": {
      "text/html": [
       "<div>\n",
       "<style scoped>\n",
       "    .dataframe tbody tr th:only-of-type {\n",
       "        vertical-align: middle;\n",
       "    }\n",
       "\n",
       "    .dataframe tbody tr th {\n",
       "        vertical-align: top;\n",
       "    }\n",
       "\n",
       "    .dataframe thead th {\n",
       "        text-align: right;\n",
       "    }\n",
       "</style>\n",
       "<table border=\"1\" class=\"dataframe\">\n",
       "  <thead>\n",
       "    <tr style=\"text-align: right;\">\n",
       "      <th></th>\n",
       "      <th>Date</th>\n",
       "      <th>Header</th>\n",
       "      <th>Text</th>\n",
       "      <th>Volume</th>\n",
       "      <th>Open</th>\n",
       "      <th>% Change in Stock Price</th>\n",
       "      <th>% Change in Volume</th>\n",
       "      <th>Text (clean)</th>\n",
       "    </tr>\n",
       "  </thead>\n",
       "  <tbody>\n",
       "    <tr>\n",
       "      <th>0</th>\n",
       "      <td>2015-08-18</td>\n",
       "      <td>Global automakers divert shipments from China'...</td>\n",
       "      <td>- Toyota Motor Corp 7203.T and rival global a...</td>\n",
       "      <td>351.0</td>\n",
       "      <td>191.50</td>\n",
       "      <td>NaN</td>\n",
       "      <td>NaN</td>\n",
       "      <td>Toyota Motor Corp 7203.T rival global automake...</td>\n",
       "    </tr>\n",
       "    <tr>\n",
       "      <th>1</th>\n",
       "      <td>2015-09-03</td>\n",
       "      <td>VW's finance chief set to become new chairman</td>\n",
       "      <td>- Volkswagen's VOWG_p.DE finance chief Hans D...</td>\n",
       "      <td>295.0</td>\n",
       "      <td>180.10</td>\n",
       "      <td>-5.953003</td>\n",
       "      <td>-15.954416</td>\n",
       "      <td>Volkswagen VOWG_p de finance chief Hans Dieter...</td>\n",
       "    </tr>\n",
       "    <tr>\n",
       "      <th>2</th>\n",
       "      <td>2015-09-04</td>\n",
       "      <td>Toyota partners with Stanford, MIT on self-dri...</td>\n",
       "      <td>- Toyota Motor Corp is collaborating with two...</td>\n",
       "      <td>51.0</td>\n",
       "      <td>177.20</td>\n",
       "      <td>-1.610217</td>\n",
       "      <td>-82.711864</td>\n",
       "      <td>Toyota Motor Corp collaborate U.S. university ...</td>\n",
       "    </tr>\n",
       "    <tr>\n",
       "      <th>3</th>\n",
       "      <td>2015-09-18</td>\n",
       "      <td>Volkswagen could face $18 billion penalties fr...</td>\n",
       "      <td>- Volkswagen AG VOWG_p.DE faces penalties up ...</td>\n",
       "      <td>209.0</td>\n",
       "      <td>185.60</td>\n",
       "      <td>4.740406</td>\n",
       "      <td>309.803922</td>\n",
       "      <td>Volkswagen AG VOWG_p DE face penalty $ 18 bill...</td>\n",
       "    </tr>\n",
       "    <tr>\n",
       "      <th>4</th>\n",
       "      <td>2015-09-21</td>\n",
       "      <td>Volkswagen's 'clean diesel' strategy unraveled...</td>\n",
       "      <td>- When the International Council for Clean Tr...</td>\n",
       "      <td>20900.0</td>\n",
       "      <td>149.88</td>\n",
       "      <td>-19.245690</td>\n",
       "      <td>9900.000000</td>\n",
       "      <td>International Council Clean Transportation ICC...</td>\n",
       "    </tr>\n",
       "  </tbody>\n",
       "</table>\n",
       "</div>"
      ],
      "text/plain": [
       "         Date                                             Header  \\\n",
       "0  2015-08-18  Global automakers divert shipments from China'...   \n",
       "1  2015-09-03      VW's finance chief set to become new chairman   \n",
       "2  2015-09-04  Toyota partners with Stanford, MIT on self-dri...   \n",
       "3  2015-09-18  Volkswagen could face $18 billion penalties fr...   \n",
       "4  2015-09-21  Volkswagen's 'clean diesel' strategy unraveled...   \n",
       "\n",
       "                                                Text   Volume    Open  \\\n",
       "0   - Toyota Motor Corp 7203.T and rival global a...    351.0  191.50   \n",
       "1   - Volkswagen's VOWG_p.DE finance chief Hans D...    295.0  180.10   \n",
       "2   - Toyota Motor Corp is collaborating with two...     51.0  177.20   \n",
       "3   - Volkswagen AG VOWG_p.DE faces penalties up ...    209.0  185.60   \n",
       "4   - When the International Council for Clean Tr...  20900.0  149.88   \n",
       "\n",
       "   % Change in Stock Price  % Change in Volume  \\\n",
       "0                      NaN                 NaN   \n",
       "1                -5.953003          -15.954416   \n",
       "2                -1.610217          -82.711864   \n",
       "3                 4.740406          309.803922   \n",
       "4               -19.245690         9900.000000   \n",
       "\n",
       "                                        Text (clean)  \n",
       "0  Toyota Motor Corp 7203.T rival global automake...  \n",
       "1  Volkswagen VOWG_p de finance chief Hans Dieter...  \n",
       "2  Toyota Motor Corp collaborate U.S. university ...  \n",
       "3  Volkswagen AG VOWG_p DE face penalty $ 18 bill...  \n",
       "4  International Council Clean Transportation ICC...  "
      ]
     },
     "execution_count": 11,
     "metadata": {},
     "output_type": "execute_result"
    }
   ],
   "source": [
    "text_clean = []\n",
    "for ind, row in df.iterrows():\n",
    "    \n",
    "    # lower casing\n",
    "    text_lower = row['Text'].lower()\n",
    "    \n",
    "    # tokenization\n",
    "    text_nlp = nlp(row['Text']) \n",
    "    \n",
    "    # remove punctuation and empty space\n",
    "    text_nlp_clean = [word for word in text_nlp if not word.is_punct | word.is_space]\n",
    "    \n",
    "    # Remove stop words\n",
    "    text_nlp_clean = [word for word in text_nlp_clean if word.is_stop == False]\n",
    "    \n",
    "    # Lemmatize tokens\n",
    "    text_nlp_clean = [word.lemma_ for word in text_nlp_clean]\n",
    "    \n",
    "    # add preprocessed text to list\n",
    "    text_clean.append(text_nlp_clean)\n",
    "\n",
    "# turn list of strings to string\n",
    "to_string = []\n",
    "for text in text_clean:\n",
    "    to_string.append(' '.join(text))\n",
    "\n",
    "\n",
    "df['Text (clean)'] = to_string\n",
    "df.head()"
   ]
  },
  {
   "cell_type": "markdown",
   "metadata": {
    "id": "i0agqlmOCK59"
   },
   "source": [
    "\n",
    "# Using a Pretrained Model "
   ]
  },
  {
   "cell_type": "code",
   "execution_count": 12,
   "metadata": {
    "id": "pzKIIE-CCK59"
   },
   "outputs": [],
   "source": [
    "from nltk.sentiment import SentimentIntensityAnalyzer"
   ]
  },
  {
   "cell_type": "code",
   "execution_count": 13,
   "metadata": {
    "id": "yFeFaQWTCK59"
   },
   "outputs": [],
   "source": [
    "# a function to return sentiment score\n",
    "def polarity_score(text):\n",
    "    sid = SentimentIntensityAnalyzer()\n",
    "    return sid.polarity_scores(text)['compound']\n",
    "\n",
    "vader_score = []\n",
    "for text in df['Text (clean)']:\n",
    "    score = polarity_score(text)\n",
    "    vader_score.append(score)\n",
    "\n",
    "df['Vader Sentiment Score'] = vader_score"
   ]
  },
  {
   "cell_type": "code",
   "execution_count": 14,
   "metadata": {
    "id": "k2E0AfcdCK59",
    "outputId": "be912484-1aaa-458f-fa0d-798663e1ff9a"
   },
   "outputs": [
    {
     "data": {
      "text/html": [
       "<div>\n",
       "<style scoped>\n",
       "    .dataframe tbody tr th:only-of-type {\n",
       "        vertical-align: middle;\n",
       "    }\n",
       "\n",
       "    .dataframe tbody tr th {\n",
       "        vertical-align: top;\n",
       "    }\n",
       "\n",
       "    .dataframe thead th {\n",
       "        text-align: right;\n",
       "    }\n",
       "</style>\n",
       "<table border=\"1\" class=\"dataframe\">\n",
       "  <thead>\n",
       "    <tr style=\"text-align: right;\">\n",
       "      <th></th>\n",
       "      <th>Date</th>\n",
       "      <th>Header</th>\n",
       "      <th>Text</th>\n",
       "      <th>Volume</th>\n",
       "      <th>Open</th>\n",
       "      <th>% Change in Stock Price</th>\n",
       "      <th>% Change in Volume</th>\n",
       "      <th>Text (clean)</th>\n",
       "      <th>Vader Sentiment Score</th>\n",
       "    </tr>\n",
       "  </thead>\n",
       "  <tbody>\n",
       "    <tr>\n",
       "      <th>0</th>\n",
       "      <td>2015-08-18</td>\n",
       "      <td>Global automakers divert shipments from China'...</td>\n",
       "      <td>- Toyota Motor Corp 7203.T and rival global a...</td>\n",
       "      <td>351.0</td>\n",
       "      <td>191.50</td>\n",
       "      <td>NaN</td>\n",
       "      <td>NaN</td>\n",
       "      <td>Toyota Motor Corp 7203.T rival global automake...</td>\n",
       "      <td>-0.9571</td>\n",
       "    </tr>\n",
       "    <tr>\n",
       "      <th>1</th>\n",
       "      <td>2015-09-03</td>\n",
       "      <td>VW's finance chief set to become new chairman</td>\n",
       "      <td>- Volkswagen's VOWG_p.DE finance chief Hans D...</td>\n",
       "      <td>295.0</td>\n",
       "      <td>180.10</td>\n",
       "      <td>-5.953003</td>\n",
       "      <td>-15.954416</td>\n",
       "      <td>Volkswagen VOWG_p de finance chief Hans Dieter...</td>\n",
       "      <td>0.9864</td>\n",
       "    </tr>\n",
       "    <tr>\n",
       "      <th>2</th>\n",
       "      <td>2015-09-04</td>\n",
       "      <td>Toyota partners with Stanford, MIT on self-dri...</td>\n",
       "      <td>- Toyota Motor Corp is collaborating with two...</td>\n",
       "      <td>51.0</td>\n",
       "      <td>177.20</td>\n",
       "      <td>-1.610217</td>\n",
       "      <td>-82.711864</td>\n",
       "      <td>Toyota Motor Corp collaborate U.S. university ...</td>\n",
       "      <td>0.9917</td>\n",
       "    </tr>\n",
       "    <tr>\n",
       "      <th>3</th>\n",
       "      <td>2015-09-18</td>\n",
       "      <td>Volkswagen could face $18 billion penalties fr...</td>\n",
       "      <td>- Volkswagen AG VOWG_p.DE faces penalties up ...</td>\n",
       "      <td>209.0</td>\n",
       "      <td>185.60</td>\n",
       "      <td>4.740406</td>\n",
       "      <td>309.803922</td>\n",
       "      <td>Volkswagen AG VOWG_p DE face penalty $ 18 bill...</td>\n",
       "      <td>0.8720</td>\n",
       "    </tr>\n",
       "    <tr>\n",
       "      <th>4</th>\n",
       "      <td>2015-09-21</td>\n",
       "      <td>Volkswagen's 'clean diesel' strategy unraveled...</td>\n",
       "      <td>- When the International Council for Clean Tr...</td>\n",
       "      <td>20900.0</td>\n",
       "      <td>149.88</td>\n",
       "      <td>-19.245690</td>\n",
       "      <td>9900.000000</td>\n",
       "      <td>International Council Clean Transportation ICC...</td>\n",
       "      <td>0.8024</td>\n",
       "    </tr>\n",
       "  </tbody>\n",
       "</table>\n",
       "</div>"
      ],
      "text/plain": [
       "         Date                                             Header  \\\n",
       "0  2015-08-18  Global automakers divert shipments from China'...   \n",
       "1  2015-09-03      VW's finance chief set to become new chairman   \n",
       "2  2015-09-04  Toyota partners with Stanford, MIT on self-dri...   \n",
       "3  2015-09-18  Volkswagen could face $18 billion penalties fr...   \n",
       "4  2015-09-21  Volkswagen's 'clean diesel' strategy unraveled...   \n",
       "\n",
       "                                                Text   Volume    Open  \\\n",
       "0   - Toyota Motor Corp 7203.T and rival global a...    351.0  191.50   \n",
       "1   - Volkswagen's VOWG_p.DE finance chief Hans D...    295.0  180.10   \n",
       "2   - Toyota Motor Corp is collaborating with two...     51.0  177.20   \n",
       "3   - Volkswagen AG VOWG_p.DE faces penalties up ...    209.0  185.60   \n",
       "4   - When the International Council for Clean Tr...  20900.0  149.88   \n",
       "\n",
       "   % Change in Stock Price  % Change in Volume  \\\n",
       "0                      NaN                 NaN   \n",
       "1                -5.953003          -15.954416   \n",
       "2                -1.610217          -82.711864   \n",
       "3                 4.740406          309.803922   \n",
       "4               -19.245690         9900.000000   \n",
       "\n",
       "                                        Text (clean)  Vader Sentiment Score  \n",
       "0  Toyota Motor Corp 7203.T rival global automake...                -0.9571  \n",
       "1  Volkswagen VOWG_p de finance chief Hans Dieter...                 0.9864  \n",
       "2  Toyota Motor Corp collaborate U.S. university ...                 0.9917  \n",
       "3  Volkswagen AG VOWG_p DE face penalty $ 18 bill...                 0.8720  \n",
       "4  International Council Clean Transportation ICC...                 0.8024  "
      ]
     },
     "execution_count": 14,
     "metadata": {},
     "output_type": "execute_result"
    }
   ],
   "source": [
    "df.head()"
   ]
  },
  {
   "cell_type": "markdown",
   "metadata": {
    "id": "yzyJ3bWLCK59"
   },
   "source": [
    "## Sentiment Analysis"
   ]
  },
  {
   "cell_type": "code",
   "execution_count": 15,
   "metadata": {
    "id": "5QVF10MvCK59"
   },
   "outputs": [],
   "source": [
    "# run this cell to import nltk\n",
    "import nltk\n",
    "from os import getcwd\n",
    "import numpy as np\n",
    "import pandas as pd\n",
    "from nltk.corpus import twitter_samples \n",
    "from utils import process_tweet, build_freqs"
   ]
  },
  {
   "cell_type": "code",
   "execution_count": 16,
   "metadata": {
    "id": "-50moZMOCK59",
    "outputId": "9a9f8eef-3779-4dae-bf7c-5a30539f685a"
   },
   "outputs": [
    {
     "name": "stderr",
     "output_type": "stream",
     "text": [
      "[nltk_data] Downloading package twitter_samples to\n",
      "[nltk_data]     C:\\Users\\aashi\\AppData\\Roaming\\nltk_data...\n",
      "[nltk_data]   Package twitter_samples is already up-to-date!\n",
      "[nltk_data] Downloading package stopwords to\n",
      "[nltk_data]     C:\\Users\\aashi\\AppData\\Roaming\\nltk_data...\n",
      "[nltk_data]   Package stopwords is already up-to-date!\n"
     ]
    },
    {
     "data": {
      "text/plain": [
       "True"
      ]
     },
     "execution_count": 16,
     "metadata": {},
     "output_type": "execute_result"
    }
   ],
   "source": [
    "nltk.download('twitter_samples')\n",
    "nltk.download('stopwords')"
   ]
  },
  {
   "cell_type": "code",
   "execution_count": 17,
   "metadata": {
    "id": "KyJIZXYaCK59"
   },
   "outputs": [],
   "source": [
    "\n",
    "# select the set of positive and negative tweets\n",
    "all_positive_tweets = twitter_samples.strings('positive_tweets.json')\n",
    "all_negative_tweets = twitter_samples.strings('negative_tweets.json')"
   ]
  },
  {
   "cell_type": "code",
   "execution_count": 18,
   "metadata": {
    "id": "02bzHEtdCK59"
   },
   "outputs": [],
   "source": [
    "# split the data into two pieces (80-20), one for training and one for testing (validation set)  \n",
    "test_pos = all_positive_tweets[4000:]\n",
    "train_pos = all_positive_tweets[:4000]\n",
    "test_neg = all_negative_tweets[4000:]\n",
    "train_neg = all_negative_tweets[:4000]\n",
    "\n",
    "train_x = train_pos + train_neg \n",
    "test_x = test_pos + test_neg"
   ]
  },
  {
   "cell_type": "code",
   "execution_count": 19,
   "metadata": {
    "id": "8NDTQetbCK59"
   },
   "outputs": [],
   "source": [
    "# combine positive and negative labels\n",
    "train_y = np.append(np.ones((len(train_pos), 1)), np.zeros((len(train_neg), 1)), axis=0)\n",
    "test_y = np.append(np.ones((len(test_pos), 1)), np.zeros((len(test_neg), 1)), axis=0)"
   ]
  },
  {
   "cell_type": "code",
   "execution_count": 20,
   "metadata": {
    "id": "CSPEaAxWCK59",
    "outputId": "21845bcb-afe2-44a6-d983-f6a42a76826d"
   },
   "outputs": [
    {
     "name": "stdout",
     "output_type": "stream",
     "text": [
      "train_y.shape = (8000, 1)\n",
      "test_y.shape = (2000, 1)\n"
     ]
    }
   ],
   "source": [
    "# Print the shape train and test sets\n",
    "print(\"train_y.shape = \" + str(train_y.shape))\n",
    "print(\"test_y.shape = \" + str(test_y.shape))"
   ]
  },
  {
   "cell_type": "code",
   "execution_count": 21,
   "metadata": {
    "id": "bEPYifYRCK59",
    "outputId": "d9de8444-e6b7-401f-d580-8cc2a6194c32"
   },
   "outputs": [
    {
     "name": "stdout",
     "output_type": "stream",
     "text": [
      "type(freqs) = <class 'dict'>\n",
      "len(freqs) = 11340\n"
     ]
    }
   ],
   "source": [
    "# create frequency dictionary\n",
    "freqs = build_freqs(train_x, train_y)\n",
    "\n",
    "# check the output\n",
    "print(\"type(freqs) = \" + str(type(freqs)))\n",
    "print(\"len(freqs) = \" + str(len(freqs.keys())))"
   ]
  },
  {
   "cell_type": "code",
   "execution_count": 22,
   "metadata": {
    "id": "wpiDY7cnCK59"
   },
   "outputs": [],
   "source": [
    "# UNQ_C3 (UNIQUE CELL IDENTIFIER, DO NOT EDIT)\n",
    "def extract_features(tweet, freqs):\n",
    "    '''\n",
    "    Input: \n",
    "        tweet: a list of words for one tweet\n",
    "        freqs: a dictionary corresponding to the frequencies of each tuple (word, label)\n",
    "    Output: \n",
    "        x: a feature vector of dimension (1,3)\n",
    "    '''\n",
    "    # process_tweet tokenizes, stems, and removes stopwords\n",
    "    word_l = process_tweet(tweet)\n",
    "    \n",
    "    # 3 elements in the form of a 1 x 3 vector\n",
    "    x = np.zeros((1, 3)) \n",
    "    \n",
    "    #bias term is set to 1\n",
    "    x[0,0] = 1 \n",
    "    \n",
    "    ### START CODE HERE (REPLACE INSTANCES OF 'None' with your code) ###\n",
    "    \n",
    "    # loop through each word in the list of words\n",
    "    for word in word_l:\n",
    "        \n",
    "        # increment the word count for the positive label 1\n",
    "        \n",
    "        x[0,1] += freqs.get((word,1),0)\n",
    "        \n",
    "        # increment the word count for the negative label 0\n",
    "        x[0,2] += freqs.get((word,0),0)\n",
    "        \n",
    "    ### END CODE HERE ###\n",
    "    assert(x.shape == (1, 3))\n",
    "    return x"
   ]
  },
  {
   "cell_type": "code",
   "execution_count": 23,
   "metadata": {
    "id": "luM4DgnWCK59"
   },
   "outputs": [],
   "source": [
    "# collect the features 'x' and stack them into a matrix 'X'\n",
    "X = np.zeros((len(train_x), 3))\n",
    "for i in range(len(train_x)):\n",
    "    X[i, :]= extract_features(train_x[i], freqs)\n",
    "\n",
    "# training labels corresponding to X\n",
    "Y = train_y"
   ]
  },
  {
   "cell_type": "code",
   "execution_count": 24,
   "metadata": {
    "id": "h0kKiG2CCK59",
    "outputId": "5c0093ce-e1b4-40f0-c027-4c2aea2622b6"
   },
   "outputs": [
    {
     "data": {
      "text/plain": [
       "(8000, 1)"
      ]
     },
     "execution_count": 24,
     "metadata": {},
     "output_type": "execute_result"
    }
   ],
   "source": [
    "Y.shape"
   ]
  },
  {
   "cell_type": "code",
   "execution_count": 25,
   "metadata": {
    "id": "EE9iGomKCK59"
   },
   "outputs": [],
   "source": [
    "from sklearn.model_selection import GridSearchCV\n",
    "from sklearn.linear_model import LogisticRegression\n",
    "from sklearn import svm\n",
    "from sklearn.pipeline import Pipeline"
   ]
  },
  {
   "cell_type": "markdown",
   "metadata": {
    "id": "WNlZEC3HCK59"
   },
   "source": [
    "### SVM Parameters"
   ]
  },
  {
   "cell_type": "code",
   "execution_count": 26,
   "metadata": {
    "id": "lgNH2n_GCK59"
   },
   "outputs": [],
   "source": [
    "param_grid = {'C': [0.0001, 0.001, 0.01, 0.1, 1]}  "
   ]
  },
  {
   "cell_type": "code",
   "execution_count": 27,
   "metadata": {
    "id": "X_GpQrGnCK59",
    "outputId": "cd49dd77-bade-494d-b231-4476ee2b721a"
   },
   "outputs": [
    {
     "name": "stderr",
     "output_type": "stream",
     "text": [
      "C:\\Users\\aashi\\Anaconda3\\lib\\site-packages\\sklearn\\utils\\validation.py:72: DataConversionWarning: A column-vector y was passed when a 1d array was expected. Please change the shape of y to (n_samples, ), for example using ravel().\n",
      "  return f(**kwargs)\n"
     ]
    },
    {
     "data": {
      "text/plain": [
       "LogisticRegression(random_state=0)"
      ]
     },
     "execution_count": 27,
     "metadata": {},
     "output_type": "execute_result"
    }
   ],
   "source": [
    "# Fitting Logistic Regression to the Training set\n",
    "from sklearn.linear_model import LogisticRegression\n",
    "classifier = LogisticRegression(random_state = 0)\n",
    "classifier.fit(X, Y)"
   ]
  },
  {
   "cell_type": "code",
   "execution_count": 28,
   "metadata": {
    "id": "muWmMa7NCK59"
   },
   "outputs": [],
   "source": [
    "\n",
    "# UNQ_C4 (UNIQUE CELL IDENTIFIER, DO NOT EDIT)\n",
    "def predict_tweet(tweet, freqs):\n",
    "    '''\n",
    "    Input: \n",
    "        tweet: a string\n",
    "        freqs: a dictionary corresponding to the frequencies of each tuple (word, label)\n",
    "        theta: (3,1) vector of weights\n",
    "    Output: \n",
    "        y_pred: the probability of a tweet being positive or negative\n",
    "    '''\n",
    "    ### START CODE HERE (REPLACE INSTANCES OF 'None' with your code) ###\n",
    "    \n",
    "    # extract the features of the tweet and store it into x\n",
    "    x = extract_features(tweet,freqs)\n",
    "    \n",
    "    # make the prediction using x and theta\n",
    "    y_pred = classifier.predict(x)\n",
    "    \n",
    "    ### END CODE HERE ###\n",
    "    \n",
    "    return y_pred"
   ]
  },
  {
   "cell_type": "code",
   "execution_count": 29,
   "metadata": {
    "id": "F2oD0NYiCK59"
   },
   "outputs": [],
   "source": [
    "# UNQ_C4 (UNIQUE CELL IDENTIFIER, DO NOT EDIT)\n",
    "def predict_tweet_prob(tweet, freqs):\n",
    "    '''\n",
    "    Input: \n",
    "        tweet: a string\n",
    "        freqs: a dictionary corresponding to the frequencies of each tuple (word, label)\n",
    "        theta: (3,1) vector of weights\n",
    "    Output: \n",
    "        y_pred: the probability of a tweet being positive or negative\n",
    "    '''\n",
    "    ### START CODE HERE (REPLACE INSTANCES OF 'None' with your code) ###\n",
    "    \n",
    "    # extract the features of the tweet and store it into x\n",
    "    x = extract_features(tweet,freqs)\n",
    "    \n",
    "    # make the prediction using x and theta\n",
    "    y_pred = classifier.predict_proba(x)\n",
    "    \n",
    "    ### END CODE HERE ###\n",
    "    \n",
    "    return y_pred"
   ]
  },
  {
   "cell_type": "code",
   "execution_count": 30,
   "metadata": {
    "id": "LgjNbt--CK59",
    "outputId": "6f8b757e-4ded-424d-d71b-0203befdf9e3"
   },
   "outputs": [
    {
     "data": {
      "text/plain": [
       "array([0.])"
      ]
     },
     "execution_count": 30,
     "metadata": {},
     "output_type": "execute_result"
    }
   ],
   "source": [
    "\n",
    "my_tweet = 'The plot was terrible and I was sad until the ending!'\n",
    "predict_tweet(my_tweet, freqs)"
   ]
  },
  {
   "cell_type": "code",
   "execution_count": 31,
   "metadata": {},
   "outputs": [
    {
     "name": "stdout",
     "output_type": "stream",
     "text": [
      "Requirement already satisfied: torch in c:\\users\\aashi\\anaconda3\\lib\\site-packages (1.7.0)Note: you may need to restart the kernel to use updated packages.\n",
      "Requirement already satisfied: future in c:\\users\\aashi\\anaconda3\\lib\\site-packages (from torch) (0.18.2)\n",
      "Requirement already satisfied: typing_extensions in c:\\users\\aashi\\anaconda3\\lib\\site-packages (from torch) (3.7.4.3)\n",
      "Requirement already satisfied: dataclasses in c:\\users\\aashi\\anaconda3\\lib\\site-packages (from torch) (0.6)\n",
      "Requirement already satisfied: numpy in c:\\users\\aashi\\anaconda3\\lib\\site-packages (from torch) (1.19.2)\n",
      "\n"
     ]
    }
   ],
   "source": [
    "pip install torch"
   ]
  },
  {
   "cell_type": "markdown",
   "metadata": {
    "id": "ylZBn2NkCTDh"
   },
   "source": [
    "#START OF DEEP LEARNING"
   ]
  },
  {
   "cell_type": "code",
   "execution_count": 32,
   "metadata": {
    "colab": {
     "base_uri": "https://localhost:8080/"
    },
    "executionInfo": {
     "elapsed": 9857,
     "status": "ok",
     "timestamp": 1607039829340,
     "user": {
      "displayName": "Fahim Ishrak",
      "photoUrl": "https://lh3.googleusercontent.com/a-/AOh14Ggezk-2c-RhJe7s98IHcOwr_FzjJAx4Bw_3AS5xPt8=s64",
      "userId": "00540352956280049870"
     },
     "user_tz": 300
    },
    "id": "n662yrVWCRdR",
    "outputId": "22fae806-cd9a-4613-8a24-4b279e401f03"
   },
   "outputs": [
    {
     "name": "stderr",
     "output_type": "stream",
     "text": [
      "C:\\Users\\aashi\\Anaconda3\\lib\\site-packages\\ipykernel_launcher.py:4: FutureWarning: Passing a negative integer is deprecated in version 1.0 and will not be supported in future version. Instead, use None to not limit the column width.\n",
      "  after removing the cwd from sys.path.\n",
      "C:\\Users\\aashi\\Anaconda3\\lib\\site-packages\\tensorflow\\python\\framework\\dtypes.py:526: FutureWarning: Passing (type, 1) or '1type' as a synonym of type is deprecated; in a future version of numpy, it will be understood as (type, (1,)) / '(1,)type'.\n",
      "  _np_qint8 = np.dtype([(\"qint8\", np.int8, 1)])\n",
      "C:\\Users\\aashi\\Anaconda3\\lib\\site-packages\\tensorflow\\python\\framework\\dtypes.py:527: FutureWarning: Passing (type, 1) or '1type' as a synonym of type is deprecated; in a future version of numpy, it will be understood as (type, (1,)) / '(1,)type'.\n",
      "  _np_quint8 = np.dtype([(\"quint8\", np.uint8, 1)])\n",
      "C:\\Users\\aashi\\Anaconda3\\lib\\site-packages\\tensorflow\\python\\framework\\dtypes.py:528: FutureWarning: Passing (type, 1) or '1type' as a synonym of type is deprecated; in a future version of numpy, it will be understood as (type, (1,)) / '(1,)type'.\n",
      "  _np_qint16 = np.dtype([(\"qint16\", np.int16, 1)])\n",
      "C:\\Users\\aashi\\Anaconda3\\lib\\site-packages\\tensorflow\\python\\framework\\dtypes.py:529: FutureWarning: Passing (type, 1) or '1type' as a synonym of type is deprecated; in a future version of numpy, it will be understood as (type, (1,)) / '(1,)type'.\n",
      "  _np_quint16 = np.dtype([(\"quint16\", np.uint16, 1)])\n",
      "C:\\Users\\aashi\\Anaconda3\\lib\\site-packages\\tensorflow\\python\\framework\\dtypes.py:530: FutureWarning: Passing (type, 1) or '1type' as a synonym of type is deprecated; in a future version of numpy, it will be understood as (type, (1,)) / '(1,)type'.\n",
      "  _np_qint32 = np.dtype([(\"qint32\", np.int32, 1)])\n",
      "C:\\Users\\aashi\\Anaconda3\\lib\\site-packages\\tensorflow\\python\\framework\\dtypes.py:535: FutureWarning: Passing (type, 1) or '1type' as a synonym of type is deprecated; in a future version of numpy, it will be understood as (type, (1,)) / '(1,)type'.\n",
      "  np_resource = np.dtype([(\"resource\", np.ubyte, 1)])\n"
     ]
    },
    {
     "ename": "OSError",
     "evalue": "[WinError 1455] The paging file is too small for this operation to complete. Error loading \"C:\\Users\\aashi\\Anaconda3\\lib\\site-packages\\torch\\lib\\caffe2_detectron_ops_gpu.dll\" or one of its dependencies.",
     "output_type": "error",
     "traceback": [
      "\u001b[1;31m---------------------------------------------------------------------------\u001b[0m",
      "\u001b[1;31mOSError\u001b[0m                                   Traceback (most recent call last)",
      "\u001b[1;32m<ipython-input-32-8269f5efa1dc>\u001b[0m in \u001b[0;36m<module>\u001b[1;34m\u001b[0m\n\u001b[0;32m     13\u001b[0m \u001b[1;32mimport\u001b[0m \u001b[0mpandas\u001b[0m \u001b[1;32mas\u001b[0m \u001b[0mpd\u001b[0m\u001b[1;33m\u001b[0m\u001b[1;33m\u001b[0m\u001b[0m\n\u001b[0;32m     14\u001b[0m \u001b[1;32mimport\u001b[0m \u001b[0mjson\u001b[0m\u001b[1;33m\u001b[0m\u001b[1;33m\u001b[0m\u001b[0m\n\u001b[1;32m---> 15\u001b[1;33m \u001b[1;32mimport\u001b[0m \u001b[0mtorch\u001b[0m\u001b[1;33m\u001b[0m\u001b[1;33m\u001b[0m\u001b[0m\n\u001b[0m\u001b[0;32m     16\u001b[0m \u001b[1;32mimport\u001b[0m \u001b[0mtorch\u001b[0m\u001b[1;33m.\u001b[0m\u001b[0mnn\u001b[0m \u001b[1;32mas\u001b[0m \u001b[0mnn\u001b[0m\u001b[1;33m\u001b[0m\u001b[1;33m\u001b[0m\u001b[0m\n\u001b[0;32m     17\u001b[0m \u001b[1;32mimport\u001b[0m \u001b[0mnltk\u001b[0m\u001b[1;33m\u001b[0m\u001b[1;33m\u001b[0m\u001b[0m\n",
      "\u001b[1;32m~\\Anaconda3\\lib\\site-packages\\torch\\__init__.py\u001b[0m in \u001b[0;36m<module>\u001b[1;34m\u001b[0m\n\u001b[0;32m    115\u001b[0m                 \u001b[0merr\u001b[0m \u001b[1;33m=\u001b[0m \u001b[0mctypes\u001b[0m\u001b[1;33m.\u001b[0m\u001b[0mWinError\u001b[0m\u001b[1;33m(\u001b[0m\u001b[0mlast_error\u001b[0m\u001b[1;33m)\u001b[0m\u001b[1;33m\u001b[0m\u001b[1;33m\u001b[0m\u001b[0m\n\u001b[0;32m    116\u001b[0m                 \u001b[0merr\u001b[0m\u001b[1;33m.\u001b[0m\u001b[0mstrerror\u001b[0m \u001b[1;33m+=\u001b[0m \u001b[1;34mf' Error loading \"{dll}\" or one of its dependencies.'\u001b[0m\u001b[1;33m\u001b[0m\u001b[1;33m\u001b[0m\u001b[0m\n\u001b[1;32m--> 117\u001b[1;33m                 \u001b[1;32mraise\u001b[0m \u001b[0merr\u001b[0m\u001b[1;33m\u001b[0m\u001b[1;33m\u001b[0m\u001b[0m\n\u001b[0m\u001b[0;32m    118\u001b[0m             \u001b[1;32melif\u001b[0m \u001b[0mres\u001b[0m \u001b[1;32mis\u001b[0m \u001b[1;32mnot\u001b[0m \u001b[1;32mNone\u001b[0m\u001b[1;33m:\u001b[0m\u001b[1;33m\u001b[0m\u001b[1;33m\u001b[0m\u001b[0m\n\u001b[0;32m    119\u001b[0m                 \u001b[0mis_loaded\u001b[0m \u001b[1;33m=\u001b[0m \u001b[1;32mTrue\u001b[0m\u001b[1;33m\u001b[0m\u001b[1;33m\u001b[0m\u001b[0m\n",
      "\u001b[1;31mOSError\u001b[0m: [WinError 1455] The paging file is too small for this operation to complete. Error loading \"C:\\Users\\aashi\\Anaconda3\\lib\\site-packages\\torch\\lib\\caffe2_detectron_ops_gpu.dll\" or one of its dependencies."
     ]
    }
   ],
   "source": [
    "import sklearn\n",
    "import numpy as np\n",
    "import pandas as pd\n",
    "pd.set_option('display.max_colwidth', -1)\n",
    "import sklearn\n",
    "import sklearn.ensemble\n",
    "from sklearn.metrics import accuracy_score, confusion_matrix\n",
    "import sklearn.metrics\n",
    "import tensorflow as tf\n",
    "from scipy.special import softmax\n",
    "import os\n",
    "import numpy as np\n",
    "import pandas as pd\n",
    "import json\n",
    "import torch\n",
    "import torch.nn as nn\n",
    "import nltk\n",
    "from tqdm import tqdm\n",
    "import spacy\n",
    "import torch\n",
    "import torchtext\n",
    "import torchtext.data\n",
    "import torch.nn as nn\n",
    "import torch.nn.functional as F\n",
    "from scipy.special import softmax\n",
    "from torchtext.vocab import Vocab\n",
    "from nltk.corpus import twitter_samples \n",
    "\n",
    "nlp = spacy.load('en')\n"
   ]
  },
  {
   "cell_type": "code",
   "execution_count": null,
   "metadata": {
    "id": "XWZh1kuyCRkw"
   },
   "outputs": [],
   "source": [
    "device = torch.device(\"cuda\" if torch.cuda.is_available() else \"cpu\")\n",
    "torch.manual_seed(42)\n",
    "np.random.seed(42)\n",
    "torch.backends.cudnn.deterministic = True\n",
    "torch.backends.cudnn.benchmark = False"
   ]
  },
  {
   "cell_type": "code",
   "execution_count": null,
   "metadata": {
    "id": "__gYrL6nCRrm"
   },
   "outputs": [],
   "source": [
    "# %% ----------------------------------- Hyper Parameters --------------------------------------------------------------\n",
    "class Args:\n",
    "    def __init__(self):\n",
    "        self.seq_len = \"get_max_from_data\"\n",
    "        self.embedding_dim = 50\n",
    "        self.n_epochs = 10\n",
    "        self.lr = 1e-2\n",
    "        self.batch_size = 512\n",
    "        self.train = True\n",
    "        self.save_model = True\n",
    "\n",
    "\n",
    "args = Args()"
   ]
  },
  {
   "cell_type": "code",
   "execution_count": null,
   "metadata": {
    "id": "9s4eSabVCRxz"
   },
   "outputs": [],
   "source": [
    "# %% ----------------------------------- Helper Functions --------------------------------------------------------------\n",
    "def acc(x, y, return_labels=False):\n",
    "    with torch.no_grad():\n",
    "        logits = torch.empty(len(x), 2)\n",
    "        for batch in range(len(x) // args.batch_size + 1):\n",
    "            inds = slice(batch * args.batch_size, (batch + 1) * args.batch_size)\n",
    "            logits[inds] = model(x[inds])\n",
    "        pred_labels = np.argmax(logits.cpu().numpy(), axis=1)\n",
    "    if return_labels:\n",
    "        return pred_labels\n",
    "    else:\n",
    "        return 100*accuracy_score(y.cpu().numpy(), pred_labels)\n",
    "\n",
    "\n",
    "def extract_vocab_dict_and_msl(sentences_train, sentences_dev):\n",
    "    \"\"\" Tokenizes all the sentences and gets a dictionary of unique tokens and also the maximum sequence length \"\"\"\n",
    "    tokens, ms_len = [], 0\n",
    "    for sentence in list(sentences_train) + list(sentences_dev):\n",
    "        tokens_in_sentence = nltk.word_tokenize(sentence)\n",
    "        if ms_len < len(tokens_in_sentence):\n",
    "            ms_len = len(tokens_in_sentence)\n",
    "        tokens += tokens_in_sentence\n",
    "    token_vocab = {key: i for key, i in zip(set(tokens), range(1, len(set(tokens))+1))}\n",
    "    if len(np.unique(list(token_vocab.values()))) != len(token_vocab):\n",
    "        \"There are some rep words...\"\n",
    "    return token_vocab, ms_len\n",
    "\n",
    "\n",
    "def convert_to_ids(raw_sentences, vocab_dict, pad_to):\n",
    "    \"\"\" Takes an NumPy array of raw text sentences and converts to a sequence of token ids \"\"\"\n",
    "    x = np.empty((len(raw_sentences), pad_to))\n",
    "    for idx, sentence in enumerate(raw_sentences):\n",
    "        word_ids = []\n",
    "        for token in nltk.word_tokenize(sentence):\n",
    "            try:\n",
    "                word_ids.append(vocab_dict[token])\n",
    "            except:\n",
    "                word_ids.append(vocab_dict[token])\n",
    "        if pad_to < len(word_ids):\n",
    "            x[idx] = word_ids[:pad_to]\n",
    "        else:\n",
    "            x[idx] = word_ids + [0] * (pad_to - len(word_ids))\n",
    "    return x\n",
    "\n",
    "\n",
    "def get_glove_embeddings(vocab_dict):\n",
    "    with open(\"glove.6B.50d.txt\", \"r\") as s:\n",
    "        glove = s.read()\n",
    "    embeddings_dict = {}\n",
    "    for line in glove.split(\"\\n\")[:-1]:\n",
    "        text = line.split()\n",
    "        if text[0] in vocab_dict:\n",
    "            embeddings_dict[vocab_dict[text[0]]] = torch.from_numpy(np.array(text[1:], dtype=\"float32\"))\n",
    "    return embeddings_dict\n",
    "\n",
    "\n",
    "def get_glove_table(vocab_dict, glove_dict):\n",
    "    lookup_table = torch.empty((len(vocab_dict)+2, 50))\n",
    "    for token_id in sorted(vocab_dict.values()):\n",
    "        if token_id in glove_dict:\n",
    "            lookup_table[token_id] = glove_dict[token_id]\n",
    "        else:\n",
    "            lookup_table[token_id] = torch.zeros((1, 50))  # For unknown tokens\n",
    "    lookup_table[0] = torch.zeros((1, 50))\n",
    "    return lookup_table\n",
    "\n"
   ]
  },
  {
   "cell_type": "code",
   "execution_count": null,
   "metadata": {
    "id": "pTRgZ_19CR0N"
   },
   "outputs": [],
   "source": [
    "data_train = pd.read_csv(\"original_data/train.tsv\", sep=\"\\t\")\n",
    "x_train_raw, y_train = data_train[\"sentence\"].values, torch.LongTensor(data_train[\"label\"].values).to(device)\n",
    "data_dev = pd.read_csv(\"original_data/dev.tsv\", sep=\"\\t\")\n",
    "x_dev_raw, y_dev = data_dev[\"sentence\"].values, torch.LongTensor(data_dev[\"label\"].values).to(device)\n"
   ]
  },
  {
   "cell_type": "code",
   "execution_count": null,
   "metadata": {
    "id": "sP6ee2_oCR3p"
   },
   "outputs": [],
   "source": [
    "# %% -------------------------------------- Data Prep ------------------------------------------------------------------\n",
    "try:\n",
    "    with open(\"example_prep_data/vocab_dict.json\", \"r\") as s:\n",
    "        token_ids = json.load(s)\n",
    "    msl = np.load(\"example_prep_data/max_sequence_length.npy\").item()\n",
    "except:\n",
    "    print(\"Tokenizing all the examples to get a vocab dict and the maximum sequence length...\")\n",
    "    token_ids, msl = extract_vocab_dict_and_msl(x_train_raw, x_dev_raw)\n",
    "    os.mkdir(\"example_prep_data\")\n",
    "    with open(\"example_prep_data/vocab_dict.json\", \"w\") as s:\n",
    "        json.dump(token_ids, s)\n",
    "    np.save(\"example_prep_data/max_sequence_length.npy\", np.array([msl]))\n",
    "if args.seq_len == \"get_max_from_data\":\n",
    "    args.seq_len = msl\n",
    "\n",
    "glove_embeddings = get_glove_embeddings(token_ids)\n",
    "\n",
    "try:\n",
    "    x_train = np.load(\"example_prep_data/prep_train_len{}.npy\".format(args.seq_len))\n",
    "    x_dev = np.load(\"example_prep_data/prep_dev_len{}.npy\".format(args.seq_len))\n",
    "except:\n",
    "    print(\"Converting all the sentences to sequences of token ids...\")\n",
    "    x_train = convert_to_ids(x_train_raw, token_ids, args.seq_len)\n",
    "    np.save(\"example_prep_data/prep_train_len{}.npy\".format(args.seq_len), x_train)\n",
    "    x_dev = convert_to_ids(x_dev_raw, token_ids, args.seq_len)\n",
    "    np.save(\"example_prep_data/prep_dev_len{}.npy\".format(args.seq_len), x_dev)\n",
    "\n",
    "\n"
   ]
  },
  {
   "cell_type": "code",
   "execution_count": null,
   "metadata": {
    "id": "hTbF3dy5CRuw"
   },
   "outputs": [],
   "source": [
    "x_train, x_dev = torch.LongTensor(x_train).to(device), torch.LongTensor(x_dev).to(device)"
   ]
  },
  {
   "cell_type": "code",
   "execution_count": null,
   "metadata": {
    "id": "bDZWQ6G_CRoQ"
   },
   "outputs": [],
   "source": [
    "# %% -------------------------------------- CNN Class ------------------------------------------------------------------\n",
    "class CNN(nn.Module):\n",
    "    def __init__(self, vocab_size):\n",
    "        super(CNN, self).__init__()\n",
    "\n",
    "        self.embedding = nn.Embedding(vocab_size + 2, args.embedding_dim)\n",
    "\n",
    "        self.conv1 = nn.Conv1d(args.embedding_dim, args.embedding_dim, 9)\n",
    "        self.convnorm1 = nn.BatchNorm1d(args.embedding_dim)\n",
    "        self.pool1 = nn.MaxPool1d(2)\n",
    "\n",
    "        self.conv2 = nn.Conv1d(args.embedding_dim, args.embedding_dim, 9)\n",
    "        self.convnorm2 = nn.BatchNorm1d(args.embedding_dim)\n",
    "        self.pool2 = nn.MaxPool1d(2)\n",
    "\n",
    "        self.conv3 = nn.Conv1d(args.embedding_dim, args.embedding_dim, 7)\n",
    "        self.linear = nn.Linear(args.embedding_dim, 2)\n",
    "        self.act = torch.relu\n",
    "\n",
    "    def forward(self, x):\n",
    "        # nn.Conv1d operates on the columns, each embedding dimension is considered as one channel\n",
    "        x = self.embedding(x).permute(0, 2, 1)\n",
    "        x = self.pool1(self.convnorm1(self.act(self.conv1(x))))\n",
    "        x = self.pool2(self.convnorm2(self.act(self.conv2(x))))\n",
    "        return self.linear(self.act(self.conv3(x)).reshape(-1, args.embedding_dim))\n",
    "\n"
   ]
  },
  {
   "cell_type": "code",
   "execution_count": null,
   "metadata": {
    "id": "DmsFQc9vCRhP"
   },
   "outputs": [],
   "source": [
    "# %% -------------------------------------- Training Prep ----------------------------------------------------------\n",
    "model = CNN(len(token_ids)).to(device)\n",
    "look_up_table = get_glove_table(token_ids, glove_embeddings)\n",
    "model.embedding.weight.data.copy_(look_up_table)\n",
    "optimizer = torch.optim.Adam(model.parameters(), lr=args.lr)\n",
    "criterion = nn.CrossEntropyLoss()"
   ]
  },
  {
   "cell_type": "code",
   "execution_count": null,
   "metadata": {
    "id": "z0LTrOF-CRZK"
   },
   "outputs": [],
   "source": [
    "# %% -------------------------------------- Training Loop ----------------------------------------------------------\n",
    "labels_ditrib = torch.unique(y_dev, return_counts=True)\n",
    "print(\"The no information rate is {:.2f}\".format(100*labels_ditrib[1].max().item()/len(y_dev)))\n",
    "if args.train:\n",
    "    acc_dev_best = 0\n",
    "    print(\"Starting training loop...\")\n",
    "    for epoch in range(args.n_epochs):\n",
    "\n",
    "        loss_train, train_steps = 0, 0\n",
    "        model.train()\n",
    "        total = len(x_train) // args.batch_size + 1  # Initiates a progress bar that will be updated for each batch\n",
    "        with tqdm(total=total, desc=\"Epoch {}\".format(epoch)) as pbar:  # \"Epoch\" will be updated for each epoch\n",
    "            for batch in range(len(x_train)//args.batch_size + 1):\n",
    "                inds = slice(batch*args.batch_size, (batch+1)*args.batch_size)\n",
    "                optimizer.zero_grad()\n",
    "                logits = model(x_train[inds])\n",
    "                loss = criterion(logits, y_train[inds])\n",
    "                loss.backward()\n",
    "                optimizer.step()\n",
    "                loss_train += loss.item()\n",
    "                train_steps += 1\n",
    "                pbar.update(1)  # Updates the progress and the training loss\n",
    "                pbar.set_postfix_str(\"Training Loss: {:.5f}\".format(loss_train / train_steps))\n",
    "\n",
    "        model.eval()\n",
    "        with torch.no_grad():\n",
    "            y_dev_pred = model(x_dev)\n",
    "            loss = criterion(y_dev_pred, y_dev)\n",
    "            loss_test = loss.item()\n",
    "\n",
    "        acc_dev = acc(x_dev, y_dev)\n",
    "        print(\"Epoch {} | Train Loss {:.5f}, Train Acc {:.2f} - Test Loss {:.5f}, Test Acc {:.2f}\".format(\n",
    "            epoch, loss_train/train_steps, acc(x_train, y_train), loss_test, acc_dev))\n",
    "\n",
    "        if acc_dev > acc_dev_best and args.save_model:\n",
    "            torch.save(model.state_dict(), \"cnn_sentiment.pt\")\n",
    "            print(\"The model has been saved!\")\n",
    "            acc_dev_best = acc_dev"
   ]
  },
  {
   "cell_type": "markdown",
   "metadata": {
    "id": "sXhpKWqBCs55"
   },
   "source": [
    "# Test of Deep Learning"
   ]
  },
  {
   "cell_type": "code",
   "execution_count": 35,
   "metadata": {
    "id": "woUmyFpkCQaV"
   },
   "outputs": [
    {
     "name": "stdout",
     "output_type": "stream",
     "text": [
      "[0.5801302 0.4198698] tensor(0)\n",
      "[0.6566592 0.3433408] tensor(0)\n",
      "[0.6610051  0.33899492] tensor(1)\n",
      "[0.67801875 0.32198125] tensor(0)\n",
      "[0.64640886 0.3535912 ] tensor(0)\n",
      "[0.49857607 0.5014239 ] tensor(0)\n",
      "[0.60241646 0.3975836 ] tensor(1)\n",
      "[0.57649475 0.42350525] tensor(1)\n",
      "[0.53299826 0.4670017 ] tensor(0)\n",
      "[0.729913   0.27008694] tensor(1)\n"
     ]
    }
   ],
   "source": [
    "x = None\n",
    "for i in range(10):\n",
    "    test = convert_to_ids([x_train_raw[i]], token_ids, args.seq_len)\n",
    "    test = torch.LongTensor(test).to(device)\n",
    "    pred = model(test).cpu().detach().numpy()[0]\n",
    "    x = softmax(pred)\n",
    "    print(softmax(pred),y_train[i])"
   ]
  },
  {
   "cell_type": "code",
   "execution_count": 36,
   "metadata": {
    "id": "wCIjV0jDCv5X"
   },
   "outputs": [
    {
     "ename": "KeyError",
     "evalue": "'Toyota'",
     "output_type": "error",
     "traceback": [
      "\u001b[1;31m---------------------------------------------------------------------------\u001b[0m",
      "\u001b[1;31mKeyError\u001b[0m                                  Traceback (most recent call last)",
      "\u001b[1;32m<ipython-input-29-c48b10f5ef25>\u001b[0m in \u001b[0;36mconvert_to_ids\u001b[1;34m(raw_sentences, vocab_dict, pad_to)\u001b[0m\n\u001b[0;32m     35\u001b[0m             \u001b[1;32mtry\u001b[0m\u001b[1;33m:\u001b[0m\u001b[1;33m\u001b[0m\u001b[1;33m\u001b[0m\u001b[0m\n\u001b[1;32m---> 36\u001b[1;33m                 \u001b[0mword_ids\u001b[0m\u001b[1;33m.\u001b[0m\u001b[0mappend\u001b[0m\u001b[1;33m(\u001b[0m\u001b[0mvocab_dict\u001b[0m\u001b[1;33m[\u001b[0m\u001b[0mtoken\u001b[0m\u001b[1;33m]\u001b[0m\u001b[1;33m)\u001b[0m\u001b[1;33m\u001b[0m\u001b[1;33m\u001b[0m\u001b[0m\n\u001b[0m\u001b[0;32m     37\u001b[0m             \u001b[1;32mexcept\u001b[0m\u001b[1;33m:\u001b[0m\u001b[1;33m\u001b[0m\u001b[1;33m\u001b[0m\u001b[0m\n",
      "\u001b[1;31mKeyError\u001b[0m: 'Toyota'",
      "\nDuring handling of the above exception, another exception occurred:\n",
      "\u001b[1;31mKeyError\u001b[0m                                  Traceback (most recent call last)",
      "\u001b[1;32m<ipython-input-36-b0ef72109fe5>\u001b[0m in \u001b[0;36m<module>\u001b[1;34m\u001b[0m\n\u001b[0;32m      3\u001b[0m \u001b[1;33m\u001b[0m\u001b[0m\n\u001b[0;32m      4\u001b[0m \u001b[1;32mfor\u001b[0m \u001b[0mi\u001b[0m \u001b[1;32min\u001b[0m \u001b[0mdf\u001b[0m\u001b[1;33m.\u001b[0m\u001b[0miloc\u001b[0m\u001b[1;33m[\u001b[0m\u001b[1;33m:\u001b[0m\u001b[1;33m,\u001b[0m\u001b[1;36m2\u001b[0m\u001b[1;33m]\u001b[0m\u001b[1;33m:\u001b[0m\u001b[1;33m\u001b[0m\u001b[1;33m\u001b[0m\u001b[0m\n\u001b[1;32m----> 5\u001b[1;33m     \u001b[0mtest\u001b[0m \u001b[1;33m=\u001b[0m \u001b[0mconvert_to_ids\u001b[0m\u001b[1;33m(\u001b[0m\u001b[1;33m[\u001b[0m\u001b[0mi\u001b[0m\u001b[1;33m]\u001b[0m\u001b[1;33m,\u001b[0m \u001b[0mtoken_ids\u001b[0m\u001b[1;33m,\u001b[0m \u001b[0margs\u001b[0m\u001b[1;33m.\u001b[0m\u001b[0mseq_len\u001b[0m\u001b[1;33m)\u001b[0m\u001b[1;33m\u001b[0m\u001b[1;33m\u001b[0m\u001b[0m\n\u001b[0m\u001b[0;32m      6\u001b[0m     \u001b[0mtest\u001b[0m \u001b[1;33m=\u001b[0m \u001b[0mtorch\u001b[0m\u001b[1;33m.\u001b[0m\u001b[0mLongTensor\u001b[0m\u001b[1;33m(\u001b[0m\u001b[0mtest\u001b[0m\u001b[1;33m)\u001b[0m\u001b[1;33m.\u001b[0m\u001b[0mto\u001b[0m\u001b[1;33m(\u001b[0m\u001b[0mdevice\u001b[0m\u001b[1;33m)\u001b[0m\u001b[1;33m\u001b[0m\u001b[1;33m\u001b[0m\u001b[0m\n\u001b[0;32m      7\u001b[0m     \u001b[0mpred\u001b[0m \u001b[1;33m=\u001b[0m \u001b[0mmodel\u001b[0m\u001b[1;33m(\u001b[0m\u001b[0mtest\u001b[0m\u001b[1;33m)\u001b[0m\u001b[1;33m.\u001b[0m\u001b[0mcpu\u001b[0m\u001b[1;33m(\u001b[0m\u001b[1;33m)\u001b[0m\u001b[1;33m.\u001b[0m\u001b[0mdetach\u001b[0m\u001b[1;33m(\u001b[0m\u001b[1;33m)\u001b[0m\u001b[1;33m.\u001b[0m\u001b[0mnumpy\u001b[0m\u001b[1;33m(\u001b[0m\u001b[1;33m)\u001b[0m\u001b[1;33m[\u001b[0m\u001b[1;36m0\u001b[0m\u001b[1;33m]\u001b[0m\u001b[1;33m\u001b[0m\u001b[1;33m\u001b[0m\u001b[0m\n",
      "\u001b[1;32m<ipython-input-29-c48b10f5ef25>\u001b[0m in \u001b[0;36mconvert_to_ids\u001b[1;34m(raw_sentences, vocab_dict, pad_to)\u001b[0m\n\u001b[0;32m     36\u001b[0m                 \u001b[0mword_ids\u001b[0m\u001b[1;33m.\u001b[0m\u001b[0mappend\u001b[0m\u001b[1;33m(\u001b[0m\u001b[0mvocab_dict\u001b[0m\u001b[1;33m[\u001b[0m\u001b[0mtoken\u001b[0m\u001b[1;33m]\u001b[0m\u001b[1;33m)\u001b[0m\u001b[1;33m\u001b[0m\u001b[1;33m\u001b[0m\u001b[0m\n\u001b[0;32m     37\u001b[0m             \u001b[1;32mexcept\u001b[0m\u001b[1;33m:\u001b[0m\u001b[1;33m\u001b[0m\u001b[1;33m\u001b[0m\u001b[0m\n\u001b[1;32m---> 38\u001b[1;33m                 \u001b[0mword_ids\u001b[0m\u001b[1;33m.\u001b[0m\u001b[0mappend\u001b[0m\u001b[1;33m(\u001b[0m\u001b[0mvocab_dict\u001b[0m\u001b[1;33m[\u001b[0m\u001b[0mtoken\u001b[0m\u001b[1;33m]\u001b[0m\u001b[1;33m)\u001b[0m\u001b[1;33m\u001b[0m\u001b[1;33m\u001b[0m\u001b[0m\n\u001b[0m\u001b[0;32m     39\u001b[0m         \u001b[1;32mif\u001b[0m \u001b[0mpad_to\u001b[0m \u001b[1;33m<\u001b[0m \u001b[0mlen\u001b[0m\u001b[1;33m(\u001b[0m\u001b[0mword_ids\u001b[0m\u001b[1;33m)\u001b[0m\u001b[1;33m:\u001b[0m\u001b[1;33m\u001b[0m\u001b[1;33m\u001b[0m\u001b[0m\n\u001b[0;32m     40\u001b[0m             \u001b[0mx\u001b[0m\u001b[1;33m[\u001b[0m\u001b[0midx\u001b[0m\u001b[1;33m]\u001b[0m \u001b[1;33m=\u001b[0m \u001b[0mword_ids\u001b[0m\u001b[1;33m[\u001b[0m\u001b[1;33m:\u001b[0m\u001b[0mpad_to\u001b[0m\u001b[1;33m]\u001b[0m\u001b[1;33m\u001b[0m\u001b[1;33m\u001b[0m\u001b[0m\n",
      "\u001b[1;31mKeyError\u001b[0m: 'Toyota'"
     ]
    }
   ],
   "source": [
    "\n",
    "x = None\n",
    "deep_learning_sentiment_prob = []\n",
    "\n",
    "for i in df.iloc[:,2]:\n",
    "    test = convert_to_ids([i], token_ids, args.seq_len)\n",
    "    test = torch.LongTensor(test).to(device)\n",
    "    pred = model(test).cpu().detach().numpy()[0]\n",
    "    x = softmax(pred)\n",
    "    sentiment_prob.append(x[1])"
   ]
  },
  {
   "cell_type": "code",
   "execution_count": 37,
   "metadata": {
    "id": "4OQthN08Cvtk"
   },
   "outputs": [
    {
     "ename": "NameError",
     "evalue": "name 'sentiment_prob' is not defined",
     "output_type": "error",
     "traceback": [
      "\u001b[1;31m---------------------------------------------------------------------------\u001b[0m",
      "\u001b[1;31mNameError\u001b[0m                                 Traceback (most recent call last)",
      "\u001b[1;32m<ipython-input-37-aee795536a35>\u001b[0m in \u001b[0;36m<module>\u001b[1;34m\u001b[0m\n\u001b[1;32m----> 1\u001b[1;33m \u001b[0mdf\u001b[0m\u001b[1;33m[\u001b[0m\u001b[1;34m'deep_learning_sentiment_prob'\u001b[0m\u001b[1;33m]\u001b[0m \u001b[1;33m=\u001b[0m \u001b[0msentiment_prob\u001b[0m\u001b[1;33m\u001b[0m\u001b[1;33m\u001b[0m\u001b[0m\n\u001b[0m",
      "\u001b[1;31mNameError\u001b[0m: name 'sentiment_prob' is not defined"
     ]
    }
   ],
   "source": [
    "df['deep_learning_sentiment_prob'] = sentiment_prob"
   ]
  },
  {
   "cell_type": "markdown",
   "metadata": {
    "id": "E3k8RjgeC-yO"
   },
   "source": [
    "#END OF DEEP LEARNING"
   ]
  },
  {
   "cell_type": "markdown",
   "metadata": {
    "id": "mcKTx8lgCK59"
   },
   "source": [
    "# Testing the Model "
   ]
  },
  {
   "cell_type": "code",
   "execution_count": null,
   "metadata": {
    "id": "xGwm2LBTCK59"
   },
   "outputs": [],
   "source": [
    "sentiment = []\n",
    "sentiment_prob = []\n",
    "for i in df.iloc[:,2]:\n",
    "    sentiment.append(predict_tweet(i, freqs)[0])\n",
    "    sentiment_prob.append(predict_tweet_prob(i, freqs)[0][1])"
   ]
  },
  {
   "cell_type": "code",
   "execution_count": null,
   "metadata": {
    "id": "l-9-pwuHCK59",
    "outputId": "7b9bb297-daeb-4a32-905d-4e082fe40d99"
   },
   "outputs": [
    {
     "data": {
      "text/plain": [
       "[0.0, 0.0, 0.0, 0.0, 0.0, 0.0, 0.0, 0.0, 0.0, 0.0, 0.0, 0.0, 0.0]"
      ]
     },
     "execution_count": 72,
     "metadata": {
      "tags": []
     },
     "output_type": "execute_result"
    }
   ],
   "source": [
    "sentiment\n"
   ]
  },
  {
   "cell_type": "code",
   "execution_count": null,
   "metadata": {
    "id": "d2yxS95eCK59",
    "outputId": "672059d2-e85a-42cf-8b32-1ffda0a1f32d"
   },
   "outputs": [
    {
     "data": {
      "text/plain": [
       "[0.11011737395528699,\n",
       " 0.32362056802365324,\n",
       " 0.17058625468535882,\n",
       " 0.011389621884586525,\n",
       " 2.0200050075790174e-05,\n",
       " 5.936869659795721e-10,\n",
       " 0.0008369896929365236,\n",
       " 2.1012563156613959e-07,\n",
       " 8.371320562209231e-05,\n",
       " 0.10619206900869374,\n",
       " 0.3691674765745842,\n",
       " 0.001845132376430351,\n",
       " 3.1217756180908695e-06]"
      ]
     },
     "execution_count": 73,
     "metadata": {
      "tags": []
     },
     "output_type": "execute_result"
    }
   ],
   "source": [
    "sentiment_prob"
   ]
  },
  {
   "cell_type": "code",
   "execution_count": null,
   "metadata": {
    "id": "1XK23ItqCK59",
    "outputId": "10313463-9379-4314-9d46-cac34fe420a1"
   },
   "outputs": [
    {
     "data": {
      "text/html": [
       "<div>\n",
       "<style scoped>\n",
       "    .dataframe tbody tr th:only-of-type {\n",
       "        vertical-align: middle;\n",
       "    }\n",
       "\n",
       "    .dataframe tbody tr th {\n",
       "        vertical-align: top;\n",
       "    }\n",
       "\n",
       "    .dataframe thead th {\n",
       "        text-align: right;\n",
       "    }\n",
       "</style>\n",
       "<table border=\"1\" class=\"dataframe\">\n",
       "  <thead>\n",
       "    <tr style=\"text-align: right;\">\n",
       "      <th></th>\n",
       "      <th>Date</th>\n",
       "      <th>Header</th>\n",
       "      <th>Text</th>\n",
       "      <th>Volume</th>\n",
       "      <th>Open</th>\n",
       "      <th>% Change in Stock Price</th>\n",
       "      <th>% Change in Volume</th>\n",
       "      <th>Text (clean)</th>\n",
       "      <th>Vader Sentiment Score</th>\n",
       "      <th>Linear Regression Sentiment</th>\n",
       "      <th>sentiment_prob</th>\n",
       "    </tr>\n",
       "  </thead>\n",
       "  <tbody>\n",
       "    <tr>\n",
       "      <th>0</th>\n",
       "      <td>2015-08-18</td>\n",
       "      <td>Global automakers divert shipments from China'...</td>\n",
       "      <td>- Toyota Motor Corp 7203.T and rival global a...</td>\n",
       "      <td>351.0</td>\n",
       "      <td>191.50</td>\n",
       "      <td>NaN</td>\n",
       "      <td>NaN</td>\n",
       "      <td>Toyota Motor Corp 7203.T rival global automake...</td>\n",
       "      <td>-0.9571</td>\n",
       "      <td>0.0</td>\n",
       "      <td>0.110117</td>\n",
       "    </tr>\n",
       "    <tr>\n",
       "      <th>1</th>\n",
       "      <td>2015-09-03</td>\n",
       "      <td>VW's finance chief set to become new chairman</td>\n",
       "      <td>- Volkswagen's VOWG_p.DE finance chief Hans D...</td>\n",
       "      <td>295.0</td>\n",
       "      <td>180.10</td>\n",
       "      <td>-5.953003</td>\n",
       "      <td>-15.954416</td>\n",
       "      <td>Volkswagen VOWG_p de finance chief Hans Dieter...</td>\n",
       "      <td>0.9864</td>\n",
       "      <td>0.0</td>\n",
       "      <td>0.323621</td>\n",
       "    </tr>\n",
       "    <tr>\n",
       "      <th>2</th>\n",
       "      <td>2015-09-04</td>\n",
       "      <td>Toyota partners with Stanford, MIT on self-dri...</td>\n",
       "      <td>- Toyota Motor Corp is collaborating with two...</td>\n",
       "      <td>51.0</td>\n",
       "      <td>177.20</td>\n",
       "      <td>-1.610217</td>\n",
       "      <td>-82.711864</td>\n",
       "      <td>Toyota Motor Corp collaborate U.S. university ...</td>\n",
       "      <td>0.9917</td>\n",
       "      <td>0.0</td>\n",
       "      <td>0.170586</td>\n",
       "    </tr>\n",
       "    <tr>\n",
       "      <th>3</th>\n",
       "      <td>2015-09-18</td>\n",
       "      <td>Volkswagen could face $18 billion penalties fr...</td>\n",
       "      <td>- Volkswagen AG VOWG_p.DE faces penalties up ...</td>\n",
       "      <td>209.0</td>\n",
       "      <td>185.60</td>\n",
       "      <td>4.740406</td>\n",
       "      <td>309.803922</td>\n",
       "      <td>Volkswagen AG VOWG_p DE face penalty $ 18 bill...</td>\n",
       "      <td>0.8720</td>\n",
       "      <td>0.0</td>\n",
       "      <td>0.011390</td>\n",
       "    </tr>\n",
       "    <tr>\n",
       "      <th>4</th>\n",
       "      <td>2015-09-21</td>\n",
       "      <td>Volkswagen's 'clean diesel' strategy unraveled...</td>\n",
       "      <td>- When the International Council for Clean Tr...</td>\n",
       "      <td>20900.0</td>\n",
       "      <td>149.88</td>\n",
       "      <td>-19.245690</td>\n",
       "      <td>9900.000000</td>\n",
       "      <td>International Council Clean Transportation ICC...</td>\n",
       "      <td>0.8024</td>\n",
       "      <td>0.0</td>\n",
       "      <td>0.000020</td>\n",
       "    </tr>\n",
       "  </tbody>\n",
       "</table>\n",
       "</div>"
      ],
      "text/plain": [
       "         Date                                             Header  \\\n",
       "0  2015-08-18  Global automakers divert shipments from China'...   \n",
       "1  2015-09-03      VW's finance chief set to become new chairman   \n",
       "2  2015-09-04  Toyota partners with Stanford, MIT on self-dri...   \n",
       "3  2015-09-18  Volkswagen could face $18 billion penalties fr...   \n",
       "4  2015-09-21  Volkswagen's 'clean diesel' strategy unraveled...   \n",
       "\n",
       "                                                Text   Volume    Open  \\\n",
       "0   - Toyota Motor Corp 7203.T and rival global a...    351.0  191.50   \n",
       "1   - Volkswagen's VOWG_p.DE finance chief Hans D...    295.0  180.10   \n",
       "2   - Toyota Motor Corp is collaborating with two...     51.0  177.20   \n",
       "3   - Volkswagen AG VOWG_p.DE faces penalties up ...    209.0  185.60   \n",
       "4   - When the International Council for Clean Tr...  20900.0  149.88   \n",
       "\n",
       "   % Change in Stock Price  % Change in Volume  \\\n",
       "0                      NaN                 NaN   \n",
       "1                -5.953003          -15.954416   \n",
       "2                -1.610217          -82.711864   \n",
       "3                 4.740406          309.803922   \n",
       "4               -19.245690         9900.000000   \n",
       "\n",
       "                                        Text (clean)  Vader Sentiment Score  \\\n",
       "0  Toyota Motor Corp 7203.T rival global automake...                -0.9571   \n",
       "1  Volkswagen VOWG_p de finance chief Hans Dieter...                 0.9864   \n",
       "2  Toyota Motor Corp collaborate U.S. university ...                 0.9917   \n",
       "3  Volkswagen AG VOWG_p DE face penalty $ 18 bill...                 0.8720   \n",
       "4  International Council Clean Transportation ICC...                 0.8024   \n",
       "\n",
       "   Linear Regression Sentiment  sentiment_prob  \n",
       "0                          0.0        0.110117  \n",
       "1                          0.0        0.323621  \n",
       "2                          0.0        0.170586  \n",
       "3                          0.0        0.011390  \n",
       "4                          0.0        0.000020  "
      ]
     },
     "execution_count": 75,
     "metadata": {
      "tags": []
     },
     "output_type": "execute_result"
    }
   ],
   "source": [
    "df.head()"
   ]
  },
  {
   "cell_type": "code",
   "execution_count": null,
   "metadata": {
    "id": "hpjA5InZCK5-",
    "outputId": "664d119c-a201-41c4-d69f-471011d0d6e4"
   },
   "outputs": [
    {
     "data": {
      "text/html": [
       "<div>\n",
       "<style scoped>\n",
       "    .dataframe tbody tr th:only-of-type {\n",
       "        vertical-align: middle;\n",
       "    }\n",
       "\n",
       "    .dataframe tbody tr th {\n",
       "        vertical-align: top;\n",
       "    }\n",
       "\n",
       "    .dataframe thead th {\n",
       "        text-align: right;\n",
       "    }\n",
       "</style>\n",
       "<table border=\"1\" class=\"dataframe\">\n",
       "  <thead>\n",
       "    <tr style=\"text-align: right;\">\n",
       "      <th></th>\n",
       "      <th>Date</th>\n",
       "      <th>Header</th>\n",
       "      <th>Text (clean)</th>\n",
       "      <th>% Change in Stock Price</th>\n",
       "      <th>Vader Sentiment Score</th>\n",
       "      <th>Logistic Regression Sentiment</th>\n",
       "    </tr>\n",
       "  </thead>\n",
       "  <tbody>\n",
       "    <tr>\n",
       "      <th>0</th>\n",
       "      <td>2015-08-18</td>\n",
       "      <td>Global automakers divert shipments from China'...</td>\n",
       "      <td>Toyota Motor Corp 7203.T rival global automake...</td>\n",
       "      <td>NaN</td>\n",
       "      <td>-0.9571</td>\n",
       "      <td>0.0</td>\n",
       "    </tr>\n",
       "    <tr>\n",
       "      <th>1</th>\n",
       "      <td>2015-09-03</td>\n",
       "      <td>VW's finance chief set to become new chairman</td>\n",
       "      <td>Volkswagen VOWG_p de finance chief Hans Dieter...</td>\n",
       "      <td>-5.953003</td>\n",
       "      <td>0.9864</td>\n",
       "      <td>0.0</td>\n",
       "    </tr>\n",
       "    <tr>\n",
       "      <th>2</th>\n",
       "      <td>2015-09-04</td>\n",
       "      <td>Toyota partners with Stanford, MIT on self-dri...</td>\n",
       "      <td>Toyota Motor Corp collaborate U.S. university ...</td>\n",
       "      <td>-1.610217</td>\n",
       "      <td>0.9917</td>\n",
       "      <td>0.0</td>\n",
       "    </tr>\n",
       "    <tr>\n",
       "      <th>3</th>\n",
       "      <td>2015-09-18</td>\n",
       "      <td>Volkswagen could face $18 billion penalties fr...</td>\n",
       "      <td>Volkswagen AG VOWG_p DE face penalty $ 18 bill...</td>\n",
       "      <td>4.740406</td>\n",
       "      <td>0.8720</td>\n",
       "      <td>0.0</td>\n",
       "    </tr>\n",
       "    <tr>\n",
       "      <th>4</th>\n",
       "      <td>2015-09-21</td>\n",
       "      <td>Volkswagen's 'clean diesel' strategy unraveled...</td>\n",
       "      <td>International Council Clean Transportation ICC...</td>\n",
       "      <td>-19.245690</td>\n",
       "      <td>0.8024</td>\n",
       "      <td>0.0</td>\n",
       "    </tr>\n",
       "  </tbody>\n",
       "</table>\n",
       "</div>"
      ],
      "text/plain": [
       "         Date                                             Header  \\\n",
       "0  2015-08-18  Global automakers divert shipments from China'...   \n",
       "1  2015-09-03      VW's finance chief set to become new chairman   \n",
       "2  2015-09-04  Toyota partners with Stanford, MIT on self-dri...   \n",
       "3  2015-09-18  Volkswagen could face $18 billion penalties fr...   \n",
       "4  2015-09-21  Volkswagen's 'clean diesel' strategy unraveled...   \n",
       "\n",
       "                                        Text (clean)  % Change in Stock Price  \\\n",
       "0  Toyota Motor Corp 7203.T rival global automake...                      NaN   \n",
       "1  Volkswagen VOWG_p de finance chief Hans Dieter...                -5.953003   \n",
       "2  Toyota Motor Corp collaborate U.S. university ...                -1.610217   \n",
       "3  Volkswagen AG VOWG_p DE face penalty $ 18 bill...                 4.740406   \n",
       "4  International Council Clean Transportation ICC...               -19.245690   \n",
       "\n",
       "   Vader Sentiment Score  Logistic Regression Sentiment  \n",
       "0                -0.9571                            0.0  \n",
       "1                 0.9864                            0.0  \n",
       "2                 0.9917                            0.0  \n",
       "3                 0.8720                            0.0  \n",
       "4                 0.8024                            0.0  "
      ]
     },
     "execution_count": 81,
     "metadata": {
      "tags": []
     },
     "output_type": "execute_result"
    }
   ],
   "source": [
    "\n",
    "df['Logistic Regression Sentiment'] = sentiment\n",
    "df['sentiment_prob'] = sentiment_prob\n",
    "columns = ['Date', 'Header', 'Text (clean)', '% Change in Stock Price', 'Vader Sentiment Score', 'Logistic Regression Sentiment']\n",
    "df[columns].head()"
   ]
  },
  {
   "cell_type": "code",
   "execution_count": null,
   "metadata": {
    "id": "C1UYyjQKCK5-"
   },
   "outputs": [],
   "source": []
  },
  {
   "cell_type": "code",
   "execution_count": null,
   "metadata": {
    "id": "ziijK_nFCK5-"
   },
   "outputs": [],
   "source": []
  }
 ],
 "metadata": {
  "colab": {
   "collapsed_sections": [],
   "name": "Volkswagen.ipynb",
   "provenance": []
  },
  "kernelspec": {
   "display_name": "Python 3",
   "language": "python",
   "name": "python3"
  },
  "language_info": {
   "codemirror_mode": {
    "name": "ipython",
    "version": 3
   },
   "file_extension": ".py",
   "mimetype": "text/x-python",
   "name": "python",
   "nbconvert_exporter": "python",
   "pygments_lexer": "ipython3",
   "version": "3.7.9"
  }
 },
 "nbformat": 4,
 "nbformat_minor": 1
}
