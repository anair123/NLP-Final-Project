{
 "cells": [
  {
   "cell_type": "code",
   "execution_count": 141,
   "metadata": {
    "colab": {
     "base_uri": "https://localhost:8080/"
    },
    "id": "Vg14mXw7zeug",
    "outputId": "66a0687c-5e7e-4dcc-c3b1-91d8b18ef9b9"
   },
   "outputs": [
    {
     "ename": "ModuleNotFoundError",
     "evalue": "No module named 'google.colab'",
     "output_type": "error",
     "traceback": [
      "\u001b[1;31m---------------------------------------------------------------------------\u001b[0m",
      "\u001b[1;31mModuleNotFoundError\u001b[0m                       Traceback (most recent call last)",
      "\u001b[1;32m<ipython-input-141-e191d0e46b75>\u001b[0m in \u001b[0;36m<module>\u001b[1;34m\u001b[0m\n\u001b[1;32m----> 1\u001b[1;33m \u001b[1;32mfrom\u001b[0m \u001b[0mgoogle\u001b[0m\u001b[1;33m.\u001b[0m\u001b[0mcolab\u001b[0m \u001b[1;32mimport\u001b[0m \u001b[0mdrive\u001b[0m\u001b[1;33m\u001b[0m\u001b[1;33m\u001b[0m\u001b[0m\n\u001b[0m\u001b[0;32m      2\u001b[0m \u001b[1;33m\u001b[0m\u001b[0m\n\u001b[0;32m      3\u001b[0m \u001b[1;31m# Mount Google Drive\u001b[0m\u001b[1;33m\u001b[0m\u001b[1;33m\u001b[0m\u001b[1;33m\u001b[0m\u001b[0m\n\u001b[0;32m      4\u001b[0m \u001b[0mdrive\u001b[0m\u001b[1;33m.\u001b[0m\u001b[0mmount\u001b[0m\u001b[1;33m(\u001b[0m\u001b[1;34m'/content/drive'\u001b[0m\u001b[1;33m)\u001b[0m\u001b[1;33m\u001b[0m\u001b[1;33m\u001b[0m\u001b[0m\n\u001b[0;32m      5\u001b[0m \u001b[1;33m\u001b[0m\u001b[0m\n",
      "\u001b[1;31mModuleNotFoundError\u001b[0m: No module named 'google.colab'"
     ]
    }
   ],
   "source": [
    "from google.colab import drive\n",
    "\n",
    "# Mount Google Drive\n",
    "drive.mount('/content/drive')\n",
    "\n",
    "# Implement me\n",
    "# Set working directory\n",
    "abspath = '/content/drive/My Drive/Colab Notebooks/NLP/NLP-Final-Project/NLP Project'"
   ]
  },
  {
   "cell_type": "code",
   "execution_count": 142,
   "metadata": {
    "colab": {
     "base_uri": "https://localhost:8080/",
     "height": 35
    },
    "id": "r30N7-TqzjDR",
    "outputId": "dcaeb4a2-64aa-4beb-da63-0a086075d3d9"
   },
   "outputs": [
    {
     "ename": "NameError",
     "evalue": "name 'abspath' is not defined",
     "output_type": "error",
     "traceback": [
      "\u001b[1;31m---------------------------------------------------------------------------\u001b[0m",
      "\u001b[1;31mNameError\u001b[0m                                 Traceback (most recent call last)",
      "\u001b[1;32m<ipython-input-142-5a3e8227e430>\u001b[0m in \u001b[0;36m<module>\u001b[1;34m\u001b[0m\n\u001b[0;32m      1\u001b[0m \u001b[1;32mimport\u001b[0m \u001b[0mos\u001b[0m\u001b[1;33m\u001b[0m\u001b[1;33m\u001b[0m\u001b[0m\n\u001b[1;32m----> 2\u001b[1;33m \u001b[0mos\u001b[0m\u001b[1;33m.\u001b[0m\u001b[0mchdir\u001b[0m\u001b[1;33m(\u001b[0m\u001b[0mabspath\u001b[0m\u001b[1;33m)\u001b[0m\u001b[1;33m\u001b[0m\u001b[1;33m\u001b[0m\u001b[0m\n\u001b[0m\u001b[0;32m      3\u001b[0m \u001b[0mos\u001b[0m\u001b[1;33m.\u001b[0m\u001b[0mgetcwd\u001b[0m\u001b[1;33m(\u001b[0m\u001b[1;33m)\u001b[0m\u001b[1;33m\u001b[0m\u001b[1;33m\u001b[0m\u001b[0m\n",
      "\u001b[1;31mNameError\u001b[0m: name 'abspath' is not defined"
     ]
    }
   ],
   "source": [
    "import os\n",
    "os.chdir(abspath)\n",
    "os.getcwd()"
   ]
  },
  {
   "cell_type": "code",
   "execution_count": 219,
   "metadata": {
    "id": "Hy5lBaPeCK57"
   },
   "outputs": [],
   "source": [
    "import requests\n",
    "from bs4 import BeautifulSoup\n",
    "import pandas as pd\n",
    "from datetime import datetime\n",
    "import dateutil.parser\n",
    "import matplotlib.pyplot as plt"
   ]
  },
  {
   "cell_type": "code",
   "execution_count": 220,
   "metadata": {
    "id": "KPDz-_cXCK57"
   },
   "outputs": [],
   "source": [
    "# dictionary of text dates and links\n",
    "\n",
    "# August 2, 2015\n",
    "url1 = 'https://www.reuters.com/article/us-toyota-sales-idUSKCN0Q805F20150803'\n",
    "\n",
    "# August 18, 2015\n",
    "url2 = 'https://uk.reuters.com/article/uk-china-blast-toyota/global-automakers-divert-shipments-from-chinas-tianjin-port-after-blasts-idUKKCN0QO07W20150819'\n",
    "\n",
    "# September 3, 2015\n",
    "url3 = 'https://www.reuters.com/article/us-volkswagen-chairman-poetsch/vws-finance-chief-set-to-become-new-chairman-idUSKCN0R31B620150903'\n",
    "\n",
    "# September 4, 2-15\n",
    "url4 = 'https://www.reuters.com/article/us-toyota-research-robotics-idUSKCN0R41X220150904'\n",
    "\n",
    "# September 18, 2015\n",
    "url5 = 'https://www.reuters.com/article/us-usa-volkswagen-idUSKCN0RI1VK20150918'\n",
    "\n",
    "# September 21, 2015\n",
    "url6 = 'https://www.reuters.com/article/us-usa-volkswagen-emission-idUSKCN0RL2EI20150922'\n",
    "\n",
    "# September 24, 2015\n",
    "url7 = 'https://www.reuters.com/article/usa-volkswagen-deception-idUSL1N11U1OB20150924'\n",
    "\n",
    "# September 29, 2015\n",
    "url8 = 'https://www.reuters.com/article/volkswagen-emissions-technology-idUSL1N11Z1XQ20150929'\n",
    "\n",
    "\n",
    "# October 8, 2015\n",
    "url9 = 'https://www.reuters.com/article/us-volkswagen-emissions-consumers-insigh-idUSKCN0S20CK20151008'\n",
    "\n",
    "# October 13, 2015\n",
    "url10 = 'https://in.reuters.com/article/us-volkswagen-emissions-investment/vw-looks-to-cutbacks-and-electric-cars-to-overcome-scandal-idUKKCN0S710020151013'\n",
    "\n",
    "# October 21, 2015\n",
    "url11 = 'https://ca.reuters.com/article/businessNews/idCAKCN0SF1FU20151021'\n",
    "\n",
    "# October 22, 2015\n",
    "url12 = 'https://www.reuters.com/article/us-volkswagen-emissions-brazil-idUSKCN0SG1N720151022'\n",
    "\n",
    "\n",
    "# October 28, 2015\n",
    "url13 = 'https://www.reuters.com/article/us-volkswagen-emissions-dealers-idUSKCN0SM2SG20151028'\n",
    "\n",
    "# November 4, 2015\n",
    "url14 = 'https://www.reuters.com/article/us-volkswagen-emissions-idUSKCN0ST1VY20151104'\n",
    "\n",
    "# November 8, 2015\n",
    "url15 = 'https://www.reuters.com/article/volkswagen-emissions/vw-engineers-have-admitted-manipulating-co2-emissions-data-paper-idUKL8N1320KD20151108'\n",
    "\n",
    "url_dict = {'08/02/2015':url1,\n",
    "            '08/18/2015':url2,\n",
    "            '09/03/2015':url3,\n",
    "            '09/04/2015':url4,\n",
    "            '09/18/2015':url5,\n",
    "           '09/21/2015':url6,\n",
    "           '09/24/2015':url7,\n",
    "            '09/29/2015':url8,\n",
    "            '10/08/2015':url9,\n",
    "            '10/13/2015':url10,\n",
    "            '10/21/2015':url11,\n",
    "           '10/22/2015':url12,\n",
    "           '10/28/2015':url13,\n",
    "            '11/04/2015':url14,\n",
    "           '11/08/2015':url15,\n",
    "           }\n"
   ]
  },
  {
   "cell_type": "code",
   "execution_count": null,
   "metadata": {
    "id": "tF3jRI1gCK57"
   },
   "outputs": [],
   "source": [
    "# extract info from each website and store it in dataframe\n",
    "df_text = pd.DataFrame(columns = ['Date','Header','Text'])\n",
    "header = []\n",
    "text = []\n",
    "date = []\n",
    "for key in url_dict:\n",
    "    page = requests.get(url_dict[key]).text\n",
    "    soup = BeautifulSoup(page, 'html.parser')\n",
    "    date.append(datetime.strptime(key, '%m/%d/%Y').date())\n",
    "    url_header = soup.find('h1').text\n",
    "    header.append(url_header)\n",
    "    url_text = soup.find('div', class_ = 'ArticleBodyWrapper').text\n",
    "    text.append(url_text)\n",
    "df_text['Date']=date\n",
    "df_text['Header']=header\n",
    "df_text['Text']=text\n",
    "\n",
    "# remove the author and \"min read\" sections\n",
    "df_text_temp = [] \n",
    "for text in df_text['Text']:\n",
    "    loc = text.find('(Reuters)')\n",
    "    df_text_temp.append(text[loc+9:])\n",
    "df_text['Text'] = df_text_temp\n",
    "\n",
    "\n"
   ]
  },
  {
   "cell_type": "code",
   "execution_count": null,
   "metadata": {
    "colab": {
     "base_uri": "https://localhost:8080/",
     "height": 512
    },
    "id": "TrAaQuU4CK57",
    "outputId": "c190df9d-4007-45fd-ac2c-69bf54f91f53"
   },
   "outputs": [],
   "source": [
    "df_text"
   ]
  },
  {
   "cell_type": "code",
   "execution_count": null,
   "metadata": {
    "id": "Hz8G9BPzzzkQ"
   },
   "outputs": [],
   "source": []
  },
  {
   "cell_type": "code",
   "execution_count": null,
   "metadata": {
    "id": "5tum9ilYCK58"
   },
   "outputs": [],
   "source": [
    "# import stock data of netflix\n",
    "df_stock = pd.read_csv('Volkswagen.csv', header=0)\n",
    "df_stock['Date']=df_stock['Date'].apply(lambda x: datetime.strptime(x, '%m/%d/%Y').date())\n",
    "\n",
    "df_stock = df_stock[df_stock[' Volume'] != ' N/A']\n",
    "\n",
    "# Remove $ sign and change to int variable\n",
    "df_stock[' Open'] = df_stock[' Open'].apply(lambda x : x[1:])\n",
    "df_stock[' High'] = df_stock[' High'].apply(lambda x : x[1:])\n",
    "df_stock[' Low'] = df_stock[' Low'].apply(lambda x : x[1:])\n",
    "df_stock[' Close/Last'] = df_stock[' Close/Last'].apply(lambda x : x[1:])\n",
    "\n",
    "# Remove $ sign and change to int variable\n",
    "df_stock[' Open'] = df_stock[' Open'].astype(float)\n",
    "df_stock[' High'] = df_stock[' High'].astype(float)\n",
    "df_stock[' Volume'] = df_stock[' Volume'].astype(float)\n",
    "df_stock[' Low'] = df_stock[' Low'].astype(float)\n",
    "df_stock[' Close/Last'] = df_stock[' Close/Last'].astype(float)\n",
    "\n",
    "columns_remove = [' High', ' Low', ' Close/Last']\n",
    "df_stock = df_stock.drop(columns_remove, axis=1)\n",
    "\n"
   ]
  },
  {
   "cell_type": "code",
   "execution_count": null,
   "metadata": {
    "colab": {
     "base_uri": "https://localhost:8080/",
     "height": 295
    },
    "id": "kODDAFUjCK58",
    "outputId": "78cb64d4-e8a7-4b7d-ad2c-b80f40e09246"
   },
   "outputs": [],
   "source": [
    "df_plot = df_stock[(df_stock['Date']>pd.to_datetime('08/01/2015')) & (df_stock['Date']<pd.to_datetime('12/01/2015'))]\n",
    "plt.rcParams.update({'font.size': 15})\n",
    "plt.figure(figsize=(15,10))\n",
    "plt.plot(df_plot['Date'], df_plot[' Open'])\n",
    "plt.xlabel('Date')\n",
    "plt.ylabel('Stock Price ($)')\n",
    "plt.title('Stock Price of Volkswagen')\n",
    "plt.xticks(rotation=45)\n",
    "plt.show()"
   ]
  },
  {
   "cell_type": "code",
   "execution_count": null,
   "metadata": {
    "id": "SXBNSGRBCK58"
   },
   "outputs": [],
   "source": [
    "# Merge two dataframes\n",
    "df = pd.merge(df_text, df_stock, how='inner', on='Date')\n",
    "df = df.sort_values('Date')"
   ]
  },
  {
   "cell_type": "code",
   "execution_count": null,
   "metadata": {
    "colab": {
     "base_uri": "https://localhost:8080/",
     "height": 203
    },
    "id": "ywS7dfZeCK58",
    "outputId": "6afd469c-7bcf-448a-e46f-c2b6bd174343"
   },
   "outputs": [],
   "source": [
    "# show % change in stock price after news article publish\n",
    "pct_stock = df[' Open'].pct_change()*100\n",
    "df['% Change in Stock Price'] = pct_stock\n",
    "pct_volume = df[' Volume'].pct_change()*100\n",
    "df['% Change in Volume'] = pct_volume\n",
    "df.head()"
   ]
  },
  {
   "cell_type": "markdown",
   "metadata": {
    "id": "q06_XqqLCK58"
   },
   "source": [
    "# Processing the text\n"
   ]
  },
  {
   "cell_type": "markdown",
   "metadata": {
    "id": "Er8uEaUfCK58"
   },
   "source": [
    "## import spacy libraries\n",
    "import spacy\n",
    "import en_core_web_sm\n",
    "from  spacy.lang.en.stop_words import STOP_WORDS\n",
    "nlp = spacy.load('en_core_web_sm')"
   ]
  },
  {
   "cell_type": "code",
   "execution_count": null,
   "metadata": {
    "id": "LUyKlHqgCK58"
   },
   "outputs": [],
   "source": [
    "# import spacy libraries\n",
    "import spacy\n",
    "import en_core_web_sm\n",
    "from  spacy.lang.en.stop_words import STOP_WORDS\n",
    "nlp = spacy.load('en_core_web_sm')"
   ]
  },
  {
   "cell_type": "code",
   "execution_count": null,
   "metadata": {
    "id": "PVw8hrcXCK58"
   },
   "outputs": [],
   "source": [
    "\n",
    "text_nlp = nlp(df['Text'][1]) \n",
    "# Remove stop words\n",
    "text_nlp_clean = [word for word in text_nlp if word.is_stop == False]\n",
    "# Lemmatize words\n",
    "text_nlp_clean = [word.lemma_ for word in text_nlp_clean]"
   ]
  },
  {
   "cell_type": "code",
   "execution_count": null,
   "metadata": {
    "colab": {
     "base_uri": "https://localhost:8080/",
     "height": 203
    },
    "id": "aTJxyIwpCK58",
    "outputId": "0c40ab95-9776-43ba-9d84-ac9321a79c2f"
   },
   "outputs": [],
   "source": [
    "text_clean = []\n",
    "for ind, row in df.iterrows():\n",
    "    \n",
    "    # lower casing\n",
    "    text_lower = row['Text'].lower()\n",
    "    \n",
    "    # tokenization\n",
    "    text_nlp = nlp(row['Text']) \n",
    "    \n",
    "    # remove punctuation and empty space\n",
    "    text_nlp_clean = [word for word in text_nlp if not word.is_punct | word.is_space]\n",
    "    \n",
    "    # Remove stop words\n",
    "    text_nlp_clean = [word for word in text_nlp_clean if word.is_stop == False]\n",
    "    \n",
    "    # Lemmatize tokens\n",
    "    text_nlp_clean = [word.lemma_ for word in text_nlp_clean]\n",
    "    \n",
    "    # add preprocessed text to list\n",
    "    text_clean.append(text_nlp_clean)\n",
    "\n",
    "# turn list of strings to string\n",
    "to_string = []\n",
    "for text in text_clean:\n",
    "    to_string.append(' '.join(text))\n",
    "\n",
    "\n",
    "df['Text (clean)'] = to_string\n",
    "df.head()"
   ]
  },
  {
   "cell_type": "markdown",
   "metadata": {
    "id": "i0agqlmOCK59"
   },
   "source": [
    "\n",
    "# Using a Pretrained Model "
   ]
  },
  {
   "cell_type": "code",
   "execution_count": null,
   "metadata": {
    "colab": {
     "base_uri": "https://localhost:8080/"
    },
    "id": "pzKIIE-CCK59",
    "outputId": "850d9009-dece-42fe-e3f5-cb3dd33fb059"
   },
   "outputs": [],
   "source": [
    "from nltk.sentiment import SentimentIntensityAnalyzer"
   ]
  },
  {
   "cell_type": "code",
   "execution_count": null,
   "metadata": {
    "colab": {
     "base_uri": "https://localhost:8080/"
    },
    "id": "VbMC5T0Hz96-",
    "outputId": "66ada073-5d63-4bd2-dc5d-f4d4ac89d59d"
   },
   "outputs": [],
   "source": [
    "import nltk\n",
    "nltk.download('vader_lexicon')"
   ]
  },
  {
   "cell_type": "code",
   "execution_count": null,
   "metadata": {
    "id": "yFeFaQWTCK59"
   },
   "outputs": [],
   "source": [
    "# a function to return sentiment score\n",
    "def polarity_score(text):\n",
    "    sid = SentimentIntensityAnalyzer()\n",
    "    return sid.polarity_scores(text)['compound']\n",
    "\n",
    "vader_score = []\n",
    "for text in df['Text (clean)']:\n",
    "    score = polarity_score(text)\n",
    "    vader_score.append(score)\n",
    "\n",
    "df['Vader Sentiment Score'] = vader_score"
   ]
  },
  {
   "cell_type": "code",
   "execution_count": null,
   "metadata": {
    "colab": {
     "base_uri": "https://localhost:8080/",
     "height": 203
    },
    "id": "k2E0AfcdCK59",
    "outputId": "c8e69fcc-f78b-41a8-8a9a-8cdb48a0b977"
   },
   "outputs": [],
   "source": [
    "df.head()"
   ]
  },
  {
   "cell_type": "markdown",
   "metadata": {
    "id": "yzyJ3bWLCK59"
   },
   "source": [
    "## Sentiment Analysis"
   ]
  },
  {
   "cell_type": "code",
   "execution_count": null,
   "metadata": {
    "id": "5QVF10MvCK59"
   },
   "outputs": [],
   "source": [
    "# run this cell to import nltk\n",
    "import nltk\n",
    "from os import getcwd\n",
    "import numpy as np\n",
    "import pandas as pd\n",
    "from nltk.corpus import twitter_samples \n",
    "from utils import process_tweet, build_freqs"
   ]
  },
  {
   "cell_type": "code",
   "execution_count": null,
   "metadata": {
    "colab": {
     "base_uri": "https://localhost:8080/"
    },
    "id": "-50moZMOCK59",
    "outputId": "3aa0b397-d134-444f-e08e-fc116f9d4800"
   },
   "outputs": [],
   "source": [
    "nltk.download('twitter_samples')\n",
    "nltk.download('stopwords')"
   ]
  },
  {
   "cell_type": "code",
   "execution_count": 199,
   "metadata": {
    "id": "KyJIZXYaCK59"
   },
   "outputs": [],
   "source": [
    "\n",
    "# select the set of positive and negative tweets\n",
    "all_positive_tweets = twitter_samples.strings('positive_tweets.json')\n",
    "all_negative_tweets = twitter_samples.strings('negative_tweets.json')"
   ]
  },
  {
   "cell_type": "code",
   "execution_count": 200,
   "metadata": {
    "id": "02bzHEtdCK59"
   },
   "outputs": [],
   "source": [
    "# split the data into two pieces (80-20), one for training and one for testing (validation set)  \n",
    "test_pos = all_positive_tweets[4000:]\n",
    "train_pos = all_positive_tweets[:4000]\n",
    "test_neg = all_negative_tweets[4000:]\n",
    "train_neg = all_negative_tweets[:4000]\n",
    "\n",
    "train_x = train_pos + train_neg \n",
    "test_x = test_pos + test_neg"
   ]
  },
  {
   "cell_type": "code",
   "execution_count": 201,
   "metadata": {
    "id": "8NDTQetbCK59"
   },
   "outputs": [],
   "source": [
    "# combine positive and negative labels\n",
    "train_y = np.append(np.ones((len(train_pos), 1)), np.zeros((len(train_neg), 1)), axis=0)\n",
    "test_y = np.append(np.ones((len(test_pos), 1)), np.zeros((len(test_neg), 1)), axis=0)"
   ]
  },
  {
   "cell_type": "code",
   "execution_count": 202,
   "metadata": {
    "colab": {
     "base_uri": "https://localhost:8080/"
    },
    "id": "CSPEaAxWCK59",
    "outputId": "c2933795-81e7-4e9e-a7f0-91b3aa764a85"
   },
   "outputs": [
    {
     "name": "stdout",
     "output_type": "stream",
     "text": [
      "train_y.shape = (8000, 1)\n",
      "test_y.shape = (2000, 1)\n"
     ]
    }
   ],
   "source": [
    "# Print the shape train and test sets\n",
    "print(\"train_y.shape = \" + str(train_y.shape))\n",
    "print(\"test_y.shape = \" + str(test_y.shape))"
   ]
  },
  {
   "cell_type": "code",
   "execution_count": 203,
   "metadata": {
    "colab": {
     "base_uri": "https://localhost:8080/"
    },
    "id": "bEPYifYRCK59",
    "outputId": "bae3f4cf-39d7-4c34-88b8-21f2db77263d"
   },
   "outputs": [
    {
     "name": "stdout",
     "output_type": "stream",
     "text": [
      "type(freqs) = <class 'dict'>\n",
      "len(freqs) = 11340\n"
     ]
    }
   ],
   "source": [
    "# create frequency dictionary\n",
    "freqs = build_freqs(train_x, train_y)\n",
    "\n",
    "# check the output\n",
    "print(\"type(freqs) = \" + str(type(freqs)))\n",
    "print(\"len(freqs) = \" + str(len(freqs.keys())))"
   ]
  },
  {
   "cell_type": "code",
   "execution_count": 204,
   "metadata": {
    "id": "wpiDY7cnCK59"
   },
   "outputs": [],
   "source": [
    "# UNQ_C3 (UNIQUE CELL IDENTIFIER, DO NOT EDIT)\n",
    "def extract_features(tweet, freqs):\n",
    "    '''\n",
    "    Input: \n",
    "        tweet: a list of words for one tweet\n",
    "        freqs: a dictionary corresponding to the frequencies of each tuple (word, label)\n",
    "    Output: \n",
    "        x: a feature vector of dimension (1,3)\n",
    "    '''\n",
    "    # process_tweet tokenizes, stems, and removes stopwords\n",
    "    word_l = process_tweet(tweet)\n",
    "    \n",
    "    # 3 elements in the form of a 1 x 3 vector\n",
    "    x = np.zeros((1, 3)) \n",
    "    \n",
    "    #bias term is set to 1\n",
    "    x[0,0] = 1 \n",
    "    \n",
    "    ### START CODE HERE (REPLACE INSTANCES OF 'None' with your code) ###\n",
    "    \n",
    "    # loop through each word in the list of words\n",
    "    for word in word_l:\n",
    "        \n",
    "        # increment the word count for the positive label 1\n",
    "        \n",
    "        x[0,1] += freqs.get((word,1),0)\n",
    "        \n",
    "        # increment the word count for the negative label 0\n",
    "        x[0,2] += freqs.get((word,0),0)\n",
    "        \n",
    "    ### END CODE HERE ###\n",
    "    assert(x.shape == (1, 3))\n",
    "    return x"
   ]
  },
  {
   "cell_type": "code",
   "execution_count": 205,
   "metadata": {
    "id": "luM4DgnWCK59"
   },
   "outputs": [],
   "source": [
    "# collect the features 'x' and stack them into a matrix 'X'\n",
    "X = np.zeros((len(train_x), 3))\n",
    "for i in range(len(train_x)):\n",
    "    X[i, :]= extract_features(train_x[i], freqs)\n",
    "\n",
    "# training labels corresponding to X\n",
    "Y = train_y"
   ]
  },
  {
   "cell_type": "code",
   "execution_count": 206,
   "metadata": {
    "colab": {
     "base_uri": "https://localhost:8080/"
    },
    "id": "h0kKiG2CCK59",
    "outputId": "18692116-9eaa-4d62-b9ae-4491aa41f567"
   },
   "outputs": [
    {
     "data": {
      "text/plain": [
       "(8000, 1)"
      ]
     },
     "execution_count": 206,
     "metadata": {},
     "output_type": "execute_result"
    }
   ],
   "source": [
    "Y.shape"
   ]
  },
  {
   "cell_type": "code",
   "execution_count": 207,
   "metadata": {
    "id": "EE9iGomKCK59"
   },
   "outputs": [],
   "source": [
    "from sklearn.model_selection import GridSearchCV\n",
    "from sklearn.linear_model import LogisticRegression\n",
    "from sklearn import svm\n",
    "from sklearn.pipeline import Pipeline"
   ]
  },
  {
   "cell_type": "markdown",
   "metadata": {
    "id": "WNlZEC3HCK59"
   },
   "source": [
    "### SVM Parameters"
   ]
  },
  {
   "cell_type": "code",
   "execution_count": 208,
   "metadata": {
    "id": "lgNH2n_GCK59"
   },
   "outputs": [],
   "source": [
    "param_grid = {'C': [0.0001, 0.001, 0.01, 0.1, 1]}  "
   ]
  },
  {
   "cell_type": "code",
   "execution_count": 209,
   "metadata": {
    "colab": {
     "base_uri": "https://localhost:8080/"
    },
    "id": "X_GpQrGnCK59",
    "outputId": "d0ed7c1b-8dab-4d16-fb86-d7e11c14028c"
   },
   "outputs": [
    {
     "name": "stderr",
     "output_type": "stream",
     "text": [
      "C:\\Users\\aashi\\Anaconda3\\lib\\site-packages\\sklearn\\utils\\validation.py:72: DataConversionWarning: A column-vector y was passed when a 1d array was expected. Please change the shape of y to (n_samples, ), for example using ravel().\n",
      "  return f(**kwargs)\n"
     ]
    },
    {
     "data": {
      "text/plain": [
       "LogisticRegression(random_state=0)"
      ]
     },
     "execution_count": 209,
     "metadata": {},
     "output_type": "execute_result"
    }
   ],
   "source": [
    "# Fitting Logistic Regression to the Training set\n",
    "from sklearn.linear_model import LogisticRegression\n",
    "classifier = LogisticRegression(random_state = 0)\n",
    "classifier.fit(X, Y)"
   ]
  },
  {
   "cell_type": "code",
   "execution_count": 210,
   "metadata": {
    "id": "muWmMa7NCK59"
   },
   "outputs": [],
   "source": [
    "\n",
    "# UNQ_C4 (UNIQUE CELL IDENTIFIER, DO NOT EDIT)\n",
    "def predict_tweet(tweet, freqs):\n",
    "    '''\n",
    "    Input: \n",
    "        tweet: a string\n",
    "        freqs: a dictionary corresponding to the frequencies of each tuple (word, label)\n",
    "        theta: (3,1) vector of weights\n",
    "    Output: \n",
    "        y_pred: the probability of a tweet being positive or negative\n",
    "    '''\n",
    "    ### START CODE HERE (REPLACE INSTANCES OF 'None' with your code) ###\n",
    "    \n",
    "    # extract the features of the tweet and store it into x\n",
    "    x = extract_features(tweet,freqs)\n",
    "    \n",
    "    # make the prediction using x and theta\n",
    "    y_pred = classifier.predict(x)\n",
    "    \n",
    "    ### END CODE HERE ###\n",
    "    \n",
    "    return y_pred"
   ]
  },
  {
   "cell_type": "code",
   "execution_count": 211,
   "metadata": {
    "id": "F2oD0NYiCK59"
   },
   "outputs": [],
   "source": [
    "# UNQ_C4 (UNIQUE CELL IDENTIFIER, DO NOT EDIT)\n",
    "def predict_tweet_prob(tweet, freqs):\n",
    "    '''\n",
    "    Input: \n",
    "        tweet: a string\n",
    "        freqs: a dictionary corresponding to the frequencies of each tuple (word, label)\n",
    "        theta: (3,1) vector of weights\n",
    "    Output: \n",
    "        y_pred: the probability of a tweet being positive or negative\n",
    "    '''\n",
    "    ### START CODE HERE (REPLACE INSTANCES OF 'None' with your code) ###\n",
    "    \n",
    "    # extract the features of the tweet and store it into x\n",
    "    x = extract_features(tweet,freqs)\n",
    "    \n",
    "    # make the prediction using x and theta\n",
    "    y_pred = classifier.predict_proba(x)\n",
    "    \n",
    "    ### END CODE HERE ###\n",
    "    \n",
    "    return y_pred"
   ]
  },
  {
   "cell_type": "code",
   "execution_count": 212,
   "metadata": {
    "colab": {
     "base_uri": "https://localhost:8080/"
    },
    "id": "LgjNbt--CK59",
    "outputId": "bee14f06-b6c2-406b-93b9-4158b409977b"
   },
   "outputs": [
    {
     "data": {
      "text/plain": [
       "array([0.])"
      ]
     },
     "execution_count": 212,
     "metadata": {},
     "output_type": "execute_result"
    }
   ],
   "source": [
    "\n",
    "my_tweet = 'The plot was terrible and I was sad until the ending!'\n",
    "predict_tweet(my_tweet, freqs)"
   ]
  },
  {
   "cell_type": "code",
   "execution_count": 213,
   "metadata": {
    "id": "voAUB0SVzdwT"
   },
   "outputs": [],
   "source": [
    "sentiment = []\n",
    "sentiment_prob = []\n",
    "for i in df.iloc[:,2]:\n",
    "    sentiment.append(predict_tweet(i, freqs)[0])\n",
    "    sentiment_prob.append(predict_tweet_prob(i, freqs)[0][1])"
   ]
  },
  {
   "cell_type": "code",
   "execution_count": 214,
   "metadata": {
    "id": "k6aZduhpzdwT"
   },
   "outputs": [],
   "source": [
    "\n",
    "df['Logistic Regression Sentiment'] = sentiment\n",
    "df['Logistic Regression Sentiment Score'] = sentiment_prob\n"
   ]
  },
  {
   "cell_type": "code",
   "execution_count": 215,
   "metadata": {},
   "outputs": [],
   "source": [
    "# Converting % stock price change to % stock price change per day\n",
    "days = [0]\n",
    "for i in range(len(df['Date'])):\n",
    "    if i != 0:\n",
    "        date_diff = df['Date'][i]-df['Date'][i-1]\n",
    "        day = date_diff.days\n",
    "        days.append(day)\n",
    "df['Days Elapsed'] = days\n",
    "df['Average % Change in Stock Price'] = df['% Change in Stock Price']/df['Days Elapsed']\n",
    "df['Average % Change in Volume'] = df['% Change in Volume']/df['Days Elapsed']"
   ]
  },
  {
   "cell_type": "markdown",
   "metadata": {},
   "source": [
    "## Remove Outliers"
   ]
  },
  {
   "cell_type": "code",
   "execution_count": 216,
   "metadata": {},
   "outputs": [
    {
     "data": {
      "text/plain": [
       "12"
      ]
     },
     "execution_count": 216,
     "metadata": {},
     "output_type": "execute_result"
    }
   ],
   "source": [
    "Q1 = df['% Change in Stock Price'].quantile(0.25)\n",
    "Q3 = df['% Change in Stock Price'].quantile(0.75)\n",
    "IQR = Q3 - Q1\n",
    "lower_bound = Q1-1.5*IQR\n",
    "upper_bound = Q3+1.5*IQR\n",
    "\n",
    "df = df[(df['% Change in Stock Price']>lower_bound) & (df['% Change in Stock Price']<upper_bound)]\n",
    "len(df)"
   ]
  },
  {
   "cell_type": "code",
   "execution_count": 217,
   "metadata": {},
   "outputs": [
    {
     "data": {
      "image/png": "[encoded data removed]",
      "text/plain": [
       "<Figure size 576x360 with 1 Axes>"
      ]
     },
     "metadata": {
      "needs_background": "light"
     },
     "output_type": "display_data"
    }
   ],
   "source": [
    "import seaborn as sns\n",
    "\n",
    "df_scatter = df[['Average % Change in Stock Price','Average % Change in Volume','Vader Sentiment Score','Logistic Regression Sentiment Score']]\n",
    "plt.figure(figsize=(8,5))\n",
    "sns.scatterplot(x =df_scatter['Average % Change in Stock Price'], y = df_scatter['Vader Sentiment Score'])\n",
    "plt.title('Relationship Between Vader Sentiment Score and Stock Price Change (r={})'.format((np.corrcoef(df_scatter['Average % Change in Stock Price'], df_scatter['Vader Sentiment Score'])[1,0]).round(2)))\n",
    "plt.show()\n",
    "\n"
   ]
  },
  {
   "cell_type": "code",
   "execution_count": 218,
   "metadata": {},
   "outputs": [
    {
     "name": "stderr",
     "output_type": "stream",
     "text": [
      "C:\\Users\\aashi\\Anaconda3\\lib\\site-packages\\numpy\\lib\\function_base.py:2559: RuntimeWarning: invalid value encountered in true_divide\n",
      "  c /= stddev[:, None]\n",
      "C:\\Users\\aashi\\Anaconda3\\lib\\site-packages\\numpy\\lib\\function_base.py:2560: RuntimeWarning: invalid value encountered in true_divide\n",
      "  c /= stddev[None, :]\n"
     ]
    },
    {
     "data": {
      "image/png": "[encoded data removed]",
      "text/plain": [
       "<Figure size 720x360 with 1 Axes>"
      ]
     },
     "metadata": {
      "needs_background": "light"
     },
     "output_type": "display_data"
    }
   ],
   "source": [
    "plt.figure(figsize=(10,5))\n",
    "sns.scatterplot(x =df_scatter['Average % Change in Stock Price'], y = df_scatter['Logistic Regression Sentiment Score'])\n",
    "plt.title('Relationship Between Vader Sentiment Score and Stock Price Change (r={})'.format((np.corrcoef(df_scatter['Average % Change in Stock Price'], df_scatter['Logistic Regression Sentiment Score'])[1,0]).round(2)))\n",
    "plt.show()"
   ]
  },
  {
   "cell_type": "markdown",
   "metadata": {
    "id": "ylZBn2NkCTDh"
   },
   "source": [
    "#START OF DEEP LEARNING"
   ]
  },
  {
   "cell_type": "code",
   "execution_count": null,
   "metadata": {
    "colab": {
     "base_uri": "https://localhost:8080/"
    },
    "id": "n662yrVWCRdR",
    "outputId": "74f5c6e9-85c1-4a2a-da4c-41a752e1ec54"
   },
   "outputs": [],
   "source": [
    "import sklearn\n",
    "import numpy as np\n",
    "import pandas as pd\n",
    "pd.set_option('display.max_colwidth', -1)\n",
    "import sklearn\n",
    "import sklearn.ensemble\n",
    "from sklearn.metrics import accuracy_score, confusion_matrix\n",
    "import sklearn.metrics\n",
    "import tensorflow as tf\n",
    "from scipy.special import softmax\n",
    "import os\n",
    "import numpy as np\n",
    "import pandas as pd\n",
    "import json\n",
    "import torch\n",
    "import torch.nn as nn\n",
    "import nltk\n",
    "from tqdm import tqdm\n",
    "import spacy\n",
    "import torch\n",
    "import torchtext\n",
    "import torchtext.data\n",
    "import torch.nn as nn\n",
    "import torch.nn.functional as F\n",
    "from scipy.special import softmax\n",
    "from torchtext.vocab import Vocab\n",
    "from nltk.corpus import twitter_samples \n",
    "\n",
    "nlp = spacy.load('en')\n",
    "nltk.download('punkt')"
   ]
  },
  {
   "cell_type": "code",
   "execution_count": null,
   "metadata": {
    "id": "XWZh1kuyCRkw"
   },
   "outputs": [],
   "source": [
    "device = torch.device(\"cuda\" if torch.cuda.is_available() else \"cpu\")\n",
    "torch.manual_seed(42)\n",
    "np.random.seed(42)\n",
    "torch.backends.cudnn.deterministic = True\n",
    "torch.backends.cudnn.benchmark = False"
   ]
  },
  {
   "cell_type": "code",
   "execution_count": null,
   "metadata": {
    "id": "__gYrL6nCRrm"
   },
   "outputs": [],
   "source": [
    "# %% ----------------------------------- Hyper Parameters --------------------------------------------------------------\n",
    "class Args:\n",
    "    def __init__(self):\n",
    "        self.seq_len = \"get_max_from_data\"\n",
    "        self.embedding_dim = 50\n",
    "        self.n_epochs = 10\n",
    "        self.lr = 1e-2\n",
    "        self.batch_size = 512\n",
    "        self.train = True\n",
    "        self.save_model = True\n",
    "\n",
    "\n",
    "args = Args()"
   ]
  },
  {
   "cell_type": "code",
   "execution_count": null,
   "metadata": {
    "id": "9s4eSabVCRxz"
   },
   "outputs": [],
   "source": [
    "# %% ----------------------------------- Helper Functions --------------------------------------------------------------\n",
    "def acc(x, y, return_labels=False):\n",
    "    with torch.no_grad():\n",
    "        logits = torch.empty(len(x), 2)\n",
    "        for batch in range(len(x) // args.batch_size + 1):\n",
    "            inds = slice(batch * args.batch_size, (batch + 1) * args.batch_size)\n",
    "            logits[inds] = model(x[inds])\n",
    "        pred_labels = np.argmax(logits.cpu().numpy(), axis=1)\n",
    "    if return_labels:\n",
    "        return pred_labels\n",
    "    else:\n",
    "        return 100*accuracy_score(y.cpu().numpy(), pred_labels)\n",
    "\n",
    "\n",
    "def extract_vocab_dict_and_msl(sentences_train, sentences_dev):\n",
    "    \"\"\" Tokenizes all the sentences and gets a dictionary of unique tokens and also the maximum sequence length \"\"\"\n",
    "    tokens, ms_len = [], 0\n",
    "    for sentence in list(sentences_train) + list(sentences_dev):\n",
    "        tokens_in_sentence = nltk.word_tokenize(sentence)\n",
    "        if ms_len < len(tokens_in_sentence):\n",
    "            ms_len = len(tokens_in_sentence)\n",
    "        tokens += tokens_in_sentence\n",
    "    token_vocab = {key: i for key, i in zip(set(tokens), range(1, len(set(tokens))+1))}\n",
    "    if len(np.unique(list(token_vocab.values()))) != len(token_vocab):\n",
    "        \"There are some rep words...\"\n",
    "    return token_vocab, ms_len\n",
    "\n",
    "\n",
    "def convert_to_ids(raw_sentences, vocab_dict, pad_to):\n",
    "    \"\"\" Takes an NumPy array of raw text sentences and converts to a sequence of token ids \"\"\"\n",
    "    x = np.empty((len(raw_sentences), pad_to))\n",
    "    for idx, sentence in enumerate(raw_sentences):\n",
    "        word_ids = []\n",
    "        for token in nltk.word_tokenize(sentence):\n",
    "            if token not in vocab_dict.keys():\n",
    "              continue \n",
    "            try:\n",
    "                word_ids.append(vocab_dict[token])\n",
    "            except:\n",
    "                word_ids.append(vocab_dict[token])\n",
    "        if pad_to < len(word_ids):\n",
    "            x[idx] = word_ids[:pad_to]\n",
    "        else:\n",
    "            x[idx] = word_ids + [0] * (pad_to - len(word_ids))\n",
    "    return x\n",
    "\n",
    "\n",
    "def get_glove_embeddings(vocab_dict):\n",
    "    with open(\"glove.6B.50d.txt\", \"r\") as s:\n",
    "        glove = s.read()\n",
    "    embeddings_dict = {}\n",
    "    for line in glove.split(\"\\n\")[:-1]:\n",
    "        text = line.split()\n",
    "        if text[0] in vocab_dict:\n",
    "            embeddings_dict[vocab_dict[text[0]]] = torch.from_numpy(np.array(text[1:], dtype=\"float32\"))\n",
    "    return embeddings_dict\n",
    "\n",
    "\n",
    "def get_glove_table(vocab_dict, glove_dict):\n",
    "    lookup_table = torch.empty((len(vocab_dict)+2, 50))\n",
    "    for token_id in sorted(vocab_dict.values()):\n",
    "        if token_id in glove_dict:\n",
    "            lookup_table[token_id] = glove_dict[token_id]\n",
    "        else:\n",
    "            lookup_table[token_id] = torch.zeros((1, 50))  # For unknown tokens\n",
    "    lookup_table[0] = torch.zeros((1, 50))\n",
    "    return lookup_table\n",
    "\n"
   ]
  },
  {
   "cell_type": "code",
   "execution_count": null,
   "metadata": {
    "id": "pTRgZ_19CR0N"
   },
   "outputs": [],
   "source": [
    "data_train = pd.read_csv(\"original_data/train.tsv\", sep=\"\\t\")\n",
    "x_train_raw, y_train = data_train[\"sentence\"].values, torch.LongTensor(data_train[\"label\"].values).to(device)\n",
    "data_dev = pd.read_csv(\"original_data/dev.tsv\", sep=\"\\t\")\n",
    "x_dev_raw, y_dev = data_dev[\"sentence\"].values, torch.LongTensor(data_dev[\"label\"].values).to(device)\n"
   ]
  },
  {
   "cell_type": "code",
   "execution_count": null,
   "metadata": {
    "id": "sP6ee2_oCR3p"
   },
   "outputs": [],
   "source": [
    "# %% -------------------------------------- Data Prep ------------------------------------------------------------------\n",
    "try:\n",
    "    with open(\"example_prep_data/vocab_dict.json\", \"r\") as s:\n",
    "        token_ids = json.load(s)\n",
    "    msl = np.load(\"example_prep_data/max_sequence_length.npy\").item()\n",
    "except:\n",
    "    print(\"Tokenizing all the examples to get a vocab dict and the maximum sequence length...\")\n",
    "    token_ids, msl = extract_vocab_dict_and_msl(x_train_raw, x_dev_raw)\n",
    "    os.mkdir(\"example_prep_data\")\n",
    "    with open(\"example_prep_data/vocab_dict.json\", \"w\") as s:\n",
    "        json.dump(token_ids, s)\n",
    "    np.save(\"example_prep_data/max_sequence_length.npy\", np.array([msl]))\n",
    "if args.seq_len == \"get_max_from_data\":\n",
    "    args.seq_len = msl\n",
    "\n",
    "glove_embeddings = get_glove_embeddings(token_ids)\n",
    "\n",
    "try:\n",
    "    x_train = np.load(\"example_prep_data/prep_train_len{}.npy\".format(args.seq_len))\n",
    "    x_dev = np.load(\"example_prep_data/prep_dev_len{}.npy\".format(args.seq_len))\n",
    "except:\n",
    "    print(\"Converting all the sentences to sequences of token ids...\")\n",
    "    x_train = convert_to_ids(x_train_raw, token_ids, args.seq_len)\n",
    "    np.save(\"example_prep_data/prep_train_len{}.npy\".format(args.seq_len), x_train)\n",
    "    x_dev = convert_to_ids(x_dev_raw, token_ids, args.seq_len)\n",
    "    np.save(\"example_prep_data/prep_dev_len{}.npy\".format(args.seq_len), x_dev)\n",
    "\n",
    "\n"
   ]
  },
  {
   "cell_type": "code",
   "execution_count": null,
   "metadata": {
    "id": "hTbF3dy5CRuw"
   },
   "outputs": [],
   "source": [
    "x_train, x_dev = torch.LongTensor(x_train).to(device), torch.LongTensor(x_dev).to(device)"
   ]
  },
  {
   "cell_type": "code",
   "execution_count": null,
   "metadata": {
    "id": "bDZWQ6G_CRoQ"
   },
   "outputs": [],
   "source": [
    "# %% -------------------------------------- CNN Class ------------------------------------------------------------------\n",
    "class CNN(nn.Module):\n",
    "    def __init__(self, vocab_size):\n",
    "        super(CNN, self).__init__()\n",
    "\n",
    "        self.embedding = nn.Embedding(vocab_size + 2, args.embedding_dim)\n",
    "\n",
    "        self.conv1 = nn.Conv1d(args.embedding_dim, args.embedding_dim, 9)\n",
    "        self.convnorm1 = nn.BatchNorm1d(args.embedding_dim)\n",
    "        self.pool1 = nn.MaxPool1d(2)\n",
    "\n",
    "        self.conv2 = nn.Conv1d(args.embedding_dim, args.embedding_dim, 9)\n",
    "        self.convnorm2 = nn.BatchNorm1d(args.embedding_dim)\n",
    "        self.pool2 = nn.MaxPool1d(2)\n",
    "\n",
    "        self.conv3 = nn.Conv1d(args.embedding_dim, args.embedding_dim, 7)\n",
    "        self.linear = nn.Linear(args.embedding_dim, 2)\n",
    "        self.act = torch.relu\n",
    "\n",
    "    def forward(self, x):\n",
    "        # nn.Conv1d operates on the columns, each embedding dimension is considered as one channel\n",
    "        x = self.embedding(x).permute(0, 2, 1)\n",
    "        x = self.pool1(self.convnorm1(self.act(self.conv1(x))))\n",
    "        x = self.pool2(self.convnorm2(self.act(self.conv2(x))))\n",
    "        return self.linear(self.act(self.conv3(x)).reshape(-1, args.embedding_dim))\n",
    "\n"
   ]
  },
  {
   "cell_type": "code",
   "execution_count": null,
   "metadata": {
    "id": "DmsFQc9vCRhP"
   },
   "outputs": [],
   "source": [
    "# %% -------------------------------------- Training Prep ----------------------------------------------------------\n",
    "model = CNN(len(token_ids)).to(device)\n",
    "look_up_table = get_glove_table(token_ids, glove_embeddings)\n",
    "model.embedding.weight.data.copy_(look_up_table)\n",
    "optimizer = torch.optim.Adam(model.parameters(), lr=args.lr)\n",
    "criterion = nn.CrossEntropyLoss()"
   ]
  },
  {
   "cell_type": "code",
   "execution_count": null,
   "metadata": {
    "colab": {
     "base_uri": "https://localhost:8080/"
    },
    "id": "z0LTrOF-CRZK",
    "outputId": "cf3a3d65-d5af-42c1-d46a-718877001be8"
   },
   "outputs": [],
   "source": [
    "# %% -------------------------------------- Training Loop ----------------------------------------------------------\n",
    "labels_ditrib = torch.unique(y_dev, return_counts=True)\n",
    "print(\"The no information rate is {:.2f}\".format(100*labels_ditrib[1].max().item()/len(y_dev)))\n",
    "if args.train:\n",
    "    acc_dev_best = 0\n",
    "    print(\"Starting training loop...\")\n",
    "    for epoch in range(args.n_epochs):\n",
    "\n",
    "        loss_train, train_steps = 0, 0\n",
    "        model.train()\n",
    "        total = len(x_train) // args.batch_size + 1  # Initiates a progress bar that will be updated for each batch\n",
    "        with tqdm(total=total, desc=\"Epoch {}\".format(epoch)) as pbar:  # \"Epoch\" will be updated for each epoch\n",
    "            for batch in range(len(x_train)//args.batch_size + 1):\n",
    "                inds = slice(batch*args.batch_size, (batch+1)*args.batch_size)\n",
    "                optimizer.zero_grad()\n",
    "                logits = model(x_train[inds])\n",
    "                loss = criterion(logits, y_train[inds])\n",
    "                loss.backward()\n",
    "                optimizer.step()\n",
    "                loss_train += loss.item()\n",
    "                train_steps += 1\n",
    "                pbar.update(1)  # Updates the progress and the training loss\n",
    "                pbar.set_postfix_str(\"Training Loss: {:.5f}\".format(loss_train / train_steps))\n",
    "\n",
    "        model.eval()\n",
    "        with torch.no_grad():\n",
    "            y_dev_pred = model(x_dev)\n",
    "            loss = criterion(y_dev_pred, y_dev)\n",
    "            loss_test = loss.item()\n",
    "\n",
    "        acc_dev = acc(x_dev, y_dev)\n",
    "        print(\"Epoch {} | Train Loss {:.5f}, Train Acc {:.2f} - Test Loss {:.5f}, Test Acc {:.2f}\".format(\n",
    "            epoch, loss_train/train_steps, acc(x_train, y_train), loss_test, acc_dev))\n",
    "\n",
    "        if acc_dev > acc_dev_best and args.save_model:\n",
    "            torch.save(model.state_dict(), \"cnn_sentiment.pt\")\n",
    "            print(\"The model has been saved!\")\n",
    "            acc_dev_best = acc_dev"
   ]
  },
  {
   "cell_type": "markdown",
   "metadata": {
    "id": "sXhpKWqBCs55"
   },
   "source": [
    "# Test of Deep Learning"
   ]
  },
  {
   "cell_type": "code",
   "execution_count": null,
   "metadata": {
    "colab": {
     "base_uri": "https://localhost:8080/"
    },
    "id": "wCIjV0jDCv5X",
    "outputId": "aa1bdd17-4bae-4542-e144-cf31b20d6337"
   },
   "outputs": [],
   "source": [
    "\n",
    "x = None\n",
    "deep_learning_sentiment_prob = []\n",
    "\n",
    "for i in df.iloc[:,7]:\n",
    "\n",
    "\n",
    "  test = convert_to_ids([i.lower()], token_ids, args.seq_len)\n",
    "\n",
    "\n",
    "  test = torch.LongTensor(test).to(device)\n",
    "  pred = model(test).cpu().detach().numpy()[0]\n",
    "  print(pred)\n",
    "\n",
    "  x = softmax(pred)\n",
    "  deep_learning_sentiment_prob.append(x[1])"
   ]
  },
  {
   "cell_type": "code",
   "execution_count": null,
   "metadata": {
    "colab": {
     "base_uri": "https://localhost:8080/",
     "height": 1000
    },
    "id": "4OQthN08Cvtk",
    "outputId": "4167394b-09e6-4a67-e46a-61e6de592e40"
   },
   "outputs": [],
   "source": [
    "df['deep_learning_sentiment_prob'] = sentiment_prob\n",
    "df"
   ]
  },
  {
   "cell_type": "markdown",
   "metadata": {
    "id": "E3k8RjgeC-yO"
   },
   "source": [
    "#END OF DEEP LEARNING"
   ]
  },
  {
   "cell_type": "markdown",
   "metadata": {
    "id": "mcKTx8lgCK59"
   },
   "source": [
    "# Summary"
   ]
  },
  {
   "cell_type": "code",
   "execution_count": 180,
   "metadata": {
    "id": "hpjA5InZCK5-"
   },
   "outputs": [
    {
     "ename": "ValueError",
     "evalue": "Length of values (13) does not match length of index (12)",
     "output_type": "error",
     "traceback": [
      "\u001b[1;31m---------------------------------------------------------------------------\u001b[0m",
      "\u001b[1;31mValueError\u001b[0m                                Traceback (most recent call last)",
      "\u001b[1;32m<ipython-input-180-e172c2155eab>\u001b[0m in \u001b[0;36m<module>\u001b[1;34m\u001b[0m\n\u001b[1;32m----> 1\u001b[1;33m \u001b[0mdf\u001b[0m\u001b[1;33m[\u001b[0m\u001b[1;34m'Logistic Regression Sentiment'\u001b[0m\u001b[1;33m]\u001b[0m \u001b[1;33m=\u001b[0m \u001b[0msentiment\u001b[0m\u001b[1;33m\u001b[0m\u001b[1;33m\u001b[0m\u001b[0m\n\u001b[0m\u001b[0;32m      2\u001b[0m \u001b[0mdf\u001b[0m\u001b[1;33m[\u001b[0m\u001b[1;34m'sentiment_prob'\u001b[0m\u001b[1;33m]\u001b[0m \u001b[1;33m=\u001b[0m \u001b[0msentiment_prob\u001b[0m\u001b[1;33m\u001b[0m\u001b[1;33m\u001b[0m\u001b[0m\n",
      "\u001b[1;32m~\\Anaconda3\\lib\\site-packages\\pandas\\core\\frame.py\u001b[0m in \u001b[0;36m__setitem__\u001b[1;34m(self, key, value)\u001b[0m\n\u001b[0;32m   3038\u001b[0m         \u001b[1;32melse\u001b[0m\u001b[1;33m:\u001b[0m\u001b[1;33m\u001b[0m\u001b[1;33m\u001b[0m\u001b[0m\n\u001b[0;32m   3039\u001b[0m             \u001b[1;31m# set column\u001b[0m\u001b[1;33m\u001b[0m\u001b[1;33m\u001b[0m\u001b[1;33m\u001b[0m\u001b[0m\n\u001b[1;32m-> 3040\u001b[1;33m             \u001b[0mself\u001b[0m\u001b[1;33m.\u001b[0m\u001b[0m_set_item\u001b[0m\u001b[1;33m(\u001b[0m\u001b[0mkey\u001b[0m\u001b[1;33m,\u001b[0m \u001b[0mvalue\u001b[0m\u001b[1;33m)\u001b[0m\u001b[1;33m\u001b[0m\u001b[1;33m\u001b[0m\u001b[0m\n\u001b[0m\u001b[0;32m   3041\u001b[0m \u001b[1;33m\u001b[0m\u001b[0m\n\u001b[0;32m   3042\u001b[0m     \u001b[1;32mdef\u001b[0m \u001b[0m_setitem_slice\u001b[0m\u001b[1;33m(\u001b[0m\u001b[0mself\u001b[0m\u001b[1;33m,\u001b[0m \u001b[0mkey\u001b[0m\u001b[1;33m:\u001b[0m \u001b[0mslice\u001b[0m\u001b[1;33m,\u001b[0m \u001b[0mvalue\u001b[0m\u001b[1;33m)\u001b[0m\u001b[1;33m:\u001b[0m\u001b[1;33m\u001b[0m\u001b[1;33m\u001b[0m\u001b[0m\n",
      "\u001b[1;32m~\\Anaconda3\\lib\\site-packages\\pandas\\core\\frame.py\u001b[0m in \u001b[0;36m_set_item\u001b[1;34m(self, key, value)\u001b[0m\n\u001b[0;32m   3114\u001b[0m         \"\"\"\n\u001b[0;32m   3115\u001b[0m         \u001b[0mself\u001b[0m\u001b[1;33m.\u001b[0m\u001b[0m_ensure_valid_index\u001b[0m\u001b[1;33m(\u001b[0m\u001b[0mvalue\u001b[0m\u001b[1;33m)\u001b[0m\u001b[1;33m\u001b[0m\u001b[1;33m\u001b[0m\u001b[0m\n\u001b[1;32m-> 3116\u001b[1;33m         \u001b[0mvalue\u001b[0m \u001b[1;33m=\u001b[0m \u001b[0mself\u001b[0m\u001b[1;33m.\u001b[0m\u001b[0m_sanitize_column\u001b[0m\u001b[1;33m(\u001b[0m\u001b[0mkey\u001b[0m\u001b[1;33m,\u001b[0m \u001b[0mvalue\u001b[0m\u001b[1;33m)\u001b[0m\u001b[1;33m\u001b[0m\u001b[1;33m\u001b[0m\u001b[0m\n\u001b[0m\u001b[0;32m   3117\u001b[0m         \u001b[0mNDFrame\u001b[0m\u001b[1;33m.\u001b[0m\u001b[0m_set_item\u001b[0m\u001b[1;33m(\u001b[0m\u001b[0mself\u001b[0m\u001b[1;33m,\u001b[0m \u001b[0mkey\u001b[0m\u001b[1;33m,\u001b[0m \u001b[0mvalue\u001b[0m\u001b[1;33m)\u001b[0m\u001b[1;33m\u001b[0m\u001b[1;33m\u001b[0m\u001b[0m\n\u001b[0;32m   3118\u001b[0m \u001b[1;33m\u001b[0m\u001b[0m\n",
      "\u001b[1;32m~\\Anaconda3\\lib\\site-packages\\pandas\\core\\frame.py\u001b[0m in \u001b[0;36m_sanitize_column\u001b[1;34m(self, key, value, broadcast)\u001b[0m\n\u001b[0;32m   3762\u001b[0m \u001b[1;33m\u001b[0m\u001b[0m\n\u001b[0;32m   3763\u001b[0m             \u001b[1;31m# turn me into an ndarray\u001b[0m\u001b[1;33m\u001b[0m\u001b[1;33m\u001b[0m\u001b[1;33m\u001b[0m\u001b[0m\n\u001b[1;32m-> 3764\u001b[1;33m             \u001b[0mvalue\u001b[0m \u001b[1;33m=\u001b[0m \u001b[0msanitize_index\u001b[0m\u001b[1;33m(\u001b[0m\u001b[0mvalue\u001b[0m\u001b[1;33m,\u001b[0m \u001b[0mself\u001b[0m\u001b[1;33m.\u001b[0m\u001b[0mindex\u001b[0m\u001b[1;33m)\u001b[0m\u001b[1;33m\u001b[0m\u001b[1;33m\u001b[0m\u001b[0m\n\u001b[0m\u001b[0;32m   3765\u001b[0m             \u001b[1;32mif\u001b[0m \u001b[1;32mnot\u001b[0m \u001b[0misinstance\u001b[0m\u001b[1;33m(\u001b[0m\u001b[0mvalue\u001b[0m\u001b[1;33m,\u001b[0m \u001b[1;33m(\u001b[0m\u001b[0mnp\u001b[0m\u001b[1;33m.\u001b[0m\u001b[0mndarray\u001b[0m\u001b[1;33m,\u001b[0m \u001b[0mIndex\u001b[0m\u001b[1;33m)\u001b[0m\u001b[1;33m)\u001b[0m\u001b[1;33m:\u001b[0m\u001b[1;33m\u001b[0m\u001b[1;33m\u001b[0m\u001b[0m\n\u001b[0;32m   3766\u001b[0m                 \u001b[1;32mif\u001b[0m \u001b[0misinstance\u001b[0m\u001b[1;33m(\u001b[0m\u001b[0mvalue\u001b[0m\u001b[1;33m,\u001b[0m \u001b[0mlist\u001b[0m\u001b[1;33m)\u001b[0m \u001b[1;32mand\u001b[0m \u001b[0mlen\u001b[0m\u001b[1;33m(\u001b[0m\u001b[0mvalue\u001b[0m\u001b[1;33m)\u001b[0m \u001b[1;33m>\u001b[0m \u001b[1;36m0\u001b[0m\u001b[1;33m:\u001b[0m\u001b[1;33m\u001b[0m\u001b[1;33m\u001b[0m\u001b[0m\n",
      "\u001b[1;32m~\\Anaconda3\\lib\\site-packages\\pandas\\core\\internals\\construction.py\u001b[0m in \u001b[0;36msanitize_index\u001b[1;34m(data, index)\u001b[0m\n\u001b[0;32m    746\u001b[0m     \u001b[1;32mif\u001b[0m \u001b[0mlen\u001b[0m\u001b[1;33m(\u001b[0m\u001b[0mdata\u001b[0m\u001b[1;33m)\u001b[0m \u001b[1;33m!=\u001b[0m \u001b[0mlen\u001b[0m\u001b[1;33m(\u001b[0m\u001b[0mindex\u001b[0m\u001b[1;33m)\u001b[0m\u001b[1;33m:\u001b[0m\u001b[1;33m\u001b[0m\u001b[1;33m\u001b[0m\u001b[0m\n\u001b[0;32m    747\u001b[0m         raise ValueError(\n\u001b[1;32m--> 748\u001b[1;33m             \u001b[1;34m\"Length of values \"\u001b[0m\u001b[1;33m\u001b[0m\u001b[1;33m\u001b[0m\u001b[0m\n\u001b[0m\u001b[0;32m    749\u001b[0m             \u001b[1;34mf\"({len(data)}) \"\u001b[0m\u001b[1;33m\u001b[0m\u001b[1;33m\u001b[0m\u001b[0m\n\u001b[0;32m    750\u001b[0m             \u001b[1;34m\"does not match length of index \"\u001b[0m\u001b[1;33m\u001b[0m\u001b[1;33m\u001b[0m\u001b[0m\n",
      "\u001b[1;31mValueError\u001b[0m: Length of values (13) does not match length of index (12)"
     ]
    }
   ],
   "source": [
    "\n",
    "df['Logistic Regression Sentiment'] = sentiment\n",
    "df['sentiment_prob'] = sentiment_prob\n"
   ]
  },
  {
   "cell_type": "code",
   "execution_count": null,
   "metadata": {
    "colab": {
     "base_uri": "https://localhost:8080/"
    },
    "id": "C1UYyjQKCK5-",
    "outputId": "62d527bc-b891-4d14-b9e9-21ba6ea1bee7"
   },
   "outputs": [],
   "source": [
    "# Converting % stock price change to % stock price change per day\n",
    "days = [0]\n",
    "for i in range(len(df['Date'])):\n",
    "    if i != 0:\n",
    "        date_diff = df['Date'][i]-df['Date'][i-1]\n",
    "        day = date_diff.days\n",
    "        days.append(day)\n",
    "print(days)\n",
    "df['Days Elapsed'] = days\n",
    "df.head()\n",
    "df['% Change in Stock Price Per Day'] = df['% Change in Stock Price']/df['Days Elapsed']\n"
   ]
  },
  {
   "cell_type": "code",
   "execution_count": null,
   "metadata": {
    "id": "ziijK_nFCK5-"
   },
   "outputs": [],
   "source": [
    "df['Vader Sentiment'] = df['Vader Sentiment Score'].apply(lambda x: \"positive\" if x>0 else \"negative\")\n",
    "df['Logistic Regression Sentiment'] = df['sentiment_prob'].apply(lambda x: \"positive\" if x>0.5 else \"negative\")\n",
    "df['Stock Price Change'] = df['% Change in Stock Price Per Day'].apply(lambda x: \"positive\" if x>0 else \"negative\")\n",
    "df['deep_learning_sentiment_prob'] = df['deep_learning_sentiment_prob'].apply(lambda x: \"positive\" if x>0.5 else \"negative\")\n",
    "df.head()"
   ]
  },
  {
   "cell_type": "code",
   "execution_count": null,
   "metadata": {
    "colab": {
     "base_uri": "https://localhost:8080/",
     "height": 203
    },
    "id": "4XKQtrUfzdwe",
    "outputId": "a09b1115-666b-45f7-d9d2-981d0831218e"
   },
   "outputs": [],
   "source": [
    "columns = ['Date','Header','Stock Price Change', 'Vader Sentiment', 'Logistic Regression Sentiment','deep_learning_sentiment_prob']\n",
    "df_summary = df[columns]\n",
    "df_summary.head()"
   ]
  },
  {
   "cell_type": "code",
   "execution_count": null,
   "metadata": {
    "id": "yS65YrMYzdwf"
   },
   "outputs": [],
   "source": []
  }
 ],
 "metadata": {
  "accelerator": "GPU",
  "colab": {
   "collapsed_sections": [],
   "name": "Volkswagen.ipynb",
   "provenance": []
  },
  "kernelspec": {
   "display_name": "Python 3",
   "language": "python",
   "name": "python3"
  },
  "language_info": {
   "codemirror_mode": {
    "name": "ipython",
    "version": 3
   },
   "file_extension": ".py",
   "mimetype": "text/x-python",
   "name": "python",
   "nbconvert_exporter": "python",
   "pygments_lexer": "ipython3",
   "version": "3.7.9"
  }
 },
 "nbformat": 4,
 "nbformat_minor": 1
}
