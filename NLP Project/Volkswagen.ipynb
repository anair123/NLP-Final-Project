{
  "nbformat": 4,
  "nbformat_minor": 0,
  "metadata": {
    "colab": {
      "name": "Volkswagen.ipynb",
      "provenance": [],
      "collapsed_sections": []
    },
    "kernelspec": {
      "display_name": "Python 3",
      "language": "python",
      "name": "python3"
    },
    "language_info": {
      "codemirror_mode": {
        "name": "ipython",
        "version": 3
      },
      "file_extension": ".py",
      "mimetype": "text/x-python",
      "name": "python",
      "nbconvert_exporter": "python",
      "pygments_lexer": "ipython3",
      "version": "3.7.9"
    },
    "accelerator": "GPU"
  },
  "cells": [
    {
      "cell_type": "code",
      "metadata": {
        "colab": {
          "base_uri": "https://localhost:8080/"
        },
        "id": "Vg14mXw7zeug",
        "outputId": "66a0687c-5e7e-4dcc-c3b1-91d8b18ef9b9"
      },
      "source": [
        "from google.colab import drive\r\n",
        "\r\n",
        "# Mount Google Drive\r\n",
        "drive.mount('/content/drive')\r\n",
        "\r\n",
        "# Implement me\r\n",
        "# Set working directory\r\n",
        "abspath = '/content/drive/My Drive/Colab Notebooks/NLP/NLP-Final-Project/NLP Project'"
      ],
      "execution_count": 1,
      "outputs": [
        {
          "output_type": "stream",
          "text": [
            "Mounted at /content/drive\n"
          ],
          "name": "stdout"
        }
      ]
    },
    {
      "cell_type": "code",
      "metadata": {
        "colab": {
          "base_uri": "https://localhost:8080/",
          "height": 35
        },
        "id": "r30N7-TqzjDR",
        "outputId": "dcaeb4a2-64aa-4beb-da63-0a086075d3d9"
      },
      "source": [
        "import os\r\n",
        "os.chdir(abspath)\r\n",
        "os.getcwd()"
      ],
      "execution_count": 2,
      "outputs": [
        {
          "output_type": "execute_result",
          "data": {
            "application/vnd.google.colaboratory.intrinsic+json": {
              "type": "string"
            },
            "text/plain": [
              "'/content/drive/My Drive/Colab Notebooks/NLP/NLP-Final-Project/NLP Project'"
            ]
          },
          "metadata": {
            "tags": []
          },
          "execution_count": 2
        }
      ]
    },
    {
      "cell_type": "code",
      "metadata": {
        "id": "Hy5lBaPeCK57"
      },
      "source": [
        "import requests\n",
        "from bs4 import BeautifulSoup\n",
        "import pandas as pd\n",
        "from datetime import datetime\n",
        "import dateutil.parser\n",
        "import matplotlib.pyplot as plt"
      ],
      "execution_count": 3,
      "outputs": []
    },
    {
      "cell_type": "code",
      "metadata": {
        "id": "KPDz-_cXCK57"
      },
      "source": [
        "# dictionary of text dates and links\n",
        "\n",
        "# August 2, 2015\n",
        "url1 = 'https://www.reuters.com/article/us-toyota-sales-idUSKCN0Q805F20150803'\n",
        "\n",
        "# August 18, 2015\n",
        "url2 = 'https://uk.reuters.com/article/uk-china-blast-toyota/global-automakers-divert-shipments-from-chinas-tianjin-port-after-blasts-idUKKCN0QO07W20150819'\n",
        "\n",
        "# September 3, 2015\n",
        "url3 = 'https://www.reuters.com/article/us-volkswagen-chairman-poetsch/vws-finance-chief-set-to-become-new-chairman-idUSKCN0R31B620150903'\n",
        "\n",
        "# September 4, 2-15\n",
        "url4 = 'https://www.reuters.com/article/us-toyota-research-robotics-idUSKCN0R41X220150904'\n",
        "\n",
        "# September 18, 2015\n",
        "url5 = 'https://www.reuters.com/article/us-usa-volkswagen-idUSKCN0RI1VK20150918'\n",
        "\n",
        "# September 21, 2015\n",
        "url6 = 'https://www.reuters.com/article/us-usa-volkswagen-emission-idUSKCN0RL2EI20150922'\n",
        "\n",
        "# September 24, 2015\n",
        "url7 = 'https://www.reuters.com/article/usa-volkswagen-deception-idUSL1N11U1OB20150924'\n",
        "\n",
        "# September 29, 2015\n",
        "url8 = 'https://www.reuters.com/article/volkswagen-emissions-technology-idUSL1N11Z1XQ20150929'\n",
        "\n",
        "\n",
        "# October 8, 2015\n",
        "url9 = 'https://www.reuters.com/article/us-volkswagen-emissions-consumers-insigh-idUSKCN0S20CK20151008'\n",
        "\n",
        "# October 13, 2015\n",
        "url10 = 'https://in.reuters.com/article/us-volkswagen-emissions-investment/vw-looks-to-cutbacks-and-electric-cars-to-overcome-scandal-idUKKCN0S710020151013'\n",
        "\n",
        "# October 21, 2015\n",
        "url11 = 'https://ca.reuters.com/article/businessNews/idCAKCN0SF1FU20151021'\n",
        "\n",
        "# October 22, 2015\n",
        "url12 = 'https://www.reuters.com/article/us-volkswagen-emissions-brazil-idUSKCN0SG1N720151022'\n",
        "\n",
        "\n",
        "# October 28, 2015\n",
        "url13 = 'https://www.reuters.com/article/us-volkswagen-emissions-dealers-idUSKCN0SM2SG20151028'\n",
        "\n",
        "# November 4, 2015\n",
        "url14 = 'https://www.reuters.com/article/us-volkswagen-emissions-idUSKCN0ST1VY20151104'\n",
        "\n",
        "# November 8, 2015\n",
        "url15 = 'https://www.reuters.com/article/volkswagen-emissions/vw-engineers-have-admitted-manipulating-co2-emissions-data-paper-idUKL8N1320KD20151108'\n",
        "\n",
        "url_dict = {'08/02/2015':url1,\n",
        "            '08/18/2015':url2,\n",
        "            '09/03/2015':url3,\n",
        "            '09/04/2015':url4,\n",
        "            '09/18/2015':url5,\n",
        "           '09/21/2015':url6,\n",
        "           '09/24/2015':url7,\n",
        "            '09/29/2015':url8,\n",
        "            '10/08/2015':url9,\n",
        "            '10/13/2015':url10,\n",
        "            '10/21/2015':url11,\n",
        "           '10/22/2015':url12,\n",
        "           '10/28/2015':url13,\n",
        "            '11/04/2015':url14,\n",
        "           '11/08/2015':url15,\n",
        "           }\n"
      ],
      "execution_count": 4,
      "outputs": []
    },
    {
      "cell_type": "code",
      "metadata": {
        "id": "tF3jRI1gCK57"
      },
      "source": [
        "# extract info from each website and store it in dataframe\n",
        "df_text = pd.DataFrame(columns = ['Date','Header','Text'])\n",
        "header = []\n",
        "text = []\n",
        "date = []\n",
        "for key in url_dict:\n",
        "    page = requests.get(url_dict[key]).text\n",
        "    soup = BeautifulSoup(page, 'html.parser')\n",
        "    date.append(datetime.strptime(key, '%m/%d/%Y').date())\n",
        "    url_header = soup.find('h1').text\n",
        "    header.append(url_header)\n",
        "    url_text = soup.find('div', class_ = 'ArticleBodyWrapper').text\n",
        "    text.append(url_text)\n",
        "df_text['Date']=date\n",
        "df_text['Header']=header\n",
        "df_text['Text']=text\n",
        "\n",
        "# remove the author and \"min read\" sections\n",
        "df_text_temp = [] \n",
        "for text in df_text['Text']:\n",
        "    loc = text.find('(Reuters)')\n",
        "    df_text_temp.append(text[loc+9:])\n",
        "df_text['Text'] = df_text_temp\n",
        "\n",
        "\n"
      ],
      "execution_count": 5,
      "outputs": []
    },
    {
      "cell_type": "code",
      "metadata": {
        "id": "TrAaQuU4CK57",
        "colab": {
          "base_uri": "https://localhost:8080/",
          "height": 512
        },
        "outputId": "c190df9d-4007-45fd-ac2c-69bf54f91f53"
      },
      "source": [
        "df_text"
      ],
      "execution_count": 6,
      "outputs": [
        {
          "output_type": "execute_result",
          "data": {
            "text/html": [
              "<div>\n",
              "<style scoped>\n",
              "    .dataframe tbody tr th:only-of-type {\n",
              "        vertical-align: middle;\n",
              "    }\n",
              "\n",
              "    .dataframe tbody tr th {\n",
              "        vertical-align: top;\n",
              "    }\n",
              "\n",
              "    .dataframe thead th {\n",
              "        text-align: right;\n",
              "    }\n",
              "</style>\n",
              "<table border=\"1\" class=\"dataframe\">\n",
              "  <thead>\n",
              "    <tr style=\"text-align: right;\">\n",
              "      <th></th>\n",
              "      <th>Date</th>\n",
              "      <th>Header</th>\n",
              "      <th>Text</th>\n",
              "    </tr>\n",
              "  </thead>\n",
              "  <tbody>\n",
              "    <tr>\n",
              "      <th>0</th>\n",
              "      <td>2015-08-02</td>\n",
              "      <td>Volkswagen overtakes Toyota as world's biggest...</td>\n",
              "      <td>- Volkswagen VOWG_p.DE overtook Toyota 7203.T...</td>\n",
              "    </tr>\n",
              "    <tr>\n",
              "      <th>1</th>\n",
              "      <td>2015-08-18</td>\n",
              "      <td>Global automakers divert shipments from China'...</td>\n",
              "      <td>- Toyota Motor Corp 7203.T and rival global a...</td>\n",
              "    </tr>\n",
              "    <tr>\n",
              "      <th>2</th>\n",
              "      <td>2015-09-03</td>\n",
              "      <td>VW's finance chief set to become new chairman</td>\n",
              "      <td>- Volkswagen's VOWG_p.DE finance chief Hans D...</td>\n",
              "    </tr>\n",
              "    <tr>\n",
              "      <th>3</th>\n",
              "      <td>2015-09-04</td>\n",
              "      <td>Toyota partners with Stanford, MIT on self-dri...</td>\n",
              "      <td>- Toyota Motor Corp is collaborating with two...</td>\n",
              "    </tr>\n",
              "    <tr>\n",
              "      <th>4</th>\n",
              "      <td>2015-09-18</td>\n",
              "      <td>Volkswagen could face $18 billion penalties fr...</td>\n",
              "      <td>- Volkswagen AG VOWG_p.DE faces penalties up ...</td>\n",
              "    </tr>\n",
              "    <tr>\n",
              "      <th>5</th>\n",
              "      <td>2015-09-21</td>\n",
              "      <td>Volkswagen's 'clean diesel' strategy unraveled...</td>\n",
              "      <td>- When the International Council for Clean Tr...</td>\n",
              "    </tr>\n",
              "    <tr>\n",
              "      <th>6</th>\n",
              "      <td>2015-09-24</td>\n",
              "      <td>INSIGHT-After year of stonewalling, VW stunned...</td>\n",
              "      <td>- The confession of cheating that’s embroiled...</td>\n",
              "    </tr>\n",
              "    <tr>\n",
              "      <th>7</th>\n",
              "      <td>2015-09-29</td>\n",
              "      <td>Illegal VW diesel emission systems may require...</td>\n",
              "      <td>- Volkswagen AG ‘s promise to fix pollution c...</td>\n",
              "    </tr>\n",
              "    <tr>\n",
              "      <th>8</th>\n",
              "      <td>2015-10-08</td>\n",
              "      <td>VW's U.S. recall could be thwarted by reluctan...</td>\n",
              "      <td>- As Volkswagen AG prepares to explain how it...</td>\n",
              "    </tr>\n",
              "    <tr>\n",
              "      <th>9</th>\n",
              "      <td>2015-10-13</td>\n",
              "      <td>VW looks to cutbacks and electric cars to over...</td>\n",
              "      <td>- Volkswagen will cut investment plans at its...</td>\n",
              "    </tr>\n",
              "    <tr>\n",
              "      <th>10</th>\n",
              "      <td>2015-10-21</td>\n",
              "      <td>Volkswagen CEO says emissions scandal bill cou...</td>\n",
              "      <td>- Volkswagen VOWG_p.DE may have to set aside ...</td>\n",
              "    </tr>\n",
              "    <tr>\n",
              "      <th>11</th>\n",
              "      <td>2015-10-22</td>\n",
              "      <td>Volkswagen to recall Brazil pickups in emissio...</td>\n",
              "      <td>- Volkswagen AG VOWG_p.DE plans to recall 17,...</td>\n",
              "    </tr>\n",
              "    <tr>\n",
              "      <th>12</th>\n",
              "      <td>2015-10-28</td>\n",
              "      <td>VW dealers offer hefty discounts as diesel cri...</td>\n",
              "      <td>- Many of Volkswagen AG's VOWG_p.DE U.S. deal...</td>\n",
              "    </tr>\n",
              "    <tr>\n",
              "      <th>13</th>\n",
              "      <td>2015-11-04</td>\n",
              "      <td>Germany to retest VW cars as scandal pushes Be...</td>\n",
              "      <td>- Germany is to retest all Volkswagen VOWG_p....</td>\n",
              "    </tr>\n",
              "    <tr>\n",
              "      <th>14</th>\n",
              "      <td>2015-11-08</td>\n",
              "      <td>VW engineers have admitted manipulating CO2 em...</td>\n",
              "      <td>- Several Volkswagen engineers have admitted ...</td>\n",
              "    </tr>\n",
              "  </tbody>\n",
              "</table>\n",
              "</div>"
            ],
            "text/plain": [
              "          Date  ...                                               Text\n",
              "0   2015-08-02  ...   - Volkswagen VOWG_p.DE overtook Toyota 7203.T...\n",
              "1   2015-08-18  ...   - Toyota Motor Corp 7203.T and rival global a...\n",
              "2   2015-09-03  ...   - Volkswagen's VOWG_p.DE finance chief Hans D...\n",
              "3   2015-09-04  ...   - Toyota Motor Corp is collaborating with two...\n",
              "4   2015-09-18  ...   - Volkswagen AG VOWG_p.DE faces penalties up ...\n",
              "5   2015-09-21  ...   - When the International Council for Clean Tr...\n",
              "6   2015-09-24  ...   - The confession of cheating that’s embroiled...\n",
              "7   2015-09-29  ...   - Volkswagen AG ‘s promise to fix pollution c...\n",
              "8   2015-10-08  ...   - As Volkswagen AG prepares to explain how it...\n",
              "9   2015-10-13  ...   - Volkswagen will cut investment plans at its...\n",
              "10  2015-10-21  ...   - Volkswagen VOWG_p.DE may have to set aside ...\n",
              "11  2015-10-22  ...   - Volkswagen AG VOWG_p.DE plans to recall 17,...\n",
              "12  2015-10-28  ...   - Many of Volkswagen AG's VOWG_p.DE U.S. deal...\n",
              "13  2015-11-04  ...   - Germany is to retest all Volkswagen VOWG_p....\n",
              "14  2015-11-08  ...   - Several Volkswagen engineers have admitted ...\n",
              "\n",
              "[15 rows x 3 columns]"
            ]
          },
          "metadata": {
            "tags": []
          },
          "execution_count": 6
        }
      ]
    },
    {
      "cell_type": "code",
      "metadata": {
        "id": "Hz8G9BPzzzkQ"
      },
      "source": [
        ""
      ],
      "execution_count": 6,
      "outputs": []
    },
    {
      "cell_type": "code",
      "metadata": {
        "id": "5tum9ilYCK58"
      },
      "source": [
        "# import stock data of netflix\n",
        "df_stock = pd.read_csv('Volkswagen.csv', header=0)\n",
        "df_stock['Date']=df_stock['Date'].apply(lambda x: datetime.strptime(x, '%m/%d/%Y').date())\n",
        "\n",
        "df_stock = df_stock[df_stock[' Volume'] != ' N/A']\n",
        "\n",
        "# Remove $ sign and change to int variable\n",
        "df_stock[' Open'] = df_stock[' Open'].apply(lambda x : x[1:])\n",
        "df_stock[' High'] = df_stock[' High'].apply(lambda x : x[1:])\n",
        "df_stock[' Low'] = df_stock[' Low'].apply(lambda x : x[1:])\n",
        "df_stock[' Close/Last'] = df_stock[' Close/Last'].apply(lambda x : x[1:])\n",
        "\n",
        "# Remove $ sign and change to int variable\n",
        "df_stock[' Open'] = df_stock[' Open'].astype(float)\n",
        "df_stock[' High'] = df_stock[' High'].astype(float)\n",
        "df_stock[' Volume'] = df_stock[' Volume'].astype(float)\n",
        "df_stock[' Low'] = df_stock[' Low'].astype(float)\n",
        "df_stock[' Close/Last'] = df_stock[' Close/Last'].astype(float)\n",
        "\n",
        "columns_remove = [' High', ' Low', ' Close/Last']\n",
        "df_stock = df_stock.drop(columns_remove, axis=1)\n",
        "\n"
      ],
      "execution_count": 7,
      "outputs": []
    },
    {
      "cell_type": "code",
      "metadata": {
        "id": "kODDAFUjCK58",
        "colab": {
          "base_uri": "https://localhost:8080/",
          "height": 295
        },
        "outputId": "78cb64d4-e8a7-4b7d-ad2c-b80f40e09246"
      },
      "source": [
        "df_plot = df_stock[(df_stock['Date']>pd.to_datetime('07/01/2015')) & (df_stock['Date']<pd.to_datetime('12/01/2015'))]\n",
        "plt.figure()\n",
        "plt.plot(df_plot['Date'], df_plot[' Open'])\n",
        "plt.xlabel('Date')\n",
        "plt.ylabel('Stock Price')\n",
        "plt.title('Stock Price of Volkswagen')\n",
        "plt.show()"
      ],
      "execution_count": 8,
      "outputs": [
        {
          "output_type": "display_data",
          "data": {
            "image/png": "[encoded data removed]",
            "text/plain": [
              "<Figure size 432x288 with 1 Axes>"
            ]
          },
          "metadata": {
            "tags": [],
            "needs_background": "light"
          }
        }
      ]
    },
    {
      "cell_type": "code",
      "metadata": {
        "id": "SXBNSGRBCK58"
      },
      "source": [
        "# Merge two dataframes\n",
        "df = pd.merge(df_text, df_stock, how='inner', on='Date')\n",
        "df = df.sort_values('Date')"
      ],
      "execution_count": 9,
      "outputs": []
    },
    {
      "cell_type": "code",
      "metadata": {
        "id": "ywS7dfZeCK58",
        "colab": {
          "base_uri": "https://localhost:8080/",
          "height": 203
        },
        "outputId": "6afd469c-7bcf-448a-e46f-c2b6bd174343"
      },
      "source": [
        "# show % change in stock price after news article publish\n",
        "pct_stock = df[' Open'].pct_change()*100\n",
        "df['% Change in Stock Price'] = pct_stock\n",
        "pct_volume = df[' Volume'].pct_change()*100\n",
        "df['% Change in Volume'] = pct_volume\n",
        "df.head()"
      ],
      "execution_count": 10,
      "outputs": [
        {
          "output_type": "execute_result",
          "data": {
            "text/html": [
              "<div>\n",
              "<style scoped>\n",
              "    .dataframe tbody tr th:only-of-type {\n",
              "        vertical-align: middle;\n",
              "    }\n",
              "\n",
              "    .dataframe tbody tr th {\n",
              "        vertical-align: top;\n",
              "    }\n",
              "\n",
              "    .dataframe thead th {\n",
              "        text-align: right;\n",
              "    }\n",
              "</style>\n",
              "<table border=\"1\" class=\"dataframe\">\n",
              "  <thead>\n",
              "    <tr style=\"text-align: right;\">\n",
              "      <th></th>\n",
              "      <th>Date</th>\n",
              "      <th>Header</th>\n",
              "      <th>Text</th>\n",
              "      <th>Volume</th>\n",
              "      <th>Open</th>\n",
              "      <th>% Change in Stock Price</th>\n",
              "      <th>% Change in Volume</th>\n",
              "    </tr>\n",
              "  </thead>\n",
              "  <tbody>\n",
              "    <tr>\n",
              "      <th>0</th>\n",
              "      <td>2015-08-18</td>\n",
              "      <td>Global automakers divert shipments from China'...</td>\n",
              "      <td>- Toyota Motor Corp 7203.T and rival global a...</td>\n",
              "      <td>351.0</td>\n",
              "      <td>191.50</td>\n",
              "      <td>NaN</td>\n",
              "      <td>NaN</td>\n",
              "    </tr>\n",
              "    <tr>\n",
              "      <th>1</th>\n",
              "      <td>2015-09-03</td>\n",
              "      <td>VW's finance chief set to become new chairman</td>\n",
              "      <td>- Volkswagen's VOWG_p.DE finance chief Hans D...</td>\n",
              "      <td>295.0</td>\n",
              "      <td>180.10</td>\n",
              "      <td>-5.953003</td>\n",
              "      <td>-15.954416</td>\n",
              "    </tr>\n",
              "    <tr>\n",
              "      <th>2</th>\n",
              "      <td>2015-09-04</td>\n",
              "      <td>Toyota partners with Stanford, MIT on self-dri...</td>\n",
              "      <td>- Toyota Motor Corp is collaborating with two...</td>\n",
              "      <td>51.0</td>\n",
              "      <td>177.20</td>\n",
              "      <td>-1.610217</td>\n",
              "      <td>-82.711864</td>\n",
              "    </tr>\n",
              "    <tr>\n",
              "      <th>3</th>\n",
              "      <td>2015-09-18</td>\n",
              "      <td>Volkswagen could face $18 billion penalties fr...</td>\n",
              "      <td>- Volkswagen AG VOWG_p.DE faces penalties up ...</td>\n",
              "      <td>209.0</td>\n",
              "      <td>185.60</td>\n",
              "      <td>4.740406</td>\n",
              "      <td>309.803922</td>\n",
              "    </tr>\n",
              "    <tr>\n",
              "      <th>4</th>\n",
              "      <td>2015-09-21</td>\n",
              "      <td>Volkswagen's 'clean diesel' strategy unraveled...</td>\n",
              "      <td>- When the International Council for Clean Tr...</td>\n",
              "      <td>20900.0</td>\n",
              "      <td>149.88</td>\n",
              "      <td>-19.245690</td>\n",
              "      <td>9900.000000</td>\n",
              "    </tr>\n",
              "  </tbody>\n",
              "</table>\n",
              "</div>"
            ],
            "text/plain": [
              "         Date  ... % Change in Volume\n",
              "0  2015-08-18  ...                NaN\n",
              "1  2015-09-03  ...         -15.954416\n",
              "2  2015-09-04  ...         -82.711864\n",
              "3  2015-09-18  ...         309.803922\n",
              "4  2015-09-21  ...        9900.000000\n",
              "\n",
              "[5 rows x 7 columns]"
            ]
          },
          "metadata": {
            "tags": []
          },
          "execution_count": 10
        }
      ]
    },
    {
      "cell_type": "markdown",
      "metadata": {
        "id": "q06_XqqLCK58"
      },
      "source": [
        "# Processing the text\n"
      ]
    },
    {
      "cell_type": "markdown",
      "metadata": {
        "id": "Er8uEaUfCK58"
      },
      "source": [
        "## import spacy libraries\n",
        "import spacy\n",
        "import en_core_web_sm\n",
        "from  spacy.lang.en.stop_words import STOP_WORDS\n",
        "nlp = spacy.load('en_core_web_sm')"
      ]
    },
    {
      "cell_type": "code",
      "metadata": {
        "id": "LUyKlHqgCK58"
      },
      "source": [
        "# import spacy libraries\n",
        "import spacy\n",
        "import en_core_web_sm\n",
        "from  spacy.lang.en.stop_words import STOP_WORDS\n",
        "nlp = spacy.load('en_core_web_sm')"
      ],
      "execution_count": 11,
      "outputs": []
    },
    {
      "cell_type": "code",
      "metadata": {
        "id": "PVw8hrcXCK58"
      },
      "source": [
        "\n",
        "text_nlp = nlp(df['Text'][1]) \n",
        "# Remove stop words\n",
        "text_nlp_clean = [word for word in text_nlp if word.is_stop == False]\n",
        "# Lemmatize words\n",
        "text_nlp_clean = [word.lemma_ for word in text_nlp_clean]"
      ],
      "execution_count": 12,
      "outputs": []
    },
    {
      "cell_type": "code",
      "metadata": {
        "id": "aTJxyIwpCK58",
        "colab": {
          "base_uri": "https://localhost:8080/",
          "height": 203
        },
        "outputId": "0c40ab95-9776-43ba-9d84-ac9321a79c2f"
      },
      "source": [
        "text_clean = []\n",
        "for ind, row in df.iterrows():\n",
        "    \n",
        "    # lower casing\n",
        "    text_lower = row['Text'].lower()\n",
        "    \n",
        "    # tokenization\n",
        "    text_nlp = nlp(row['Text']) \n",
        "    \n",
        "    # remove punctuation and empty space\n",
        "    text_nlp_clean = [word for word in text_nlp if not word.is_punct | word.is_space]\n",
        "    \n",
        "    # Remove stop words\n",
        "    text_nlp_clean = [word for word in text_nlp_clean if word.is_stop == False]\n",
        "    \n",
        "    # Lemmatize tokens\n",
        "    text_nlp_clean = [word.lemma_ for word in text_nlp_clean]\n",
        "    \n",
        "    # add preprocessed text to list\n",
        "    text_clean.append(text_nlp_clean)\n",
        "\n",
        "# turn list of strings to string\n",
        "to_string = []\n",
        "for text in text_clean:\n",
        "    to_string.append(' '.join(text))\n",
        "\n",
        "\n",
        "df['Text (clean)'] = to_string\n",
        "df.head()"
      ],
      "execution_count": 13,
      "outputs": [
        {
          "output_type": "execute_result",
          "data": {
            "text/html": [
              "<div>\n",
              "<style scoped>\n",
              "    .dataframe tbody tr th:only-of-type {\n",
              "        vertical-align: middle;\n",
              "    }\n",
              "\n",
              "    .dataframe tbody tr th {\n",
              "        vertical-align: top;\n",
              "    }\n",
              "\n",
              "    .dataframe thead th {\n",
              "        text-align: right;\n",
              "    }\n",
              "</style>\n",
              "<table border=\"1\" class=\"dataframe\">\n",
              "  <thead>\n",
              "    <tr style=\"text-align: right;\">\n",
              "      <th></th>\n",
              "      <th>Date</th>\n",
              "      <th>Header</th>\n",
              "      <th>Text</th>\n",
              "      <th>Volume</th>\n",
              "      <th>Open</th>\n",
              "      <th>% Change in Stock Price</th>\n",
              "      <th>% Change in Volume</th>\n",
              "      <th>Text (clean)</th>\n",
              "    </tr>\n",
              "  </thead>\n",
              "  <tbody>\n",
              "    <tr>\n",
              "      <th>0</th>\n",
              "      <td>2015-08-18</td>\n",
              "      <td>Global automakers divert shipments from China'...</td>\n",
              "      <td>- Toyota Motor Corp 7203.T and rival global a...</td>\n",
              "      <td>351.0</td>\n",
              "      <td>191.50</td>\n",
              "      <td>NaN</td>\n",
              "      <td>NaN</td>\n",
              "      <td>Toyota Motor Corp 7203.t rival global automake...</td>\n",
              "    </tr>\n",
              "    <tr>\n",
              "      <th>1</th>\n",
              "      <td>2015-09-03</td>\n",
              "      <td>VW's finance chief set to become new chairman</td>\n",
              "      <td>- Volkswagen's VOWG_p.DE finance chief Hans D...</td>\n",
              "      <td>295.0</td>\n",
              "      <td>180.10</td>\n",
              "      <td>-5.953003</td>\n",
              "      <td>-15.954416</td>\n",
              "      <td>Volkswagen VOWG_p de finance chief Hans Dieter...</td>\n",
              "    </tr>\n",
              "    <tr>\n",
              "      <th>2</th>\n",
              "      <td>2015-09-04</td>\n",
              "      <td>Toyota partners with Stanford, MIT on self-dri...</td>\n",
              "      <td>- Toyota Motor Corp is collaborating with two...</td>\n",
              "      <td>51.0</td>\n",
              "      <td>177.20</td>\n",
              "      <td>-1.610217</td>\n",
              "      <td>-82.711864</td>\n",
              "      <td>Toyota Motor Corp collaborate U.S. university ...</td>\n",
              "    </tr>\n",
              "    <tr>\n",
              "      <th>3</th>\n",
              "      <td>2015-09-18</td>\n",
              "      <td>Volkswagen could face $18 billion penalties fr...</td>\n",
              "      <td>- Volkswagen AG VOWG_p.DE faces penalties up ...</td>\n",
              "      <td>209.0</td>\n",
              "      <td>185.60</td>\n",
              "      <td>4.740406</td>\n",
              "      <td>309.803922</td>\n",
              "      <td>Volkswagen AG VOWG_p de face penalty $ 18 bill...</td>\n",
              "    </tr>\n",
              "    <tr>\n",
              "      <th>4</th>\n",
              "      <td>2015-09-21</td>\n",
              "      <td>Volkswagen's 'clean diesel' strategy unraveled...</td>\n",
              "      <td>- When the International Council for Clean Tr...</td>\n",
              "      <td>20900.0</td>\n",
              "      <td>149.88</td>\n",
              "      <td>-19.245690</td>\n",
              "      <td>9900.000000</td>\n",
              "      <td>International Council Clean Transportation ICC...</td>\n",
              "    </tr>\n",
              "  </tbody>\n",
              "</table>\n",
              "</div>"
            ],
            "text/plain": [
              "         Date  ...                                       Text (clean)\n",
              "0  2015-08-18  ...  Toyota Motor Corp 7203.t rival global automake...\n",
              "1  2015-09-03  ...  Volkswagen VOWG_p de finance chief Hans Dieter...\n",
              "2  2015-09-04  ...  Toyota Motor Corp collaborate U.S. university ...\n",
              "3  2015-09-18  ...  Volkswagen AG VOWG_p de face penalty $ 18 bill...\n",
              "4  2015-09-21  ...  International Council Clean Transportation ICC...\n",
              "\n",
              "[5 rows x 8 columns]"
            ]
          },
          "metadata": {
            "tags": []
          },
          "execution_count": 13
        }
      ]
    },
    {
      "cell_type": "markdown",
      "metadata": {
        "id": "i0agqlmOCK59"
      },
      "source": [
        "\n",
        "# Using a Pretrained Model "
      ]
    },
    {
      "cell_type": "code",
      "metadata": {
        "id": "pzKIIE-CCK59",
        "colab": {
          "base_uri": "https://localhost:8080/"
        },
        "outputId": "850d9009-dece-42fe-e3f5-cb3dd33fb059"
      },
      "source": [
        "from nltk.sentiment import SentimentIntensityAnalyzer"
      ],
      "execution_count": 14,
      "outputs": [
        {
          "output_type": "stream",
          "text": [
            "/usr/local/lib/python3.6/dist-packages/nltk/twitter/__init__.py:20: UserWarning: The twython library has not been installed. Some functionality from the twitter package will not be available.\n",
            "  warnings.warn(\"The twython library has not been installed. \"\n"
          ],
          "name": "stderr"
        }
      ]
    },
    {
      "cell_type": "code",
      "metadata": {
        "colab": {
          "base_uri": "https://localhost:8080/"
        },
        "id": "VbMC5T0Hz96-",
        "outputId": "66ada073-5d63-4bd2-dc5d-f4d4ac89d59d"
      },
      "source": [
        "import nltk\r\n",
        "nltk.download('vader_lexicon')"
      ],
      "execution_count": 15,
      "outputs": [
        {
          "output_type": "stream",
          "text": [
            "[nltk_data] Downloading package vader_lexicon to /root/nltk_data...\n"
          ],
          "name": "stdout"
        },
        {
          "output_type": "execute_result",
          "data": {
            "text/plain": [
              "True"
            ]
          },
          "metadata": {
            "tags": []
          },
          "execution_count": 15
        }
      ]
    },
    {
      "cell_type": "code",
      "metadata": {
        "id": "yFeFaQWTCK59"
      },
      "source": [
        "# a function to return sentiment score\n",
        "def polarity_score(text):\n",
        "    sid = SentimentIntensityAnalyzer()\n",
        "    return sid.polarity_scores(text)['compound']\n",
        "\n",
        "vader_score = []\n",
        "for text in df['Text (clean)']:\n",
        "    score = polarity_score(text)\n",
        "    vader_score.append(score)\n",
        "\n",
        "df['Vader Sentiment Score'] = vader_score"
      ],
      "execution_count": 16,
      "outputs": []
    },
    {
      "cell_type": "code",
      "metadata": {
        "id": "k2E0AfcdCK59",
        "colab": {
          "base_uri": "https://localhost:8080/",
          "height": 203
        },
        "outputId": "c8e69fcc-f78b-41a8-8a9a-8cdb48a0b977"
      },
      "source": [
        "df.head()"
      ],
      "execution_count": 17,
      "outputs": [
        {
          "output_type": "execute_result",
          "data": {
            "text/html": [
              "<div>\n",
              "<style scoped>\n",
              "    .dataframe tbody tr th:only-of-type {\n",
              "        vertical-align: middle;\n",
              "    }\n",
              "\n",
              "    .dataframe tbody tr th {\n",
              "        vertical-align: top;\n",
              "    }\n",
              "\n",
              "    .dataframe thead th {\n",
              "        text-align: right;\n",
              "    }\n",
              "</style>\n",
              "<table border=\"1\" class=\"dataframe\">\n",
              "  <thead>\n",
              "    <tr style=\"text-align: right;\">\n",
              "      <th></th>\n",
              "      <th>Date</th>\n",
              "      <th>Header</th>\n",
              "      <th>Text</th>\n",
              "      <th>Volume</th>\n",
              "      <th>Open</th>\n",
              "      <th>% Change in Stock Price</th>\n",
              "      <th>% Change in Volume</th>\n",
              "      <th>Text (clean)</th>\n",
              "      <th>Vader Sentiment Score</th>\n",
              "    </tr>\n",
              "  </thead>\n",
              "  <tbody>\n",
              "    <tr>\n",
              "      <th>0</th>\n",
              "      <td>2015-08-18</td>\n",
              "      <td>Global automakers divert shipments from China'...</td>\n",
              "      <td>- Toyota Motor Corp 7203.T and rival global a...</td>\n",
              "      <td>351.0</td>\n",
              "      <td>191.50</td>\n",
              "      <td>NaN</td>\n",
              "      <td>NaN</td>\n",
              "      <td>Toyota Motor Corp 7203.t rival global automake...</td>\n",
              "      <td>-0.9571</td>\n",
              "    </tr>\n",
              "    <tr>\n",
              "      <th>1</th>\n",
              "      <td>2015-09-03</td>\n",
              "      <td>VW's finance chief set to become new chairman</td>\n",
              "      <td>- Volkswagen's VOWG_p.DE finance chief Hans D...</td>\n",
              "      <td>295.0</td>\n",
              "      <td>180.10</td>\n",
              "      <td>-5.953003</td>\n",
              "      <td>-15.954416</td>\n",
              "      <td>Volkswagen VOWG_p de finance chief Hans Dieter...</td>\n",
              "      <td>0.9861</td>\n",
              "    </tr>\n",
              "    <tr>\n",
              "      <th>2</th>\n",
              "      <td>2015-09-04</td>\n",
              "      <td>Toyota partners with Stanford, MIT on self-dri...</td>\n",
              "      <td>- Toyota Motor Corp is collaborating with two...</td>\n",
              "      <td>51.0</td>\n",
              "      <td>177.20</td>\n",
              "      <td>-1.610217</td>\n",
              "      <td>-82.711864</td>\n",
              "      <td>Toyota Motor Corp collaborate U.S. university ...</td>\n",
              "      <td>0.9917</td>\n",
              "    </tr>\n",
              "    <tr>\n",
              "      <th>3</th>\n",
              "      <td>2015-09-18</td>\n",
              "      <td>Volkswagen could face $18 billion penalties fr...</td>\n",
              "      <td>- Volkswagen AG VOWG_p.DE faces penalties up ...</td>\n",
              "      <td>209.0</td>\n",
              "      <td>185.60</td>\n",
              "      <td>4.740406</td>\n",
              "      <td>309.803922</td>\n",
              "      <td>Volkswagen AG VOWG_p de face penalty $ 18 bill...</td>\n",
              "      <td>0.8720</td>\n",
              "    </tr>\n",
              "    <tr>\n",
              "      <th>4</th>\n",
              "      <td>2015-09-21</td>\n",
              "      <td>Volkswagen's 'clean diesel' strategy unraveled...</td>\n",
              "      <td>- When the International Council for Clean Tr...</td>\n",
              "      <td>20900.0</td>\n",
              "      <td>149.88</td>\n",
              "      <td>-19.245690</td>\n",
              "      <td>9900.000000</td>\n",
              "      <td>International Council Clean Transportation ICC...</td>\n",
              "      <td>0.8024</td>\n",
              "    </tr>\n",
              "  </tbody>\n",
              "</table>\n",
              "</div>"
            ],
            "text/plain": [
              "         Date  ... Vader Sentiment Score\n",
              "0  2015-08-18  ...               -0.9571\n",
              "1  2015-09-03  ...                0.9861\n",
              "2  2015-09-04  ...                0.9917\n",
              "3  2015-09-18  ...                0.8720\n",
              "4  2015-09-21  ...                0.8024\n",
              "\n",
              "[5 rows x 9 columns]"
            ]
          },
          "metadata": {
            "tags": []
          },
          "execution_count": 17
        }
      ]
    },
    {
      "cell_type": "markdown",
      "metadata": {
        "id": "yzyJ3bWLCK59"
      },
      "source": [
        "## Sentiment Analysis"
      ]
    },
    {
      "cell_type": "code",
      "metadata": {
        "id": "5QVF10MvCK59"
      },
      "source": [
        "# run this cell to import nltk\n",
        "import nltk\n",
        "from os import getcwd\n",
        "import numpy as np\n",
        "import pandas as pd\n",
        "from nltk.corpus import twitter_samples \n",
        "from utils import process_tweet, build_freqs"
      ],
      "execution_count": 18,
      "outputs": []
    },
    {
      "cell_type": "code",
      "metadata": {
        "id": "-50moZMOCK59",
        "colab": {
          "base_uri": "https://localhost:8080/"
        },
        "outputId": "3aa0b397-d134-444f-e08e-fc116f9d4800"
      },
      "source": [
        "nltk.download('twitter_samples')\n",
        "nltk.download('stopwords')"
      ],
      "execution_count": 19,
      "outputs": [
        {
          "output_type": "stream",
          "text": [
            "[nltk_data] Downloading package twitter_samples to /root/nltk_data...\n",
            "[nltk_data]   Unzipping corpora/twitter_samples.zip.\n",
            "[nltk_data] Downloading package stopwords to /root/nltk_data...\n",
            "[nltk_data]   Unzipping corpora/stopwords.zip.\n"
          ],
          "name": "stdout"
        },
        {
          "output_type": "execute_result",
          "data": {
            "text/plain": [
              "True"
            ]
          },
          "metadata": {
            "tags": []
          },
          "execution_count": 19
        }
      ]
    },
    {
      "cell_type": "code",
      "metadata": {
        "id": "KyJIZXYaCK59"
      },
      "source": [
        "\n",
        "# select the set of positive and negative tweets\n",
        "all_positive_tweets = twitter_samples.strings('positive_tweets.json')\n",
        "all_negative_tweets = twitter_samples.strings('negative_tweets.json')"
      ],
      "execution_count": 20,
      "outputs": []
    },
    {
      "cell_type": "code",
      "metadata": {
        "id": "02bzHEtdCK59"
      },
      "source": [
        "# split the data into two pieces (80-20), one for training and one for testing (validation set)  \n",
        "test_pos = all_positive_tweets[4000:]\n",
        "train_pos = all_positive_tweets[:4000]\n",
        "test_neg = all_negative_tweets[4000:]\n",
        "train_neg = all_negative_tweets[:4000]\n",
        "\n",
        "train_x = train_pos + train_neg \n",
        "test_x = test_pos + test_neg"
      ],
      "execution_count": 21,
      "outputs": []
    },
    {
      "cell_type": "code",
      "metadata": {
        "id": "8NDTQetbCK59"
      },
      "source": [
        "# combine positive and negative labels\n",
        "train_y = np.append(np.ones((len(train_pos), 1)), np.zeros((len(train_neg), 1)), axis=0)\n",
        "test_y = np.append(np.ones((len(test_pos), 1)), np.zeros((len(test_neg), 1)), axis=0)"
      ],
      "execution_count": 22,
      "outputs": []
    },
    {
      "cell_type": "code",
      "metadata": {
        "id": "CSPEaAxWCK59",
        "colab": {
          "base_uri": "https://localhost:8080/"
        },
        "outputId": "c2933795-81e7-4e9e-a7f0-91b3aa764a85"
      },
      "source": [
        "# Print the shape train and test sets\n",
        "print(\"train_y.shape = \" + str(train_y.shape))\n",
        "print(\"test_y.shape = \" + str(test_y.shape))"
      ],
      "execution_count": 23,
      "outputs": [
        {
          "output_type": "stream",
          "text": [
            "train_y.shape = (8000, 1)\n",
            "test_y.shape = (2000, 1)\n"
          ],
          "name": "stdout"
        }
      ]
    },
    {
      "cell_type": "code",
      "metadata": {
        "id": "bEPYifYRCK59",
        "colab": {
          "base_uri": "https://localhost:8080/"
        },
        "outputId": "bae3f4cf-39d7-4c34-88b8-21f2db77263d"
      },
      "source": [
        "# create frequency dictionary\n",
        "freqs = build_freqs(train_x, train_y)\n",
        "\n",
        "# check the output\n",
        "print(\"type(freqs) = \" + str(type(freqs)))\n",
        "print(\"len(freqs) = \" + str(len(freqs.keys())))"
      ],
      "execution_count": 24,
      "outputs": [
        {
          "output_type": "stream",
          "text": [
            "type(freqs) = <class 'dict'>\n",
            "len(freqs) = 11346\n"
          ],
          "name": "stdout"
        }
      ]
    },
    {
      "cell_type": "code",
      "metadata": {
        "id": "wpiDY7cnCK59"
      },
      "source": [
        "# UNQ_C3 (UNIQUE CELL IDENTIFIER, DO NOT EDIT)\n",
        "def extract_features(tweet, freqs):\n",
        "    '''\n",
        "    Input: \n",
        "        tweet: a list of words for one tweet\n",
        "        freqs: a dictionary corresponding to the frequencies of each tuple (word, label)\n",
        "    Output: \n",
        "        x: a feature vector of dimension (1,3)\n",
        "    '''\n",
        "    # process_tweet tokenizes, stems, and removes stopwords\n",
        "    word_l = process_tweet(tweet)\n",
        "    \n",
        "    # 3 elements in the form of a 1 x 3 vector\n",
        "    x = np.zeros((1, 3)) \n",
        "    \n",
        "    #bias term is set to 1\n",
        "    x[0,0] = 1 \n",
        "    \n",
        "    ### START CODE HERE (REPLACE INSTANCES OF 'None' with your code) ###\n",
        "    \n",
        "    # loop through each word in the list of words\n",
        "    for word in word_l:\n",
        "        \n",
        "        # increment the word count for the positive label 1\n",
        "        \n",
        "        x[0,1] += freqs.get((word,1),0)\n",
        "        \n",
        "        # increment the word count for the negative label 0\n",
        "        x[0,2] += freqs.get((word,0),0)\n",
        "        \n",
        "    ### END CODE HERE ###\n",
        "    assert(x.shape == (1, 3))\n",
        "    return x"
      ],
      "execution_count": 25,
      "outputs": []
    },
    {
      "cell_type": "code",
      "metadata": {
        "id": "luM4DgnWCK59"
      },
      "source": [
        "# collect the features 'x' and stack them into a matrix 'X'\n",
        "X = np.zeros((len(train_x), 3))\n",
        "for i in range(len(train_x)):\n",
        "    X[i, :]= extract_features(train_x[i], freqs)\n",
        "\n",
        "# training labels corresponding to X\n",
        "Y = train_y"
      ],
      "execution_count": 26,
      "outputs": []
    },
    {
      "cell_type": "code",
      "metadata": {
        "id": "h0kKiG2CCK59",
        "colab": {
          "base_uri": "https://localhost:8080/"
        },
        "outputId": "18692116-9eaa-4d62-b9ae-4491aa41f567"
      },
      "source": [
        "Y.shape"
      ],
      "execution_count": 27,
      "outputs": [
        {
          "output_type": "execute_result",
          "data": {
            "text/plain": [
              "(8000, 1)"
            ]
          },
          "metadata": {
            "tags": []
          },
          "execution_count": 27
        }
      ]
    },
    {
      "cell_type": "code",
      "metadata": {
        "id": "EE9iGomKCK59"
      },
      "source": [
        "from sklearn.model_selection import GridSearchCV\n",
        "from sklearn.linear_model import LogisticRegression\n",
        "from sklearn import svm\n",
        "from sklearn.pipeline import Pipeline"
      ],
      "execution_count": 28,
      "outputs": []
    },
    {
      "cell_type": "markdown",
      "metadata": {
        "id": "WNlZEC3HCK59"
      },
      "source": [
        "### SVM Parameters"
      ]
    },
    {
      "cell_type": "code",
      "metadata": {
        "id": "lgNH2n_GCK59"
      },
      "source": [
        "param_grid = {'C': [0.0001, 0.001, 0.01, 0.1, 1]}  "
      ],
      "execution_count": 29,
      "outputs": []
    },
    {
      "cell_type": "code",
      "metadata": {
        "id": "X_GpQrGnCK59",
        "colab": {
          "base_uri": "https://localhost:8080/"
        },
        "outputId": "d0ed7c1b-8dab-4d16-fb86-d7e11c14028c"
      },
      "source": [
        "# Fitting Logistic Regression to the Training set\n",
        "from sklearn.linear_model import LogisticRegression\n",
        "classifier = LogisticRegression(random_state = 0)\n",
        "classifier.fit(X, Y)"
      ],
      "execution_count": 30,
      "outputs": [
        {
          "output_type": "stream",
          "text": [
            "/usr/local/lib/python3.6/dist-packages/sklearn/utils/validation.py:760: DataConversionWarning: A column-vector y was passed when a 1d array was expected. Please change the shape of y to (n_samples, ), for example using ravel().\n",
            "  y = column_or_1d(y, warn=True)\n"
          ],
          "name": "stderr"
        },
        {
          "output_type": "execute_result",
          "data": {
            "text/plain": [
              "LogisticRegression(C=1.0, class_weight=None, dual=False, fit_intercept=True,\n",
              "                   intercept_scaling=1, l1_ratio=None, max_iter=100,\n",
              "                   multi_class='auto', n_jobs=None, penalty='l2',\n",
              "                   random_state=0, solver='lbfgs', tol=0.0001, verbose=0,\n",
              "                   warm_start=False)"
            ]
          },
          "metadata": {
            "tags": []
          },
          "execution_count": 30
        }
      ]
    },
    {
      "cell_type": "code",
      "metadata": {
        "id": "muWmMa7NCK59"
      },
      "source": [
        "\n",
        "# UNQ_C4 (UNIQUE CELL IDENTIFIER, DO NOT EDIT)\n",
        "def predict_tweet(tweet, freqs):\n",
        "    '''\n",
        "    Input: \n",
        "        tweet: a string\n",
        "        freqs: a dictionary corresponding to the frequencies of each tuple (word, label)\n",
        "        theta: (3,1) vector of weights\n",
        "    Output: \n",
        "        y_pred: the probability of a tweet being positive or negative\n",
        "    '''\n",
        "    ### START CODE HERE (REPLACE INSTANCES OF 'None' with your code) ###\n",
        "    \n",
        "    # extract the features of the tweet and store it into x\n",
        "    x = extract_features(tweet,freqs)\n",
        "    \n",
        "    # make the prediction using x and theta\n",
        "    y_pred = classifier.predict(x)\n",
        "    \n",
        "    ### END CODE HERE ###\n",
        "    \n",
        "    return y_pred"
      ],
      "execution_count": 31,
      "outputs": []
    },
    {
      "cell_type": "code",
      "metadata": {
        "id": "F2oD0NYiCK59"
      },
      "source": [
        "# UNQ_C4 (UNIQUE CELL IDENTIFIER, DO NOT EDIT)\n",
        "def predict_tweet_prob(tweet, freqs):\n",
        "    '''\n",
        "    Input: \n",
        "        tweet: a string\n",
        "        freqs: a dictionary corresponding to the frequencies of each tuple (word, label)\n",
        "        theta: (3,1) vector of weights\n",
        "    Output: \n",
        "        y_pred: the probability of a tweet being positive or negative\n",
        "    '''\n",
        "    ### START CODE HERE (REPLACE INSTANCES OF 'None' with your code) ###\n",
        "    \n",
        "    # extract the features of the tweet and store it into x\n",
        "    x = extract_features(tweet,freqs)\n",
        "    \n",
        "    # make the prediction using x and theta\n",
        "    y_pred = classifier.predict_proba(x)\n",
        "    \n",
        "    ### END CODE HERE ###\n",
        "    \n",
        "    return y_pred"
      ],
      "execution_count": 32,
      "outputs": []
    },
    {
      "cell_type": "code",
      "metadata": {
        "id": "LgjNbt--CK59",
        "colab": {
          "base_uri": "https://localhost:8080/"
        },
        "outputId": "bee14f06-b6c2-406b-93b9-4158b409977b"
      },
      "source": [
        "\n",
        "my_tweet = 'The plot was terrible and I was sad until the ending!'\n",
        "predict_tweet(my_tweet, freqs)"
      ],
      "execution_count": 33,
      "outputs": [
        {
          "output_type": "execute_result",
          "data": {
            "text/plain": [
              "array([0.])"
            ]
          },
          "metadata": {
            "tags": []
          },
          "execution_count": 33
        }
      ]
    },
    {
      "cell_type": "code",
      "metadata": {
        "id": "voAUB0SVzdwT"
      },
      "source": [
        "sentiment = []\n",
        "sentiment_prob = []\n",
        "for i in df.iloc[:,2]:\n",
        "    sentiment.append(predict_tweet(i, freqs)[0])\n",
        "    sentiment_prob.append(predict_tweet_prob(i, freqs)[0][1])"
      ],
      "execution_count": 34,
      "outputs": []
    },
    {
      "cell_type": "code",
      "metadata": {
        "id": "k6aZduhpzdwT"
      },
      "source": [
        "\n",
        "df['Logistic Regression Sentiment'] = sentiment\n",
        "df['sentiment_prob'] = sentiment_prob\n"
      ],
      "execution_count": 35,
      "outputs": []
    },
    {
      "cell_type": "markdown",
      "metadata": {
        "id": "ylZBn2NkCTDh"
      },
      "source": [
        "#START OF DEEP LEARNING"
      ]
    },
    {
      "cell_type": "code",
      "metadata": {
        "colab": {
          "base_uri": "https://localhost:8080/"
        },
        "id": "n662yrVWCRdR",
        "outputId": "74f5c6e9-85c1-4a2a-da4c-41a752e1ec54"
      },
      "source": [
        "import sklearn\n",
        "import numpy as np\n",
        "import pandas as pd\n",
        "pd.set_option('display.max_colwidth', -1)\n",
        "import sklearn\n",
        "import sklearn.ensemble\n",
        "from sklearn.metrics import accuracy_score, confusion_matrix\n",
        "import sklearn.metrics\n",
        "import tensorflow as tf\n",
        "from scipy.special import softmax\n",
        "import os\n",
        "import numpy as np\n",
        "import pandas as pd\n",
        "import json\n",
        "import torch\n",
        "import torch.nn as nn\n",
        "import nltk\n",
        "from tqdm import tqdm\n",
        "import spacy\n",
        "import torch\n",
        "import torchtext\n",
        "import torchtext.data\n",
        "import torch.nn as nn\n",
        "import torch.nn.functional as F\n",
        "from scipy.special import softmax\n",
        "from torchtext.vocab import Vocab\n",
        "from nltk.corpus import twitter_samples \n",
        "\n",
        "nlp = spacy.load('en')\n",
        "nltk.download('punkt')"
      ],
      "execution_count": 47,
      "outputs": [
        {
          "output_type": "stream",
          "text": [
            "/usr/local/lib/python3.6/dist-packages/ipykernel_launcher.py:4: FutureWarning: Passing a negative integer is deprecated in version 1.0 and will not be supported in future version. Instead, use None to not limit the column width.\n",
            "  after removing the cwd from sys.path.\n"
          ],
          "name": "stderr"
        },
        {
          "output_type": "stream",
          "text": [
            "[nltk_data] Downloading package punkt to /root/nltk_data...\n",
            "[nltk_data]   Unzipping tokenizers/punkt.zip.\n"
          ],
          "name": "stdout"
        },
        {
          "output_type": "execute_result",
          "data": {
            "text/plain": [
              "True"
            ]
          },
          "metadata": {
            "tags": []
          },
          "execution_count": 47
        }
      ]
    },
    {
      "cell_type": "code",
      "metadata": {
        "id": "XWZh1kuyCRkw"
      },
      "source": [
        "device = torch.device(\"cuda\" if torch.cuda.is_available() else \"cpu\")\n",
        "torch.manual_seed(42)\n",
        "np.random.seed(42)\n",
        "torch.backends.cudnn.deterministic = True\n",
        "torch.backends.cudnn.benchmark = False"
      ],
      "execution_count": 37,
      "outputs": []
    },
    {
      "cell_type": "code",
      "metadata": {
        "id": "__gYrL6nCRrm"
      },
      "source": [
        "# %% ----------------------------------- Hyper Parameters --------------------------------------------------------------\n",
        "class Args:\n",
        "    def __init__(self):\n",
        "        self.seq_len = \"get_max_from_data\"\n",
        "        self.embedding_dim = 50\n",
        "        self.n_epochs = 10\n",
        "        self.lr = 1e-2\n",
        "        self.batch_size = 512\n",
        "        self.train = True\n",
        "        self.save_model = True\n",
        "\n",
        "\n",
        "args = Args()"
      ],
      "execution_count": 38,
      "outputs": []
    },
    {
      "cell_type": "code",
      "metadata": {
        "id": "9s4eSabVCRxz"
      },
      "source": [
        "# %% ----------------------------------- Helper Functions --------------------------------------------------------------\n",
        "def acc(x, y, return_labels=False):\n",
        "    with torch.no_grad():\n",
        "        logits = torch.empty(len(x), 2)\n",
        "        for batch in range(len(x) // args.batch_size + 1):\n",
        "            inds = slice(batch * args.batch_size, (batch + 1) * args.batch_size)\n",
        "            logits[inds] = model(x[inds])\n",
        "        pred_labels = np.argmax(logits.cpu().numpy(), axis=1)\n",
        "    if return_labels:\n",
        "        return pred_labels\n",
        "    else:\n",
        "        return 100*accuracy_score(y.cpu().numpy(), pred_labels)\n",
        "\n",
        "\n",
        "def extract_vocab_dict_and_msl(sentences_train, sentences_dev):\n",
        "    \"\"\" Tokenizes all the sentences and gets a dictionary of unique tokens and also the maximum sequence length \"\"\"\n",
        "    tokens, ms_len = [], 0\n",
        "    for sentence in list(sentences_train) + list(sentences_dev):\n",
        "        tokens_in_sentence = nltk.word_tokenize(sentence)\n",
        "        if ms_len < len(tokens_in_sentence):\n",
        "            ms_len = len(tokens_in_sentence)\n",
        "        tokens += tokens_in_sentence\n",
        "    token_vocab = {key: i for key, i in zip(set(tokens), range(1, len(set(tokens))+1))}\n",
        "    if len(np.unique(list(token_vocab.values()))) != len(token_vocab):\n",
        "        \"There are some rep words...\"\n",
        "    return token_vocab, ms_len\n",
        "\n",
        "\n",
        "def convert_to_ids(raw_sentences, vocab_dict, pad_to):\n",
        "    \"\"\" Takes an NumPy array of raw text sentences and converts to a sequence of token ids \"\"\"\n",
        "    x = np.empty((len(raw_sentences), pad_to))\n",
        "    for idx, sentence in enumerate(raw_sentences):\n",
        "        word_ids = []\n",
        "        for token in nltk.word_tokenize(sentence):\n",
        "            if token not in vocab_dict.keys():\n",
        "              continue \n",
        "            try:\n",
        "                word_ids.append(vocab_dict[token])\n",
        "            except:\n",
        "                word_ids.append(vocab_dict[token])\n",
        "        if pad_to < len(word_ids):\n",
        "            x[idx] = word_ids[:pad_to]\n",
        "        else:\n",
        "            x[idx] = word_ids + [0] * (pad_to - len(word_ids))\n",
        "    return x\n",
        "\n",
        "\n",
        "def get_glove_embeddings(vocab_dict):\n",
        "    with open(\"glove.6B.50d.txt\", \"r\") as s:\n",
        "        glove = s.read()\n",
        "    embeddings_dict = {}\n",
        "    for line in glove.split(\"\\n\")[:-1]:\n",
        "        text = line.split()\n",
        "        if text[0] in vocab_dict:\n",
        "            embeddings_dict[vocab_dict[text[0]]] = torch.from_numpy(np.array(text[1:], dtype=\"float32\"))\n",
        "    return embeddings_dict\n",
        "\n",
        "\n",
        "def get_glove_table(vocab_dict, glove_dict):\n",
        "    lookup_table = torch.empty((len(vocab_dict)+2, 50))\n",
        "    for token_id in sorted(vocab_dict.values()):\n",
        "        if token_id in glove_dict:\n",
        "            lookup_table[token_id] = glove_dict[token_id]\n",
        "        else:\n",
        "            lookup_table[token_id] = torch.zeros((1, 50))  # For unknown tokens\n",
        "    lookup_table[0] = torch.zeros((1, 50))\n",
        "    return lookup_table\n",
        "\n"
      ],
      "execution_count": 49,
      "outputs": []
    },
    {
      "cell_type": "code",
      "metadata": {
        "id": "pTRgZ_19CR0N"
      },
      "source": [
        "data_train = pd.read_csv(\"original_data/train.tsv\", sep=\"\\t\")\n",
        "x_train_raw, y_train = data_train[\"sentence\"].values, torch.LongTensor(data_train[\"label\"].values).to(device)\n",
        "data_dev = pd.read_csv(\"original_data/dev.tsv\", sep=\"\\t\")\n",
        "x_dev_raw, y_dev = data_dev[\"sentence\"].values, torch.LongTensor(data_dev[\"label\"].values).to(device)\n"
      ],
      "execution_count": 40,
      "outputs": []
    },
    {
      "cell_type": "code",
      "metadata": {
        "id": "sP6ee2_oCR3p"
      },
      "source": [
        "# %% -------------------------------------- Data Prep ------------------------------------------------------------------\n",
        "try:\n",
        "    with open(\"example_prep_data/vocab_dict.json\", \"r\") as s:\n",
        "        token_ids = json.load(s)\n",
        "    msl = np.load(\"example_prep_data/max_sequence_length.npy\").item()\n",
        "except:\n",
        "    print(\"Tokenizing all the examples to get a vocab dict and the maximum sequence length...\")\n",
        "    token_ids, msl = extract_vocab_dict_and_msl(x_train_raw, x_dev_raw)\n",
        "    os.mkdir(\"example_prep_data\")\n",
        "    with open(\"example_prep_data/vocab_dict.json\", \"w\") as s:\n",
        "        json.dump(token_ids, s)\n",
        "    np.save(\"example_prep_data/max_sequence_length.npy\", np.array([msl]))\n",
        "if args.seq_len == \"get_max_from_data\":\n",
        "    args.seq_len = msl\n",
        "\n",
        "glove_embeddings = get_glove_embeddings(token_ids)\n",
        "\n",
        "try:\n",
        "    x_train = np.load(\"example_prep_data/prep_train_len{}.npy\".format(args.seq_len))\n",
        "    x_dev = np.load(\"example_prep_data/prep_dev_len{}.npy\".format(args.seq_len))\n",
        "except:\n",
        "    print(\"Converting all the sentences to sequences of token ids...\")\n",
        "    x_train = convert_to_ids(x_train_raw, token_ids, args.seq_len)\n",
        "    np.save(\"example_prep_data/prep_train_len{}.npy\".format(args.seq_len), x_train)\n",
        "    x_dev = convert_to_ids(x_dev_raw, token_ids, args.seq_len)\n",
        "    np.save(\"example_prep_data/prep_dev_len{}.npy\".format(args.seq_len), x_dev)\n",
        "\n",
        "\n"
      ],
      "execution_count": 41,
      "outputs": []
    },
    {
      "cell_type": "code",
      "metadata": {
        "id": "hTbF3dy5CRuw"
      },
      "source": [
        "x_train, x_dev = torch.LongTensor(x_train).to(device), torch.LongTensor(x_dev).to(device)"
      ],
      "execution_count": 42,
      "outputs": []
    },
    {
      "cell_type": "code",
      "metadata": {
        "id": "bDZWQ6G_CRoQ"
      },
      "source": [
        "# %% -------------------------------------- CNN Class ------------------------------------------------------------------\n",
        "class CNN(nn.Module):\n",
        "    def __init__(self, vocab_size):\n",
        "        super(CNN, self).__init__()\n",
        "\n",
        "        self.embedding = nn.Embedding(vocab_size + 2, args.embedding_dim)\n",
        "\n",
        "        self.conv1 = nn.Conv1d(args.embedding_dim, args.embedding_dim, 9)\n",
        "        self.convnorm1 = nn.BatchNorm1d(args.embedding_dim)\n",
        "        self.pool1 = nn.MaxPool1d(2)\n",
        "\n",
        "        self.conv2 = nn.Conv1d(args.embedding_dim, args.embedding_dim, 9)\n",
        "        self.convnorm2 = nn.BatchNorm1d(args.embedding_dim)\n",
        "        self.pool2 = nn.MaxPool1d(2)\n",
        "\n",
        "        self.conv3 = nn.Conv1d(args.embedding_dim, args.embedding_dim, 7)\n",
        "        self.linear = nn.Linear(args.embedding_dim, 2)\n",
        "        self.act = torch.relu\n",
        "\n",
        "    def forward(self, x):\n",
        "        # nn.Conv1d operates on the columns, each embedding dimension is considered as one channel\n",
        "        x = self.embedding(x).permute(0, 2, 1)\n",
        "        x = self.pool1(self.convnorm1(self.act(self.conv1(x))))\n",
        "        x = self.pool2(self.convnorm2(self.act(self.conv2(x))))\n",
        "        return self.linear(self.act(self.conv3(x)).reshape(-1, args.embedding_dim))\n",
        "\n"
      ],
      "execution_count": 43,
      "outputs": []
    },
    {
      "cell_type": "code",
      "metadata": {
        "id": "DmsFQc9vCRhP"
      },
      "source": [
        "# %% -------------------------------------- Training Prep ----------------------------------------------------------\n",
        "model = CNN(len(token_ids)).to(device)\n",
        "look_up_table = get_glove_table(token_ids, glove_embeddings)\n",
        "model.embedding.weight.data.copy_(look_up_table)\n",
        "optimizer = torch.optim.Adam(model.parameters(), lr=args.lr)\n",
        "criterion = nn.CrossEntropyLoss()"
      ],
      "execution_count": 44,
      "outputs": []
    },
    {
      "cell_type": "code",
      "metadata": {
        "id": "z0LTrOF-CRZK",
        "colab": {
          "base_uri": "https://localhost:8080/"
        },
        "outputId": "cf3a3d65-d5af-42c1-d46a-718877001be8"
      },
      "source": [
        "# %% -------------------------------------- Training Loop ----------------------------------------------------------\n",
        "labels_ditrib = torch.unique(y_dev, return_counts=True)\n",
        "print(\"The no information rate is {:.2f}\".format(100*labels_ditrib[1].max().item()/len(y_dev)))\n",
        "if args.train:\n",
        "    acc_dev_best = 0\n",
        "    print(\"Starting training loop...\")\n",
        "    for epoch in range(args.n_epochs):\n",
        "\n",
        "        loss_train, train_steps = 0, 0\n",
        "        model.train()\n",
        "        total = len(x_train) // args.batch_size + 1  # Initiates a progress bar that will be updated for each batch\n",
        "        with tqdm(total=total, desc=\"Epoch {}\".format(epoch)) as pbar:  # \"Epoch\" will be updated for each epoch\n",
        "            for batch in range(len(x_train)//args.batch_size + 1):\n",
        "                inds = slice(batch*args.batch_size, (batch+1)*args.batch_size)\n",
        "                optimizer.zero_grad()\n",
        "                logits = model(x_train[inds])\n",
        "                loss = criterion(logits, y_train[inds])\n",
        "                loss.backward()\n",
        "                optimizer.step()\n",
        "                loss_train += loss.item()\n",
        "                train_steps += 1\n",
        "                pbar.update(1)  # Updates the progress and the training loss\n",
        "                pbar.set_postfix_str(\"Training Loss: {:.5f}\".format(loss_train / train_steps))\n",
        "\n",
        "        model.eval()\n",
        "        with torch.no_grad():\n",
        "            y_dev_pred = model(x_dev)\n",
        "            loss = criterion(y_dev_pred, y_dev)\n",
        "            loss_test = loss.item()\n",
        "\n",
        "        acc_dev = acc(x_dev, y_dev)\n",
        "        print(\"Epoch {} | Train Loss {:.5f}, Train Acc {:.2f} - Test Loss {:.5f}, Test Acc {:.2f}\".format(\n",
        "            epoch, loss_train/train_steps, acc(x_train, y_train), loss_test, acc_dev))\n",
        "\n",
        "        if acc_dev > acc_dev_best and args.save_model:\n",
        "            torch.save(model.state_dict(), \"cnn_sentiment.pt\")\n",
        "            print(\"The model has been saved!\")\n",
        "            acc_dev_best = acc_dev"
      ],
      "execution_count": 45,
      "outputs": [
        {
          "output_type": "stream",
          "text": [
            "\rEpoch 0:   0%|          | 0/132 [00:00<?, ?it/s]"
          ],
          "name": "stderr"
        },
        {
          "output_type": "stream",
          "text": [
            "The no information rate is 50.92\n",
            "Starting training loop...\n"
          ],
          "name": "stdout"
        },
        {
          "output_type": "stream",
          "text": [
            "Epoch 0: 100%|██████████| 132/132 [00:01<00:00, 74.65it/s, Training Loss: 0.33921]\n"
          ],
          "name": "stderr"
        },
        {
          "output_type": "stream",
          "text": [
            "Epoch 0 | Train Loss 0.33921, Train Acc 93.69 - Test Loss 0.59996, Test Acc 80.16\n"
          ],
          "name": "stdout"
        },
        {
          "output_type": "stream",
          "text": [
            "Epoch 1:  14%|█▎        | 18/132 [00:00<00:01, 91.28it/s, Training Loss: 0.20336]"
          ],
          "name": "stderr"
        },
        {
          "output_type": "stream",
          "text": [
            "The model has been saved!\n"
          ],
          "name": "stdout"
        },
        {
          "output_type": "stream",
          "text": [
            "Epoch 1: 100%|██████████| 132/132 [00:01<00:00, 91.14it/s, Training Loss: 0.16086]\n",
            "Epoch 2:  12%|█▏        | 16/132 [00:00<00:01, 83.32it/s, Training Loss: 0.12944]"
          ],
          "name": "stderr"
        },
        {
          "output_type": "stream",
          "text": [
            "Epoch 1 | Train Loss 0.16086, Train Acc 96.42 - Test Loss 0.55414, Test Acc 79.36\n"
          ],
          "name": "stdout"
        },
        {
          "output_type": "stream",
          "text": [
            "Epoch 2: 100%|██████████| 132/132 [00:01<00:00, 91.88it/s, Training Loss: 0.10881]\n",
            "Epoch 3:  11%|█▏        | 15/132 [00:00<00:01, 93.47it/s, Training Loss: 0.09302]"
          ],
          "name": "stderr"
        },
        {
          "output_type": "stream",
          "text": [
            "Epoch 2 | Train Loss 0.10881, Train Acc 97.16 - Test Loss 0.70020, Test Acc 80.28\n",
            "The model has been saved!\n"
          ],
          "name": "stdout"
        },
        {
          "output_type": "stream",
          "text": [
            "Epoch 3: 100%|██████████| 132/132 [00:01<00:00, 90.69it/s, Training Loss: 0.08009]\n",
            "Epoch 4:  11%|█         | 14/132 [00:00<00:01, 89.93it/s, Training Loss: 0.06830]"
          ],
          "name": "stderr"
        },
        {
          "output_type": "stream",
          "text": [
            "Epoch 3 | Train Loss 0.08009, Train Acc 98.15 - Test Loss 0.70682, Test Acc 80.50\n",
            "The model has been saved!\n"
          ],
          "name": "stdout"
        },
        {
          "output_type": "stream",
          "text": [
            "Epoch 4: 100%|██████████| 132/132 [00:01<00:00, 91.26it/s, Training Loss: 0.06147]\n",
            "Epoch 5:  13%|█▎        | 17/132 [00:00<00:01, 87.78it/s, Training Loss: 0.05732]"
          ],
          "name": "stderr"
        },
        {
          "output_type": "stream",
          "text": [
            "Epoch 4 | Train Loss 0.06147, Train Acc 97.36 - Test Loss 0.89981, Test Acc 80.28\n"
          ],
          "name": "stdout"
        },
        {
          "output_type": "stream",
          "text": [
            "Epoch 5: 100%|██████████| 132/132 [00:01<00:00, 90.87it/s, Training Loss: 0.05121]\n",
            "Epoch 6:  11%|█▏        | 15/132 [00:00<00:01, 91.94it/s, Training Loss: 0.04410]"
          ],
          "name": "stderr"
        },
        {
          "output_type": "stream",
          "text": [
            "Epoch 5 | Train Loss 0.05121, Train Acc 98.36 - Test Loss 0.83008, Test Acc 81.54\n",
            "The model has been saved!\n"
          ],
          "name": "stdout"
        },
        {
          "output_type": "stream",
          "text": [
            "Epoch 6: 100%|██████████| 132/132 [00:01<00:00, 91.30it/s, Training Loss: 0.04240]\n",
            "Epoch 7:  12%|█▏        | 16/132 [00:00<00:01, 88.65it/s, Training Loss: 0.03872]"
          ],
          "name": "stderr"
        },
        {
          "output_type": "stream",
          "text": [
            "Epoch 6 | Train Loss 0.04240, Train Acc 98.44 - Test Loss 1.28971, Test Acc 80.85\n"
          ],
          "name": "stdout"
        },
        {
          "output_type": "stream",
          "text": [
            "Epoch 7: 100%|██████████| 132/132 [00:01<00:00, 90.18it/s, Training Loss: 0.03465]\n",
            "Epoch 8:  14%|█▎        | 18/132 [00:00<00:01, 89.59it/s, Training Loss: 0.03588]"
          ],
          "name": "stderr"
        },
        {
          "output_type": "stream",
          "text": [
            "Epoch 7 | Train Loss 0.03465, Train Acc 98.37 - Test Loss 1.45630, Test Acc 77.75\n"
          ],
          "name": "stdout"
        },
        {
          "output_type": "stream",
          "text": [
            "Epoch 8: 100%|██████████| 132/132 [00:01<00:00, 93.16it/s, Training Loss: 0.02927]\n",
            "Epoch 9:  14%|█▎        | 18/132 [00:00<00:01, 89.29it/s, Training Loss: 0.02868]"
          ],
          "name": "stderr"
        },
        {
          "output_type": "stream",
          "text": [
            "Epoch 8 | Train Loss 0.02927, Train Acc 99.21 - Test Loss 1.05540, Test Acc 78.78\n"
          ],
          "name": "stdout"
        },
        {
          "output_type": "stream",
          "text": [
            "Epoch 9: 100%|██████████| 132/132 [00:01<00:00, 92.46it/s, Training Loss: 0.02349]\n"
          ],
          "name": "stderr"
        },
        {
          "output_type": "stream",
          "text": [
            "Epoch 9 | Train Loss 0.02349, Train Acc 99.27 - Test Loss 1.33796, Test Acc 78.56\n"
          ],
          "name": "stdout"
        }
      ]
    },
    {
      "cell_type": "markdown",
      "metadata": {
        "id": "sXhpKWqBCs55"
      },
      "source": [
        "# Test of Deep Learning"
      ]
    },
    {
      "cell_type": "code",
      "metadata": {
        "id": "wCIjV0jDCv5X",
        "colab": {
          "base_uri": "https://localhost:8080/"
        },
        "outputId": "aa1bdd17-4bae-4542-e144-cf31b20d6337"
      },
      "source": [
        "\n",
        "x = None\n",
        "deep_learning_sentiment_prob = []\n",
        "\n",
        "for i in df.iloc[:,7]:\n",
        "\n",
        "\n",
        "  test = convert_to_ids([i.lower()], token_ids, args.seq_len)\n",
        "\n",
        "\n",
        "  test = torch.LongTensor(test).to(device)\n",
        "  pred = model(test).cpu().detach().numpy()[0]\n",
        "  print(pred)\n",
        "\n",
        "  x = softmax(pred)\n",
        "  deep_learning_sentiment_prob.append(x[1])"
      ],
      "execution_count": 50,
      "outputs": [
        {
          "output_type": "stream",
          "text": [
            "[19.218939 -8.026802]\n",
            "[-0.17231047  0.18456751]\n",
            "[ 25.283773 -10.672916]\n",
            "[ 40.425037 -19.567684]\n",
            "[ 36.786694 -18.25016 ]\n",
            "[16.71109   -7.6510887]\n",
            "[ 24.113483 -12.028668]\n",
            "[18.35907  -7.911467]\n",
            "[ 2.3798404 -0.6871402]\n",
            "[20.111359 -8.775673]\n",
            "[ 46.151302 -21.292961]\n",
            "[ 23.72655  -12.093617]\n",
            "[ 6.802768 -2.64009 ]\n"
          ],
          "name": "stdout"
        }
      ]
    },
    {
      "cell_type": "code",
      "metadata": {
        "id": "4OQthN08Cvtk",
        "colab": {
          "base_uri": "https://localhost:8080/",
          "height": 1000
        },
        "outputId": "4167394b-09e6-4a67-e46a-61e6de592e40"
      },
      "source": [
        "df['deep_learning_sentiment_prob'] = sentiment_prob\r\n",
        "df"
      ],
      "execution_count": 51,
      "outputs": [
        {
          "output_type": "execute_result",
          "data": {
            "text/html": [
              "<div>\n",
              "<style scoped>\n",
              "    .dataframe tbody tr th:only-of-type {\n",
              "        vertical-align: middle;\n",
              "    }\n",
              "\n",
              "    .dataframe tbody tr th {\n",
              "        vertical-align: top;\n",
              "    }\n",
              "\n",
              "    .dataframe thead th {\n",
              "        text-align: right;\n",
              "    }\n",
              "</style>\n",
              "<table border=\"1\" class=\"dataframe\">\n",
              "  <thead>\n",
              "    <tr style=\"text-align: right;\">\n",
              "      <th></th>\n",
              "      <th>Date</th>\n",
              "      <th>Header</th>\n",
              "      <th>Text</th>\n",
              "      <th>Volume</th>\n",
              "      <th>Open</th>\n",
              "      <th>% Change in Stock Price</th>\n",
              "      <th>% Change in Volume</th>\n",
              "      <th>Text (clean)</th>\n",
              "      <th>Vader Sentiment Score</th>\n",
              "      <th>Logistic Regression Sentiment</th>\n",
              "      <th>sentiment_prob</th>\n",
              "      <th>deep_learning_sentiment_prob</th>\n",
              "    </tr>\n",
              "  </thead>\n",
              "  <tbody>\n",
              "    <tr>\n",
              "      <th>0</th>\n",
              "      <td>2015-08-18</td>\n",
              "      <td>Global automakers divert shipments from China's Tianjin port after blasts</td>\n",
              "      <td>- Toyota Motor Corp 7203.T and rival global automakers are looking to divert shipments to Shanghai and other ports from Tianjin after massive explosions last week disrupted operations indefinitely at China's largest auto import hub.A photographer wearing a gas mask walks out of a damaged building at the site of explosions in Binhai new district of Tianjin, China, August 15, 2015. REUTERS/China DailyAuthorities have restricted access to areas affected by the Aug. 12 blasts at a hazardous chemicals warehouse which killed at least 114 people. Automakers are struggling to reach lots and warehouses to assess damage and clear thousands of charred cars to make facilities usable, though the port continues to operate.On Wednesday, Renault SA RENA.PA and Subaru maker Fuji Heavy Industries Ltd 7270.T said they would re-route imports to Shanghai, while Hyundai Motor Co 005380.KS said it would send further shipments to Shanghai and Guangzhou.Toyota is considering re-routing imports to Shanghai and Dalian which have enough capacity to prevent any significant logistical problems, a senior Beijing-based executive said.“Port of Tianjin will likely be unusable for a long while, although I have no idea at the moment how long these disruptions would last,” said the executive, who was not authorised to speak with media on the matter and so declined to be identified.Toyota suspended its two final assembly lines near Tianjin port on Monday to Wednesday, partly to assess any damage. It made 432,340 cars at the plants last year, and is likely to lose 2,200 a day due to the blasts, said researcher IHS Automotive.A Toyota spokesman in Japan said, without elaborating, that the automaker was looking to re-route shipments to other ports.SHANGHAITianjin, regarded as a gateway to China’s industrial northeast, handles 40 percent of car imports in the world’s biggest auto market. But the explosions are likely to hamper normal operations for at least a couple of months, said IHS.On Monday, BMW AG BMWG.DE said it would re-route shipments to Shanghai, while Volkswagen AG VOWG_p.DE opted for both Shanghai and Guangzhou.Shanghai’s sole auto terminal could see a 10 percent rise in car volume based on queries received since the Tianjin blast, said a marketing official at Shanghai Haitong International Automotive Terminal Co Ltd.The port has an annual capacity of 2 million to 3 million cars, said the official, who declined to be identified. Last year, China imported 1.4 million cars, customs data showed.“We’re only a temporary solution to the difficulties in Tianjin,” the official said. “We can’t be a substitute for Tianjin. After this, Tianjin will definitely continue to hold on to its dominant position.”Reporting by Norihiko Shirouzu and Jake Spring; Additional reporting by Minami Funakoshi; Editing by Edwina Gibbs and Christopher CushingOur Standards: The Thomson Reuters Trust Principles.</td>\n",
              "      <td>351.0</td>\n",
              "      <td>191.50</td>\n",
              "      <td>NaN</td>\n",
              "      <td>NaN</td>\n",
              "      <td>Toyota Motor Corp 7203.t rival global automaker look divert shipment Shanghai port Tianjin massive explosion week disrupt operation indefinitely China large auto import hub photographer wear gas mask walk damage building site explosion Binhai new district Tianjin China August 15 2015 REUTERS China DailyAuthorities restrict access area affect August 12 blast hazardous chemical warehouse kill 114 people automaker struggle reach lot warehouse assess damage clear thousand charred car facility usable port continue operate Wednesday Renault SA RENA.PA Subaru maker Fuji Heavy Industries Ltd 7270.t say route import Shanghai Hyundai Motor Co 005380.ks say send shipment Shanghai Guangzhou Toyota consider route import Shanghai Dalian capacity prevent significant logistical problem senior Beijing base executive say “port Tianjin likely unusable long idea moment long disruption say executive authorise speak medium matter decline identify Toyota suspend final assembly line near Tianjin port Monday Wednesday partly assess damage 432,340 car plant year likely lose 2,200 day blast say researcher IHS Automotive Toyota spokesman Japan say elaborate automaker look route shipment port SHANGHAITianjin regard gateway China industrial northeast handle 40 percent car import world big auto market explosion likely hamper normal operation couple month say ihs.on Monday BMW AG BMWG.DE say route shipment Shanghai Volkswagen AG VOWG_p DE opt Shanghai Guangzhou Shanghai sole auto terminal 10 percent rise car volume base query receive Tianjin blast say marketing official Shanghai Haitong International Automotive Terminal Co Ltd port annual capacity 2 million 3 million car say official decline identify year China import 1.4 million car custom datum show “We’re temporary solution difficulty Tianjin official say substitute Tianjin Tianjin definitely continue hold dominant position ”reporte Norihiko Shirouzu Jake Spring additional reporting Minami Funakoshi editing Edwina Gibbs Christopher CushingOur Standards Thomson Reuters Trust Principles</td>\n",
              "      <td>-0.9571</td>\n",
              "      <td>0.0</td>\n",
              "      <td>1.092429e-01</td>\n",
              "      <td>1.092429e-01</td>\n",
              "    </tr>\n",
              "    <tr>\n",
              "      <th>1</th>\n",
              "      <td>2015-09-03</td>\n",
              "      <td>VW's finance chief set to become new chairman</td>\n",
              "      <td>- Volkswagen's VOWG_p.DE finance chief Hans Dieter Poetsch is set to become its next chairman, putting Europe's biggest carmaker on course for calmer waters after rival factions including ousted patriarch Ferdinand Piech united to back him. Hans Dieter Poetsch, CFO of German carmaker Volkswagen, adjusts his glasses during a news conference in Wolfsburg, July 5, 2012. REUTERS/Fabian Bimmer The company has been looking for a permanent successor to Piech, who was turfed out in April after clashing with Chief Executive Martin Winterkorn over strategy but still wields influence through his family holding.One day after proposing to extend the CEO’s contract by two years until the end of 2018, the supervisory board’s executive and nomination committees on Thursday proposed to elect Poetsch, 64, as chairman.Volkswagen's 51-percent owner Porsche Automobil Holding SE PSHG_p.DE said Poetsch had the unequivocal support of its supervisory board - which includes Piech. Winterkorn also supported the move to elevate Poetsch, according to a source familiar with the company's thinking.“This is good news,” said Arndt Ellinghorst of research firm Evercore ISI, citing Poetsch’s clear understanding of VW’s financial problems. “Poetsch has been advocating an increased focus on consolidating VW’s business post an era of M&amp;A.”VW’s plans to appoint Poetsch, who has been the German group’s finance chief since 2003, to the helm of its 20-member board were reported earlier on Thursday by Reuters.Shares in Volkswagen rose on the news, trading up 2.7 percent at 167.50 euros by 1506 GMT but still underperforming a 3.2 percent-stronger German DAX .GDAXI.Wolfsburg-based Volkswagen chose an internal candidate who understands the complexities of the relationship between labor unions, investors, major shareholder Lower Saxony and the Porsche-Piech clan.Appointing an external chairman would have caused more unrest than stability, according to the source familiar with the company’s thinking.“Everybody at VW believes firmly that the current problems can be overcome on our own,” the source said.Poetsch is likely to be elected for a full five-year term - even though he is replacing Piech whose board mandate officially expires in April 2017, a source at VW said.This would represent a break from tradition for the company, as a new board member usually serves out the remaining term of his predecessor before a new election takes place.If Poetsch were to serve out his full term, that would effectively put an end to 68-year-old Winterkorn’s ambitions of becoming chairman himself, earning a belated victory for Piech who had pledged to thwart the CEO’s chances of succeeding him.However, any success by Winterkorn in turning VW around could nevertheless bolster his chances of nudging the new man out and becoming chairman himself.Poetsch will first have to be elected to the supervisory board at an extraordinary shareholder meeting in November, which will also have to approve the appointment to the board of Piech’s niece, Louise Kiesling.Huber said the supervisory board would decide on a successor for Poetsch as CFO without delay.The chief executive of VW’s premium carmaker Audi, 52-year-old Rupert Stadler, is a candidate to succeed Poetsch as VW CFO, a source familiar with the matter said.Additional reporting by Edward Taylor and Jan Schwartz; Editing by Georgina Prodhan and Pravin CharOur Standards: The Thomson Reuters Trust Principles.</td>\n",
              "      <td>295.0</td>\n",
              "      <td>180.10</td>\n",
              "      <td>-5.953003</td>\n",
              "      <td>-15.954416</td>\n",
              "      <td>Volkswagen VOWG_p de finance chief Hans Dieter Poetsch set chairman put Europe big carmaker course calm water rival faction include oust patriarch Ferdinand Piech unite Hans Dieter Poetsch CFO german carmaker Volkswagen adjust glass news conference Wolfsburg July 5 2012 reuter Fabian Bimmer company look permanent successor Piech turf April clash Chief Executive Martin Winterkorn strategy wield influence family hold day propose extend ceo contract year end 2018 supervisory board executive nomination committee Thursday propose elect Poetsch 64 chairman Volkswagen 51-percent owner Porsche Automobil Holding SE PSHG_p DE say Poetsch unequivocal support supervisory board include Piech Winterkorn support elevate Poetsch accord source familiar company thinking “This good news say Arndt Ellinghorst research firm Evercore ISI cite Poetsch clear understanding VW financial problem Poetsch advocate increase focus consolidate VW business post era M&amp;A.”VW plan appoint Poetsch german group finance chief 2003 helm 20-member board report earlier Thursday Reuters Shares Volkswagen rise news trade 2.7 percent 167.50 euro 1506 GMT underperform 3.2 percent strong german DAX .GDAXI.Wolfsburg base Volkswagen choose internal candidate understand complexity relationship labor union investor major shareholder Lower Saxony Porsche Piech clan appoint external chairman cause unrest stability accord source familiar company thinking “Everybody VW believe firmly current problem overcome source say Poetsch likely elect year term replace Piech board mandate officially expire April 2017 source VW say represent break tradition company new board member usually serve remaining term predecessor new election take place Poetsch serve term effectively end 68-year old Winterkorn ambition chairman earn belate victory Piech pledge thwart ceo chance succeed success Winterkorn turn VW bolster chance nudge new man chairman Poetsch elect supervisory board extraordinary shareholder meeting November approve appointment board Piech niece Louise Kiesling Huber say supervisory board decide successor Poetsch CFO delay chief executive VW premium carmaker Audi 52-year old Rupert Stadler candidate succeed Poetsch VW CFO source familiar matter say additional reporting Edward Taylor Jan Schwartz Editing Georgina Prodhan Pravin CharOur Standards Thomson Reuters Trust Principles</td>\n",
              "      <td>0.9861</td>\n",
              "      <td>0.0</td>\n",
              "      <td>3.238745e-01</td>\n",
              "      <td>3.238745e-01</td>\n",
              "    </tr>\n",
              "    <tr>\n",
              "      <th>2</th>\n",
              "      <td>2015-09-04</td>\n",
              "      <td>Toyota partners with Stanford, MIT on self-driving car research</td>\n",
              "      <td>- Toyota Motor Corp is collaborating with two top U.S. universities on artificial intelligence and robotics research aimed at ramping up the Japanese automaker’s efforts to develop self-driving cars.Toyota said on Friday that it would spend $50 million over the next five years to establish joint research centers at both universities, one in the heart of Silicon Valley and the other outside Boston.Both schools have top-tier engineering and computer science programs, and the auto industry heavily recruits graduates of both.Toyota has lagged behind rivals in developing self-driving cars and implementing hands-free driver assistance systems.U.S. electric car maker Tesla Motors Inc already is doing final road-testing of a semi-automated hands-free system on its Model S sedan and plans to make it available to customers later this year.General Motors Co, Volkswagen AG VOWG_p.DE and Nissan Motor Co all have announced plans to phase in hands-free systems over the next two years. GM has a longstanding research partnership on self-driving vehicles with Pittsburgh’s Carnegie Mellon University. VW sponsors an intelligent-vehicle laboratory at Stanford. And Nissan earlier this year formed a partnership with the U.S. National Aeronautics and Space Administration’s Ames Research Center in Silicon Valley to conduct automated vehicle research.Toyota said it had hired Gill Pratt to direct its new research centers. Pratt is a former program manager at the U.S. Defense Department’s DARPA research arm, which has sponsored several self-driving vehicle challenges over the past 10 years. A team from Stanford won the 2005 DARPA Grand Challenge.Toyota was one of the first automakers to offer an automated parking system, on the Prius hybrid in Japan in 2003. But it has been slower than many of its competitors in implementing more advanced hands-free automated systems, and its executives have said the company has no intention of building a fully automated vehicle.Reporting by Paul Lienert in Detroit; Editing by Lisa Von AhnOur Standards: The Thomson Reuters Trust Principles.</td>\n",
              "      <td>51.0</td>\n",
              "      <td>177.20</td>\n",
              "      <td>-1.610217</td>\n",
              "      <td>-82.711864</td>\n",
              "      <td>Toyota Motor Corp collaborate U.S. university artificial intelligence robotic research aim ramp japanese automaker effort develop self drive car Toyota say Friday spend $ 50 million year establish joint research center university heart Silicon Valley outside Boston school tier engineering computer science program auto industry heavily recruit graduate Toyota lag rival develop self drive car implement hand free driver assistance system U.S. electric car maker Tesla Motors Inc final road testing semi automate hand free system Model S sedan plan available customer later year General Motors Co Volkswagen AG VOWG_p DE Nissan Motor Co announce plan phase hand free system year GM longstanding research partnership self drive vehicle Pittsburgh Carnegie Mellon University VW sponsor intelligent vehicle laboratory Stanford Nissan earlier year form partnership U.S. National Aeronautics Space Administration Ames Research Center Silicon Valley conduct automate vehicle research Toyota say hire Gill Pratt direct new research center Pratt program manager U.S. Defense Department DARPA research arm sponsor self drive vehicle challenge past 10 year team Stanford win 2005 DARPA Grand Challenge Toyota automaker offer automate parking system Prius hybrid Japan 2003 slow competitor implement advanced hand free automate system executive say company intention build fully automate vehicle reporting Paul Lienert Detroit editing Lisa Von AhnOur Standards Thomson Reuters Trust Principles</td>\n",
              "      <td>0.9917</td>\n",
              "      <td>0.0</td>\n",
              "      <td>1.707149e-01</td>\n",
              "      <td>1.707149e-01</td>\n",
              "    </tr>\n",
              "    <tr>\n",
              "      <th>3</th>\n",
              "      <td>2015-09-18</td>\n",
              "      <td>Volkswagen could face $18 billion penalties from EPA</td>\n",
              "      <td>- Volkswagen AG VOWG_p.DE faces penalties up to $18 billion after being accused of designing software for diesel cars that deceives regulators measuring toxic emissions, the U.S. Environmental Protection Agency said on Friday.“Put simply, these cars contained software that turns off emissions controls when driving normally and turns them on when the car is undergoing an emissions test,” Cynthia Giles, an enforcement officer at the EPA, told reporters in a teleconference.Volkswagen can face civil penalties of $37,500 for each vehicle not in compliance with federal clean air rules. There are 482,000 four-cylinder VW and Audi diesel cars sold since 2008 involved in the allegations. If each car involved is found to be in noncompliance, the penalty could be $18 billion, an EPA official confirmed on the teleconference.A U.S. Volkswagen spokesman said the company “is cooperating with the investigation; we are unable to comment further at this time.”The feature in question, which the EPA called a “defeat device,” masks the true emissions only during testing and therefore when the cars are on the road they emit as much as 40 times the level of pollutants allowed under clean air rules meant to ensure public health is protected, Giles said.The EPA accused Volkswagen of using software in four-cylinder Volkswagen and Audi diesel cars from model years 2009 to 2015 made to circumvent emissions testing of certain air pollutants.The cars are not facing recall at this time, the EPA said. VW did not indicate on Friday how it will address the issue.The EPA has the authority to order VW to recall the vehicles. However, that process could take up to a year, depending on the complexity of the issue, an EPA official said.The diesel-powered vehicles involved from the 2009 to 2015 model years are the VW Jetta, VW Beetle, VW Golf and the Audi A3, as well as the VW Passat from model years 2014 and 2015.VW in North America has heavily marketed its vehicles as being “clean diesel.”In a television commercial that has aired frequently this year in the United States, VW says it is the “No. 1 diesel car brand in America,” brags its cars are “clean diesel” and asks viewers, “Isn’t it time for German engineering?”Since 2009, diesel vehicles have made up approximately 15 percent of VW and Audi U.S. sales.Additional reporting by Patrick Rucker in Washington and Paul Lienert in DetroitOur Standards: The Thomson Reuters Trust Principles.</td>\n",
              "      <td>209.0</td>\n",
              "      <td>185.60</td>\n",
              "      <td>4.740406</td>\n",
              "      <td>309.803922</td>\n",
              "      <td>Volkswagen AG VOWG_p de face penalty $ 18 billion accuse design software diesel car deceive regulator measure toxic emission U.S. Environmental Protection Agency say Friday “Put simply car contain software turn emission control drive normally turn car undergo emission test Cynthia Giles enforcement officer EPA tell reporter teleconference Volkswagen face civil penalty $ 37,500 vehicle compliance federal clean air rule 482,000 cylinder VW Audi diesel car sell 2008 involve allegation car involve find noncompliance penalty $ 18 billion EPA official confirm teleconference U.S. Volkswagen spokesman say company cooperate investigation unable comment time ”the feature question EPA call defeat device mask true emission testing car road emit 40 time level pollutant allow clean air rule mean ensure public health protect Giles say EPA accuse Volkswagen software cylinder Volkswagen Audi diesel car model year 2009 2015 circumvent emission testing certain air pollutant car face recall time EPA say VW indicate Friday address issue EPA authority order VW recall vehicle process year depend complexity issue EPA official say diesel power vehicle involve 2009 2015 model year VW Jetta VW Beetle VW Golf Audi A3 VW Passat model year 2014 2015.vw North America heavily market vehicle clean diesel ”In television commercial air frequently year United States VW say 1 diesel car brand America brag car clean diesel ask viewer time german engineering?”Since 2009 diesel vehicle approximately 15 percent VW Audi U.S. sale additional reporting Patrick Rucker Washington Paul Lienert DetroitOur Standards Thomson Reuters Trust Principles</td>\n",
              "      <td>0.8720</td>\n",
              "      <td>0.0</td>\n",
              "      <td>1.140336e-02</td>\n",
              "      <td>1.140336e-02</td>\n",
              "    </tr>\n",
              "    <tr>\n",
              "      <th>4</th>\n",
              "      <td>2015-09-21</td>\n",
              "      <td>Volkswagen's 'clean diesel' strategy unraveled by outside emissions tests</td>\n",
              "      <td>- When the International Council for Clean Transportation (ICCT) commissioned researchers at West Virginia University to test diesel car emissions in 2013, the group expected to find that diesel cars sold in the U.S. emitted fewer pollutants than cars sold elsewhere because they had to meet tougher standards, ICCT officials told Reuters on Monday.Instead, after testing a 2012 Volkswagen Jetta and a 2013 VW Passat, researchers were “surprised” when the results showed the opposite: the two VW models displayed much higher levels of nitrogen oxide emissions than permitted by law, while a third test vehicle, a BMW X5, generally fell within permissible limits.“Our hypothesis was these cars would all come out clean,” said Drew Kodjak, executive director of the ICCT, a non-profit independent research group with offices in Washington, San Francisco and Berlin.In May 2014, ICCT alerted the Environmental Protection Agency and the California Air Resources Board about their findings. On Friday, EPA said VW could be liable for up to $18 billion in penalties for using software on almost 500,000 VW and Audi diesel cars that circumvented emissions regulations, unleashing a controversy that threatens long-term damage to VW’s finances, leadership and reputation.VW shares in Europe fell almost 20 percent on Monday, and the company suspended U.S. sales of its diesel cars until it can come up with a fix to satisfy regulators. The disclosure comes as VW’s U.S. sales have lagged the company’s performance in other global markets, and could hamper its efforts to boost demand in the American market.Industry experts said the scandal could hit VW hard, just as it was emerging from a damaging leadership battle. VW Chief Executive Martin Winterkorn said on Sunday he was “deeply sorry” for the breach of U.S. rules and ordered an investigation. People including a VW supervisory board member said Winterkorn may have to resign.The concerns raised by ICCT “prompted CARB to start an investigation and discussions” with VW in 2014, CARB said. Nitrogen oxide emissions have been linked to smog and acid rain.VW agreed to conduct its own tests to replicate the ICCT study, proposed a software fix to CARB.‘CLEAN DIESEL’VW has been airing TV commercials lauding its “clean diesel” cars for several years, including ads that ran last November, even as the company was aware of the emissions controversy. VW on Monday said there was no intention to misinform the public with its clean diesel ads.In December, VW issued a voluntary recall of all its U.S. diesel cars from model years 2009-2014.The recall didn’t end the matter. CARB, in cooperation with EPA, said it wanted to do “confirmatory” tests, and it ran those beginning in May 2015. In July, CARB notified VW that the test vehicles still showed emissions that exceeded state and federal limits. California shared those results with federal regulators.VW attributed the excess emissions to “various technical issues” and “unexpected” real-world conditions.It wasn’t until EPA and CARB threatened to withhold certification for the automaker’s 2016 diesel models that VW in early September revised its explanation.“Only then did VW admit it had designed and installed a defeat device in these vehicles in the form of a sophisticated software algorithm that detected when a vehicle was undergoing emissions testing,” the EPA said in its September 18 letter to VW.The EPA on Friday said that it “intends to compel VW to issue a recall” once the automaker has developed a satisfactory fix. But as of mid-day Monday, company and EPA officials said there was no recall.VW executives were scheduled to unveil the 2016 Passat - including a “clean diesel” version - in New York City on Monday evening. The company late Monday said the 2016 Passat diesel has not yet been certified for the U.S. by the EPA.Reporting by Paul Lienert in Detroit and Tim Gardner in Washington. Editing by Joseph White and John PickeringOur Standards: The Thomson Reuters Trust Principles.</td>\n",
              "      <td>20900.0</td>\n",
              "      <td>149.88</td>\n",
              "      <td>-19.245690</td>\n",
              "      <td>9900.000000</td>\n",
              "      <td>International Council Clean Transportation ICCT commission researcher West Virginia University test diesel car emission 2013 group expect find diesel car sell U.S. emit few pollutant car sell meet tough standard ICCT official tell Reuters Monday instead test 2012 Volkswagen Jetta 2013 VW Passat researcher surprised result show opposite VW model display high level nitrogen oxide emission permit law test vehicle BMW X5 generally fall permissible limit “Our hypothesis car come clean say Drew Kodjak executive director ICCT non profit independent research group office Washington San Francisco Berlin 2014 ICCT alert Environmental Protection Agency California Air Resources Board finding Friday EPA say VW liable $ 18 billion penalty software 500,000 VW Audi diesel car circumvent emission regulation unleash controversy threaten long term damage VW finance leadership reputation VW share Europe fall 20 percent Monday company suspend U.S. sale diesel car come fix satisfy regulator disclosure come VW U.S. sale lag company performance global market hamper effort boost demand american market industry expert say scandal hit VW hard emerge damaging leadership battle VW Chief Executive Martin Winterkorn say Sunday deeply sorry breach U.S. rule order investigation People include VW supervisory board member say Winterkorn resign concern raise ICCT prompt CARB start investigation discussion VW 2014 CARB say nitrogen oxide emission link smog acid rain VW agree conduct test replicate ICCT study propose software fix CARB.‘CLEAN DIESEL’VW air tv commercial laud clean diesel car year include ad run November company aware emission controversy VW Monday say intention misinform public clean diesel ad December VW issue voluntary recall U.S. diesel car model year 2009 2014.The recall end matter CARB cooperation EPA say want confirmatory test run begin 2015 July CARB notify VW test vehicle show emission exceed state federal limit California share result federal regulator VW attribute excess emission technical issue unexpected real world condition EPA CARB threaten withhold certification automaker 2016 diesel model VW early September revise explanation “only VW admit design instal defeat device vehicle form sophisticated software algorithm detect vehicle undergo emission testing EPA say September 18 letter vw.the EPA Friday say intend compel VW issue recall automaker develop satisfactory fix mid day Monday company EPA official say recall VW executive schedule unveil 2016 Passat include clean diesel version New York City Monday evening company late Monday say 2016 Passat diesel certify U.S. epa.reporting Paul Lienert Detroit Tim Gardner Washington editing Joseph White John PickeringOur Standards Thomson Reuters Trust Principles</td>\n",
              "      <td>0.8024</td>\n",
              "      <td>0.0</td>\n",
              "      <td>2.023949e-05</td>\n",
              "      <td>2.023949e-05</td>\n",
              "    </tr>\n",
              "    <tr>\n",
              "      <th>5</th>\n",
              "      <td>2015-09-24</td>\n",
              "      <td>INSIGHT-After year of stonewalling, VW stunned US regulators with confession</td>\n",
              "      <td>- The confession of cheating that’s embroiled Volkswagen AG in one of the biggest scandals in auto industry history came on a cool California morning, on the sidelines of an academic conference focused on green transportation.After more than a year of stonewalling investigators, Volkswagen stunned two senior officials with the U.S. Environmental Protective Agency and California’s environmental watchdog by admitting the automaker hacked its own cars to deceive U.S. regulators about how much their diesel engines pollute.That disclosure on Aug. 21, confirmed by two people with knowledge of the exchange, shows Volkswagen buckled to pressure from environmental regulators almost a month earlier than the scandal was made public. The admission to regulators came after a year during which VW officials insisted to regulators that tests on its diesel cars showing a spike in pollution levels on the road were in error.U.S. officials exposed the deception on Sept. 18, triggering Volkswagen’s admission that it had installed software in its cars to detect when they were being tested and alter settings to conceal the true emissions of 11 million cars sold worldwide. The delay between VW’s confession and the U.S. exposure of the scandal occurred as regulators prepared their response to the disclosure.As a result, Volkswagen, the world’s largest automaker by sales, faces EPA fines that could reach $18 billion, class action and other lawsuits that could add billions of dollars more in liability and a U.S. criminal investigation. VW’s leadership is in turmoil after chairman Martin Winterkorn was forced to resign and sources said other executives including the head of U.S operations were soon to follow.Now, the story of how investigators unraveled systemic cheating in the face of consistent denials from the company may have implications for the sanctions VW will face and for an auto industry certain to face more scrutiny about its environmental claims. The company’s lack of cooperation could figure into punitive action by the government.At first, regulators were surprised that Volkswagen would make its confession at the conference, held in Pacific Grove, California. Minutes before Christopher Grundler, director of the EPA’s transportation and air quality office, was to deliver a 9 a.m. speech to the conference, a Volkswagen representative told him about the deception. At the same meeting, representatives of the California Air Resources Board, a state agency that had been pushing VW hard, were also given a verbal notice of the deception, people with knowledge of the events said.Volkswagen declined to comment on the sequence of events described to Reuters. It isn’t clear who the VW representative was who delivered the news of the deception to Grundler and the CARB. Stuart Johnson, head of VW’s engineering and environmental office in the United States, was registered to attend the Aug. 21 conference, which was organized by the University of California, Davis. Johnson, who still works for VW in Auburn Hills, Michigan, did not respond immediately to a request for comment.Norbert Krause, who was head of VW’s U.S. environmental office until 2009 and who retired from VW in 2011, said nobody at Volkswagen of America was involved in the process of engineering the diesel cars.“I don’t know anything about the modification of the software,” Krause said when reached by telephone in Germany. “The software was okay when we certified the vehicle and we made our durability runs. Everything was fine.”DECEPTION ACKNOWLEDGEDA formal acknowledgement of the deception came on Sept. 3, when the EPA and California officials held a conference call with Volkswagen executives in Germany and the U.S. During the call, the automaker went over written details provided to the participants explaining how software used in its diesel cars was able to manipulate emissions tests in the United States.That admission came after the EPA threatened to withhold approval for the company’s 2016 Volkswagen and Audi diesel models, according to a letter sent by the EPA to Johnson and VW’s attorney. The letter detailed some of the timetable of the EPA’s actions.So ended 15 months of back-and-forth between Volkswagen and U.S. and California regulators who had come to suspect that the diesel engines were producing higher nitrogen oxide emissions during normal driving conditions than what was certified by the EPA and California, people involved said. Nitrogen oxide emissions have been linked to smog and acid rain.Volkswagen had heavily marketed what it called “clean diesel” engines starting in 2008 with the 2009-model Jetta TDI. It appeared to have found a sweet spot between high-performance and fuel-efficiency with a zippy, fun-to-drive car that topped 40 miles per gallon in highway driving. Named “Green Car of the Year” at the Los Angeles auto show in 2008, the Jetta TDI was seen as a breakthrough in a country where diesel passenger cars occupy a tiny niche compared with Europe, where they are about half of the market.GRANDFATHER’S DIESEL“It’s not your grandfather’s diesel,” Krause said in a September 2008 presentation to U.S. regulators, according to a video of the remarks.Krause and other VW officials promised a diesel that would meet pollution laws in all states, including California where diesel engines had long been associated with smog and cancer-causing soot.By that point, VW and other automakers had lobbied for almost a decade for regulators to give diesel another chance. In 2000, VW and other companies with an interest in promoting diesel, including Mazda, formed the Diesel Technology Forum to lobby for increased use in the United States as a way to reduce reliance on imported oil. In 2005, an energy bill signed by President George W. Bush offered tax credits for diesel buyers. That gave the first wave of diesel Jetta buyers an income tax credit of $1,300 each.In 2009, after the new Jetta went on sale, VW dealers initially sold out, including in California where regulations had effectively shut the market to diesels earlier in the decade.Around the same time, in Europe, regulators were skeptical. A European Commission study concluded in 2013 that European car makers were exploiting test loopholes. Separate findings by the EC’s Joint Research Centre showed a discrepancy between test results and real world performance in European diesel engines.California began its inquiry after EC regulators sought to obtain American data on the on-road emissions performance of diesel engines, said Stanley Young, CARB’s communications director. The Europeans had a working theory that diesels should run more cleanly in the United States, where regulations are stricter, than in Europe.To produce that data, they commissioned the U.S.-based nonprofit International Council on Clean Transportation in February 2013, which hired researchers at a West Virginia University lab.The WVU researchers placed emission-monitoring equipment on a rented 2012 Jetta and a 2013 Passat. Over seven weeks in spring 2013, they drove the cars around Los Angeles and up the West Coast to Seattle, comparing them to a BMW X5 sport-utility with a diesel engine, said Daniel Carder, who led the WVU team. While the BMW’s emission results came in under what the vehicles produced in laboratory tests, those of the Jetta were 15 to 35 times higher than the legal limit and the Passat 10 to 20 times higher.Soon after, the same rental cars tested by WVU were monitored in CARB’s El Monte, California, test facility east of Los Angeles. There were no irregular emissions.Over the next 12 months, the West Virginia University researchers analyzed the data. They presented their findings at a March 31, 2014, conference in San Diego partly sponsored by California regulators and the EPA.EXECUTIVES ON ALERT“That data put our executives on alert that there was clearly a problem for the U.S. and California,” said Young, the CARB official.At meetings between California officials and Volkswagen that began in the summer of 2014, engineers from the German carmaker tried to “discredit the findings” by challenging the data and methodology of the study, Young said. “They were recalcitrant,” he said. “It was a range of issues. Every time it was something different.”Among other things, VW said that “our calibration was off” and that the discrepancies had to do with “the conditions under which the test was done,” Young said.On Dec. 2, Volkswagen shared the results of its own tests, blaming its increased emissions on “various technical issues and unexpected in-use conditions,” according to the EPA. Then Volkswagen agreed to recall vehicles to fix their engine-control software.Engineers at CARB kept testing and found the proposed software fix did not significantly reduce emissions. A break came when they looked at diagnostic data stored in the cars’ own computer system.“We discovered some very strange anomalies,” Young said. “For instance, the car was running more cleanly when it was cold than when it was warm, which is the opposite of what every other car does - because once you warm a car up that’s when it begins to deliver its best pollution controls. This was not the case. So clearly something else was going on. Over time we assembled enough proof and questions that they could no longer provide any reasonable explanation for what was going on.”On July 8, CARB shared its results with VW, but there was no change in Volkswagen’s position. Some officials privately questioned whether Volkswagen was deliberately violating the federal Clean Air Act by installing defeat devices -- software programmed to switch engines to a cleaner mode during official emissions testing, according to a person involved in the process.During normal driving, the software then shuts off, enabling cars to emit as much as 40 times the legal limit of pollutants.In early August, Oliver Schmidt, who followed Krause and preceded Johnson in VW’s U.S. engineering and environmental office, attended a conference in Traverse City, Michigan and told regulators Volkswagen stood by its conclusions that the problem was technical, said people involved said. Schmidt declined to speak to Reuters.“I’m just amazed,” said Alan Lloyd, who headed CARB from 1999 to 2004 and helped open California’s market to diesels. “Why someone would think they could cheat in this way and get away with it is beyond me.”Additional reporting by Bruce Wallace, Patric Rucker, Alexandria Sage, Ayesha Rascoe, Kevin Krolicki and Idrees Ali; writing by Jason Szep. Editing by Kevin Krolicki and John PickeringOur Standards: The Thomson Reuters Trust Principles.</td>\n",
              "      <td>29940.0</td>\n",
              "      <td>134.91</td>\n",
              "      <td>-9.987990</td>\n",
              "      <td>43.253589</td>\n",
              "      <td>confession cheat embroil Volkswagen AG big scandal auto industry history come cool California morning sideline academic conference focus green transportation year stonewall investigator Volkswagen stun senior official U.S. Environmental Protective Agency California environmental watchdog admit automaker hack car deceive U.S. regulator diesel engine pollute disclosure August 21 confirm people knowledge exchange show Volkswagen buckle pressure environmental regulator month earlier scandal public admission regulator come year VW official insist regulator test diesel car show spike pollution level road error U.S. official expose deception September 18 trigger Volkswagen admission instal software car detect test alter setting conceal true emission 11 million car sell worldwide delay VW confession U.S. exposure scandal occur regulator prepare response disclosure result Volkswagen world large automaker sale face EPA fine reach $ 18 billion class action lawsuit add billion dollar liability U.S. criminal investigation VW leadership turmoil chairman Martin Winterkorn force resign source say executive include head U.S operation soon follow story investigator unravel systemic cheating face consistent denial company implication sanction VW face auto industry certain face scrutiny environmental claim company lack cooperation figure punitive action government regulator surprised Volkswagen confession conference hold Pacific Grove California minute Christopher Grundler director EPA transportation air quality office deliver 9 a.m. speech conference Volkswagen representative tell deception meeting representative California Air Resources Board state agency push VW hard give verbal notice deception people knowledge event say Volkswagen decline comment sequence event describe Reuters clear VW representative deliver news deception Grundler CARB Stuart Johnson head VW engineering environmental office United States register attend August 21 conference organize University California Davis Johnson work VW Auburn Hills Michigan respond immediately request comment Norbert Krause head VW U.S. environmental office 2009 retire VW 2011 say Volkswagen America involve process engineer diesel car “I know modification software Krause say reach telephone Germany software okay certify vehicle durability run fine ”DECEPTION acknowledgeda formal acknowledgement deception come September 3 EPA California official hold conference Volkswagen executive Germany U.S. automaker go write detail provide participant explain software diesel car able manipulate emission test United States admission come EPA threaten withhold approval company 2016 Volkswagen Audi diesel model accord letter send EPA Johnson VW attorney letter detail timetable EPA action end 15 month forth Volkswagen U.S. California regulator come suspect diesel engine produce high nitrogen oxide emission normal driving condition certify EPA California people involve say nitrogen oxide emission link smog acid rain Volkswagen heavily market call clean diesel engine start 2008 2009-model Jetta TDI appear find sweet spot high performance fuel efficiency zippy fun drive car top 40 mile gallon highway driving name Green Car Year Los Angeles auto 2008 Jetta TDI see breakthrough country diesel passenger car occupy tiny niche compare Europe half market GRANDFATHER diesel“it grandfather diesel Krause say September 2008 presentation U.S. regulator accord video remark Krause VW official promise diesel meet pollution law state include California diesel engine long associate smog cancer cause soot point VW automaker lobby decade regulator diesel chance 2000 VW company interest promote diesel include Mazda form Diesel Technology Forum lobby increase use United States way reduce reliance import oil 2005 energy bill sign President George W. Bush offer tax credit diesel buyer give wave diesel Jetta buyer income tax credit $ 1,300 2009 new Jetta go sale VW dealer initially sell include California regulation effectively shut market diesel earlier decade time Europe regulator skeptical European Commission study conclude 2013 european car maker exploit test loophole separate finding EC Joint Research Centre show discrepancy test result real world performance european diesel engine California begin inquiry EC regulator seek obtain american datum road emission performance diesel engine say Stanley Young CARB communication director Europeans working theory diesel run cleanly United States regulation strict Europe produce datum commission u.s.-based nonprofit International Council Clean Transportation February 2013 hire researcher West Virginia University lab WVU researcher place emission monitor equipment rented 2012 Jetta 2013 Passat seven week spring 2013 drive car Los Angeles West Coast Seattle compare BMW X5 sport utility diesel engine say Daniel Carder lead WVU team BMW emission result come vehicle produce laboratory test Jetta 15 35 time high legal limit Passat 10 20 time high soon rental car test WVU monitor CARB El Monte California test facility east Los Angeles irregular emission 12 month West Virginia University researcher analyze datum present finding March 31 2014 conference San Diego partly sponsor California regulator epa.executives alert“that datum executive alert clearly problem U.S. California say Young CARB official meeting California official Volkswagen begin summer 2014 engineer german carmaker try discredit finding challenge datum methodology study Young say recalcitrant say range issue time different ”among thing VW say calibration discrepancy condition test Young say December 2 Volkswagen share result test blame increase emission technical issue unexpected use condition accord EPA Volkswagen agree recall vehicle fix engine control software engineer CARB keep test find propose software fix significantly reduce emission break come look diagnostic datum store car computer system “We discover strange anomaly Young say instance car run cleanly cold warm opposite car warm car begin deliver good pollution control case clearly go time assemble proof question longer provide reasonable explanation go ”On July 8 CARB share result VW change Volkswagen position official privately question Volkswagen deliberately violate federal Clean Air Act instal defeat device software program switch engine clean mode official emission testing accord person involve process normal driving software shut enable car emit 40 time legal limit pollutant early August Oliver Schmidt follow Krause precede Johnson VW U.S. engineering environmental office attend conference Traverse City Michigan tell regulator Volkswagen stand conclusion problem technical say people involve say Schmidt decline speak Reuters “I’m amazed say Alan Lloyd head CARB 1999 2004 help open California market diesel think cheat way away ”additional reporting Bruce Wallace Patric Rucker Alexandria Sage Ayesha Rascoe Kevin Krolicki Idrees Ali writing Jason Szep editing Kevin Krolicki John PickeringOur Standards Thomson Reuters Trust Principles</td>\n",
              "      <td>0.8316</td>\n",
              "      <td>0.0</td>\n",
              "      <td>5.902187e-10</td>\n",
              "      <td>5.902187e-10</td>\n",
              "    </tr>\n",
              "    <tr>\n",
              "      <th>6</th>\n",
              "      <td>2015-09-29</td>\n",
              "      <td>Illegal VW diesel emission systems may require two solutions</td>\n",
              "      <td>- Volkswagen AG ‘s promise to fix pollution control systems on about 11 million diesel vehicles will involve changes to software, and possibly hardware, that could leave owners with cars that deliver diminished fuel economy and performance or require more maintenance, experts said Tuesday.The German automaker’s new chief executive, Matthias Mueller, said Tuesday VW customers would need to have those diesel cars “refitted.” The company did not specify what the refitting might entail. Some analysts have said the job could cost more than $6.5 billion.A former executive of Volkswagen’s U.S. operation said Tuesday the company may be required to change only software, and not hardware, to bring older diesel models now deemed illegal into compliance with U.S. emissions standards.Other experts and U.S. regulators said the German automaker likely will have to come up with two sets of solutions for two different emission-control systems installed on 482,000 U.S. diesel cars from model years 2009-2015.VW has admitted using software that circumvented U.S. and California pollution rules by fully activating the exhaust scrubbing systems only when the car was being put through precisely prescribed government emissions tests.VW hasn’t said why it used the illegal “defeat device” to deceive regulators. But the results, at least in the short term, were beneficial: VW was able to pass laboratory tests that showed its U.S. diesel cars met the relevant regulations, but then switched off the emission control devices while driving.The benefits of switching the pollution control systems off were different depending on which system the vehicles used, experts said.VW initially installed the illegal software, beginning in late 2008, on 2.0-liter four-cylinder turbo-diesel engines fitted with devices known as “lean NOx traps,” designed to reduce nitrogen oxides in engine exhaust. Nitrogen oxide emissions have been linked to smog, acid rain and lung cancer.EPA on September 25 said it would take longer to fix older VW diesels from model years 2009-2014 that used the lean NOx traps.Any device used to control nitrogen oxide emissions typically “diminishes the performance and fuel economy” of diesel engines, according to automotive consultant Sandy Munro.Older VW diesels could be made to function properly with a software fix, said Marc Trahan, who retired in late 2014 as executive vice president of group quality after a 35-year career with VW and its Audi subsidiary. They should not need to have newer hardware installed, which would take much longer, require extensive “re-engineering” and be cost-prohibitive, he said.Beginning in 2012, Volkswagen offered the same 2.0 TDI engines with a more sophisticated and expensive emissions control system called Selective Catalytic Reduction. These systems, which debuted on VW’s largest car, the Passat, injected a liquid urea solution into the exhaust to break down the nitrogen oxides.These systems also had software that turned them off during normal driving, the company has admitted. The consequences of running the systems all the time will be different for consumers than the older, NOx traps.Ideally, the urea solution used to control smog-forming gases is supposed to be replaced every 10,000 miles, typically by a dealer, but VW encountered potential problems.On newer models with the SCR system, Trahan said there were concerns within the company about the urea consumption being so great that it would require separate “fill-ups” every 5,000 miles, rather than the desired 10,000-mile intervals that are typical between engine oil changes.A software update on the newer diesel models equipped with SCR devices could lead to “reduced vehicle performance and fuel economy and increased urea use,” said analyst Kevin Riddell of LMC Automotive. The new software “also will have an impact on resale value and potential marketability,” he said. (Additional reporting by Joseph White in Detroit. Editing by Joseph White and John Pickering)Our Standards: The Thomson Reuters Trust Principles.</td>\n",
              "      <td>20864.0</td>\n",
              "      <td>118.10</td>\n",
              "      <td>-12.460159</td>\n",
              "      <td>-30.313961</td>\n",
              "      <td>Volkswagen AG promise fix pollution control system 11 million diesel vehicle involve change software possibly hardware leave owner car deliver diminish fuel economy performance require maintenance expert say Tuesday german automaker new chief executive Matthias Mueller say Tuesday VW customer need diesel car refit company specify refit entail analyst say job cost $ 6.5 billion executive Volkswagen U.S. operation say Tuesday company require change software hardware bring old diesel model deem illegal compliance U.S. emission standard expert U.S. regulator say german automaker likely come set solution different emission control system instal 482,000 U.S. diesel car model year 2009 2015.vw admit software circumvent U.S. California pollution rule fully activate exhaust scrub system car precisely prescribe government emission test VW say illegal defeat device deceive regulator result short term beneficial VW able pass laboratory test show U.S. diesel car meet relevant regulation switch emission control device drive benefit switch pollution control system different depend system vehicle expert say VW initially instal illegal software begin late 2008 2.0-liter cylinder turbo diesel engine fit device know lean NOx trap design reduce nitrogen oxide engine exhaust nitrogen oxide emission link smog acid rain lung cancer EPA September 25 say longer fix old VW diesel model year 2009 2014 lean NOx trap device control nitrogen oxide emission typically diminish performance fuel economy diesel engine accord automotive consultant Sandy Munro old VW diesel function properly software fix say Marc Trahan retire late 2014 executive vice president group quality 35-year career VW Audi subsidiary need new hardware instal longer require extensive engineering cost prohibitive say begin 2012 Volkswagen offer 2.0 tdi engine sophisticated expensive emission control system call Selective catalytic Reduction system debut VW large car Passat inject liquid urea solution exhaust break nitrogen oxide system software turn normal driving company admit consequence run system time different consumer old NOx trap ideally urea solution control smog form gas suppose replace 10,000 mile typically dealer VW encounter potential problem new model SCR system Trahan say concern company urea consumption great require separate fill up 5,000 mile desire 10,000-mile interval typical engine oil change software update new diesel model equip SCR device lead reduce vehicle performance fuel economy increase urea use say analyst Kevin Riddell LMC Automotive new software impact resale value potential marketability say additional reporting Joseph White Detroit editing Joseph White John Pickering)Our Standards Thomson Reuters Trust Principles</td>\n",
              "      <td>-0.2812</td>\n",
              "      <td>0.0</td>\n",
              "      <td>8.385290e-04</td>\n",
              "      <td>8.385290e-04</td>\n",
              "    </tr>\n",
              "    <tr>\n",
              "      <th>7</th>\n",
              "      <td>2015-10-08</td>\n",
              "      <td>VW's U.S. recall could be thwarted by reluctant diesel owners</td>\n",
              "      <td>- As Volkswagen AG prepares to explain how it might fix the polluting diesel cars that set off the biggest scandal in the German automaker’s history, whatever solution it proposes could be undermined by some owners in the United States who won’t bring their cars in for a recall and can’t be forced to.A logo of Volkswagen is seen at a dealership in Seoul, South Korea, October 5, 2015.  REUTERS/Kim Hong-JiThe cars, some 482,000 Passats, Golfs and Jettas sold in model years 2009 to 2015 in the United States, are peppy and fun to drive, owners say. Because fixing the cars is likely to result in lower performance and fuel economy, some drivers will decline, even though their cars would continue to spew 40 times the smog-producing emissions permitted by some states. If they do, there are few enforcement levers in place.In the three states with the most VW diesel cars caught up in the emissions scandal, only California withholds registration renewals from cars that fail to comply with recalls. In Texas and Florida, which have the second- and third-highest number of VW diesels after California, there are no emission standards in place for diesel vehicles.Nationally, only 17 states are required by the Clean Air Act to confirm that owners of cars subjected to a recall show proof they have complied with it before they are allowed to take an emissions test required to register their cars, the Environmental Protection Agency said.The EPA couldn’t confirm whether the 33 other states don’t require owners to prove they have complied with a recalI. Texas doesn’t include diesel vehicles in its emission inspection program and Florida no longer has a vehicle emission inspection program, EPA said. It isn’t known how many other states don’t require vehicles to pass emissions tests.The EPA has said a recall is likely.“I love the car,” said the owner of a diesel Passat in Florida named Thomas, who didn’t want to give his last name because of privacy concerns. “However, a lot of that is based upon the performance of the car. I am very dismayed that I am now in the position of ignoring the recall to have the performance of the car versus having the recall performed and the car not performing like the one I purchased.”Jared Allen, a spokesman with the National Auto Dealers Association, said loopholes in states such as Florida are why the nationwide recall completion rate hovers around 70 percent.“There is no enforcement mechanism that is tied to the consumer’s ability to continue driving the vehicle,” Allen said.German regulators have set a Wednesday deadline for VW to disclose how vehicles will be fixed to comply with EU emissions laws.. On Thursday, VW’s U.S. head will testify before U.S. lawmakers.In the meantime, one owner on the VWVortex website said that VW would have to wave “a big carrot” in front of their customers to get them to comply with the recall.That could come in the form of loyalty programs, trade-ins, or cash incentives. VW late last week informed dealers it would offer “loyalty bonuses” of $2,000 for owners who want to trade in their cars.Thomas from Florida said he doubted that would be enough: “I think the hit we’ll take in resale will be much greater than that.”The EPA has the authority to order VW to recall the vehicles, but its authority to compel consumers to get their cars repaired is limited.Asked about enforcement levers, the EPA said a recall wouldn’t necessarily require owners to repair their vehicle. Manufacturers have to submit quarterly reports summarizing response rates to the agency, the EPA said.But the stakes of disobeying a recall are clear: “Without the repairs, vehicles may be emitting harmful pollutants in excess of the federal emission standards,” the EPA said in a statement to Reuters.In a recall, California officials deny re-registrations to owners who fail to bring their vehicles into compliance. Vehicles are registered yearly so owners could get away without a fix for up to a year without being caught.“I’d most likely wait as long as possible and let others be the technology pathfinders and get my cars ‘fixed’ only when there was a hard deadline by California after other folks get all the bugs worked out,” said owner David Rosing of Los Angeles.A majority of states, however, including Texas and Florida, have no such laws, frustrating environmentalists.“I’m a bit surprised if Texas and Florida don’t do the same thing (as California) and the EPA doesn’t enforce that,” said Roland Hwang, director of the National Resource Defense Council’s energy and transportation program.One thing that could affect the recall response rate is that problem is emissions-related and not a safety issue. Even in safety recalls, many vehicle owners don’t take cars back to dealers to get them repaired, as they are not forced to.According to the Alliance of Automobile Manufacturers, which is currently researching recall response rates, in 99 percent of safety recalls from 2000 to 2013, the National Highway Traffic Safety Administration did not issue an unconditional “do not drive” recommendation.That means that without Volkswagen’s prodding its customers or wooing them with financial incentives, regulators can do little but hope that owners will comply.“Regulators should be giving the orders and calling the shots,” said Kristen Monsell, an attorney with the Center for Biological Diversity. “Instead, VW seems to be in the driver’s seat.”Writing by Alexandria Sage; Editing by Steve Trousdale and John PickeringOur Standards: The Thomson Reuters Trust Principles.</td>\n",
              "      <td>21307.0</td>\n",
              "      <td>131.71</td>\n",
              "      <td>11.524132</td>\n",
              "      <td>2.123275</td>\n",
              "      <td>Volkswagen AG prepare explain fix pollute diesel car set big scandal german automaker history solution propose undermine owner United States will bring car recall force logo Volkswagen see dealership Seoul South Korea October 5 2015 REUTERS Kim Hong JiThe car 482,000 Passats Golfs Jettas sell model year 2009 2015 United States peppy fun drive owner fix car likely result low performance fuel economy driver decline car continue spew 40 time smog produce emission permit state enforcement lever place state VW diesel car catch emission scandal California withhold registration renewal car fail comply recall Texas Florida second- high number VW diesel California emission standard place diesel vehicle nationally 17 state require Clean Air Act confirm owner car subject recall proof comply allow emission test require register car Environmental Protection Agency say EPA confirm 33 state require owner prove comply recalI. Texas include diesel vehicle emission inspection program Florida longer vehicle emission inspection program EPA say know state require vehicle pass emission test EPA say recall likely “i love car say owner diesel Passat Florida name Thomas want privacy concern lot base performance car dismayed position ignore recall performance car versus have recall perform car perform like purchase ”jare Allen spokesman National Auto Dealers Association say loophole state Florida nationwide recall completion rate hover 70 percent “There enforcement mechanism tie consumer ability continue drive vehicle Allen say german regulator set Wednesday deadline VW disclose vehicle fix comply EU emission law Thursday VW U.S. head testify U.S. lawmaker meantime owner VWVortex website say VW wave big carrot customer comply recall come form loyalty program trade in cash incentive VW late week inform dealer offer loyalty bonus $ 2,000 owner want trade car Thomas Florida say doubt think hit resale great ”The EPA authority order VW recall vehicle authority compel consumer car repair limited ask enforcement lever EPA say recall necessarily require owner repair vehicle manufacturer submit quarterly report summarize response rate agency EPA say stake disobey recall clear repair vehicle emit harmful pollutant excess federal emission standard EPA say statement Reuters recall California official deny registration owner fail bring vehicle compliance vehicle register yearly owner away fix year catch “I’d likely wait long possible let technology pathfinder car fix hard deadline California folk bug work say owner David Rosing Los Angeles majority state include Texas Florida law frustrating environmentalist “I’m bit surprised Texas Florida thing California EPA enforce say Roland Hwang director National Resource Defense Council energy transportation program thing affect recall response rate problem emission relate safety issue safety recall vehicle owner car dealer repair force accord Alliance Automobile Manufacturers currently research recall response rate 99 percent safety recall 2000 2013 National Highway Traffic Safety Administration issue unconditional drive recommendation mean Volkswagen prod customer woo financial incentive regulator little hope owner comply “regulator give order call shot say Kristen Monsell attorney Center Biological Diversity instead VW driver seat ”writing Alexandria Sage editing Steve Trousdale John PickeringOur Standards Thomson Reuters Trust Principles</td>\n",
              "      <td>0.9854</td>\n",
              "      <td>0.0</td>\n",
              "      <td>2.107937e-07</td>\n",
              "      <td>2.107937e-07</td>\n",
              "    </tr>\n",
              "    <tr>\n",
              "      <th>8</th>\n",
              "      <td>2015-10-13</td>\n",
              "      <td>VW looks to cutbacks and electric cars to overcome scandal</td>\n",
              "      <td>- Volkswagen will cut investment plans at its biggest division by 1 billion euros ($1.1 billion) a year and step up development of electric vehicles, it said on Tuesday, as it battles to cope with the fallout from its cheating of diesel emissions tests.The German company also said it would speed up cost cutting at the VW division, its largest by revenues, and put only the latest and “best environmental technology” in diesel vehicles.Europe’s largest carmaker is battling the biggest business crisis in its 78-year history after admitting last month it installed software in diesel vehicles to deceive U.S. regulators about the true level of their toxic emissions.The scandal has wiped about a quarter off its market value, forced out its long-time chief executive and rocked both the global car industry and the German economy.Germany’s ZEW think tank said on Tuesday its economic sentiment index had plummeted to its lowest level in a year, in part because of the uncertainty surrounding the auto industry, which employs more than 750,000 people in the country and is a major source of export income.Economy Minister Sigmar Gabriel said he did not think Volkswagen's VOWG_p.DE problems would do lasting damage to Europe's largest economy, however.Some analysts said a strategy more focused on electric vehicles and hybrids could eventually help sow the seeds of recovery for Volkswagen.“There is a real chance for VW to even extract something positive from the diesel fiasco,” said Stefan Bratzel, head of the Center of Automotive Management think-tank near Cologne.“Funneling more resources into electric mobility gives them a credible future perspective to try to overcome this crisis.”But the company has a mountain to climb.Volkswagen sources told Reuters on Friday its namesake division would probably slump to a loss this year because it was set to shoulder the bulk of costs related to the scandal.Related CoverageEPA hasn't decided if new software on 2016 VW diesels is legalVW crisis, emerging markets hit German investor moraleThe company has said it may have to refit up to 11 million diesel vehicles that could contain cheat software, with around 5 million of those from the VW brand.Some analysts have said the group could ultimately face a bill of as much as 35 billion euros for refitting vehicles, regulatory fines, lawsuits and other costs.At 1310 GMT, Volkswagen shares were down 3.5 percent at 104.75 euros.SAVING MONEYVolkswagen will cut spending on models, technology and production facilities at the VW brand by 1 billion euros a year through 2019 from its previous plans, a spokesman said.He declined to say what those investment plans had been.Last November, Volkswagen announced 85.6 billion euros of investments across the group between 2015 and 2019, with half earmarked for modernizing and expanding the model range.Other brands within the group, which includes Audi, Porsche, Seat and Skoda, are reviewing spending commitments, the spokesman said, without giving details.Volkswagen said last year it planned to increase cost savings at the VW division, where profit margins lag much of the rest of the group as well as major rival Toyota, to 5 billion euros a year by 2017.On Tuesday, the division said it would speed up those cuts and stop making the money-losing Phaeton luxury saloon, a pet project of former chairman Ferdinand Piech that has never met its original sales target of 20,000 cars a year.A Volkswagen logo is seen on one of the German automaker's cars in a street in Sydney, Australia, October 8, 2015. REUTERS/David Gray The next-generation Phaeton, due to hit showrooms by about 2019-2020, will only be offered as an electric vehicle, it said.ELECTRIC CARSAnalysts have warned Volkswagen’s problems could cast a shadow over the entire diesel vehicle industry.Although other carmakers do not appear to have used so-called defeat device software to cheat emissions tests, the scandal has highlighted differences between laboratory results and the on-road emissions of cars and vans often marketed to buyers as cleaner alternatives to using gasoline.Tighter rules are being introduced that could hit the competitiveness of diesel vehicles. That would be a particular blow for manufacturers in Europe, where around a half of new car sales are diesels versus a small fraction in the United States.Volkswagen said on Tuesday it would expand its so-called MQB modular platform -- the base for virtually all of the group’s small and medium front-wheel-drive family models -- to focus more strongly on long-range plug-in hybrids and electric vehicles with a range of up to 300 km (186 miles).The MQB platform uses a large number of common parts across its range of models and brands, allowing it to assemble vehicles more quickly and at lower costs.The company has said it wants to increase MQB-based vehicle output to 7 million cars by 2018 from about 2 million last year. Volkswagen sold 10.1 million vehicles in total last year.While MQB is capable of hosting all types of powertrains including diesel, gasoline and fully-electric vehicles, Volkswagen said on Tuesday it would also develop a new modular platform dubbed MEB for compact electric passenger cars and light commercial vehicles.The standardized system will serve as the basis for models with an all-electric range of 250-500 km, it said.At the Frankfurt auto show last month, Volkswagen said it would launch 20 battery-powered and plug-in hybrid vehicles by the end of the decade, including the first all-electric Porsche “Mission E” and Audi’s e-tron Quattro concept unveiled at the show.Even after Tuesday’s cuts, Volkswagen’s investment spending dwarfs that of most major rivals, making it potentially better placed to bounce back from any hit to the diesel market.Exane analysts estimate Volkswagen will spend 11.9 billion euros on development this year, 65 percent more than Fiat, Renault and Peugeot combined.($1 = 0.8795 euros)Writing by Mark Potter; Editing by Anna Willard and Susan ThomasOur Standards: The Thomson Reuters Trust Principles.</td>\n",
              "      <td>12960.0</td>\n",
              "      <td>144.92</td>\n",
              "      <td>10.029611</td>\n",
              "      <td>-39.174919</td>\n",
              "      <td>Volkswagen cut investment plan big division 1 billion euro $ 1.1 billion year step development electric vehicle say Tuesday battle cope fallout cheating diesel emission test german company say speed cost cutting VW division large revenue late good environmental technology diesel vehicle Europe large carmaker battle big business crisis 78-year history admit month instal software diesel vehicle deceive U.S. regulator true level toxic emission scandal wipe quarter market value force long time chief executive rock global car industry german economy Germany ZEW think tank say Tuesday economic sentiment index plummet low level year uncertainty surround auto industry employ 750,000 people country major source export income Economy Minister Sigmar Gabriel say think Volkswagen vowg_p de problem last damage Europe large economy analyst say strategy focused electric vehicle hybrid eventually help sow seed recovery Volkswagen “There real chance VW extract positive diesel fiasco say Stefan Bratzel head Center Automotive Management think tank near Cologne “funnele resource electric mobility give credible future perspective try overcome crisis ”But company mountain climb volkswagen source tell Reuters Friday namesake division probably slump loss year set shoulder bulk cost relate scandal related CoverageEPA decide new software 2016 VW diesel legalVW crisis emerge market hit german investor moraleThe company say refit 11 million diesel vehicle contain cheat software 5 million VW brand analyst say group ultimately face bill 35 billion euro refit vehicle regulatory fine lawsuit cost 1310 GMT Volkswagen share 3.5 percent 104.75 euro SAVING MONEYVolkswagen cut spending model technology production facility VW brand 1 billion euro year 2019 previous plan spokesman say decline investment plan November Volkswagen announce 85.6 billion euro investment group 2015 2019 half earmark modernize expand model range brand group include Audi Porsche Seat Skoda review spending commitment spokesman say give detail Volkswagen say year plan increase cost saving VW division profit margin lag rest group major rival Toyota 5 billion euro year 2017.on Tuesday division say speed cut stop make money lose Phaeton luxury saloon pet project chairman Ferdinand Piech meet original sale target 20,000 car year Volkswagen logo see german automaker car street Sydney Australia October 8 2015 REUTERS David Gray generation Phaeton hit showroom 2019 2020 offer electric vehicle say electric carsanalyst warn Volkswagen problem cast shadow entire diesel vehicle industry carmaker appear call defeat device software cheat emission test scandal highlight difference laboratory result road emission car van market buyer clean alternative gasoline tight rule introduce hit competitiveness diesel vehicle particular blow manufacturer Europe half new car sale diesel versus small fraction United States Volkswagen say Tuesday expand call MQB modular platform base virtually group small medium wheel drive family model focus strongly long range plug hybrid electric vehicle range 300 km 186 miles).The MQB platform use large number common part range model brand allow assemble vehicle quickly low cost company say want increase MQB base vehicle output 7 million car 2018 2 million year Volkswagen sell 10.1 million vehicle total year MQB capable host type powertrain include diesel gasoline fully electric vehicle Volkswagen say Tuesday develop new modular platform dub MEB compact electric passenger car light commercial vehicle standardized system serve basis model electric range 250 500 km say Frankfurt auto month Volkswagen say launch 20 battery power plug hybrid vehicle end decade include electric Porsche mission E Audi e tron Quattro concept unveil Tuesday cut Volkswagen investment spending dwarf major rival make potentially better place bounce hit diesel market exane analyst estimate Volkswagen spend 11.9 billion euro development year 65 percent Fiat Renault Peugeot combined.($1 = 0.8795 euros)writing Mark Potter editing Anna Willard Susan ThomasOur Standards Thomson Reuters Trust Principles</td>\n",
              "      <td>-0.9623</td>\n",
              "      <td>0.0</td>\n",
              "      <td>8.305153e-05</td>\n",
              "      <td>8.305153e-05</td>\n",
              "    </tr>\n",
              "    <tr>\n",
              "      <th>9</th>\n",
              "      <td>2015-10-21</td>\n",
              "      <td>Volkswagen CEO says emissions scandal bill could rise</td>\n",
              "      <td>- Volkswagen VOWG_p.DE may have to set aside more than the 6.5 billion euros ($7.4 billion) it has so far allocated to cover the costs of an emissions scandal if car sales suffer, its chief executive said on Wednesday.Volkswagen CEO Matthias Mueller (C) and Stephan Weil (L) Prime Minister of Lower Saxony and member of the VW Supervisory board look at the Golf 7 production line during a tour of the VW factory in Wolfsburg, Germany October 21, 2015. REUTERS/Julien Stratenschulte/Pool“The 6.5 billion (euros) applies to the recall,” Matthias Mueller told reporters after a tour of VW’s headquarters in the German town of Wolfsburg.“I can only speculate about any further provisions. Should there be a change in sales volumes, we would react rapidly.”Lower Saxony Premier Stefan Weil, a VW supervisory board member, said sales had been stable in October so far.Volkswagen also confirmed it had stopped the sale within the European Union of new cars containing the software that can cheat diesel emissions tests.VW admitted on Sept. 18 it used illegal software to manipulate emissions tests on diesel vehicles in the United States, sparking the biggest business crisis in its history.The admission has wiped about a quarter off its stock market value, forced out its long-time chief executive and sparked investigations and lawsuits across the world.Volkswagen has suspended Frank Tuch, head of group quality control, two people familiar with the matter told Reuters.Tuch is the fifth suspended worker whose name has become public. Volkswagen declined to comment and Tuch did not reply to repeated attempts by Reuters to contact him.Asked whether a small group of employees could have alone been responsible for the deception, Mueller said: “We are still deep in the middle of the clarification, including the question of the possible culprits and causes.”Mueller, who replaced former chief executive Martin Winterkorn a week after the scandal broke, said the investigations were “relatively extensive and complicated” and went back to 2005.Our Standards: The Thomson Reuters Trust Principles.</td>\n",
              "      <td>5250.0</td>\n",
              "      <td>136.98</td>\n",
              "      <td>-5.478885</td>\n",
              "      <td>-59.490741</td>\n",
              "      <td>Volkswagen VOWG_p DE set aside 6.5 billion euro $ 7.4 billion far allocate cover cost emission scandal car sale suffer chief executive say Wednesday Volkswagen CEO Matthias Mueller C Stephan Weil l Prime Minister Lower Saxony member VW Supervisory board look Golf 7 production line tour VW factory Wolfsburg Germany October 21 2015 REUTERS Julien Stratenschulte Pool“The 6.5 billion euros apply recall Matthias Mueller tell reporter tour VW headquarters german town Wolfsburg “I speculate provision change sale volume react rapidly ”Lower Saxony Premier Stefan Weil VW supervisory board member say sale stable October far Volkswagen confirm stop sale European Union new car contain software cheat diesel emission test VW admit September 18 illegal software manipulate emission test diesel vehicle United States spark big business crisis history admission wipe quarter stock market value force long time chief executive spark investigation lawsuit world Volkswagen suspend Frank Tuch head group quality control people familiar matter tell Reuters Tuch fifth suspend worker public Volkswagen decline comment Tuch reply repeat attempt Reuters contact ask small group employee responsible deception Mueller say deep middle clarification include question possible culprit cause ”Mueller replace chief executive Martin Winterkorn week scandal break say investigation relatively extensive complicated go 2005.our Standards Thomson Reuters Trust Principles</td>\n",
              "      <td>-0.9442</td>\n",
              "      <td>0.0</td>\n",
              "      <td>1.062638e-01</td>\n",
              "      <td>1.062638e-01</td>\n",
              "    </tr>\n",
              "    <tr>\n",
              "      <th>10</th>\n",
              "      <td>2015-10-22</td>\n",
              "      <td>Volkswagen to recall Brazil pickups in emissions cheating scandal</td>\n",
              "      <td>- Volkswagen AG VOWG_p.DE plans to recall 17,057 Amarok pickup trucks sold in Brazil to correct software allowing the vehicles to cheat on emissions tests, extending the reach of the biggest crisis in the carmaker's 78-year history.The recall affects Amaroks with 2.0-liter diesel engines built in Argentina during model year 2011 and part of 2012, Volkswagen said in an emailed statement to Reuters on Thursday. The company will begin notifying affected owners in the first quarter of 2016, when the software fix is ready.The Brazilian recall is small compared to an estimated 11 million vehicles worldwide that may contain the banned software allowing them to temporarily reduce toxic emissions during tests, according to Volkswagen.Brazil’s environmental agency, Ibama, said last month it was investigating whether Volkswagen had violated domestic emissions laws, which could bring a fine of up to 50 million reais ($13 million).The Amarok is Volkswagen’s only diesel option in Brazil’s passenger-vehicle market. The company said none of its other Brazilian models are affected by the recall or contain the same test-cheating software.Reporting by Jeb BlountOur Standards: The Thomson Reuters Trust Principles.</td>\n",
              "      <td>2858.0</td>\n",
              "      <td>137.09</td>\n",
              "      <td>0.080304</td>\n",
              "      <td>-45.561905</td>\n",
              "      <td>Volkswagen AG VOWG_p de plan recall 17,057 amarok pickup truck sell Brazil correct software allow vehicle cheat emission test extend reach big crisis carmaker 78-year history recall affect amarok 2.0-liter diesel engine build Argentina model year 2011 2012 Volkswagen say email statement Reuters Thursday company begin notify affected owner quarter 2016 software fix ready brazilian recall small compare estimate 11 million vehicle worldwide contain ban software allow temporarily reduce toxic emission test accord Volkswagen Brazil environmental agency Ibama say month investigate Volkswagen violate domestic emission law bring fine 50 million reai $ 13 million).The Amarok Volkswagen diesel option Brazil passenger vehicle market company say brazilian model affect recall contain test cheat software reporting Jeb BlountOur Standards Thomson Reuters Trust Principles</td>\n",
              "      <td>-0.8074</td>\n",
              "      <td>0.0</td>\n",
              "      <td>3.692689e-01</td>\n",
              "      <td>3.692689e-01</td>\n",
              "    </tr>\n",
              "    <tr>\n",
              "      <th>11</th>\n",
              "      <td>2015-10-28</td>\n",
              "      <td>VW dealers offer hefty discounts as diesel crisis keeps U.S. buyers away</td>\n",
              "      <td>- Many of Volkswagen AG's VOWG_p.DE U.S. dealers are offering hefty discounts of $6,000 and more on new 2015 and 2016 gasoline models as the German automaker began more aggressive efforts to rebuild sales in the wake of the diesel emissions cheating scandal, a Reuters analysis of dealer prices shows.The logo of German carmaker Volkswagen is seen at a VW dealership in the Queens borough of New York, September 21, 2015. Retail price discounts range up to $7,850 on the 2015 Passat, according to an online survey of VW dealers on Wednesday. Discounts of up to $7,290 are being offered on the 2015 Jetta and up to $5,625 on the 2016 Jetta. Battery electric models such as the e-Golf have discounts of up to $11,000, while gasoline-electric models such as the Jetta Hybrid have prices slashed by up to $6,000.Meanwhile, a potential deal between VW and U.S. and California regulators to fix nearly 500,000 diesel cars with illegal software could still be weeks away, according to two sources familiar with the discussions.The German automaker continues to work to get its 2016 diesel models approved for sale by the U.S. Environmental Protection Agency and the California Air Resources Board, one of the sources said.VW on Tuesday said it was “continuing to work with the agencies to provide a remedy” to resolve its diesel issues, but that it had “no announcements on timing.” CARB has given VW a Nov. 20 deadline to present solutions. EPA has not specified a deadline, but is working closely with CARB.Related CoverageVolkswagen's U.S. dealers prime the pumpOwners of diesel VW models are “sitting back and waiting to see how much they’ll be compensated” in the form of discounts and other incentives, said Dennis Gaudet, a New Hampshire dealer who attended VW’s annual U.S. dealer meeting last week in Orlando.VW has given U.S. dealers some money “to be able to take care of the customers who might be having the most difficult time,” said Gaudet.After the scandal broke in mid-September, VW ordered its U.S. dealers to stop sales of 2015 models with four-cylinder diesel engines. The 2016 diesels have not been certified for sale by the EPA.Previously, TDI versions of the Passat, Jetta, Golf and Beetle accounted for 20 percent or more of VW’s U.S. sales.The one TDI model left on most VW dealer lots - the big Touareg V6 crossover - now comes with some of the heaviest price cuts, with a Houston dealer offering $11,400 off the sticker price of 2016 models and nearly $15,000 off 2015 models.Reporting by Paul Lienert in Detroit and Alexandria Sage in San Francisco; Additional reporting by Rory Carroll in San Francisco; Editing by Chris ReeseOur Standards: The Thomson Reuters Trust Principles.</td>\n",
              "      <td>3451.0</td>\n",
              "      <td>137.34</td>\n",
              "      <td>0.182362</td>\n",
              "      <td>20.748775</td>\n",
              "      <td>Volkswagen AG VOWG_p DE U.S. dealer offer hefty discount $ 6,000 new 2015 2016 gasoline model german automaker begin aggressive effort rebuild sale wake diesel emission cheat scandal Reuters analysis dealer price show logo german carmaker Volkswagen see VW dealership Queens borough New York September 21 2015 retail price discount range $ 7,850 2015 Passat accord online survey VW dealer Wednesday discount $ 7,290 offer 2015 Jetta $ 5,625 2016 Jetta battery electric model e golf discount $ 11,000 gasoline electric model Jetta Hybrid price slash $ 6,000.meanwhile potential deal VW U.S. California regulator fix nearly 500,000 diesel car illegal software week away accord source familiar discussion german automaker continue work 2016 diesel model approve sale U.S. Environmental Protection Agency California Air Resources Board source say VW Tuesday say continue work agency provide remedy resolve diesel issue announcement timing CARB give VW November 20 deadline present solution EPA specify deadline work closely CARB.Related CoverageVolkswagen U.S. dealer prime pumpowner diesel VW model sit wait compensate form discount incentive say Dennis Gaudet New Hampshire dealer attend VW annual U.S. dealer meeting week Orlando VW give U.S. dealer money able care customer have difficult time say Gaudet scandal break mid September VW order U.S. dealer stop sale 2015 model cylinder diesel engine 2016 diesel certify sale epa.previously tdi version Passat Jetta Golf Beetle account 20 percent VW U.S. sale TDI model leave VW dealer lot big Touareg V6 crossover come heavy price cut Houston dealer offer $ 11,400 sticker price 2016 model nearly $ 15,000 2015 model report Paul Lienert Detroit Alexandria Sage San Francisco additional reporting Rory Carroll San Francisco editing Chris ReeseOur Standards Thomson Reuters Trust Principles</td>\n",
              "      <td>-0.8020</td>\n",
              "      <td>0.0</td>\n",
              "      <td>1.848415e-03</td>\n",
              "      <td>1.848415e-03</td>\n",
              "    </tr>\n",
              "    <tr>\n",
              "      <th>12</th>\n",
              "      <td>2015-11-04</td>\n",
              "      <td>Germany to retest VW cars as scandal pushes Berlin to act</td>\n",
              "      <td>- Germany is to retest all Volkswagen VOWG_p.DE car models to gauge their genuine emissions levels after new revelations from the carmaker six weeks into its biggest-ever corporate scandal pushed the government to act.Expressing his “irritation” with one of Germany’s biggest employers, Transport Minister Alexander Dobrindt said on Wednesday that all current models sold under the VW, Audi, Skoda and Seat brands - with both diesel and petrol engines - would be tested for carbon dioxide and nitrogen dioxide emissions.As the crisis deepened, VW said it had told U.S. and Canadian dealers to stop selling recent models equipped with its 3.0 V6 TDI diesel engine, while the Moody’s agency downgraded the firm’s credit rating.The German government’s announcement followed a VW statement on Tuesday that it had understated the level of carbon dioxide emissions in around 800,000 cars sold mainly in Europe, and consequently their fuel usage. This means affected vehicles are more expensive to drive than their buyers had been led to believe.The revelations added a new dimension to a crisis that had previously focused on how Europe’s biggest carmaker cheated in U.S. tests on diesel cars for emissions of nitrogen oxide, which cause smog.Previously the government had said it would review only nitrogen dioxide emissions from VW diesel cars.“We all have an interest that everything at VW is turned over and reviewed,” Dobrindt said, adding that the government wanted to force the company to pay the extra car taxes which would be incurred by the higher CO2 emissions levels.VW is Europe’s biggest motor manufacturer, employing over 750,000 people in Germany, and has been a symbol of the nation’s engineering prowess.However, Dobrindt said the firm had caused “irritation in my ministry and with me”, while Chancellor Angela Merkel’s spokesman said it had to take steps to prevent such a case happening again, adding: “VW has a duty to clear this up transparently and comprehensively.”Related CoverageVolkswagen to recall some gas-powered vehicles in U.S., CanadaThe admission about fuel consumption is the first that threatens to make a serious dent in VW’s sales since the scandal erupted as it could deter cost-conscious consumers, analysts said.Tuesday’s revelations, which led to Volkswagen adding 2 billion euros ($2.2 billion) to its expected costs from the scandal, are also the first time gasoline cars have been drawn into the crisis.VW said most of the 800,000 cars affected had diesel engines such as VW’s top-selling Golf, Audi’s A3 hatchback and the Skoda Octavia but two models were gasoline: the VW Polo and the Audi A1, both with 1.4 litre engines.Moody’s said it had downgraded Volkswagen’s credit rating to A3/P-2 with a negative outlook due to this revelation.“These new claims pose further challenges to Volkswagen’s financial flexibility and competitive position, and heighten Moody’s concerns about Volkswagen’s internal control and governance issues, thus further weakening its rating profile,” said Yasmina Serghini, Moody’s lead analyst for VW.Shares in Volkswagen closed down 9.5 percent, wiping more than another 3 billion euros ($3.3 billion) off its market value. It has lost almost a third of its value or 24 billion euros since the scandal broke.VW’s “stop-sale” order in the United States and Canada followed a notice by the U.S. Environmental Protection Agency that VW group brands had installed illegal devices on some 3.0 V6 diesel models.“BEYOND A JOKE”Logos of VW are pictured at a car shop in Bad Honnef near Bonn, Germany, November 4, 2015. REUTERS/Wolfgang RattayErnst-Robert Nouvertne, who runs two Volkswagen dealerships near Cologne with VW, Audi and Skoda models, said the situation was getting “beyond a joke”.“As bad as it is, the emissions issue alone would be manageable but this (CO2 admissions) is adding a new dimension to our troubles. I hope we will get through this at some point.“People have already started to rail against VW. If they start railing about our product we have a problem.”The scandal erupted on Sept. 18 when U.S. authorities exposed VW’s use of “defeat devices” to cheat tests for emissions of nitrogen oxide. VW admitted such software was installed in up to 11 million diesel vehicles worldwide.VW’s latest admission came after U.S. environmental regulators said the carmaker had failed to inform them that similar devices were installed on the larger 3.0 litre engines used in luxury sport utility vehicles from Porsche and Audi.VW has denied that but Mary Nichols, chair of the California Air Resources Board in Los Angeles, told Reuters that regulators repeatedly saw the engines cycle through tests with a relatively low amount of emissions, only to see an increase in pollution a couple of seconds later.“It’s almost impossible to explain something like that in any way other than something about the software that controls the operation,” Nichols said, noting that Volkswagen had tried to argue that the phenomenon was part of an effort to “warm up the system.”“In all honesty that explanation doesn’t make any sense,” she said.German lawyer Andreas Tilp, who filed legal action against VW last month on behalf of a private investor in the firm, said the CO2 admission gave the case “extra ammunition”.“With every widening of the scandal, the likelihood grows that a large number of people at VW had knowledge,” he said.Volkswagen’s U.S. boss has said the rigging of emissions tests was the result of actions by a small number of engineers.“Another week, another shock in the VW story,” Exane BNP Paribas analyst Stuart Pearson wrote in a note. “We add another 4 billion euros in recall costs and fear a harsher commercial impact,” said Pearson, who rates VW “neutral”.The effects of the scandal have so far barely been reflected in VW sales figures - although it was the only German carmaker to report a decline in car registrations in Germany in October.($1 = 0.9208 euros)Additional reporting by Georgina Prodhan, Jan Schwartz, Joern Poltz, Irene Preisinger, Gernot Heller and Paul Lienert; Writing by Pravin Char and Christian PlumbOur Standards: The Thomson Reuters Trust Principles.</td>\n",
              "      <td>6750.0</td>\n",
              "      <td>130.84</td>\n",
              "      <td>-4.732780</td>\n",
              "      <td>95.595480</td>\n",
              "      <td>Germany retest Volkswagen VOWG_p de car model gauge genuine emission level new revelation carmaker week big corporate scandal push government act express irritation Germany big employer Transport Minister Alexander Dobrindt say Wednesday current model sell VW Audi Skoda Seat brand diesel petrol engine test carbon dioxide nitrogen dioxide emission crisis deepen VW say tell U.S. canadian dealer stop sell recent model equip 3.0 V6 TDI diesel engine Moody agency downgrade firm credit rating german government announcement follow VW statement Tuesday understate level carbon dioxide emission 800,000 car sell mainly Europe consequently fuel usage mean affect vehicle expensive drive buyer lead believe revelation add new dimension crisis previously focus Europe big carmaker cheat U.S. test diesel car emission nitrogen oxide cause smog previously government say review nitrogen dioxide emission VW diesel car “We interest VW turn review Dobrindt say add government want force company pay extra car taxis incur high CO2 emission level VW Europe big motor manufacturer employ 750,000 people Germany symbol nation engineering prowess Dobrindt say firm cause irritation ministry Chancellor Angela Merkel spokesman say step prevent case happen add VW duty clear transparently comprehensively ”relate CoverageVolkswagen recall gas power vehicle U.S. CanadaThe admission fuel consumption threaten dent VW sale scandal erupt deter cost conscious consumer analyst say Tuesday revelation lead Volkswagen add 2 billion euro $ 2.2 billion expect cost scandal time gasoline car draw crisis VW say 800,000 car affect diesel engine VW sell golf Audi A3 hatchback Skoda Octavia model gasoline VW Polo Audi A1 1.4 litre engine Moody say downgrade Volkswagen credit rating A3 P-2 negative outlook revelation “these new claim pose challenge Volkswagen financial flexibility competitive position heighten Moody concern Volkswagen internal control governance issue weaken rating profile say Yasmina Serghini Moody lead analyst vw.share Volkswagen close 9.5 percent wipe 3 billion euro $ 3.3 billion market value lose value 24 billion euro scandal break VW stop sale order United States Canada follow notice U.S. Environmental Protection Agency VW group brand instal illegal device 3.0 V6 diesel model “beyond JOKE”Logos VW picture car shop Bad Honnef near Bonn Germany November 4 2015 REUTERS Wolfgang RattayErnst Robert Nouvertne run Volkswagen dealership near Cologne VW Audi Skoda model say situation get joke” “a bad emission issue manageable CO2 admission add new dimension trouble hope point “People start rail VW start rail product problem ”the scandal erupt September 18 U.S. authority expose VW use defeat device cheat test emission nitrogen oxide VW admit software instal 11 million diesel vehicle worldwide VW late admission come U.S. environmental regulator say carmaker fail inform similar device instal large 3.0 litre engine luxury sport utility vehicle Porsche Audi VW deny Mary Nichols chair California Air Resources Board Los Angeles tell Reuters regulator repeatedly see engine cycle test relatively low emission increase pollution couple second later “It impossible explain like way software control operation Nichols say note Volkswagen try argue phenomenon effort warm system ”“in honesty explanation sense say german lawyer Andreas Tilp file legal action VW month behalf private investor firm say CO2 admission give case extra ammunition” “with widening scandal likelihood grow large number people VW knowledge say Volkswagen U.S. boss say rigging emission test result action small number engineer “another week shock VW story Exane BNP Paribas analyst Stuart Pearson write note add 4 billion euro recall cost fear harsh commercial impact say Pearson rate VW neutral” effect scandal far barely reflect VW sale figure german carmaker report decline car registration Germany October.($1 = 0.9208 euros)additional reporting Georgina Prodhan Jan Schwartz Joern Poltz Irene Preisinger Gernot Heller Paul Lienert write Pravin Char Christian PlumbOur Standards Thomson Reuters Trust Principles</td>\n",
              "      <td>-0.9968</td>\n",
              "      <td>0.0</td>\n",
              "      <td>3.036335e-06</td>\n",
              "      <td>3.036335e-06</td>\n",
              "    </tr>\n",
              "  </tbody>\n",
              "</table>\n",
              "</div>"
            ],
            "text/plain": [
              "          Date  ... deep_learning_sentiment_prob\n",
              "0   2015-08-18  ...  1.092429e-01               \n",
              "1   2015-09-03  ...  3.238745e-01               \n",
              "2   2015-09-04  ...  1.707149e-01               \n",
              "3   2015-09-18  ...  1.140336e-02               \n",
              "4   2015-09-21  ...  2.023949e-05               \n",
              "5   2015-09-24  ...  5.902187e-10               \n",
              "6   2015-09-29  ...  8.385290e-04               \n",
              "7   2015-10-08  ...  2.107937e-07               \n",
              "8   2015-10-13  ...  8.305153e-05               \n",
              "9   2015-10-21  ...  1.062638e-01               \n",
              "10  2015-10-22  ...  3.692689e-01               \n",
              "11  2015-10-28  ...  1.848415e-03               \n",
              "12  2015-11-04  ...  3.036335e-06               \n",
              "\n",
              "[13 rows x 12 columns]"
            ]
          },
          "metadata": {
            "tags": []
          },
          "execution_count": 51
        }
      ]
    },
    {
      "cell_type": "markdown",
      "metadata": {
        "id": "E3k8RjgeC-yO"
      },
      "source": [
        "#END OF DEEP LEARNING"
      ]
    },
    {
      "cell_type": "markdown",
      "metadata": {
        "id": "mcKTx8lgCK59"
      },
      "source": [
        "# Summary"
      ]
    },
    {
      "cell_type": "code",
      "metadata": {
        "id": "hpjA5InZCK5-"
      },
      "source": [
        "\n",
        "df['Logistic Regression Sentiment'] = sentiment\n",
        "df['sentiment_prob'] = sentiment_prob\n"
      ],
      "execution_count": 52,
      "outputs": []
    },
    {
      "cell_type": "code",
      "metadata": {
        "id": "C1UYyjQKCK5-",
        "colab": {
          "base_uri": "https://localhost:8080/"
        },
        "outputId": "62d527bc-b891-4d14-b9e9-21ba6ea1bee7"
      },
      "source": [
        "# Converting % stock price change to % stock price change per day\n",
        "days = [0]\n",
        "for i in range(len(df['Date'])):\n",
        "    if i != 0:\n",
        "        date_diff = df['Date'][i]-df['Date'][i-1]\n",
        "        day = date_diff.days\n",
        "        days.append(day)\n",
        "print(days)\n",
        "df['Days Elapsed'] = days\n",
        "df.head()\n",
        "df['% Change in Stock Price Per Day'] = df['% Change in Stock Price']/df['Days Elapsed']\n"
      ],
      "execution_count": 53,
      "outputs": [
        {
          "output_type": "stream",
          "text": [
            "[0, 16, 1, 14, 3, 3, 5, 9, 5, 8, 1, 6, 7]\n"
          ],
          "name": "stdout"
        }
      ]
    },
    {
      "cell_type": "code",
      "metadata": {
        "id": "ziijK_nFCK5-"
      },
      "source": [
        "df['Vader Sentiment'] = df['Vader Sentiment Score'].apply(lambda x: \"positive\" if x>0 else \"negative\")\n",
        "df['Logistic Regression Sentiment'] = df['sentiment_prob'].apply(lambda x: \"positive\" if x>0.5 else \"negative\")\n",
        "df['Stock Price Change'] = df['% Change in Stock Price Per Day'].apply(lambda x: \"positive\" if x>0 else \"negative\")\n",
        "df['deep_learning_sentiment_prob'] = df['deep_learning_sentiment_prob'].apply(lambda x: \"positive\" if x>0.5 else \"negative\")\n"
      ],
      "execution_count": 54,
      "outputs": []
    },
    {
      "cell_type": "code",
      "metadata": {
        "colab": {
          "base_uri": "https://localhost:8080/",
          "height": 203
        },
        "id": "4XKQtrUfzdwe",
        "outputId": "a09b1115-666b-45f7-d9d2-981d0831218e"
      },
      "source": [
        "columns = ['Date','Header','Stock Price Change', 'Vader Sentiment', 'Logistic Regression Sentiment','deep_learning_sentiment_prob']\n",
        "df_summary = df[columns]\n",
        "df_summary.head()"
      ],
      "execution_count": 55,
      "outputs": [
        {
          "output_type": "execute_result",
          "data": {
            "text/html": [
              "<div>\n",
              "<style scoped>\n",
              "    .dataframe tbody tr th:only-of-type {\n",
              "        vertical-align: middle;\n",
              "    }\n",
              "\n",
              "    .dataframe tbody tr th {\n",
              "        vertical-align: top;\n",
              "    }\n",
              "\n",
              "    .dataframe thead th {\n",
              "        text-align: right;\n",
              "    }\n",
              "</style>\n",
              "<table border=\"1\" class=\"dataframe\">\n",
              "  <thead>\n",
              "    <tr style=\"text-align: right;\">\n",
              "      <th></th>\n",
              "      <th>Date</th>\n",
              "      <th>Header</th>\n",
              "      <th>Stock Price Change</th>\n",
              "      <th>Vader Sentiment</th>\n",
              "      <th>Logistic Regression Sentiment</th>\n",
              "      <th>deep_learning_sentiment_prob</th>\n",
              "    </tr>\n",
              "  </thead>\n",
              "  <tbody>\n",
              "    <tr>\n",
              "      <th>0</th>\n",
              "      <td>2015-08-18</td>\n",
              "      <td>Global automakers divert shipments from China's Tianjin port after blasts</td>\n",
              "      <td>negative</td>\n",
              "      <td>negative</td>\n",
              "      <td>negative</td>\n",
              "      <td>negative</td>\n",
              "    </tr>\n",
              "    <tr>\n",
              "      <th>1</th>\n",
              "      <td>2015-09-03</td>\n",
              "      <td>VW's finance chief set to become new chairman</td>\n",
              "      <td>negative</td>\n",
              "      <td>positive</td>\n",
              "      <td>negative</td>\n",
              "      <td>negative</td>\n",
              "    </tr>\n",
              "    <tr>\n",
              "      <th>2</th>\n",
              "      <td>2015-09-04</td>\n",
              "      <td>Toyota partners with Stanford, MIT on self-driving car research</td>\n",
              "      <td>negative</td>\n",
              "      <td>positive</td>\n",
              "      <td>negative</td>\n",
              "      <td>negative</td>\n",
              "    </tr>\n",
              "    <tr>\n",
              "      <th>3</th>\n",
              "      <td>2015-09-18</td>\n",
              "      <td>Volkswagen could face $18 billion penalties from EPA</td>\n",
              "      <td>positive</td>\n",
              "      <td>positive</td>\n",
              "      <td>negative</td>\n",
              "      <td>negative</td>\n",
              "    </tr>\n",
              "    <tr>\n",
              "      <th>4</th>\n",
              "      <td>2015-09-21</td>\n",
              "      <td>Volkswagen's 'clean diesel' strategy unraveled by outside emissions tests</td>\n",
              "      <td>negative</td>\n",
              "      <td>positive</td>\n",
              "      <td>negative</td>\n",
              "      <td>negative</td>\n",
              "    </tr>\n",
              "  </tbody>\n",
              "</table>\n",
              "</div>"
            ],
            "text/plain": [
              "         Date  ... deep_learning_sentiment_prob\n",
              "0  2015-08-18  ...  negative                   \n",
              "1  2015-09-03  ...  negative                   \n",
              "2  2015-09-04  ...  negative                   \n",
              "3  2015-09-18  ...  negative                   \n",
              "4  2015-09-21  ...  negative                   \n",
              "\n",
              "[5 rows x 6 columns]"
            ]
          },
          "metadata": {
            "tags": []
          },
          "execution_count": 55
        }
      ]
    },
    {
      "cell_type": "code",
      "metadata": {
        "id": "yS65YrMYzdwf"
      },
      "source": [
        ""
      ],
      "execution_count": null,
      "outputs": []
    }
  ]
}